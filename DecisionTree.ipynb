{
 "cells": [
  {
   "cell_type": "code",
   "execution_count": 21,
   "metadata": {},
   "outputs": [
    {
     "name": "stdout",
     "output_type": "stream",
     "text": [
      "Index(['date_calc', 'date_forecast', 'absolute_humidity_2m:gm3',\n",
      "       'air_density_2m:kgm3', 'ceiling_height_agl:m', 'clear_sky_energy_1h:J',\n",
      "       'clear_sky_rad:W', 'cloud_base_agl:m', 'dew_or_rime:idx',\n",
      "       'dew_point_2m:K', 'diffuse_rad:W', 'diffuse_rad_1h:J', 'direct_rad:W',\n",
      "       'direct_rad_1h:J', 'effective_cloud_cover:p', 'elevation:m',\n",
      "       'fresh_snow_12h:cm', 'fresh_snow_1h:cm', 'fresh_snow_24h:cm',\n",
      "       'fresh_snow_3h:cm', 'fresh_snow_6h:cm', 'is_day:idx',\n",
      "       'is_in_shadow:idx', 'msl_pressure:hPa', 'precip_5min:mm',\n",
      "       'precip_type_5min:idx', 'pressure_100m:hPa', 'pressure_50m:hPa',\n",
      "       'prob_rime:p', 'rain_water:kgm2', 'relative_humidity_1000hPa:p',\n",
      "       'sfc_pressure:hPa', 'snow_density:kgm3', 'snow_depth:cm',\n",
      "       'snow_drift:idx', 'snow_melt_10min:mm', 'snow_water:kgm2',\n",
      "       'sun_azimuth:d', 'sun_elevation:d', 'super_cooled_liquid_water:kgm2',\n",
      "       't_1000hPa:K', 'total_cloud_cover:p', 'visibility:m',\n",
      "       'wind_speed_10m:ms', 'wind_speed_u_10m:ms', 'wind_speed_v_10m:ms',\n",
      "       'wind_speed_w_1000hPa:ms'],\n",
      "      dtype='object')\n"
     ]
    }
   ],
   "source": [
    "import pandas as pd\n",
    "from sklearn.tree import DecisionTreeRegressor\n",
    "\n",
    "X_train_estimated_a = pd.read_parquet('data/A/X_train_estimated.parquet')\n",
    "X_train_observed_a = pd.read_parquet('data/A/X_train_observed.parquet')\n",
    "Y_a = pd.read_parquet('data/A/train_targets.parquet')\n",
    "X_test_a = pd.read_parquet('data/A/X_test_estimated.parquet')\n",
    "\n",
    "print(X_train_estimated_a.columns)"
   ]
  },
  {
   "cell_type": "markdown",
   "metadata": {},
   "source": [
    "#### Making combined dataframes"
   ]
  },
  {
   "cell_type": "code",
   "execution_count": 22,
   "metadata": {},
   "outputs": [],
   "source": [
    "X_train_observed_a[\"date_calc\"] = X_train_observed_a[\"date_forecast\"]\n",
    "X_train_all_a = pd.concat([X_train_observed_a, X_train_estimated_a], ignore_index=True)"
   ]
  },
  {
   "cell_type": "code",
   "execution_count": 23,
   "metadata": {},
   "outputs": [],
   "source": [
    "#Remove all non hourly values\n",
    "X_train_all_a.set_index('date_forecast', inplace=True)\n",
    "mask = X_train_all_a.index.minute == 0\n",
    "X_train_all_a = X_train_all_a[mask]"
   ]
  },
  {
   "cell_type": "code",
   "execution_count": 24,
   "metadata": {},
   "outputs": [],
   "source": [
    "#Set the index as the date forecast for Y aswell\n",
    "Y_a.set_index('time', inplace=True)"
   ]
  },
  {
   "cell_type": "code",
   "execution_count": 25,
   "metadata": {},
   "outputs": [
    {
     "data": {
      "text/html": [
       "<div>\n",
       "<style scoped>\n",
       "    .dataframe tbody tr th:only-of-type {\n",
       "        vertical-align: middle;\n",
       "    }\n",
       "\n",
       "    .dataframe tbody tr th {\n",
       "        vertical-align: top;\n",
       "    }\n",
       "\n",
       "    .dataframe thead th {\n",
       "        text-align: right;\n",
       "    }\n",
       "</style>\n",
       "<table border=\"1\" class=\"dataframe\">\n",
       "  <thead>\n",
       "    <tr style=\"text-align: right;\">\n",
       "      <th></th>\n",
       "      <th>pv_measurement</th>\n",
       "    </tr>\n",
       "    <tr>\n",
       "      <th>time</th>\n",
       "      <th></th>\n",
       "    </tr>\n",
       "  </thead>\n",
       "  <tbody>\n",
       "    <tr>\n",
       "      <th>2019-06-02 22:00:00</th>\n",
       "      <td>0.00</td>\n",
       "    </tr>\n",
       "    <tr>\n",
       "      <th>2019-06-02 23:00:00</th>\n",
       "      <td>0.00</td>\n",
       "    </tr>\n",
       "    <tr>\n",
       "      <th>2019-06-03 00:00:00</th>\n",
       "      <td>0.00</td>\n",
       "    </tr>\n",
       "    <tr>\n",
       "      <th>2019-06-03 01:00:00</th>\n",
       "      <td>0.00</td>\n",
       "    </tr>\n",
       "    <tr>\n",
       "      <th>2019-06-03 02:00:00</th>\n",
       "      <td>19.36</td>\n",
       "    </tr>\n",
       "  </tbody>\n",
       "</table>\n",
       "</div>"
      ],
      "text/plain": [
       "                     pv_measurement\n",
       "time                               \n",
       "2019-06-02 22:00:00            0.00\n",
       "2019-06-02 23:00:00            0.00\n",
       "2019-06-03 00:00:00            0.00\n",
       "2019-06-03 01:00:00            0.00\n",
       "2019-06-03 02:00:00           19.36"
      ]
     },
     "execution_count": 25,
     "metadata": {},
     "output_type": "execute_result"
    }
   ],
   "source": [
    "Y_a.head()"
   ]
  },
  {
   "cell_type": "code",
   "execution_count": 26,
   "metadata": {},
   "outputs": [
    {
     "name": "stdout",
     "output_type": "stream",
     "text": [
      "<class 'pandas.core.frame.DataFrame'>\n",
      "DatetimeIndex: 34086 entries, 2019-06-02 22:00:00 to 2023-04-30 23:00:00\n",
      "Data columns (total 47 columns):\n",
      " #   Column                          Non-Null Count  Dtype         \n",
      "---  ------                          --------------  -----         \n",
      " 0   absolute_humidity_2m:gm3        34062 non-null  float32       \n",
      " 1   air_density_2m:kgm3             34062 non-null  float32       \n",
      " 2   ceiling_height_agl:m            26284 non-null  float32       \n",
      " 3   clear_sky_energy_1h:J           34062 non-null  float32       \n",
      " 4   clear_sky_rad:W                 34062 non-null  float32       \n",
      " 5   cloud_base_agl:m                30998 non-null  float32       \n",
      " 6   dew_or_rime:idx                 34062 non-null  float32       \n",
      " 7   dew_point_2m:K                  34062 non-null  float32       \n",
      " 8   diffuse_rad:W                   34062 non-null  float32       \n",
      " 9   diffuse_rad_1h:J                34062 non-null  float32       \n",
      " 10  direct_rad:W                    34062 non-null  float32       \n",
      " 11  direct_rad_1h:J                 34062 non-null  float32       \n",
      " 12  effective_cloud_cover:p         34062 non-null  float32       \n",
      " 13  elevation:m                     34062 non-null  float32       \n",
      " 14  fresh_snow_12h:cm               34062 non-null  float32       \n",
      " 15  fresh_snow_1h:cm                34062 non-null  float32       \n",
      " 16  fresh_snow_24h:cm               34062 non-null  float32       \n",
      " 17  fresh_snow_3h:cm                34062 non-null  float32       \n",
      " 18  fresh_snow_6h:cm                34062 non-null  float32       \n",
      " 19  is_day:idx                      34062 non-null  float32       \n",
      " 20  is_in_shadow:idx                34062 non-null  float32       \n",
      " 21  msl_pressure:hPa                34062 non-null  float32       \n",
      " 22  precip_5min:mm                  34062 non-null  float32       \n",
      " 23  precip_type_5min:idx            34062 non-null  float32       \n",
      " 24  pressure_100m:hPa               34062 non-null  float32       \n",
      " 25  pressure_50m:hPa                34062 non-null  float32       \n",
      " 26  prob_rime:p                     34062 non-null  float32       \n",
      " 27  rain_water:kgm2                 34062 non-null  float32       \n",
      " 28  relative_humidity_1000hPa:p     34062 non-null  float32       \n",
      " 29  sfc_pressure:hPa                34062 non-null  float32       \n",
      " 30  snow_density:kgm3               1135 non-null   float32       \n",
      " 31  snow_depth:cm                   34062 non-null  float32       \n",
      " 32  snow_drift:idx                  34062 non-null  float32       \n",
      " 33  snow_melt_10min:mm              34062 non-null  float32       \n",
      " 34  snow_water:kgm2                 34062 non-null  float32       \n",
      " 35  sun_azimuth:d                   34062 non-null  float32       \n",
      " 36  sun_elevation:d                 34062 non-null  float32       \n",
      " 37  super_cooled_liquid_water:kgm2  34062 non-null  float32       \n",
      " 38  t_1000hPa:K                     34062 non-null  float32       \n",
      " 39  total_cloud_cover:p             34062 non-null  float32       \n",
      " 40  visibility:m                    34062 non-null  float32       \n",
      " 41  wind_speed_10m:ms               34062 non-null  float32       \n",
      " 42  wind_speed_u_10m:ms             34062 non-null  float32       \n",
      " 43  wind_speed_v_10m:ms             34062 non-null  float32       \n",
      " 44  wind_speed_w_1000hPa:ms         34062 non-null  float32       \n",
      " 45  date_calc                       34062 non-null  datetime64[ns]\n",
      " 46  pv_measurement                  34085 non-null  float64       \n",
      "dtypes: datetime64[ns](1), float32(45), float64(1)\n",
      "memory usage: 6.6 MB\n",
      "None\n"
     ]
    }
   ],
   "source": [
    "data = pd.concat([X_train_all_a, Y_a], axis=1)\n",
    "#data = data.drop('time', axis=1)\n",
    "print(data.info())"
   ]
  },
  {
   "cell_type": "markdown",
   "metadata": {},
   "source": [
    "#### Removing missing values"
   ]
  },
  {
   "cell_type": "code",
   "execution_count": 27,
   "metadata": {},
   "outputs": [],
   "source": [
    "data = data.dropna(axis=0)"
   ]
  },
  {
   "cell_type": "code",
   "execution_count": 28,
   "metadata": {},
   "outputs": [
    {
     "data": {
      "text/plain": [
       "absolute_humidity_2m:gm3          0\n",
       "air_density_2m:kgm3               0\n",
       "ceiling_height_agl:m              0\n",
       "clear_sky_energy_1h:J             0\n",
       "clear_sky_rad:W                   0\n",
       "cloud_base_agl:m                  0\n",
       "dew_or_rime:idx                   0\n",
       "dew_point_2m:K                    0\n",
       "diffuse_rad:W                     0\n",
       "diffuse_rad_1h:J                  0\n",
       "direct_rad:W                      0\n",
       "direct_rad_1h:J                   0\n",
       "effective_cloud_cover:p           0\n",
       "elevation:m                       0\n",
       "fresh_snow_12h:cm                 0\n",
       "fresh_snow_1h:cm                  0\n",
       "fresh_snow_24h:cm                 0\n",
       "fresh_snow_3h:cm                  0\n",
       "fresh_snow_6h:cm                  0\n",
       "is_day:idx                        0\n",
       "is_in_shadow:idx                  0\n",
       "msl_pressure:hPa                  0\n",
       "precip_5min:mm                    0\n",
       "precip_type_5min:idx              0\n",
       "pressure_100m:hPa                 0\n",
       "pressure_50m:hPa                  0\n",
       "prob_rime:p                       0\n",
       "rain_water:kgm2                   0\n",
       "relative_humidity_1000hPa:p       0\n",
       "sfc_pressure:hPa                  0\n",
       "snow_density:kgm3                 0\n",
       "snow_depth:cm                     0\n",
       "snow_drift:idx                    0\n",
       "snow_melt_10min:mm                0\n",
       "snow_water:kgm2                   0\n",
       "sun_azimuth:d                     0\n",
       "sun_elevation:d                   0\n",
       "super_cooled_liquid_water:kgm2    0\n",
       "t_1000hPa:K                       0\n",
       "total_cloud_cover:p               0\n",
       "visibility:m                      0\n",
       "wind_speed_10m:ms                 0\n",
       "wind_speed_u_10m:ms               0\n",
       "wind_speed_v_10m:ms               0\n",
       "wind_speed_w_1000hPa:ms           0\n",
       "date_calc                         0\n",
       "pv_measurement                    0\n",
       "dtype: int64"
      ]
     },
     "execution_count": 28,
     "metadata": {},
     "output_type": "execute_result"
    }
   ],
   "source": [
    "data.isnull().sum()"
   ]
  },
  {
   "cell_type": "code",
   "execution_count": 29,
   "metadata": {},
   "outputs": [
    {
     "name": "stdout",
     "output_type": "stream",
     "text": [
      "<class 'pandas.core.frame.DataFrame'>\n",
      "DatetimeIndex: 828 entries, 2019-12-01 10:00:00 to 2023-03-17 23:00:00\n",
      "Data columns (total 47 columns):\n",
      " #   Column                          Non-Null Count  Dtype         \n",
      "---  ------                          --------------  -----         \n",
      " 0   absolute_humidity_2m:gm3        828 non-null    float32       \n",
      " 1   air_density_2m:kgm3             828 non-null    float32       \n",
      " 2   ceiling_height_agl:m            828 non-null    float32       \n",
      " 3   clear_sky_energy_1h:J           828 non-null    float32       \n",
      " 4   clear_sky_rad:W                 828 non-null    float32       \n",
      " 5   cloud_base_agl:m                828 non-null    float32       \n",
      " 6   dew_or_rime:idx                 828 non-null    float32       \n",
      " 7   dew_point_2m:K                  828 non-null    float32       \n",
      " 8   diffuse_rad:W                   828 non-null    float32       \n",
      " 9   diffuse_rad_1h:J                828 non-null    float32       \n",
      " 10  direct_rad:W                    828 non-null    float32       \n",
      " 11  direct_rad_1h:J                 828 non-null    float32       \n",
      " 12  effective_cloud_cover:p         828 non-null    float32       \n",
      " 13  elevation:m                     828 non-null    float32       \n",
      " 14  fresh_snow_12h:cm               828 non-null    float32       \n",
      " 15  fresh_snow_1h:cm                828 non-null    float32       \n",
      " 16  fresh_snow_24h:cm               828 non-null    float32       \n",
      " 17  fresh_snow_3h:cm                828 non-null    float32       \n",
      " 18  fresh_snow_6h:cm                828 non-null    float32       \n",
      " 19  is_day:idx                      828 non-null    float32       \n",
      " 20  is_in_shadow:idx                828 non-null    float32       \n",
      " 21  msl_pressure:hPa                828 non-null    float32       \n",
      " 22  precip_5min:mm                  828 non-null    float32       \n",
      " 23  precip_type_5min:idx            828 non-null    float32       \n",
      " 24  pressure_100m:hPa               828 non-null    float32       \n",
      " 25  pressure_50m:hPa                828 non-null    float32       \n",
      " 26  prob_rime:p                     828 non-null    float32       \n",
      " 27  rain_water:kgm2                 828 non-null    float32       \n",
      " 28  relative_humidity_1000hPa:p     828 non-null    float32       \n",
      " 29  sfc_pressure:hPa                828 non-null    float32       \n",
      " 30  snow_density:kgm3               828 non-null    float32       \n",
      " 31  snow_depth:cm                   828 non-null    float32       \n",
      " 32  snow_drift:idx                  828 non-null    float32       \n",
      " 33  snow_melt_10min:mm              828 non-null    float32       \n",
      " 34  snow_water:kgm2                 828 non-null    float32       \n",
      " 35  sun_azimuth:d                   828 non-null    float32       \n",
      " 36  sun_elevation:d                 828 non-null    float32       \n",
      " 37  super_cooled_liquid_water:kgm2  828 non-null    float32       \n",
      " 38  t_1000hPa:K                     828 non-null    float32       \n",
      " 39  total_cloud_cover:p             828 non-null    float32       \n",
      " 40  visibility:m                    828 non-null    float32       \n",
      " 41  wind_speed_10m:ms               828 non-null    float32       \n",
      " 42  wind_speed_u_10m:ms             828 non-null    float32       \n",
      " 43  wind_speed_v_10m:ms             828 non-null    float32       \n",
      " 44  wind_speed_w_1000hPa:ms         828 non-null    float32       \n",
      " 45  date_calc                       828 non-null    datetime64[ns]\n",
      " 46  pv_measurement                  828 non-null    float64       \n",
      "dtypes: datetime64[ns](1), float32(45), float64(1)\n",
      "memory usage: 165.0 KB\n"
     ]
    }
   ],
   "source": [
    "data.info()"
   ]
  },
  {
   "cell_type": "markdown",
   "metadata": {},
   "source": [
    "#### Making the Model "
   ]
  },
  {
   "cell_type": "code",
   "execution_count": 30,
   "metadata": {},
   "outputs": [
    {
     "ename": "ValueError",
     "evalue": "The feature names should match those that were passed during fit.\nFeature names unseen at fit time:\n- date_forecast\n",
     "output_type": "error",
     "traceback": [
      "\u001b[1;31m---------------------------------------------------------------------------\u001b[0m",
      "\u001b[1;31mValueError\u001b[0m                                Traceback (most recent call last)",
      "\u001b[1;32mc:\\Users\\andre\\OneDrive - NTNU\\Machine Learning\\TDT4173-Machine-Learning-Project-Task\\DecisionTree.ipynb Cell 13\u001b[0m line \u001b[0;36m6\n\u001b[0;32m      <a href='vscode-notebook-cell:/c%3A/Users/andre/OneDrive%20-%20NTNU/Machine%20Learning/TDT4173-Machine-Learning-Project-Task/DecisionTree.ipynb#X15sZmlsZQ%3D%3D?line=3'>4</a>\u001b[0m model \u001b[39m=\u001b[39m DecisionTreeRegressor(random_state\u001b[39m=\u001b[39m\u001b[39m1\u001b[39m)\n\u001b[0;32m      <a href='vscode-notebook-cell:/c%3A/Users/andre/OneDrive%20-%20NTNU/Machine%20Learning/TDT4173-Machine-Learning-Project-Task/DecisionTree.ipynb#X15sZmlsZQ%3D%3D?line=4'>5</a>\u001b[0m model\u001b[39m.\u001b[39mfit(X, y)\n\u001b[1;32m----> <a href='vscode-notebook-cell:/c%3A/Users/andre/OneDrive%20-%20NTNU/Machine%20Learning/TDT4173-Machine-Learning-Project-Task/DecisionTree.ipynb#X15sZmlsZQ%3D%3D?line=5'>6</a>\u001b[0m model\u001b[39m.\u001b[39;49mpredict(X_test_a\u001b[39m.\u001b[39;49mdrop([\u001b[39m'\u001b[39;49m\u001b[39mdate_calc\u001b[39;49m\u001b[39m'\u001b[39;49m], axis\u001b[39m=\u001b[39;49m\u001b[39m1\u001b[39;49m))\n",
      "File \u001b[1;32mc:\\ProgramData\\miniconda3\\envs\\tdt4173\\lib\\site-packages\\sklearn\\tree\\_classes.py:500\u001b[0m, in \u001b[0;36mBaseDecisionTree.predict\u001b[1;34m(self, X, check_input)\u001b[0m\n\u001b[0;32m    477\u001b[0m \u001b[39m\u001b[39m\u001b[39m\"\"\"Predict class or regression value for X.\u001b[39;00m\n\u001b[0;32m    478\u001b[0m \n\u001b[0;32m    479\u001b[0m \u001b[39mFor a classification model, the predicted class for each sample in X is\u001b[39;00m\n\u001b[1;32m   (...)\u001b[0m\n\u001b[0;32m    497\u001b[0m \u001b[39m    The predicted classes, or the predict values.\u001b[39;00m\n\u001b[0;32m    498\u001b[0m \u001b[39m\"\"\"\u001b[39;00m\n\u001b[0;32m    499\u001b[0m check_is_fitted(\u001b[39mself\u001b[39m)\n\u001b[1;32m--> 500\u001b[0m X \u001b[39m=\u001b[39m \u001b[39mself\u001b[39;49m\u001b[39m.\u001b[39;49m_validate_X_predict(X, check_input)\n\u001b[0;32m    501\u001b[0m proba \u001b[39m=\u001b[39m \u001b[39mself\u001b[39m\u001b[39m.\u001b[39mtree_\u001b[39m.\u001b[39mpredict(X)\n\u001b[0;32m    502\u001b[0m n_samples \u001b[39m=\u001b[39m X\u001b[39m.\u001b[39mshape[\u001b[39m0\u001b[39m]\n",
      "File \u001b[1;32mc:\\ProgramData\\miniconda3\\envs\\tdt4173\\lib\\site-packages\\sklearn\\tree\\_classes.py:460\u001b[0m, in \u001b[0;36mBaseDecisionTree._validate_X_predict\u001b[1;34m(self, X, check_input)\u001b[0m\n\u001b[0;32m    458\u001b[0m \u001b[39melse\u001b[39;00m:\n\u001b[0;32m    459\u001b[0m     force_all_finite \u001b[39m=\u001b[39m \u001b[39mTrue\u001b[39;00m\n\u001b[1;32m--> 460\u001b[0m X \u001b[39m=\u001b[39m \u001b[39mself\u001b[39;49m\u001b[39m.\u001b[39;49m_validate_data(\n\u001b[0;32m    461\u001b[0m     X,\n\u001b[0;32m    462\u001b[0m     dtype\u001b[39m=\u001b[39;49mDTYPE,\n\u001b[0;32m    463\u001b[0m     accept_sparse\u001b[39m=\u001b[39;49m\u001b[39m\"\u001b[39;49m\u001b[39mcsr\u001b[39;49m\u001b[39m\"\u001b[39;49m,\n\u001b[0;32m    464\u001b[0m     reset\u001b[39m=\u001b[39;49m\u001b[39mFalse\u001b[39;49;00m,\n\u001b[0;32m    465\u001b[0m     force_all_finite\u001b[39m=\u001b[39;49mforce_all_finite,\n\u001b[0;32m    466\u001b[0m )\n\u001b[0;32m    467\u001b[0m \u001b[39mif\u001b[39;00m issparse(X) \u001b[39mand\u001b[39;00m (\n\u001b[0;32m    468\u001b[0m     X\u001b[39m.\u001b[39mindices\u001b[39m.\u001b[39mdtype \u001b[39m!=\u001b[39m np\u001b[39m.\u001b[39mintc \u001b[39mor\u001b[39;00m X\u001b[39m.\u001b[39mindptr\u001b[39m.\u001b[39mdtype \u001b[39m!=\u001b[39m np\u001b[39m.\u001b[39mintc\n\u001b[0;32m    469\u001b[0m ):\n\u001b[0;32m    470\u001b[0m     \u001b[39mraise\u001b[39;00m \u001b[39mValueError\u001b[39;00m(\u001b[39m\"\u001b[39m\u001b[39mNo support for np.int64 index based sparse matrices\u001b[39m\u001b[39m\"\u001b[39m)\n",
      "File \u001b[1;32mc:\\ProgramData\\miniconda3\\envs\\tdt4173\\lib\\site-packages\\sklearn\\base.py:579\u001b[0m, in \u001b[0;36mBaseEstimator._validate_data\u001b[1;34m(self, X, y, reset, validate_separately, cast_to_ndarray, **check_params)\u001b[0m\n\u001b[0;32m    508\u001b[0m \u001b[39mdef\u001b[39;00m \u001b[39m_validate_data\u001b[39m(\n\u001b[0;32m    509\u001b[0m     \u001b[39mself\u001b[39m,\n\u001b[0;32m    510\u001b[0m     X\u001b[39m=\u001b[39m\u001b[39m\"\u001b[39m\u001b[39mno_validation\u001b[39m\u001b[39m\"\u001b[39m,\n\u001b[1;32m   (...)\u001b[0m\n\u001b[0;32m    515\u001b[0m     \u001b[39m*\u001b[39m\u001b[39m*\u001b[39mcheck_params,\n\u001b[0;32m    516\u001b[0m ):\n\u001b[0;32m    517\u001b[0m \u001b[39m    \u001b[39m\u001b[39m\"\"\"Validate input data and set or check the `n_features_in_` attribute.\u001b[39;00m\n\u001b[0;32m    518\u001b[0m \n\u001b[0;32m    519\u001b[0m \u001b[39m    Parameters\u001b[39;00m\n\u001b[1;32m   (...)\u001b[0m\n\u001b[0;32m    577\u001b[0m \u001b[39m        validated.\u001b[39;00m\n\u001b[0;32m    578\u001b[0m \u001b[39m    \"\"\"\u001b[39;00m\n\u001b[1;32m--> 579\u001b[0m     \u001b[39mself\u001b[39;49m\u001b[39m.\u001b[39;49m_check_feature_names(X, reset\u001b[39m=\u001b[39;49mreset)\n\u001b[0;32m    581\u001b[0m     \u001b[39mif\u001b[39;00m y \u001b[39mis\u001b[39;00m \u001b[39mNone\u001b[39;00m \u001b[39mand\u001b[39;00m \u001b[39mself\u001b[39m\u001b[39m.\u001b[39m_get_tags()[\u001b[39m\"\u001b[39m\u001b[39mrequires_y\u001b[39m\u001b[39m\"\u001b[39m]:\n\u001b[0;32m    582\u001b[0m         \u001b[39mraise\u001b[39;00m \u001b[39mValueError\u001b[39;00m(\n\u001b[0;32m    583\u001b[0m             \u001b[39mf\u001b[39m\u001b[39m\"\u001b[39m\u001b[39mThis \u001b[39m\u001b[39m{\u001b[39;00m\u001b[39mself\u001b[39m\u001b[39m.\u001b[39m\u001b[39m__class__\u001b[39m\u001b[39m.\u001b[39m\u001b[39m__name__\u001b[39m\u001b[39m}\u001b[39;00m\u001b[39m estimator \u001b[39m\u001b[39m\"\u001b[39m\n\u001b[0;32m    584\u001b[0m             \u001b[39m\"\u001b[39m\u001b[39mrequires y to be passed, but the target y is None.\u001b[39m\u001b[39m\"\u001b[39m\n\u001b[0;32m    585\u001b[0m         )\n",
      "File \u001b[1;32mc:\\ProgramData\\miniconda3\\envs\\tdt4173\\lib\\site-packages\\sklearn\\base.py:506\u001b[0m, in \u001b[0;36mBaseEstimator._check_feature_names\u001b[1;34m(self, X, reset)\u001b[0m\n\u001b[0;32m    501\u001b[0m \u001b[39mif\u001b[39;00m \u001b[39mnot\u001b[39;00m missing_names \u001b[39mand\u001b[39;00m \u001b[39mnot\u001b[39;00m unexpected_names:\n\u001b[0;32m    502\u001b[0m     message \u001b[39m+\u001b[39m\u001b[39m=\u001b[39m (\n\u001b[0;32m    503\u001b[0m         \u001b[39m\"\u001b[39m\u001b[39mFeature names must be in the same order as they were in fit.\u001b[39m\u001b[39m\\n\u001b[39;00m\u001b[39m\"\u001b[39m\n\u001b[0;32m    504\u001b[0m     )\n\u001b[1;32m--> 506\u001b[0m \u001b[39mraise\u001b[39;00m \u001b[39mValueError\u001b[39;00m(message)\n",
      "\u001b[1;31mValueError\u001b[0m: The feature names should match those that were passed during fit.\nFeature names unseen at fit time:\n- date_forecast\n"
     ]
    }
   ],
   "source": [
    "X = data.drop([\"pv_measurement\",'date_calc'], axis=1)\n",
    "y = data.pv_measurement\n",
    "\n",
    "model = DecisionTreeRegressor(random_state=1)\n",
    "model.fit(X, y)\n",
    "model.predict(X_test_a.drop(['date_forecast', 'date_calc'], axis=1))"
   ]
  },
  {
   "cell_type": "code",
   "execution_count": null,
   "metadata": {},
   "outputs": [],
   "source": [
    "X_train_all_a.info()"
   ]
  },
  {
   "cell_type": "code",
   "execution_count": null,
   "metadata": {},
   "outputs": [],
   "source": [
    "Y_a.info()"
   ]
  },
  {
   "cell_type": "code",
   "execution_count": null,
   "metadata": {},
   "outputs": [],
   "source": [
    "Y_a.head()"
   ]
  },
  {
   "cell_type": "code",
   "execution_count": null,
   "metadata": {},
   "outputs": [],
   "source": []
  }
 ],
 "metadata": {
  "kernelspec": {
   "display_name": "tdt4173",
   "language": "python",
   "name": "python3"
  },
  "language_info": {
   "codemirror_mode": {
    "name": "ipython",
    "version": 3
   },
   "file_extension": ".py",
   "mimetype": "text/x-python",
   "name": "python",
   "nbconvert_exporter": "python",
   "pygments_lexer": "ipython3",
   "version": "3.10.13"
  },
  "orig_nbformat": 4
 },
 "nbformat": 4,
 "nbformat_minor": 2
}
