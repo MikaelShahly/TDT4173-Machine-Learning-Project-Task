{
 "cells": [
  {
   "cell_type": "code",
   "execution_count": 29,
   "metadata": {},
   "outputs": [
    {
     "name": "stdout",
     "output_type": "stream",
     "text": [
      "Index(['date_calc', 'date_forecast', 'absolute_humidity_2m:gm3',\n",
      "       'air_density_2m:kgm3', 'ceiling_height_agl:m', 'clear_sky_energy_1h:J',\n",
      "       'clear_sky_rad:W', 'cloud_base_agl:m', 'dew_or_rime:idx',\n",
      "       'dew_point_2m:K', 'diffuse_rad:W', 'diffuse_rad_1h:J', 'direct_rad:W',\n",
      "       'direct_rad_1h:J', 'effective_cloud_cover:p', 'elevation:m',\n",
      "       'fresh_snow_12h:cm', 'fresh_snow_1h:cm', 'fresh_snow_24h:cm',\n",
      "       'fresh_snow_3h:cm', 'fresh_snow_6h:cm', 'is_day:idx',\n",
      "       'is_in_shadow:idx', 'msl_pressure:hPa', 'precip_5min:mm',\n",
      "       'precip_type_5min:idx', 'pressure_100m:hPa', 'pressure_50m:hPa',\n",
      "       'prob_rime:p', 'rain_water:kgm2', 'relative_humidity_1000hPa:p',\n",
      "       'sfc_pressure:hPa', 'snow_density:kgm3', 'snow_depth:cm',\n",
      "       'snow_drift:idx', 'snow_melt_10min:mm', 'snow_water:kgm2',\n",
      "       'sun_azimuth:d', 'sun_elevation:d', 'super_cooled_liquid_water:kgm2',\n",
      "       't_1000hPa:K', 'total_cloud_cover:p', 'visibility:m',\n",
      "       'wind_speed_10m:ms', 'wind_speed_u_10m:ms', 'wind_speed_v_10m:ms',\n",
      "       'wind_speed_w_1000hPa:ms'],\n",
      "      dtype='object')\n"
     ]
    }
   ],
   "source": [
    "import pandas as pd\n",
    "import numpy as np\n",
    "\n",
    "from sklearn.tree import DecisionTreeRegressor\n",
    "\n",
    "X_train_estimated_a = pd.read_parquet('data/A/X_train_estimated.parquet')\n",
    "X_train_observed_a = pd.read_parquet('data/A/X_train_observed.parquet')\n",
    "Y_a = pd.read_parquet('data/A/train_targets.parquet')\n",
    "X_test_a = pd.read_parquet('data/A/X_test_estimated.parquet')\n",
    "\n",
    "print(X_train_estimated_a.columns)"
   ]
  },
  {
   "cell_type": "markdown",
   "metadata": {},
   "source": [
    "#### Making combined dataframes"
   ]
  },
  {
   "cell_type": "code",
   "execution_count": 30,
   "metadata": {},
   "outputs": [],
   "source": [
    "X_train_observed_a[\"date_calc\"] = X_train_observed_a[\"date_forecast\"]\n",
    "X_train_all_a = pd.concat([X_train_observed_a, X_train_estimated_a], ignore_index=True)"
   ]
  },
  {
   "cell_type": "code",
   "execution_count": 31,
   "metadata": {},
   "outputs": [],
   "source": [
    "#Remove all non hourly values\n",
    "X_train_all_a.set_index('date_forecast', inplace=True)\n",
    "mask = X_train_all_a.index.minute == 0\n",
    "X_train_all_a = X_train_all_a[mask]"
   ]
  },
  {
   "cell_type": "code",
   "execution_count": 32,
   "metadata": {},
   "outputs": [],
   "source": [
    "#Set the index as the date forecast for Y aswell\n",
    "Y_a.set_index('time', inplace=True)"
   ]
  },
  {
   "cell_type": "code",
   "execution_count": 33,
   "metadata": {},
   "outputs": [
    {
     "data": {
      "text/html": [
       "<div>\n",
       "<style scoped>\n",
       "    .dataframe tbody tr th:only-of-type {\n",
       "        vertical-align: middle;\n",
       "    }\n",
       "\n",
       "    .dataframe tbody tr th {\n",
       "        vertical-align: top;\n",
       "    }\n",
       "\n",
       "    .dataframe thead th {\n",
       "        text-align: right;\n",
       "    }\n",
       "</style>\n",
       "<table border=\"1\" class=\"dataframe\">\n",
       "  <thead>\n",
       "    <tr style=\"text-align: right;\">\n",
       "      <th></th>\n",
       "      <th>pv_measurement</th>\n",
       "    </tr>\n",
       "    <tr>\n",
       "      <th>time</th>\n",
       "      <th></th>\n",
       "    </tr>\n",
       "  </thead>\n",
       "  <tbody>\n",
       "    <tr>\n",
       "      <th>2019-06-02 22:00:00</th>\n",
       "      <td>0.00</td>\n",
       "    </tr>\n",
       "    <tr>\n",
       "      <th>2019-06-02 23:00:00</th>\n",
       "      <td>0.00</td>\n",
       "    </tr>\n",
       "    <tr>\n",
       "      <th>2019-06-03 00:00:00</th>\n",
       "      <td>0.00</td>\n",
       "    </tr>\n",
       "    <tr>\n",
       "      <th>2019-06-03 01:00:00</th>\n",
       "      <td>0.00</td>\n",
       "    </tr>\n",
       "    <tr>\n",
       "      <th>2019-06-03 02:00:00</th>\n",
       "      <td>19.36</td>\n",
       "    </tr>\n",
       "  </tbody>\n",
       "</table>\n",
       "</div>"
      ],
      "text/plain": [
       "                     pv_measurement\n",
       "time                               \n",
       "2019-06-02 22:00:00            0.00\n",
       "2019-06-02 23:00:00            0.00\n",
       "2019-06-03 00:00:00            0.00\n",
       "2019-06-03 01:00:00            0.00\n",
       "2019-06-03 02:00:00           19.36"
      ]
     },
     "execution_count": 33,
     "metadata": {},
     "output_type": "execute_result"
    }
   ],
   "source": [
    "Y_a.head()"
   ]
  },
  {
   "cell_type": "code",
   "execution_count": 34,
   "metadata": {},
   "outputs": [
    {
     "name": "stdout",
     "output_type": "stream",
     "text": [
      "<class 'pandas.core.frame.DataFrame'>\n",
      "DatetimeIndex: 34086 entries, 2019-06-02 22:00:00 to 2023-04-30 23:00:00\n",
      "Data columns (total 47 columns):\n",
      " #   Column                          Non-Null Count  Dtype         \n",
      "---  ------                          --------------  -----         \n",
      " 0   absolute_humidity_2m:gm3        34062 non-null  float32       \n",
      " 1   air_density_2m:kgm3             34062 non-null  float32       \n",
      " 2   ceiling_height_agl:m            26284 non-null  float32       \n",
      " 3   clear_sky_energy_1h:J           34062 non-null  float32       \n",
      " 4   clear_sky_rad:W                 34062 non-null  float32       \n",
      " 5   cloud_base_agl:m                30998 non-null  float32       \n",
      " 6   dew_or_rime:idx                 34062 non-null  float32       \n",
      " 7   dew_point_2m:K                  34062 non-null  float32       \n",
      " 8   diffuse_rad:W                   34062 non-null  float32       \n",
      " 9   diffuse_rad_1h:J                34062 non-null  float32       \n",
      " 10  direct_rad:W                    34062 non-null  float32       \n",
      " 11  direct_rad_1h:J                 34062 non-null  float32       \n",
      " 12  effective_cloud_cover:p         34062 non-null  float32       \n",
      " 13  elevation:m                     34062 non-null  float32       \n",
      " 14  fresh_snow_12h:cm               34062 non-null  float32       \n",
      " 15  fresh_snow_1h:cm                34062 non-null  float32       \n",
      " 16  fresh_snow_24h:cm               34062 non-null  float32       \n",
      " 17  fresh_snow_3h:cm                34062 non-null  float32       \n",
      " 18  fresh_snow_6h:cm                34062 non-null  float32       \n",
      " 19  is_day:idx                      34062 non-null  float32       \n",
      " 20  is_in_shadow:idx                34062 non-null  float32       \n",
      " 21  msl_pressure:hPa                34062 non-null  float32       \n",
      " 22  precip_5min:mm                  34062 non-null  float32       \n",
      " 23  precip_type_5min:idx            34062 non-null  float32       \n",
      " 24  pressure_100m:hPa               34062 non-null  float32       \n",
      " 25  pressure_50m:hPa                34062 non-null  float32       \n",
      " 26  prob_rime:p                     34062 non-null  float32       \n",
      " 27  rain_water:kgm2                 34062 non-null  float32       \n",
      " 28  relative_humidity_1000hPa:p     34062 non-null  float32       \n",
      " 29  sfc_pressure:hPa                34062 non-null  float32       \n",
      " 30  snow_density:kgm3               1135 non-null   float32       \n",
      " 31  snow_depth:cm                   34062 non-null  float32       \n",
      " 32  snow_drift:idx                  34062 non-null  float32       \n",
      " 33  snow_melt_10min:mm              34062 non-null  float32       \n",
      " 34  snow_water:kgm2                 34062 non-null  float32       \n",
      " 35  sun_azimuth:d                   34062 non-null  float32       \n",
      " 36  sun_elevation:d                 34062 non-null  float32       \n",
      " 37  super_cooled_liquid_water:kgm2  34062 non-null  float32       \n",
      " 38  t_1000hPa:K                     34062 non-null  float32       \n",
      " 39  total_cloud_cover:p             34062 non-null  float32       \n",
      " 40  visibility:m                    34062 non-null  float32       \n",
      " 41  wind_speed_10m:ms               34062 non-null  float32       \n",
      " 42  wind_speed_u_10m:ms             34062 non-null  float32       \n",
      " 43  wind_speed_v_10m:ms             34062 non-null  float32       \n",
      " 44  wind_speed_w_1000hPa:ms         34062 non-null  float32       \n",
      " 45  date_calc                       34062 non-null  datetime64[ns]\n",
      " 46  pv_measurement                  34085 non-null  float64       \n",
      "dtypes: datetime64[ns](1), float32(45), float64(1)\n",
      "memory usage: 6.6 MB\n",
      "None\n"
     ]
    }
   ],
   "source": [
    "data = pd.concat([X_train_all_a, Y_a], axis=1)\n",
    "#data = data.drop('time', axis=1)\n",
    "print(data.info())"
   ]
  },
  {
   "cell_type": "markdown",
   "metadata": {},
   "source": [
    "#### Removing missing values"
   ]
  },
  {
   "cell_type": "code",
   "execution_count": 35,
   "metadata": {},
   "outputs": [],
   "source": [
    "data = data.dropna(axis=0)"
   ]
  },
  {
   "cell_type": "code",
   "execution_count": 36,
   "metadata": {},
   "outputs": [
    {
     "data": {
      "text/plain": [
       "absolute_humidity_2m:gm3          0\n",
       "air_density_2m:kgm3               0\n",
       "ceiling_height_agl:m              0\n",
       "clear_sky_energy_1h:J             0\n",
       "clear_sky_rad:W                   0\n",
       "cloud_base_agl:m                  0\n",
       "dew_or_rime:idx                   0\n",
       "dew_point_2m:K                    0\n",
       "diffuse_rad:W                     0\n",
       "diffuse_rad_1h:J                  0\n",
       "direct_rad:W                      0\n",
       "direct_rad_1h:J                   0\n",
       "effective_cloud_cover:p           0\n",
       "elevation:m                       0\n",
       "fresh_snow_12h:cm                 0\n",
       "fresh_snow_1h:cm                  0\n",
       "fresh_snow_24h:cm                 0\n",
       "fresh_snow_3h:cm                  0\n",
       "fresh_snow_6h:cm                  0\n",
       "is_day:idx                        0\n",
       "is_in_shadow:idx                  0\n",
       "msl_pressure:hPa                  0\n",
       "precip_5min:mm                    0\n",
       "precip_type_5min:idx              0\n",
       "pressure_100m:hPa                 0\n",
       "pressure_50m:hPa                  0\n",
       "prob_rime:p                       0\n",
       "rain_water:kgm2                   0\n",
       "relative_humidity_1000hPa:p       0\n",
       "sfc_pressure:hPa                  0\n",
       "snow_density:kgm3                 0\n",
       "snow_depth:cm                     0\n",
       "snow_drift:idx                    0\n",
       "snow_melt_10min:mm                0\n",
       "snow_water:kgm2                   0\n",
       "sun_azimuth:d                     0\n",
       "sun_elevation:d                   0\n",
       "super_cooled_liquid_water:kgm2    0\n",
       "t_1000hPa:K                       0\n",
       "total_cloud_cover:p               0\n",
       "visibility:m                      0\n",
       "wind_speed_10m:ms                 0\n",
       "wind_speed_u_10m:ms               0\n",
       "wind_speed_v_10m:ms               0\n",
       "wind_speed_w_1000hPa:ms           0\n",
       "date_calc                         0\n",
       "pv_measurement                    0\n",
       "dtype: int64"
      ]
     },
     "execution_count": 36,
     "metadata": {},
     "output_type": "execute_result"
    }
   ],
   "source": [
    "data.isnull().sum()"
   ]
  },
  {
   "cell_type": "code",
   "execution_count": 37,
   "metadata": {},
   "outputs": [
    {
     "name": "stdout",
     "output_type": "stream",
     "text": [
      "<class 'pandas.core.frame.DataFrame'>\n",
      "DatetimeIndex: 828 entries, 2019-12-01 10:00:00 to 2023-03-17 23:00:00\n",
      "Data columns (total 47 columns):\n",
      " #   Column                          Non-Null Count  Dtype         \n",
      "---  ------                          --------------  -----         \n",
      " 0   absolute_humidity_2m:gm3        828 non-null    float32       \n",
      " 1   air_density_2m:kgm3             828 non-null    float32       \n",
      " 2   ceiling_height_agl:m            828 non-null    float32       \n",
      " 3   clear_sky_energy_1h:J           828 non-null    float32       \n",
      " 4   clear_sky_rad:W                 828 non-null    float32       \n",
      " 5   cloud_base_agl:m                828 non-null    float32       \n",
      " 6   dew_or_rime:idx                 828 non-null    float32       \n",
      " 7   dew_point_2m:K                  828 non-null    float32       \n",
      " 8   diffuse_rad:W                   828 non-null    float32       \n",
      " 9   diffuse_rad_1h:J                828 non-null    float32       \n",
      " 10  direct_rad:W                    828 non-null    float32       \n",
      " 11  direct_rad_1h:J                 828 non-null    float32       \n",
      " 12  effective_cloud_cover:p         828 non-null    float32       \n",
      " 13  elevation:m                     828 non-null    float32       \n",
      " 14  fresh_snow_12h:cm               828 non-null    float32       \n",
      " 15  fresh_snow_1h:cm                828 non-null    float32       \n",
      " 16  fresh_snow_24h:cm               828 non-null    float32       \n",
      " 17  fresh_snow_3h:cm                828 non-null    float32       \n",
      " 18  fresh_snow_6h:cm                828 non-null    float32       \n",
      " 19  is_day:idx                      828 non-null    float32       \n",
      " 20  is_in_shadow:idx                828 non-null    float32       \n",
      " 21  msl_pressure:hPa                828 non-null    float32       \n",
      " 22  precip_5min:mm                  828 non-null    float32       \n",
      " 23  precip_type_5min:idx            828 non-null    float32       \n",
      " 24  pressure_100m:hPa               828 non-null    float32       \n",
      " 25  pressure_50m:hPa                828 non-null    float32       \n",
      " 26  prob_rime:p                     828 non-null    float32       \n",
      " 27  rain_water:kgm2                 828 non-null    float32       \n",
      " 28  relative_humidity_1000hPa:p     828 non-null    float32       \n",
      " 29  sfc_pressure:hPa                828 non-null    float32       \n",
      " 30  snow_density:kgm3               828 non-null    float32       \n",
      " 31  snow_depth:cm                   828 non-null    float32       \n",
      " 32  snow_drift:idx                  828 non-null    float32       \n",
      " 33  snow_melt_10min:mm              828 non-null    float32       \n",
      " 34  snow_water:kgm2                 828 non-null    float32       \n",
      " 35  sun_azimuth:d                   828 non-null    float32       \n",
      " 36  sun_elevation:d                 828 non-null    float32       \n",
      " 37  super_cooled_liquid_water:kgm2  828 non-null    float32       \n",
      " 38  t_1000hPa:K                     828 non-null    float32       \n",
      " 39  total_cloud_cover:p             828 non-null    float32       \n",
      " 40  visibility:m                    828 non-null    float32       \n",
      " 41  wind_speed_10m:ms               828 non-null    float32       \n",
      " 42  wind_speed_u_10m:ms             828 non-null    float32       \n",
      " 43  wind_speed_v_10m:ms             828 non-null    float32       \n",
      " 44  wind_speed_w_1000hPa:ms         828 non-null    float32       \n",
      " 45  date_calc                       828 non-null    datetime64[ns]\n",
      " 46  pv_measurement                  828 non-null    float64       \n",
      "dtypes: datetime64[ns](1), float32(45), float64(1)\n",
      "memory usage: 165.0 KB\n"
     ]
    }
   ],
   "source": [
    "data.info()"
   ]
  },
  {
   "cell_type": "markdown",
   "metadata": {},
   "source": [
    "#### Making the Model "
   ]
  },
  {
   "cell_type": "code",
   "execution_count": 38,
   "metadata": {},
   "outputs": [
    {
     "name": "stdout",
     "output_type": "stream",
     "text": [
      "[0.   0.   0.   ... 0.   8.58 8.58]\n"
     ]
    }
   ],
   "source": [
    "X = data.drop([\"pv_measurement\",'date_calc'], axis=1)\n",
    "y = data.pv_measurement\n",
    "\n",
    "model = DecisionTreeRegressor(random_state=1)\n",
    "model.fit(X, y)\n",
    "predictions = model.predict(X_test_a.drop(['date_forecast', 'date_calc'], axis=1))\n",
    "print(predictions)"
   ]
  },
  {
   "cell_type": "code",
   "execution_count": 23,
   "metadata": {},
   "outputs": [
    {
     "name": "stdout",
     "output_type": "stream",
     "text": [
      "<class 'pandas.core.frame.DataFrame'>\n",
      "RangeIndex: 2880 entries, 0 to 2879\n",
      "Data columns (total 47 columns):\n",
      " #   Column                          Non-Null Count  Dtype         \n",
      "---  ------                          --------------  -----         \n",
      " 0   date_calc                       2880 non-null   datetime64[ns]\n",
      " 1   date_forecast                   2880 non-null   datetime64[ns]\n",
      " 2   absolute_humidity_2m:gm3        2880 non-null   float32       \n",
      " 3   air_density_2m:kgm3             2880 non-null   float32       \n",
      " 4   ceiling_height_agl:m            2087 non-null   float32       \n",
      " 5   clear_sky_energy_1h:J           2880 non-null   float32       \n",
      " 6   clear_sky_rad:W                 2880 non-null   float32       \n",
      " 7   cloud_base_agl:m                2582 non-null   float32       \n",
      " 8   dew_or_rime:idx                 2880 non-null   float32       \n",
      " 9   dew_point_2m:K                  2880 non-null   float32       \n",
      " 10  diffuse_rad:W                   2880 non-null   float32       \n",
      " 11  diffuse_rad_1h:J                2880 non-null   float32       \n",
      " 12  direct_rad:W                    2880 non-null   float32       \n",
      " 13  direct_rad_1h:J                 2880 non-null   float32       \n",
      " 14  effective_cloud_cover:p         2880 non-null   float32       \n",
      " 15  elevation:m                     2880 non-null   float32       \n",
      " 16  fresh_snow_12h:cm               2880 non-null   float32       \n",
      " 17  fresh_snow_1h:cm                2880 non-null   float32       \n",
      " 18  fresh_snow_24h:cm               2880 non-null   float32       \n",
      " 19  fresh_snow_3h:cm                2880 non-null   float32       \n",
      " 20  fresh_snow_6h:cm                2880 non-null   float32       \n",
      " 21  is_day:idx                      2880 non-null   float32       \n",
      " 22  is_in_shadow:idx                2880 non-null   float32       \n",
      " 23  msl_pressure:hPa                2880 non-null   float32       \n",
      " 24  precip_5min:mm                  2880 non-null   float32       \n",
      " 25  precip_type_5min:idx            2880 non-null   float32       \n",
      " 26  pressure_100m:hPa               2880 non-null   float32       \n",
      " 27  pressure_50m:hPa                2880 non-null   float32       \n",
      " 28  prob_rime:p                     2880 non-null   float32       \n",
      " 29  rain_water:kgm2                 2880 non-null   float32       \n",
      " 30  relative_humidity_1000hPa:p     2880 non-null   float32       \n",
      " 31  sfc_pressure:hPa                2880 non-null   float32       \n",
      " 32  snow_density:kgm3               0 non-null      float32       \n",
      " 33  snow_depth:cm                   2880 non-null   float32       \n",
      " 34  snow_drift:idx                  2880 non-null   float32       \n",
      " 35  snow_melt_10min:mm              2880 non-null   float32       \n",
      " 36  snow_water:kgm2                 2880 non-null   float32       \n",
      " 37  sun_azimuth:d                   2880 non-null   float32       \n",
      " 38  sun_elevation:d                 2880 non-null   float32       \n",
      " 39  super_cooled_liquid_water:kgm2  2880 non-null   float32       \n",
      " 40  t_1000hPa:K                     2880 non-null   float32       \n",
      " 41  total_cloud_cover:p             2880 non-null   float32       \n",
      " 42  visibility:m                    2880 non-null   float32       \n",
      " 43  wind_speed_10m:ms               2880 non-null   float32       \n",
      " 44  wind_speed_u_10m:ms             2880 non-null   float32       \n",
      " 45  wind_speed_v_10m:ms             2880 non-null   float32       \n",
      " 46  wind_speed_w_1000hPa:ms         2880 non-null   float32       \n",
      "dtypes: datetime64[ns](2), float32(45)\n",
      "memory usage: 551.4 KB\n"
     ]
    }
   ],
   "source": [
    "X_test_a.head(20)\n",
    "X_test_a.info()"
   ]
  },
  {
   "cell_type": "code",
   "execution_count": 24,
   "metadata": {},
   "outputs": [
    {
     "ename": "AttributeError",
     "evalue": "'float' object has no attribute 'predictions'",
     "output_type": "error",
     "traceback": [
      "\u001b[1;31m---------------------------------------------------------------------------\u001b[0m",
      "\u001b[1;31mAttributeError\u001b[0m                            Traceback (most recent call last)",
      "\u001b[1;32mc:\\Users\\andre\\OneDrive - NTNU\\Machine Learning\\TDT4173-Machine-Learning-Project-Task\\DecisionTree.ipynb Cell 15\u001b[0m line \u001b[0;36m4\n\u001b[0;32m      <a href='vscode-notebook-cell:/c%3A/Users/andre/OneDrive%20-%20NTNU/Machine%20Learning/TDT4173-Machine-Learning-Project-Task/DecisionTree.ipynb#X13sZmlsZQ%3D%3D?line=1'>2</a>\u001b[0m sample_submission \u001b[39m=\u001b[39m pd\u001b[39m.\u001b[39mread_csv(\u001b[39m'\u001b[39m\u001b[39mdata/sample_submission.csv\u001b[39m\u001b[39m'\u001b[39m)\n\u001b[0;32m      <a href='vscode-notebook-cell:/c%3A/Users/andre/OneDrive%20-%20NTNU/Machine%20Learning/TDT4173-Machine-Learning-Project-Task/DecisionTree.ipynb#X13sZmlsZQ%3D%3D?line=2'>3</a>\u001b[0m test[\u001b[39m'\u001b[39m\u001b[39mprediction\u001b[39m\u001b[39m'\u001b[39m] \u001b[39m=\u001b[39m np\u001b[39m.\u001b[39mrandom\u001b[39m.\u001b[39mrand(\u001b[39mlen\u001b[39m(test))\n\u001b[1;32m----> <a href='vscode-notebook-cell:/c%3A/Users/andre/OneDrive%20-%20NTNU/Machine%20Learning/TDT4173-Machine-Learning-Project-Task/DecisionTree.ipynb#X13sZmlsZQ%3D%3D?line=3'>4</a>\u001b[0m test\u001b[39m.\u001b[39mprediction[\u001b[39m0.\u001b[39;49m\u001b[39m.\u001b[39;49mpredictions\u001b[39m.\u001b[39msize] \u001b[39m=\u001b[39m predictions\n\u001b[0;32m      <a href='vscode-notebook-cell:/c%3A/Users/andre/OneDrive%20-%20NTNU/Machine%20Learning/TDT4173-Machine-Learning-Project-Task/DecisionTree.ipynb#X13sZmlsZQ%3D%3D?line=4'>5</a>\u001b[0m sample_submission \u001b[39m=\u001b[39m sample_submission[[\u001b[39m'\u001b[39m\u001b[39mid\u001b[39m\u001b[39m'\u001b[39m]]\u001b[39m.\u001b[39mmerge(test[[\u001b[39m'\u001b[39m\u001b[39mid\u001b[39m\u001b[39m'\u001b[39m, \u001b[39m'\u001b[39m\u001b[39mprediction\u001b[39m\u001b[39m'\u001b[39m]], on\u001b[39m=\u001b[39m\u001b[39m'\u001b[39m\u001b[39mid\u001b[39m\u001b[39m'\u001b[39m, how\u001b[39m=\u001b[39m\u001b[39m'\u001b[39m\u001b[39mleft\u001b[39m\u001b[39m'\u001b[39m)\n\u001b[0;32m      <a href='vscode-notebook-cell:/c%3A/Users/andre/OneDrive%20-%20NTNU/Machine%20Learning/TDT4173-Machine-Learning-Project-Task/DecisionTree.ipynb#X13sZmlsZQ%3D%3D?line=5'>6</a>\u001b[0m sample_submission\u001b[39m.\u001b[39mto_csv(\u001b[39m'\u001b[39m\u001b[39mmy_first_submission.csv\u001b[39m\u001b[39m'\u001b[39m, index\u001b[39m=\u001b[39m\u001b[39mFalse\u001b[39;00m)\n",
      "\u001b[1;31mAttributeError\u001b[0m: 'float' object has no attribute 'predictions'"
     ]
    }
   ],
   "source": [
    "test = pd.read_csv('data/test.csv')\n",
    "sample_submission = pd.read_csv('data/sample_submission.csv')\n",
    "test['prediction'] = np.random.rand(len(test))\n",
    "test.prediction[0..predictions.size] = predictions\n",
    "sample_submission = sample_submission[['id']].merge(test[['id', 'prediction']], on='id', how='left')\n",
    "sample_submission.to_csv('my_first_submission.csv', index=False)"
   ]
  }
 ],
 "metadata": {
  "kernelspec": {
   "display_name": "tdt4173",
   "language": "python",
   "name": "python3"
  },
  "language_info": {
   "codemirror_mode": {
    "name": "ipython",
    "version": 3
   },
   "file_extension": ".py",
   "mimetype": "text/x-python",
   "name": "python",
   "nbconvert_exporter": "python",
   "pygments_lexer": "ipython3",
   "version": "3.10.13"
  },
  "orig_nbformat": 4
 },
 "nbformat": 4,
 "nbformat_minor": 2
}
