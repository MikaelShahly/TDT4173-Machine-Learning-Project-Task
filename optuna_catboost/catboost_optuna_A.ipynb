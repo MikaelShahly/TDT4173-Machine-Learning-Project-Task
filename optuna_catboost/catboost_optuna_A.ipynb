{
 "cells": [
  {
   "cell_type": "code",
   "execution_count": 10,
   "metadata": {},
   "outputs": [],
   "source": [
    "import pandas as pd\n",
    "import numpy as np\n",
    "from catboost import Pool, CatBoostRegressor\n",
    "from sklearn.model_selection import cross_val_score\n",
    "from sklearn.model_selection import TimeSeriesSplit \n",
    "import optuna \n",
    "import json\n",
    "from sklearn.metrics import mean_absolute_error"
   ]
  },
  {
   "cell_type": "code",
   "execution_count": 11,
   "metadata": {},
   "outputs": [],
   "source": [
    "#Load inn datasets\n",
    "X_test  = pd.read_parquet('../data/prepared_datasets/only_y_cleaned/X_test.parquet')\n",
    "X_train = pd.read_parquet('../data/prepared_datasets/only_y_cleaned/X_train.parquet')\n",
    "y_train = pd.read_parquet('../data/prepared_datasets/only_y_cleaned/Y_train.parquet')\n",
    "y_train_a = pd.read_parquet('../data/prepared_datasets/only_y_cleaned/Y_train_a.parquet')\n",
    "y_train_b = pd.read_parquet('../data/prepared_datasets/only_y_cleaned/Y_train_b.parquet')\n",
    "y_train_c = pd.read_parquet('../data/prepared_datasets/only_y_cleaned/Y_train_c.parquet')"
   ]
  },
  {
   "cell_type": "code",
   "execution_count": 12,
   "metadata": {},
   "outputs": [],
   "source": [
    "def splitting_def(df):\n",
    "    date_range_1 = (df.index >= '2020-05-01') & (df.index <= '2020-06-25')\n",
    "    date_range_2 = (df.index >= '2023-05-01') & (df.index <= '2023-06-15')\n",
    "\n",
    "    # Combine the date ranges to create the test set\n",
    "    test_set = df[date_range_1 | date_range_2]\n",
    "\n",
    "    # The rest of the data will be your training set\n",
    "    training_set = df[~(date_range_1 | date_range_2)]\n",
    "    \n",
    "    # Splitting the test_set into X_test and y_test\n",
    "    X_test = test_set.drop(\"pv_measurement\", axis=1)\n",
    "    y_test = test_set['pv_measurement']  # Assuming 'pv_measurement' is your target variable\n",
    "\n",
    "    # Splitting the training_set into X_train and y_train\n",
    "    X_train = training_set.drop(\"pv_measurement\", axis=1)\n",
    "    y_train = training_set['pv_measurement']\n",
    "    \n",
    "    return X_train, X_test, y_train, y_test\n",
    "\n",
    "X_train_new_a, X_test_new_a, y_train_new_a, y_test_a = splitting_def(pd.concat([X_train[X_train[\"location\"] == \"A\"].drop(\"location\", axis=1), y_train_a], axis=1))\n",
    "X_train_new_b, X_test_new_b, y_train_new_b, y_test_b = splitting_def(pd.concat([X_train[X_train[\"location\"] == \"B\"].drop(\"location\", axis=1), y_train_b], axis=1))\n",
    "X_train_new_c, X_test_new_c, y_train_new_c, y_test_c = splitting_def(pd.concat([X_train[X_train[\"location\"] == \"C\"].drop(\"location\", axis=1), y_train_c], axis=1))"
   ]
  },
  {
   "cell_type": "code",
   "execution_count": 13,
   "metadata": {},
   "outputs": [],
   "source": [
    "#Create a pool of data\n",
    "train_pool_a = Pool(X_train_new_a, y_train_new_a)\n",
    "train_pool_b = Pool(X_train_new_b, y_train_new_b)\n",
    "train_pool_c = Pool(X_train_new_c, y_train_new_c)\n",
    "\n",
    "\n",
    "test_pool_a = Pool(X_test_new_a) \n",
    "test_pool_b = Pool(X_test_new_b) \n",
    "test_pool_c = Pool(X_test_new_c) "
   ]
  },
  {
   "cell_type": "code",
   "execution_count": 14,
   "metadata": {},
   "outputs": [
    {
     "name": "stderr",
     "output_type": "stream",
     "text": [
      "[I 2023-11-07 08:23:56,934] A new study created in memory with name: no-name-73d88897-e286-457b-a757-7b14b380bcbe\n"
     ]
    },
    {
     "name": "stdout",
     "output_type": "stream",
     "text": [
      "0:\tlearn: 1127.5731913\ttotal: 83.1ms\tremaining: 3m 5s\n",
      "100:\tlearn: 538.7490122\ttotal: 7.63s\tremaining: 2m 41s\n",
      "200:\tlearn: 441.8060017\ttotal: 14.5s\tremaining: 2m 26s\n",
      "300:\tlearn: 418.8111607\ttotal: 21.1s\tremaining: 2m 15s\n",
      "400:\tlearn: 405.2827112\ttotal: 27.4s\tremaining: 2m 5s\n",
      "500:\tlearn: 394.9905655\ttotal: 34.3s\tremaining: 1m 58s\n",
      "600:\tlearn: 385.7341918\ttotal: 41.2s\tremaining: 1m 51s\n",
      "700:\tlearn: 377.0242199\ttotal: 47.9s\tremaining: 1m 44s\n",
      "800:\tlearn: 369.4404858\ttotal: 54.8s\tremaining: 1m 37s\n",
      "900:\tlearn: 362.4334843\ttotal: 1m 1s\tremaining: 1m 31s\n",
      "1000:\tlearn: 355.8196707\ttotal: 1m 9s\tremaining: 1m 25s\n",
      "1100:\tlearn: 349.3995260\ttotal: 1m 15s\tremaining: 1m 17s\n",
      "1200:\tlearn: 343.1558157\ttotal: 1m 22s\tremaining: 1m 10s\n",
      "1300:\tlearn: 336.9680248\ttotal: 1m 28s\tremaining: 1m 3s\n",
      "1400:\tlearn: 331.4245725\ttotal: 1m 35s\tremaining: 56.4s\n",
      "1500:\tlearn: 325.8223155\ttotal: 1m 41s\tremaining: 49.4s\n",
      "1600:\tlearn: 320.8133714\ttotal: 1m 47s\tremaining: 42.5s\n",
      "1700:\tlearn: 315.6822596\ttotal: 1m 54s\tremaining: 35.7s\n",
      "1800:\tlearn: 310.7777855\ttotal: 2m\tremaining: 28.9s\n",
      "1900:\tlearn: 305.7242686\ttotal: 2m 6s\tremaining: 22.1s\n",
      "2000:\tlearn: 301.2691647\ttotal: 2m 12s\tremaining: 15.4s\n",
      "2100:\tlearn: 296.8715052\ttotal: 2m 18s\tremaining: 8.69s\n",
      "2200:\tlearn: 292.9854299\ttotal: 2m 23s\tremaining: 2.09s\n"
     ]
    },
    {
     "name": "stderr",
     "output_type": "stream",
     "text": [
      "[I 2023-11-07 08:26:23,095] Trial 0 finished with value: 341.6693006096711 and parameters: {'iterations': 2233, 'learning_rate': 0.013224540310593091, 'depth': 8, 'min_data_in_leaf': 87, 'l2_leaf_reg': 2, 'bagging_temperature': 0.9847191385516187, 'random_strength': 0.3393670193500201, 'border_count': 541, 'rsm': 0.7329034008433479}. Best is trial 0 with value: 341.6693006096711.\n"
     ]
    },
    {
     "name": "stdout",
     "output_type": "stream",
     "text": [
      "2232:\tlearn: 291.6005652\ttotal: 2m 25s\tremaining: 0us\n",
      "0:\tlearn: 1131.9739257\ttotal: 37.4ms\tremaining: 26.3s\n",
      "100:\tlearn: 679.4064279\ttotal: 2.36s\tremaining: 14s\n",
      "200:\tlearn: 518.4146947\ttotal: 5.17s\tremaining: 12.9s\n",
      "300:\tlearn: 468.6249305\ttotal: 8.24s\tremaining: 11s\n",
      "400:\tlearn: 447.6762159\ttotal: 10.8s\tremaining: 8.17s\n",
      "500:\tlearn: 436.0794362\ttotal: 13.9s\tremaining: 5.62s\n",
      "600:\tlearn: 428.7656842\ttotal: 16.9s\tremaining: 2.88s\n"
     ]
    },
    {
     "name": "stderr",
     "output_type": "stream",
     "text": [
      "[I 2023-11-07 08:26:43,286] Trial 1 finished with value: 356.67992569042394 and parameters: {'iterations': 703, 'learning_rate': 0.009286387680388768, 'depth': 8, 'min_data_in_leaf': 59, 'l2_leaf_reg': 4, 'bagging_temperature': 0.885009419955769, 'random_strength': 0.9236507833980463, 'border_count': 739, 'rsm': 0.08080155019915247}. Best is trial 0 with value: 341.6693006096711.\n"
     ]
    },
    {
     "name": "stdout",
     "output_type": "stream",
     "text": [
      "700:\tlearn: 423.5495398\ttotal: 19.9s\tremaining: 56.8ms\n",
      "702:\tlearn: 423.4525303\ttotal: 20s\tremaining: 0us\n",
      "0:\tlearn: 1138.0826798\ttotal: 21.7ms\tremaining: 1m 4s\n",
      "100:\tlearn: 1000.2844535\ttotal: 837ms\tremaining: 23.6s\n",
      "200:\tlearn: 888.2201446\ttotal: 1.67s\tremaining: 22.8s\n",
      "300:\tlearn: 796.7759658\ttotal: 2.47s\tremaining: 21.7s\n",
      "400:\tlearn: 723.5114258\ttotal: 3.13s\tremaining: 19.9s\n",
      "500:\tlearn: 664.9279322\ttotal: 3.84s\tremaining: 18.8s\n",
      "600:\tlearn: 618.9387222\ttotal: 4.55s\tremaining: 17.8s\n",
      "700:\tlearn: 582.6642101\ttotal: 5.56s\tremaining: 17.8s\n",
      "800:\tlearn: 554.1362881\ttotal: 6.49s\tremaining: 17.4s\n",
      "900:\tlearn: 532.0332658\ttotal: 7.37s\tremaining: 16.7s\n",
      "1000:\tlearn: 514.8442246\ttotal: 8.17s\tremaining: 15.9s\n",
      "1100:\tlearn: 501.0975096\ttotal: 8.86s\tremaining: 14.9s\n",
      "1200:\tlearn: 490.3983028\ttotal: 9.72s\tremaining: 14.1s\n",
      "1300:\tlearn: 481.7634460\ttotal: 10.7s\tremaining: 13.5s\n",
      "1400:\tlearn: 474.8656637\ttotal: 11.5s\tremaining: 12.6s\n",
      "1500:\tlearn: 469.2608716\ttotal: 12.5s\tremaining: 12s\n",
      "1600:\tlearn: 464.6683487\ttotal: 13.5s\tremaining: 11.4s\n",
      "1700:\tlearn: 460.8188951\ttotal: 14.2s\tremaining: 10.4s\n",
      "1800:\tlearn: 457.6225742\ttotal: 15s\tremaining: 9.56s\n",
      "1900:\tlearn: 454.8972591\ttotal: 15.9s\tremaining: 8.72s\n",
      "2000:\tlearn: 452.5711296\ttotal: 16.5s\tremaining: 7.8s\n",
      "2100:\tlearn: 450.6231552\ttotal: 17.5s\tremaining: 7.03s\n",
      "2200:\tlearn: 448.7627497\ttotal: 18.3s\tremaining: 6.2s\n",
      "2300:\tlearn: 447.2388166\ttotal: 19.5s\tremaining: 5.46s\n",
      "2400:\tlearn: 445.8131473\ttotal: 20.5s\tremaining: 4.66s\n",
      "2500:\tlearn: 444.5283396\ttotal: 21.4s\tremaining: 3.82s\n",
      "2600:\tlearn: 443.3490513\ttotal: 22.3s\tremaining: 2.97s\n",
      "2700:\tlearn: 442.2641172\ttotal: 23.1s\tremaining: 2.1s\n",
      "2800:\tlearn: 441.2062431\ttotal: 23.9s\tremaining: 1.25s\n",
      "2900:\tlearn: 440.2116157\ttotal: 24.7s\tremaining: 391ms\n"
     ]
    },
    {
     "name": "stderr",
     "output_type": "stream",
     "text": [
      "[I 2023-11-07 08:27:08,898] Trial 2 finished with value: 351.19549732868296 and parameters: {'iterations': 2947, 'learning_rate': 0.0017859722974195402, 'depth': 5, 'min_data_in_leaf': 83, 'l2_leaf_reg': 10, 'bagging_temperature': 0.6611471175709374, 'random_strength': 0.3343532807660299, 'border_count': 442, 'rsm': 0.2612550612484549}. Best is trial 0 with value: 341.6693006096711.\n"
     ]
    },
    {
     "name": "stdout",
     "output_type": "stream",
     "text": [
      "2946:\tlearn: 439.7529269\ttotal: 25.1s\tremaining: 0us\n",
      "0:\tlearn: 1114.5357672\ttotal: 152ms\tremaining: 5m 38s\n",
      "100:\tlearn: 427.5228794\ttotal: 13.4s\tremaining: 4m 41s\n",
      "200:\tlearn: 380.2686524\ttotal: 28.1s\tremaining: 4m 42s\n",
      "300:\tlearn: 354.8714589\ttotal: 43.1s\tremaining: 4m 34s\n",
      "400:\tlearn: 331.0690194\ttotal: 58.3s\tremaining: 4m 24s\n",
      "500:\tlearn: 311.6959656\ttotal: 1m 12s\tremaining: 4m 9s\n",
      "600:\tlearn: 293.6299687\ttotal: 1m 27s\tremaining: 3m 55s\n",
      "700:\tlearn: 277.7360020\ttotal: 1m 41s\tremaining: 3m 40s\n",
      "800:\tlearn: 263.6356324\ttotal: 1m 56s\tremaining: 3m 26s\n",
      "900:\tlearn: 251.2156596\ttotal: 2m 10s\tremaining: 3m 10s\n",
      "1000:\tlearn: 238.8602335\ttotal: 2m 24s\tremaining: 2m 56s\n",
      "1100:\tlearn: 229.3614355\ttotal: 2m 38s\tremaining: 2m 41s\n",
      "1200:\tlearn: 219.9900490\ttotal: 2m 52s\tremaining: 2m 26s\n",
      "1300:\tlearn: 211.6511365\ttotal: 3m 7s\tremaining: 2m 12s\n",
      "1400:\tlearn: 203.9701949\ttotal: 3m 21s\tremaining: 1m 57s\n",
      "1500:\tlearn: 196.7473651\ttotal: 3m 35s\tremaining: 1m 43s\n",
      "1600:\tlearn: 189.7404447\ttotal: 3m 49s\tremaining: 1m 28s\n",
      "1700:\tlearn: 183.8773215\ttotal: 4m 4s\tremaining: 1m 14s\n",
      "1800:\tlearn: 177.4985575\ttotal: 4m 18s\tremaining: 1m\n",
      "1900:\tlearn: 172.1897457\ttotal: 4m 33s\tremaining: 46.1s\n",
      "2000:\tlearn: 166.6036173\ttotal: 4m 48s\tremaining: 31.7s\n",
      "2100:\tlearn: 161.1153725\ttotal: 5m 5s\tremaining: 17.4s\n",
      "2200:\tlearn: 156.0527195\ttotal: 5m 20s\tremaining: 2.91s\n",
      "2220:\tlearn: 155.1273761\ttotal: 5m 23s\tremaining: 0us\n"
     ]
    },
    {
     "name": "stderr",
     "output_type": "stream",
     "text": [
      "[I 2023-11-07 08:32:34,199] Trial 3 finished with value: 338.9995175520411 and parameters: {'iterations': 2221, 'learning_rate': 0.028958805021577733, 'depth': 12, 'min_data_in_leaf': 94, 'l2_leaf_reg': 10, 'bagging_temperature': 0.7524175076197241, 'random_strength': 0.8950751210237484, 'border_count': 633, 'rsm': 0.25372925301410304}. Best is trial 3 with value: 338.9995175520411.\n"
     ]
    },
    {
     "name": "stdout",
     "output_type": "stream",
     "text": [
      "0:\tlearn: 1126.3258913\ttotal: 6.51ms\tremaining: 15.2s\n",
      "100:\tlearn: 558.8046455\ttotal: 703ms\tremaining: 15.5s\n",
      "200:\tlearn: 470.6331414\ttotal: 1.41s\tremaining: 14.9s\n",
      "300:\tlearn: 450.0039910\ttotal: 2.16s\tremaining: 14.6s\n",
      "400:\tlearn: 440.8620574\ttotal: 2.95s\tremaining: 14.2s\n",
      "500:\tlearn: 434.8569028\ttotal: 3.94s\tremaining: 14.4s\n",
      "600:\tlearn: 430.4304500\ttotal: 4.79s\tremaining: 13.8s\n",
      "700:\tlearn: 426.1332693\ttotal: 5.45s\tremaining: 12.7s\n",
      "800:\tlearn: 422.7899948\ttotal: 6.24s\tremaining: 11.9s\n",
      "900:\tlearn: 419.5574755\ttotal: 7.13s\tremaining: 11.3s\n",
      "1000:\tlearn: 416.4541501\ttotal: 8.03s\tremaining: 10.7s\n",
      "1100:\tlearn: 413.7645074\ttotal: 8.75s\tremaining: 9.78s\n",
      "1200:\tlearn: 411.0055761\ttotal: 9.53s\tremaining: 8.96s\n",
      "1300:\tlearn: 408.4363087\ttotal: 10.5s\tremaining: 8.3s\n",
      "1400:\tlearn: 406.2867303\ttotal: 11.3s\tremaining: 7.53s\n",
      "1500:\tlearn: 404.0825682\ttotal: 12s\tremaining: 6.64s\n",
      "1600:\tlearn: 401.9833936\ttotal: 13s\tremaining: 5.92s\n",
      "1700:\tlearn: 399.6785720\ttotal: 13.7s\tremaining: 5.07s\n",
      "1800:\tlearn: 397.6568474\ttotal: 14.4s\tremaining: 4.24s\n",
      "1900:\tlearn: 395.5462301\ttotal: 15.1s\tremaining: 3.41s\n",
      "2000:\tlearn: 393.6779715\ttotal: 15.7s\tremaining: 2.6s\n",
      "2100:\tlearn: 391.9670495\ttotal: 16.5s\tremaining: 1.81s\n",
      "2200:\tlearn: 390.1019927\ttotal: 17.3s\tremaining: 1.02s\n",
      "2300:\tlearn: 388.2406414\ttotal: 17.9s\tremaining: 234ms\n",
      "2330:\tlearn: 387.6830616\ttotal: 18.1s\tremaining: 0us\n"
     ]
    },
    {
     "name": "stderr",
     "output_type": "stream",
     "text": [
      "[I 2023-11-07 08:32:52,764] Trial 4 finished with value: 354.17542193989397 and parameters: {'iterations': 2331, 'learning_rate': 0.017335410418960022, 'depth': 5, 'min_data_in_leaf': 56, 'l2_leaf_reg': 7, 'bagging_temperature': 0.6412583652115001, 'random_strength': 0.3024277024757011, 'border_count': 682, 'rsm': 0.08558409751692361}. Best is trial 3 with value: 338.9995175520411.\n"
     ]
    },
    {
     "name": "stdout",
     "output_type": "stream",
     "text": [
      "0:\tlearn: 1138.6820033\ttotal: 53.2ms\tremaining: 2m\n",
      "100:\tlearn: 1052.2789888\ttotal: 6.32s\tremaining: 2m 15s\n",
      "200:\tlearn: 975.3501208\ttotal: 13.4s\tremaining: 2m 17s\n",
      "300:\tlearn: 907.1359003\ttotal: 19.9s\tremaining: 2m 9s\n",
      "400:\tlearn: 846.6706533\ttotal: 26.1s\tremaining: 2m 1s\n",
      "500:\tlearn: 793.2869150\ttotal: 32.5s\tremaining: 1m 54s\n",
      "600:\tlearn: 746.2837335\ttotal: 38.8s\tremaining: 1m 47s\n",
      "700:\tlearn: 705.0503355\ttotal: 45.5s\tremaining: 1m 41s\n",
      "800:\tlearn: 668.8780643\ttotal: 52s\tremaining: 1m 35s\n",
      "900:\tlearn: 637.2648307\ttotal: 1m\tremaining: 1m 31s\n",
      "1000:\tlearn: 609.6696049\ttotal: 1m 9s\tremaining: 1m 27s\n",
      "1100:\tlearn: 585.6085125\ttotal: 1m 18s\tremaining: 1m 23s\n",
      "1200:\tlearn: 564.7426728\ttotal: 1m 26s\tremaining: 1m 16s\n",
      "1300:\tlearn: 546.5974298\ttotal: 1m 35s\tremaining: 1m 10s\n",
      "1400:\tlearn: 530.9060156\ttotal: 1m 43s\tremaining: 1m 3s\n",
      "1500:\tlearn: 517.3457792\ttotal: 1m 51s\tremaining: 57.2s\n",
      "1600:\tlearn: 505.6170520\ttotal: 2m\tremaining: 50.2s\n",
      "1700:\tlearn: 495.4892905\ttotal: 2m 9s\tremaining: 43s\n",
      "1800:\tlearn: 486.6565668\ttotal: 2m 18s\tremaining: 35.8s\n",
      "1900:\tlearn: 479.0788159\ttotal: 2m 26s\tremaining: 28.4s\n",
      "2000:\tlearn: 472.4473871\ttotal: 2m 35s\tremaining: 20.7s\n",
      "2100:\tlearn: 466.6735979\ttotal: 2m 43s\tremaining: 13s\n",
      "2200:\tlearn: 461.6550891\ttotal: 2m 52s\tremaining: 5.24s\n"
     ]
    },
    {
     "name": "stderr",
     "output_type": "stream",
     "text": [
      "[I 2023-11-07 08:35:51,009] Trial 5 finished with value: 387.91294564696284 and parameters: {'iterations': 2268, 'learning_rate': 0.0010282208074537964, 'depth': 8, 'min_data_in_leaf': 46, 'l2_leaf_reg': 10, 'bagging_temperature': 0.49386442102373196, 'random_strength': 0.5033403689530601, 'border_count': 470, 'rsm': 0.6535207386258868}. Best is trial 3 with value: 338.9995175520411.\n"
     ]
    },
    {
     "name": "stdout",
     "output_type": "stream",
     "text": [
      "2267:\tlearn: 458.6142910\ttotal: 2m 57s\tremaining: 0us\n",
      "0:\tlearn: 1074.1400770\ttotal: 92.3ms\tremaining: 4m 34s\n",
      "100:\tlearn: 417.9174353\ttotal: 5.14s\tremaining: 2m 26s\n",
      "200:\tlearn: 389.6301486\ttotal: 10.3s\tremaining: 2m 21s\n",
      "300:\tlearn: 368.1397194\ttotal: 15.6s\tremaining: 2m 18s\n",
      "400:\tlearn: 351.0280521\ttotal: 20.7s\tremaining: 2m 12s\n",
      "500:\tlearn: 337.2179663\ttotal: 25.4s\tremaining: 2m 5s\n",
      "600:\tlearn: 324.7750171\ttotal: 30.1s\tremaining: 1m 58s\n",
      "700:\tlearn: 313.7519620\ttotal: 34.9s\tremaining: 1m 53s\n",
      "800:\tlearn: 303.3809744\ttotal: 39.8s\tremaining: 1m 48s\n",
      "900:\tlearn: 294.2718682\ttotal: 45.6s\tremaining: 1m 44s\n",
      "1000:\tlearn: 284.7133090\ttotal: 51s\tremaining: 1m 40s\n",
      "1100:\tlearn: 275.4705644\ttotal: 57.1s\tremaining: 1m 37s\n",
      "1200:\tlearn: 267.3139316\ttotal: 1m 2s\tremaining: 1m 32s\n",
      "1300:\tlearn: 260.1778939\ttotal: 1m 8s\tremaining: 1m 28s\n",
      "1400:\tlearn: 252.7209417\ttotal: 1m 15s\tremaining: 1m 24s\n",
      "1500:\tlearn: 246.1836105\ttotal: 1m 20s\tremaining: 1m 18s\n",
      "1600:\tlearn: 239.1166585\ttotal: 1m 26s\tremaining: 1m 13s\n",
      "1700:\tlearn: 232.2887464\ttotal: 1m 31s\tremaining: 1m 8s\n",
      "1800:\tlearn: 225.8062905\ttotal: 1m 37s\tremaining: 1m 3s\n",
      "1900:\tlearn: 220.2466636\ttotal: 1m 42s\tremaining: 58.1s\n",
      "2000:\tlearn: 214.9935721\ttotal: 1m 48s\tremaining: 52.6s\n",
      "2100:\tlearn: 209.8988135\ttotal: 1m 54s\tremaining: 47.4s\n",
      "2200:\tlearn: 204.6581465\ttotal: 1m 59s\tremaining: 42s\n",
      "2300:\tlearn: 199.8613830\ttotal: 2m 5s\tremaining: 36.6s\n",
      "2400:\tlearn: 195.5227210\ttotal: 2m 10s\tremaining: 31.2s\n",
      "2500:\tlearn: 191.0723012\ttotal: 2m 15s\tremaining: 25.7s\n",
      "2600:\tlearn: 186.5830226\ttotal: 2m 20s\tremaining: 20.2s\n",
      "2700:\tlearn: 182.8087059\ttotal: 2m 25s\tremaining: 14.7s\n",
      "2800:\tlearn: 178.9141834\ttotal: 2m 29s\tremaining: 9.25s\n",
      "2900:\tlearn: 175.3252114\ttotal: 2m 34s\tremaining: 3.88s\n"
     ]
    },
    {
     "name": "stderr",
     "output_type": "stream",
     "text": [
      "[I 2023-11-07 08:38:29,759] Trial 6 finished with value: 361.57665673826256 and parameters: {'iterations': 2974, 'learning_rate': 0.07556186097356124, 'depth': 7, 'min_data_in_leaf': 50, 'l2_leaf_reg': 8, 'bagging_temperature': 0.4366385910683358, 'random_strength': 0.9622042758202518, 'border_count': 573, 'rsm': 0.2347802958604529}. Best is trial 3 with value: 338.9995175520411.\n"
     ]
    },
    {
     "name": "stdout",
     "output_type": "stream",
     "text": [
      "2973:\tlearn: 172.5659058\ttotal: 2m 37s\tremaining: 0us\n",
      "0:\tlearn: 1137.5129841\ttotal: 54.8ms\tremaining: 2m 43s\n",
      "100:\tlearn: 957.1706330\ttotal: 4.62s\tremaining: 2m 12s\n",
      "200:\tlearn: 819.9680061\ttotal: 9.17s\tremaining: 2m 7s\n",
      "300:\tlearn: 717.2348581\ttotal: 13.9s\tremaining: 2m 4s\n",
      "400:\tlearn: 641.3720260\ttotal: 18.2s\tremaining: 1m 57s\n",
      "500:\tlearn: 586.1346760\ttotal: 21.7s\tremaining: 1m 48s\n",
      "600:\tlearn: 546.5546934\ttotal: 25.3s\tremaining: 1m 40s\n",
      "700:\tlearn: 518.1143056\ttotal: 29s\tremaining: 1m 34s\n",
      "800:\tlearn: 497.7779558\ttotal: 32.9s\tremaining: 1m 30s\n",
      "900:\tlearn: 482.9588149\ttotal: 37s\tremaining: 1m 25s\n",
      "1000:\tlearn: 472.1314740\ttotal: 40.7s\tremaining: 1m 20s\n",
      "1100:\tlearn: 464.0568972\ttotal: 44.2s\tremaining: 1m 15s\n",
      "1200:\tlearn: 457.8281692\ttotal: 47.7s\tremaining: 1m 11s\n",
      "1300:\tlearn: 453.0127131\ttotal: 51.5s\tremaining: 1m 6s\n",
      "1400:\tlearn: 449.1541941\ttotal: 55.1s\tremaining: 1m 2s\n",
      "1500:\tlearn: 445.9867666\ttotal: 59.1s\tremaining: 58.6s\n",
      "1600:\tlearn: 443.3607323\ttotal: 1m 2s\tremaining: 54.5s\n",
      "1700:\tlearn: 441.1222490\ttotal: 1m 6s\tremaining: 50.4s\n",
      "1800:\tlearn: 439.0911697\ttotal: 1m 9s\tremaining: 46.2s\n",
      "1900:\tlearn: 437.3021329\ttotal: 1m 13s\tremaining: 42.2s\n",
      "2000:\tlearn: 435.7063545\ttotal: 1m 17s\tremaining: 38.1s\n",
      "2100:\tlearn: 434.2424683\ttotal: 1m 21s\tremaining: 34.4s\n",
      "2200:\tlearn: 432.8777934\ttotal: 1m 24s\tremaining: 30.4s\n",
      "2300:\tlearn: 431.5510163\ttotal: 1m 28s\tremaining: 26.5s\n",
      "2400:\tlearn: 430.3215613\ttotal: 1m 32s\tremaining: 22.8s\n",
      "2500:\tlearn: 429.1353967\ttotal: 1m 37s\tremaining: 19.1s\n",
      "2600:\tlearn: 428.0287768\ttotal: 1m 41s\tremaining: 15.2s\n",
      "2700:\tlearn: 426.9319282\ttotal: 1m 45s\tremaining: 11.4s\n",
      "2800:\tlearn: 425.8683493\ttotal: 1m 49s\tremaining: 7.44s\n",
      "2900:\tlearn: 424.8665764\ttotal: 1m 53s\tremaining: 3.52s\n"
     ]
    },
    {
     "name": "stderr",
     "output_type": "stream",
     "text": [
      "[I 2023-11-07 08:40:27,874] Trial 7 finished with value: 344.5247501939145 and parameters: {'iterations': 2991, 'learning_rate': 0.0023433930940164713, 'depth': 6, 'min_data_in_leaf': 91, 'l2_leaf_reg': 6, 'bagging_temperature': 0.9718724031521511, 'random_strength': 0.992972598325518, 'border_count': 925, 'rsm': 0.5619908345234254}. Best is trial 3 with value: 338.9995175520411.\n"
     ]
    },
    {
     "name": "stdout",
     "output_type": "stream",
     "text": [
      "2990:\tlearn: 423.9958203\ttotal: 1m 57s\tremaining: 0us\n",
      "0:\tlearn: 1134.7041603\ttotal: 130ms\tremaining: 6m 16s\n",
      "100:\tlearn: 773.5316726\ttotal: 11.6s\tremaining: 5m 21s\n",
      "200:\tlearn: 588.4273822\ttotal: 23.3s\tremaining: 5m 13s\n",
      "300:\tlearn: 498.2087761\ttotal: 35.3s\tremaining: 5m 5s\n",
      "400:\tlearn: 454.4348974\ttotal: 47.2s\tremaining: 4m 54s\n",
      "500:\tlearn: 431.8638551\ttotal: 58.9s\tremaining: 4m 42s\n",
      "600:\tlearn: 418.7371730\ttotal: 1m 10s\tremaining: 4m 29s\n",
      "700:\tlearn: 409.5400503\ttotal: 1m 21s\tremaining: 4m 16s\n",
      "800:\tlearn: 402.3583137\ttotal: 1m 33s\tremaining: 4m 6s\n",
      "900:\tlearn: 395.5198240\ttotal: 1m 45s\tremaining: 3m 54s\n",
      "1000:\tlearn: 389.3650011\ttotal: 1m 56s\tremaining: 3m 41s\n",
      "1100:\tlearn: 383.6358829\ttotal: 2m 7s\tremaining: 3m 29s\n",
      "1200:\tlearn: 378.0011843\ttotal: 2m 18s\tremaining: 3m 16s\n",
      "1300:\tlearn: 372.6693252\ttotal: 2m 30s\tremaining: 3m 5s\n",
      "1400:\tlearn: 367.5359537\ttotal: 2m 42s\tremaining: 2m 53s\n",
      "1500:\tlearn: 362.9340849\ttotal: 2m 52s\tremaining: 2m 41s\n",
      "1600:\tlearn: 358.5838777\ttotal: 3m 3s\tremaining: 2m 29s\n",
      "1700:\tlearn: 354.2178534\ttotal: 3m 14s\tremaining: 2m 17s\n",
      "1800:\tlearn: 349.9147178\ttotal: 3m 25s\tremaining: 2m 5s\n",
      "1900:\tlearn: 345.6778353\ttotal: 3m 36s\tremaining: 1m 54s\n",
      "2000:\tlearn: 341.4852688\ttotal: 3m 47s\tremaining: 1m 42s\n",
      "2100:\tlearn: 337.3369410\ttotal: 3m 59s\tremaining: 1m 31s\n",
      "2200:\tlearn: 333.4226028\ttotal: 4m 10s\tremaining: 1m 19s\n",
      "2300:\tlearn: 329.7727373\ttotal: 4m 21s\tremaining: 1m 8s\n",
      "2400:\tlearn: 325.9414712\ttotal: 4m 31s\tremaining: 57s\n",
      "2500:\tlearn: 322.1981984\ttotal: 4m 43s\tremaining: 45.6s\n",
      "2600:\tlearn: 318.6040128\ttotal: 4m 53s\tremaining: 34.2s\n",
      "2700:\tlearn: 315.3298711\ttotal: 5m 4s\tremaining: 22.9s\n",
      "2800:\tlearn: 311.9218933\ttotal: 5m 14s\tremaining: 11.6s\n",
      "2900:\tlearn: 308.4976005\ttotal: 5m 25s\tremaining: 337ms\n",
      "2903:\tlearn: 308.3816461\ttotal: 5m 26s\tremaining: 0us\n"
     ]
    },
    {
     "name": "stderr",
     "output_type": "stream",
     "text": [
      "[I 2023-11-07 08:45:55,258] Trial 8 finished with value: 333.2921690092815 and parameters: {'iterations': 2904, 'learning_rate': 0.0054287069826593195, 'depth': 10, 'min_data_in_leaf': 19, 'l2_leaf_reg': 3, 'bagging_temperature': 0.7037271556963653, 'random_strength': 0.9260387796406828, 'border_count': 925, 'rsm': 0.6083656246613768}. Best is trial 8 with value: 333.2921690092815.\n"
     ]
    },
    {
     "name": "stdout",
     "output_type": "stream",
     "text": [
      "0:\tlearn: 1138.5507414\ttotal: 62.8ms\tremaining: 1m 46s\n",
      "100:\tlearn: 1040.5152877\ttotal: 7.89s\tremaining: 2m 4s\n",
      "200:\tlearn: 954.7288687\ttotal: 15s\tremaining: 1m 51s\n",
      "300:\tlearn: 879.9717721\ttotal: 22s\tremaining: 1m 42s\n",
      "400:\tlearn: 814.9839974\ttotal: 29s\tremaining: 1m 33s\n",
      "500:\tlearn: 758.7646152\ttotal: 35.8s\tremaining: 1m 25s\n",
      "600:\tlearn: 710.1860132\ttotal: 42.5s\tremaining: 1m 17s\n",
      "700:\tlearn: 668.4704656\ttotal: 49.5s\tremaining: 1m 10s\n",
      "800:\tlearn: 632.6977027\ttotal: 56.5s\tremaining: 1m 3s\n",
      "900:\tlearn: 602.1238350\ttotal: 1m 4s\tremaining: 56.6s\n",
      "1000:\tlearn: 576.0793775\ttotal: 1m 11s\tremaining: 50s\n",
      "1100:\tlearn: 553.9293680\ttotal: 1m 18s\tremaining: 42.6s\n",
      "1200:\tlearn: 535.1029838\ttotal: 1m 25s\tremaining: 35.4s\n",
      "1300:\tlearn: 519.1770135\ttotal: 1m 32s\tremaining: 28.3s\n",
      "1400:\tlearn: 505.6411483\ttotal: 1m 39s\tremaining: 21.1s\n",
      "1500:\tlearn: 494.1167121\ttotal: 1m 46s\tremaining: 13.9s\n",
      "1600:\tlearn: 484.3696389\ttotal: 1m 53s\tremaining: 6.81s\n"
     ]
    },
    {
     "name": "stderr",
     "output_type": "stream",
     "text": [
      "[I 2023-11-07 08:47:56,212] Trial 9 finished with value: 411.23745403457895 and parameters: {'iterations': 1697, 'learning_rate': 0.001173572474951692, 'depth': 8, 'min_data_in_leaf': 8, 'l2_leaf_reg': 8, 'bagging_temperature': 0.35551851212554, 'random_strength': 0.607485736515887, 'border_count': 518, 'rsm': 0.757224562185579}. Best is trial 8 with value: 333.2921690092815.\n"
     ]
    },
    {
     "name": "stdout",
     "output_type": "stream",
     "text": [
      "1696:\tlearn: 476.4179553\ttotal: 2m\tremaining: 0us\n",
      "0:\tlearn: 1136.0805108\ttotal: 18.3ms\tremaining: 8.05s\n",
      "100:\tlearn: 864.0793011\ttotal: 704ms\tremaining: 2.36s\n",
      "200:\tlearn: 701.3539336\ttotal: 1.32s\tremaining: 1.57s\n",
      "300:\tlearn: 608.3292065\ttotal: 1.98s\tremaining: 915ms\n",
      "400:\tlearn: 555.2799836\ttotal: 2.65s\tremaining: 258ms\n"
     ]
    },
    {
     "name": "stderr",
     "output_type": "stream",
     "text": [
      "[I 2023-11-07 08:47:59,454] Trial 10 finished with value: 491.81771027715433 and parameters: {'iterations': 440, 'learning_rate': 0.004456488090771694, 'depth': 2, 'min_data_in_leaf': 3, 'l2_leaf_reg': 2, 'bagging_temperature': 0.7958556998440953, 'random_strength': 0.8002339752902867, 'border_count': 151, 'rsm': 0.9897703295868094}. Best is trial 8 with value: 333.2921690092815.\n"
     ]
    },
    {
     "name": "stdout",
     "output_type": "stream",
     "text": [
      "439:\tlearn: 541.7298066\ttotal: 2.99s\tremaining: 0us\n",
      "0:\tlearn: 1111.1162074\ttotal: 799ms\tremaining: 23m 3s\n",
      "100:\tlearn: 393.7989896\ttotal: 1m\tremaining: 16m 12s\n",
      "200:\tlearn: 332.9538572\ttotal: 2m 1s\tremaining: 15m 22s\n",
      "300:\tlearn: 292.1255790\ttotal: 3m 2s\tremaining: 14m 26s\n",
      "400:\tlearn: 260.1913794\ttotal: 4m 2s\tremaining: 13m 25s\n",
      "500:\tlearn: 232.7871151\ttotal: 5m 2s\tremaining: 12m 23s\n",
      "600:\tlearn: 209.5431591\ttotal: 6m 1s\tremaining: 11m 21s\n",
      "700:\tlearn: 191.4144561\ttotal: 7m\tremaining: 10m 19s\n",
      "800:\tlearn: 175.7809136\ttotal: 7m 58s\tremaining: 9m 17s\n",
      "900:\tlearn: 162.2525339\ttotal: 8m 57s\tremaining: 8m 16s\n",
      "1000:\tlearn: 151.5154348\ttotal: 9m 54s\tremaining: 7m 14s\n",
      "1100:\tlearn: 141.1575495\ttotal: 10m 49s\tremaining: 6m 13s\n",
      "1200:\tlearn: 132.3729942\ttotal: 11m 46s\tremaining: 5m 12s\n",
      "1300:\tlearn: 123.8038156\ttotal: 12m 43s\tremaining: 4m 13s\n",
      "1400:\tlearn: 115.9607757\ttotal: 13m 42s\tremaining: 3m 14s\n",
      "1500:\tlearn: 109.5556028\ttotal: 14m 42s\tremaining: 2m 16s\n",
      "1600:\tlearn: 103.2768423\ttotal: 15m 42s\tremaining: 1m 17s\n",
      "1700:\tlearn: 97.3488666\ttotal: 16m 41s\tremaining: 18.8s\n",
      "1732:\tlearn: 95.3897040\ttotal: 16m 59s\tremaining: 0us\n"
     ]
    },
    {
     "name": "stderr",
     "output_type": "stream",
     "text": [
      "[I 2023-11-07 09:05:02,013] Trial 11 finished with value: 334.01008669385453 and parameters: {'iterations': 1733, 'learning_rate': 0.03169710972068996, 'depth': 13, 'min_data_in_leaf': 27, 'l2_leaf_reg': 4, 'bagging_temperature': 0.7591458408926133, 'random_strength': 0.8169516036458846, 'border_count': 933, 'rsm': 0.414276297974291}. Best is trial 8 with value: 333.2921690092815.\n"
     ]
    },
    {
     "name": "stdout",
     "output_type": "stream",
     "text": [
      "0:\tlearn: 1135.0515626\ttotal: 720ms\tremaining: 12m 44s\n",
      "100:\tlearn: 789.3809074\ttotal: 1m 6s\tremaining: 10m 30s\n",
      "200:\tlearn: 601.6839128\ttotal: 2m 16s\tremaining: 9m 44s\n",
      "300:\tlearn: 502.1120184\ttotal: 3m 28s\tremaining: 8m 47s\n",
      "400:\tlearn: 448.0073895\ttotal: 4m 41s\tremaining: 7m 44s\n",
      "500:\tlearn: 415.9321752\ttotal: 5m 51s\tremaining: 6m 34s\n",
      "600:\tlearn: 395.4036852\ttotal: 7m 2s\tremaining: 5m 24s\n",
      "700:\tlearn: 380.3475922\ttotal: 8m 10s\tremaining: 4m 13s\n",
      "800:\tlearn: 368.5949103\ttotal: 8m 57s\tremaining: 2m 55s\n",
      "900:\tlearn: 358.5084068\ttotal: 9m 46s\tremaining: 1m 45s\n",
      "1000:\tlearn: 349.6042365\ttotal: 10m 33s\tremaining: 39.2s\n",
      "1062:\tlearn: 344.3000316\ttotal: 11m 4s\tremaining: 0us\n"
     ]
    },
    {
     "name": "stderr",
     "output_type": "stream",
     "text": [
      "[I 2023-11-07 09:16:07,957] Trial 12 finished with value: 339.5583073911769 and parameters: {'iterations': 1063, 'learning_rate': 0.005134556983652228, 'depth': 13, 'min_data_in_leaf': 26, 'l2_leaf_reg': 4, 'bagging_temperature': 0.6312504377523555, 'random_strength': 0.7946627195497751, 'border_count': 984, 'rsm': 0.43007935706398}. Best is trial 8 with value: 333.2921690092815.\n"
     ]
    },
    {
     "name": "stdout",
     "output_type": "stream",
     "text": [
      "0:\tlearn: 1105.6071559\ttotal: 117ms\tremaining: 2m 58s\n",
      "100:\tlearn: 400.1569164\ttotal: 10.9s\tremaining: 2m 34s\n",
      "200:\tlearn: 355.0770397\ttotal: 21.7s\tremaining: 2m 23s\n",
      "300:\tlearn: 322.4129706\ttotal: 32.5s\tremaining: 2m 12s\n",
      "400:\tlearn: 294.2172614\ttotal: 43.7s\tremaining: 2m 2s\n",
      "500:\tlearn: 270.1415890\ttotal: 54.8s\tremaining: 1m 52s\n",
      "600:\tlearn: 249.5829151\ttotal: 1m 5s\tremaining: 1m 41s\n",
      "700:\tlearn: 233.1146677\ttotal: 1m 16s\tremaining: 1m 29s\n",
      "800:\tlearn: 217.5312030\ttotal: 1m 27s\tremaining: 1m 18s\n",
      "900:\tlearn: 204.9356086\ttotal: 1m 38s\tremaining: 1m 8s\n",
      "1000:\tlearn: 193.8621881\ttotal: 1m 48s\tremaining: 57s\n",
      "1100:\tlearn: 183.3962528\ttotal: 1m 59s\tremaining: 46.4s\n",
      "1200:\tlearn: 173.6270963\ttotal: 2m 10s\tremaining: 35.5s\n",
      "1300:\tlearn: 163.9872148\ttotal: 2m 20s\tremaining: 24.5s\n",
      "1400:\tlearn: 155.5847883\ttotal: 2m 30s\tremaining: 13.6s\n",
      "1500:\tlearn: 147.4288777\ttotal: 2m 41s\tremaining: 2.9s\n",
      "1527:\tlearn: 145.3033406\ttotal: 2m 43s\tremaining: 0us\n"
     ]
    },
    {
     "name": "stderr",
     "output_type": "stream",
     "text": [
      "[I 2023-11-07 09:18:52,570] Trial 13 finished with value: 337.44969540597646 and parameters: {'iterations': 1528, 'learning_rate': 0.03745949266301225, 'depth': 11, 'min_data_in_leaf': 26, 'l2_leaf_reg': 4, 'bagging_temperature': 0.7815528798233028, 'random_strength': 0.7795191509413998, 'border_count': 838, 'rsm': 0.45045269089997175}. Best is trial 8 with value: 333.2921690092815.\n"
     ]
    },
    {
     "name": "stdout",
     "output_type": "stream",
     "text": [
      "0:\tlearn: 1061.7601600\ttotal: 35.4ms\tremaining: 59.3s\n",
      "100:\tlearn: 366.3980695\ttotal: 3.42s\tremaining: 53.3s\n",
      "200:\tlearn: 307.2716703\ttotal: 6.83s\tremaining: 50.1s\n",
      "300:\tlearn: 269.7038808\ttotal: 10.5s\tremaining: 47.8s\n",
      "400:\tlearn: 240.3120057\ttotal: 14.2s\tremaining: 45s\n",
      "500:\tlearn: 216.1450960\ttotal: 17.5s\tremaining: 40.9s\n",
      "600:\tlearn: 195.6779803\ttotal: 20.7s\tremaining: 37s\n",
      "700:\tlearn: 177.4820131\ttotal: 24.1s\tremaining: 33.4s\n",
      "800:\tlearn: 161.2832633\ttotal: 27.6s\tremaining: 30s\n",
      "900:\tlearn: 148.4287590\ttotal: 30.9s\tremaining: 26.6s\n",
      "1000:\tlearn: 136.9029856\ttotal: 34.2s\tremaining: 23s\n",
      "1100:\tlearn: 126.3198977\ttotal: 37.5s\tremaining: 19.5s\n",
      "1200:\tlearn: 116.3073531\ttotal: 40.9s\tremaining: 16.1s\n",
      "1300:\tlearn: 107.3327098\ttotal: 44.3s\tremaining: 12.7s\n",
      "1400:\tlearn: 100.1606122\ttotal: 47.7s\tremaining: 9.29s\n",
      "1500:\tlearn: 93.1343480\ttotal: 51s\tremaining: 5.88s\n",
      "1600:\tlearn: 86.7340507\ttotal: 54.4s\tremaining: 2.48s\n",
      "1673:\tlearn: 82.5757083\ttotal: 57.2s\tremaining: 0us\n"
     ]
    },
    {
     "name": "stderr",
     "output_type": "stream",
     "text": [
      "[I 2023-11-07 09:19:50,497] Trial 14 finished with value: 346.8149524438643 and parameters: {'iterations': 1674, 'learning_rate': 0.0872512311278103, 'depth': 10, 'min_data_in_leaf': 24, 'l2_leaf_reg': 5, 'bagging_temperature': 0.5338321177092554, 'random_strength': 0.8649077137601888, 'border_count': 263, 'rsm': 0.524542838017241}. Best is trial 8 with value: 333.2921690092815.\n"
     ]
    },
    {
     "name": "stdout",
     "output_type": "stream",
     "text": [
      "0:\tlearn: 1133.2293040\ttotal: 383ms\tremaining: 16m 32s\n",
      "100:\tlearn: 696.1212519\ttotal: 36.7s\tremaining: 15m 5s\n",
      "200:\tlearn: 510.8114095\ttotal: 1m 12s\tremaining: 14m 22s\n",
      "300:\tlearn: 433.6246428\ttotal: 1m 47s\tremaining: 13m 35s\n",
      "400:\tlearn: 396.5608223\ttotal: 2m 25s\tremaining: 13m 14s\n",
      "500:\tlearn: 373.3330439\ttotal: 3m 2s\tremaining: 12m 41s\n",
      "600:\tlearn: 357.8522760\ttotal: 3m 40s\tremaining: 12m 7s\n",
      "700:\tlearn: 344.5150669\ttotal: 4m 16s\tremaining: 11m 31s\n",
      "800:\tlearn: 331.8425451\ttotal: 4m 53s\tremaining: 10m 55s\n",
      "900:\tlearn: 320.2111139\ttotal: 5m 31s\tremaining: 10m 21s\n",
      "1000:\tlearn: 309.5984789\ttotal: 6m 7s\tremaining: 9m 43s\n",
      "1100:\tlearn: 299.8990046\ttotal: 6m 44s\tremaining: 9m 6s\n",
      "1200:\tlearn: 290.7897175\ttotal: 7m 21s\tremaining: 8m 29s\n",
      "1300:\tlearn: 282.3354023\ttotal: 7m 58s\tremaining: 7m 53s\n",
      "1400:\tlearn: 274.1092465\ttotal: 8m 36s\tremaining: 7m 18s\n",
      "1500:\tlearn: 265.9727757\ttotal: 9m 16s\tremaining: 6m 43s\n",
      "1600:\tlearn: 258.3396525\ttotal: 9m 54s\tremaining: 6m 6s\n",
      "1700:\tlearn: 251.7827298\ttotal: 10m 35s\tremaining: 5m 31s\n",
      "1800:\tlearn: 245.2419619\ttotal: 11m 14s\tremaining: 4m 55s\n",
      "1900:\tlearn: 239.0974696\ttotal: 11m 53s\tremaining: 4m 18s\n",
      "2000:\tlearn: 232.6728538\ttotal: 12m 33s\tremaining: 3m 41s\n",
      "2100:\tlearn: 226.2541211\ttotal: 13m 11s\tremaining: 3m 3s\n",
      "2200:\tlearn: 220.6801727\ttotal: 13m 47s\tremaining: 2m 25s\n",
      "2300:\tlearn: 215.0889887\ttotal: 14m 25s\tremaining: 1m 48s\n",
      "2400:\tlearn: 209.5460274\ttotal: 15m 3s\tremaining: 1m 10s\n",
      "2500:\tlearn: 204.2833626\ttotal: 15m 41s\tremaining: 33.1s\n",
      "2588:\tlearn: 199.9296075\ttotal: 16m 12s\tremaining: 0us\n"
     ]
    },
    {
     "name": "stderr",
     "output_type": "stream",
     "text": [
      "[I 2023-11-07 09:36:06,779] Trial 15 finished with value: 331.17272591785036 and parameters: {'iterations': 2589, 'learning_rate': 0.00719084773294356, 'depth': 13, 'min_data_in_leaf': 38, 'l2_leaf_reg': 3, 'bagging_temperature': 0.7114312914531492, 'random_strength': 0.7055474721601007, 'border_count': 844, 'rsm': 0.37620313512607906}. Best is trial 15 with value: 331.17272591785036.\n"
     ]
    },
    {
     "name": "stdout",
     "output_type": "stream",
     "text": [
      "0:\tlearn: 1132.2298171\ttotal: 88.1ms\tremaining: 3m 47s\n",
      "100:\tlearn: 660.5809331\ttotal: 8.99s\tremaining: 3m 40s\n",
      "200:\tlearn: 491.4585530\ttotal: 17.4s\tremaining: 3m 26s\n",
      "300:\tlearn: 432.9152630\ttotal: 26.2s\tremaining: 3m 18s\n",
      "400:\tlearn: 407.9391218\ttotal: 34.8s\tremaining: 3m 9s\n",
      "500:\tlearn: 392.5105354\ttotal: 43.6s\tremaining: 3m 1s\n",
      "600:\tlearn: 380.2403817\ttotal: 52.3s\tremaining: 2m 52s\n",
      "700:\tlearn: 369.3786300\ttotal: 1m 1s\tremaining: 2m 44s\n",
      "800:\tlearn: 359.6616084\ttotal: 1m 10s\tremaining: 2m 35s\n",
      "900:\tlearn: 351.0043769\ttotal: 1m 18s\tremaining: 2m 27s\n",
      "1000:\tlearn: 342.3269042\ttotal: 1m 27s\tremaining: 2m 17s\n",
      "1100:\tlearn: 334.9987765\ttotal: 1m 35s\tremaining: 2m 8s\n",
      "1200:\tlearn: 327.2164966\ttotal: 1m 44s\tremaining: 2m\n",
      "1300:\tlearn: 320.0052621\ttotal: 1m 52s\tremaining: 1m 51s\n",
      "1400:\tlearn: 313.2085858\ttotal: 2m 2s\tremaining: 1m 42s\n",
      "1500:\tlearn: 306.5673437\ttotal: 2m 11s\tremaining: 1m 34s\n",
      "1600:\tlearn: 300.3916462\ttotal: 2m 19s\tremaining: 1m 25s\n",
      "1700:\tlearn: 294.2234117\ttotal: 2m 28s\tremaining: 1m 16s\n",
      "1800:\tlearn: 288.4671163\ttotal: 2m 36s\tremaining: 1m 7s\n",
      "1900:\tlearn: 283.1246931\ttotal: 2m 44s\tremaining: 59.1s\n",
      "2000:\tlearn: 277.3741785\ttotal: 2m 53s\tremaining: 50.4s\n",
      "2100:\tlearn: 271.8295405\ttotal: 3m 2s\tremaining: 41.8s\n",
      "2200:\tlearn: 266.5926536\ttotal: 3m 11s\tremaining: 33.1s\n",
      "2300:\tlearn: 261.4971096\ttotal: 3m 19s\tremaining: 24.4s\n",
      "2400:\tlearn: 256.8412984\ttotal: 3m 28s\tremaining: 15.7s\n",
      "2500:\tlearn: 252.0305495\ttotal: 3m 36s\tremaining: 7.02s\n",
      "2581:\tlearn: 248.4690570\ttotal: 3m 43s\tremaining: 0us\n"
     ]
    },
    {
     "name": "stderr",
     "output_type": "stream",
     "text": [
      "[I 2023-11-07 09:39:52,088] Trial 16 finished with value: 333.28011741175794 and parameters: {'iterations': 2582, 'learning_rate': 0.008193683722565856, 'depth': 11, 'min_data_in_leaf': 39, 'l2_leaf_reg': 3, 'bagging_temperature': 0.5922122954759834, 'random_strength': 0.707715291980143, 'border_count': 807, 'rsm': 0.3587613854573648}. Best is trial 15 with value: 331.17272591785036.\n"
     ]
    },
    {
     "name": "stdout",
     "output_type": "stream",
     "text": [
      "0:\tlearn: 1132.3283421\ttotal: 106ms\tremaining: 4m 40s\n",
      "100:\tlearn: 655.2906268\ttotal: 8.36s\tremaining: 3m 31s\n",
      "200:\tlearn: 488.3675421\ttotal: 17s\tremaining: 3m 27s\n",
      "300:\tlearn: 430.8795930\ttotal: 25.4s\tremaining: 3m 18s\n",
      "400:\tlearn: 405.6804754\ttotal: 33.6s\tremaining: 3m 8s\n",
      "500:\tlearn: 391.0222370\ttotal: 41.8s\tremaining: 2m 59s\n",
      "600:\tlearn: 379.1098457\ttotal: 49.8s\tremaining: 2m 50s\n",
      "700:\tlearn: 367.8030507\ttotal: 57.9s\tremaining: 2m 41s\n",
      "800:\tlearn: 357.9155741\ttotal: 1m 5s\tremaining: 2m 32s\n",
      "900:\tlearn: 349.3682356\ttotal: 1m 14s\tremaining: 2m 24s\n",
      "1000:\tlearn: 340.6662256\ttotal: 1m 22s\tremaining: 2m 16s\n",
      "1100:\tlearn: 332.9753898\ttotal: 1m 30s\tremaining: 2m 8s\n",
      "1200:\tlearn: 324.9117238\ttotal: 1m 39s\tremaining: 2m\n",
      "1300:\tlearn: 317.2750999\ttotal: 1m 47s\tremaining: 1m 51s\n",
      "1400:\tlearn: 310.5530785\ttotal: 1m 55s\tremaining: 1m 43s\n",
      "1500:\tlearn: 304.0910091\ttotal: 2m 3s\tremaining: 1m 34s\n",
      "1600:\tlearn: 297.7961885\ttotal: 2m 11s\tremaining: 1m 26s\n",
      "1700:\tlearn: 291.7620267\ttotal: 2m 20s\tremaining: 1m 18s\n",
      "1800:\tlearn: 286.0284210\ttotal: 2m 28s\tremaining: 1m 10s\n",
      "1900:\tlearn: 279.8721783\ttotal: 2m 36s\tremaining: 1m 2s\n",
      "2000:\tlearn: 274.2648963\ttotal: 2m 44s\tremaining: 53.8s\n",
      "2100:\tlearn: 268.9638487\ttotal: 2m 53s\tremaining: 45.7s\n",
      "2200:\tlearn: 263.7275470\ttotal: 3m 1s\tremaining: 37.5s\n",
      "2300:\tlearn: 258.9491301\ttotal: 3m 11s\tremaining: 29.4s\n",
      "2400:\tlearn: 254.2719055\ttotal: 3m 20s\tremaining: 21.2s\n",
      "2500:\tlearn: 249.5150141\ttotal: 3m 29s\tremaining: 12.9s\n",
      "2600:\tlearn: 244.9165789\ttotal: 3m 38s\tremaining: 4.54s\n",
      "2654:\tlearn: 242.5502090\ttotal: 3m 43s\tremaining: 0us\n"
     ]
    },
    {
     "name": "stderr",
     "output_type": "stream",
     "text": [
      "[I 2023-11-07 09:43:36,704] Trial 17 finished with value: 331.83935999870556 and parameters: {'iterations': 2655, 'learning_rate': 0.008365200588622375, 'depth': 11, 'min_data_in_leaf': 41, 'l2_leaf_reg': 3, 'bagging_temperature': 0.5713944786445976, 'random_strength': 0.7064976681296388, 'border_count': 790, 'rsm': 0.3412647400463948}. Best is trial 15 with value: 331.17272591785036.\n"
     ]
    },
    {
     "name": "stdout",
     "output_type": "stream",
     "text": [
      "0:\tlearn: 1136.8663290\ttotal: 3.88ms\tremaining: 10.1s\n",
      "100:\tlearn: 923.8238914\ttotal: 336ms\tremaining: 8.32s\n",
      "200:\tlearn: 778.5727234\ttotal: 779ms\tremaining: 9.31s\n",
      "300:\tlearn: 681.7212184\ttotal: 1.09s\tremaining: 8.38s\n",
      "400:\tlearn: 616.9098661\ttotal: 1.45s\tremaining: 7.99s\n",
      "500:\tlearn: 574.5804348\ttotal: 1.87s\tremaining: 7.85s\n",
      "600:\tlearn: 546.4454769\ttotal: 2.23s\tremaining: 7.42s\n",
      "700:\tlearn: 528.2501826\ttotal: 2.57s\tremaining: 6.99s\n",
      "800:\tlearn: 515.5732513\ttotal: 2.94s\tremaining: 6.62s\n",
      "900:\tlearn: 506.1473328\ttotal: 3.29s\tremaining: 6.22s\n",
      "1000:\tlearn: 499.4987859\ttotal: 3.68s\tremaining: 5.9s\n",
      "1100:\tlearn: 493.5374805\ttotal: 4.07s\tremaining: 5.55s\n",
      "1200:\tlearn: 488.8618303\ttotal: 4.43s\tremaining: 5.18s\n",
      "1300:\tlearn: 485.2092749\ttotal: 4.82s\tremaining: 4.83s\n",
      "1400:\tlearn: 482.1446594\ttotal: 5.17s\tremaining: 4.44s\n",
      "1500:\tlearn: 479.7261205\ttotal: 5.51s\tremaining: 4.05s\n",
      "1600:\tlearn: 477.6127805\ttotal: 5.89s\tremaining: 3.69s\n",
      "1700:\tlearn: 475.6785932\ttotal: 6.26s\tremaining: 3.32s\n",
      "1800:\tlearn: 474.0862987\ttotal: 6.61s\tremaining: 2.95s\n",
      "1900:\tlearn: 472.6940192\ttotal: 6.98s\tremaining: 2.58s\n",
      "2000:\tlearn: 471.4003785\ttotal: 7.33s\tremaining: 2.21s\n",
      "2100:\tlearn: 470.0957666\ttotal: 7.68s\tremaining: 1.84s\n",
      "2200:\tlearn: 468.8859424\ttotal: 8.01s\tremaining: 1.47s\n",
      "2300:\tlearn: 467.7900091\ttotal: 8.37s\tremaining: 1.1s\n",
      "2400:\tlearn: 466.7955208\ttotal: 8.77s\tremaining: 741ms\n",
      "2500:\tlearn: 465.8175349\ttotal: 9.14s\tremaining: 376ms\n"
     ]
    },
    {
     "name": "stderr",
     "output_type": "stream",
     "text": [
      "[I 2023-11-07 09:43:46,616] Trial 18 finished with value: 378.9731366912924 and parameters: {'iterations': 2604, 'learning_rate': 0.0034688725606344998, 'depth': 2, 'min_data_in_leaf': 75, 'l2_leaf_reg': 6, 'bagging_temperature': 0.30817619356532905, 'random_strength': 0.6719563845978078, 'border_count': 799, 'rsm': 0.3331118244765455}. Best is trial 15 with value: 331.17272591785036.\n"
     ]
    },
    {
     "name": "stdout",
     "output_type": "stream",
     "text": [
      "2600:\tlearn: 464.9004711\ttotal: 9.43s\tremaining: 10.9ms\n",
      "2603:\tlearn: 464.8765141\ttotal: 9.44s\tremaining: 0us\n",
      "0:\tlearn: 1132.9301866\ttotal: 25.7ms\tremaining: 50.2s\n",
      "100:\tlearn: 684.8667014\ttotal: 2.49s\tremaining: 45.7s\n",
      "200:\tlearn: 511.9777872\ttotal: 5.03s\tremaining: 43.9s\n",
      "300:\tlearn: 448.6721341\ttotal: 7.5s\tremaining: 41.2s\n",
      "400:\tlearn: 422.2475654\ttotal: 10.1s\tremaining: 39.1s\n",
      "500:\tlearn: 407.6636352\ttotal: 12.6s\tremaining: 36.5s\n",
      "600:\tlearn: 397.3411577\ttotal: 15.4s\tremaining: 34.8s\n",
      "700:\tlearn: 388.7419855\ttotal: 18.4s\tremaining: 32.9s\n",
      "800:\tlearn: 380.5989181\ttotal: 21s\tremaining: 30.2s\n",
      "900:\tlearn: 372.8979344\ttotal: 23.7s\tremaining: 27.7s\n",
      "1000:\tlearn: 366.0748928\ttotal: 26.2s\tremaining: 24.9s\n",
      "1100:\tlearn: 359.1604414\ttotal: 28.8s\tremaining: 22.3s\n",
      "1200:\tlearn: 352.6905018\ttotal: 31.3s\tremaining: 19.6s\n",
      "1300:\tlearn: 346.6247777\ttotal: 33.8s\tremaining: 17s\n",
      "1400:\tlearn: 340.6946666\ttotal: 36.4s\tremaining: 14.4s\n",
      "1500:\tlearn: 334.8887334\ttotal: 39s\tremaining: 11.8s\n",
      "1600:\tlearn: 329.1978958\ttotal: 41.5s\tremaining: 9.17s\n",
      "1700:\tlearn: 323.7048047\ttotal: 44s\tremaining: 6.58s\n",
      "1800:\tlearn: 318.3857876\ttotal: 46.5s\tremaining: 3.98s\n",
      "1900:\tlearn: 313.0863899\ttotal: 49.1s\tremaining: 1.39s\n",
      "1954:\tlearn: 310.3631458\ttotal: 50.5s\tremaining: 0us\n"
     ]
    },
    {
     "name": "stderr",
     "output_type": "stream",
     "text": [
      "[I 2023-11-07 09:44:37,848] Trial 19 finished with value: 334.90925063103475 and parameters: {'iterations': 1955, 'learning_rate': 0.007575659693471131, 'depth': 10, 'min_data_in_leaf': 69, 'l2_leaf_reg': 2, 'bagging_temperature': 0.5862158266933347, 'random_strength': 0.5617083719842705, 'border_count': 341, 'rsm': 0.17628559656678286}. Best is trial 15 with value: 331.17272591785036.\n"
     ]
    },
    {
     "name": "stdout",
     "output_type": "stream",
     "text": [
      "0:\tlearn: 1124.5473136\ttotal: 45.3ms\tremaining: 56.8s\n",
      "100:\tlearn: 482.4832816\ttotal: 3.51s\tremaining: 40.1s\n",
      "200:\tlearn: 393.7332087\ttotal: 6.43s\tremaining: 33.7s\n",
      "300:\tlearn: 361.7376238\ttotal: 9.38s\tremaining: 29.7s\n",
      "400:\tlearn: 338.8372196\ttotal: 12.2s\tremaining: 26s\n",
      "500:\tlearn: 317.9766492\ttotal: 15.3s\tremaining: 23s\n",
      "600:\tlearn: 297.7850507\ttotal: 18.2s\tremaining: 19.9s\n",
      "700:\tlearn: 278.9021557\ttotal: 21.2s\tremaining: 16.8s\n",
      "800:\tlearn: 261.6990825\ttotal: 24.5s\tremaining: 13.9s\n",
      "900:\tlearn: 246.4691936\ttotal: 27.9s\tremaining: 10.9s\n",
      "1000:\tlearn: 232.4432369\ttotal: 30.9s\tremaining: 7.84s\n",
      "1100:\tlearn: 219.5737230\ttotal: 34.3s\tremaining: 4.79s\n",
      "1200:\tlearn: 208.5322270\ttotal: 37.8s\tremaining: 1.7s\n",
      "1254:\tlearn: 202.6790392\ttotal: 39.6s\tremaining: 0us\n"
     ]
    },
    {
     "name": "stderr",
     "output_type": "stream",
     "text": [
      "[I 2023-11-07 09:45:18,508] Trial 20 finished with value: 331.50045990337395 and parameters: {'iterations': 1255, 'learning_rate': 0.01665977613518758, 'depth': 12, 'min_data_in_leaf': 36, 'l2_leaf_reg': 3, 'bagging_temperature': 0.5220755037263727, 'random_strength': 0.7123307293519111, 'border_count': 53, 'rsm': 0.3308870317634689}. Best is trial 15 with value: 331.17272591785036.\n"
     ]
    },
    {
     "name": "stdout",
     "output_type": "stream",
     "text": [
      "0:\tlearn: 1127.1608268\ttotal: 45.3ms\tremaining: 51.7s\n",
      "100:\tlearn: 517.8224166\ttotal: 3.7s\tremaining: 38.2s\n",
      "200:\tlearn: 409.5755883\ttotal: 7.65s\tremaining: 35.8s\n",
      "300:\tlearn: 375.6453592\ttotal: 11.3s\tremaining: 31.7s\n",
      "400:\tlearn: 352.9367959\ttotal: 14.9s\tremaining: 27.5s\n",
      "500:\tlearn: 332.7489430\ttotal: 18.5s\tremaining: 23.7s\n",
      "600:\tlearn: 314.4725257\ttotal: 22.1s\tremaining: 19.9s\n",
      "700:\tlearn: 297.6413575\ttotal: 25.7s\tremaining: 16.2s\n",
      "800:\tlearn: 281.9772105\ttotal: 29.2s\tremaining: 12.5s\n",
      "900:\tlearn: 266.3386703\ttotal: 32.9s\tremaining: 8.85s\n",
      "1000:\tlearn: 252.6206809\ttotal: 36.6s\tremaining: 5.2s\n",
      "1100:\tlearn: 240.0390078\ttotal: 40.3s\tremaining: 1.54s\n",
      "1142:\tlearn: 234.8776456\ttotal: 41.8s\tremaining: 0us\n"
     ]
    },
    {
     "name": "stderr",
     "output_type": "stream",
     "text": [
      "[I 2023-11-07 09:46:01,235] Trial 21 finished with value: 333.3557506260938 and parameters: {'iterations': 1143, 'learning_rate': 0.014126204633897478, 'depth': 12, 'min_data_in_leaf': 38, 'l2_leaf_reg': 3, 'bagging_temperature': 0.5279184241823576, 'random_strength': 0.7213791132153834, 'border_count': 60, 'rsm': 0.3403811194277557}. Best is trial 15 with value: 331.17272591785036.\n"
     ]
    },
    {
     "name": "stdout",
     "output_type": "stream",
     "text": [
      "0:\tlearn: 1129.8210665\ttotal: 99.8ms\tremaining: 2m 19s\n",
      "100:\tlearn: 586.7031343\ttotal: 11s\tremaining: 2m 21s\n",
      "200:\tlearn: 443.8452887\ttotal: 21.7s\tremaining: 2m 8s\n",
      "300:\tlearn: 396.9947929\ttotal: 32.7s\tremaining: 1m 58s\n",
      "400:\tlearn: 373.2829528\ttotal: 43.4s\tremaining: 1m 47s\n",
      "500:\tlearn: 356.0753730\ttotal: 54.2s\tremaining: 1m 36s\n",
      "600:\tlearn: 340.8043990\ttotal: 1m 4s\tremaining: 1m 25s\n",
      "700:\tlearn: 327.3366852\ttotal: 1m 15s\tremaining: 1m 15s\n",
      "800:\tlearn: 314.9202586\ttotal: 1m 26s\tremaining: 1m 3s\n",
      "900:\tlearn: 303.2140219\ttotal: 1m 36s\tremaining: 53.1s\n",
      "1000:\tlearn: 291.7785915\ttotal: 1m 47s\tremaining: 42.3s\n",
      "1100:\tlearn: 281.1204252\ttotal: 1m 58s\tremaining: 31.5s\n",
      "1200:\tlearn: 270.6049122\ttotal: 2m 9s\tremaining: 20.9s\n",
      "1300:\tlearn: 260.8399171\ttotal: 2m 20s\tremaining: 10.1s\n",
      "1394:\tlearn: 252.6315795\ttotal: 2m 30s\tremaining: 0us\n"
     ]
    },
    {
     "name": "stderr",
     "output_type": "stream",
     "text": [
      "[I 2023-11-07 09:48:33,637] Trial 22 finished with value: 333.81583168464834 and parameters: {'iterations': 1395, 'learning_rate': 0.011041673696548548, 'depth': 13, 'min_data_in_leaf': 38, 'l2_leaf_reg': 5, 'bagging_temperature': 0.45072757087975956, 'random_strength': 0.7276487719648818, 'border_count': 330, 'rsm': 0.174336576515852}. Best is trial 15 with value: 331.17272591785036.\n"
     ]
    },
    {
     "name": "stdout",
     "output_type": "stream",
     "text": [
      "0:\tlearn: 1121.6157445\ttotal: 21.3ms\tremaining: 24.2s\n",
      "100:\tlearn: 454.8002806\ttotal: 2.31s\tremaining: 23.7s\n",
      "200:\tlearn: 391.1138081\ttotal: 4.55s\tremaining: 21.2s\n",
      "300:\tlearn: 361.6501127\ttotal: 6.91s\tremaining: 19.2s\n",
      "400:\tlearn: 336.3681503\ttotal: 9.3s\tremaining: 17.1s\n",
      "500:\tlearn: 314.8857863\ttotal: 11.6s\tremaining: 14.7s\n",
      "600:\tlearn: 294.8199535\ttotal: 13.9s\tremaining: 12.5s\n",
      "700:\tlearn: 277.5035893\ttotal: 16.2s\tremaining: 10.1s\n",
      "800:\tlearn: 262.4458146\ttotal: 18.6s\tremaining: 7.82s\n",
      "900:\tlearn: 248.1968798\ttotal: 20.9s\tremaining: 5.49s\n",
      "1000:\tlearn: 236.0258633\ttotal: 23.1s\tremaining: 3.17s\n",
      "1100:\tlearn: 224.3935308\ttotal: 25.6s\tremaining: 861ms\n",
      "1137:\tlearn: 219.9175452\ttotal: 26.5s\tremaining: 0us\n"
     ]
    },
    {
     "name": "stderr",
     "output_type": "stream",
     "text": [
      "[I 2023-11-07 09:49:00,733] Trial 23 finished with value: 335.77915953371 and parameters: {'iterations': 1138, 'learning_rate': 0.020150122918467954, 'depth': 11, 'min_data_in_leaf': 13, 'l2_leaf_reg': 3, 'bagging_temperature': 0.6956337975942282, 'random_strength': 0.627348078512336, 'border_count': 41, 'rsm': 0.4881935235138238}. Best is trial 15 with value: 331.17272591785036.\n"
     ]
    },
    {
     "name": "stdout",
     "output_type": "stream",
     "text": [
      "0:\tlearn: 1133.1953777\ttotal: 131ms\tremaining: 5m 34s\n",
      "100:\tlearn: 703.7162101\ttotal: 15.2s\tremaining: 6m 8s\n",
      "200:\tlearn: 522.2463909\ttotal: 29.1s\tremaining: 5m 40s\n",
      "300:\tlearn: 448.2059824\ttotal: 43.4s\tremaining: 5m 23s\n",
      "400:\tlearn: 414.1746647\ttotal: 57.5s\tremaining: 5m 8s\n",
      "500:\tlearn: 395.0072960\ttotal: 1m 13s\tremaining: 4m 59s\n",
      "600:\tlearn: 382.2690470\ttotal: 1m 27s\tremaining: 4m 44s\n",
      "700:\tlearn: 371.2272340\ttotal: 1m 42s\tremaining: 4m 30s\n",
      "800:\tlearn: 361.2263603\ttotal: 1m 57s\tremaining: 4m 15s\n",
      "900:\tlearn: 352.1800251\ttotal: 2m 12s\tremaining: 4m 2s\n",
      "1000:\tlearn: 343.9077547\ttotal: 2m 27s\tremaining: 3m 47s\n",
      "1100:\tlearn: 336.0830097\ttotal: 2m 41s\tremaining: 3m 32s\n",
      "1200:\tlearn: 328.5302671\ttotal: 2m 56s\tremaining: 3m 17s\n",
      "1300:\tlearn: 321.6753163\ttotal: 3m 11s\tremaining: 3m 3s\n",
      "1400:\tlearn: 315.1041142\ttotal: 3m 25s\tremaining: 2m 48s\n",
      "1500:\tlearn: 308.9054288\ttotal: 3m 40s\tremaining: 2m 34s\n",
      "1600:\tlearn: 302.9696647\ttotal: 3m 54s\tremaining: 2m 18s\n",
      "1700:\tlearn: 297.1334078\ttotal: 4m 10s\tremaining: 2m 4s\n",
      "1800:\tlearn: 291.4142110\ttotal: 4m 24s\tremaining: 1m 50s\n",
      "1900:\tlearn: 285.8872835\ttotal: 4m 40s\tremaining: 1m 35s\n",
      "2000:\tlearn: 280.3347413\ttotal: 4m 55s\tremaining: 1m 20s\n",
      "2100:\tlearn: 275.2930308\ttotal: 5m 10s\tremaining: 1m 6s\n",
      "2200:\tlearn: 270.1118962\ttotal: 5m 25s\tremaining: 51.5s\n",
      "2300:\tlearn: 265.2190976\ttotal: 5m 40s\tremaining: 36.7s\n",
      "2400:\tlearn: 260.3235517\ttotal: 5m 55s\tremaining: 21.9s\n",
      "2500:\tlearn: 255.9328110\ttotal: 6m 11s\tremaining: 7.12s\n",
      "2548:\tlearn: 253.8100617\ttotal: 6m 18s\tremaining: 0us\n"
     ]
    },
    {
     "name": "stderr",
     "output_type": "stream",
     "text": [
      "[I 2023-11-07 09:55:21,134] Trial 24 finished with value: 332.43041842226563 and parameters: {'iterations': 2549, 'learning_rate': 0.007106244616277156, 'depth': 12, 'min_data_in_leaf': 34, 'l2_leaf_reg': 5, 'bagging_temperature': 0.5815536632010379, 'random_strength': 0.6702388074956256, 'border_count': 705, 'rsm': 0.3828485570094059}. Best is trial 15 with value: 331.17272591785036.\n"
     ]
    },
    {
     "name": "stdout",
     "output_type": "stream",
     "text": [
      "0:\tlearn: 1130.5579102\ttotal: 61.1ms\tremaining: 2m 5s\n",
      "100:\tlearn: 609.6793247\ttotal: 5.62s\tremaining: 1m 48s\n",
      "200:\tlearn: 470.2555140\ttotal: 11.2s\tremaining: 1m 42s\n",
      "300:\tlearn: 431.2600047\ttotal: 16.9s\tremaining: 1m 38s\n",
      "400:\tlearn: 414.7906693\ttotal: 22.8s\tremaining: 1m 33s\n",
      "500:\tlearn: 403.8481614\ttotal: 28.2s\tremaining: 1m 27s\n",
      "600:\tlearn: 394.5705798\ttotal: 33.3s\tremaining: 1m 20s\n",
      "700:\tlearn: 386.0089100\ttotal: 38.3s\tremaining: 1m 13s\n",
      "800:\tlearn: 378.3006496\ttotal: 43.7s\tremaining: 1m 8s\n",
      "900:\tlearn: 371.2153382\ttotal: 48.9s\tremaining: 1m 2s\n",
      "1000:\tlearn: 364.6432311\ttotal: 54s\tremaining: 56.5s\n",
      "1100:\tlearn: 357.4122561\ttotal: 58.9s\tremaining: 50.8s\n",
      "1200:\tlearn: 351.3868944\ttotal: 1m 3s\tremaining: 45.1s\n",
      "1300:\tlearn: 345.2134397\ttotal: 1m 8s\tremaining: 39.5s\n",
      "1400:\tlearn: 339.4627554\ttotal: 1m 13s\tremaining: 34.1s\n",
      "1500:\tlearn: 333.9161787\ttotal: 1m 18s\tremaining: 28.8s\n",
      "1600:\tlearn: 328.5370164\ttotal: 1m 23s\tremaining: 23.5s\n",
      "1700:\tlearn: 322.9554433\ttotal: 1m 28s\tremaining: 18.2s\n",
      "1800:\tlearn: 317.7594639\ttotal: 1m 34s\tremaining: 13s\n",
      "1900:\tlearn: 312.6248020\ttotal: 1m 39s\tremaining: 7.82s\n",
      "2000:\tlearn: 307.7528038\ttotal: 1m 45s\tremaining: 2.59s\n",
      "2049:\tlearn: 305.4337982\ttotal: 1m 48s\tremaining: 0us\n"
     ]
    },
    {
     "name": "stderr",
     "output_type": "stream",
     "text": [
      "[I 2023-11-07 09:57:10,234] Trial 25 finished with value: 335.07693075579965 and parameters: {'iterations': 2050, 'learning_rate': 0.010046884840536466, 'depth': 9, 'min_data_in_leaf': 62, 'l2_leaf_reg': 2, 'bagging_temperature': 0.5570979852512441, 'random_strength': 0.7454202378802859, 'border_count': 850, 'rsm': 0.30393198618355494}. Best is trial 15 with value: 331.17272591785036.\n"
     ]
    },
    {
     "name": "stdout",
     "output_type": "stream",
     "text": [
      "0:\tlearn: 1133.9997336\ttotal: 102ms\tremaining: 1m 20s\n",
      "100:\tlearn: 735.3089083\ttotal: 10.5s\tremaining: 1m 11s\n",
      "200:\tlearn: 546.4697785\ttotal: 20.9s\tremaining: 1m 1s\n",
      "300:\tlearn: 457.9420687\ttotal: 31.3s\tremaining: 50.7s\n",
      "400:\tlearn: 413.3204955\ttotal: 41.8s\tremaining: 40.5s\n",
      "500:\tlearn: 386.7689301\ttotal: 52.3s\tremaining: 30.1s\n",
      "600:\tlearn: 369.1351044\ttotal: 1m 3s\tremaining: 19.7s\n",
      "700:\tlearn: 355.6152482\ttotal: 1m 13s\tremaining: 9.21s\n",
      "788:\tlearn: 345.2072698\ttotal: 1m 22s\tremaining: 0us\n"
     ]
    },
    {
     "name": "stderr",
     "output_type": "stream",
     "text": [
      "[I 2023-11-07 09:58:33,708] Trial 26 finished with value: 338.45154519744096 and parameters: {'iterations': 789, 'learning_rate': 0.006260669883803964, 'depth': 13, 'min_data_in_leaf': 44, 'l2_leaf_reg': 3, 'bagging_temperature': 0.48365564490488167, 'random_strength': 0.8539787492228548, 'border_count': 136, 'rsm': 0.43835018484416066}. Best is trial 15 with value: 331.17272591785036.\n"
     ]
    },
    {
     "name": "stdout",
     "output_type": "stream",
     "text": [
      "0:\tlearn: 1128.3539031\ttotal: 159ms\tremaining: 7m 13s\n",
      "100:\tlearn: 553.2469901\ttotal: 11.8s\tremaining: 5m 5s\n",
      "200:\tlearn: 431.1520519\ttotal: 23.6s\tremaining: 4m 55s\n",
      "300:\tlearn: 395.1127978\ttotal: 36s\tremaining: 4m 49s\n",
      "400:\tlearn: 375.1970849\ttotal: 47.7s\tremaining: 4m 35s\n",
      "500:\tlearn: 358.3816337\ttotal: 59.6s\tremaining: 4m 24s\n",
      "600:\tlearn: 343.5789877\ttotal: 1m 11s\tremaining: 4m 11s\n",
      "700:\tlearn: 330.5681736\ttotal: 1m 23s\tremaining: 3m 59s\n",
      "800:\tlearn: 318.7767430\ttotal: 1m 35s\tremaining: 3m 48s\n",
      "900:\tlearn: 306.6850747\ttotal: 1m 46s\tremaining: 3m 35s\n",
      "1000:\tlearn: 296.7055174\ttotal: 1m 58s\tremaining: 3m 23s\n",
      "1100:\tlearn: 287.1525462\ttotal: 2m 9s\tremaining: 3m 10s\n",
      "1200:\tlearn: 277.8815762\ttotal: 2m 20s\tremaining: 2m 58s\n",
      "1300:\tlearn: 269.4109983\ttotal: 2m 32s\tremaining: 2m 46s\n",
      "1400:\tlearn: 260.9224162\ttotal: 2m 44s\tremaining: 2m 34s\n",
      "1500:\tlearn: 252.9536109\ttotal: 2m 55s\tremaining: 2m 22s\n",
      "1600:\tlearn: 245.7217219\ttotal: 3m 6s\tremaining: 2m 10s\n",
      "1700:\tlearn: 238.8273633\ttotal: 3m 18s\tremaining: 1m 59s\n",
      "1800:\tlearn: 232.2178310\ttotal: 3m 31s\tremaining: 1m 47s\n",
      "1900:\tlearn: 226.0226097\ttotal: 3m 42s\tremaining: 1m 35s\n",
      "2000:\tlearn: 220.4946662\ttotal: 3m 53s\tremaining: 1m 24s\n",
      "2100:\tlearn: 215.3438006\ttotal: 4m 5s\tremaining: 1m 12s\n",
      "2200:\tlearn: 210.3390033\ttotal: 4m 16s\tremaining: 1m\n",
      "2300:\tlearn: 205.5226780\ttotal: 4m 28s\tremaining: 48.9s\n",
      "2400:\tlearn: 201.3476964\ttotal: 4m 39s\tremaining: 37.1s\n",
      "2500:\tlearn: 197.0943749\ttotal: 4m 49s\tremaining: 25.4s\n",
      "2600:\tlearn: 192.8503571\ttotal: 5m 1s\tremaining: 13.8s\n",
      "2700:\tlearn: 188.5888694\ttotal: 5m 13s\tremaining: 2.2s\n",
      "2719:\tlearn: 187.6344417\ttotal: 5m 15s\tremaining: 0us\n"
     ]
    },
    {
     "name": "stderr",
     "output_type": "stream",
     "text": [
      "[I 2023-11-07 10:03:51,463] Trial 27 finished with value: 333.68279447155214 and parameters: {'iterations': 2720, 'learning_rate': 0.012486000311259137, 'depth': 12, 'min_data_in_leaf': 31, 'l2_leaf_reg': 5, 'bagging_temperature': 0.6139493133723493, 'random_strength': 0.7594862132501179, 'border_count': 612, 'rsm': 0.30639800064696754}. Best is trial 15 with value: 331.17272591785036.\n"
     ]
    },
    {
     "name": "stdout",
     "output_type": "stream",
     "text": [
      "0:\tlearn: 1136.2387479\ttotal: 137ms\tremaining: 4m 24s\n",
      "100:\tlearn: 865.0134111\ttotal: 11s\tremaining: 3m 18s\n",
      "200:\tlearn: 690.0396210\ttotal: 22s\tremaining: 3m 9s\n",
      "300:\tlearn: 580.3719103\ttotal: 32.6s\tremaining: 2m 56s\n",
      "400:\tlearn: 512.8675233\ttotal: 42.9s\tremaining: 2m 43s\n",
      "500:\tlearn: 471.4451636\ttotal: 53.2s\tremaining: 2m 31s\n",
      "600:\tlearn: 445.6702410\ttotal: 1m 3s\tremaining: 2m 20s\n",
      "700:\tlearn: 428.7294079\ttotal: 1m 14s\tremaining: 2m 10s\n",
      "800:\tlearn: 416.8581357\ttotal: 1m 24s\tremaining: 1m 59s\n",
      "900:\tlearn: 408.3330322\ttotal: 1m 34s\tremaining: 1m 48s\n",
      "1000:\tlearn: 401.0524381\ttotal: 1m 45s\tremaining: 1m 37s\n",
      "1100:\tlearn: 395.0758411\ttotal: 1m 56s\tremaining: 1m 28s\n",
      "1200:\tlearn: 389.3255406\ttotal: 2m 8s\tremaining: 1m 18s\n",
      "1300:\tlearn: 384.0561585\ttotal: 2m 21s\tremaining: 1m 8s\n",
      "1400:\tlearn: 379.0012816\ttotal: 2m 32s\tremaining: 57.7s\n",
      "1500:\tlearn: 374.2129046\ttotal: 2m 44s\tremaining: 47s\n",
      "1600:\tlearn: 369.8240701\ttotal: 2m 55s\tremaining: 36.2s\n",
      "1700:\tlearn: 365.5272339\ttotal: 3m 7s\tremaining: 25.4s\n",
      "1800:\tlearn: 361.5654670\ttotal: 3m 19s\tremaining: 14.4s\n",
      "1900:\tlearn: 357.6913014\ttotal: 3m 31s\tremaining: 3.34s\n",
      "1930:\tlearn: 356.5180479\ttotal: 3m 34s\tremaining: 0us\n"
     ]
    },
    {
     "name": "stderr",
     "output_type": "stream",
     "text": [
      "[I 2023-11-07 10:07:27,367] Trial 28 finished with value: 335.40131321786754 and parameters: {'iterations': 1931, 'learning_rate': 0.003715856312203943, 'depth': 11, 'min_data_in_leaf': 17, 'l2_leaf_reg': 4, 'bagging_temperature': 0.6721786412439116, 'random_strength': 0.6939280976945659, 'border_count': 751, 'rsm': 0.4856682832663085}. Best is trial 15 with value: 331.17272591785036.\n"
     ]
    },
    {
     "name": "stdout",
     "output_type": "stream",
     "text": [
      "0:\tlearn: 1125.4996098\ttotal: 43ms\tremaining: 55.8s\n",
      "100:\tlearn: 504.8580278\ttotal: 5.91s\tremaining: 1m 10s\n",
      "200:\tlearn: 425.9741644\ttotal: 11.7s\tremaining: 1m 3s\n",
      "300:\tlearn: 404.3658825\ttotal: 17.5s\tremaining: 57.8s\n",
      "400:\tlearn: 389.0671429\ttotal: 23.3s\tremaining: 52.2s\n",
      "500:\tlearn: 376.3169540\ttotal: 28.7s\tremaining: 45.7s\n",
      "600:\tlearn: 364.9626602\ttotal: 34.6s\tremaining: 40.1s\n",
      "700:\tlearn: 354.6904009\ttotal: 40.7s\tremaining: 34.7s\n",
      "800:\tlearn: 344.6459071\ttotal: 46.2s\tremaining: 28.6s\n",
      "900:\tlearn: 335.3178446\ttotal: 51.6s\tremaining: 22.7s\n",
      "1000:\tlearn: 326.3929043\ttotal: 57.1s\tremaining: 16.9s\n",
      "1100:\tlearn: 317.7461963\ttotal: 1m 2s\tremaining: 11.2s\n",
      "1200:\tlearn: 309.8705738\ttotal: 1m 8s\tremaining: 5.52s\n"
     ]
    },
    {
     "name": "stderr",
     "output_type": "stream",
     "text": [
      "[I 2023-11-07 10:08:41,780] Trial 29 finished with value: 337.42699926024557 and parameters: {'iterations': 1298, 'learning_rate': 0.01560472517753594, 'depth': 9, 'min_data_in_leaf': 47, 'l2_leaf_reg': 2, 'bagging_temperature': 0.5531526416883447, 'random_strength': 0.5732653665712236, 'border_count': 395, 'rsm': 0.3696836787231539}. Best is trial 15 with value: 331.17272591785036.\n"
     ]
    },
    {
     "name": "stdout",
     "output_type": "stream",
     "text": [
      "300:\tlearn: 462.0800833\ttotal: 44.5s\tremaining: 5m 56s\n",
      "400:\tlearn: 424.1660443\ttotal: 58.7s\tremaining: 5m 39s\n",
      "500:\tlearn: 403.0819042\ttotal: 1m 13s\tremaining: 5m 25s\n",
      "600:\tlearn: 389.5245820\ttotal: 1m 28s\tremaining: 5m 11s\n",
      "700:\tlearn: 378.3726815\ttotal: 1m 42s\tremaining: 4m 55s\n",
      "800:\tlearn: 368.7646344\ttotal: 1m 57s\tremaining: 4m 40s\n",
      "900:\tlearn: 359.2741586\ttotal: 2m 11s\tremaining: 4m 26s\n",
      "1000:\tlearn: 351.1673381\ttotal: 2m 27s\tremaining: 4m 12s\n",
      "1100:\tlearn: 343.5187269\ttotal: 2m 42s\tremaining: 3m 57s\n",
      "1200:\tlearn: 336.3341683\ttotal: 2m 56s\tremaining: 3m 43s\n",
      "1300:\tlearn: 329.6812845\ttotal: 3m 11s\tremaining: 3m 28s\n",
      "1400:\tlearn: 323.4289592\ttotal: 3m 27s\tremaining: 3m 14s\n",
      "1500:\tlearn: 317.2599168\ttotal: 3m 42s\tremaining: 3m\n",
      "1600:\tlearn: 311.2739241\ttotal: 3m 56s\tremaining: 2m 45s\n",
      "1700:\tlearn: 305.4918600\ttotal: 4m 11s\tremaining: 2m 30s\n",
      "1800:\tlearn: 299.9798497\ttotal: 4m 26s\tremaining: 2m 15s\n",
      "1900:\tlearn: 294.8965816\ttotal: 4m 41s\tremaining: 2m\n",
      "2000:\tlearn: 289.7407684\ttotal: 4m 55s\tremaining: 1m 46s\n",
      "2100:\tlearn: 284.6319657\ttotal: 5m 10s\tremaining: 1m 31s\n",
      "2200:\tlearn: 279.6376567\ttotal: 5m 25s\tremaining: 1m 16s\n",
      "2300:\tlearn: 274.8368943\ttotal: 5m 40s\tremaining: 1m 1s\n",
      "2400:\tlearn: 270.3590228\ttotal: 5m 54s\tremaining: 46.9s\n",
      "2500:\tlearn: 266.0203159\ttotal: 6m 10s\tremaining: 32.1s\n",
      "2600:\tlearn: 261.6430868\ttotal: 6m 25s\tremaining: 17.4s\n",
      "2700:\tlearn: 257.2873331\ttotal: 6m 41s\tremaining: 2.52s\n",
      "2717:\tlearn: 256.5925506\ttotal: 6m 43s\tremaining: 0us\n"
     ]
    },
    {
     "name": "stderr",
     "output_type": "stream",
     "text": [
      "[I 2023-11-07 10:15:33,814] Trial 31 finished with value: 333.83826037130825 and parameters: {'iterations': 2718, 'learning_rate': 0.006501545723427778, 'depth': 12, 'min_data_in_leaf': 34, 'l2_leaf_reg': 5, 'bagging_temperature': 0.5898524780186404, 'random_strength': 0.6856229817003624, 'border_count': 697, 'rsm': 0.3762642843573885}. Best is trial 15 with value: 331.17272591785036.\n"
     ]
    },
    {
     "name": "stdout",
     "output_type": "stream",
     "text": [
      "0:\tlearn: 1131.1543907\ttotal: 174ms\tremaining: 7m 4s\n",
      "100:\tlearn: 621.3115440\ttotal: 16.6s\tremaining: 6m 25s\n",
      "200:\tlearn: 461.0817980\ttotal: 33.5s\tremaining: 6m 13s\n",
      "300:\tlearn: 407.2902301\ttotal: 50.1s\tremaining: 5m 56s\n",
      "400:\tlearn: 382.7472481\ttotal: 1m 6s\tremaining: 5m 39s\n",
      "500:\tlearn: 366.1355058\ttotal: 1m 23s\tremaining: 5m 24s\n",
      "600:\tlearn: 351.2600271\ttotal: 1m 40s\tremaining: 5m 9s\n",
      "700:\tlearn: 338.2240682\ttotal: 1m 57s\tremaining: 4m 52s\n",
      "800:\tlearn: 326.3518674\ttotal: 2m 14s\tremaining: 4m 35s\n",
      "900:\tlearn: 315.9637466\ttotal: 2m 30s\tremaining: 4m 18s\n",
      "1000:\tlearn: 306.1119772\ttotal: 2m 47s\tremaining: 4m 1s\n",
      "1100:\tlearn: 296.3183835\ttotal: 3m 3s\tremaining: 3m 43s\n",
      "1200:\tlearn: 287.7087210\ttotal: 3m 19s\tremaining: 3m 26s\n",
      "1300:\tlearn: 279.0386671\ttotal: 3m 35s\tremaining: 3m 9s\n",
      "1400:\tlearn: 271.2123515\ttotal: 3m 52s\tremaining: 2m 52s\n",
      "1500:\tlearn: 263.5772222\ttotal: 4m 8s\tremaining: 2m 36s\n",
      "1600:\tlearn: 256.0706957\ttotal: 4m 24s\tremaining: 2m 19s\n",
      "1700:\tlearn: 248.7281259\ttotal: 4m 41s\tremaining: 2m 3s\n",
      "1800:\tlearn: 241.6079488\ttotal: 4m 58s\tremaining: 1m 46s\n",
      "1900:\tlearn: 234.9427077\ttotal: 5m 14s\tremaining: 1m 29s\n",
      "2000:\tlearn: 229.0633290\ttotal: 5m 30s\tremaining: 1m 13s\n",
      "2100:\tlearn: 223.1272219\ttotal: 5m 47s\tremaining: 56.7s\n",
      "2200:\tlearn: 217.7511532\ttotal: 6m 3s\tremaining: 40.2s\n",
      "2300:\tlearn: 212.1855975\ttotal: 6m 20s\tremaining: 23.6s\n",
      "2400:\tlearn: 207.1780313\ttotal: 6m 37s\tremaining: 7.12s\n",
      "2443:\tlearn: 205.0344414\ttotal: 6m 44s\tremaining: 0us\n"
     ]
    },
    {
     "name": "stderr",
     "output_type": "stream",
     "text": [
      "[I 2023-11-07 10:22:20,423] Trial 32 finished with value: 330.2513988255906 and parameters: {'iterations': 2444, 'learning_rate': 0.009353267747832978, 'depth': 12, 'min_data_in_leaf': 42, 'l2_leaf_reg': 3, 'bagging_temperature': 0.6076343464402293, 'random_strength': 0.6490466144107842, 'border_count': 733, 'rsm': 0.411676415106366}. Best is trial 32 with value: 330.2513988255906.\n"
     ]
    },
    {
     "name": "stdout",
     "output_type": "stream",
     "text": [
      "0:\tlearn: 1130.6962237\ttotal: 261ms\tremaining: 10m 31s\n",
      "100:\tlearn: 603.9533256\ttotal: 28.2s\tremaining: 10m 47s\n",
      "200:\tlearn: 446.1687599\ttotal: 58.5s\tremaining: 10m 46s\n",
      "300:\tlearn: 392.6960062\ttotal: 1m 28s\tremaining: 10m 21s\n",
      "400:\tlearn: 365.4134571\ttotal: 1m 57s\tremaining: 9m 54s\n",
      "500:\tlearn: 345.7332528\ttotal: 2m 27s\tremaining: 9m 25s\n",
      "600:\tlearn: 329.7568716\ttotal: 2m 56s\tremaining: 8m 56s\n",
      "700:\tlearn: 314.7473073\ttotal: 3m 26s\tremaining: 8m 26s\n",
      "800:\tlearn: 301.0401765\ttotal: 3m 55s\tremaining: 7m 56s\n",
      "900:\tlearn: 288.3044515\ttotal: 4m 24s\tremaining: 7m 26s\n",
      "1000:\tlearn: 276.5580202\ttotal: 4m 53s\tremaining: 6m 56s\n",
      "1100:\tlearn: 266.1045099\ttotal: 5m 22s\tremaining: 6m 27s\n",
      "1200:\tlearn: 256.3304856\ttotal: 5m 51s\tremaining: 5m 57s\n",
      "1300:\tlearn: 247.1977171\ttotal: 6m 20s\tremaining: 5m 27s\n",
      "1400:\tlearn: 238.1056627\ttotal: 6m 49s\tremaining: 4m 58s\n",
      "1500:\tlearn: 229.6521731\ttotal: 7m 17s\tremaining: 4m 28s\n",
      "1600:\tlearn: 221.7628625\ttotal: 7m 47s\tremaining: 3m 59s\n",
      "1700:\tlearn: 214.0153604\ttotal: 8m 15s\tremaining: 3m 30s\n",
      "1800:\tlearn: 206.4266734\ttotal: 8m 44s\tremaining: 3m\n",
      "1900:\tlearn: 199.3558907\ttotal: 9m 3s\tremaining: 2m 29s\n",
      "2000:\tlearn: 193.1479981\ttotal: 9m 23s\tremaining: 1m 58s\n",
      "2100:\tlearn: 187.4238316\ttotal: 9m 43s\tremaining: 1m 29s\n",
      "2200:\tlearn: 182.3928330\ttotal: 10m 2s\tremaining: 1m\n",
      "2300:\tlearn: 177.2510246\ttotal: 10m 21s\tremaining: 33s\n",
      "2400:\tlearn: 172.4033052\ttotal: 10m 41s\tremaining: 5.88s\n",
      "2422:\tlearn: 171.4336411\ttotal: 10m 46s\tremaining: 0us\n"
     ]
    },
    {
     "name": "stderr",
     "output_type": "stream",
     "text": [
      "[I 2023-11-07 10:33:09,310] Trial 33 finished with value: 332.5397497754843 and parameters: {'iterations': 2423, 'learning_rate': 0.01003381818435272, 'depth': 13, 'min_data_in_leaf': 42, 'l2_leaf_reg': 3, 'bagging_temperature': 0.6381060667360217, 'random_strength': 0.7409564267942261, 'border_count': 760, 'rsm': 0.2858999255142618}. Best is trial 32 with value: 330.2513988255906.\n"
     ]
    },
    {
     "name": "stdout",
     "output_type": "stream",
     "text": [
      "0:\tlearn: 1131.7081468\ttotal: 40ms\tremaining: 1m 52s\n",
      "100:\tlearn: 643.8739519\ttotal: 3.55s\tremaining: 1m 35s\n",
      "200:\tlearn: 484.8899408\ttotal: 7.08s\tremaining: 1m 32s\n",
      "300:\tlearn: 434.2997999\ttotal: 10.6s\tremaining: 1m 28s\n",
      "400:\tlearn: 413.8264874\ttotal: 14.1s\tremaining: 1m 25s\n",
      "500:\tlearn: 401.1842952\ttotal: 17.7s\tremaining: 1m 21s\n",
      "600:\tlearn: 391.3855579\ttotal: 21.3s\tremaining: 1m 18s\n",
      "700:\tlearn: 382.1483558\ttotal: 25.1s\tremaining: 1m 15s\n",
      "800:\tlearn: 374.4521264\ttotal: 28.6s\tremaining: 1m 12s\n",
      "900:\tlearn: 366.9368001\ttotal: 32.1s\tremaining: 1m 8s\n",
      "1000:\tlearn: 359.7522861\ttotal: 35.7s\tremaining: 1m 4s\n",
      "1100:\tlearn: 352.5639651\ttotal: 39.3s\tremaining: 1m 1s\n",
      "1200:\tlearn: 346.0821993\ttotal: 43s\tremaining: 57.9s\n",
      "1300:\tlearn: 340.4472305\ttotal: 46.6s\tremaining: 54.4s\n",
      "1400:\tlearn: 334.8117138\ttotal: 50.1s\tremaining: 50.8s\n",
      "1500:\tlearn: 329.1312826\ttotal: 54.1s\tremaining: 47.5s\n",
      "1600:\tlearn: 323.7335554\ttotal: 57.7s\tremaining: 43.9s\n",
      "1700:\tlearn: 318.3951991\ttotal: 1m 1s\tremaining: 40.3s\n",
      "1800:\tlearn: 313.4004972\ttotal: 1m 4s\tremaining: 36.7s\n",
      "1900:\tlearn: 308.3882789\ttotal: 1m 8s\tremaining: 33s\n",
      "2000:\tlearn: 303.8400067\ttotal: 1m 11s\tremaining: 29.4s\n",
      "2100:\tlearn: 299.0120274\ttotal: 1m 15s\tremaining: 25.8s\n",
      "2200:\tlearn: 294.0707069\ttotal: 1m 19s\tremaining: 22.2s\n",
      "2300:\tlearn: 289.4517209\ttotal: 1m 22s\tremaining: 18.6s\n",
      "2400:\tlearn: 285.3790994\ttotal: 1m 26s\tremaining: 15.1s\n",
      "2500:\tlearn: 281.5663731\ttotal: 1m 29s\tremaining: 11.5s\n",
      "2600:\tlearn: 277.5302012\ttotal: 1m 33s\tremaining: 7.87s\n",
      "2700:\tlearn: 273.8824284\ttotal: 1m 37s\tremaining: 4.28s\n",
      "2800:\tlearn: 270.4688951\ttotal: 1m 40s\tremaining: 683ms\n",
      "2819:\tlearn: 269.7612914\ttotal: 1m 41s\tremaining: 0us\n"
     ]
    },
    {
     "name": "stderr",
     "output_type": "stream",
     "text": [
      "[I 2023-11-07 10:34:51,526] Trial 34 finished with value: 334.23502179425765 and parameters: {'iterations': 2820, 'learning_rate': 0.008763960437924245, 'depth': 10, 'min_data_in_leaf': 52, 'l2_leaf_reg': 4, 'bagging_temperature': 0.6507299637336034, 'random_strength': 0.6534183401910428, 'border_count': 867, 'rsm': 0.40437305811467616}. Best is trial 32 with value: 330.2513988255906.\n"
     ]
    },
    {
     "name": "stdout",
     "output_type": "stream",
     "text": [
      "0:\tlearn: 1127.9650235\ttotal: 111ms\tremaining: 4m 3s\n",
      "100:\tlearn: 538.5998038\ttotal: 11.2s\tremaining: 3m 51s\n",
      "200:\tlearn: 419.3919148\ttotal: 22.7s\tremaining: 3m 45s\n",
      "300:\tlearn: 383.0749009\ttotal: 34.3s\tremaining: 3m 35s\n",
      "400:\tlearn: 362.3673718\ttotal: 45.6s\tremaining: 3m 23s\n",
      "500:\tlearn: 343.8911834\ttotal: 56.7s\tremaining: 3m 11s\n",
      "600:\tlearn: 327.5779900\ttotal: 1m 8s\tremaining: 3m\n",
      "700:\tlearn: 313.4070945\ttotal: 1m 19s\tremaining: 2m 49s\n",
      "800:\tlearn: 301.1214303\ttotal: 1m 30s\tremaining: 2m 38s\n",
      "900:\tlearn: 289.1588986\ttotal: 1m 41s\tremaining: 2m 26s\n",
      "1000:\tlearn: 277.5532131\ttotal: 1m 53s\tremaining: 2m 14s\n",
      "1100:\tlearn: 267.3229026\ttotal: 2m 4s\tremaining: 2m 3s\n",
      "1200:\tlearn: 257.0053760\ttotal: 2m 16s\tremaining: 1m 52s\n",
      "1300:\tlearn: 247.6978904\ttotal: 2m 27s\tremaining: 1m 40s\n",
      "1400:\tlearn: 239.2817392\ttotal: 2m 38s\tremaining: 1m 29s\n",
      "1500:\tlearn: 230.7343483\ttotal: 2m 49s\tremaining: 1m 18s\n",
      "1600:\tlearn: 222.9479984\ttotal: 3m\tremaining: 1m 6s\n",
      "1700:\tlearn: 215.5975583\ttotal: 3m 12s\tremaining: 55.6s\n",
      "1800:\tlearn: 208.7932780\ttotal: 3m 23s\tremaining: 44.2s\n",
      "1900:\tlearn: 202.0384940\ttotal: 3m 35s\tremaining: 32.9s\n",
      "2000:\tlearn: 195.9773085\ttotal: 3m 46s\tremaining: 21.6s\n",
      "2100:\tlearn: 190.7164531\ttotal: 3m 57s\tremaining: 10.3s\n",
      "2191:\tlearn: 186.1174147\ttotal: 4m 7s\tremaining: 0us\n"
     ]
    },
    {
     "name": "stderr",
     "output_type": "stream",
     "text": [
      "[I 2023-11-07 10:39:00,228] Trial 35 finished with value: 332.004200440153 and parameters: {'iterations': 2192, 'learning_rate': 0.012889691215183838, 'depth': 12, 'min_data_in_leaf': 64, 'l2_leaf_reg': 3, 'bagging_temperature': 0.5100101354223369, 'random_strength': 0.6044809567248325, 'border_count': 990, 'rsm': 0.24484910613732674}. Best is trial 32 with value: 330.2513988255906.\n"
     ]
    },
    {
     "name": "stdout",
     "output_type": "stream",
     "text": [
      "0:\tlearn: 1131.7692131\ttotal: 40.4ms\tremaining: 37.4s\n",
      "100:\tlearn: 635.3360267\ttotal: 4.82s\tremaining: 39.3s\n",
      "200:\tlearn: 474.3839301\ttotal: 9.35s\tremaining: 33.7s\n",
      "300:\tlearn: 422.0650985\ttotal: 13.8s\tremaining: 28.7s\n",
      "400:\tlearn: 399.9487401\ttotal: 18.2s\tremaining: 23.9s\n",
      "500:\tlearn: 386.2343858\ttotal: 22.7s\tremaining: 19.2s\n",
      "600:\tlearn: 374.6491238\ttotal: 27.1s\tremaining: 14.7s\n",
      "700:\tlearn: 363.8586534\ttotal: 31.5s\tremaining: 10.1s\n",
      "800:\tlearn: 354.3802770\ttotal: 36s\tremaining: 5.62s\n",
      "900:\tlearn: 345.5873753\ttotal: 40.7s\tremaining: 1.13s\n",
      "925:\tlearn: 343.5294973\ttotal: 41.8s\tremaining: 0us\n"
     ]
    },
    {
     "name": "stderr",
     "output_type": "stream",
     "text": [
      "[I 2023-11-07 10:39:42,487] Trial 36 finished with value: 335.57071825294815 and parameters: {'iterations': 926, 'learning_rate': 0.009010732980547956, 'depth': 11, 'min_data_in_leaf': 54, 'l2_leaf_reg': 4, 'bagging_temperature': 0.8339808749293354, 'random_strength': 0.5082996413597103, 'border_count': 635, 'rsm': 0.3116051127704157}. Best is trial 32 with value: 330.2513988255906.\n"
     ]
    },
    {
     "name": "stdout",
     "output_type": "stream",
     "text": [
      "0:\tlearn: 1123.5846890\ttotal: 29.6ms\tremaining: 1m 2s\n",
      "100:\tlearn: 487.5211454\ttotal: 2.77s\tremaining: 55.2s\n",
      "200:\tlearn: 421.4945831\ttotal: 5.55s\tremaining: 53s\n",
      "300:\tlearn: 401.5715376\ttotal: 8.4s\tremaining: 50.7s\n",
      "400:\tlearn: 386.4791425\ttotal: 11.2s\tremaining: 48.2s\n",
      "500:\tlearn: 373.8432697\ttotal: 14.1s\tremaining: 45.6s\n",
      "600:\tlearn: 362.9139655\ttotal: 17s\tremaining: 42.9s\n",
      "700:\tlearn: 351.1885187\ttotal: 20.2s\tremaining: 40.8s\n",
      "800:\tlearn: 340.6073031\ttotal: 23.1s\tremaining: 38s\n",
      "900:\tlearn: 330.7234427\ttotal: 26s\tremaining: 35.2s\n",
      "1000:\tlearn: 320.6229888\ttotal: 28.9s\tremaining: 32.3s\n",
      "1100:\tlearn: 311.4438127\ttotal: 31.8s\tremaining: 29.4s\n",
      "1200:\tlearn: 303.2076058\ttotal: 34.6s\tremaining: 26.5s\n",
      "1300:\tlearn: 295.7189388\ttotal: 37.5s\tremaining: 23.6s\n",
      "1400:\tlearn: 289.0316644\ttotal: 40.5s\tremaining: 20.8s\n",
      "1500:\tlearn: 282.2697139\ttotal: 43.4s\tremaining: 17.9s\n",
      "1600:\tlearn: 275.8973224\ttotal: 46.2s\tremaining: 15s\n",
      "1700:\tlearn: 270.1288847\ttotal: 49s\tremaining: 12s\n",
      "1800:\tlearn: 264.3357166\ttotal: 51.7s\tremaining: 9.14s\n",
      "1900:\tlearn: 258.6745176\ttotal: 54.5s\tremaining: 6.25s\n",
      "2000:\tlearn: 253.2963028\ttotal: 57.3s\tremaining: 3.38s\n",
      "2100:\tlearn: 248.2781825\ttotal: 1m\tremaining: 516ms\n",
      "2118:\tlearn: 247.5752247\ttotal: 1m\tremaining: 0us\n"
     ]
    },
    {
     "name": "stderr",
     "output_type": "stream",
     "text": [
      "[I 2023-11-07 10:40:43,847] Trial 37 finished with value: 336.5570400160975 and parameters: {'iterations': 2119, 'learning_rate': 0.017767944356908625, 'depth': 9, 'min_data_in_leaf': 49, 'l2_leaf_reg': 2, 'bagging_temperature': 0.7297023650582426, 'random_strength': 0.7102993277618372, 'border_count': 537, 'rsm': 0.22157830880256002}. Best is trial 32 with value: 330.2513988255906.\n"
     ]
    },
    {
     "name": "stdout",
     "output_type": "stream",
     "text": [
      "0:\tlearn: 1129.8863927\ttotal: 55.9ms\tremaining: 1m 44s\n",
      "100:\tlearn: 590.4845400\ttotal: 5.14s\tremaining: 1m 29s\n",
      "200:\tlearn: 455.8425679\ttotal: 10.3s\tremaining: 1m 25s\n",
      "300:\tlearn: 417.6497268\ttotal: 15.4s\tremaining: 1m 20s\n",
      "400:\tlearn: 399.2749538\ttotal: 21s\tremaining: 1m 16s\n",
      "500:\tlearn: 386.7894925\ttotal: 26.3s\tremaining: 1m 11s\n",
      "600:\tlearn: 376.8083811\ttotal: 31.2s\tremaining: 1m 5s\n",
      "700:\tlearn: 367.0316771\ttotal: 36.6s\tremaining: 1m\n",
      "800:\tlearn: 357.9621706\ttotal: 41.8s\tremaining: 55.6s\n",
      "900:\tlearn: 349.3347213\ttotal: 46.9s\tremaining: 50.3s\n",
      "1000:\tlearn: 341.3738650\ttotal: 52.1s\tremaining: 45.1s\n",
      "1100:\tlearn: 333.2387590\ttotal: 57.3s\tremaining: 39.8s\n",
      "1200:\tlearn: 325.7979186\ttotal: 1m 2s\tremaining: 34.6s\n",
      "1300:\tlearn: 318.3511661\ttotal: 1m 7s\tremaining: 29.4s\n",
      "1400:\tlearn: 311.9427834\ttotal: 1m 12s\tremaining: 24.3s\n",
      "1500:\tlearn: 304.9661502\ttotal: 1m 18s\tremaining: 19.1s\n",
      "1600:\tlearn: 299.1507455\ttotal: 1m 23s\tremaining: 13.9s\n",
      "1700:\tlearn: 293.1021763\ttotal: 1m 28s\tremaining: 8.68s\n",
      "1800:\tlearn: 287.2184045\ttotal: 1m 33s\tremaining: 3.44s\n",
      "1866:\tlearn: 283.4489442\ttotal: 1m 37s\tremaining: 0us\n"
     ]
    },
    {
     "name": "stderr",
     "output_type": "stream",
     "text": [
      "[I 2023-11-07 10:42:22,352] Trial 38 finished with value: 337.6922895546985 and parameters: {'iterations': 1867, 'learning_rate': 0.011531390759576233, 'depth': 12, 'min_data_in_leaf': 31, 'l2_leaf_reg': 9, 'bagging_temperature': 0.6563653974286732, 'random_strength': 0.7687096207811204, 'border_count': 664, 'rsm': 0.12138056498211688}. Best is trial 32 with value: 330.2513988255906.\n"
     ]
    },
    {
     "name": "stdout",
     "output_type": "stream",
     "text": [
      "0:\tlearn: 1134.7714516\ttotal: 3.17ms\tremaining: 7.47s\n",
      "100:\tlearn: 774.4658358\ttotal: 310ms\tremaining: 6.91s\n",
      "200:\tlearn: 601.2906009\ttotal: 623ms\tremaining: 6.67s\n",
      "300:\tlearn: 524.0247727\ttotal: 945ms\tremaining: 6.45s\n",
      "400:\tlearn: 489.6091376\ttotal: 1.27s\tremaining: 6.17s\n",
      "500:\tlearn: 472.6742761\ttotal: 1.57s\tremaining: 5.81s\n",
      "600:\tlearn: 463.2612491\ttotal: 1.88s\tremaining: 5.49s\n",
      "700:\tlearn: 457.1002083\ttotal: 2.19s\tremaining: 5.17s\n",
      "800:\tlearn: 452.8051921\ttotal: 2.5s\tremaining: 4.84s\n",
      "900:\tlearn: 449.3988934\ttotal: 2.82s\tremaining: 4.55s\n",
      "1000:\tlearn: 446.2882582\ttotal: 3.13s\tremaining: 4.23s\n",
      "1100:\tlearn: 443.8148048\ttotal: 3.44s\tremaining: 3.92s\n",
      "1200:\tlearn: 441.5399448\ttotal: 3.76s\tremaining: 3.61s\n",
      "1300:\tlearn: 439.5278460\ttotal: 4.07s\tremaining: 3.29s\n",
      "1400:\tlearn: 437.6332630\ttotal: 4.37s\tremaining: 2.97s\n",
      "1500:\tlearn: 435.7382449\ttotal: 4.7s\tremaining: 2.67s\n",
      "1600:\tlearn: 434.1883205\ttotal: 5.02s\tremaining: 2.36s\n",
      "1700:\tlearn: 432.5012103\ttotal: 5.34s\tremaining: 2.05s\n",
      "1800:\tlearn: 430.9350073\ttotal: 5.66s\tremaining: 1.74s\n",
      "1900:\tlearn: 429.3925930\ttotal: 5.96s\tremaining: 1.42s\n",
      "2000:\tlearn: 427.9198420\ttotal: 6.27s\tremaining: 1.11s\n",
      "2100:\tlearn: 426.4795289\ttotal: 6.58s\tremaining: 793ms\n",
      "2200:\tlearn: 425.1324533\ttotal: 6.9s\tremaining: 480ms\n",
      "2300:\tlearn: 423.8428797\ttotal: 7.22s\tremaining: 166ms\n",
      "2353:\tlearn: 423.1592412\ttotal: 7.39s\tremaining: 0us\n"
     ]
    },
    {
     "name": "stderr",
     "output_type": "stream",
     "text": [
      "[I 2023-11-07 10:42:30,148] Trial 39 finished with value: 351.06433127118584 and parameters: {'iterations': 2354, 'learning_rate': 0.006119259693483962, 'depth': 4, 'min_data_in_leaf': 44, 'l2_leaf_reg': 7, 'bagging_temperature': 0.6184879829723773, 'random_strength': 0.6560270050940379, 'border_count': 579, 'rsm': 0.25138686867512416}. Best is trial 32 with value: 330.2513988255906.\n"
     ]
    },
    {
     "name": "stdout",
     "output_type": "stream",
     "text": [
      "0:\tlearn: 1135.6282902\ttotal: 17ms\tremaining: 46.6s\n",
      "100:\tlearn: 827.6153282\ttotal: 1.83s\tremaining: 47.8s\n",
      "200:\tlearn: 648.8826585\ttotal: 3.65s\tremaining: 46.1s\n",
      "300:\tlearn: 550.9307649\ttotal: 5.5s\tremaining: 44.5s\n",
      "400:\tlearn: 498.1795725\ttotal: 7.34s\tremaining: 42.8s\n",
      "500:\tlearn: 469.8892200\ttotal: 9.18s\tremaining: 41s\n",
      "600:\tlearn: 453.9786937\ttotal: 11s\tremaining: 39s\n",
      "700:\tlearn: 444.2741353\ttotal: 12.8s\tremaining: 37.1s\n",
      "800:\tlearn: 437.5215028\ttotal: 14.7s\tremaining: 35.5s\n",
      "900:\tlearn: 432.6594296\ttotal: 16.6s\tremaining: 33.8s\n",
      "1000:\tlearn: 428.7137178\ttotal: 18.4s\tremaining: 32s\n",
      "1100:\tlearn: 425.1135869\ttotal: 20.3s\tremaining: 30.1s\n",
      "1200:\tlearn: 422.0439363\ttotal: 22.1s\tremaining: 28.3s\n",
      "1300:\tlearn: 419.3159241\ttotal: 23.9s\tremaining: 26.4s\n",
      "1400:\tlearn: 416.7976044\ttotal: 25.8s\tremaining: 24.6s\n",
      "1500:\tlearn: 414.2630662\ttotal: 27.7s\tremaining: 22.8s\n",
      "1600:\tlearn: 411.9374406\ttotal: 29.5s\tremaining: 20.9s\n",
      "1700:\tlearn: 409.6788108\ttotal: 31.3s\tremaining: 19.1s\n",
      "1800:\tlearn: 407.3452791\ttotal: 33.3s\tremaining: 17.3s\n",
      "1900:\tlearn: 405.0863283\ttotal: 35.2s\tremaining: 15.5s\n",
      "2000:\tlearn: 402.8521357\ttotal: 37s\tremaining: 13.6s\n",
      "2100:\tlearn: 400.8097578\ttotal: 38.8s\tremaining: 11.8s\n",
      "2200:\tlearn: 398.7245635\ttotal: 40.6s\tremaining: 9.93s\n",
      "2300:\tlearn: 396.7941837\ttotal: 42.5s\tremaining: 8.09s\n",
      "2400:\tlearn: 394.8292592\ttotal: 44.3s\tremaining: 6.24s\n",
      "2500:\tlearn: 392.9182299\ttotal: 46.2s\tremaining: 4.4s\n",
      "2600:\tlearn: 391.0431070\ttotal: 48.1s\tremaining: 2.55s\n",
      "2700:\tlearn: 389.2358122\ttotal: 49.9s\tremaining: 703ms\n"
     ]
    },
    {
     "name": "stderr",
     "output_type": "stream",
     "text": [
      "[I 2023-11-07 10:43:21,395] Trial 40 finished with value: 340.0805026192127 and parameters: {'iterations': 2739, 'learning_rate': 0.004485879702362993, 'depth': 7, 'min_data_in_leaf': 59, 'l2_leaf_reg': 3, 'bagging_temperature': 0.6800643894863374, 'random_strength': 0.683068843576788, 'border_count': 904, 'rsm': 0.27546995570419164}. Best is trial 32 with value: 330.2513988255906.\n"
     ]
    },
    {
     "name": "stdout",
     "output_type": "stream",
     "text": [
      "2738:\tlearn: 388.5385513\ttotal: 50.7s\tremaining: 0us\n",
      "0:\tlearn: 1127.1791575\ttotal: 114ms\tremaining: 4m 6s\n",
      "100:\tlearn: 523.6773593\ttotal: 11.4s\tremaining: 3m 53s\n",
      "200:\tlearn: 411.9588376\ttotal: 22.9s\tremaining: 3m 43s\n",
      "300:\tlearn: 377.0965094\ttotal: 34.5s\tremaining: 3m 33s\n",
      "400:\tlearn: 355.9580582\ttotal: 46.2s\tremaining: 3m 23s\n",
      "500:\tlearn: 337.0474038\ttotal: 57.7s\tremaining: 3m 11s\n",
      "600:\tlearn: 320.9763365\ttotal: 1m 9s\tremaining: 3m\n",
      "700:\tlearn: 306.2156754\ttotal: 1m 20s\tremaining: 2m 48s\n",
      "800:\tlearn: 292.8748064\ttotal: 1m 32s\tremaining: 2m 37s\n",
      "900:\tlearn: 280.9327381\ttotal: 1m 44s\tremaining: 2m 26s\n",
      "1000:\tlearn: 270.3878371\ttotal: 1m 55s\tremaining: 2m 14s\n",
      "1100:\tlearn: 259.8007721\ttotal: 2m 7s\tremaining: 2m 2s\n",
      "1200:\tlearn: 249.5993126\ttotal: 2m 18s\tremaining: 1m 51s\n",
      "1300:\tlearn: 240.5682695\ttotal: 2m 29s\tremaining: 1m 39s\n",
      "1400:\tlearn: 231.5452721\ttotal: 2m 41s\tremaining: 1m 27s\n",
      "1500:\tlearn: 223.4831254\ttotal: 2m 52s\tremaining: 1m 16s\n",
      "1600:\tlearn: 216.0908251\ttotal: 3m 3s\tremaining: 1m 4s\n",
      "1700:\tlearn: 209.6218299\ttotal: 3m 15s\tremaining: 53.1s\n",
      "1800:\tlearn: 203.0740788\ttotal: 3m 26s\tremaining: 41.6s\n",
      "1900:\tlearn: 197.7431067\ttotal: 3m 38s\tremaining: 30.2s\n",
      "2000:\tlearn: 191.8382243\ttotal: 3m 49s\tremaining: 18.7s\n",
      "2100:\tlearn: 185.6902633\ttotal: 4m\tremaining: 7.21s\n",
      "2163:\tlearn: 182.1968487\ttotal: 4m 7s\tremaining: 0us\n"
     ]
    },
    {
     "name": "stderr",
     "output_type": "stream",
     "text": [
      "[I 2023-11-07 10:47:30,211] Trial 41 finished with value: 332.46485460637933 and parameters: {'iterations': 2164, 'learning_rate': 0.013722238010202661, 'depth': 12, 'min_data_in_leaf': 69, 'l2_leaf_reg': 3, 'bagging_temperature': 0.5229826562785967, 'random_strength': 0.6064683564615603, 'border_count': 988, 'rsm': 0.24916948339185901}. Best is trial 32 with value: 330.2513988255906.\n"
     ]
    },
    {
     "name": "stdout",
     "output_type": "stream",
     "text": [
      "0:\tlearn: 1130.5100224\ttotal: 18.6ms\tremaining: 42.9s\n",
      "100:\tlearn: 659.6796180\ttotal: 3.97s\tremaining: 1m 26s\n",
      "200:\tlearn: 503.0942636\ttotal: 8.37s\tremaining: 1m 27s\n",
      "300:\tlearn: 453.0276181\ttotal: 11.8s\tremaining: 1m 18s\n",
      "400:\tlearn: 430.6664691\ttotal: 15.5s\tremaining: 1m 13s\n",
      "500:\tlearn: 416.9853712\ttotal: 19.5s\tremaining: 1m 10s\n",
      "600:\tlearn: 406.6981143\ttotal: 23.3s\tremaining: 1m 6s\n",
      "700:\tlearn: 399.0488557\ttotal: 26.9s\tremaining: 1m 1s\n",
      "800:\tlearn: 392.0011272\ttotal: 30.6s\tremaining: 57.5s\n",
      "900:\tlearn: 385.1756884\ttotal: 34s\tremaining: 53.1s\n",
      "1000:\tlearn: 379.3305251\ttotal: 37.2s\tremaining: 48.5s\n",
      "1100:\tlearn: 372.9483228\ttotal: 41.4s\tremaining: 45.4s\n",
      "1200:\tlearn: 367.7189606\ttotal: 44.6s\tremaining: 41.1s\n",
      "1300:\tlearn: 362.4905304\ttotal: 48.5s\tremaining: 37.6s\n",
      "1400:\tlearn: 358.0297414\ttotal: 51.2s\tremaining: 33.2s\n",
      "1500:\tlearn: 353.2953975\ttotal: 54.5s\tremaining: 29.3s\n",
      "1600:\tlearn: 348.1402228\ttotal: 58.2s\tremaining: 25.7s\n",
      "1700:\tlearn: 342.3347521\ttotal: 1m 2s\tremaining: 22.2s\n",
      "1800:\tlearn: 338.7298887\ttotal: 1m 5s\tremaining: 18.4s\n",
      "1900:\tlearn: 334.8320979\ttotal: 1m 8s\tremaining: 14.7s\n",
      "2000:\tlearn: 330.7590585\ttotal: 1m 11s\tremaining: 11s\n",
      "2100:\tlearn: 326.8824650\ttotal: 1m 15s\tremaining: 7.42s\n",
      "2200:\tlearn: 322.3634136\ttotal: 1m 19s\tremaining: 3.87s\n",
      "2300:\tlearn: 318.5773659\ttotal: 1m 23s\tremaining: 255ms\n",
      "2307:\tlearn: 318.4132604\ttotal: 1m 23s\tremaining: 0us\n"
     ]
    },
    {
     "name": "stderr",
     "output_type": "stream",
     "text": [
      "[I 2023-11-07 10:48:55,159] Trial 42 finished with value: 345.79337975675213 and parameters: {'iterations': 2308, 'learning_rate': 0.011784573580194446, 'depth': 13, 'min_data_in_leaf': 62, 'l2_leaf_reg': 4, 'bagging_temperature': 0.4985305920312139, 'random_strength': 0.6178352811180479, 'border_count': 888, 'rsm': 0.05565319719515732}. Best is trial 32 with value: 330.2513988255906.\n"
     ]
    },
    {
     "name": "stdout",
     "output_type": "stream",
     "text": [
      "0:\tlearn: 1131.4427942\ttotal: 59.1ms\tremaining: 2m 25s\n",
      "100:\tlearn: 622.7180888\ttotal: 6.24s\tremaining: 2m 25s\n",
      "200:\tlearn: 467.1095427\ttotal: 12.7s\tremaining: 2m 22s\n",
      "300:\tlearn: 419.4849203\ttotal: 18.9s\tremaining: 2m 15s\n",
      "400:\tlearn: 397.4940499\ttotal: 25.1s\tremaining: 2m 8s\n",
      "500:\tlearn: 382.0648082\ttotal: 31.4s\tremaining: 2m 2s\n",
      "600:\tlearn: 369.0957002\ttotal: 37.8s\tremaining: 1m 56s\n",
      "700:\tlearn: 357.8135101\ttotal: 44s\tremaining: 1m 50s\n",
      "800:\tlearn: 347.1658632\ttotal: 50.2s\tremaining: 1m 43s\n",
      "900:\tlearn: 337.7104440\ttotal: 56.6s\tremaining: 1m 37s\n",
      "1000:\tlearn: 329.7172048\ttotal: 1m 2s\tremaining: 1m 31s\n",
      "1100:\tlearn: 321.5659818\ttotal: 1m 9s\tremaining: 1m 25s\n",
      "1200:\tlearn: 313.8994264\ttotal: 1m 15s\tremaining: 1m 19s\n",
      "1300:\tlearn: 306.6157428\ttotal: 1m 22s\tremaining: 1m 13s\n",
      "1400:\tlearn: 299.6562085\ttotal: 1m 28s\tremaining: 1m 6s\n",
      "1500:\tlearn: 292.4545135\ttotal: 1m 34s\tremaining: 1m\n",
      "1600:\tlearn: 285.7535708\ttotal: 1m 40s\tremaining: 53.7s\n",
      "1700:\tlearn: 279.4153754\ttotal: 1m 46s\tremaining: 47.4s\n",
      "1800:\tlearn: 273.3770659\ttotal: 1m 52s\tremaining: 41s\n",
      "1900:\tlearn: 267.7467807\ttotal: 1m 58s\tremaining: 34.8s\n",
      "2000:\tlearn: 262.4140558\ttotal: 2m 5s\tremaining: 28.6s\n",
      "2100:\tlearn: 257.1919610\ttotal: 2m 11s\tremaining: 22.3s\n",
      "2200:\tlearn: 252.3521215\ttotal: 2m 17s\tremaining: 16s\n",
      "2300:\tlearn: 247.7376563\ttotal: 2m 24s\tremaining: 9.77s\n",
      "2400:\tlearn: 243.3267707\ttotal: 2m 30s\tremaining: 3.51s\n",
      "2456:\tlearn: 241.0950663\ttotal: 2m 33s\tremaining: 0us\n"
     ]
    },
    {
     "name": "stderr",
     "output_type": "stream",
     "text": [
      "[I 2023-11-07 10:51:29,939] Trial 43 finished with value: 333.9551096448393 and parameters: {'iterations': 2457, 'learning_rate': 0.00932317093942035, 'depth': 11, 'min_data_in_leaf': 98, 'l2_leaf_reg': 3, 'bagging_temperature': 0.44943510454627267, 'random_strength': 0.5726736067234813, 'border_count': 965, 'rsm': 0.3450579172906279}. Best is trial 32 with value: 330.2513988255906.\n"
     ]
    },
    {
     "name": "stdout",
     "output_type": "stream",
     "text": [
      "0:\tlearn: 1132.8069642\ttotal: 212ms\tremaining: 10m\n",
      "100:\tlearn: 678.4964227\ttotal: 20.2s\tremaining: 9m 7s\n",
      "200:\tlearn: 495.8119840\ttotal: 41.2s\tremaining: 8m 59s\n",
      "300:\tlearn: 422.4577638\ttotal: 1m\tremaining: 8m 29s\n",
      "400:\tlearn: 387.0097330\ttotal: 1m 20s\tremaining: 8m 8s\n",
      "500:\tlearn: 365.7722481\ttotal: 1m 41s\tremaining: 7m 50s\n",
      "600:\tlearn: 349.1669005\ttotal: 2m 1s\tremaining: 7m 30s\n",
      "700:\tlearn: 334.2890968\ttotal: 2m 21s\tremaining: 7m 11s\n",
      "800:\tlearn: 320.4315903\ttotal: 2m 42s\tremaining: 6m 52s\n",
      "900:\tlearn: 308.0927531\ttotal: 3m 2s\tremaining: 6m 31s\n",
      "1000:\tlearn: 297.2613530\ttotal: 3m 22s\tremaining: 6m 10s\n",
      "1100:\tlearn: 286.6099575\ttotal: 3m 43s\tremaining: 5m 51s\n",
      "1200:\tlearn: 276.9245341\ttotal: 4m 3s\tremaining: 5m 31s\n",
      "1300:\tlearn: 267.5861060\ttotal: 4m 23s\tremaining: 5m 10s\n",
      "1400:\tlearn: 258.9731894\ttotal: 4m 44s\tremaining: 4m 51s\n",
      "1500:\tlearn: 250.7019732\ttotal: 5m 4s\tremaining: 4m 30s\n",
      "1600:\tlearn: 242.9081077\ttotal: 5m 24s\tremaining: 4m 10s\n",
      "1700:\tlearn: 235.5891627\ttotal: 5m 45s\tremaining: 3m 50s\n",
      "1800:\tlearn: 228.6462511\ttotal: 6m 6s\tremaining: 3m 29s\n",
      "1900:\tlearn: 221.8819737\ttotal: 6m 26s\tremaining: 3m 9s\n",
      "2000:\tlearn: 215.4254457\ttotal: 6m 47s\tremaining: 2m 49s\n",
      "2100:\tlearn: 208.9764073\ttotal: 7m 7s\tremaining: 2m 29s\n",
      "2200:\tlearn: 202.9244135\ttotal: 7m 27s\tremaining: 2m 8s\n",
      "2300:\tlearn: 197.0493852\ttotal: 7m 48s\tremaining: 1m 48s\n",
      "2400:\tlearn: 191.3656859\ttotal: 8m 9s\tremaining: 1m 28s\n",
      "2500:\tlearn: 186.1135584\ttotal: 8m 30s\tremaining: 1m 7s\n",
      "2600:\tlearn: 181.8174957\ttotal: 8m 51s\tremaining: 47.6s\n",
      "2700:\tlearn: 177.7276262\ttotal: 9m 11s\tremaining: 27.1s\n",
      "2800:\tlearn: 173.2160658\ttotal: 9m 31s\tremaining: 6.74s\n",
      "2833:\tlearn: 171.7437035\ttotal: 9m 39s\tremaining: 0us\n"
     ]
    },
    {
     "name": "stderr",
     "output_type": "stream",
     "text": [
      "[I 2023-11-07 11:01:12,417] Trial 44 finished with value: 331.90042337531537 and parameters: {'iterations': 2834, 'learning_rate': 0.007574927213799893, 'depth': 13, 'min_data_in_leaf': 84, 'l2_leaf_reg': 2, 'bagging_temperature': 0.5486414002991412, 'random_strength': 0.7368819260905479, 'border_count': 794, 'rsm': 0.278913810211804}. Best is trial 32 with value: 330.2513988255906.\n"
     ]
    },
    {
     "name": "stdout",
     "output_type": "stream",
     "text": [
      "0:\tlearn: 1132.6682034\ttotal: 256ms\tremaining: 11m 57s\n",
      "100:\tlearn: 676.2803375\ttotal: 24.3s\tremaining: 10m 50s\n",
      "200:\tlearn: 494.5504027\ttotal: 48.5s\tremaining: 10m 28s\n",
      "300:\tlearn: 421.4783989\ttotal: 1m 13s\tremaining: 10m 14s\n",
      "400:\tlearn: 386.5702728\ttotal: 1m 38s\tremaining: 9m 49s\n",
      "500:\tlearn: 364.2915402\ttotal: 2m 3s\tremaining: 9m 27s\n",
      "600:\tlearn: 347.5865072\ttotal: 2m 27s\tremaining: 9m 1s\n",
      "700:\tlearn: 331.9040775\ttotal: 2m 52s\tremaining: 8m 37s\n",
      "800:\tlearn: 318.7498659\ttotal: 3m 17s\tremaining: 8m 12s\n",
      "900:\tlearn: 306.3094818\ttotal: 3m 41s\tremaining: 7m 48s\n",
      "1000:\tlearn: 294.9573928\ttotal: 4m 6s\tremaining: 7m 24s\n",
      "1100:\tlearn: 284.6006490\ttotal: 4m 31s\tremaining: 6m 59s\n",
      "1200:\tlearn: 274.5146669\ttotal: 4m 55s\tremaining: 6m 34s\n",
      "1300:\tlearn: 265.1524655\ttotal: 5m 20s\tremaining: 6m 9s\n",
      "1400:\tlearn: 256.1770697\ttotal: 5m 44s\tremaining: 5m 45s\n",
      "1500:\tlearn: 247.3262330\ttotal: 6m 9s\tremaining: 5m 20s\n",
      "1600:\tlearn: 239.6304812\ttotal: 6m 33s\tremaining: 4m 55s\n",
      "1700:\tlearn: 231.9817489\ttotal: 6m 58s\tremaining: 4m 31s\n",
      "1800:\tlearn: 224.9101633\ttotal: 7m 23s\tremaining: 4m 6s\n",
      "1900:\tlearn: 218.2030744\ttotal: 7m 47s\tremaining: 3m 42s\n",
      "2000:\tlearn: 211.6147772\ttotal: 8m 13s\tremaining: 3m 17s\n",
      "2100:\tlearn: 205.0516766\ttotal: 8m 38s\tremaining: 2m 53s\n",
      "2200:\tlearn: 199.1580795\ttotal: 9m 3s\tremaining: 2m 28s\n",
      "2300:\tlearn: 193.5422932\ttotal: 9m 28s\tremaining: 2m 4s\n",
      "2400:\tlearn: 188.0231388\ttotal: 9m 53s\tremaining: 1m 39s\n",
      "2500:\tlearn: 183.1748714\ttotal: 10m 17s\tremaining: 1m 14s\n",
      "2600:\tlearn: 178.8375414\ttotal: 10m 42s\tremaining: 50.2s\n",
      "2700:\tlearn: 174.3799871\ttotal: 11m 6s\tremaining: 25.4s\n",
      "2800:\tlearn: 169.9316510\ttotal: 11m 31s\tremaining: 741ms\n",
      "2803:\tlearn: 169.8320926\ttotal: 11m 32s\tremaining: 0us\n"
     ]
    },
    {
     "name": "stderr",
     "output_type": "stream",
     "text": [
      "[I 2023-11-07 11:12:47,989] Trial 45 finished with value: 330.922149697378 and parameters: {'iterations': 2804, 'learning_rate': 0.007643040511053938, 'depth': 13, 'min_data_in_leaf': 78, 'l2_leaf_reg': 2, 'bagging_temperature': 0.5629659106100353, 'random_strength': 0.8225489641069358, 'border_count': 777, 'rsm': 0.3796722634433831}. Best is trial 32 with value: 330.2513988255906.\n"
     ]
    },
    {
     "name": "stdout",
     "output_type": "stream",
     "text": [
      "0:\tlearn: 1135.1188221\ttotal: 7.29ms\tremaining: 19.1s\n",
      "100:\tlearn: 798.0593126\ttotal: 749ms\tremaining: 18.7s\n",
      "200:\tlearn: 619.2190519\ttotal: 1.5s\tremaining: 18.1s\n",
      "300:\tlearn: 530.2828014\ttotal: 2.27s\tremaining: 17.5s\n",
      "400:\tlearn: 486.6857608\ttotal: 3.01s\tremaining: 16.7s\n",
      "500:\tlearn: 464.6134764\ttotal: 3.76s\tremaining: 15.9s\n",
      "600:\tlearn: 452.2088506\ttotal: 4.49s\tremaining: 15.1s\n",
      "700:\tlearn: 444.5375391\ttotal: 5.24s\tremaining: 14.4s\n",
      "800:\tlearn: 439.3559935\ttotal: 6.01s\tremaining: 13.6s\n",
      "900:\tlearn: 435.2367477\ttotal: 6.76s\tremaining: 12.9s\n",
      "1000:\tlearn: 431.8145355\ttotal: 7.51s\tremaining: 12.2s\n",
      "1100:\tlearn: 428.7761409\ttotal: 8.25s\tremaining: 11.4s\n",
      "1200:\tlearn: 425.9236558\ttotal: 9.01s\tremaining: 10.6s\n",
      "1300:\tlearn: 423.2590177\ttotal: 9.76s\tremaining: 9.9s\n",
      "1400:\tlearn: 420.8714280\ttotal: 10.5s\tremaining: 9.13s\n",
      "1500:\tlearn: 418.5996521\ttotal: 11.2s\tremaining: 8.37s\n",
      "1600:\tlearn: 416.3535284\ttotal: 12s\tremaining: 7.62s\n",
      "1700:\tlearn: 414.1848147\ttotal: 12.7s\tremaining: 6.86s\n",
      "1800:\tlearn: 412.0455247\ttotal: 13.4s\tremaining: 6.11s\n",
      "1900:\tlearn: 410.0774344\ttotal: 14.2s\tremaining: 5.38s\n",
      "2000:\tlearn: 408.0012699\ttotal: 15s\tremaining: 4.65s\n",
      "2100:\tlearn: 405.9146376\ttotal: 15.8s\tremaining: 3.91s\n",
      "2200:\tlearn: 403.8579589\ttotal: 16.6s\tremaining: 3.16s\n",
      "2300:\tlearn: 401.8317747\ttotal: 17.4s\tremaining: 2.41s\n",
      "2400:\tlearn: 399.9417093\ttotal: 18.1s\tremaining: 1.65s\n",
      "2500:\tlearn: 398.0487754\ttotal: 18.9s\tremaining: 898ms\n"
     ]
    },
    {
     "name": "stderr",
     "output_type": "stream",
     "text": [
      "[I 2023-11-07 11:13:08,251] Trial 46 finished with value: 342.09700013436753 and parameters: {'iterations': 2620, 'learning_rate': 0.005070724184368587, 'depth': 6, 'min_data_in_leaf': 21, 'l2_leaf_reg': 2, 'bagging_temperature': 0.5688383766264821, 'random_strength': 0.8137162975251085, 'border_count': 479, 'rsm': 0.4214686238813165}. Best is trial 32 with value: 330.2513988255906.\n"
     ]
    },
    {
     "name": "stdout",
     "output_type": "stream",
     "text": [
      "2600:\tlearn: 396.3117628\ttotal: 19.6s\tremaining: 143ms\n",
      "2619:\tlearn: 395.9915446\ttotal: 19.8s\tremaining: 0us\n",
      "0:\tlearn: 1132.7583382\ttotal: 262ms\tremaining: 12m 45s\n",
      "100:\tlearn: 675.5597810\ttotal: 27.6s\tremaining: 12m 50s\n",
      "200:\tlearn: 493.3781562\ttotal: 55.5s\tremaining: 12m 30s\n",
      "300:\tlearn: 419.1971150\ttotal: 1m 23s\tremaining: 12m 6s\n",
      "400:\tlearn: 383.6023959\ttotal: 1m 51s\tremaining: 11m 41s\n",
      "500:\tlearn: 362.2317189\ttotal: 2m 20s\tremaining: 11m 19s\n",
      "600:\tlearn: 346.2825310\ttotal: 2m 48s\tremaining: 10m 49s\n",
      "700:\tlearn: 331.3115914\ttotal: 3m 16s\tremaining: 10m 21s\n",
      "800:\tlearn: 317.8792761\ttotal: 3m 43s\tremaining: 9m 51s\n",
      "900:\tlearn: 305.6141094\ttotal: 4m 11s\tremaining: 9m 24s\n",
      "1000:\tlearn: 293.5594796\ttotal: 4m 39s\tremaining: 8m 55s\n",
      "1100:\tlearn: 282.6820602\ttotal: 5m 7s\tremaining: 8m 28s\n",
      "1200:\tlearn: 272.6999332\ttotal: 5m 35s\tremaining: 8m\n",
      "1300:\tlearn: 263.1845040\ttotal: 6m 3s\tremaining: 7m 32s\n",
      "1400:\tlearn: 254.0671333\ttotal: 6m 31s\tremaining: 7m 4s\n",
      "1500:\tlearn: 245.4950966\ttotal: 6m 59s\tremaining: 6m 37s\n",
      "1600:\tlearn: 237.7458139\ttotal: 7m 28s\tremaining: 6m 9s\n",
      "1700:\tlearn: 230.0043218\ttotal: 7m 56s\tremaining: 5m 41s\n",
      "1800:\tlearn: 222.5708374\ttotal: 8m 24s\tremaining: 5m 13s\n",
      "1900:\tlearn: 215.4628638\ttotal: 8m 52s\tremaining: 4m 45s\n",
      "2000:\tlearn: 208.5263562\ttotal: 9m 20s\tremaining: 4m 17s\n",
      "2100:\tlearn: 201.8533288\ttotal: 9m 47s\tremaining: 3m 49s\n",
      "2200:\tlearn: 195.7731269\ttotal: 10m 16s\tremaining: 3m 21s\n",
      "2300:\tlearn: 189.8597172\ttotal: 10m 44s\tremaining: 2m 53s\n",
      "2400:\tlearn: 184.7148590\ttotal: 11m 12s\tremaining: 2m 25s\n",
      "2500:\tlearn: 179.6983495\ttotal: 11m 40s\tremaining: 1m 57s\n",
      "2600:\tlearn: 174.9870925\ttotal: 12m 9s\tremaining: 1m 29s\n",
      "2700:\tlearn: 170.6900789\ttotal: 12m 37s\tremaining: 1m 1s\n",
      "2800:\tlearn: 166.4147352\ttotal: 13m 6s\tremaining: 33.4s\n",
      "2900:\tlearn: 162.2074497\ttotal: 13m 34s\tremaining: 5.33s\n",
      "2919:\tlearn: 161.4504153\ttotal: 13m 39s\tremaining: 0us\n"
     ]
    },
    {
     "name": "stderr",
     "output_type": "stream",
     "text": [
      "[I 2023-11-07 11:26:50,620] Trial 47 finished with value: 332.04837602260255 and parameters: {'iterations': 2920, 'learning_rate': 0.007657814150615681, 'depth': 13, 'min_data_in_leaf': 89, 'l2_leaf_reg': 2, 'bagging_temperature': 0.6188053392635819, 'random_strength': 0.8515873086554826, 'border_count': 730, 'rsm': 0.47306897185980235}. Best is trial 32 with value: 330.2513988255906.\n"
     ]
    },
    {
     "name": "stdout",
     "output_type": "stream",
     "text": [
      "0:\tlearn: 1134.4132065\ttotal: 61.1ms\tremaining: 32.9s\n",
      "100:\tlearn: 759.8273909\ttotal: 6.17s\tremaining: 26.8s\n",
      "200:\tlearn: 573.7162366\ttotal: 12.4s\tremaining: 21s\n",
      "300:\tlearn: 485.7391890\ttotal: 18.8s\tremaining: 15s\n",
      "400:\tlearn: 443.4336695\ttotal: 25.1s\tremaining: 8.71s\n",
      "500:\tlearn: 421.1026731\ttotal: 31.6s\tremaining: 2.46s\n"
     ]
    },
    {
     "name": "stderr",
     "output_type": "stream",
     "text": [
      "[I 2023-11-07 11:27:24,918] Trial 48 finished with value: 356.3519252681304 and parameters: {'iterations': 540, 'learning_rate': 0.00574571831809764, 'depth': 11, 'min_data_in_leaf': 33, 'l2_leaf_reg': 4, 'bagging_temperature': 0.4751178837497319, 'random_strength': 0.7799104566856966, 'border_count': 813, 'rsm': 0.4034842271620714}. Best is trial 32 with value: 330.2513988255906.\n"
     ]
    },
    {
     "name": "stdout",
     "output_type": "stream",
     "text": [
      "539:\tlearn: 414.6379447\ttotal: 34s\tremaining: 0us\n",
      "0:\tlearn: 1125.7611760\ttotal: 34.6ms\tremaining: 1m 42s\n",
      "100:\tlearn: 504.4390143\ttotal: 3.04s\tremaining: 1m 26s\n",
      "200:\tlearn: 422.2157476\ttotal: 6.04s\tremaining: 1m 23s\n",
      "300:\tlearn: 399.3353933\ttotal: 9.02s\tremaining: 1m 20s\n",
      "400:\tlearn: 383.0992171\ttotal: 12s\tremaining: 1m 17s\n",
      "500:\tlearn: 369.0757887\ttotal: 15s\tremaining: 1m 14s\n",
      "600:\tlearn: 355.7927633\ttotal: 18s\tremaining: 1m 11s\n",
      "700:\tlearn: 343.4252597\ttotal: 21s\tremaining: 1m 8s\n",
      "800:\tlearn: 332.4090632\ttotal: 24.1s\tremaining: 1m 5s\n",
      "900:\tlearn: 322.4049118\ttotal: 27.2s\tremaining: 1m 2s\n",
      "1000:\tlearn: 311.9270883\ttotal: 30.2s\tremaining: 59.7s\n",
      "1100:\tlearn: 302.6291142\ttotal: 33.2s\tremaining: 56.6s\n",
      "1200:\tlearn: 293.2445063\ttotal: 36.3s\tremaining: 53.7s\n",
      "1300:\tlearn: 285.2630072\ttotal: 39.6s\tremaining: 51.1s\n",
      "1400:\tlearn: 277.3319590\ttotal: 42.6s\tremaining: 48s\n",
      "1500:\tlearn: 270.3072990\ttotal: 45.7s\tremaining: 45s\n",
      "1600:\tlearn: 263.1706502\ttotal: 48.7s\tremaining: 41.9s\n",
      "1700:\tlearn: 256.5907145\ttotal: 51.7s\tremaining: 38.9s\n",
      "1800:\tlearn: 250.5379168\ttotal: 54.7s\tremaining: 35.8s\n",
      "1900:\tlearn: 244.7414388\ttotal: 57.8s\tremaining: 32.8s\n",
      "2000:\tlearn: 239.1600945\ttotal: 1m\tremaining: 29.8s\n",
      "2100:\tlearn: 233.8814751\ttotal: 1m 3s\tremaining: 26.7s\n",
      "2200:\tlearn: 228.8531597\ttotal: 1m 6s\tremaining: 23.7s\n",
      "2300:\tlearn: 224.1039339\ttotal: 1m 9s\tremaining: 20.6s\n",
      "2400:\tlearn: 219.8466905\ttotal: 1m 12s\tremaining: 17.6s\n",
      "2500:\tlearn: 215.7472169\ttotal: 1m 15s\tremaining: 14.5s\n",
      "2600:\tlearn: 211.3649439\ttotal: 1m 18s\tremaining: 11.5s\n",
      "2700:\tlearn: 207.0248139\ttotal: 1m 21s\tremaining: 8.44s\n",
      "2800:\tlearn: 202.7297601\ttotal: 1m 25s\tremaining: 5.41s\n",
      "2900:\tlearn: 198.7878042\ttotal: 1m 28s\tremaining: 2.37s\n",
      "2978:\tlearn: 195.5701827\ttotal: 1m 30s\tremaining: 0us\n"
     ]
    },
    {
     "name": "stderr",
     "output_type": "stream",
     "text": [
      "[I 2023-11-07 11:28:56,488] Trial 49 finished with value: 335.5880904034499 and parameters: {'iterations': 2979, 'learning_rate': 0.01578472893215096, 'depth': 10, 'min_data_in_leaf': 40, 'l2_leaf_reg': 3, 'bagging_temperature': 0.41460118681429925, 'random_strength': 0.92105253721429, 'border_count': 763, 'rsm': 0.3485047121416124}. Best is trial 32 with value: 330.2513988255906.\n"
     ]
    },
    {
     "name": "stdout",
     "output_type": "stream",
     "text": [
      "0:\tlearn: 1136.7093535\ttotal: 122ms\tremaining: 5m 45s\n",
      "100:\tlearn: 897.0826763\ttotal: 12.3s\tremaining: 5m 32s\n",
      "200:\tlearn: 730.7025535\ttotal: 24.1s\tremaining: 5m 16s\n",
      "300:\tlearn: 617.2713997\ttotal: 36s\tremaining: 5m 3s\n",
      "400:\tlearn: 541.0995002\ttotal: 47.9s\tremaining: 4m 51s\n",
      "500:\tlearn: 490.1334887\ttotal: 59.9s\tremaining: 4m 39s\n",
      "600:\tlearn: 455.8923718\ttotal: 1m 12s\tremaining: 4m 30s\n",
      "700:\tlearn: 432.2107292\ttotal: 1m 24s\tremaining: 4m 17s\n",
      "800:\tlearn: 415.0197589\ttotal: 1m 36s\tremaining: 4m 5s\n",
      "900:\tlearn: 402.5944229\ttotal: 1m 48s\tremaining: 3m 52s\n",
      "1000:\tlearn: 391.9215818\ttotal: 2m\tremaining: 3m 41s\n",
      "1100:\tlearn: 383.9238412\ttotal: 2m 12s\tremaining: 3m 29s\n",
      "1200:\tlearn: 376.9995797\ttotal: 2m 24s\tremaining: 3m 17s\n",
      "1300:\tlearn: 370.6590967\ttotal: 2m 36s\tremaining: 3m 4s\n",
      "1400:\tlearn: 364.7021070\ttotal: 2m 48s\tremaining: 2m 52s\n",
      "1500:\tlearn: 358.8173487\ttotal: 3m\tremaining: 2m 40s\n",
      "1600:\tlearn: 353.5472646\ttotal: 3m 12s\tremaining: 2m 28s\n",
      "1700:\tlearn: 347.8835092\ttotal: 3m 24s\tremaining: 2m 16s\n",
      "1800:\tlearn: 342.6394563\ttotal: 3m 36s\tremaining: 2m 4s\n",
      "1900:\tlearn: 337.5330013\ttotal: 3m 48s\tremaining: 1m 52s\n",
      "2000:\tlearn: 332.8619699\ttotal: 4m\tremaining: 1m 40s\n",
      "2100:\tlearn: 328.3220991\ttotal: 4m 12s\tremaining: 1m 28s\n",
      "2200:\tlearn: 324.0958298\ttotal: 4m 24s\tremaining: 1m 16s\n",
      "2300:\tlearn: 319.9470583\ttotal: 4m 36s\tremaining: 1m 4s\n",
      "2400:\tlearn: 315.8544701\ttotal: 4m 47s\tremaining: 52.1s\n",
      "2500:\tlearn: 311.8593297\ttotal: 4m 59s\tremaining: 40.1s\n",
      "2600:\tlearn: 308.0406820\ttotal: 5m 11s\tremaining: 28.2s\n",
      "2700:\tlearn: 304.0459766\ttotal: 5m 23s\tremaining: 16.2s\n",
      "2800:\tlearn: 300.3365050\ttotal: 5m 35s\tremaining: 4.19s\n",
      "2835:\tlearn: 299.0765733\ttotal: 5m 39s\tremaining: 0us\n"
     ]
    },
    {
     "name": "stderr",
     "output_type": "stream",
     "text": [
      "[I 2023-11-07 11:34:37,744] Trial 50 finished with value: 332.6197926020114 and parameters: {'iterations': 2836, 'learning_rate': 0.0031584951033491776, 'depth': 12, 'min_data_in_leaf': 79, 'l2_leaf_reg': 2, 'bagging_temperature': 0.5994646300804969, 'random_strength': 0.7088617742769863, 'border_count': 639, 'rsm': 0.5319515132580673}. Best is trial 32 with value: 330.2513988255906.\n"
     ]
    },
    {
     "name": "stdout",
     "output_type": "stream",
     "text": [
      "0:\tlearn: 1133.1333463\ttotal: 228ms\tremaining: 10m 42s\n",
      "100:\tlearn: 696.7460829\ttotal: 20s\tremaining: 8m 58s\n",
      "200:\tlearn: 511.2636395\ttotal: 41.3s\tremaining: 8m 56s\n",
      "300:\tlearn: 431.3117068\ttotal: 1m 2s\tremaining: 8m 39s\n",
      "400:\tlearn: 393.1878447\ttotal: 1m 23s\tremaining: 8m 20s\n",
      "500:\tlearn: 370.4534957\ttotal: 1m 44s\tremaining: 8m 1s\n",
      "600:\tlearn: 353.8886965\ttotal: 2m 4s\tremaining: 7m 40s\n",
      "700:\tlearn: 338.8204651\ttotal: 2m 26s\tremaining: 7m 23s\n",
      "800:\tlearn: 326.1606564\ttotal: 2m 48s\tremaining: 7m 3s\n",
      "900:\tlearn: 314.3331653\ttotal: 3m 9s\tremaining: 6m 42s\n",
      "1000:\tlearn: 302.6318073\ttotal: 3m 31s\tremaining: 6m 22s\n",
      "1100:\tlearn: 292.5123214\ttotal: 3m 51s\tremaining: 6m\n",
      "1200:\tlearn: 282.9863647\ttotal: 4m 13s\tremaining: 5m 40s\n",
      "1300:\tlearn: 273.2301665\ttotal: 4m 34s\tremaining: 5m 19s\n",
      "1400:\tlearn: 264.7931475\ttotal: 4m 55s\tremaining: 4m 58s\n",
      "1500:\tlearn: 256.5474600\ttotal: 5m 16s\tremaining: 4m 36s\n",
      "1600:\tlearn: 248.7696180\ttotal: 5m 38s\tremaining: 4m 16s\n",
      "1700:\tlearn: 241.1792551\ttotal: 5m 59s\tremaining: 3m 55s\n",
      "1800:\tlearn: 234.0447519\ttotal: 6m 20s\tremaining: 3m 34s\n",
      "1900:\tlearn: 227.5204270\ttotal: 6m 41s\tremaining: 3m 12s\n",
      "2000:\tlearn: 221.2174053\ttotal: 7m 2s\tremaining: 2m 51s\n",
      "2100:\tlearn: 214.8083823\ttotal: 7m 23s\tremaining: 2m 30s\n",
      "2200:\tlearn: 208.9163572\ttotal: 7m 44s\tremaining: 2m 9s\n",
      "2300:\tlearn: 203.0566214\ttotal: 8m 5s\tremaining: 1m 48s\n",
      "2400:\tlearn: 197.5252844\ttotal: 8m 26s\tremaining: 1m 27s\n",
      "2500:\tlearn: 192.3925570\ttotal: 8m 47s\tremaining: 1m 6s\n",
      "2600:\tlearn: 187.7059030\ttotal: 9m 8s\tremaining: 45.1s\n",
      "2700:\tlearn: 183.4528220\ttotal: 9m 30s\tremaining: 24.1s\n",
      "2800:\tlearn: 179.0225001\ttotal: 9m 52s\tremaining: 2.96s\n",
      "2814:\tlearn: 178.4980309\ttotal: 9m 54s\tremaining: 0us\n"
     ]
    },
    {
     "name": "stderr",
     "output_type": "stream",
     "text": [
      "[I 2023-11-07 11:44:35,755] Trial 51 finished with value: 328.3860772466676 and parameters: {'iterations': 2815, 'learning_rate': 0.007099215379206612, 'depth': 13, 'min_data_in_leaf': 84, 'l2_leaf_reg': 2, 'bagging_temperature': 0.5343409157539628, 'random_strength': 0.7466589469065493, 'border_count': 785, 'rsm': 0.3011005019052161}. Best is trial 51 with value: 328.3860772466676.\n"
     ]
    },
    {
     "name": "stdout",
     "output_type": "stream",
     "text": [
      "0:\tlearn: 1133.3681150\ttotal: 236ms\tremaining: 10m 27s\n",
      "100:\tlearn: 706.2452410\ttotal: 22.8s\tremaining: 9m 38s\n",
      "200:\tlearn: 521.6435447\ttotal: 47.5s\tremaining: 9m 40s\n",
      "300:\tlearn: 442.0707238\ttotal: 1m 10s\tremaining: 9m 12s\n",
      "400:\tlearn: 402.7629601\ttotal: 1m 33s\tremaining: 8m 48s\n",
      "500:\tlearn: 379.7082244\ttotal: 1m 57s\tremaining: 8m 25s\n",
      "600:\tlearn: 364.4554563\ttotal: 2m 20s\tremaining: 8m\n",
      "700:\tlearn: 351.1812152\ttotal: 2m 43s\tremaining: 7m 36s\n",
      "800:\tlearn: 338.7427154\ttotal: 3m 6s\tremaining: 7m 12s\n",
      "900:\tlearn: 327.1966008\ttotal: 3m 29s\tremaining: 6m 49s\n",
      "1000:\tlearn: 316.6172405\ttotal: 3m 53s\tremaining: 6m 27s\n",
      "1100:\tlearn: 306.8749880\ttotal: 4m 16s\tremaining: 6m 3s\n",
      "1200:\tlearn: 297.8539227\ttotal: 4m 40s\tremaining: 5m 40s\n",
      "1300:\tlearn: 289.6201029\ttotal: 5m 3s\tremaining: 5m 17s\n",
      "1400:\tlearn: 281.2540705\ttotal: 5m 27s\tremaining: 4m 54s\n",
      "1500:\tlearn: 273.6015816\ttotal: 5m 50s\tremaining: 4m 31s\n",
      "1600:\tlearn: 266.2127999\ttotal: 6m 13s\tremaining: 4m 7s\n",
      "1700:\tlearn: 259.2922023\ttotal: 6m 37s\tremaining: 3m 44s\n",
      "1800:\tlearn: 252.5811747\ttotal: 7m 1s\tremaining: 3m 21s\n",
      "1900:\tlearn: 246.2946385\ttotal: 7m 24s\tremaining: 2m 57s\n",
      "2000:\tlearn: 240.0537265\ttotal: 7m 47s\tremaining: 2m 34s\n",
      "2100:\tlearn: 234.1786102\ttotal: 8m 10s\tremaining: 2m 10s\n",
      "2200:\tlearn: 228.2644143\ttotal: 8m 33s\tremaining: 1m 47s\n",
      "2300:\tlearn: 222.6091582\ttotal: 8m 57s\tremaining: 1m 24s\n",
      "2400:\tlearn: 217.0955991\ttotal: 9m 21s\tremaining: 1m\n",
      "2500:\tlearn: 211.7977013\ttotal: 9m 44s\tremaining: 37.4s\n",
      "2600:\tlearn: 207.0831077\ttotal: 10m 7s\tremaining: 14s\n",
      "2660:\tlearn: 204.3427544\ttotal: 10m 21s\tremaining: 0us\n"
     ]
    },
    {
     "name": "stderr",
     "output_type": "stream",
     "text": [
      "[I 2023-11-07 11:54:59,975] Trial 52 finished with value: 331.6629828139493 and parameters: {'iterations': 2661, 'learning_rate': 0.006968859176463766, 'depth': 13, 'min_data_in_leaf': 94, 'l2_leaf_reg': 3, 'bagging_temperature': 0.5383095167977268, 'random_strength': 0.8247738689823597, 'border_count': 833, 'rsm': 0.32772800751053965}. Best is trial 51 with value: 328.3860772466676.\n"
     ]
    },
    {
     "name": "stdout",
     "output_type": "stream",
     "text": [
      "0:\tlearn: 1133.2985585\ttotal: 294ms\tremaining: 7m 27s\n",
      "100:\tlearn: 698.6318200\ttotal: 26.7s\tremaining: 6m 15s\n",
      "200:\tlearn: 513.5667495\ttotal: 52.7s\tremaining: 5m 46s\n",
      "300:\tlearn: 434.1472556\ttotal: 1m 19s\tremaining: 5m 20s\n",
      "400:\tlearn: 395.5552319\ttotal: 1m 45s\tremaining: 4m 54s\n",
      "500:\tlearn: 371.7547875\ttotal: 2m 11s\tremaining: 4m 28s\n",
      "600:\tlearn: 353.9862200\ttotal: 2m 38s\tremaining: 4m 2s\n",
      "700:\tlearn: 339.9323735\ttotal: 3m 4s\tremaining: 3m 36s\n",
      "800:\tlearn: 326.6252840\ttotal: 3m 31s\tremaining: 3m 10s\n",
      "900:\tlearn: 315.0840523\ttotal: 3m 57s\tremaining: 2m 43s\n",
      "1000:\tlearn: 304.0848548\ttotal: 4m 23s\tremaining: 2m 17s\n"
     ]
    },
    {
     "name": "stderr",
     "output_type": "stream",
     "text": [
      "[W 2023-11-07 11:59:31,029] Trial 53 failed with parameters: {'iterations': 1522, 'learning_rate': 0.007060797972679036, 'depth': 13, 'min_data_in_leaf': 95, 'l2_leaf_reg': 2, 'bagging_temperature': 0.5353354278609662, 'random_strength': 0.8290864611090117, 'border_count': 842, 'rsm': 0.388184021376477} because of the following error: KeyboardInterrupt('').\n",
      "Traceback (most recent call last):\n",
      "  File \"/opt/conda/lib/python3.10/site-packages/optuna/study/_optimize.py\", line 200, in _run_trial\n",
      "    value_or_values = func(trial)\n",
      "  File \"/var/tmp/ipykernel_2241/2326973077.py\", line 22, in <lambda>\n",
      "    study.optimize(lambda trial: objective(trial, X_train, y_train), n_trials=80)\n",
      "  File \"/var/tmp/ipykernel_2241/2326973077.py\", line 16, in objective\n",
      "    catboost_model_a.fit(train_pool_a)\n",
      "  File \"/opt/conda/lib/python3.10/site-packages/catboost/core.py\", line 5703, in fit\n",
      "    return self._fit(X, y, cat_features, text_features, embedding_features, None, sample_weight, None, None, None, None, baseline,\n",
      "  File \"/opt/conda/lib/python3.10/site-packages/catboost/core.py\", line 2319, in _fit\n",
      "    self._train(\n",
      "  File \"/opt/conda/lib/python3.10/site-packages/catboost/core.py\", line 1723, in _train\n",
      "    self._object._train(train_pool, test_pool, params, allow_clear_pool, init_model._object if init_model else None)\n",
      "  File \"_catboost.pyx\", line 4645, in _catboost._CatBoost._train\n",
      "  File \"_catboost.pyx\", line 4694, in _catboost._CatBoost._train\n",
      "KeyboardInterrupt\n",
      "[W 2023-11-07 11:59:31,032] Trial 53 failed with value None.\n"
     ]
    },
    {
     "ename": "KeyboardInterrupt",
     "evalue": "",
     "output_type": "error",
     "traceback": [
      "\u001b[0;31m---------------------------------------------------------------------------\u001b[0m",
      "\u001b[0;31mKeyboardInterrupt\u001b[0m                         Traceback (most recent call last)",
      "Cell \u001b[0;32mIn[14], line 22\u001b[0m\n\u001b[1;32m     19\u001b[0m     \u001b[38;5;28;01mreturn\u001b[39;00m MAE_a\n\u001b[1;32m     21\u001b[0m study \u001b[38;5;241m=\u001b[39m optuna\u001b[38;5;241m.\u001b[39mcreate_study(direction\u001b[38;5;241m=\u001b[39m\u001b[38;5;124m'\u001b[39m\u001b[38;5;124mminimize\u001b[39m\u001b[38;5;124m'\u001b[39m)\n\u001b[0;32m---> 22\u001b[0m \u001b[43mstudy\u001b[49m\u001b[38;5;241;43m.\u001b[39;49m\u001b[43moptimize\u001b[49m\u001b[43m(\u001b[49m\u001b[38;5;28;43;01mlambda\u001b[39;49;00m\u001b[43m \u001b[49m\u001b[43mtrial\u001b[49m\u001b[43m:\u001b[49m\u001b[43m \u001b[49m\u001b[43mobjective\u001b[49m\u001b[43m(\u001b[49m\u001b[43mtrial\u001b[49m\u001b[43m,\u001b[49m\u001b[43m \u001b[49m\u001b[43mX_train\u001b[49m\u001b[43m,\u001b[49m\u001b[43m \u001b[49m\u001b[43my_train\u001b[49m\u001b[43m)\u001b[49m\u001b[43m,\u001b[49m\u001b[43m \u001b[49m\u001b[43mn_trials\u001b[49m\u001b[38;5;241;43m=\u001b[39;49m\u001b[38;5;241;43m80\u001b[39;49m\u001b[43m)\u001b[49m\n",
      "File \u001b[0;32m/opt/conda/lib/python3.10/site-packages/optuna/study/study.py:451\u001b[0m, in \u001b[0;36mStudy.optimize\u001b[0;34m(self, func, n_trials, timeout, n_jobs, catch, callbacks, gc_after_trial, show_progress_bar)\u001b[0m\n\u001b[1;32m    348\u001b[0m \u001b[38;5;28;01mdef\u001b[39;00m \u001b[38;5;21moptimize\u001b[39m(\n\u001b[1;32m    349\u001b[0m     \u001b[38;5;28mself\u001b[39m,\n\u001b[1;32m    350\u001b[0m     func: ObjectiveFuncType,\n\u001b[0;32m   (...)\u001b[0m\n\u001b[1;32m    357\u001b[0m     show_progress_bar: \u001b[38;5;28mbool\u001b[39m \u001b[38;5;241m=\u001b[39m \u001b[38;5;28;01mFalse\u001b[39;00m,\n\u001b[1;32m    358\u001b[0m ) \u001b[38;5;241m-\u001b[39m\u001b[38;5;241m>\u001b[39m \u001b[38;5;28;01mNone\u001b[39;00m:\n\u001b[1;32m    359\u001b[0m \u001b[38;5;250m    \u001b[39m\u001b[38;5;124;03m\"\"\"Optimize an objective function.\u001b[39;00m\n\u001b[1;32m    360\u001b[0m \n\u001b[1;32m    361\u001b[0m \u001b[38;5;124;03m    Optimization is done by choosing a suitable set of hyperparameter values from a given\u001b[39;00m\n\u001b[0;32m   (...)\u001b[0m\n\u001b[1;32m    449\u001b[0m \u001b[38;5;124;03m            If nested invocation of this method occurs.\u001b[39;00m\n\u001b[1;32m    450\u001b[0m \u001b[38;5;124;03m    \"\"\"\u001b[39;00m\n\u001b[0;32m--> 451\u001b[0m     \u001b[43m_optimize\u001b[49m\u001b[43m(\u001b[49m\n\u001b[1;32m    452\u001b[0m \u001b[43m        \u001b[49m\u001b[43mstudy\u001b[49m\u001b[38;5;241;43m=\u001b[39;49m\u001b[38;5;28;43mself\u001b[39;49m\u001b[43m,\u001b[49m\n\u001b[1;32m    453\u001b[0m \u001b[43m        \u001b[49m\u001b[43mfunc\u001b[49m\u001b[38;5;241;43m=\u001b[39;49m\u001b[43mfunc\u001b[49m\u001b[43m,\u001b[49m\n\u001b[1;32m    454\u001b[0m \u001b[43m        \u001b[49m\u001b[43mn_trials\u001b[49m\u001b[38;5;241;43m=\u001b[39;49m\u001b[43mn_trials\u001b[49m\u001b[43m,\u001b[49m\n\u001b[1;32m    455\u001b[0m \u001b[43m        \u001b[49m\u001b[43mtimeout\u001b[49m\u001b[38;5;241;43m=\u001b[39;49m\u001b[43mtimeout\u001b[49m\u001b[43m,\u001b[49m\n\u001b[1;32m    456\u001b[0m \u001b[43m        \u001b[49m\u001b[43mn_jobs\u001b[49m\u001b[38;5;241;43m=\u001b[39;49m\u001b[43mn_jobs\u001b[49m\u001b[43m,\u001b[49m\n\u001b[1;32m    457\u001b[0m \u001b[43m        \u001b[49m\u001b[43mcatch\u001b[49m\u001b[38;5;241;43m=\u001b[39;49m\u001b[38;5;28;43mtuple\u001b[39;49m\u001b[43m(\u001b[49m\u001b[43mcatch\u001b[49m\u001b[43m)\u001b[49m\u001b[43m \u001b[49m\u001b[38;5;28;43;01mif\u001b[39;49;00m\u001b[43m \u001b[49m\u001b[38;5;28;43misinstance\u001b[39;49m\u001b[43m(\u001b[49m\u001b[43mcatch\u001b[49m\u001b[43m,\u001b[49m\u001b[43m \u001b[49m\u001b[43mIterable\u001b[49m\u001b[43m)\u001b[49m\u001b[43m \u001b[49m\u001b[38;5;28;43;01melse\u001b[39;49;00m\u001b[43m \u001b[49m\u001b[43m(\u001b[49m\u001b[43mcatch\u001b[49m\u001b[43m,\u001b[49m\u001b[43m)\u001b[49m\u001b[43m,\u001b[49m\n\u001b[1;32m    458\u001b[0m \u001b[43m        \u001b[49m\u001b[43mcallbacks\u001b[49m\u001b[38;5;241;43m=\u001b[39;49m\u001b[43mcallbacks\u001b[49m\u001b[43m,\u001b[49m\n\u001b[1;32m    459\u001b[0m \u001b[43m        \u001b[49m\u001b[43mgc_after_trial\u001b[49m\u001b[38;5;241;43m=\u001b[39;49m\u001b[43mgc_after_trial\u001b[49m\u001b[43m,\u001b[49m\n\u001b[1;32m    460\u001b[0m \u001b[43m        \u001b[49m\u001b[43mshow_progress_bar\u001b[49m\u001b[38;5;241;43m=\u001b[39;49m\u001b[43mshow_progress_bar\u001b[49m\u001b[43m,\u001b[49m\n\u001b[1;32m    461\u001b[0m \u001b[43m    \u001b[49m\u001b[43m)\u001b[49m\n",
      "File \u001b[0;32m/opt/conda/lib/python3.10/site-packages/optuna/study/_optimize.py:66\u001b[0m, in \u001b[0;36m_optimize\u001b[0;34m(study, func, n_trials, timeout, n_jobs, catch, callbacks, gc_after_trial, show_progress_bar)\u001b[0m\n\u001b[1;32m     64\u001b[0m \u001b[38;5;28;01mtry\u001b[39;00m:\n\u001b[1;32m     65\u001b[0m     \u001b[38;5;28;01mif\u001b[39;00m n_jobs \u001b[38;5;241m==\u001b[39m \u001b[38;5;241m1\u001b[39m:\n\u001b[0;32m---> 66\u001b[0m         \u001b[43m_optimize_sequential\u001b[49m\u001b[43m(\u001b[49m\n\u001b[1;32m     67\u001b[0m \u001b[43m            \u001b[49m\u001b[43mstudy\u001b[49m\u001b[43m,\u001b[49m\n\u001b[1;32m     68\u001b[0m \u001b[43m            \u001b[49m\u001b[43mfunc\u001b[49m\u001b[43m,\u001b[49m\n\u001b[1;32m     69\u001b[0m \u001b[43m            \u001b[49m\u001b[43mn_trials\u001b[49m\u001b[43m,\u001b[49m\n\u001b[1;32m     70\u001b[0m \u001b[43m            \u001b[49m\u001b[43mtimeout\u001b[49m\u001b[43m,\u001b[49m\n\u001b[1;32m     71\u001b[0m \u001b[43m            \u001b[49m\u001b[43mcatch\u001b[49m\u001b[43m,\u001b[49m\n\u001b[1;32m     72\u001b[0m \u001b[43m            \u001b[49m\u001b[43mcallbacks\u001b[49m\u001b[43m,\u001b[49m\n\u001b[1;32m     73\u001b[0m \u001b[43m            \u001b[49m\u001b[43mgc_after_trial\u001b[49m\u001b[43m,\u001b[49m\n\u001b[1;32m     74\u001b[0m \u001b[43m            \u001b[49m\u001b[43mreseed_sampler_rng\u001b[49m\u001b[38;5;241;43m=\u001b[39;49m\u001b[38;5;28;43;01mFalse\u001b[39;49;00m\u001b[43m,\u001b[49m\n\u001b[1;32m     75\u001b[0m \u001b[43m            \u001b[49m\u001b[43mtime_start\u001b[49m\u001b[38;5;241;43m=\u001b[39;49m\u001b[38;5;28;43;01mNone\u001b[39;49;00m\u001b[43m,\u001b[49m\n\u001b[1;32m     76\u001b[0m \u001b[43m            \u001b[49m\u001b[43mprogress_bar\u001b[49m\u001b[38;5;241;43m=\u001b[39;49m\u001b[43mprogress_bar\u001b[49m\u001b[43m,\u001b[49m\n\u001b[1;32m     77\u001b[0m \u001b[43m        \u001b[49m\u001b[43m)\u001b[49m\n\u001b[1;32m     78\u001b[0m     \u001b[38;5;28;01melse\u001b[39;00m:\n\u001b[1;32m     79\u001b[0m         \u001b[38;5;28;01mif\u001b[39;00m n_jobs \u001b[38;5;241m==\u001b[39m \u001b[38;5;241m-\u001b[39m\u001b[38;5;241m1\u001b[39m:\n",
      "File \u001b[0;32m/opt/conda/lib/python3.10/site-packages/optuna/study/_optimize.py:163\u001b[0m, in \u001b[0;36m_optimize_sequential\u001b[0;34m(study, func, n_trials, timeout, catch, callbacks, gc_after_trial, reseed_sampler_rng, time_start, progress_bar)\u001b[0m\n\u001b[1;32m    160\u001b[0m         \u001b[38;5;28;01mbreak\u001b[39;00m\n\u001b[1;32m    162\u001b[0m \u001b[38;5;28;01mtry\u001b[39;00m:\n\u001b[0;32m--> 163\u001b[0m     frozen_trial \u001b[38;5;241m=\u001b[39m \u001b[43m_run_trial\u001b[49m\u001b[43m(\u001b[49m\u001b[43mstudy\u001b[49m\u001b[43m,\u001b[49m\u001b[43m \u001b[49m\u001b[43mfunc\u001b[49m\u001b[43m,\u001b[49m\u001b[43m \u001b[49m\u001b[43mcatch\u001b[49m\u001b[43m)\u001b[49m\n\u001b[1;32m    164\u001b[0m \u001b[38;5;28;01mfinally\u001b[39;00m:\n\u001b[1;32m    165\u001b[0m     \u001b[38;5;66;03m# The following line mitigates memory problems that can be occurred in some\u001b[39;00m\n\u001b[1;32m    166\u001b[0m     \u001b[38;5;66;03m# environments (e.g., services that use computing containers such as GitHub Actions).\u001b[39;00m\n\u001b[1;32m    167\u001b[0m     \u001b[38;5;66;03m# Please refer to the following PR for further details:\u001b[39;00m\n\u001b[1;32m    168\u001b[0m     \u001b[38;5;66;03m# https://github.com/optuna/optuna/pull/325.\u001b[39;00m\n\u001b[1;32m    169\u001b[0m     \u001b[38;5;28;01mif\u001b[39;00m gc_after_trial:\n",
      "File \u001b[0;32m/opt/conda/lib/python3.10/site-packages/optuna/study/_optimize.py:251\u001b[0m, in \u001b[0;36m_run_trial\u001b[0;34m(study, func, catch)\u001b[0m\n\u001b[1;32m    244\u001b[0m         \u001b[38;5;28;01massert\u001b[39;00m \u001b[38;5;28;01mFalse\u001b[39;00m, \u001b[38;5;124m\"\u001b[39m\u001b[38;5;124mShould not reach.\u001b[39m\u001b[38;5;124m\"\u001b[39m\n\u001b[1;32m    246\u001b[0m \u001b[38;5;28;01mif\u001b[39;00m (\n\u001b[1;32m    247\u001b[0m     frozen_trial\u001b[38;5;241m.\u001b[39mstate \u001b[38;5;241m==\u001b[39m TrialState\u001b[38;5;241m.\u001b[39mFAIL\n\u001b[1;32m    248\u001b[0m     \u001b[38;5;129;01mand\u001b[39;00m func_err \u001b[38;5;129;01mis\u001b[39;00m \u001b[38;5;129;01mnot\u001b[39;00m \u001b[38;5;28;01mNone\u001b[39;00m\n\u001b[1;32m    249\u001b[0m     \u001b[38;5;129;01mand\u001b[39;00m \u001b[38;5;129;01mnot\u001b[39;00m \u001b[38;5;28misinstance\u001b[39m(func_err, catch)\n\u001b[1;32m    250\u001b[0m ):\n\u001b[0;32m--> 251\u001b[0m     \u001b[38;5;28;01mraise\u001b[39;00m func_err\n\u001b[1;32m    252\u001b[0m \u001b[38;5;28;01mreturn\u001b[39;00m frozen_trial\n",
      "File \u001b[0;32m/opt/conda/lib/python3.10/site-packages/optuna/study/_optimize.py:200\u001b[0m, in \u001b[0;36m_run_trial\u001b[0;34m(study, func, catch)\u001b[0m\n\u001b[1;32m    198\u001b[0m \u001b[38;5;28;01mwith\u001b[39;00m get_heartbeat_thread(trial\u001b[38;5;241m.\u001b[39m_trial_id, study\u001b[38;5;241m.\u001b[39m_storage):\n\u001b[1;32m    199\u001b[0m     \u001b[38;5;28;01mtry\u001b[39;00m:\n\u001b[0;32m--> 200\u001b[0m         value_or_values \u001b[38;5;241m=\u001b[39m \u001b[43mfunc\u001b[49m\u001b[43m(\u001b[49m\u001b[43mtrial\u001b[49m\u001b[43m)\u001b[49m\n\u001b[1;32m    201\u001b[0m     \u001b[38;5;28;01mexcept\u001b[39;00m exceptions\u001b[38;5;241m.\u001b[39mTrialPruned \u001b[38;5;28;01mas\u001b[39;00m e:\n\u001b[1;32m    202\u001b[0m         \u001b[38;5;66;03m# TODO(mamu): Handle multi-objective cases.\u001b[39;00m\n\u001b[1;32m    203\u001b[0m         state \u001b[38;5;241m=\u001b[39m TrialState\u001b[38;5;241m.\u001b[39mPRUNED\n",
      "Cell \u001b[0;32mIn[14], line 22\u001b[0m, in \u001b[0;36m<lambda>\u001b[0;34m(trial)\u001b[0m\n\u001b[1;32m     19\u001b[0m     \u001b[38;5;28;01mreturn\u001b[39;00m MAE_a\n\u001b[1;32m     21\u001b[0m study \u001b[38;5;241m=\u001b[39m optuna\u001b[38;5;241m.\u001b[39mcreate_study(direction\u001b[38;5;241m=\u001b[39m\u001b[38;5;124m'\u001b[39m\u001b[38;5;124mminimize\u001b[39m\u001b[38;5;124m'\u001b[39m)\n\u001b[0;32m---> 22\u001b[0m study\u001b[38;5;241m.\u001b[39moptimize(\u001b[38;5;28;01mlambda\u001b[39;00m trial: \u001b[43mobjective\u001b[49m\u001b[43m(\u001b[49m\u001b[43mtrial\u001b[49m\u001b[43m,\u001b[49m\u001b[43m \u001b[49m\u001b[43mX_train\u001b[49m\u001b[43m,\u001b[49m\u001b[43m \u001b[49m\u001b[43my_train\u001b[49m\u001b[43m)\u001b[49m, n_trials\u001b[38;5;241m=\u001b[39m\u001b[38;5;241m80\u001b[39m)\n",
      "Cell \u001b[0;32mIn[14], line 16\u001b[0m, in \u001b[0;36mobjective\u001b[0;34m(trial, X_train, y_train)\u001b[0m\n\u001b[1;32m      3\u001b[0m params \u001b[38;5;241m=\u001b[39m {\n\u001b[1;32m      4\u001b[0m     \u001b[38;5;124m\"\u001b[39m\u001b[38;5;124miterations\u001b[39m\u001b[38;5;124m\"\u001b[39m: trial\u001b[38;5;241m.\u001b[39msuggest_int(\u001b[38;5;124m\"\u001b[39m\u001b[38;5;124miterations\u001b[39m\u001b[38;5;124m\"\u001b[39m, \u001b[38;5;241m300\u001b[39m, \u001b[38;5;241m3000\u001b[39m),\n\u001b[1;32m      5\u001b[0m     \u001b[38;5;124m\"\u001b[39m\u001b[38;5;124mlearning_rate\u001b[39m\u001b[38;5;124m\"\u001b[39m: trial\u001b[38;5;241m.\u001b[39msuggest_float(\u001b[38;5;124m\"\u001b[39m\u001b[38;5;124mlearning_rate\u001b[39m\u001b[38;5;124m\"\u001b[39m, \u001b[38;5;241m1e-3\u001b[39m, \u001b[38;5;241m0.1\u001b[39m, log\u001b[38;5;241m=\u001b[39m\u001b[38;5;28;01mTrue\u001b[39;00m),\n\u001b[0;32m   (...)\u001b[0m\n\u001b[1;32m     12\u001b[0m     \u001b[38;5;124m\"\u001b[39m\u001b[38;5;124mrsm\u001b[39m\u001b[38;5;124m\"\u001b[39m: trial\u001b[38;5;241m.\u001b[39msuggest_float(\u001b[38;5;124m\"\u001b[39m\u001b[38;5;124mrsm\u001b[39m\u001b[38;5;124m\"\u001b[39m, \u001b[38;5;241m0.05\u001b[39m, \u001b[38;5;241m1\u001b[39m),\n\u001b[1;32m     13\u001b[0m }\n\u001b[1;32m     15\u001b[0m catboost_model_a \u001b[38;5;241m=\u001b[39m CatBoostRegressor(\u001b[38;5;241m*\u001b[39m\u001b[38;5;241m*\u001b[39mparams, verbose\u001b[38;5;241m=\u001b[39m\u001b[38;5;241m100\u001b[39m)\n\u001b[0;32m---> 16\u001b[0m \u001b[43mcatboost_model_a\u001b[49m\u001b[38;5;241;43m.\u001b[39;49m\u001b[43mfit\u001b[49m\u001b[43m(\u001b[49m\u001b[43mtrain_pool_a\u001b[49m\u001b[43m)\u001b[49m\n\u001b[1;32m     17\u001b[0m pred_a \u001b[38;5;241m=\u001b[39m pd\u001b[38;5;241m.\u001b[39mDataFrame(catboost_model_a\u001b[38;5;241m.\u001b[39mpredict(test_pool_a))\n\u001b[1;32m     18\u001b[0m MAE_a \u001b[38;5;241m=\u001b[39m mean_absolute_error(y_test_a, pred_a)\n",
      "File \u001b[0;32m/opt/conda/lib/python3.10/site-packages/catboost/core.py:5703\u001b[0m, in \u001b[0;36mCatBoostRegressor.fit\u001b[0;34m(self, X, y, cat_features, text_features, embedding_features, sample_weight, baseline, use_best_model, eval_set, verbose, logging_level, plot, plot_file, column_description, verbose_eval, metric_period, silent, early_stopping_rounds, save_snapshot, snapshot_file, snapshot_interval, init_model, callbacks, log_cout, log_cerr)\u001b[0m\n\u001b[1;32m   5700\u001b[0m \u001b[38;5;28;01mif\u001b[39;00m \u001b[38;5;124m'\u001b[39m\u001b[38;5;124mloss_function\u001b[39m\u001b[38;5;124m'\u001b[39m \u001b[38;5;129;01min\u001b[39;00m params:\n\u001b[1;32m   5701\u001b[0m     CatBoostRegressor\u001b[38;5;241m.\u001b[39m_check_is_compatible_loss(params[\u001b[38;5;124m'\u001b[39m\u001b[38;5;124mloss_function\u001b[39m\u001b[38;5;124m'\u001b[39m])\n\u001b[0;32m-> 5703\u001b[0m \u001b[38;5;28;01mreturn\u001b[39;00m \u001b[38;5;28;43mself\u001b[39;49m\u001b[38;5;241;43m.\u001b[39;49m\u001b[43m_fit\u001b[49m\u001b[43m(\u001b[49m\u001b[43mX\u001b[49m\u001b[43m,\u001b[49m\u001b[43m \u001b[49m\u001b[43my\u001b[49m\u001b[43m,\u001b[49m\u001b[43m \u001b[49m\u001b[43mcat_features\u001b[49m\u001b[43m,\u001b[49m\u001b[43m \u001b[49m\u001b[43mtext_features\u001b[49m\u001b[43m,\u001b[49m\u001b[43m \u001b[49m\u001b[43membedding_features\u001b[49m\u001b[43m,\u001b[49m\u001b[43m \u001b[49m\u001b[38;5;28;43;01mNone\u001b[39;49;00m\u001b[43m,\u001b[49m\u001b[43m \u001b[49m\u001b[43msample_weight\u001b[49m\u001b[43m,\u001b[49m\u001b[43m \u001b[49m\u001b[38;5;28;43;01mNone\u001b[39;49;00m\u001b[43m,\u001b[49m\u001b[43m \u001b[49m\u001b[38;5;28;43;01mNone\u001b[39;49;00m\u001b[43m,\u001b[49m\u001b[43m \u001b[49m\u001b[38;5;28;43;01mNone\u001b[39;49;00m\u001b[43m,\u001b[49m\u001b[43m \u001b[49m\u001b[38;5;28;43;01mNone\u001b[39;49;00m\u001b[43m,\u001b[49m\u001b[43m \u001b[49m\u001b[43mbaseline\u001b[49m\u001b[43m,\u001b[49m\n\u001b[1;32m   5704\u001b[0m \u001b[43m                 \u001b[49m\u001b[43muse_best_model\u001b[49m\u001b[43m,\u001b[49m\u001b[43m \u001b[49m\u001b[43meval_set\u001b[49m\u001b[43m,\u001b[49m\u001b[43m \u001b[49m\u001b[43mverbose\u001b[49m\u001b[43m,\u001b[49m\u001b[43m \u001b[49m\u001b[43mlogging_level\u001b[49m\u001b[43m,\u001b[49m\u001b[43m \u001b[49m\u001b[43mplot\u001b[49m\u001b[43m,\u001b[49m\u001b[43m \u001b[49m\u001b[43mplot_file\u001b[49m\u001b[43m,\u001b[49m\u001b[43m \u001b[49m\u001b[43mcolumn_description\u001b[49m\u001b[43m,\u001b[49m\n\u001b[1;32m   5705\u001b[0m \u001b[43m                 \u001b[49m\u001b[43mverbose_eval\u001b[49m\u001b[43m,\u001b[49m\u001b[43m \u001b[49m\u001b[43mmetric_period\u001b[49m\u001b[43m,\u001b[49m\u001b[43m \u001b[49m\u001b[43msilent\u001b[49m\u001b[43m,\u001b[49m\u001b[43m \u001b[49m\u001b[43mearly_stopping_rounds\u001b[49m\u001b[43m,\u001b[49m\n\u001b[1;32m   5706\u001b[0m \u001b[43m                 \u001b[49m\u001b[43msave_snapshot\u001b[49m\u001b[43m,\u001b[49m\u001b[43m \u001b[49m\u001b[43msnapshot_file\u001b[49m\u001b[43m,\u001b[49m\u001b[43m \u001b[49m\u001b[43msnapshot_interval\u001b[49m\u001b[43m,\u001b[49m\u001b[43m \u001b[49m\u001b[43minit_model\u001b[49m\u001b[43m,\u001b[49m\u001b[43m \u001b[49m\u001b[43mcallbacks\u001b[49m\u001b[43m,\u001b[49m\u001b[43m \u001b[49m\u001b[43mlog_cout\u001b[49m\u001b[43m,\u001b[49m\u001b[43m \u001b[49m\u001b[43mlog_cerr\u001b[49m\u001b[43m)\u001b[49m\n",
      "File \u001b[0;32m/opt/conda/lib/python3.10/site-packages/catboost/core.py:2319\u001b[0m, in \u001b[0;36mCatBoost._fit\u001b[0;34m(self, X, y, cat_features, text_features, embedding_features, pairs, sample_weight, group_id, group_weight, subgroup_id, pairs_weight, baseline, use_best_model, eval_set, verbose, logging_level, plot, plot_file, column_description, verbose_eval, metric_period, silent, early_stopping_rounds, save_snapshot, snapshot_file, snapshot_interval, init_model, callbacks, log_cout, log_cerr)\u001b[0m\n\u001b[1;32m   2315\u001b[0m allow_clear_pool \u001b[38;5;241m=\u001b[39m train_params[\u001b[38;5;124m\"\u001b[39m\u001b[38;5;124mallow_clear_pool\u001b[39m\u001b[38;5;124m\"\u001b[39m]\n\u001b[1;32m   2317\u001b[0m \u001b[38;5;28;01mwith\u001b[39;00m log_fixup(log_cout, log_cerr), \\\n\u001b[1;32m   2318\u001b[0m     plot_wrapper(plot, plot_file, \u001b[38;5;124m'\u001b[39m\u001b[38;5;124mTraining plots\u001b[39m\u001b[38;5;124m'\u001b[39m, [_get_train_dir(\u001b[38;5;28mself\u001b[39m\u001b[38;5;241m.\u001b[39mget_params())]):\n\u001b[0;32m-> 2319\u001b[0m     \u001b[38;5;28;43mself\u001b[39;49m\u001b[38;5;241;43m.\u001b[39;49m\u001b[43m_train\u001b[49m\u001b[43m(\u001b[49m\n\u001b[1;32m   2320\u001b[0m \u001b[43m        \u001b[49m\u001b[43mtrain_pool\u001b[49m\u001b[43m,\u001b[49m\n\u001b[1;32m   2321\u001b[0m \u001b[43m        \u001b[49m\u001b[43mtrain_params\u001b[49m\u001b[43m[\u001b[49m\u001b[38;5;124;43m\"\u001b[39;49m\u001b[38;5;124;43meval_sets\u001b[39;49m\u001b[38;5;124;43m\"\u001b[39;49m\u001b[43m]\u001b[49m\u001b[43m,\u001b[49m\n\u001b[1;32m   2322\u001b[0m \u001b[43m        \u001b[49m\u001b[43mparams\u001b[49m\u001b[43m,\u001b[49m\n\u001b[1;32m   2323\u001b[0m \u001b[43m        \u001b[49m\u001b[43mallow_clear_pool\u001b[49m\u001b[43m,\u001b[49m\n\u001b[1;32m   2324\u001b[0m \u001b[43m        \u001b[49m\u001b[43mtrain_params\u001b[49m\u001b[43m[\u001b[49m\u001b[38;5;124;43m\"\u001b[39;49m\u001b[38;5;124;43minit_model\u001b[39;49m\u001b[38;5;124;43m\"\u001b[39;49m\u001b[43m]\u001b[49m\n\u001b[1;32m   2325\u001b[0m \u001b[43m    \u001b[49m\u001b[43m)\u001b[49m\n\u001b[1;32m   2327\u001b[0m \u001b[38;5;66;03m# Have property feature_importance possibly set\u001b[39;00m\n\u001b[1;32m   2328\u001b[0m loss \u001b[38;5;241m=\u001b[39m \u001b[38;5;28mself\u001b[39m\u001b[38;5;241m.\u001b[39m_object\u001b[38;5;241m.\u001b[39m_get_loss_function_name()\n",
      "File \u001b[0;32m/opt/conda/lib/python3.10/site-packages/catboost/core.py:1723\u001b[0m, in \u001b[0;36m_CatBoostBase._train\u001b[0;34m(self, train_pool, test_pool, params, allow_clear_pool, init_model)\u001b[0m\n\u001b[1;32m   1722\u001b[0m \u001b[38;5;28;01mdef\u001b[39;00m \u001b[38;5;21m_train\u001b[39m(\u001b[38;5;28mself\u001b[39m, train_pool, test_pool, params, allow_clear_pool, init_model):\n\u001b[0;32m-> 1723\u001b[0m     \u001b[38;5;28;43mself\u001b[39;49m\u001b[38;5;241;43m.\u001b[39;49m\u001b[43m_object\u001b[49m\u001b[38;5;241;43m.\u001b[39;49m\u001b[43m_train\u001b[49m\u001b[43m(\u001b[49m\u001b[43mtrain_pool\u001b[49m\u001b[43m,\u001b[49m\u001b[43m \u001b[49m\u001b[43mtest_pool\u001b[49m\u001b[43m,\u001b[49m\u001b[43m \u001b[49m\u001b[43mparams\u001b[49m\u001b[43m,\u001b[49m\u001b[43m \u001b[49m\u001b[43mallow_clear_pool\u001b[49m\u001b[43m,\u001b[49m\u001b[43m \u001b[49m\u001b[43minit_model\u001b[49m\u001b[38;5;241;43m.\u001b[39;49m\u001b[43m_object\u001b[49m\u001b[43m \u001b[49m\u001b[38;5;28;43;01mif\u001b[39;49;00m\u001b[43m \u001b[49m\u001b[43minit_model\u001b[49m\u001b[43m \u001b[49m\u001b[38;5;28;43;01melse\u001b[39;49;00m\u001b[43m \u001b[49m\u001b[38;5;28;43;01mNone\u001b[39;49;00m\u001b[43m)\u001b[49m\n\u001b[1;32m   1724\u001b[0m     \u001b[38;5;28mself\u001b[39m\u001b[38;5;241m.\u001b[39m_set_trained_model_attributes()\n",
      "File \u001b[0;32m_catboost.pyx:4645\u001b[0m, in \u001b[0;36m_catboost._CatBoost._train\u001b[0;34m()\u001b[0m\n",
      "File \u001b[0;32m_catboost.pyx:4694\u001b[0m, in \u001b[0;36m_catboost._CatBoost._train\u001b[0;34m()\u001b[0m\n",
      "\u001b[0;31mKeyboardInterrupt\u001b[0m: "
     ]
    }
   ],
   "source": [
    "#For location A\n",
    "def objective(trial, X_train, y_train):\n",
    "    params = {\n",
    "        \"iterations\": trial.suggest_int(\"iterations\", 300, 3000),\n",
    "        \"learning_rate\": trial.suggest_float(\"learning_rate\", 1e-3, 0.1, log=True),\n",
    "        \"depth\": trial.suggest_int(\"depth\", 1, 13),\n",
    "        \"min_data_in_leaf\": trial.suggest_int(\"min_data_in_leaf\", 1, 100),\n",
    "        \"l2_leaf_reg\": trial.suggest_int(\"l2_leaf_reg\", 2, 10),\n",
    "        \"bagging_temperature\": trial.suggest_float(\"bagging_temperature\", 0.3, 1.0),\n",
    "        \"random_strength\": trial.suggest_float(\"random_strength\", 0.3, 1.0),\n",
    "        \"border_count\": trial.suggest_int(\"border_count\", 1, 1000),\n",
    "        \"rsm\": trial.suggest_float(\"rsm\", 0.05, 1),\n",
    "    }\n",
    "\n",
    "    catboost_model_a = CatBoostRegressor(**params, verbose=100)\n",
    "    catboost_model_a.fit(train_pool_a)\n",
    "    pred_a = pd.DataFrame(catboost_model_a.predict(test_pool_a))\n",
    "    MAE_a = mean_absolute_error(y_test_a, pred_a)\n",
    "    return MAE_a\n",
    "\n",
    "study = optuna.create_study(direction='minimize')\n",
    "study.optimize(lambda trial: objective(trial, X_train, y_train), n_trials=80)"
   ]
  },
  {
   "cell_type": "code",
   "execution_count": 10,
   "metadata": {},
   "outputs": [
    {
     "name": "stdout",
     "output_type": "stream",
     "text": [
      "{'iterations': 1852, 'learning_rate': 0.0018854412552105353, 'depth': 9, 'colsample_bylevel': 0.7366562974962199, 'min_data_in_leaf': 4, 'l2_leaf_reg': 3, 'has-time': True, 'bagging_temperature': 0.9525931510378696, 'random_strength': 0.30613129187014626, 'border_count': 993, 'rsm': 0.21119141087462187, 'nan_mode': 'min'}\n",
      "351.34628571238125\n"
     ]
    }
   ],
   "source": [
    "#to output the best paramaters\n",
    "print(study.best_params)\n",
    "\n",
    "#to output the best score returned from the trials\n",
    "print(study.best_value)\n",
    "\n",
    "\n",
    "with open(\"optuna-best-parameters_a.txt\", \"w\") as file:\n",
    "    file.write(\"Best paramaters: \\n\")\n",
    "    file.write(json.dumps(study.best_params))  # Write the first string followed by a newline character\n",
    "    file.write(\"\\n\")\n",
    "    file.write(\"best score MAE: \\n\")\n",
    "    file.write(json.dumps(study.best_value))  # Write the second string followed by a newline character"
   ]
  },
  {
   "cell_type": "code",
   "execution_count": null,
   "metadata": {},
   "outputs": [],
   "source": []
  }
 ],
 "metadata": {
  "environment": {
   "kernel": "python3",
   "name": "common-cpu.m112",
   "type": "gcloud",
   "uri": "gcr.io/deeplearning-platform-release/base-cpu:m112"
  },
  "kernelspec": {
   "display_name": "Python 3",
   "language": "python",
   "name": "python3"
  },
  "language_info": {
   "codemirror_mode": {
    "name": "ipython",
    "version": 3
   },
   "file_extension": ".py",
   "mimetype": "text/x-python",
   "name": "python",
   "nbconvert_exporter": "python",
   "pygments_lexer": "ipython3",
   "version": "3.10.12"
  }
 },
 "nbformat": 4,
 "nbformat_minor": 4
}
