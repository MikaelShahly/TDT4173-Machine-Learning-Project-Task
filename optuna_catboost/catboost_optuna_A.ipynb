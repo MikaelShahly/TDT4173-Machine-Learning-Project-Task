{
 "cells": [
  {
   "cell_type": "code",
   "execution_count": 6,
   "metadata": {},
   "outputs": [],
   "source": [
    "import pandas as pd\n",
    "import numpy as np\n",
    "from catboost import Pool, CatBoostRegressor\n",
    "from sklearn.model_selection import cross_val_score\n",
    "from sklearn.model_selection import TimeSeriesSplit \n",
    "import optuna \n",
    "import json\n",
    "from sklearn.metrics import mean_absolute_error"
   ]
  },
  {
   "cell_type": "code",
   "execution_count": 7,
   "metadata": {},
   "outputs": [],
   "source": [
    "#Load inn datasets\n",
    "X_test  = pd.read_parquet('../data/prepared_datasets/only_y_cleaned/X_test.parquet')\n",
    "X_train = pd.read_parquet('../data/prepared_datasets/only_y_cleaned/X_train.parquet')\n",
    "y_train = pd.read_parquet('../data/prepared_datasets/only_y_cleaned/Y_train.parquet')\n",
    "y_train_a = pd.read_parquet('../data/prepared_datasets/only_y_cleaned/Y_train_a.parquet')\n",
    "y_train_b = pd.read_parquet('../data/prepared_datasets/only_y_cleaned/Y_train_b.parquet')\n",
    "y_train_c = pd.read_parquet('../data/prepared_datasets/only_y_cleaned/Y_train_c.parquet')"
   ]
  },
  {
   "cell_type": "code",
   "execution_count": 8,
   "metadata": {},
   "outputs": [],
   "source": [
    "def splitting_def(df):\n",
    "    date_range_1 = (df.index >= '2020-05-01') & (df.index <= '2020-06-25')\n",
    "    date_range_2 = (df.index >= '2023-05-01') & (df.index <= '2023-06-15')\n",
    "\n",
    "    # Combine the date ranges to create the test set\n",
    "    test_set = df[date_range_1 | date_range_2]\n",
    "\n",
    "    # The rest of the data will be your training set\n",
    "    training_set = df[~(date_range_1 | date_range_2)]\n",
    "    \n",
    "    # Splitting the test_set into X_test and y_test\n",
    "    X_test = test_set.drop(\"pv_measurement\", axis=1)\n",
    "    y_test = test_set['pv_measurement']  # Assuming 'pv_measurement' is your target variable\n",
    "\n",
    "    # Splitting the training_set into X_train and y_train\n",
    "    X_train = training_set.drop(\"pv_measurement\", axis=1)\n",
    "    y_train = training_set['pv_measurement']\n",
    "    \n",
    "    return X_train, X_test, y_train, y_test\n",
    "\n",
    "X_train_new_a, X_test_new_a, y_train_new_a, y_test_a = splitting_def(pd.concat([X_train[X_train[\"location\"] == \"A\"].drop(\"location\", axis=1), y_train_a], axis=1))\n",
    "X_train_new_b, X_test_new_b, y_train_new_b, y_test_b = splitting_def(pd.concat([X_train[X_train[\"location\"] == \"B\"].drop(\"location\", axis=1), y_train_b], axis=1))\n",
    "X_train_new_c, X_test_new_c, y_train_new_c, y_test_c = splitting_def(pd.concat([X_train[X_train[\"location\"] == \"C\"].drop(\"location\", axis=1), y_train_c], axis=1))"
   ]
  },
  {
   "cell_type": "code",
   "execution_count": 9,
   "metadata": {},
   "outputs": [],
   "source": [
    "#Create a pool of data\n",
    "train_pool_a = Pool(X_train_new_a, y_train_new_a)\n",
    "train_pool_b = Pool(X_train_new_b, y_train_new_b)\n",
    "train_pool_c = Pool(X_train_new_c, y_train_new_c)\n",
    "\n",
    "\n",
    "test_pool_a = Pool(X_test_new_a) \n",
    "test_pool_b = Pool(X_test_new_b) \n",
    "test_pool_c = Pool(X_test_new_c) "
   ]
  },
  {
   "cell_type": "code",
   "execution_count": 14,
   "metadata": {},
   "outputs": [
    {
     "name": "stderr",
     "output_type": "stream",
     "text": [
      "[I 2023-11-06 20:06:33,040] A new study created in memory with name: no-name-39b145e3-dffd-4b30-bf12-f497d6a660d6\n"
     ]
    },
    {
     "name": "stdout",
     "output_type": "stream",
     "text": [
      "0:\tlearn: 1130.3922126\ttotal: 35.8ms\tremaining: 1m 8s\n",
      "100:\tlearn: 601.4970272\ttotal: 2.77s\tremaining: 50s\n",
      "200:\tlearn: 465.2164365\ttotal: 5.38s\tremaining: 46.1s\n",
      "300:\tlearn: 427.7664397\ttotal: 7.99s\tremaining: 43.1s\n",
      "400:\tlearn: 412.0486311\ttotal: 10.6s\tremaining: 40.4s\n",
      "500:\tlearn: 401.5970133\ttotal: 13.2s\tremaining: 37.5s\n",
      "600:\tlearn: 392.3700976\ttotal: 15.7s\tremaining: 34.6s\n",
      "700:\tlearn: 384.5275376\ttotal: 18.3s\tremaining: 32s\n",
      "800:\tlearn: 377.1771802\ttotal: 20.9s\tremaining: 29.4s\n",
      "900:\tlearn: 369.8250113\ttotal: 24.2s\tremaining: 27.5s\n",
      "1000:\tlearn: 362.3333322\ttotal: 27.9s\tremaining: 25.7s\n",
      "1100:\tlearn: 355.8708999\ttotal: 32.2s\tremaining: 24.1s\n",
      "1200:\tlearn: 349.3497994\ttotal: 38.4s\tremaining: 23.1s\n",
      "1300:\tlearn: 343.3554911\ttotal: 44.6s\tremaining: 21.4s\n",
      "1400:\tlearn: 337.4736538\ttotal: 50.9s\tremaining: 19s\n",
      "1500:\tlearn: 331.7856860\ttotal: 58s\tremaining: 16.3s\n",
      "1600:\tlearn: 326.1604720\ttotal: 1m 5s\tremaining: 13.2s\n",
      "1700:\tlearn: 320.9741494\ttotal: 1m 12s\tremaining: 9.56s\n",
      "1800:\tlearn: 315.8109170\ttotal: 1m 20s\tremaining: 5.49s\n",
      "1900:\tlearn: 310.7835401\ttotal: 1m 27s\tremaining: 1.06s\n",
      "1923:\tlearn: 309.6918221\ttotal: 1m 29s\tremaining: 0us\n"
     ]
    },
    {
     "name": "stderr",
     "output_type": "stream",
     "text": [
      "[I 2023-11-06 20:08:03,588] Trial 0 finished with value: 336.212519318066 and parameters: {'iterations': 1924, 'learning_rate': 0.010531560739043, 'depth': 10, 'min_data_in_leaf': 73, 'l2_leaf_reg': 7, 'has-time': False, 'bagging_temperature': 0.4654000551729968, 'random_strength': 0.9912286171083025, 'border_count': 641, 'rsm': 0.33678356404760373, 'nan_mode': 'Min'}. Best is trial 0 with value: 336.212519318066.\n"
     ]
    },
    {
     "name": "stdout",
     "output_type": "stream",
     "text": [
      "0:\tlearn: 1081.9915457\ttotal: 211ms\tremaining: 8m 25s\n",
      "100:\tlearn: 394.4222958\ttotal: 13.4s\tremaining: 5m 4s\n",
      "200:\tlearn: 351.1494378\ttotal: 26.5s\tremaining: 4m 49s\n",
      "300:\tlearn: 318.8973705\ttotal: 39.9s\tremaining: 4m 37s\n",
      "400:\tlearn: 295.0073237\ttotal: 53s\tremaining: 4m 23s\n",
      "500:\tlearn: 273.7891367\ttotal: 1m 6s\tremaining: 4m 10s\n",
      "600:\tlearn: 254.8779881\ttotal: 1m 17s\tremaining: 3m 52s\n",
      "700:\tlearn: 237.6732527\ttotal: 1m 29s\tremaining: 3m 35s\n",
      "800:\tlearn: 223.8673829\ttotal: 1m 41s\tremaining: 3m 22s\n",
      "900:\tlearn: 210.8339872\ttotal: 1m 53s\tremaining: 3m 8s\n",
      "1000:\tlearn: 200.3856612\ttotal: 2m 8s\tremaining: 2m 58s\n",
      "1100:\tlearn: 189.3191043\ttotal: 2m 21s\tremaining: 2m 46s\n",
      "1200:\tlearn: 180.1645808\ttotal: 2m 35s\tremaining: 2m 34s\n",
      "1300:\tlearn: 170.9256777\ttotal: 2m 49s\tremaining: 2m 22s\n",
      "1400:\tlearn: 162.4172305\ttotal: 3m 4s\tremaining: 2m 11s\n",
      "1500:\tlearn: 154.7574815\ttotal: 3m 18s\tremaining: 1m 58s\n",
      "1600:\tlearn: 147.5962550\ttotal: 3m 31s\tremaining: 1m 45s\n",
      "1700:\tlearn: 140.8317124\ttotal: 3m 45s\tremaining: 1m 32s\n",
      "1800:\tlearn: 134.4879393\ttotal: 3m 59s\tremaining: 1m 19s\n",
      "1900:\tlearn: 128.5820675\ttotal: 4m 13s\tremaining: 1m 6s\n",
      "2000:\tlearn: 122.9880550\ttotal: 4m 27s\tremaining: 52.9s\n",
      "2100:\tlearn: 117.6635484\ttotal: 4m 41s\tremaining: 39.7s\n",
      "2200:\tlearn: 113.2413511\ttotal: 4m 55s\tremaining: 26.3s\n",
      "2300:\tlearn: 108.7687169\ttotal: 5m 9s\tremaining: 12.9s\n",
      "2396:\tlearn: 105.2249357\ttotal: 5m 21s\tremaining: 0us\n"
     ]
    },
    {
     "name": "stderr",
     "output_type": "stream",
     "text": [
      "[I 2023-11-06 20:13:25,761] Trial 1 finished with value: 343.2254001969638 and parameters: {'iterations': 2397, 'learning_rate': 0.0648118716151209, 'depth': 9, 'min_data_in_leaf': 41, 'l2_leaf_reg': 4, 'has-time': True, 'bagging_temperature': 0.3870705308963034, 'random_strength': 0.792704501532407, 'border_count': 957, 'rsm': 0.8647522929198236, 'nan_mode': 'Min'}. Best is trial 0 with value: 336.212519318066.\n"
     ]
    },
    {
     "name": "stdout",
     "output_type": "stream",
     "text": [
      "0:\tlearn: 1122.0561722\ttotal: 94.5ms\tremaining: 2m 7s\n",
      "100:\tlearn: 475.0172171\ttotal: 5.76s\tremaining: 1m 11s\n",
      "200:\tlearn: 424.7727335\ttotal: 13.7s\tremaining: 1m 17s\n",
      "300:\tlearn: 409.5938568\ttotal: 21.5s\tremaining: 1m 14s\n",
      "400:\tlearn: 397.5948536\ttotal: 28.9s\tremaining: 1m 8s\n",
      "500:\tlearn: 387.1085366\ttotal: 36.3s\tremaining: 1m 1s\n",
      "600:\tlearn: 377.0646208\ttotal: 44.3s\tremaining: 54.9s\n",
      "700:\tlearn: 368.2970716\ttotal: 52.5s\tremaining: 48.2s\n",
      "800:\tlearn: 360.2206357\ttotal: 1m\tremaining: 40.9s\n",
      "900:\tlearn: 353.6013181\ttotal: 1m 8s\tremaining: 33.7s\n",
      "1000:\tlearn: 347.5428348\ttotal: 1m 15s\tremaining: 26.1s\n",
      "1100:\tlearn: 341.1099113\ttotal: 1m 24s\tremaining: 18.7s\n",
      "1200:\tlearn: 334.7754047\ttotal: 1m 31s\tremaining: 11s\n",
      "1300:\tlearn: 329.6330408\ttotal: 1m 40s\tremaining: 3.41s\n"
     ]
    },
    {
     "name": "stderr",
     "output_type": "stream",
     "text": [
      "[I 2023-11-06 20:15:10,703] Trial 2 finished with value: 340.73644428695343 and parameters: {'iterations': 1345, 'learning_rate': 0.019828634120532467, 'depth': 8, 'min_data_in_leaf': 40, 'l2_leaf_reg': 8, 'has-time': True, 'bagging_temperature': 0.569974669704769, 'random_strength': 0.6684788263706634, 'border_count': 326, 'rsm': 0.8677456751026866, 'nan_mode': 'Max'}. Best is trial 0 with value: 336.212519318066.\n"
     ]
    },
    {
     "name": "stdout",
     "output_type": "stream",
     "text": [
      "1344:\tlearn: 327.3555434\ttotal: 1m 44s\tremaining: 0us\n",
      "0:\tlearn: 1134.9407978\ttotal: 27ms\tremaining: 1m 14s\n",
      "100:\tlearn: 806.2751920\ttotal: 761ms\tremaining: 19.9s\n",
      "200:\tlearn: 648.5564853\ttotal: 1.65s\tremaining: 20.8s\n",
      "300:\tlearn: 576.0694536\ttotal: 2.29s\tremaining: 18.6s\n",
      "400:\tlearn: 542.9052777\ttotal: 3.08s\tremaining: 18s\n",
      "500:\tlearn: 525.3649889\ttotal: 3.86s\tremaining: 17.2s\n",
      "600:\tlearn: 515.4226045\ttotal: 4.49s\tremaining: 16s\n",
      "700:\tlearn: 509.7679929\ttotal: 5.18s\tremaining: 15.1s\n",
      "800:\tlearn: 506.2035489\ttotal: 5.81s\tremaining: 14.1s\n",
      "900:\tlearn: 503.3197111\ttotal: 6.69s\tremaining: 13.6s\n",
      "1000:\tlearn: 500.8266414\ttotal: 7.42s\tremaining: 12.9s\n",
      "1100:\tlearn: 498.6579658\ttotal: 8.13s\tremaining: 12.1s\n",
      "1200:\tlearn: 496.7566176\ttotal: 8.74s\tremaining: 11.2s\n",
      "1300:\tlearn: 495.0628915\ttotal: 9.31s\tremaining: 10.3s\n",
      "1400:\tlearn: 493.5570421\ttotal: 9.93s\tremaining: 9.48s\n",
      "1500:\tlearn: 492.2226741\ttotal: 10.6s\tremaining: 8.74s\n",
      "1600:\tlearn: 491.0436253\ttotal: 11.4s\tremaining: 8.09s\n",
      "1700:\tlearn: 489.9978790\ttotal: 12s\tremaining: 7.31s\n",
      "1800:\tlearn: 489.0561752\ttotal: 12.7s\tremaining: 6.62s\n",
      "1900:\tlearn: 488.2052968\ttotal: 13.4s\tremaining: 5.93s\n",
      "2000:\tlearn: 487.4214729\ttotal: 14.1s\tremaining: 5.2s\n",
      "2100:\tlearn: 486.6962406\ttotal: 14.7s\tremaining: 4.47s\n",
      "2200:\tlearn: 486.0214709\ttotal: 15.4s\tremaining: 3.77s\n",
      "2300:\tlearn: 485.3933805\ttotal: 16.2s\tremaining: 3.08s\n",
      "2400:\tlearn: 484.8104167\ttotal: 16.9s\tremaining: 2.38s\n",
      "2500:\tlearn: 484.2657156\ttotal: 17.5s\tremaining: 1.67s\n",
      "2600:\tlearn: 483.7558805\ttotal: 18s\tremaining: 957ms\n",
      "2700:\tlearn: 483.2786607\ttotal: 18.5s\tremaining: 261ms\n"
     ]
    },
    {
     "name": "stderr",
     "output_type": "stream",
     "text": [
      "[I 2023-11-06 20:15:30,155] Trial 3 finished with value: 398.3894651693815 and parameters: {'iterations': 2739, 'learning_rate': 0.007647970412037848, 'depth': 1, 'min_data_in_leaf': 31, 'l2_leaf_reg': 7, 'has-time': True, 'bagging_temperature': 0.6709280894694646, 'random_strength': 0.794618122971744, 'border_count': 257, 'rsm': 0.45667190147683495, 'nan_mode': 'Max'}. Best is trial 0 with value: 336.212519318066.\n"
     ]
    },
    {
     "name": "stdout",
     "output_type": "stream",
     "text": [
      "2738:\tlearn: 483.1062979\ttotal: 19s\tremaining: 0us\n",
      "0:\tlearn: 1136.2827518\ttotal: 3.64ms\tremaining: 10.4s\n",
      "100:\tlearn: 850.2289040\ttotal: 673ms\tremaining: 18.4s\n",
      "200:\tlearn: 684.2256593\ttotal: 1.44s\tremaining: 19.1s\n",
      "300:\tlearn: 590.3245922\ttotal: 2.21s\tremaining: 18.8s\n",
      "400:\tlearn: 539.7234709\ttotal: 3.01s\tremaining: 18.5s\n",
      "500:\tlearn: 511.1341349\ttotal: 4.04s\tremaining: 19s\n",
      "600:\tlearn: 494.7448743\ttotal: 5.07s\tremaining: 19.1s\n",
      "700:\tlearn: 483.8264081\ttotal: 5.84s\tremaining: 18s\n",
      "800:\tlearn: 476.5423503\ttotal: 6.68s\tremaining: 17.2s\n",
      "900:\tlearn: 471.4241771\ttotal: 7.54s\tremaining: 16.4s\n",
      "1000:\tlearn: 467.2968829\ttotal: 8.38s\tremaining: 15.6s\n",
      "1100:\tlearn: 464.0275969\ttotal: 9.42s\tremaining: 15.1s\n",
      "1200:\tlearn: 461.0872366\ttotal: 10.4s\tremaining: 14.4s\n",
      "1300:\tlearn: 458.7603220\ttotal: 11.3s\tremaining: 13.5s\n",
      "1400:\tlearn: 456.7161792\ttotal: 12.1s\tremaining: 12.6s\n",
      "1500:\tlearn: 454.9022871\ttotal: 13s\tremaining: 11.8s\n",
      "1600:\tlearn: 453.1985350\ttotal: 14.1s\tremaining: 11.1s\n",
      "1700:\tlearn: 451.7294186\ttotal: 14.9s\tremaining: 10.2s\n",
      "1800:\tlearn: 450.3689290\ttotal: 15.7s\tremaining: 9.24s\n",
      "1900:\tlearn: 449.0895584\ttotal: 16.3s\tremaining: 8.22s\n",
      "2000:\tlearn: 447.8862861\ttotal: 17.4s\tremaining: 7.46s\n",
      "2100:\tlearn: 446.8131009\ttotal: 18.1s\tremaining: 6.55s\n",
      "2200:\tlearn: 445.6666569\ttotal: 18.9s\tremaining: 5.66s\n",
      "2300:\tlearn: 444.5900537\ttotal: 19.9s\tremaining: 4.85s\n",
      "2400:\tlearn: 443.5482557\ttotal: 20.7s\tremaining: 3.97s\n",
      "2500:\tlearn: 442.5271673\ttotal: 21.4s\tremaining: 3.08s\n",
      "2600:\tlearn: 441.5940955\ttotal: 22.1s\tremaining: 2.21s\n",
      "2700:\tlearn: 440.7363596\ttotal: 22.8s\tremaining: 1.35s\n",
      "2800:\tlearn: 439.8408507\ttotal: 23.5s\tremaining: 504ms\n"
     ]
    },
    {
     "name": "stderr",
     "output_type": "stream",
     "text": [
      "[I 2023-11-06 20:15:54,628] Trial 4 finished with value: 357.7171193648944 and parameters: {'iterations': 2861, 'learning_rate': 0.004738055739179994, 'depth': 3, 'min_data_in_leaf': 98, 'l2_leaf_reg': 8, 'has-time': False, 'bagging_temperature': 0.3787676805752242, 'random_strength': 0.5374633891148208, 'border_count': 37, 'rsm': 0.23938140130500163, 'nan_mode': 'Max'}. Best is trial 0 with value: 336.212519318066.\n"
     ]
    },
    {
     "name": "stdout",
     "output_type": "stream",
     "text": [
      "2860:\tlearn: 439.3286487\ttotal: 23.9s\tremaining: 0us\n",
      "0:\tlearn: 1119.8751214\ttotal: 134ms\tremaining: 3m 56s\n",
      "100:\tlearn: 469.7973526\ttotal: 4.5s\tremaining: 1m 13s\n",
      "200:\tlearn: 430.9242253\ttotal: 10s\tremaining: 1m 17s\n",
      "300:\tlearn: 417.8472401\ttotal: 15s\tremaining: 1m 12s\n",
      "400:\tlearn: 407.9763819\ttotal: 19.8s\tremaining: 1m 7s\n",
      "500:\tlearn: 399.7811023\ttotal: 24.3s\tremaining: 1m 1s\n",
      "600:\tlearn: 392.1681375\ttotal: 28.9s\tremaining: 55.8s\n",
      "700:\tlearn: 384.6843165\ttotal: 33.8s\tremaining: 51.2s\n",
      "800:\tlearn: 378.6956875\ttotal: 38.1s\tremaining: 45.8s\n",
      "900:\tlearn: 372.6984298\ttotal: 42.5s\tremaining: 40.7s\n",
      "1000:\tlearn: 366.9121379\ttotal: 47.1s\tremaining: 35.9s\n",
      "1100:\tlearn: 361.8310871\ttotal: 51.7s\tremaining: 31.1s\n",
      "1200:\tlearn: 356.4830848\ttotal: 56.9s\tremaining: 26.6s\n",
      "1300:\tlearn: 352.4059333\ttotal: 1m 1s\tremaining: 21.9s\n",
      "1400:\tlearn: 347.5550832\ttotal: 1m 6s\tremaining: 17.2s\n",
      "1500:\tlearn: 343.1528221\ttotal: 1m 12s\tremaining: 12.6s\n",
      "1600:\tlearn: 338.7630475\ttotal: 1m 17s\tremaining: 7.81s\n",
      "1700:\tlearn: 334.7357700\ttotal: 1m 22s\tremaining: 3s\n"
     ]
    },
    {
     "name": "stderr",
     "output_type": "stream",
     "text": [
      "[I 2023-11-06 20:17:20,598] Trial 5 finished with value: 344.83801431448256 and parameters: {'iterations': 1763, 'learning_rate': 0.023693230101219123, 'depth': 7, 'min_data_in_leaf': 13, 'l2_leaf_reg': 7, 'has-time': True, 'bagging_temperature': 0.47756090589279343, 'random_strength': 0.4390713642511601, 'border_count': 810, 'rsm': 0.1348729108867112, 'nan_mode': 'Min'}. Best is trial 0 with value: 336.212519318066.\n"
     ]
    },
    {
     "name": "stdout",
     "output_type": "stream",
     "text": [
      "1762:\tlearn: 332.3376160\ttotal: 1m 25s\tremaining: 0us\n",
      "0:\tlearn: 1133.9369081\ttotal: 118ms\tremaining: 2m 26s\n",
      "100:\tlearn: 729.0656481\ttotal: 10.3s\tremaining: 1m 56s\n",
      "200:\tlearn: 550.0893574\ttotal: 20.5s\tremaining: 1m 46s\n",
      "300:\tlearn: 475.9973615\ttotal: 30.4s\tremaining: 1m 35s\n",
      "400:\tlearn: 444.1127342\ttotal: 41.6s\tremaining: 1m 27s\n",
      "500:\tlearn: 428.2004621\ttotal: 52.2s\tremaining: 1m 17s\n",
      "600:\tlearn: 418.1205832\ttotal: 1m 2s\tremaining: 1m 7s\n",
      "700:\tlearn: 410.7339483\ttotal: 1m 12s\tremaining: 56.6s\n",
      "800:\tlearn: 404.5040920\ttotal: 1m 21s\tremaining: 45.8s\n",
      "900:\tlearn: 399.0520585\ttotal: 1m 31s\tremaining: 35.5s\n",
      "1000:\tlearn: 394.1005225\ttotal: 1m 42s\tremaining: 25.4s\n",
      "1100:\tlearn: 389.4070523\ttotal: 1m 52s\tremaining: 15.2s\n",
      "1200:\tlearn: 384.8681415\ttotal: 2m 3s\tremaining: 4.92s\n",
      "1248:\tlearn: 382.8672990\ttotal: 2m 8s\tremaining: 0us\n"
     ]
    },
    {
     "name": "stderr",
     "output_type": "stream",
     "text": [
      "[I 2023-11-06 20:19:29,220] Trial 6 finished with value: 340.77270777689176 and parameters: {'iterations': 1249, 'learning_rate': 0.00664408602539304, 'depth': 10, 'min_data_in_leaf': 78, 'l2_leaf_reg': 10, 'has-time': False, 'bagging_temperature': 0.5407928858676074, 'random_strength': 0.9286853227576899, 'border_count': 951, 'rsm': 0.2946560073927092, 'nan_mode': 'Min'}. Best is trial 0 with value: 336.212519318066.\n"
     ]
    },
    {
     "name": "stdout",
     "output_type": "stream",
     "text": [
      "0:\tlearn: 1135.9420766\ttotal: 38.4ms\tremaining: 1m 38s\n",
      "100:\tlearn: 848.2660027\ttotal: 8.71s\tremaining: 3m 32s\n",
      "200:\tlearn: 671.3205366\ttotal: 17.1s\tremaining: 3m 21s\n",
      "300:\tlearn: 566.9801997\ttotal: 26.4s\tremaining: 3m 18s\n",
      "400:\tlearn: 507.0727275\ttotal: 36.7s\tremaining: 3m 17s\n",
      "500:\tlearn: 473.3684469\ttotal: 45.5s\tremaining: 3m 7s\n",
      "600:\tlearn: 453.8274528\ttotal: 54.3s\tremaining: 2m 57s\n",
      "700:\tlearn: 441.8890376\ttotal: 1m 2s\tremaining: 2m 46s\n",
      "800:\tlearn: 433.8010953\ttotal: 1m 11s\tremaining: 2m 37s\n",
      "900:\tlearn: 428.0607760\ttotal: 1m 20s\tremaining: 2m 28s\n",
      "1000:\tlearn: 423.4603801\ttotal: 1m 29s\tremaining: 2m 19s\n",
      "1100:\tlearn: 419.4937386\ttotal: 1m 38s\tremaining: 2m 11s\n",
      "1200:\tlearn: 416.3805341\ttotal: 1m 47s\tremaining: 2m 2s\n",
      "1300:\tlearn: 413.3749671\ttotal: 1m 56s\tremaining: 1m 53s\n",
      "1400:\tlearn: 410.6144379\ttotal: 2m 5s\tremaining: 1m 43s\n",
      "1500:\tlearn: 408.1222469\ttotal: 2m 13s\tremaining: 1m 34s\n",
      "1600:\tlearn: 405.6525984\ttotal: 2m 22s\tremaining: 1m 25s\n",
      "1700:\tlearn: 403.4051711\ttotal: 2m 31s\tremaining: 1m 16s\n",
      "1800:\tlearn: 401.0456985\ttotal: 2m 41s\tremaining: 1m 8s\n",
      "1900:\tlearn: 398.8627642\ttotal: 2m 50s\tremaining: 59.3s\n",
      "2000:\tlearn: 396.7303620\ttotal: 3m\tremaining: 50.5s\n",
      "2100:\tlearn: 394.5812235\ttotal: 3m 8s\tremaining: 41.4s\n",
      "2200:\tlearn: 392.5429926\ttotal: 3m 17s\tremaining: 32.4s\n",
      "2300:\tlearn: 390.4080589\ttotal: 3m 26s\tremaining: 23.5s\n",
      "2400:\tlearn: 388.4639268\ttotal: 3m 36s\tremaining: 14.5s\n",
      "2500:\tlearn: 386.3696781\ttotal: 3m 44s\tremaining: 5.49s\n",
      "2561:\tlearn: 385.2758695\ttotal: 3m 50s\tremaining: 0us\n"
     ]
    },
    {
     "name": "stderr",
     "output_type": "stream",
     "text": [
      "[I 2023-11-06 20:23:20,222] Trial 7 finished with value: 338.10720860196017 and parameters: {'iterations': 2562, 'learning_rate': 0.004046241273246767, 'depth': 8, 'min_data_in_leaf': 16, 'l2_leaf_reg': 8, 'has-time': True, 'bagging_temperature': 0.4936417667521411, 'random_strength': 0.35163686183744175, 'border_count': 545, 'rsm': 0.40061761688041275, 'nan_mode': 'Min'}. Best is trial 0 with value: 336.212519318066.\n"
     ]
    },
    {
     "name": "stdout",
     "output_type": "stream",
     "text": [
      "0:\tlearn: 1136.9857300\ttotal: 15.8ms\tremaining: 37.3s\n",
      "100:\tlearn: 930.4525107\ttotal: 940ms\tremaining: 21.1s\n",
      "200:\tlearn: 793.2176421\ttotal: 1.84s\tremaining: 19.9s\n",
      "300:\tlearn: 700.1950590\ttotal: 2.73s\tremaining: 18.7s\n",
      "400:\tlearn: 636.6738643\ttotal: 3.71s\tremaining: 18.2s\n",
      "500:\tlearn: 593.8406872\ttotal: 4.85s\tremaining: 18.1s\n",
      "600:\tlearn: 565.2109423\ttotal: 5.55s\tremaining: 16.3s\n",
      "700:\tlearn: 545.9720550\ttotal: 6.27s\tremaining: 14.9s\n",
      "800:\tlearn: 532.9354254\ttotal: 7.01s\tremaining: 13.7s\n",
      "900:\tlearn: 523.5958008\ttotal: 7.96s\tremaining: 13s\n",
      "1000:\tlearn: 516.6293674\ttotal: 8.82s\tremaining: 12s\n",
      "1100:\tlearn: 511.4845683\ttotal: 9.82s\tremaining: 11.3s\n",
      "1200:\tlearn: 507.6927887\ttotal: 10.9s\tremaining: 10.5s\n",
      "1300:\tlearn: 504.8610405\ttotal: 11.9s\tremaining: 9.72s\n",
      "1400:\tlearn: 502.7039783\ttotal: 12.8s\tremaining: 8.79s\n",
      "1500:\tlearn: 500.9229909\ttotal: 13.6s\tremaining: 7.84s\n",
      "1600:\tlearn: 499.3263717\ttotal: 14.1s\tremaining: 6.74s\n",
      "1700:\tlearn: 497.8958292\ttotal: 14.8s\tremaining: 5.79s\n",
      "1800:\tlearn: 496.5958750\ttotal: 15.2s\tremaining: 4.78s\n",
      "1900:\tlearn: 495.3985132\ttotal: 16s\tremaining: 3.91s\n",
      "2000:\tlearn: 494.2967957\ttotal: 16.6s\tremaining: 3.04s\n",
      "2100:\tlearn: 493.2779911\ttotal: 17.4s\tremaining: 2.2s\n",
      "2200:\tlearn: 492.3322023\ttotal: 18s\tremaining: 1.36s\n",
      "2300:\tlearn: 491.4479020\ttotal: 18.7s\tremaining: 536ms\n"
     ]
    },
    {
     "name": "stderr",
     "output_type": "stream",
     "text": [
      "[I 2023-11-06 20:23:40,012] Trial 8 finished with value: 407.5261911205091 and parameters: {'iterations': 2367, 'learning_rate': 0.0038864278191785054, 'depth': 1, 'min_data_in_leaf': 80, 'l2_leaf_reg': 8, 'has-time': False, 'bagging_temperature': 0.4171585459722068, 'random_strength': 0.6200691373930203, 'border_count': 705, 'rsm': 0.9857753086761416, 'nan_mode': 'Min'}. Best is trial 0 with value: 336.212519318066.\n"
     ]
    },
    {
     "name": "stdout",
     "output_type": "stream",
     "text": [
      "2366:\tlearn: 490.8896150\ttotal: 19.3s\tremaining: 0us\n",
      "0:\tlearn: 1129.3599024\ttotal: 59.7ms\tremaining: 2m 38s\n",
      "100:\tlearn: 589.4339732\ttotal: 1.29s\tremaining: 32.8s\n",
      "200:\tlearn: 490.5179405\ttotal: 2.63s\tremaining: 32.3s\n",
      "300:\tlearn: 469.2465696\ttotal: 3.89s\tremaining: 30.5s\n",
      "400:\tlearn: 459.3021087\ttotal: 5.09s\tremaining: 28.7s\n",
      "500:\tlearn: 452.5914994\ttotal: 6.1s\tremaining: 26.4s\n",
      "600:\tlearn: 447.6009164\ttotal: 7.25s\tremaining: 24.9s\n",
      "700:\tlearn: 443.7387804\ttotal: 8.4s\tremaining: 23.5s\n",
      "800:\tlearn: 440.4807846\ttotal: 9.76s\tremaining: 22.7s\n",
      "900:\tlearn: 437.5360127\ttotal: 10.8s\tremaining: 21.2s\n",
      "1000:\tlearn: 434.8253525\ttotal: 12s\tremaining: 19.9s\n",
      "1100:\tlearn: 432.3587723\ttotal: 13.1s\tremaining: 18.6s\n",
      "1200:\tlearn: 430.2287403\ttotal: 14.5s\tremaining: 17.6s\n",
      "1300:\tlearn: 428.2865693\ttotal: 15.7s\tremaining: 16.4s\n",
      "1400:\tlearn: 426.6476487\ttotal: 17s\tremaining: 15.3s\n",
      "1500:\tlearn: 425.0410456\ttotal: 18s\tremaining: 14s\n",
      "1600:\tlearn: 423.5215724\ttotal: 19.5s\tremaining: 13s\n",
      "1700:\tlearn: 421.9938731\ttotal: 20.7s\tremaining: 11.7s\n",
      "1800:\tlearn: 420.5865141\ttotal: 22s\tremaining: 10.5s\n",
      "1900:\tlearn: 419.3887538\ttotal: 23.5s\tremaining: 9.44s\n",
      "2000:\tlearn: 418.1382465\ttotal: 25.1s\tremaining: 8.31s\n",
      "2100:\tlearn: 416.9152637\ttotal: 26.2s\tremaining: 7.02s\n",
      "2200:\tlearn: 415.6881863\ttotal: 27.5s\tremaining: 5.79s\n",
      "2300:\tlearn: 414.5862739\ttotal: 28.6s\tremaining: 4.51s\n",
      "2400:\tlearn: 413.4784321\ttotal: 29.9s\tremaining: 3.27s\n",
      "2500:\tlearn: 412.4602565\ttotal: 31.3s\tremaining: 2.04s\n",
      "2600:\tlearn: 411.4869939\ttotal: 32.3s\tremaining: 783ms\n"
     ]
    },
    {
     "name": "stderr",
     "output_type": "stream",
     "text": [
      "[I 2023-11-06 20:24:13,821] Trial 9 finished with value: 354.2194576540088 and parameters: {'iterations': 2664, 'learning_rate': 0.012746443205252164, 'depth': 3, 'min_data_in_leaf': 72, 'l2_leaf_reg': 3, 'has-time': False, 'bagging_temperature': 0.8841929607585044, 'random_strength': 0.7161741680018721, 'border_count': 488, 'rsm': 0.8290319330266758, 'nan_mode': 'Max'}. Best is trial 0 with value: 336.212519318066.\n"
     ]
    },
    {
     "name": "stdout",
     "output_type": "stream",
     "text": [
      "2663:\tlearn: 410.8850375\ttotal: 33.2s\tremaining: 0us\n",
      "0:\tlearn: 1138.3785278\ttotal: 22.6ms\tremaining: 7.01s\n",
      "100:\tlearn: 1053.5079766\ttotal: 5.35s\tremaining: 11.1s\n",
      "200:\tlearn: 976.2759774\ttotal: 13s\tremaining: 7.12s\n",
      "300:\tlearn: 910.6694647\ttotal: 19.2s\tremaining: 636ms\n"
     ]
    },
    {
     "name": "stderr",
     "output_type": "stream",
     "text": [
      "[I 2023-11-06 20:24:34,128] Trial 10 finished with value: 913.0052744340744 and parameters: {'iterations': 311, 'learning_rate': 0.0014520707598885754, 'depth': 13, 'min_data_in_leaf': 64, 'l2_leaf_reg': 5, 'has-time': False, 'bagging_temperature': 0.32304988946190677, 'random_strength': 0.9827408176562049, 'border_count': 629, 'rsm': 0.05225498195576972, 'nan_mode': 'Min'}. Best is trial 0 with value: 336.212519318066.\n"
     ]
    },
    {
     "name": "stdout",
     "output_type": "stream",
     "text": [
      "310:\tlearn: 905.4015841\ttotal: 20s\tremaining: 0us\n",
      "0:\tlearn: 1137.4426216\ttotal: 169ms\tremaining: 5m 22s\n",
      "100:\tlearn: 952.0978907\ttotal: 23.5s\tremaining: 7m\n",
      "200:\tlearn: 811.7604864\ttotal: 48s\tremaining: 6m 48s\n",
      "300:\tlearn: 705.0003165\ttotal: 1m 12s\tremaining: 6m 25s\n",
      "400:\tlearn: 626.1088588\ttotal: 1m 36s\tremaining: 6m 2s\n",
      "500:\tlearn: 568.3320471\ttotal: 2m 1s\tremaining: 5m 40s\n",
      "600:\tlearn: 525.6210938\ttotal: 2m 26s\tremaining: 5m 19s\n",
      "700:\tlearn: 493.7485833\ttotal: 2m 55s\tremaining: 5m 3s\n",
      "800:\tlearn: 470.0128491\ttotal: 3m 24s\tremaining: 4m 43s\n",
      "900:\tlearn: 452.1416703\ttotal: 3m 54s\tremaining: 4m 22s\n",
      "1000:\tlearn: 438.1404328\ttotal: 4m 22s\tremaining: 3m 58s\n",
      "1100:\tlearn: 427.0519443\ttotal: 4m 48s\tremaining: 3m 31s\n",
      "1200:\tlearn: 418.2133051\ttotal: 5m 13s\tremaining: 3m 4s\n",
      "1300:\tlearn: 410.8201729\ttotal: 5m 38s\tremaining: 2m 38s\n",
      "1400:\tlearn: 404.7061968\ttotal: 6m 4s\tremaining: 2m 12s\n",
      "1500:\tlearn: 399.2891626\ttotal: 6m 29s\tremaining: 1m 45s\n",
      "1600:\tlearn: 394.4430106\ttotal: 6m 55s\tremaining: 1m 20s\n",
      "1700:\tlearn: 390.3003576\ttotal: 7m 22s\tremaining: 54.1s\n",
      "1800:\tlearn: 386.3854753\ttotal: 7m 49s\tremaining: 28.2s\n",
      "1900:\tlearn: 382.7827288\ttotal: 8m 14s\tremaining: 2.08s\n",
      "1908:\tlearn: 382.5246655\ttotal: 8m 16s\tremaining: 0us\n"
     ]
    },
    {
     "name": "stderr",
     "output_type": "stream",
     "text": [
      "[I 2023-11-06 20:32:52,530] Trial 11 finished with value: 342.16322048327675 and parameters: {'iterations': 1909, 'learning_rate': 0.0023996747334105893, 'depth': 12, 'min_data_in_leaf': 4, 'l2_leaf_reg': 10, 'has-time': True, 'bagging_temperature': 0.6504809321105394, 'random_strength': 0.3065910840734207, 'border_count': 498, 'rsm': 0.4759672436514381, 'nan_mode': 'Min'}. Best is trial 0 with value: 336.212519318066.\n"
     ]
    },
    {
     "name": "stdout",
     "output_type": "stream",
     "text": [
      "0:\tlearn: 1138.6400285\ttotal: 13.5ms\tremaining: 27.9s\n",
      "100:\tlearn: 1049.4527848\ttotal: 3.45s\tremaining: 1m 7s\n",
      "200:\tlearn: 970.6518334\ttotal: 6.22s\tremaining: 57.8s\n",
      "300:\tlearn: 900.9356694\ttotal: 9.72s\tremaining: 57s\n",
      "400:\tlearn: 839.5008284\ttotal: 13.5s\tremaining: 55.9s\n",
      "500:\tlearn: 785.7150679\ttotal: 16.8s\tremaining: 52.6s\n",
      "600:\tlearn: 738.7023703\ttotal: 20.3s\tremaining: 49.6s\n",
      "700:\tlearn: 697.7974390\ttotal: 23.8s\tremaining: 46.3s\n",
      "800:\tlearn: 662.2976230\ttotal: 27.4s\tremaining: 43.2s\n",
      "900:\tlearn: 631.5652620\ttotal: 30.6s\tremaining: 39.6s\n",
      "1000:\tlearn: 604.9844286\ttotal: 34s\tremaining: 36.2s\n",
      "1100:\tlearn: 582.1658509\ttotal: 37.2s\tremaining: 32.7s\n",
      "1200:\tlearn: 562.5006782\ttotal: 40.4s\tremaining: 29.1s\n",
      "1300:\tlearn: 545.6292472\ttotal: 44s\tremaining: 25.9s\n",
      "1400:\tlearn: 531.1936580\ttotal: 47.1s\tremaining: 22.4s\n",
      "1500:\tlearn: 518.8565683\ttotal: 50s\tremaining: 18.9s\n",
      "1600:\tlearn: 508.2117931\ttotal: 53.1s\tremaining: 15.4s\n",
      "1700:\tlearn: 499.1134701\ttotal: 56.3s\tremaining: 12.1s\n",
      "1800:\tlearn: 491.1485618\ttotal: 1m\tremaining: 8.95s\n",
      "1900:\tlearn: 484.3346805\ttotal: 1m 4s\tremaining: 5.64s\n",
      "2000:\tlearn: 478.4296523\ttotal: 1m 8s\tremaining: 2.26s\n"
     ]
    },
    {
     "name": "stderr",
     "output_type": "stream",
     "text": [
      "[I 2023-11-06 20:34:04,688] Trial 12 finished with value: 401.3611408994212 and parameters: {'iterations': 2067, 'learning_rate': 0.0010759711720162665, 'depth': 6, 'min_data_in_leaf': 24, 'l2_leaf_reg': 6, 'has-time': True, 'bagging_temperature': 0.504734541067628, 'random_strength': 0.34232375999944387, 'border_count': 604, 'rsm': 0.363513249017301, 'nan_mode': 'Min'}. Best is trial 0 with value: 336.212519318066.\n"
     ]
    },
    {
     "name": "stdout",
     "output_type": "stream",
     "text": [
      "2066:\tlearn: 474.9316869\ttotal: 1m 11s\tremaining: 0us\n",
      "0:\tlearn: 1137.0509820\ttotal: 222ms\tremaining: 4m 34s\n",
      "100:\tlearn: 918.8345192\ttotal: 18.3s\tremaining: 3m 25s\n",
      "200:\tlearn: 761.4094761\ttotal: 36.1s\tremaining: 3m 5s\n",
      "300:\tlearn: 649.3117000\ttotal: 54.2s\tremaining: 2m 48s\n",
      "400:\tlearn: 571.0714863\ttotal: 1m 12s\tremaining: 2m 29s\n",
      "500:\tlearn: 517.0544354\ttotal: 1m 29s\tremaining: 2m 11s\n",
      "600:\tlearn: 479.7519338\ttotal: 1m 47s\tremaining: 1m 53s\n",
      "700:\tlearn: 453.9047857\ttotal: 2m 6s\tremaining: 1m 36s\n",
      "800:\tlearn: 435.3261739\ttotal: 2m 24s\tremaining: 1m 18s\n",
      "900:\tlearn: 421.6093847\ttotal: 2m 41s\tremaining: 59.8s\n",
      "1000:\tlearn: 411.4258436\ttotal: 3m\tremaining: 42.1s\n",
      "1100:\tlearn: 402.9877068\ttotal: 3m 18s\tremaining: 24s\n",
      "1200:\tlearn: 396.3781591\ttotal: 3m 35s\tremaining: 5.93s\n",
      "1233:\tlearn: 394.4245642\ttotal: 3m 41s\tremaining: 0us\n"
     ]
    },
    {
     "name": "stderr",
     "output_type": "stream",
     "text": [
      "[I 2023-11-06 20:37:47,303] Trial 13 finished with value: 346.3392365348589 and parameters: {'iterations': 1234, 'learning_rate': 0.0028051517144787722, 'depth': 11, 'min_data_in_leaf': 56, 'l2_leaf_reg': 2, 'has-time': False, 'bagging_temperature': 0.32013607575305625, 'random_strength': 0.4868155224997305, 'border_count': 372, 'rsm': 0.6023938324408754, 'nan_mode': 'Min'}. Best is trial 0 with value: 336.212519318066.\n"
     ]
    },
    {
     "name": "stdout",
     "output_type": "stream",
     "text": [
      "0:\tlearn: 1130.2703704\ttotal: 28.9ms\tremaining: 1m 5s\n",
      "100:\tlearn: 612.2615345\ttotal: 4.1s\tremaining: 1m 27s\n",
      "200:\tlearn: 487.6101868\ttotal: 7.91s\tremaining: 1m 21s\n",
      "300:\tlearn: 456.0989570\ttotal: 11.7s\tremaining: 1m 15s\n",
      "400:\tlearn: 444.8215375\ttotal: 15.5s\tremaining: 1m 11s\n",
      "500:\tlearn: 438.8426393\ttotal: 20.1s\tremaining: 1m 10s\n",
      "600:\tlearn: 433.7207302\ttotal: 23.8s\tremaining: 1m 5s\n",
      "700:\tlearn: 429.5734736\ttotal: 27.7s\tremaining: 1m 1s\n",
      "800:\tlearn: 426.0936047\ttotal: 31.3s\tremaining: 57.1s\n",
      "900:\tlearn: 422.6251175\ttotal: 35.1s\tremaining: 52.9s\n",
      "1000:\tlearn: 419.5098628\ttotal: 38.5s\tremaining: 48.4s\n",
      "1100:\tlearn: 416.2948217\ttotal: 41.9s\tremaining: 44.1s\n",
      "1200:\tlearn: 413.4202738\ttotal: 45.5s\tremaining: 40.1s\n",
      "1300:\tlearn: 410.8576950\ttotal: 49.1s\tremaining: 36.2s\n",
      "1400:\tlearn: 408.4403394\ttotal: 52.6s\tremaining: 32.2s\n",
      "1500:\tlearn: 406.3527435\ttotal: 56s\tremaining: 28.3s\n",
      "1600:\tlearn: 404.2031038\ttotal: 59.6s\tremaining: 24.5s\n",
      "1700:\tlearn: 402.3158919\ttotal: 1m 3s\tremaining: 20.9s\n",
      "1800:\tlearn: 400.4014601\ttotal: 1m 7s\tremaining: 17.2s\n",
      "1900:\tlearn: 398.7004496\ttotal: 1m 11s\tremaining: 13.5s\n",
      "2000:\tlearn: 397.1198234\ttotal: 1m 15s\tremaining: 9.75s\n",
      "2100:\tlearn: 395.4528775\ttotal: 1m 19s\tremaining: 6s\n",
      "2200:\tlearn: 393.7326041\ttotal: 1m 23s\tremaining: 2.23s\n"
     ]
    },
    {
     "name": "stderr",
     "output_type": "stream",
     "text": [
      "[I 2023-11-06 20:39:13,527] Trial 14 finished with value: 344.1055110597773 and parameters: {'iterations': 2260, 'learning_rate': 0.01055649284145558, 'depth': 5, 'min_data_in_leaf': 98, 'l2_leaf_reg': 9, 'has-time': False, 'bagging_temperature': 0.5795353513342756, 'random_strength': 0.5788826011493258, 'border_count': 783, 'rsm': 0.5954457442325899, 'nan_mode': 'Min'}. Best is trial 0 with value: 336.212519318066.\n"
     ]
    },
    {
     "name": "stdout",
     "output_type": "stream",
     "text": [
      "2259:\tlearn: 392.7480520\ttotal: 1m 25s\tremaining: 0us\n",
      "0:\tlearn: 1135.6504012\ttotal: 155ms\tremaining: 1m 47s\n",
      "100:\tlearn: 827.1300276\ttotal: 11.2s\tremaining: 1m 6s\n",
      "200:\tlearn: 645.4330785\ttotal: 23.4s\tremaining: 57.7s\n",
      "300:\tlearn: 543.6836827\ttotal: 34.8s\tremaining: 45.9s\n",
      "400:\tlearn: 488.1156592\ttotal: 46.7s\tremaining: 34.6s\n",
      "500:\tlearn: 457.8627714\ttotal: 58.8s\tremaining: 23.1s\n",
      "600:\tlearn: 440.5240167\ttotal: 1m 10s\tremaining: 11.4s\n",
      "697:\tlearn: 429.8499429\ttotal: 1m 21s\tremaining: 0us\n"
     ]
    },
    {
     "name": "stderr",
     "output_type": "stream",
     "text": [
      "[I 2023-11-06 20:40:35,766] Trial 15 finished with value: 356.4915976965958 and parameters: {'iterations': 698, 'learning_rate': 0.004410605970334736, 'depth': 9, 'min_data_in_leaf': 53, 'l2_leaf_reg': 6, 'has-time': True, 'bagging_temperature': 0.45482459757439897, 'random_strength': 0.4396460134639876, 'border_count': 168, 'rsm': 0.3670305096445986, 'nan_mode': 'Min'}. Best is trial 0 with value: 336.212519318066.\n"
     ]
    },
    {
     "name": "stdout",
     "output_type": "stream",
     "text": [
      "0:\tlearn: 1137.7918218\ttotal: 81.3ms\tremaining: 2m 9s\n",
      "100:\tlearn: 978.4681448\ttotal: 11.8s\tremaining: 2m 54s\n",
      "200:\tlearn: 852.0114481\ttotal: 23.2s\tremaining: 2m 40s\n",
      "300:\tlearn: 751.6286154\ttotal: 35.8s\tremaining: 2m 33s\n",
      "400:\tlearn: 673.3593316\ttotal: 48.1s\tremaining: 2m 22s\n",
      "500:\tlearn: 612.8509315\ttotal: 59.4s\tremaining: 2m 9s\n",
      "600:\tlearn: 566.5021530\ttotal: 1m 10s\tremaining: 1m 55s\n",
      "700:\tlearn: 530.7852025\ttotal: 1m 22s\tremaining: 1m 45s\n",
      "800:\tlearn: 503.7127184\ttotal: 1m 35s\tremaining: 1m 34s\n",
      "900:\tlearn: 482.6035426\ttotal: 1m 47s\tremaining: 1m 21s\n",
      "1000:\tlearn: 466.3432218\ttotal: 1m 59s\tremaining: 1m 10s\n",
      "1100:\tlearn: 453.6006341\ttotal: 2m 10s\tremaining: 58.1s\n",
      "1200:\tlearn: 443.5072582\ttotal: 2m 22s\tremaining: 46.2s\n",
      "1300:\tlearn: 435.2758788\ttotal: 2m 35s\tremaining: 34.6s\n",
      "1400:\tlearn: 428.5815643\ttotal: 2m 47s\tremaining: 22.6s\n",
      "1500:\tlearn: 422.8756623\ttotal: 2m 59s\tremaining: 10.6s\n",
      "1589:\tlearn: 418.5070938\ttotal: 3m 9s\tremaining: 0us\n"
     ]
    },
    {
     "name": "stderr",
     "output_type": "stream",
     "text": [
      "[I 2023-11-06 20:43:46,565] Trial 16 finished with value: 356.59538970216204 and parameters: {'iterations': 1590, 'learning_rate': 0.0020310024619123093, 'depth': 11, 'min_data_in_leaf': 20, 'l2_leaf_reg': 5, 'has-time': False, 'bagging_temperature': 0.7123540438376386, 'random_strength': 0.880945045439208, 'border_count': 434, 'rsm': 0.20661989818883544, 'nan_mode': 'Min'}. Best is trial 0 with value: 336.212519318066.\n"
     ]
    },
    {
     "name": "stdout",
     "output_type": "stream",
     "text": [
      "0:\tlearn: 1133.9189283\ttotal: 155ms\tremaining: 5m 27s\n",
      "100:\tlearn: 735.6488621\ttotal: 8.47s\tremaining: 2m 48s\n",
      "200:\tlearn: 559.9758115\ttotal: 17.8s\tremaining: 2m 49s\n",
      "300:\tlearn: 488.3622987\ttotal: 26.4s\tremaining: 2m 39s\n",
      "400:\tlearn: 458.7531288\ttotal: 35s\tremaining: 2m 29s\n",
      "500:\tlearn: 444.9112023\ttotal: 43.3s\tremaining: 2m 19s\n",
      "600:\tlearn: 437.0211669\ttotal: 51.5s\tremaining: 2m 9s\n",
      "700:\tlearn: 431.5923331\ttotal: 59.9s\tremaining: 2m\n",
      "800:\tlearn: 427.3009031\ttotal: 1m 7s\tremaining: 1m 51s\n",
      "900:\tlearn: 423.5405306\ttotal: 1m 16s\tremaining: 1m 43s\n",
      "1000:\tlearn: 420.2241635\ttotal: 1m 25s\tremaining: 1m 35s\n",
      "1100:\tlearn: 417.0398568\ttotal: 1m 34s\tremaining: 1m 26s\n",
      "1200:\tlearn: 414.0565203\ttotal: 1m 42s\tremaining: 1m 17s\n",
      "1300:\tlearn: 411.2249704\ttotal: 1m 48s\tremaining: 1m 7s\n",
      "1400:\tlearn: 408.6039822\ttotal: 1m 54s\tremaining: 58.5s\n",
      "1500:\tlearn: 405.7423796\ttotal: 2m 1s\tremaining: 49.6s\n",
      "1600:\tlearn: 402.9473468\ttotal: 2m 7s\tremaining: 41.1s\n",
      "1700:\tlearn: 400.1255480\ttotal: 2m 14s\tremaining: 32.8s\n",
      "1800:\tlearn: 397.4711402\ttotal: 2m 21s\tremaining: 24.8s\n",
      "1900:\tlearn: 394.9485750\ttotal: 2m 28s\tremaining: 16.7s\n",
      "2000:\tlearn: 392.5443849\ttotal: 2m 34s\tremaining: 8.88s\n",
      "2100:\tlearn: 390.1410757\ttotal: 2m 41s\tremaining: 1.15s\n"
     ]
    },
    {
     "name": "stderr",
     "output_type": "stream",
     "text": [
      "[I 2023-11-06 20:46:29,705] Trial 17 finished with value: 341.3134078343797 and parameters: {'iterations': 2116, 'learning_rate': 0.006505949845204649, 'depth': 7, 'min_data_in_leaf': 3, 'l2_leaf_reg': 7, 'has-time': True, 'bagging_temperature': 0.4926681712605687, 'random_strength': 0.9972214923762877, 'border_count': 602, 'rsm': 0.36341081252887764, 'nan_mode': 'Min'}. Best is trial 0 with value: 336.212519318066.\n"
     ]
    },
    {
     "name": "stdout",
     "output_type": "stream",
     "text": [
      "2115:\tlearn: 389.8035359\ttotal: 2m 42s\tremaining: 0us\n",
      "0:\tlearn: 1127.6522000\ttotal: 114ms\tremaining: 4m 45s\n",
      "100:\tlearn: 544.0111960\ttotal: 13.3s\tremaining: 5m 17s\n",
      "200:\tlearn: 442.9373960\ttotal: 26.5s\tremaining: 5m 4s\n",
      "300:\tlearn: 419.2367578\ttotal: 41s\tremaining: 5m\n",
      "400:\tlearn: 407.4953973\ttotal: 53.9s\tremaining: 4m 43s\n",
      "500:\tlearn: 397.5267675\ttotal: 1m 6s\tremaining: 4m 26s\n",
      "600:\tlearn: 389.3585064\ttotal: 1m 19s\tremaining: 4m 12s\n",
      "700:\tlearn: 381.5568835\ttotal: 1m 33s\tremaining: 4m\n",
      "800:\tlearn: 374.2117196\ttotal: 1m 47s\tremaining: 3m 49s\n",
      "900:\tlearn: 367.2629098\ttotal: 2m\tremaining: 3m 35s\n",
      "1000:\tlearn: 360.8403418\ttotal: 2m 13s\tremaining: 3m 21s\n",
      "1100:\tlearn: 354.3101677\ttotal: 2m 27s\tremaining: 3m 8s\n",
      "1200:\tlearn: 348.4258226\ttotal: 2m 40s\tremaining: 2m 55s\n",
      "1300:\tlearn: 343.1657198\ttotal: 2m 54s\tremaining: 2m 42s\n",
      "1400:\tlearn: 338.3494447\ttotal: 3m 7s\tremaining: 2m 28s\n",
      "1500:\tlearn: 333.5728683\ttotal: 3m 21s\tremaining: 2m 15s\n",
      "1600:\tlearn: 329.7162671\ttotal: 3m 35s\tremaining: 2m 2s\n",
      "1700:\tlearn: 325.4865528\ttotal: 3m 49s\tremaining: 1m 49s\n",
      "1800:\tlearn: 321.1483907\ttotal: 4m 2s\tremaining: 1m 35s\n",
      "1900:\tlearn: 316.8631143\ttotal: 4m 16s\tremaining: 1m 22s\n",
      "2000:\tlearn: 313.0345347\ttotal: 4m 29s\tremaining: 1m 8s\n",
      "2100:\tlearn: 309.5366409\ttotal: 4m 43s\tremaining: 55.4s\n",
      "2200:\tlearn: 305.9972471\ttotal: 4m 57s\tremaining: 41.9s\n",
      "2300:\tlearn: 302.6004932\ttotal: 5m 10s\tremaining: 28.4s\n",
      "2400:\tlearn: 299.3605556\ttotal: 5m 23s\tremaining: 14.8s\n",
      "2500:\tlearn: 296.0468865\ttotal: 5m 38s\tremaining: 1.35s\n",
      "2510:\tlearn: 295.7922712\ttotal: 5m 39s\tremaining: 0us\n"
     ]
    },
    {
     "name": "stderr",
     "output_type": "stream",
     "text": [
      "[I 2023-11-06 20:52:10,408] Trial 18 finished with value: 333.5201363181928 and parameters: {'iterations': 2511, 'learning_rate': 0.013387708538234228, 'depth': 9, 'min_data_in_leaf': 37, 'l2_leaf_reg': 9, 'has-time': True, 'bagging_temperature': 0.6037942407543951, 'random_strength': 0.7203046909719719, 'border_count': 792, 'rsm': 0.5142593972884377, 'nan_mode': 'Max'}. Best is trial 18 with value: 333.5201363181928.\n"
     ]
    },
    {
     "name": "stdout",
     "output_type": "stream",
     "text": [
      "0:\tlearn: 1121.8935433\ttotal: 298ms\tremaining: 14m 46s\n",
      "100:\tlearn: 455.7200704\ttotal: 1m 19s\tremaining: 37m 47s\n",
      "200:\tlearn: 386.3221832\ttotal: 2m 39s\tremaining: 36m 39s\n",
      "300:\tlearn: 354.9694261\ttotal: 3m 59s\tremaining: 35m 27s\n",
      "400:\tlearn: 331.3349753\ttotal: 5m 19s\tremaining: 34m 8s\n",
      "500:\tlearn: 311.7931529\ttotal: 6m 36s\tremaining: 32m 40s\n",
      "600:\tlearn: 295.7145478\ttotal: 7m 55s\tremaining: 31m 20s\n",
      "700:\tlearn: 279.4972688\ttotal: 9m 14s\tremaining: 29m 59s\n",
      "800:\tlearn: 265.3246505\ttotal: 10m 28s\tremaining: 28m 26s\n",
      "900:\tlearn: 254.2747894\ttotal: 11m 38s\tremaining: 26m 48s\n",
      "1000:\tlearn: 243.5941281\ttotal: 12m 51s\tremaining: 25m 21s\n",
      "1100:\tlearn: 233.7704632\ttotal: 14m 2s\tremaining: 23m 54s\n",
      "1200:\tlearn: 224.5627271\ttotal: 15m 10s\tremaining: 22m 25s\n",
      "1300:\tlearn: 215.9976016\ttotal: 16m 13s\tremaining: 20m 53s\n",
      "1400:\tlearn: 208.4485330\ttotal: 17m 14s\tremaining: 19m 22s\n",
      "1500:\tlearn: 201.9416459\ttotal: 18m 14s\tremaining: 17m 55s\n",
      "1600:\tlearn: 194.9279494\ttotal: 19m 19s\tremaining: 16m 35s\n",
      "1700:\tlearn: 186.9209679\ttotal: 20m 31s\tremaining: 15m 23s\n",
      "1800:\tlearn: 180.2843574\ttotal: 21m 47s\tremaining: 14m 12s\n",
      "1900:\tlearn: 173.7761828\ttotal: 23m 2s\tremaining: 13m 2s\n",
      "2000:\tlearn: 167.6360996\ttotal: 24m 18s\tremaining: 11m 50s\n",
      "2100:\tlearn: 162.2573197\ttotal: 25m 33s\tremaining: 10m 38s\n",
      "2200:\tlearn: 157.4021196\ttotal: 26m 43s\tremaining: 9m 24s\n",
      "2300:\tlearn: 151.9002922\ttotal: 27m 50s\tremaining: 8m 10s\n",
      "2400:\tlearn: 147.1183099\ttotal: 28m 58s\tremaining: 6m 56s\n",
      "2500:\tlearn: 142.5588796\ttotal: 30m 5s\tremaining: 5m 42s\n",
      "2600:\tlearn: 138.1711821\ttotal: 31m 15s\tremaining: 4m 30s\n",
      "2700:\tlearn: 134.2192423\ttotal: 32m 24s\tremaining: 3m 17s\n",
      "2800:\tlearn: 130.6647712\ttotal: 33m 31s\tremaining: 2m 5s\n",
      "2900:\tlearn: 127.2350493\ttotal: 34m 37s\tremaining: 53.7s\n",
      "2975:\tlearn: 124.6616645\ttotal: 35m 14s\tremaining: 0us\n"
     ]
    },
    {
     "name": "stderr",
     "output_type": "stream",
     "text": [
      "[I 2023-11-06 21:27:28,744] Trial 19 finished with value: 336.0104191154252 and parameters: {'iterations': 2976, 'learning_rate': 0.02123102183183657, 'depth': 13, 'min_data_in_leaf': 86, 'l2_leaf_reg': 9, 'has-time': False, 'bagging_temperature': 0.7188175228917684, 'random_strength': 0.8916564476921582, 'border_count': 814, 'rsm': 0.5676326068210172, 'nan_mode': 'Max'}. Best is trial 18 with value: 333.5201363181928.\n"
     ]
    },
    {
     "name": "stdout",
     "output_type": "stream",
     "text": [
      "0:\tlearn: 1102.1593622\ttotal: 406ms\tremaining: 20m 11s\n",
      "100:\tlearn: 382.6366157\ttotal: 50.1s\tremaining: 23m 51s\n"
     ]
    },
    {
     "name": "stderr",
     "output_type": "stream",
     "text": [
      "[W 2023-11-06 21:28:36,150] Trial 20 failed with parameters: {'iterations': 2989, 'learning_rate': 0.04308761823821933, 'depth': 13, 'min_data_in_leaf': 87, 'l2_leaf_reg': 9, 'has-time': True, 'bagging_temperature': 0.7815230039161076, 'random_strength': 0.816693500602857, 'border_count': 832, 'rsm': 0.5729611011120581, 'nan_mode': 'Max'} because of the following error: KeyboardInterrupt('').\n",
      "Traceback (most recent call last):\n",
      "  File \"/opt/conda/lib/python3.10/site-packages/optuna/study/_optimize.py\", line 200, in _run_trial\n",
      "    value_or_values = func(trial)\n",
      "  File \"/var/tmp/ipykernel_2035/311075365.py\", line 25, in <lambda>\n",
      "    study.optimize(lambda trial: objective(trial, X_train, y_train), n_trials=60)\n",
      "  File \"/var/tmp/ipykernel_2035/311075365.py\", line 19, in objective\n",
      "    catboost_model_a.fit(train_pool_a)\n",
      "  File \"/opt/conda/lib/python3.10/site-packages/catboost/core.py\", line 5703, in fit\n",
      "    return self._fit(X, y, cat_features, text_features, embedding_features, None, sample_weight, None, None, None, None, baseline,\n",
      "  File \"/opt/conda/lib/python3.10/site-packages/catboost/core.py\", line 2319, in _fit\n",
      "    self._train(\n",
      "  File \"/opt/conda/lib/python3.10/site-packages/catboost/core.py\", line 1723, in _train\n",
      "    self._object._train(train_pool, test_pool, params, allow_clear_pool, init_model._object if init_model else None)\n",
      "  File \"_catboost.pyx\", line 4645, in _catboost._CatBoost._train\n",
      "  File \"_catboost.pyx\", line 4694, in _catboost._CatBoost._train\n",
      "KeyboardInterrupt\n",
      "[W 2023-11-06 21:28:36,152] Trial 20 failed with value None.\n"
     ]
    },
    {
     "ename": "KeyboardInterrupt",
     "evalue": "",
     "output_type": "error",
     "traceback": [
      "\u001b[0;31m---------------------------------------------------------------------------\u001b[0m",
      "\u001b[0;31mKeyboardInterrupt\u001b[0m                         Traceback (most recent call last)",
      "Cell \u001b[0;32mIn[14], line 25\u001b[0m\n\u001b[1;32m     22\u001b[0m     \u001b[38;5;28;01mreturn\u001b[39;00m MAE_a\n\u001b[1;32m     24\u001b[0m study \u001b[38;5;241m=\u001b[39m optuna\u001b[38;5;241m.\u001b[39mcreate_study(direction\u001b[38;5;241m=\u001b[39m\u001b[38;5;124m'\u001b[39m\u001b[38;5;124mminimize\u001b[39m\u001b[38;5;124m'\u001b[39m)\n\u001b[0;32m---> 25\u001b[0m \u001b[43mstudy\u001b[49m\u001b[38;5;241;43m.\u001b[39;49m\u001b[43moptimize\u001b[49m\u001b[43m(\u001b[49m\u001b[38;5;28;43;01mlambda\u001b[39;49;00m\u001b[43m \u001b[49m\u001b[43mtrial\u001b[49m\u001b[43m:\u001b[49m\u001b[43m \u001b[49m\u001b[43mobjective\u001b[49m\u001b[43m(\u001b[49m\u001b[43mtrial\u001b[49m\u001b[43m,\u001b[49m\u001b[43m \u001b[49m\u001b[43mX_train\u001b[49m\u001b[43m,\u001b[49m\u001b[43m \u001b[49m\u001b[43my_train\u001b[49m\u001b[43m)\u001b[49m\u001b[43m,\u001b[49m\u001b[43m \u001b[49m\u001b[43mn_trials\u001b[49m\u001b[38;5;241;43m=\u001b[39;49m\u001b[38;5;241;43m60\u001b[39;49m\u001b[43m)\u001b[49m\n",
      "File \u001b[0;32m/opt/conda/lib/python3.10/site-packages/optuna/study/study.py:451\u001b[0m, in \u001b[0;36mStudy.optimize\u001b[0;34m(self, func, n_trials, timeout, n_jobs, catch, callbacks, gc_after_trial, show_progress_bar)\u001b[0m\n\u001b[1;32m    348\u001b[0m \u001b[38;5;28;01mdef\u001b[39;00m \u001b[38;5;21moptimize\u001b[39m(\n\u001b[1;32m    349\u001b[0m     \u001b[38;5;28mself\u001b[39m,\n\u001b[1;32m    350\u001b[0m     func: ObjectiveFuncType,\n\u001b[0;32m   (...)\u001b[0m\n\u001b[1;32m    357\u001b[0m     show_progress_bar: \u001b[38;5;28mbool\u001b[39m \u001b[38;5;241m=\u001b[39m \u001b[38;5;28;01mFalse\u001b[39;00m,\n\u001b[1;32m    358\u001b[0m ) \u001b[38;5;241m-\u001b[39m\u001b[38;5;241m>\u001b[39m \u001b[38;5;28;01mNone\u001b[39;00m:\n\u001b[1;32m    359\u001b[0m \u001b[38;5;250m    \u001b[39m\u001b[38;5;124;03m\"\"\"Optimize an objective function.\u001b[39;00m\n\u001b[1;32m    360\u001b[0m \n\u001b[1;32m    361\u001b[0m \u001b[38;5;124;03m    Optimization is done by choosing a suitable set of hyperparameter values from a given\u001b[39;00m\n\u001b[0;32m   (...)\u001b[0m\n\u001b[1;32m    449\u001b[0m \u001b[38;5;124;03m            If nested invocation of this method occurs.\u001b[39;00m\n\u001b[1;32m    450\u001b[0m \u001b[38;5;124;03m    \"\"\"\u001b[39;00m\n\u001b[0;32m--> 451\u001b[0m     \u001b[43m_optimize\u001b[49m\u001b[43m(\u001b[49m\n\u001b[1;32m    452\u001b[0m \u001b[43m        \u001b[49m\u001b[43mstudy\u001b[49m\u001b[38;5;241;43m=\u001b[39;49m\u001b[38;5;28;43mself\u001b[39;49m\u001b[43m,\u001b[49m\n\u001b[1;32m    453\u001b[0m \u001b[43m        \u001b[49m\u001b[43mfunc\u001b[49m\u001b[38;5;241;43m=\u001b[39;49m\u001b[43mfunc\u001b[49m\u001b[43m,\u001b[49m\n\u001b[1;32m    454\u001b[0m \u001b[43m        \u001b[49m\u001b[43mn_trials\u001b[49m\u001b[38;5;241;43m=\u001b[39;49m\u001b[43mn_trials\u001b[49m\u001b[43m,\u001b[49m\n\u001b[1;32m    455\u001b[0m \u001b[43m        \u001b[49m\u001b[43mtimeout\u001b[49m\u001b[38;5;241;43m=\u001b[39;49m\u001b[43mtimeout\u001b[49m\u001b[43m,\u001b[49m\n\u001b[1;32m    456\u001b[0m \u001b[43m        \u001b[49m\u001b[43mn_jobs\u001b[49m\u001b[38;5;241;43m=\u001b[39;49m\u001b[43mn_jobs\u001b[49m\u001b[43m,\u001b[49m\n\u001b[1;32m    457\u001b[0m \u001b[43m        \u001b[49m\u001b[43mcatch\u001b[49m\u001b[38;5;241;43m=\u001b[39;49m\u001b[38;5;28;43mtuple\u001b[39;49m\u001b[43m(\u001b[49m\u001b[43mcatch\u001b[49m\u001b[43m)\u001b[49m\u001b[43m \u001b[49m\u001b[38;5;28;43;01mif\u001b[39;49;00m\u001b[43m \u001b[49m\u001b[38;5;28;43misinstance\u001b[39;49m\u001b[43m(\u001b[49m\u001b[43mcatch\u001b[49m\u001b[43m,\u001b[49m\u001b[43m \u001b[49m\u001b[43mIterable\u001b[49m\u001b[43m)\u001b[49m\u001b[43m \u001b[49m\u001b[38;5;28;43;01melse\u001b[39;49;00m\u001b[43m \u001b[49m\u001b[43m(\u001b[49m\u001b[43mcatch\u001b[49m\u001b[43m,\u001b[49m\u001b[43m)\u001b[49m\u001b[43m,\u001b[49m\n\u001b[1;32m    458\u001b[0m \u001b[43m        \u001b[49m\u001b[43mcallbacks\u001b[49m\u001b[38;5;241;43m=\u001b[39;49m\u001b[43mcallbacks\u001b[49m\u001b[43m,\u001b[49m\n\u001b[1;32m    459\u001b[0m \u001b[43m        \u001b[49m\u001b[43mgc_after_trial\u001b[49m\u001b[38;5;241;43m=\u001b[39;49m\u001b[43mgc_after_trial\u001b[49m\u001b[43m,\u001b[49m\n\u001b[1;32m    460\u001b[0m \u001b[43m        \u001b[49m\u001b[43mshow_progress_bar\u001b[49m\u001b[38;5;241;43m=\u001b[39;49m\u001b[43mshow_progress_bar\u001b[49m\u001b[43m,\u001b[49m\n\u001b[1;32m    461\u001b[0m \u001b[43m    \u001b[49m\u001b[43m)\u001b[49m\n",
      "File \u001b[0;32m/opt/conda/lib/python3.10/site-packages/optuna/study/_optimize.py:66\u001b[0m, in \u001b[0;36m_optimize\u001b[0;34m(study, func, n_trials, timeout, n_jobs, catch, callbacks, gc_after_trial, show_progress_bar)\u001b[0m\n\u001b[1;32m     64\u001b[0m \u001b[38;5;28;01mtry\u001b[39;00m:\n\u001b[1;32m     65\u001b[0m     \u001b[38;5;28;01mif\u001b[39;00m n_jobs \u001b[38;5;241m==\u001b[39m \u001b[38;5;241m1\u001b[39m:\n\u001b[0;32m---> 66\u001b[0m         \u001b[43m_optimize_sequential\u001b[49m\u001b[43m(\u001b[49m\n\u001b[1;32m     67\u001b[0m \u001b[43m            \u001b[49m\u001b[43mstudy\u001b[49m\u001b[43m,\u001b[49m\n\u001b[1;32m     68\u001b[0m \u001b[43m            \u001b[49m\u001b[43mfunc\u001b[49m\u001b[43m,\u001b[49m\n\u001b[1;32m     69\u001b[0m \u001b[43m            \u001b[49m\u001b[43mn_trials\u001b[49m\u001b[43m,\u001b[49m\n\u001b[1;32m     70\u001b[0m \u001b[43m            \u001b[49m\u001b[43mtimeout\u001b[49m\u001b[43m,\u001b[49m\n\u001b[1;32m     71\u001b[0m \u001b[43m            \u001b[49m\u001b[43mcatch\u001b[49m\u001b[43m,\u001b[49m\n\u001b[1;32m     72\u001b[0m \u001b[43m            \u001b[49m\u001b[43mcallbacks\u001b[49m\u001b[43m,\u001b[49m\n\u001b[1;32m     73\u001b[0m \u001b[43m            \u001b[49m\u001b[43mgc_after_trial\u001b[49m\u001b[43m,\u001b[49m\n\u001b[1;32m     74\u001b[0m \u001b[43m            \u001b[49m\u001b[43mreseed_sampler_rng\u001b[49m\u001b[38;5;241;43m=\u001b[39;49m\u001b[38;5;28;43;01mFalse\u001b[39;49;00m\u001b[43m,\u001b[49m\n\u001b[1;32m     75\u001b[0m \u001b[43m            \u001b[49m\u001b[43mtime_start\u001b[49m\u001b[38;5;241;43m=\u001b[39;49m\u001b[38;5;28;43;01mNone\u001b[39;49;00m\u001b[43m,\u001b[49m\n\u001b[1;32m     76\u001b[0m \u001b[43m            \u001b[49m\u001b[43mprogress_bar\u001b[49m\u001b[38;5;241;43m=\u001b[39;49m\u001b[43mprogress_bar\u001b[49m\u001b[43m,\u001b[49m\n\u001b[1;32m     77\u001b[0m \u001b[43m        \u001b[49m\u001b[43m)\u001b[49m\n\u001b[1;32m     78\u001b[0m     \u001b[38;5;28;01melse\u001b[39;00m:\n\u001b[1;32m     79\u001b[0m         \u001b[38;5;28;01mif\u001b[39;00m n_jobs \u001b[38;5;241m==\u001b[39m \u001b[38;5;241m-\u001b[39m\u001b[38;5;241m1\u001b[39m:\n",
      "File \u001b[0;32m/opt/conda/lib/python3.10/site-packages/optuna/study/_optimize.py:163\u001b[0m, in \u001b[0;36m_optimize_sequential\u001b[0;34m(study, func, n_trials, timeout, catch, callbacks, gc_after_trial, reseed_sampler_rng, time_start, progress_bar)\u001b[0m\n\u001b[1;32m    160\u001b[0m         \u001b[38;5;28;01mbreak\u001b[39;00m\n\u001b[1;32m    162\u001b[0m \u001b[38;5;28;01mtry\u001b[39;00m:\n\u001b[0;32m--> 163\u001b[0m     frozen_trial \u001b[38;5;241m=\u001b[39m \u001b[43m_run_trial\u001b[49m\u001b[43m(\u001b[49m\u001b[43mstudy\u001b[49m\u001b[43m,\u001b[49m\u001b[43m \u001b[49m\u001b[43mfunc\u001b[49m\u001b[43m,\u001b[49m\u001b[43m \u001b[49m\u001b[43mcatch\u001b[49m\u001b[43m)\u001b[49m\n\u001b[1;32m    164\u001b[0m \u001b[38;5;28;01mfinally\u001b[39;00m:\n\u001b[1;32m    165\u001b[0m     \u001b[38;5;66;03m# The following line mitigates memory problems that can be occurred in some\u001b[39;00m\n\u001b[1;32m    166\u001b[0m     \u001b[38;5;66;03m# environments (e.g., services that use computing containers such as GitHub Actions).\u001b[39;00m\n\u001b[1;32m    167\u001b[0m     \u001b[38;5;66;03m# Please refer to the following PR for further details:\u001b[39;00m\n\u001b[1;32m    168\u001b[0m     \u001b[38;5;66;03m# https://github.com/optuna/optuna/pull/325.\u001b[39;00m\n\u001b[1;32m    169\u001b[0m     \u001b[38;5;28;01mif\u001b[39;00m gc_after_trial:\n",
      "File \u001b[0;32m/opt/conda/lib/python3.10/site-packages/optuna/study/_optimize.py:251\u001b[0m, in \u001b[0;36m_run_trial\u001b[0;34m(study, func, catch)\u001b[0m\n\u001b[1;32m    244\u001b[0m         \u001b[38;5;28;01massert\u001b[39;00m \u001b[38;5;28;01mFalse\u001b[39;00m, \u001b[38;5;124m\"\u001b[39m\u001b[38;5;124mShould not reach.\u001b[39m\u001b[38;5;124m\"\u001b[39m\n\u001b[1;32m    246\u001b[0m \u001b[38;5;28;01mif\u001b[39;00m (\n\u001b[1;32m    247\u001b[0m     frozen_trial\u001b[38;5;241m.\u001b[39mstate \u001b[38;5;241m==\u001b[39m TrialState\u001b[38;5;241m.\u001b[39mFAIL\n\u001b[1;32m    248\u001b[0m     \u001b[38;5;129;01mand\u001b[39;00m func_err \u001b[38;5;129;01mis\u001b[39;00m \u001b[38;5;129;01mnot\u001b[39;00m \u001b[38;5;28;01mNone\u001b[39;00m\n\u001b[1;32m    249\u001b[0m     \u001b[38;5;129;01mand\u001b[39;00m \u001b[38;5;129;01mnot\u001b[39;00m \u001b[38;5;28misinstance\u001b[39m(func_err, catch)\n\u001b[1;32m    250\u001b[0m ):\n\u001b[0;32m--> 251\u001b[0m     \u001b[38;5;28;01mraise\u001b[39;00m func_err\n\u001b[1;32m    252\u001b[0m \u001b[38;5;28;01mreturn\u001b[39;00m frozen_trial\n",
      "File \u001b[0;32m/opt/conda/lib/python3.10/site-packages/optuna/study/_optimize.py:200\u001b[0m, in \u001b[0;36m_run_trial\u001b[0;34m(study, func, catch)\u001b[0m\n\u001b[1;32m    198\u001b[0m \u001b[38;5;28;01mwith\u001b[39;00m get_heartbeat_thread(trial\u001b[38;5;241m.\u001b[39m_trial_id, study\u001b[38;5;241m.\u001b[39m_storage):\n\u001b[1;32m    199\u001b[0m     \u001b[38;5;28;01mtry\u001b[39;00m:\n\u001b[0;32m--> 200\u001b[0m         value_or_values \u001b[38;5;241m=\u001b[39m \u001b[43mfunc\u001b[49m\u001b[43m(\u001b[49m\u001b[43mtrial\u001b[49m\u001b[43m)\u001b[49m\n\u001b[1;32m    201\u001b[0m     \u001b[38;5;28;01mexcept\u001b[39;00m exceptions\u001b[38;5;241m.\u001b[39mTrialPruned \u001b[38;5;28;01mas\u001b[39;00m e:\n\u001b[1;32m    202\u001b[0m         \u001b[38;5;66;03m# TODO(mamu): Handle multi-objective cases.\u001b[39;00m\n\u001b[1;32m    203\u001b[0m         state \u001b[38;5;241m=\u001b[39m TrialState\u001b[38;5;241m.\u001b[39mPRUNED\n",
      "Cell \u001b[0;32mIn[14], line 25\u001b[0m, in \u001b[0;36m<lambda>\u001b[0;34m(trial)\u001b[0m\n\u001b[1;32m     22\u001b[0m     \u001b[38;5;28;01mreturn\u001b[39;00m MAE_a\n\u001b[1;32m     24\u001b[0m study \u001b[38;5;241m=\u001b[39m optuna\u001b[38;5;241m.\u001b[39mcreate_study(direction\u001b[38;5;241m=\u001b[39m\u001b[38;5;124m'\u001b[39m\u001b[38;5;124mminimize\u001b[39m\u001b[38;5;124m'\u001b[39m)\n\u001b[0;32m---> 25\u001b[0m study\u001b[38;5;241m.\u001b[39moptimize(\u001b[38;5;28;01mlambda\u001b[39;00m trial: \u001b[43mobjective\u001b[49m\u001b[43m(\u001b[49m\u001b[43mtrial\u001b[49m\u001b[43m,\u001b[49m\u001b[43m \u001b[49m\u001b[43mX_train\u001b[49m\u001b[43m,\u001b[49m\u001b[43m \u001b[49m\u001b[43my_train\u001b[49m\u001b[43m)\u001b[49m, n_trials\u001b[38;5;241m=\u001b[39m\u001b[38;5;241m60\u001b[39m)\n",
      "Cell \u001b[0;32mIn[14], line 19\u001b[0m, in \u001b[0;36mobjective\u001b[0;34m(trial, X_train, y_train)\u001b[0m\n\u001b[1;32m      3\u001b[0m params \u001b[38;5;241m=\u001b[39m {\n\u001b[1;32m      4\u001b[0m     \u001b[38;5;124m\"\u001b[39m\u001b[38;5;124miterations\u001b[39m\u001b[38;5;124m\"\u001b[39m: trial\u001b[38;5;241m.\u001b[39msuggest_int(\u001b[38;5;124m\"\u001b[39m\u001b[38;5;124miterations\u001b[39m\u001b[38;5;124m\"\u001b[39m, \u001b[38;5;241m300\u001b[39m, \u001b[38;5;241m3000\u001b[39m),\n\u001b[1;32m      5\u001b[0m     \u001b[38;5;124m\"\u001b[39m\u001b[38;5;124mlearning_rate\u001b[39m\u001b[38;5;124m\"\u001b[39m: trial\u001b[38;5;241m.\u001b[39msuggest_float(\u001b[38;5;124m\"\u001b[39m\u001b[38;5;124mlearning_rate\u001b[39m\u001b[38;5;124m\"\u001b[39m, \u001b[38;5;241m1e-3\u001b[39m, \u001b[38;5;241m0.1\u001b[39m, log\u001b[38;5;241m=\u001b[39m\u001b[38;5;28;01mTrue\u001b[39;00m),\n\u001b[0;32m   (...)\u001b[0m\n\u001b[1;32m     15\u001b[0m     \u001b[38;5;124m\"\u001b[39m\u001b[38;5;124mnan_mode\u001b[39m\u001b[38;5;124m\"\u001b[39m: trial\u001b[38;5;241m.\u001b[39msuggest_categorical(\u001b[38;5;124m\"\u001b[39m\u001b[38;5;124mnan_mode\u001b[39m\u001b[38;5;124m\"\u001b[39m, [\u001b[38;5;124m\"\u001b[39m\u001b[38;5;124mMin\u001b[39m\u001b[38;5;124m\"\u001b[39m, \u001b[38;5;124m\"\u001b[39m\u001b[38;5;124mMax\u001b[39m\u001b[38;5;124m\"\u001b[39m])\n\u001b[1;32m     16\u001b[0m }\n\u001b[1;32m     18\u001b[0m catboost_model_a \u001b[38;5;241m=\u001b[39m CatBoostRegressor(\u001b[38;5;241m*\u001b[39m\u001b[38;5;241m*\u001b[39mparams, verbose\u001b[38;5;241m=\u001b[39m\u001b[38;5;241m100\u001b[39m)\n\u001b[0;32m---> 19\u001b[0m \u001b[43mcatboost_model_a\u001b[49m\u001b[38;5;241;43m.\u001b[39;49m\u001b[43mfit\u001b[49m\u001b[43m(\u001b[49m\u001b[43mtrain_pool_a\u001b[49m\u001b[43m)\u001b[49m\n\u001b[1;32m     20\u001b[0m pred_a \u001b[38;5;241m=\u001b[39m pd\u001b[38;5;241m.\u001b[39mDataFrame(catboost_model_a\u001b[38;5;241m.\u001b[39mpredict(test_pool_a))\n\u001b[1;32m     21\u001b[0m MAE_a \u001b[38;5;241m=\u001b[39m mean_absolute_error(y_test_a, pred_a)\n",
      "File \u001b[0;32m/opt/conda/lib/python3.10/site-packages/catboost/core.py:5703\u001b[0m, in \u001b[0;36mCatBoostRegressor.fit\u001b[0;34m(self, X, y, cat_features, text_features, embedding_features, sample_weight, baseline, use_best_model, eval_set, verbose, logging_level, plot, plot_file, column_description, verbose_eval, metric_period, silent, early_stopping_rounds, save_snapshot, snapshot_file, snapshot_interval, init_model, callbacks, log_cout, log_cerr)\u001b[0m\n\u001b[1;32m   5700\u001b[0m \u001b[38;5;28;01mif\u001b[39;00m \u001b[38;5;124m'\u001b[39m\u001b[38;5;124mloss_function\u001b[39m\u001b[38;5;124m'\u001b[39m \u001b[38;5;129;01min\u001b[39;00m params:\n\u001b[1;32m   5701\u001b[0m     CatBoostRegressor\u001b[38;5;241m.\u001b[39m_check_is_compatible_loss(params[\u001b[38;5;124m'\u001b[39m\u001b[38;5;124mloss_function\u001b[39m\u001b[38;5;124m'\u001b[39m])\n\u001b[0;32m-> 5703\u001b[0m \u001b[38;5;28;01mreturn\u001b[39;00m \u001b[38;5;28;43mself\u001b[39;49m\u001b[38;5;241;43m.\u001b[39;49m\u001b[43m_fit\u001b[49m\u001b[43m(\u001b[49m\u001b[43mX\u001b[49m\u001b[43m,\u001b[49m\u001b[43m \u001b[49m\u001b[43my\u001b[49m\u001b[43m,\u001b[49m\u001b[43m \u001b[49m\u001b[43mcat_features\u001b[49m\u001b[43m,\u001b[49m\u001b[43m \u001b[49m\u001b[43mtext_features\u001b[49m\u001b[43m,\u001b[49m\u001b[43m \u001b[49m\u001b[43membedding_features\u001b[49m\u001b[43m,\u001b[49m\u001b[43m \u001b[49m\u001b[38;5;28;43;01mNone\u001b[39;49;00m\u001b[43m,\u001b[49m\u001b[43m \u001b[49m\u001b[43msample_weight\u001b[49m\u001b[43m,\u001b[49m\u001b[43m \u001b[49m\u001b[38;5;28;43;01mNone\u001b[39;49;00m\u001b[43m,\u001b[49m\u001b[43m \u001b[49m\u001b[38;5;28;43;01mNone\u001b[39;49;00m\u001b[43m,\u001b[49m\u001b[43m \u001b[49m\u001b[38;5;28;43;01mNone\u001b[39;49;00m\u001b[43m,\u001b[49m\u001b[43m \u001b[49m\u001b[38;5;28;43;01mNone\u001b[39;49;00m\u001b[43m,\u001b[49m\u001b[43m \u001b[49m\u001b[43mbaseline\u001b[49m\u001b[43m,\u001b[49m\n\u001b[1;32m   5704\u001b[0m \u001b[43m                 \u001b[49m\u001b[43muse_best_model\u001b[49m\u001b[43m,\u001b[49m\u001b[43m \u001b[49m\u001b[43meval_set\u001b[49m\u001b[43m,\u001b[49m\u001b[43m \u001b[49m\u001b[43mverbose\u001b[49m\u001b[43m,\u001b[49m\u001b[43m \u001b[49m\u001b[43mlogging_level\u001b[49m\u001b[43m,\u001b[49m\u001b[43m \u001b[49m\u001b[43mplot\u001b[49m\u001b[43m,\u001b[49m\u001b[43m \u001b[49m\u001b[43mplot_file\u001b[49m\u001b[43m,\u001b[49m\u001b[43m \u001b[49m\u001b[43mcolumn_description\u001b[49m\u001b[43m,\u001b[49m\n\u001b[1;32m   5705\u001b[0m \u001b[43m                 \u001b[49m\u001b[43mverbose_eval\u001b[49m\u001b[43m,\u001b[49m\u001b[43m \u001b[49m\u001b[43mmetric_period\u001b[49m\u001b[43m,\u001b[49m\u001b[43m \u001b[49m\u001b[43msilent\u001b[49m\u001b[43m,\u001b[49m\u001b[43m \u001b[49m\u001b[43mearly_stopping_rounds\u001b[49m\u001b[43m,\u001b[49m\n\u001b[1;32m   5706\u001b[0m \u001b[43m                 \u001b[49m\u001b[43msave_snapshot\u001b[49m\u001b[43m,\u001b[49m\u001b[43m \u001b[49m\u001b[43msnapshot_file\u001b[49m\u001b[43m,\u001b[49m\u001b[43m \u001b[49m\u001b[43msnapshot_interval\u001b[49m\u001b[43m,\u001b[49m\u001b[43m \u001b[49m\u001b[43minit_model\u001b[49m\u001b[43m,\u001b[49m\u001b[43m \u001b[49m\u001b[43mcallbacks\u001b[49m\u001b[43m,\u001b[49m\u001b[43m \u001b[49m\u001b[43mlog_cout\u001b[49m\u001b[43m,\u001b[49m\u001b[43m \u001b[49m\u001b[43mlog_cerr\u001b[49m\u001b[43m)\u001b[49m\n",
      "File \u001b[0;32m/opt/conda/lib/python3.10/site-packages/catboost/core.py:2319\u001b[0m, in \u001b[0;36mCatBoost._fit\u001b[0;34m(self, X, y, cat_features, text_features, embedding_features, pairs, sample_weight, group_id, group_weight, subgroup_id, pairs_weight, baseline, use_best_model, eval_set, verbose, logging_level, plot, plot_file, column_description, verbose_eval, metric_period, silent, early_stopping_rounds, save_snapshot, snapshot_file, snapshot_interval, init_model, callbacks, log_cout, log_cerr)\u001b[0m\n\u001b[1;32m   2315\u001b[0m allow_clear_pool \u001b[38;5;241m=\u001b[39m train_params[\u001b[38;5;124m\"\u001b[39m\u001b[38;5;124mallow_clear_pool\u001b[39m\u001b[38;5;124m\"\u001b[39m]\n\u001b[1;32m   2317\u001b[0m \u001b[38;5;28;01mwith\u001b[39;00m log_fixup(log_cout, log_cerr), \\\n\u001b[1;32m   2318\u001b[0m     plot_wrapper(plot, plot_file, \u001b[38;5;124m'\u001b[39m\u001b[38;5;124mTraining plots\u001b[39m\u001b[38;5;124m'\u001b[39m, [_get_train_dir(\u001b[38;5;28mself\u001b[39m\u001b[38;5;241m.\u001b[39mget_params())]):\n\u001b[0;32m-> 2319\u001b[0m     \u001b[38;5;28;43mself\u001b[39;49m\u001b[38;5;241;43m.\u001b[39;49m\u001b[43m_train\u001b[49m\u001b[43m(\u001b[49m\n\u001b[1;32m   2320\u001b[0m \u001b[43m        \u001b[49m\u001b[43mtrain_pool\u001b[49m\u001b[43m,\u001b[49m\n\u001b[1;32m   2321\u001b[0m \u001b[43m        \u001b[49m\u001b[43mtrain_params\u001b[49m\u001b[43m[\u001b[49m\u001b[38;5;124;43m\"\u001b[39;49m\u001b[38;5;124;43meval_sets\u001b[39;49m\u001b[38;5;124;43m\"\u001b[39;49m\u001b[43m]\u001b[49m\u001b[43m,\u001b[49m\n\u001b[1;32m   2322\u001b[0m \u001b[43m        \u001b[49m\u001b[43mparams\u001b[49m\u001b[43m,\u001b[49m\n\u001b[1;32m   2323\u001b[0m \u001b[43m        \u001b[49m\u001b[43mallow_clear_pool\u001b[49m\u001b[43m,\u001b[49m\n\u001b[1;32m   2324\u001b[0m \u001b[43m        \u001b[49m\u001b[43mtrain_params\u001b[49m\u001b[43m[\u001b[49m\u001b[38;5;124;43m\"\u001b[39;49m\u001b[38;5;124;43minit_model\u001b[39;49m\u001b[38;5;124;43m\"\u001b[39;49m\u001b[43m]\u001b[49m\n\u001b[1;32m   2325\u001b[0m \u001b[43m    \u001b[49m\u001b[43m)\u001b[49m\n\u001b[1;32m   2327\u001b[0m \u001b[38;5;66;03m# Have property feature_importance possibly set\u001b[39;00m\n\u001b[1;32m   2328\u001b[0m loss \u001b[38;5;241m=\u001b[39m \u001b[38;5;28mself\u001b[39m\u001b[38;5;241m.\u001b[39m_object\u001b[38;5;241m.\u001b[39m_get_loss_function_name()\n",
      "File \u001b[0;32m/opt/conda/lib/python3.10/site-packages/catboost/core.py:1723\u001b[0m, in \u001b[0;36m_CatBoostBase._train\u001b[0;34m(self, train_pool, test_pool, params, allow_clear_pool, init_model)\u001b[0m\n\u001b[1;32m   1722\u001b[0m \u001b[38;5;28;01mdef\u001b[39;00m \u001b[38;5;21m_train\u001b[39m(\u001b[38;5;28mself\u001b[39m, train_pool, test_pool, params, allow_clear_pool, init_model):\n\u001b[0;32m-> 1723\u001b[0m     \u001b[38;5;28;43mself\u001b[39;49m\u001b[38;5;241;43m.\u001b[39;49m\u001b[43m_object\u001b[49m\u001b[38;5;241;43m.\u001b[39;49m\u001b[43m_train\u001b[49m\u001b[43m(\u001b[49m\u001b[43mtrain_pool\u001b[49m\u001b[43m,\u001b[49m\u001b[43m \u001b[49m\u001b[43mtest_pool\u001b[49m\u001b[43m,\u001b[49m\u001b[43m \u001b[49m\u001b[43mparams\u001b[49m\u001b[43m,\u001b[49m\u001b[43m \u001b[49m\u001b[43mallow_clear_pool\u001b[49m\u001b[43m,\u001b[49m\u001b[43m \u001b[49m\u001b[43minit_model\u001b[49m\u001b[38;5;241;43m.\u001b[39;49m\u001b[43m_object\u001b[49m\u001b[43m \u001b[49m\u001b[38;5;28;43;01mif\u001b[39;49;00m\u001b[43m \u001b[49m\u001b[43minit_model\u001b[49m\u001b[43m \u001b[49m\u001b[38;5;28;43;01melse\u001b[39;49;00m\u001b[43m \u001b[49m\u001b[38;5;28;43;01mNone\u001b[39;49;00m\u001b[43m)\u001b[49m\n\u001b[1;32m   1724\u001b[0m     \u001b[38;5;28mself\u001b[39m\u001b[38;5;241m.\u001b[39m_set_trained_model_attributes()\n",
      "File \u001b[0;32m_catboost.pyx:4645\u001b[0m, in \u001b[0;36m_catboost._CatBoost._train\u001b[0;34m()\u001b[0m\n",
      "File \u001b[0;32m_catboost.pyx:4694\u001b[0m, in \u001b[0;36m_catboost._CatBoost._train\u001b[0;34m()\u001b[0m\n",
      "\u001b[0;31mKeyboardInterrupt\u001b[0m: "
     ]
    }
   ],
   "source": [
    "#For location A\n",
    "def objective(trial, X_train, y_train):\n",
    "    params = {\n",
    "        \"iterations\": trial.suggest_int(\"iterations\", 300, 3000),\n",
    "        \"learning_rate\": trial.suggest_float(\"learning_rate\", 1e-3, 0.1, log=True),\n",
    "        \"depth\": trial.suggest_int(\"depth\", 1, 13),\n",
    "        \"min_data_in_leaf\": trial.suggest_int(\"min_data_in_leaf\", 1, 100),\n",
    "        \"l2_leaf_reg\": trial.suggest_int(\"l2_leaf_reg\", 2, 10),\n",
    "        \"has_time\": trial.suggest_categorical('has-time', [True, False]),\n",
    "        \"bagging_temperature\": trial.suggest_float(\"bagging_temperature\", 0.3, 1.0),\n",
    "        \"random_strength\": trial.suggest_float(\"random_strength\", 0.3, 1.0),\n",
    "        \"random_state\": 2,\n",
    "        \"border_count\": trial.suggest_int(\"border_count\", 1, 1000),\n",
    "        \"rsm\": trial.suggest_float(\"rsm\", 0.05, 1),\n",
    "        \"nan_mode\": trial.suggest_categorical(\"nan_mode\", [\"Min\", \"Max\"])\n",
    "    }\n",
    "\n",
    "    catboost_model_a = CatBoostRegressor(**params, verbose=100)\n",
    "    catboost_model_a.fit(train_pool_a)\n",
    "    pred_a = pd.DataFrame(catboost_model_a.predict(test_pool_a))\n",
    "    MAE_a = mean_absolute_error(y_test_a, pred_a)\n",
    "    return MAE_a\n",
    "\n",
    "study = optuna.create_study(direction='minimize')\n",
    "study.optimize(lambda trial: objective(trial, X_train, y_train), n_trials=60)"
   ]
  },
  {
   "cell_type": "code",
   "execution_count": 10,
   "metadata": {},
   "outputs": [
    {
     "name": "stdout",
     "output_type": "stream",
     "text": [
      "{'iterations': 1852, 'learning_rate': 0.0018854412552105353, 'depth': 9, 'colsample_bylevel': 0.7366562974962199, 'min_data_in_leaf': 4, 'l2_leaf_reg': 3, 'has-time': True, 'bagging_temperature': 0.9525931510378696, 'random_strength': 0.30613129187014626, 'border_count': 993, 'rsm': 0.21119141087462187, 'nan_mode': 'min'}\n",
      "351.34628571238125\n"
     ]
    }
   ],
   "source": [
    "#to output the best paramaters\n",
    "print(study.best_params)\n",
    "\n",
    "#to output the best score returned from the trials\n",
    "print(study.best_value)\n",
    "\n",
    "\n",
    "with open(\"optuna-best-parameters_a.txt\", \"w\") as file:\n",
    "    file.write(\"Best paramaters: \\n\")\n",
    "    file.write(json.dumps(study.best_params))  # Write the first string followed by a newline character\n",
    "    file.write(\"\\n\")\n",
    "    file.write(\"best score MAE: \\n\")\n",
    "    file.write(json.dumps(study.best_value))  # Write the second string followed by a newline character"
   ]
  },
  {
   "cell_type": "code",
   "execution_count": null,
   "metadata": {},
   "outputs": [],
   "source": []
  }
 ],
 "metadata": {
  "environment": {
   "kernel": "python3",
   "name": "common-cpu.m112",
   "type": "gcloud",
   "uri": "gcr.io/deeplearning-platform-release/base-cpu:m112"
  },
  "kernelspec": {
   "display_name": "Python 3",
   "language": "python",
   "name": "python3"
  },
  "language_info": {
   "codemirror_mode": {
    "name": "ipython",
    "version": 3
   },
   "file_extension": ".py",
   "mimetype": "text/x-python",
   "name": "python",
   "nbconvert_exporter": "python",
   "pygments_lexer": "ipython3",
   "version": "3.10.12"
  }
 },
 "nbformat": 4,
 "nbformat_minor": 4
}
