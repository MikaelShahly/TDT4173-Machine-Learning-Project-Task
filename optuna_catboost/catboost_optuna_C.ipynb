{
 "cells": [
  {
   "cell_type": "code",
   "execution_count": 6,
   "metadata": {},
   "outputs": [],
   "source": [
    "import pandas as pd\n",
    "import numpy as np\n",
    "from catboost import Pool, CatBoostRegressor\n",
    "from sklearn.model_selection import cross_val_score\n",
    "from sklearn.model_selection import TimeSeriesSplit \n",
    "import optuna \n",
    "import json\n",
    "from sklearn.metrics import mean_absolute_error"
   ]
  },
  {
   "cell_type": "code",
   "execution_count": 7,
   "metadata": {},
   "outputs": [],
   "source": [
    "#Load inn datasets\n",
    "X_test  = pd.read_parquet('../data/prepared_datasets/only_y_cleaned/X_test.parquet')\n",
    "X_train = pd.read_parquet('../data/prepared_datasets/only_y_cleaned/X_train.parquet')\n",
    "y_train = pd.read_parquet('../data/prepared_datasets/only_y_cleaned/Y_train.parquet')\n",
    "y_train_a = pd.read_parquet('../data/prepared_datasets/only_y_cleaned/Y_train_a.parquet')\n",
    "y_train_b = pd.read_parquet('../data/prepared_datasets/only_y_cleaned/Y_train_b.parquet')\n",
    "y_train_c = pd.read_parquet('../data/prepared_datasets/only_y_cleaned/Y_train_c.parquet')"
   ]
  },
  {
   "cell_type": "code",
   "execution_count": 8,
   "metadata": {},
   "outputs": [],
   "source": [
    "def splitting_def(df):\n",
    "    date_range_1 = (df.index >= '2020-05-01') & (df.index <= '2020-06-25')\n",
    "    date_range_2 = (df.index >= '2023-05-01') & (df.index <= '2023-06-15')\n",
    "\n",
    "    # Combine the date ranges to create the test set\n",
    "    test_set = df[date_range_1 | date_range_2]\n",
    "\n",
    "    # The rest of the data will be your training set\n",
    "    training_set = df[~(date_range_1 | date_range_2)]\n",
    "    \n",
    "    # Splitting the test_set into X_test and y_test\n",
    "    X_test = test_set.drop(\"pv_measurement\", axis=1)\n",
    "    y_test = test_set['pv_measurement']  # Assuming 'pv_measurement' is your target variable\n",
    "\n",
    "    # Splitting the training_set into X_train and y_train\n",
    "    X_train = training_set.drop(\"pv_measurement\", axis=1)\n",
    "    y_train = training_set['pv_measurement']\n",
    "    \n",
    "    return X_train, X_test, y_train, y_test\n",
    "\n",
    "X_train_new_c, X_test_new_c, y_train_new_c, y_test_c = splitting_def(pd.concat([X_train[X_train[\"location\"] == \"C\"].drop(\"location\", axis=1), y_train_c], axis=1))"
   ]
  },
  {
   "cell_type": "code",
   "execution_count": 9,
   "metadata": {},
   "outputs": [],
   "source": [
    "#Create a pool of data\n",
    "\n",
    "train_pool_c = Pool(X_train_new_c, y_train_new_c)\n",
    "test_pool_c = Pool(X_test_new_c) "
   ]
  },
  {
   "cell_type": "code",
   "execution_count": 10,
   "metadata": {},
   "outputs": [
    {
     "name": "stderr",
     "output_type": "stream",
     "text": [
      "[I 2023-11-06 20:07:05,625] A new study created in memory with name: no-name-4d8cfa08-f6ca-483c-9622-ee1b532365e1\n"
     ]
    },
    {
     "name": "stdout",
     "output_type": "stream",
     "text": [
      "0:\tlearn: 152.5279022\ttotal: 52.7ms\tremaining: 2m 11s\n",
      "100:\tlearn: 110.2013731\ttotal: 3.67s\tremaining: 1m 27s\n",
      "200:\tlearn: 84.2523050\ttotal: 7.5s\tremaining: 1m 25s\n",
      "300:\tlearn: 68.9389840\ttotal: 11.4s\tremaining: 1m 22s\n",
      "400:\tlearn: 60.1151773\ttotal: 15.2s\tremaining: 1m 19s\n",
      "500:\tlearn: 55.0024534\ttotal: 19.1s\tremaining: 1m 16s\n",
      "600:\tlearn: 51.9248124\ttotal: 23.1s\tremaining: 1m 12s\n",
      "700:\tlearn: 49.9826026\ttotal: 27.3s\tremaining: 1m 9s\n",
      "800:\tlearn: 48.6132168\ttotal: 32.1s\tremaining: 1m 7s\n",
      "900:\tlearn: 47.5606619\ttotal: 37.2s\tremaining: 1m 5s\n",
      "1000:\tlearn: 46.6407770\ttotal: 41.8s\tremaining: 1m 2s\n",
      "1100:\tlearn: 45.8688996\ttotal: 46.3s\tremaining: 58.6s\n",
      "1200:\tlearn: 45.2235354\ttotal: 51s\tremaining: 54.9s\n",
      "1300:\tlearn: 44.6538820\ttotal: 55.6s\tremaining: 51s\n",
      "1400:\tlearn: 44.1632466\ttotal: 1m\tremaining: 47.5s\n",
      "1500:\tlearn: 43.6900206\ttotal: 1m 6s\tremaining: 43.7s\n",
      "1600:\tlearn: 43.2423628\ttotal: 1m 11s\tremaining: 39.7s\n",
      "1700:\tlearn: 42.7700637\ttotal: 1m 16s\tremaining: 35.6s\n",
      "1800:\tlearn: 42.3225569\ttotal: 1m 21s\tremaining: 31.4s\n",
      "1900:\tlearn: 41.8967461\ttotal: 1m 26s\tremaining: 27s\n",
      "2000:\tlearn: 41.4620386\ttotal: 1m 30s\tremaining: 22.4s\n",
      "2100:\tlearn: 41.0452452\ttotal: 1m 36s\tremaining: 18.1s\n",
      "2200:\tlearn: 40.6416946\ttotal: 1m 40s\tremaining: 13.5s\n",
      "2300:\tlearn: 40.2325041\ttotal: 1m 45s\tremaining: 8.91s\n",
      "2400:\tlearn: 39.8203403\ttotal: 1m 50s\tremaining: 4.33s\n",
      "2494:\tlearn: 39.4770296\ttotal: 1m 55s\tremaining: 0us\n"
     ]
    },
    {
     "name": "stderr",
     "output_type": "stream",
     "text": [
      "[I 2023-11-06 20:09:01,857] Trial 0 finished with value: 58.123193703563224 and parameters: {'iterations': 2495, 'learning_rate': 0.004391964575861436, 'depth': 10, 'min_data_in_leaf': 47, 'l2_leaf_reg': 10, 'has-time': True, 'bagging_temperature': 0.5149433339576688, 'random_strength': 0.6706759240891431, 'border_count': 92, 'rsm': 0.8335460689387181, 'nan_mode': 'Min'}. Best is trial 0 with value: 58.123193703563224.\n"
     ]
    },
    {
     "name": "stdout",
     "output_type": "stream",
     "text": [
      "0:\tlearn: 143.4466740\ttotal: 48.6ms\tremaining: 17.3s\n",
      "100:\tlearn: 47.8302549\ttotal: 1.49s\tremaining: 3.77s\n",
      "200:\tlearn: 43.0923448\ttotal: 3.18s\tremaining: 2.47s\n",
      "300:\tlearn: 39.7828707\ttotal: 4.37s\tremaining: 814ms\n"
     ]
    },
    {
     "name": "stderr",
     "output_type": "stream",
     "text": [
      "[I 2023-11-06 20:09:07,127] Trial 1 finished with value: 58.509337406541746 and parameters: {'iterations': 357, 'learning_rate': 0.0795214667949283, 'depth': 6, 'min_data_in_leaf': 84, 'l2_leaf_reg': 5, 'has-time': False, 'bagging_temperature': 0.8468554853484755, 'random_strength': 0.48487033861518813, 'border_count': 78, 'rsm': 0.5106325871115339, 'nan_mode': 'Max'}. Best is trial 0 with value: 58.123193703563224.\n"
     ]
    },
    {
     "name": "stdout",
     "output_type": "stream",
     "text": [
      "356:\tlearn: 38.2519479\ttotal: 5.01s\tremaining: 0us\n",
      "0:\tlearn: 152.5979605\ttotal: 11.3ms\tremaining: 26.9s\n",
      "100:\tlearn: 114.7030275\ttotal: 2.04s\tremaining: 46s\n",
      "200:\tlearn: 90.2917203\ttotal: 3.98s\tremaining: 43.1s\n",
      "300:\tlearn: 75.1459668\ttotal: 6.32s\tremaining: 43.6s\n",
      "400:\tlearn: 66.0388865\ttotal: 8.19s\tremaining: 40.4s\n",
      "500:\tlearn: 60.5508457\ttotal: 10.1s\tremaining: 38s\n",
      "600:\tlearn: 57.3391888\ttotal: 11.9s\tremaining: 35.1s\n",
      "700:\tlearn: 55.2835169\ttotal: 13.6s\tremaining: 32.6s\n",
      "800:\tlearn: 53.9474485\ttotal: 15.4s\tremaining: 30.3s\n",
      "900:\tlearn: 53.0590977\ttotal: 17.4s\tremaining: 28.5s\n",
      "1000:\tlearn: 52.3995295\ttotal: 19.2s\tremaining: 26.4s\n",
      "1100:\tlearn: 51.9003527\ttotal: 20.8s\tremaining: 24.2s\n",
      "1200:\tlearn: 51.4854066\ttotal: 23.1s\tremaining: 22.6s\n",
      "1300:\tlearn: 51.1442246\ttotal: 25s\tremaining: 20.7s\n",
      "1400:\tlearn: 50.8391555\ttotal: 27.2s\tremaining: 19s\n",
      "1500:\tlearn: 50.5526453\ttotal: 29.4s\tremaining: 17.2s\n",
      "1600:\tlearn: 50.2954703\ttotal: 31.6s\tremaining: 15.3s\n",
      "1700:\tlearn: 50.0222084\ttotal: 33.8s\tremaining: 13.5s\n",
      "1800:\tlearn: 49.7935669\ttotal: 35.7s\tremaining: 11.4s\n",
      "1900:\tlearn: 49.5528813\ttotal: 38s\tremaining: 9.53s\n",
      "2000:\tlearn: 49.3404565\ttotal: 40s\tremaining: 7.54s\n",
      "2100:\tlearn: 49.1114357\ttotal: 42.3s\tremaining: 5.57s\n",
      "2200:\tlearn: 48.8907117\ttotal: 44.4s\tremaining: 3.57s\n",
      "2300:\tlearn: 48.6994843\ttotal: 46.2s\tremaining: 1.55s\n"
     ]
    },
    {
     "name": "stderr",
     "output_type": "stream",
     "text": [
      "[I 2023-11-06 20:09:55,560] Trial 2 finished with value: 58.567686392490046 and parameters: {'iterations': 2378, 'learning_rate': 0.004054967928325838, 'depth': 6, 'min_data_in_leaf': 52, 'l2_leaf_reg': 10, 'has-time': False, 'bagging_temperature': 0.5780497172441184, 'random_strength': 0.9191892661134582, 'border_count': 694, 'rsm': 0.14625827877296743, 'nan_mode': 'Min'}. Best is trial 0 with value: 58.123193703563224.\n"
     ]
    },
    {
     "name": "stdout",
     "output_type": "stream",
     "text": [
      "2377:\tlearn: 48.5506903\ttotal: 47.9s\tremaining: 0us\n",
      "0:\tlearn: 152.7794314\ttotal: 121ms\tremaining: 3m 5s\n",
      "100:\tlearn: 127.7517674\ttotal: 13.5s\tremaining: 3m 10s\n",
      "200:\tlearn: 108.3493364\ttotal: 26.1s\tremaining: 2m 52s\n",
      "300:\tlearn: 93.3628518\ttotal: 38.3s\tremaining: 2m 36s\n",
      "400:\tlearn: 81.9822249\ttotal: 51.2s\tremaining: 2m 24s\n",
      "500:\tlearn: 73.3961236\ttotal: 1m 4s\tremaining: 2m 11s\n",
      "600:\tlearn: 66.9499438\ttotal: 1m 17s\tremaining: 1m 59s\n",
      "700:\tlearn: 62.1473884\ttotal: 1m 29s\tremaining: 1m 46s\n",
      "800:\tlearn: 58.6092396\ttotal: 1m 42s\tremaining: 1m 33s\n",
      "900:\tlearn: 55.9803872\ttotal: 1m 55s\tremaining: 1m 20s\n",
      "1000:\tlearn: 53.9981323\ttotal: 2m 8s\tremaining: 1m 7s\n",
      "1100:\tlearn: 52.4822720\ttotal: 2m 21s\tremaining: 54.9s\n",
      "1200:\tlearn: 51.2894342\ttotal: 2m 34s\tremaining: 42.1s\n",
      "1300:\tlearn: 50.3516511\ttotal: 2m 46s\tremaining: 29.2s\n",
      "1400:\tlearn: 49.5839031\ttotal: 2m 59s\tremaining: 16.4s\n",
      "1500:\tlearn: 48.9378972\ttotal: 3m 12s\tremaining: 3.59s\n"
     ]
    },
    {
     "name": "stderr",
     "output_type": "stream",
     "text": [
      "[I 2023-11-06 20:13:12,586] Trial 3 finished with value: 62.925772250455616 and parameters: {'iterations': 1529, 'learning_rate': 0.002283270103217358, 'depth': 9, 'min_data_in_leaf': 18, 'l2_leaf_reg': 9, 'has-time': True, 'bagging_temperature': 0.480785298193901, 'random_strength': 0.3242059206363885, 'border_count': 671, 'rsm': 0.8817947457916224, 'nan_mode': 'Min'}. Best is trial 0 with value: 58.123193703563224.\n"
     ]
    },
    {
     "name": "stdout",
     "output_type": "stream",
     "text": [
      "1528:\tlearn: 48.7759573\ttotal: 3m 16s\tremaining: 0us\n",
      "0:\tlearn: 152.1438699\ttotal: 4.91ms\tremaining: 8.22s\n",
      "100:\tlearn: 90.6100434\ttotal: 1.14s\tremaining: 17.8s\n",
      "200:\tlearn: 66.5700909\ttotal: 2.19s\tremaining: 16.1s\n",
      "300:\tlearn: 57.7596375\ttotal: 3.24s\tremaining: 14.8s\n",
      "400:\tlearn: 54.3859012\ttotal: 4.17s\tremaining: 13.2s\n",
      "500:\tlearn: 52.8032385\ttotal: 5.1s\tremaining: 12s\n",
      "600:\tlearn: 51.9527746\ttotal: 6.1s\tremaining: 10.9s\n",
      "700:\tlearn: 51.3964997\ttotal: 7.55s\tremaining: 10.5s\n",
      "800:\tlearn: 50.9117098\ttotal: 8.78s\tremaining: 9.59s\n",
      "900:\tlearn: 50.4622124\ttotal: 9.97s\tremaining: 8.57s\n",
      "1000:\tlearn: 49.9965428\ttotal: 11s\tremaining: 7.39s\n",
      "1100:\tlearn: 49.5932289\ttotal: 12.2s\tremaining: 6.39s\n",
      "1200:\tlearn: 49.1698705\ttotal: 13.3s\tremaining: 5.24s\n",
      "1300:\tlearn: 48.7904489\ttotal: 14.2s\tremaining: 4.08s\n",
      "1400:\tlearn: 48.4234610\ttotal: 15.3s\tremaining: 3.01s\n",
      "1500:\tlearn: 48.0844172\ttotal: 16.4s\tremaining: 1.91s\n",
      "1600:\tlearn: 47.7793027\ttotal: 17.4s\tremaining: 816ms\n"
     ]
    },
    {
     "name": "stderr",
     "output_type": "stream",
     "text": [
      "[I 2023-11-06 20:13:31,138] Trial 4 finished with value: 58.67635024416602 and parameters: {'iterations': 1676, 'learning_rate': 0.007636726752033881, 'depth': 5, 'min_data_in_leaf': 64, 'l2_leaf_reg': 8, 'has-time': True, 'bagging_temperature': 0.852346801596481, 'random_strength': 0.3496007717071728, 'border_count': 185, 'rsm': 0.5215274115742715, 'nan_mode': 'Min'}. Best is trial 0 with value: 58.123193703563224.\n"
     ]
    },
    {
     "name": "stdout",
     "output_type": "stream",
     "text": [
      "1675:\tlearn: 47.5498330\ttotal: 18.1s\tremaining: 0us\n",
      "0:\tlearn: 151.0657195\ttotal: 791ms\tremaining: 16m 37s\n",
      "100:\tlearn: 59.6768314\ttotal: 1m 13s\tremaining: 13m 59s\n",
      "200:\tlearn: 44.3503557\ttotal: 2m 26s\tremaining: 12m 51s\n",
      "300:\tlearn: 38.9118925\ttotal: 3m 36s\tremaining: 11m 29s\n",
      "400:\tlearn: 35.1214584\ttotal: 4m 45s\tremaining: 10m 13s\n",
      "500:\tlearn: 32.2311486\ttotal: 5m 53s\tremaining: 8m 57s\n",
      "600:\tlearn: 29.6145720\ttotal: 7m 3s\tremaining: 7m 45s\n",
      "700:\tlearn: 27.2604196\ttotal: 8m 14s\tremaining: 6m 35s\n",
      "800:\tlearn: 25.1463049\ttotal: 9m 24s\tremaining: 5m 24s\n",
      "900:\tlearn: 23.2512849\ttotal: 10m 36s\tremaining: 4m 14s\n",
      "1000:\tlearn: 21.6599658\ttotal: 11m 46s\tremaining: 3m 4s\n",
      "1100:\tlearn: 20.2754082\ttotal: 13m\tremaining: 1m 54s\n",
      "1200:\tlearn: 18.9935971\ttotal: 14m 26s\tremaining: 44s\n",
      "1261:\tlearn: 18.2564013\ttotal: 15m 19s\tremaining: 0us\n"
     ]
    },
    {
     "name": "stderr",
     "output_type": "stream",
     "text": [
      "[I 2023-11-06 20:28:52,939] Trial 5 finished with value: 58.70730443665007 and parameters: {'iterations': 1262, 'learning_rate': 0.016366454071466273, 'depth': 13, 'min_data_in_leaf': 9, 'l2_leaf_reg': 4, 'has-time': True, 'bagging_temperature': 0.6050285904762773, 'random_strength': 0.8223493471031733, 'border_count': 828, 'rsm': 0.5703845931235906, 'nan_mode': 'Min'}. Best is trial 0 with value: 58.123193703563224.\n"
     ]
    },
    {
     "name": "stdout",
     "output_type": "stream",
     "text": [
      "0:\tlearn: 152.7910300\ttotal: 27.9ms\tremaining: 1m 8s\n",
      "100:\tlearn: 127.9358758\ttotal: 756ms\tremaining: 17.6s\n",
      "200:\tlearn: 108.9538967\ttotal: 1.95s\tremaining: 21.9s\n",
      "300:\tlearn: 94.7063750\ttotal: 3.24s\tremaining: 23.2s\n",
      "400:\tlearn: 84.0723012\ttotal: 4.17s\tremaining: 21.3s\n",
      "500:\tlearn: 76.2405776\ttotal: 5.3s\tremaining: 20.6s\n",
      "600:\tlearn: 70.4969527\ttotal: 6.45s\tremaining: 19.8s\n",
      "700:\tlearn: 66.3091979\ttotal: 7.59s\tremaining: 18.9s\n",
      "800:\tlearn: 63.1980955\ttotal: 8.7s\tremaining: 17.9s\n",
      "900:\tlearn: 60.9204797\ttotal: 9.8s\tremaining: 16.8s\n",
      "1000:\tlearn: 59.2147191\ttotal: 11.4s\tremaining: 16.5s\n",
      "1100:\tlearn: 57.9215190\ttotal: 12.8s\tremaining: 15.6s\n",
      "1200:\tlearn: 56.9193598\ttotal: 13.7s\tremaining: 14.3s\n",
      "1300:\tlearn: 56.1360483\ttotal: 15s\tremaining: 13.2s\n",
      "1400:\tlearn: 55.5260822\ttotal: 16.2s\tremaining: 12.1s\n",
      "1500:\tlearn: 55.0341304\ttotal: 17.3s\tremaining: 10.9s\n",
      "1600:\tlearn: 54.6438737\ttotal: 18.4s\tremaining: 9.75s\n",
      "1700:\tlearn: 54.3139171\ttotal: 19s\tremaining: 8.36s\n",
      "1800:\tlearn: 54.0387864\ttotal: 20.1s\tremaining: 7.22s\n",
      "1900:\tlearn: 53.7906622\ttotal: 21.1s\tremaining: 6.09s\n",
      "2000:\tlearn: 53.5767084\ttotal: 22.2s\tremaining: 4.96s\n",
      "2100:\tlearn: 53.3768841\ttotal: 23.2s\tremaining: 3.85s\n",
      "2200:\tlearn: 53.2105016\ttotal: 24.3s\tremaining: 2.74s\n",
      "2300:\tlearn: 53.0466334\ttotal: 25.4s\tremaining: 1.63s\n",
      "2400:\tlearn: 52.8747927\ttotal: 26.7s\tremaining: 535ms\n"
     ]
    },
    {
     "name": "stderr",
     "output_type": "stream",
     "text": [
      "[I 2023-11-06 20:29:20,666] Trial 6 finished with value: 61.440811636111675 and parameters: {'iterations': 2449, 'learning_rate': 0.0024575602208865874, 'depth': 4, 'min_data_in_leaf': 24, 'l2_leaf_reg': 10, 'has-time': False, 'bagging_temperature': 0.9421473046189828, 'random_strength': 0.696308021172072, 'border_count': 347, 'rsm': 0.2945267103728952, 'nan_mode': 'Min'}. Best is trial 0 with value: 58.123193703563224.\n"
     ]
    },
    {
     "name": "stdout",
     "output_type": "stream",
     "text": [
      "2448:\tlearn: 52.7952509\ttotal: 27.1s\tremaining: 0us\n",
      "0:\tlearn: 145.6439680\ttotal: 92.2ms\tremaining: 2m 18s\n",
      "100:\tlearn: 47.9859372\ttotal: 4.69s\tremaining: 1m 5s\n",
      "200:\tlearn: 43.1409326\ttotal: 8.91s\tremaining: 57.9s\n",
      "300:\tlearn: 39.2526981\ttotal: 13.3s\tremaining: 53.3s\n",
      "400:\tlearn: 36.1395910\ttotal: 17.8s\tremaining: 49.1s\n",
      "500:\tlearn: 33.4989431\ttotal: 22.8s\tremaining: 45.7s\n",
      "600:\tlearn: 31.2934240\ttotal: 26.8s\tremaining: 40.4s\n",
      "700:\tlearn: 29.2601376\ttotal: 31s\tremaining: 35.6s\n",
      "800:\tlearn: 27.6214158\ttotal: 35.3s\tremaining: 31.1s\n",
      "900:\tlearn: 26.1430651\ttotal: 39.2s\tremaining: 26.3s\n",
      "1000:\tlearn: 24.7550806\ttotal: 44.2s\tremaining: 22.3s\n",
      "1100:\tlearn: 23.4672344\ttotal: 48.8s\tremaining: 18s\n",
      "1200:\tlearn: 22.3632349\ttotal: 53.6s\tremaining: 13.6s\n",
      "1300:\tlearn: 21.2115551\ttotal: 57.9s\tremaining: 9.13s\n",
      "1400:\tlearn: 20.2683202\ttotal: 1m 2s\tremaining: 4.67s\n",
      "1500:\tlearn: 19.3117961\ttotal: 1m 7s\tremaining: 224ms\n",
      "1505:\tlearn: 19.2650273\ttotal: 1m 7s\tremaining: 0us\n"
     ]
    },
    {
     "name": "stderr",
     "output_type": "stream",
     "text": [
      "[I 2023-11-06 20:30:28,862] Trial 7 finished with value: 58.25302268405064 and parameters: {'iterations': 1506, 'learning_rate': 0.06367197917179147, 'depth': 8, 'min_data_in_leaf': 11, 'l2_leaf_reg': 5, 'has-time': True, 'bagging_temperature': 0.5147886695324283, 'random_strength': 0.6252247342097322, 'border_count': 174, 'rsm': 0.10461935482947976, 'nan_mode': 'Min'}. Best is trial 0 with value: 58.123193703563224.\n"
     ]
    },
    {
     "name": "stdout",
     "output_type": "stream",
     "text": [
      "0:\tlearn: 149.4010184\ttotal: 81.1ms\tremaining: 2m 59s\n",
      "100:\tlearn: 48.0561267\ttotal: 7.93s\tremaining: 2m 45s\n",
      "200:\tlearn: 40.7345334\ttotal: 15.8s\tremaining: 2m 38s\n",
      "300:\tlearn: 36.4122011\ttotal: 23.1s\tremaining: 2m 27s\n",
      "400:\tlearn: 32.6106196\ttotal: 30.8s\tremaining: 2m 19s\n",
      "500:\tlearn: 29.3949812\ttotal: 38.8s\tremaining: 2m 12s\n",
      "600:\tlearn: 26.7011712\ttotal: 46.7s\tremaining: 2m 5s\n",
      "700:\tlearn: 24.3931810\ttotal: 54.4s\tremaining: 1m 57s\n",
      "800:\tlearn: 22.4325095\ttotal: 1m 1s\tremaining: 1m 48s\n",
      "900:\tlearn: 20.7281093\ttotal: 1m 8s\tremaining: 1m 40s\n",
      "1000:\tlearn: 19.2325662\ttotal: 1m 16s\tremaining: 1m 32s\n",
      "1100:\tlearn: 17.9373498\ttotal: 1m 24s\tremaining: 1m 25s\n",
      "1200:\tlearn: 16.7410491\ttotal: 1m 31s\tremaining: 1m 17s\n",
      "1300:\tlearn: 15.6817935\ttotal: 1m 39s\tremaining: 1m 10s\n",
      "1400:\tlearn: 14.6551662\ttotal: 1m 47s\tremaining: 1m 2s\n",
      "1500:\tlearn: 13.7888786\ttotal: 1m 54s\tremaining: 54.6s\n",
      "1600:\tlearn: 13.0418440\ttotal: 2m 1s\tremaining: 46.8s\n",
      "1700:\tlearn: 12.2949169\ttotal: 2m 9s\tremaining: 39.3s\n",
      "1800:\tlearn: 11.6921792\ttotal: 2m 17s\tremaining: 31.7s\n",
      "1900:\tlearn: 11.1374684\ttotal: 2m 24s\tremaining: 24s\n",
      "2000:\tlearn: 10.5891856\ttotal: 2m 30s\tremaining: 16.2s\n",
      "2100:\tlearn: 10.0857296\ttotal: 2m 38s\tremaining: 8.66s\n",
      "2200:\tlearn: 9.5626220\ttotal: 2m 44s\tremaining: 1.12s\n",
      "2215:\tlearn: 9.4894003\ttotal: 2m 45s\tremaining: 0us\n"
     ]
    },
    {
     "name": "stderr",
     "output_type": "stream",
     "text": [
      "[I 2023-11-06 20:33:15,221] Trial 8 finished with value: 57.03148446122927 and parameters: {'iterations': 2216, 'learning_rate': 0.02932152249119453, 'depth': 10, 'min_data_in_leaf': 21, 'l2_leaf_reg': 2, 'has-time': True, 'bagging_temperature': 0.8784102456931138, 'random_strength': 0.6901129919784297, 'border_count': 119, 'rsm': 0.8571604856673344, 'nan_mode': 'Max'}. Best is trial 8 with value: 57.03148446122927.\n"
     ]
    },
    {
     "name": "stdout",
     "output_type": "stream",
     "text": [
      "0:\tlearn: 149.9291510\ttotal: 6.81ms\tremaining: 20.3s\n",
      "100:\tlearn: 57.9345020\ttotal: 911ms\tremaining: 26s\n",
      "200:\tlearn: 53.3431473\ttotal: 1.77s\tremaining: 24.5s\n",
      "300:\tlearn: 51.7641295\ttotal: 2.52s\tremaining: 22.5s\n",
      "400:\tlearn: 50.5753741\ttotal: 3.39s\tremaining: 21.8s\n",
      "500:\tlearn: 49.6050658\ttotal: 4.21s\tremaining: 20.9s\n",
      "600:\tlearn: 48.8333610\ttotal: 5.07s\tremaining: 20.1s\n",
      "700:\tlearn: 48.2297980\ttotal: 5.97s\tremaining: 19.5s\n",
      "800:\tlearn: 47.6571246\ttotal: 6.87s\tremaining: 18.7s\n",
      "900:\tlearn: 47.1278256\ttotal: 7.79s\tremaining: 18s\n",
      "1000:\tlearn: 46.5784883\ttotal: 8.75s\tremaining: 17.3s\n",
      "1100:\tlearn: 46.0856254\ttotal: 9.42s\tremaining: 16.1s\n",
      "1200:\tlearn: 45.6239108\ttotal: 10.4s\tremaining: 15.5s\n",
      "1300:\tlearn: 45.1830734\ttotal: 11.2s\tremaining: 14.5s\n",
      "1400:\tlearn: 44.8007158\ttotal: 12.4s\tremaining: 14s\n",
      "1500:\tlearn: 44.4094250\ttotal: 13.3s\tremaining: 13.2s\n",
      "1600:\tlearn: 44.0175324\ttotal: 14s\tremaining: 12.1s\n",
      "1700:\tlearn: 43.6694690\ttotal: 14.8s\tremaining: 11.2s\n",
      "1800:\tlearn: 43.3003935\ttotal: 15.8s\tremaining: 10.4s\n",
      "1900:\tlearn: 42.9176897\ttotal: 16.7s\tremaining: 9.54s\n",
      "2000:\tlearn: 42.5901402\ttotal: 17.7s\tremaining: 8.71s\n",
      "2100:\tlearn: 42.3144730\ttotal: 18.7s\tremaining: 7.88s\n",
      "2200:\tlearn: 41.9521510\ttotal: 19.7s\tremaining: 7s\n",
      "2300:\tlearn: 41.6749517\ttotal: 20.6s\tremaining: 6.13s\n",
      "2400:\tlearn: 41.3921905\ttotal: 21.8s\tremaining: 5.29s\n",
      "2500:\tlearn: 41.0519695\ttotal: 22.9s\tremaining: 4.42s\n",
      "2600:\tlearn: 40.7643509\ttotal: 23.7s\tremaining: 3.49s\n",
      "2700:\tlearn: 40.4886326\ttotal: 24.7s\tremaining: 2.59s\n",
      "2800:\tlearn: 40.2082096\ttotal: 25.6s\tremaining: 1.68s\n",
      "2900:\tlearn: 39.9225404\ttotal: 26.7s\tremaining: 763ms\n"
     ]
    },
    {
     "name": "stderr",
     "output_type": "stream",
     "text": [
      "[I 2023-11-06 20:33:43,079] Trial 9 finished with value: 57.58616211984152 and parameters: {'iterations': 2984, 'learning_rate': 0.026971825175638682, 'depth': 4, 'min_data_in_leaf': 47, 'l2_leaf_reg': 9, 'has-time': False, 'bagging_temperature': 0.4306013893623989, 'random_strength': 0.8646411741981346, 'border_count': 39, 'rsm': 0.33895849157185337, 'nan_mode': 'Max'}. Best is trial 8 with value: 57.03148446122927.\n"
     ]
    },
    {
     "name": "stdout",
     "output_type": "stream",
     "text": [
      "2983:\tlearn: 39.6864670\ttotal: 27.3s\tremaining: 0us\n",
      "0:\tlearn: 150.2013167\ttotal: 6.36ms\tremaining: 5.07s\n",
      "100:\tlearn: 66.6374297\ttotal: 603ms\tremaining: 4.17s\n",
      "200:\tlearn: 61.6440727\ttotal: 1.26s\tremaining: 3.75s\n",
      "300:\tlearn: 60.6584880\ttotal: 1.97s\tremaining: 3.26s\n",
      "400:\tlearn: 60.1184842\ttotal: 2.67s\tremaining: 2.65s\n",
      "500:\tlearn: 59.7506719\ttotal: 3.24s\tremaining: 1.93s\n",
      "600:\tlearn: 59.4800857\ttotal: 4.04s\tremaining: 1.33s\n",
      "700:\tlearn: 59.2698672\ttotal: 4.71s\tremaining: 659ms\n"
     ]
    },
    {
     "name": "stderr",
     "output_type": "stream",
     "text": [
      "[I 2023-11-06 20:33:48,961] Trial 10 finished with value: 65.29227187476317 and parameters: {'iterations': 799, 'learning_rate': 0.03182760026746911, 'depth': 1, 'min_data_in_leaf': 30, 'l2_leaf_reg': 2, 'has-time': True, 'bagging_temperature': 0.725563616758859, 'random_strength': 0.9978310165941852, 'border_count': 425, 'rsm': 0.7668485282699882, 'nan_mode': 'Max'}. Best is trial 8 with value: 57.03148446122927.\n"
     ]
    },
    {
     "name": "stdout",
     "output_type": "stream",
     "text": [
      "798:\tlearn: 59.1001169\ttotal: 5.44s\tremaining: 0us\n",
      "0:\tlearn: 150.5015584\ttotal: 341ms\tremaining: 16m 53s\n",
      "100:\tlearn: 54.2420601\ttotal: 29.5s\tremaining: 13m 58s\n",
      "200:\tlearn: 43.8496673\ttotal: 59.8s\tremaining: 13m 44s\n",
      "300:\tlearn: 39.2068269\ttotal: 1m 30s\tremaining: 13m 19s\n",
      "400:\tlearn: 36.2565379\ttotal: 1m 59s\tremaining: 12m 45s\n",
      "500:\tlearn: 33.7920324\ttotal: 2m 30s\tremaining: 12m 22s\n",
      "600:\tlearn: 31.4362065\ttotal: 3m\tremaining: 11m 52s\n",
      "700:\tlearn: 29.3145113\ttotal: 3m 31s\tremaining: 11m 25s\n",
      "800:\tlearn: 27.5431507\ttotal: 4m\tremaining: 10m 53s\n",
      "900:\tlearn: 25.6622797\ttotal: 4m 30s\tremaining: 10m 22s\n",
      "1000:\tlearn: 23.9310934\ttotal: 4m 58s\tremaining: 9m 48s\n",
      "1100:\tlearn: 22.4990056\ttotal: 5m 27s\tremaining: 9m 17s\n",
      "1200:\tlearn: 21.2415772\ttotal: 5m 55s\tremaining: 8m 45s\n",
      "1300:\tlearn: 20.1012521\ttotal: 6m 25s\tremaining: 8m 15s\n",
      "1400:\tlearn: 19.0735671\ttotal: 6m 53s\tremaining: 7m 44s\n",
      "1500:\tlearn: 18.1890554\ttotal: 7m 21s\tremaining: 7m 13s\n",
      "1600:\tlearn: 17.3648446\ttotal: 7m 50s\tremaining: 6m 43s\n",
      "1700:\tlearn: 16.5333431\ttotal: 8m 19s\tremaining: 6m 13s\n",
      "1800:\tlearn: 15.7351947\ttotal: 8m 47s\tremaining: 5m 43s\n",
      "1900:\tlearn: 15.0637820\ttotal: 9m 15s\tremaining: 5m 13s\n",
      "2000:\tlearn: 14.4922255\ttotal: 9m 43s\tremaining: 4m 43s\n",
      "2100:\tlearn: 13.9021335\ttotal: 10m 11s\tremaining: 4m 14s\n",
      "2200:\tlearn: 13.3574500\ttotal: 10m 40s\tremaining: 3m 45s\n",
      "2300:\tlearn: 12.8123929\ttotal: 11m 9s\tremaining: 3m 15s\n",
      "2400:\tlearn: 12.2882791\ttotal: 11m 38s\tremaining: 2m 46s\n",
      "2500:\tlearn: 11.8840243\ttotal: 11m 59s\tremaining: 2m 16s\n",
      "2600:\tlearn: 11.5343821\ttotal: 12m 21s\tremaining: 1m 46s\n",
      "2700:\tlearn: 11.1966724\ttotal: 12m 42s\tremaining: 1m 17s\n",
      "2800:\tlearn: 10.8776525\ttotal: 13m 5s\tremaining: 48.5s\n",
      "2900:\tlearn: 10.5347505\ttotal: 13m 29s\tremaining: 20.4s\n",
      "2973:\tlearn: 10.2672029\ttotal: 13m 45s\tremaining: 0us\n"
     ]
    },
    {
     "name": "stderr",
     "output_type": "stream",
     "text": [
      "[I 2023-11-06 20:47:37,676] Trial 11 finished with value: 57.943860442579854 and parameters: {'iterations': 2974, 'learning_rate': 0.02103165003110511, 'depth': 12, 'min_data_in_leaf': 38, 'l2_leaf_reg': 7, 'has-time': False, 'bagging_temperature': 0.3072766176115469, 'random_strength': 0.8052467082711143, 'border_count': 290, 'rsm': 0.980960738692291, 'nan_mode': 'Max'}. Best is trial 8 with value: 57.03148446122927.\n"
     ]
    },
    {
     "name": "stdout",
     "output_type": "stream",
     "text": [
      "0:\tlearn: 148.7121840\ttotal: 8.8ms\tremaining: 26.3s\n",
      "100:\tlearn: 59.3552432\ttotal: 942ms\tremaining: 26.9s\n",
      "200:\tlearn: 55.9805541\ttotal: 1.69s\tremaining: 23.4s\n",
      "300:\tlearn: 54.3930537\ttotal: 2.28s\tremaining: 20.4s\n",
      "400:\tlearn: 53.2739162\ttotal: 3.02s\tremaining: 19.5s\n",
      "500:\tlearn: 52.3252555\ttotal: 3.87s\tremaining: 19.2s\n",
      "600:\tlearn: 51.5678421\ttotal: 4.78s\tremaining: 19s\n",
      "700:\tlearn: 50.9602788\ttotal: 5.42s\tremaining: 17.7s\n",
      "800:\tlearn: 50.3732895\ttotal: 6.59s\tremaining: 18s\n",
      "900:\tlearn: 49.8148313\ttotal: 7.41s\tremaining: 17.1s\n",
      "1000:\tlearn: 49.3894759\ttotal: 8.27s\tremaining: 16.4s\n",
      "1100:\tlearn: 49.0222266\ttotal: 9s\tremaining: 15.4s\n",
      "1200:\tlearn: 48.7061422\ttotal: 9.98s\tremaining: 14.8s\n",
      "1300:\tlearn: 48.4044547\ttotal: 10.7s\tremaining: 13.9s\n",
      "1400:\tlearn: 48.1465880\ttotal: 11.5s\tremaining: 13s\n",
      "1500:\tlearn: 47.8732734\ttotal: 12.2s\tremaining: 12s\n",
      "1600:\tlearn: 47.5897127\ttotal: 13.3s\tremaining: 11.5s\n",
      "1700:\tlearn: 47.3144928\ttotal: 14.2s\tremaining: 10.7s\n",
      "1800:\tlearn: 47.0445665\ttotal: 14.8s\tremaining: 9.75s\n",
      "1900:\tlearn: 46.7968641\ttotal: 15.8s\tremaining: 9.01s\n",
      "2000:\tlearn: 46.5645385\ttotal: 16.8s\tremaining: 8.28s\n",
      "2100:\tlearn: 46.3477693\ttotal: 17.6s\tremaining: 7.43s\n",
      "2200:\tlearn: 46.1365954\ttotal: 18.5s\tremaining: 6.6s\n",
      "2300:\tlearn: 45.9340315\ttotal: 19.6s\tremaining: 5.84s\n",
      "2400:\tlearn: 45.7369175\ttotal: 20.3s\tremaining: 4.95s\n",
      "2500:\tlearn: 45.5506695\ttotal: 21.2s\tremaining: 4.1s\n",
      "2600:\tlearn: 45.3685071\ttotal: 22.1s\tremaining: 3.28s\n",
      "2700:\tlearn: 45.1786248\ttotal: 22.9s\tremaining: 2.42s\n",
      "2800:\tlearn: 44.9909702\ttotal: 23.8s\tremaining: 1.57s\n",
      "2900:\tlearn: 44.8350724\ttotal: 24.5s\tremaining: 719ms\n"
     ]
    },
    {
     "name": "stderr",
     "output_type": "stream",
     "text": [
      "[I 2023-11-06 20:48:03,665] Trial 12 finished with value: 57.84944441292261 and parameters: {'iterations': 2986, 'learning_rate': 0.04091135358356334, 'depth': 2, 'min_data_in_leaf': 72, 'l2_leaf_reg': 2, 'has-time': False, 'bagging_temperature': 0.7198265680012544, 'random_strength': 0.8045997278986523, 'border_count': 543, 'rsm': 0.6801117994852677, 'nan_mode': 'Max'}. Best is trial 8 with value: 57.03148446122927.\n"
     ]
    },
    {
     "name": "stdout",
     "output_type": "stream",
     "text": [
      "2985:\tlearn: 44.6943423\ttotal: 25.3s\tremaining: 0us\n",
      "0:\tlearn: 151.6634915\ttotal: 89.3ms\tremaining: 3m 2s\n",
      "100:\tlearn: 72.1260608\ttotal: 4.36s\tremaining: 1m 23s\n",
      "200:\tlearn: 52.7910129\ttotal: 8.59s\tremaining: 1m 18s\n",
      "300:\tlearn: 47.3541768\ttotal: 12.1s\tremaining: 1m 10s\n",
      "400:\tlearn: 44.5913837\ttotal: 16.3s\tremaining: 1m 6s\n",
      "500:\tlearn: 42.4680439\ttotal: 19.7s\tremaining: 1m\n",
      "600:\tlearn: 40.6065165\ttotal: 23.3s\tremaining: 56s\n",
      "700:\tlearn: 39.0899971\ttotal: 26.9s\tremaining: 51.5s\n",
      "800:\tlearn: 37.5863907\ttotal: 30.9s\tremaining: 48s\n",
      "900:\tlearn: 36.2488394\ttotal: 34.8s\tremaining: 44.2s\n",
      "1000:\tlearn: 34.9922010\ttotal: 38.9s\tremaining: 40.7s\n",
      "1100:\tlearn: 33.8968948\ttotal: 42.8s\tremaining: 36.7s\n",
      "1200:\tlearn: 32.8021497\ttotal: 46.6s\tremaining: 32.8s\n",
      "1300:\tlearn: 31.7920373\ttotal: 50.5s\tremaining: 28.9s\n",
      "1400:\tlearn: 30.7961298\ttotal: 54.6s\tremaining: 25.2s\n",
      "1500:\tlearn: 29.9298840\ttotal: 58.4s\tremaining: 21.2s\n",
      "1600:\tlearn: 29.0646492\ttotal: 1m 2s\tremaining: 17.4s\n",
      "1700:\tlearn: 28.2403140\ttotal: 1m 7s\tremaining: 13.7s\n",
      "1800:\tlearn: 27.4462603\ttotal: 1m 11s\tremaining: 9.67s\n",
      "1900:\tlearn: 26.6514407\ttotal: 1m 15s\tremaining: 5.76s\n",
      "2000:\tlearn: 25.8847605\ttotal: 1m 19s\tremaining: 1.78s\n",
      "2045:\tlearn: 25.5796564\ttotal: 1m 20s\tremaining: 0us\n"
     ]
    },
    {
     "name": "stderr",
     "output_type": "stream",
     "text": [
      "[I 2023-11-06 20:49:25,877] Trial 13 finished with value: 58.990150026629614 and parameters: {'iterations': 2046, 'learning_rate': 0.011867830621306039, 'depth': 11, 'min_data_in_leaf': 97, 'l2_leaf_reg': 7, 'has-time': False, 'bagging_temperature': 0.998135468648106, 'random_strength': 0.5684607103842672, 'border_count': 11, 'rsm': 0.37731464946192617, 'nan_mode': 'Max'}. Best is trial 8 with value: 57.03148446122927.\n"
     ]
    },
    {
     "name": "stdout",
     "output_type": "stream",
     "text": [
      "0:\tlearn: 149.7042077\ttotal: 37.4ms\tremaining: 1m 15s\n",
      "100:\tlearn: 58.2914939\ttotal: 1.45s\tremaining: 27.7s\n",
      "200:\tlearn: 54.2605832\ttotal: 2.72s\tremaining: 24.8s\n",
      "300:\tlearn: 52.5944654\ttotal: 4.31s\tremaining: 24.8s\n",
      "400:\tlearn: 51.3986556\ttotal: 5.61s\tremaining: 22.9s\n",
      "500:\tlearn: 50.3338341\ttotal: 6.71s\tremaining: 20.5s\n",
      "600:\tlearn: 49.4716167\ttotal: 8.07s\tremaining: 19.2s\n",
      "700:\tlearn: 48.7549137\ttotal: 9.27s\tremaining: 17.6s\n",
      "800:\tlearn: 48.1026640\ttotal: 10.9s\tremaining: 16.8s\n",
      "900:\tlearn: 47.5353691\ttotal: 12.3s\tremaining: 15.4s\n",
      "1000:\tlearn: 47.0134222\ttotal: 13.6s\tremaining: 14s\n",
      "1100:\tlearn: 46.5499731\ttotal: 14.9s\tremaining: 12.6s\n",
      "1200:\tlearn: 46.1366065\ttotal: 16.2s\tremaining: 11.2s\n",
      "1300:\tlearn: 45.7228651\ttotal: 17.6s\tremaining: 9.89s\n",
      "1400:\tlearn: 45.3399372\ttotal: 18.8s\tremaining: 8.5s\n",
      "1500:\tlearn: 44.9655758\ttotal: 19.7s\tremaining: 6.99s\n",
      "1600:\tlearn: 44.5983379\ttotal: 21s\tremaining: 5.69s\n",
      "1700:\tlearn: 44.2584030\ttotal: 22.1s\tremaining: 4.33s\n",
      "1800:\tlearn: 43.9258725\ttotal: 23.7s\tremaining: 3.06s\n",
      "1900:\tlearn: 43.5864049\ttotal: 25s\tremaining: 1.75s\n",
      "2000:\tlearn: 43.2872351\ttotal: 26.6s\tremaining: 439ms\n"
     ]
    },
    {
     "name": "stderr",
     "output_type": "stream",
     "text": [
      "[I 2023-11-06 20:49:53,677] Trial 14 finished with value: 58.020900653354836 and parameters: {'iterations': 2034, 'learning_rate': 0.02897330944276079, 'depth': 3, 'min_data_in_leaf': 2, 'l2_leaf_reg': 3, 'has-time': True, 'bagging_temperature': 0.3566318749862612, 'random_strength': 0.7368439775711572, 'border_count': 983, 'rsm': 0.9798016513508074, 'nan_mode': 'Max'}. Best is trial 8 with value: 57.03148446122927.\n"
     ]
    },
    {
     "name": "stdout",
     "output_type": "stream",
     "text": [
      "2033:\tlearn: 43.1618057\ttotal: 27.2s\tremaining: 0us\n",
      "0:\tlearn: 146.8124748\ttotal: 58.7ms\tremaining: 2m 31s\n",
      "100:\tlearn: 47.9674938\ttotal: 8.29s\tremaining: 3m 23s\n",
      "200:\tlearn: 43.0851712\ttotal: 17.3s\tremaining: 3m 24s\n",
      "300:\tlearn: 39.1101835\ttotal: 25.9s\tremaining: 3m 16s\n",
      "400:\tlearn: 35.9686168\ttotal: 33.8s\tremaining: 3m 4s\n",
      "500:\tlearn: 33.3356921\ttotal: 42.4s\tremaining: 2m 56s\n",
      "600:\tlearn: 31.1574755\ttotal: 50s\tremaining: 2m 45s\n",
      "700:\tlearn: 29.2307832\ttotal: 58.6s\tremaining: 2m 37s\n",
      "800:\tlearn: 27.6669900\ttotal: 1m 6s\tremaining: 2m 28s\n",
      "900:\tlearn: 26.1602007\ttotal: 1m 15s\tremaining: 2m 20s\n",
      "1000:\tlearn: 24.7770666\ttotal: 1m 23s\tremaining: 2m 11s\n",
      "1100:\tlearn: 23.5782840\ttotal: 1m 31s\tremaining: 2m 2s\n",
      "1200:\tlearn: 22.4780419\ttotal: 1m 39s\tremaining: 1m 54s\n",
      "1300:\tlearn: 21.4784051\ttotal: 1m 47s\tremaining: 1m 45s\n",
      "1400:\tlearn: 20.5362312\ttotal: 1m 55s\tremaining: 1m 37s\n",
      "1500:\tlearn: 19.7179470\ttotal: 2m 3s\tremaining: 1m 28s\n",
      "1600:\tlearn: 18.9550707\ttotal: 2m 12s\tremaining: 1m 21s\n",
      "1700:\tlearn: 18.2412971\ttotal: 2m 20s\tremaining: 1m 12s\n",
      "1800:\tlearn: 17.5302833\ttotal: 2m 30s\tremaining: 1m 5s\n",
      "1900:\tlearn: 16.8810628\ttotal: 2m 39s\tremaining: 57.4s\n",
      "2000:\tlearn: 16.2481968\ttotal: 2m 49s\tremaining: 49.3s\n",
      "2100:\tlearn: 15.5771863\ttotal: 2m 59s\tremaining: 41.2s\n",
      "2200:\tlearn: 14.9955657\ttotal: 3m 8s\tremaining: 32.9s\n",
      "2300:\tlearn: 14.4219004\ttotal: 3m 18s\tremaining: 24.4s\n",
      "2400:\tlearn: 13.9453473\ttotal: 3m 28s\tremaining: 15.9s\n",
      "2500:\tlearn: 13.4942780\ttotal: 3m 37s\tremaining: 7.22s\n"
     ]
    },
    {
     "name": "stderr",
     "output_type": "stream",
     "text": [
      "[I 2023-11-06 20:53:40,416] Trial 15 finished with value: 57.801934729612135 and parameters: {'iterations': 2584, 'learning_rate': 0.050804800287393086, 'depth': 8, 'min_data_in_leaf': 39, 'l2_leaf_reg': 6, 'has-time': False, 'bagging_temperature': 0.40847552038878904, 'random_strength': 0.9050529167661212, 'border_count': 231, 'rsm': 0.6849458055712798, 'nan_mode': 'Max'}. Best is trial 8 with value: 57.03148446122927.\n"
     ]
    },
    {
     "name": "stdout",
     "output_type": "stream",
     "text": [
      "2583:\tlearn: 13.1334011\ttotal: 3m 45s\tremaining: 0us\n",
      "0:\tlearn: 142.8606291\ttotal: 26.9ms\tremaining: 55.1s\n",
      "100:\tlearn: 51.3925244\ttotal: 1.17s\tremaining: 22.5s\n",
      "200:\tlearn: 48.6760961\ttotal: 1.99s\tremaining: 18.3s\n",
      "300:\tlearn: 46.6024733\ttotal: 2.96s\tremaining: 17.2s\n",
      "400:\tlearn: 45.1066457\ttotal: 3.79s\tremaining: 15.6s\n",
      "500:\tlearn: 43.7186785\ttotal: 5.29s\tremaining: 16.3s\n",
      "600:\tlearn: 42.5408530\ttotal: 6.67s\tremaining: 16.1s\n",
      "700:\tlearn: 41.4255608\ttotal: 7.56s\tremaining: 14.5s\n",
      "800:\tlearn: 40.4225543\ttotal: 8.28s\tremaining: 12.9s\n",
      "900:\tlearn: 39.5464208\ttotal: 9.64s\tremaining: 12.3s\n",
      "1000:\tlearn: 38.6908359\ttotal: 10.4s\tremaining: 10.9s\n",
      "1100:\tlearn: 37.9508600\ttotal: 11.8s\tremaining: 10.1s\n",
      "1200:\tlearn: 37.2588595\ttotal: 12.6s\tremaining: 8.92s\n",
      "1300:\tlearn: 36.5722772\ttotal: 13.7s\tremaining: 7.87s\n",
      "1400:\tlearn: 35.9384272\ttotal: 14.6s\tremaining: 6.74s\n",
      "1500:\tlearn: 35.3146802\ttotal: 15.7s\tremaining: 5.75s\n",
      "1600:\tlearn: 34.7387425\ttotal: 16.8s\tremaining: 4.69s\n",
      "1700:\tlearn: 34.1563374\ttotal: 18.2s\tremaining: 3.72s\n",
      "1800:\tlearn: 33.6028557\ttotal: 19.7s\tremaining: 2.71s\n",
      "1900:\tlearn: 33.1005958\ttotal: 21.1s\tremaining: 1.64s\n",
      "2000:\tlearn: 32.6106255\ttotal: 22s\tremaining: 528ms\n"
     ]
    },
    {
     "name": "stderr",
     "output_type": "stream",
     "text": [
      "[I 2023-11-06 20:54:03,704] Trial 16 finished with value: 58.78679059624516 and parameters: {'iterations': 2049, 'learning_rate': 0.08834611769373228, 'depth': 4, 'min_data_in_leaf': 60, 'l2_leaf_reg': 8, 'has-time': False, 'bagging_temperature': 0.6838251660897424, 'random_strength': 0.747222397939579, 'border_count': 22, 'rsm': 0.366919788857687, 'nan_mode': 'Max'}. Best is trial 8 with value: 57.03148446122927.\n"
     ]
    },
    {
     "name": "stdout",
     "output_type": "stream",
     "text": [
      "2048:\tlearn: 32.3635807\ttotal: 22.7s\tremaining: 0us\n",
      "0:\tlearn: 150.3120562\ttotal: 185ms\tremaining: 8m 28s\n",
      "100:\tlearn: 53.6278914\ttotal: 8.48s\tremaining: 3m 42s\n",
      "200:\tlearn: 45.0588568\ttotal: 16.6s\tremaining: 3m 29s\n",
      "300:\tlearn: 41.5857861\ttotal: 24.5s\tremaining: 3m 19s\n",
      "400:\tlearn: 38.7671639\ttotal: 32.5s\tremaining: 3m 9s\n",
      "500:\tlearn: 36.4360068\ttotal: 40.5s\tremaining: 3m 1s\n",
      "600:\tlearn: 34.2869299\ttotal: 48.9s\tremaining: 2m 54s\n",
      "700:\tlearn: 32.1842079\ttotal: 56.8s\tremaining: 2m 45s\n",
      "800:\tlearn: 30.3835833\ttotal: 1m 5s\tremaining: 2m 39s\n",
      "900:\tlearn: 28.7538877\ttotal: 1m 13s\tremaining: 2m 30s\n",
      "1000:\tlearn: 27.3071593\ttotal: 1m 22s\tremaining: 2m 22s\n",
      "1100:\tlearn: 25.9439374\ttotal: 1m 30s\tremaining: 2m 14s\n",
      "1200:\tlearn: 24.6687214\ttotal: 1m 38s\tremaining: 2m 7s\n",
      "1300:\tlearn: 23.4201725\ttotal: 1m 46s\tremaining: 1m 58s\n",
      "1400:\tlearn: 22.3871497\ttotal: 1m 54s\tremaining: 1m 50s\n",
      "1500:\tlearn: 21.4615826\ttotal: 2m 4s\tremaining: 1m 42s\n",
      "1600:\tlearn: 20.6610670\ttotal: 2m 12s\tremaining: 1m 34s\n",
      "1700:\tlearn: 19.8929073\ttotal: 2m 20s\tremaining: 1m 26s\n",
      "1800:\tlearn: 19.1133448\ttotal: 2m 29s\tremaining: 1m 18s\n",
      "1900:\tlearn: 18.3598647\ttotal: 2m 37s\tremaining: 1m 9s\n",
      "2000:\tlearn: 17.7437295\ttotal: 2m 45s\tremaining: 1m 1s\n",
      "2100:\tlearn: 17.1208957\ttotal: 2m 53s\tremaining: 53s\n",
      "2200:\tlearn: 16.5922881\ttotal: 3m 2s\tremaining: 44.9s\n",
      "2300:\tlearn: 16.0303902\ttotal: 3m 10s\tremaining: 36.7s\n",
      "2400:\tlearn: 15.5114839\ttotal: 3m 18s\tremaining: 28.4s\n",
      "2500:\tlearn: 15.0645671\ttotal: 3m 26s\tremaining: 20.1s\n",
      "2600:\tlearn: 14.6530031\ttotal: 3m 34s\tremaining: 11.8s\n",
      "2700:\tlearn: 14.1949106\ttotal: 3m 42s\tremaining: 3.54s\n",
      "2743:\tlearn: 14.0275284\ttotal: 3m 46s\tremaining: 0us\n"
     ]
    },
    {
     "name": "stderr",
     "output_type": "stream",
     "text": [
      "[I 2023-11-06 20:57:51,682] Trial 17 finished with value: 57.41865080589486 and parameters: {'iterations': 2744, 'learning_rate': 0.022214819546791765, 'depth': 10, 'min_data_in_leaf': 33, 'l2_leaf_reg': 4, 'has-time': True, 'bagging_temperature': 0.42731657025370656, 'random_strength': 0.6070159247030963, 'border_count': 455, 'rsm': 0.2653326583797398, 'nan_mode': 'Max'}. Best is trial 8 with value: 57.03148446122927.\n"
     ]
    },
    {
     "name": "stdout",
     "output_type": "stream",
     "text": [
      "0:\tlearn: 152.9305690\ttotal: 55.3ms\tremaining: 2m 28s\n",
      "100:\tlearn: 140.1753461\ttotal: 7.8s\tremaining: 3m 19s\n",
      "200:\tlearn: 128.8494316\ttotal: 16.1s\tremaining: 3m 18s\n",
      "300:\tlearn: 118.7538478\ttotal: 23.8s\tremaining: 3m 8s\n",
      "400:\tlearn: 109.8140454\ttotal: 31.1s\tremaining: 2m 57s\n",
      "500:\tlearn: 101.9024071\ttotal: 38.8s\tremaining: 2m 49s\n",
      "600:\tlearn: 94.9368897\ttotal: 46.1s\tremaining: 2m 40s\n",
      "700:\tlearn: 88.7964280\ttotal: 53.9s\tremaining: 2m 32s\n",
      "800:\tlearn: 83.4144683\ttotal: 1m\tremaining: 2m 23s\n",
      "900:\tlearn: 78.7032415\ttotal: 1m 9s\tremaining: 2m 16s\n",
      "1000:\tlearn: 74.5697724\ttotal: 1m 17s\tremaining: 2m 10s\n",
      "1100:\tlearn: 70.9577285\ttotal: 1m 25s\tremaining: 2m 2s\n",
      "1200:\tlearn: 67.8184998\ttotal: 1m 32s\tremaining: 1m 54s\n",
      "1300:\tlearn: 65.0683349\ttotal: 1m 40s\tremaining: 1m 46s\n",
      "1400:\tlearn: 62.6929303\ttotal: 1m 46s\tremaining: 1m 38s\n",
      "1500:\tlearn: 60.6281927\ttotal: 1m 54s\tremaining: 1m 30s\n",
      "1600:\tlearn: 58.8402888\ttotal: 2m 1s\tremaining: 1m 22s\n",
      "1700:\tlearn: 57.2779864\ttotal: 2m 9s\tremaining: 1m 14s\n",
      "1800:\tlearn: 55.9082523\ttotal: 2m 17s\tremaining: 1m 7s\n",
      "1900:\tlearn: 54.7170692\ttotal: 2m 24s\tremaining: 59.8s\n",
      "2000:\tlearn: 53.6686115\ttotal: 2m 32s\tremaining: 52.3s\n",
      "2100:\tlearn: 52.7572030\ttotal: 2m 40s\tremaining: 44.6s\n",
      "2200:\tlearn: 51.9365003\ttotal: 2m 47s\tremaining: 36.9s\n",
      "2300:\tlearn: 51.2013023\ttotal: 2m 55s\tremaining: 29.3s\n",
      "2400:\tlearn: 50.5577162\ttotal: 3m 2s\tremaining: 21.7s\n",
      "2500:\tlearn: 49.9574926\ttotal: 3m 9s\tremaining: 14s\n",
      "2600:\tlearn: 49.4300817\ttotal: 3m 17s\tremaining: 6.47s\n",
      "2685:\tlearn: 49.0099793\ttotal: 3m 24s\tremaining: 0us\n"
     ]
    },
    {
     "name": "stderr",
     "output_type": "stream",
     "text": [
      "[I 2023-11-06 21:01:17,613] Trial 18 finished with value: 65.23534809272437 and parameters: {'iterations': 2686, 'learning_rate': 0.0010982571253145695, 'depth': 10, 'min_data_in_leaf': 30, 'l2_leaf_reg': 3, 'has-time': True, 'bagging_temperature': 0.6161019146689907, 'random_strength': 0.5501731523488592, 'border_count': 526, 'rsm': 0.18621915423396856, 'nan_mode': 'Max'}. Best is trial 8 with value: 57.03148446122927.\n"
     ]
    },
    {
     "name": "stdout",
     "output_type": "stream",
     "text": [
      "0:\tlearn: 151.1865402\ttotal: 184ms\tremaining: 6m 55s\n",
      "100:\tlearn: 65.1263960\ttotal: 15.2s\tremaining: 5m 24s\n",
      "200:\tlearn: 49.3757006\ttotal: 28.3s\tremaining: 4m 49s\n",
      "300:\tlearn: 43.9966826\ttotal: 44.4s\tremaining: 4m 48s\n",
      "400:\tlearn: 41.2291874\ttotal: 58s\tremaining: 4m 28s\n",
      "500:\tlearn: 38.8532860\ttotal: 1m 13s\tremaining: 4m 19s\n",
      "600:\tlearn: 36.7150011\ttotal: 1m 29s\tremaining: 4m 6s\n",
      "700:\tlearn: 34.9283986\ttotal: 1m 43s\tremaining: 3m 50s\n",
      "800:\tlearn: 33.4980265\ttotal: 1m 58s\tremaining: 3m 34s\n",
      "900:\tlearn: 31.9415471\ttotal: 2m 13s\tremaining: 3m 21s\n",
      "1000:\tlearn: 30.4476787\ttotal: 2m 30s\tremaining: 3m 8s\n",
      "1100:\tlearn: 29.1122708\ttotal: 2m 44s\tremaining: 2m 53s\n",
      "1200:\tlearn: 27.7741791\ttotal: 3m 1s\tremaining: 2m 39s\n",
      "1300:\tlearn: 26.5367467\ttotal: 3m 16s\tremaining: 2m 24s\n",
      "1400:\tlearn: 25.4931870\ttotal: 3m 30s\tremaining: 2m 8s\n",
      "1500:\tlearn: 24.4018371\ttotal: 3m 47s\tremaining: 1m 54s\n",
      "1600:\tlearn: 23.4645665\ttotal: 4m 2s\tremaining: 1m 39s\n",
      "1700:\tlearn: 22.5969824\ttotal: 4m 16s\tremaining: 1m 24s\n",
      "1800:\tlearn: 21.6661377\ttotal: 4m 32s\tremaining: 1m 9s\n",
      "1900:\tlearn: 20.8922777\ttotal: 4m 48s\tremaining: 54.2s\n",
      "2000:\tlearn: 20.1483874\ttotal: 5m 3s\tremaining: 39s\n",
      "2100:\tlearn: 19.4250231\ttotal: 5m 19s\tremaining: 23.9s\n",
      "2200:\tlearn: 18.7120312\ttotal: 5m 33s\tremaining: 8.65s\n",
      "2257:\tlearn: 18.3855156\ttotal: 5m 41s\tremaining: 0us\n"
     ]
    },
    {
     "name": "stderr",
     "output_type": "stream",
     "text": [
      "[I 2023-11-06 21:07:02,456] Trial 19 finished with value: 58.14976600888475 and parameters: {'iterations': 2258, 'learning_rate': 0.015813578061686203, 'depth': 13, 'min_data_in_leaf': 17, 'l2_leaf_reg': 4, 'has-time': True, 'bagging_temperature': 0.7885764280170543, 'random_strength': 0.6149076939337091, 'border_count': 409, 'rsm': 0.07743923426342803, 'nan_mode': 'Max'}. Best is trial 8 with value: 57.03148446122927.\n"
     ]
    },
    {
     "name": "stdout",
     "output_type": "stream",
     "text": [
      "0:\tlearn: 148.0663694\ttotal: 170ms\tremaining: 5m 2s\n",
      "100:\tlearn: 44.0296400\ttotal: 13.4s\tremaining: 3m 42s\n",
      "200:\tlearn: 36.6757870\ttotal: 23.9s\tremaining: 3m 7s\n",
      "300:\tlearn: 31.6397659\ttotal: 35.1s\tremaining: 2m 52s\n",
      "400:\tlearn: 27.7323148\ttotal: 45.9s\tremaining: 2m 37s\n",
      "500:\tlearn: 24.5440239\ttotal: 56.8s\tremaining: 2m 24s\n",
      "600:\tlearn: 21.8488762\ttotal: 1m 8s\tremaining: 2m 14s\n",
      "700:\tlearn: 19.6756184\ttotal: 1m 20s\tremaining: 2m 3s\n",
      "800:\tlearn: 17.8934219\ttotal: 1m 30s\tremaining: 1m 50s\n",
      "900:\tlearn: 16.4916932\ttotal: 1m 40s\tremaining: 1m 38s\n",
      "1000:\tlearn: 15.1662379\ttotal: 1m 50s\tremaining: 1m 25s\n",
      "1100:\tlearn: 13.9560093\ttotal: 2m\tremaining: 1m 14s\n",
      "1200:\tlearn: 13.0020147\ttotal: 2m 11s\tremaining: 1m 3s\n",
      "1300:\tlearn: 12.0506671\ttotal: 2m 22s\tremaining: 52.1s\n",
      "1400:\tlearn: 11.2626543\ttotal: 2m 32s\tremaining: 41.1s\n",
      "1500:\tlearn: 10.4986485\ttotal: 2m 43s\tremaining: 30.1s\n",
      "1600:\tlearn: 9.8378110\ttotal: 2m 53s\tremaining: 19.2s\n",
      "1700:\tlearn: 9.2314880\ttotal: 3m 5s\tremaining: 8.38s\n",
      "1777:\tlearn: 8.7624400\ttotal: 3m 13s\tremaining: 0us\n"
     ]
    },
    {
     "name": "stderr",
     "output_type": "stream",
     "text": [
      "[I 2023-11-06 21:10:17,163] Trial 20 finished with value: 57.76976351714149 and parameters: {'iterations': 1778, 'learning_rate': 0.03968915070722817, 'depth': 11, 'min_data_in_leaf': 1, 'l2_leaf_reg': 3, 'has-time': True, 'bagging_temperature': 0.6657557596550758, 'random_strength': 0.49884240639165184, 'border_count': 629, 'rsm': 0.21562146910308558, 'nan_mode': 'Max'}. Best is trial 8 with value: 57.03148446122927.\n"
     ]
    },
    {
     "name": "stdout",
     "output_type": "stream",
     "text": [
      "0:\tlearn: 150.1462764\ttotal: 17.3ms\tremaining: 48.3s\n",
      "100:\tlearn: 55.1124099\ttotal: 2.29s\tremaining: 1m 1s\n",
      "200:\tlearn: 49.3352902\ttotal: 4.74s\tremaining: 1m 1s\n",
      "300:\tlearn: 47.0646379\ttotal: 6.9s\tremaining: 57.3s\n",
      "400:\tlearn: 45.1971980\ttotal: 9.12s\tremaining: 54.6s\n",
      "500:\tlearn: 43.4656650\ttotal: 11.5s\tremaining: 52.8s\n",
      "600:\tlearn: 41.8777055\ttotal: 14s\tremaining: 51.2s\n",
      "700:\tlearn: 40.5300590\ttotal: 16.5s\tremaining: 49.3s\n",
      "800:\tlearn: 39.2110317\ttotal: 18.4s\tremaining: 46.1s\n",
      "900:\tlearn: 38.0172988\ttotal: 20.6s\tremaining: 43.4s\n",
      "1000:\tlearn: 36.9007628\ttotal: 22.8s\tremaining: 40.9s\n",
      "1100:\tlearn: 35.8429504\ttotal: 25.4s\tremaining: 39.2s\n",
      "1200:\tlearn: 34.8994519\ttotal: 27.7s\tremaining: 36.9s\n",
      "1300:\tlearn: 33.9608641\ttotal: 30.1s\tremaining: 34.7s\n",
      "1400:\tlearn: 33.0779572\ttotal: 32.6s\tremaining: 32.6s\n",
      "1500:\tlearn: 32.2478375\ttotal: 34.8s\tremaining: 30.2s\n",
      "1600:\tlearn: 31.4791284\ttotal: 37.5s\tremaining: 28.1s\n",
      "1700:\tlearn: 30.7536630\ttotal: 39.8s\tremaining: 25.8s\n",
      "1800:\tlearn: 30.0866212\ttotal: 42.1s\tremaining: 23.4s\n",
      "1900:\tlearn: 29.4433668\ttotal: 44.3s\tremaining: 21s\n",
      "2000:\tlearn: 28.8039679\ttotal: 47.3s\tremaining: 18.9s\n",
      "2100:\tlearn: 28.1288659\ttotal: 49.8s\tremaining: 16.6s\n",
      "2200:\tlearn: 27.5266622\ttotal: 52.1s\tremaining: 14.2s\n",
      "2300:\tlearn: 26.9529894\ttotal: 54.5s\tremaining: 11.8s\n",
      "2400:\tlearn: 26.4098655\ttotal: 56.7s\tremaining: 9.45s\n",
      "2500:\tlearn: 25.8980164\ttotal: 59.1s\tremaining: 7.09s\n",
      "2600:\tlearn: 25.3761734\ttotal: 1m 1s\tremaining: 4.72s\n",
      "2700:\tlearn: 24.8792562\ttotal: 1m 3s\tremaining: 2.35s\n"
     ]
    },
    {
     "name": "stderr",
     "output_type": "stream",
     "text": [
      "[I 2023-11-06 21:11:23,753] Trial 21 finished with value: 58.0357544722075 and parameters: {'iterations': 2801, 'learning_rate': 0.023954750346087184, 'depth': 7, 'min_data_in_leaf': 41, 'l2_leaf_reg': 4, 'has-time': True, 'bagging_temperature': 0.41479703606632334, 'random_strength': 0.7242713701958079, 'border_count': 142, 'rsm': 0.25716678027576806, 'nan_mode': 'Max'}. Best is trial 8 with value: 57.03148446122927.\n"
     ]
    },
    {
     "name": "stdout",
     "output_type": "stream",
     "text": [
      "2800:\tlearn: 24.4461381\ttotal: 1m 5s\tremaining: 0us\n",
      "0:\tlearn: 150.2316049\ttotal: 95.3ms\tremaining: 4m 21s\n",
      "100:\tlearn: 53.3389335\ttotal: 9.3s\tremaining: 4m 4s\n",
      "200:\tlearn: 45.5967774\ttotal: 18.8s\tremaining: 3m 58s\n",
      "300:\tlearn: 42.2213955\ttotal: 28.3s\tremaining: 3m 50s\n",
      "400:\tlearn: 39.3239875\ttotal: 40s\tremaining: 3m 54s\n",
      "500:\tlearn: 36.8892104\ttotal: 51.7s\tremaining: 3m 52s\n",
      "600:\tlearn: 34.5790891\ttotal: 1m 2s\tremaining: 3m 43s\n",
      "700:\tlearn: 32.4713165\ttotal: 1m 13s\tremaining: 3m 35s\n",
      "800:\tlearn: 30.6683259\ttotal: 1m 25s\tremaining: 3m 27s\n",
      "900:\tlearn: 29.0514840\ttotal: 1m 37s\tremaining: 3m 19s\n",
      "1000:\tlearn: 27.5854304\ttotal: 1m 48s\tremaining: 3m 10s\n",
      "1100:\tlearn: 26.2329272\ttotal: 2m\tremaining: 3m\n",
      "1200:\tlearn: 24.9859009\ttotal: 2m 11s\tremaining: 2m 49s\n",
      "1300:\tlearn: 23.8619239\ttotal: 2m 23s\tremaining: 2m 39s\n",
      "1400:\tlearn: 22.7865921\ttotal: 2m 35s\tremaining: 2m 29s\n",
      "1500:\tlearn: 21.8094190\ttotal: 2m 46s\tremaining: 2m 19s\n",
      "1600:\tlearn: 20.9203950\ttotal: 2m 58s\tremaining: 2m 8s\n",
      "1700:\tlearn: 20.1142291\ttotal: 3m 10s\tremaining: 1m 57s\n",
      "1800:\tlearn: 19.3888289\ttotal: 3m 22s\tremaining: 1m 46s\n",
      "1900:\tlearn: 18.6473694\ttotal: 3m 32s\tremaining: 1m 35s\n",
      "2000:\tlearn: 18.0189448\ttotal: 3m 44s\tremaining: 1m 24s\n",
      "2100:\tlearn: 17.3653173\ttotal: 3m 56s\tremaining: 1m 13s\n",
      "2200:\tlearn: 16.7814552\ttotal: 4m 7s\tremaining: 1m 1s\n",
      "2300:\tlearn: 16.2407748\ttotal: 4m 18s\tremaining: 50.5s\n",
      "2400:\tlearn: 15.7134894\ttotal: 4m 28s\tremaining: 39.2s\n",
      "2500:\tlearn: 15.2072103\ttotal: 4m 40s\tremaining: 28s\n",
      "2600:\tlearn: 14.7326920\ttotal: 4m 51s\tremaining: 16.8s\n",
      "2700:\tlearn: 14.3036780\ttotal: 5m 2s\tremaining: 5.61s\n",
      "2750:\tlearn: 14.1038402\ttotal: 5m 8s\tremaining: 0us\n"
     ]
    },
    {
     "name": "stderr",
     "output_type": "stream",
     "text": [
      "[I 2023-11-06 21:16:33,461] Trial 22 finished with value: 57.505715925722825 and parameters: {'iterations': 2751, 'learning_rate': 0.022780643633743488, 'depth': 9, 'min_data_in_leaf': 29, 'l2_leaf_reg': 2, 'has-time': True, 'bagging_temperature': 0.4544555200594542, 'random_strength': 0.6567120740873233, 'border_count': 267, 'rsm': 0.38109493777613, 'nan_mode': 'Max'}. Best is trial 8 with value: 57.03148446122927.\n"
     ]
    },
    {
     "name": "stdout",
     "output_type": "stream",
     "text": [
      "0:\tlearn: 146.5123854\ttotal: 221ms\tremaining: 8m 25s\n",
      "100:\tlearn: 44.3190404\ttotal: 12.1s\tremaining: 4m 22s\n",
      "200:\tlearn: 37.5956305\ttotal: 23.4s\tremaining: 4m 3s\n",
      "300:\tlearn: 32.5866251\ttotal: 35.3s\tremaining: 3m 53s\n",
      "400:\tlearn: 28.5966015\ttotal: 46.8s\tremaining: 3m 40s\n",
      "500:\tlearn: 25.2519448\ttotal: 59s\tremaining: 3m 30s\n",
      "600:\tlearn: 22.6526985\ttotal: 1m 10s\tremaining: 3m 19s\n",
      "700:\tlearn: 20.4898071\ttotal: 1m 22s\tremaining: 3m 6s\n",
      "800:\tlearn: 18.8342237\ttotal: 1m 33s\tremaining: 2m 55s\n",
      "900:\tlearn: 17.3421695\ttotal: 1m 45s\tremaining: 2m 43s\n",
      "1000:\tlearn: 16.0079788\ttotal: 1m 57s\tremaining: 2m 32s\n",
      "1100:\tlearn: 14.8025724\ttotal: 2m 9s\tremaining: 2m 19s\n",
      "1200:\tlearn: 13.8094377\ttotal: 2m 21s\tremaining: 2m 8s\n",
      "1300:\tlearn: 12.8486948\ttotal: 2m 33s\tremaining: 1m 56s\n",
      "1400:\tlearn: 12.0390656\ttotal: 2m 42s\tremaining: 1m 43s\n",
      "1500:\tlearn: 11.3227644\ttotal: 2m 52s\tremaining: 1m 30s\n",
      "1600:\tlearn: 10.6063540\ttotal: 3m 1s\tremaining: 1m 18s\n",
      "1700:\tlearn: 9.9572452\ttotal: 3m 11s\tremaining: 1m 6s\n",
      "1800:\tlearn: 9.3946411\ttotal: 3m 20s\tremaining: 54.8s\n",
      "1900:\tlearn: 8.8786332\ttotal: 3m 30s\tremaining: 43.4s\n",
      "2000:\tlearn: 8.3754708\ttotal: 3m 40s\tremaining: 32.2s\n",
      "2100:\tlearn: 7.8954095\ttotal: 3m 50s\tremaining: 21s\n",
      "2200:\tlearn: 7.4705542\ttotal: 4m\tremaining: 10s\n",
      "2292:\tlearn: 7.0997411\ttotal: 4m 8s\tremaining: 0us\n"
     ]
    },
    {
     "name": "stderr",
     "output_type": "stream",
     "text": [
      "[I 2023-11-06 21:20:43,136] Trial 23 finished with value: 58.58430082506985 and parameters: {'iterations': 2293, 'learning_rate': 0.05303798051428473, 'depth': 9, 'min_data_in_leaf': 28, 'l2_leaf_reg': 2, 'has-time': True, 'bagging_temperature': 0.5512643422136427, 'random_strength': 0.6519081459350801, 'border_count': 283, 'rsm': 0.4355746506385053, 'nan_mode': 'Max'}. Best is trial 8 with value: 57.03148446122927.\n"
     ]
    },
    {
     "name": "stdout",
     "output_type": "stream",
     "text": [
      "0:\tlearn: 150.8793994\ttotal: 84.1ms\tremaining: 3m 46s\n",
      "100:\tlearn: 57.4212437\ttotal: 12.1s\tremaining: 5m 9s\n",
      "200:\tlearn: 45.1193361\ttotal: 25.3s\tremaining: 5m 13s\n",
      "300:\tlearn: 40.7079118\ttotal: 37.8s\tremaining: 4m 59s\n",
      "400:\tlearn: 37.6149158\ttotal: 50.5s\tremaining: 4m 48s\n",
      "500:\tlearn: 35.0396108\ttotal: 1m 3s\tremaining: 4m 36s\n",
      "600:\tlearn: 32.6264756\ttotal: 1m 15s\tremaining: 4m 21s\n",
      "700:\tlearn: 30.5287541\ttotal: 1m 28s\tremaining: 4m 11s\n",
      "800:\tlearn: 28.6053823\ttotal: 1m 40s\tremaining: 3m 57s\n",
      "900:\tlearn: 26.9477456\ttotal: 1m 53s\tremaining: 3m 45s\n",
      "1000:\tlearn: 25.4040891\ttotal: 2m 5s\tremaining: 3m 32s\n",
      "1100:\tlearn: 24.0142734\ttotal: 2m 17s\tremaining: 3m 19s\n",
      "1200:\tlearn: 22.7346911\ttotal: 2m 30s\tremaining: 3m 6s\n",
      "1300:\tlearn: 21.5696607\ttotal: 2m 42s\tremaining: 2m 53s\n",
      "1400:\tlearn: 20.5090754\ttotal: 2m 55s\tremaining: 2m 41s\n",
      "1500:\tlearn: 19.5635216\ttotal: 3m 7s\tremaining: 2m 28s\n",
      "1600:\tlearn: 18.6578993\ttotal: 3m 20s\tremaining: 2m 16s\n",
      "1700:\tlearn: 17.8191382\ttotal: 3m 32s\tremaining: 2m 3s\n",
      "1800:\tlearn: 17.0737648\ttotal: 3m 45s\tremaining: 1m 51s\n",
      "1900:\tlearn: 16.3935162\ttotal: 3m 57s\tremaining: 1m 38s\n",
      "2000:\tlearn: 15.7436533\ttotal: 4m 9s\tremaining: 1m 25s\n",
      "2100:\tlearn: 15.0969259\ttotal: 4m 22s\tremaining: 1m 13s\n",
      "2200:\tlearn: 14.5463377\ttotal: 4m 34s\tremaining: 1m 1s\n",
      "2300:\tlearn: 14.0226520\ttotal: 4m 46s\tremaining: 48.4s\n",
      "2400:\tlearn: 13.5527157\ttotal: 4m 58s\tremaining: 35.9s\n",
      "2500:\tlearn: 13.1047618\ttotal: 5m 10s\tremaining: 23.5s\n",
      "2600:\tlearn: 12.6724981\ttotal: 5m 23s\tremaining: 11.1s\n",
      "2689:\tlearn: 12.2910741\ttotal: 5m 33s\tremaining: 0us\n"
     ]
    },
    {
     "name": "stderr",
     "output_type": "stream",
     "text": [
      "[I 2023-11-06 21:26:18,635] Trial 24 finished with value: 57.91707618189642 and parameters: {'iterations': 2690, 'learning_rate': 0.01751471883747824, 'depth': 11, 'min_data_in_leaf': 23, 'l2_leaf_reg': 3, 'has-time': True, 'bagging_temperature': 0.4635966819154222, 'random_strength': 0.5989889813687249, 'border_count': 414, 'rsm': 0.4306195053278253, 'nan_mode': 'Max'}. Best is trial 8 with value: 57.03148446122927.\n"
     ]
    },
    {
     "name": "stdout",
     "output_type": "stream",
     "text": [
      "0:\tlearn: 151.5756473\ttotal: 32.5ms\tremaining: 1m 12s\n",
      "100:\tlearn: 70.8252593\ttotal: 7.87s\tremaining: 2m 45s\n",
      "200:\tlearn: 52.6947313\ttotal: 15.3s\tremaining: 2m 33s\n",
      "300:\tlearn: 47.9216591\ttotal: 23.8s\tremaining: 2m 31s\n",
      "400:\tlearn: 45.5090712\ttotal: 31.7s\tremaining: 2m 23s\n",
      "500:\tlearn: 43.7086681\ttotal: 39.3s\tremaining: 2m 15s\n",
      "600:\tlearn: 42.1561784\ttotal: 44.5s\tremaining: 1m 59s\n",
      "700:\tlearn: 40.7452325\ttotal: 49.8s\tremaining: 1m 48s\n",
      "800:\tlearn: 39.3266490\ttotal: 54.7s\tremaining: 1m 37s\n",
      "900:\tlearn: 37.9701419\ttotal: 59.7s\tremaining: 1m 27s\n",
      "1000:\tlearn: 36.7679269\ttotal: 1m 4s\tremaining: 1m 19s\n",
      "1100:\tlearn: 35.6127709\ttotal: 1m 8s\tremaining: 1m 9s\n",
      "1200:\tlearn: 34.4920152\ttotal: 1m 11s\tremaining: 1m\n",
      "1300:\tlearn: 33.4098303\ttotal: 1m 16s\tremaining: 54.4s\n",
      "1400:\tlearn: 32.3859419\ttotal: 1m 22s\tremaining: 48.3s\n",
      "1500:\tlearn: 31.4852326\ttotal: 1m 27s\tremaining: 42s\n",
      "1600:\tlearn: 30.6116983\ttotal: 1m 32s\tremaining: 36s\n",
      "1700:\tlearn: 29.7930420\ttotal: 1m 38s\tremaining: 30.1s\n",
      "1800:\tlearn: 29.0623372\ttotal: 1m 44s\tremaining: 24.3s\n",
      "1900:\tlearn: 28.3084976\ttotal: 1m 49s\tremaining: 18.6s\n",
      "2000:\tlearn: 27.6268173\ttotal: 1m 55s\tremaining: 12.7s\n",
      "2100:\tlearn: 26.9614050\ttotal: 2m\tremaining: 6.94s\n",
      "2200:\tlearn: 26.3256040\ttotal: 2m 5s\tremaining: 1.2s\n",
      "2221:\tlearn: 26.1887295\ttotal: 2m 6s\tremaining: 0us\n"
     ]
    },
    {
     "name": "stderr",
     "output_type": "stream",
     "text": [
      "[I 2023-11-06 21:28:26,333] Trial 25 finished with value: 57.58854960811515 and parameters: {'iterations': 2222, 'learning_rate': 0.012024209004945042, 'depth': 9, 'min_data_in_leaf': 35, 'l2_leaf_reg': 2, 'has-time': True, 'bagging_temperature': 0.359544791621061, 'random_strength': 0.6768404071773936, 'border_count': 328, 'rsm': 0.23430093784810496, 'nan_mode': 'Max'}. Best is trial 8 with value: 57.03148446122927.\n"
     ]
    },
    {
     "name": "stdout",
     "output_type": "stream",
     "text": [
      "0:\tlearn: 149.0409508\ttotal: 69.3ms\tremaining: 3m 13s\n",
      "100:\tlearn: 50.5671171\ttotal: 3.95s\tremaining: 1m 45s\n"
     ]
    },
    {
     "name": "stderr",
     "output_type": "stream",
     "text": [
      "[W 2023-11-06 21:28:33,677] Trial 26 failed with parameters: {'iterations': 2793, 'learning_rate': 0.03379294740621279, 'depth': 8, 'min_data_in_leaf': 14, 'l2_leaf_reg': 5, 'has-time': True, 'bagging_temperature': 0.5425054672845713, 'random_strength': 0.7471795673433974, 'border_count': 241, 'rsm': 0.2988416518001317, 'nan_mode': 'Max'} because of the following error: KeyboardInterrupt('').\n",
      "Traceback (most recent call last):\n",
      "  File \"/opt/conda/lib/python3.10/site-packages/optuna/study/_optimize.py\", line 200, in _run_trial\n",
      "    value_or_values = func(trial)\n",
      "  File \"/var/tmp/ipykernel_2036/1391305371.py\", line 25, in <lambda>\n",
      "    study.optimize(lambda trial: objective(trial, X_train, y_train), n_trials=60)\n",
      "  File \"/var/tmp/ipykernel_2036/1391305371.py\", line 19, in objective\n",
      "    catboost_model_a.fit(train_pool_c)\n",
      "  File \"/opt/conda/lib/python3.10/site-packages/catboost/core.py\", line 5703, in fit\n",
      "    return self._fit(X, y, cat_features, text_features, embedding_features, None, sample_weight, None, None, None, None, baseline,\n",
      "  File \"/opt/conda/lib/python3.10/site-packages/catboost/core.py\", line 2319, in _fit\n",
      "    self._train(\n",
      "  File \"/opt/conda/lib/python3.10/site-packages/catboost/core.py\", line 1723, in _train\n",
      "    self._object._train(train_pool, test_pool, params, allow_clear_pool, init_model._object if init_model else None)\n",
      "  File \"_catboost.pyx\", line 4645, in _catboost._CatBoost._train\n",
      "  File \"_catboost.pyx\", line 4694, in _catboost._CatBoost._train\n",
      "KeyboardInterrupt\n",
      "[W 2023-11-06 21:28:33,682] Trial 26 failed with value None.\n"
     ]
    },
    {
     "ename": "KeyboardInterrupt",
     "evalue": "",
     "output_type": "error",
     "traceback": [
      "\u001b[0;31m---------------------------------------------------------------------------\u001b[0m",
      "\u001b[0;31mKeyboardInterrupt\u001b[0m                         Traceback (most recent call last)",
      "Cell \u001b[0;32mIn[10], line 25\u001b[0m\n\u001b[1;32m     22\u001b[0m     \u001b[38;5;28;01mreturn\u001b[39;00m MAE_a\n\u001b[1;32m     24\u001b[0m study \u001b[38;5;241m=\u001b[39m optuna\u001b[38;5;241m.\u001b[39mcreate_study(direction\u001b[38;5;241m=\u001b[39m\u001b[38;5;124m'\u001b[39m\u001b[38;5;124mminimize\u001b[39m\u001b[38;5;124m'\u001b[39m)\n\u001b[0;32m---> 25\u001b[0m \u001b[43mstudy\u001b[49m\u001b[38;5;241;43m.\u001b[39;49m\u001b[43moptimize\u001b[49m\u001b[43m(\u001b[49m\u001b[38;5;28;43;01mlambda\u001b[39;49;00m\u001b[43m \u001b[49m\u001b[43mtrial\u001b[49m\u001b[43m:\u001b[49m\u001b[43m \u001b[49m\u001b[43mobjective\u001b[49m\u001b[43m(\u001b[49m\u001b[43mtrial\u001b[49m\u001b[43m,\u001b[49m\u001b[43m \u001b[49m\u001b[43mX_train\u001b[49m\u001b[43m,\u001b[49m\u001b[43m \u001b[49m\u001b[43my_train\u001b[49m\u001b[43m)\u001b[49m\u001b[43m,\u001b[49m\u001b[43m \u001b[49m\u001b[43mn_trials\u001b[49m\u001b[38;5;241;43m=\u001b[39;49m\u001b[38;5;241;43m60\u001b[39;49m\u001b[43m)\u001b[49m\n",
      "File \u001b[0;32m/opt/conda/lib/python3.10/site-packages/optuna/study/study.py:451\u001b[0m, in \u001b[0;36mStudy.optimize\u001b[0;34m(self, func, n_trials, timeout, n_jobs, catch, callbacks, gc_after_trial, show_progress_bar)\u001b[0m\n\u001b[1;32m    348\u001b[0m \u001b[38;5;28;01mdef\u001b[39;00m \u001b[38;5;21moptimize\u001b[39m(\n\u001b[1;32m    349\u001b[0m     \u001b[38;5;28mself\u001b[39m,\n\u001b[1;32m    350\u001b[0m     func: ObjectiveFuncType,\n\u001b[0;32m   (...)\u001b[0m\n\u001b[1;32m    357\u001b[0m     show_progress_bar: \u001b[38;5;28mbool\u001b[39m \u001b[38;5;241m=\u001b[39m \u001b[38;5;28;01mFalse\u001b[39;00m,\n\u001b[1;32m    358\u001b[0m ) \u001b[38;5;241m-\u001b[39m\u001b[38;5;241m>\u001b[39m \u001b[38;5;28;01mNone\u001b[39;00m:\n\u001b[1;32m    359\u001b[0m \u001b[38;5;250m    \u001b[39m\u001b[38;5;124;03m\"\"\"Optimize an objective function.\u001b[39;00m\n\u001b[1;32m    360\u001b[0m \n\u001b[1;32m    361\u001b[0m \u001b[38;5;124;03m    Optimization is done by choosing a suitable set of hyperparameter values from a given\u001b[39;00m\n\u001b[0;32m   (...)\u001b[0m\n\u001b[1;32m    449\u001b[0m \u001b[38;5;124;03m            If nested invocation of this method occurs.\u001b[39;00m\n\u001b[1;32m    450\u001b[0m \u001b[38;5;124;03m    \"\"\"\u001b[39;00m\n\u001b[0;32m--> 451\u001b[0m     \u001b[43m_optimize\u001b[49m\u001b[43m(\u001b[49m\n\u001b[1;32m    452\u001b[0m \u001b[43m        \u001b[49m\u001b[43mstudy\u001b[49m\u001b[38;5;241;43m=\u001b[39;49m\u001b[38;5;28;43mself\u001b[39;49m\u001b[43m,\u001b[49m\n\u001b[1;32m    453\u001b[0m \u001b[43m        \u001b[49m\u001b[43mfunc\u001b[49m\u001b[38;5;241;43m=\u001b[39;49m\u001b[43mfunc\u001b[49m\u001b[43m,\u001b[49m\n\u001b[1;32m    454\u001b[0m \u001b[43m        \u001b[49m\u001b[43mn_trials\u001b[49m\u001b[38;5;241;43m=\u001b[39;49m\u001b[43mn_trials\u001b[49m\u001b[43m,\u001b[49m\n\u001b[1;32m    455\u001b[0m \u001b[43m        \u001b[49m\u001b[43mtimeout\u001b[49m\u001b[38;5;241;43m=\u001b[39;49m\u001b[43mtimeout\u001b[49m\u001b[43m,\u001b[49m\n\u001b[1;32m    456\u001b[0m \u001b[43m        \u001b[49m\u001b[43mn_jobs\u001b[49m\u001b[38;5;241;43m=\u001b[39;49m\u001b[43mn_jobs\u001b[49m\u001b[43m,\u001b[49m\n\u001b[1;32m    457\u001b[0m \u001b[43m        \u001b[49m\u001b[43mcatch\u001b[49m\u001b[38;5;241;43m=\u001b[39;49m\u001b[38;5;28;43mtuple\u001b[39;49m\u001b[43m(\u001b[49m\u001b[43mcatch\u001b[49m\u001b[43m)\u001b[49m\u001b[43m \u001b[49m\u001b[38;5;28;43;01mif\u001b[39;49;00m\u001b[43m \u001b[49m\u001b[38;5;28;43misinstance\u001b[39;49m\u001b[43m(\u001b[49m\u001b[43mcatch\u001b[49m\u001b[43m,\u001b[49m\u001b[43m \u001b[49m\u001b[43mIterable\u001b[49m\u001b[43m)\u001b[49m\u001b[43m \u001b[49m\u001b[38;5;28;43;01melse\u001b[39;49;00m\u001b[43m \u001b[49m\u001b[43m(\u001b[49m\u001b[43mcatch\u001b[49m\u001b[43m,\u001b[49m\u001b[43m)\u001b[49m\u001b[43m,\u001b[49m\n\u001b[1;32m    458\u001b[0m \u001b[43m        \u001b[49m\u001b[43mcallbacks\u001b[49m\u001b[38;5;241;43m=\u001b[39;49m\u001b[43mcallbacks\u001b[49m\u001b[43m,\u001b[49m\n\u001b[1;32m    459\u001b[0m \u001b[43m        \u001b[49m\u001b[43mgc_after_trial\u001b[49m\u001b[38;5;241;43m=\u001b[39;49m\u001b[43mgc_after_trial\u001b[49m\u001b[43m,\u001b[49m\n\u001b[1;32m    460\u001b[0m \u001b[43m        \u001b[49m\u001b[43mshow_progress_bar\u001b[49m\u001b[38;5;241;43m=\u001b[39;49m\u001b[43mshow_progress_bar\u001b[49m\u001b[43m,\u001b[49m\n\u001b[1;32m    461\u001b[0m \u001b[43m    \u001b[49m\u001b[43m)\u001b[49m\n",
      "File \u001b[0;32m/opt/conda/lib/python3.10/site-packages/optuna/study/_optimize.py:66\u001b[0m, in \u001b[0;36m_optimize\u001b[0;34m(study, func, n_trials, timeout, n_jobs, catch, callbacks, gc_after_trial, show_progress_bar)\u001b[0m\n\u001b[1;32m     64\u001b[0m \u001b[38;5;28;01mtry\u001b[39;00m:\n\u001b[1;32m     65\u001b[0m     \u001b[38;5;28;01mif\u001b[39;00m n_jobs \u001b[38;5;241m==\u001b[39m \u001b[38;5;241m1\u001b[39m:\n\u001b[0;32m---> 66\u001b[0m         \u001b[43m_optimize_sequential\u001b[49m\u001b[43m(\u001b[49m\n\u001b[1;32m     67\u001b[0m \u001b[43m            \u001b[49m\u001b[43mstudy\u001b[49m\u001b[43m,\u001b[49m\n\u001b[1;32m     68\u001b[0m \u001b[43m            \u001b[49m\u001b[43mfunc\u001b[49m\u001b[43m,\u001b[49m\n\u001b[1;32m     69\u001b[0m \u001b[43m            \u001b[49m\u001b[43mn_trials\u001b[49m\u001b[43m,\u001b[49m\n\u001b[1;32m     70\u001b[0m \u001b[43m            \u001b[49m\u001b[43mtimeout\u001b[49m\u001b[43m,\u001b[49m\n\u001b[1;32m     71\u001b[0m \u001b[43m            \u001b[49m\u001b[43mcatch\u001b[49m\u001b[43m,\u001b[49m\n\u001b[1;32m     72\u001b[0m \u001b[43m            \u001b[49m\u001b[43mcallbacks\u001b[49m\u001b[43m,\u001b[49m\n\u001b[1;32m     73\u001b[0m \u001b[43m            \u001b[49m\u001b[43mgc_after_trial\u001b[49m\u001b[43m,\u001b[49m\n\u001b[1;32m     74\u001b[0m \u001b[43m            \u001b[49m\u001b[43mreseed_sampler_rng\u001b[49m\u001b[38;5;241;43m=\u001b[39;49m\u001b[38;5;28;43;01mFalse\u001b[39;49;00m\u001b[43m,\u001b[49m\n\u001b[1;32m     75\u001b[0m \u001b[43m            \u001b[49m\u001b[43mtime_start\u001b[49m\u001b[38;5;241;43m=\u001b[39;49m\u001b[38;5;28;43;01mNone\u001b[39;49;00m\u001b[43m,\u001b[49m\n\u001b[1;32m     76\u001b[0m \u001b[43m            \u001b[49m\u001b[43mprogress_bar\u001b[49m\u001b[38;5;241;43m=\u001b[39;49m\u001b[43mprogress_bar\u001b[49m\u001b[43m,\u001b[49m\n\u001b[1;32m     77\u001b[0m \u001b[43m        \u001b[49m\u001b[43m)\u001b[49m\n\u001b[1;32m     78\u001b[0m     \u001b[38;5;28;01melse\u001b[39;00m:\n\u001b[1;32m     79\u001b[0m         \u001b[38;5;28;01mif\u001b[39;00m n_jobs \u001b[38;5;241m==\u001b[39m \u001b[38;5;241m-\u001b[39m\u001b[38;5;241m1\u001b[39m:\n",
      "File \u001b[0;32m/opt/conda/lib/python3.10/site-packages/optuna/study/_optimize.py:163\u001b[0m, in \u001b[0;36m_optimize_sequential\u001b[0;34m(study, func, n_trials, timeout, catch, callbacks, gc_after_trial, reseed_sampler_rng, time_start, progress_bar)\u001b[0m\n\u001b[1;32m    160\u001b[0m         \u001b[38;5;28;01mbreak\u001b[39;00m\n\u001b[1;32m    162\u001b[0m \u001b[38;5;28;01mtry\u001b[39;00m:\n\u001b[0;32m--> 163\u001b[0m     frozen_trial \u001b[38;5;241m=\u001b[39m \u001b[43m_run_trial\u001b[49m\u001b[43m(\u001b[49m\u001b[43mstudy\u001b[49m\u001b[43m,\u001b[49m\u001b[43m \u001b[49m\u001b[43mfunc\u001b[49m\u001b[43m,\u001b[49m\u001b[43m \u001b[49m\u001b[43mcatch\u001b[49m\u001b[43m)\u001b[49m\n\u001b[1;32m    164\u001b[0m \u001b[38;5;28;01mfinally\u001b[39;00m:\n\u001b[1;32m    165\u001b[0m     \u001b[38;5;66;03m# The following line mitigates memory problems that can be occurred in some\u001b[39;00m\n\u001b[1;32m    166\u001b[0m     \u001b[38;5;66;03m# environments (e.g., services that use computing containers such as GitHub Actions).\u001b[39;00m\n\u001b[1;32m    167\u001b[0m     \u001b[38;5;66;03m# Please refer to the following PR for further details:\u001b[39;00m\n\u001b[1;32m    168\u001b[0m     \u001b[38;5;66;03m# https://github.com/optuna/optuna/pull/325.\u001b[39;00m\n\u001b[1;32m    169\u001b[0m     \u001b[38;5;28;01mif\u001b[39;00m gc_after_trial:\n",
      "File \u001b[0;32m/opt/conda/lib/python3.10/site-packages/optuna/study/_optimize.py:251\u001b[0m, in \u001b[0;36m_run_trial\u001b[0;34m(study, func, catch)\u001b[0m\n\u001b[1;32m    244\u001b[0m         \u001b[38;5;28;01massert\u001b[39;00m \u001b[38;5;28;01mFalse\u001b[39;00m, \u001b[38;5;124m\"\u001b[39m\u001b[38;5;124mShould not reach.\u001b[39m\u001b[38;5;124m\"\u001b[39m\n\u001b[1;32m    246\u001b[0m \u001b[38;5;28;01mif\u001b[39;00m (\n\u001b[1;32m    247\u001b[0m     frozen_trial\u001b[38;5;241m.\u001b[39mstate \u001b[38;5;241m==\u001b[39m TrialState\u001b[38;5;241m.\u001b[39mFAIL\n\u001b[1;32m    248\u001b[0m     \u001b[38;5;129;01mand\u001b[39;00m func_err \u001b[38;5;129;01mis\u001b[39;00m \u001b[38;5;129;01mnot\u001b[39;00m \u001b[38;5;28;01mNone\u001b[39;00m\n\u001b[1;32m    249\u001b[0m     \u001b[38;5;129;01mand\u001b[39;00m \u001b[38;5;129;01mnot\u001b[39;00m \u001b[38;5;28misinstance\u001b[39m(func_err, catch)\n\u001b[1;32m    250\u001b[0m ):\n\u001b[0;32m--> 251\u001b[0m     \u001b[38;5;28;01mraise\u001b[39;00m func_err\n\u001b[1;32m    252\u001b[0m \u001b[38;5;28;01mreturn\u001b[39;00m frozen_trial\n",
      "File \u001b[0;32m/opt/conda/lib/python3.10/site-packages/optuna/study/_optimize.py:200\u001b[0m, in \u001b[0;36m_run_trial\u001b[0;34m(study, func, catch)\u001b[0m\n\u001b[1;32m    198\u001b[0m \u001b[38;5;28;01mwith\u001b[39;00m get_heartbeat_thread(trial\u001b[38;5;241m.\u001b[39m_trial_id, study\u001b[38;5;241m.\u001b[39m_storage):\n\u001b[1;32m    199\u001b[0m     \u001b[38;5;28;01mtry\u001b[39;00m:\n\u001b[0;32m--> 200\u001b[0m         value_or_values \u001b[38;5;241m=\u001b[39m \u001b[43mfunc\u001b[49m\u001b[43m(\u001b[49m\u001b[43mtrial\u001b[49m\u001b[43m)\u001b[49m\n\u001b[1;32m    201\u001b[0m     \u001b[38;5;28;01mexcept\u001b[39;00m exceptions\u001b[38;5;241m.\u001b[39mTrialPruned \u001b[38;5;28;01mas\u001b[39;00m e:\n\u001b[1;32m    202\u001b[0m         \u001b[38;5;66;03m# TODO(mamu): Handle multi-objective cases.\u001b[39;00m\n\u001b[1;32m    203\u001b[0m         state \u001b[38;5;241m=\u001b[39m TrialState\u001b[38;5;241m.\u001b[39mPRUNED\n",
      "Cell \u001b[0;32mIn[10], line 25\u001b[0m, in \u001b[0;36m<lambda>\u001b[0;34m(trial)\u001b[0m\n\u001b[1;32m     22\u001b[0m     \u001b[38;5;28;01mreturn\u001b[39;00m MAE_a\n\u001b[1;32m     24\u001b[0m study \u001b[38;5;241m=\u001b[39m optuna\u001b[38;5;241m.\u001b[39mcreate_study(direction\u001b[38;5;241m=\u001b[39m\u001b[38;5;124m'\u001b[39m\u001b[38;5;124mminimize\u001b[39m\u001b[38;5;124m'\u001b[39m)\n\u001b[0;32m---> 25\u001b[0m study\u001b[38;5;241m.\u001b[39moptimize(\u001b[38;5;28;01mlambda\u001b[39;00m trial: \u001b[43mobjective\u001b[49m\u001b[43m(\u001b[49m\u001b[43mtrial\u001b[49m\u001b[43m,\u001b[49m\u001b[43m \u001b[49m\u001b[43mX_train\u001b[49m\u001b[43m,\u001b[49m\u001b[43m \u001b[49m\u001b[43my_train\u001b[49m\u001b[43m)\u001b[49m, n_trials\u001b[38;5;241m=\u001b[39m\u001b[38;5;241m60\u001b[39m)\n",
      "Cell \u001b[0;32mIn[10], line 19\u001b[0m, in \u001b[0;36mobjective\u001b[0;34m(trial, X_train, y_train)\u001b[0m\n\u001b[1;32m      3\u001b[0m params \u001b[38;5;241m=\u001b[39m {\n\u001b[1;32m      4\u001b[0m     \u001b[38;5;124m\"\u001b[39m\u001b[38;5;124miterations\u001b[39m\u001b[38;5;124m\"\u001b[39m: trial\u001b[38;5;241m.\u001b[39msuggest_int(\u001b[38;5;124m\"\u001b[39m\u001b[38;5;124miterations\u001b[39m\u001b[38;5;124m\"\u001b[39m, \u001b[38;5;241m300\u001b[39m, \u001b[38;5;241m3000\u001b[39m),\n\u001b[1;32m      5\u001b[0m     \u001b[38;5;124m\"\u001b[39m\u001b[38;5;124mlearning_rate\u001b[39m\u001b[38;5;124m\"\u001b[39m: trial\u001b[38;5;241m.\u001b[39msuggest_float(\u001b[38;5;124m\"\u001b[39m\u001b[38;5;124mlearning_rate\u001b[39m\u001b[38;5;124m\"\u001b[39m, \u001b[38;5;241m1e-3\u001b[39m, \u001b[38;5;241m0.1\u001b[39m, log\u001b[38;5;241m=\u001b[39m\u001b[38;5;28;01mTrue\u001b[39;00m),\n\u001b[0;32m   (...)\u001b[0m\n\u001b[1;32m     15\u001b[0m     \u001b[38;5;124m\"\u001b[39m\u001b[38;5;124mnan_mode\u001b[39m\u001b[38;5;124m\"\u001b[39m: trial\u001b[38;5;241m.\u001b[39msuggest_categorical(\u001b[38;5;124m\"\u001b[39m\u001b[38;5;124mnan_mode\u001b[39m\u001b[38;5;124m\"\u001b[39m, [\u001b[38;5;124m\"\u001b[39m\u001b[38;5;124mMin\u001b[39m\u001b[38;5;124m\"\u001b[39m, \u001b[38;5;124m\"\u001b[39m\u001b[38;5;124mMax\u001b[39m\u001b[38;5;124m\"\u001b[39m])\n\u001b[1;32m     16\u001b[0m }\n\u001b[1;32m     18\u001b[0m catboost_model_a \u001b[38;5;241m=\u001b[39m CatBoostRegressor(\u001b[38;5;241m*\u001b[39m\u001b[38;5;241m*\u001b[39mparams, verbose\u001b[38;5;241m=\u001b[39m\u001b[38;5;241m100\u001b[39m)\n\u001b[0;32m---> 19\u001b[0m \u001b[43mcatboost_model_a\u001b[49m\u001b[38;5;241;43m.\u001b[39;49m\u001b[43mfit\u001b[49m\u001b[43m(\u001b[49m\u001b[43mtrain_pool_c\u001b[49m\u001b[43m)\u001b[49m\n\u001b[1;32m     20\u001b[0m pred_c \u001b[38;5;241m=\u001b[39m pd\u001b[38;5;241m.\u001b[39mDataFrame(catboost_model_a\u001b[38;5;241m.\u001b[39mpredict(test_pool_c))\n\u001b[1;32m     21\u001b[0m MAE_a \u001b[38;5;241m=\u001b[39m mean_absolute_error(y_test_c, pred_c)\n",
      "File \u001b[0;32m/opt/conda/lib/python3.10/site-packages/catboost/core.py:5703\u001b[0m, in \u001b[0;36mCatBoostRegressor.fit\u001b[0;34m(self, X, y, cat_features, text_features, embedding_features, sample_weight, baseline, use_best_model, eval_set, verbose, logging_level, plot, plot_file, column_description, verbose_eval, metric_period, silent, early_stopping_rounds, save_snapshot, snapshot_file, snapshot_interval, init_model, callbacks, log_cout, log_cerr)\u001b[0m\n\u001b[1;32m   5700\u001b[0m \u001b[38;5;28;01mif\u001b[39;00m \u001b[38;5;124m'\u001b[39m\u001b[38;5;124mloss_function\u001b[39m\u001b[38;5;124m'\u001b[39m \u001b[38;5;129;01min\u001b[39;00m params:\n\u001b[1;32m   5701\u001b[0m     CatBoostRegressor\u001b[38;5;241m.\u001b[39m_check_is_compatible_loss(params[\u001b[38;5;124m'\u001b[39m\u001b[38;5;124mloss_function\u001b[39m\u001b[38;5;124m'\u001b[39m])\n\u001b[0;32m-> 5703\u001b[0m \u001b[38;5;28;01mreturn\u001b[39;00m \u001b[38;5;28;43mself\u001b[39;49m\u001b[38;5;241;43m.\u001b[39;49m\u001b[43m_fit\u001b[49m\u001b[43m(\u001b[49m\u001b[43mX\u001b[49m\u001b[43m,\u001b[49m\u001b[43m \u001b[49m\u001b[43my\u001b[49m\u001b[43m,\u001b[49m\u001b[43m \u001b[49m\u001b[43mcat_features\u001b[49m\u001b[43m,\u001b[49m\u001b[43m \u001b[49m\u001b[43mtext_features\u001b[49m\u001b[43m,\u001b[49m\u001b[43m \u001b[49m\u001b[43membedding_features\u001b[49m\u001b[43m,\u001b[49m\u001b[43m \u001b[49m\u001b[38;5;28;43;01mNone\u001b[39;49;00m\u001b[43m,\u001b[49m\u001b[43m \u001b[49m\u001b[43msample_weight\u001b[49m\u001b[43m,\u001b[49m\u001b[43m \u001b[49m\u001b[38;5;28;43;01mNone\u001b[39;49;00m\u001b[43m,\u001b[49m\u001b[43m \u001b[49m\u001b[38;5;28;43;01mNone\u001b[39;49;00m\u001b[43m,\u001b[49m\u001b[43m \u001b[49m\u001b[38;5;28;43;01mNone\u001b[39;49;00m\u001b[43m,\u001b[49m\u001b[43m \u001b[49m\u001b[38;5;28;43;01mNone\u001b[39;49;00m\u001b[43m,\u001b[49m\u001b[43m \u001b[49m\u001b[43mbaseline\u001b[49m\u001b[43m,\u001b[49m\n\u001b[1;32m   5704\u001b[0m \u001b[43m                 \u001b[49m\u001b[43muse_best_model\u001b[49m\u001b[43m,\u001b[49m\u001b[43m \u001b[49m\u001b[43meval_set\u001b[49m\u001b[43m,\u001b[49m\u001b[43m \u001b[49m\u001b[43mverbose\u001b[49m\u001b[43m,\u001b[49m\u001b[43m \u001b[49m\u001b[43mlogging_level\u001b[49m\u001b[43m,\u001b[49m\u001b[43m \u001b[49m\u001b[43mplot\u001b[49m\u001b[43m,\u001b[49m\u001b[43m \u001b[49m\u001b[43mplot_file\u001b[49m\u001b[43m,\u001b[49m\u001b[43m \u001b[49m\u001b[43mcolumn_description\u001b[49m\u001b[43m,\u001b[49m\n\u001b[1;32m   5705\u001b[0m \u001b[43m                 \u001b[49m\u001b[43mverbose_eval\u001b[49m\u001b[43m,\u001b[49m\u001b[43m \u001b[49m\u001b[43mmetric_period\u001b[49m\u001b[43m,\u001b[49m\u001b[43m \u001b[49m\u001b[43msilent\u001b[49m\u001b[43m,\u001b[49m\u001b[43m \u001b[49m\u001b[43mearly_stopping_rounds\u001b[49m\u001b[43m,\u001b[49m\n\u001b[1;32m   5706\u001b[0m \u001b[43m                 \u001b[49m\u001b[43msave_snapshot\u001b[49m\u001b[43m,\u001b[49m\u001b[43m \u001b[49m\u001b[43msnapshot_file\u001b[49m\u001b[43m,\u001b[49m\u001b[43m \u001b[49m\u001b[43msnapshot_interval\u001b[49m\u001b[43m,\u001b[49m\u001b[43m \u001b[49m\u001b[43minit_model\u001b[49m\u001b[43m,\u001b[49m\u001b[43m \u001b[49m\u001b[43mcallbacks\u001b[49m\u001b[43m,\u001b[49m\u001b[43m \u001b[49m\u001b[43mlog_cout\u001b[49m\u001b[43m,\u001b[49m\u001b[43m \u001b[49m\u001b[43mlog_cerr\u001b[49m\u001b[43m)\u001b[49m\n",
      "File \u001b[0;32m/opt/conda/lib/python3.10/site-packages/catboost/core.py:2319\u001b[0m, in \u001b[0;36mCatBoost._fit\u001b[0;34m(self, X, y, cat_features, text_features, embedding_features, pairs, sample_weight, group_id, group_weight, subgroup_id, pairs_weight, baseline, use_best_model, eval_set, verbose, logging_level, plot, plot_file, column_description, verbose_eval, metric_period, silent, early_stopping_rounds, save_snapshot, snapshot_file, snapshot_interval, init_model, callbacks, log_cout, log_cerr)\u001b[0m\n\u001b[1;32m   2315\u001b[0m allow_clear_pool \u001b[38;5;241m=\u001b[39m train_params[\u001b[38;5;124m\"\u001b[39m\u001b[38;5;124mallow_clear_pool\u001b[39m\u001b[38;5;124m\"\u001b[39m]\n\u001b[1;32m   2317\u001b[0m \u001b[38;5;28;01mwith\u001b[39;00m log_fixup(log_cout, log_cerr), \\\n\u001b[1;32m   2318\u001b[0m     plot_wrapper(plot, plot_file, \u001b[38;5;124m'\u001b[39m\u001b[38;5;124mTraining plots\u001b[39m\u001b[38;5;124m'\u001b[39m, [_get_train_dir(\u001b[38;5;28mself\u001b[39m\u001b[38;5;241m.\u001b[39mget_params())]):\n\u001b[0;32m-> 2319\u001b[0m     \u001b[38;5;28;43mself\u001b[39;49m\u001b[38;5;241;43m.\u001b[39;49m\u001b[43m_train\u001b[49m\u001b[43m(\u001b[49m\n\u001b[1;32m   2320\u001b[0m \u001b[43m        \u001b[49m\u001b[43mtrain_pool\u001b[49m\u001b[43m,\u001b[49m\n\u001b[1;32m   2321\u001b[0m \u001b[43m        \u001b[49m\u001b[43mtrain_params\u001b[49m\u001b[43m[\u001b[49m\u001b[38;5;124;43m\"\u001b[39;49m\u001b[38;5;124;43meval_sets\u001b[39;49m\u001b[38;5;124;43m\"\u001b[39;49m\u001b[43m]\u001b[49m\u001b[43m,\u001b[49m\n\u001b[1;32m   2322\u001b[0m \u001b[43m        \u001b[49m\u001b[43mparams\u001b[49m\u001b[43m,\u001b[49m\n\u001b[1;32m   2323\u001b[0m \u001b[43m        \u001b[49m\u001b[43mallow_clear_pool\u001b[49m\u001b[43m,\u001b[49m\n\u001b[1;32m   2324\u001b[0m \u001b[43m        \u001b[49m\u001b[43mtrain_params\u001b[49m\u001b[43m[\u001b[49m\u001b[38;5;124;43m\"\u001b[39;49m\u001b[38;5;124;43minit_model\u001b[39;49m\u001b[38;5;124;43m\"\u001b[39;49m\u001b[43m]\u001b[49m\n\u001b[1;32m   2325\u001b[0m \u001b[43m    \u001b[49m\u001b[43m)\u001b[49m\n\u001b[1;32m   2327\u001b[0m \u001b[38;5;66;03m# Have property feature_importance possibly set\u001b[39;00m\n\u001b[1;32m   2328\u001b[0m loss \u001b[38;5;241m=\u001b[39m \u001b[38;5;28mself\u001b[39m\u001b[38;5;241m.\u001b[39m_object\u001b[38;5;241m.\u001b[39m_get_loss_function_name()\n",
      "File \u001b[0;32m/opt/conda/lib/python3.10/site-packages/catboost/core.py:1723\u001b[0m, in \u001b[0;36m_CatBoostBase._train\u001b[0;34m(self, train_pool, test_pool, params, allow_clear_pool, init_model)\u001b[0m\n\u001b[1;32m   1722\u001b[0m \u001b[38;5;28;01mdef\u001b[39;00m \u001b[38;5;21m_train\u001b[39m(\u001b[38;5;28mself\u001b[39m, train_pool, test_pool, params, allow_clear_pool, init_model):\n\u001b[0;32m-> 1723\u001b[0m     \u001b[38;5;28;43mself\u001b[39;49m\u001b[38;5;241;43m.\u001b[39;49m\u001b[43m_object\u001b[49m\u001b[38;5;241;43m.\u001b[39;49m\u001b[43m_train\u001b[49m\u001b[43m(\u001b[49m\u001b[43mtrain_pool\u001b[49m\u001b[43m,\u001b[49m\u001b[43m \u001b[49m\u001b[43mtest_pool\u001b[49m\u001b[43m,\u001b[49m\u001b[43m \u001b[49m\u001b[43mparams\u001b[49m\u001b[43m,\u001b[49m\u001b[43m \u001b[49m\u001b[43mallow_clear_pool\u001b[49m\u001b[43m,\u001b[49m\u001b[43m \u001b[49m\u001b[43minit_model\u001b[49m\u001b[38;5;241;43m.\u001b[39;49m\u001b[43m_object\u001b[49m\u001b[43m \u001b[49m\u001b[38;5;28;43;01mif\u001b[39;49;00m\u001b[43m \u001b[49m\u001b[43minit_model\u001b[49m\u001b[43m \u001b[49m\u001b[38;5;28;43;01melse\u001b[39;49;00m\u001b[43m \u001b[49m\u001b[38;5;28;43;01mNone\u001b[39;49;00m\u001b[43m)\u001b[49m\n\u001b[1;32m   1724\u001b[0m     \u001b[38;5;28mself\u001b[39m\u001b[38;5;241m.\u001b[39m_set_trained_model_attributes()\n",
      "File \u001b[0;32m_catboost.pyx:4645\u001b[0m, in \u001b[0;36m_catboost._CatBoost._train\u001b[0;34m()\u001b[0m\n",
      "File \u001b[0;32m_catboost.pyx:4694\u001b[0m, in \u001b[0;36m_catboost._CatBoost._train\u001b[0;34m()\u001b[0m\n",
      "\u001b[0;31mKeyboardInterrupt\u001b[0m: "
     ]
    }
   ],
   "source": [
    "#For location A\n",
    "def objective(trial, X_train, y_train):\n",
    "    params = {\n",
    "        \"iterations\": trial.suggest_int(\"iterations\", 300, 3000),\n",
    "        \"learning_rate\": trial.suggest_float(\"learning_rate\", 1e-3, 0.1, log=True),\n",
    "        \"depth\": trial.suggest_int(\"depth\", 1, 13),\n",
    "        \"min_data_in_leaf\": trial.suggest_int(\"min_data_in_leaf\", 1, 100),\n",
    "        \"l2_leaf_reg\": trial.suggest_int(\"l2_leaf_reg\", 2, 10),\n",
    "        \"has_time\": trial.suggest_categorical('has-time', [True, False]),\n",
    "        \"bagging_temperature\": trial.suggest_float(\"bagging_temperature\", 0.3, 1.0),\n",
    "        \"random_strength\": trial.suggest_float(\"random_strength\", 0.3, 1.0),\n",
    "        \"random_state\": 2,\n",
    "        \"border_count\": trial.suggest_int(\"border_count\", 1, 1000),\n",
    "        \"rsm\": trial.suggest_float(\"rsm\", 0.05, 1),\n",
    "        \"nan_mode\": trial.suggest_categorical(\"nan_mode\", [\"Min\", \"Max\"])\n",
    "    }\n",
    "\n",
    "    catboost_model_a = CatBoostRegressor(**params, verbose=100)\n",
    "    catboost_model_a.fit(train_pool_c)\n",
    "    pred_c = pd.DataFrame(catboost_model_a.predict(test_pool_c))\n",
    "    MAE_a = mean_absolute_error(y_test_c, pred_c)\n",
    "    return MAE_a\n",
    "\n",
    "study = optuna.create_study(direction='minimize')\n",
    "study.optimize(lambda trial: objective(trial, X_train, y_train), n_trials=60)"
   ]
  },
  {
   "cell_type": "code",
   "execution_count": 7,
   "metadata": {},
   "outputs": [
    {
     "name": "stdout",
     "output_type": "stream",
     "text": [
      "{'iterations': 2004, 'learning_rate': 0.016429110886618033, 'depth': 8, 'colsample_bylevel': 0.7338575760364532, 'min_data_in_leaf': 90, 'l2_leaf_reg': 5, 'has-time': False, 'bagging_temperature': 0.6414768311294344, 'random_strength': 0.4206698081688342, 'border_count': 487, 'rsm': 0.012360675671015169, 'nan_mode': 'min'}\n",
      "57.13529571086957\n"
     ]
    }
   ],
   "source": [
    "#to output the best paramaters\n",
    "print(study.best_params)\n",
    "\n",
    "#to output the best score returned from the trials\n",
    "print(study.best_value)\n",
    "\n",
    "with open(\"optuna-best-parameters_c.txt\", \"w\") as file:\n",
    "    file.write(\"Best paramaters: \\n\")\n",
    "    file.write(json.dumps(study.best_params))  # Write the first string followed by a newline character\n",
    "    file.write(\"\\n\")\n",
    "    file.write(\"best score MAE: \\n\")\n",
    "    file.write(json.dumps(study.best_value))  # Write the second string followed by a newline character"
   ]
  },
  {
   "cell_type": "code",
   "execution_count": null,
   "metadata": {},
   "outputs": [],
   "source": []
  }
 ],
 "metadata": {
  "environment": {
   "kernel": "python3",
   "name": "common-cpu.m112",
   "type": "gcloud",
   "uri": "gcr.io/deeplearning-platform-release/base-cpu:m112"
  },
  "kernelspec": {
   "display_name": "Python 3",
   "language": "python",
   "name": "python3"
  },
  "language_info": {
   "codemirror_mode": {
    "name": "ipython",
    "version": 3
   },
   "file_extension": ".py",
   "mimetype": "text/x-python",
   "name": "python",
   "nbconvert_exporter": "python",
   "pygments_lexer": "ipython3",
   "version": "3.10.5"
  }
 },
 "nbformat": 4,
 "nbformat_minor": 4
}
