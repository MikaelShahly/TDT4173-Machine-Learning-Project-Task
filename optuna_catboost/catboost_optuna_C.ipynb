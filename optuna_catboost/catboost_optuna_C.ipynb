{
 "cells": [
  {
   "cell_type": "code",
   "execution_count": 1,
   "metadata": {},
   "outputs": [],
   "source": [
    "import pandas as pd\n",
    "import numpy as np\n",
    "from catboost import Pool, CatBoostRegressor\n",
    "from sklearn.model_selection import cross_val_score\n",
    "from sklearn.model_selection import TimeSeriesSplit \n",
    "import optuna \n",
    "import json\n",
    "from sklearn.metrics import mean_absolute_error"
   ]
  },
  {
   "cell_type": "code",
   "execution_count": 2,
   "metadata": {},
   "outputs": [],
   "source": [
    "#Load inn datasets\n",
    "X_test  = pd.read_parquet('../data/prepared_datasets/avg/no_duplicates/X_test.parquet')\n",
    "X_train = pd.read_parquet('../data/prepared_datasets/avg/no_duplicates/X_train.parquet')\n",
    "y_train = pd.read_parquet('../data/prepared_datasets/avg/no_duplicates/Y_train.parquet')\n",
    "y_train_a = pd.read_parquet('../data/prepared_datasets/avg/no_duplicates/Y_train_a.parquet')\n",
    "y_train_b = pd.read_parquet('../data/prepared_datasets/avg/no_duplicates/Y_train_b.parquet')\n",
    "y_train_c = pd.read_parquet('../data/prepared_datasets/avg/no_duplicates/Y_train_c.parquet')"
   ]
  },
  {
   "cell_type": "code",
   "execution_count": 4,
   "metadata": {},
   "outputs": [],
   "source": [
    "def test_train_split(df):\n",
    "    dates_2 = (df.index >= '2023-04-01') & (df.index <= '2023-04-15')\n",
    "    dates_1 = (df.index >= '2021-05-01') & (df.index <= '2021-08-01')\n",
    "\n",
    "    test_set = df[dates_1 | dates_2]\n",
    "\n",
    "    training_set = df[~(dates_1 | dates_2)]\n",
    "\n",
    "    X_train = training_set.drop(\"pv_measurement\", axis=1)\n",
    "    y_train = training_set['pv_measurement']\n",
    "\n",
    "    X_test = test_set.drop(\"pv_measurement\", axis=1)\n",
    "    y_test = test_set['pv_measurement'] \n",
    "\n",
    "    \n",
    "    \n",
    "    return X_train, X_test, y_train, y_test\n",
    "\n",
    "\n",
    "X_train_new_c, X_test_new_c, y_train_new_c, y_test_c = test_train_split(pd.concat([X_train[X_train[\"location\"] == \"C\"].drop(\"location\", axis=1), y_train_c], axis=1))"
   ]
  },
  {
   "cell_type": "code",
   "execution_count": 10,
   "metadata": {},
   "outputs": [],
   "source": [
    "#Create a pool of data\n",
    "\n",
    "train_pool_c = Pool(X_train_new_c, y_train_new_c)\n",
    "test_pool_c = Pool(X_test_new_c) "
   ]
  },
  {
   "cell_type": "code",
   "execution_count": null,
   "metadata": {},
   "outputs": [
    {
     "name": "stderr",
     "output_type": "stream",
     "text": [
      "[I 2023-11-11 08:18:37,898] A new study created in memory with name: no-name-0d54271e-d2c9-4a01-9fa8-616a6ec70d34\n"
     ]
    },
    {
     "name": "stdout",
     "output_type": "stream",
     "text": [
      "0:\tlearn: 69.1701711\ttotal: 76.3ms\tremaining: 2m 45s\n",
      "400:\tlearn: 21.6919578\ttotal: 18.1s\tremaining: 1m 19s\n",
      "800:\tlearn: 18.9206608\ttotal: 40.8s\tremaining: 1m 9s\n",
      "1200:\tlearn: 18.1874123\ttotal: 1m 2s\tremaining: 50.5s\n",
      "1600:\tlearn: 17.6436143\ttotal: 1m 25s\tremaining: 30.2s\n",
      "2000:\tlearn: 17.0561885\ttotal: 1m 40s\tremaining: 8.35s\n"
     ]
    },
    {
     "name": "stderr",
     "output_type": "stream",
     "text": [
      "[I 2023-11-11 08:20:23,327] Trial 0 finished with value: 51.61922475340231 and parameters: {'iterations': 2168, 'learning_rate': 0.007142459071760093, 'depth': 7, 'min_data_in_leaf': 73, 'l2_leaf_reg': 2, 'bagging_temperature': 0.46273908508719064, 'random_strength': 0.9000985661208238, 'border_count': 749, 'rsm': 0.23373756721140937}. Best is trial 0 with value: 51.61922475340231.\n"
     ]
    },
    {
     "name": "stdout",
     "output_type": "stream",
     "text": [
      "2167:\tlearn: 16.7986986\ttotal: 1m 45s\tremaining: 0us\n",
      "0:\tlearn: 69.3358464\ttotal: 245ms\tremaining: 12m 24s\n",
      "400:\tlearn: 38.0233280\ttotal: 1m 50s\tremaining: 12m 10s\n",
      "800:\tlearn: 24.4912015\ttotal: 3m 42s\tremaining: 10m 23s\n",
      "1200:\tlearn: 19.1323570\ttotal: 5m 33s\tremaining: 8m 32s\n",
      "1600:\tlearn: 16.7640812\ttotal: 7m 34s\tremaining: 6m 49s\n",
      "2000:\tlearn: 15.3228009\ttotal: 9m 27s\tremaining: 4m 55s\n",
      "2400:\tlearn: 14.3653308\ttotal: 11m 23s\tremaining: 3m 3s\n",
      "2800:\tlearn: 13.6761732\ttotal: 13m 19s\tremaining: 1m 9s\n",
      "3043:\tlearn: 13.3014562\ttotal: 14m 27s\tremaining: 0us\n"
     ]
    },
    {
     "name": "stderr",
     "output_type": "stream",
     "text": [
      "[I 2023-11-11 08:34:52,668] Trial 1 finished with value: 51.832130599402234 and parameters: {'iterations': 3044, 'learning_rate': 0.0021194842149737, 'depth': 12, 'min_data_in_leaf': 71, 'l2_leaf_reg': 2, 'bagging_temperature': 0.9283436649217105, 'random_strength': 0.7868782124894353, 'border_count': 570, 'rsm': 0.9513351080571983}. Best is trial 0 with value: 51.61922475340231.\n"
     ]
    },
    {
     "name": "stdout",
     "output_type": "stream",
     "text": [
      "0:\tlearn: 66.6555073\ttotal: 12ms\tremaining: 37.6s\n",
      "400:\tlearn: 20.6050719\ttotal: 8.04s\tremaining: 55s\n",
      "800:\tlearn: 19.7547703\ttotal: 16.9s\tremaining: 49.5s\n",
      "1200:\tlearn: 19.3185754\ttotal: 25.4s\tremaining: 41.1s\n",
      "1600:\tlearn: 18.9612937\ttotal: 33.7s\tremaining: 32.5s\n",
      "2000:\tlearn: 18.6808021\ttotal: 41.9s\tremaining: 23.9s\n",
      "2400:\tlearn: 18.4679440\ttotal: 50.1s\tremaining: 15.5s\n",
      "2800:\tlearn: 18.2922576\ttotal: 57.7s\tremaining: 7.07s\n"
     ]
    },
    {
     "name": "stderr",
     "output_type": "stream",
     "text": [
      "[I 2023-11-11 08:35:57,336] Trial 2 finished with value: 53.61146806294108 and parameters: {'iterations': 3144, 'learning_rate': 0.08779518397559141, 'depth': 2, 'min_data_in_leaf': 73, 'l2_leaf_reg': 3, 'bagging_temperature': 0.5126984950230389, 'random_strength': 0.6556409400458487, 'border_count': 160, 'rsm': 0.2849848611222509}. Best is trial 0 with value: 51.61922475340231.\n"
     ]
    },
    {
     "name": "stdout",
     "output_type": "stream",
     "text": [
      "3143:\tlearn: 18.1811535\ttotal: 1m 4s\tremaining: 0us\n",
      "0:\tlearn: 69.2921052\ttotal: 50.3ms\tremaining: 2m 16s\n",
      "400:\tlearn: 29.8470681\ttotal: 18.9s\tremaining: 1m 49s\n",
      "800:\tlearn: 20.6342614\ttotal: 37.9s\tremaining: 1m 30s\n",
      "1200:\tlearn: 18.2365912\ttotal: 57.1s\tremaining: 1m 12s\n",
      "1600:\tlearn: 17.3705663\ttotal: 1m 16s\tremaining: 53.5s\n",
      "2000:\tlearn: 16.8028501\ttotal: 1m 35s\tremaining: 34.3s\n",
      "2400:\tlearn: 16.3334937\ttotal: 1m 54s\tremaining: 15.3s\n"
     ]
    },
    {
     "name": "stderr",
     "output_type": "stream",
     "text": [
      "[I 2023-11-11 08:38:08,671] Trial 3 finished with value: 51.21798717701078 and parameters: {'iterations': 2721, 'learning_rate': 0.0034564289907322923, 'depth': 9, 'min_data_in_leaf': 57, 'l2_leaf_reg': 3, 'bagging_temperature': 0.6236337597257187, 'random_strength': 0.7939176933471583, 'border_count': 537, 'rsm': 0.3974485101227929}. Best is trial 3 with value: 51.21798717701078.\n"
     ]
    },
    {
     "name": "stdout",
     "output_type": "stream",
     "text": [
      "2720:\tlearn: 15.9675289\ttotal: 2m 10s\tremaining: 0us\n",
      "0:\tlearn: 65.7095562\ttotal: 17.8ms\tremaining: 47.5s\n",
      "400:\tlearn: 18.1357372\ttotal: 9.08s\tremaining: 51.5s\n",
      "800:\tlearn: 16.6731535\ttotal: 18.7s\tremaining: 43.7s\n",
      "1200:\tlearn: 15.7377542\ttotal: 28.2s\tremaining: 34.6s\n",
      "1600:\tlearn: 15.0779551\ttotal: 38s\tremaining: 25.6s\n",
      "2000:\tlearn: 14.5350697\ttotal: 47.8s\tremaining: 16.1s\n",
      "2400:\tlearn: 14.0650632\ttotal: 57.6s\tremaining: 6.62s\n"
     ]
    },
    {
     "name": "stderr",
     "output_type": "stream",
     "text": [
      "[I 2023-11-11 08:39:13,636] Trial 4 finished with value: 53.3170944213525 and parameters: {'iterations': 2677, 'learning_rate': 0.08329840920474495, 'depth': 4, 'min_data_in_leaf': 98, 'l2_leaf_reg': 3, 'bagging_temperature': 0.6644671892277159, 'random_strength': 0.6298408356078586, 'border_count': 853, 'rsm': 0.4316600138110592}. Best is trial 3 with value: 51.21798717701078.\n"
     ]
    },
    {
     "name": "stdout",
     "output_type": "stream",
     "text": [
      "2676:\tlearn: 13.7469550\ttotal: 1m 4s\tremaining: 0us\n",
      "0:\tlearn: 68.1571426\ttotal: 33.9ms\tremaining: 1m 10s\n",
      "400:\tlearn: 18.3376790\ttotal: 12s\tremaining: 49.8s\n",
      "800:\tlearn: 16.8411852\ttotal: 24.4s\tremaining: 38.7s\n",
      "1200:\tlearn: 15.6438034\ttotal: 35.9s\tremaining: 26.1s\n",
      "1600:\tlearn: 14.7558591\ttotal: 47.3s\tremaining: 13.9s\n",
      "2000:\tlearn: 14.1104200\ttotal: 59.4s\tremaining: 2.14s\n"
     ]
    },
    {
     "name": "stderr",
     "output_type": "stream",
     "text": [
      "[I 2023-11-11 08:40:15,477] Trial 5 finished with value: 51.781136578294266 and parameters: {'iterations': 2073, 'learning_rate': 0.027475768133830555, 'depth': 6, 'min_data_in_leaf': 16, 'l2_leaf_reg': 7, 'bagging_temperature': 0.408327826016915, 'random_strength': 0.7597076195006005, 'border_count': 814, 'rsm': 0.3585290064429964}. Best is trial 3 with value: 51.21798717701078.\n"
     ]
    },
    {
     "name": "stdout",
     "output_type": "stream",
     "text": [
      "2072:\tlearn: 13.9812242\ttotal: 1m 1s\tremaining: 0us\n",
      "0:\tlearn: 69.4675960\ttotal: 14ms\tremaining: 14.8s\n",
      "400:\tlearn: 62.2217749\ttotal: 5.84s\tremaining: 9.66s\n",
      "800:\tlearn: 56.3947877\ttotal: 11.7s\tremaining: 3.85s\n"
     ]
    },
    {
     "name": "stderr",
     "output_type": "stream",
     "text": [
      "[I 2023-11-11 08:40:31,458] Trial 6 finished with value: 177.43874490808574 and parameters: {'iterations': 1064, 'learning_rate': 0.00152338724396836, 'depth': 1, 'min_data_in_leaf': 64, 'l2_leaf_reg': 4, 'bagging_temperature': 0.46082440198944324, 'random_strength': 0.8164814428310097, 'border_count': 508, 'rsm': 0.06290626488013214}. Best is trial 3 with value: 51.21798717701078.\n"
     ]
    },
    {
     "name": "stdout",
     "output_type": "stream",
     "text": [
      "1063:\tlearn: 52.7489057\ttotal: 15.8s\tremaining: 0us\n",
      "0:\tlearn: 69.3114467\ttotal: 83.6ms\tremaining: 2m 19s\n",
      "400:\tlearn: 34.3730138\ttotal: 41.4s\tremaining: 2m 11s\n",
      "800:\tlearn: 22.3288902\ttotal: 1m 23s\tremaining: 1m 31s\n",
      "1200:\tlearn: 18.4731441\ttotal: 2m 6s\tremaining: 50.2s\n",
      "1600:\tlearn: 16.7824567\ttotal: 2m 52s\tremaining: 8.06s\n",
      "1675:\tlearn: 16.5650828\ttotal: 3m\tremaining: 0us\n"
     ]
    },
    {
     "name": "stderr",
     "output_type": "stream",
     "text": [
      "[I 2023-11-11 08:43:32,505] Trial 7 finished with value: 52.53820149041374 and parameters: {'iterations': 1676, 'learning_rate': 0.00262436531793633, 'depth': 11, 'min_data_in_leaf': 33, 'l2_leaf_reg': 3, 'bagging_temperature': 0.4664851553017465, 'random_strength': 0.9861565785346675, 'border_count': 683, 'rsm': 0.5530304774514476}. Best is trial 3 with value: 51.21798717701078.\n"
     ]
    },
    {
     "name": "stdout",
     "output_type": "stream",
     "text": [
      "0:\tlearn: 66.8354985\ttotal: 19ms\tremaining: 21.9s\n",
      "400:\tlearn: 19.4331222\ttotal: 9.44s\tremaining: 17.8s\n",
      "800:\tlearn: 18.5074811\ttotal: 19.2s\tremaining: 8.58s\n"
     ]
    },
    {
     "name": "stderr",
     "output_type": "stream",
     "text": [
      "[I 2023-11-11 08:44:00,002] Trial 8 finished with value: 52.5344224139224 and parameters: {'iterations': 1158, 'learning_rate': 0.07201329697225572, 'depth': 3, 'min_data_in_leaf': 80, 'l2_leaf_reg': 6, 'bagging_temperature': 0.8763244105390795, 'random_strength': 0.5912327045889827, 'border_count': 73, 'rsm': 0.7540520137413443}. Best is trial 3 with value: 51.21798717701078.\n"
     ]
    },
    {
     "name": "stdout",
     "output_type": "stream",
     "text": [
      "1157:\tlearn: 18.0007569\ttotal: 27.3s\tremaining: 0us\n",
      "0:\tlearn: 67.4738965\ttotal: 23ms\tremaining: 34.5s\n",
      "400:\tlearn: 14.1766456\ttotal: 11.9s\tremaining: 32.7s\n",
      "800:\tlearn: 11.3617008\ttotal: 23.9s\tremaining: 20.8s\n",
      "1200:\tlearn: 9.5074544\ttotal: 36.2s\tremaining: 8.97s\n"
     ]
    },
    {
     "name": "stderr",
     "output_type": "stream",
     "text": [
      "[I 2023-11-11 08:44:45,548] Trial 9 finished with value: 52.58163616705161 and parameters: {'iterations': 1499, 'learning_rate': 0.04923308171574376, 'depth': 8, 'min_data_in_leaf': 98, 'l2_leaf_reg': 2, 'bagging_temperature': 0.6081396312283999, 'random_strength': 0.6946859571715414, 'border_count': 95, 'rsm': 0.7753608565860737}. Best is trial 3 with value: 51.21798717701078.\n"
     ]
    },
    {
     "name": "stdout",
     "output_type": "stream",
     "text": [
      "1498:\tlearn: 8.5694567\ttotal: 45.2s\tremaining: 0us\n",
      "0:\tlearn: 69.1214084\ttotal: 33.5ms\tremaining: 1m 29s\n",
      "400:\tlearn: 20.4781608\ttotal: 17.1s\tremaining: 1m 37s\n",
      "800:\tlearn: 16.4570287\ttotal: 34.3s\tremaining: 1m 20s\n",
      "1200:\tlearn: 15.0765816\ttotal: 56.8s\tremaining: 1m 9s\n",
      "1600:\tlearn: 14.0886780\ttotal: 1m 21s\tremaining: 54.7s\n",
      "2000:\tlearn: 13.1347211\ttotal: 1m 39s\tremaining: 33.8s\n",
      "2400:\tlearn: 12.1947648\ttotal: 1m 58s\tremaining: 13.7s\n",
      "2677:\tlearn: 11.6984747\ttotal: 2m 12s\tremaining: 0us\n"
     ]
    },
    {
     "name": "stderr",
     "output_type": "stream",
     "text": [
      "[I 2023-11-11 08:46:58,780] Trial 10 finished with value: 50.93136577721838 and parameters: {'iterations': 2678, 'learning_rate': 0.006288123719275324, 'depth': 10, 'min_data_in_leaf': 48, 'l2_leaf_reg': 10, 'bagging_temperature': 0.7589104593031024, 'random_strength': 0.44608116404729853, 'border_count': 281, 'rsm': 0.55398403369607}. Best is trial 10 with value: 50.93136577721838.\n"
     ]
    },
    {
     "name": "stdout",
     "output_type": "stream",
     "text": [
      "0:\tlearn: 69.1701358\ttotal: 53.4ms\tremaining: 2m 16s\n",
      "400:\tlearn: 21.9477793\ttotal: 20.9s\tremaining: 1m 52s\n",
      "800:\tlearn: 17.0550397\ttotal: 41.9s\tremaining: 1m 31s\n",
      "1200:\tlearn: 15.7286196\ttotal: 1m 4s\tremaining: 1m 12s\n",
      "1600:\tlearn: 14.7974296\ttotal: 1m 26s\tremaining: 51.4s\n",
      "2000:\tlearn: 13.9129363\ttotal: 1m 48s\tremaining: 29.9s\n",
      "2400:\tlearn: 13.0819340\ttotal: 2m 10s\tremaining: 8.33s\n",
      "2553:\tlearn: 12.7316446\ttotal: 2m 19s\tremaining: 0us\n"
     ]
    },
    {
     "name": "stderr",
     "output_type": "stream",
     "text": [
      "[I 2023-11-11 08:49:18,757] Trial 11 finished with value: 51.4355990320293 and parameters: {'iterations': 2554, 'learning_rate': 0.005449996393476758, 'depth': 10, 'min_data_in_leaf': 46, 'l2_leaf_reg': 10, 'bagging_temperature': 0.7516557492689095, 'random_strength': 0.4372424679772966, 'border_count': 354, 'rsm': 0.5723759174973126}. Best is trial 10 with value: 50.93136577721838.\n"
     ]
    },
    {
     "name": "stdout",
     "output_type": "stream",
     "text": [
      "0:\tlearn: 68.7768173\ttotal: 48.8ms\tremaining: 2m 46s\n",
      "400:\tlearn: 17.4817265\ttotal: 19.4s\tremaining: 2m 25s\n",
      "800:\tlearn: 15.5526864\ttotal: 39.4s\tremaining: 2m 8s\n",
      "1200:\tlearn: 14.1867015\ttotal: 59.5s\tremaining: 1m 49s\n",
      "1600:\tlearn: 12.9696139\ttotal: 1m 19s\tremaining: 1m 29s\n",
      "2000:\tlearn: 11.7862526\ttotal: 1m 39s\tremaining: 1m 10s\n",
      "2400:\tlearn: 10.8493967\ttotal: 2m\tremaining: 50.7s\n",
      "2800:\tlearn: 10.0856049\ttotal: 2m 20s\tremaining: 30.7s\n",
      "3200:\tlearn: 9.4328327\ttotal: 2m 41s\tremaining: 10.7s\n",
      "3412:\tlearn: 9.0112072\ttotal: 3m\tremaining: 0us\n"
     ]
    },
    {
     "name": "stderr",
     "output_type": "stream",
     "text": [
      "[I 2023-11-11 08:52:19,984] Trial 12 finished with value: 51.70252412644067 and parameters: {'iterations': 3413, 'learning_rate': 0.011785451205830492, 'depth': 9, 'min_data_in_leaf': 47, 'l2_leaf_reg': 10, 'bagging_temperature': 0.7820675235533736, 'random_strength': 0.3188999636065907, 'border_count': 294, 'rsm': 0.4648389640513674}. Best is trial 10 with value: 50.93136577721838.\n"
     ]
    },
    {
     "name": "stdout",
     "output_type": "stream",
     "text": [
      "0:\tlearn: 69.2739616\ttotal: 675ms\tremaining: 28m 59s\n",
      "400:\tlearn: 25.1525517\ttotal: 4m 37s\tremaining: 25m 5s\n",
      "800:\tlearn: 16.2599921\ttotal: 9m 14s\tremaining: 20m 29s\n",
      "1200:\tlearn: 13.4234099\ttotal: 13m 54s\tremaining: 15m 56s\n",
      "1600:\tlearn: 11.8951239\ttotal: 18m 57s\tremaining: 11m 34s\n",
      "2000:\tlearn: 10.8496756\ttotal: 24m 4s\tremaining: 6m 56s\n",
      "2400:\tlearn: 9.9871905\ttotal: 29m 8s\tremaining: 2m 8s\n",
      "2577:\tlearn: 9.5828475\ttotal: 31m 25s\tremaining: 0us\n"
     ]
    },
    {
     "name": "stderr",
     "output_type": "stream",
     "text": [
      "[I 2023-11-11 09:23:47,799] Trial 13 finished with value: 51.93016767060407 and parameters: {'iterations': 2578, 'learning_rate': 0.0038845662497108266, 'depth': 13, 'min_data_in_leaf': 28, 'l2_leaf_reg': 8, 'bagging_temperature': 0.625019549695535, 'random_strength': 0.5049297490421663, 'border_count': 987, 'rsm': 0.6124464442656238}. Best is trial 10 with value: 50.93136577721838.\n"
     ]
    },
    {
     "name": "stdout",
     "output_type": "stream",
     "text": [
      "0:\tlearn: 69.4155002\ttotal: 65.8ms\tremaining: 22.3s\n"
     ]
    },
    {
     "name": "stderr",
     "output_type": "stream",
     "text": [
      "[I 2023-11-11 09:24:05,608] Trial 14 finished with value: 183.62674491298944 and parameters: {'iterations': 340, 'learning_rate': 0.001156428366466753, 'depth': 6, 'min_data_in_leaf': 5, 'l2_leaf_reg': 5, 'bagging_temperature': 0.9965434481935553, 'random_strength': 0.5312172987202003, 'border_count': 336, 'rsm': 0.3999758382646914}. Best is trial 10 with value: 50.93136577721838.\n"
     ]
    },
    {
     "name": "stdout",
     "output_type": "stream",
     "text": [
      "339:\tlearn: 53.8926233\ttotal: 17.6s\tremaining: 0us\n",
      "0:\tlearn: 68.7966060\ttotal: 67.7ms\tremaining: 3m 15s\n",
      "400:\tlearn: 16.7937204\ttotal: 43.6s\tremaining: 4m 31s\n",
      "800:\tlearn: 14.6344491\ttotal: 1m 27s\tremaining: 3m 49s\n",
      "1200:\tlearn: 12.7500964\ttotal: 2m 12s\tremaining: 3m 6s\n",
      "1600:\tlearn: 11.3188212\ttotal: 2m 57s\tremaining: 2m 23s\n"
     ]
    }
   ],
   "source": [
    "#For location A\n",
    "def objective(trial, X_train, y_train):\n",
    "    params = {\n",
    "        \"iterations\": trial.suggest_int(\"iterations\", 300, 3500),\n",
    "        \"learning_rate\": trial.suggest_float(\"learning_rate\", 1e-3, 0.1, log=True),\n",
    "        \"depth\": trial.suggest_int(\"depth\", 1, 13),\n",
    "        \"min_data_in_leaf\": trial.suggest_int(\"min_data_in_leaf\", 1, 100),\n",
    "        \"l2_leaf_reg\": trial.suggest_int(\"l2_leaf_reg\", 2, 10),\n",
    "        \"bagging_temperature\": trial.suggest_float(\"bagging_temperature\", 0.3, 1.0),\n",
    "        \"random_strength\": trial.suggest_float(\"random_strength\", 0.3, 1.0),\n",
    "        \"border_count\": trial.suggest_int(\"border_count\", 1, 1000),\n",
    "        \"rsm\": trial.suggest_float(\"rsm\", 0.05, 1),\n",
    "        \"loss_function\" :\"LogCosh\"\n",
    "    }\n",
    "\n",
    "    catboost_model_c = CatBoostRegressor(**params, verbose=400)\n",
    "    catboost_model_c.fit(train_pool_c)\n",
    "    pred_c = pd.DataFrame(catboost_model_c.predict(test_pool_c))\n",
    "    MAE_c = mean_absolute_error(y_test_c, pred_c)\n",
    "    return MAE_c\n",
    "\n",
    "study = optuna.create_study(direction='minimize')\n",
    "study.optimize(lambda trial: objective(trial, X_train, y_train), n_trials=80)"
   ]
  },
  {
   "cell_type": "code",
   "execution_count": 7,
   "metadata": {},
   "outputs": [
    {
     "name": "stdout",
     "output_type": "stream",
     "text": [
      "{'iterations': 2004, 'learning_rate': 0.016429110886618033, 'depth': 8, 'colsample_bylevel': 0.7338575760364532, 'min_data_in_leaf': 90, 'l2_leaf_reg': 5, 'has-time': False, 'bagging_temperature': 0.6414768311294344, 'random_strength': 0.4206698081688342, 'border_count': 487, 'rsm': 0.012360675671015169, 'nan_mode': 'min'}\n",
      "57.13529571086957\n"
     ]
    }
   ],
   "source": [
    "#to output the best paramaters\n",
    "print(study.best_params)\n",
    "\n",
    "#to output the best score returned from the trials\n",
    "print(study.best_value)\n",
    "\n",
    "with open(\"optuna-best-parameters_c.txt\", \"w\") as file:\n",
    "    file.write(\"Best paramaters: \\n\")\n",
    "    file.write(json.dumps(study.best_params))  # Write the first string followed by a newline character\n",
    "    file.write(\"\\n\")\n",
    "    file.write(\"best score MAE: \\n\")\n",
    "    file.write(json.dumps(study.best_value))  # Write the second string followed by a newline character"
   ]
  },
  {
   "cell_type": "code",
   "execution_count": null,
   "metadata": {},
   "outputs": [],
   "source": []
  }
 ],
 "metadata": {
  "environment": {
   "kernel": "python3",
   "name": "common-cpu.m112",
   "type": "gcloud",
   "uri": "gcr.io/deeplearning-platform-release/base-cpu:m112"
  },
  "kernelspec": {
   "display_name": "Python 3",
   "language": "python",
   "name": "python3"
  },
  "language_info": {
   "codemirror_mode": {
    "name": "ipython",
    "version": 3
   },
   "file_extension": ".py",
   "mimetype": "text/x-python",
   "name": "python",
   "nbconvert_exporter": "python",
   "pygments_lexer": "ipython3",
   "version": "3.10.12"
  }
 },
 "nbformat": 4,
 "nbformat_minor": 4
}
