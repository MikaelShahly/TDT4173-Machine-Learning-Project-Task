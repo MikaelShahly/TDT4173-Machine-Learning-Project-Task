{
 "cells": [
  {
   "cell_type": "code",
   "execution_count": 6,
   "metadata": {},
   "outputs": [],
   "source": [
    "import pandas as pd\n",
    "import numpy as np\n",
    "from catboost import Pool, CatBoostRegressor\n",
    "from sklearn.model_selection import cross_val_score\n",
    "from sklearn.model_selection import TimeSeriesSplit \n",
    "import optuna \n",
    "import json\n",
    "from sklearn.metrics import mean_absolute_error"
   ]
  },
  {
   "cell_type": "code",
   "execution_count": 7,
   "metadata": {},
   "outputs": [],
   "source": [
    "#Load inn datasets\n",
    "X_test  = pd.read_parquet('../data/prepared_datasets/only_y_cleaned/X_test.parquet')\n",
    "X_train = pd.read_parquet('../data/prepared_datasets/only_y_cleaned/X_train.parquet')\n",
    "y_train = pd.read_parquet('../data/prepared_datasets/only_y_cleaned/Y_train.parquet')\n",
    "y_train_a = pd.read_parquet('../data/prepared_datasets/only_y_cleaned/Y_train_a.parquet')\n",
    "y_train_b = pd.read_parquet('../data/prepared_datasets/only_y_cleaned/Y_train_b.parquet')\n",
    "y_train_c = pd.read_parquet('../data/prepared_datasets/only_y_cleaned/Y_train_c.parquet')"
   ]
  },
  {
   "cell_type": "code",
   "execution_count": 8,
   "metadata": {},
   "outputs": [],
   "source": [
    "def test_train_split(df):\n",
    "    dates_2 = (df.index >= '2023-05-01') & (df.index <= '2023-06-15')\n",
    "    dates_1 = (df.index >= '2020-05-01') & (df.index <= '2020-06-25')\n",
    "\n",
    "    test_set = df[dates_1 | dates_2]\n",
    "\n",
    "    training_set = df[~(dates_1 | dates_2)]\n",
    "\n",
    "    X_train = training_set.drop(\"pv_measurement\", axis=1)\n",
    "    y_train = training_set['pv_measurement']\n",
    "\n",
    "    X_test = test_set.drop(\"pv_measurement\", axis=1)\n",
    "    y_test = test_set['pv_measurement'] \n",
    "\n",
    "    \n",
    "    \n",
    "    return X_train, X_test, y_train, y_test\n",
    "\n",
    "\n",
    "X_train_new_c, X_test_new_c, y_train_new_c, y_test_c = test_train_split(pd.concat([X_train[X_train[\"location\"] == \"C\"].drop(\"location\", axis=1), y_train_c], axis=1))"
   ]
  },
  {
   "cell_type": "code",
   "execution_count": 9,
   "metadata": {},
   "outputs": [],
   "source": [
    "#Create a pool of data\n",
    "\n",
    "train_pool_c = Pool(X_train_new_c, y_train_new_c)\n",
    "test_pool_c = Pool(X_test_new_c) "
   ]
  },
  {
   "cell_type": "code",
   "execution_count": 11,
   "metadata": {},
   "outputs": [
    {
     "name": "stderr",
     "output_type": "stream",
     "text": [
      "[I 2023-11-07 08:22:43,666] A new study created in memory with name: no-name-bc4633e0-9098-49f1-b819-3074929938af\n"
     ]
    },
    {
     "name": "stdout",
     "output_type": "stream",
     "text": [
      "0:\tlearn: 148.3129687\ttotal: 52.2ms\tremaining: 1m 4s\n",
      "100:\tlearn: 62.7742200\ttotal: 215ms\tremaining: 2.43s\n",
      "200:\tlearn: 61.1178012\ttotal: 374ms\tremaining: 1.94s\n",
      "300:\tlearn: 60.4596593\ttotal: 539ms\tremaining: 1.68s\n",
      "400:\tlearn: 60.0060718\ttotal: 693ms\tremaining: 1.45s\n",
      "500:\tlearn: 59.6728801\ttotal: 870ms\tremaining: 1.29s\n",
      "600:\tlearn: 59.4240480\ttotal: 1.04s\tremaining: 1.11s\n",
      "700:\tlearn: 59.2308958\ttotal: 1.2s\tremaining: 926ms\n",
      "800:\tlearn: 59.0696748\ttotal: 1.36s\tremaining: 751ms\n",
      "900:\tlearn: 58.9359081\ttotal: 1.52s\tremaining: 576ms\n",
      "1000:\tlearn: 58.8175569\ttotal: 1.68s\tremaining: 404ms\n",
      "1100:\tlearn: 58.7105760\ttotal: 1.86s\tremaining: 238ms\n"
     ]
    },
    {
     "name": "stderr",
     "output_type": "stream",
     "text": [
      "[I 2023-11-07 08:22:45,914] Trial 0 finished with value: 64.3517265556924 and parameters: {'iterations': 1242, 'learning_rate': 0.06201532080191678, 'depth': 1, 'min_data_in_leaf': 81, 'l2_leaf_reg': 5, 'bagging_temperature': 0.5635146379824496, 'random_strength': 0.745706042230049, 'border_count': 213, 'rsm': 0.3139915355130493}. Best is trial 0 with value: 64.3517265556924.\n"
     ]
    },
    {
     "name": "stdout",
     "output_type": "stream",
     "text": [
      "1200:\tlearn: 58.6162738\ttotal: 2.02s\tremaining: 68.9ms\n",
      "1241:\tlearn: 58.5797943\ttotal: 2.09s\tremaining: 0us\n",
      "0:\tlearn: 147.5637302\ttotal: 2.07ms\tremaining: 4.39s\n",
      "100:\tlearn: 61.3542992\ttotal: 225ms\tremaining: 4.49s\n",
      "200:\tlearn: 59.8816541\ttotal: 454ms\tremaining: 4.33s\n",
      "300:\tlearn: 59.2658054\ttotal: 678ms\tremaining: 4.09s\n",
      "400:\tlearn: 58.8943948\ttotal: 905ms\tremaining: 3.87s\n",
      "500:\tlearn: 58.6418225\ttotal: 1.14s\tremaining: 3.67s\n",
      "600:\tlearn: 58.4566293\ttotal: 1.37s\tremaining: 3.46s\n",
      "700:\tlearn: 58.3126311\ttotal: 1.61s\tremaining: 3.25s\n",
      "800:\tlearn: 58.1944180\ttotal: 1.84s\tremaining: 3.03s\n",
      "900:\tlearn: 58.0941441\ttotal: 2.06s\tremaining: 2.78s\n",
      "1000:\tlearn: 58.0065959\ttotal: 2.29s\tremaining: 2.56s\n",
      "1100:\tlearn: 57.9296966\ttotal: 2.55s\tremaining: 2.35s\n",
      "1200:\tlearn: 57.8603731\ttotal: 2.82s\tremaining: 2.15s\n",
      "1300:\tlearn: 57.7960537\ttotal: 3.07s\tremaining: 1.93s\n",
      "1400:\tlearn: 57.7362309\ttotal: 3.33s\tremaining: 1.71s\n",
      "1500:\tlearn: 57.6811730\ttotal: 3.58s\tremaining: 1.47s\n",
      "1600:\tlearn: 57.6295153\ttotal: 3.81s\tremaining: 1.23s\n",
      "1700:\tlearn: 57.5813097\ttotal: 4.04s\tremaining: 992ms\n",
      "1800:\tlearn: 57.5357523\ttotal: 4.29s\tremaining: 755ms\n",
      "1900:\tlearn: 57.4931096\ttotal: 4.56s\tremaining: 521ms\n",
      "2000:\tlearn: 57.4522578\ttotal: 4.79s\tremaining: 280ms\n"
     ]
    },
    {
     "name": "stderr",
     "output_type": "stream",
     "text": [
      "[I 2023-11-07 08:22:51,212] Trial 1 finished with value: 63.25269725360107 and parameters: {'iterations': 2118, 'learning_rate': 0.06157354611355663, 'depth': 1, 'min_data_in_leaf': 38, 'l2_leaf_reg': 2, 'bagging_temperature': 0.8748776332496979, 'random_strength': 0.35634717380032965, 'border_count': 737, 'rsm': 0.8918009107524033}. Best is trial 1 with value: 63.25269725360107.\n"
     ]
    },
    {
     "name": "stdout",
     "output_type": "stream",
     "text": [
      "2100:\tlearn: 57.4140212\ttotal: 5.03s\tremaining: 40.7ms\n",
      "2117:\tlearn: 57.4077763\ttotal: 5.07s\tremaining: 0us\n",
      "0:\tlearn: 141.9172500\ttotal: 5.08ms\tremaining: 4.53s\n",
      "100:\tlearn: 50.0075952\ttotal: 402ms\tremaining: 3.15s\n",
      "200:\tlearn: 46.1687925\ttotal: 787ms\tremaining: 2.71s\n",
      "300:\tlearn: 43.4404478\ttotal: 1.18s\tremaining: 2.31s\n",
      "400:\tlearn: 41.2788484\ttotal: 1.58s\tremaining: 1.93s\n",
      "500:\tlearn: 39.5689420\ttotal: 1.99s\tremaining: 1.55s\n",
      "600:\tlearn: 37.9946717\ttotal: 2.38s\tremaining: 1.15s\n",
      "700:\tlearn: 36.6180527\ttotal: 2.77s\tremaining: 753ms\n",
      "800:\tlearn: 35.4671007\ttotal: 3.15s\tremaining: 358ms\n"
     ]
    },
    {
     "name": "stderr",
     "output_type": "stream",
     "text": [
      "[I 2023-11-07 08:22:54,896] Trial 2 finished with value: 59.329436304299925 and parameters: {'iterations': 892, 'learning_rate': 0.09424554708088852, 'depth': 5, 'min_data_in_leaf': 60, 'l2_leaf_reg': 7, 'bagging_temperature': 0.35148807531720805, 'random_strength': 0.657098854539643, 'border_count': 13, 'rsm': 0.6066334409332005}. Best is trial 2 with value: 59.329436304299925.\n"
     ]
    },
    {
     "name": "stdout",
     "output_type": "stream",
     "text": [
      "891:\tlearn: 34.5519694\ttotal: 3.53s\tremaining: 0us\n",
      "0:\tlearn: 152.5704620\ttotal: 8.11ms\tremaining: 20.3s\n",
      "100:\tlearn: 113.2018551\ttotal: 475ms\tremaining: 11.3s\n",
      "200:\tlearn: 88.6203371\ttotal: 919ms\tremaining: 10.5s\n",
      "300:\tlearn: 73.7616930\ttotal: 1.4s\tremaining: 10.2s\n",
      "400:\tlearn: 65.0532862\ttotal: 1.84s\tremaining: 9.61s\n",
      "500:\tlearn: 59.9721512\ttotal: 2.29s\tremaining: 9.15s\n",
      "600:\tlearn: 57.0035180\ttotal: 2.73s\tremaining: 8.61s\n",
      "700:\tlearn: 55.1660888\ttotal: 3.17s\tremaining: 8.14s\n",
      "800:\tlearn: 53.9518391\ttotal: 3.63s\tremaining: 7.7s\n",
      "900:\tlearn: 53.1384884\ttotal: 4.08s\tremaining: 7.25s\n",
      "1000:\tlearn: 52.5580095\ttotal: 4.53s\tremaining: 6.78s\n",
      "1100:\tlearn: 52.1145079\ttotal: 4.96s\tremaining: 6.3s\n",
      "1200:\tlearn: 51.7570014\ttotal: 5.42s\tremaining: 5.86s\n",
      "1300:\tlearn: 51.4593234\ttotal: 5.85s\tremaining: 5.39s\n",
      "1400:\tlearn: 51.1802160\ttotal: 6.29s\tremaining: 4.93s\n",
      "1500:\tlearn: 50.9009248\ttotal: 6.78s\tremaining: 4.51s\n",
      "1600:\tlearn: 50.6430197\ttotal: 7.25s\tremaining: 4.07s\n",
      "1700:\tlearn: 50.3903908\ttotal: 7.73s\tremaining: 3.63s\n",
      "1800:\tlearn: 50.1515527\ttotal: 8.22s\tremaining: 3.19s\n",
      "1900:\tlearn: 49.9177323\ttotal: 8.68s\tremaining: 2.73s\n",
      "2000:\tlearn: 49.7003077\ttotal: 9.17s\tremaining: 2.28s\n",
      "2100:\tlearn: 49.4772211\ttotal: 9.67s\tremaining: 1.83s\n",
      "2200:\tlearn: 49.2872929\ttotal: 10.1s\tremaining: 1.37s\n",
      "2300:\tlearn: 49.0984457\ttotal: 10.6s\tremaining: 908ms\n",
      "2400:\tlearn: 48.9078765\ttotal: 11s\tremaining: 448ms\n"
     ]
    },
    {
     "name": "stderr",
     "output_type": "stream",
     "text": [
      "[I 2023-11-07 08:23:06,689] Trial 3 finished with value: 58.610573836858315 and parameters: {'iterations': 2499, 'learning_rate': 0.004142062573454497, 'depth': 5, 'min_data_in_leaf': 81, 'l2_leaf_reg': 9, 'bagging_temperature': 0.4717746960921796, 'random_strength': 0.4508297755247892, 'border_count': 572, 'rsm': 0.2921672939893029}. Best is trial 3 with value: 58.610573836858315.\n"
     ]
    },
    {
     "name": "stdout",
     "output_type": "stream",
     "text": [
      "2498:\tlearn: 48.7374706\ttotal: 11.4s\tremaining: 0us\n",
      "0:\tlearn: 149.7559354\ttotal: 10.5ms\tremaining: 14.2s\n",
      "100:\tlearn: 54.8295646\ttotal: 1.09s\tremaining: 13.6s\n",
      "200:\tlearn: 50.3736013\ttotal: 2.17s\tremaining: 12.5s\n",
      "300:\tlearn: 48.5212409\ttotal: 3.23s\tremaining: 11.4s\n",
      "400:\tlearn: 46.9419696\ttotal: 4.31s\tremaining: 10.3s\n",
      "500:\tlearn: 45.5503926\ttotal: 5.4s\tremaining: 9.27s\n",
      "600:\tlearn: 44.2273217\ttotal: 6.45s\tremaining: 8.16s\n",
      "700:\tlearn: 43.0013295\ttotal: 8.05s\tremaining: 7.58s\n",
      "800:\tlearn: 41.9418501\ttotal: 9.84s\tremaining: 6.88s\n",
      "900:\tlearn: 40.9645210\ttotal: 11.8s\tremaining: 6.02s\n",
      "1000:\tlearn: 40.0433326\ttotal: 13.9s\tremaining: 4.98s\n",
      "1100:\tlearn: 39.1807188\ttotal: 15.7s\tremaining: 3.71s\n",
      "1200:\tlearn: 38.3692515\ttotal: 18s\tremaining: 2.4s\n",
      "1300:\tlearn: 37.6306454\ttotal: 20s\tremaining: 920ms\n"
     ]
    },
    {
     "name": "stderr",
     "output_type": "stream",
     "text": [
      "[I 2023-11-07 08:23:27,811] Trial 4 finished with value: 57.54997966127525 and parameters: {'iterations': 1361, 'learning_rate': 0.028717971147597568, 'depth': 6, 'min_data_in_leaf': 16, 'l2_leaf_reg': 4, 'bagging_temperature': 0.5398937691470437, 'random_strength': 0.7422271343705484, 'border_count': 835, 'rsm': 0.11987584003869335}. Best is trial 4 with value: 57.54997966127525.\n"
     ]
    },
    {
     "name": "stdout",
     "output_type": "stream",
     "text": [
      "1360:\tlearn: 37.2084178\ttotal: 20.8s\tremaining: 0us\n",
      "0:\tlearn: 151.9381060\ttotal: 59.7ms\tremaining: 40s\n",
      "100:\tlearn: 81.1139756\ttotal: 4.83s\tremaining: 27.3s\n",
      "200:\tlearn: 57.9732314\ttotal: 9.49s\tremaining: 22.2s\n",
      "300:\tlearn: 50.7681489\ttotal: 14s\tremaining: 17.2s\n",
      "400:\tlearn: 47.8496542\ttotal: 18.7s\tremaining: 12.7s\n",
      "500:\tlearn: 46.0198639\ttotal: 23.4s\tremaining: 7.98s\n",
      "600:\tlearn: 44.7095807\ttotal: 28.1s\tremaining: 3.32s\n"
     ]
    },
    {
     "name": "stderr",
     "output_type": "stream",
     "text": [
      "[I 2023-11-07 08:24:00,913] Trial 5 finished with value: 58.32216755579324 and parameters: {'iterations': 672, 'learning_rate': 0.009140719329346406, 'depth': 9, 'min_data_in_leaf': 75, 'l2_leaf_reg': 4, 'bagging_temperature': 0.7670222333315332, 'random_strength': 0.47252807003195874, 'border_count': 203, 'rsm': 0.5477945684374654}. Best is trial 4 with value: 57.54997966127525.\n"
     ]
    },
    {
     "name": "stdout",
     "output_type": "stream",
     "text": [
      "671:\tlearn: 43.9156982\ttotal: 32.9s\tremaining: 0us\n",
      "0:\tlearn: 152.6486525\ttotal: 39.7ms\tremaining: 33.7s\n",
      "100:\tlearn: 117.9603221\ttotal: 3.69s\tremaining: 27.4s\n",
      "200:\tlearn: 94.2277565\ttotal: 6.88s\tremaining: 22.2s\n",
      "300:\tlearn: 78.4329259\ttotal: 10.3s\tremaining: 18.8s\n",
      "400:\tlearn: 68.1242600\ttotal: 13.4s\tremaining: 15s\n",
      "500:\tlearn: 61.5540492\ttotal: 17s\tremaining: 11.8s\n",
      "600:\tlearn: 57.3713930\ttotal: 20.1s\tremaining: 8.33s\n",
      "700:\tlearn: 54.6868011\ttotal: 23.4s\tremaining: 4.98s\n",
      "800:\tlearn: 52.8910559\ttotal: 27s\tremaining: 1.65s\n"
     ]
    },
    {
     "name": "stderr",
     "output_type": "stream",
     "text": [
      "[I 2023-11-07 08:24:29,607] Trial 6 finished with value: 66.67036817965538 and parameters: {'iterations': 850, 'learning_rate': 0.0034147502321258787, 'depth': 8, 'min_data_in_leaf': 67, 'l2_leaf_reg': 7, 'bagging_temperature': 0.3584276089586249, 'random_strength': 0.8417814679099291, 'border_count': 92, 'rsm': 0.5244900994042023}. Best is trial 4 with value: 57.54997966127525.\n"
     ]
    },
    {
     "name": "stdout",
     "output_type": "stream",
     "text": [
      "849:\tlearn: 52.2120992\ttotal: 28.4s\tremaining: 0us\n",
      "0:\tlearn: 151.0327909\ttotal: 2.96ms\tremaining: 6.18s\n",
      "100:\tlearn: 67.1697434\ttotal: 674ms\tremaining: 13.3s\n",
      "200:\tlearn: 56.1659844\ttotal: 1.29s\tremaining: 12.2s\n",
      "300:\tlearn: 53.7831939\ttotal: 1.99s\tremaining: 11.9s\n",
      "400:\tlearn: 52.4933303\ttotal: 2.62s\tremaining: 11.1s\n",
      "500:\tlearn: 51.5793648\ttotal: 3.25s\tremaining: 10.3s\n",
      "600:\tlearn: 50.8177932\ttotal: 3.94s\tremaining: 9.78s\n",
      "700:\tlearn: 50.2073178\ttotal: 4.56s\tremaining: 9.05s\n",
      "800:\tlearn: 49.6505188\ttotal: 5.42s\tremaining: 8.73s\n",
      "900:\tlearn: 49.1301064\ttotal: 6.18s\tremaining: 8.18s\n",
      "1000:\tlearn: 48.6694423\ttotal: 6.91s\tremaining: 7.54s\n",
      "1100:\tlearn: 48.2881159\ttotal: 7.71s\tremaining: 6.94s\n",
      "1200:\tlearn: 47.8998863\ttotal: 8.43s\tremaining: 6.25s\n",
      "1300:\tlearn: 47.5373464\ttotal: 9.06s\tremaining: 5.51s\n",
      "1400:\tlearn: 47.1381087\ttotal: 10s\tremaining: 4.93s\n",
      "1500:\tlearn: 46.7760072\ttotal: 10.8s\tremaining: 4.25s\n",
      "1600:\tlearn: 46.4087265\ttotal: 11.6s\tremaining: 3.56s\n",
      "1700:\tlearn: 46.0358158\ttotal: 12.3s\tremaining: 2.82s\n",
      "1800:\tlearn: 45.7286446\ttotal: 12.8s\tremaining: 2.06s\n",
      "1900:\tlearn: 45.4309991\ttotal: 13.5s\tremaining: 1.35s\n",
      "2000:\tlearn: 45.1396738\ttotal: 14.3s\tremaining: 649ms\n"
     ]
    },
    {
     "name": "stderr",
     "output_type": "stream",
     "text": [
      "[I 2023-11-07 08:24:44,969] Trial 7 finished with value: 57.40087455594298 and parameters: {'iterations': 2092, 'learning_rate': 0.01751865256934772, 'depth': 4, 'min_data_in_leaf': 45, 'l2_leaf_reg': 7, 'bagging_temperature': 0.6150944819965547, 'random_strength': 0.7168237276441378, 'border_count': 856, 'rsm': 0.15117346690115724}. Best is trial 7 with value: 57.40087455594298.\n"
     ]
    },
    {
     "name": "stdout",
     "output_type": "stream",
     "text": [
      "2091:\tlearn: 44.8662787\ttotal: 14.9s\tremaining: 0us\n",
      "0:\tlearn: 152.6507550\ttotal: 22.3ms\tremaining: 8.93s\n",
      "100:\tlearn: 119.4307136\ttotal: 671ms\tremaining: 2s\n",
      "200:\tlearn: 97.2904558\ttotal: 1.31s\tremaining: 1.31s\n",
      "300:\tlearn: 83.0335293\ttotal: 1.86s\tremaining: 624ms\n"
     ]
    },
    {
     "name": "stderr",
     "output_type": "stream",
     "text": [
      "[I 2023-11-07 08:24:47,559] Trial 8 finished with value: 99.83501004776625 and parameters: {'iterations': 402, 'learning_rate': 0.00382464117393142, 'depth': 2, 'min_data_in_leaf': 86, 'l2_leaf_reg': 2, 'bagging_temperature': 0.7866701110558338, 'random_strength': 0.37346225605152006, 'border_count': 683, 'rsm': 0.7934924968106248}. Best is trial 7 with value: 57.40087455594298.\n"
     ]
    },
    {
     "name": "stdout",
     "output_type": "stream",
     "text": [
      "400:\tlearn: 74.1054522\ttotal: 2.44s\tremaining: 6.08ms\n",
      "401:\tlearn: 74.0365679\ttotal: 2.44s\tremaining: 0us\n",
      "0:\tlearn: 151.3981129\ttotal: 7.82ms\tremaining: 15.2s\n",
      "100:\tlearn: 71.7722835\ttotal: 862ms\tremaining: 15.7s\n",
      "200:\tlearn: 58.4721393\ttotal: 1.82s\tremaining: 15.8s\n",
      "300:\tlearn: 55.6495001\ttotal: 2.63s\tremaining: 14.3s\n",
      "400:\tlearn: 54.2507084\ttotal: 3.6s\tremaining: 13.8s\n",
      "500:\tlearn: 53.3072608\ttotal: 4.59s\tremaining: 13.2s\n",
      "600:\tlearn: 52.5449910\ttotal: 5.5s\tremaining: 12.2s\n",
      "700:\tlearn: 51.8815288\ttotal: 6.45s\tremaining: 11.4s\n",
      "800:\tlearn: 51.3323674\ttotal: 7.44s\tremaining: 10.6s\n",
      "900:\tlearn: 50.8410549\ttotal: 8.25s\tremaining: 9.51s\n",
      "1000:\tlearn: 50.3274393\ttotal: 9.24s\tremaining: 8.66s\n",
      "1100:\tlearn: 49.8792977\ttotal: 10.1s\tremaining: 7.71s\n",
      "1200:\tlearn: 49.4849559\ttotal: 10.9s\tremaining: 6.73s\n",
      "1300:\tlearn: 49.1137949\ttotal: 11.9s\tremaining: 5.82s\n",
      "1400:\tlearn: 48.7569800\ttotal: 12.8s\tremaining: 4.9s\n",
      "1500:\tlearn: 48.4251068\ttotal: 13.8s\tremaining: 4.01s\n",
      "1600:\tlearn: 48.1007626\ttotal: 15s\tremaining: 3.17s\n",
      "1700:\tlearn: 47.7847856\ttotal: 16.1s\tremaining: 2.25s\n",
      "1800:\tlearn: 47.5030227\ttotal: 17.2s\tremaining: 1.31s\n",
      "1900:\tlearn: 47.2256648\ttotal: 18.1s\tremaining: 363ms\n"
     ]
    },
    {
     "name": "stderr",
     "output_type": "stream",
     "text": [
      "[I 2023-11-07 08:25:06,437] Trial 9 finished with value: 58.54010809409836 and parameters: {'iterations': 1939, 'learning_rate': 0.014539831846570822, 'depth': 3, 'min_data_in_leaf': 62, 'l2_leaf_reg': 2, 'bagging_temperature': 0.8892340798413421, 'random_strength': 0.8712761986461355, 'border_count': 924, 'rsm': 0.7354851384659408}. Best is trial 7 with value: 57.40087455594298.\n"
     ]
    },
    {
     "name": "stdout",
     "output_type": "stream",
     "text": [
      "1938:\tlearn: 47.1077743\ttotal: 18.5s\tremaining: 0us\n",
      "0:\tlearn: 152.9444059\ttotal: 21.4ms\tremaining: 1m 3s\n",
      "100:\tlearn: 143.2066134\ttotal: 2.48s\tremaining: 1m 10s\n",
      "200:\tlearn: 133.4863911\ttotal: 5.21s\tremaining: 1m 12s\n",
      "300:\tlearn: 125.3691737\ttotal: 7.88s\tremaining: 1m 10s\n",
      "400:\tlearn: 117.6287067\ttotal: 10.5s\tremaining: 1m 7s\n",
      "500:\tlearn: 110.7705818\ttotal: 13.1s\tremaining: 1m 5s\n",
      "600:\tlearn: 105.0885010\ttotal: 15.4s\tremaining: 1m 1s\n",
      "700:\tlearn: 99.1256432\ttotal: 18.5s\tremaining: 1m\n",
      "800:\tlearn: 94.3389028\ttotal: 21.7s\tremaining: 59.1s\n",
      "900:\tlearn: 89.8710130\ttotal: 24.5s\tremaining: 56.8s\n",
      "1000:\tlearn: 86.1356347\ttotal: 26.9s\tremaining: 53.4s\n",
      "1100:\tlearn: 82.3774612\ttotal: 29.5s\tremaining: 50.6s\n",
      "1200:\tlearn: 79.0534803\ttotal: 32.6s\tremaining: 48.5s\n",
      "1300:\tlearn: 76.2125833\ttotal: 35.3s\tremaining: 45.7s\n",
      "1400:\tlearn: 73.5591596\ttotal: 38.1s\tremaining: 43.1s\n",
      "1500:\tlearn: 71.1183713\ttotal: 41.3s\tremaining: 40.9s\n",
      "1600:\tlearn: 68.9521353\ttotal: 44s\tremaining: 38.1s\n",
      "1700:\tlearn: 67.0576834\ttotal: 46.6s\tremaining: 35.2s\n",
      "1800:\tlearn: 65.3517110\ttotal: 49.7s\tremaining: 32.7s\n",
      "1900:\tlearn: 63.9797200\ttotal: 52.3s\tremaining: 29.8s\n",
      "2000:\tlearn: 62.7111916\ttotal: 54.8s\tremaining: 27s\n",
      "2100:\tlearn: 61.5424423\ttotal: 58.3s\tremaining: 24.6s\n",
      "2200:\tlearn: 60.5239883\ttotal: 1m\tremaining: 21.7s\n",
      "2300:\tlearn: 59.5449810\ttotal: 1m 3s\tremaining: 18.9s\n",
      "2400:\tlearn: 58.6937904\ttotal: 1m 6s\tremaining: 16.1s\n",
      "2500:\tlearn: 57.9883556\ttotal: 1m 8s\tremaining: 13.3s\n",
      "2600:\tlearn: 57.2946800\ttotal: 1m 11s\tremaining: 10.6s\n",
      "2700:\tlearn: 56.6973466\ttotal: 1m 14s\tremaining: 7.84s\n",
      "2800:\tlearn: 56.1587440\ttotal: 1m 16s\tremaining: 5.05s\n",
      "2900:\tlearn: 55.6623471\ttotal: 1m 18s\tremaining: 2.3s\n",
      "2985:\tlearn: 55.2258048\ttotal: 1m 21s\tremaining: 0us\n"
     ]
    },
    {
     "name": "stderr",
     "output_type": "stream",
     "text": [
      "[I 2023-11-07 08:26:28,489] Trial 10 finished with value: 73.4676639601052 and parameters: {'iterations': 2986, 'learning_rate': 0.0011276247605619245, 'depth': 10, 'min_data_in_leaf': 38, 'l2_leaf_reg': 10, 'bagging_temperature': 0.6571882703633342, 'random_strength': 0.9944820745096563, 'border_count': 987, 'rsm': 0.060849268939945356}. Best is trial 7 with value: 57.40087455594298.\n"
     ]
    },
    {
     "name": "stdout",
     "output_type": "stream",
     "text": [
      "0:\tlearn: 149.8325109\ttotal: 255ms\tremaining: 6m 20s\n",
      "100:\tlearn: 51.1076065\ttotal: 18.4s\tremaining: 4m 13s\n",
      "200:\tlearn: 42.7159977\ttotal: 38.5s\tremaining: 4m 7s\n",
      "300:\tlearn: 38.2723299\ttotal: 55.7s\tremaining: 3m 40s\n",
      "400:\tlearn: 35.0642596\ttotal: 1m 13s\tremaining: 3m 20s\n",
      "500:\tlearn: 31.9058123\ttotal: 1m 33s\tremaining: 3m 6s\n",
      "600:\tlearn: 29.5365437\ttotal: 1m 53s\tremaining: 2m 48s\n",
      "700:\tlearn: 27.6203376\ttotal: 2m 10s\tremaining: 2m 27s\n",
      "800:\tlearn: 25.7381254\ttotal: 2m 27s\tremaining: 2m 7s\n",
      "900:\tlearn: 24.0390010\ttotal: 2m 46s\tremaining: 1m 49s\n",
      "1000:\tlearn: 22.5785236\ttotal: 3m 5s\tremaining: 1m 31s\n",
      "1100:\tlearn: 21.2523142\ttotal: 3m 22s\tremaining: 1m 12s\n",
      "1200:\tlearn: 19.9722742\ttotal: 3m 42s\tremaining: 54.2s\n",
      "1300:\tlearn: 18.7659617\ttotal: 4m 1s\tremaining: 35.9s\n",
      "1400:\tlearn: 17.7849118\ttotal: 4m 20s\tremaining: 17.3s\n",
      "1493:\tlearn: 16.9679984\ttotal: 4m 37s\tremaining: 0us\n"
     ]
    },
    {
     "name": "stderr",
     "output_type": "stream",
     "text": [
      "[I 2023-11-07 08:31:07,775] Trial 11 finished with value: 59.12691161315615 and parameters: {'iterations': 1494, 'learning_rate': 0.02766240051431312, 'depth': 13, 'min_data_in_leaf': 6, 'l2_leaf_reg': 5, 'bagging_temperature': 0.5898587318014086, 'random_strength': 0.6081723809957673, 'border_count': 796, 'rsm': 0.08290966760006216}. Best is trial 7 with value: 57.40087455594298.\n"
     ]
    },
    {
     "name": "stdout",
     "output_type": "stream",
     "text": [
      "0:\tlearn: 150.0498943\ttotal: 7.5ms\tremaining: 13.9s\n",
      "100:\tlearn: 56.9532246\ttotal: 1.2s\tremaining: 20.8s\n",
      "200:\tlearn: 52.0426137\ttotal: 2.51s\tremaining: 20.6s\n",
      "300:\tlearn: 50.3257043\ttotal: 3.77s\tremaining: 19.4s\n",
      "400:\tlearn: 49.0348573\ttotal: 4.95s\tremaining: 17.9s\n",
      "500:\tlearn: 48.1726170\ttotal: 6.11s\tremaining: 16.5s\n",
      "600:\tlearn: 47.2664176\ttotal: 7.34s\tremaining: 15.3s\n",
      "700:\tlearn: 46.4214135\ttotal: 8.48s\tremaining: 13.9s\n",
      "800:\tlearn: 45.6805409\ttotal: 9.72s\tremaining: 12.7s\n",
      "900:\tlearn: 44.9894823\ttotal: 10.9s\tremaining: 11.5s\n",
      "1000:\tlearn: 44.3525284\ttotal: 12.3s\tremaining: 10.5s\n",
      "1100:\tlearn: 43.6989981\ttotal: 13.4s\tremaining: 9.15s\n",
      "1200:\tlearn: 43.0477950\ttotal: 14.9s\tremaining: 8.07s\n",
      "1300:\tlearn: 42.4579717\ttotal: 16s\tremaining: 6.77s\n",
      "1400:\tlearn: 41.9021945\ttotal: 17.2s\tremaining: 5.53s\n",
      "1500:\tlearn: 41.3628269\ttotal: 18.6s\tremaining: 4.33s\n",
      "1600:\tlearn: 40.7831767\ttotal: 19.8s\tremaining: 3.09s\n",
      "1700:\tlearn: 40.2287603\ttotal: 21.1s\tremaining: 1.86s\n",
      "1800:\tlearn: 39.7115656\ttotal: 22.2s\tremaining: 618ms\n"
     ]
    },
    {
     "name": "stderr",
     "output_type": "stream",
     "text": [
      "[I 2023-11-07 08:31:31,005] Trial 12 finished with value: 57.87142249658854 and parameters: {'iterations': 1851, 'learning_rate': 0.02565420822451842, 'depth': 5, 'min_data_in_leaf': 10, 'l2_leaf_reg': 8, 'bagging_temperature': 0.4872207574513965, 'random_strength': 0.6617593222858986, 'border_count': 859, 'rsm': 0.2131063396728875}. Best is trial 7 with value: 57.40087455594298.\n"
     ]
    },
    {
     "name": "stdout",
     "output_type": "stream",
     "text": [
      "1850:\tlearn: 39.5029057\ttotal: 22.7s\tremaining: 0us\n",
      "0:\tlearn: 149.6854975\ttotal: 4.74ms\tremaining: 11s\n",
      "100:\tlearn: 54.2589831\ttotal: 1.6s\tremaining: 35.3s\n",
      "200:\tlearn: 49.8708511\ttotal: 3.3s\tremaining: 34.9s\n",
      "300:\tlearn: 47.9286515\ttotal: 4.75s\tremaining: 32s\n",
      "400:\tlearn: 46.3682164\ttotal: 6.57s\tremaining: 31.5s\n",
      "500:\tlearn: 44.8858892\ttotal: 8.26s\tremaining: 30.1s\n",
      "600:\tlearn: 43.3884305\ttotal: 9.76s\tremaining: 28s\n",
      "700:\tlearn: 42.0490884\ttotal: 11.4s\tremaining: 26.5s\n",
      "800:\tlearn: 40.8792015\ttotal: 13.2s\tremaining: 25.1s\n",
      "900:\tlearn: 39.7687619\ttotal: 14.7s\tremaining: 23.3s\n",
      "1000:\tlearn: 38.7651011\ttotal: 15.9s\tremaining: 21.1s\n",
      "1100:\tlearn: 37.8457121\ttotal: 17.6s\tremaining: 19.6s\n",
      "1200:\tlearn: 36.9810409\ttotal: 19.1s\tremaining: 17.9s\n",
      "1300:\tlearn: 36.1929635\ttotal: 20.8s\tremaining: 16.4s\n",
      "1400:\tlearn: 35.4292335\ttotal: 22.2s\tremaining: 14.6s\n",
      "1500:\tlearn: 34.7834652\ttotal: 23.9s\tremaining: 13.1s\n",
      "1600:\tlearn: 34.1297855\ttotal: 25.6s\tremaining: 11.6s\n",
      "1700:\tlearn: 33.5049782\ttotal: 27s\tremaining: 9.93s\n",
      "1800:\tlearn: 32.8830897\ttotal: 28.6s\tremaining: 8.34s\n",
      "1900:\tlearn: 32.2470799\ttotal: 30.4s\tremaining: 6.79s\n",
      "2000:\tlearn: 31.6626766\ttotal: 32.6s\tremaining: 5.29s\n",
      "2100:\tlearn: 31.1378400\ttotal: 34.2s\tremaining: 3.67s\n",
      "2200:\tlearn: 30.5619124\ttotal: 35.7s\tremaining: 2.02s\n",
      "2300:\tlearn: 30.0830036\ttotal: 37.2s\tremaining: 404ms\n"
     ]
    },
    {
     "name": "stderr",
     "output_type": "stream",
     "text": [
      "[I 2023-11-07 08:32:09,088] Trial 13 finished with value: 57.77400287181307 and parameters: {'iterations': 2326, 'learning_rate': 0.02842135771955655, 'depth': 6, 'min_data_in_leaf': 23, 'l2_leaf_reg': 4, 'bagging_temperature': 0.6844529319615135, 'random_strength': 0.7599554003635234, 'border_count': 457, 'rsm': 0.20143846543486033}. Best is trial 7 with value: 57.40087455594298.\n"
     ]
    },
    {
     "name": "stdout",
     "output_type": "stream",
     "text": [
      "2325:\tlearn: 29.9467853\ttotal: 37.5s\tremaining: 0us\n",
      "0:\tlearn: 151.4191983\ttotal: 3.95ms\tremaining: 5.61s\n",
      "100:\tlearn: 72.7337535\ttotal: 679ms\tremaining: 8.86s\n",
      "200:\tlearn: 58.9864999\ttotal: 1.28s\tremaining: 7.75s\n",
      "300:\tlearn: 56.0093427\ttotal: 1.78s\tremaining: 6.6s\n",
      "400:\tlearn: 54.5114021\ttotal: 2.39s\tremaining: 6.07s\n",
      "500:\tlearn: 53.6302659\ttotal: 3.04s\tremaining: 5.58s\n",
      "600:\tlearn: 52.9126828\ttotal: 3.69s\tremaining: 5.02s\n",
      "700:\tlearn: 52.2793538\ttotal: 4.36s\tremaining: 4.47s\n",
      "800:\tlearn: 51.7860861\ttotal: 4.83s\tremaining: 3.73s\n",
      "900:\tlearn: 51.3319888\ttotal: 5.21s\tremaining: 3s\n",
      "1000:\tlearn: 50.8897525\ttotal: 5.74s\tremaining: 2.4s\n",
      "1100:\tlearn: 50.4650474\ttotal: 6.49s\tremaining: 1.88s\n",
      "1200:\tlearn: 50.0675873\ttotal: 7.12s\tremaining: 1.29s\n",
      "1300:\tlearn: 49.7066341\ttotal: 7.73s\tremaining: 701ms\n",
      "1400:\tlearn: 49.3754634\ttotal: 8.29s\tremaining: 107ms\n",
      "1418:\tlearn: 49.3162310\ttotal: 8.45s\tremaining: 0us\n"
     ]
    },
    {
     "name": "stderr",
     "output_type": "stream",
     "text": [
      "[I 2023-11-07 08:32:17,914] Trial 14 finished with value: 59.14689935345095 and parameters: {'iterations': 1419, 'learning_rate': 0.014394761203169414, 'depth': 3, 'min_data_in_leaf': 40, 'l2_leaf_reg': 6, 'bagging_temperature': 0.9612636389572771, 'random_strength': 0.5585646103973041, 'border_count': 459, 'rsm': 0.3930656376258379}. Best is trial 7 with value: 57.40087455594298.\n"
     ]
    },
    {
     "name": "stdout",
     "output_type": "stream",
     "text": [
      "0:\tlearn: 148.4585766\ttotal: 24.8ms\tremaining: 1m 4s\n",
      "100:\tlearn: 51.1999203\ttotal: 3.08s\tremaining: 1m 16s\n",
      "200:\tlearn: 47.5397619\ttotal: 6.47s\tremaining: 1m 17s\n",
      "300:\tlearn: 45.0249775\ttotal: 9.29s\tremaining: 1m 11s\n",
      "400:\tlearn: 42.9933241\ttotal: 12.5s\tremaining: 1m 8s\n",
      "500:\tlearn: 41.0583443\ttotal: 15.2s\tremaining: 1m 3s\n",
      "600:\tlearn: 39.3205685\ttotal: 17.9s\tremaining: 59.9s\n",
      "700:\tlearn: 37.7771761\ttotal: 21.3s\tremaining: 58.1s\n",
      "800:\tlearn: 36.3670133\ttotal: 24.4s\tremaining: 55s\n",
      "900:\tlearn: 35.0333807\ttotal: 27.7s\tremaining: 52.6s\n",
      "1000:\tlearn: 33.8963714\ttotal: 31.1s\tremaining: 50s\n",
      "1100:\tlearn: 32.8292368\ttotal: 34.3s\tremaining: 47s\n",
      "1200:\tlearn: 31.8747477\ttotal: 37.5s\tremaining: 44s\n",
      "1300:\tlearn: 30.8975880\ttotal: 40.9s\tremaining: 41.1s\n",
      "1400:\tlearn: 30.0118823\ttotal: 44.5s\tremaining: 38.4s\n",
      "1500:\tlearn: 29.2374499\ttotal: 48.3s\tremaining: 35.7s\n",
      "1600:\tlearn: 28.4779826\ttotal: 51.7s\tremaining: 32.5s\n",
      "1700:\tlearn: 27.7518236\ttotal: 55.1s\tremaining: 29.4s\n",
      "1800:\tlearn: 27.0800634\ttotal: 58.2s\tremaining: 26.1s\n",
      "1900:\tlearn: 26.4075467\ttotal: 1m 1s\tremaining: 23s\n",
      "2000:\tlearn: 25.8210475\ttotal: 1m 5s\tremaining: 19.8s\n",
      "2100:\tlearn: 25.2403421\ttotal: 1m 8s\tremaining: 16.5s\n",
      "2200:\tlearn: 24.6848446\ttotal: 1m 11s\tremaining: 13.3s\n",
      "2300:\tlearn: 24.1407640\ttotal: 1m 15s\tremaining: 10.1s\n",
      "2400:\tlearn: 23.6402498\ttotal: 1m 18s\tremaining: 6.84s\n",
      "2500:\tlearn: 23.1278974\ttotal: 1m 22s\tremaining: 3.58s\n",
      "2600:\tlearn: 22.5889944\ttotal: 1m 26s\tremaining: 265ms\n"
     ]
    },
    {
     "name": "stderr",
     "output_type": "stream",
     "text": [
      "[I 2023-11-07 08:33:44,938] Trial 15 finished with value: 58.12323021212795 and parameters: {'iterations': 2609, 'learning_rate': 0.039771985438290455, 'depth': 7, 'min_data_in_leaf': 22, 'l2_leaf_reg': 6, 'bagging_temperature': 0.5270781334262336, 'random_strength': 0.7375740557999971, 'border_count': 630, 'rsm': 0.13506797868356096}. Best is trial 7 with value: 57.40087455594298.\n"
     ]
    },
    {
     "name": "stdout",
     "output_type": "stream",
     "text": [
      "2608:\tlearn: 22.5548985\ttotal: 1m 26s\tremaining: 0us\n",
      "0:\tlearn: 151.3219754\ttotal: 216ms\tremaining: 4m 21s\n",
      "100:\tlearn: 64.8673392\ttotal: 25.5s\tremaining: 4m 40s\n",
      "200:\tlearn: 47.6306771\ttotal: 49.5s\tremaining: 4m 9s\n",
      "300:\tlearn: 42.1940151\ttotal: 1m 14s\tremaining: 3m 47s\n",
      "400:\tlearn: 38.8728910\ttotal: 1m 40s\tremaining: 3m 22s\n",
      "500:\tlearn: 36.4329427\ttotal: 2m 4s\tremaining: 2m 56s\n",
      "600:\tlearn: 34.3267443\ttotal: 2m 28s\tremaining: 2m 31s\n",
      "700:\tlearn: 32.3097364\ttotal: 2m 53s\tremaining: 2m 6s\n",
      "800:\tlearn: 30.4628842\ttotal: 3m 18s\tremaining: 1m 42s\n",
      "900:\tlearn: 28.7441505\ttotal: 3m 44s\tremaining: 1m 17s\n",
      "1000:\tlearn: 27.1541405\ttotal: 4m 10s\tremaining: 53s\n",
      "1100:\tlearn: 25.7591679\ttotal: 4m 33s\tremaining: 27.9s\n",
      "1200:\tlearn: 24.5320209\ttotal: 4m 56s\tremaining: 2.97s\n",
      "1212:\tlearn: 24.3880503\ttotal: 4m 59s\tremaining: 0us\n"
     ]
    },
    {
     "name": "stderr",
     "output_type": "stream",
     "text": [
      "[I 2023-11-07 08:38:45,652] Trial 16 finished with value: 58.279575202255614 and parameters: {'iterations': 1213, 'learning_rate': 0.013920980191974821, 'depth': 12, 'min_data_in_leaf': 100, 'l2_leaf_reg': 4, 'bagging_temperature': 0.6393408756162468, 'random_strength': 0.607864763470765, 'border_count': 837, 'rsm': 0.40149353477640193}. Best is trial 7 with value: 57.40087455594298.\n"
     ]
    },
    {
     "name": "stdout",
     "output_type": "stream",
     "text": [
      "0:\tlearn: 152.9091364\ttotal: 5.9ms\tremaining: 10.1s\n",
      "100:\tlearn: 103.2770439\ttotal: 799ms\tremaining: 12.8s\n",
      "200:\tlearn: 79.9582818\ttotal: 1.52s\tremaining: 11.5s\n",
      "300:\tlearn: 68.4281801\ttotal: 2.06s\tremaining: 9.68s\n",
      "400:\tlearn: 62.5703278\ttotal: 2.44s\tremaining: 8.01s\n",
      "500:\tlearn: 59.5051697\ttotal: 2.95s\tremaining: 7.17s\n",
      "600:\tlearn: 57.9396068\ttotal: 3.42s\tremaining: 6.34s\n",
      "700:\tlearn: 56.6758817\ttotal: 3.95s\tremaining: 5.73s\n",
      "800:\tlearn: 55.8777532\ttotal: 4.32s\tremaining: 4.94s\n",
      "900:\tlearn: 55.3030974\ttotal: 4.9s\tremaining: 4.44s\n",
      "1000:\tlearn: 54.7600317\ttotal: 5.3s\tremaining: 3.79s\n",
      "1100:\tlearn: 54.3381583\ttotal: 5.68s\tremaining: 3.18s\n",
      "1200:\tlearn: 53.9406930\ttotal: 6.11s\tremaining: 2.63s\n",
      "1300:\tlearn: 53.5726227\ttotal: 6.53s\tremaining: 2.09s\n",
      "1400:\tlearn: 53.1610798\ttotal: 6.96s\tremaining: 1.57s\n",
      "1500:\tlearn: 52.8431403\ttotal: 7.38s\tremaining: 1.06s\n",
      "1600:\tlearn: 52.5327666\ttotal: 7.82s\tremaining: 567ms\n"
     ]
    },
    {
     "name": "stderr",
     "output_type": "stream",
     "text": [
      "[I 2023-11-07 08:38:54,583] Trial 17 finished with value: 62.21251193529432 and parameters: {'iterations': 1717, 'learning_rate': 0.008162992909832911, 'depth': 4, 'min_data_in_leaf': 22, 'l2_leaf_reg': 8, 'bagging_temperature': 0.45709127516044223, 'random_strength': 0.8389692693301556, 'border_count': 999, 'rsm': 0.05648601709603808}. Best is trial 7 with value: 57.40087455594298.\n"
     ]
    },
    {
     "name": "stdout",
     "output_type": "stream",
     "text": [
      "1700:\tlearn: 52.1933465\ttotal: 8.4s\tremaining: 79.1ms\n",
      "1716:\tlearn: 52.1441834\ttotal: 8.5s\tremaining: 0us\n",
      "0:\tlearn: 148.0323609\ttotal: 29.9ms\tremaining: 1m 3s\n",
      "100:\tlearn: 50.2606426\ttotal: 2.85s\tremaining: 56.9s\n",
      "200:\tlearn: 46.0264331\ttotal: 5.92s\tremaining: 56.5s\n",
      "300:\tlearn: 42.9179164\ttotal: 9.33s\tremaining: 56.4s\n",
      "400:\tlearn: 40.3383448\ttotal: 12.4s\tremaining: 53.1s\n",
      "500:\tlearn: 38.1478443\ttotal: 15s\tremaining: 48.6s\n",
      "600:\tlearn: 36.2486505\ttotal: 17.8s\tremaining: 45s\n",
      "700:\tlearn: 34.5762230\ttotal: 20.4s\tremaining: 41.3s\n",
      "800:\tlearn: 33.1482689\ttotal: 23.3s\tremaining: 38.4s\n",
      "900:\tlearn: 31.7405771\ttotal: 26.3s\tremaining: 35.6s\n",
      "1000:\tlearn: 30.4249234\ttotal: 29.3s\tremaining: 32.8s\n",
      "1100:\tlearn: 29.1817751\ttotal: 32.4s\tremaining: 30s\n",
      "1200:\tlearn: 28.1253244\ttotal: 35.2s\tremaining: 27s\n",
      "1300:\tlearn: 27.1694412\ttotal: 38.1s\tremaining: 24s\n",
      "1400:\tlearn: 26.3122264\ttotal: 40.7s\tremaining: 20.9s\n",
      "1500:\tlearn: 25.4451532\ttotal: 43.6s\tremaining: 18s\n",
      "1600:\tlearn: 24.6744717\ttotal: 46.3s\tremaining: 15s\n",
      "1700:\tlearn: 23.9180325\ttotal: 49s\tremaining: 12.1s\n",
      "1800:\tlearn: 23.1596431\ttotal: 51.9s\tremaining: 9.19s\n",
      "1900:\tlearn: 22.4129927\ttotal: 55.2s\tremaining: 6.35s\n",
      "2000:\tlearn: 21.8111400\ttotal: 58.2s\tremaining: 3.46s\n",
      "2100:\tlearn: 21.1850682\ttotal: 1m\tremaining: 551ms\n"
     ]
    },
    {
     "name": "stderr",
     "output_type": "stream",
     "text": [
      "[I 2023-11-07 08:39:56,710] Trial 18 finished with value: 57.76083801970113 and parameters: {'iterations': 2120, 'learning_rate': 0.040891132099206196, 'depth': 7, 'min_data_in_leaf': 53, 'l2_leaf_reg': 3, 'bagging_temperature': 0.5917546840922079, 'random_strength': 0.5196655932312753, 'border_count': 335, 'rsm': 0.1862545520089252}. Best is trial 7 with value: 57.40087455594298.\n"
     ]
    },
    {
     "name": "stdout",
     "output_type": "stream",
     "text": [
      "2119:\tlearn: 21.0722071\ttotal: 1m 1s\tremaining: 0us\n",
      "0:\tlearn: 150.4009823\ttotal: 58.6ms\tremaining: 2m 51s\n",
      "100:\tlearn: 54.1569353\ttotal: 6.46s\tremaining: 3m\n",
      "200:\tlearn: 45.9395453\ttotal: 13s\tremaining: 2m 56s\n",
      "300:\tlearn: 42.7309576\ttotal: 19.3s\tremaining: 2m 47s\n",
      "400:\tlearn: 40.1149518\ttotal: 25.5s\tremaining: 2m 40s\n",
      "500:\tlearn: 37.7318739\ttotal: 31.8s\tremaining: 2m 33s\n",
      "600:\tlearn: 35.6964653\ttotal: 38.7s\tremaining: 2m 29s\n",
      "700:\tlearn: 33.8515417\ttotal: 45.9s\tremaining: 2m 25s\n",
      "800:\tlearn: 32.1849371\ttotal: 53.9s\tremaining: 2m 22s\n",
      "900:\tlearn: 30.6446303\ttotal: 1m\tremaining: 2m 16s\n",
      "1000:\tlearn: 29.2895423\ttotal: 1m 8s\tremaining: 2m 12s\n",
      "1100:\tlearn: 27.9613465\ttotal: 1m 16s\tremaining: 2m 6s\n",
      "1200:\tlearn: 26.7903949\ttotal: 1m 23s\tremaining: 2m\n",
      "1300:\tlearn: 25.7125594\ttotal: 1m 31s\tremaining: 1m 53s\n",
      "1400:\tlearn: 24.6520320\ttotal: 1m 38s\tremaining: 1m 46s\n",
      "1500:\tlearn: 23.6604512\ttotal: 1m 45s\tremaining: 1m 39s\n",
      "1600:\tlearn: 22.7530155\ttotal: 1m 53s\tremaining: 1m 33s\n",
      "1700:\tlearn: 21.9651531\ttotal: 2m\tremaining: 1m 26s\n",
      "1800:\tlearn: 21.2089135\ttotal: 2m 7s\tremaining: 1m 19s\n",
      "1900:\tlearn: 20.4831052\ttotal: 2m 15s\tremaining: 1m 12s\n",
      "2000:\tlearn: 19.7862740\ttotal: 2m 22s\tremaining: 1m 5s\n",
      "2100:\tlearn: 19.1510485\ttotal: 2m 29s\tremaining: 58.1s\n",
      "2200:\tlearn: 18.6097161\ttotal: 2m 36s\tremaining: 51s\n",
      "2300:\tlearn: 18.0533674\ttotal: 2m 43s\tremaining: 43.9s\n",
      "2400:\tlearn: 17.5166454\ttotal: 2m 50s\tremaining: 36.8s\n",
      "2500:\tlearn: 17.0000199\ttotal: 2m 57s\tremaining: 29.7s\n",
      "2600:\tlearn: 16.5425390\ttotal: 3m 5s\tremaining: 22.6s\n",
      "2700:\tlearn: 16.0648364\ttotal: 3m 13s\tremaining: 15.6s\n",
      "2800:\tlearn: 15.6306769\ttotal: 3m 20s\tremaining: 8.46s\n",
      "2900:\tlearn: 15.1655063\ttotal: 3m 27s\tremaining: 1.29s\n",
      "2918:\tlearn: 15.0925433\ttotal: 3m 29s\tremaining: 0us\n"
     ]
    },
    {
     "name": "stderr",
     "output_type": "stream",
     "text": [
      "[I 2023-11-07 08:43:26,996] Trial 19 finished with value: 57.909010054768316 and parameters: {'iterations': 2919, 'learning_rate': 0.02196517707913332, 'depth': 10, 'min_data_in_leaf': 46, 'l2_leaf_reg': 5, 'bagging_temperature': 0.4410604995570172, 'random_strength': 0.6846348189215183, 'border_count': 749, 'rsm': 0.2712089253147574}. Best is trial 7 with value: 57.40087455594298.\n"
     ]
    },
    {
     "name": "stdout",
     "output_type": "stream",
     "text": [
      "0:\tlearn: 151.2619062\ttotal: 4.77ms\tremaining: 4.93s\n",
      "100:\tlearn: 68.4639686\ttotal: 619ms\tremaining: 5.72s\n",
      "200:\tlearn: 57.6415320\ttotal: 999ms\tremaining: 4.14s\n",
      "300:\tlearn: 55.1619444\ttotal: 1.63s\tremaining: 3.97s\n",
      "400:\tlearn: 53.9692327\ttotal: 2.23s\tremaining: 3.52s\n",
      "500:\tlearn: 53.0033118\ttotal: 2.61s\tremaining: 2.78s\n",
      "600:\tlearn: 52.2474276\ttotal: 3.22s\tremaining: 2.32s\n",
      "700:\tlearn: 51.6497094\ttotal: 3.96s\tremaining: 1.89s\n",
      "800:\tlearn: 51.1284581\ttotal: 4.6s\tremaining: 1.34s\n",
      "900:\tlearn: 50.6926628\ttotal: 5.15s\tremaining: 767ms\n"
     ]
    },
    {
     "name": "stderr",
     "output_type": "stream",
     "text": [
      "[I 2023-11-07 08:43:33,226] Trial 20 finished with value: 59.31640256938679 and parameters: {'iterations': 1035, 'learning_rate': 0.018198564672523062, 'depth': 3, 'min_data_in_leaf': 27, 'l2_leaf_reg': 7, 'bagging_temperature': 0.3005073674915951, 'random_strength': 0.30323068340910964, 'border_count': 558, 'rsm': 0.15386223648421607}. Best is trial 7 with value: 57.40087455594298.\n"
     ]
    },
    {
     "name": "stdout",
     "output_type": "stream",
     "text": [
      "1000:\tlearn: 50.3261748\ttotal: 5.8s\tremaining: 197ms\n",
      "1034:\tlearn: 50.2192528\ttotal: 5.91s\tremaining: 0us\n",
      "0:\tlearn: 148.1603827\ttotal: 24.3ms\tremaining: 53.3s\n",
      "100:\tlearn: 50.1642177\ttotal: 3.25s\tremaining: 1m 7s\n",
      "200:\tlearn: 46.1027315\ttotal: 6.49s\tremaining: 1m 4s\n",
      "300:\tlearn: 43.2165081\ttotal: 10.1s\tremaining: 1m 3s\n",
      "400:\tlearn: 40.8113615\ttotal: 13.4s\tremaining: 60s\n",
      "500:\tlearn: 38.5062954\ttotal: 17.1s\tremaining: 57.6s\n",
      "600:\tlearn: 36.6637988\ttotal: 20.3s\tremaining: 53.6s\n",
      "700:\tlearn: 34.9523998\ttotal: 24s\tremaining: 51.1s\n",
      "800:\tlearn: 33.5227640\ttotal: 27.1s\tremaining: 47.1s\n",
      "900:\tlearn: 32.1738943\ttotal: 30.8s\tremaining: 44.2s\n",
      "1000:\tlearn: 31.0514373\ttotal: 34.3s\tremaining: 40.8s\n",
      "1100:\tlearn: 29.8874541\ttotal: 37.6s\tremaining: 37.3s\n",
      "1200:\tlearn: 28.8382334\ttotal: 41.2s\tremaining: 34s\n",
      "1300:\tlearn: 27.8316137\ttotal: 44.6s\tremaining: 30.5s\n",
      "1400:\tlearn: 26.9320240\ttotal: 47.6s\tremaining: 26.9s\n",
      "1500:\tlearn: 25.9608121\ttotal: 50.8s\tremaining: 23.4s\n",
      "1600:\tlearn: 25.0474738\ttotal: 54s\tremaining: 19.9s\n",
      "1700:\tlearn: 24.2918468\ttotal: 57.1s\tremaining: 16.5s\n",
      "1800:\tlearn: 23.5088401\ttotal: 1m\tremaining: 13.1s\n",
      "1900:\tlearn: 22.8241115\ttotal: 1m 3s\tremaining: 9.77s\n",
      "2000:\tlearn: 22.1625369\ttotal: 1m 7s\tremaining: 6.4s\n",
      "2100:\tlearn: 21.5669165\ttotal: 1m 10s\tremaining: 3.05s\n"
     ]
    },
    {
     "name": "stderr",
     "output_type": "stream",
     "text": [
      "[I 2023-11-07 08:44:47,165] Trial 21 finished with value: 58.80149930489118 and parameters: {'iterations': 2192, 'learning_rate': 0.04104783323308892, 'depth': 7, 'min_data_in_leaf': 52, 'l2_leaf_reg': 3, 'bagging_temperature': 0.5939513717342836, 'random_strength': 0.5346964579003674, 'border_count': 347, 'rsm': 0.15964010509823123}. Best is trial 7 with value: 57.40087455594298.\n"
     ]
    },
    {
     "name": "stdout",
     "output_type": "stream",
     "text": [
      "2191:\tlearn: 21.0353060\ttotal: 1m 13s\tremaining: 0us\n",
      "0:\tlearn: 147.8875586\ttotal: 35.1ms\tremaining: 57.4s\n",
      "100:\tlearn: 49.7330066\ttotal: 3.97s\tremaining: 1m\n",
      "200:\tlearn: 45.5588598\ttotal: 8.19s\tremaining: 58.4s\n",
      "300:\tlearn: 42.5144378\ttotal: 12.6s\tremaining: 56s\n",
      "400:\tlearn: 39.9071673\ttotal: 17.1s\tremaining: 52.7s\n",
      "500:\tlearn: 37.6188245\ttotal: 21s\tremaining: 47.5s\n",
      "600:\tlearn: 35.6856271\ttotal: 24.9s\tremaining: 42.8s\n",
      "700:\tlearn: 33.8872809\ttotal: 28.7s\tremaining: 38.3s\n",
      "800:\tlearn: 32.3677404\ttotal: 32.7s\tremaining: 34s\n",
      "900:\tlearn: 30.9316619\ttotal: 36.7s\tremaining: 29.9s\n",
      "1000:\tlearn: 29.5685985\ttotal: 40.8s\tremaining: 25.8s\n",
      "1100:\tlearn: 28.4778279\ttotal: 44.9s\tremaining: 21.8s\n",
      "1200:\tlearn: 27.4859085\ttotal: 49.1s\tremaining: 17.8s\n",
      "1300:\tlearn: 26.5409717\ttotal: 53.2s\tremaining: 13.7s\n",
      "1400:\tlearn: 25.6269178\ttotal: 57.5s\tremaining: 9.6s\n",
      "1500:\tlearn: 24.7517612\ttotal: 1m 1s\tremaining: 5.49s\n",
      "1600:\tlearn: 23.9307168\ttotal: 1m 5s\tremaining: 1.39s\n"
     ]
    },
    {
     "name": "stderr",
     "output_type": "stream",
     "text": [
      "[I 2023-11-07 08:45:54,646] Trial 22 finished with value: 57.8093640323165 and parameters: {'iterations': 1635, 'learning_rate': 0.04277029663882124, 'depth': 7, 'min_data_in_leaf': 51, 'l2_leaf_reg': 3, 'bagging_temperature': 0.5390775640154756, 'random_strength': 0.5461214252952167, 'border_count': 395, 'rsm': 0.24474122257884456}. Best is trial 7 with value: 57.40087455594298.\n"
     ]
    },
    {
     "name": "stdout",
     "output_type": "stream",
     "text": [
      "1634:\tlearn: 23.6871602\ttotal: 1m 6s\tremaining: 0us\n",
      "0:\tlearn: 142.7440491\ttotal: 4.33ms\tremaining: 8.7s\n",
      "100:\tlearn: 47.6079694\ttotal: 475ms\tremaining: 9s\n",
      "200:\tlearn: 42.8899138\ttotal: 1.4s\tremaining: 12.7s\n",
      "300:\tlearn: 39.3370711\ttotal: 2.15s\tremaining: 12.2s\n",
      "400:\tlearn: 36.5271229\ttotal: 3.07s\tremaining: 12.3s\n",
      "500:\tlearn: 34.1667675\ttotal: 3.9s\tremaining: 11.8s\n",
      "600:\tlearn: 32.3151211\ttotal: 4.72s\tremaining: 11.1s\n",
      "700:\tlearn: 30.5823833\ttotal: 5.47s\tremaining: 10.2s\n",
      "800:\tlearn: 29.1522997\ttotal: 6.22s\tremaining: 9.41s\n",
      "900:\tlearn: 27.6688732\ttotal: 7.33s\tremaining: 9.04s\n",
      "1000:\tlearn: 26.3688083\ttotal: 8.44s\tremaining: 8.54s\n",
      "1100:\tlearn: 25.2020774\ttotal: 9.68s\tremaining: 8.02s\n",
      "1200:\tlearn: 24.1475271\ttotal: 10.7s\tremaining: 7.27s\n",
      "1300:\tlearn: 23.0720128\ttotal: 11.8s\tremaining: 6.47s\n",
      "1400:\tlearn: 22.1402206\ttotal: 12.6s\tremaining: 5.51s\n",
      "1500:\tlearn: 21.2847195\ttotal: 13.5s\tremaining: 4.61s\n",
      "1600:\tlearn: 20.5396836\ttotal: 14.3s\tremaining: 3.68s\n",
      "1700:\tlearn: 19.8137919\ttotal: 15.5s\tremaining: 2.84s\n",
      "1800:\tlearn: 19.1274299\ttotal: 16.4s\tremaining: 1.93s\n",
      "1900:\tlearn: 18.4514524\ttotal: 17.4s\tremaining: 1.02s\n"
     ]
    },
    {
     "name": "stderr",
     "output_type": "stream",
     "text": [
      "[I 2023-11-07 08:46:13,454] Trial 23 finished with value: 59.36829085531849 and parameters: {'iterations': 2013, 'learning_rate': 0.0911152960954414, 'depth': 6, 'min_data_in_leaf': 1, 'l2_leaf_reg': 3, 'bagging_temperature': 0.6998847905428586, 'random_strength': 0.7022858927702434, 'border_count': 277, 'rsm': 0.14380246197776092}. Best is trial 7 with value: 57.40087455594298.\n"
     ]
    },
    {
     "name": "stdout",
     "output_type": "stream",
     "text": [
      "2000:\tlearn: 17.8341393\ttotal: 18.2s\tremaining: 109ms\n",
      "2012:\tlearn: 17.7753866\ttotal: 18.3s\tremaining: 0us\n",
      "0:\tlearn: 148.8847071\ttotal: 71.3ms\tremaining: 3m 4s\n",
      "100:\tlearn: 49.3945945\ttotal: 9.24s\tremaining: 3m 47s\n",
      "200:\tlearn: 44.5779006\ttotal: 18.3s\tremaining: 3m 37s\n",
      "300:\tlearn: 41.3026614\ttotal: 27.6s\tremaining: 3m 29s\n",
      "400:\tlearn: 38.4984440\ttotal: 37s\tremaining: 3m 21s\n",
      "500:\tlearn: 35.9339675\ttotal: 46.4s\tremaining: 3m 13s\n",
      "600:\tlearn: 33.7115669\ttotal: 56.3s\tremaining: 3m 6s\n",
      "700:\tlearn: 31.8200202\ttotal: 1m 5s\tremaining: 2m 55s\n",
      "800:\tlearn: 30.0750283\ttotal: 1m 14s\tremaining: 2m 46s\n",
      "900:\tlearn: 28.5292432\ttotal: 1m 23s\tremaining: 2m 37s\n",
      "1000:\tlearn: 27.0589957\ttotal: 1m 33s\tremaining: 2m 27s\n",
      "1100:\tlearn: 25.8010351\ttotal: 1m 42s\tremaining: 2m 18s\n",
      "1200:\tlearn: 24.6169441\ttotal: 1m 53s\tremaining: 2m 11s\n",
      "1300:\tlearn: 23.5639022\ttotal: 2m 5s\tremaining: 2m 3s\n",
      "1400:\tlearn: 22.5340517\ttotal: 2m 16s\tremaining: 1m 55s\n",
      "1500:\tlearn: 21.5914488\ttotal: 2m 28s\tremaining: 1m 47s\n",
      "1600:\tlearn: 20.7785319\ttotal: 2m 41s\tremaining: 1m 39s\n",
      "1700:\tlearn: 20.0060219\ttotal: 2m 55s\tremaining: 1m 31s\n",
      "1800:\tlearn: 19.2418906\ttotal: 3m 7s\tremaining: 1m 21s\n",
      "1900:\tlearn: 18.6504923\ttotal: 3m 20s\tremaining: 1m 12s\n",
      "2000:\tlearn: 18.0479687\ttotal: 3m 32s\tremaining: 1m 2s\n",
      "2100:\tlearn: 17.4684376\ttotal: 3m 45s\tremaining: 52.2s\n",
      "2200:\tlearn: 16.9041056\ttotal: 3m 58s\tremaining: 41.9s\n",
      "2300:\tlearn: 16.3558413\ttotal: 4m 11s\tremaining: 31.3s\n",
      "2400:\tlearn: 15.8791562\ttotal: 4m 23s\tremaining: 20.5s\n",
      "2500:\tlearn: 15.3983842\ttotal: 4m 35s\tremaining: 9.59s\n",
      "2587:\tlearn: 14.9940342\ttotal: 4m 46s\tremaining: 0us\n"
     ]
    },
    {
     "name": "stderr",
     "output_type": "stream",
     "text": [
      "[I 2023-11-07 08:51:00,963] Trial 24 finished with value: 57.63156324466896 and parameters: {'iterations': 2588, 'learning_rate': 0.03469157717666257, 'depth': 9, 'min_data_in_leaf': 32, 'l2_leaf_reg': 6, 'bagging_temperature': 0.62992474722444, 'random_strength': 0.7960012086634374, 'border_count': 901, 'rsm': 0.34505919837350607}. Best is trial 7 with value: 57.40087455594298.\n"
     ]
    },
    {
     "name": "stdout",
     "output_type": "stream",
     "text": [
      "0:\tlearn: 150.5820486\ttotal: 59.3ms\tremaining: 2m 40s\n",
      "100:\tlearn: 56.4573144\ttotal: 13.4s\tremaining: 5m 45s\n",
      "200:\tlearn: 48.1780704\ttotal: 25.6s\tremaining: 5m 19s\n",
      "300:\tlearn: 45.4996441\ttotal: 37.2s\tremaining: 4m 57s\n",
      "400:\tlearn: 43.3751975\ttotal: 50s\tremaining: 4m 48s\n",
      "500:\tlearn: 41.5532212\ttotal: 1m 2s\tremaining: 4m 35s\n",
      "600:\tlearn: 39.7627580\ttotal: 1m 15s\tremaining: 4m 25s\n",
      "700:\tlearn: 38.0449208\ttotal: 1m 27s\tremaining: 4m 12s\n",
      "800:\tlearn: 36.5536595\ttotal: 1m 39s\tremaining: 3m 58s\n",
      "900:\tlearn: 35.2276602\ttotal: 1m 51s\tremaining: 3m 44s\n",
      "1000:\tlearn: 33.9355890\ttotal: 2m 4s\tremaining: 3m 33s\n",
      "1100:\tlearn: 32.8101769\ttotal: 2m 16s\tremaining: 3m 19s\n",
      "1200:\tlearn: 31.7284488\ttotal: 2m 28s\tremaining: 3m 6s\n",
      "1300:\tlearn: 30.7350259\ttotal: 2m 39s\tremaining: 2m 52s\n",
      "1400:\tlearn: 29.8880935\ttotal: 2m 50s\tremaining: 2m 39s\n",
      "1500:\tlearn: 28.9788577\ttotal: 3m 1s\tremaining: 2m 26s\n",
      "1600:\tlearn: 28.1859025\ttotal: 3m 13s\tremaining: 2m 14s\n",
      "1700:\tlearn: 27.4329977\ttotal: 3m 24s\tremaining: 2m 1s\n",
      "1800:\tlearn: 26.7625436\ttotal: 3m 35s\tremaining: 1m 48s\n",
      "1900:\tlearn: 26.0796958\ttotal: 3m 45s\tremaining: 1m 36s\n",
      "2000:\tlearn: 25.4345565\ttotal: 3m 56s\tremaining: 1m 24s\n",
      "2100:\tlearn: 24.7876383\ttotal: 4m 8s\tremaining: 1m 12s\n",
      "2200:\tlearn: 24.1893780\ttotal: 4m 20s\tremaining: 1m\n",
      "2300:\tlearn: 23.5984043\ttotal: 4m 31s\tremaining: 48.4s\n",
      "2400:\tlearn: 23.0220301\ttotal: 4m 41s\tremaining: 36.5s\n",
      "2500:\tlearn: 22.4329756\ttotal: 4m 52s\tremaining: 24.7s\n",
      "2600:\tlearn: 21.8838048\ttotal: 5m 4s\tremaining: 13s\n",
      "2700:\tlearn: 21.3674163\ttotal: 5m 15s\tremaining: 1.28s\n",
      "2711:\tlearn: 21.3129343\ttotal: 5m 16s\tremaining: 0us\n"
     ]
    },
    {
     "name": "stderr",
     "output_type": "stream",
     "text": [
      "[I 2023-11-07 08:56:18,875] Trial 25 finished with value: 57.28954446651896 and parameters: {'iterations': 2712, 'learning_rate': 0.020556473446256943, 'depth': 9, 'min_data_in_leaf': 31, 'l2_leaf_reg': 6, 'bagging_temperature': 0.6271704443525494, 'random_strength': 0.787759095056373, 'border_count': 901, 'rsm': 0.31930067780557253}. Best is trial 25 with value: 57.28954446651896.\n"
     ]
    },
    {
     "name": "stdout",
     "output_type": "stream",
     "text": [
      "0:\tlearn: 150.7125134\ttotal: 141ms\tremaining: 6m 32s\n",
      "100:\tlearn: 56.8939751\ttotal: 14.5s\tremaining: 6m 24s\n",
      "200:\tlearn: 46.5418946\ttotal: 28.6s\tremaining: 6m 6s\n",
      "300:\tlearn: 43.0686433\ttotal: 43s\tremaining: 5m 53s\n",
      "400:\tlearn: 40.6205255\ttotal: 58s\tremaining: 5m 44s\n",
      "500:\tlearn: 38.3408998\ttotal: 1m 12s\tremaining: 5m 28s\n",
      "600:\tlearn: 36.3267051\ttotal: 1m 25s\tremaining: 5m 11s\n",
      "700:\tlearn: 34.5642960\ttotal: 1m 39s\tremaining: 4m 54s\n",
      "800:\tlearn: 32.9891872\ttotal: 1m 53s\tremaining: 4m 39s\n",
      "900:\tlearn: 31.5407470\ttotal: 2m 6s\tremaining: 4m 24s\n",
      "1000:\tlearn: 30.1815619\ttotal: 2m 20s\tremaining: 4m 9s\n",
      "1100:\tlearn: 28.9996540\ttotal: 2m 34s\tremaining: 3m 55s\n",
      "1200:\tlearn: 27.8666284\ttotal: 2m 49s\tremaining: 3m 42s\n",
      "1300:\tlearn: 26.7530306\ttotal: 3m 3s\tremaining: 3m 28s\n",
      "1400:\tlearn: 25.7951467\ttotal: 3m 16s\tremaining: 3m 13s\n",
      "1500:\tlearn: 24.8694221\ttotal: 3m 31s\tremaining: 2m 59s\n",
      "1600:\tlearn: 23.9677391\ttotal: 3m 46s\tremaining: 2m 46s\n",
      "1700:\tlearn: 23.1187992\ttotal: 4m\tremaining: 2m 32s\n",
      "1800:\tlearn: 22.2714922\ttotal: 4m 14s\tremaining: 2m 17s\n",
      "1900:\tlearn: 21.6357304\ttotal: 4m 28s\tremaining: 2m 3s\n",
      "2000:\tlearn: 20.9461875\ttotal: 4m 43s\tremaining: 1m 49s\n",
      "2100:\tlearn: 20.2935284\ttotal: 4m 57s\tremaining: 1m 35s\n",
      "2200:\tlearn: 19.6675946\ttotal: 5m 12s\tremaining: 1m 21s\n",
      "2300:\tlearn: 19.1031215\ttotal: 5m 26s\tremaining: 1m 7s\n",
      "2400:\tlearn: 18.5467821\ttotal: 5m 40s\tremaining: 53.5s\n",
      "2500:\tlearn: 18.0114513\ttotal: 5m 55s\tremaining: 39.4s\n",
      "2600:\tlearn: 17.5375758\ttotal: 6m 9s\tremaining: 25.2s\n",
      "2700:\tlearn: 17.0507525\ttotal: 6m 23s\tremaining: 10.9s\n",
      "2777:\tlearn: 16.6767731\ttotal: 6m 34s\tremaining: 0us\n"
     ]
    },
    {
     "name": "stderr",
     "output_type": "stream",
     "text": [
      "[I 2023-11-07 09:02:55,235] Trial 26 finished with value: 57.963750951382686 and parameters: {'iterations': 2778, 'learning_rate': 0.019559972170742988, 'depth': 11, 'min_data_in_leaf': 17, 'l2_leaf_reg': 8, 'bagging_temperature': 0.7118746453801607, 'random_strength': 0.7889936527693021, 'border_count': 923, 'rsm': 0.26499746301494925}. Best is trial 25 with value: 57.28954446651896.\n"
     ]
    },
    {
     "name": "stdout",
     "output_type": "stream",
     "text": [
      "0:\tlearn: 152.0115785\ttotal: 2.69ms\tremaining: 6.55s\n",
      "100:\tlearn: 89.2184094\ttotal: 828ms\tremaining: 19.2s\n",
      "200:\tlearn: 66.3368105\ttotal: 1.43s\tremaining: 16s\n",
      "300:\tlearn: 58.8062223\ttotal: 2.2s\tremaining: 15.6s\n",
      "400:\tlearn: 55.8846945\ttotal: 2.85s\tremaining: 14.5s\n",
      "500:\tlearn: 54.3963878\ttotal: 3.49s\tremaining: 13.5s\n",
      "600:\tlearn: 53.5147988\ttotal: 4.07s\tremaining: 12.5s\n",
      "700:\tlearn: 52.8435248\ttotal: 4.63s\tremaining: 11.5s\n",
      "800:\tlearn: 52.2724094\ttotal: 5.32s\tremaining: 10.9s\n",
      "900:\tlearn: 51.7851270\ttotal: 6s\tremaining: 10.3s\n",
      "1000:\tlearn: 51.3509581\ttotal: 6.8s\tremaining: 9.78s\n",
      "1100:\tlearn: 50.9293610\ttotal: 7.87s\tremaining: 9.56s\n",
      "1200:\tlearn: 50.5551574\ttotal: 8.47s\tremaining: 8.74s\n",
      "1300:\tlearn: 50.2037919\ttotal: 9.18s\tremaining: 8.04s\n",
      "1400:\tlearn: 49.9029256\ttotal: 9.94s\tremaining: 7.37s\n",
      "1500:\tlearn: 49.6144881\ttotal: 10.7s\tremaining: 6.67s\n",
      "1600:\tlearn: 49.3275062\ttotal: 11.5s\tremaining: 6.02s\n",
      "1700:\tlearn: 49.0820231\ttotal: 12.2s\tremaining: 5.31s\n",
      "1800:\tlearn: 48.8249754\ttotal: 13.3s\tremaining: 4.74s\n",
      "1900:\tlearn: 48.6031851\ttotal: 13.9s\tremaining: 3.95s\n",
      "2000:\tlearn: 48.3428798\ttotal: 14.8s\tremaining: 3.24s\n",
      "2100:\tlearn: 48.0938045\ttotal: 15.6s\tremaining: 2.51s\n",
      "2200:\tlearn: 47.8672399\ttotal: 16.2s\tremaining: 1.76s\n",
      "2300:\tlearn: 47.6332869\ttotal: 17.1s\tremaining: 1.03s\n",
      "2400:\tlearn: 47.4324455\ttotal: 17.9s\tremaining: 291ms\n",
      "2439:\tlearn: 47.3587018\ttotal: 18.1s\tremaining: 0us\n"
     ]
    },
    {
     "name": "stderr",
     "output_type": "stream",
     "text": [
      "[I 2023-11-07 09:03:13,834] Trial 27 finished with value: 58.1483704240022 and parameters: {'iterations': 2440, 'learning_rate': 0.009778169031740726, 'depth': 4, 'min_data_in_leaf': 32, 'l2_leaf_reg': 5, 'bagging_temperature': 0.521560583552338, 'random_strength': 0.7186449023790192, 'border_count': 686, 'rsm': 0.1142605570427675}. Best is trial 25 with value: 57.28954446651896.\n"
     ]
    },
    {
     "name": "stdout",
     "output_type": "stream",
     "text": [
      "0:\tlearn: 150.6337266\ttotal: 111ms\tremaining: 5m 2s\n",
      "100:\tlearn: 57.1366663\ttotal: 8.05s\tremaining: 3m 29s\n",
      "200:\tlearn: 49.2396936\ttotal: 16.4s\tremaining: 3m 26s\n",
      "300:\tlearn: 46.8740678\ttotal: 24.1s\tremaining: 3m 15s\n",
      "400:\tlearn: 45.2468160\ttotal: 31.6s\tremaining: 3m 4s\n",
      "500:\tlearn: 43.5908706\ttotal: 39.5s\tremaining: 2m 56s\n",
      "600:\tlearn: 42.1685100\ttotal: 48.1s\tremaining: 2m 50s\n",
      "700:\tlearn: 40.9450799\ttotal: 56.9s\tremaining: 2m 45s\n",
      "800:\tlearn: 39.7380162\ttotal: 1m 5s\tremaining: 2m 37s\n",
      "900:\tlearn: 38.5695831\ttotal: 1m 13s\tremaining: 2m 29s\n",
      "1000:\tlearn: 37.3558372\ttotal: 1m 21s\tremaining: 2m 21s\n",
      "1100:\tlearn: 36.3092701\ttotal: 1m 29s\tremaining: 2m 12s\n",
      "1200:\tlearn: 35.3126181\ttotal: 1m 37s\tremaining: 2m 4s\n",
      "1300:\tlearn: 34.4080904\ttotal: 1m 45s\tremaining: 1m 56s\n",
      "1400:\tlearn: 33.5837065\ttotal: 1m 53s\tremaining: 1m 47s\n",
      "1500:\tlearn: 32.8316625\ttotal: 2m 1s\tremaining: 1m 39s\n",
      "1600:\tlearn: 32.0037883\ttotal: 2m 9s\tremaining: 1m 31s\n",
      "1700:\tlearn: 31.2580394\ttotal: 2m 18s\tremaining: 1m 23s\n",
      "1800:\tlearn: 30.6187344\ttotal: 2m 26s\tremaining: 1m 15s\n",
      "1900:\tlearn: 29.9861643\ttotal: 2m 34s\tremaining: 1m 7s\n",
      "2000:\tlearn: 29.3449764\ttotal: 2m 42s\tremaining: 59.6s\n",
      "2100:\tlearn: 28.7548146\ttotal: 2m 51s\tremaining: 51.8s\n",
      "2200:\tlearn: 28.2339799\ttotal: 2m 59s\tremaining: 43.5s\n",
      "2300:\tlearn: 27.7161786\ttotal: 3m 8s\tremaining: 35.4s\n",
      "2400:\tlearn: 27.2170806\ttotal: 3m 17s\tremaining: 27.4s\n",
      "2500:\tlearn: 26.7670527\ttotal: 3m 27s\tremaining: 19.3s\n",
      "2600:\tlearn: 26.3188619\ttotal: 3m 36s\tremaining: 11.1s\n",
      "2700:\tlearn: 25.8619320\ttotal: 3m 45s\tremaining: 2.76s\n",
      "2733:\tlearn: 25.7141918\ttotal: 3m 49s\tremaining: 0us\n"
     ]
    },
    {
     "name": "stderr",
     "output_type": "stream",
     "text": [
      "[I 2023-11-07 09:07:03,947] Trial 28 finished with value: 57.43137732397082 and parameters: {'iterations': 2734, 'learning_rate': 0.020184754715142427, 'depth': 8, 'min_data_in_leaf': 16, 'l2_leaf_reg': 7, 'bagging_temperature': 0.6063795029598447, 'random_strength': 0.6334768459103425, 'border_count': 758, 'rsm': 0.35652507607794554}. Best is trial 25 with value: 57.28954446651896.\n"
     ]
    },
    {
     "name": "stdout",
     "output_type": "stream",
     "text": [
      "0:\tlearn: 145.7552023\ttotal: 134ms\tremaining: 6m 9s\n",
      "100:\tlearn: 45.4729950\ttotal: 12.7s\tremaining: 5m 33s\n",
      "200:\tlearn: 40.0328110\ttotal: 24.7s\tremaining: 5m 14s\n",
      "300:\tlearn: 35.6385145\ttotal: 36.8s\tremaining: 5m\n",
      "400:\tlearn: 32.1587897\ttotal: 49.6s\tremaining: 4m 51s\n",
      "500:\tlearn: 29.4095296\ttotal: 1m 3s\tremaining: 4m 43s\n",
      "600:\tlearn: 26.9947258\ttotal: 1m 14s\tremaining: 4m 27s\n",
      "700:\tlearn: 25.1236015\ttotal: 1m 26s\tremaining: 4m 13s\n",
      "800:\tlearn: 23.4036738\ttotal: 1m 38s\tremaining: 4m\n",
      "900:\tlearn: 21.8285078\ttotal: 1m 50s\tremaining: 3m 48s\n",
      "1000:\tlearn: 20.4310237\ttotal: 2m 4s\tremaining: 3m 37s\n",
      "1100:\tlearn: 19.2956025\ttotal: 2m 16s\tremaining: 3m 26s\n",
      "1200:\tlearn: 18.2645484\ttotal: 2m 29s\tremaining: 3m 13s\n",
      "1300:\tlearn: 17.3520097\ttotal: 2m 41s\tremaining: 3m 1s\n",
      "1400:\tlearn: 16.4686825\ttotal: 2m 54s\tremaining: 2m 48s\n",
      "1500:\tlearn: 15.6516896\ttotal: 3m 7s\tremaining: 2m 37s\n",
      "1600:\tlearn: 14.8460015\ttotal: 3m 20s\tremaining: 2m 24s\n",
      "1700:\tlearn: 14.0813914\ttotal: 3m 32s\tremaining: 2m 12s\n",
      "1800:\tlearn: 13.3670818\ttotal: 3m 44s\tremaining: 1m 59s\n",
      "1900:\tlearn: 12.8020399\ttotal: 3m 56s\tremaining: 1m 46s\n",
      "2000:\tlearn: 12.2095989\ttotal: 4m 9s\tremaining: 1m 34s\n",
      "2100:\tlearn: 11.6505480\ttotal: 4m 21s\tremaining: 1m 21s\n",
      "2200:\tlearn: 11.1696633\ttotal: 4m 34s\tremaining: 1m 9s\n",
      "2300:\tlearn: 10.7111296\ttotal: 4m 46s\tremaining: 56.9s\n",
      "2400:\tlearn: 10.2617241\ttotal: 4m 58s\tremaining: 44.5s\n",
      "2500:\tlearn: 9.8353870\ttotal: 5m 9s\tremaining: 31.9s\n",
      "2600:\tlearn: 9.4739754\ttotal: 5m 20s\tremaining: 19.3s\n",
      "2700:\tlearn: 9.0972703\ttotal: 5m 31s\tremaining: 7s\n",
      "2757:\tlearn: 8.8843979\ttotal: 5m 38s\tremaining: 0us\n"
     ]
    },
    {
     "name": "stderr",
     "output_type": "stream",
     "text": [
      "[I 2023-11-07 09:12:43,169] Trial 29 finished with value: 57.85949562586917 and parameters: {'iterations': 2758, 'learning_rate': 0.06034835899490622, 'depth': 9, 'min_data_in_leaf': 44, 'l2_leaf_reg': 7, 'bagging_temperature': 0.6237689330980538, 'random_strength': 0.618119357862147, 'border_count': 782, 'rsm': 0.3348863101040018}. Best is trial 25 with value: 57.28954446651896.\n"
     ]
    },
    {
     "name": "stdout",
     "output_type": "stream",
     "text": [
      "0:\tlearn: 150.8554136\ttotal: 109ms\tremaining: 5m 2s\n",
      "100:\tlearn: 59.4577175\ttotal: 8.65s\tremaining: 3m 48s\n",
      "200:\tlearn: 50.0792407\ttotal: 17.3s\tremaining: 3m 40s\n",
      "300:\tlearn: 47.7234438\ttotal: 26.8s\tremaining: 3m 39s\n",
      "400:\tlearn: 46.2645691\ttotal: 33s\tremaining: 3m 14s\n",
      "500:\tlearn: 44.8528617\ttotal: 38.9s\tremaining: 2m 55s\n",
      "600:\tlearn: 43.6176627\ttotal: 44.6s\tremaining: 2m 40s\n",
      "700:\tlearn: 42.4110083\ttotal: 50.2s\tremaining: 2m 28s\n",
      "800:\tlearn: 41.3454037\ttotal: 55.8s\tremaining: 2m 17s\n",
      "900:\tlearn: 40.2765129\ttotal: 1m 1s\tremaining: 2m 7s\n",
      "1000:\tlearn: 39.2415956\ttotal: 1m 7s\tremaining: 1m 58s\n",
      "1100:\tlearn: 38.2725648\ttotal: 1m 13s\tremaining: 1m 50s\n",
      "1200:\tlearn: 37.3546593\ttotal: 1m 18s\tremaining: 1m 42s\n",
      "1300:\tlearn: 36.5378280\ttotal: 1m 25s\tremaining: 1m 35s\n",
      "1400:\tlearn: 35.7479985\ttotal: 1m 30s\tremaining: 1m 28s\n",
      "1500:\tlearn: 34.9889392\ttotal: 1m 36s\tremaining: 1m 21s\n",
      "1600:\tlearn: 34.2559968\ttotal: 1m 41s\tremaining: 1m 13s\n",
      "1700:\tlearn: 33.4869503\ttotal: 1m 47s\tremaining: 1m 7s\n",
      "1800:\tlearn: 32.8499378\ttotal: 1m 52s\tremaining: 1m\n",
      "1900:\tlearn: 32.2023364\ttotal: 1m 58s\tremaining: 54.1s\n",
      "2000:\tlearn: 31.6325431\ttotal: 2m 4s\tremaining: 47.6s\n",
      "2100:\tlearn: 31.0650262\ttotal: 2m 10s\tremaining: 41.3s\n",
      "2200:\tlearn: 30.5657040\ttotal: 2m 16s\tremaining: 35.1s\n",
      "2300:\tlearn: 30.0375466\ttotal: 2m 22s\tremaining: 28.8s\n",
      "2400:\tlearn: 29.5060902\ttotal: 2m 28s\tremaining: 22.6s\n",
      "2500:\tlearn: 29.0532528\ttotal: 2m 34s\tremaining: 16.4s\n",
      "2600:\tlearn: 28.5597803\ttotal: 2m 39s\tremaining: 10.2s\n",
      "2700:\tlearn: 28.1109272\ttotal: 2m 45s\tremaining: 4.03s\n",
      "2766:\tlearn: 27.7960634\ttotal: 2m 48s\tremaining: 0us\n"
     ]
    },
    {
     "name": "stderr",
     "output_type": "stream",
     "text": [
      "[I 2023-11-07 09:15:32,874] Trial 30 finished with value: 56.9709816233215 and parameters: {'iterations': 2767, 'learning_rate': 0.018407751723338837, 'depth': 8, 'min_data_in_leaf': 14, 'l2_leaf_reg': 9, 'bagging_temperature': 0.5711499318786527, 'random_strength': 0.6955461421267364, 'border_count': 692, 'rsm': 0.42892125959847727}. Best is trial 30 with value: 56.9709816233215.\n"
     ]
    },
    {
     "name": "stdout",
     "output_type": "stream",
     "text": [
      "0:\tlearn: 150.8757168\ttotal: 60.8ms\tremaining: 2m 46s\n",
      "100:\tlearn: 58.6204649\ttotal: 6.57s\tremaining: 2m 51s\n",
      "200:\tlearn: 48.1427733\ttotal: 13.5s\tremaining: 2m 49s\n",
      "300:\tlearn: 44.9426399\ttotal: 20.1s\tremaining: 2m 42s\n",
      "400:\tlearn: 43.2534720\ttotal: 27s\tremaining: 2m 37s\n",
      "500:\tlearn: 41.4720893\ttotal: 33.9s\tremaining: 2m 31s\n",
      "600:\tlearn: 39.7778223\ttotal: 39.1s\tremaining: 2m 18s\n",
      "700:\tlearn: 38.3200211\ttotal: 44.9s\tremaining: 2m 10s\n",
      "800:\tlearn: 36.9499886\ttotal: 50.9s\tremaining: 2m 2s\n",
      "900:\tlearn: 35.6715552\ttotal: 56.8s\tremaining: 1m 55s\n",
      "1000:\tlearn: 34.5326897\ttotal: 1m 2s\tremaining: 1m 48s\n",
      "1100:\tlearn: 33.4174095\ttotal: 1m 8s\tremaining: 1m 42s\n",
      "1200:\tlearn: 32.2529815\ttotal: 1m 14s\tremaining: 1m 35s\n",
      "1300:\tlearn: 31.2143520\ttotal: 1m 20s\tremaining: 1m 29s\n",
      "1400:\tlearn: 30.2971342\ttotal: 1m 26s\tremaining: 1m 22s\n",
      "1500:\tlearn: 29.3957314\ttotal: 1m 33s\tremaining: 1m 16s\n",
      "1600:\tlearn: 28.6476498\ttotal: 1m 38s\tremaining: 1m 10s\n",
      "1700:\tlearn: 27.9397568\ttotal: 1m 44s\tremaining: 1m 3s\n",
      "1800:\tlearn: 27.2454588\ttotal: 1m 50s\tremaining: 57.4s\n",
      "1900:\tlearn: 26.5850498\ttotal: 1m 56s\tremaining: 51s\n",
      "2000:\tlearn: 25.9438687\ttotal: 2m 1s\tremaining: 44.7s\n",
      "2100:\tlearn: 25.2661886\ttotal: 2m 7s\tremaining: 38.6s\n",
      "2200:\tlearn: 24.6883519\ttotal: 2m 13s\tremaining: 32.5s\n",
      "2300:\tlearn: 24.1227013\ttotal: 2m 19s\tremaining: 26.4s\n",
      "2400:\tlearn: 23.6054826\ttotal: 2m 25s\tremaining: 20.3s\n",
      "2500:\tlearn: 23.0590237\ttotal: 2m 31s\tremaining: 14.3s\n",
      "2600:\tlearn: 22.5917360\ttotal: 2m 37s\tremaining: 8.23s\n",
      "2700:\tlearn: 22.0851872\ttotal: 2m 43s\tremaining: 2.18s\n",
      "2736:\tlearn: 21.9122606\ttotal: 2m 45s\tremaining: 0us\n"
     ]
    },
    {
     "name": "stderr",
     "output_type": "stream",
     "text": [
      "[I 2023-11-07 09:18:19,221] Trial 31 finished with value: 57.45532705794307 and parameters: {'iterations': 2737, 'learning_rate': 0.018471024520392128, 'depth': 10, 'min_data_in_leaf': 12, 'l2_leaf_reg': 10, 'bagging_temperature': 0.5697621772372049, 'random_strength': 0.6777423623964407, 'border_count': 676, 'rsm': 0.44338060218556613}. Best is trial 30 with value: 56.9709816233215.\n"
     ]
    },
    {
     "name": "stdout",
     "output_type": "stream",
     "text": [
      "0:\tlearn: 151.6020493\ttotal: 61.6ms\tremaining: 2m 20s\n",
      "100:\tlearn: 72.2182627\ttotal: 4.83s\tremaining: 1m 44s\n",
      "200:\tlearn: 54.4754260\ttotal: 9.5s\tremaining: 1m 38s\n",
      "300:\tlearn: 50.2239714\ttotal: 14.2s\tremaining: 1m 33s\n",
      "400:\tlearn: 48.4545095\ttotal: 18.8s\tremaining: 1m 28s\n",
      "500:\tlearn: 47.2932044\ttotal: 23.6s\tremaining: 1m 24s\n",
      "600:\tlearn: 46.3054805\ttotal: 28.7s\tremaining: 1m 20s\n",
      "700:\tlearn: 45.4774973\ttotal: 33.1s\tremaining: 1m 14s\n",
      "800:\tlearn: 44.6325814\ttotal: 37.1s\tremaining: 1m 8s\n",
      "900:\tlearn: 43.7621770\ttotal: 41.1s\tremaining: 1m 3s\n",
      "1000:\tlearn: 42.9197187\ttotal: 45.5s\tremaining: 58.4s\n",
      "1100:\tlearn: 42.2268561\ttotal: 49.6s\tremaining: 53.4s\n",
      "1200:\tlearn: 41.5963907\ttotal: 53.5s\tremaining: 48.4s\n",
      "1300:\tlearn: 40.9345033\ttotal: 57.5s\tremaining: 43.6s\n",
      "1400:\tlearn: 40.3055222\ttotal: 1m 1s\tremaining: 39s\n",
      "1500:\tlearn: 39.6949373\ttotal: 1m 5s\tremaining: 34.4s\n",
      "1600:\tlearn: 39.0565664\ttotal: 1m 9s\tremaining: 29.8s\n",
      "1700:\tlearn: 38.3805147\ttotal: 1m 13s\tremaining: 25.4s\n",
      "1800:\tlearn: 37.7980314\ttotal: 1m 17s\tremaining: 20.9s\n",
      "1900:\tlearn: 37.2177945\ttotal: 1m 21s\tremaining: 16.6s\n",
      "2000:\tlearn: 36.6634530\ttotal: 1m 25s\tremaining: 12.2s\n",
      "2100:\tlearn: 36.1693682\ttotal: 1m 29s\tremaining: 7.95s\n",
      "2200:\tlearn: 35.6388324\ttotal: 1m 34s\tremaining: 3.7s\n"
     ]
    },
    {
     "name": "stderr",
     "output_type": "stream",
     "text": [
      "[I 2023-11-07 09:19:59,118] Trial 32 finished with value: 57.23689410471585 and parameters: {'iterations': 2287, 'learning_rate': 0.012029485691579083, 'depth': 8, 'min_data_in_leaf': 31, 'l2_leaf_reg': 9, 'bagging_temperature': 0.6610958126294054, 'random_strength': 0.6344353725783569, 'border_count': 732, 'rsm': 0.3570900754412693}. Best is trial 30 with value: 56.9709816233215.\n"
     ]
    },
    {
     "name": "stdout",
     "output_type": "stream",
     "text": [
      "2286:\tlearn: 35.1894316\ttotal: 1m 39s\tremaining: 0us\n",
      "0:\tlearn: 151.4644894\ttotal: 54.9ms\tremaining: 2m 7s\n",
      "100:\tlearn: 68.5779716\ttotal: 5.74s\tremaining: 2m 6s\n",
      "200:\tlearn: 53.1578673\ttotal: 11s\tremaining: 1m 56s\n",
      "300:\tlearn: 49.6077202\ttotal: 16.2s\tremaining: 1m 49s\n",
      "400:\tlearn: 48.0120877\ttotal: 21.2s\tremaining: 1m 42s\n",
      "500:\tlearn: 46.8828720\ttotal: 25.9s\tremaining: 1m 34s\n",
      "600:\tlearn: 45.8966223\ttotal: 30.5s\tremaining: 1m 27s\n",
      "700:\tlearn: 44.9131196\ttotal: 35s\tremaining: 1m 21s\n",
      "800:\tlearn: 43.9334271\ttotal: 39.8s\tremaining: 1m 15s\n",
      "900:\tlearn: 42.9886716\ttotal: 44.4s\tremaining: 1m 10s\n",
      "1000:\tlearn: 42.2279720\ttotal: 49.2s\tremaining: 1m 5s\n",
      "1100:\tlearn: 41.4605196\ttotal: 54.3s\tremaining: 1m\n",
      "1200:\tlearn: 40.6642066\ttotal: 59.1s\tremaining: 55.6s\n",
      "1300:\tlearn: 39.8929528\ttotal: 1m 4s\tremaining: 51.1s\n",
      "1400:\tlearn: 39.2543580\ttotal: 1m 9s\tremaining: 46s\n",
      "1500:\tlearn: 38.5520946\ttotal: 1m 14s\tremaining: 41s\n",
      "1600:\tlearn: 37.8880090\ttotal: 1m 18s\tremaining: 35.9s\n",
      "1700:\tlearn: 37.2368335\ttotal: 1m 23s\tremaining: 30.9s\n",
      "1800:\tlearn: 36.5826174\ttotal: 1m 28s\tremaining: 25.9s\n",
      "1900:\tlearn: 35.9477137\ttotal: 1m 32s\tremaining: 21s\n",
      "2000:\tlearn: 35.3610588\ttotal: 1m 37s\tremaining: 16.1s\n",
      "2100:\tlearn: 34.8043360\ttotal: 1m 42s\tremaining: 11.2s\n",
      "2200:\tlearn: 34.2565848\ttotal: 1m 47s\tremaining: 6.3s\n",
      "2300:\tlearn: 33.7265535\ttotal: 1m 52s\tremaining: 1.42s\n"
     ]
    },
    {
     "name": "stderr",
     "output_type": "stream",
     "text": [
      "[I 2023-11-07 09:21:54,103] Trial 33 finished with value: 57.12885781189782 and parameters: {'iterations': 2330, 'learning_rate': 0.013412165687666426, 'depth': 8, 'min_data_in_leaf': 31, 'l2_leaf_reg': 9, 'bagging_temperature': 0.663895482044444, 'random_strength': 0.710403164303653, 'border_count': 595, 'rsm': 0.30364854561988985}. Best is trial 30 with value: 56.9709816233215.\n"
     ]
    },
    {
     "name": "stdout",
     "output_type": "stream",
     "text": [
      "2329:\tlearn: 33.5601895\ttotal: 1m 54s\tremaining: 0us\n",
      "0:\tlearn: 151.6795072\ttotal: 52.8ms\tremaining: 2m 2s\n",
      "100:\tlearn: 73.6403545\ttotal: 5.6s\tremaining: 2m 3s\n",
      "200:\tlearn: 55.0837974\ttotal: 12s\tremaining: 2m 6s\n",
      "300:\tlearn: 50.4932165\ttotal: 17.4s\tremaining: 1m 57s\n",
      "400:\tlearn: 48.6303973\ttotal: 23.1s\tremaining: 1m 50s\n",
      "500:\tlearn: 47.4392549\ttotal: 28.7s\tremaining: 1m 44s\n",
      "600:\tlearn: 46.4712528\ttotal: 34.1s\tremaining: 1m 37s\n",
      "700:\tlearn: 45.5633974\ttotal: 39.3s\tremaining: 1m 30s\n",
      "800:\tlearn: 44.6955535\ttotal: 44.7s\tremaining: 1m 24s\n",
      "900:\tlearn: 43.9000753\ttotal: 50.2s\tremaining: 1m 19s\n",
      "1000:\tlearn: 43.1377389\ttotal: 55.6s\tremaining: 1m 13s\n",
      "1100:\tlearn: 42.4170167\ttotal: 1m 1s\tremaining: 1m 8s\n",
      "1200:\tlearn: 41.7132973\ttotal: 1m 7s\tremaining: 1m 2s\n",
      "1300:\tlearn: 41.0008515\ttotal: 1m 13s\tremaining: 57.8s\n",
      "1400:\tlearn: 40.3546036\ttotal: 1m 19s\tremaining: 52.1s\n",
      "1500:\tlearn: 39.6384912\ttotal: 1m 24s\tremaining: 46.4s\n",
      "1600:\tlearn: 38.9928648\ttotal: 1m 30s\tremaining: 40.7s\n",
      "1700:\tlearn: 38.3720413\ttotal: 1m 36s\tremaining: 35s\n",
      "1800:\tlearn: 37.7700375\ttotal: 1m 41s\tremaining: 29.4s\n",
      "1900:\tlearn: 37.2104622\ttotal: 1m 47s\tremaining: 23.7s\n",
      "2000:\tlearn: 36.6261943\ttotal: 1m 52s\tremaining: 18s\n",
      "2100:\tlearn: 36.1148479\ttotal: 1m 58s\tremaining: 12.4s\n",
      "2200:\tlearn: 35.5863124\ttotal: 2m 4s\tremaining: 6.76s\n",
      "2300:\tlearn: 35.0976004\ttotal: 2m 9s\tremaining: 1.13s\n",
      "2320:\tlearn: 35.0060962\ttotal: 2m 11s\tremaining: 0us\n"
     ]
    },
    {
     "name": "stderr",
     "output_type": "stream",
     "text": [
      "[I 2023-11-07 09:24:06,041] Trial 34 finished with value: 57.019297062205816 and parameters: {'iterations': 2321, 'learning_rate': 0.011512163184214781, 'depth': 8, 'min_data_in_leaf': 32, 'l2_leaf_reg': 9, 'bagging_temperature': 0.6677391824956054, 'random_strength': 0.6598692969059118, 'border_count': 601, 'rsm': 0.45512267676836504}. Best is trial 30 with value: 56.9709816233215.\n"
     ]
    },
    {
     "name": "stdout",
     "output_type": "stream",
     "text": [
      "0:\tlearn: 151.6382833\ttotal: 77.1ms\tremaining: 3m 2s\n",
      "100:\tlearn: 73.1512499\ttotal: 5.52s\tremaining: 2m 3s\n",
      "200:\tlearn: 54.9140179\ttotal: 10.9s\tremaining: 1m 57s\n",
      "300:\tlearn: 50.4003370\ttotal: 16.3s\tremaining: 1m 51s\n",
      "400:\tlearn: 48.5467429\ttotal: 21.7s\tremaining: 1m 46s\n",
      "500:\tlearn: 47.3760907\ttotal: 27s\tremaining: 1m 40s\n",
      "600:\tlearn: 46.4151412\ttotal: 32.5s\tremaining: 1m 35s\n",
      "700:\tlearn: 45.5131095\ttotal: 37.8s\tremaining: 1m 29s\n",
      "800:\tlearn: 44.6755014\ttotal: 43.1s\tremaining: 1m 24s\n",
      "900:\tlearn: 43.8457386\ttotal: 48.8s\tremaining: 1m 19s\n",
      "1000:\tlearn: 43.0520376\ttotal: 54.1s\tremaining: 1m 13s\n",
      "1100:\tlearn: 42.2794861\ttotal: 1m\tremaining: 1m 9s\n",
      "1200:\tlearn: 41.5229113\ttotal: 1m 5s\tremaining: 1m 3s\n",
      "1300:\tlearn: 40.8126786\ttotal: 1m 11s\tremaining: 58.2s\n",
      "1400:\tlearn: 40.0876592\ttotal: 1m 16s\tremaining: 52.6s\n",
      "1500:\tlearn: 39.3403566\ttotal: 1m 21s\tremaining: 46.9s\n",
      "1600:\tlearn: 38.7012726\ttotal: 1m 27s\tremaining: 41.5s\n",
      "1700:\tlearn: 38.0984420\ttotal: 1m 32s\tremaining: 36.1s\n",
      "1800:\tlearn: 37.4672870\ttotal: 1m 37s\tremaining: 30.5s\n",
      "1900:\tlearn: 36.9038733\ttotal: 1m 42s\tremaining: 25.1s\n",
      "2000:\tlearn: 36.3865472\ttotal: 1m 48s\tremaining: 19.7s\n",
      "2100:\tlearn: 35.9047438\ttotal: 1m 53s\tremaining: 14.3s\n",
      "2200:\tlearn: 35.3749960\ttotal: 1m 59s\tremaining: 8.93s\n",
      "2300:\tlearn: 34.9005718\ttotal: 2m 5s\tremaining: 3.48s\n"
     ]
    },
    {
     "name": "stderr",
     "output_type": "stream",
     "text": [
      "[I 2023-11-07 09:26:15,409] Trial 35 finished with value: 57.01387746069959 and parameters: {'iterations': 2365, 'learning_rate': 0.011694349750938714, 'depth': 8, 'min_data_in_leaf': 34, 'l2_leaf_reg': 9, 'bagging_temperature': 0.67743896933916, 'random_strength': 0.6561631328902097, 'border_count': 573, 'rsm': 0.45475241180009607}. Best is trial 30 with value: 56.9709816233215.\n"
     ]
    },
    {
     "name": "stdout",
     "output_type": "stream",
     "text": [
      "2364:\tlearn: 34.5557304\ttotal: 2m 8s\tremaining: 0us\n",
      "0:\tlearn: 152.1873146\ttotal: 27.9ms\tremaining: 1m 6s\n",
      "100:\tlearn: 91.7100302\ttotal: 5.44s\tremaining: 2m 3s\n",
      "200:\tlearn: 66.0931681\ttotal: 10.9s\tremaining: 1m 59s\n",
      "300:\tlearn: 56.1123734\ttotal: 16.3s\tremaining: 1m 53s\n",
      "400:\tlearn: 52.1148339\ttotal: 21.8s\tremaining: 1m 48s\n",
      "500:\tlearn: 50.1604542\ttotal: 27.6s\tremaining: 1m 44s\n",
      "600:\tlearn: 48.9620129\ttotal: 33s\tremaining: 1m 38s\n",
      "700:\tlearn: 48.1087409\ttotal: 38.5s\tremaining: 1m 33s\n",
      "800:\tlearn: 47.4112339\ttotal: 44.3s\tremaining: 1m 28s\n",
      "900:\tlearn: 46.8026125\ttotal: 50.6s\tremaining: 1m 24s\n",
      "1000:\tlearn: 46.1833488\ttotal: 56.1s\tremaining: 1m 18s\n",
      "1100:\tlearn: 45.6189599\ttotal: 1m 1s\tremaining: 1m 12s\n",
      "1200:\tlearn: 45.0111550\ttotal: 1m 6s\tremaining: 1m 6s\n",
      "1300:\tlearn: 44.4803639\ttotal: 1m 11s\tremaining: 1m\n",
      "1400:\tlearn: 43.9911382\ttotal: 1m 17s\tremaining: 55.2s\n",
      "1500:\tlearn: 43.4996230\ttotal: 1m 22s\tremaining: 49.7s\n",
      "1600:\tlearn: 42.9929159\ttotal: 1m 28s\tremaining: 44s\n",
      "1700:\tlearn: 42.5564769\ttotal: 1m 33s\tremaining: 38.6s\n",
      "1800:\tlearn: 42.0901315\ttotal: 1m 39s\tremaining: 33s\n",
      "1900:\tlearn: 41.6359488\ttotal: 1m 44s\tremaining: 27.5s\n",
      "2000:\tlearn: 41.2047166\ttotal: 1m 50s\tremaining: 22.1s\n",
      "2100:\tlearn: 40.8023194\ttotal: 1m 56s\tremaining: 16.6s\n",
      "2200:\tlearn: 40.3939555\ttotal: 2m 1s\tremaining: 11.1s\n",
      "2300:\tlearn: 39.9497984\ttotal: 2m 7s\tremaining: 5.53s\n"
     ]
    },
    {
     "name": "stderr",
     "output_type": "stream",
     "text": [
      "[I 2023-11-07 09:28:28,888] Trial 36 finished with value: 57.315135964497124 and parameters: {'iterations': 2401, 'learning_rate': 0.007258276080112186, 'depth': 8, 'min_data_in_leaf': 35, 'l2_leaf_reg': 9, 'bagging_temperature': 0.7255658141461181, 'random_strength': 0.6823333337880101, 'border_count': 581, 'rsm': 0.46448469463754105}. Best is trial 30 with value: 56.9709816233215.\n"
     ]
    },
    {
     "name": "stdout",
     "output_type": "stream",
     "text": [
      "2400:\tlearn: 39.4924655\ttotal: 2m 12s\tremaining: 0us\n",
      "0:\tlearn: 152.2708429\ttotal: 119ms\tremaining: 5m\n",
      "100:\tlearn: 95.3399532\ttotal: 10.6s\tremaining: 4m 15s\n",
      "200:\tlearn: 68.5775409\ttotal: 20.8s\tremaining: 4m 1s\n",
      "300:\tlearn: 56.7701655\ttotal: 31.2s\tremaining: 3m 51s\n",
      "400:\tlearn: 51.3113978\ttotal: 42.4s\tremaining: 3m 45s\n",
      "500:\tlearn: 48.3726444\ttotal: 53.1s\tremaining: 3m 35s\n",
      "600:\tlearn: 46.5125756\ttotal: 1m 3s\tremaining: 3m 23s\n",
      "700:\tlearn: 45.0301061\ttotal: 1m 13s\tremaining: 3m 12s\n",
      "800:\tlearn: 43.7999054\ttotal: 1m 24s\tremaining: 3m 2s\n",
      "900:\tlearn: 42.8222720\ttotal: 1m 35s\tremaining: 2m 53s\n",
      "1000:\tlearn: 41.9720856\ttotal: 1m 46s\tremaining: 2m 42s\n",
      "1100:\tlearn: 41.2140812\ttotal: 1m 56s\tremaining: 2m 32s\n",
      "1200:\tlearn: 40.4625832\ttotal: 2m 7s\tremaining: 2m 21s\n",
      "1300:\tlearn: 39.7927022\ttotal: 2m 17s\tremaining: 2m 10s\n",
      "1400:\tlearn: 39.1074586\ttotal: 2m 28s\tremaining: 2m\n",
      "1500:\tlearn: 38.4374489\ttotal: 2m 39s\tremaining: 1m 49s\n",
      "1600:\tlearn: 37.8445684\ttotal: 2m 49s\tremaining: 1m 39s\n",
      "1700:\tlearn: 37.2532119\ttotal: 3m\tremaining: 1m 28s\n",
      "1800:\tlearn: 36.6511635\ttotal: 3m 10s\tremaining: 1m 17s\n",
      "1900:\tlearn: 36.0852842\ttotal: 3m 20s\tremaining: 1m 7s\n",
      "2000:\tlearn: 35.5379878\ttotal: 3m 31s\tremaining: 56.4s\n",
      "2100:\tlearn: 35.0550499\ttotal: 3m 42s\tremaining: 46s\n",
      "2200:\tlearn: 34.4965113\ttotal: 3m 52s\tremaining: 35.4s\n",
      "2300:\tlearn: 34.0042243\ttotal: 4m 2s\tremaining: 24.7s\n",
      "2400:\tlearn: 33.4617230\ttotal: 4m 13s\tremaining: 14.1s\n",
      "2500:\tlearn: 32.9880419\ttotal: 4m 23s\tremaining: 3.59s\n",
      "2534:\tlearn: 32.8114791\ttotal: 4m 27s\tremaining: 0us\n"
     ]
    },
    {
     "name": "stderr",
     "output_type": "stream",
     "text": [
      "[I 2023-11-07 09:32:57,754] Trial 37 finished with value: 58.144501185705266 and parameters: {'iterations': 2535, 'learning_rate': 0.006609126979714625, 'depth': 11, 'min_data_in_leaf': 27, 'l2_leaf_reg': 10, 'bagging_temperature': 0.7363674743261422, 'random_strength': 0.5856377280788166, 'border_count': 556, 'rsm': 0.49619506191604756}. Best is trial 30 with value: 56.9709816233215.\n"
     ]
    },
    {
     "name": "stdout",
     "output_type": "stream",
     "text": [
      "0:\tlearn: 151.7034047\ttotal: 37ms\tremaining: 1m 26s\n",
      "100:\tlearn: 74.9948421\ttotal: 1.69s\tremaining: 37.3s\n",
      "200:\tlearn: 56.8439947\ttotal: 3.3s\tremaining: 35s\n",
      "300:\tlearn: 52.4847808\ttotal: 5.21s\tremaining: 35.2s\n",
      "400:\tlearn: 50.9335684\ttotal: 7.25s\tremaining: 34.9s\n",
      "500:\tlearn: 50.0801287\ttotal: 9.41s\tremaining: 34.4s\n",
      "600:\tlearn: 49.3211120\ttotal: 11.4s\tremaining: 32.9s\n",
      "700:\tlearn: 48.5693958\ttotal: 13.1s\tremaining: 30.6s\n",
      "800:\tlearn: 47.9581941\ttotal: 14.8s\tremaining: 28.3s\n",
      "900:\tlearn: 47.2987078\ttotal: 16.6s\tremaining: 26.5s\n",
      "1000:\tlearn: 46.7058677\ttotal: 18.4s\tremaining: 24.5s\n",
      "1100:\tlearn: 46.1407951\ttotal: 20.2s\tremaining: 22.6s\n",
      "1200:\tlearn: 45.5850960\ttotal: 22s\tremaining: 20.7s\n",
      "1300:\tlearn: 45.0210402\ttotal: 23.7s\tremaining: 18.9s\n",
      "1400:\tlearn: 44.4965497\ttotal: 25.6s\tremaining: 17s\n",
      "1500:\tlearn: 43.9584869\ttotal: 27.5s\tremaining: 15.3s\n",
      "1600:\tlearn: 43.4670944\ttotal: 29.3s\tremaining: 13.4s\n",
      "1700:\tlearn: 43.0186252\ttotal: 31.1s\tremaining: 11.6s\n",
      "1800:\tlearn: 42.5714205\ttotal: 32.9s\tremaining: 9.72s\n",
      "1900:\tlearn: 42.1482069\ttotal: 34.4s\tremaining: 7.84s\n",
      "2000:\tlearn: 41.7289908\ttotal: 36.1s\tremaining: 6.01s\n",
      "2100:\tlearn: 41.3154960\ttotal: 37.9s\tremaining: 4.2s\n",
      "2200:\tlearn: 40.9399707\ttotal: 39.8s\tremaining: 2.4s\n",
      "2300:\tlearn: 40.5715113\ttotal: 41.5s\tremaining: 595ms\n"
     ]
    },
    {
     "name": "stderr",
     "output_type": "stream",
     "text": [
      "[I 2023-11-07 09:33:40,523] Trial 38 finished with value: 57.460227440946106 and parameters: {'iterations': 2334, 'learning_rate': 0.011362664593075123, 'depth': 6, 'min_data_in_leaf': 1, 'l2_leaf_reg': 9, 'bagging_temperature': 0.6804496306827923, 'random_strength': 0.6511620130751616, 'border_count': 501, 'rsm': 0.6050494396333379}. Best is trial 30 with value: 56.9709816233215.\n"
     ]
    },
    {
     "name": "stdout",
     "output_type": "stream",
     "text": [
      "2333:\tlearn: 40.4550885\ttotal: 42.1s\tremaining: 0us\n",
      "0:\tlearn: 152.3175879\ttotal: 113ms\tremaining: 3m 20s\n",
      "100:\tlearn: 98.4037829\ttotal: 7.26s\tremaining: 2m 1s\n",
      "200:\tlearn: 71.5600715\ttotal: 15.1s\tremaining: 1m 59s\n",
      "300:\tlearn: 59.1873619\ttotal: 22.9s\tremaining: 1m 52s\n",
      "400:\tlearn: 53.4977273\ttotal: 30.8s\tremaining: 1m 46s\n",
      "500:\tlearn: 50.5999916\ttotal: 38.2s\tremaining: 1m 37s\n",
      "600:\tlearn: 48.9185366\ttotal: 45.7s\tremaining: 1m 30s\n",
      "700:\tlearn: 47.6999368\ttotal: 52.9s\tremaining: 1m 21s\n",
      "800:\tlearn: 46.7877161\ttotal: 1m\tremaining: 1m 14s\n",
      "900:\tlearn: 46.0694087\ttotal: 1m 8s\tremaining: 1m 6s\n",
      "1000:\tlearn: 45.4063878\ttotal: 1m 15s\tremaining: 59.3s\n",
      "1100:\tlearn: 44.8005273\ttotal: 1m 23s\tremaining: 51.7s\n",
      "1200:\tlearn: 44.2270474\ttotal: 1m 30s\tremaining: 44.2s\n",
      "1300:\tlearn: 43.6398300\ttotal: 1m 38s\tremaining: 36.6s\n",
      "1400:\tlearn: 43.1013847\ttotal: 1m 45s\tremaining: 29s\n",
      "1500:\tlearn: 42.5623910\ttotal: 1m 52s\tremaining: 21.4s\n",
      "1600:\tlearn: 42.0355960\ttotal: 2m\tremaining: 13.9s\n",
      "1700:\tlearn: 41.5029854\ttotal: 2m 7s\tremaining: 6.36s\n",
      "1785:\tlearn: 41.0878201\ttotal: 2m 13s\tremaining: 0us\n"
     ]
    },
    {
     "name": "stderr",
     "output_type": "stream",
     "text": [
      "[I 2023-11-07 09:35:55,040] Trial 39 finished with value: 57.880809045219294 and parameters: {'iterations': 1786, 'learning_rate': 0.006052977544324623, 'depth': 9, 'min_data_in_leaf': 42, 'l2_leaf_reg': 8, 'bagging_temperature': 0.7905509047978949, 'random_strength': 0.5916100750411848, 'border_count': 629, 'rsm': 0.42162503090428066}. Best is trial 30 with value: 56.9709816233215.\n"
     ]
    },
    {
     "name": "stdout",
     "output_type": "stream",
     "text": [
      "0:\tlearn: 151.7831458\ttotal: 50.6ms\tremaining: 1m 52s\n",
      "100:\tlearn: 76.8866540\ttotal: 5.33s\tremaining: 1m 52s\n",
      "200:\tlearn: 56.6091591\ttotal: 10.1s\tremaining: 1m 41s\n",
      "300:\tlearn: 51.2405359\ttotal: 13.8s\tremaining: 1m 28s\n",
      "400:\tlearn: 49.1358955\ttotal: 18.7s\tremaining: 1m 25s\n",
      "500:\tlearn: 47.9103604\ttotal: 23s\tremaining: 1m 19s\n",
      "600:\tlearn: 47.0371480\ttotal: 27.5s\tremaining: 1m 14s\n",
      "700:\tlearn: 46.2063791\ttotal: 32.1s\tremaining: 1m 9s\n",
      "800:\tlearn: 45.3333602\ttotal: 36.7s\tremaining: 1m 5s\n",
      "900:\tlearn: 44.5199566\ttotal: 41.2s\tremaining: 1m\n",
      "1000:\tlearn: 43.7205216\ttotal: 45.7s\tremaining: 56s\n",
      "1100:\tlearn: 42.9673557\ttotal: 50.3s\tremaining: 51.5s\n",
      "1200:\tlearn: 42.2627303\ttotal: 55s\tremaining: 47s\n",
      "1300:\tlearn: 41.6107147\ttotal: 59.6s\tremaining: 42.4s\n",
      "1400:\tlearn: 40.9777431\ttotal: 1m 4s\tremaining: 37.8s\n",
      "1500:\tlearn: 40.3340263\ttotal: 1m 9s\tremaining: 33.5s\n",
      "1600:\tlearn: 39.6135024\ttotal: 1m 13s\tremaining: 28.9s\n",
      "1700:\tlearn: 38.9729883\ttotal: 1m 18s\tremaining: 24.4s\n",
      "1800:\tlearn: 38.4028600\ttotal: 1m 23s\tremaining: 19.8s\n",
      "1900:\tlearn: 37.8495782\ttotal: 1m 28s\tremaining: 15.1s\n",
      "2000:\tlearn: 37.3472363\ttotal: 1m 32s\tremaining: 10.5s\n",
      "2100:\tlearn: 36.8090317\ttotal: 1m 37s\tremaining: 5.83s\n",
      "2200:\tlearn: 36.3006869\ttotal: 1m 41s\tremaining: 1.2s\n"
     ]
    },
    {
     "name": "stderr",
     "output_type": "stream",
     "text": [
      "[I 2023-11-07 09:37:38,699] Trial 40 finished with value: 57.35496197148475 and parameters: {'iterations': 2227, 'learning_rate': 0.010579371517111512, 'depth': 8, 'min_data_in_leaf': 24, 'l2_leaf_reg': 9, 'bagging_temperature': 0.6643954278291748, 'random_strength': 0.6494057742388191, 'border_count': 514, 'rsm': 0.4859003147730035}. Best is trial 30 with value: 56.9709816233215.\n"
     ]
    },
    {
     "name": "stdout",
     "output_type": "stream",
     "text": [
      "2226:\tlearn: 36.1726138\ttotal: 1m 43s\tremaining: 0us\n",
      "0:\tlearn: 151.4900017\ttotal: 41.9ms\tremaining: 1m 36s\n",
      "100:\tlearn: 70.3957486\ttotal: 4.52s\tremaining: 1m 38s\n",
      "200:\tlearn: 53.8155612\ttotal: 9.13s\tremaining: 1m 35s\n",
      "300:\tlearn: 49.8295918\ttotal: 13.7s\tremaining: 1m 30s\n",
      "400:\tlearn: 48.1720769\ttotal: 18.4s\tremaining: 1m 26s\n",
      "500:\tlearn: 47.0376464\ttotal: 23s\tremaining: 1m 22s\n",
      "600:\tlearn: 45.9424517\ttotal: 28s\tremaining: 1m 18s\n",
      "700:\tlearn: 44.9754822\ttotal: 32.5s\tremaining: 1m 13s\n",
      "800:\tlearn: 44.0945510\ttotal: 37.2s\tremaining: 1m 9s\n",
      "900:\tlearn: 43.2276733\ttotal: 41.6s\tremaining: 1m 4s\n",
      "1000:\tlearn: 42.4171739\ttotal: 46.2s\tremaining: 59.7s\n",
      "1100:\tlearn: 41.7471341\ttotal: 50.7s\tremaining: 55s\n",
      "1200:\tlearn: 41.0243351\ttotal: 55.1s\tremaining: 50.2s\n",
      "1300:\tlearn: 40.2902429\ttotal: 59.7s\tremaining: 45.6s\n",
      "1400:\tlearn: 39.6017197\ttotal: 1m 4s\tremaining: 40.9s\n",
      "1500:\tlearn: 38.8882500\ttotal: 1m 8s\tremaining: 36.4s\n",
      "1600:\tlearn: 38.1662735\ttotal: 1m 13s\tremaining: 31.8s\n",
      "1700:\tlearn: 37.5321565\ttotal: 1m 17s\tremaining: 27.2s\n",
      "1800:\tlearn: 36.9332605\ttotal: 1m 22s\tremaining: 22.6s\n",
      "1900:\tlearn: 36.3166797\ttotal: 1m 27s\tremaining: 18.1s\n",
      "2000:\tlearn: 35.7582191\ttotal: 1m 31s\tremaining: 13.5s\n",
      "2100:\tlearn: 35.2583602\ttotal: 1m 36s\tremaining: 8.93s\n",
      "2200:\tlearn: 34.7389503\ttotal: 1m 41s\tremaining: 4.34s\n"
     ]
    },
    {
     "name": "stderr",
     "output_type": "stream",
     "text": [
      "[I 2023-11-07 09:39:25,319] Trial 41 finished with value: 57.1784135034276 and parameters: {'iterations': 2295, 'learning_rate': 0.012632225185698835, 'depth': 8, 'min_data_in_leaf': 36, 'l2_leaf_reg': 9, 'bagging_temperature': 0.6604322493759828, 'random_strength': 0.6403268151424486, 'border_count': 629, 'rsm': 0.3909931525865339}. Best is trial 30 with value: 56.9709816233215.\n"
     ]
    },
    {
     "name": "stdout",
     "output_type": "stream",
     "text": [
      "2294:\tlearn: 34.2415032\ttotal: 1m 45s\tremaining: 0us\n",
      "0:\tlearn: 151.3547476\ttotal: 38.4ms\tremaining: 1m 35s\n",
      "100:\tlearn: 67.1063472\ttotal: 3.76s\tremaining: 1m 28s\n",
      "200:\tlearn: 53.2300807\ttotal: 7.47s\tremaining: 1m 24s\n",
      "300:\tlearn: 50.2138398\ttotal: 11.3s\tremaining: 1m 21s\n",
      "400:\tlearn: 48.9548945\ttotal: 15.2s\tremaining: 1m 18s\n",
      "500:\tlearn: 47.9806265\ttotal: 18.9s\tremaining: 1m 14s\n",
      "600:\tlearn: 46.9997525\ttotal: 22.8s\tremaining: 1m 11s\n",
      "700:\tlearn: 46.1343296\ttotal: 26.3s\tremaining: 1m 6s\n",
      "800:\tlearn: 45.3035832\ttotal: 29.7s\tremaining: 1m 2s\n",
      "900:\tlearn: 44.5729450\ttotal: 33.4s\tremaining: 58.6s\n",
      "1000:\tlearn: 43.8866623\ttotal: 37.2s\tremaining: 55.1s\n",
      "1100:\tlearn: 43.1483411\ttotal: 41.4s\tremaining: 52s\n",
      "1200:\tlearn: 42.3960995\ttotal: 45.1s\tremaining: 48.1s\n",
      "1300:\tlearn: 41.6089302\ttotal: 48.8s\tremaining: 44.4s\n",
      "1400:\tlearn: 40.8932767\ttotal: 52.5s\tremaining: 40.6s\n",
      "1500:\tlearn: 40.2640916\ttotal: 56.2s\tremaining: 36.8s\n",
      "1600:\tlearn: 39.5966302\ttotal: 59.8s\tremaining: 32.9s\n",
      "1700:\tlearn: 39.0326489\ttotal: 1m 3s\tremaining: 29.2s\n",
      "1800:\tlearn: 38.4874120\ttotal: 1m 7s\tremaining: 25.4s\n",
      "1900:\tlearn: 37.9644663\ttotal: 1m 10s\tremaining: 21.7s\n",
      "2000:\tlearn: 37.4472274\ttotal: 1m 14s\tremaining: 18s\n",
      "2100:\tlearn: 36.9596350\ttotal: 1m 18s\tremaining: 14.2s\n",
      "2200:\tlearn: 36.4945335\ttotal: 1m 21s\tremaining: 10.5s\n",
      "2300:\tlearn: 36.0796413\ttotal: 1m 25s\tremaining: 6.77s\n",
      "2400:\tlearn: 35.6279467\ttotal: 1m 29s\tremaining: 3.05s\n"
     ]
    },
    {
     "name": "stderr",
     "output_type": "stream",
     "text": [
      "[I 2023-11-07 09:40:58,287] Trial 42 finished with value: 57.020478334269164 and parameters: {'iterations': 2483, 'learning_rate': 0.014174191406807165, 'depth': 7, 'min_data_in_leaf': 38, 'l2_leaf_reg': 10, 'bagging_temperature': 0.7249956614110252, 'random_strength': 0.7041192771043, 'border_count': 627, 'rsm': 0.5431522110957284}. Best is trial 30 with value: 56.9709816233215.\n"
     ]
    },
    {
     "name": "stdout",
     "output_type": "stream",
     "text": [
      "2482:\tlearn: 35.2969319\ttotal: 1m 32s\tremaining: 0us\n",
      "0:\tlearn: 151.2044713\ttotal: 28.8ms\tremaining: 1m 10s\n",
      "100:\tlearn: 64.4731098\ttotal: 3.88s\tremaining: 1m 30s\n",
      "200:\tlearn: 52.3962747\ttotal: 8.1s\tremaining: 1m 30s\n",
      "300:\tlearn: 49.7907582\ttotal: 11.9s\tremaining: 1m 25s\n",
      "400:\tlearn: 48.6105343\ttotal: 15.5s\tremaining: 1m 19s\n",
      "500:\tlearn: 47.5339204\ttotal: 19.1s\tremaining: 1m 14s\n",
      "600:\tlearn: 46.4573480\ttotal: 22.9s\tremaining: 1m 10s\n",
      "700:\tlearn: 45.5207218\ttotal: 26.6s\tremaining: 1m 6s\n",
      "800:\tlearn: 44.7702762\ttotal: 30.2s\tremaining: 1m 2s\n",
      "900:\tlearn: 43.9408414\ttotal: 33.8s\tremaining: 58.4s\n",
      "1000:\tlearn: 43.1512298\ttotal: 37.4s\tremaining: 54.4s\n",
      "1100:\tlearn: 42.3265535\ttotal: 41.1s\tremaining: 50.6s\n",
      "1200:\tlearn: 41.4952231\ttotal: 44.6s\tremaining: 46.7s\n",
      "1300:\tlearn: 40.7945761\ttotal: 48.3s\tremaining: 42.9s\n",
      "1400:\tlearn: 40.0731383\ttotal: 52s\tremaining: 39.3s\n",
      "1500:\tlearn: 39.4071121\ttotal: 55.7s\tremaining: 35.5s\n",
      "1600:\tlearn: 38.7768017\ttotal: 59.4s\tremaining: 31.8s\n",
      "1700:\tlearn: 38.1852815\ttotal: 1m 3s\tremaining: 28.1s\n",
      "1800:\tlearn: 37.5989325\ttotal: 1m 7s\tremaining: 24.5s\n",
      "1900:\tlearn: 37.1159497\ttotal: 1m 10s\tremaining: 20.7s\n",
      "2000:\tlearn: 36.5947365\ttotal: 1m 14s\tremaining: 17s\n",
      "2100:\tlearn: 36.1482665\ttotal: 1m 18s\tremaining: 13.3s\n",
      "2200:\tlearn: 35.6632254\ttotal: 1m 21s\tremaining: 9.53s\n",
      "2300:\tlearn: 35.1356264\ttotal: 1m 25s\tremaining: 5.83s\n",
      "2400:\tlearn: 34.6134825\ttotal: 1m 29s\tremaining: 2.11s\n"
     ]
    },
    {
     "name": "stderr",
     "output_type": "stream",
     "text": [
      "[I 2023-11-07 09:42:29,987] Trial 43 finished with value: 57.18555908017221 and parameters: {'iterations': 2458, 'learning_rate': 0.015475537531994042, 'depth': 7, 'min_data_in_leaf': 56, 'l2_leaf_reg': 10, 'bagging_temperature': 0.759605798029316, 'random_strength': 0.7139262789988472, 'border_count': 607, 'rsm': 0.5431304386823956}. Best is trial 30 with value: 56.9709816233215.\n"
     ]
    },
    {
     "name": "stdout",
     "output_type": "stream",
     "text": [
      "2457:\tlearn: 34.3332517\ttotal: 1m 31s\tremaining: 0us\n",
      "0:\tlearn: 152.0099631\ttotal: 6.69ms\tremaining: 19.2s\n",
      "100:\tlearn: 85.2172800\ttotal: 801ms\tremaining: 22s\n",
      "200:\tlearn: 62.9748249\ttotal: 1.49s\tremaining: 19.8s\n",
      "300:\tlearn: 56.0269100\ttotal: 2.29s\tremaining: 19.6s\n",
      "400:\tlearn: 53.5017309\ttotal: 3.11s\tremaining: 19.2s\n",
      "500:\tlearn: 52.3741240\ttotal: 3.91s\tremaining: 18.6s\n",
      "600:\tlearn: 51.7538862\ttotal: 4.63s\tremaining: 17.5s\n",
      "700:\tlearn: 51.2616062\ttotal: 5.45s\tremaining: 16.9s\n",
      "800:\tlearn: 50.7528492\ttotal: 6.15s\tremaining: 15.9s\n",
      "900:\tlearn: 50.3066031\ttotal: 6.93s\tremaining: 15.2s\n",
      "1000:\tlearn: 49.8957124\ttotal: 7.69s\tremaining: 14.4s\n",
      "1100:\tlearn: 49.4766818\ttotal: 8.38s\tremaining: 13.5s\n",
      "1200:\tlearn: 49.0656695\ttotal: 9.11s\tremaining: 12.7s\n",
      "1300:\tlearn: 48.7162228\ttotal: 9.82s\tremaining: 11.9s\n",
      "1400:\tlearn: 48.3695405\ttotal: 10.6s\tremaining: 11.1s\n",
      "1500:\tlearn: 48.0154976\ttotal: 11.3s\tremaining: 10.4s\n",
      "1600:\tlearn: 47.6814427\ttotal: 12s\tremaining: 9.58s\n",
      "1700:\tlearn: 47.3144166\ttotal: 12.7s\tremaining: 8.79s\n",
      "1800:\tlearn: 46.9594579\ttotal: 13.4s\tremaining: 8.04s\n",
      "1900:\tlearn: 46.5799264\ttotal: 14.2s\tremaining: 7.32s\n",
      "2000:\tlearn: 46.2103621\ttotal: 15s\tremaining: 6.58s\n",
      "2100:\tlearn: 45.9137375\ttotal: 15.8s\tremaining: 5.84s\n",
      "2200:\tlearn: 45.6607791\ttotal: 16.5s\tremaining: 5.08s\n",
      "2300:\tlearn: 45.4038265\ttotal: 17.2s\tremaining: 4.32s\n",
      "2400:\tlearn: 45.1376124\ttotal: 18.1s\tremaining: 3.59s\n",
      "2500:\tlearn: 44.8775144\ttotal: 18.8s\tremaining: 2.83s\n",
      "2600:\tlearn: 44.6236448\ttotal: 19.5s\tremaining: 2.08s\n",
      "2700:\tlearn: 44.3681828\ttotal: 20.2s\tremaining: 1.33s\n",
      "2800:\tlearn: 44.1260613\ttotal: 21s\tremaining: 577ms\n"
     ]
    },
    {
     "name": "stderr",
     "output_type": "stream",
     "text": [
      "[I 2023-11-07 09:42:52,097] Trial 44 finished with value: 57.40932276612276 and parameters: {'iterations': 2878, 'learning_rate': 0.008919458669593556, 'depth': 5, 'min_data_in_leaf': 47, 'l2_leaf_reg': 10, 'bagging_temperature': 0.6997537834907517, 'random_strength': 0.6912630729426115, 'border_count': 710, 'rsm': 0.5855756820560281}. Best is trial 30 with value: 56.9709816233215.\n"
     ]
    },
    {
     "name": "stdout",
     "output_type": "stream",
     "text": [
      "2877:\tlearn: 43.9519634\ttotal: 21.5s\tremaining: 0us\n",
      "0:\tlearn: 151.1505200\ttotal: 46.2ms\tremaining: 1m 31s\n",
      "100:\tlearn: 62.5966330\ttotal: 6.05s\tremaining: 1m 52s\n",
      "200:\tlearn: 49.5482639\ttotal: 12.3s\tremaining: 1m 49s\n",
      "300:\tlearn: 46.0298648\ttotal: 18.3s\tremaining: 1m 42s\n",
      "400:\tlearn: 43.9329552\ttotal: 24.4s\tremaining: 1m 36s\n",
      "500:\tlearn: 42.2983067\ttotal: 30.6s\tremaining: 1m 30s\n",
      "600:\tlearn: 40.6862029\ttotal: 36.4s\tremaining: 1m 23s\n",
      "700:\tlearn: 39.1936697\ttotal: 42.4s\tremaining: 1m 17s\n",
      "800:\tlearn: 37.7520578\ttotal: 47.8s\tremaining: 1m 10s\n",
      "900:\tlearn: 36.3319580\ttotal: 53.2s\tremaining: 1m 3s\n",
      "1000:\tlearn: 35.1176239\ttotal: 58.3s\tremaining: 57.2s\n",
      "1100:\tlearn: 33.9686558\ttotal: 1m 3s\tremaining: 50.8s\n",
      "1200:\tlearn: 32.8692162\ttotal: 1m 8s\tremaining: 44.6s\n",
      "1300:\tlearn: 31.8642033\ttotal: 1m 14s\tremaining: 38.8s\n",
      "1400:\tlearn: 30.9033245\ttotal: 1m 19s\tremaining: 32.9s\n",
      "1500:\tlearn: 30.0127770\ttotal: 1m 24s\tremaining: 27s\n",
      "1600:\tlearn: 29.2320513\ttotal: 1m 29s\tremaining: 21.3s\n",
      "1700:\tlearn: 28.4929948\ttotal: 1m 34s\tremaining: 15.7s\n",
      "1800:\tlearn: 27.7821931\ttotal: 1m 39s\tremaining: 10.1s\n",
      "1900:\tlearn: 27.0777623\ttotal: 1m 44s\tremaining: 4.51s\n",
      "1982:\tlearn: 26.5063572\ttotal: 1m 48s\tremaining: 0us\n"
     ]
    },
    {
     "name": "stderr",
     "output_type": "stream",
     "text": [
      "[I 2023-11-07 09:44:41,549] Trial 45 finished with value: 57.4086802519235 and parameters: {'iterations': 1983, 'learning_rate': 0.015780360435927992, 'depth': 10, 'min_data_in_leaf': 38, 'l2_leaf_reg': 8, 'bagging_temperature': 0.8104191505081896, 'random_strength': 0.7394202093993517, 'border_count': 669, 'rsm': 0.5160923802190739}. Best is trial 30 with value: 56.9709816233215.\n"
     ]
    },
    {
     "name": "stdout",
     "output_type": "stream",
     "text": [
      "0:\tlearn: 151.7593160\ttotal: 11.8ms\tremaining: 30.3s\n",
      "100:\tlearn: 76.1306675\ttotal: 1.03s\tremaining: 25.3s\n",
      "200:\tlearn: 57.4245000\ttotal: 2.08s\tremaining: 24.6s\n",
      "300:\tlearn: 52.8273551\ttotal: 3.03s\tremaining: 22.9s\n",
      "400:\tlearn: 51.1690794\ttotal: 4.05s\tremaining: 22s\n",
      "500:\tlearn: 50.3145658\ttotal: 5s\tremaining: 20.8s\n",
      "600:\tlearn: 49.6121333\ttotal: 6.02s\tremaining: 19.8s\n",
      "700:\tlearn: 48.9819155\ttotal: 7s\tremaining: 18.8s\n",
      "800:\tlearn: 48.2951698\ttotal: 8.06s\tremaining: 17.9s\n",
      "900:\tlearn: 47.7048705\ttotal: 9.05s\tremaining: 16.9s\n",
      "1000:\tlearn: 47.0987856\ttotal: 10s\tremaining: 15.8s\n",
      "1100:\tlearn: 46.6006831\ttotal: 11s\tremaining: 14.8s\n",
      "1200:\tlearn: 46.1438374\ttotal: 12.1s\tremaining: 13.8s\n",
      "1300:\tlearn: 45.7253574\ttotal: 13.1s\tremaining: 12.9s\n",
      "1400:\tlearn: 45.2584077\ttotal: 14.1s\tremaining: 11.9s\n",
      "1500:\tlearn: 44.7805446\ttotal: 15.1s\tremaining: 10.9s\n",
      "1600:\tlearn: 44.3287894\ttotal: 16.2s\tremaining: 9.88s\n",
      "1700:\tlearn: 43.8827409\ttotal: 17.2s\tremaining: 8.91s\n",
      "1800:\tlearn: 43.4181972\ttotal: 18.3s\tremaining: 7.92s\n",
      "1900:\tlearn: 42.9695161\ttotal: 19.4s\tremaining: 6.91s\n",
      "2000:\tlearn: 42.5050682\ttotal: 20.6s\tremaining: 5.95s\n",
      "2100:\tlearn: 42.0895640\ttotal: 21.8s\tremaining: 4.96s\n",
      "2200:\tlearn: 41.6823427\ttotal: 22.9s\tremaining: 3.95s\n",
      "2300:\tlearn: 41.2707809\ttotal: 24.1s\tremaining: 2.92s\n",
      "2400:\tlearn: 40.8875829\ttotal: 25.1s\tremaining: 1.87s\n",
      "2500:\tlearn: 40.5389820\ttotal: 26.2s\tremaining: 827ms\n"
     ]
    },
    {
     "name": "stderr",
     "output_type": "stream",
     "text": [
      "[I 2023-11-07 09:45:09,035] Trial 46 finished with value: 57.251508057417794 and parameters: {'iterations': 2580, 'learning_rate': 0.011145199034905871, 'depth': 6, 'min_data_in_leaf': 17, 'l2_leaf_reg': 10, 'bagging_temperature': 0.7372748459041039, 'random_strength': 0.6815453842400986, 'border_count': 458, 'rsm': 0.45427728707220766}. Best is trial 30 with value: 56.9709816233215.\n"
     ]
    },
    {
     "name": "stdout",
     "output_type": "stream",
     "text": [
      "2579:\tlearn: 40.2687453\ttotal: 27s\tremaining: 0us\n",
      "0:\tlearn: 152.4027865\ttotal: 45.1ms\tremaining: 1m 57s\n",
      "100:\tlearn: 101.9310694\ttotal: 4.24s\tremaining: 1m 45s\n",
      "200:\tlearn: 75.3970358\ttotal: 8.33s\tremaining: 1m 39s\n",
      "300:\tlearn: 62.2540697\ttotal: 12.2s\tremaining: 1m 33s\n",
      "400:\tlearn: 55.9027918\ttotal: 16.5s\tremaining: 1m 30s\n",
      "500:\tlearn: 52.7238347\ttotal: 20.6s\tremaining: 1m 26s\n",
      "600:\tlearn: 50.9059300\ttotal: 24.8s\tremaining: 1m 22s\n",
      "700:\tlearn: 49.7562491\ttotal: 28.9s\tremaining: 1m 18s\n",
      "800:\tlearn: 48.9470586\ttotal: 32.9s\tremaining: 1m 14s\n",
      "900:\tlearn: 48.3076039\ttotal: 37s\tremaining: 1m 10s\n",
      "1000:\tlearn: 47.7976795\ttotal: 41.1s\tremaining: 1m 5s\n",
      "1100:\tlearn: 47.3523161\ttotal: 45.1s\tremaining: 1m 1s\n",
      "1200:\tlearn: 46.9194555\ttotal: 49.3s\tremaining: 57.7s\n",
      "1300:\tlearn: 46.4583659\ttotal: 53.5s\tremaining: 53.7s\n",
      "1400:\tlearn: 46.0509653\ttotal: 58s\tremaining: 49.9s\n",
      "1500:\tlearn: 45.6179812\ttotal: 1m 2s\tremaining: 45.9s\n",
      "1600:\tlearn: 45.1600060\ttotal: 1m 6s\tremaining: 41.9s\n",
      "1700:\tlearn: 44.7332117\ttotal: 1m 10s\tremaining: 37.8s\n",
      "1800:\tlearn: 44.3015440\ttotal: 1m 15s\tremaining: 33.7s\n",
      "1900:\tlearn: 43.8983294\ttotal: 1m 19s\tremaining: 29.6s\n",
      "2000:\tlearn: 43.5240918\ttotal: 1m 24s\tremaining: 25.4s\n",
      "2100:\tlearn: 43.1588138\ttotal: 1m 28s\tremaining: 21.3s\n",
      "2200:\tlearn: 42.7833308\ttotal: 1m 32s\tremaining: 17.1s\n",
      "2300:\tlearn: 42.4087448\ttotal: 1m 36s\tremaining: 12.9s\n",
      "2400:\tlearn: 42.0667368\ttotal: 1m 41s\tremaining: 8.7s\n",
      "2500:\tlearn: 41.6948892\ttotal: 1m 45s\tremaining: 4.48s\n",
      "2600:\tlearn: 41.3128420\ttotal: 1m 50s\tremaining: 254ms\n"
     ]
    },
    {
     "name": "stderr",
     "output_type": "stream",
     "text": [
      "[I 2023-11-07 09:47:00,048] Trial 47 finished with value: 57.651253070823905 and parameters: {'iterations': 2607, 'learning_rate': 0.005550736770679285, 'depth': 8, 'min_data_in_leaf': 66, 'l2_leaf_reg': 9, 'bagging_temperature': 0.5639726732758054, 'random_strength': 0.7543103754846331, 'border_count': 508, 'rsm': 0.6538210106818549}. Best is trial 30 with value: 56.9709816233215.\n"
     ]
    },
    {
     "name": "stdout",
     "output_type": "stream",
     "text": [
      "2606:\tlearn: 41.2916698\ttotal: 1m 50s\tremaining: 0us\n",
      "0:\tlearn: 150.0961155\ttotal: 27ms\tremaining: 58.1s\n",
      "100:\tlearn: 54.8490525\ttotal: 3.29s\tremaining: 1m 6s\n",
      "200:\tlearn: 49.4729449\ttotal: 6.6s\tremaining: 1m 3s\n",
      "300:\tlearn: 47.5477158\ttotal: 9.65s\tremaining: 59.3s\n",
      "400:\tlearn: 45.9152842\ttotal: 12.7s\tremaining: 55.6s\n",
      "500:\tlearn: 44.5268167\ttotal: 15.9s\tremaining: 52.2s\n",
      "600:\tlearn: 43.2280908\ttotal: 19s\tremaining: 49s\n",
      "700:\tlearn: 41.9343008\ttotal: 22s\tremaining: 45.6s\n",
      "800:\tlearn: 40.7844982\ttotal: 25.1s\tremaining: 42.3s\n",
      "900:\tlearn: 39.6535255\ttotal: 28.3s\tremaining: 39.3s\n",
      "1000:\tlearn: 38.5511018\ttotal: 31.6s\tremaining: 36.2s\n",
      "1100:\tlearn: 37.5915682\ttotal: 34.7s\tremaining: 33s\n",
      "1200:\tlearn: 36.6694430\ttotal: 37.8s\tremaining: 29.9s\n",
      "1300:\tlearn: 35.8413269\ttotal: 41s\tremaining: 26.8s\n",
      "1400:\tlearn: 35.0842694\ttotal: 44.2s\tremaining: 23.6s\n",
      "1500:\tlearn: 34.4092879\ttotal: 47.3s\tremaining: 20.5s\n",
      "1600:\tlearn: 33.6829189\ttotal: 50.4s\tremaining: 17.3s\n",
      "1700:\tlearn: 32.9626728\ttotal: 53.7s\tremaining: 14.2s\n",
      "1800:\tlearn: 32.3538490\ttotal: 56.9s\tremaining: 11s\n",
      "1900:\tlearn: 31.7577782\ttotal: 60s\tremaining: 7.85s\n",
      "2000:\tlearn: 31.1404993\ttotal: 1m 3s\tremaining: 4.73s\n",
      "2100:\tlearn: 30.5777806\ttotal: 1m 6s\tremaining: 1.56s\n"
     ]
    },
    {
     "name": "stderr",
     "output_type": "stream",
     "text": [
      "[I 2023-11-07 09:48:08,990] Trial 48 finished with value: 56.710142980507335 and parameters: {'iterations': 2150, 'learning_rate': 0.024455378511188973, 'depth': 7, 'min_data_in_leaf': 10, 'l2_leaf_reg': 9, 'bagging_temperature': 0.6897741884012124, 'random_strength': 0.579016268195538, 'border_count': 539, 'rsm': 0.5554441757810058}. Best is trial 48 with value: 56.710142980507335.\n"
     ]
    },
    {
     "name": "stdout",
     "output_type": "stream",
     "text": [
      "2149:\tlearn: 30.2605526\ttotal: 1m 8s\tremaining: 0us\n",
      "0:\tlearn: 150.1058940\ttotal: 5.29ms\tremaining: 11s\n",
      "100:\tlearn: 56.7490737\ttotal: 559ms\tremaining: 11s\n",
      "200:\tlearn: 51.9440635\ttotal: 1.12s\tremaining: 10.5s\n",
      "300:\tlearn: 50.4211192\ttotal: 1.7s\tremaining: 10.1s\n",
      "400:\tlearn: 49.1669056\ttotal: 2.25s\tremaining: 9.47s\n",
      "500:\tlearn: 47.9873619\ttotal: 2.82s\tremaining: 8.94s\n",
      "600:\tlearn: 46.9392597\ttotal: 3.37s\tremaining: 8.34s\n",
      "700:\tlearn: 45.8597902\ttotal: 3.97s\tremaining: 7.87s\n",
      "800:\tlearn: 44.9366484\ttotal: 4.52s\tremaining: 7.28s\n",
      "900:\tlearn: 44.1758457\ttotal: 5.06s\tremaining: 6.67s\n",
      "1000:\tlearn: 43.4189582\ttotal: 5.6s\tremaining: 6.09s\n",
      "1100:\tlearn: 42.6784249\ttotal: 6.16s\tremaining: 5.53s\n",
      "1200:\tlearn: 41.9599023\ttotal: 6.75s\tremaining: 5s\n",
      "1300:\tlearn: 41.3039101\ttotal: 7.29s\tremaining: 4.42s\n",
      "1400:\tlearn: 40.7796189\ttotal: 7.83s\tremaining: 3.85s\n",
      "1500:\tlearn: 40.2275975\ttotal: 8.37s\tremaining: 3.28s\n",
      "1600:\tlearn: 39.6934173\ttotal: 8.93s\tremaining: 2.73s\n",
      "1700:\tlearn: 39.2233193\ttotal: 9.48s\tremaining: 2.17s\n",
      "1800:\tlearn: 38.6764189\ttotal: 10s\tremaining: 1.61s\n",
      "1900:\tlearn: 38.2332175\ttotal: 10.6s\tremaining: 1.05s\n",
      "2000:\tlearn: 37.7696471\ttotal: 11.1s\tremaining: 496ms\n"
     ]
    },
    {
     "name": "stderr",
     "output_type": "stream",
     "text": [
      "[I 2023-11-07 09:48:21,049] Trial 49 finished with value: 57.71747071875058 and parameters: {'iterations': 2090, 'learning_rate': 0.024636155924945145, 'depth': 5, 'min_data_in_leaf': 7, 'l2_leaf_reg': 8, 'bagging_temperature': 0.6978833774665054, 'random_strength': 0.5836403410420646, 'border_count': 387, 'rsm': 0.5587251645412703}. Best is trial 48 with value: 56.710142980507335.\n"
     ]
    },
    {
     "name": "stdout",
     "output_type": "stream",
     "text": [
      "2089:\tlearn: 37.3881865\ttotal: 11.6s\tremaining: 0us\n",
      "0:\tlearn: 151.1584324\ttotal: 31ms\tremaining: 59.5s\n",
      "100:\tlearn: 63.6346187\ttotal: 3.21s\tremaining: 57.8s\n",
      "200:\tlearn: 52.1764892\ttotal: 6.42s\tremaining: 54.9s\n",
      "300:\tlearn: 49.6771932\ttotal: 9.66s\tremaining: 52s\n",
      "400:\tlearn: 48.4066305\ttotal: 12.2s\tremaining: 46.3s\n",
      "500:\tlearn: 47.3390624\ttotal: 15s\tremaining: 42.4s\n",
      "600:\tlearn: 46.3285863\ttotal: 17.7s\tremaining: 38.8s\n",
      "700:\tlearn: 45.3792947\ttotal: 20.4s\tremaining: 35.5s\n",
      "800:\tlearn: 44.5627370\ttotal: 23.1s\tremaining: 32.3s\n",
      "900:\tlearn: 43.6203080\ttotal: 25.9s\tremaining: 29.3s\n",
      "1000:\tlearn: 42.8191489\ttotal: 28.7s\tremaining: 26.4s\n",
      "1100:\tlearn: 42.0137222\ttotal: 31.5s\tremaining: 23.5s\n",
      "1200:\tlearn: 41.2689885\ttotal: 34.3s\tremaining: 20.6s\n",
      "1300:\tlearn: 40.6065378\ttotal: 37.3s\tremaining: 17.7s\n",
      "1400:\tlearn: 39.9225221\ttotal: 40.1s\tremaining: 14.9s\n",
      "1500:\tlearn: 39.2575964\ttotal: 44.5s\tremaining: 12.4s\n",
      "1600:\tlearn: 38.6266793\ttotal: 48.4s\tremaining: 9.64s\n",
      "1700:\tlearn: 38.0291915\ttotal: 52.2s\tremaining: 6.72s\n",
      "1800:\tlearn: 37.4151763\ttotal: 56.2s\tremaining: 3.71s\n",
      "1900:\tlearn: 36.8357953\ttotal: 59.9s\tremaining: 598ms\n"
     ]
    },
    {
     "name": "stderr",
     "output_type": "stream",
     "text": [
      "[I 2023-11-07 09:49:22,129] Trial 50 finished with value: 57.28551525340557 and parameters: {'iterations': 1920, 'learning_rate': 0.015996709634172452, 'depth': 7, 'min_data_in_leaf': 12, 'l2_leaf_reg': 10, 'bagging_temperature': 0.7618452791981305, 'random_strength': 0.6564666467872444, 'border_count': 536, 'rsm': 0.491234996648236}. Best is trial 48 with value: 56.710142980507335.\n"
     ]
    },
    {
     "name": "stdout",
     "output_type": "stream",
     "text": [
      "1919:\tlearn: 36.7329237\ttotal: 1m\tremaining: 0us\n",
      "0:\tlearn: 151.3907568\ttotal: 8.7ms\tremaining: 18.9s\n",
      "100:\tlearn: 68.8652501\ttotal: 1.7s\tremaining: 34.9s\n",
      "200:\tlearn: 54.5810869\ttotal: 3.26s\tremaining: 32.1s\n",
      "300:\tlearn: 51.6276008\ttotal: 4.9s\tremaining: 30.5s\n",
      "400:\tlearn: 50.4119958\ttotal: 6.42s\tremaining: 28.5s\n",
      "500:\tlearn: 49.4662758\ttotal: 8.13s\tremaining: 27.2s\n",
      "600:\tlearn: 48.6474968\ttotal: 10s\tremaining: 26.3s\n",
      "700:\tlearn: 47.8095209\ttotal: 11.7s\tremaining: 24.6s\n",
      "800:\tlearn: 47.0764907\ttotal: 13.3s\tremaining: 22.8s\n",
      "900:\tlearn: 46.5008431\ttotal: 14.9s\tremaining: 21.2s\n",
      "1000:\tlearn: 45.9046631\ttotal: 16.6s\tremaining: 19.5s\n",
      "1100:\tlearn: 45.2601388\ttotal: 18.2s\tremaining: 17.8s\n",
      "1200:\tlearn: 44.6401977\ttotal: 19.8s\tremaining: 16.1s\n",
      "1300:\tlearn: 44.0407377\ttotal: 21.3s\tremaining: 14.3s\n",
      "1400:\tlearn: 43.4470296\ttotal: 22.8s\tremaining: 12.7s\n",
      "1500:\tlearn: 42.9017456\ttotal: 24.5s\tremaining: 11s\n",
      "1600:\tlearn: 42.3701060\ttotal: 26.3s\tremaining: 9.45s\n",
      "1700:\tlearn: 41.8643957\ttotal: 27.9s\tremaining: 7.8s\n",
      "1800:\tlearn: 41.3824151\ttotal: 29.5s\tremaining: 6.15s\n",
      "1900:\tlearn: 40.8975873\ttotal: 31s\tremaining: 4.5s\n",
      "2000:\tlearn: 40.4646929\ttotal: 32.6s\tremaining: 2.87s\n",
      "2100:\tlearn: 40.0377910\ttotal: 34.3s\tremaining: 1.24s\n"
     ]
    },
    {
     "name": "stderr",
     "output_type": "stream",
     "text": [
      "[I 2023-11-07 09:49:58,215] Trial 51 finished with value: 57.42767291456208 and parameters: {'iterations': 2177, 'learning_rate': 0.013792246446563598, 'depth': 6, 'min_data_in_leaf': 20, 'l2_leaf_reg': 9, 'bagging_temperature': 0.6376967351355297, 'random_strength': 0.7119706674445945, 'border_count': 587, 'rsm': 0.43094210785645864}. Best is trial 48 with value: 56.710142980507335.\n"
     ]
    },
    {
     "name": "stdout",
     "output_type": "stream",
     "text": [
      "2176:\tlearn: 39.6988232\ttotal: 35.5s\tremaining: 0us\n",
      "0:\tlearn: 150.2693432\ttotal: 52.6ms\tremaining: 2m 6s\n",
      "100:\tlearn: 55.5103705\ttotal: 4.56s\tremaining: 1m 44s\n",
      "200:\tlearn: 49.7661414\ttotal: 9.01s\tremaining: 1m 38s\n",
      "300:\tlearn: 48.0520599\ttotal: 13.2s\tremaining: 1m 32s\n",
      "400:\tlearn: 46.3387359\ttotal: 17.2s\tremaining: 1m 25s\n",
      "500:\tlearn: 44.9521127\ttotal: 21.3s\tremaining: 1m 20s\n",
      "600:\tlearn: 43.6525792\ttotal: 25.3s\tremaining: 1m 16s\n",
      "700:\tlearn: 42.2636802\ttotal: 29.4s\tremaining: 1m 11s\n",
      "800:\tlearn: 41.1423180\ttotal: 33.4s\tremaining: 1m 6s\n",
      "900:\tlearn: 40.0645693\ttotal: 37.9s\tremaining: 1m 3s\n",
      "1000:\tlearn: 39.0065178\ttotal: 41.9s\tremaining: 58.8s\n",
      "1100:\tlearn: 38.0116737\ttotal: 45.9s\tremaining: 54.4s\n",
      "1200:\tlearn: 37.1007356\ttotal: 50s\tremaining: 50.2s\n",
      "1300:\tlearn: 36.2466495\ttotal: 54.1s\tremaining: 46s\n",
      "1400:\tlearn: 35.4751655\ttotal: 58.2s\tremaining: 41.8s\n",
      "1500:\tlearn: 34.6867794\ttotal: 1m 2s\tremaining: 37.6s\n",
      "1600:\tlearn: 34.0338288\ttotal: 1m 6s\tremaining: 33.7s\n",
      "1700:\tlearn: 33.3475449\ttotal: 1m 10s\tremaining: 29.5s\n",
      "1800:\tlearn: 32.7222568\ttotal: 1m 14s\tremaining: 25.2s\n",
      "1900:\tlearn: 32.0981701\ttotal: 1m 19s\tremaining: 21.1s\n",
      "2000:\tlearn: 31.5271819\ttotal: 1m 23s\tremaining: 16.9s\n",
      "2100:\tlearn: 30.9691731\ttotal: 1m 27s\tremaining: 12.7s\n",
      "2200:\tlearn: 30.4256984\ttotal: 1m 31s\tremaining: 8.56s\n",
      "2300:\tlearn: 29.9692501\ttotal: 1m 35s\tremaining: 4.41s\n",
      "2400:\tlearn: 29.5545407\ttotal: 1m 39s\tremaining: 250ms\n"
     ]
    },
    {
     "name": "stderr",
     "output_type": "stream",
     "text": [
      "[I 2023-11-07 09:51:39,102] Trial 52 finished with value: 57.04929381064121 and parameters: {'iterations': 2407, 'learning_rate': 0.023217947659045796, 'depth': 7, 'min_data_in_leaf': 26, 'l2_leaf_reg': 9, 'bagging_temperature': 0.6625778881801395, 'random_strength': 0.6129306447657477, 'border_count': 648, 'rsm': 0.6534505414006639}. Best is trial 48 with value: 56.710142980507335.\n"
     ]
    },
    {
     "name": "stdout",
     "output_type": "stream",
     "text": [
      "2406:\tlearn: 29.5063206\ttotal: 1m 40s\tremaining: 0us\n",
      "0:\tlearn: 150.0545751\ttotal: 70.2ms\tremaining: 2m 54s\n",
      "100:\tlearn: 54.2906978\ttotal: 3.61s\tremaining: 1m 25s\n",
      "200:\tlearn: 49.2811842\ttotal: 7.18s\tremaining: 1m 21s\n",
      "300:\tlearn: 47.2573341\ttotal: 10.9s\tremaining: 1m 18s\n",
      "400:\tlearn: 45.3988500\ttotal: 14.7s\tremaining: 1m 15s\n",
      "500:\tlearn: 43.7788929\ttotal: 18.2s\tremaining: 1m 11s\n",
      "600:\tlearn: 42.2785736\ttotal: 21.8s\tremaining: 1m 8s\n",
      "700:\tlearn: 40.9363482\ttotal: 26.2s\tremaining: 1m 6s\n",
      "800:\tlearn: 39.6960462\ttotal: 29.8s\tremaining: 1m 2s\n",
      "900:\tlearn: 38.5649887\ttotal: 33.2s\tremaining: 58.2s\n",
      "1000:\tlearn: 37.5108707\ttotal: 36.8s\tremaining: 54.4s\n",
      "1100:\tlearn: 36.5044361\ttotal: 40.4s\tremaining: 50.6s\n",
      "1200:\tlearn: 35.5744465\ttotal: 44.1s\tremaining: 47s\n",
      "1300:\tlearn: 34.7533294\ttotal: 47.7s\tremaining: 43.2s\n",
      "1400:\tlearn: 33.9457347\ttotal: 51.3s\tremaining: 39.5s\n",
      "1500:\tlearn: 33.1814390\ttotal: 54.7s\tremaining: 35.6s\n",
      "1600:\tlearn: 32.4930183\ttotal: 58.4s\tremaining: 32s\n",
      "1700:\tlearn: 31.8603890\ttotal: 1m 1s\tremaining: 28.3s\n",
      "1800:\tlearn: 31.2615345\ttotal: 1m 5s\tremaining: 24.6s\n",
      "1900:\tlearn: 30.7239054\ttotal: 1m 8s\tremaining: 20.9s\n",
      "2000:\tlearn: 30.1257426\ttotal: 1m 12s\tremaining: 17.3s\n",
      "2100:\tlearn: 29.6478089\ttotal: 1m 15s\tremaining: 13.6s\n",
      "2200:\tlearn: 29.1392915\ttotal: 1m 19s\tremaining: 10s\n",
      "2300:\tlearn: 28.6196382\ttotal: 1m 23s\tremaining: 6.44s\n",
      "2400:\tlearn: 28.1728990\ttotal: 1m 27s\tremaining: 2.83s\n"
     ]
    },
    {
     "name": "stderr",
     "output_type": "stream",
     "text": [
      "[I 2023-11-07 09:53:09,700] Trial 53 finished with value: 56.92060252416446 and parameters: {'iterations': 2479, 'learning_rate': 0.025143919088359234, 'depth': 7, 'min_data_in_leaf': 26, 'l2_leaf_reg': 8, 'bagging_temperature': 0.6867737187965913, 'random_strength': 0.5690112746070222, 'border_count': 425, 'rsm': 0.6482200649886998}. Best is trial 48 with value: 56.710142980507335.\n"
     ]
    },
    {
     "name": "stdout",
     "output_type": "stream",
     "text": [
      "2478:\tlearn: 27.8313555\ttotal: 1m 29s\tremaining: 0us\n",
      "0:\tlearn: 149.5077379\ttotal: 43.2ms\tremaining: 1m 47s\n",
      "100:\tlearn: 50.8999396\ttotal: 6.63s\tremaining: 2m 37s\n",
      "200:\tlearn: 46.1761683\ttotal: 13.1s\tremaining: 2m 30s\n",
      "300:\tlearn: 43.4938101\ttotal: 19.8s\tremaining: 2m 24s\n",
      "400:\tlearn: 41.1909702\ttotal: 26.2s\tremaining: 2m 16s\n",
      "500:\tlearn: 39.1778433\ttotal: 32.9s\tremaining: 2m 11s\n",
      "600:\tlearn: 37.2748542\ttotal: 39.4s\tremaining: 2m 4s\n",
      "700:\tlearn: 35.4581222\ttotal: 45.8s\tremaining: 1m 57s\n",
      "800:\tlearn: 33.7651717\ttotal: 52.5s\tremaining: 1m 51s\n",
      "900:\tlearn: 32.2428898\ttotal: 59.6s\tremaining: 1m 45s\n",
      "1000:\tlearn: 30.9528944\ttotal: 1m 6s\tremaining: 1m 39s\n",
      "1100:\tlearn: 29.7725492\ttotal: 1m 13s\tremaining: 1m 32s\n",
      "1200:\tlearn: 28.7022362\ttotal: 1m 19s\tremaining: 1m 26s\n",
      "1300:\tlearn: 27.7137608\ttotal: 1m 26s\tremaining: 1m 19s\n",
      "1400:\tlearn: 26.8159636\ttotal: 1m 33s\tremaining: 1m 12s\n",
      "1500:\tlearn: 25.9709460\ttotal: 1m 39s\tremaining: 1m 6s\n",
      "1600:\tlearn: 25.2036838\ttotal: 1m 45s\tremaining: 59.5s\n",
      "1700:\tlearn: 24.5112015\ttotal: 1m 52s\tremaining: 52.9s\n",
      "1800:\tlearn: 23.9772315\ttotal: 1m 59s\tremaining: 46.4s\n",
      "1900:\tlearn: 23.3875671\ttotal: 2m 5s\tremaining: 39.7s\n",
      "2000:\tlearn: 22.8209270\ttotal: 2m 11s\tremaining: 32.7s\n",
      "2100:\tlearn: 22.2066725\ttotal: 2m 16s\tremaining: 26s\n",
      "2200:\tlearn: 21.6588397\ttotal: 2m 22s\tremaining: 19.3s\n",
      "2300:\tlearn: 21.1331049\ttotal: 2m 27s\tremaining: 12.7s\n",
      "2400:\tlearn: 20.6011145\ttotal: 2m 32s\tremaining: 6.31s\n",
      "2499:\tlearn: 20.0613375\ttotal: 2m 38s\tremaining: 0us\n"
     ]
    },
    {
     "name": "stderr",
     "output_type": "stream",
     "text": [
      "[I 2023-11-07 09:55:48,920] Trial 54 finished with value: 57.53181628288378 and parameters: {'iterations': 2500, 'learning_rate': 0.029561421706733277, 'depth': 9, 'min_data_in_leaf': 8, 'l2_leaf_reg': 10, 'bagging_temperature': 0.7232550153138626, 'random_strength': 0.5223885049978979, 'border_count': 426, 'rsm': 0.5227176600263502}. Best is trial 48 with value: 56.710142980507335.\n"
     ]
    },
    {
     "name": "stdout",
     "output_type": "stream",
     "text": [
      "0:\tlearn: 151.7777267\ttotal: 5.83ms\tremaining: 17.2s\n",
      "100:\tlearn: 81.2435476\ttotal: 230ms\tremaining: 6.5s\n",
      "200:\tlearn: 66.2218542\ttotal: 435ms\tremaining: 5.94s\n",
      "300:\tlearn: 62.6108326\ttotal: 660ms\tremaining: 5.81s\n",
      "400:\tlearn: 61.4395848\ttotal: 875ms\tremaining: 5.56s\n",
      "500:\tlearn: 60.9091252\ttotal: 1.1s\tremaining: 5.36s\n",
      "600:\tlearn: 60.5425432\ttotal: 1.33s\tremaining: 5.19s\n",
      "700:\tlearn: 60.2731320\ttotal: 1.55s\tremaining: 4.99s\n",
      "800:\tlearn: 60.0489649\ttotal: 1.78s\tremaining: 4.77s\n",
      "900:\tlearn: 59.8600437\ttotal: 1.99s\tremaining: 4.53s\n",
      "1000:\tlearn: 59.6973952\ttotal: 2.21s\tremaining: 4.3s\n",
      "1100:\tlearn: 59.5529652\ttotal: 2.44s\tremaining: 4.1s\n",
      "1200:\tlearn: 59.4275085\ttotal: 2.65s\tremaining: 3.85s\n",
      "1300:\tlearn: 59.3167794\ttotal: 2.86s\tremaining: 3.63s\n",
      "1400:\tlearn: 59.2177684\ttotal: 3.12s\tremaining: 3.45s\n",
      "1500:\tlearn: 59.1246037\ttotal: 3.33s\tremaining: 3.22s\n",
      "1600:\tlearn: 59.0406488\ttotal: 3.58s\tremaining: 3.02s\n",
      "1700:\tlearn: 58.9651126\ttotal: 3.8s\tremaining: 2.79s\n",
      "1800:\tlearn: 58.8977142\ttotal: 4.03s\tremaining: 2.57s\n",
      "1900:\tlearn: 58.8353301\ttotal: 4.25s\tremaining: 2.35s\n",
      "2000:\tlearn: 58.7763615\ttotal: 4.47s\tremaining: 2.12s\n",
      "2100:\tlearn: 58.7223689\ttotal: 4.72s\tremaining: 1.91s\n",
      "2200:\tlearn: 58.6711622\ttotal: 4.97s\tremaining: 1.69s\n",
      "2300:\tlearn: 58.6230386\ttotal: 5.17s\tremaining: 1.46s\n",
      "2400:\tlearn: 58.5782228\ttotal: 5.43s\tremaining: 1.24s\n",
      "2500:\tlearn: 58.5356597\ttotal: 5.69s\tremaining: 1.02s\n",
      "2600:\tlearn: 58.4955588\ttotal: 5.94s\tremaining: 797ms\n",
      "2700:\tlearn: 58.4581865\ttotal: 6.15s\tremaining: 567ms\n",
      "2800:\tlearn: 58.4221214\ttotal: 6.39s\tremaining: 340ms\n"
     ]
    },
    {
     "name": "stderr",
     "output_type": "stream",
     "text": [
      "[I 2023-11-07 09:55:56,183] Trial 55 finished with value: 64.33668239564362 and parameters: {'iterations': 2950, 'learning_rate': 0.016579205248181537, 'depth': 1, 'min_data_in_leaf': 19, 'l2_leaf_reg': 8, 'bagging_temperature': 0.679792504964018, 'random_strength': 0.4856563061461211, 'border_count': 482, 'rsm': 0.5634103031539403}. Best is trial 48 with value: 56.710142980507335.\n"
     ]
    },
    {
     "name": "stdout",
     "output_type": "stream",
     "text": [
      "2900:\tlearn: 58.3903589\ttotal: 6.62s\tremaining: 112ms\n",
      "2949:\tlearn: 58.3751161\ttotal: 6.76s\tremaining: 0us\n",
      "0:\tlearn: 150.0960186\ttotal: 14.9ms\tremaining: 42.5s\n",
      "100:\tlearn: 54.5531142\ttotal: 1.81s\tremaining: 49.4s\n",
      "200:\tlearn: 49.2380647\ttotal: 3.53s\tremaining: 46.6s\n",
      "300:\tlearn: 47.2680322\ttotal: 5.3s\tremaining: 45s\n",
      "400:\tlearn: 45.7164393\ttotal: 7.25s\tremaining: 44.4s\n",
      "500:\tlearn: 44.2081077\ttotal: 9.13s\tremaining: 42.9s\n",
      "600:\tlearn: 42.7043730\ttotal: 10.9s\tremaining: 41s\n",
      "700:\tlearn: 41.4214890\ttotal: 12.7s\tremaining: 39.1s\n",
      "800:\tlearn: 40.2083207\ttotal: 14.5s\tremaining: 37.1s\n",
      "900:\tlearn: 39.1737803\ttotal: 16.3s\tremaining: 35.3s\n",
      "1000:\tlearn: 38.1760837\ttotal: 18s\tremaining: 33.4s\n",
      "1100:\tlearn: 37.1940208\ttotal: 19.8s\tremaining: 31.6s\n",
      "1200:\tlearn: 36.3141706\ttotal: 21.5s\tremaining: 29.7s\n",
      "1300:\tlearn: 35.4549247\ttotal: 23.2s\tremaining: 27.8s\n",
      "1400:\tlearn: 34.6028074\ttotal: 25s\tremaining: 25.9s\n",
      "1500:\tlearn: 33.8301905\ttotal: 26.6s\tremaining: 24.1s\n",
      "1600:\tlearn: 33.1052402\ttotal: 28.4s\tremaining: 22.3s\n",
      "1700:\tlearn: 32.4260422\ttotal: 30.1s\tremaining: 20.5s\n",
      "1800:\tlearn: 31.6878129\ttotal: 31.9s\tremaining: 18.7s\n",
      "1900:\tlearn: 31.0619821\ttotal: 33.6s\tremaining: 16.9s\n",
      "2000:\tlearn: 30.3913900\ttotal: 35.3s\tremaining: 15.1s\n",
      "2100:\tlearn: 29.7994906\ttotal: 37.1s\tremaining: 13.3s\n",
      "2200:\tlearn: 29.2641795\ttotal: 38.8s\tremaining: 11.6s\n",
      "2300:\tlearn: 28.7304677\ttotal: 40.5s\tremaining: 9.79s\n",
      "2400:\tlearn: 28.1726106\ttotal: 42.2s\tremaining: 8.02s\n",
      "2500:\tlearn: 27.6567375\ttotal: 44s\tremaining: 6.26s\n",
      "2600:\tlearn: 27.1656415\ttotal: 46s\tremaining: 4.52s\n",
      "2700:\tlearn: 26.7036977\ttotal: 47.7s\tremaining: 2.76s\n",
      "2800:\tlearn: 26.2443349\ttotal: 49.5s\tremaining: 991ms\n"
     ]
    },
    {
     "name": "stderr",
     "output_type": "stream",
     "text": [
      "[I 2023-11-07 09:56:47,490] Trial 56 finished with value: 57.43617677519766 and parameters: {'iterations': 2857, 'learning_rate': 0.024694847008065547, 'depth': 7, 'min_data_in_leaf': 13, 'l2_leaf_reg': 9, 'bagging_temperature': 0.609143907358651, 'random_strength': 0.5855325093443627, 'border_count': 251, 'rsm': 0.6293855271239014}. Best is trial 48 with value: 56.710142980507335.\n"
     ]
    },
    {
     "name": "stdout",
     "output_type": "stream",
     "text": [
      "2856:\tlearn: 25.9872013\ttotal: 50.5s\tremaining: 0us\n",
      "0:\tlearn: 151.9279203\ttotal: 8.43ms\tremaining: 22.4s\n",
      "100:\tlearn: 82.6822867\ttotal: 575ms\tremaining: 14.6s\n",
      "200:\tlearn: 60.7615199\ttotal: 1.24s\tremaining: 15.1s\n",
      "300:\tlearn: 54.2639130\ttotal: 1.87s\tremaining: 14.6s\n",
      "400:\tlearn: 51.8877219\ttotal: 2.51s\tremaining: 14.1s\n",
      "500:\tlearn: 50.7698985\ttotal: 3.06s\tremaining: 13.2s\n",
      "600:\tlearn: 50.0163033\ttotal: 3.63s\tremaining: 12.4s\n",
      "700:\tlearn: 49.4058041\ttotal: 4.19s\tremaining: 11.7s\n",
      "800:\tlearn: 48.7720541\ttotal: 4.76s\tremaining: 11s\n",
      "900:\tlearn: 48.1428779\ttotal: 5.33s\tremaining: 10.4s\n",
      "1000:\tlearn: 47.5571111\ttotal: 5.88s\tremaining: 9.72s\n",
      "1100:\tlearn: 47.0102305\ttotal: 6.45s\tremaining: 9.1s\n",
      "1200:\tlearn: 46.5232278\ttotal: 7.01s\tremaining: 8.49s\n",
      "1300:\tlearn: 46.0293800\ttotal: 7.59s\tremaining: 7.89s\n",
      "1400:\tlearn: 45.5196540\ttotal: 8.14s\tremaining: 7.29s\n",
      "1500:\tlearn: 45.0266440\ttotal: 8.75s\tremaining: 6.72s\n",
      "1600:\tlearn: 44.5448475\ttotal: 9.35s\tremaining: 6.16s\n",
      "1700:\tlearn: 44.0769078\ttotal: 9.97s\tremaining: 5.59s\n",
      "1800:\tlearn: 43.6418986\ttotal: 10.6s\tremaining: 5s\n",
      "1900:\tlearn: 43.2339730\ttotal: 11.2s\tremaining: 4.43s\n",
      "2000:\tlearn: 42.8599534\ttotal: 11.8s\tremaining: 3.84s\n",
      "2100:\tlearn: 42.4960447\ttotal: 12.3s\tremaining: 3.25s\n",
      "2200:\tlearn: 42.0924573\ttotal: 12.9s\tremaining: 2.67s\n",
      "2300:\tlearn: 41.7308253\ttotal: 13.5s\tremaining: 2.08s\n",
      "2400:\tlearn: 41.3862805\ttotal: 14.2s\tremaining: 1.51s\n",
      "2500:\tlearn: 41.0194908\ttotal: 14.9s\tremaining: 920ms\n",
      "2600:\tlearn: 40.6936063\ttotal: 15.6s\tremaining: 324ms\n"
     ]
    },
    {
     "name": "stderr",
     "output_type": "stream",
     "text": [
      "[I 2023-11-07 09:57:04,041] Trial 57 finished with value: 57.836854742097366 and parameters: {'iterations': 2655, 'learning_rate': 0.009219661955582614, 'depth': 6, 'min_data_in_leaf': 28, 'l2_leaf_reg': 8, 'bagging_temperature': 0.5746033507857957, 'random_strength': 0.5659762582578262, 'border_count': 91, 'rsm': 0.7003976695208831}. Best is trial 48 with value: 56.710142980507335.\n"
     ]
    },
    {
     "name": "stdout",
     "output_type": "stream",
     "text": [
      "2654:\tlearn: 40.5171672\ttotal: 16s\tremaining: 0us\n",
      "0:\tlearn: 150.8866126\ttotal: 36.6ms\tremaining: 1m 17s\n",
      "100:\tlearn: 60.8279708\ttotal: 3.46s\tremaining: 1m 8s\n",
      "200:\tlearn: 51.3053449\ttotal: 6.64s\tremaining: 1m 3s\n",
      "300:\tlearn: 49.3313452\ttotal: 10.3s\tremaining: 1m 2s\n",
      "400:\tlearn: 48.1623165\ttotal: 14s\tremaining: 59.9s\n",
      "500:\tlearn: 46.9778146\ttotal: 17.7s\tremaining: 56.8s\n",
      "600:\tlearn: 45.8775050\ttotal: 21.4s\tremaining: 53.8s\n",
      "700:\tlearn: 44.8493755\ttotal: 25s\tremaining: 50.3s\n",
      "800:\tlearn: 43.9329706\ttotal: 28.6s\tremaining: 46.8s\n",
      "900:\tlearn: 42.9877702\ttotal: 32.2s\tremaining: 43.3s\n",
      "1000:\tlearn: 42.0651142\ttotal: 35.8s\tremaining: 39.8s\n",
      "1100:\tlearn: 41.2320262\ttotal: 39.6s\tremaining: 36.3s\n",
      "1200:\tlearn: 40.4254968\ttotal: 43.4s\tremaining: 32.9s\n",
      "1300:\tlearn: 39.6373059\ttotal: 47.1s\tremaining: 29.3s\n",
      "1400:\tlearn: 38.9190610\ttotal: 50.8s\tremaining: 25.8s\n",
      "1500:\tlearn: 38.1966568\ttotal: 54.4s\tremaining: 22.1s\n",
      "1600:\tlearn: 37.5038763\ttotal: 58.3s\tremaining: 18.6s\n",
      "1700:\tlearn: 36.9153185\ttotal: 1m 2s\tremaining: 15.1s\n",
      "1800:\tlearn: 36.4136132\ttotal: 1m 6s\tremaining: 11.4s\n",
      "1900:\tlearn: 35.8453671\ttotal: 1m 9s\tremaining: 7.72s\n",
      "2000:\tlearn: 35.2966661\ttotal: 1m 13s\tremaining: 4.06s\n",
      "2100:\tlearn: 34.7789984\ttotal: 1m 16s\tremaining: 403ms\n"
     ]
    },
    {
     "name": "stderr",
     "output_type": "stream",
     "text": [
      "[I 2023-11-07 09:58:21,899] Trial 58 finished with value: 57.24874710052482 and parameters: {'iterations': 2112, 'learning_rate': 0.017753727923622523, 'depth': 7, 'min_data_in_leaf': 35, 'l2_leaf_reg': 10, 'bagging_temperature': 0.6349360592346819, 'random_strength': 0.6668378220398127, 'border_count': 557, 'rsm': 0.5784870835535303}. Best is trial 48 with value: 56.710142980507335.\n"
     ]
    },
    {
     "name": "stdout",
     "output_type": "stream",
     "text": [
      "2111:\tlearn: 34.7326959\ttotal: 1m 17s\tremaining: 0us\n",
      "0:\tlearn: 149.4022413\ttotal: 56.9ms\tremaining: 2m 40s\n",
      "100:\tlearn: 51.6689028\ttotal: 4.6s\tremaining: 2m 4s\n",
      "200:\tlearn: 47.2590488\ttotal: 9.01s\tremaining: 1m 57s\n",
      "300:\tlearn: 45.0720364\ttotal: 12.9s\tremaining: 1m 48s\n",
      "400:\tlearn: 42.8717751\ttotal: 17.4s\tremaining: 1m 45s\n",
      "500:\tlearn: 41.0125981\ttotal: 22s\tremaining: 1m 42s\n",
      "600:\tlearn: 39.2005539\ttotal: 26.7s\tremaining: 1m 38s\n",
      "700:\tlearn: 37.5952115\ttotal: 31.4s\tremaining: 1m 35s\n",
      "800:\tlearn: 36.1202534\ttotal: 35.9s\tremaining: 1m 30s\n",
      "900:\tlearn: 34.7019498\ttotal: 40.7s\tremaining: 1m 26s\n",
      "1000:\tlearn: 33.4594923\ttotal: 45.7s\tremaining: 1m 23s\n",
      "1100:\tlearn: 32.3895010\ttotal: 50.3s\tremaining: 1m 18s\n",
      "1200:\tlearn: 31.3333153\ttotal: 54.8s\tremaining: 1m 14s\n",
      "1300:\tlearn: 30.4219890\ttotal: 59.3s\tremaining: 1m 9s\n",
      "1400:\tlearn: 29.5964368\ttotal: 1m 3s\tremaining: 1m 4s\n",
      "1500:\tlearn: 28.7934291\ttotal: 1m 8s\tremaining: 1m\n",
      "1600:\tlearn: 28.2111333\ttotal: 1m 13s\tremaining: 55.9s\n",
      "1700:\tlearn: 27.5323444\ttotal: 1m 17s\tremaining: 51.4s\n",
      "1800:\tlearn: 26.8813082\ttotal: 1m 22s\tremaining: 46.8s\n",
      "1900:\tlearn: 26.2187222\ttotal: 1m 27s\tremaining: 42.3s\n",
      "2000:\tlearn: 25.7078411\ttotal: 1m 31s\tremaining: 37.8s\n",
      "2100:\tlearn: 25.1447486\ttotal: 1m 36s\tremaining: 33.2s\n",
      "2200:\tlearn: 24.6727208\ttotal: 1m 41s\tremaining: 28.9s\n",
      "2300:\tlearn: 24.1848869\ttotal: 1m 46s\tremaining: 24.3s\n",
      "2400:\tlearn: 23.5746859\ttotal: 1m 51s\tremaining: 19.6s\n",
      "2500:\tlearn: 23.0960247\ttotal: 1m 55s\tremaining: 15s\n",
      "2600:\tlearn: 22.6089587\ttotal: 2m\tremaining: 10.4s\n",
      "2700:\tlearn: 22.1003480\ttotal: 2m 5s\tremaining: 5.74s\n",
      "2800:\tlearn: 21.6191370\ttotal: 2m 9s\tremaining: 1.11s\n"
     ]
    },
    {
     "name": "stderr",
     "output_type": "stream",
     "text": [
      "[I 2023-11-07 10:00:33,373] Trial 59 finished with value: 57.630762308860284 and parameters: {'iterations': 2825, 'learning_rate': 0.029702846581724365, 'depth': 8, 'min_data_in_leaf': 4, 'l2_leaf_reg': 9, 'bagging_temperature': 0.7012528369836755, 'random_strength': 0.5615679096911237, 'border_count': 432, 'rsm': 0.5295795031334452}. Best is trial 48 with value: 56.710142980507335.\n"
     ]
    },
    {
     "name": "stdout",
     "output_type": "stream",
     "text": [
      "2824:\tlearn: 21.4880437\ttotal: 2m 10s\tremaining: 0us\n",
      "0:\tlearn: 150.3966219\ttotal: 11.9ms\tremaining: 29.8s\n",
      "100:\tlearn: 57.1625696\ttotal: 1.86s\tremaining: 44.2s\n",
      "200:\tlearn: 50.8802374\ttotal: 3.71s\tremaining: 42.5s\n",
      "300:\tlearn: 49.2942175\ttotal: 5.6s\tremaining: 41s\n",
      "400:\tlearn: 47.8116713\ttotal: 7.36s\tremaining: 38.6s\n",
      "500:\tlearn: 46.6396120\ttotal: 9.13s\tremaining: 36.5s\n",
      "600:\tlearn: 45.5648634\ttotal: 10.9s\tremaining: 34.4s\n",
      "700:\tlearn: 44.6313039\ttotal: 12.9s\tremaining: 33.2s\n",
      "800:\tlearn: 43.6580016\ttotal: 15s\tremaining: 31.9s\n",
      "900:\tlearn: 42.7456390\ttotal: 16.8s\tremaining: 30s\n",
      "1000:\tlearn: 41.8273328\ttotal: 18.6s\tremaining: 28s\n",
      "1100:\tlearn: 41.0620695\ttotal: 20.4s\tremaining: 26s\n",
      "1200:\tlearn: 40.3369563\ttotal: 22.2s\tremaining: 24.1s\n",
      "1300:\tlearn: 39.6492223\ttotal: 23.9s\tremaining: 22.2s\n",
      "1400:\tlearn: 38.9905506\ttotal: 25.8s\tremaining: 20.3s\n",
      "1500:\tlearn: 38.3781615\ttotal: 27.6s\tremaining: 18.5s\n",
      "1600:\tlearn: 37.8105997\ttotal: 29.6s\tremaining: 16.7s\n",
      "1700:\tlearn: 37.2695293\ttotal: 31.7s\tremaining: 15s\n",
      "1800:\tlearn: 36.7140608\ttotal: 33.5s\tremaining: 13.1s\n",
      "1900:\tlearn: 36.2426731\ttotal: 35.3s\tremaining: 11.2s\n",
      "2000:\tlearn: 35.7127966\ttotal: 37.1s\tremaining: 9.34s\n",
      "2100:\tlearn: 35.1957007\ttotal: 39s\tremaining: 7.5s\n",
      "2200:\tlearn: 34.7321679\ttotal: 40.8s\tremaining: 5.63s\n",
      "2300:\tlearn: 34.2974606\ttotal: 42.6s\tremaining: 3.77s\n",
      "2400:\tlearn: 33.9323579\ttotal: 44.5s\tremaining: 1.93s\n",
      "2500:\tlearn: 33.5243496\ttotal: 46.3s\tremaining: 74ms\n",
      "2504:\tlearn: 33.5136037\ttotal: 46.4s\tremaining: 0us\n"
     ]
    },
    {
     "name": "stderr",
     "output_type": "stream",
     "text": [
      "[I 2023-11-07 10:01:20,408] Trial 60 finished with value: 57.36739944485165 and parameters: {'iterations': 2505, 'learning_rate': 0.022184683211227404, 'depth': 6, 'min_data_in_leaf': 39, 'l2_leaf_reg': 8, 'bagging_temperature': 0.7443761828135791, 'random_strength': 0.6212736341666308, 'border_count': 707, 'rsm': 0.4795908741335504}. Best is trial 48 with value: 56.710142980507335.\n"
     ]
    },
    {
     "name": "stdout",
     "output_type": "stream",
     "text": [
      "0:\tlearn: 150.1907519\ttotal: 38.6ms\tremaining: 1m 33s\n",
      "100:\tlearn: 54.8241974\ttotal: 3.92s\tremaining: 1m 29s\n",
      "200:\tlearn: 49.3527012\ttotal: 7.91s\tremaining: 1m 26s\n",
      "300:\tlearn: 47.5971476\ttotal: 11.7s\tremaining: 1m 22s\n",
      "400:\tlearn: 46.0371171\ttotal: 15.6s\tremaining: 1m 18s\n",
      "500:\tlearn: 44.4599228\ttotal: 19.5s\tremaining: 1m 14s\n",
      "600:\tlearn: 43.1136994\ttotal: 23.2s\tremaining: 1m 9s\n",
      "700:\tlearn: 41.7207222\ttotal: 27.1s\tremaining: 1m 6s\n",
      "800:\tlearn: 40.5135416\ttotal: 31.4s\tremaining: 1m 3s\n",
      "900:\tlearn: 39.4090802\ttotal: 35.3s\tremaining: 59.1s\n",
      "1000:\tlearn: 38.4229831\ttotal: 39.2s\tremaining: 55.2s\n",
      "1100:\tlearn: 37.5286939\ttotal: 43.6s\tremaining: 51.9s\n",
      "1200:\tlearn: 36.6664369\ttotal: 47.4s\tremaining: 47.8s\n",
      "1300:\tlearn: 35.8372971\ttotal: 51.3s\tremaining: 43.8s\n",
      "1400:\tlearn: 35.0238341\ttotal: 55.2s\tremaining: 39.8s\n",
      "1500:\tlearn: 34.3230372\ttotal: 59s\tremaining: 35.8s\n",
      "1600:\tlearn: 33.5195375\ttotal: 1m 2s\tremaining: 31.8s\n",
      "1700:\tlearn: 32.8578105\ttotal: 1m 6s\tremaining: 27.9s\n",
      "1800:\tlearn: 32.1863198\ttotal: 1m 10s\tremaining: 23.9s\n",
      "1900:\tlearn: 31.6217847\ttotal: 1m 14s\tremaining: 20s\n",
      "2000:\tlearn: 31.1572491\ttotal: 1m 18s\tremaining: 16s\n",
      "2100:\tlearn: 30.6122472\ttotal: 1m 22s\tremaining: 12.1s\n",
      "2200:\tlearn: 30.1196803\ttotal: 1m 25s\tremaining: 8.2s\n",
      "2300:\tlearn: 29.6679370\ttotal: 1m 30s\tremaining: 4.3s\n",
      "2400:\tlearn: 29.1547556\ttotal: 1m 33s\tremaining: 391ms\n"
     ]
    },
    {
     "name": "stderr",
     "output_type": "stream",
     "text": [
      "[I 2023-11-07 10:02:55,500] Trial 61 finished with value: 56.99878258839649 and parameters: {'iterations': 2411, 'learning_rate': 0.02425667329261369, 'depth': 7, 'min_data_in_leaf': 22, 'l2_leaf_reg': 9, 'bagging_temperature': 0.6484941718619519, 'random_strength': 0.608150123667442, 'border_count': 661, 'rsm': 0.6391721198953253}. Best is trial 48 with value: 56.710142980507335.\n"
     ]
    },
    {
     "name": "stdout",
     "output_type": "stream",
     "text": [
      "2410:\tlearn: 29.1287371\ttotal: 1m 34s\tremaining: 0us\n",
      "0:\tlearn: 150.6101299\ttotal: 5.54ms\tremaining: 14.8s\n",
      "100:\tlearn: 59.6434427\ttotal: 1.2s\tremaining: 30.5s\n",
      "200:\tlearn: 52.6324421\ttotal: 2.49s\tremaining: 30.5s\n",
      "300:\tlearn: 51.1374762\ttotal: 3.73s\tremaining: 29.3s\n",
      "400:\tlearn: 50.0621222\ttotal: 4.8s\tremaining: 27.1s\n",
      "500:\tlearn: 49.1002125\ttotal: 6.14s\tremaining: 26.5s\n",
      "600:\tlearn: 48.2328064\ttotal: 7.59s\tremaining: 26.1s\n",
      "700:\tlearn: 47.3792588\ttotal: 8.91s\tremaining: 25s\n",
      "800:\tlearn: 46.5496810\ttotal: 10.2s\tremaining: 23.7s\n",
      "900:\tlearn: 45.7514192\ttotal: 11.4s\tremaining: 22.4s\n",
      "1000:\tlearn: 45.0778070\ttotal: 12.7s\tremaining: 21.1s\n",
      "1100:\tlearn: 44.4812001\ttotal: 13.9s\tremaining: 19.8s\n",
      "1200:\tlearn: 43.9224468\ttotal: 15.1s\tremaining: 18.5s\n",
      "1300:\tlearn: 43.4015448\ttotal: 16.5s\tremaining: 17.3s\n",
      "1400:\tlearn: 42.8299866\ttotal: 17.7s\tremaining: 16s\n",
      "1500:\tlearn: 42.3276581\ttotal: 19s\tremaining: 14.8s\n",
      "1600:\tlearn: 41.8568625\ttotal: 20.3s\tremaining: 13.5s\n",
      "1700:\tlearn: 41.3985451\ttotal: 21.6s\tremaining: 12.3s\n",
      "1800:\tlearn: 40.9675225\ttotal: 22.8s\tremaining: 11s\n",
      "1900:\tlearn: 40.4949140\ttotal: 24.1s\tremaining: 9.69s\n",
      "2000:\tlearn: 40.0298004\ttotal: 25.3s\tremaining: 8.41s\n",
      "2100:\tlearn: 39.5908660\ttotal: 26.6s\tremaining: 7.15s\n",
      "2200:\tlearn: 39.2522919\ttotal: 27.8s\tremaining: 5.87s\n",
      "2300:\tlearn: 38.9351682\ttotal: 29s\tremaining: 4.61s\n",
      "2400:\tlearn: 38.5932992\ttotal: 30.2s\tremaining: 3.34s\n",
      "2500:\tlearn: 38.2911664\ttotal: 31.4s\tremaining: 2.07s\n",
      "2600:\tlearn: 37.9727652\ttotal: 32.7s\tremaining: 817ms\n"
     ]
    },
    {
     "name": "stderr",
     "output_type": "stream",
     "text": [
      "[I 2023-11-07 10:03:29,718] Trial 62 finished with value: 57.22075530262503 and parameters: {'iterations': 2666, 'learning_rate': 0.020612585041782587, 'depth': 5, 'min_data_in_leaf': 23, 'l2_leaf_reg': 10, 'bagging_temperature': 0.601959245124815, 'random_strength': 0.6050445476822717, 'border_count': 797, 'rsm': 0.6091799433628814}. Best is trial 48 with value: 56.710142980507335.\n"
     ]
    },
    {
     "name": "stdout",
     "output_type": "stream",
     "text": [
      "2665:\tlearn: 37.7703161\ttotal: 33.6s\tremaining: 0us\n",
      "0:\tlearn: 148.9779662\ttotal: 54.6ms\tremaining: 31.6s\n",
      "100:\tlearn: 49.7174784\ttotal: 6.68s\tremaining: 31.7s\n",
      "200:\tlearn: 45.2293147\ttotal: 13.1s\tremaining: 24.7s\n",
      "300:\tlearn: 42.2633173\ttotal: 19.6s\tremaining: 18.2s\n",
      "400:\tlearn: 39.7927201\ttotal: 25.7s\tremaining: 11.5s\n",
      "500:\tlearn: 37.5367860\ttotal: 32.9s\tremaining: 5.26s\n"
     ]
    },
    {
     "name": "stderr",
     "output_type": "stream",
     "text": [
      "[I 2023-11-07 10:04:08,713] Trial 63 finished with value: 56.90153765399216 and parameters: {'iterations': 581, 'learning_rate': 0.03351410135918316, 'depth': 9, 'min_data_in_leaf': 16, 'l2_leaf_reg': 9, 'bagging_temperature': 0.6810614354843186, 'random_strength': 0.6424428138850904, 'border_count': 534, 'rsm': 0.5182125594030106}. Best is trial 48 with value: 56.710142980507335.\n"
     ]
    },
    {
     "name": "stdout",
     "output_type": "stream",
     "text": [
      "580:\tlearn: 35.7324882\ttotal: 38.7s\tremaining: 0us\n",
      "0:\tlearn: 149.7126776\ttotal: 73.6ms\tremaining: 37.4s\n",
      "100:\tlearn: 51.4317690\ttotal: 6.78s\tremaining: 27.5s\n",
      "200:\tlearn: 46.0869997\ttotal: 13.4s\tremaining: 20.6s\n",
      "300:\tlearn: 43.5678892\ttotal: 19.9s\tremaining: 13.8s\n",
      "400:\tlearn: 41.2857628\ttotal: 26.6s\tremaining: 7.22s\n",
      "500:\tlearn: 39.2224186\ttotal: 33.2s\tremaining: 596ms\n"
     ]
    },
    {
     "name": "stderr",
     "output_type": "stream",
     "text": [
      "[I 2023-11-07 10:04:42,786] Trial 64 finished with value: 57.36456602857395 and parameters: {'iterations': 510, 'learning_rate': 0.028350633881108023, 'depth': 9, 'min_data_in_leaf': 14, 'l2_leaf_reg': 9, 'bagging_temperature': 0.6449326358920805, 'random_strength': 0.6324867391121031, 'border_count': 535, 'rsm': 0.45928134644170093}. Best is trial 48 with value: 56.710142980507335.\n"
     ]
    },
    {
     "name": "stdout",
     "output_type": "stream",
     "text": [
      "509:\tlearn: 39.0417804\ttotal: 33.8s\tremaining: 0us\n",
      "0:\tlearn: 148.6907568\ttotal: 41.9ms\tremaining: 34.8s\n",
      "100:\tlearn: 49.3926775\ttotal: 5.51s\tremaining: 40s\n",
      "200:\tlearn: 44.7030094\ttotal: 11.4s\tremaining: 35.8s\n",
      "300:\tlearn: 41.6930711\ttotal: 16.9s\tremaining: 29.8s\n",
      "400:\tlearn: 38.7103634\ttotal: 23.2s\tremaining: 25s\n",
      "500:\tlearn: 36.2398109\ttotal: 29s\tremaining: 19.2s\n",
      "600:\tlearn: 33.9689748\ttotal: 34.6s\tremaining: 13.4s\n",
      "700:\tlearn: 32.1911745\ttotal: 40.2s\tremaining: 7.57s\n",
      "800:\tlearn: 30.5041020\ttotal: 45.8s\tremaining: 1.83s\n"
     ]
    },
    {
     "name": "stderr",
     "output_type": "stream",
     "text": [
      "[I 2023-11-07 10:05:30,755] Trial 65 finished with value: 57.170616727566 and parameters: {'iterations': 833, 'learning_rate': 0.035119495915115595, 'depth': 9, 'min_data_in_leaf': 9, 'l2_leaf_reg': 8, 'bagging_temperature': 0.6197538652858893, 'random_strength': 0.6615831676306908, 'border_count': 338, 'rsm': 0.3962257992482861}. Best is trial 48 with value: 56.710142980507335.\n"
     ]
    },
    {
     "name": "stdout",
     "output_type": "stream",
     "text": [
      "832:\tlearn: 30.0112646\ttotal: 47.6s\tremaining: 0us\n",
      "0:\tlearn: 149.0689721\ttotal: 103ms\tremaining: 2m 16s\n",
      "100:\tlearn: 48.0900949\ttotal: 11.1s\tremaining: 2m 14s\n",
      "200:\tlearn: 41.6245631\ttotal: 22s\tremaining: 2m 3s\n",
      "300:\tlearn: 37.9562485\ttotal: 34s\tremaining: 1m 55s\n",
      "400:\tlearn: 34.8117048\ttotal: 45.2s\tremaining: 1m 44s\n",
      "500:\tlearn: 32.1544433\ttotal: 56.2s\tremaining: 1m 32s\n",
      "600:\tlearn: 29.7060340\ttotal: 1m 7s\tremaining: 1m 21s\n",
      "700:\tlearn: 27.7374769\ttotal: 1m 17s\tremaining: 1m 9s\n",
      "800:\tlearn: 25.8430439\ttotal: 1m 29s\tremaining: 58.7s\n",
      "900:\tlearn: 24.3482753\ttotal: 1m 40s\tremaining: 47.6s\n",
      "1000:\tlearn: 23.0938668\ttotal: 1m 51s\tremaining: 36.3s\n",
      "1100:\tlearn: 21.9347438\ttotal: 2m 1s\tremaining: 24.9s\n",
      "1200:\tlearn: 20.8029345\ttotal: 2m 11s\tremaining: 13.7s\n",
      "1300:\tlearn: 19.7541697\ttotal: 2m 21s\tremaining: 2.71s\n",
      "1325:\tlearn: 19.4874270\ttotal: 2m 23s\tremaining: 0us\n"
     ]
    },
    {
     "name": "stderr",
     "output_type": "stream",
     "text": [
      "[I 2023-11-07 10:07:54,891] Trial 66 finished with value: 58.687174917829836 and parameters: {'iterations': 1326, 'learning_rate': 0.032583692204215545, 'depth': 11, 'min_data_in_leaf': 20, 'l2_leaf_reg': 9, 'bagging_temperature': 0.6474280913163442, 'random_strength': 0.5382959504095729, 'border_count': 660, 'rsm': 0.5163154355289183}. Best is trial 48 with value: 56.710142980507335.\n"
     ]
    },
    {
     "name": "stdout",
     "output_type": "stream",
     "text": [
      "0:\tlearn: 147.1400702\ttotal: 50.8ms\tremaining: 56.6s\n",
      "100:\tlearn: 45.1818796\ttotal: 5.51s\tremaining: 55.3s\n",
      "200:\tlearn: 39.7057375\ttotal: 11.2s\tremaining: 51s\n",
      "300:\tlearn: 34.9859523\ttotal: 16.3s\tremaining: 44s\n",
      "400:\tlearn: 31.2354290\ttotal: 21.6s\tremaining: 38.4s\n",
      "500:\tlearn: 28.1446157\ttotal: 26.8s\tremaining: 32.8s\n",
      "600:\tlearn: 25.7339804\ttotal: 31.9s\tremaining: 27.3s\n",
      "700:\tlearn: 23.7671485\ttotal: 37s\tremaining: 21.9s\n",
      "800:\tlearn: 22.3653276\ttotal: 42.1s\tremaining: 16.5s\n",
      "900:\tlearn: 21.1847106\ttotal: 47s\tremaining: 11.2s\n",
      "600:\tlearn: 40.6533456\ttotal: 29.2s\tremaining: 44.6s\n",
      "700:\tlearn: 39.2817543\ttotal: 33.9s\tremaining: 39.6s\n",
      "800:\tlearn: 37.8907921\ttotal: 38.8s\tremaining: 34.8s\n",
      "900:\tlearn: 36.7071670\ttotal: 43.7s\tremaining: 30s\n",
      "1000:\tlearn: 35.4781427\ttotal: 48.6s\tremaining: 25.1s\n",
      "1100:\tlearn: 34.3963269\ttotal: 53.1s\tremaining: 20.2s\n",
      "1200:\tlearn: 33.3659126\ttotal: 58.1s\tremaining: 15.4s\n",
      "1300:\tlearn: 32.4470762\ttotal: 1m 2s\tremaining: 10.5s\n",
      "1400:\tlearn: 31.4892173\ttotal: 1m 8s\tremaining: 5.74s\n",
      "1500:\tlearn: 30.7056208\ttotal: 1m 13s\tremaining: 876ms\n"
     ]
    },
    {
     "name": "stderr",
     "output_type": "stream",
     "text": [
      "[I 2023-11-07 10:10:08,954] Trial 68 finished with value: 57.185635198376495 and parameters: {'iterations': 1519, 'learning_rate': 0.0257582698993864, 'depth': 8, 'min_data_in_leaf': 85, 'l2_leaf_reg': 9, 'bagging_temperature': 0.5921890633062181, 'random_strength': 0.5630016728700558, 'border_count': 475, 'rsm': 0.4265729640293595}. Best is trial 48 with value: 56.710142980507335.\n"
     ]
    },
    {
     "name": "stdout",
     "output_type": "stream",
     "text": [
      "1518:\tlearn: 30.5458463\ttotal: 1m 13s\tremaining: 0us\n",
      "0:\tlearn: 150.7935417\ttotal: 53.2ms\tremaining: 37.2s\n",
      "100:\tlearn: 59.5085494\ttotal: 3.71s\tremaining: 22s\n",
      "200:\tlearn: 50.8026076\ttotal: 7.63s\tremaining: 18.9s\n",
      "300:\tlearn: 48.8291429\ttotal: 11.2s\tremaining: 14.9s\n",
      "400:\tlearn: 47.4967949\ttotal: 14.8s\tremaining: 11s\n",
      "500:\tlearn: 46.1313919\ttotal: 18.3s\tremaining: 7.26s\n",
      "600:\tlearn: 44.9539375\ttotal: 21.8s\tremaining: 3.59s\n"
     ]
    },
    {
     "name": "stderr",
     "output_type": "stream",
     "text": [
      "[I 2023-11-07 10:10:34,664] Trial 69 finished with value: 58.10837142389129 and parameters: {'iterations': 700, 'learning_rate': 0.018789596304235278, 'depth': 7, 'min_data_in_leaf': 4, 'l2_leaf_reg': 8, 'bagging_temperature': 0.5459994541693087, 'random_strength': 0.6304529484858951, 'border_count': 426, 'rsm': 0.5815570621873057}. Best is trial 48 with value: 56.710142980507335.\n"
     ]
    },
    {
     "name": "stdout",
     "output_type": "stream",
     "text": [
      "699:\tlearn: 43.7667487\ttotal: 25.4s\tremaining: 0us\n",
      "0:\tlearn: 150.2137135\ttotal: 40.5ms\tremaining: 1m 35s\n",
      "100:\tlearn: 54.5723559\ttotal: 5.29s\tremaining: 1m 58s\n",
      "200:\tlearn: 48.4255069\ttotal: 10.6s\tremaining: 1m 54s\n",
      "300:\tlearn: 46.4048676\ttotal: 15.8s\tremaining: 1m 48s\n",
      "400:\tlearn: 44.6899567\ttotal: 21s\tremaining: 1m 43s\n",
      "500:\tlearn: 43.0127110\ttotal: 26.6s\tremaining: 1m 39s\n",
      "600:\tlearn: 41.6293778\ttotal: 32.6s\tremaining: 1m 35s\n",
      "700:\tlearn: 40.3112020\ttotal: 38s\tremaining: 1m 30s\n",
      "800:\tlearn: 39.1342594\ttotal: 43.3s\tremaining: 1m 24s\n",
      "900:\tlearn: 37.9618323\ttotal: 48.6s\tremaining: 1m 19s\n",
      "1000:\tlearn: 36.7820848\ttotal: 53.8s\tremaining: 1m 13s\n",
      "1100:\tlearn: 35.6185809\ttotal: 59.3s\tremaining: 1m 8s\n",
      "1200:\tlearn: 34.6200643\ttotal: 1m 4s\tremaining: 1m 2s\n",
      "1300:\tlearn: 33.6631300\ttotal: 1m 9s\tremaining: 57.2s\n",
      "1400:\tlearn: 32.7415281\ttotal: 1m 14s\tremaining: 51.7s\n",
      "1500:\tlearn: 31.8756626\ttotal: 1m 20s\tremaining: 46.4s\n",
      "1600:\tlearn: 31.0399891\ttotal: 1m 25s\tremaining: 41.1s\n",
      "1700:\tlearn: 30.2874871\ttotal: 1m 31s\tremaining: 36s\n",
      "1800:\tlearn: 29.6289706\ttotal: 1m 36s\tremaining: 30.6s\n",
      "1900:\tlearn: 28.9930110\ttotal: 1m 42s\tremaining: 25.2s\n",
      "2000:\tlearn: 28.3683737\ttotal: 1m 47s\tremaining: 19.8s\n",
      "2100:\tlearn: 27.8014954\ttotal: 1m 52s\tremaining: 14.4s\n",
      "2200:\tlearn: 27.2397984\ttotal: 1m 58s\tremaining: 9.01s\n",
      "2300:\tlearn: 26.6730694\ttotal: 2m 3s\tremaining: 3.64s\n",
      "2368:\tlearn: 26.3424853\ttotal: 2m 6s\tremaining: 0us\n"
     ]
    },
    {
     "name": "stderr",
     "output_type": "stream",
     "text": [
      "[I 2023-11-07 10:12:42,280] Trial 70 finished with value: 56.9267167456679 and parameters: {'iterations': 2369, 'learning_rate': 0.02361770348719508, 'depth': 8, 'min_data_in_leaf': 29, 'l2_leaf_reg': 9, 'bagging_temperature': 0.6763387062038084, 'random_strength': 0.6676084053107318, 'border_count': 706, 'rsm': 0.5045094483190118}. Best is trial 48 with value: 56.710142980507335.\n"
     ]
    },
    {
     "name": "stdout",
     "output_type": "stream",
     "text": [
      "0:\tlearn: 150.4184520\ttotal: 70.4ms\tremaining: 2m 37s\n",
      "100:\tlearn: 55.8670725\ttotal: 5.26s\tremaining: 1m 51s\n",
      "200:\tlearn: 49.0185457\ttotal: 10.7s\tremaining: 1m 48s\n",
      "300:\tlearn: 46.9106893\ttotal: 15.9s\tremaining: 1m 42s\n",
      "400:\tlearn: 45.2578410\ttotal: 21.8s\tremaining: 1m 39s\n",
      "500:\tlearn: 43.5736112\ttotal: 27.4s\tremaining: 1m 34s\n",
      "600:\tlearn: 42.1411911\ttotal: 32.7s\tremaining: 1m 29s\n",
      "700:\tlearn: 40.8719848\ttotal: 38s\tremaining: 1m 23s\n",
      "800:\tlearn: 39.5626693\ttotal: 43.4s\tremaining: 1m 17s\n",
      "900:\tlearn: 38.4622377\ttotal: 49s\tremaining: 1m 12s\n",
      "1000:\tlearn: 37.3418381\ttotal: 54.3s\tremaining: 1m 7s\n",
      "1100:\tlearn: 36.2603048\ttotal: 59.4s\tremaining: 1m 1s\n",
      "1200:\tlearn: 35.2708416\ttotal: 1m 4s\tremaining: 56s\n",
      "1300:\tlearn: 34.3853082\ttotal: 1m 10s\tremaining: 50.5s\n",
      "1400:\tlearn: 33.5181955\ttotal: 1m 15s\tremaining: 45.1s\n",
      "1500:\tlearn: 32.6265100\ttotal: 1m 20s\tremaining: 39.8s\n",
      "1600:\tlearn: 31.9511421\ttotal: 1m 26s\tremaining: 34.5s\n",
      "1700:\tlearn: 31.3377832\ttotal: 1m 31s\tremaining: 29.1s\n",
      "1800:\tlearn: 30.6979947\ttotal: 1m 37s\tremaining: 23.6s\n",
      "1900:\tlearn: 30.1176166\ttotal: 1m 42s\tremaining: 18.2s\n",
      "2000:\tlearn: 29.4431024\ttotal: 1m 47s\tremaining: 12.8s\n",
      "2100:\tlearn: 28.8251489\ttotal: 1m 52s\tremaining: 7.42s\n",
      "2200:\tlearn: 28.2338844\ttotal: 1m 58s\tremaining: 2.05s\n"
     ]
    },
    {
     "name": "stderr",
     "output_type": "stream",
     "text": [
      "[I 2023-11-07 10:14:43,529] Trial 71 finished with value: 57.26960723447359 and parameters: {'iterations': 2239, 'learning_rate': 0.021979975661429934, 'depth': 8, 'min_data_in_leaf': 29, 'l2_leaf_reg': 9, 'bagging_temperature': 0.6763849093334744, 'random_strength': 0.6526061817516746, 'border_count': 714, 'rsm': 0.49186326301994115}. Best is trial 48 with value: 56.710142980507335.\n"
     ]
    },
    {
     "name": "stdout",
     "output_type": "stream",
     "text": [
      "2238:\tlearn: 28.0284560\ttotal: 2m\tremaining: 0us\n",
      "0:\tlearn: 149.0099135\ttotal: 66.9ms\tremaining: 2m 40s\n",
      "100:\tlearn: 49.7420991\ttotal: 7.73s\tremaining: 2m 55s\n",
      "200:\tlearn: 45.2881643\ttotal: 15.4s\tremaining: 2m 47s\n",
      "300:\tlearn: 42.0933357\ttotal: 23.7s\tremaining: 2m 44s\n",
      "400:\tlearn: 39.6376795\ttotal: 31.6s\tremaining: 2m 37s\n",
      "500:\tlearn: 37.4672903\ttotal: 39.3s\tremaining: 2m 28s\n",
      "600:\tlearn: 35.4447454\ttotal: 47s\tremaining: 2m 20s\n",
      "700:\tlearn: 33.7608559\ttotal: 53.4s\tremaining: 2m 9s\n",
      "800:\tlearn: 32.1932138\ttotal: 1m 1s\tremaining: 2m 1s\n",
      "900:\tlearn: 30.7066010\ttotal: 1m 8s\tremaining: 1m 54s\n",
      "1000:\tlearn: 29.5455141\ttotal: 1m 16s\tremaining: 1m 46s\n",
      "1100:\tlearn: 28.3912928\ttotal: 1m 25s\tremaining: 1m 40s\n",
      "1200:\tlearn: 27.2460272\ttotal: 1m 33s\tremaining: 1m 32s\n",
      "1300:\tlearn: 26.2747924\ttotal: 1m 41s\tremaining: 1m 24s\n",
      "1400:\tlearn: 25.3872309\ttotal: 1m 48s\tremaining: 1m 17s\n",
      "1500:\tlearn: 24.5006155\ttotal: 1m 56s\tremaining: 1m 9s\n",
      "1600:\tlearn: 23.6320855\ttotal: 2m 4s\tremaining: 1m 1s\n",
      "1700:\tlearn: 22.9187294\ttotal: 2m 12s\tremaining: 53.9s\n",
      "1800:\tlearn: 22.2260028\ttotal: 2m 20s\tremaining: 46.3s\n",
      "1900:\tlearn: 21.6116966\ttotal: 2m 28s\tremaining: 38.7s\n",
      "2000:\tlearn: 20.9317539\ttotal: 2m 37s\tremaining: 30.9s\n",
      "2100:\tlearn: 20.2815326\ttotal: 2m 44s\tremaining: 23.1s\n",
      "2200:\tlearn: 19.7218766\ttotal: 2m 52s\tremaining: 15.2s\n",
      "2300:\tlearn: 19.1519636\ttotal: 3m\tremaining: 7.37s\n",
      "2394:\tlearn: 18.6577545\ttotal: 3m 8s\tremaining: 0us\n"
     ]
    },
    {
     "name": "stderr",
     "output_type": "stream",
     "text": [
      "[I 2023-11-07 10:17:52,392] Trial 72 finished with value: 57.345401449014616 and parameters: {'iterations': 2395, 'learning_rate': 0.03435907717067678, 'depth': 9, 'min_data_in_leaf': 25, 'l2_leaf_reg': 9, 'bagging_temperature': 0.7112461980030387, 'random_strength': 0.6823883495900579, 'border_count': 784, 'rsm': 0.4585669909641128}. Best is trial 48 with value: 56.710142980507335.\n"
     ]
    },
    {
     "name": "stdout",
     "output_type": "stream",
     "text": [
      "0:\tlearn: 149.8229879\ttotal: 37.3ms\tremaining: 1m 27s\n",
      "100:\tlearn: 52.9077328\ttotal: 5.44s\tremaining: 2m 1s\n",
      "200:\tlearn: 47.7104087\ttotal: 10.8s\tremaining: 1m 55s\n",
      "300:\tlearn: 45.3758049\ttotal: 16.3s\tremaining: 1m 51s\n",
      "400:\tlearn: 43.4345064\ttotal: 22s\tremaining: 1m 47s\n",
      "500:\tlearn: 41.5774181\ttotal: 27.4s\tremaining: 1m 41s\n",
      "600:\tlearn: 39.8331300\ttotal: 32.5s\tremaining: 1m 34s\n",
      "700:\tlearn: 38.2987119\ttotal: 37.7s\tremaining: 1m 28s\n",
      "800:\tlearn: 36.8851612\ttotal: 43s\tremaining: 1m 23s\n",
      "900:\tlearn: 35.6097654\ttotal: 48.3s\tremaining: 1m 17s\n",
      "1000:\tlearn: 34.4021108\ttotal: 53.5s\tremaining: 1m 12s\n",
      "1100:\tlearn: 33.3301776\ttotal: 58.8s\tremaining: 1m 6s\n",
      "1200:\tlearn: 32.4490180\ttotal: 1m 4s\tremaining: 1m 1s\n",
      "1300:\tlearn: 31.5353150\ttotal: 1m 9s\tremaining: 56.2s\n",
      "1400:\tlearn: 30.6472516\ttotal: 1m 15s\tremaining: 51.1s\n",
      "1500:\tlearn: 29.7306494\ttotal: 1m 20s\tremaining: 45.8s\n",
      "1600:\tlearn: 28.9776530\ttotal: 1m 25s\tremaining: 40.4s\n",
      "1700:\tlearn: 28.2330823\ttotal: 1m 31s\tremaining: 35s\n",
      "1800:\tlearn: 27.5917068\ttotal: 1m 36s\tremaining: 29.6s\n",
      "1900:\tlearn: 26.8982378\ttotal: 1m 41s\tremaining: 24.2s\n",
      "2000:\tlearn: 26.3434170\ttotal: 1m 46s\tremaining: 18.9s\n",
      "2100:\tlearn: 25.7973857\ttotal: 1m 52s\tremaining: 13.5s\n",
      "2200:\tlearn: 25.2881587\ttotal: 1m 57s\tremaining: 8.17s\n",
      "2300:\tlearn: 24.7085787\ttotal: 2m 2s\tremaining: 2.83s\n"
     ]
    },
    {
     "name": "stderr",
     "output_type": "stream",
     "text": [
      "[I 2023-11-07 10:19:58,692] Trial 73 finished with value: 56.94307565639878 and parameters: {'iterations': 2354, 'learning_rate': 0.026570111938635056, 'depth': 8, 'min_data_in_leaf': 11, 'l2_leaf_reg': 8, 'bagging_temperature': 0.6182242775513498, 'random_strength': 0.6174306924013787, 'border_count': 534, 'rsm': 0.5071263018512115}. Best is trial 48 with value: 56.710142980507335.\n"
     ]
    },
    {
     "name": "stdout",
     "output_type": "stream",
     "text": [
      "2353:\tlearn: 24.4018487\ttotal: 2m 5s\tremaining: 0us\n",
      "0:\tlearn: 149.5378302\ttotal: 77.8ms\tremaining: 2m 50s\n",
      "100:\tlearn: 50.8707523\ttotal: 7.86s\tremaining: 2m 43s\n",
      "200:\tlearn: 45.5591046\ttotal: 15.1s\tremaining: 2m 29s\n",
      "300:\tlearn: 42.9421119\ttotal: 22.7s\tremaining: 2m 22s\n",
      "400:\tlearn: 40.4221796\ttotal: 29.9s\tremaining: 2m 13s\n",
      "500:\tlearn: 38.2984722\ttotal: 36.9s\tremaining: 2m 5s\n",
      "600:\tlearn: 36.1021810\ttotal: 44.1s\tremaining: 1m 57s\n",
      "700:\tlearn: 34.4193622\ttotal: 51.3s\tremaining: 1m 49s\n",
      "800:\tlearn: 32.7548944\ttotal: 58.5s\tremaining: 1m 41s\n",
      "900:\tlearn: 31.3101626\ttotal: 1m 6s\tremaining: 1m 35s\n",
      "1000:\tlearn: 29.8831771\ttotal: 1m 13s\tremaining: 1m 27s\n",
      "1100:\tlearn: 28.7462486\ttotal: 1m 21s\tremaining: 1m 20s\n",
      "1200:\tlearn: 27.5959813\ttotal: 1m 28s\tremaining: 1m 13s\n",
      "1300:\tlearn: 26.4900758\ttotal: 1m 35s\tremaining: 1m 5s\n",
      "1400:\tlearn: 25.5781752\ttotal: 1m 43s\tremaining: 58.6s\n",
      "1500:\tlearn: 24.7990765\ttotal: 1m 50s\tremaining: 51.2s\n",
      "1600:\tlearn: 24.1135396\ttotal: 1m 57s\tremaining: 43.9s\n",
      "1700:\tlearn: 23.4730020\ttotal: 2m 5s\tremaining: 36.6s\n",
      "1800:\tlearn: 22.8510999\ttotal: 2m 12s\tremaining: 29.2s\n",
      "1900:\tlearn: 22.1402406\ttotal: 2m 20s\tremaining: 21.8s\n",
      "2000:\tlearn: 21.5973777\ttotal: 2m 26s\tremaining: 14.3s\n",
      "2100:\tlearn: 20.9772837\ttotal: 2m 32s\tremaining: 6.99s\n",
      "2196:\tlearn: 20.4305672\ttotal: 2m 39s\tremaining: 0us\n"
     ]
    },
    {
     "name": "stderr",
     "output_type": "stream",
     "text": [
      "[I 2023-11-07 10:22:39,217] Trial 74 finished with value: 56.78321221462897 and parameters: {'iterations': 2197, 'learning_rate': 0.029043200880923138, 'depth': 9, 'min_data_in_leaf': 11, 'l2_leaf_reg': 8, 'bagging_temperature': 0.6259828369088735, 'random_strength': 0.5724143252013472, 'border_count': 548, 'rsm': 0.5081832559990503}. Best is trial 48 with value: 56.710142980507335.\n"
     ]
    },
    {
     "name": "stdout",
     "output_type": "stream",
     "text": [
      "0:\tlearn: 149.8776405\ttotal: 83.7ms\tremaining: 26.2s\n",
      "100:\tlearn: 51.1709323\ttotal: 5.86s\tremaining: 12.3s\n",
      "200:\tlearn: 44.3769176\ttotal: 11.9s\tremaining: 6.68s\n",
      "300:\tlearn: 41.3751760\ttotal: 17.8s\tremaining: 770ms\n"
     ]
    },
    {
     "name": "stderr",
     "output_type": "stream",
     "text": [
      "[I 2023-11-07 10:22:58,090] Trial 75 finished with value: 58.276385968236184 and parameters: {'iterations': 314, 'learning_rate': 0.02627114968487229, 'depth': 10, 'min_data_in_leaf': 12, 'l2_leaf_reg': 7, 'bagging_temperature': 0.6178063579869008, 'random_strength': 0.5768548384201374, 'border_count': 521, 'rsm': 0.5469909091555737}. Best is trial 48 with value: 56.710142980507335.\n"
     ]
    },
    {
     "name": "stdout",
     "output_type": "stream",
     "text": [
      "313:\tlearn: 40.9666500\ttotal: 18.6s\tremaining: 0us\n",
      "0:\tlearn: 148.3383945\ttotal: 62.5ms\tremaining: 2m 8s\n",
      "100:\tlearn: 48.2791410\ttotal: 8.18s\tremaining: 2m 38s\n",
      "200:\tlearn: 43.8148935\ttotal: 15.8s\tremaining: 2m 26s\n",
      "300:\tlearn: 40.5167709\ttotal: 23.8s\tremaining: 2m 18s\n",
      "400:\tlearn: 37.7987388\ttotal: 31.6s\tremaining: 2m 10s\n",
      "500:\tlearn: 35.4058650\ttotal: 39.4s\tremaining: 2m 2s\n",
      "600:\tlearn: 33.3642429\ttotal: 47.1s\tremaining: 1m 54s\n",
      "700:\tlearn: 31.6404149\ttotal: 54.9s\tremaining: 1m 46s\n",
      "800:\tlearn: 30.0796045\ttotal: 1m 2s\tremaining: 1m 38s\n",
      "900:\tlearn: 28.6971396\ttotal: 1m 10s\tremaining: 1m 31s\n",
      "1000:\tlearn: 27.3650217\ttotal: 1m 18s\tremaining: 1m 22s\n",
      "1100:\tlearn: 26.1261152\ttotal: 1m 26s\tremaining: 1m 15s\n",
      "1200:\tlearn: 24.9287972\ttotal: 1m 33s\tremaining: 1m 7s\n",
      "1300:\tlearn: 23.8161192\ttotal: 1m 41s\tremaining: 59.4s\n",
      "1400:\tlearn: 22.8686767\ttotal: 1m 49s\tremaining: 51.6s\n",
      "1500:\tlearn: 22.0434559\ttotal: 1m 57s\tremaining: 43.8s\n",
      "1600:\tlearn: 21.2552847\ttotal: 2m 5s\tremaining: 36s\n",
      "1700:\tlearn: 20.4908696\ttotal: 2m 13s\tremaining: 28.2s\n",
      "1800:\tlearn: 19.7725769\ttotal: 2m 20s\tremaining: 20.4s\n",
      "1900:\tlearn: 19.1207951\ttotal: 2m 29s\tremaining: 12.5s\n",
      "2000:\tlearn: 18.5324254\ttotal: 2m 36s\tremaining: 4.69s\n"
     ]
    },
    {
     "name": "stderr",
     "output_type": "stream",
     "text": [
      "[I 2023-11-07 10:25:40,003] Trial 76 finished with value: 57.09291149765178 and parameters: {'iterations': 2061, 'learning_rate': 0.0387018087314003, 'depth': 9, 'min_data_in_leaf': 5, 'l2_leaf_reg': 8, 'bagging_temperature': 0.5772745697587597, 'random_strength': 0.5479971314976748, 'border_count': 746, 'rsm': 0.5014927759153068}. Best is trial 48 with value: 56.710142980507335.\n"
     ]
    },
    {
     "name": "stdout",
     "output_type": "stream",
     "text": [
      "2060:\tlearn: 18.1880518\ttotal: 2m 41s\tremaining: 0us\n",
      "0:\tlearn: 149.3882638\ttotal: 60.9ms\tremaining: 1m 53s\n",
      "100:\tlearn: 50.3726827\ttotal: 7.32s\tremaining: 2m 8s\n",
      "200:\tlearn: 45.4889296\ttotal: 14.4s\tremaining: 2m\n",
      "300:\tlearn: 42.5834231\ttotal: 21.5s\tremaining: 1m 52s\n",
      "400:\tlearn: 40.2061894\ttotal: 29s\tremaining: 1m 46s\n",
      "500:\tlearn: 38.0150067\ttotal: 35.6s\tremaining: 1m 37s\n",
      "600:\tlearn: 35.7249150\ttotal: 42.8s\tremaining: 1m 30s\n",
      "700:\tlearn: 34.0190959\ttotal: 50.1s\tremaining: 1m 23s\n",
      "800:\tlearn: 32.3407612\ttotal: 57.2s\tremaining: 1m 16s\n",
      "900:\tlearn: 30.8598181\ttotal: 1m 4s\tremaining: 1m 9s\n",
      "1000:\tlearn: 29.5570406\ttotal: 1m 11s\tremaining: 1m 2s\n",
      "1100:\tlearn: 28.3806275\ttotal: 1m 18s\tremaining: 54.9s\n",
      "1200:\tlearn: 27.2238231\ttotal: 1m 25s\tremaining: 48s\n",
      "1300:\tlearn: 26.1547740\ttotal: 1m 32s\tremaining: 40.8s\n",
      "1400:\tlearn: 25.1881413\ttotal: 1m 40s\tremaining: 33.8s\n",
      "1500:\tlearn: 24.2869157\ttotal: 1m 47s\tremaining: 26.6s\n",
      "1600:\tlearn: 23.3773225\ttotal: 1m 54s\tremaining: 19.5s\n",
      "1700:\tlearn: 22.6443434\ttotal: 2m 1s\tremaining: 12.3s\n",
      "1800:\tlearn: 22.0734911\ttotal: 2m 9s\tremaining: 5.16s\n",
      "1872:\tlearn: 21.6230670\ttotal: 2m 14s\tremaining: 0us\n"
     ]
    },
    {
     "name": "stderr",
     "output_type": "stream",
     "text": [
      "[I 2023-11-07 10:27:54,786] Trial 77 finished with value: 57.425737507917155 and parameters: {'iterations': 1873, 'learning_rate': 0.030471046873255917, 'depth': 9, 'min_data_in_leaf': 10, 'l2_leaf_reg': 8, 'bagging_temperature': 0.6485145551171015, 'random_strength': 0.6006784234818845, 'border_count': 547, 'rsm': 0.5185267709177801}. Best is trial 48 with value: 56.710142980507335.\n"
     ]
    },
    {
     "name": "stdout",
     "output_type": "stream",
     "text": [
      "0:\tlearn: 150.1627794\ttotal: 33.5ms\tremaining: 1m 12s\n",
      "100:\tlearn: 55.0295342\ttotal: 4.32s\tremaining: 1m 28s\n",
      "200:\tlearn: 49.2453121\ttotal: 8.74s\tremaining: 1m 25s\n",
      "300:\tlearn: 47.2922635\ttotal: 13s\tremaining: 1m 20s\n",
      "400:\tlearn: 45.5105172\ttotal: 16.9s\tremaining: 1m 14s\n",
      "500:\tlearn: 43.9141614\ttotal: 21s\tremaining: 1m 9s\n",
      "600:\tlearn: 42.4754325\ttotal: 25.1s\tremaining: 1m 5s\n",
      "700:\tlearn: 41.2431539\ttotal: 29.5s\tremaining: 1m 1s\n",
      "800:\tlearn: 40.0958164\ttotal: 33.9s\tremaining: 57.7s\n",
      "900:\tlearn: 39.0626719\ttotal: 38s\tremaining: 53.3s\n",
      "1000:\tlearn: 37.9703678\ttotal: 42.6s\tremaining: 49.5s\n",
      "1100:\tlearn: 37.0386034\ttotal: 46.9s\tremaining: 45.4s\n",
      "1200:\tlearn: 36.2035145\ttotal: 51.2s\tremaining: 41.1s\n",
      "1300:\tlearn: 35.3395791\ttotal: 55.4s\tremaining: 36.8s\n",
      "1400:\tlearn: 34.5877760\ttotal: 59.5s\tremaining: 32.5s\n",
      "1500:\tlearn: 33.8451065\ttotal: 1m 3s\tremaining: 28.3s\n",
      "1600:\tlearn: 33.1753636\ttotal: 1m 8s\tremaining: 24.1s\n",
      "1700:\tlearn: 32.4650722\ttotal: 1m 13s\tremaining: 19.9s\n",
      "1800:\tlearn: 31.7700993\ttotal: 1m 17s\tremaining: 15.6s\n",
      "1900:\tlearn: 31.0986823\ttotal: 1m 21s\tremaining: 11.3s\n",
      "2000:\tlearn: 30.5078641\ttotal: 1m 25s\tremaining: 6.99s\n",
      "2100:\tlearn: 30.0189372\ttotal: 1m 29s\tremaining: 2.73s\n"
     ]
    },
    {
     "name": "stderr",
     "output_type": "stream",
     "text": [
      "[I 2023-11-07 10:29:27,870] Trial 78 finished with value: 57.02321736650033 and parameters: {'iterations': 2165, 'learning_rate': 0.023622966536140023, 'depth': 7, 'min_data_in_leaf': 18, 'l2_leaf_reg': 7, 'bagging_temperature': 0.6094991472719161, 'random_strength': 0.5048869371272217, 'border_count': 819, 'rsm': 0.5908931457712421}. Best is trial 48 with value: 56.710142980507335.\n"
     ]
    },
    {
     "name": "stdout",
     "output_type": "stream",
     "text": [
      "2164:\tlearn: 29.6980855\ttotal: 1m 32s\tremaining: 0us\n",
      "0:\tlearn: 149.7976201\ttotal: 42.6ms\tremaining: 1m 36s\n",
      "100:\tlearn: 52.6704859\ttotal: 4.15s\tremaining: 1m 28s\n",
      "200:\tlearn: 47.6791159\ttotal: 8.27s\tremaining: 1m 24s\n",
      "300:\tlearn: 45.4125970\ttotal: 12.5s\tremaining: 1m 20s\n",
      "400:\tlearn: 43.4091281\ttotal: 17s\tremaining: 1m 18s\n",
      "500:\tlearn: 41.4822868\ttotal: 21.4s\tremaining: 1m 14s\n",
      "600:\tlearn: 39.5369573\ttotal: 25.9s\tremaining: 1m 11s\n",
      "700:\tlearn: 37.9053698\ttotal: 30.1s\tremaining: 1m 6s\n",
      "800:\tlearn: 36.4524048\ttotal: 35.1s\tremaining: 1m 3s\n",
      "900:\tlearn: 35.1544246\ttotal: 39.7s\tremaining: 59.7s\n",
      "1000:\tlearn: 33.9227160\ttotal: 44.3s\tremaining: 55.5s\n",
      "1100:\tlearn: 32.7394165\ttotal: 48.7s\tremaining: 51.1s\n",
      "1200:\tlearn: 31.7437350\ttotal: 53.1s\tremaining: 46.6s\n",
      "1300:\tlearn: 30.7888165\ttotal: 57.4s\tremaining: 42.1s\n",
      "1400:\tlearn: 29.8464523\ttotal: 1m 2s\tremaining: 37.8s\n",
      "1500:\tlearn: 29.0870900\ttotal: 1m 5s\tremaining: 33.1s\n",
      "1600:\tlearn: 28.2817479\ttotal: 1m 9s\tremaining: 28.6s\n",
      "1700:\tlearn: 27.5053135\ttotal: 1m 13s\tremaining: 24.1s\n",
      "1800:\tlearn: 26.7131704\ttotal: 1m 17s\tremaining: 19.7s\n",
      "1900:\tlearn: 26.0276302\ttotal: 1m 22s\tremaining: 15.3s\n",
      "2000:\tlearn: 25.2732145\ttotal: 1m 26s\tremaining: 11s\n",
      "2100:\tlearn: 24.6570775\ttotal: 1m 30s\tremaining: 6.66s\n",
      "2200:\tlearn: 24.1257604\ttotal: 1m 35s\tremaining: 2.34s\n"
     ]
    },
    {
     "name": "stderr",
     "output_type": "stream",
     "text": [
      "[I 2023-11-07 10:31:06,580] Trial 79 finished with value: 57.66030691602226 and parameters: {'iterations': 2255, 'learning_rate': 0.026814697635350382, 'depth': 8, 'min_data_in_leaf': 15, 'l2_leaf_reg': 8, 'bagging_temperature': 0.6383463899813797, 'random_strength': 0.6214086412652821, 'border_count': 304, 'rsm': 0.5683844039902519}. Best is trial 48 with value: 56.710142980507335.\n"
     ]
    },
    {
     "name": "stdout",
     "output_type": "stream",
     "text": [
      "2254:\tlearn: 23.8089052\ttotal: 1m 37s\tremaining: 0us\n"
     ]
    }
   ],
   "source": [
    "#For location A\n",
    "def objective(trial, X_train, y_train):\n",
    "    params = {\n",
    "        \"iterations\": trial.suggest_int(\"iterations\", 300, 3000),\n",
    "        \"learning_rate\": trial.suggest_float(\"learning_rate\", 1e-3, 0.1, log=True),\n",
    "        \"depth\": trial.suggest_int(\"depth\", 1, 13),\n",
    "        \"min_data_in_leaf\": trial.suggest_int(\"min_data_in_leaf\", 1, 100),\n",
    "        \"l2_leaf_reg\": trial.suggest_int(\"l2_leaf_reg\", 2, 10),\n",
    "        \"bagging_temperature\": trial.suggest_float(\"bagging_temperature\", 0.3, 1.0),\n",
    "        \"random_strength\": trial.suggest_float(\"random_strength\", 0.3, 1.0),\n",
    "        \"border_count\": trial.suggest_int(\"border_count\", 1, 1000),\n",
    "        \"rsm\": trial.suggest_float(\"rsm\", 0.05, 1),\n",
    "    }\n",
    "\n",
    "    catboost_model_c = CatBoostRegressor(**params, verbose=100)\n",
    "    catboost_model_c.fit(train_pool_c)\n",
    "    pred_c = pd.DataFrame(catboost_model_c.predict(test_pool_c))\n",
    "    MAE_c = mean_absolute_error(y_test_c, pred_c)\n",
    "    return MAE_c\n",
    "\n",
    "study = optuna.create_study(direction='minimize')\n",
    "study.optimize(lambda trial: objective(trial, X_train, y_train), n_trials=80)"
   ]
  },
  {
   "cell_type": "code",
   "execution_count": 7,
   "metadata": {},
   "outputs": [
    {
     "name": "stdout",
     "output_type": "stream",
     "text": [
      "{'iterations': 2004, 'learning_rate': 0.016429110886618033, 'depth': 8, 'colsample_bylevel': 0.7338575760364532, 'min_data_in_leaf': 90, 'l2_leaf_reg': 5, 'has-time': False, 'bagging_temperature': 0.6414768311294344, 'random_strength': 0.4206698081688342, 'border_count': 487, 'rsm': 0.012360675671015169, 'nan_mode': 'min'}\n",
      "57.13529571086957\n"
     ]
    }
   ],
   "source": [
    "#to output the best paramaters\n",
    "print(study.best_params)\n",
    "\n",
    "#to output the best score returned from the trials\n",
    "print(study.best_value)\n",
    "\n",
    "with open(\"optuna-best-parameters_c.txt\", \"w\") as file:\n",
    "    file.write(\"Best paramaters: \\n\")\n",
    "    file.write(json.dumps(study.best_params))  # Write the first string followed by a newline character\n",
    "    file.write(\"\\n\")\n",
    "    file.write(\"best score MAE: \\n\")\n",
    "    file.write(json.dumps(study.best_value))  # Write the second string followed by a newline character"
   ]
  },
  {
   "cell_type": "code",
   "execution_count": null,
   "metadata": {},
   "outputs": [],
   "source": []
  }
 ],
 "metadata": {
  "environment": {
   "kernel": "python3",
   "name": "common-cpu.m112",
   "type": "gcloud",
   "uri": "gcr.io/deeplearning-platform-release/base-cpu:m112"
  },
  "kernelspec": {
   "display_name": "Python 3",
   "language": "python",
   "name": "python3"
  },
  "language_info": {
   "codemirror_mode": {
    "name": "ipython",
    "version": 3
   },
   "file_extension": ".py",
   "mimetype": "text/x-python",
   "name": "python",
   "nbconvert_exporter": "python",
   "pygments_lexer": "ipython3",
   "version": "3.10.5"
  }
 },
 "nbformat": 4,
 "nbformat_minor": 4
}
