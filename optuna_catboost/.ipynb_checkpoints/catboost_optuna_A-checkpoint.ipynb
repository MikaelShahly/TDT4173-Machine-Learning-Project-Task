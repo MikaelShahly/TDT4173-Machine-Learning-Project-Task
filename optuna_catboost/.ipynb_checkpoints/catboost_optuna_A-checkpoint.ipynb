{
 "cells": [
  {
   "cell_type": "code",
   "execution_count": 5,
   "metadata": {},
   "outputs": [],
   "source": [
    "import pandas as pd\n",
    "import numpy as np\n",
    "from catboost import Pool, CatBoostRegressor\n",
    "from sklearn.model_selection import cross_val_score\n",
    "from sklearn.model_selection import TimeSeriesSplit \n",
    "import optuna \n",
    "import json\n",
    "from sklearn.metrics import mean_absolute_error"
   ]
  },
  {
   "cell_type": "code",
   "execution_count": 6,
   "metadata": {},
   "outputs": [],
   "source": [
    "#Load inn datasets\n",
    "X_test  = pd.read_parquet('../data/prepared_datasets/only_y_cleaned/X_test.parquet')\n",
    "X_train = pd.read_parquet('../data/prepared_datasets/only_y_cleaned/X_train.parquet')\n",
    "y_train = pd.read_parquet('../data/prepared_datasets/only_y_cleaned/Y_train.parquet')\n",
    "y_train_a = pd.read_parquet('../data/prepared_datasets/only_y_cleaned/Y_train_a.parquet')\n",
    "y_train_b = pd.read_parquet('../data/prepared_datasets/only_y_cleaned/Y_train_b.parquet')\n",
    "y_train_c = pd.read_parquet('../data/prepared_datasets/only_y_cleaned/Y_train_c.parquet')"
   ]
  },
  {
   "cell_type": "code",
   "execution_count": 7,
   "metadata": {},
   "outputs": [],
   "source": [
    "def splitting_def(df):\n",
    "    date_range_1 = (df.index >= '2020-05-01') & (df.index <= '2020-06-25')\n",
    "    date_range_2 = (df.index >= '2023-05-01') & (df.index <= '2023-06-15')\n",
    "\n",
    "    # Combine the date ranges to create the test set\n",
    "    test_set = df[date_range_1 | date_range_2]\n",
    "\n",
    "    # The rest of the data will be your training set\n",
    "    training_set = df[~(date_range_1 | date_range_2)]\n",
    "    \n",
    "    # Splitting the test_set into X_test and y_test\n",
    "    X_test = test_set.drop(\"pv_measurement\", axis=1)\n",
    "    y_test = test_set['pv_measurement']  # Assuming 'pv_measurement' is your target variable\n",
    "\n",
    "    # Splitting the training_set into X_train and y_train\n",
    "    X_train = training_set.drop(\"pv_measurement\", axis=1)\n",
    "    y_train = training_set['pv_measurement']\n",
    "    \n",
    "    return X_train, X_test, y_train, y_test\n",
    "\n",
    "X_train_new_a, X_test_new_a, y_train_new_a, y_test_a = splitting_def(pd.concat([X_train[X_train[\"location\"] == \"A\"].drop(\"location\", axis=1), y_train_a], axis=1))\n",
    "X_train_new_b, X_test_new_b, y_train_new_b, y_test_b = splitting_def(pd.concat([X_train[X_train[\"location\"] == \"B\"].drop(\"location\", axis=1), y_train_b], axis=1))\n",
    "X_train_new_c, X_test_new_c, y_train_new_c, y_test_c = splitting_def(pd.concat([X_train[X_train[\"location\"] == \"C\"].drop(\"location\", axis=1), y_train_c], axis=1))"
   ]
  },
  {
   "cell_type": "code",
   "execution_count": 8,
   "metadata": {},
   "outputs": [],
   "source": [
    "#Create a pool of data\n",
    "train_pool_a = Pool(X_train_new_a, y_train_new_a)\n",
    "train_pool_b = Pool(X_train_new_b, y_train_new_b)\n",
    "train_pool_c = Pool(X_train_new_c, y_train_new_c)\n",
    "\n",
    "\n",
    "test_pool_a = Pool(X_test_new_a) \n",
    "test_pool_b = Pool(X_test_new_b) \n",
    "test_pool_c = Pool(X_test_new_c) "
   ]
  },
  {
   "cell_type": "code",
   "execution_count": 9,
   "metadata": {},
   "outputs": [
    {
     "name": "stderr",
     "output_type": "stream",
     "text": [
      "[I 2023-11-06 17:58:59,240] A new study created in memory with name: no-name-e2bcf848-1e84-4eb4-9547-c11bfaceae0c\n"
     ]
    },
    {
     "name": "stdout",
     "output_type": "stream",
     "text": [
      "Learning rate set to 0.07105\n",
      "0:\tlearn: 1077.8600125\ttotal: 64.2ms\tremaining: 1m 4s\n",
      "100:\tlearn: 420.8398889\ttotal: 611ms\tremaining: 5.43s\n",
      "200:\tlearn: 392.1335326\ttotal: 1.13s\tremaining: 4.5s\n",
      "300:\tlearn: 371.7885673\ttotal: 1.64s\tremaining: 3.82s\n",
      "400:\tlearn: 355.7069453\ttotal: 2.21s\tremaining: 3.3s\n",
      "500:\tlearn: 340.6871261\ttotal: 2.78s\tremaining: 2.77s\n",
      "600:\tlearn: 328.2901904\ttotal: 3.34s\tremaining: 2.22s\n",
      "700:\tlearn: 316.7981316\ttotal: 3.95s\tremaining: 1.68s\n",
      "800:\tlearn: 306.3068825\ttotal: 4.59s\tremaining: 1.14s\n",
      "900:\tlearn: 296.7449297\ttotal: 5.26s\tremaining: 579ms\n"
     ]
    },
    {
     "name": "stderr",
     "output_type": "stream",
     "text": [
      "[I 2023-11-06 17:59:05,599] Trial 0 finished with value: 351.34628571238125 and parameters: {'iterations': 1852, 'learning_rate': 0.0018854412552105353, 'depth': 9, 'colsample_bylevel': 0.7366562974962199, 'min_data_in_leaf': 4, 'l2_leaf_reg': 3, 'has-time': True, 'bagging_temperature': 0.9525931510378696, 'random_strength': 0.30613129187014626, 'border_count': 993, 'rsm': 0.21119141087462187, 'nan_mode': 'min'}. Best is trial 0 with value: 351.34628571238125.\n"
     ]
    },
    {
     "name": "stdout",
     "output_type": "stream",
     "text": [
      "999:\tlearn: 288.1683232\ttotal: 5.79s\tremaining: 0us\n",
      "Learning rate set to 0.07105\n",
      "0:\tlearn: 1077.8600125\ttotal: 6.72ms\tremaining: 6.71s\n",
      "100:\tlearn: 420.8398889\ttotal: 530ms\tremaining: 4.71s\n",
      "200:\tlearn: 392.1335326\ttotal: 1.04s\tremaining: 4.13s\n",
      "300:\tlearn: 371.7885673\ttotal: 1.56s\tremaining: 3.63s\n",
      "400:\tlearn: 355.7069453\ttotal: 2.39s\tremaining: 3.58s\n",
      "500:\tlearn: 340.6871261\ttotal: 3.2s\tremaining: 3.19s\n",
      "600:\tlearn: 328.2901904\ttotal: 4.1s\tremaining: 2.72s\n",
      "700:\tlearn: 316.7981316\ttotal: 4.87s\tremaining: 2.08s\n",
      "800:\tlearn: 306.3068825\ttotal: 5.69s\tremaining: 1.41s\n",
      "900:\tlearn: 296.7449297\ttotal: 6.47s\tremaining: 711ms\n"
     ]
    },
    {
     "name": "stderr",
     "output_type": "stream",
     "text": [
      "[I 2023-11-06 17:59:12,966] Trial 1 finished with value: 351.34628571238125 and parameters: {'iterations': 678, 'learning_rate': 0.08655757722293254, 'depth': 3, 'colsample_bylevel': 0.11278507266772318, 'min_data_in_leaf': 86, 'l2_leaf_reg': 10, 'has-time': False, 'bagging_temperature': 0.9543515197508363, 'random_strength': 0.6593659140534813, 'border_count': 836, 'rsm': 0.03898401557311792, 'nan_mode': 'min'}. Best is trial 0 with value: 351.34628571238125.\n"
     ]
    },
    {
     "name": "stdout",
     "output_type": "stream",
     "text": [
      "999:\tlearn: 288.1683232\ttotal: 7.18s\tremaining: 0us\n",
      "Learning rate set to 0.07105\n",
      "0:\tlearn: 1077.8600125\ttotal: 13.6ms\tremaining: 13.6s\n",
      "100:\tlearn: 420.8398889\ttotal: 952ms\tremaining: 8.47s\n",
      "200:\tlearn: 392.1335326\ttotal: 1.8s\tremaining: 7.15s\n",
      "300:\tlearn: 371.7885673\ttotal: 2.63s\tremaining: 6.1s\n",
      "400:\tlearn: 355.7069453\ttotal: 3.58s\tremaining: 5.35s\n",
      "500:\tlearn: 340.6871261\ttotal: 4.4s\tremaining: 4.38s\n",
      "600:\tlearn: 328.2901904\ttotal: 5.17s\tremaining: 3.43s\n",
      "700:\tlearn: 316.7981316\ttotal: 6.02s\tremaining: 2.57s\n",
      "800:\tlearn: 306.3068825\ttotal: 6.78s\tremaining: 1.68s\n",
      "900:\tlearn: 296.7449297\ttotal: 7.6s\tremaining: 835ms\n"
     ]
    },
    {
     "name": "stderr",
     "output_type": "stream",
     "text": [
      "[I 2023-11-06 17:59:21,743] Trial 2 finished with value: 351.34628571238125 and parameters: {'iterations': 719, 'learning_rate': 0.07011632586029165, 'depth': 13, 'colsample_bylevel': 0.5198254327493497, 'min_data_in_leaf': 24, 'l2_leaf_reg': 2, 'has-time': False, 'bagging_temperature': 0.9643515916894021, 'random_strength': 0.6132309578329025, 'border_count': 809, 'rsm': 0.8857020274582579, 'nan_mode': 'min'}. Best is trial 0 with value: 351.34628571238125.\n"
     ]
    },
    {
     "name": "stdout",
     "output_type": "stream",
     "text": [
      "999:\tlearn: 288.1683232\ttotal: 8.58s\tremaining: 0us\n",
      "Learning rate set to 0.07105\n",
      "0:\tlearn: 1077.8600125\ttotal: 9.02ms\tremaining: 9.01s\n",
      "100:\tlearn: 420.8398889\ttotal: 856ms\tremaining: 7.62s\n",
      "200:\tlearn: 392.1335326\ttotal: 1.72s\tremaining: 6.84s\n",
      "300:\tlearn: 371.7885673\ttotal: 2.56s\tremaining: 5.93s\n",
      "400:\tlearn: 355.7069453\ttotal: 3.46s\tremaining: 5.17s\n",
      "500:\tlearn: 340.6871261\ttotal: 4.29s\tremaining: 4.27s\n",
      "600:\tlearn: 328.2901904\ttotal: 5.13s\tremaining: 3.4s\n",
      "700:\tlearn: 316.7981316\ttotal: 6.49s\tremaining: 2.77s\n",
      "800:\tlearn: 306.3068825\ttotal: 8.01s\tremaining: 1.99s\n",
      "900:\tlearn: 296.7449297\ttotal: 9.41s\tremaining: 1.03s\n"
     ]
    },
    {
     "name": "stderr",
     "output_type": "stream",
     "text": [
      "[I 2023-11-06 17:59:32,961] Trial 3 finished with value: 351.34628571238125 and parameters: {'iterations': 2563, 'learning_rate': 0.018488729822851407, 'depth': 2, 'colsample_bylevel': 0.7384621082139435, 'min_data_in_leaf': 33, 'l2_leaf_reg': 3, 'has-time': True, 'bagging_temperature': 0.3600814009435236, 'random_strength': 0.3572578892001514, 'border_count': 440, 'rsm': 0.044614428984990365, 'nan_mode': 'min'}. Best is trial 0 with value: 351.34628571238125.\n"
     ]
    },
    {
     "name": "stdout",
     "output_type": "stream",
     "text": [
      "999:\tlearn: 288.1683232\ttotal: 11s\tremaining: 0us\n",
      "Learning rate set to 0.07105\n",
      "0:\tlearn: 1077.8600125\ttotal: 13.4ms\tremaining: 13.4s\n",
      "100:\tlearn: 420.8398889\ttotal: 1.56s\tremaining: 13.9s\n",
      "200:\tlearn: 392.1335326\ttotal: 3.07s\tremaining: 12.2s\n",
      "300:\tlearn: 371.7885673\ttotal: 4.73s\tremaining: 11s\n",
      "400:\tlearn: 355.7069453\ttotal: 6.33s\tremaining: 9.45s\n",
      "500:\tlearn: 340.6871261\ttotal: 8.15s\tremaining: 8.12s\n",
      "600:\tlearn: 328.2901904\ttotal: 9.89s\tremaining: 6.57s\n",
      "700:\tlearn: 316.7981316\ttotal: 11.5s\tremaining: 4.91s\n",
      "800:\tlearn: 306.3068825\ttotal: 13.3s\tremaining: 3.31s\n",
      "900:\tlearn: 296.7449297\ttotal: 15.1s\tremaining: 1.65s\n"
     ]
    },
    {
     "name": "stderr",
     "output_type": "stream",
     "text": [
      "[I 2023-11-06 17:59:49,842] Trial 4 finished with value: 351.34628571238125 and parameters: {'iterations': 1894, 'learning_rate': 0.01940511333603577, 'depth': 10, 'colsample_bylevel': 0.9737234024596603, 'min_data_in_leaf': 59, 'l2_leaf_reg': 5, 'has-time': False, 'bagging_temperature': 0.5064747347302854, 'random_strength': 0.5964729294467398, 'border_count': 987, 'rsm': 0.04423448142310831, 'nan_mode': 'min'}. Best is trial 0 with value: 351.34628571238125.\n"
     ]
    },
    {
     "name": "stdout",
     "output_type": "stream",
     "text": [
      "999:\tlearn: 288.1683232\ttotal: 16.6s\tremaining: 0us\n",
      "Learning rate set to 0.07105\n",
      "0:\tlearn: 1077.8600125\ttotal: 42.6ms\tremaining: 42.5s\n",
      "100:\tlearn: 420.8398889\ttotal: 1.77s\tremaining: 15.8s\n",
      "200:\tlearn: 392.1335326\ttotal: 3.37s\tremaining: 13.4s\n",
      "300:\tlearn: 371.7885673\ttotal: 5.1s\tremaining: 11.9s\n",
      "400:\tlearn: 355.7069453\ttotal: 6.67s\tremaining: 9.96s\n",
      "500:\tlearn: 340.6871261\ttotal: 8.32s\tremaining: 8.29s\n",
      "600:\tlearn: 328.2901904\ttotal: 9.67s\tremaining: 6.42s\n",
      "700:\tlearn: 316.7981316\ttotal: 11.5s\tremaining: 4.91s\n",
      "800:\tlearn: 306.3068825\ttotal: 14s\tremaining: 3.48s\n",
      "900:\tlearn: 296.7449297\ttotal: 16.3s\tremaining: 1.79s\n"
     ]
    },
    {
     "name": "stderr",
     "output_type": "stream",
     "text": [
      "[I 2023-11-06 18:00:08,071] Trial 5 finished with value: 351.34628571238125 and parameters: {'iterations': 2742, 'learning_rate': 0.0020379376929905, 'depth': 4, 'colsample_bylevel': 0.6626897274236699, 'min_data_in_leaf': 24, 'l2_leaf_reg': 9, 'has-time': True, 'bagging_temperature': 0.9775293342505575, 'random_strength': 0.8945247852694009, 'border_count': 785, 'rsm': 0.7981090939215723, 'nan_mode': 'max'}. Best is trial 0 with value: 351.34628571238125.\n"
     ]
    },
    {
     "name": "stdout",
     "output_type": "stream",
     "text": [
      "999:\tlearn: 288.1683232\ttotal: 17.9s\tremaining: 0us\n",
      "Learning rate set to 0.07105\n",
      "0:\tlearn: 1077.8600125\ttotal: 9.21ms\tremaining: 9.2s\n",
      "100:\tlearn: 420.8398889\ttotal: 1.85s\tremaining: 16.5s\n",
      "200:\tlearn: 392.1335326\ttotal: 3.57s\tremaining: 14.2s\n",
      "300:\tlearn: 371.7885673\ttotal: 5.15s\tremaining: 12s\n",
      "400:\tlearn: 355.7069453\ttotal: 7.11s\tremaining: 10.6s\n",
      "500:\tlearn: 340.6871261\ttotal: 8.59s\tremaining: 8.55s\n",
      "600:\tlearn: 328.2901904\ttotal: 10.2s\tremaining: 6.77s\n",
      "700:\tlearn: 316.7981316\ttotal: 12s\tremaining: 5.13s\n",
      "800:\tlearn: 306.3068825\ttotal: 13.8s\tremaining: 3.42s\n",
      "900:\tlearn: 296.7449297\ttotal: 15.7s\tremaining: 1.73s\n"
     ]
    },
    {
     "name": "stderr",
     "output_type": "stream",
     "text": [
      "[I 2023-11-06 18:00:25,442] Trial 6 finished with value: 351.34628571238125 and parameters: {'iterations': 642, 'learning_rate': 0.04471369127390081, 'depth': 6, 'colsample_bylevel': 0.8600465463385244, 'min_data_in_leaf': 24, 'l2_leaf_reg': 5, 'has-time': False, 'bagging_temperature': 0.42318136324569466, 'random_strength': 0.8412252849603596, 'border_count': 326, 'rsm': 0.6612973971578885, 'nan_mode': 'max'}. Best is trial 0 with value: 351.34628571238125.\n"
     ]
    },
    {
     "name": "stdout",
     "output_type": "stream",
     "text": [
      "999:\tlearn: 288.1683232\ttotal: 17.1s\tremaining: 0us\n",
      "Learning rate set to 0.07105\n",
      "0:\tlearn: 1077.8600125\ttotal: 32ms\tremaining: 32s\n",
      "100:\tlearn: 420.8398889\ttotal: 1.74s\tremaining: 15.5s\n",
      "200:\tlearn: 392.1335326\ttotal: 3.26s\tremaining: 13s\n",
      "300:\tlearn: 371.7885673\ttotal: 5.15s\tremaining: 12s\n",
      "400:\tlearn: 355.7069453\ttotal: 6.8s\tremaining: 10.2s\n",
      "500:\tlearn: 340.6871261\ttotal: 8.39s\tremaining: 8.35s\n",
      "600:\tlearn: 328.2901904\ttotal: 9.9s\tremaining: 6.57s\n",
      "700:\tlearn: 316.7981316\ttotal: 11.6s\tremaining: 4.93s\n",
      "800:\tlearn: 306.3068825\ttotal: 13.2s\tremaining: 3.27s\n",
      "900:\tlearn: 296.7449297\ttotal: 15.2s\tremaining: 1.67s\n"
     ]
    },
    {
     "name": "stderr",
     "output_type": "stream",
     "text": [
      "[I 2023-11-06 18:00:42,752] Trial 7 finished with value: 351.34628571238125 and parameters: {'iterations': 1430, 'learning_rate': 0.07348366521372472, 'depth': 1, 'colsample_bylevel': 0.5717142110622575, 'min_data_in_leaf': 63, 'l2_leaf_reg': 9, 'has-time': True, 'bagging_temperature': 0.764396459397013, 'random_strength': 0.9258319232234558, 'border_count': 432, 'rsm': 0.5399866101780293, 'nan_mode': 'min'}. Best is trial 0 with value: 351.34628571238125.\n"
     ]
    },
    {
     "name": "stdout",
     "output_type": "stream",
     "text": [
      "999:\tlearn: 288.1683232\ttotal: 17.1s\tremaining: 0us\n",
      "Learning rate set to 0.07105\n",
      "0:\tlearn: 1077.8600125\ttotal: 33ms\tremaining: 33s\n",
      "100:\tlearn: 420.8398889\ttotal: 1.79s\tremaining: 15.9s\n",
      "200:\tlearn: 392.1335326\ttotal: 3.59s\tremaining: 14.3s\n",
      "300:\tlearn: 371.7885673\ttotal: 5.25s\tremaining: 12.2s\n",
      "400:\tlearn: 355.7069453\ttotal: 6.99s\tremaining: 10.4s\n",
      "500:\tlearn: 340.6871261\ttotal: 8.48s\tremaining: 8.45s\n",
      "600:\tlearn: 328.2901904\ttotal: 10.1s\tremaining: 6.69s\n",
      "700:\tlearn: 316.7981316\ttotal: 12.3s\tremaining: 5.23s\n",
      "800:\tlearn: 306.3068825\ttotal: 14.2s\tremaining: 3.53s\n",
      "900:\tlearn: 296.7449297\ttotal: 15.9s\tremaining: 1.74s\n"
     ]
    },
    {
     "name": "stderr",
     "output_type": "stream",
     "text": [
      "[I 2023-11-06 18:01:00,547] Trial 8 finished with value: 351.34628571238125 and parameters: {'iterations': 2800, 'learning_rate': 0.0023907637787610628, 'depth': 1, 'colsample_bylevel': 0.786848418678938, 'min_data_in_leaf': 27, 'l2_leaf_reg': 9, 'has-time': True, 'bagging_temperature': 0.3302808215523989, 'random_strength': 0.6405970990554455, 'border_count': 258, 'rsm': 0.3589797884766396, 'nan_mode': 'min'}. Best is trial 0 with value: 351.34628571238125.\n"
     ]
    },
    {
     "name": "stdout",
     "output_type": "stream",
     "text": [
      "999:\tlearn: 288.1683232\ttotal: 17.5s\tremaining: 0us\n",
      "Learning rate set to 0.07105\n",
      "0:\tlearn: 1077.8600125\ttotal: 15.5ms\tremaining: 15.5s\n",
      "100:\tlearn: 420.8398889\ttotal: 1.77s\tremaining: 15.7s\n",
      "200:\tlearn: 392.1335326\ttotal: 4.16s\tremaining: 16.5s\n",
      "300:\tlearn: 371.7885673\ttotal: 6s\tremaining: 13.9s\n",
      "400:\tlearn: 355.7069453\ttotal: 7.94s\tremaining: 11.9s\n",
      "500:\tlearn: 340.6871261\ttotal: 9.78s\tremaining: 9.74s\n",
      "600:\tlearn: 328.2901904\ttotal: 11.6s\tremaining: 7.72s\n",
      "700:\tlearn: 316.7981316\ttotal: 13.4s\tremaining: 5.72s\n",
      "800:\tlearn: 306.3068825\ttotal: 15.1s\tremaining: 3.75s\n",
      "900:\tlearn: 296.7449297\ttotal: 17.1s\tremaining: 1.88s\n"
     ]
    },
    {
     "name": "stderr",
     "output_type": "stream",
     "text": [
      "[I 2023-11-06 18:01:19,212] Trial 9 finished with value: 351.34628571238125 and parameters: {'iterations': 1120, 'learning_rate': 0.0033410902515671166, 'depth': 6, 'colsample_bylevel': 0.42405671877191803, 'min_data_in_leaf': 66, 'l2_leaf_reg': 9, 'has-time': False, 'bagging_temperature': 0.3174679210584194, 'random_strength': 0.39669541750073434, 'border_count': 197, 'rsm': 0.09950618960762793, 'nan_mode': 'min'}. Best is trial 0 with value: 351.34628571238125.\n"
     ]
    },
    {
     "name": "stdout",
     "output_type": "stream",
     "text": [
      "999:\tlearn: 288.1683232\ttotal: 18.4s\tremaining: 0us\n",
      "Learning rate set to 0.07105\n",
      "0:\tlearn: 1077.8600125\ttotal: 15.1ms\tremaining: 15.1s\n",
      "100:\tlearn: 420.8398889\ttotal: 1.7s\tremaining: 15.1s\n",
      "200:\tlearn: 392.1335326\ttotal: 3.16s\tremaining: 12.6s\n",
      "300:\tlearn: 371.7885673\ttotal: 4.99s\tremaining: 11.6s\n",
      "400:\tlearn: 355.7069453\ttotal: 6.6s\tremaining: 9.86s\n",
      "500:\tlearn: 340.6871261\ttotal: 8.42s\tremaining: 8.38s\n",
      "600:\tlearn: 328.2901904\ttotal: 9.74s\tremaining: 6.47s\n",
      "700:\tlearn: 316.7981316\ttotal: 11.3s\tremaining: 4.83s\n",
      "800:\tlearn: 306.3068825\ttotal: 13.3s\tremaining: 3.3s\n",
      "900:\tlearn: 296.7449297\ttotal: 15.1s\tremaining: 1.66s\n"
     ]
    },
    {
     "name": "stderr",
     "output_type": "stream",
     "text": [
      "[I 2023-11-06 18:01:36,311] Trial 10 finished with value: 351.34628571238125 and parameters: {'iterations': 2007, 'learning_rate': 0.0010491323878390607, 'depth': 9, 'colsample_bylevel': 0.9903608134056223, 'min_data_in_leaf': 3, 'l2_leaf_reg': 4, 'has-time': True, 'bagging_temperature': 0.7756979851372819, 'random_strength': 0.30834012156041585, 'border_count': 16, 'rsm': 0.3071272706860614, 'nan_mode': 'max'}. Best is trial 0 with value: 351.34628571238125.\n"
     ]
    },
    {
     "name": "stdout",
     "output_type": "stream",
     "text": [
      "999:\tlearn: 288.1683232\ttotal: 16.8s\tremaining: 0us\n",
      "Learning rate set to 0.07105\n",
      "0:\tlearn: 1077.8600125\ttotal: 35.5ms\tremaining: 35.5s\n",
      "100:\tlearn: 420.8398889\ttotal: 1.46s\tremaining: 13s\n",
      "200:\tlearn: 392.1335326\ttotal: 3.51s\tremaining: 14s\n",
      "300:\tlearn: 371.7885673\ttotal: 5s\tremaining: 11.6s\n",
      "400:\tlearn: 355.7069453\ttotal: 6.57s\tremaining: 9.81s\n",
      "500:\tlearn: 340.6871261\ttotal: 8.02s\tremaining: 7.99s\n",
      "600:\tlearn: 328.2901904\ttotal: 9.83s\tremaining: 6.52s\n",
      "700:\tlearn: 316.7981316\ttotal: 11.6s\tremaining: 4.96s\n",
      "800:\tlearn: 306.3068825\ttotal: 13.6s\tremaining: 3.37s\n",
      "900:\tlearn: 296.7449297\ttotal: 15.4s\tremaining: 1.69s\n"
     ]
    },
    {
     "name": "stderr",
     "output_type": "stream",
     "text": [
      "[I 2023-11-06 18:01:53,717] Trial 11 finished with value: 351.34628571238125 and parameters: {'iterations': 1284, 'learning_rate': 0.006791747036332401, 'depth': 10, 'colsample_bylevel': 0.05743166334336636, 'min_data_in_leaf': 98, 'l2_leaf_reg': 7, 'has-time': False, 'bagging_temperature': 0.9000780590610543, 'random_strength': 0.486827886036357, 'border_count': 983, 'rsm': 0.20473497810249555, 'nan_mode': 'min'}. Best is trial 0 with value: 351.34628571238125.\n"
     ]
    },
    {
     "name": "stdout",
     "output_type": "stream",
     "text": [
      "999:\tlearn: 288.1683232\ttotal: 17.1s\tremaining: 0us\n",
      "Learning rate set to 0.07105\n",
      "0:\tlearn: 1077.8600125\ttotal: 36.6ms\tremaining: 36.5s\n",
      "100:\tlearn: 420.8398889\ttotal: 1.75s\tremaining: 15.5s\n",
      "200:\tlearn: 392.1335326\ttotal: 3.52s\tremaining: 14s\n",
      "300:\tlearn: 371.7885673\ttotal: 5.37s\tremaining: 12.5s\n",
      "400:\tlearn: 355.7069453\ttotal: 7.14s\tremaining: 10.7s\n",
      "500:\tlearn: 340.6871261\ttotal: 9.41s\tremaining: 9.37s\n",
      "600:\tlearn: 328.2901904\ttotal: 11.7s\tremaining: 7.79s\n",
      "700:\tlearn: 316.7981316\ttotal: 13.2s\tremaining: 5.62s\n",
      "800:\tlearn: 306.3068825\ttotal: 15.1s\tremaining: 3.75s\n",
      "900:\tlearn: 296.7449297\ttotal: 16.9s\tremaining: 1.85s\n"
     ]
    },
    {
     "name": "stderr",
     "output_type": "stream",
     "text": [
      "[I 2023-11-06 18:02:12,667] Trial 12 finished with value: 351.34628571238125 and parameters: {'iterations': 331, 'learning_rate': 0.00817467703282441, 'depth': 8, 'colsample_bylevel': 0.06192638875894618, 'min_data_in_leaf': 89, 'l2_leaf_reg': 7, 'has-time': True, 'bagging_temperature': 0.8085254209188814, 'random_strength': 0.7509111884579398, 'border_count': 715, 'rsm': 0.24139250858869088, 'nan_mode': 'min'}. Best is trial 0 with value: 351.34628571238125.\n"
     ]
    },
    {
     "name": "stdout",
     "output_type": "stream",
     "text": [
      "999:\tlearn: 288.1683232\ttotal: 18.6s\tremaining: 0us\n",
      "Learning rate set to 0.07105\n",
      "0:\tlearn: 1077.8600125\ttotal: 13.5ms\tremaining: 13.5s\n",
      "100:\tlearn: 420.8398889\ttotal: 1.52s\tremaining: 13.6s\n",
      "200:\tlearn: 392.1335326\ttotal: 3.41s\tremaining: 13.5s\n",
      "300:\tlearn: 371.7885673\ttotal: 5.22s\tremaining: 12.1s\n",
      "400:\tlearn: 355.7069453\ttotal: 6.56s\tremaining: 9.8s\n",
      "500:\tlearn: 340.6871261\ttotal: 8.07s\tremaining: 8.04s\n",
      "600:\tlearn: 328.2901904\ttotal: 9.63s\tremaining: 6.4s\n",
      "700:\tlearn: 316.7981316\ttotal: 11.1s\tremaining: 4.71s\n",
      "800:\tlearn: 306.3068825\ttotal: 12.7s\tremaining: 3.16s\n",
      "900:\tlearn: 296.7449297\ttotal: 14.2s\tremaining: 1.56s\n"
     ]
    },
    {
     "name": "stderr",
     "output_type": "stream",
     "text": [
      "[I 2023-11-06 18:02:28,901] Trial 13 finished with value: 351.34628571238125 and parameters: {'iterations': 2204, 'learning_rate': 0.030936707968197526, 'depth': 4, 'colsample_bylevel': 0.30649724266109435, 'min_data_in_leaf': 79, 'l2_leaf_reg': 7, 'has-time': False, 'bagging_temperature': 0.8740979670201059, 'random_strength': 0.5003697745685324, 'border_count': 575, 'rsm': 0.002325698211806365, 'nan_mode': 'min'}. Best is trial 0 with value: 351.34628571238125.\n"
     ]
    },
    {
     "name": "stdout",
     "output_type": "stream",
     "text": [
      "999:\tlearn: 288.1683232\ttotal: 15.9s\tremaining: 0us\n",
      "Learning rate set to 0.07105\n",
      "0:\tlearn: 1077.8600125\ttotal: 67.3ms\tremaining: 1m 7s\n",
      "100:\tlearn: 420.8398889\ttotal: 1.62s\tremaining: 14.5s\n",
      "200:\tlearn: 392.1335326\ttotal: 3.34s\tremaining: 13.3s\n",
      "300:\tlearn: 371.7885673\ttotal: 5.19s\tremaining: 12.1s\n",
      "400:\tlearn: 355.7069453\ttotal: 6.7s\tremaining: 10s\n",
      "500:\tlearn: 340.6871261\ttotal: 8s\tremaining: 7.96s\n",
      "600:\tlearn: 328.2901904\ttotal: 9.62s\tremaining: 6.38s\n",
      "700:\tlearn: 316.7981316\ttotal: 11.2s\tremaining: 4.77s\n",
      "800:\tlearn: 306.3068825\ttotal: 12.8s\tremaining: 3.19s\n",
      "900:\tlearn: 296.7449297\ttotal: 14.6s\tremaining: 1.6s\n"
     ]
    },
    {
     "name": "stderr",
     "output_type": "stream",
     "text": [
      "[I 2023-11-06 18:02:45,435] Trial 14 finished with value: 351.34628571238125 and parameters: {'iterations': 1747, 'learning_rate': 0.004940243221642632, 'depth': 13, 'colsample_bylevel': 0.23801969403044626, 'min_data_in_leaf': 41, 'l2_leaf_reg': 2, 'has-time': True, 'bagging_temperature': 0.6709023652862298, 'random_strength': 0.7429789962099922, 'border_count': 879, 'rsm': 0.43128930582751174, 'nan_mode': 'max'}. Best is trial 0 with value: 351.34628571238125.\n"
     ]
    },
    {
     "name": "stdout",
     "output_type": "stream",
     "text": [
      "999:\tlearn: 288.1683232\ttotal: 16.1s\tremaining: 0us\n",
      "Learning rate set to 0.07105\n",
      "0:\tlearn: 1077.8600125\ttotal: 29.7ms\tremaining: 29.7s\n",
      "100:\tlearn: 420.8398889\ttotal: 1.68s\tremaining: 14.9s\n",
      "200:\tlearn: 392.1335326\ttotal: 3.2s\tremaining: 12.7s\n",
      "300:\tlearn: 371.7885673\ttotal: 4.93s\tremaining: 11.4s\n",
      "400:\tlearn: 355.7069453\ttotal: 6.48s\tremaining: 9.68s\n",
      "500:\tlearn: 340.6871261\ttotal: 7.88s\tremaining: 7.85s\n",
      "600:\tlearn: 328.2901904\ttotal: 9.42s\tremaining: 6.25s\n",
      "700:\tlearn: 316.7981316\ttotal: 10.8s\tremaining: 4.62s\n",
      "800:\tlearn: 306.3068825\ttotal: 12.8s\tremaining: 3.18s\n",
      "900:\tlearn: 296.7449297\ttotal: 14.5s\tremaining: 1.59s\n"
     ]
    },
    {
     "name": "stderr",
     "output_type": "stream",
     "text": [
      "[I 2023-11-06 18:03:02,278] Trial 15 finished with value: 351.34628571238125 and parameters: {'iterations': 2300, 'learning_rate': 0.014044158215563598, 'depth': 4, 'colsample_bylevel': 0.6397755334659688, 'min_data_in_leaf': 5, 'l2_leaf_reg': 6, 'has-time': False, 'bagging_temperature': 0.9984173442680784, 'random_strength': 0.5077776889470021, 'border_count': 628, 'rsm': 0.18681642009097518, 'nan_mode': 'min'}. Best is trial 0 with value: 351.34628571238125.\n"
     ]
    },
    {
     "name": "stdout",
     "output_type": "stream",
     "text": [
      "999:\tlearn: 288.1683232\ttotal: 16.5s\tremaining: 0us\n",
      "Learning rate set to 0.07105\n",
      "0:\tlearn: 1077.8600125\ttotal: 20.6ms\tremaining: 20.5s\n",
      "100:\tlearn: 420.8398889\ttotal: 2.04s\tremaining: 18.2s\n",
      "200:\tlearn: 392.1335326\ttotal: 3.87s\tremaining: 15.4s\n",
      "300:\tlearn: 371.7885673\ttotal: 5.98s\tremaining: 13.9s\n",
      "400:\tlearn: 355.7069453\ttotal: 8.22s\tremaining: 12.3s\n",
      "500:\tlearn: 340.6871261\ttotal: 9.99s\tremaining: 9.95s\n",
      "600:\tlearn: 328.2901904\ttotal: 11.5s\tremaining: 7.67s\n",
      "700:\tlearn: 316.7981316\ttotal: 13.4s\tremaining: 5.71s\n",
      "800:\tlearn: 306.3068825\ttotal: 15.2s\tremaining: 3.78s\n",
      "900:\tlearn: 296.7449297\ttotal: 16.8s\tremaining: 1.85s\n"
     ]
    },
    {
     "name": "stderr",
     "output_type": "stream",
     "text": [
      "[I 2023-11-06 18:03:20,835] Trial 16 finished with value: 351.34628571238125 and parameters: {'iterations': 929, 'learning_rate': 0.09461048243499162, 'depth': 11, 'colsample_bylevel': 0.46686242309385545, 'min_data_in_leaf': 76, 'l2_leaf_reg': 10, 'has-time': True, 'bagging_temperature': 0.8821472616765029, 'random_strength': 0.9953803191875232, 'border_count': 912, 'rsm': 0.13702612183308693, 'nan_mode': 'min'}. Best is trial 0 with value: 351.34628571238125.\n"
     ]
    },
    {
     "name": "stdout",
     "output_type": "stream",
     "text": [
      "999:\tlearn: 288.1683232\ttotal: 18.1s\tremaining: 0us\n",
      "Learning rate set to 0.07105\n",
      "0:\tlearn: 1077.8600125\ttotal: 20.1ms\tremaining: 20.1s\n",
      "100:\tlearn: 420.8398889\ttotal: 1.7s\tremaining: 15.1s\n",
      "200:\tlearn: 392.1335326\ttotal: 3.05s\tremaining: 12.1s\n",
      "300:\tlearn: 371.7885673\ttotal: 4.83s\tremaining: 11.2s\n",
      "400:\tlearn: 355.7069453\ttotal: 6.45s\tremaining: 9.63s\n",
      "500:\tlearn: 340.6871261\ttotal: 7.99s\tremaining: 7.95s\n",
      "600:\tlearn: 328.2901904\ttotal: 9.51s\tremaining: 6.31s\n",
      "700:\tlearn: 316.7981316\ttotal: 11s\tremaining: 4.71s\n",
      "800:\tlearn: 306.3068825\ttotal: 12.6s\tremaining: 3.12s\n",
      "900:\tlearn: 296.7449297\ttotal: 14.4s\tremaining: 1.58s\n"
     ]
    },
    {
     "name": "stderr",
     "output_type": "stream",
     "text": [
      "[I 2023-11-06 18:03:37,186] Trial 17 finished with value: 351.34628571238125 and parameters: {'iterations': 1512, 'learning_rate': 0.011639918714391774, 'depth': 7, 'colsample_bylevel': 0.4031110400156716, 'min_data_in_leaf': 47, 'l2_leaf_reg': 4, 'has-time': False, 'bagging_temperature': 0.6663000560427637, 'random_strength': 0.4197238680285913, 'border_count': 671, 'rsm': 0.26689449858053427, 'nan_mode': 'min'}. Best is trial 0 with value: 351.34628571238125.\n"
     ]
    },
    {
     "name": "stdout",
     "output_type": "stream",
     "text": [
      "999:\tlearn: 288.1683232\ttotal: 16s\tremaining: 0us\n",
      "Learning rate set to 0.07105\n",
      "0:\tlearn: 1077.8600125\ttotal: 10.8ms\tremaining: 10.8s\n",
      "100:\tlearn: 420.8398889\ttotal: 1.72s\tremaining: 15.3s\n",
      "200:\tlearn: 392.1335326\ttotal: 3.56s\tremaining: 14.2s\n",
      "300:\tlearn: 371.7885673\ttotal: 5.05s\tremaining: 11.7s\n",
      "400:\tlearn: 355.7069453\ttotal: 6.38s\tremaining: 9.52s\n",
      "500:\tlearn: 340.6871261\ttotal: 7.84s\tremaining: 7.8s\n",
      "600:\tlearn: 328.2901904\ttotal: 9.5s\tremaining: 6.31s\n",
      "700:\tlearn: 316.7981316\ttotal: 11.3s\tremaining: 4.84s\n",
      "800:\tlearn: 306.3068825\ttotal: 13.1s\tremaining: 3.25s\n",
      "900:\tlearn: 296.7449297\ttotal: 14.8s\tremaining: 1.63s\n"
     ]
    },
    {
     "name": "stderr",
     "output_type": "stream",
     "text": [
      "[I 2023-11-06 18:03:53,945] Trial 18 finished with value: 351.34628571238125 and parameters: {'iterations': 317, 'learning_rate': 0.035583341239687226, 'depth': 3, 'colsample_bylevel': 0.6035028207208505, 'min_data_in_leaf': 99, 'l2_leaf_reg': 3, 'has-time': False, 'bagging_temperature': 0.9163974909070622, 'random_strength': 0.7189081769180968, 'border_count': 808, 'rsm': 0.12699802364347262, 'nan_mode': 'max'}. Best is trial 0 with value: 351.34628571238125.\n"
     ]
    },
    {
     "name": "stdout",
     "output_type": "stream",
     "text": [
      "999:\tlearn: 288.1683232\ttotal: 16.4s\tremaining: 0us\n",
      "Learning rate set to 0.07105\n",
      "0:\tlearn: 1077.8600125\ttotal: 28.6ms\tremaining: 28.6s\n",
      "100:\tlearn: 420.8398889\ttotal: 1.81s\tremaining: 16.1s\n",
      "200:\tlearn: 392.1335326\ttotal: 3.57s\tremaining: 14.2s\n",
      "300:\tlearn: 371.7885673\ttotal: 4.93s\tremaining: 11.4s\n",
      "400:\tlearn: 355.7069453\ttotal: 6.56s\tremaining: 9.8s\n",
      "500:\tlearn: 340.6871261\ttotal: 8.44s\tremaining: 8.41s\n",
      "600:\tlearn: 328.2901904\ttotal: 10.4s\tremaining: 6.92s\n",
      "700:\tlearn: 316.7981316\ttotal: 12.1s\tremaining: 5.17s\n",
      "800:\tlearn: 306.3068825\ttotal: 13.5s\tremaining: 3.36s\n",
      "900:\tlearn: 296.7449297\ttotal: 15.3s\tremaining: 1.68s\n"
     ]
    },
    {
     "name": "stderr",
     "output_type": "stream",
     "text": [
      "[I 2023-11-06 18:04:11,582] Trial 19 finished with value: 351.34628571238125 and parameters: {'iterations': 1076, 'learning_rate': 0.005395997823826621, 'depth': 6, 'colsample_bylevel': 0.20369381828515942, 'min_data_in_leaf': 12, 'l2_leaf_reg': 10, 'has-time': True, 'bagging_temperature': 0.8271499669895266, 'random_strength': 0.5567578308972705, 'border_count': 895, 'rsm': 0.37148249052763477, 'nan_mode': 'min'}. Best is trial 0 with value: 351.34628571238125.\n"
     ]
    },
    {
     "name": "stdout",
     "output_type": "stream",
     "text": [
      "999:\tlearn: 288.1683232\ttotal: 17.2s\tremaining: 0us\n",
      "Learning rate set to 0.07105\n",
      "0:\tlearn: 1077.8600125\ttotal: 20.4ms\tremaining: 20.4s\n",
      "100:\tlearn: 420.8398889\ttotal: 1.92s\tremaining: 17.1s\n",
      "200:\tlearn: 392.1335326\ttotal: 3.63s\tremaining: 14.4s\n",
      "300:\tlearn: 371.7885673\ttotal: 5.37s\tremaining: 12.5s\n",
      "400:\tlearn: 355.7069453\ttotal: 7.02s\tremaining: 10.5s\n",
      "500:\tlearn: 340.6871261\ttotal: 8.74s\tremaining: 8.71s\n",
      "600:\tlearn: 328.2901904\ttotal: 10.1s\tremaining: 6.73s\n",
      "700:\tlearn: 316.7981316\ttotal: 11.9s\tremaining: 5.08s\n",
      "800:\tlearn: 306.3068825\ttotal: 13.8s\tremaining: 3.44s\n",
      "900:\tlearn: 296.7449297\ttotal: 15.7s\tremaining: 1.72s\n"
     ]
    },
    {
     "name": "stderr",
     "output_type": "stream",
     "text": [
      "[I 2023-11-06 18:04:29,113] Trial 20 finished with value: 351.34628571238125 and parameters: {'iterations': 1646, 'learning_rate': 0.011631448161957905, 'depth': 8, 'colsample_bylevel': 0.5075817364414212, 'min_data_in_leaf': 76, 'l2_leaf_reg': 8, 'has-time': True, 'bagging_temperature': 0.7100753439245706, 'random_strength': 0.3063634600943537, 'border_count': 544, 'rsm': 0.20401515861077127, 'nan_mode': 'min'}. Best is trial 0 with value: 351.34628571238125.\n"
     ]
    },
    {
     "name": "stdout",
     "output_type": "stream",
     "text": [
      "999:\tlearn: 288.1683232\ttotal: 17.1s\tremaining: 0us\n",
      "Learning rate set to 0.07105\n",
      "0:\tlearn: 1077.8600125\ttotal: 15.4ms\tremaining: 15.4s\n",
      "100:\tlearn: 420.8398889\ttotal: 1.95s\tremaining: 17.3s\n",
      "200:\tlearn: 392.1335326\ttotal: 3.44s\tremaining: 13.7s\n",
      "300:\tlearn: 371.7885673\ttotal: 5.06s\tremaining: 11.7s\n",
      "400:\tlearn: 355.7069453\ttotal: 6.68s\tremaining: 9.98s\n",
      "500:\tlearn: 340.6871261\ttotal: 8.19s\tremaining: 8.16s\n",
      "600:\tlearn: 328.2901904\ttotal: 9.85s\tremaining: 6.54s\n",
      "700:\tlearn: 316.7981316\ttotal: 11.7s\tremaining: 5s\n",
      "800:\tlearn: 306.3068825\ttotal: 13.1s\tremaining: 3.26s\n",
      "900:\tlearn: 296.7449297\ttotal: 14.9s\tremaining: 1.64s\n"
     ]
    },
    {
     "name": "stderr",
     "output_type": "stream",
     "text": [
      "[I 2023-11-06 18:04:46,097] Trial 21 finished with value: 351.34628571238125 and parameters: {'iterations': 728, 'learning_rate': 0.05312728518849545, 'depth': 12, 'colsample_bylevel': 0.5292999731438401, 'min_data_in_leaf': 15, 'l2_leaf_reg': 2, 'has-time': False, 'bagging_temperature': 0.9495766311360581, 'random_strength': 0.6858106411297056, 'border_count': 807, 'rsm': 0.8944247655866892, 'nan_mode': 'min'}. Best is trial 0 with value: 351.34628571238125.\n"
     ]
    },
    {
     "name": "stdout",
     "output_type": "stream",
     "text": [
      "999:\tlearn: 288.1683232\ttotal: 16.5s\tremaining: 0us\n",
      "Learning rate set to 0.07105\n",
      "0:\tlearn: 1077.8600125\ttotal: 9.5ms\tremaining: 9.49s\n",
      "100:\tlearn: 420.8398889\ttotal: 2.03s\tremaining: 18s\n",
      "200:\tlearn: 392.1335326\ttotal: 3.82s\tremaining: 15.2s\n",
      "300:\tlearn: 371.7885673\ttotal: 5.28s\tremaining: 12.3s\n",
      "400:\tlearn: 355.7069453\ttotal: 7.06s\tremaining: 10.5s\n",
      "500:\tlearn: 340.6871261\ttotal: 8.92s\tremaining: 8.88s\n",
      "600:\tlearn: 328.2901904\ttotal: 10.4s\tremaining: 6.91s\n",
      "700:\tlearn: 316.7981316\ttotal: 12.1s\tremaining: 5.16s\n",
      "800:\tlearn: 306.3068825\ttotal: 14.1s\tremaining: 3.49s\n",
      "900:\tlearn: 296.7449297\ttotal: 15.7s\tremaining: 1.72s\n"
     ]
    },
    {
     "name": "stderr",
     "output_type": "stream",
     "text": [
      "[I 2023-11-06 18:05:04,613] Trial 22 finished with value: 351.34628571238125 and parameters: {'iterations': 581, 'learning_rate': 0.06789050620923062, 'depth': 12, 'colsample_bylevel': 0.3372513200066377, 'min_data_in_leaf': 15, 'l2_leaf_reg': 3, 'has-time': False, 'bagging_temperature': 0.9925916442292487, 'random_strength': 0.6184298147071093, 'border_count': 743, 'rsm': 0.9929365138682794, 'nan_mode': 'min'}. Best is trial 0 with value: 351.34628571238125.\n"
     ]
    },
    {
     "name": "stdout",
     "output_type": "stream",
     "text": [
      "999:\tlearn: 288.1683232\ttotal: 18.1s\tremaining: 0us\n",
      "Learning rate set to 0.07105\n",
      "0:\tlearn: 1077.8600125\ttotal: 12ms\tremaining: 12s\n",
      "100:\tlearn: 420.8398889\ttotal: 1.48s\tremaining: 13.2s\n",
      "200:\tlearn: 392.1335326\ttotal: 3.2s\tremaining: 12.7s\n",
      "300:\tlearn: 371.7885673\ttotal: 4.93s\tremaining: 11.4s\n",
      "400:\tlearn: 355.7069453\ttotal: 6.82s\tremaining: 10.2s\n",
      "500:\tlearn: 340.6871261\ttotal: 8.59s\tremaining: 8.55s\n",
      "600:\tlearn: 328.2901904\ttotal: 10.7s\tremaining: 7.08s\n",
      "700:\tlearn: 316.7981316\ttotal: 12.3s\tremaining: 5.24s\n",
      "800:\tlearn: 306.3068825\ttotal: 14.1s\tremaining: 3.5s\n",
      "900:\tlearn: 296.7449297\ttotal: 16.1s\tremaining: 1.76s\n"
     ]
    },
    {
     "name": "stderr",
     "output_type": "stream",
     "text": [
      "[I 2023-11-06 18:05:22,591] Trial 23 finished with value: 351.34628571238125 and parameters: {'iterations': 966, 'learning_rate': 0.09808261853732261, 'depth': 13, 'colsample_bylevel': 0.7009895951508628, 'min_data_in_leaf': 34, 'l2_leaf_reg': 2, 'has-time': False, 'bagging_temperature': 0.9377545349703409, 'random_strength': 0.5877863579114279, 'border_count': 881, 'rsm': 0.554057347660235, 'nan_mode': 'min'}. Best is trial 0 with value: 351.34628571238125.\n"
     ]
    },
    {
     "name": "stdout",
     "output_type": "stream",
     "text": [
      "999:\tlearn: 288.1683232\ttotal: 17.6s\tremaining: 0us\n",
      "Learning rate set to 0.07105\n",
      "0:\tlearn: 1077.8600125\ttotal: 18.3ms\tremaining: 18.3s\n",
      "100:\tlearn: 420.8398889\ttotal: 1.8s\tremaining: 16s\n",
      "200:\tlearn: 392.1335326\ttotal: 3.57s\tremaining: 14.2s\n",
      "300:\tlearn: 371.7885673\ttotal: 5.3s\tremaining: 12.3s\n",
      "400:\tlearn: 355.7069453\ttotal: 6.84s\tremaining: 10.2s\n",
      "500:\tlearn: 340.6871261\ttotal: 8.64s\tremaining: 8.61s\n",
      "600:\tlearn: 328.2901904\ttotal: 10.5s\tremaining: 6.97s\n",
      "700:\tlearn: 316.7981316\ttotal: 12.2s\tremaining: 5.18s\n",
      "800:\tlearn: 306.3068825\ttotal: 13.6s\tremaining: 3.37s\n",
      "900:\tlearn: 296.7449297\ttotal: 15.1s\tremaining: 1.66s\n"
     ]
    },
    {
     "name": "stderr",
     "output_type": "stream",
     "text": [
      "[I 2023-11-06 18:05:39,835] Trial 24 finished with value: 351.34628571238125 and parameters: {'iterations': 793, 'learning_rate': 0.026249384962778014, 'depth': 10, 'colsample_bylevel': 0.5739211632539742, 'min_data_in_leaf': 48, 'l2_leaf_reg': 4, 'has-time': False, 'bagging_temperature': 0.8532731139128458, 'random_strength': 0.4501715140762258, 'border_count': 966, 'rsm': 0.46796359883134325, 'nan_mode': 'min'}. Best is trial 0 with value: 351.34628571238125.\n"
     ]
    },
    {
     "name": "stdout",
     "output_type": "stream",
     "text": [
      "999:\tlearn: 288.1683232\ttotal: 16.9s\tremaining: 0us\n",
      "Learning rate set to 0.07105\n",
      "0:\tlearn: 1077.8600125\ttotal: 12.7ms\tremaining: 12.7s\n",
      "100:\tlearn: 420.8398889\ttotal: 1.57s\tremaining: 13.9s\n",
      "200:\tlearn: 392.1335326\ttotal: 3.11s\tremaining: 12.4s\n",
      "300:\tlearn: 371.7885673\ttotal: 4.76s\tremaining: 11.1s\n",
      "400:\tlearn: 355.7069453\ttotal: 6.27s\tremaining: 9.37s\n",
      "500:\tlearn: 340.6871261\ttotal: 7.92s\tremaining: 7.89s\n",
      "600:\tlearn: 328.2901904\ttotal: 9.49s\tremaining: 6.3s\n",
      "700:\tlearn: 316.7981316\ttotal: 11.2s\tremaining: 4.8s\n",
      "800:\tlearn: 306.3068825\ttotal: 12.8s\tremaining: 3.18s\n",
      "900:\tlearn: 296.7449297\ttotal: 14.5s\tremaining: 1.59s\n"
     ]
    },
    {
     "name": "stderr",
     "output_type": "stream",
     "text": [
      "[I 2023-11-06 18:05:56,200] Trial 25 finished with value: 351.34628571238125 and parameters: {'iterations': 511, 'learning_rate': 0.04534618088069888, 'depth': 5, 'colsample_bylevel': 0.8230206961262752, 'min_data_in_leaf': 11, 'l2_leaf_reg': 5, 'has-time': False, 'bagging_temperature': 0.921724618326975, 'random_strength': 0.5472895437150783, 'border_count': 819, 'rsm': 0.6909731645241948, 'nan_mode': 'min'}. Best is trial 0 with value: 351.34628571238125.\n"
     ]
    },
    {
     "name": "stdout",
     "output_type": "stream",
     "text": [
      "999:\tlearn: 288.1683232\ttotal: 16s\tremaining: 0us\n",
      "Learning rate set to 0.07105\n",
      "0:\tlearn: 1077.8600125\ttotal: 20.6ms\tremaining: 20.6s\n",
      "100:\tlearn: 420.8398889\ttotal: 1.7s\tremaining: 15.1s\n",
      "200:\tlearn: 392.1335326\ttotal: 3.65s\tremaining: 14.5s\n",
      "300:\tlearn: 371.7885673\ttotal: 5.38s\tremaining: 12.5s\n",
      "400:\tlearn: 355.7069453\ttotal: 7.33s\tremaining: 11s\n",
      "500:\tlearn: 340.6871261\ttotal: 9.24s\tremaining: 9.2s\n",
      "600:\tlearn: 328.2901904\ttotal: 10.7s\tremaining: 7.08s\n",
      "700:\tlearn: 316.7981316\ttotal: 12s\tremaining: 5.12s\n",
      "800:\tlearn: 306.3068825\ttotal: 13.8s\tremaining: 3.42s\n",
      "900:\tlearn: 296.7449297\ttotal: 15.6s\tremaining: 1.71s\n"
     ]
    },
    {
     "name": "stderr",
     "output_type": "stream",
     "text": [
      "[I 2023-11-06 18:06:13,806] Trial 26 finished with value: 351.34628571238125 and parameters: {'iterations': 2104, 'learning_rate': 0.06412639585567974, 'depth': 8, 'colsample_bylevel': 0.7177667208627183, 'min_data_in_leaf': 1, 'l2_leaf_reg': 3, 'has-time': False, 'bagging_temperature': 0.9986043327060969, 'random_strength': 0.6858437393461724, 'border_count': 643, 'rsm': 0.34430641279588525, 'nan_mode': 'max'}. Best is trial 0 with value: 351.34628571238125.\n"
     ]
    },
    {
     "name": "stdout",
     "output_type": "stream",
     "text": [
      "999:\tlearn: 288.1683232\ttotal: 17.3s\tremaining: 0us\n",
      "Learning rate set to 0.07105\n",
      "0:\tlearn: 1077.8600125\ttotal: 19ms\tremaining: 19s\n",
      "100:\tlearn: 420.8398889\ttotal: 1.83s\tremaining: 16.3s\n",
      "200:\tlearn: 392.1335326\ttotal: 3.63s\tremaining: 14.4s\n",
      "300:\tlearn: 371.7885673\ttotal: 5.22s\tremaining: 12.1s\n",
      "400:\tlearn: 355.7069453\ttotal: 6.77s\tremaining: 10.1s\n",
      "500:\tlearn: 340.6871261\ttotal: 8.23s\tremaining: 8.2s\n",
      "600:\tlearn: 328.2901904\ttotal: 9.62s\tremaining: 6.38s\n",
      "700:\tlearn: 316.7981316\ttotal: 11.3s\tremaining: 4.83s\n",
      "800:\tlearn: 306.3068825\ttotal: 12.7s\tremaining: 3.17s\n",
      "900:\tlearn: 296.7449297\ttotal: 14.6s\tremaining: 1.6s\n"
     ]
    },
    {
     "name": "stderr",
     "output_type": "stream",
     "text": [
      "[I 2023-11-06 18:06:30,544] Trial 27 finished with value: 351.34628571238125 and parameters: {'iterations': 1217, 'learning_rate': 0.02158819538938601, 'depth': 11, 'colsample_bylevel': 0.1439936040688239, 'min_data_in_leaf': 56, 'l2_leaf_reg': 6, 'has-time': False, 'bagging_temperature': 0.8548447338964973, 'random_strength': 0.45617252081073845, 'border_count': 722, 'rsm': 0.10558386836531039, 'nan_mode': 'min'}. Best is trial 0 with value: 351.34628571238125.\n"
     ]
    },
    {
     "name": "stdout",
     "output_type": "stream",
     "text": [
      "999:\tlearn: 288.1683232\ttotal: 16.3s\tremaining: 0us\n",
      "Learning rate set to 0.07105\n",
      "0:\tlearn: 1077.8600125\ttotal: 37.8ms\tremaining: 37.8s\n",
      "100:\tlearn: 420.8398889\ttotal: 1.54s\tremaining: 13.7s\n",
      "200:\tlearn: 392.1335326\ttotal: 3.21s\tremaining: 12.7s\n",
      "300:\tlearn: 371.7885673\ttotal: 4.62s\tremaining: 10.7s\n",
      "400:\tlearn: 355.7069453\ttotal: 6.16s\tremaining: 9.2s\n",
      "500:\tlearn: 340.6871261\ttotal: 7.52s\tremaining: 7.49s\n",
      "600:\tlearn: 328.2901904\ttotal: 9.32s\tremaining: 6.18s\n",
      "700:\tlearn: 316.7981316\ttotal: 10.9s\tremaining: 4.67s\n",
      "800:\tlearn: 306.3068825\ttotal: 12.2s\tremaining: 3.02s\n",
      "900:\tlearn: 296.7449297\ttotal: 13.9s\tremaining: 1.53s\n"
     ]
    },
    {
     "name": "stderr",
     "output_type": "stream",
     "text": [
      "[I 2023-11-06 18:06:46,410] Trial 28 finished with value: 351.34628571238125 and parameters: {'iterations': 1442, 'learning_rate': 0.03594084949828309, 'depth': 9, 'colsample_bylevel': 0.36264185460734766, 'min_data_in_leaf': 38, 'l2_leaf_reg': 2, 'has-time': True, 'bagging_temperature': 0.9508090783147153, 'random_strength': 0.5414687303369092, 'border_count': 943, 'rsm': 0.27306514983133756, 'nan_mode': 'min'}. Best is trial 0 with value: 351.34628571238125.\n"
     ]
    },
    {
     "name": "stdout",
     "output_type": "stream",
     "text": [
      "999:\tlearn: 288.1683232\ttotal: 15.5s\tremaining: 0us\n",
      "Learning rate set to 0.07105\n",
      "0:\tlearn: 1077.8600125\ttotal: 40.7ms\tremaining: 40.7s\n",
      "100:\tlearn: 420.8398889\ttotal: 1.8s\tremaining: 16.1s\n",
      "200:\tlearn: 392.1335326\ttotal: 3.47s\tremaining: 13.8s\n",
      "300:\tlearn: 371.7885673\ttotal: 4.97s\tremaining: 11.6s\n",
      "400:\tlearn: 355.7069453\ttotal: 6.47s\tremaining: 9.66s\n",
      "500:\tlearn: 340.6871261\ttotal: 7.89s\tremaining: 7.86s\n",
      "600:\tlearn: 328.2901904\ttotal: 9.32s\tremaining: 6.19s\n",
      "700:\tlearn: 316.7981316\ttotal: 11.2s\tremaining: 4.76s\n",
      "800:\tlearn: 306.3068825\ttotal: 12.7s\tremaining: 3.17s\n",
      "900:\tlearn: 296.7449297\ttotal: 14s\tremaining: 1.54s\n"
     ]
    },
    {
     "name": "stderr",
     "output_type": "stream",
     "text": [
      "[I 2023-11-06 18:07:02,820] Trial 29 finished with value: 351.34628571238125 and parameters: {'iterations': 2516, 'learning_rate': 0.015401092432939826, 'depth': 2, 'colsample_bylevel': 0.2736212292937986, 'min_data_in_leaf': 28, 'l2_leaf_reg': 4, 'has-time': True, 'bagging_temperature': 0.9123278375475479, 'random_strength': 0.33982743627507533, 'border_count': 850, 'rsm': 0.07405801040711134, 'nan_mode': 'min'}. Best is trial 0 with value: 351.34628571238125.\n"
     ]
    },
    {
     "name": "stdout",
     "output_type": "stream",
     "text": [
      "999:\tlearn: 288.1683232\ttotal: 16.1s\tremaining: 0us\n",
      "Learning rate set to 0.07105\n",
      "0:\tlearn: 1077.8600125\ttotal: 27.8ms\tremaining: 27.8s\n",
      "100:\tlearn: 420.8398889\ttotal: 2.05s\tremaining: 18.2s\n",
      "200:\tlearn: 392.1335326\ttotal: 3.8s\tremaining: 15.1s\n",
      "300:\tlearn: 371.7885673\ttotal: 5.64s\tremaining: 13.1s\n",
      "400:\tlearn: 355.7069453\ttotal: 7.61s\tremaining: 11.4s\n",
      "500:\tlearn: 340.6871261\ttotal: 9.08s\tremaining: 9.04s\n",
      "600:\tlearn: 328.2901904\ttotal: 10.9s\tremaining: 7.22s\n",
      "700:\tlearn: 316.7981316\ttotal: 12.1s\tremaining: 5.18s\n",
      "800:\tlearn: 306.3068825\ttotal: 14.1s\tremaining: 3.5s\n",
      "900:\tlearn: 296.7449297\ttotal: 15.7s\tremaining: 1.73s\n"
     ]
    },
    {
     "name": "stderr",
     "output_type": "stream",
     "text": [
      "[I 2023-11-06 18:07:20,484] Trial 30 finished with value: 351.34628571238125 and parameters: {'iterations': 1731, 'learning_rate': 0.01823668755011417, 'depth': 12, 'colsample_bylevel': 0.49164262372161843, 'min_data_in_leaf': 21, 'l2_leaf_reg': 3, 'has-time': False, 'bagging_temperature': 0.8038377310642351, 'random_strength': 0.380588416347467, 'border_count': 451, 'rsm': 0.40227327036710797, 'nan_mode': 'min'}. Best is trial 0 with value: 351.34628571238125.\n"
     ]
    },
    {
     "name": "stdout",
     "output_type": "stream",
     "text": [
      "999:\tlearn: 288.1683232\ttotal: 17.3s\tremaining: 0us\n",
      "Learning rate set to 0.07105\n",
      "0:\tlearn: 1077.8600125\ttotal: 25.1ms\tremaining: 25.1s\n",
      "100:\tlearn: 420.8398889\ttotal: 1.41s\tremaining: 12.6s\n",
      "200:\tlearn: 392.1335326\ttotal: 3.04s\tremaining: 12.1s\n",
      "300:\tlearn: 371.7885673\ttotal: 4.9s\tremaining: 11.4s\n",
      "400:\tlearn: 355.7069453\ttotal: 6.62s\tremaining: 9.88s\n",
      "500:\tlearn: 340.6871261\ttotal: 8.56s\tremaining: 8.52s\n",
      "600:\tlearn: 328.2901904\ttotal: 10.3s\tremaining: 6.87s\n",
      "700:\tlearn: 316.7981316\ttotal: 11.8s\tremaining: 5.03s\n",
      "800:\tlearn: 306.3068825\ttotal: 13.3s\tremaining: 3.31s\n",
      "900:\tlearn: 296.7449297\ttotal: 14.9s\tremaining: 1.64s\n"
     ]
    },
    {
     "name": "stderr",
     "output_type": "stream",
     "text": [
      "[I 2023-11-06 18:07:37,428] Trial 31 finished with value: 351.34628571238125 and parameters: {'iterations': 2519, 'learning_rate': 0.024339184045245224, 'depth': 2, 'colsample_bylevel': 0.9159655093845599, 'min_data_in_leaf': 33, 'l2_leaf_reg': 5, 'has-time': True, 'bagging_temperature': 0.5611084572693193, 'random_strength': 0.36491306049334193, 'border_count': 455, 'rsm': 0.024594285892496785, 'nan_mode': 'min'}. Best is trial 0 with value: 351.34628571238125.\n"
     ]
    },
    {
     "name": "stdout",
     "output_type": "stream",
     "text": [
      "999:\tlearn: 288.1683232\ttotal: 16.5s\tremaining: 0us\n",
      "Learning rate set to 0.07105\n",
      "0:\tlearn: 1077.8600125\ttotal: 11.3ms\tremaining: 11.3s\n",
      "100:\tlearn: 420.8398889\ttotal: 1.74s\tremaining: 15.5s\n",
      "200:\tlearn: 392.1335326\ttotal: 3.65s\tremaining: 14.5s\n",
      "300:\tlearn: 371.7885673\ttotal: 5.41s\tremaining: 12.6s\n",
      "400:\tlearn: 355.7069453\ttotal: 7.18s\tremaining: 10.7s\n",
      "500:\tlearn: 340.6871261\ttotal: 8.95s\tremaining: 8.91s\n",
      "600:\tlearn: 328.2901904\ttotal: 10.7s\tremaining: 7.12s\n",
      "700:\tlearn: 316.7981316\ttotal: 12.2s\tremaining: 5.18s\n",
      "800:\tlearn: 306.3068825\ttotal: 14.1s\tremaining: 3.5s\n",
      "900:\tlearn: 296.7449297\ttotal: 15.3s\tremaining: 1.68s\n"
     ]
    },
    {
     "name": "stderr",
     "output_type": "stream",
     "text": [
      "[I 2023-11-06 18:07:54,849] Trial 32 finished with value: 351.34628571238125 and parameters: {'iterations': 2450, 'learning_rate': 0.05387239168193371, 'depth': 3, 'colsample_bylevel': 0.7236028564499034, 'min_data_in_leaf': 54, 'l2_leaf_reg': 3, 'has-time': True, 'bagging_temperature': 0.5618309513285384, 'random_strength': 0.4245512685527022, 'border_count': 993, 'rsm': 0.02759672941614079, 'nan_mode': 'min'}. Best is trial 0 with value: 351.34628571238125.\n"
     ]
    },
    {
     "name": "stdout",
     "output_type": "stream",
     "text": [
      "999:\tlearn: 288.1683232\ttotal: 17.1s\tremaining: 0us\n",
      "Learning rate set to 0.07105\n",
      "0:\tlearn: 1077.8600125\ttotal: 14ms\tremaining: 14s\n",
      "100:\tlearn: 420.8398889\ttotal: 1.87s\tremaining: 16.6s\n",
      "200:\tlearn: 392.1335326\ttotal: 3.42s\tremaining: 13.6s\n",
      "300:\tlearn: 371.7885673\ttotal: 5.06s\tremaining: 11.8s\n",
      "400:\tlearn: 355.7069453\ttotal: 6.81s\tremaining: 10.2s\n",
      "500:\tlearn: 340.6871261\ttotal: 8.94s\tremaining: 8.9s\n",
      "600:\tlearn: 328.2901904\ttotal: 11s\tremaining: 7.32s\n",
      "700:\tlearn: 316.7981316\ttotal: 12.6s\tremaining: 5.37s\n",
      "800:\tlearn: 306.3068825\ttotal: 13.9s\tremaining: 3.45s\n",
      "900:\tlearn: 296.7449297\ttotal: 15.5s\tremaining: 1.7s\n"
     ]
    },
    {
     "name": "stderr",
     "output_type": "stream",
     "text": [
      "[I 2023-11-06 18:08:12,446] Trial 33 finished with value: 351.34628571238125 and parameters: {'iterations': 1856, 'learning_rate': 0.037749513835470504, 'depth': 2, 'colsample_bylevel': 0.772340769655658, 'min_data_in_leaf': 20, 'l2_leaf_reg': 2, 'has-time': True, 'bagging_temperature': 0.45700305875266634, 'random_strength': 0.35759069532842225, 'border_count': 380, 'rsm': 0.0676247666708317, 'nan_mode': 'min'}. Best is trial 0 with value: 351.34628571238125.\n"
     ]
    },
    {
     "name": "stdout",
     "output_type": "stream",
     "text": [
      "999:\tlearn: 288.1683232\ttotal: 17.2s\tremaining: 0us\n",
      "Learning rate set to 0.07105\n",
      "0:\tlearn: 1077.8600125\ttotal: 10.7ms\tremaining: 10.7s\n",
      "100:\tlearn: 420.8398889\ttotal: 1.85s\tremaining: 16.5s\n",
      "200:\tlearn: 392.1335326\ttotal: 3.55s\tremaining: 14.1s\n",
      "300:\tlearn: 371.7885673\ttotal: 5.1s\tremaining: 11.9s\n",
      "400:\tlearn: 355.7069453\ttotal: 6.96s\tremaining: 10.4s\n",
      "500:\tlearn: 340.6871261\ttotal: 8.74s\tremaining: 8.7s\n",
      "600:\tlearn: 328.2901904\ttotal: 10.5s\tremaining: 6.97s\n",
      "700:\tlearn: 316.7981316\ttotal: 12s\tremaining: 5.12s\n",
      "800:\tlearn: 306.3068825\ttotal: 13.5s\tremaining: 3.36s\n",
      "900:\tlearn: 296.7449297\ttotal: 15.2s\tremaining: 1.67s\n"
     ]
    },
    {
     "name": "stderr",
     "output_type": "stream",
     "text": [
      "[I 2023-11-06 18:08:29,874] Trial 34 finished with value: 351.34628571238125 and parameters: {'iterations': 2864, 'learning_rate': 0.07767187280520887, 'depth': 5, 'colsample_bylevel': 0.901078038790097, 'min_data_in_leaf': 32, 'l2_leaf_reg': 6, 'has-time': True, 'bagging_temperature': 0.9565744454596647, 'random_strength': 0.5918044875543748, 'border_count': 556, 'rsm': 0.14773769015018576, 'nan_mode': 'max'}. Best is trial 0 with value: 351.34628571238125.\n"
     ]
    },
    {
     "name": "stdout",
     "output_type": "stream",
     "text": [
      "999:\tlearn: 288.1683232\ttotal: 17s\tremaining: 0us\n",
      "Learning rate set to 0.07105\n",
      "0:\tlearn: 1077.8600125\ttotal: 11.2ms\tremaining: 11.2s\n",
      "100:\tlearn: 420.8398889\ttotal: 1.85s\tremaining: 16.5s\n",
      "200:\tlearn: 392.1335326\ttotal: 3.72s\tremaining: 14.8s\n",
      "300:\tlearn: 371.7885673\ttotal: 5.19s\tremaining: 12s\n",
      "400:\tlearn: 355.7069453\ttotal: 6.93s\tremaining: 10.4s\n",
      "500:\tlearn: 340.6871261\ttotal: 8.46s\tremaining: 8.43s\n",
      "600:\tlearn: 328.2901904\ttotal: 10.1s\tremaining: 6.69s\n",
      "700:\tlearn: 316.7981316\ttotal: 11.7s\tremaining: 5.01s\n",
      "800:\tlearn: 306.3068825\ttotal: 13.5s\tremaining: 3.34s\n",
      "900:\tlearn: 296.7449297\ttotal: 15.3s\tremaining: 1.68s\n"
     ]
    },
    {
     "name": "stderr",
     "output_type": "stream",
     "text": [
      "[I 2023-11-06 18:08:47,080] Trial 35 finished with value: 351.34628571238125 and parameters: {'iterations': 2964, 'learning_rate': 0.018028885290593606, 'depth': 1, 'colsample_bylevel': 0.6627366701278505, 'min_data_in_leaf': 45, 'l2_leaf_reg': 8, 'has-time': True, 'bagging_temperature': 0.7606496318656861, 'random_strength': 0.8017985360414474, 'border_count': 298, 'rsm': 0.009991696534076978, 'nan_mode': 'min'}. Best is trial 0 with value: 351.34628571238125.\n"
     ]
    },
    {
     "name": "stdout",
     "output_type": "stream",
     "text": [
      "999:\tlearn: 288.1683232\ttotal: 16.8s\tremaining: 0us\n",
      "Learning rate set to 0.07105\n",
      "0:\tlearn: 1077.8600125\ttotal: 41.3ms\tremaining: 41.2s\n",
      "100:\tlearn: 420.8398889\ttotal: 1.83s\tremaining: 16.3s\n",
      "200:\tlearn: 392.1335326\ttotal: 3.57s\tremaining: 14.2s\n",
      "300:\tlearn: 371.7885673\ttotal: 5.23s\tremaining: 12.2s\n",
      "400:\tlearn: 355.7069453\ttotal: 7.04s\tremaining: 10.5s\n",
      "500:\tlearn: 340.6871261\ttotal: 8.56s\tremaining: 8.53s\n",
      "600:\tlearn: 328.2901904\ttotal: 10.3s\tremaining: 6.84s\n",
      "700:\tlearn: 316.7981316\ttotal: 12.1s\tremaining: 5.18s\n",
      "800:\tlearn: 306.3068825\ttotal: 13.7s\tremaining: 3.41s\n",
      "900:\tlearn: 296.7449297\ttotal: 15.6s\tremaining: 1.72s\n"
     ]
    },
    {
     "name": "stderr",
     "output_type": "stream",
     "text": [
      "[I 2023-11-06 18:09:05,380] Trial 36 finished with value: 351.34628571238125 and parameters: {'iterations': 855, 'learning_rate': 0.04732104500725569, 'depth': 3, 'colsample_bylevel': 0.7787282464460342, 'min_data_in_leaf': 69, 'l2_leaf_reg': 3, 'has-time': False, 'bagging_temperature': 0.3703201215025091, 'random_strength': 0.6258285146739989, 'border_count': 154, 'rsm': 0.16092442997889295, 'nan_mode': 'min'}. Best is trial 0 with value: 351.34628571238125.\n"
     ]
    },
    {
     "name": "stdout",
     "output_type": "stream",
     "text": [
      "999:\tlearn: 288.1683232\ttotal: 17.9s\tremaining: 0us\n",
      "Learning rate set to 0.07105\n",
      "0:\tlearn: 1077.8600125\ttotal: 31.7ms\tremaining: 31.7s\n",
      "100:\tlearn: 420.8398889\ttotal: 1.66s\tremaining: 14.8s\n",
      "200:\tlearn: 392.1335326\ttotal: 3.27s\tremaining: 13s\n",
      "300:\tlearn: 371.7885673\ttotal: 4.96s\tremaining: 11.5s\n",
      "400:\tlearn: 355.7069453\ttotal: 6.68s\tremaining: 9.97s\n",
      "500:\tlearn: 340.6871261\ttotal: 8.28s\tremaining: 8.24s\n",
      "600:\tlearn: 328.2901904\ttotal: 10s\tremaining: 6.65s\n",
      "700:\tlearn: 316.7981316\ttotal: 11.5s\tremaining: 4.91s\n",
      "800:\tlearn: 306.3068825\ttotal: 13.3s\tremaining: 3.3s\n",
      "900:\tlearn: 296.7449297\ttotal: 14.9s\tremaining: 1.64s\n"
     ]
    },
    {
     "name": "stderr",
     "output_type": "stream",
     "text": [
      "[I 2023-11-06 18:09:22,307] Trial 37 finished with value: 351.34628571238125 and parameters: {'iterations': 2686, 'learning_rate': 0.028612596376576403, 'depth': 7, 'colsample_bylevel': 0.6563442446136776, 'min_data_in_leaf': 21, 'l2_leaf_reg': 4, 'has-time': True, 'bagging_temperature': 0.967945765775416, 'random_strength': 0.33492247369137684, 'border_count': 756, 'rsm': 0.063095025256802, 'nan_mode': 'max'}. Best is trial 0 with value: 351.34628571238125.\n"
     ]
    },
    {
     "name": "stdout",
     "output_type": "stream",
     "text": [
      "999:\tlearn: 288.1683232\ttotal: 16.6s\tremaining: 0us\n",
      "Learning rate set to 0.07105\n",
      "0:\tlearn: 1077.8600125\ttotal: 59.1ms\tremaining: 59s\n",
      "100:\tlearn: 420.8398889\ttotal: 1.41s\tremaining: 12.5s\n",
      "200:\tlearn: 392.1335326\ttotal: 3s\tremaining: 11.9s\n",
      "300:\tlearn: 371.7885673\ttotal: 4.69s\tremaining: 10.9s\n",
      "400:\tlearn: 355.7069453\ttotal: 6.37s\tremaining: 9.52s\n",
      "500:\tlearn: 340.6871261\ttotal: 7.88s\tremaining: 7.85s\n",
      "600:\tlearn: 328.2901904\ttotal: 9.73s\tremaining: 6.46s\n",
      "700:\tlearn: 316.7981316\ttotal: 11.6s\tremaining: 4.95s\n",
      "800:\tlearn: 306.3068825\ttotal: 13.2s\tremaining: 3.29s\n",
      "900:\tlearn: 296.7449297\ttotal: 15s\tremaining: 1.64s\n"
     ]
    },
    {
     "name": "stderr",
     "output_type": "stream",
     "text": [
      "[I 2023-11-06 18:09:38,988] Trial 38 finished with value: 351.34628571238125 and parameters: {'iterations': 456, 'learning_rate': 0.0013279198121419775, 'depth': 5, 'colsample_bylevel': 0.561247731789308, 'min_data_in_leaf': 9, 'l2_leaf_reg': 5, 'has-time': True, 'bagging_temperature': 0.8893608809054492, 'random_strength': 0.3970982748050225, 'border_count': 356, 'rsm': 0.10792013831380037, 'nan_mode': 'min'}. Best is trial 0 with value: 351.34628571238125.\n"
     ]
    },
    {
     "name": "stdout",
     "output_type": "stream",
     "text": [
      "999:\tlearn: 288.1683232\ttotal: 16.3s\tremaining: 0us\n",
      "Learning rate set to 0.07105\n",
      "0:\tlearn: 1077.8600125\ttotal: 42.6ms\tremaining: 42.5s\n",
      "100:\tlearn: 420.8398889\ttotal: 2.05s\tremaining: 18.2s\n",
      "200:\tlearn: 392.1335326\ttotal: 3.8s\tremaining: 15.1s\n",
      "300:\tlearn: 371.7885673\ttotal: 5.5s\tremaining: 12.8s\n",
      "400:\tlearn: 355.7069453\ttotal: 7.14s\tremaining: 10.7s\n",
      "500:\tlearn: 340.6871261\ttotal: 8.64s\tremaining: 8.6s\n",
      "600:\tlearn: 328.2901904\ttotal: 10.1s\tremaining: 6.74s\n",
      "700:\tlearn: 316.7981316\ttotal: 12s\tremaining: 5.11s\n",
      "800:\tlearn: 306.3068825\ttotal: 13.6s\tremaining: 3.37s\n",
      "900:\tlearn: 296.7449297\ttotal: 15.1s\tremaining: 1.66s\n"
     ]
    },
    {
     "name": "stderr",
     "output_type": "stream",
     "text": [
      "[I 2023-11-06 18:09:56,156] Trial 39 finished with value: 351.34628571238125 and parameters: {'iterations': 1969, 'learning_rate': 0.08071697248370643, 'depth': 9, 'colsample_bylevel': 0.4136867116770675, 'min_data_in_leaf': 61, 'l2_leaf_reg': 8, 'has-time': False, 'bagging_temperature': 0.3077754383924743, 'random_strength': 0.337178133735911, 'border_count': 513, 'rsm': 0.30779922085716954, 'nan_mode': 'min'}. Best is trial 0 with value: 351.34628571238125.\n"
     ]
    },
    {
     "name": "stdout",
     "output_type": "stream",
     "text": [
      "999:\tlearn: 288.1683232\ttotal: 16.7s\tremaining: 0us\n",
      "Learning rate set to 0.07105\n",
      "0:\tlearn: 1077.8600125\ttotal: 11ms\tremaining: 11s\n",
      "100:\tlearn: 420.8398889\ttotal: 1.56s\tremaining: 13.9s\n",
      "200:\tlearn: 392.1335326\ttotal: 3.19s\tremaining: 12.7s\n",
      "300:\tlearn: 371.7885673\ttotal: 5.41s\tremaining: 12.6s\n",
      "400:\tlearn: 355.7069453\ttotal: 7.74s\tremaining: 11.6s\n",
      "500:\tlearn: 340.6871261\ttotal: 9.5s\tremaining: 9.46s\n",
      "600:\tlearn: 328.2901904\ttotal: 11.1s\tremaining: 7.4s\n",
      "700:\tlearn: 316.7981316\ttotal: 12.8s\tremaining: 5.47s\n",
      "800:\tlearn: 306.3068825\ttotal: 14.6s\tremaining: 3.63s\n",
      "900:\tlearn: 296.7449297\ttotal: 16.4s\tremaining: 1.8s\n"
     ]
    },
    {
     "name": "stderr",
     "output_type": "stream",
     "text": [
      "[I 2023-11-06 18:10:14,339] Trial 40 finished with value: 351.34628571238125 and parameters: {'iterations': 1344, 'learning_rate': 0.002886893623226655, 'depth': 11, 'colsample_bylevel': 0.8288922119417103, 'min_data_in_leaf': 84, 'l2_leaf_reg': 2, 'has-time': True, 'bagging_temperature': 0.8398293242957571, 'random_strength': 0.45443458689725724, 'border_count': 931, 'rsm': 0.1844864382203003, 'nan_mode': 'min'}. Best is trial 0 with value: 351.34628571238125.\n"
     ]
    },
    {
     "name": "stdout",
     "output_type": "stream",
     "text": [
      "999:\tlearn: 288.1683232\ttotal: 17.8s\tremaining: 0us\n",
      "Learning rate set to 0.07105\n",
      "0:\tlearn: 1077.8600125\ttotal: 20.6ms\tremaining: 20.6s\n",
      "100:\tlearn: 420.8398889\ttotal: 1.43s\tremaining: 12.7s\n",
      "200:\tlearn: 392.1335326\ttotal: 3s\tremaining: 11.9s\n",
      "300:\tlearn: 371.7885673\ttotal: 4.4s\tremaining: 10.2s\n",
      "400:\tlearn: 355.7069453\ttotal: 6.07s\tremaining: 9.06s\n",
      "500:\tlearn: 340.6871261\ttotal: 7.67s\tremaining: 7.64s\n",
      "600:\tlearn: 328.2901904\ttotal: 9.45s\tremaining: 6.27s\n",
      "700:\tlearn: 316.7981316\ttotal: 11s\tremaining: 4.7s\n",
      "800:\tlearn: 306.3068825\ttotal: 13s\tremaining: 3.23s\n",
      "900:\tlearn: 296.7449297\ttotal: 14.4s\tremaining: 1.59s\n"
     ]
    },
    {
     "name": "stderr",
     "output_type": "stream",
     "text": [
      "[I 2023-11-06 18:10:30,904] Trial 41 finished with value: 351.34628571238125 and parameters: {'iterations': 2305, 'learning_rate': 0.059221933400087454, 'depth': 10, 'colsample_bylevel': 0.9916870983358993, 'min_data_in_leaf': 90, 'l2_leaf_reg': 5, 'has-time': False, 'bagging_temperature': 0.45111989278455866, 'random_strength': 0.6725396092830364, 'border_count': 842, 'rsm': 0.055088059011866336, 'nan_mode': 'min'}. Best is trial 0 with value: 351.34628571238125.\n"
     ]
    },
    {
     "name": "stdout",
     "output_type": "stream",
     "text": [
      "999:\tlearn: 288.1683232\ttotal: 16.2s\tremaining: 0us\n",
      "Learning rate set to 0.07105\n",
      "0:\tlearn: 1077.8600125\ttotal: 16.6ms\tremaining: 16.6s\n",
      "100:\tlearn: 420.8398889\ttotal: 1.57s\tremaining: 14s\n",
      "200:\tlearn: 392.1335326\ttotal: 3.52s\tremaining: 14s\n",
      "300:\tlearn: 371.7885673\ttotal: 5.18s\tremaining: 12s\n",
      "400:\tlearn: 355.7069453\ttotal: 6.88s\tremaining: 10.3s\n",
      "500:\tlearn: 340.6871261\ttotal: 8.63s\tremaining: 8.6s\n",
      "600:\tlearn: 328.2901904\ttotal: 10.5s\tremaining: 6.98s\n",
      "700:\tlearn: 316.7981316\ttotal: 12.1s\tremaining: 5.18s\n",
      "800:\tlearn: 306.3068825\ttotal: 13.8s\tremaining: 3.42s\n",
      "900:\tlearn: 296.7449297\ttotal: 15.5s\tremaining: 1.7s\n"
     ]
    },
    {
     "name": "stderr",
     "output_type": "stream",
     "text": [
      "[I 2023-11-06 18:10:48,644] Trial 42 finished with value: 351.34628571238125 and parameters: {'iterations': 1957, 'learning_rate': 0.0017774573644887385, 'depth': 7, 'colsample_bylevel': 0.9405024523898492, 'min_data_in_leaf': 27, 'l2_leaf_reg': 4, 'has-time': False, 'bagging_temperature': 0.3823391919100086, 'random_strength': 0.6288061275649846, 'border_count': 942, 'rsm': 0.1065459434581638, 'nan_mode': 'min'}. Best is trial 0 with value: 351.34628571238125.\n"
     ]
    },
    {
     "name": "stdout",
     "output_type": "stream",
     "text": [
      "999:\tlearn: 288.1683232\ttotal: 17.4s\tremaining: 0us\n",
      "Learning rate set to 0.07105\n",
      "0:\tlearn: 1077.8600125\ttotal: 23.4ms\tremaining: 23.3s\n",
      "100:\tlearn: 420.8398889\ttotal: 1.52s\tremaining: 13.6s\n",
      "200:\tlearn: 392.1335326\ttotal: 2.94s\tremaining: 11.7s\n",
      "300:\tlearn: 371.7885673\ttotal: 4.45s\tremaining: 10.3s\n",
      "400:\tlearn: 355.7069453\ttotal: 6.32s\tremaining: 9.44s\n",
      "500:\tlearn: 340.6871261\ttotal: 8.12s\tremaining: 8.08s\n",
      "600:\tlearn: 328.2901904\ttotal: 10s\tremaining: 6.64s\n",
      "700:\tlearn: 316.7981316\ttotal: 11.4s\tremaining: 4.85s\n",
      "800:\tlearn: 306.3068825\ttotal: 13.7s\tremaining: 3.39s\n",
      "900:\tlearn: 296.7449297\ttotal: 15.6s\tremaining: 1.71s\n"
     ]
    },
    {
     "name": "stderr",
     "output_type": "stream",
     "text": [
      "[I 2023-11-06 18:11:06,303] Trial 43 finished with value: 351.34628571238125 and parameters: {'iterations': 2674, 'learning_rate': 0.008390926271252179, 'depth': 9, 'colsample_bylevel': 0.8457143864442725, 'min_data_in_leaf': 41, 'l2_leaf_reg': 3, 'has-time': False, 'bagging_temperature': 0.8915726057502668, 'random_strength': 0.6569941800103739, 'border_count': 996, 'rsm': 0.24440309015597964, 'nan_mode': 'min'}. Best is trial 0 with value: 351.34628571238125.\n"
     ]
    },
    {
     "name": "stdout",
     "output_type": "stream",
     "text": [
      "999:\tlearn: 288.1683232\ttotal: 17.3s\tremaining: 0us\n",
      "Learning rate set to 0.07105\n",
      "0:\tlearn: 1077.8600125\ttotal: 22.9ms\tremaining: 22.8s\n",
      "100:\tlearn: 420.8398889\ttotal: 1.41s\tremaining: 12.6s\n",
      "200:\tlearn: 392.1335326\ttotal: 3.41s\tremaining: 13.5s\n",
      "300:\tlearn: 371.7885673\ttotal: 4.87s\tremaining: 11.3s\n",
      "400:\tlearn: 355.7069453\ttotal: 6.36s\tremaining: 9.5s\n",
      "500:\tlearn: 340.6871261\ttotal: 7.88s\tremaining: 7.85s\n",
      "600:\tlearn: 328.2901904\ttotal: 9.46s\tremaining: 6.28s\n",
      "700:\tlearn: 316.7981316\ttotal: 10.8s\tremaining: 4.62s\n",
      "800:\tlearn: 306.3068825\ttotal: 12.7s\tremaining: 3.16s\n",
      "900:\tlearn: 296.7449297\ttotal: 14.1s\tremaining: 1.55s\n"
     ]
    },
    {
     "name": "stderr",
     "output_type": "stream",
     "text": [
      "[I 2023-11-06 18:11:21,756] Trial 44 finished with value: 351.34628571238125 and parameters: {'iterations': 1578, 'learning_rate': 0.003900073965851257, 'depth': 1, 'colsample_bylevel': 0.8923026700641534, 'min_data_in_leaf': 68, 'l2_leaf_reg': 9, 'has-time': False, 'bagging_temperature': 0.9644699390111873, 'random_strength': 0.5199291533465209, 'border_count': 865, 'rsm': 0.15301906422809652, 'nan_mode': 'min'}. Best is trial 0 with value: 351.34628571238125.\n"
     ]
    },
    {
     "name": "stdout",
     "output_type": "stream",
     "text": [
      "999:\tlearn: 288.1683232\ttotal: 15.1s\tremaining: 0us\n",
      "Learning rate set to 0.07105\n",
      "0:\tlearn: 1077.8600125\ttotal: 14.5ms\tremaining: 14.5s\n",
      "100:\tlearn: 420.8398889\ttotal: 813ms\tremaining: 7.23s\n",
      "200:\tlearn: 392.1335326\ttotal: 1.71s\tremaining: 6.8s\n",
      "300:\tlearn: 371.7885673\ttotal: 2.77s\tremaining: 6.43s\n",
      "400:\tlearn: 355.7069453\ttotal: 3.72s\tremaining: 5.55s\n",
      "500:\tlearn: 340.6871261\ttotal: 4.57s\tremaining: 4.55s\n",
      "600:\tlearn: 328.2901904\ttotal: 5.36s\tremaining: 3.56s\n",
      "700:\tlearn: 316.7981316\ttotal: 6.18s\tremaining: 2.64s\n",
      "800:\tlearn: 306.3068825\ttotal: 7.03s\tremaining: 1.75s\n",
      "900:\tlearn: 296.7449297\ttotal: 7.76s\tremaining: 853ms\n"
     ]
    },
    {
     "name": "stderr",
     "output_type": "stream",
     "text": [
      "[I 2023-11-06 18:11:30,657] Trial 45 finished with value: 351.34628571238125 and parameters: {'iterations': 1780, 'learning_rate': 0.04013589975910924, 'depth': 8, 'colsample_bylevel': 0.9432043929395071, 'min_data_in_leaf': 7, 'l2_leaf_reg': 2, 'has-time': False, 'bagging_temperature': 0.9202413424571685, 'random_strength': 0.4827612567503089, 'border_count': 686, 'rsm': 0.0031364093522586803, 'nan_mode': 'max'}. Best is trial 0 with value: 351.34628571238125.\n"
     ]
    },
    {
     "name": "stdout",
     "output_type": "stream",
     "text": [
      "999:\tlearn: 288.1683232\ttotal: 8.63s\tremaining: 0us\n",
      "Learning rate set to 0.07105\n",
      "0:\tlearn: 1077.8600125\ttotal: 18.4ms\tremaining: 18.4s\n",
      "100:\tlearn: 420.8398889\ttotal: 832ms\tremaining: 7.4s\n",
      "200:\tlearn: 392.1335326\ttotal: 1.59s\tremaining: 6.33s\n",
      "300:\tlearn: 371.7885673\ttotal: 2.38s\tremaining: 5.52s\n",
      "400:\tlearn: 355.7069453\ttotal: 3.21s\tremaining: 4.8s\n",
      "500:\tlearn: 340.6871261\ttotal: 4.07s\tremaining: 4.05s\n",
      "600:\tlearn: 328.2901904\ttotal: 4.9s\tremaining: 3.26s\n",
      "700:\tlearn: 316.7981316\ttotal: 5.65s\tremaining: 2.41s\n",
      "800:\tlearn: 306.3068825\ttotal: 6.53s\tremaining: 1.62s\n",
      "900:\tlearn: 296.7449297\ttotal: 7.38s\tremaining: 810ms\n"
     ]
    },
    {
     "name": "stderr",
     "output_type": "stream",
     "text": [
      "[I 2023-11-06 18:11:39,194] Trial 46 finished with value: 351.34628571238125 and parameters: {'iterations': 2140, 'learning_rate': 0.008948086654935027, 'depth': 13, 'colsample_bylevel': 0.4429646020378818, 'min_data_in_leaf': 61, 'l2_leaf_reg': 6, 'has-time': False, 'bagging_temperature': 0.8694594760006588, 'random_strength': 0.5868480973533857, 'border_count': 600, 'rsm': 0.22448786158758766, 'nan_mode': 'min'}. Best is trial 0 with value: 351.34628571238125.\n"
     ]
    },
    {
     "name": "stdout",
     "output_type": "stream",
     "text": [
      "999:\tlearn: 288.1683232\ttotal: 8.24s\tremaining: 0us\n",
      "Learning rate set to 0.07105\n",
      "0:\tlearn: 1077.8600125\ttotal: 24.7ms\tremaining: 24.7s\n",
      "100:\tlearn: 420.8398889\ttotal: 933ms\tremaining: 8.3s\n",
      "200:\tlearn: 392.1335326\ttotal: 1.77s\tremaining: 7.03s\n",
      "300:\tlearn: 371.7885673\ttotal: 2.56s\tremaining: 5.95s\n",
      "400:\tlearn: 355.7069453\ttotal: 3.4s\tremaining: 5.08s\n",
      "500:\tlearn: 340.6871261\ttotal: 4.28s\tremaining: 4.26s\n",
      "600:\tlearn: 328.2901904\ttotal: 5.07s\tremaining: 3.37s\n",
      "700:\tlearn: 316.7981316\ttotal: 5.87s\tremaining: 2.5s\n",
      "800:\tlearn: 306.3068825\ttotal: 6.73s\tremaining: 1.67s\n",
      "900:\tlearn: 296.7449297\ttotal: 7.55s\tremaining: 830ms\n"
     ]
    },
    {
     "name": "stderr",
     "output_type": "stream",
     "text": [
      "[I 2023-11-06 18:11:47,794] Trial 47 finished with value: 351.34628571238125 and parameters: {'iterations': 658, 'learning_rate': 0.022755054933233983, 'depth': 10, 'colsample_bylevel': 0.6090055648026207, 'min_data_in_leaf': 93, 'l2_leaf_reg': 7, 'has-time': True, 'bagging_temperature': 0.980119407801583, 'random_strength': 0.31348515576237296, 'border_count': 910, 'rsm': 0.06754545461715475, 'nan_mode': 'min'}. Best is trial 0 with value: 351.34628571238125.\n"
     ]
    },
    {
     "name": "stdout",
     "output_type": "stream",
     "text": [
      "999:\tlearn: 288.1683232\ttotal: 8.29s\tremaining: 0us\n",
      "Learning rate set to 0.07105\n",
      "0:\tlearn: 1077.8600125\ttotal: 20.2ms\tremaining: 20.2s\n",
      "100:\tlearn: 420.8398889\ttotal: 950ms\tremaining: 8.46s\n",
      "200:\tlearn: 392.1335326\ttotal: 1.73s\tremaining: 6.9s\n",
      "300:\tlearn: 371.7885673\ttotal: 2.55s\tremaining: 5.92s\n",
      "400:\tlearn: 355.7069453\ttotal: 3.36s\tremaining: 5.02s\n",
      "500:\tlearn: 340.6871261\ttotal: 4.26s\tremaining: 4.24s\n",
      "600:\tlearn: 328.2901904\ttotal: 5.11s\tremaining: 3.39s\n",
      "700:\tlearn: 316.7981316\ttotal: 5.99s\tremaining: 2.55s\n",
      "800:\tlearn: 306.3068825\ttotal: 6.86s\tremaining: 1.7s\n",
      "900:\tlearn: 296.7449297\ttotal: 7.72s\tremaining: 848ms\n"
     ]
    },
    {
     "name": "stderr",
     "output_type": "stream",
     "text": [
      "[I 2023-11-06 18:11:56,642] Trial 48 finished with value: 351.34628571238125 and parameters: {'iterations': 1086, 'learning_rate': 0.032420301080942134, 'depth': 6, 'colsample_bylevel': 0.7480308048380527, 'min_data_in_leaf': 54, 'l2_leaf_reg': 10, 'has-time': False, 'bagging_temperature': 0.5398374229247934, 'random_strength': 0.399007952533652, 'border_count': 231, 'rsm': 0.17266243469877768, 'nan_mode': 'min'}. Best is trial 0 with value: 351.34628571238125.\n"
     ]
    },
    {
     "name": "stdout",
     "output_type": "stream",
     "text": [
      "999:\tlearn: 288.1683232\ttotal: 8.54s\tremaining: 0us\n",
      "Learning rate set to 0.07105\n",
      "0:\tlearn: 1077.8600125\ttotal: 9.92ms\tremaining: 9.91s\n",
      "100:\tlearn: 420.8398889\ttotal: 841ms\tremaining: 7.48s\n",
      "200:\tlearn: 392.1335326\ttotal: 1.58s\tremaining: 6.29s\n",
      "300:\tlearn: 371.7885673\ttotal: 2.38s\tremaining: 5.53s\n",
      "400:\tlearn: 355.7069453\ttotal: 3.2s\tremaining: 4.78s\n",
      "500:\tlearn: 340.6871261\ttotal: 4.08s\tremaining: 4.06s\n",
      "600:\tlearn: 328.2901904\ttotal: 4.96s\tremaining: 3.29s\n",
      "700:\tlearn: 316.7981316\ttotal: 5.95s\tremaining: 2.54s\n",
      "800:\tlearn: 306.3068825\ttotal: 6.96s\tremaining: 1.73s\n",
      "900:\tlearn: 296.7449297\ttotal: 8s\tremaining: 879ms\n"
     ]
    },
    {
     "name": "stderr",
     "output_type": "stream",
     "text": [
      "[I 2023-11-06 18:12:05,775] Trial 49 finished with value: 351.34628571238125 and parameters: {'iterations': 2331, 'learning_rate': 0.0737233779937944, 'depth': 11, 'colsample_bylevel': 0.8103282324782725, 'min_data_in_leaf': 71, 'l2_leaf_reg': 4, 'has-time': True, 'bagging_temperature': 0.7347529602036151, 'random_strength': 0.7015307702292986, 'border_count': 779, 'rsm': 0.11964676765197813, 'nan_mode': 'max'}. Best is trial 0 with value: 351.34628571238125.\n"
     ]
    },
    {
     "name": "stdout",
     "output_type": "stream",
     "text": [
      "999:\tlearn: 288.1683232\ttotal: 8.84s\tremaining: 0us\n"
     ]
    }
   ],
   "source": [
    "#For location A\n",
    "def objective(trial, X_train, y_train):\n",
    "    params = {\n",
    "        \"iterations\": trial.suggest_int(\"iterations\", 300, 3000),\n",
    "        \"learning_rate\": trial.suggest_float(\"learning_rate\", 1e-3, 0.1, log=True),\n",
    "        \"depth\": trial.suggest_int(\"depth\", 1, 13),\n",
    "        \"colsample_bylevel\": trial.suggest_float(\"colsample_bylevel\", 0.05, 1.0),\n",
    "        \"min_data_in_leaf\": trial.suggest_int(\"min_data_in_leaf\", 1, 100),\n",
    "        \"l2_leaf_reg\": trial.suggest_int(\"l2_leaf_reg\", 2, 10),\n",
    "        \"has-time\": trial.suggest_categorical('has-time', [True, False]),\n",
    "        \"bagging_temperature\": trial.suggest_float(\"bagging_temperature\", 0.3, 1.0),\n",
    "        \"random_strength\": trial.suggest_float(\"random_strength\", 0.3, 1.0),\n",
    "        \"random_state\": 2,\n",
    "        \"border_count\": trial.suggest_int(\"border_count\", 1, 1000),\n",
    "        \"rsm\": trial.suggest_float(\"rsm\", 0.001, 1),\n",
    "        \"nan_mode\": trial.suggest_categorical(\"nan_mode\", [\"min\", \"max\"])\n",
    "    }\n",
    "\n",
    "    catboost_model_a = CatBoostRegressor(verbose=100)\n",
    "    catboost_model_a.fit(train_pool_a)\n",
    "    pred_a = pd.DataFrame(catboost_model_a.predict(test_pool_a))\n",
    "    MAE_a = mean_absolute_error(y_test_a, pred_a)\n",
    "    return MAE_a\n",
    "\n",
    "study = optuna.create_study(direction='minimize')\n",
    "study.optimize(lambda trial: objective(trial, X_train, y_train), n_trials=50)"
   ]
  },
  {
   "cell_type": "code",
   "execution_count": 10,
   "metadata": {},
   "outputs": [
    {
     "name": "stdout",
     "output_type": "stream",
     "text": [
      "{'iterations': 1852, 'learning_rate': 0.0018854412552105353, 'depth': 9, 'colsample_bylevel': 0.7366562974962199, 'min_data_in_leaf': 4, 'l2_leaf_reg': 3, 'has-time': True, 'bagging_temperature': 0.9525931510378696, 'random_strength': 0.30613129187014626, 'border_count': 993, 'rsm': 0.21119141087462187, 'nan_mode': 'min'}\n",
      "351.34628571238125\n"
     ]
    }
   ],
   "source": [
    "#to output the best paramaters\n",
    "print(study.best_params)\n",
    "\n",
    "#to output the best score returned from the trials\n",
    "print(study.best_value)\n",
    "\n",
    "with open(\"optuna-best-parameters_a.txt\", \"w\") as file:\n",
    "    file.write(\"Best paramaters: \\n\")\n",
    "    file.write(json.dumps(study.best_params))  # Write the first string followed by a newline character\n",
    "    file.write(\"\\n\")\n",
    "    file.write(\"best score MAE: \\n\")\n",
    "    file.write(json.dumps(study.best_value))  # Write the second string followed by a newline character"
   ]
  },
  {
   "cell_type": "code",
   "execution_count": null,
   "metadata": {},
   "outputs": [],
   "source": []
  }
 ],
 "metadata": {
  "environment": {
   "kernel": "python3",
   "name": "common-cpu.m112",
   "type": "gcloud",
   "uri": "gcr.io/deeplearning-platform-release/base-cpu:m112"
  },
  "kernelspec": {
   "display_name": "Python 3",
   "language": "python",
   "name": "python3"
  },
  "language_info": {
   "codemirror_mode": {
    "name": "ipython",
    "version": 3
   },
   "file_extension": ".py",
   "mimetype": "text/x-python",
   "name": "python",
   "nbconvert_exporter": "python",
   "pygments_lexer": "ipython3",
   "version": "3.10.12"
  }
 },
 "nbformat": 4,
 "nbformat_minor": 4
}
