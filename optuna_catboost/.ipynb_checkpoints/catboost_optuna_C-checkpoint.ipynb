{
 "cells": [
  {
   "cell_type": "code",
   "execution_count": 2,
   "metadata": {},
   "outputs": [],
   "source": [
    "import pandas as pd\n",
    "import numpy as np\n",
    "from catboost import Pool, CatBoostRegressor\n",
    "from sklearn.model_selection import cross_val_score\n",
    "from sklearn.model_selection import TimeSeriesSplit \n",
    "import optuna \n",
    "import json\n",
    "from sklearn.metrics import mean_absolute_error"
   ]
  },
  {
   "cell_type": "code",
   "execution_count": 3,
   "metadata": {},
   "outputs": [],
   "source": [
    "#Load inn datasets\n",
    "X_test  = pd.read_parquet('../data/prepared_datasets/only_y_cleaned/X_test.parquet')\n",
    "X_train = pd.read_parquet('../data/prepared_datasets/only_y_cleaned/X_train.parquet')\n",
    "y_train = pd.read_parquet('../data/prepared_datasets/only_y_cleaned/Y_train.parquet')\n",
    "y_train_a = pd.read_parquet('../data/prepared_datasets/only_y_cleaned/Y_train_a.parquet')\n",
    "y_train_b = pd.read_parquet('../data/prepared_datasets/only_y_cleaned/Y_train_b.parquet')\n",
    "y_train_c = pd.read_parquet('../data/prepared_datasets/only_y_cleaned/Y_train_c.parquet')"
   ]
  },
  {
   "cell_type": "code",
   "execution_count": 4,
   "metadata": {},
   "outputs": [],
   "source": [
    "def splitting_def(df):\n",
    "    date_range_1 = (df.index >= '2020-05-01') & (df.index <= '2020-06-25')\n",
    "    date_range_2 = (df.index >= '2023-05-01') & (df.index <= '2023-06-15')\n",
    "\n",
    "    # Combine the date ranges to create the test set\n",
    "    test_set = df[date_range_1 | date_range_2]\n",
    "\n",
    "    # The rest of the data will be your training set\n",
    "    training_set = df[~(date_range_1 | date_range_2)]\n",
    "    \n",
    "    # Splitting the test_set into X_test and y_test\n",
    "    X_test = test_set.drop(\"pv_measurement\", axis=1)\n",
    "    y_test = test_set['pv_measurement']  # Assuming 'pv_measurement' is your target variable\n",
    "\n",
    "    # Splitting the training_set into X_train and y_train\n",
    "    X_train = training_set.drop(\"pv_measurement\", axis=1)\n",
    "    y_train = training_set['pv_measurement']\n",
    "    \n",
    "    return X_train, X_test, y_train, y_test\n",
    "\n",
    "X_train_new_c, X_test_new_c, y_train_new_c, y_test_c = splitting_def(pd.concat([X_train[X_train[\"location\"] == \"C\"].drop(\"location\", axis=1), y_train_c], axis=1))"
   ]
  },
  {
   "cell_type": "code",
   "execution_count": 5,
   "metadata": {},
   "outputs": [],
   "source": [
    "#Create a pool of data\n",
    "\n",
    "train_pool_c = Pool(X_train_new_c, y_train_new_c)\n",
    "test_pool_c = Pool(X_test_new_c) "
   ]
  },
  {
   "cell_type": "code",
   "execution_count": 6,
   "metadata": {},
   "outputs": [
    {
     "name": "stderr",
     "output_type": "stream",
     "text": [
      "[I 2023-11-06 17:59:07,125] A new study created in memory with name: no-name-a7a51735-0c89-4a0d-bd54-951db367fe87\n"
     ]
    },
    {
     "name": "stdout",
     "output_type": "stream",
     "text": [
      "Learning rate set to 0.067977\n",
      "0:\tlearn: 144.7226602\ttotal: 66.8ms\tremaining: 1m 6s\n",
      "100:\tlearn: 48.8751720\ttotal: 857ms\tremaining: 7.62s\n",
      "200:\tlearn: 44.2805167\ttotal: 1.63s\tremaining: 6.5s\n",
      "300:\tlearn: 40.4916540\ttotal: 2.37s\tremaining: 5.5s\n",
      "400:\tlearn: 37.6465227\ttotal: 3.15s\tremaining: 4.71s\n",
      "500:\tlearn: 35.3178136\ttotal: 3.91s\tremaining: 3.9s\n",
      "600:\tlearn: 33.2485313\ttotal: 4.73s\tremaining: 3.14s\n",
      "700:\tlearn: 31.4524571\ttotal: 5.59s\tremaining: 2.38s\n",
      "800:\tlearn: 29.8769368\ttotal: 6.34s\tremaining: 1.57s\n",
      "900:\tlearn: 28.4515596\ttotal: 7.22s\tremaining: 793ms\n"
     ]
    },
    {
     "name": "stderr",
     "output_type": "stream",
     "text": [
      "[I 2023-11-06 17:59:15,317] Trial 0 finished with value: 57.13529571086957 and parameters: {'iterations': 2004, 'learning_rate': 0.016429110886618033, 'depth': 8, 'colsample_bylevel': 0.7338575760364532, 'min_data_in_leaf': 90, 'l2_leaf_reg': 5, 'has-time': False, 'bagging_temperature': 0.6414768311294344, 'random_strength': 0.4206698081688342, 'border_count': 487, 'rsm': 0.012360675671015169, 'nan_mode': 'min'}. Best is trial 0 with value: 57.13529571086957.\n"
     ]
    },
    {
     "name": "stdout",
     "output_type": "stream",
     "text": [
      "999:\tlearn: 27.1911281\ttotal: 7.98s\tremaining: 0us\n",
      "Learning rate set to 0.067977\n",
      "0:\tlearn: 144.7226602\ttotal: 11.6ms\tremaining: 11.5s\n",
      "100:\tlearn: 48.8751720\ttotal: 753ms\tremaining: 6.7s\n",
      "200:\tlearn: 44.2805167\ttotal: 1.4s\tremaining: 5.57s\n",
      "300:\tlearn: 40.4916540\ttotal: 2.23s\tremaining: 5.17s\n",
      "400:\tlearn: 37.6465227\ttotal: 2.98s\tremaining: 4.46s\n",
      "500:\tlearn: 35.3178136\ttotal: 3.73s\tremaining: 3.72s\n",
      "600:\tlearn: 33.2485313\ttotal: 4.57s\tremaining: 3.03s\n",
      "700:\tlearn: 31.4524571\ttotal: 5.49s\tremaining: 2.34s\n",
      "800:\tlearn: 29.8769368\ttotal: 6.33s\tremaining: 1.57s\n",
      "900:\tlearn: 28.4515596\ttotal: 7.06s\tremaining: 776ms\n"
     ]
    },
    {
     "name": "stderr",
     "output_type": "stream",
     "text": [
      "[I 2023-11-06 17:59:23,327] Trial 1 finished with value: 57.13529571086957 and parameters: {'iterations': 503, 'learning_rate': 0.004910908764789751, 'depth': 7, 'colsample_bylevel': 0.6205090887515645, 'min_data_in_leaf': 6, 'l2_leaf_reg': 6, 'has-time': False, 'bagging_temperature': 0.9335150093698501, 'random_strength': 0.7666702722648973, 'border_count': 450, 'rsm': 0.20827814875916614, 'nan_mode': 'max'}. Best is trial 0 with value: 57.13529571086957.\n"
     ]
    },
    {
     "name": "stdout",
     "output_type": "stream",
     "text": [
      "999:\tlearn: 27.1911281\ttotal: 7.82s\tremaining: 0us\n",
      "Learning rate set to 0.067977\n",
      "0:\tlearn: 144.7226602\ttotal: 9.01ms\tremaining: 9s\n",
      "100:\tlearn: 48.8751720\ttotal: 782ms\tremaining: 6.96s\n",
      "200:\tlearn: 44.2805167\ttotal: 1.51s\tremaining: 6.01s\n",
      "300:\tlearn: 40.4916540\ttotal: 2.29s\tremaining: 5.33s\n",
      "400:\tlearn: 37.6465227\ttotal: 3.05s\tremaining: 4.56s\n",
      "500:\tlearn: 35.3178136\ttotal: 3.78s\tremaining: 3.76s\n",
      "600:\tlearn: 33.2485313\ttotal: 4.92s\tremaining: 3.26s\n",
      "700:\tlearn: 31.4524571\ttotal: 6.47s\tremaining: 2.76s\n",
      "800:\tlearn: 29.8769368\ttotal: 8.19s\tremaining: 2.04s\n",
      "900:\tlearn: 28.4515596\ttotal: 9.73s\tremaining: 1.07s\n"
     ]
    },
    {
     "name": "stderr",
     "output_type": "stream",
     "text": [
      "[I 2023-11-06 17:59:34,832] Trial 2 finished with value: 57.13529571086957 and parameters: {'iterations': 698, 'learning_rate': 0.007194871041442214, 'depth': 10, 'colsample_bylevel': 0.20434469278345246, 'min_data_in_leaf': 85, 'l2_leaf_reg': 7, 'has-time': False, 'bagging_temperature': 0.3959045303862152, 'random_strength': 0.8397948475182411, 'border_count': 99, 'rsm': 0.533786024806681, 'nan_mode': 'max'}. Best is trial 0 with value: 57.13529571086957.\n"
     ]
    },
    {
     "name": "stdout",
     "output_type": "stream",
     "text": [
      "999:\tlearn: 27.1911281\ttotal: 11.3s\tremaining: 0us\n",
      "Learning rate set to 0.067977\n",
      "0:\tlearn: 144.7226602\ttotal: 14.8ms\tremaining: 14.8s\n",
      "100:\tlearn: 48.8751720\ttotal: 1.33s\tremaining: 11.9s\n",
      "200:\tlearn: 44.2805167\ttotal: 2.73s\tremaining: 10.9s\n",
      "300:\tlearn: 40.4916540\ttotal: 4.41s\tremaining: 10.2s\n",
      "400:\tlearn: 37.6465227\ttotal: 5.79s\tremaining: 8.64s\n",
      "500:\tlearn: 35.3178136\ttotal: 7.12s\tremaining: 7.09s\n",
      "600:\tlearn: 33.2485313\ttotal: 8.31s\tremaining: 5.52s\n",
      "700:\tlearn: 31.4524571\ttotal: 9.78s\tremaining: 4.17s\n",
      "800:\tlearn: 29.8769368\ttotal: 11.3s\tremaining: 2.8s\n",
      "900:\tlearn: 28.4515596\ttotal: 12.8s\tremaining: 1.41s\n"
     ]
    },
    {
     "name": "stderr",
     "output_type": "stream",
     "text": [
      "[I 2023-11-06 17:59:49,393] Trial 3 finished with value: 57.13529571086957 and parameters: {'iterations': 1223, 'learning_rate': 0.005327078886123084, 'depth': 4, 'colsample_bylevel': 0.8657742944244422, 'min_data_in_leaf': 52, 'l2_leaf_reg': 7, 'has-time': False, 'bagging_temperature': 0.9955534445123131, 'random_strength': 0.3025403315327865, 'border_count': 453, 'rsm': 0.043215776449925046, 'nan_mode': 'min'}. Best is trial 0 with value: 57.13529571086957.\n"
     ]
    },
    {
     "name": "stdout",
     "output_type": "stream",
     "text": [
      "999:\tlearn: 27.1911281\ttotal: 14.3s\tremaining: 0us\n",
      "Learning rate set to 0.067977\n",
      "0:\tlearn: 144.7226602\ttotal: 11.1ms\tremaining: 11.1s\n",
      "100:\tlearn: 48.8751720\ttotal: 1.58s\tremaining: 14.1s\n",
      "200:\tlearn: 44.2805167\ttotal: 3.36s\tremaining: 13.4s\n",
      "300:\tlearn: 40.4916540\ttotal: 4.64s\tremaining: 10.8s\n",
      "400:\tlearn: 37.6465227\ttotal: 6.1s\tremaining: 9.11s\n",
      "500:\tlearn: 35.3178136\ttotal: 7.58s\tremaining: 7.55s\n",
      "600:\tlearn: 33.2485313\ttotal: 9s\tremaining: 5.97s\n",
      "700:\tlearn: 31.4524571\ttotal: 10.4s\tremaining: 4.42s\n",
      "800:\tlearn: 29.8769368\ttotal: 11.8s\tremaining: 2.94s\n",
      "900:\tlearn: 28.4515596\ttotal: 13.6s\tremaining: 1.49s\n"
     ]
    },
    {
     "name": "stderr",
     "output_type": "stream",
     "text": [
      "[I 2023-11-06 18:00:04,896] Trial 4 finished with value: 57.13529571086957 and parameters: {'iterations': 981, 'learning_rate': 0.003070814432718654, 'depth': 1, 'colsample_bylevel': 0.28388656679038865, 'min_data_in_leaf': 98, 'l2_leaf_reg': 10, 'has-time': True, 'bagging_temperature': 0.6099193445111942, 'random_strength': 0.9484466483743623, 'border_count': 294, 'rsm': 0.4247510239997022, 'nan_mode': 'min'}. Best is trial 0 with value: 57.13529571086957.\n"
     ]
    },
    {
     "name": "stdout",
     "output_type": "stream",
     "text": [
      "999:\tlearn: 27.1911281\ttotal: 15.2s\tremaining: 0us\n",
      "Learning rate set to 0.067977\n",
      "0:\tlearn: 144.7226602\ttotal: 38.2ms\tremaining: 38.2s\n",
      "100:\tlearn: 48.8751720\ttotal: 2.13s\tremaining: 19s\n",
      "200:\tlearn: 44.2805167\ttotal: 3.82s\tremaining: 15.2s\n",
      "300:\tlearn: 40.4916540\ttotal: 5.41s\tremaining: 12.6s\n",
      "400:\tlearn: 37.6465227\ttotal: 6.85s\tremaining: 10.2s\n",
      "500:\tlearn: 35.3178136\ttotal: 8.36s\tremaining: 8.33s\n",
      "600:\tlearn: 33.2485313\ttotal: 9.73s\tremaining: 6.46s\n",
      "700:\tlearn: 31.4524571\ttotal: 11.3s\tremaining: 4.81s\n",
      "800:\tlearn: 29.8769368\ttotal: 12.7s\tremaining: 3.16s\n",
      "900:\tlearn: 28.4515596\ttotal: 14.1s\tremaining: 1.55s\n"
     ]
    },
    {
     "name": "stderr",
     "output_type": "stream",
     "text": [
      "[I 2023-11-06 18:00:20,737] Trial 5 finished with value: 57.13529571086957 and parameters: {'iterations': 1924, 'learning_rate': 0.0019357421181478048, 'depth': 13, 'colsample_bylevel': 0.9129874868069414, 'min_data_in_leaf': 32, 'l2_leaf_reg': 3, 'has-time': True, 'bagging_temperature': 0.3392438712964596, 'random_strength': 0.8357754934413055, 'border_count': 51, 'rsm': 0.6177417979633127, 'nan_mode': 'max'}. Best is trial 0 with value: 57.13529571086957.\n"
     ]
    },
    {
     "name": "stdout",
     "output_type": "stream",
     "text": [
      "999:\tlearn: 27.1911281\ttotal: 15.5s\tremaining: 0us\n",
      "Learning rate set to 0.067977\n",
      "0:\tlearn: 144.7226602\ttotal: 9.96ms\tremaining: 9.95s\n",
      "100:\tlearn: 48.8751720\ttotal: 1.18s\tremaining: 10.5s\n",
      "200:\tlearn: 44.2805167\ttotal: 2.76s\tremaining: 11s\n",
      "300:\tlearn: 40.4916540\ttotal: 4.13s\tremaining: 9.59s\n",
      "400:\tlearn: 37.6465227\ttotal: 5.66s\tremaining: 8.45s\n",
      "500:\tlearn: 35.3178136\ttotal: 6.96s\tremaining: 6.93s\n",
      "600:\tlearn: 33.2485313\ttotal: 8.29s\tremaining: 5.51s\n",
      "700:\tlearn: 31.4524571\ttotal: 9.62s\tremaining: 4.1s\n",
      "800:\tlearn: 29.8769368\ttotal: 11s\tremaining: 2.74s\n",
      "900:\tlearn: 28.4515596\ttotal: 12.8s\tremaining: 1.4s\n"
     ]
    },
    {
     "name": "stderr",
     "output_type": "stream",
     "text": [
      "[I 2023-11-06 18:00:35,056] Trial 6 finished with value: 57.13529571086957 and parameters: {'iterations': 383, 'learning_rate': 0.0014833747084248322, 'depth': 3, 'colsample_bylevel': 0.6339723592312, 'min_data_in_leaf': 83, 'l2_leaf_reg': 2, 'has-time': False, 'bagging_temperature': 0.5343032071832674, 'random_strength': 0.5724713622123616, 'border_count': 322, 'rsm': 0.49863999464865405, 'nan_mode': 'min'}. Best is trial 0 with value: 57.13529571086957.\n"
     ]
    },
    {
     "name": "stdout",
     "output_type": "stream",
     "text": [
      "999:\tlearn: 27.1911281\ttotal: 14.1s\tremaining: 0us\n",
      "Learning rate set to 0.067977\n",
      "0:\tlearn: 144.7226602\ttotal: 62.9ms\tremaining: 1m 2s\n",
      "100:\tlearn: 48.8751720\ttotal: 1.44s\tremaining: 12.8s\n",
      "200:\tlearn: 44.2805167\ttotal: 2.87s\tremaining: 11.4s\n",
      "300:\tlearn: 40.4916540\ttotal: 4.42s\tremaining: 10.3s\n",
      "400:\tlearn: 37.6465227\ttotal: 5.8s\tremaining: 8.67s\n",
      "500:\tlearn: 35.3178136\ttotal: 7.44s\tremaining: 7.41s\n",
      "600:\tlearn: 33.2485313\ttotal: 8.85s\tremaining: 5.88s\n",
      "700:\tlearn: 31.4524571\ttotal: 10.2s\tremaining: 4.36s\n",
      "800:\tlearn: 29.8769368\ttotal: 11.6s\tremaining: 2.88s\n",
      "900:\tlearn: 28.4515596\ttotal: 13.2s\tremaining: 1.45s\n"
     ]
    },
    {
     "name": "stderr",
     "output_type": "stream",
     "text": [
      "[I 2023-11-06 18:00:49,875] Trial 7 finished with value: 57.13529571086957 and parameters: {'iterations': 1987, 'learning_rate': 0.0025686446143291485, 'depth': 1, 'colsample_bylevel': 0.4413678875976446, 'min_data_in_leaf': 38, 'l2_leaf_reg': 5, 'has-time': True, 'bagging_temperature': 0.7401653999574576, 'random_strength': 0.798093816945572, 'border_count': 425, 'rsm': 0.8064982979341937, 'nan_mode': 'max'}. Best is trial 0 with value: 57.13529571086957.\n"
     ]
    },
    {
     "name": "stdout",
     "output_type": "stream",
     "text": [
      "999:\tlearn: 27.1911281\ttotal: 14.6s\tremaining: 0us\n",
      "Learning rate set to 0.067977\n",
      "0:\tlearn: 144.7226602\ttotal: 34.7ms\tremaining: 34.6s\n",
      "100:\tlearn: 48.8751720\ttotal: 1.56s\tremaining: 13.9s\n",
      "200:\tlearn: 44.2805167\ttotal: 2.64s\tremaining: 10.5s\n",
      "300:\tlearn: 40.4916540\ttotal: 4.18s\tremaining: 9.72s\n",
      "400:\tlearn: 37.6465227\ttotal: 5.59s\tremaining: 8.35s\n",
      "500:\tlearn: 35.3178136\ttotal: 6.98s\tremaining: 6.96s\n",
      "600:\tlearn: 33.2485313\ttotal: 8.38s\tremaining: 5.56s\n",
      "700:\tlearn: 31.4524571\ttotal: 9.87s\tremaining: 4.21s\n",
      "800:\tlearn: 29.8769368\ttotal: 11.6s\tremaining: 2.89s\n",
      "900:\tlearn: 28.4515596\ttotal: 13.4s\tremaining: 1.47s\n"
     ]
    },
    {
     "name": "stderr",
     "output_type": "stream",
     "text": [
      "[I 2023-11-06 18:01:05,315] Trial 8 finished with value: 57.13529571086957 and parameters: {'iterations': 1280, 'learning_rate': 0.01120409611781768, 'depth': 1, 'colsample_bylevel': 0.2436120765016973, 'min_data_in_leaf': 9, 'l2_leaf_reg': 2, 'has-time': False, 'bagging_temperature': 0.585056960471281, 'random_strength': 0.8853463806587472, 'border_count': 322, 'rsm': 0.018363744247754398, 'nan_mode': 'max'}. Best is trial 0 with value: 57.13529571086957.\n"
     ]
    },
    {
     "name": "stdout",
     "output_type": "stream",
     "text": [
      "999:\tlearn: 27.1911281\ttotal: 15.2s\tremaining: 0us\n",
      "Learning rate set to 0.067977\n",
      "0:\tlearn: 144.7226602\ttotal: 23.5ms\tremaining: 23.5s\n",
      "100:\tlearn: 48.8751720\ttotal: 1.4s\tremaining: 12.5s\n",
      "200:\tlearn: 44.2805167\ttotal: 3.37s\tremaining: 13.4s\n",
      "300:\tlearn: 40.4916540\ttotal: 4.68s\tremaining: 10.9s\n",
      "400:\tlearn: 37.6465227\ttotal: 5.92s\tremaining: 8.84s\n",
      "500:\tlearn: 35.3178136\ttotal: 7.33s\tremaining: 7.3s\n",
      "600:\tlearn: 33.2485313\ttotal: 9.06s\tremaining: 6.02s\n",
      "700:\tlearn: 31.4524571\ttotal: 10.7s\tremaining: 4.55s\n",
      "800:\tlearn: 29.8769368\ttotal: 11.9s\tremaining: 2.96s\n",
      "900:\tlearn: 28.4515596\ttotal: 13.3s\tremaining: 1.46s\n"
     ]
    },
    {
     "name": "stderr",
     "output_type": "stream",
     "text": [
      "[I 2023-11-06 18:01:20,587] Trial 9 finished with value: 57.13529571086957 and parameters: {'iterations': 1862, 'learning_rate': 0.009358376563597798, 'depth': 8, 'colsample_bylevel': 0.21025383517745228, 'min_data_in_leaf': 16, 'l2_leaf_reg': 6, 'has-time': True, 'bagging_temperature': 0.341909160062533, 'random_strength': 0.5857645697128493, 'border_count': 287, 'rsm': 0.22767409993489848, 'nan_mode': 'max'}. Best is trial 0 with value: 57.13529571086957.\n"
     ]
    },
    {
     "name": "stdout",
     "output_type": "stream",
     "text": [
      "999:\tlearn: 27.1911281\ttotal: 15s\tremaining: 0us\n",
      "Learning rate set to 0.067977\n",
      "0:\tlearn: 144.7226602\ttotal: 29.4ms\tremaining: 29.3s\n",
      "100:\tlearn: 48.8751720\ttotal: 1.45s\tremaining: 12.9s\n",
      "200:\tlearn: 44.2805167\ttotal: 2.85s\tremaining: 11.3s\n",
      "300:\tlearn: 40.4916540\ttotal: 4.36s\tremaining: 10.1s\n",
      "400:\tlearn: 37.6465227\ttotal: 5.66s\tremaining: 8.45s\n",
      "500:\tlearn: 35.3178136\ttotal: 7.04s\tremaining: 7.01s\n",
      "600:\tlearn: 33.2485313\ttotal: 8.67s\tremaining: 5.76s\n",
      "700:\tlearn: 31.4524571\ttotal: 9.92s\tremaining: 4.23s\n",
      "800:\tlearn: 29.8769368\ttotal: 11.3s\tremaining: 2.8s\n",
      "900:\tlearn: 28.4515596\ttotal: 12.7s\tremaining: 1.39s\n"
     ]
    },
    {
     "name": "stderr",
     "output_type": "stream",
     "text": [
      "[I 2023-11-06 18:01:34,959] Trial 10 finished with value: 57.13529571086957 and parameters: {'iterations': 2943, 'learning_rate': 0.03775208722709262, 'depth': 12, 'colsample_bylevel': 0.9942664258436675, 'min_data_in_leaf': 66, 'l2_leaf_reg': 10, 'has-time': False, 'bagging_temperature': 0.7619861390987286, 'random_strength': 0.4140890591239946, 'border_count': 169, 'rsm': 0.8510584592017156, 'nan_mode': 'min'}. Best is trial 0 with value: 57.13529571086957.\n"
     ]
    },
    {
     "name": "stdout",
     "output_type": "stream",
     "text": [
      "999:\tlearn: 27.1911281\ttotal: 14s\tremaining: 0us\n",
      "Learning rate set to 0.067977\n",
      "0:\tlearn: 144.7226602\ttotal: 32.7ms\tremaining: 32.6s\n",
      "100:\tlearn: 48.8751720\ttotal: 1.35s\tremaining: 12s\n",
      "200:\tlearn: 44.2805167\ttotal: 2.95s\tremaining: 11.7s\n",
      "300:\tlearn: 40.4916540\ttotal: 4.16s\tremaining: 9.66s\n",
      "400:\tlearn: 37.6465227\ttotal: 6.16s\tremaining: 9.2s\n",
      "500:\tlearn: 35.3178136\ttotal: 7.95s\tremaining: 7.91s\n",
      "600:\tlearn: 33.2485313\ttotal: 9.54s\tremaining: 6.33s\n",
      "700:\tlearn: 31.4524571\ttotal: 10.9s\tremaining: 4.66s\n",
      "800:\tlearn: 29.8769368\ttotal: 12.2s\tremaining: 3.03s\n",
      "900:\tlearn: 28.4515596\ttotal: 13.6s\tremaining: 1.5s\n"
     ]
    },
    {
     "name": "stderr",
     "output_type": "stream",
     "text": [
      "[I 2023-11-06 18:01:50,295] Trial 11 finished with value: 57.13529571086957 and parameters: {'iterations': 2479, 'learning_rate': 0.021787060075459816, 'depth': 7, 'colsample_bylevel': 0.6708195580743008, 'min_data_in_leaf': 1, 'l2_leaf_reg': 5, 'has-time': False, 'bagging_temperature': 0.9447592587832583, 'random_strength': 0.7031414218561807, 'border_count': 495, 'rsm': 0.20553628077419006, 'nan_mode': 'min'}. Best is trial 0 with value: 57.13529571086957.\n"
     ]
    },
    {
     "name": "stdout",
     "output_type": "stream",
     "text": [
      "999:\tlearn: 27.1911281\ttotal: 15s\tremaining: 0us\n",
      "Learning rate set to 0.067977\n",
      "0:\tlearn: 144.7226602\ttotal: 7.32ms\tremaining: 7.31s\n",
      "100:\tlearn: 48.8751720\ttotal: 1.29s\tremaining: 11.5s\n",
      "200:\tlearn: 44.2805167\ttotal: 3.01s\tremaining: 12s\n",
      "300:\tlearn: 40.4916540\ttotal: 4.33s\tremaining: 10.1s\n",
      "400:\tlearn: 37.6465227\ttotal: 5.83s\tremaining: 8.71s\n",
      "500:\tlearn: 35.3178136\ttotal: 7.42s\tremaining: 7.38s\n",
      "600:\tlearn: 33.2485313\ttotal: 8.79s\tremaining: 5.84s\n",
      "700:\tlearn: 31.4524571\ttotal: 10.1s\tremaining: 4.33s\n",
      "800:\tlearn: 29.8769368\ttotal: 11.5s\tremaining: 2.87s\n",
      "900:\tlearn: 28.4515596\ttotal: 13.5s\tremaining: 1.49s\n"
     ]
    },
    {
     "name": "stderr",
     "output_type": "stream",
     "text": [
      "[I 2023-11-06 18:02:05,710] Trial 12 finished with value: 57.13529571086957 and parameters: {'iterations': 2361, 'learning_rate': 0.05028342070962966, 'depth': 7, 'colsample_bylevel': 0.757362699529741, 'min_data_in_leaf': 62, 'l2_leaf_reg': 4, 'has-time': False, 'bagging_temperature': 0.8613649325787379, 'random_strength': 0.6834500338909226, 'border_count': 394, 'rsm': 0.18607202770721443, 'nan_mode': 'min'}. Best is trial 0 with value: 57.13529571086957.\n"
     ]
    },
    {
     "name": "stdout",
     "output_type": "stream",
     "text": [
      "999:\tlearn: 27.1911281\ttotal: 15.1s\tremaining: 0us\n",
      "Learning rate set to 0.067977\n",
      "0:\tlearn: 144.7226602\ttotal: 16.5ms\tremaining: 16.5s\n",
      "100:\tlearn: 48.8751720\ttotal: 1.35s\tremaining: 12s\n",
      "200:\tlearn: 44.2805167\ttotal: 3.08s\tremaining: 12.2s\n",
      "300:\tlearn: 40.4916540\ttotal: 4.98s\tremaining: 11.6s\n",
      "400:\tlearn: 37.6465227\ttotal: 6.27s\tremaining: 9.36s\n",
      "500:\tlearn: 35.3178136\ttotal: 7.63s\tremaining: 7.6s\n",
      "600:\tlearn: 33.2485313\ttotal: 9.38s\tremaining: 6.22s\n",
      "700:\tlearn: 31.4524571\ttotal: 10.8s\tremaining: 4.6s\n",
      "800:\tlearn: 29.8769368\ttotal: 11.9s\tremaining: 2.96s\n",
      "900:\tlearn: 28.4515596\ttotal: 13.7s\tremaining: 1.5s\n"
     ]
    },
    {
     "name": "stderr",
     "output_type": "stream",
     "text": [
      "[I 2023-11-06 18:02:21,016] Trial 13 finished with value: 57.13529571086957 and parameters: {'iterations': 1312, 'learning_rate': 0.01981222569903638, 'depth': 9, 'colsample_bylevel': 0.507200758005576, 'min_data_in_leaf': 31, 'l2_leaf_reg': 8, 'has-time': False, 'bagging_temperature': 0.7167858624151691, 'random_strength': 0.49914038978395875, 'border_count': 385, 'rsm': 0.3274895197051751, 'nan_mode': 'max'}. Best is trial 0 with value: 57.13529571086957.\n"
     ]
    },
    {
     "name": "stdout",
     "output_type": "stream",
     "text": [
      "999:\tlearn: 27.1911281\ttotal: 14.9s\tremaining: 0us\n",
      "Learning rate set to 0.067977\n",
      "0:\tlearn: 144.7226602\ttotal: 29ms\tremaining: 28.9s\n",
      "100:\tlearn: 48.8751720\ttotal: 1.37s\tremaining: 12.2s\n",
      "200:\tlearn: 44.2805167\ttotal: 2.84s\tremaining: 11.3s\n",
      "300:\tlearn: 40.4916540\ttotal: 4.24s\tremaining: 9.84s\n",
      "400:\tlearn: 37.6465227\ttotal: 5.69s\tremaining: 8.5s\n",
      "500:\tlearn: 35.3178136\ttotal: 7.09s\tremaining: 7.06s\n",
      "600:\tlearn: 33.2485313\ttotal: 8.48s\tremaining: 5.63s\n",
      "700:\tlearn: 31.4524571\ttotal: 9.71s\tremaining: 4.14s\n",
      "800:\tlearn: 29.8769368\ttotal: 11s\tremaining: 2.73s\n",
      "900:\tlearn: 28.4515596\ttotal: 12.2s\tremaining: 1.34s\n"
     ]
    },
    {
     "name": "stderr",
     "output_type": "stream",
     "text": [
      "[I 2023-11-06 18:02:35,026] Trial 14 finished with value: 57.13529571086957 and parameters: {'iterations': 300, 'learning_rate': 0.08351640693560256, 'depth': 5, 'colsample_bylevel': 0.6080618778066861, 'min_data_in_leaf': 75, 'l2_leaf_reg': 8, 'has-time': False, 'bagging_temperature': 0.8551014143575562, 'random_strength': 0.7096419569237692, 'border_count': 500, 'rsm': 0.014294230255603113, 'nan_mode': 'max'}. Best is trial 0 with value: 57.13529571086957.\n"
     ]
    },
    {
     "name": "stdout",
     "output_type": "stream",
     "text": [
      "999:\tlearn: 27.1911281\ttotal: 13.7s\tremaining: 0us\n",
      "Learning rate set to 0.067977\n",
      "0:\tlearn: 144.7226602\ttotal: 10.7ms\tremaining: 10.7s\n",
      "100:\tlearn: 48.8751720\ttotal: 1.82s\tremaining: 16.2s\n",
      "200:\tlearn: 44.2805167\ttotal: 3.48s\tremaining: 13.8s\n",
      "300:\tlearn: 40.4916540\ttotal: 5.03s\tremaining: 11.7s\n",
      "400:\tlearn: 37.6465227\ttotal: 6.38s\tremaining: 9.53s\n",
      "500:\tlearn: 35.3178136\ttotal: 8.01s\tremaining: 7.98s\n",
      "600:\tlearn: 33.2485313\ttotal: 9.57s\tremaining: 6.36s\n",
      "700:\tlearn: 31.4524571\ttotal: 10.8s\tremaining: 4.61s\n",
      "800:\tlearn: 29.8769368\ttotal: 12.4s\tremaining: 3.09s\n",
      "900:\tlearn: 28.4515596\ttotal: 13.8s\tremaining: 1.52s\n"
     ]
    },
    {
     "name": "stderr",
     "output_type": "stream",
     "text": [
      "[I 2023-11-06 18:02:50,541] Trial 15 finished with value: 57.13529571086957 and parameters: {'iterations': 1598, 'learning_rate': 0.0010624222928821393, 'depth': 6, 'colsample_bylevel': 0.7628516955882245, 'min_data_in_leaf': 100, 'l2_leaf_reg': 5, 'has-time': False, 'bagging_temperature': 0.5036191163638645, 'random_strength': 0.993285754713136, 'border_count': 235, 'rsm': 0.13208390754560909, 'nan_mode': 'min'}. Best is trial 0 with value: 57.13529571086957.\n"
     ]
    },
    {
     "name": "stdout",
     "output_type": "stream",
     "text": [
      "999:\tlearn: 27.1911281\ttotal: 15.2s\tremaining: 0us\n",
      "Learning rate set to 0.067977\n",
      "0:\tlearn: 144.7226602\ttotal: 22.4ms\tremaining: 22.4s\n",
      "100:\tlearn: 48.8751720\ttotal: 1.55s\tremaining: 13.8s\n",
      "200:\tlearn: 44.2805167\ttotal: 2.9s\tremaining: 11.5s\n",
      "300:\tlearn: 40.4916540\ttotal: 4.64s\tremaining: 10.8s\n",
      "400:\tlearn: 37.6465227\ttotal: 5.96s\tremaining: 8.91s\n",
      "500:\tlearn: 35.3178136\ttotal: 7.23s\tremaining: 7.2s\n",
      "600:\tlearn: 33.2485313\ttotal: 8.7s\tremaining: 5.77s\n",
      "700:\tlearn: 31.4524571\ttotal: 10.3s\tremaining: 4.41s\n",
      "800:\tlearn: 29.8769368\ttotal: 12.2s\tremaining: 3.02s\n",
      "900:\tlearn: 28.4515596\ttotal: 13.8s\tremaining: 1.52s\n"
     ]
    },
    {
     "name": "stderr",
     "output_type": "stream",
     "text": [
      "[I 2023-11-06 18:03:06,187] Trial 16 finished with value: 57.13529571086957 and parameters: {'iterations': 2515, 'learning_rate': 0.004077689161701869, 'depth': 11, 'colsample_bylevel': 0.0654104832419865, 'min_data_in_leaf': 21, 'l2_leaf_reg': 4, 'has-time': False, 'bagging_temperature': 0.6553201714553868, 'random_strength': 0.45111305420592035, 'border_count': 368, 'rsm': 0.30155995001220887, 'nan_mode': 'max'}. Best is trial 0 with value: 57.13529571086957.\n"
     ]
    },
    {
     "name": "stdout",
     "output_type": "stream",
     "text": [
      "999:\tlearn: 27.1911281\ttotal: 15.3s\tremaining: 0us\n",
      "Learning rate set to 0.067977\n",
      "0:\tlearn: 144.7226602\ttotal: 7.35ms\tremaining: 7.34s\n",
      "100:\tlearn: 48.8751720\ttotal: 1.4s\tremaining: 12.4s\n",
      "200:\tlearn: 44.2805167\ttotal: 2.68s\tremaining: 10.6s\n",
      "300:\tlearn: 40.4916540\ttotal: 4.34s\tremaining: 10.1s\n",
      "400:\tlearn: 37.6465227\ttotal: 5.72s\tremaining: 8.55s\n",
      "500:\tlearn: 35.3178136\ttotal: 6.91s\tremaining: 6.88s\n",
      "600:\tlearn: 33.2485313\ttotal: 8.5s\tremaining: 5.65s\n",
      "700:\tlearn: 31.4524571\ttotal: 9.97s\tremaining: 4.25s\n",
      "800:\tlearn: 29.8769368\ttotal: 11.3s\tremaining: 2.82s\n",
      "900:\tlearn: 28.4515596\ttotal: 12.9s\tremaining: 1.42s\n"
     ]
    },
    {
     "name": "stderr",
     "output_type": "stream",
     "text": [
      "[I 2023-11-06 18:03:20,887] Trial 17 finished with value: 57.13529571086957 and parameters: {'iterations': 685, 'learning_rate': 0.005258447397741686, 'depth': 9, 'colsample_bylevel': 0.47882269261954574, 'min_data_in_leaf': 51, 'l2_leaf_reg': 6, 'has-time': False, 'bagging_temperature': 0.8213406373176416, 'random_strength': 0.7629151208665793, 'border_count': 448, 'rsm': 0.11995170896606046, 'nan_mode': 'min'}. Best is trial 0 with value: 57.13529571086957.\n"
     ]
    },
    {
     "name": "stdout",
     "output_type": "stream",
     "text": [
      "999:\tlearn: 27.1911281\ttotal: 14.4s\tremaining: 0us\n",
      "Learning rate set to 0.067977\n",
      "0:\tlearn: 144.7226602\ttotal: 45.9ms\tremaining: 45.9s\n",
      "100:\tlearn: 48.8751720\ttotal: 1.36s\tremaining: 12.1s\n",
      "200:\tlearn: 44.2805167\ttotal: 3.02s\tremaining: 12s\n",
      "300:\tlearn: 40.4916540\ttotal: 4.32s\tremaining: 10s\n",
      "400:\tlearn: 37.6465227\ttotal: 5.71s\tremaining: 8.54s\n",
      "500:\tlearn: 35.3178136\ttotal: 7.19s\tremaining: 7.16s\n",
      "600:\tlearn: 33.2485313\ttotal: 8.77s\tremaining: 5.82s\n",
      "700:\tlearn: 31.4524571\ttotal: 10.2s\tremaining: 4.33s\n",
      "800:\tlearn: 29.8769368\ttotal: 11.8s\tremaining: 2.94s\n",
      "900:\tlearn: 28.4515596\ttotal: 13.4s\tremaining: 1.47s\n"
     ]
    },
    {
     "name": "stderr",
     "output_type": "stream",
     "text": [
      "[I 2023-11-06 18:03:36,054] Trial 18 finished with value: 57.13529571086957 and parameters: {'iterations': 1615, 'learning_rate': 0.011800967746655832, 'depth': 5, 'colsample_bylevel': 0.7554324435002738, 'min_data_in_leaf': 61, 'l2_leaf_reg': 8, 'has-time': True, 'bagging_temperature': 0.6840988084265309, 'random_strength': 0.6179258912709507, 'border_count': 224, 'rsm': 0.3114641127693618, 'nan_mode': 'min'}. Best is trial 0 with value: 57.13529571086957.\n"
     ]
    },
    {
     "name": "stdout",
     "output_type": "stream",
     "text": [
      "999:\tlearn: 27.1911281\ttotal: 14.8s\tremaining: 0us\n",
      "Learning rate set to 0.067977\n",
      "0:\tlearn: 144.7226602\ttotal: 10.3ms\tremaining: 10.3s\n",
      "100:\tlearn: 48.8751720\ttotal: 1.41s\tremaining: 12.5s\n",
      "200:\tlearn: 44.2805167\ttotal: 2.98s\tremaining: 11.8s\n",
      "300:\tlearn: 40.4916540\ttotal: 4.39s\tremaining: 10.2s\n",
      "400:\tlearn: 37.6465227\ttotal: 5.85s\tremaining: 8.74s\n",
      "500:\tlearn: 35.3178136\ttotal: 7.18s\tremaining: 7.16s\n",
      "600:\tlearn: 33.2485313\ttotal: 8.77s\tremaining: 5.82s\n",
      "700:\tlearn: 31.4524571\ttotal: 10.2s\tremaining: 4.35s\n",
      "800:\tlearn: 29.8769368\ttotal: 11.6s\tremaining: 2.88s\n",
      "900:\tlearn: 28.4515596\ttotal: 12.8s\tremaining: 1.41s\n"
     ]
    },
    {
     "name": "stderr",
     "output_type": "stream",
     "text": [
      "[I 2023-11-06 18:03:50,724] Trial 19 finished with value: 57.13529571086957 and parameters: {'iterations': 2190, 'learning_rate': 0.016499688269259884, 'depth': 8, 'colsample_bylevel': 0.5806136061638425, 'min_data_in_leaf': 44, 'l2_leaf_reg': 4, 'has-time': False, 'bagging_temperature': 0.921642429636201, 'random_strength': 0.5391711196698202, 'border_count': 358, 'rsm': 0.12469716897026617, 'nan_mode': 'max'}. Best is trial 0 with value: 57.13529571086957.\n"
     ]
    },
    {
     "name": "stdout",
     "output_type": "stream",
     "text": [
      "999:\tlearn: 27.1911281\ttotal: 14.3s\tremaining: 0us\n",
      "Learning rate set to 0.067977\n",
      "0:\tlearn: 144.7226602\ttotal: 31.8ms\tremaining: 31.8s\n",
      "100:\tlearn: 48.8751720\ttotal: 1.57s\tremaining: 14s\n",
      "200:\tlearn: 44.2805167\ttotal: 3.05s\tremaining: 12.1s\n",
      "300:\tlearn: 40.4916540\ttotal: 4.38s\tremaining: 10.2s\n",
      "400:\tlearn: 37.6465227\ttotal: 5.97s\tremaining: 8.92s\n",
      "500:\tlearn: 35.3178136\ttotal: 7.43s\tremaining: 7.41s\n",
      "600:\tlearn: 33.2485313\ttotal: 8.76s\tremaining: 5.82s\n",
      "700:\tlearn: 31.4524571\ttotal: 10.1s\tremaining: 4.3s\n",
      "800:\tlearn: 29.8769368\ttotal: 12.1s\tremaining: 3.02s\n",
      "900:\tlearn: 28.4515596\ttotal: 14.2s\tremaining: 1.56s\n"
     ]
    },
    {
     "name": "stderr",
     "output_type": "stream",
     "text": [
      "[I 2023-11-06 18:04:07,142] Trial 20 finished with value: 57.13529571086957 and parameters: {'iterations': 2793, 'learning_rate': 0.007223655019977015, 'depth': 3, 'colsample_bylevel': 0.4233579588190842, 'min_data_in_leaf': 22, 'l2_leaf_reg': 6, 'has-time': False, 'bagging_temperature': 0.7709608364665184, 'random_strength': 0.6388971660470177, 'border_count': 155, 'rsm': 0.08110536465696927, 'nan_mode': 'max'}. Best is trial 0 with value: 57.13529571086957.\n"
     ]
    },
    {
     "name": "stdout",
     "output_type": "stream",
     "text": [
      "999:\tlearn: 27.1911281\ttotal: 16.1s\tremaining: 0us\n",
      "Learning rate set to 0.067977\n",
      "0:\tlearn: 144.7226602\ttotal: 9.76ms\tremaining: 9.75s\n",
      "100:\tlearn: 48.8751720\ttotal: 1.35s\tremaining: 12s\n",
      "200:\tlearn: 44.2805167\ttotal: 2.88s\tremaining: 11.4s\n",
      "300:\tlearn: 40.4916540\ttotal: 4.35s\tremaining: 10.1s\n",
      "400:\tlearn: 37.6465227\ttotal: 5.95s\tremaining: 8.89s\n",
      "500:\tlearn: 35.3178136\ttotal: 7.58s\tremaining: 7.55s\n",
      "600:\tlearn: 33.2485313\ttotal: 8.88s\tremaining: 5.9s\n",
      "700:\tlearn: 31.4524571\ttotal: 10.3s\tremaining: 4.39s\n",
      "800:\tlearn: 29.8769368\ttotal: 11.6s\tremaining: 2.89s\n",
      "900:\tlearn: 28.4515596\ttotal: 13.1s\tremaining: 1.44s\n"
     ]
    },
    {
     "name": "stderr",
     "output_type": "stream",
     "text": [
      "[I 2023-11-06 18:04:21,790] Trial 21 finished with value: 57.13529571086957 and parameters: {'iterations': 764, 'learning_rate': 0.006817610192104944, 'depth': 10, 'colsample_bylevel': 0.3957521156550541, 'min_data_in_leaf': 86, 'l2_leaf_reg': 7, 'has-time': False, 'bagging_temperature': 0.43802352311630716, 'random_strength': 0.7592863173552079, 'border_count': 2, 'rsm': 0.6151169899614337, 'nan_mode': 'max'}. Best is trial 0 with value: 57.13529571086957.\n"
     ]
    },
    {
     "name": "stdout",
     "output_type": "stream",
     "text": [
      "999:\tlearn: 27.1911281\ttotal: 14.3s\tremaining: 0us\n",
      "Learning rate set to 0.067977\n",
      "0:\tlearn: 144.7226602\ttotal: 9.26ms\tremaining: 9.25s\n",
      "100:\tlearn: 48.8751720\ttotal: 1.28s\tremaining: 11.4s\n",
      "200:\tlearn: 44.2805167\ttotal: 2.56s\tremaining: 10.2s\n",
      "300:\tlearn: 40.4916540\ttotal: 3.88s\tremaining: 9s\n",
      "400:\tlearn: 37.6465227\ttotal: 5.09s\tremaining: 7.6s\n",
      "500:\tlearn: 35.3178136\ttotal: 6.67s\tremaining: 6.64s\n",
      "600:\tlearn: 33.2485313\ttotal: 7.98s\tremaining: 5.3s\n",
      "700:\tlearn: 31.4524571\ttotal: 9.38s\tremaining: 4s\n",
      "800:\tlearn: 29.8769368\ttotal: 10.9s\tremaining: 2.71s\n",
      "900:\tlearn: 28.4515596\ttotal: 12.3s\tremaining: 1.35s\n"
     ]
    },
    {
     "name": "stderr",
     "output_type": "stream",
     "text": [
      "[I 2023-11-06 18:04:35,591] Trial 22 finished with value: 57.13529571086957 and parameters: {'iterations': 643, 'learning_rate': 0.003504021480522102, 'depth': 10, 'colsample_bylevel': 0.5191620847180265, 'min_data_in_leaf': 87, 'l2_leaf_reg': 7, 'has-time': False, 'bagging_temperature': 0.6549386114595077, 'random_strength': 0.8468472659563966, 'border_count': 98, 'rsm': 0.9981746657873807, 'nan_mode': 'max'}. Best is trial 0 with value: 57.13529571086957.\n"
     ]
    },
    {
     "name": "stdout",
     "output_type": "stream",
     "text": [
      "999:\tlearn: 27.1911281\ttotal: 13.4s\tremaining: 0us\n",
      "Learning rate set to 0.067977\n",
      "0:\tlearn: 144.7226602\ttotal: 10.8ms\tremaining: 10.8s\n",
      "100:\tlearn: 48.8751720\ttotal: 1.65s\tremaining: 14.7s\n",
      "200:\tlearn: 44.2805167\ttotal: 3.27s\tremaining: 13s\n",
      "300:\tlearn: 40.4916540\ttotal: 4.58s\tremaining: 10.6s\n",
      "400:\tlearn: 37.6465227\ttotal: 6.46s\tremaining: 9.65s\n",
      "500:\tlearn: 35.3178136\ttotal: 7.92s\tremaining: 7.88s\n",
      "600:\tlearn: 33.2485313\ttotal: 9.3s\tremaining: 6.17s\n",
      "700:\tlearn: 31.4524571\ttotal: 10.7s\tremaining: 4.58s\n",
      "800:\tlearn: 29.8769368\ttotal: 12s\tremaining: 2.98s\n",
      "900:\tlearn: 28.4515596\ttotal: 13.1s\tremaining: 1.44s\n"
     ]
    },
    {
     "name": "stderr",
     "output_type": "stream",
     "text": [
      "[I 2023-11-06 18:04:50,535] Trial 23 finished with value: 57.13529571086957 and parameters: {'iterations': 1001, 'learning_rate': 0.00802422413748898, 'depth': 8, 'colsample_bylevel': 0.6901277095482422, 'min_data_in_leaf': 71, 'l2_leaf_reg': 9, 'has-time': False, 'bagging_temperature': 0.4949138735472404, 'random_strength': 0.7525773742109575, 'border_count': 109, 'rsm': 0.4226914905437976, 'nan_mode': 'max'}. Best is trial 0 with value: 57.13529571086957.\n"
     ]
    },
    {
     "name": "stdout",
     "output_type": "stream",
     "text": [
      "999:\tlearn: 27.1911281\ttotal: 14.6s\tremaining: 0us\n",
      "Learning rate set to 0.067977\n",
      "0:\tlearn: 144.7226602\ttotal: 18ms\tremaining: 18s\n",
      "100:\tlearn: 48.8751720\ttotal: 1.54s\tremaining: 13.7s\n",
      "200:\tlearn: 44.2805167\ttotal: 3.36s\tremaining: 13.4s\n",
      "300:\tlearn: 40.4916540\ttotal: 4.84s\tremaining: 11.2s\n",
      "400:\tlearn: 37.6465227\ttotal: 6.55s\tremaining: 9.78s\n",
      "500:\tlearn: 35.3178136\ttotal: 7.93s\tremaining: 7.9s\n",
      "600:\tlearn: 33.2485313\ttotal: 9.58s\tremaining: 6.36s\n",
      "700:\tlearn: 31.4524571\ttotal: 11.1s\tremaining: 4.74s\n",
      "800:\tlearn: 29.8769368\ttotal: 13.1s\tremaining: 3.25s\n",
      "900:\tlearn: 28.4515596\ttotal: 14.6s\tremaining: 1.61s\n"
     ]
    },
    {
     "name": "stderr",
     "output_type": "stream",
     "text": [
      "[I 2023-11-06 18:05:07,078] Trial 24 finished with value: 57.13529571086957 and parameters: {'iterations': 444, 'learning_rate': 0.005032497262023781, 'depth': 11, 'colsample_bylevel': 0.578413571649497, 'min_data_in_leaf': 93, 'l2_leaf_reg': 5, 'has-time': False, 'bagging_temperature': 0.590671427409835, 'random_strength': 0.6589022141426887, 'border_count': 186, 'rsm': 0.0027595927753482907, 'nan_mode': 'max'}. Best is trial 0 with value: 57.13529571086957.\n"
     ]
    },
    {
     "name": "stdout",
     "output_type": "stream",
     "text": [
      "999:\tlearn: 27.1911281\ttotal: 16.2s\tremaining: 0us\n",
      "Learning rate set to 0.067977\n",
      "0:\tlearn: 144.7226602\ttotal: 11.5ms\tremaining: 11.5s\n",
      "100:\tlearn: 48.8751720\ttotal: 1.42s\tremaining: 12.7s\n",
      "200:\tlearn: 44.2805167\ttotal: 2.85s\tremaining: 11.3s\n",
      "300:\tlearn: 40.4916540\ttotal: 4.15s\tremaining: 9.63s\n",
      "400:\tlearn: 37.6465227\ttotal: 5.55s\tremaining: 8.29s\n",
      "500:\tlearn: 35.3178136\ttotal: 6.97s\tremaining: 6.95s\n",
      "600:\tlearn: 33.2485313\ttotal: 8.37s\tremaining: 5.56s\n",
      "700:\tlearn: 31.4524571\ttotal: 9.84s\tremaining: 4.2s\n",
      "800:\tlearn: 29.8769368\ttotal: 11.3s\tremaining: 2.81s\n",
      "900:\tlearn: 28.4515596\ttotal: 12.7s\tremaining: 1.4s\n"
     ]
    },
    {
     "name": "stderr",
     "output_type": "stream",
     "text": [
      "[I 2023-11-06 18:05:21,465] Trial 25 finished with value: 57.13529571086957 and parameters: {'iterations': 961, 'learning_rate': 0.013890297108321514, 'depth': 6, 'colsample_bylevel': 0.35303873527555796, 'min_data_in_leaf': 77, 'l2_leaf_reg': 7, 'has-time': False, 'bagging_temperature': 0.43509408473349953, 'random_strength': 0.8845850488295872, 'border_count': 461, 'rsm': 0.21972382623278747, 'nan_mode': 'max'}. Best is trial 0 with value: 57.13529571086957.\n"
     ]
    },
    {
     "name": "stdout",
     "output_type": "stream",
     "text": [
      "999:\tlearn: 27.1911281\ttotal: 14.1s\tremaining: 0us\n",
      "Learning rate set to 0.067977\n",
      "0:\tlearn: 144.7226602\ttotal: 19.8ms\tremaining: 19.8s\n",
      "100:\tlearn: 48.8751720\ttotal: 1.57s\tremaining: 14s\n",
      "200:\tlearn: 44.2805167\ttotal: 2.98s\tremaining: 11.8s\n",
      "300:\tlearn: 40.4916540\ttotal: 4.47s\tremaining: 10.4s\n",
      "400:\tlearn: 37.6465227\ttotal: 5.76s\tremaining: 8.61s\n",
      "500:\tlearn: 35.3178136\ttotal: 7.4s\tremaining: 7.37s\n",
      "600:\tlearn: 33.2485313\ttotal: 8.88s\tremaining: 5.89s\n",
      "700:\tlearn: 31.4524571\ttotal: 10.2s\tremaining: 4.36s\n",
      "800:\tlearn: 29.8769368\ttotal: 11.7s\tremaining: 2.9s\n",
      "900:\tlearn: 28.4515596\ttotal: 13.2s\tremaining: 1.45s\n"
     ]
    },
    {
     "name": "stderr",
     "output_type": "stream",
     "text": [
      "[I 2023-11-06 18:05:36,434] Trial 26 finished with value: 57.13529571086957 and parameters: {'iterations': 1462, 'learning_rate': 0.025874647774594913, 'depth': 9, 'colsample_bylevel': 0.5227886820253766, 'min_data_in_leaf': 91, 'l2_leaf_reg': 6, 'has-time': True, 'bagging_temperature': 0.6976390309517149, 'random_strength': 0.8080861188348927, 'border_count': 416, 'rsm': 0.09384519147004608, 'nan_mode': 'min'}. Best is trial 0 with value: 57.13529571086957.\n"
     ]
    },
    {
     "name": "stdout",
     "output_type": "stream",
     "text": [
      "999:\tlearn: 27.1911281\ttotal: 14.6s\tremaining: 0us\n",
      "Learning rate set to 0.067977\n",
      "0:\tlearn: 144.7226602\ttotal: 50.7ms\tremaining: 50.7s\n",
      "100:\tlearn: 48.8751720\ttotal: 1.27s\tremaining: 11.3s\n",
      "200:\tlearn: 44.2805167\ttotal: 2.64s\tremaining: 10.5s\n",
      "300:\tlearn: 40.4916540\ttotal: 4.33s\tremaining: 10.1s\n",
      "400:\tlearn: 37.6465227\ttotal: 5.83s\tremaining: 8.71s\n",
      "500:\tlearn: 35.3178136\ttotal: 7.34s\tremaining: 7.31s\n",
      "600:\tlearn: 33.2485313\ttotal: 8.73s\tremaining: 5.8s\n",
      "700:\tlearn: 31.4524571\ttotal: 10.2s\tremaining: 4.34s\n",
      "800:\tlearn: 29.8769368\ttotal: 11.6s\tremaining: 2.88s\n",
      "900:\tlearn: 28.4515596\ttotal: 13s\tremaining: 1.43s\n"
     ]
    },
    {
     "name": "stderr",
     "output_type": "stream",
     "text": [
      "[I 2023-11-06 18:05:51,378] Trial 27 finished with value: 57.13529571086957 and parameters: {'iterations': 549, 'learning_rate': 0.010070934380186062, 'depth': 10, 'colsample_bylevel': 0.09631034820233873, 'min_data_in_leaf': 82, 'l2_leaf_reg': 3, 'has-time': False, 'bagging_temperature': 0.7767111043302448, 'random_strength': 0.7321618508055132, 'border_count': 115, 'rsm': 0.16563198598360535, 'nan_mode': 'max'}. Best is trial 0 with value: 57.13529571086957.\n"
     ]
    },
    {
     "name": "stdout",
     "output_type": "stream",
     "text": [
      "999:\tlearn: 27.1911281\ttotal: 14.5s\tremaining: 0us\n",
      "Learning rate set to 0.067977\n",
      "0:\tlearn: 144.7226602\ttotal: 11.2ms\tremaining: 11.2s\n",
      "100:\tlearn: 48.8751720\ttotal: 1.65s\tremaining: 14.7s\n",
      "200:\tlearn: 44.2805167\ttotal: 3.12s\tremaining: 12.4s\n",
      "300:\tlearn: 40.4916540\ttotal: 4.52s\tremaining: 10.5s\n",
      "400:\tlearn: 37.6465227\ttotal: 5.68s\tremaining: 8.48s\n",
      "500:\tlearn: 35.3178136\ttotal: 7.08s\tremaining: 7.05s\n",
      "600:\tlearn: 33.2485313\ttotal: 8.61s\tremaining: 5.71s\n",
      "700:\tlearn: 31.4524571\ttotal: 9.79s\tremaining: 4.18s\n",
      "800:\tlearn: 29.8769368\ttotal: 11.8s\tremaining: 2.93s\n",
      "900:\tlearn: 28.4515596\ttotal: 13.4s\tremaining: 1.48s\n"
     ]
    },
    {
     "name": "stderr",
     "output_type": "stream",
     "text": [
      "[I 2023-11-06 18:06:06,938] Trial 28 finished with value: 57.13529571086957 and parameters: {'iterations': 872, 'learning_rate': 0.015202432468523095, 'depth': 6, 'colsample_bylevel': 0.13831460365332404, 'min_data_in_leaf': 72, 'l2_leaf_reg': 9, 'has-time': False, 'bagging_temperature': 0.631933658120292, 'random_strength': 0.6493715800196075, 'border_count': 4, 'rsm': 0.27176108129370835, 'nan_mode': 'min'}. Best is trial 0 with value: 57.13529571086957.\n"
     ]
    },
    {
     "name": "stdout",
     "output_type": "stream",
     "text": [
      "999:\tlearn: 27.1911281\ttotal: 15.2s\tremaining: 0us\n",
      "Learning rate set to 0.067977\n",
      "0:\tlearn: 144.7226602\ttotal: 46.1ms\tremaining: 46s\n",
      "100:\tlearn: 48.8751720\ttotal: 1.78s\tremaining: 15.8s\n",
      "200:\tlearn: 44.2805167\ttotal: 3.11s\tremaining: 12.4s\n",
      "300:\tlearn: 40.4916540\ttotal: 4.59s\tremaining: 10.7s\n",
      "400:\tlearn: 37.6465227\ttotal: 5.89s\tremaining: 8.8s\n",
      "500:\tlearn: 35.3178136\ttotal: 7.38s\tremaining: 7.35s\n",
      "600:\tlearn: 33.2485313\ttotal: 9.41s\tremaining: 6.25s\n",
      "700:\tlearn: 31.4524571\ttotal: 10.8s\tremaining: 4.59s\n",
      "800:\tlearn: 29.8769368\ttotal: 11.9s\tremaining: 2.96s\n",
      "900:\tlearn: 28.4515596\ttotal: 13.5s\tremaining: 1.48s\n"
     ]
    },
    {
     "name": "stderr",
     "output_type": "stream",
     "text": [
      "[I 2023-11-06 18:06:22,522] Trial 29 finished with value: 57.13529571086957 and parameters: {'iterations': 1159, 'learning_rate': 0.006230275810320136, 'depth': 12, 'colsample_bylevel': 0.3432599444067208, 'min_data_in_leaf': 57, 'l2_leaf_reg': 6, 'has-time': False, 'bagging_temperature': 0.9916437023367466, 'random_strength': 0.37017157601910033, 'border_count': 471, 'rsm': 0.0741628305394483, 'nan_mode': 'min'}. Best is trial 0 with value: 57.13529571086957.\n"
     ]
    },
    {
     "name": "stdout",
     "output_type": "stream",
     "text": [
      "999:\tlearn: 27.1911281\ttotal: 15.2s\tremaining: 0us\n",
      "Learning rate set to 0.067977\n",
      "0:\tlearn: 144.7226602\ttotal: 12.1ms\tremaining: 12.1s\n",
      "100:\tlearn: 48.8751720\ttotal: 1.51s\tremaining: 13.5s\n",
      "200:\tlearn: 44.2805167\ttotal: 2.99s\tremaining: 11.9s\n",
      "300:\tlearn: 40.4916540\ttotal: 4.47s\tremaining: 10.4s\n",
      "400:\tlearn: 37.6465227\ttotal: 5.71s\tremaining: 8.54s\n",
      "500:\tlearn: 35.3178136\ttotal: 7.11s\tremaining: 7.08s\n",
      "600:\tlearn: 33.2485313\ttotal: 8.24s\tremaining: 5.47s\n",
      "700:\tlearn: 31.4524571\ttotal: 9.84s\tremaining: 4.2s\n",
      "800:\tlearn: 29.8769368\ttotal: 11.4s\tremaining: 2.84s\n",
      "900:\tlearn: 28.4515596\ttotal: 13s\tremaining: 1.43s\n"
     ]
    },
    {
     "name": "stderr",
     "output_type": "stream",
     "text": [
      "[I 2023-11-06 18:06:37,340] Trial 30 finished with value: 57.13529571086957 and parameters: {'iterations': 2080, 'learning_rate': 0.004445924780438328, 'depth': 8, 'colsample_bylevel': 0.8416852089056598, 'min_data_in_leaf': 45, 'l2_leaf_reg': 7, 'has-time': False, 'bagging_temperature': 0.3012817708872557, 'random_strength': 0.3039880757083817, 'border_count': 431, 'rsm': 0.3650908509063143, 'nan_mode': 'max'}. Best is trial 0 with value: 57.13529571086957.\n"
     ]
    },
    {
     "name": "stdout",
     "output_type": "stream",
     "text": [
      "999:\tlearn: 27.1911281\ttotal: 14.5s\tremaining: 0us\n",
      "Learning rate set to 0.067977\n",
      "0:\tlearn: 144.7226602\ttotal: 28.5ms\tremaining: 28.5s\n",
      "100:\tlearn: 48.8751720\ttotal: 1.81s\tremaining: 16.1s\n",
      "200:\tlearn: 44.2805167\ttotal: 3.28s\tremaining: 13s\n",
      "300:\tlearn: 40.4916540\ttotal: 4.94s\tremaining: 11.5s\n",
      "400:\tlearn: 37.6465227\ttotal: 6.23s\tremaining: 9.3s\n",
      "500:\tlearn: 35.3178136\ttotal: 7.86s\tremaining: 7.83s\n",
      "600:\tlearn: 33.2485313\ttotal: 9.19s\tremaining: 6.1s\n",
      "700:\tlearn: 31.4524571\ttotal: 10.7s\tremaining: 4.55s\n",
      "800:\tlearn: 29.8769368\ttotal: 12.1s\tremaining: 3s\n",
      "900:\tlearn: 28.4515596\ttotal: 13.5s\tremaining: 1.48s\n"
     ]
    },
    {
     "name": "stderr",
     "output_type": "stream",
     "text": [
      "[I 2023-11-06 18:06:52,452] Trial 31 finished with value: 57.13529571086957 and parameters: {'iterations': 1091, 'learning_rate': 0.003388267195698712, 'depth': 4, 'colsample_bylevel': 0.8420797685897266, 'min_data_in_leaf': 95, 'l2_leaf_reg': 7, 'has-time': False, 'bagging_temperature': 0.973246015448632, 'random_strength': 0.31141259399060767, 'border_count': 278, 'rsm': 0.06366398877861222, 'nan_mode': 'min'}. Best is trial 0 with value: 57.13529571086957.\n"
     ]
    },
    {
     "name": "stdout",
     "output_type": "stream",
     "text": [
      "999:\tlearn: 27.1911281\ttotal: 14.8s\tremaining: 0us\n",
      "Learning rate set to 0.067977\n",
      "0:\tlearn: 144.7226602\ttotal: 11ms\tremaining: 11s\n",
      "100:\tlearn: 48.8751720\ttotal: 1.36s\tremaining: 12.2s\n",
      "200:\tlearn: 44.2805167\ttotal: 2.85s\tremaining: 11.3s\n",
      "300:\tlearn: 40.4916540\ttotal: 4.33s\tremaining: 10s\n",
      "400:\tlearn: 37.6465227\ttotal: 5.49s\tremaining: 8.2s\n",
      "500:\tlearn: 35.3178136\ttotal: 6.86s\tremaining: 6.83s\n",
      "600:\tlearn: 33.2485313\ttotal: 8.42s\tremaining: 5.59s\n",
      "700:\tlearn: 31.4524571\ttotal: 9.96s\tremaining: 4.25s\n",
      "800:\tlearn: 29.8769368\ttotal: 11.7s\tremaining: 2.9s\n",
      "900:\tlearn: 28.4515596\ttotal: 13.3s\tremaining: 1.46s\n"
     ]
    },
    {
     "name": "stderr",
     "output_type": "stream",
     "text": [
      "[I 2023-11-06 18:07:07,446] Trial 32 finished with value: 57.13529571086957 and parameters: {'iterations': 842, 'learning_rate': 0.0058635795862474775, 'depth': 3, 'colsample_bylevel': 0.6958976310609101, 'min_data_in_leaf': 52, 'l2_leaf_reg': 8, 'has-time': True, 'bagging_temperature': 0.8994643305858491, 'random_strength': 0.36194589298943686, 'border_count': 472, 'rsm': 0.16224362209320875, 'nan_mode': 'min'}. Best is trial 0 with value: 57.13529571086957.\n"
     ]
    },
    {
     "name": "stdout",
     "output_type": "stream",
     "text": [
      "999:\tlearn: 27.1911281\ttotal: 14.5s\tremaining: 0us\n",
      "Learning rate set to 0.067977\n",
      "0:\tlearn: 144.7226602\ttotal: 7.92ms\tremaining: 7.92s\n",
      "100:\tlearn: 48.8751720\ttotal: 1.23s\tremaining: 11s\n",
      "200:\tlearn: 44.2805167\ttotal: 2.46s\tremaining: 9.77s\n",
      "300:\tlearn: 40.4916540\ttotal: 4.41s\tremaining: 10.2s\n",
      "400:\tlearn: 37.6465227\ttotal: 6.02s\tremaining: 8.99s\n",
      "500:\tlearn: 35.3178136\ttotal: 7.26s\tremaining: 7.23s\n",
      "600:\tlearn: 33.2485313\ttotal: 8.88s\tremaining: 5.89s\n",
      "700:\tlearn: 31.4524571\ttotal: 10.5s\tremaining: 4.49s\n",
      "800:\tlearn: 29.8769368\ttotal: 12s\tremaining: 2.98s\n",
      "900:\tlearn: 28.4515596\ttotal: 13.4s\tremaining: 1.47s\n"
     ]
    },
    {
     "name": "stderr",
     "output_type": "stream",
     "text": [
      "[I 2023-11-06 18:07:22,674] Trial 33 finished with value: 57.13529571086957 and parameters: {'iterations': 523, 'learning_rate': 0.0026827639115464897, 'depth': 2, 'colsample_bylevel': 0.5685319339806111, 'min_data_in_leaf': 31, 'l2_leaf_reg': 5, 'has-time': False, 'bagging_temperature': 0.9959276681440283, 'random_strength': 0.4732372123992694, 'border_count': 328, 'rsm': 0.515268637259658, 'nan_mode': 'min'}. Best is trial 0 with value: 57.13529571086957.\n"
     ]
    },
    {
     "name": "stdout",
     "output_type": "stream",
     "text": [
      "999:\tlearn: 27.1911281\ttotal: 14.8s\tremaining: 0us\n",
      "Learning rate set to 0.067977\n",
      "0:\tlearn: 144.7226602\ttotal: 10.1ms\tremaining: 10.1s\n",
      "100:\tlearn: 48.8751720\ttotal: 1.62s\tremaining: 14.4s\n",
      "200:\tlearn: 44.2805167\ttotal: 3.19s\tremaining: 12.7s\n",
      "300:\tlearn: 40.4916540\ttotal: 4.51s\tremaining: 10.5s\n",
      "400:\tlearn: 37.6465227\ttotal: 5.79s\tremaining: 8.65s\n",
      "500:\tlearn: 35.3178136\ttotal: 7.04s\tremaining: 7.01s\n",
      "600:\tlearn: 33.2485313\ttotal: 8.33s\tremaining: 5.53s\n",
      "700:\tlearn: 31.4524571\ttotal: 9.49s\tremaining: 4.05s\n",
      "800:\tlearn: 29.8769368\ttotal: 11.2s\tremaining: 2.79s\n",
      "900:\tlearn: 28.4515596\ttotal: 13s\tremaining: 1.43s\n"
     ]
    },
    {
     "name": "stderr",
     "output_type": "stream",
     "text": [
      "[I 2023-11-06 18:07:37,478] Trial 34 finished with value: 57.13529571086957 and parameters: {'iterations': 1881, 'learning_rate': 0.008727938428142684, 'depth': 5, 'colsample_bylevel': 0.6563199020907975, 'min_data_in_leaf': 81, 'l2_leaf_reg': 6, 'has-time': True, 'bagging_temperature': 0.8987800908504535, 'random_strength': 0.3609165027272525, 'border_count': 60, 'rsm': 0.0483171135562723, 'nan_mode': 'min'}. Best is trial 0 with value: 57.13529571086957.\n"
     ]
    },
    {
     "name": "stdout",
     "output_type": "stream",
     "text": [
      "999:\tlearn: 27.1911281\ttotal: 14.5s\tremaining: 0us\n",
      "Learning rate set to 0.067977\n",
      "0:\tlearn: 144.7226602\ttotal: 11ms\tremaining: 11s\n",
      "100:\tlearn: 48.8751720\ttotal: 1.42s\tremaining: 12.7s\n",
      "200:\tlearn: 44.2805167\ttotal: 2.66s\tremaining: 10.6s\n",
      "300:\tlearn: 40.4916540\ttotal: 4.24s\tremaining: 9.85s\n",
      "400:\tlearn: 37.6465227\ttotal: 5.77s\tremaining: 8.62s\n",
      "500:\tlearn: 35.3178136\ttotal: 7.25s\tremaining: 7.22s\n",
      "600:\tlearn: 33.2485313\ttotal: 8.53s\tremaining: 5.66s\n",
      "700:\tlearn: 31.4524571\ttotal: 9.9s\tremaining: 4.22s\n",
      "800:\tlearn: 29.8769368\ttotal: 11.5s\tremaining: 2.85s\n",
      "900:\tlearn: 28.4515596\ttotal: 12.8s\tremaining: 1.41s\n"
     ]
    },
    {
     "name": "stderr",
     "output_type": "stream",
     "text": [
      "[I 2023-11-06 18:07:52,331] Trial 35 finished with value: 57.13529571086957 and parameters: {'iterations': 1426, 'learning_rate': 0.00201876504451169, 'depth': 13, 'colsample_bylevel': 0.8609989866412202, 'min_data_in_leaf': 36, 'l2_leaf_reg': 9, 'has-time': False, 'bagging_temperature': 0.9591573113329074, 'random_strength': 0.4086378487133092, 'border_count': 416, 'rsm': 0.242789761125907, 'nan_mode': 'min'}. Best is trial 0 with value: 57.13529571086957.\n"
     ]
    },
    {
     "name": "stdout",
     "output_type": "stream",
     "text": [
      "999:\tlearn: 27.1911281\ttotal: 14.5s\tremaining: 0us\n",
      "Learning rate set to 0.067977\n",
      "0:\tlearn: 144.7226602\ttotal: 30.3ms\tremaining: 30.2s\n",
      "100:\tlearn: 48.8751720\ttotal: 1.46s\tremaining: 13s\n",
      "200:\tlearn: 44.2805167\ttotal: 2.91s\tremaining: 11.6s\n",
      "300:\tlearn: 40.4916540\ttotal: 4.24s\tremaining: 9.84s\n",
      "400:\tlearn: 37.6465227\ttotal: 5.77s\tremaining: 8.62s\n",
      "500:\tlearn: 35.3178136\ttotal: 7.2s\tremaining: 7.17s\n",
      "600:\tlearn: 33.2485313\ttotal: 8.7s\tremaining: 5.78s\n",
      "700:\tlearn: 31.4524571\ttotal: 10.3s\tremaining: 4.41s\n",
      "800:\tlearn: 29.8769368\ttotal: 12.5s\tremaining: 3.11s\n",
      "900:\tlearn: 28.4515596\ttotal: 13.8s\tremaining: 1.52s\n"
     ]
    },
    {
     "name": "stderr",
     "output_type": "stream",
     "text": [
      "[I 2023-11-06 18:08:08,364] Trial 36 finished with value: 57.13529571086957 and parameters: {'iterations': 1710, 'learning_rate': 0.004408837142962644, 'depth': 4, 'colsample_bylevel': 0.2117979924637535, 'min_data_in_leaf': 5, 'l2_leaf_reg': 7, 'has-time': False, 'bagging_temperature': 0.5563769392686843, 'random_strength': 0.8808090355738852, 'border_count': 345, 'rsm': 0.013462692866315129, 'nan_mode': 'max'}. Best is trial 0 with value: 57.13529571086957.\n"
     ]
    },
    {
     "name": "stdout",
     "output_type": "stream",
     "text": [
      "999:\tlearn: 27.1911281\ttotal: 15.7s\tremaining: 0us\n",
      "Learning rate set to 0.067977\n",
      "0:\tlearn: 144.7226602\ttotal: 6.87ms\tremaining: 6.87s\n",
      "100:\tlearn: 48.8751720\ttotal: 1.82s\tremaining: 16.2s\n",
      "200:\tlearn: 44.2805167\ttotal: 3.41s\tremaining: 13.6s\n",
      "300:\tlearn: 40.4916540\ttotal: 4.72s\tremaining: 11s\n",
      "400:\tlearn: 37.6465227\ttotal: 6.1s\tremaining: 9.11s\n",
      "500:\tlearn: 35.3178136\ttotal: 7.68s\tremaining: 7.65s\n",
      "600:\tlearn: 33.2485313\ttotal: 8.86s\tremaining: 5.88s\n",
      "700:\tlearn: 31.4524571\ttotal: 10.6s\tremaining: 4.52s\n",
      "800:\tlearn: 29.8769368\ttotal: 11.8s\tremaining: 2.94s\n",
      "900:\tlearn: 28.4515596\ttotal: 13.1s\tremaining: 1.44s\n"
     ]
    },
    {
     "name": "stderr",
     "output_type": "stream",
     "text": [
      "[I 2023-11-06 18:08:23,253] Trial 37 finished with value: 57.13529571086957 and parameters: {'iterations': 1203, 'learning_rate': 0.0072297835152799255, 'depth': 11, 'colsample_bylevel': 0.9446286511745025, 'min_data_in_leaf': 68, 'l2_leaf_reg': 3, 'has-time': True, 'bagging_temperature': 0.5962437763619863, 'random_strength': 0.9391735330811957, 'border_count': 437, 'rsm': 0.14507213061287752, 'nan_mode': 'min'}. Best is trial 0 with value: 57.13529571086957.\n"
     ]
    },
    {
     "name": "stdout",
     "output_type": "stream",
     "text": [
      "999:\tlearn: 27.1911281\ttotal: 14.5s\tremaining: 0us\n",
      "Learning rate set to 0.067977\n",
      "0:\tlearn: 144.7226602\ttotal: 10.3ms\tremaining: 10.3s\n",
      "100:\tlearn: 48.8751720\ttotal: 1.43s\tremaining: 12.7s\n",
      "200:\tlearn: 44.2805167\ttotal: 3.04s\tremaining: 12.1s\n",
      "300:\tlearn: 40.4916540\ttotal: 4.28s\tremaining: 9.94s\n",
      "400:\tlearn: 37.6465227\ttotal: 5.63s\tremaining: 8.41s\n",
      "500:\tlearn: 35.3178136\ttotal: 7.16s\tremaining: 7.13s\n",
      "600:\tlearn: 33.2485313\ttotal: 8.59s\tremaining: 5.7s\n",
      "700:\tlearn: 31.4524571\ttotal: 10.1s\tremaining: 4.29s\n",
      "800:\tlearn: 29.8769368\ttotal: 11.4s\tremaining: 2.84s\n",
      "900:\tlearn: 28.4515596\ttotal: 12.8s\tremaining: 1.41s\n"
     ]
    },
    {
     "name": "stderr",
     "output_type": "stream",
     "text": [
      "[I 2023-11-06 18:08:38,142] Trial 38 finished with value: 57.13529571086957 and parameters: {'iterations': 1757, 'learning_rate': 0.010950565878793322, 'depth': 7, 'colsample_bylevel': 0.6249375356314394, 'min_data_in_leaf': 19, 'l2_leaf_reg': 5, 'has-time': False, 'bagging_temperature': 0.8091277267058428, 'random_strength': 0.538058012676047, 'border_count': 403, 'rsm': 0.06854195155270071, 'nan_mode': 'max'}. Best is trial 0 with value: 57.13529571086957.\n"
     ]
    },
    {
     "name": "stdout",
     "output_type": "stream",
     "text": [
      "999:\tlearn: 27.1911281\ttotal: 14.5s\tremaining: 0us\n",
      "Learning rate set to 0.067977\n",
      "0:\tlearn: 144.7226602\ttotal: 14ms\tremaining: 13.9s\n",
      "100:\tlearn: 48.8751720\ttotal: 1.37s\tremaining: 12.2s\n",
      "200:\tlearn: 44.2805167\ttotal: 2.77s\tremaining: 11s\n",
      "300:\tlearn: 40.4916540\ttotal: 4.05s\tremaining: 9.42s\n",
      "400:\tlearn: 37.6465227\ttotal: 5.57s\tremaining: 8.31s\n",
      "500:\tlearn: 35.3178136\ttotal: 6.72s\tremaining: 6.7s\n",
      "600:\tlearn: 33.2485313\ttotal: 8.2s\tremaining: 5.44s\n",
      "700:\tlearn: 31.4524571\ttotal: 9.29s\tremaining: 3.96s\n",
      "800:\tlearn: 29.8769368\ttotal: 10.9s\tremaining: 2.69s\n",
      "900:\tlearn: 28.4515596\ttotal: 12.1s\tremaining: 1.32s\n"
     ]
    },
    {
     "name": "stderr",
     "output_type": "stream",
     "text": [
      "[I 2023-11-06 18:08:52,053] Trial 39 finished with value: 57.13529571086957 and parameters: {'iterations': 352, 'learning_rate': 0.002980710228205944, 'depth': 7, 'colsample_bylevel': 0.32031020436259106, 'min_data_in_leaf': 12, 'l2_leaf_reg': 4, 'has-time': False, 'bagging_temperature': 0.7286209366634745, 'random_strength': 0.8134870432015232, 'border_count': 274, 'rsm': 0.2027248723067484, 'nan_mode': 'min'}. Best is trial 0 with value: 57.13529571086957.\n"
     ]
    },
    {
     "name": "stdout",
     "output_type": "stream",
     "text": [
      "999:\tlearn: 27.1911281\ttotal: 13.6s\tremaining: 0us\n",
      "Learning rate set to 0.067977\n",
      "0:\tlearn: 144.7226602\ttotal: 6.57ms\tremaining: 6.56s\n",
      "100:\tlearn: 48.8751720\ttotal: 1.35s\tremaining: 12.1s\n",
      "200:\tlearn: 44.2805167\ttotal: 2.99s\tremaining: 11.9s\n",
      "300:\tlearn: 40.4916540\ttotal: 4.37s\tremaining: 10.2s\n",
      "400:\tlearn: 37.6465227\ttotal: 5.76s\tremaining: 8.61s\n",
      "500:\tlearn: 35.3178136\ttotal: 7.14s\tremaining: 7.11s\n",
      "600:\tlearn: 33.2485313\ttotal: 8.71s\tremaining: 5.78s\n",
      "700:\tlearn: 31.4524571\ttotal: 10.7s\tremaining: 4.55s\n",
      "800:\tlearn: 29.8769368\ttotal: 12.1s\tremaining: 3s\n",
      "900:\tlearn: 28.4515596\ttotal: 13.4s\tremaining: 1.47s\n"
     ]
    },
    {
     "name": "stderr",
     "output_type": "stream",
     "text": [
      "[I 2023-11-06 18:09:06,857] Trial 40 finished with value: 57.13529571086957 and parameters: {'iterations': 1434, 'learning_rate': 0.008535132887277532, 'depth': 9, 'colsample_bylevel': 0.44127512913699696, 'min_data_in_leaf': 27, 'l2_leaf_reg': 6, 'has-time': False, 'bagging_temperature': 0.9572257668777127, 'random_strength': 0.7870177727994062, 'border_count': 490, 'rsm': 0.2572341635992904, 'nan_mode': 'max'}. Best is trial 0 with value: 57.13529571086957.\n"
     ]
    },
    {
     "name": "stdout",
     "output_type": "stream",
     "text": [
      "999:\tlearn: 27.1911281\ttotal: 14.5s\tremaining: 0us\n",
      "Learning rate set to 0.067977\n",
      "0:\tlearn: 144.7226602\ttotal: 15.5ms\tremaining: 15.5s\n",
      "100:\tlearn: 48.8751720\ttotal: 1.41s\tremaining: 12.6s\n",
      "200:\tlearn: 44.2805167\ttotal: 2.85s\tremaining: 11.3s\n",
      "300:\tlearn: 40.4916540\ttotal: 4.25s\tremaining: 9.87s\n",
      "400:\tlearn: 37.6465227\ttotal: 5.49s\tremaining: 8.2s\n",
      "500:\tlearn: 35.3178136\ttotal: 6.95s\tremaining: 6.92s\n",
      "600:\tlearn: 33.2485313\ttotal: 8.23s\tremaining: 5.46s\n",
      "700:\tlearn: 31.4524571\ttotal: 9.95s\tremaining: 4.24s\n",
      "800:\tlearn: 29.8769368\ttotal: 11.2s\tremaining: 2.79s\n",
      "900:\tlearn: 28.4515596\ttotal: 12.9s\tremaining: 1.42s\n"
     ]
    },
    {
     "name": "stderr",
     "output_type": "stream",
     "text": [
      "[I 2023-11-06 18:09:21,792] Trial 41 finished with value: 57.13529571086957 and parameters: {'iterations': 1008, 'learning_rate': 0.002570630430468372, 'depth': 2, 'colsample_bylevel': 0.2947660077274084, 'min_data_in_leaf': 99, 'l2_leaf_reg': 10, 'has-time': True, 'bagging_temperature': 0.7498214495933285, 'random_strength': 0.8414810388535496, 'border_count': 206, 'rsm': 0.4146780445249801, 'nan_mode': 'min'}. Best is trial 0 with value: 57.13529571086957.\n"
     ]
    },
    {
     "name": "stdout",
     "output_type": "stream",
     "text": [
      "999:\tlearn: 27.1911281\ttotal: 14.6s\tremaining: 0us\n",
      "Learning rate set to 0.067977\n",
      "0:\tlearn: 144.7226602\ttotal: 16.1ms\tremaining: 16s\n",
      "100:\tlearn: 48.8751720\ttotal: 1.33s\tremaining: 11.8s\n",
      "200:\tlearn: 44.2805167\ttotal: 2.92s\tremaining: 11.6s\n",
      "300:\tlearn: 40.4916540\ttotal: 4.65s\tremaining: 10.8s\n",
      "400:\tlearn: 37.6465227\ttotal: 6.01s\tremaining: 8.98s\n",
      "500:\tlearn: 35.3178136\ttotal: 7.34s\tremaining: 7.31s\n",
      "600:\tlearn: 33.2485313\ttotal: 9s\tremaining: 5.97s\n",
      "700:\tlearn: 31.4524571\ttotal: 10.3s\tremaining: 4.39s\n",
      "800:\tlearn: 29.8769368\ttotal: 11.8s\tremaining: 2.92s\n",
      "900:\tlearn: 28.4515596\ttotal: 13.2s\tremaining: 1.45s\n"
     ]
    },
    {
     "name": "stderr",
     "output_type": "stream",
     "text": [
      "[I 2023-11-06 18:09:36,897] Trial 42 finished with value: 57.13529571086957 and parameters: {'iterations': 708, 'learning_rate': 0.0021887680736419435, 'depth': 1, 'colsample_bylevel': 0.22770230124907154, 'min_data_in_leaf': 88, 'l2_leaf_reg': 10, 'has-time': True, 'bagging_temperature': 0.6852477870034853, 'random_strength': 0.9121644760539159, 'border_count': 304, 'rsm': 0.5747733636445306, 'nan_mode': 'min'}. Best is trial 0 with value: 57.13529571086957.\n"
     ]
    },
    {
     "name": "stdout",
     "output_type": "stream",
     "text": [
      "999:\tlearn: 27.1911281\ttotal: 14.7s\tremaining: 0us\n",
      "Learning rate set to 0.067977\n",
      "0:\tlearn: 144.7226602\ttotal: 7.57ms\tremaining: 7.56s\n",
      "100:\tlearn: 48.8751720\ttotal: 1.36s\tremaining: 12.1s\n",
      "200:\tlearn: 44.2805167\ttotal: 2.62s\tremaining: 10.4s\n",
      "300:\tlearn: 40.4916540\ttotal: 3.8s\tremaining: 8.83s\n",
      "400:\tlearn: 37.6465227\ttotal: 5.13s\tremaining: 7.67s\n",
      "500:\tlearn: 35.3178136\ttotal: 6.36s\tremaining: 6.33s\n",
      "600:\tlearn: 33.2485313\ttotal: 7.81s\tremaining: 5.19s\n",
      "700:\tlearn: 31.4524571\ttotal: 9.43s\tremaining: 4.02s\n",
      "800:\tlearn: 29.8769368\ttotal: 10.9s\tremaining: 2.71s\n",
      "900:\tlearn: 28.4515596\ttotal: 12.5s\tremaining: 1.38s\n"
     ]
    },
    {
     "name": "stderr",
     "output_type": "stream",
     "text": [
      "[I 2023-11-06 18:09:51,330] Trial 43 finished with value: 57.13529571086957 and parameters: {'iterations': 858, 'learning_rate': 0.0038251426504527664, 'depth': 1, 'colsample_bylevel': 0.15769306835316188, 'min_data_in_leaf': 97, 'l2_leaf_reg': 2, 'has-time': True, 'bagging_temperature': 0.6266784946483221, 'random_strength': 0.956591635517644, 'border_count': 252, 'rsm': 0.6925683913817265, 'nan_mode': 'min'}. Best is trial 0 with value: 57.13529571086957.\n"
     ]
    },
    {
     "name": "stdout",
     "output_type": "stream",
     "text": [
      "999:\tlearn: 27.1911281\ttotal: 14.1s\tremaining: 0us\n",
      "Learning rate set to 0.067977\n",
      "0:\tlearn: 144.7226602\ttotal: 26.6ms\tremaining: 26.6s\n",
      "100:\tlearn: 48.8751720\ttotal: 1.4s\tremaining: 12.4s\n",
      "200:\tlearn: 44.2805167\ttotal: 2.57s\tremaining: 10.2s\n",
      "300:\tlearn: 40.4916540\ttotal: 4.07s\tremaining: 9.44s\n",
      "400:\tlearn: 37.6465227\ttotal: 5.43s\tremaining: 8.11s\n",
      "500:\tlearn: 35.3178136\ttotal: 7.04s\tremaining: 7.01s\n",
      "600:\tlearn: 33.2485313\ttotal: 8.54s\tremaining: 5.67s\n",
      "700:\tlearn: 31.4524571\ttotal: 10.1s\tremaining: 4.29s\n",
      "800:\tlearn: 29.8769368\ttotal: 12.2s\tremaining: 3.02s\n",
      "900:\tlearn: 28.4515596\ttotal: 14.3s\tremaining: 1.57s\n"
     ]
    },
    {
     "name": "stderr",
     "output_type": "stream",
     "text": [
      "[I 2023-11-06 18:10:07,177] Trial 44 finished with value: 57.13529571086957 and parameters: {'iterations': 1284, 'learning_rate': 0.005430569126333081, 'depth': 2, 'colsample_bylevel': 0.16652812363952663, 'min_data_in_leaf': 91, 'l2_leaf_reg': 8, 'has-time': True, 'bagging_temperature': 0.9292531608237975, 'random_strength': 0.8557592538491485, 'border_count': 387, 'rsm': 0.4724814909432723, 'nan_mode': 'min'}. Best is trial 0 with value: 57.13529571086957.\n"
     ]
    },
    {
     "name": "stdout",
     "output_type": "stream",
     "text": [
      "999:\tlearn: 27.1911281\ttotal: 15.4s\tremaining: 0us\n",
      "Learning rate set to 0.067977\n",
      "0:\tlearn: 144.7226602\ttotal: 12.6ms\tremaining: 12.6s\n",
      "100:\tlearn: 48.8751720\ttotal: 1.41s\tremaining: 12.5s\n",
      "200:\tlearn: 44.2805167\ttotal: 2.75s\tremaining: 11s\n",
      "300:\tlearn: 40.4916540\ttotal: 3.99s\tremaining: 9.27s\n",
      "400:\tlearn: 37.6465227\ttotal: 5.23s\tremaining: 7.81s\n",
      "500:\tlearn: 35.3178136\ttotal: 6.83s\tremaining: 6.8s\n",
      "600:\tlearn: 33.2485313\ttotal: 8.38s\tremaining: 5.57s\n",
      "700:\tlearn: 31.4524571\ttotal: 9.69s\tremaining: 4.13s\n",
      "800:\tlearn: 29.8769368\ttotal: 11.3s\tremaining: 2.81s\n",
      "900:\tlearn: 28.4515596\ttotal: 12.6s\tremaining: 1.39s\n"
     ]
    },
    {
     "name": "stderr",
     "output_type": "stream",
     "text": [
      "[I 2023-11-06 18:10:21,629] Trial 45 finished with value: 57.13529571086957 and parameters: {'iterations': 559, 'learning_rate': 0.001690718732438397, 'depth': 4, 'colsample_bylevel': 0.26830356990996906, 'min_data_in_leaf': 79, 'l2_leaf_reg': 5, 'has-time': True, 'bagging_temperature': 0.8689130613364926, 'random_strength': 0.7841308851742245, 'border_count': 453, 'rsm': 0.19371256629588798, 'nan_mode': 'min'}. Best is trial 0 with value: 57.13529571086957.\n"
     ]
    },
    {
     "name": "stdout",
     "output_type": "stream",
     "text": [
      "999:\tlearn: 27.1911281\ttotal: 14.1s\tremaining: 0us\n",
      "Learning rate set to 0.067977\n",
      "0:\tlearn: 144.7226602\ttotal: 17.1ms\tremaining: 17.1s\n",
      "100:\tlearn: 48.8751720\ttotal: 2.15s\tremaining: 19.1s\n",
      "200:\tlearn: 44.2805167\ttotal: 3.46s\tremaining: 13.8s\n",
      "300:\tlearn: 40.4916540\ttotal: 5.04s\tremaining: 11.7s\n",
      "400:\tlearn: 37.6465227\ttotal: 6.23s\tremaining: 9.3s\n",
      "500:\tlearn: 35.3178136\ttotal: 7.28s\tremaining: 7.25s\n",
      "600:\tlearn: 33.2485313\ttotal: 8.57s\tremaining: 5.69s\n",
      "700:\tlearn: 31.4524571\ttotal: 9.96s\tremaining: 4.25s\n",
      "800:\tlearn: 29.8769368\ttotal: 11.4s\tremaining: 2.83s\n",
      "900:\tlearn: 28.4515596\ttotal: 12.8s\tremaining: 1.4s\n"
     ]
    },
    {
     "name": "stderr",
     "output_type": "stream",
     "text": [
      "[I 2023-11-06 18:10:35,979] Trial 46 finished with value: 57.13529571086957 and parameters: {'iterations': 449, 'learning_rate': 0.003237205042969825, 'depth': 6, 'colsample_bylevel': 0.2605900669195717, 'min_data_in_leaf': 42, 'l2_leaf_reg': 9, 'has-time': False, 'bagging_temperature': 0.5640136997403153, 'random_strength': 0.7106396736416456, 'border_count': 138, 'rsm': 0.12860379609572029, 'nan_mode': 'min'}. Best is trial 0 with value: 57.13529571086957.\n"
     ]
    },
    {
     "name": "stdout",
     "output_type": "stream",
     "text": [
      "999:\tlearn: 27.1911281\ttotal: 14s\tremaining: 0us\n",
      "Learning rate set to 0.067977\n",
      "0:\tlearn: 144.7226602\ttotal: 7.36ms\tremaining: 7.36s\n",
      "100:\tlearn: 48.8751720\ttotal: 1.49s\tremaining: 13.3s\n",
      "200:\tlearn: 44.2805167\ttotal: 3.02s\tremaining: 12s\n",
      "300:\tlearn: 40.4916540\ttotal: 4.45s\tremaining: 10.3s\n",
      "400:\tlearn: 37.6465227\ttotal: 5.76s\tremaining: 8.61s\n",
      "500:\tlearn: 35.3178136\ttotal: 7.19s\tremaining: 7.16s\n",
      "600:\tlearn: 33.2485313\ttotal: 8.5s\tremaining: 5.64s\n",
      "700:\tlearn: 31.4524571\ttotal: 10s\tremaining: 4.27s\n",
      "800:\tlearn: 29.8769368\ttotal: 11.2s\tremaining: 2.79s\n",
      "900:\tlearn: 28.4515596\ttotal: 12.5s\tremaining: 1.38s\n"
     ]
    },
    {
     "name": "stderr",
     "output_type": "stream",
     "text": [
      "[I 2023-11-06 18:10:50,365] Trial 47 finished with value: 57.13529571086957 and parameters: {'iterations': 2319, 'learning_rate': 0.004881368010330271, 'depth': 7, 'colsample_bylevel': 0.48098461241209334, 'min_data_in_leaf': 85, 'l2_leaf_reg': 8, 'has-time': False, 'bagging_temperature': 0.8257124945091661, 'random_strength': 0.9969605483747092, 'border_count': 489, 'rsm': 0.3616955106875346, 'nan_mode': 'max'}. Best is trial 0 with value: 57.13529571086957.\n"
     ]
    },
    {
     "name": "stdout",
     "output_type": "stream",
     "text": [
      "999:\tlearn: 27.1911281\ttotal: 14s\tremaining: 0us\n",
      "Learning rate set to 0.067977\n",
      "0:\tlearn: 144.7226602\ttotal: 16.7ms\tremaining: 16.7s\n",
      "100:\tlearn: 48.8751720\ttotal: 1.51s\tremaining: 13.4s\n",
      "200:\tlearn: 44.2805167\ttotal: 3.07s\tremaining: 12.2s\n",
      "300:\tlearn: 40.4916540\ttotal: 4.48s\tremaining: 10.4s\n",
      "400:\tlearn: 37.6465227\ttotal: 5.8s\tremaining: 8.67s\n",
      "500:\tlearn: 35.3178136\ttotal: 7.19s\tremaining: 7.16s\n",
      "600:\tlearn: 33.2485313\ttotal: 8.72s\tremaining: 5.79s\n",
      "700:\tlearn: 31.4524571\ttotal: 10.2s\tremaining: 4.34s\n",
      "800:\tlearn: 29.8769368\ttotal: 12.1s\tremaining: 3s\n",
      "900:\tlearn: 28.4515596\ttotal: 13.9s\tremaining: 1.53s\n"
     ]
    },
    {
     "name": "stderr",
     "output_type": "stream",
     "text": [
      "[I 2023-11-06 18:11:06,143] Trial 48 finished with value: 57.13529571086957 and parameters: {'iterations': 2006, 'learning_rate': 0.006449403884904169, 'depth': 3, 'colsample_bylevel': 0.7144627774832883, 'min_data_in_leaf': 63, 'l2_leaf_reg': 4, 'has-time': True, 'bagging_temperature': 0.7166573404636816, 'random_strength': 0.5910606193573895, 'border_count': 58, 'rsm': 0.004277819372742242, 'nan_mode': 'min'}. Best is trial 0 with value: 57.13529571086957.\n"
     ]
    },
    {
     "name": "stdout",
     "output_type": "stream",
     "text": [
      "999:\tlearn: 27.1911281\ttotal: 15.4s\tremaining: 0us\n",
      "Learning rate set to 0.067977\n",
      "0:\tlearn: 144.7226602\ttotal: 9.29ms\tremaining: 9.28s\n",
      "100:\tlearn: 48.8751720\ttotal: 1.47s\tremaining: 13.1s\n",
      "200:\tlearn: 44.2805167\ttotal: 2.68s\tremaining: 10.7s\n",
      "300:\tlearn: 40.4916540\ttotal: 4.14s\tremaining: 9.62s\n",
      "400:\tlearn: 37.6465227\ttotal: 5.63s\tremaining: 8.4s\n",
      "500:\tlearn: 35.3178136\ttotal: 7.04s\tremaining: 7.01s\n",
      "600:\tlearn: 33.2485313\ttotal: 8.42s\tremaining: 5.59s\n",
      "700:\tlearn: 31.4524571\ttotal: 9.69s\tremaining: 4.13s\n",
      "800:\tlearn: 29.8769368\ttotal: 11.2s\tremaining: 2.78s\n",
      "900:\tlearn: 28.4515596\ttotal: 12.7s\tremaining: 1.4s\n"
     ]
    },
    {
     "name": "stderr",
     "output_type": "stream",
     "text": [
      "[I 2023-11-06 18:11:20,737] Trial 49 finished with value: 57.13529571086957 and parameters: {'iterations': 760, 'learning_rate': 0.004114539475330209, 'depth': 9, 'colsample_bylevel': 0.790281097901268, 'min_data_in_leaf': 1, 'l2_leaf_reg': 6, 'has-time': False, 'bagging_temperature': 0.668237176696713, 'random_strength': 0.9143655814845666, 'border_count': 370, 'rsm': 0.041889243901372, 'nan_mode': 'max'}. Best is trial 0 with value: 57.13529571086957.\n"
     ]
    },
    {
     "name": "stdout",
     "output_type": "stream",
     "text": [
      "999:\tlearn: 27.1911281\ttotal: 14.2s\tremaining: 0us\n"
     ]
    }
   ],
   "source": [
    "#For location A\n",
    "def objective(trial, X_train, y_train):\n",
    "    params = {\n",
    "        \"iterations\": trial.suggest_int(\"iterations\", 300, 3000),\n",
    "        \"learning_rate\": trial.suggest_float(\"learning_rate\", 1e-3, 0.1, log=True),\n",
    "        \"depth\": trial.suggest_int(\"depth\", 1, 13),\n",
    "        \"colsample_bylevel\": trial.suggest_float(\"colsample_bylevel\", 0.05, 1.0),\n",
    "        \"min_data_in_leaf\": trial.suggest_int(\"min_data_in_leaf\", 1, 100),\n",
    "        \"l2_leaf_reg\": trial.suggest_int(\"l2_leaf_reg\", 2, 10),\n",
    "        \"has-time\": trial.suggest_categorical('has-time', [True, False]),\n",
    "        \"bagging_temperature\": trial.suggest_float(\"bagging_temperature\", 0.3, 1.0),\n",
    "        \"random_strength\": trial.suggest_float(\"random_strength\", 0.3, 1.0),\n",
    "        \"random_state\": 2,\n",
    "        \"border_count\": trial.suggest_int(\"border_count\", 1, 500),\n",
    "        \"rsm\": trial.suggest_float(\"rsm\", 0.001, 1),\n",
    "        \"nan_mode\": trial.suggest_categorical(\"nan_mode\", [\"min\", \"max\"])\n",
    "    }\n",
    "\n",
    "    catboost_model_a = CatBoostRegressor(verbose=100)\n",
    "    catboost_model_a.fit(train_pool_c)\n",
    "    pred_c = pd.DataFrame(catboost_model_a.predict(test_pool_c))\n",
    "    MAE_a = mean_absolute_error(y_test_c, pred_c)\n",
    "    return MAE_a\n",
    "\n",
    "study = optuna.create_study(direction='minimize')\n",
    "study.optimize(lambda trial: objective(trial, X_train, y_train), n_trials=50)"
   ]
  },
  {
   "cell_type": "code",
   "execution_count": 7,
   "metadata": {},
   "outputs": [
    {
     "name": "stdout",
     "output_type": "stream",
     "text": [
      "{'iterations': 2004, 'learning_rate': 0.016429110886618033, 'depth': 8, 'colsample_bylevel': 0.7338575760364532, 'min_data_in_leaf': 90, 'l2_leaf_reg': 5, 'has-time': False, 'bagging_temperature': 0.6414768311294344, 'random_strength': 0.4206698081688342, 'border_count': 487, 'rsm': 0.012360675671015169, 'nan_mode': 'min'}\n",
      "57.13529571086957\n"
     ]
    }
   ],
   "source": [
    "#to output the best paramaters\n",
    "print(study.best_params)\n",
    "\n",
    "#to output the best score returned from the trials\n",
    "print(study.best_value)\n",
    "\n",
    "with open(\"optuna-best-parameters_c.txt\", \"w\") as file:\n",
    "    file.write(\"Best paramaters: \\n\")\n",
    "    file.write(json.dumps(study.best_params))  # Write the first string followed by a newline character\n",
    "    file.write(\"\\n\")\n",
    "    file.write(\"best score MAE: \\n\")\n",
    "    file.write(json.dumps(study.best_value))  # Write the second string followed by a newline character"
   ]
  },
  {
   "cell_type": "code",
   "execution_count": null,
   "metadata": {},
   "outputs": [],
   "source": []
  }
 ],
 "metadata": {
  "environment": {
   "kernel": "python3",
   "name": "common-cpu.m112",
   "type": "gcloud",
   "uri": "gcr.io/deeplearning-platform-release/base-cpu:m112"
  },
  "kernelspec": {
   "display_name": "Python 3",
   "language": "python",
   "name": "python3"
  },
  "language_info": {
   "codemirror_mode": {
    "name": "ipython",
    "version": 3
   },
   "file_extension": ".py",
   "mimetype": "text/x-python",
   "name": "python",
   "nbconvert_exporter": "python",
   "pygments_lexer": "ipython3",
   "version": "3.10.12"
  }
 },
 "nbformat": 4,
 "nbformat_minor": 4
}
