{
 "cells": [
  {
   "cell_type": "code",
   "execution_count": 1,
   "metadata": {},
   "outputs": [],
   "source": [
    "import pandas as pd\n",
    "import numpy as np\n",
    "from catboost import Pool, CatBoostRegressor\n",
    "from sklearn.model_selection import cross_val_score\n",
    "from sklearn.model_selection import TimeSeriesSplit \n",
    "import optuna \n",
    "import json\n",
    "from sklearn.metrics import mean_absolute_error"
   ]
  },
  {
   "cell_type": "code",
   "execution_count": 2,
   "metadata": {},
   "outputs": [],
   "source": [
    "#Load inn datasets\n",
    "X_test  = pd.read_parquet('../data/prepared_datasets/avg/no_duplicates/X_test.parquet')\n",
    "X_train = pd.read_parquet('../data/prepared_datasets/avg/no_duplicates/X_train.parquet')\n",
    "y_train = pd.read_parquet('../data/prepared_datasets/avg/no_duplicates/Y_train.parquet')\n",
    "y_train_a = pd.read_parquet('../data/prepared_datasets/avg/no_duplicates/Y_train_a.parquet')\n",
    "y_train_b = pd.read_parquet('../data/prepared_datasets/avg/no_duplicates/Y_train_b.parquet')\n",
    "y_train_c = pd.read_parquet('../data/prepared_datasets/avg/no_duplicates/Y_train_c.parquet')"
   ]
  },
  {
   "cell_type": "code",
   "execution_count": 3,
   "metadata": {},
   "outputs": [],
   "source": [
    "def test_train_split(df):\n",
    "    dates_2 = (df.index >= '2023-04-01') & (df.index <= '2023-04-15')\n",
    "    dates_1 = (df.index >= '2021-05-01') & (df.index <= '2021-08-01')\n",
    "\n",
    "    test_set = df[dates_1 | dates_2]\n",
    "\n",
    "    training_set = df[~(dates_1 | dates_2)]\n",
    "\n",
    "    X_train = training_set.drop(\"pv_measurement\", axis=1)\n",
    "    y_train = training_set['pv_measurement']\n",
    "\n",
    "    X_test = test_set.drop(\"pv_measurement\", axis=1)\n",
    "    y_test = test_set['pv_measurement'] \n",
    "\n",
    "    \n",
    "    \n",
    "    return X_train, X_test, y_train, y_test\n",
    "\n",
    "X_train_new_b, X_test_new_b, y_train_new_b, y_test_b = test_train_split(pd.concat([X_train[X_train[\"location\"] == \"B\"].drop(\"location\", axis=1), y_train_b], axis=1))"
   ]
  },
  {
   "cell_type": "code",
   "execution_count": 4,
   "metadata": {},
   "outputs": [],
   "source": [
    "#Create a pool of data\n",
    "train_pool_b = Pool(X_train_new_b, y_train_new_b)\n",
    "\n",
    "test_pool_b = Pool(X_test_new_b) "
   ]
  },
  {
   "cell_type": "code",
   "execution_count": 5,
   "metadata": {},
   "outputs": [
    {
     "name": "stderr",
     "output_type": "stream",
     "text": [
      "[I 2023-11-11 09:29:07,100] A new study created in memory with name: no-name-355a4b7c-78e3-4ce1-b5dd-63e5061a5a50\n"
     ]
    },
    {
     "name": "stdout",
     "output_type": "stream",
     "text": [
      "0:\tlearn: 79.2382445\ttotal: 74ms\tremaining: 2m 11s\n",
      "300:\tlearn: 44.3742865\ttotal: 8.48s\tremaining: 41.7s\n",
      "600:\tlearn: 30.7834734\ttotal: 17.7s\tremaining: 34.8s\n",
      "900:\tlearn: 26.2701912\ttotal: 26.9s\tremaining: 26.3s\n",
      "1200:\tlearn: 24.5600678\ttotal: 36.4s\tremaining: 17.6s\n",
      "1500:\tlearn: 23.8302484\ttotal: 45.9s\tremaining: 8.55s\n"
     ]
    },
    {
     "name": "stderr",
     "output_type": "stream",
     "text": [
      "[I 2023-11-11 09:30:02,000] Trial 0 finished with value: 64.68143998688977 and parameters: {'iterations': 1781, 'learning_rate': 0.00316305288984533, 'depth': 7, 'min_data_in_leaf': 87, 'l2_leaf_reg': 8, 'bagging_temperature': 0.6365952101833992, 'random_strength': 0.41199889300071607, 'border_count': 661, 'rsm': 0.7822835898455944}. Best is trial 0 with value: 64.68143998688977.\n"
     ]
    },
    {
     "name": "stdout",
     "output_type": "stream",
     "text": [
      "1780:\tlearn: 23.3691317\ttotal: 54.6s\tremaining: 0us\n",
      "0:\tlearn: 76.4029604\ttotal: 158ms\tremaining: 2m 39s\n",
      "300:\tlearn: 5.1958071\ttotal: 44.3s\tremaining: 1m 44s\n",
      "600:\tlearn: 1.6987951\ttotal: 1m 27s\tremaining: 60s\n",
      "900:\tlearn: 0.7310776\ttotal: 2m 15s\tremaining: 16.7s\n",
      "300:\tlearn: 15.3074351\ttotal: 25.9s\tremaining: 58.2s\n",
      "600:\tlearn: 9.6984728\ttotal: 52s\tremaining: 32.6s\n",
      "900:\tlearn: 6.8505228\ttotal: 1m 18s\tremaining: 6.71s\n",
      "977:\tlearn: 6.3289259\ttotal: 1m 25s\tremaining: 0us\n"
     ]
    },
    {
     "name": "stderr",
     "output_type": "stream",
     "text": [
      "[I 2023-11-11 09:34:01,111] Trial 2 finished with value: 66.83657703909519 and parameters: {'iterations': 978, 'learning_rate': 0.03163956523997024, 'depth': 12, 'min_data_in_leaf': 89, 'l2_leaf_reg': 9, 'bagging_temperature': 0.8691211860181103, 'random_strength': 0.9455785452956014, 'border_count': 436, 'rsm': 0.322807769113986}. Best is trial 0 with value: 64.68143998688977.\n"
     ]
    },
    {
     "name": "stdout",
     "output_type": "stream",
     "text": [
      "0:\tlearn: 79.2177806\ttotal: 22ms\tremaining: 47.2s\n",
      "300:\tlearn: 45.9115461\ttotal: 6.21s\tremaining: 38s\n",
      "600:\tlearn: 33.0799206\ttotal: 12.5s\tremaining: 32.1s\n",
      "900:\tlearn: 29.0323227\ttotal: 19s\tremaining: 26.3s\n",
      "1200:\tlearn: 27.6339080\ttotal: 25.6s\tremaining: 20.1s\n",
      "1500:\tlearn: 26.9863624\ttotal: 32s\tremaining: 13.7s\n",
      "1800:\tlearn: 26.5317406\ttotal: 38.5s\tremaining: 7.35s\n",
      "2100:\tlearn: 26.2303840\ttotal: 45.1s\tremaining: 944ms\n"
     ]
    },
    {
     "name": "stderr",
     "output_type": "stream",
     "text": [
      "[I 2023-11-11 09:34:47,448] Trial 3 finished with value: 68.24821636099507 and parameters: {'iterations': 2145, 'learning_rate': 0.0035137828870221697, 'depth': 4, 'min_data_in_leaf': 86, 'l2_leaf_reg': 4, 'bagging_temperature': 0.9254448402590592, 'random_strength': 0.4994600710116417, 'border_count': 877, 'rsm': 0.14227739649744933}. Best is trial 0 with value: 64.68143998688977.\n"
     ]
    },
    {
     "name": "stdout",
     "output_type": "stream",
     "text": [
      "2144:\tlearn: 26.1929521\ttotal: 46s\tremaining: 0us\n",
      "0:\tlearn: 79.2629027\ttotal: 59.7ms\tremaining: 2m 23s\n",
      "300:\tlearn: 57.7086783\ttotal: 17.8s\tremaining: 2m 4s\n",
      "600:\tlearn: 43.1464687\ttotal: 35.3s\tremaining: 1m 46s\n",
      "900:\tlearn: 34.4092643\ttotal: 52.8s\tremaining: 1m 28s\n",
      "1200:\tlearn: 29.6511604\ttotal: 1m 10s\tremaining: 1m 10s\n",
      "1500:\tlearn: 26.8586551\ttotal: 1m 28s\tremaining: 53.1s\n",
      "1800:\tlearn: 25.1180297\ttotal: 1m 45s\tremaining: 35.4s\n",
      "2100:\tlearn: 23.9789242\ttotal: 2m\tremaining: 17.6s\n",
      "2400:\tlearn: 23.2091201\ttotal: 2m 16s\tremaining: 341ms\n"
     ]
    },
    {
     "name": "stderr",
     "output_type": "stream",
     "text": [
      "[I 2023-11-11 09:37:04,713] Trial 4 finished with value: 67.31436746769093 and parameters: {'iterations': 2407, 'learning_rate': 0.0016079754718462257, 'depth': 9, 'min_data_in_leaf': 61, 'l2_leaf_reg': 2, 'bagging_temperature': 0.8582751137905518, 'random_strength': 0.7876662920811399, 'border_count': 876, 'rsm': 0.5122813326787021}. Best is trial 0 with value: 64.68143998688977.\n"
     ]
    },
    {
     "name": "stdout",
     "output_type": "stream",
     "text": [
      "2406:\tlearn: 23.1949171\ttotal: 2m 16s\tremaining: 0us\n",
      "0:\tlearn: 78.4985985\ttotal: 19.1ms\tremaining: 18.5s\n",
      "300:\tlearn: 25.1559156\ttotal: 6.1s\tremaining: 13.6s\n",
      "600:\tlearn: 23.9358912\ttotal: 12.3s\tremaining: 7.56s\n",
      "900:\tlearn: 23.1012258\ttotal: 18.5s\tremaining: 1.46s\n"
     ]
    },
    {
     "name": "stderr",
     "output_type": "stream",
     "text": [
      "[I 2023-11-11 09:37:24,839] Trial 5 finished with value: 63.11708658516457 and parameters: {'iterations': 972, 'learning_rate': 0.01743699174598893, 'depth': 5, 'min_data_in_leaf': 75, 'l2_leaf_reg': 6, 'bagging_temperature': 0.5121605159000954, 'random_strength': 0.39754861705244326, 'border_count': 732, 'rsm': 0.8561238568514674}. Best is trial 5 with value: 63.11708658516457.\n"
     ]
    },
    {
     "name": "stdout",
     "output_type": "stream",
     "text": [
      "971:\tlearn: 22.9033756\ttotal: 20s\tremaining: 0us\n",
      "0:\tlearn: 76.4929047\ttotal: 12.2ms\tremaining: 33.4s\n",
      "300:\tlearn: 25.4242118\ttotal: 7.16s\tremaining: 58.2s\n",
      "600:\tlearn: 23.2535906\ttotal: 15.4s\tremaining: 55s\n",
      "900:\tlearn: 21.9418166\ttotal: 23.7s\tremaining: 48.5s\n",
      "1200:\tlearn: 21.1384208\ttotal: 32.2s\tremaining: 41.5s\n",
      "1500:\tlearn: 20.4858462\ttotal: 40.6s\tremaining: 33.8s\n",
      "1800:\tlearn: 19.9374524\ttotal: 49.3s\tremaining: 25.9s\n",
      "2100:\tlearn: 19.4450535\ttotal: 58s\tremaining: 17.9s\n",
      "2400:\tlearn: 19.0254104\ttotal: 1m 6s\tremaining: 9.63s\n",
      "2700:\tlearn: 18.6686898\ttotal: 1m 15s\tremaining: 1.31s\n"
     ]
    },
    {
     "name": "stderr",
     "output_type": "stream",
     "text": [
      "[I 2023-11-11 09:38:42,008] Trial 6 finished with value: 64.11843644175322 and parameters: {'iterations': 2748, 'learning_rate': 0.09366545483570486, 'depth': 4, 'min_data_in_leaf': 69, 'l2_leaf_reg': 2, 'bagging_temperature': 0.9757866398400519, 'random_strength': 0.7809153666668207, 'border_count': 296, 'rsm': 0.09206953398451453}. Best is trial 5 with value: 63.11708658516457.\n"
     ]
    },
    {
     "name": "stdout",
     "output_type": "stream",
     "text": [
      "2747:\tlearn: 18.6160874\ttotal: 1m 16s\tremaining: 0us\n",
      "0:\tlearn: 78.3151846\ttotal: 30.6ms\tremaining: 1m 8s\n",
      "300:\tlearn: 27.4318067\ttotal: 7.39s\tremaining: 47.9s\n",
      "600:\tlearn: 26.6065280\ttotal: 15.3s\tremaining: 41.9s\n",
      "900:\tlearn: 25.9724278\ttotal: 23.3s\tremaining: 35s\n",
      "1200:\tlearn: 25.4259037\ttotal: 31.2s\tremaining: 27.3s\n",
      "1500:\tlearn: 25.0317198\ttotal: 39.2s\tremaining: 19.6s\n",
      "1800:\tlearn: 24.7225247\ttotal: 47.1s\tremaining: 11.8s\n",
      "2100:\tlearn: 24.3863709\ttotal: 55.2s\tremaining: 3.96s\n"
     ]
    },
    {
     "name": "stderr",
     "output_type": "stream",
     "text": [
      "[I 2023-11-11 09:39:41,697] Trial 7 finished with value: 64.29622061054737 and parameters: {'iterations': 2252, 'learning_rate': 0.045912337489893686, 'depth': 2, 'min_data_in_leaf': 88, 'l2_leaf_reg': 2, 'bagging_temperature': 0.6045755918888264, 'random_strength': 0.7481846723876919, 'border_count': 756, 'rsm': 0.7769837600061948}. Best is trial 5 with value: 63.11708658516457.\n"
     ]
    },
    {
     "name": "stdout",
     "output_type": "stream",
     "text": [
      "2251:\tlearn: 24.2250190\ttotal: 59.4s\tremaining: 0us\n",
      "0:\tlearn: 76.7447103\ttotal: 115ms\tremaining: 6m 2s\n",
      "300:\tlearn: 16.1252910\ttotal: 31.9s\tremaining: 5m 3s\n",
      "600:\tlearn: 12.0165771\ttotal: 1m 2s\tremaining: 4m 27s\n",
      "900:\tlearn: 9.1679759\ttotal: 1m 34s\tremaining: 3m 55s\n",
      "1200:\tlearn: 7.3852307\ttotal: 2m 4s\tremaining: 3m 23s\n",
      "1500:\tlearn: 6.3173118\ttotal: 2m 36s\tremaining: 2m 52s\n",
      "1800:\tlearn: 5.2407775\ttotal: 3m 7s\tremaining: 2m 21s\n",
      "2100:\tlearn: 4.4250159\ttotal: 3m 39s\tremaining: 1m 50s\n",
      "2400:\tlearn: 3.7622360\ttotal: 4m 11s\tremaining: 1m 19s\n",
      "2700:\tlearn: 3.2438348\ttotal: 4m 42s\tremaining: 47.9s\n",
      "3000:\tlearn: 2.8055024\ttotal: 5m 6s\tremaining: 16.1s\n",
      "3158:\tlearn: 2.6048260\ttotal: 5m 19s\tremaining: 0us\n"
     ]
    },
    {
     "name": "stderr",
     "output_type": "stream",
     "text": [
      "[I 2023-11-11 09:45:01,584] Trial 8 finished with value: 67.93284761022397 and parameters: {'iterations': 3159, 'learning_rate': 0.048574044003998694, 'depth': 10, 'min_data_in_leaf': 20, 'l2_leaf_reg': 10, 'bagging_temperature': 0.8456293276242131, 'random_strength': 0.6328924312414046, 'border_count': 742, 'rsm': 0.9613256533795368}. Best is trial 5 with value: 63.11708658516457.\n"
     ]
    },
    {
     "name": "stdout",
     "output_type": "stream",
     "text": [
      "0:\tlearn: 79.2172178\ttotal: 356ms\tremaining: 11m 34s\n",
      "300:\tlearn: 45.4519343\ttotal: 1m 37s\tremaining: 8m 52s\n",
      "600:\tlearn: 29.7676717\ttotal: 3m 16s\tremaining: 7m 21s\n",
      "900:\tlearn: 23.0935979\ttotal: 4m 52s\tremaining: 5m 41s\n",
      "1200:\tlearn: 19.4247753\ttotal: 6m 30s\tremaining: 4m 3s\n",
      "1500:\tlearn: 17.3157926\ttotal: 8m 9s\tremaining: 2m 27s\n",
      "1800:\tlearn: 15.7394547\ttotal: 9m 56s\tremaining: 50s\n",
      "1951:\tlearn: 15.1793817\ttotal: 10m 49s\tremaining: 0us\n"
     ]
    },
    {
     "name": "stderr",
     "output_type": "stream",
     "text": [
      "[I 2023-11-11 09:55:52,238] Trial 9 finished with value: 67.71894440966851 and parameters: {'iterations': 1952, 'learning_rate': 0.0025878067464625504, 'depth': 13, 'min_data_in_leaf': 51, 'l2_leaf_reg': 10, 'bagging_temperature': 0.6373604420256087, 'random_strength': 0.503439569690904, 'border_count': 482, 'rsm': 0.8933136131830508}. Best is trial 5 with value: 63.11708658516457.\n"
     ]
    },
    {
     "name": "stdout",
     "output_type": "stream",
     "text": [
      "0:\tlearn: 78.7997622\ttotal: 17.6ms\tremaining: 5.33s\n"
     ]
    },
    {
     "name": "stderr",
     "output_type": "stream",
     "text": [
      "[I 2023-11-11 09:55:58,888] Trial 10 finished with value: 68.80298735182267 and parameters: {'iterations': 304, 'learning_rate': 0.014405994848874375, 'depth': 6, 'min_data_in_leaf': 26, 'l2_leaf_reg': 6, 'bagging_temperature': 0.39699844431246784, 'random_strength': 0.3486745138525223, 'border_count': 10, 'rsm': 0.5939489104094415}. Best is trial 5 with value: 63.11708658516457.\n"
     ]
    },
    {
     "name": "stdout",
     "output_type": "stream",
     "text": [
      "300:\tlearn: 25.6800777\ttotal: 6.45s\tremaining: 64.3ms\n",
      "303:\tlearn: 25.6492023\ttotal: 6.51s\tremaining: 0us\n",
      "0:\tlearn: 78.7587507\ttotal: 14.6ms\tremaining: 50.2s\n",
      "300:\tlearn: 29.1278653\ttotal: 6.31s\tremaining: 1m 5s\n",
      "600:\tlearn: 27.0728926\ttotal: 12.6s\tremaining: 59.6s\n",
      "900:\tlearn: 26.0578973\ttotal: 19s\tremaining: 53.7s\n",
      "1200:\tlearn: 25.4059935\ttotal: 25.4s\tremaining: 47.5s\n",
      "1500:\tlearn: 24.9158931\ttotal: 31.1s\tremaining: 40.3s\n",
      "1800:\tlearn: 24.5459187\ttotal: 36.8s\tremaining: 33.5s\n",
      "2100:\tlearn: 24.1939577\ttotal: 42.4s\tremaining: 27.1s\n",
      "2400:\tlearn: 23.9132894\ttotal: 48.2s\tremaining: 20.9s\n",
      "2700:\tlearn: 23.6210461\ttotal: 53.8s\tremaining: 14.8s\n",
      "3000:\tlearn: 23.3398206\ttotal: 59.6s\tremaining: 8.75s\n",
      "3300:\tlearn: 23.0604353\ttotal: 1m 5s\tremaining: 2.8s\n"
     ]
    },
    {
     "name": "stderr",
     "output_type": "stream",
     "text": [
      "[I 2023-11-11 09:57:07,387] Trial 11 finished with value: 63.22208322653132 and parameters: {'iterations': 3442, 'learning_rate': 0.014675970863575255, 'depth': 4, 'min_data_in_leaf': 60, 'l2_leaf_reg': 5, 'bagging_temperature': 0.43918165951112753, 'random_strength': 0.30490184636988654, 'border_count': 300, 'rsm': 0.07533181252486873}. Best is trial 5 with value: 63.11708658516457.\n"
     ]
    },
    {
     "name": "stdout",
     "output_type": "stream",
     "text": [
      "3441:\tlearn: 22.9634555\ttotal: 1m 8s\tremaining: 0us\n",
      "0:\tlearn: 79.0402497\ttotal: 14.9ms\tremaining: 50.5s\n",
      "300:\tlearn: 33.0408427\ttotal: 4.5s\tremaining: 46.1s\n",
      "600:\tlearn: 31.1442871\ttotal: 9.38s\tremaining: 43.4s\n",
      "900:\tlearn: 30.8637991\ttotal: 14.3s\tremaining: 39.4s\n",
      "1200:\tlearn: 30.7370451\ttotal: 21.9s\tremaining: 39.7s\n",
      "1500:\tlearn: 30.6735060\ttotal: 30.5s\tremaining: 38.3s\n",
      "1800:\tlearn: 30.6114034\ttotal: 39.3s\tremaining: 34.5s\n",
      "2100:\tlearn: 30.5575133\ttotal: 48.5s\tremaining: 29.6s\n",
      "2400:\tlearn: 30.5068270\ttotal: 57.8s\tremaining: 23.6s\n",
      "2700:\tlearn: 30.4602310\ttotal: 1m 6s\tremaining: 16.8s\n",
      "3000:\tlearn: 30.4092709\ttotal: 1m 12s\tremaining: 9.15s\n",
      "3300:\tlearn: 30.3764790\ttotal: 1m 17s\tremaining: 1.9s\n"
     ]
    },
    {
     "name": "stderr",
     "output_type": "stream",
     "text": [
      "[I 2023-11-11 09:58:26,610] Trial 12 finished with value: 74.42819148710605 and parameters: {'iterations': 3382, 'learning_rate': 0.01242271927471544, 'depth': 1, 'min_data_in_leaf': 40, 'l2_leaf_reg': 6, 'bagging_temperature': 0.41318646109933177, 'random_strength': 0.3190623792937527, 'border_count': 617, 'rsm': 0.4074746943792531}. Best is trial 5 with value: 63.11708658516457.\n"
     ]
    },
    {
     "name": "stdout",
     "output_type": "stream",
     "text": [
      "3381:\tlearn: 30.3701099\ttotal: 1m 18s\tremaining: 0us\n",
      "0:\tlearn: 79.0420316\ttotal: 15ms\tremaining: 19.4s\n",
      "300:\tlearn: 31.3955194\ttotal: 4.62s\tremaining: 15.2s\n",
      "600:\tlearn: 26.8271871\ttotal: 9.48s\tremaining: 10.9s\n",
      "900:\tlearn: 25.8687751\ttotal: 15.2s\tremaining: 6.64s\n",
      "1200:\tlearn: 25.3888840\ttotal: 20.7s\tremaining: 1.62s\n"
     ]
    },
    {
     "name": "stderr",
     "output_type": "stream",
     "text": [
      "[I 2023-11-11 09:58:49,332] Trial 13 finished with value: 66.37286430695512 and parameters: {'iterations': 1295, 'learning_rate': 0.007369942598973677, 'depth': 4, 'min_data_in_leaf': 67, 'l2_leaf_reg': 5, 'bagging_temperature': 0.48800384264036895, 'random_strength': 0.3249537045818613, 'border_count': 292, 'rsm': 0.24534333869499875}. Best is trial 5 with value: 63.11708658516457.\n"
     ]
    },
    {
     "name": "stdout",
     "output_type": "stream",
     "text": [
      "1294:\tlearn: 25.2398082\ttotal: 22.5s\tremaining: 0us\n",
      "0:\tlearn: 78.5794056\ttotal: 17.5ms\tremaining: 5.91s\n",
      "300:\tlearn: 24.2146455\ttotal: 6.69s\tremaining: 822ms\n"
     ]
    },
    {
     "name": "stderr",
     "output_type": "stream",
     "text": [
      "[I 2023-11-11 09:58:56,964] Trial 14 finished with value: 64.95263183156543 and parameters: {'iterations': 338, 'learning_rate': 0.01952504708989716, 'depth': 6, 'min_data_in_leaf': 7, 'l2_leaf_reg': 7, 'bagging_temperature': 0.3115101582261868, 'random_strength': 0.4439682889881724, 'border_count': 407, 'rsm': 0.49894529329530485}. Best is trial 5 with value: 63.11708658516457.\n"
     ]
    },
    {
     "name": "stdout",
     "output_type": "stream",
     "text": [
      "337:\tlearn: 23.9393424\ttotal: 7.51s\tremaining: 0us\n",
      "0:\tlearn: 79.0984090\ttotal: 12.8ms\tremaining: 18.3s\n",
      "300:\tlearn: 33.2975234\ttotal: 6.15s\tremaining: 23.1s\n",
      "600:\tlearn: 28.3129928\ttotal: 12.5s\tremaining: 17.3s\n",
      "900:\tlearn: 27.3463650\ttotal: 18.3s\tremaining: 10.8s\n",
      "1200:\tlearn: 26.7974463\ttotal: 23.1s\tremaining: 4.44s\n"
     ]
    },
    {
     "name": "stderr",
     "output_type": "stream",
     "text": [
      "[I 2023-11-11 09:59:23,955] Trial 15 finished with value: 68.13898352713225 and parameters: {'iterations': 1432, 'learning_rate': 0.007197768833758633, 'depth': 3, 'min_data_in_leaf': 73, 'l2_leaf_reg': 5, 'bagging_temperature': 0.5469018091840228, 'random_strength': 0.4152025517018861, 'border_count': 84, 'rsm': 0.21413483797703586}. Best is trial 5 with value: 63.11708658516457.\n"
     ]
    },
    {
     "name": "stdout",
     "output_type": "stream",
     "text": [
      "1431:\tlearn: 26.4541791\ttotal: 26.8s\tremaining: 0us\n",
      "0:\tlearn: 78.3808942\ttotal: 38.5ms\tremaining: 1m 48s\n",
      "300:\tlearn: 21.1750455\ttotal: 15.7s\tremaining: 2m 11s\n",
      "600:\tlearn: 18.8591819\ttotal: 32.1s\tremaining: 1m 58s\n",
      "900:\tlearn: 16.6019927\ttotal: 49.2s\tremaining: 1m 45s\n",
      "1200:\tlearn: 15.1497790\ttotal: 1m 6s\tremaining: 1m 29s\n",
      "1500:\tlearn: 13.8050599\ttotal: 1m 23s\tremaining: 1m 13s\n",
      "1800:\tlearn: 12.8566246\ttotal: 1m 41s\tremaining: 57.6s\n",
      "2100:\tlearn: 11.9795448\ttotal: 1m 59s\tremaining: 41.1s\n",
      "2400:\tlearn: 11.3336395\ttotal: 2m 16s\tremaining: 24.1s\n",
      "2700:\tlearn: 10.6679320\ttotal: 2m 34s\tremaining: 7.1s\n",
      "2824:\tlearn: 10.3281863\ttotal: 2m 42s\tremaining: 0us\n"
     ]
    },
    {
     "name": "stderr",
     "output_type": "stream",
     "text": [
      "[I 2023-11-11 10:02:06,890] Trial 16 finished with value: 64.16261647500289 and parameters: {'iterations': 2825, 'learning_rate': 0.01983267663492391, 'depth': 9, 'min_data_in_leaf': 48, 'l2_leaf_reg': 7, 'bagging_temperature': 0.7238342324841105, 'random_strength': 0.3020557943031039, 'border_count': 966, 'rsm': 0.35307127772999625}. Best is trial 5 with value: 63.11708658516457.\n"
     ]
    },
    {
     "name": "stdout",
     "output_type": "stream",
     "text": [
      "0:\tlearn: 79.0714675\ttotal: 20ms\tremaining: 13.3s\n",
      "300:\tlearn: 31.8461396\ttotal: 8.04s\tremaining: 9.7s\n",
      "600:\tlearn: 26.5890438\ttotal: 16.7s\tremaining: 1.75s\n"
     ]
    },
    {
     "name": "stderr",
     "output_type": "stream",
     "text": [
      "[I 2023-11-11 10:02:25,823] Trial 17 finished with value: 70.47390936183488 and parameters: {'iterations': 664, 'learning_rate': 0.00787265570084246, 'depth': 6, 'min_data_in_leaf': 56, 'l2_leaf_reg': 4, 'bagging_temperature': 0.5138398459013795, 'random_strength': 0.5225415333856108, 'border_count': 626, 'rsm': 0.07433348023181922}. Best is trial 5 with value: 63.11708658516457.\n"
     ]
    },
    {
     "name": "stdout",
     "output_type": "stream",
     "text": [
      "663:\tlearn: 26.2880974\ttotal: 18.7s\tremaining: 0us\n",
      "0:\tlearn: 78.5654496\ttotal: 25.2ms\tremaining: 41.8s\n",
      "300:\tlearn: 24.7532934\ttotal: 7.95s\tremaining: 35.9s\n",
      "600:\tlearn: 23.4272976\ttotal: 15.8s\tremaining: 27.9s\n",
      "900:\tlearn: 22.4677089\ttotal: 24.1s\tremaining: 20.3s\n",
      "1200:\tlearn: 21.7442229\ttotal: 32.4s\tremaining: 12.4s\n",
      "1500:\tlearn: 21.0842821\ttotal: 41.2s\tremaining: 4.36s\n"
     ]
    },
    {
     "name": "stderr",
     "output_type": "stream",
     "text": [
      "[I 2023-11-11 10:03:11,951] Trial 18 finished with value: 62.333843783997715 and parameters: {'iterations': 1660, 'learning_rate': 0.021874553267412628, 'depth': 5, 'min_data_in_leaf': 99, 'l2_leaf_reg': 5, 'bagging_temperature': 0.7190854503263744, 'random_strength': 0.38855985245147473, 'border_count': 168, 'rsm': 0.9990999917728366}. Best is trial 18 with value: 62.333843783997715.\n"
     ]
    },
    {
     "name": "stdout",
     "output_type": "stream",
     "text": [
      "1659:\tlearn: 20.7254085\ttotal: 45.8s\tremaining: 0us\n",
      "0:\tlearn: 78.0963088\ttotal: 37.6ms\tremaining: 57.8s\n",
      "300:\tlearn: 21.4498321\ttotal: 11.3s\tremaining: 46.7s\n",
      "600:\tlearn: 18.3306793\ttotal: 22.8s\tremaining: 35.7s\n",
      "900:\tlearn: 16.9036110\ttotal: 34.5s\tremaining: 24.5s\n",
      "1200:\tlearn: 15.4516325\ttotal: 46.1s\tremaining: 13.1s\n",
      "1500:\tlearn: 14.0290413\ttotal: 57.4s\tremaining: 1.53s\n"
     ]
    },
    {
     "name": "stderr",
     "output_type": "stream",
     "text": [
      "[I 2023-11-11 10:04:11,181] Trial 19 finished with value: 62.791487459720805 and parameters: {'iterations': 1541, 'learning_rate': 0.028329653514643706, 'depth': 8, 'min_data_in_leaf': 98, 'l2_leaf_reg': 7, 'bagging_temperature': 0.7294669495707918, 'random_strength': 0.5715368080559958, 'border_count': 154, 'rsm': 0.9090740871912046}. Best is trial 18 with value: 62.333843783997715.\n"
     ]
    },
    {
     "name": "stdout",
     "output_type": "stream",
     "text": [
      "1540:\tlearn: 13.8798489\ttotal: 58.9s\tremaining: 0us\n",
      "0:\tlearn: 78.3131734\ttotal: 34.5ms\tremaining: 55.7s\n",
      "300:\tlearn: 21.1618849\ttotal: 8.42s\tremaining: 36.7s\n",
      "600:\tlearn: 18.2238448\ttotal: 17.2s\tremaining: 29.1s\n",
      "900:\tlearn: 16.0783036\ttotal: 25.9s\tremaining: 20.5s\n",
      "1200:\tlearn: 14.5614986\ttotal: 34.9s\tremaining: 12s\n",
      "1500:\tlearn: 13.1746033\ttotal: 43.9s\tremaining: 3.34s\n"
     ]
    },
    {
     "name": "stderr",
     "output_type": "stream",
     "text": [
      "[I 2023-11-11 10:04:58,879] Trial 20 finished with value: 62.90721383993842 and parameters: {'iterations': 1615, 'learning_rate': 0.030489573073951996, 'depth': 8, 'min_data_in_leaf': 99, 'l2_leaf_reg': 8, 'bagging_temperature': 0.7301605570517743, 'random_strength': 0.5811084887245378, 'border_count': 73, 'rsm': 0.9598200249194422}. Best is trial 18 with value: 62.333843783997715.\n"
     ]
    },
    {
     "name": "stdout",
     "output_type": "stream",
     "text": [
      "1614:\tlearn: 12.8731860\ttotal: 47.3s\tremaining: 0us\n",
      "0:\tlearn: 77.9338596\ttotal: 33.5ms\tremaining: 54.3s\n",
      "300:\tlearn: 21.6537123\ttotal: 9.52s\tremaining: 41.8s\n",
      "600:\tlearn: 19.1765030\ttotal: 19s\tremaining: 32.2s\n",
      "900:\tlearn: 16.9254585\ttotal: 28.7s\tremaining: 23s\n",
      "1200:\tlearn: 15.3709617\ttotal: 38.4s\tremaining: 13.5s\n",
      "1500:\tlearn: 13.9994182\ttotal: 48.1s\tremaining: 3.88s\n"
     ]
    },
    {
     "name": "stderr",
     "output_type": "stream",
     "text": [
      "[I 2023-11-11 10:05:51,843] Trial 21 finished with value: 63.1670843792574 and parameters: {'iterations': 1622, 'learning_rate': 0.027149352981789793, 'depth': 8, 'min_data_in_leaf': 100, 'l2_leaf_reg': 8, 'bagging_temperature': 0.7288147814605079, 'random_strength': 0.5680444779367269, 'border_count': 152, 'rsm': 0.9829582561085582}. Best is trial 18 with value: 62.333843783997715.\n"
     ]
    },
    {
     "name": "stdout",
     "output_type": "stream",
     "text": [
      "1621:\tlearn: 13.5771288\ttotal: 52.6s\tremaining: 0us\n",
      "0:\tlearn: 77.6020831\ttotal: 29.4ms\tremaining: 40.7s\n",
      "300:\tlearn: 16.9905439\ttotal: 12.4s\tremaining: 44.9s\n",
      "600:\tlearn: 12.0202700\ttotal: 25.1s\tremaining: 32.8s\n",
      "900:\tlearn: 8.9167732\ttotal: 38s\tremaining: 20.5s\n",
      "1200:\tlearn: 6.8149498\ttotal: 50.7s\tremaining: 7.86s\n",
      "1386:\tlearn: 6.1586591\ttotal: 58.7s\tremaining: 0us\n"
     ]
    },
    {
     "name": "stderr",
     "output_type": "stream",
     "text": [
      "[I 2023-11-11 10:06:51,110] Trial 22 finished with value: 70.82799956125608 and parameters: {'iterations': 1387, 'learning_rate': 0.03181138563724322, 'depth': 11, 'min_data_in_leaf': 100, 'l2_leaf_reg': 8, 'bagging_temperature': 0.727790749675617, 'random_strength': 0.6269955685334813, 'border_count': 7, 'rsm': 0.9952586449482177}. Best is trial 18 with value: 62.333843783997715.\n"
     ]
    },
    {
     "name": "stdout",
     "output_type": "stream",
     "text": [
      "0:\tlearn: 76.6006746\ttotal: 46.3ms\tremaining: 1m 20s\n",
      "300:\tlearn: 19.1297272\ttotal: 15s\tremaining: 1m 11s\n",
      "600:\tlearn: 15.8809975\ttotal: 30.3s\tremaining: 57.1s\n",
      "900:\tlearn: 13.8776847\ttotal: 46s\tremaining: 42.4s\n",
      "1200:\tlearn: 12.2259345\ttotal: 1m 1s\tremaining: 27.2s\n",
      "1500:\tlearn: 10.9398206\ttotal: 1m 17s\tremaining: 12s\n"
     ]
    },
    {
     "name": "stderr",
     "output_type": "stream",
     "text": [
      "[I 2023-11-11 10:08:22,105] Trial 23 finished with value: 64.09368248740846 and parameters: {'iterations': 1732, 'learning_rate': 0.05074704758208426, 'depth': 8, 'min_data_in_leaf': 80, 'l2_leaf_reg': 7, 'bagging_temperature': 0.7729636428063782, 'random_strength': 0.562145758261252, 'border_count': 185, 'rsm': 0.8814527360030074}. Best is trial 18 with value: 62.333843783997715.\n"
     ]
    },
    {
     "name": "stdout",
     "output_type": "stream",
     "text": [
      "1731:\tlearn: 10.0163554\ttotal: 1m 30s\tremaining: 0us\n",
      "0:\tlearn: 77.9945424\ttotal: 20.9ms\tremaining: 42.9s\n",
      "300:\tlearn: 22.9112844\ttotal: 10.2s\tremaining: 59.1s\n",
      "600:\tlearn: 20.7961479\ttotal: 20.7s\tremaining: 49.9s\n",
      "900:\tlearn: 18.9876159\ttotal: 31.3s\tremaining: 39.8s\n",
      "1200:\tlearn: 17.6779643\ttotal: 42.2s\tremaining: 29.8s\n",
      "1500:\tlearn: 16.8944062\ttotal: 53.2s\tremaining: 19.4s\n",
      "1800:\tlearn: 15.9392071\ttotal: 1m 3s\tremaining: 8.81s\n"
     ]
    },
    {
     "name": "stderr",
     "output_type": "stream",
     "text": [
      "[I 2023-11-11 10:09:33,838] Trial 24 finished with value: 63.1157102557963 and parameters: {'iterations': 2049, 'learning_rate': 0.02508093937327416, 'depth': 7, 'min_data_in_leaf': 99, 'l2_leaf_reg': 9, 'bagging_temperature': 0.7870604851488983, 'random_strength': 0.47459961463296485, 'border_count': 108, 'rsm': 0.9279575921878197}. Best is trial 18 with value: 62.333843783997715.\n"
     ]
    },
    {
     "name": "stdout",
     "output_type": "stream",
     "text": [
      "2048:\tlearn: 15.2268138\ttotal: 1m 11s\tremaining: 0us\n",
      "0:\tlearn: 78.8765060\ttotal: 61ms\tremaining: 1m 10s\n",
      "300:\tlearn: 24.1333572\ttotal: 13.9s\tremaining: 39.6s\n",
      "600:\tlearn: 21.0134979\ttotal: 27.9s\tremaining: 26s\n",
      "900:\tlearn: 19.6336045\ttotal: 41.9s\tremaining: 12.1s\n"
     ]
    },
    {
     "name": "stderr",
     "output_type": "stream",
     "text": [
      "[I 2023-11-11 10:10:28,097] Trial 25 finished with value: 62.95387042083028 and parameters: {'iterations': 1161, 'learning_rate': 0.010531116526352958, 'depth': 9, 'min_data_in_leaf': 80, 'l2_leaf_reg': 9, 'bagging_temperature': 0.6968629248068111, 'random_strength': 0.5598855355401389, 'border_count': 357, 'rsm': 0.9948459517500514}. Best is trial 18 with value: 62.333843783997715.\n"
     ]
    },
    {
     "name": "stdout",
     "output_type": "stream",
     "text": [
      "1160:\tlearn: 18.6194404\ttotal: 53.9s\tremaining: 0us\n",
      "0:\tlearn: 77.0537205\ttotal: 24.7ms\tremaining: 37.7s\n",
      "300:\tlearn: 20.3482721\ttotal: 9.6s\tremaining: 39.1s\n",
      "600:\tlearn: 17.0405454\ttotal: 19s\tremaining: 29.3s\n",
      "900:\tlearn: 14.8052238\ttotal: 28.5s\tremaining: 19.8s\n",
      "1200:\tlearn: 13.4970168\ttotal: 38.3s\tremaining: 10.4s\n",
      "1500:\tlearn: 12.0698831\ttotal: 47.7s\tremaining: 858ms\n"
     ]
    },
    {
     "name": "stderr",
     "output_type": "stream",
     "text": [
      "[I 2023-11-11 10:11:17,095] Trial 26 finished with value: 63.57349698995448 and parameters: {'iterations': 1528, 'learning_rate': 0.03901093709032371, 'depth': 8, 'min_data_in_leaf': 96, 'l2_leaf_reg': 7, 'bagging_temperature': 0.6803831267197552, 'random_strength': 0.38266390816457413, 'border_count': 80, 'rsm': 0.8430938936199174}. Best is trial 18 with value: 62.333843783997715.\n"
     ]
    },
    {
     "name": "stdout",
     "output_type": "stream",
     "text": [
      "1527:\tlearn: 11.9293768\ttotal: 48.6s\tremaining: 0us\n",
      "0:\tlearn: 76.1907483\ttotal: 40.2ms\tremaining: 1m 14s\n",
      "300:\tlearn: 13.6152751\ttotal: 18s\tremaining: 1m 33s\n",
      "600:\tlearn: 9.3164684\ttotal: 41.7s\tremaining: 1m 27s\n",
      "900:\tlearn: 6.9773369\ttotal: 1m 5s\tremaining: 1m 9s\n",
      "1200:\tlearn: 5.4481149\ttotal: 1m 28s\tremaining: 48.7s\n",
      "1500:\tlearn: 4.2498272\ttotal: 1m 52s\tremaining: 26.9s\n",
      "1800:\tlearn: 3.3695970\ttotal: 2m 16s\tremaining: 4.41s\n",
      "1858:\tlearn: 3.2465915\ttotal: 2m 21s\tremaining: 0us\n"
     ]
    },
    {
     "name": "stderr",
     "output_type": "stream",
     "text": [
      "[I 2023-11-11 10:13:39,000] Trial 27 finished with value: 66.95437765276897 and parameters: {'iterations': 1859, 'learning_rate': 0.06201393136719279, 'depth': 10, 'min_data_in_leaf': 81, 'l2_leaf_reg': 6, 'bagging_temperature': 0.8085830640568252, 'random_strength': 0.47711359096744743, 'border_count': 234, 'rsm': 0.9214783688098763}. Best is trial 18 with value: 62.333843783997715.\n"
     ]
    },
    {
     "name": "stdout",
     "output_type": "stream",
     "text": [
      "0:\tlearn: 78.5832773\ttotal: 38.1ms\tremaining: 1m 31s\n",
      "300:\tlearn: 24.7229548\ttotal: 11s\tremaining: 1m 16s\n",
      "600:\tlearn: 23.3620431\ttotal: 22.2s\tremaining: 1m 6s\n",
      "900:\tlearn: 22.3243095\ttotal: 34s\tremaining: 56.3s\n",
      "1200:\tlearn: 21.4810675\ttotal: 45.6s\tremaining: 45.2s\n",
      "1500:\tlearn: 20.6852140\ttotal: 57.5s\tremaining: 34.1s\n",
      "1800:\tlearn: 20.3188814\ttotal: 1m 8s\tremaining: 22.6s\n",
      "2100:\tlearn: 19.9472370\ttotal: 1m 20s\tremaining: 11.2s\n"
     ]
    },
    {
     "name": "stderr",
     "output_type": "stream",
     "text": [
      "[I 2023-11-11 10:15:11,691] Trial 28 finished with value: 61.79832585348951 and parameters: {'iterations': 2392, 'learning_rate': 0.02247702224978235, 'depth': 5, 'min_data_in_leaf': 94, 'l2_leaf_reg': 4, 'bagging_temperature': 0.7611940774372695, 'random_strength': 0.44589753796694487, 'border_count': 151, 'rsm': 0.783116168473357}. Best is trial 28 with value: 61.79832585348951.\n"
     ]
    },
    {
     "name": "stdout",
     "output_type": "stream",
     "text": [
      "2391:\tlearn: 19.6148869\ttotal: 1m 32s\tremaining: 0us\n",
      "0:\tlearn: 78.5328434\ttotal: 47.9ms\tremaining: 2m 2s\n",
      "300:\tlearn: 24.8466144\ttotal: 11.6s\tremaining: 1m 27s\n",
      "600:\tlearn: 23.4198650\ttotal: 23.4s\tremaining: 1m 16s\n",
      "900:\tlearn: 22.5071014\ttotal: 35.6s\tremaining: 1m 5s\n",
      "1200:\tlearn: 21.7639720\ttotal: 48s\tremaining: 54.3s\n",
      "1500:\tlearn: 21.1349692\ttotal: 1m\tremaining: 43s\n",
      "1800:\tlearn: 20.4809281\ttotal: 1m 13s\tremaining: 31s\n",
      "2100:\tlearn: 20.0234676\ttotal: 1m 26s\tremaining: 18.8s\n",
      "2400:\tlearn: 19.6402383\ttotal: 1m 38s\tremaining: 6.52s\n"
     ]
    },
    {
     "name": "stderr",
     "output_type": "stream",
     "text": [
      "[I 2023-11-11 10:16:56,599] Trial 29 finished with value: 62.2708254252288 and parameters: {'iterations': 2560, 'learning_rate': 0.021741510237871305, 'depth': 5, 'min_data_in_leaf': 91, 'l2_leaf_reg': 4, 'bagging_temperature': 0.6178876134246756, 'random_strength': 0.4321721930543166, 'border_count': 535, 'rsm': 0.7866793277177802}. Best is trial 28 with value: 61.79832585348951.\n"
     ]
    },
    {
     "name": "stdout",
     "output_type": "stream",
     "text": [
      "2559:\tlearn: 19.4790679\ttotal: 1m 44s\tremaining: 0us\n",
      "0:\tlearn: 78.3714130\ttotal: 18.6ms\tremaining: 45.5s\n",
      "300:\tlearn: 24.7382275\ttotal: 10.1s\tremaining: 1m 11s\n",
      "600:\tlearn: 23.4452844\ttotal: 19.6s\tremaining: 60s\n",
      "900:\tlearn: 22.5335561\ttotal: 29.3s\tremaining: 50s\n",
      "1200:\tlearn: 21.5993851\ttotal: 39s\tremaining: 40.3s\n",
      "1500:\tlearn: 20.9352783\ttotal: 48.6s\tremaining: 30.4s\n",
      "1800:\tlearn: 20.3290590\ttotal: 58.3s\tremaining: 20.7s\n",
      "2100:\tlearn: 19.9911583\ttotal: 1m 8s\tremaining: 11.1s\n",
      "2400:\tlearn: 19.5741407\ttotal: 1m 19s\tremaining: 1.32s\n"
     ]
    },
    {
     "name": "stderr",
     "output_type": "stream",
     "text": [
      "[I 2023-11-11 10:18:17,675] Trial 30 finished with value: 62.321511937800615 and parameters: {'iterations': 2441, 'learning_rate': 0.022449989914869607, 'depth': 5, 'min_data_in_leaf': 93, 'l2_leaf_reg': 4, 'bagging_temperature': 0.5950408284184943, 'random_strength': 0.4343064242510342, 'border_count': 556, 'rsm': 0.7756926499079349}. Best is trial 28 with value: 61.79832585348951.\n"
     ]
    },
    {
     "name": "stdout",
     "output_type": "stream",
     "text": [
      "2440:\tlearn: 19.5364709\ttotal: 1m 20s\tremaining: 0us\n",
      "0:\tlearn: 78.5853253\ttotal: 19.4ms\tremaining: 49.2s\n",
      "300:\tlearn: 24.8464629\ttotal: 9.42s\tremaining: 1m 10s\n",
      "600:\tlearn: 23.5134400\ttotal: 18.8s\tremaining: 1m\n",
      "900:\tlearn: 22.5457217\ttotal: 28.9s\tremaining: 52.5s\n",
      "1200:\tlearn: 21.7231620\ttotal: 38.8s\tremaining: 43.2s\n",
      "1500:\tlearn: 21.1002169\ttotal: 48.7s\tremaining: 33.7s\n",
      "1800:\tlearn: 20.5170096\ttotal: 58.3s\tremaining: 23.9s\n",
      "2100:\tlearn: 20.0013627\ttotal: 1m 7s\tremaining: 14.1s\n",
      "2400:\tlearn: 19.6796839\ttotal: 1m 17s\tremaining: 4.43s\n"
     ]
    },
    {
     "name": "stderr",
     "output_type": "stream",
     "text": [
      "[I 2023-11-11 10:19:40,549] Trial 31 finished with value: 62.4318114790191 and parameters: {'iterations': 2538, 'learning_rate': 0.020886715086995508, 'depth': 5, 'min_data_in_leaf': 92, 'l2_leaf_reg': 4, 'bagging_temperature': 0.6165991963835927, 'random_strength': 0.4388495432810556, 'border_count': 529, 'rsm': 0.7896379219379238}. Best is trial 28 with value: 61.79832585348951.\n"
     ]
    },
    {
     "name": "stdout",
     "output_type": "stream",
     "text": [
      "2537:\tlearn: 19.5289652\ttotal: 1m 22s\tremaining: 0us\n",
      "0:\tlearn: 78.4432331\ttotal: 21.6ms\tremaining: 59.6s\n",
      "300:\tlearn: 24.6065954\ttotal: 9.13s\tremaining: 1m 14s\n",
      "600:\tlearn: 23.2721157\ttotal: 18s\tremaining: 1m 4s\n",
      "900:\tlearn: 22.3113914\ttotal: 27.5s\tremaining: 56.9s\n",
      "1200:\tlearn: 21.4327917\ttotal: 34.3s\tremaining: 44.6s\n",
      "1500:\tlearn: 20.7554062\ttotal: 40.9s\tremaining: 34.3s\n",
      "1800:\tlearn: 20.2427869\ttotal: 47.4s\tremaining: 25.3s\n",
      "2100:\tlearn: 19.9254379\ttotal: 54s\tremaining: 17s\n",
      "2400:\tlearn: 19.4784769\ttotal: 1m 1s\tremaining: 9.28s\n",
      "2700:\tlearn: 19.0665014\ttotal: 1m 10s\tremaining: 1.58s\n"
     ]
    },
    {
     "name": "stderr",
     "output_type": "stream",
     "text": [
      "[I 2023-11-11 10:20:53,787] Trial 32 finished with value: 62.14598817036537 and parameters: {'iterations': 2761, 'learning_rate': 0.023297367741252843, 'depth': 5, 'min_data_in_leaf': 85, 'l2_leaf_reg': 3, 'bagging_temperature': 0.5904917710060505, 'random_strength': 0.3668272505012131, 'border_count': 553, 'rsm': 0.725662630003578}. Best is trial 28 with value: 61.79832585348951.\n"
     ]
    },
    {
     "name": "stdout",
     "output_type": "stream",
     "text": [
      "2760:\tlearn: 18.9833195\ttotal: 1m 12s\tremaining: 0us\n",
      "0:\tlearn: 78.1656395\ttotal: 13.1ms\tremaining: 37.8s\n",
      "300:\tlearn: 25.9297036\ttotal: 7.58s\tremaining: 1m 5s\n",
      "600:\tlearn: 24.7984792\ttotal: 15.7s\tremaining: 59.6s\n",
      "900:\tlearn: 24.0761246\ttotal: 23.6s\tremaining: 52s\n",
      "1200:\tlearn: 23.4200307\ttotal: 31.5s\tremaining: 44.2s\n",
      "1500:\tlearn: 22.8493535\ttotal: 39.5s\tremaining: 36.5s\n",
      "1800:\tlearn: 22.4225062\ttotal: 47.6s\tremaining: 28.7s\n",
      "2100:\tlearn: 22.1252443\ttotal: 55.9s\tremaining: 20.9s\n",
      "2400:\tlearn: 21.8431693\ttotal: 1m 4s\tremaining: 13s\n",
      "2700:\tlearn: 21.6263063\ttotal: 1m 12s\tremaining: 5.03s\n"
     ]
    },
    {
     "name": "stderr",
     "output_type": "stream",
     "text": [
      "[I 2023-11-11 10:22:11,997] Trial 33 finished with value: 63.31052480484605 and parameters: {'iterations': 2888, 'learning_rate': 0.03914439549732889, 'depth': 3, 'min_data_in_leaf': 84, 'l2_leaf_reg': 3, 'bagging_temperature': 0.6062107668003553, 'random_strength': 0.3640607619928151, 'border_count': 550, 'rsm': 0.6972491212018759}. Best is trial 28 with value: 61.79832585348951.\n"
     ]
    },
    {
     "name": "stdout",
     "output_type": "stream",
     "text": [
      "2887:\tlearn: 21.4683680\ttotal: 1m 17s\tremaining: 0us\n",
      "0:\tlearn: 78.6789513\ttotal: 24.5ms\tremaining: 1m 2s\n",
      "300:\tlearn: 27.1949980\ttotal: 7.33s\tremaining: 55.3s\n",
      "600:\tlearn: 26.1083879\ttotal: 17.2s\tremaining: 56.2s\n",
      "900:\tlearn: 25.4284967\ttotal: 28.5s\tremaining: 52.7s\n",
      "1200:\tlearn: 25.0047042\ttotal: 40.3s\tremaining: 45.8s\n",
      "1500:\tlearn: 24.6551752\ttotal: 51.5s\tremaining: 36.6s\n",
      "1800:\tlearn: 24.2876593\ttotal: 1m 3s\tremaining: 26.9s\n",
      "2100:\tlearn: 24.0245095\ttotal: 1m 14s\tremaining: 16.6s\n",
      "2400:\tlearn: 23.7367513\ttotal: 1m 26s\tremaining: 5.98s\n"
     ]
    },
    {
     "name": "stderr",
     "output_type": "stream",
     "text": [
      "[I 2023-11-11 10:23:45,017] Trial 34 finished with value: 63.31333785263495 and parameters: {'iterations': 2568, 'learning_rate': 0.015994178982333643, 'depth': 3, 'min_data_in_leaf': 92, 'l2_leaf_reg': 3, 'bagging_temperature': 0.6582083562149563, 'random_strength': 0.43719846234544896, 'border_count': 582, 'rsm': 0.6885196242411544}. Best is trial 28 with value: 61.79832585348951.\n"
     ]
    },
    {
     "name": "stdout",
     "output_type": "stream",
     "text": [
      "2567:\tlearn: 23.5668917\ttotal: 1m 32s\tremaining: 0us\n",
      "0:\tlearn: 78.8733191\ttotal: 25.7ms\tremaining: 1m 18s\n",
      "300:\tlearn: 25.2373570\ttotal: 14.2s\tremaining: 2m 10s\n",
      "600:\tlearn: 23.6300798\ttotal: 28.9s\tremaining: 1m 58s\n",
      "900:\tlearn: 22.7817997\ttotal: 43.5s\tremaining: 1m 44s\n",
      "1200:\tlearn: 21.9029588\ttotal: 57.9s\tremaining: 1m 29s\n",
      "1500:\tlearn: 21.1936506\ttotal: 1m 12s\tremaining: 1m 15s\n",
      "1800:\tlearn: 20.5525278\ttotal: 1m 27s\tremaining: 1m 1s\n",
      "2100:\tlearn: 20.0036756\ttotal: 1m 42s\tremaining: 46.9s\n",
      "2400:\tlearn: 19.4528154\ttotal: 1m 57s\tremaining: 32.5s\n",
      "2700:\tlearn: 19.0207093\ttotal: 2m 12s\tremaining: 17.9s\n",
      "3000:\tlearn: 18.6862596\ttotal: 2m 27s\tremaining: 3.19s\n"
     ]
    },
    {
     "name": "stderr",
     "output_type": "stream",
     "text": [
      "[I 2023-11-11 10:26:16,455] Trial 35 finished with value: 62.41316873668332 and parameters: {'iterations': 3066, 'learning_rate': 0.01289737027654401, 'depth': 6, 'min_data_in_leaf': 90, 'l2_leaf_reg': 3, 'bagging_temperature': 0.5726348561856129, 'random_strength': 0.3597629309538837, 'border_count': 426, 'rsm': 0.7492215152096132}. Best is trial 28 with value: 61.79832585348951.\n"
     ]
    },
    {
     "name": "stdout",
     "output_type": "stream",
     "text": [
      "3065:\tlearn: 18.6100580\ttotal: 2m 30s\tremaining: 0us\n",
      "0:\tlearn: 78.3897075\ttotal: 27ms\tremaining: 1m 2s\n",
      "300:\tlearn: 24.5629018\ttotal: 11.9s\tremaining: 1m 19s\n",
      "600:\tlearn: 23.2412750\ttotal: 24.3s\tremaining: 1m 9s\n",
      "900:\tlearn: 22.1837170\ttotal: 36.6s\tremaining: 57.7s\n",
      "1200:\tlearn: 21.2913599\ttotal: 49.1s\tremaining: 45.8s\n",
      "1500:\tlearn: 20.5891909\ttotal: 1m 1s\tremaining: 33.7s\n",
      "1800:\tlearn: 20.0183111\ttotal: 1m 14s\tremaining: 21.4s\n",
      "2100:\tlearn: 19.4861663\ttotal: 1m 26s\tremaining: 9.11s\n"
     ]
    },
    {
     "name": "stderr",
     "output_type": "stream",
     "text": [
      "[I 2023-11-11 10:27:53,623] Trial 36 finished with value: 62.050218944668316 and parameters: {'iterations': 2321, 'learning_rate': 0.025298951607237566, 'depth': 5, 'min_data_in_leaf': 78, 'l2_leaf_reg': 4, 'bagging_temperature': 0.6567250534544438, 'random_strength': 0.4089074654847643, 'border_count': 479, 'rsm': 0.8150263545179065}. Best is trial 28 with value: 61.79832585348951.\n"
     ]
    },
    {
     "name": "stdout",
     "output_type": "stream",
     "text": [
      "2320:\tlearn: 19.3004642\ttotal: 1m 36s\tremaining: 0us\n",
      "0:\tlearn: 78.2969654\ttotal: 17.7ms\tremaining: 41.1s\n",
      "300:\tlearn: 27.5241738\ttotal: 10.9s\tremaining: 1m 13s\n",
      "600:\tlearn: 26.6712424\ttotal: 21.6s\tremaining: 1m 1s\n",
      "900:\tlearn: 26.2268848\ttotal: 32.6s\tremaining: 51.4s\n",
      "1200:\tlearn: 25.7662534\ttotal: 43.6s\tremaining: 40.6s\n",
      "1500:\tlearn: 25.4311025\ttotal: 54.6s\tremaining: 29.8s\n",
      "1800:\tlearn: 25.1931655\ttotal: 1m 5s\tremaining: 18.9s\n",
      "2100:\tlearn: 24.7006784\ttotal: 1m 17s\tremaining: 8.08s\n"
     ]
    },
    {
     "name": "stderr",
     "output_type": "stream",
     "text": [
      "[I 2023-11-11 10:29:19,264] Trial 37 finished with value: 64.92615204198296 and parameters: {'iterations': 2321, 'learning_rate': 0.03734849192671657, 'depth': 2, 'min_data_in_leaf': 75, 'l2_leaf_reg': 3, 'bagging_temperature': 0.6630836052976771, 'random_strength': 0.38917355762086764, 'border_count': 698, 'rsm': 0.8240720768241515}. Best is trial 28 with value: 61.79832585348951.\n"
     ]
    },
    {
     "name": "stdout",
     "output_type": "stream",
     "text": [
      "2320:\tlearn: 24.5148324\ttotal: 1m 25s\tremaining: 0us\n",
      "0:\tlearn: 76.4431532\ttotal: 76.6ms\tremaining: 3m 26s\n",
      "300:\tlearn: 19.8238434\ttotal: 19.2s\tremaining: 2m 32s\n",
      "600:\tlearn: 16.7115349\ttotal: 38.9s\tremaining: 2m 16s\n",
      "900:\tlearn: 14.8018346\ttotal: 58.9s\tremaining: 1m 57s\n",
      "1200:\tlearn: 13.4218263\ttotal: 1m 18s\tremaining: 1m 38s\n",
      "1500:\tlearn: 12.3973474\ttotal: 1m 38s\tremaining: 1m 18s\n",
      "1800:\tlearn: 11.4583009\ttotal: 1m 58s\tremaining: 59.4s\n",
      "2100:\tlearn: 10.6599797\ttotal: 2m 18s\tremaining: 39.7s\n",
      "2400:\tlearn: 9.9985475\ttotal: 2m 38s\tremaining: 19.9s\n"
     ]
    },
    {
     "name": "stderr",
     "output_type": "stream",
     "text": [
      "[I 2023-11-11 10:32:18,533] Trial 38 finished with value: 64.18001135707992 and parameters: {'iterations': 2702, 'learning_rate': 0.07034641552011972, 'depth': 7, 'min_data_in_leaf': 85, 'l2_leaf_reg': 4, 'bagging_temperature': 0.6522079975628106, 'random_strength': 0.3463924420141607, 'border_count': 471, 'rsm': 0.72043316062018}. Best is trial 28 with value: 61.79832585348951.\n"
     ]
    },
    {
     "name": "stdout",
     "output_type": "stream",
     "text": [
      "2700:\tlearn: 9.4961113\ttotal: 2m 58s\tremaining: 66.1ms\n",
      "2701:\tlearn: 9.4935877\ttotal: 2m 58s\tremaining: 0us\n",
      "0:\tlearn: 78.7950387\ttotal: 63.8ms\tremaining: 2m 20s\n",
      "300:\tlearn: 25.3198049\ttotal: 13.6s\tremaining: 1m 25s\n",
      "600:\tlearn: 24.0741579\ttotal: 26.5s\tremaining: 1m 10s\n",
      "900:\tlearn: 23.3275210\ttotal: 39.8s\tremaining: 57.1s\n",
      "1200:\tlearn: 22.5051400\ttotal: 53.9s\tremaining: 44.6s\n",
      "1500:\tlearn: 21.9561954\ttotal: 1m 7s\tremaining: 31.4s\n",
      "1800:\tlearn: 21.3719035\ttotal: 1m 21s\tremaining: 17.8s\n",
      "2100:\tlearn: 20.8823172\ttotal: 1m 35s\tremaining: 4.28s\n"
     ]
    },
    {
     "name": "stderr",
     "output_type": "stream",
     "text": [
      "[I 2023-11-11 10:33:59,181] Trial 39 finished with value: 62.411772025574884 and parameters: {'iterations': 2195, 'learning_rate': 0.01675891244684694, 'depth': 5, 'min_data_in_leaf': 69, 'l2_leaf_reg': 2, 'bagging_temperature': 0.5630890647503847, 'random_strength': 0.4094963109976144, 'border_count': 855, 'rsm': 0.6664968902999963}. Best is trial 28 with value: 61.79832585348951.\n"
     ]
    },
    {
     "name": "stdout",
     "output_type": "stream",
     "text": [
      "2194:\tlearn: 20.7237899\ttotal: 1m 40s\tremaining: 0us\n",
      "0:\tlearn: 78.3181013\ttotal: 56.7ms\tremaining: 2m 50s\n",
      "300:\tlearn: 25.5243860\ttotal: 11.2s\tremaining: 1m 40s\n",
      "600:\tlearn: 24.3530825\ttotal: 22.4s\tremaining: 1m 30s\n",
      "900:\tlearn: 23.6059058\ttotal: 34.1s\tremaining: 1m 20s\n",
      "1200:\tlearn: 22.8839224\ttotal: 46.1s\tremaining: 1m 9s\n",
      "1500:\tlearn: 22.2938148\ttotal: 57.6s\tremaining: 58.2s\n",
      "1800:\tlearn: 21.7599008\ttotal: 1m 9s\tremaining: 47.2s\n",
      "2100:\tlearn: 21.3548845\ttotal: 1m 21s\tremaining: 35.6s\n",
      "2400:\tlearn: 21.0593969\ttotal: 1m 33s\tremaining: 24s\n",
      "2700:\tlearn: 20.6867096\ttotal: 1m 44s\tremaining: 12.3s\n",
      "3000:\tlearn: 20.3646728\ttotal: 1m 56s\tremaining: 700ms\n"
     ]
    },
    {
     "name": "stderr",
     "output_type": "stream",
     "text": [
      "[I 2023-11-11 10:35:57,365] Trial 40 finished with value: 63.00578983395229 and parameters: {'iterations': 3019, 'learning_rate': 0.024847650633072087, 'depth': 4, 'min_data_in_leaf': 65, 'l2_leaf_reg': 3, 'bagging_temperature': 0.6345942451217694, 'random_strength': 0.47726174894299683, 'border_count': 379, 'rsm': 0.8226210053579479}. Best is trial 28 with value: 61.79832585348951.\n"
     ]
    },
    {
     "name": "stdout",
     "output_type": "stream",
     "text": [
      "3018:\tlearn: 20.3480743\ttotal: 1m 57s\tremaining: 0us\n",
      "0:\tlearn: 78.4965994\ttotal: 42.3ms\tremaining: 1m 46s\n",
      "300:\tlearn: 24.7101783\ttotal: 13.8s\tremaining: 1m 41s\n",
      "600:\tlearn: 23.4686945\ttotal: 23.7s\tremaining: 1m 15s\n",
      "900:\tlearn: 22.4239703\ttotal: 32.2s\tremaining: 57.9s\n",
      "1200:\tlearn: 21.5682805\ttotal: 40.9s\tremaining: 45s\n",
      "1500:\tlearn: 20.9179511\ttotal: 49.7s\tremaining: 33.8s\n",
      "1800:\tlearn: 20.3948910\ttotal: 58.4s\tremaining: 23.4s\n",
      "2100:\tlearn: 19.8985379\ttotal: 1m 7s\tremaining: 13.5s\n",
      "2400:\tlearn: 19.5800037\ttotal: 1m 16s\tremaining: 3.82s\n"
     ]
    },
    {
     "name": "stderr",
     "output_type": "stream",
     "text": [
      "[I 2023-11-11 10:37:17,907] Trial 41 finished with value: 62.52772197938893 and parameters: {'iterations': 2521, 'learning_rate': 0.022244391445167058, 'depth': 5, 'min_data_in_leaf': 90, 'l2_leaf_reg': 4, 'bagging_temperature': 0.5905859966980379, 'random_strength': 0.4265966464422424, 'border_count': 656, 'rsm': 0.7713195720352166}. Best is trial 28 with value: 61.79832585348951.\n"
     ]
    },
    {
     "name": "stdout",
     "output_type": "stream",
     "text": [
      "2520:\tlearn: 19.4441076\ttotal: 1m 20s\tremaining: 0us\n",
      "0:\tlearn: 77.7588766\ttotal: 18.6ms\tremaining: 44.5s\n",
      "300:\tlearn: 23.1487523\ttotal: 9.22s\tremaining: 1m 3s\n",
      "600:\tlearn: 21.2061315\ttotal: 18.5s\tremaining: 54.9s\n",
      "900:\tlearn: 19.7132267\ttotal: 28s\tremaining: 46.2s\n",
      "1200:\tlearn: 18.7583937\ttotal: 37.5s\tremaining: 37s\n",
      "1500:\tlearn: 17.8745131\ttotal: 47.6s\tremaining: 28s\n",
      "1800:\tlearn: 17.1397061\ttotal: 56.6s\tremaining: 18.4s\n",
      "2100:\tlearn: 16.5382304\ttotal: 1m 5s\tremaining: 8.89s\n"
     ]
    },
    {
     "name": "stderr",
     "output_type": "stream",
     "text": [
      "[I 2023-11-11 10:38:32,364] Trial 42 finished with value: 62.69439284981703 and parameters: {'iterations': 2386, 'learning_rate': 0.0344619342530251, 'depth': 6, 'min_data_in_leaf': 76, 'l2_leaf_reg': 4, 'bagging_temperature': 0.6195220897288252, 'random_strength': 0.45494896938818996, 'border_count': 506, 'rsm': 0.64949500552469}. Best is trial 28 with value: 61.79832585348951.\n"
     ]
    },
    {
     "name": "stdout",
     "output_type": "stream",
     "text": [
      "2385:\tlearn: 16.0211668\ttotal: 1m 14s\tremaining: 0us\n",
      "0:\tlearn: 78.7357535\ttotal: 20.5ms\tremaining: 53.1s\n",
      "300:\tlearn: 25.9775703\ttotal: 6.67s\tremaining: 50.7s\n",
      "600:\tlearn: 24.8563607\ttotal: 13.4s\tremaining: 44.2s\n",
      "900:\tlearn: 24.1544153\ttotal: 20.3s\tremaining: 37.9s\n",
      "1200:\tlearn: 23.5661181\ttotal: 27s\tremaining: 31.1s\n",
      "1500:\tlearn: 23.0849602\ttotal: 34.3s\tremaining: 24.8s\n",
      "1800:\tlearn: 22.6292360\ttotal: 41.2s\tremaining: 17.9s\n",
      "2100:\tlearn: 22.1842635\ttotal: 48.2s\tremaining: 11.1s\n",
      "2400:\tlearn: 21.8234137\ttotal: 55.2s\tremaining: 4.25s\n"
     ]
    },
    {
     "name": "stderr",
     "output_type": "stream",
     "text": [
      "[I 2023-11-11 10:39:32,133] Trial 43 finished with value: 62.311734904891075 and parameters: {'iterations': 2586, 'learning_rate': 0.017671716234803812, 'depth': 4, 'min_data_in_leaf': 85, 'l2_leaf_reg': 5, 'bagging_temperature': 0.5840517380813122, 'random_strength': 0.40877175541001826, 'border_count': 556, 'rsm': 0.7544063493110987}. Best is trial 28 with value: 61.79832585348951.\n"
     ]
    },
    {
     "name": "stdout",
     "output_type": "stream",
     "text": [
      "2585:\tlearn: 21.6037458\ttotal: 59.4s\tremaining: 0us\n",
      "0:\tlearn: 78.6532896\ttotal: 22.6ms\tremaining: 46.4s\n",
      "300:\tlearn: 25.9215413\ttotal: 6.59s\tremaining: 38.5s\n",
      "600:\tlearn: 24.7877297\ttotal: 13.3s\tremaining: 32.3s\n",
      "900:\tlearn: 24.1518934\ttotal: 19.8s\tremaining: 25.4s\n",
      "1200:\tlearn: 23.5355345\ttotal: 26.2s\tremaining: 18.7s\n",
      "1500:\tlearn: 23.0968073\ttotal: 33.2s\tremaining: 12.4s\n",
      "1800:\tlearn: 22.6028748\ttotal: 39.8s\tremaining: 5.73s\n"
     ]
    },
    {
     "name": "stderr",
     "output_type": "stream",
     "text": [
      "[I 2023-11-11 10:40:17,847] Trial 44 finished with value: 62.53690399553737 and parameters: {'iterations': 2060, 'learning_rate': 0.018318877766400087, 'depth': 4, 'min_data_in_leaf': 84, 'l2_leaf_reg': 5, 'bagging_temperature': 0.6743956988889176, 'random_strength': 0.398707987092713, 'border_count': 794, 'rsm': 0.7278840204555654}. Best is trial 28 with value: 61.79832585348951.\n"
     ]
    },
    {
     "name": "stdout",
     "output_type": "stream",
     "text": [
      "2059:\tlearn: 22.2323593\ttotal: 45.4s\tremaining: 0us\n",
      "0:\tlearn: 79.0049815\ttotal: 17.1ms\tremaining: 45.7s\n",
      "300:\tlearn: 29.8058995\ttotal: 5.57s\tremaining: 43.8s\n",
      "600:\tlearn: 28.1867852\ttotal: 11.4s\tremaining: 39.1s\n",
      "900:\tlearn: 27.6691875\ttotal: 17.1s\tremaining: 33.5s\n",
      "1200:\tlearn: 27.3626315\ttotal: 22.8s\tremaining: 27.9s\n",
      "1500:\tlearn: 27.0951795\ttotal: 28.6s\tremaining: 22.3s\n",
      "1800:\tlearn: 26.8580978\ttotal: 34.5s\tremaining: 16.6s\n",
      "2100:\tlearn: 26.6560614\ttotal: 40.3s\tremaining: 10.9s\n",
      "2400:\tlearn: 26.5030687\ttotal: 47.3s\tremaining: 5.3s\n"
     ]
    },
    {
     "name": "stderr",
     "output_type": "stream",
     "text": [
      "[I 2023-11-11 10:41:11,417] Trial 45 finished with value: 67.05970754607385 and parameters: {'iterations': 2670, 'learning_rate': 0.011396211900052128, 'depth': 2, 'min_data_in_leaf': 87, 'l2_leaf_reg': 5, 'bagging_temperature': 0.5566347293220884, 'random_strength': 0.3545915941046903, 'border_count': 458, 'rsm': 0.8072612685075083}. Best is trial 28 with value: 61.79832585348951.\n"
     ]
    },
    {
     "name": "stdout",
     "output_type": "stream",
     "text": [
      "2669:\tlearn: 26.3637971\ttotal: 53.2s\tremaining: 0us\n",
      "0:\tlearn: 78.5816965\ttotal: 33.1ms\tremaining: 1m 47s\n",
      "300:\tlearn: 24.1480678\ttotal: 9.99s\tremaining: 1m 37s\n",
      "600:\tlearn: 22.4998232\ttotal: 20.2s\tremaining: 1m 29s\n",
      "900:\tlearn: 21.2812299\ttotal: 30.3s\tremaining: 1m 19s\n",
      "1200:\tlearn: 20.2903933\ttotal: 40.2s\tremaining: 1m 8s\n",
      "1500:\tlearn: 19.3976190\ttotal: 49.4s\tremaining: 57.6s\n",
      "1800:\tlearn: 18.6030872\ttotal: 58.8s\tremaining: 47.4s\n",
      "2100:\tlearn: 18.0132716\ttotal: 1m 9s\tremaining: 37.9s\n",
      "2400:\tlearn: 17.4790269\ttotal: 1m 20s\tremaining: 28.4s\n",
      "2700:\tlearn: 17.0716535\ttotal: 1m 31s\tremaining: 18.6s\n",
      "3000:\tlearn: 16.5073043\ttotal: 1m 42s\tremaining: 8.58s\n"
     ]
    },
    {
     "name": "stderr",
     "output_type": "stream",
     "text": [
      "[I 2023-11-11 10:43:03,721] Trial 46 finished with value: 62.695845171029205 and parameters: {'iterations': 3253, 'learning_rate': 0.014636050166694337, 'depth': 7, 'min_data_in_leaf': 78, 'l2_leaf_reg': 2, 'bagging_temperature': 0.6361764959680756, 'random_strength': 0.5070617255364404, 'border_count': 595, 'rsm': 0.8633894576240575}. Best is trial 28 with value: 61.79832585348951.\n"
     ]
    },
    {
     "name": "stdout",
     "output_type": "stream",
     "text": [
      "3252:\tlearn: 15.9438723\ttotal: 1m 51s\tremaining: 0us\n",
      "0:\tlearn: 78.2122038\ttotal: 18.5ms\tremaining: 54.7s\n",
      "300:\tlearn: 26.3850831\ttotal: 6.64s\tremaining: 58.6s\n",
      "600:\tlearn: 25.2963828\ttotal: 13.4s\tremaining: 52.5s\n",
      "900:\tlearn: 24.6042640\ttotal: 20.3s\tremaining: 46.2s\n",
      "1200:\tlearn: 24.0847030\ttotal: 26.6s\tremaining: 38.8s\n",
      "1500:\tlearn: 23.6081127\ttotal: 32.2s\tremaining: 31.2s\n",
      "1800:\tlearn: 23.2497555\ttotal: 37.9s\tremaining: 24.3s\n",
      "2100:\tlearn: 22.8607419\ttotal: 43.7s\tremaining: 17.7s\n",
      "2400:\tlearn: 22.5842643\ttotal: 49.4s\tremaining: 11.4s\n",
      "2700:\tlearn: 22.3906094\ttotal: 55.3s\tremaining: 5.18s\n"
     ]
    },
    {
     "name": "stderr",
     "output_type": "stream",
     "text": [
      "[I 2023-11-11 10:44:04,470] Trial 47 finished with value: 62.75774873543192 and parameters: {'iterations': 2954, 'learning_rate': 0.02880486405240293, 'depth': 3, 'min_data_in_leaf': 73, 'l2_leaf_reg': 4, 'bagging_temperature': 0.5306638274611569, 'random_strength': 0.33189311299955915, 'border_count': 706, 'rsm': 0.6278826527512287}. Best is trial 28 with value: 61.79832585348951.\n"
     ]
    },
    {
     "name": "stdout",
     "output_type": "stream",
     "text": [
      "2953:\tlearn: 22.2276851\ttotal: 1m\tremaining: 0us\n",
      "0:\tlearn: 78.9859518\ttotal: 17.8ms\tremaining: 40s\n",
      "300:\tlearn: 28.6980593\ttotal: 5.45s\tremaining: 35.2s\n",
      "600:\tlearn: 25.9022973\ttotal: 11s\tremaining: 30.1s\n",
      "900:\tlearn: 25.2643929\ttotal: 17.7s\tremaining: 26.4s\n",
      "1200:\tlearn: 24.7805380\ttotal: 25.9s\tremaining: 22.6s\n",
      "1500:\tlearn: 24.3700565\ttotal: 34.3s\tremaining: 17s\n",
      "1800:\tlearn: 24.0422547\ttotal: 42.5s\tremaining: 10.5s\n",
      "2100:\tlearn: 23.7229573\ttotal: 50.8s\tremaining: 3.53s\n"
     ]
    },
    {
     "name": "stderr",
     "output_type": "stream",
     "text": [
      "[I 2023-11-11 10:44:59,538] Trial 48 finished with value: 63.67524485127063 and parameters: {'iterations': 2247, 'learning_rate': 0.009027399022409618, 'depth': 4, 'min_data_in_leaf': 94, 'l2_leaf_reg': 3, 'bagging_temperature': 0.4851741953821104, 'random_strength': 0.37501395041603103, 'border_count': 349, 'rsm': 0.7615726711253623}. Best is trial 28 with value: 61.79832585348951.\n"
     ]
    },
    {
     "name": "stdout",
     "output_type": "stream",
     "text": [
      "2246:\tlearn: 23.5878257\ttotal: 54.7s\tremaining: 0us\n",
      "0:\tlearn: 78.6262630\ttotal: 35.2ms\tremaining: 1m 37s\n",
      "300:\tlearn: 24.3110355\ttotal: 11.6s\tremaining: 1m 35s\n",
      "600:\tlearn: 22.8583363\ttotal: 20.5s\tremaining: 1m 14s\n",
      "900:\tlearn: 21.6854171\ttotal: 29.4s\tremaining: 1m 1s\n",
      "1200:\tlearn: 20.8210130\ttotal: 38.5s\tremaining: 50.5s\n",
      "1500:\tlearn: 20.1027805\ttotal: 47.5s\tremaining: 40.3s\n",
      "1800:\tlearn: 19.5355184\ttotal: 56.6s\tremaining: 30.7s\n",
      "2100:\tlearn: 18.9783093\ttotal: 1m 6s\tremaining: 21.2s\n",
      "2400:\tlearn: 18.5228048\ttotal: 1m 15s\tremaining: 11.8s\n",
      "2700:\tlearn: 18.0148176\ttotal: 1m 24s\tremaining: 2.35s\n"
     ]
    },
    {
     "name": "stderr",
     "output_type": "stream",
     "text": [
      "[I 2023-11-11 10:46:26,870] Trial 49 finished with value: 62.41484845909292 and parameters: {'iterations': 2776, 'learning_rate': 0.018823918268734117, 'depth': 6, 'min_data_in_leaf': 33, 'l2_leaf_reg': 5, 'bagging_temperature': 0.5841883945494891, 'random_strength': 0.41448643726292667, 'border_count': 791, 'rsm': 0.7231185347854506}. Best is trial 28 with value: 61.79832585348951.\n"
     ]
    },
    {
     "name": "stdout",
     "output_type": "stream",
     "text": [
      "2775:\tlearn: 17.8908411\ttotal: 1m 26s\tremaining: 0us\n",
      "0:\tlearn: 78.8160378\ttotal: 19.4ms\tremaining: 50.5s\n",
      "300:\tlearn: 26.0147315\ttotal: 5.97s\tremaining: 45.7s\n",
      "600:\tlearn: 24.4538338\ttotal: 12s\tremaining: 40s\n",
      "900:\tlearn: 23.6489981\ttotal: 18.7s\tremaining: 35.4s\n",
      "1200:\tlearn: 23.0419409\ttotal: 25.5s\tremaining: 29.8s\n",
      "1500:\tlearn: 22.4386608\ttotal: 32.5s\tremaining: 23.8s\n",
      "1800:\tlearn: 22.0521872\ttotal: 39.4s\tremaining: 17.5s\n",
      "2100:\tlearn: 21.6322655\ttotal: 46.4s\tremaining: 11.1s\n",
      "2400:\tlearn: 21.2185719\ttotal: 53.1s\tremaining: 4.44s\n"
     ]
    },
    {
     "name": "stderr",
     "output_type": "stream",
     "text": [
      "[I 2023-11-11 10:47:24,879] Trial 50 finished with value: 62.19782958008779 and parameters: {'iterations': 2602, 'learning_rate': 0.012846705030641708, 'depth': 5, 'min_data_in_leaf': 61, 'l2_leaf_reg': 2, 'bagging_temperature': 0.5372777165672978, 'random_strength': 0.3394463430257601, 'border_count': 249, 'rsm': 0.8505395621390914}. Best is trial 28 with value: 61.79832585348951.\n"
     ]
    },
    {
     "name": "stdout",
     "output_type": "stream",
     "text": [
      "2601:\tlearn: 21.0180621\ttotal: 57.6s\tremaining: 0us\n",
      "0:\tlearn: 78.7143463\ttotal: 19.6ms\tremaining: 51.8s\n",
      "300:\tlearn: 25.8457291\ttotal: 6.29s\tremaining: 48.9s\n",
      "600:\tlearn: 24.2863580\ttotal: 12.7s\tremaining: 43.2s\n",
      "900:\tlearn: 23.5313553\ttotal: 19.4s\tremaining: 37.5s\n",
      "1200:\tlearn: 22.8562022\ttotal: 26.1s\tremaining: 31.3s\n",
      "1500:\tlearn: 22.3266260\ttotal: 32.8s\tremaining: 25s\n",
      "1800:\tlearn: 21.6976931\ttotal: 40.6s\tremaining: 19s\n",
      "2100:\tlearn: 21.2715022\ttotal: 48.5s\tremaining: 12.5s\n",
      "2400:\tlearn: 20.8649355\ttotal: 56.2s\tremaining: 5.64s\n"
     ]
    },
    {
     "name": "stderr",
     "output_type": "stream",
     "text": [
      "[I 2023-11-11 10:48:27,661] Trial 51 finished with value: 62.202927505913735 and parameters: {'iterations': 2642, 'learning_rate': 0.0134142917781166, 'depth': 5, 'min_data_in_leaf': 62, 'l2_leaf_reg': 2, 'bagging_temperature': 0.5392714509000477, 'random_strength': 0.3309617653193607, 'border_count': 253, 'rsm': 0.8541655669176089}. Best is trial 28 with value: 61.79832585348951.\n"
     ]
    },
    {
     "name": "stdout",
     "output_type": "stream",
     "text": [
      "2641:\tlearn: 20.5169379\ttotal: 1m 2s\tremaining: 0us\n",
      "0:\tlearn: 78.7149421\ttotal: 33.3ms\tremaining: 1m 21s\n",
      "300:\tlearn: 25.7367346\ttotal: 7.22s\tremaining: 51.2s\n",
      "600:\tlearn: 24.2758607\ttotal: 14.6s\tremaining: 44.5s\n",
      "900:\tlearn: 23.5096684\ttotal: 22s\tremaining: 37.4s\n",
      "1200:\tlearn: 22.9250995\ttotal: 29.4s\tremaining: 30.2s\n",
      "1500:\tlearn: 22.3695513\ttotal: 37s\tremaining: 23s\n",
      "1800:\tlearn: 21.8586257\ttotal: 44.8s\tremaining: 15.7s\n",
      "2100:\tlearn: 21.4085551\ttotal: 52.9s\tremaining: 8.38s\n",
      "2400:\tlearn: 20.9054595\ttotal: 1m 1s\tremaining: 847ms\n"
     ]
    },
    {
     "name": "stderr",
     "output_type": "stream",
     "text": [
      "[I 2023-11-11 10:49:30,645] Trial 52 finished with value: 62.27630864220182 and parameters: {'iterations': 2434, 'learning_rate': 0.013558789577737072, 'depth': 5, 'min_data_in_leaf': 56, 'l2_leaf_reg': 2, 'bagging_temperature': 0.5383972983777547, 'random_strength': 0.30686116602350466, 'border_count': 262, 'rsm': 0.8577004093980282}. Best is trial 28 with value: 61.79832585348951.\n"
     ]
    },
    {
     "name": "stdout",
     "output_type": "stream",
     "text": [
      "2433:\tlearn: 20.8536667\ttotal: 1m 2s\tremaining: 0us\n",
      "0:\tlearn: 78.9451822\ttotal: 36.4ms\tremaining: 1m 37s\n",
      "300:\tlearn: 26.8723158\ttotal: 9.19s\tremaining: 1m 12s\n",
      "600:\tlearn: 24.1456555\ttotal: 18.9s\tremaining: 1m 5s\n",
      "900:\tlearn: 23.3555359\ttotal: 28.3s\tremaining: 55.4s\n",
      "1200:\tlearn: 22.6262402\ttotal: 38.2s\tremaining: 46.7s\n",
      "1500:\tlearn: 22.1179015\ttotal: 48.2s\tremaining: 37.4s\n",
      "1800:\tlearn: 21.7270769\ttotal: 58s\tremaining: 27.8s\n",
      "2100:\tlearn: 21.1464481\ttotal: 1m 7s\tremaining: 18.1s\n",
      "2400:\tlearn: 20.6714004\ttotal: 1m 15s\tremaining: 8.38s\n"
     ]
    },
    {
     "name": "stderr",
     "output_type": "stream",
     "text": [
      "[I 2023-11-11 10:50:54,672] Trial 53 finished with value: 62.70320265714727 and parameters: {'iterations': 2666, 'learning_rate': 0.009489949932122772, 'depth': 6, 'min_data_in_leaf': 61, 'l2_leaf_reg': 2, 'bagging_temperature': 0.5041436824000004, 'random_strength': 0.330305280631872, 'border_count': 320, 'rsm': 0.8102673784163663}. Best is trial 28 with value: 61.79832585348951.\n"
     ]
    },
    {
     "name": "stdout",
     "output_type": "stream",
     "text": [
      "2665:\tlearn: 20.2388865\ttotal: 1m 23s\tremaining: 0us\n",
      "0:\tlearn: 78.5670636\ttotal: 31.2ms\tremaining: 1m 40s\n",
      "300:\tlearn: 25.4904912\ttotal: 7.21s\tremaining: 1m 9s\n",
      "600:\tlearn: 24.0720373\ttotal: 14.6s\tremaining: 1m 3s\n",
      "900:\tlearn: 23.2597789\ttotal: 22.1s\tremaining: 56.6s\n",
      "1200:\tlearn: 22.5376901\ttotal: 29.5s\tremaining: 49.3s\n",
      "1500:\tlearn: 22.1198259\ttotal: 36.2s\tremaining: 41.2s\n",
      "1800:\tlearn: 21.6579865\ttotal: 42.6s\tremaining: 33.3s\n",
      "2100:\tlearn: 21.2113007\ttotal: 48.9s\tremaining: 25.8s\n",
      "2400:\tlearn: 20.7205280\ttotal: 55.5s\tremaining: 18.7s\n",
      "2700:\tlearn: 20.3132871\ttotal: 1m 1s\tremaining: 11.7s\n",
      "3000:\tlearn: 20.1055522\ttotal: 1m 8s\tremaining: 4.75s\n"
     ]
    },
    {
     "name": "stderr",
     "output_type": "stream",
     "text": [
      "[I 2023-11-11 10:52:08,099] Trial 54 finished with value: 62.04132762325061 and parameters: {'iterations': 3209, 'learning_rate': 0.014792825750033893, 'depth': 5, 'min_data_in_leaf': 49, 'l2_leaf_reg': 3, 'bagging_temperature': 0.6250092299838296, 'random_strength': 0.34041685467089866, 'border_count': 208, 'rsm': 0.8907069778597712}. Best is trial 28 with value: 61.79832585348951.\n"
     ]
    },
    {
     "name": "stdout",
     "output_type": "stream",
     "text": [
      "3208:\tlearn: 19.9032899\ttotal: 1m 12s\tremaining: 0us\n",
      "0:\tlearn: 78.8949606\ttotal: 15.5ms\tremaining: 50.6s\n",
      "300:\tlearn: 27.0471057\ttotal: 5.88s\tremaining: 58.1s\n",
      "600:\tlearn: 25.3929349\ttotal: 11.9s\tremaining: 52.9s\n",
      "900:\tlearn: 24.7463044\ttotal: 18s\tremaining: 47.2s\n",
      "1200:\tlearn: 24.1975249\ttotal: 24.1s\tremaining: 41.5s\n",
      "1500:\tlearn: 23.8374277\ttotal: 30.2s\tremaining: 35.6s\n",
      "1800:\tlearn: 23.4945119\ttotal: 36.2s\tremaining: 29.6s\n",
      "2100:\tlearn: 23.1693872\ttotal: 41.9s\tremaining: 23.4s\n",
      "2400:\tlearn: 22.8309639\ttotal: 47.6s\tremaining: 17.3s\n",
      "2700:\tlearn: 22.5216971\ttotal: 53.3s\tremaining: 11.3s\n",
      "3000:\tlearn: 22.2264506\ttotal: 59.2s\tremaining: 5.35s\n"
     ]
    },
    {
     "name": "stderr",
     "output_type": "stream",
     "text": [
      "[I 2023-11-11 10:53:12,910] Trial 55 finished with value: 62.132140127738985 and parameters: {'iterations': 3272, 'learning_rate': 0.01196374873480985, 'depth': 4, 'min_data_in_leaf': 43, 'l2_leaf_reg': 2, 'bagging_temperature': 0.5599451784438182, 'random_strength': 0.3372139455413648, 'border_count': 241, 'rsm': 0.8846322684316129}. Best is trial 28 with value: 61.79832585348951.\n"
     ]
    },
    {
     "name": "stdout",
     "output_type": "stream",
     "text": [
      "3271:\tlearn: 22.0087240\ttotal: 1m 4s\tremaining: 0us\n",
      "0:\tlearn: 78.8980851\ttotal: 20.4ms\tremaining: 1m 6s\n",
      "300:\tlearn: 28.2006181\ttotal: 5.16s\tremaining: 50.8s\n",
      "600:\tlearn: 26.5146122\ttotal: 10.4s\tremaining: 45.9s\n",
      "900:\tlearn: 25.9499376\ttotal: 15.6s\tremaining: 41s\n",
      "1200:\tlearn: 25.4048201\ttotal: 20.9s\tremaining: 35.9s\n",
      "1500:\tlearn: 24.9629216\ttotal: 26.2s\tremaining: 30.7s\n",
      "1800:\tlearn: 24.6641856\ttotal: 31.6s\tremaining: 25.7s\n",
      "2100:\tlearn: 24.3703123\ttotal: 37.5s\tremaining: 20.8s\n",
      "2400:\tlearn: 24.2348403\ttotal: 43.5s\tremaining: 15.7s\n",
      "2700:\tlearn: 24.0284391\ttotal: 49.7s\tremaining: 10.4s\n",
      "3000:\tlearn: 23.7775546\ttotal: 55.8s\tremaining: 4.91s\n"
     ]
    },
    {
     "name": "stderr",
     "output_type": "stream",
     "text": [
      "[I 2023-11-11 10:54:14,404] Trial 56 finished with value: 63.32608882168925 and parameters: {'iterations': 3265, 'learning_rate': 0.011367093145153917, 'depth': 3, 'min_data_in_leaf': 45, 'l2_leaf_reg': 3, 'bagging_temperature': 0.5642298529946516, 'random_strength': 0.36719569176670735, 'border_count': 131, 'rsm': 0.9393177716624259}. Best is trial 28 with value: 61.79832585348951.\n"
     ]
    },
    {
     "name": "stdout",
     "output_type": "stream",
     "text": [
      "3264:\tlearn: 23.5560327\ttotal: 1m 1s\tremaining: 0us\n",
      "0:\tlearn: 79.0359372\ttotal: 18.7ms\tremaining: 59.1s\n",
      "300:\tlearn: 31.9328750\ttotal: 6.19s\tremaining: 59s\n",
      "600:\tlearn: 24.8547628\ttotal: 12.5s\tremaining: 53.5s\n",
      "900:\tlearn: 23.4356579\ttotal: 18.8s\tremaining: 47.2s\n",
      "1200:\tlearn: 22.7875092\ttotal: 25.1s\tremaining: 41.2s\n",
      "1500:\tlearn: 22.2338911\ttotal: 31.4s\tremaining: 34.9s\n",
      "1800:\tlearn: 21.7212298\ttotal: 37.8s\tremaining: 28.7s\n",
      "2100:\tlearn: 21.3866217\ttotal: 44.3s\tremaining: 22.5s\n",
      "2400:\tlearn: 20.8509842\ttotal: 50.9s\tremaining: 16.3s\n",
      "2700:\tlearn: 20.4268030\ttotal: 57.4s\tremaining: 9.94s\n",
      "3000:\tlearn: 19.9860482\ttotal: 1m 3s\tremaining: 3.58s\n"
     ]
    },
    {
     "name": "stderr",
     "output_type": "stream",
     "text": [
      "[I 2023-11-11 10:55:22,871] Trial 57 finished with value: 62.982613484174536 and parameters: {'iterations': 3169, 'learning_rate': 0.0058666459149687746, 'depth': 7, 'min_data_in_leaf': 35, 'l2_leaf_reg': 2, 'bagging_temperature': 0.6843100017478669, 'random_strength': 0.3052308611280016, 'border_count': 45, 'rsm': 0.8909494253866362}. Best is trial 28 with value: 61.79832585348951.\n"
     ]
    },
    {
     "name": "stdout",
     "output_type": "stream",
     "text": [
      "3168:\tlearn: 19.7702199\ttotal: 1m 7s\tremaining: 0us\n",
      "0:\tlearn: 78.6141247\ttotal: 19.4ms\tremaining: 1m 7s\n",
      "300:\tlearn: 26.2426226\ttotal: 6.15s\tremaining: 1m 5s\n",
      "600:\tlearn: 24.9602644\ttotal: 12.6s\tremaining: 1m\n",
      "900:\tlearn: 24.3307300\ttotal: 19s\tremaining: 54.6s\n",
      "1200:\tlearn: 23.7253551\ttotal: 25.6s\tremaining: 48.8s\n",
      "1500:\tlearn: 23.2732707\ttotal: 32.1s\tremaining: 42.6s\n",
      "1800:\tlearn: 22.7478490\ttotal: 38.6s\tremaining: 36.2s\n",
      "2100:\tlearn: 22.3565820\ttotal: 45.3s\tremaining: 29.9s\n",
      "2400:\tlearn: 22.0363806\ttotal: 51.9s\tremaining: 23.5s\n",
      "2700:\tlearn: 21.7498715\ttotal: 58.6s\tremaining: 17.1s\n",
      "3000:\tlearn: 21.5404931\ttotal: 1m 5s\tremaining: 10.6s\n",
      "3300:\tlearn: 21.3509599\ttotal: 1m 12s\tremaining: 4.12s\n"
     ]
    },
    {
     "name": "stderr",
     "output_type": "stream",
     "text": [
      "[I 2023-11-11 10:56:39,403] Trial 58 finished with value: 62.361598945127966 and parameters: {'iterations': 3490, 'learning_rate': 0.01553511029645022, 'depth': 4, 'min_data_in_leaf': 52, 'l2_leaf_reg': 3, 'bagging_temperature': 0.6387089341708997, 'random_strength': 0.3390414654452226, 'border_count': 204, 'rsm': 0.9104925459925809}. Best is trial 28 with value: 61.79832585348951.\n"
     ]
    },
    {
     "name": "stdout",
     "output_type": "stream",
     "text": [
      "3489:\tlearn: 21.1773530\ttotal: 1m 16s\tremaining: 0us\n",
      "0:\tlearn: 78.0884367\ttotal: 18.2ms\tremaining: 1m\n",
      "300:\tlearn: 23.8156342\ttotal: 5.91s\tremaining: 59.6s\n",
      "600:\tlearn: 21.9422728\ttotal: 12s\tremaining: 54.5s\n",
      "900:\tlearn: 20.6656177\ttotal: 18s\tremaining: 48.7s\n",
      "1200:\tlearn: 19.5572664\ttotal: 24.3s\tremaining: 43.2s\n",
      "1500:\tlearn: 18.8670657\ttotal: 30.6s\tremaining: 37.4s\n",
      "1800:\tlearn: 18.1799207\ttotal: 36.8s\tremaining: 31.4s\n",
      "2100:\tlearn: 17.5207261\ttotal: 43.2s\tremaining: 25.4s\n",
      "2400:\tlearn: 17.0864043\ttotal: 49.5s\tremaining: 19.3s\n",
      "2700:\tlearn: 16.5476715\ttotal: 55.8s\tremaining: 13.1s\n",
      "3000:\tlearn: 16.0942006\ttotal: 1m 2s\tremaining: 6.95s\n",
      "3300:\tlearn: 15.6508270\ttotal: 1m 8s\tremaining: 747ms\n"
     ]
    },
    {
     "name": "stderr",
     "output_type": "stream",
     "text": [
      "[I 2023-11-11 10:57:49,202] Trial 59 finished with value: 62.35580519657735 and parameters: {'iterations': 3337, 'learning_rate': 0.02488341634650628, 'depth': 6, 'min_data_in_leaf': 44, 'l2_leaf_reg': 2, 'bagging_temperature': 0.6985374839062781, 'random_strength': 0.3703489198298192, 'border_count': 213, 'rsm': 0.8877136675109762}. Best is trial 28 with value: 61.79832585348951.\n"
     ]
    },
    {
     "name": "stdout",
     "output_type": "stream",
     "text": [
      "3336:\tlearn: 15.6059921\ttotal: 1m 9s\tremaining: 0us\n",
      "0:\tlearn: 78.9225327\ttotal: 14ms\tremaining: 40.2s\n",
      "300:\tlearn: 27.8755749\ttotal: 5.22s\tremaining: 44.5s\n",
      "600:\tlearn: 26.3694665\ttotal: 11s\tremaining: 41.4s\n",
      "900:\tlearn: 25.7149571\ttotal: 17.1s\tremaining: 37.3s\n",
      "1200:\tlearn: 25.2494293\ttotal: 23s\tremaining: 31.9s\n",
      "1500:\tlearn: 24.9368210\ttotal: 29s\tremaining: 26.4s\n",
      "1800:\tlearn: 24.6205458\ttotal: 35.2s\tremaining: 20.8s\n",
      "2100:\tlearn: 24.3623018\ttotal: 41.2s\tremaining: 15s\n",
      "2400:\tlearn: 24.1764444\ttotal: 47.2s\tremaining: 9.17s\n",
      "2700:\tlearn: 23.9906393\ttotal: 53.4s\tremaining: 3.28s\n"
     ]
    },
    {
     "name": "stderr",
     "output_type": "stream",
     "text": [
      "[I 2023-11-11 10:58:46,359] Trial 60 finished with value: 63.83426244711127 and parameters: {'iterations': 2867, 'learning_rate': 0.011977323774563, 'depth': 3, 'min_data_in_leaf': 39, 'l2_leaf_reg': 3, 'bagging_temperature': 0.4701183869881697, 'random_strength': 0.3011716954788669, 'border_count': 268, 'rsm': 0.8403070977074607}. Best is trial 28 with value: 61.79832585348951.\n"
     ]
    },
    {
     "name": "stdout",
     "output_type": "stream",
     "text": [
      "2866:\tlearn: 23.8685142\ttotal: 56.7s\tremaining: 0us\n",
      "0:\tlearn: 78.6977565\ttotal: 14.6ms\tremaining: 45.5s\n",
      "300:\tlearn: 25.7789544\ttotal: 6s\tremaining: 56.2s\n",
      "600:\tlearn: 24.2981408\ttotal: 12.4s\tremaining: 51.9s\n",
      "900:\tlearn: 23.5323546\ttotal: 18.8s\tremaining: 46.3s\n",
      "1200:\tlearn: 22.9330557\ttotal: 24.9s\tremaining: 39.8s\n",
      "1500:\tlearn: 22.3731429\ttotal: 30.8s\tremaining: 33.3s\n",
      "1800:\tlearn: 21.7664658\ttotal: 36.4s\tremaining: 26.7s\n",
      "2100:\tlearn: 21.3000711\ttotal: 42.1s\tremaining: 20.5s\n",
      "2400:\tlearn: 20.9468023\ttotal: 47.7s\tremaining: 14.4s\n",
      "2700:\tlearn: 20.5882591\ttotal: 53.4s\tremaining: 8.35s\n",
      "3000:\tlearn: 20.3608796\ttotal: 59.2s\tremaining: 2.41s\n"
     ]
    },
    {
     "name": "stderr",
     "output_type": "stream",
     "text": [
      "[I 2023-11-11 10:59:48,362] Trial 61 finished with value: 62.371644905263246 and parameters: {'iterations': 3123, 'learning_rate': 0.013665485878676968, 'depth': 5, 'min_data_in_leaf': 53, 'l2_leaf_reg': 2, 'bagging_temperature': 0.5436762694464228, 'random_strength': 0.33038899616913764, 'border_count': 246, 'rsm': 0.860756179001263}. Best is trial 28 with value: 61.79832585348951.\n"
     ]
    },
    {
     "name": "stdout",
     "output_type": "stream",
     "text": [
      "3122:\tlearn: 20.2316576\ttotal: 1m 1s\tremaining: 0us\n",
      "0:\tlearn: 78.6327051\ttotal: 15.3ms\tremaining: 45.6s\n",
      "300:\tlearn: 26.0794088\ttotal: 5.37s\tremaining: 47.7s\n",
      "600:\tlearn: 24.8964991\ttotal: 11.9s\tremaining: 46.8s\n",
      "900:\tlearn: 24.1829535\ttotal: 18.6s\tremaining: 42.8s\n",
      "1200:\tlearn: 23.6389193\ttotal: 25.2s\tremaining: 37.2s\n",
      "1500:\tlearn: 23.1367974\ttotal: 31.9s\tremaining: 31.4s\n",
      "1800:\tlearn: 22.6152637\ttotal: 38.8s\tremaining: 25.3s\n",
      "2100:\tlearn: 22.2968125\ttotal: 45.3s\tremaining: 18.8s\n",
      "2400:\tlearn: 21.9273535\ttotal: 51.9s\tremaining: 12.4s\n",
      "2700:\tlearn: 21.5533483\ttotal: 58.7s\tremaining: 5.95s\n"
     ]
    },
    {
     "name": "stderr",
     "output_type": "stream",
     "text": [
      "[I 2023-11-11 11:00:53,732] Trial 62 finished with value: 62.465652383461425 and parameters: {'iterations': 2975, 'learning_rate': 0.016583885127172127, 'depth': 4, 'min_data_in_leaf': 63, 'l2_leaf_reg': 2, 'bagging_temperature': 0.6027984734033577, 'random_strength': 0.38648913572967913, 'border_count': 320, 'rsm': 0.8262746995415121}. Best is trial 28 with value: 61.79832585348951.\n"
     ]
    },
    {
     "name": "stdout",
     "output_type": "stream",
     "text": [
      "2974:\tlearn: 21.2979564\ttotal: 1m 4s\tremaining: 0us\n",
      "0:\tlearn: 78.9659104\ttotal: 23.6ms\tremaining: 49.6s\n",
      "300:\tlearn: 27.1537358\ttotal: 6.4s\tremaining: 38.4s\n",
      "600:\tlearn: 24.8427447\ttotal: 13s\tremaining: 32.6s\n",
      "900:\tlearn: 24.1379756\ttotal: 19.5s\tremaining: 26.1s\n",
      "1200:\tlearn: 23.6136457\ttotal: 26.1s\tremaining: 19.6s\n",
      "1500:\tlearn: 23.0940516\ttotal: 33.3s\tremaining: 13.4s\n",
      "1800:\tlearn: 22.6629949\ttotal: 40.4s\tremaining: 6.82s\n"
     ]
    },
    {
     "name": "stderr",
     "output_type": "stream",
     "text": [
      "[I 2023-11-11 11:01:41,748] Trial 63 finished with value: 62.64400802628695 and parameters: {'iterations': 2105, 'learning_rate': 0.010038294445708086, 'depth': 5, 'min_data_in_leaf': 58, 'l2_leaf_reg': 2, 'bagging_temperature': 0.5067172301083103, 'random_strength': 0.3479893140299968, 'border_count': 192, 'rsm': 0.9590478455464649}. Best is trial 28 with value: 61.79832585348951.\n"
     ]
    },
    {
     "name": "stdout",
     "output_type": "stream",
     "text": [
      "2100:\tlearn: 22.3348061\ttotal: 47.5s\tremaining: 90.5ms\n",
      "2104:\tlearn: 22.3261374\ttotal: 47.6s\tremaining: 0us\n",
      "0:\tlearn: 78.5405222\ttotal: 19.1ms\tremaining: 44.2s\n",
      "300:\tlearn: 24.0588471\ttotal: 7.11s\tremaining: 47.8s\n",
      "600:\tlearn: 22.5643972\ttotal: 14.1s\tremaining: 40.3s\n",
      "900:\tlearn: 21.4293605\ttotal: 21.4s\tremaining: 33.8s\n",
      "1200:\tlearn: 20.4951137\ttotal: 28.6s\tremaining: 26.7s\n",
      "1500:\tlearn: 19.7033425\ttotal: 36s\tremaining: 19.7s\n",
      "1800:\tlearn: 19.2703345\ttotal: 43.3s\tremaining: 12.5s\n",
      "2100:\tlearn: 18.6525729\ttotal: 51.2s\tremaining: 5.39s\n"
     ]
    },
    {
     "name": "stderr",
     "output_type": "stream",
     "text": [
      "[I 2023-11-11 11:02:38,699] Trial 64 finished with value: 62.18323718117303 and parameters: {'iterations': 2322, 'learning_rate': 0.01921741946183123, 'depth': 6, 'min_data_in_leaf': 47, 'l2_leaf_reg': 3, 'bagging_temperature': 0.5282351184228694, 'random_strength': 0.31544075006369793, 'border_count': 110, 'rsm': 0.8780396750582514}. Best is trial 28 with value: 61.79832585348951.\n"
     ]
    },
    {
     "name": "stdout",
     "output_type": "stream",
     "text": [
      "2321:\tlearn: 18.2965613\ttotal: 56.5s\tremaining: 0us\n",
      "0:\tlearn: 78.5653444\ttotal: 17.3ms\tremaining: 33.3s\n",
      "300:\tlearn: 24.1539167\ttotal: 6.79s\tremaining: 36.6s\n",
      "600:\tlearn: 22.6651001\ttotal: 13.8s\tremaining: 30.3s\n",
      "900:\tlearn: 21.5816663\ttotal: 20.9s\tremaining: 23.7s\n",
      "1200:\tlearn: 20.5752549\ttotal: 28.3s\tremaining: 17s\n",
      "1500:\tlearn: 19.7190530\ttotal: 35.2s\tremaining: 9.9s\n",
      "1800:\tlearn: 19.1323693\ttotal: 42.5s\tremaining: 2.88s\n"
     ]
    },
    {
     "name": "stderr",
     "output_type": "stream",
     "text": [
      "[I 2023-11-11 11:03:24,490] Trial 65 finished with value: 62.47466166107997 and parameters: {'iterations': 1923, 'learning_rate': 0.019124008489839393, 'depth': 6, 'min_data_in_leaf': 49, 'l2_leaf_reg': 3, 'bagging_temperature': 0.5679216340045085, 'random_strength': 0.39832632789316474, 'border_count': 110, 'rsm': 0.882936166885736}. Best is trial 28 with value: 61.79832585348951.\n"
     ]
    },
    {
     "name": "stdout",
     "output_type": "stream",
     "text": [
      "1922:\tlearn: 18.9768785\ttotal: 45.4s\tremaining: 0us\n",
      "0:\tlearn: 78.1620341\ttotal: 22.3ms\tremaining: 51.3s\n",
      "300:\tlearn: 22.5859989\ttotal: 7.13s\tremaining: 47.3s\n",
      "600:\tlearn: 20.3085217\ttotal: 14s\tremaining: 39.6s\n",
      "900:\tlearn: 18.7735049\ttotal: 21.3s\tremaining: 33s\n",
      "1200:\tlearn: 17.6067423\ttotal: 28.5s\tremaining: 26s\n",
      "1500:\tlearn: 16.6224729\ttotal: 35.7s\tremaining: 18.9s\n",
      "1800:\tlearn: 15.8411326\ttotal: 43.1s\tremaining: 11.9s\n",
      "2100:\tlearn: 14.9587234\ttotal: 50.3s\tremaining: 4.69s\n"
     ]
    },
    {
     "name": "stderr",
     "output_type": "stream",
     "text": [
      "[I 2023-11-11 11:04:20,009] Trial 66 finished with value: 62.804550186965756 and parameters: {'iterations': 2297, 'learning_rate': 0.026972784553006193, 'depth': 7, 'min_data_in_leaf': 45, 'l2_leaf_reg': 3, 'bagging_temperature': 0.5203049407715971, 'random_strength': 0.31923865714220445, 'border_count': 41, 'rsm': 0.9434123435616495}. Best is trial 28 with value: 61.79832585348951.\n"
     ]
    },
    {
     "name": "stdout",
     "output_type": "stream",
     "text": [
      "2296:\tlearn: 14.4930554\ttotal: 55.1s\tremaining: 0us\n",
      "0:\tlearn: 78.1274777\ttotal: 18.3ms\tremaining: 51.1s\n",
      "300:\tlearn: 25.0677646\ttotal: 6.39s\tremaining: 52.7s\n",
      "600:\tlearn: 23.8503196\ttotal: 12.9s\tremaining: 46.9s\n",
      "900:\tlearn: 22.7465106\ttotal: 19.5s\tremaining: 40.7s\n",
      "1200:\tlearn: 22.0916974\ttotal: 26.1s\tremaining: 34.5s\n",
      "1500:\tlearn: 21.5169936\ttotal: 32.6s\tremaining: 27.9s\n",
      "1800:\tlearn: 21.0351350\ttotal: 38.6s\tremaining: 21.1s\n",
      "2100:\tlearn: 20.5821244\ttotal: 45s\tremaining: 14.7s\n",
      "2400:\tlearn: 20.2377562\ttotal: 50.9s\tremaining: 8.17s\n",
      "2700:\tlearn: 19.8889199\ttotal: 57s\tremaining: 1.79s\n"
     ]
    },
    {
     "name": "stderr",
     "output_type": "stream",
     "text": [
      "[I 2023-11-11 11:05:19,100] Trial 67 finished with value: 62.143124359118026 and parameters: {'iterations': 2786, 'learning_rate': 0.031607862507582914, 'depth': 4, 'min_data_in_leaf': 26, 'l2_leaf_reg': 3, 'bagging_temperature': 0.46757400808570204, 'random_strength': 0.35741658128198966, 'border_count': 152, 'rsm': 0.9155718681447086}. Best is trial 28 with value: 61.79832585348951.\n"
     ]
    },
    {
     "name": "stdout",
     "output_type": "stream",
     "text": [
      "2785:\tlearn: 19.7938716\ttotal: 58.7s\tremaining: 0us\n",
      "0:\tlearn: 78.5786287\ttotal: 11.6ms\tremaining: 38.6s\n",
      "300:\tlearn: 30.6847489\ttotal: 5.16s\tremaining: 52.1s\n",
      "600:\tlearn: 30.4316071\ttotal: 10.7s\tremaining: 48.7s\n",
      "900:\tlearn: 30.2811352\ttotal: 16.5s\tremaining: 44.5s\n",
      "1200:\tlearn: 30.2086791\ttotal: 22.2s\tremaining: 39.5s\n",
      "1500:\tlearn: 30.1591973\ttotal: 28s\tremaining: 34.2s\n",
      "1800:\tlearn: 30.1100597\ttotal: 34.2s\tremaining: 29.2s\n",
      "2100:\tlearn: 30.0802472\ttotal: 42.5s\tremaining: 25s\n",
      "2400:\tlearn: 30.0557774\ttotal: 51s\tremaining: 19.9s\n",
      "2700:\tlearn: 30.0348798\ttotal: 59.3s\tremaining: 14s\n",
      "3000:\tlearn: 30.0156971\ttotal: 1m 7s\tremaining: 7.59s\n",
      "3300:\tlearn: 29.9985966\ttotal: 1m 16s\tremaining: 852ms\n"
     ]
    },
    {
     "name": "stderr",
     "output_type": "stream",
     "text": [
      "[I 2023-11-11 11:06:36,565] Trial 68 finished with value: 72.51609838403813 and parameters: {'iterations': 3338, 'learning_rate': 0.033658153550800506, 'depth': 1, 'min_data_in_leaf': 13, 'l2_leaf_reg': 4, 'bagging_temperature': 0.4745979055809396, 'random_strength': 0.3735235609656204, 'border_count': 141, 'rsm': 0.9190724041705409}. Best is trial 28 with value: 61.79832585348951.\n"
     ]
    },
    {
     "name": "stdout",
     "output_type": "stream",
     "text": [
      "3337:\tlearn: 29.9958905\ttotal: 1m 17s\tremaining: 0us\n",
      "0:\tlearn: 78.1799831\ttotal: 19.7ms\tremaining: 56.6s\n",
      "300:\tlearn: 26.1674291\ttotal: 7.52s\tremaining: 1m 4s\n",
      "600:\tlearn: 25.0280830\ttotal: 15.3s\tremaining: 57.8s\n",
      "900:\tlearn: 24.2450590\ttotal: 23.2s\tremaining: 50.7s\n",
      "1200:\tlearn: 23.7581440\ttotal: 31.4s\tremaining: 43.6s\n",
      "1500:\tlearn: 23.2748446\ttotal: 39.4s\tremaining: 35.8s\n",
      "1800:\tlearn: 22.8321945\ttotal: 47.3s\tremaining: 27.9s\n",
      "2100:\tlearn: 22.5849247\ttotal: 55s\tremaining: 20s\n",
      "2400:\tlearn: 22.2515004\ttotal: 1m 2s\tremaining: 12.2s\n",
      "2700:\tlearn: 21.9940914\ttotal: 1m 10s\tremaining: 4.33s\n"
     ]
    },
    {
     "name": "stderr",
     "output_type": "stream",
     "text": [
      "[I 2023-11-11 11:07:52,409] Trial 69 finished with value: 62.27327162227847 and parameters: {'iterations': 2866, 'learning_rate': 0.030332195513523997, 'depth': 3, 'min_data_in_leaf': 4, 'l2_leaf_reg': 3, 'bagging_temperature': 0.4492552932061881, 'random_strength': 0.454519739428596, 'border_count': 170, 'rsm': 0.7935998707698573}. Best is trial 28 with value: 61.79832585348951.\n"
     ]
    },
    {
     "name": "stdout",
     "output_type": "stream",
     "text": [
      "2865:\tlearn: 21.8684354\ttotal: 1m 15s\tremaining: 0us\n",
      "0:\tlearn: 76.6477626\ttotal: 129ms\tremaining: 6m 57s\n",
      "300:\tlearn: 8.0147285\ttotal: 35.7s\tremaining: 5m 47s\n",
      "600:\tlearn: 3.8105532\ttotal: 1m 8s\tremaining: 5m\n",
      "900:\tlearn: 1.9106292\ttotal: 1m 40s\tremaining: 4m 20s\n",
      "1200:\tlearn: 1.0414454\ttotal: 2m 12s\tremaining: 3m 44s\n",
      "1500:\tlearn: 0.6294403\ttotal: 2m 43s\tremaining: 3m 9s\n",
      "1800:\tlearn: 0.4153860\ttotal: 3m 14s\tremaining: 2m 35s\n",
      "2100:\tlearn: 0.2541057\ttotal: 3m 47s\tremaining: 2m 2s\n",
      "2400:\tlearn: 0.1584783\ttotal: 4m 19s\tremaining: 1m 30s\n",
      "2700:\tlearn: 0.1025955\ttotal: 4m 51s\tremaining: 57.8s\n",
      "3000:\tlearn: 0.0610458\ttotal: 5m 23s\tremaining: 25.4s\n",
      "3236:\tlearn: 0.0378439\ttotal: 5m 48s\tremaining: 0us\n"
     ]
    },
    {
     "name": "stderr",
     "output_type": "stream",
     "text": [
      "[I 2023-11-11 11:13:43,499] Trial 70 finished with value: 72.80719501912033 and parameters: {'iterations': 3237, 'learning_rate': 0.04361170632653162, 'depth': 13, 'min_data_in_leaf': 25, 'l2_leaf_reg': 4, 'bagging_temperature': 0.9026812789344306, 'random_strength': 0.35499390012658044, 'border_count': 97, 'rsm': 0.9662000735068171}. Best is trial 28 with value: 61.79832585348951.\n"
     ]
    },
    {
     "name": "stdout",
     "output_type": "stream",
     "text": [
      "0:\tlearn: 78.3061265\ttotal: 21.1ms\tremaining: 52s\n",
      "300:\tlearn: 24.5378830\ttotal: 6.62s\tremaining: 47.6s\n",
      "600:\tlearn: 23.1660303\ttotal: 13.4s\tremaining: 41.6s\n",
      "900:\tlearn: 22.2949363\ttotal: 20.7s\tremaining: 35.9s\n",
      "1200:\tlearn: 21.4472845\ttotal: 27.7s\tremaining: 29.1s\n",
      "1500:\tlearn: 20.8803755\ttotal: 34.6s\tremaining: 22.2s\n",
      "1800:\tlearn: 20.3943778\ttotal: 41s\tremaining: 15.1s\n",
      "2100:\tlearn: 19.8916438\ttotal: 47.3s\tremaining: 8.18s\n",
      "2400:\tlearn: 19.3979949\ttotal: 53.8s\tremaining: 1.41s\n"
     ]
    },
    {
     "name": "stderr",
     "output_type": "stream",
     "text": [
      "[I 2023-11-11 11:14:38,977] Trial 71 finished with value: 62.36316128797036 and parameters: {'iterations': 2464, 'learning_rate': 0.024124649406996133, 'depth': 5, 'min_data_in_leaf': 40, 'l2_leaf_reg': 3, 'bagging_temperature': 0.5226757130884504, 'random_strength': 0.3200751342930383, 'border_count': 58, 'rsm': 0.8898381021982555}. Best is trial 28 with value: 61.79832585348951.\n"
     ]
    },
    {
     "name": "stdout",
     "output_type": "stream",
     "text": [
      "2463:\tlearn: 19.2862381\ttotal: 55.1s\tremaining: 0us\n",
      "0:\tlearn: 78.5140431\ttotal: 18.3ms\tremaining: 51.3s\n",
      "300:\tlearn: 25.7812815\ttotal: 5.99s\tremaining: 49.7s\n",
      "600:\tlearn: 24.6577391\ttotal: 12.1s\tremaining: 44.1s\n",
      "900:\tlearn: 24.0021248\ttotal: 18.2s\tremaining: 38.3s\n",
      "1200:\tlearn: 23.3608691\ttotal: 24.6s\tremaining: 32.7s\n",
      "1500:\tlearn: 22.7669020\ttotal: 30.8s\tremaining: 26.6s\n",
      "1800:\tlearn: 22.2569834\ttotal: 37.1s\tremaining: 20.5s\n",
      "2100:\tlearn: 21.7898897\ttotal: 43.3s\tremaining: 14.4s\n",
      "2400:\tlearn: 21.4729242\ttotal: 49.6s\tremaining: 8.21s\n",
      "2700:\tlearn: 21.2434249\ttotal: 56s\tremaining: 2.01s\n"
     ]
    },
    {
     "name": "stderr",
     "output_type": "stream",
     "text": [
      "[I 2023-11-11 11:15:37,369] Trial 72 finished with value: 62.492263106363865 and parameters: {'iterations': 2798, 'learning_rate': 0.020203982379277396, 'depth': 4, 'min_data_in_leaf': 30, 'l2_leaf_reg': 3, 'bagging_temperature': 0.49895034443336195, 'random_strength': 0.38840366857119457, 'border_count': 224, 'rsm': 0.8338444880828842}. Best is trial 28 with value: 61.79832585348951.\n"
     ]
    },
    {
     "name": "stdout",
     "output_type": "stream",
     "text": [
      "2797:\tlearn: 21.1185026\ttotal: 58s\tremaining: 0us\n",
      "0:\tlearn: 78.6546003\ttotal: 19.3ms\tremaining: 45.1s\n",
      "300:\tlearn: 24.5549202\ttotal: 6.78s\tremaining: 46s\n",
      "600:\tlearn: 23.1288413\ttotal: 13.5s\tremaining: 39.2s\n",
      "900:\tlearn: 22.1285666\ttotal: 19.9s\tremaining: 31.9s\n",
      "1200:\tlearn: 21.3836048\ttotal: 26.5s\tremaining: 25.2s\n",
      "1500:\tlearn: 20.6182794\ttotal: 32.9s\tremaining: 18.5s\n",
      "1800:\tlearn: 19.9038077\ttotal: 39.5s\tremaining: 11.9s\n",
      "2100:\tlearn: 19.3097042\ttotal: 46s\tremaining: 5.32s\n"
     ]
    },
    {
     "name": "stderr",
     "output_type": "stream",
     "text": [
      "[I 2023-11-11 11:16:29,053] Trial 73 finished with value: 62.48060544266269 and parameters: {'iterations': 2344, 'learning_rate': 0.0157864263191907, 'depth': 6, 'min_data_in_leaf': 18, 'l2_leaf_reg': 3, 'bagging_temperature': 0.5520876800135937, 'random_strength': 0.34715153146869837, 'border_count': 286, 'rsm': 0.9300314511641512}. Best is trial 28 with value: 61.79832585348951.\n"
     ]
    },
    {
     "name": "stdout",
     "output_type": "stream",
     "text": [
      "2343:\tlearn: 18.9478121\ttotal: 51.3s\tremaining: 0us\n",
      "0:\tlearn: 78.1589640\ttotal: 22.5ms\tremaining: 49s\n",
      "300:\tlearn: 25.3445100\ttotal: 5.31s\tremaining: 33.1s\n",
      "600:\tlearn: 24.1076231\ttotal: 10.8s\tremaining: 28.4s\n",
      "900:\tlearn: 23.2459267\ttotal: 16.4s\tremaining: 23.2s\n",
      "1200:\tlearn: 22.4688910\ttotal: 21.9s\tremaining: 17.8s\n",
      "1500:\tlearn: 21.8146488\ttotal: 27.6s\tremaining: 12.4s\n",
      "1800:\tlearn: 21.4663634\ttotal: 33.3s\tremaining: 6.92s\n",
      "2100:\tlearn: 21.0824669\ttotal: 39.1s\tremaining: 1.38s\n"
     ]
    },
    {
     "name": "stderr",
     "output_type": "stream",
     "text": [
      "[I 2023-11-11 11:17:09,820] Trial 74 finished with value: 62.23925725389672 and parameters: {'iterations': 2175, 'learning_rate': 0.027395086091067316, 'depth': 4, 'min_data_in_leaf': 69, 'l2_leaf_reg': 4, 'bagging_temperature': 0.578350109839262, 'random_strength': 0.41810409820922667, 'border_count': 137, 'rsm': 0.7974155207283676}. Best is trial 28 with value: 61.79832585348951.\n"
     ]
    },
    {
     "name": "stdout",
     "output_type": "stream",
     "text": [
      "2174:\tlearn: 21.0103736\ttotal: 40.5s\tremaining: 0us\n",
      "0:\tlearn: 78.1289045\ttotal: 16.8ms\tremaining: 51.9s\n",
      "300:\tlearn: 24.6669103\ttotal: 5.36s\tremaining: 49.5s\n",
      "600:\tlearn: 23.2913650\ttotal: 10.8s\tremaining: 44.7s\n",
      "900:\tlearn: 22.3315833\ttotal: 16.5s\tremaining: 39.8s\n",
      "1200:\tlearn: 21.5624879\ttotal: 22.1s\tremaining: 34.6s\n",
      "1500:\tlearn: 20.9156961\ttotal: 27.7s\tremaining: 29.2s\n",
      "1800:\tlearn: 20.3490117\ttotal: 33.5s\tremaining: 23.8s\n",
      "2100:\tlearn: 19.8208548\ttotal: 39.5s\tremaining: 18.4s\n",
      "2400:\tlearn: 19.4229865\ttotal: 45.2s\tremaining: 12.8s\n",
      "2700:\tlearn: 19.0509341\ttotal: 51.1s\tremaining: 7.19s\n",
      "3000:\tlearn: 18.6569743\ttotal: 58s\tremaining: 1.54s\n"
     ]
    },
    {
     "name": "stderr",
     "output_type": "stream",
     "text": [
      "[I 2023-11-11 11:18:10,096] Trial 75 finished with value: 62.23141058491869 and parameters: {'iterations': 3081, 'learning_rate': 0.023373291505824144, 'depth': 5, 'min_data_in_leaf': 42, 'l2_leaf_reg': 2, 'bagging_temperature': 0.522279197398168, 'random_strength': 0.36754544774241016, 'border_count': 176, 'rsm': 0.8995419388019537}. Best is trial 28 with value: 61.79832585348951.\n"
     ]
    },
    {
     "name": "stdout",
     "output_type": "stream",
     "text": [
      "3080:\tlearn: 18.5864264\ttotal: 59.9s\tremaining: 0us\n",
      "0:\tlearn: 78.5281434\ttotal: 19.4ms\tremaining: 39.2s\n",
      "300:\tlearn: 24.0722745\ttotal: 6.77s\tremaining: 38.7s\n",
      "600:\tlearn: 22.5931281\ttotal: 13.6s\tremaining: 32.2s\n",
      "900:\tlearn: 21.5243187\ttotal: 20.6s\tremaining: 25.6s\n",
      "1200:\tlearn: 20.6780030\ttotal: 27.8s\tremaining: 19s\n",
      "1500:\tlearn: 19.8449065\ttotal: 35s\tremaining: 12.2s\n",
      "1800:\tlearn: 19.2590736\ttotal: 42.2s\tremaining: 5.18s\n"
     ]
    },
    {
     "name": "stderr",
     "output_type": "stream",
     "text": [
      "[I 2023-11-11 11:18:57,955] Trial 76 finished with value: 62.17191561796111 and parameters: {'iterations': 2022, 'learning_rate': 0.02064505900428117, 'depth': 6, 'min_data_in_leaf': 48, 'l2_leaf_reg': 3, 'bagging_temperature': 0.6019617999595613, 'random_strength': 0.3991685429530448, 'border_count': 114, 'rsm': 0.8705016381483459}. Best is trial 28 with value: 61.79832585348951.\n"
     ]
    },
    {
     "name": "stdout",
     "output_type": "stream",
     "text": [
      "2021:\tlearn: 18.8061624\ttotal: 47.5s\tremaining: 0us\n",
      "0:\tlearn: 78.5763223\ttotal: 23.5ms\tremaining: 44.4s\n",
      "300:\tlearn: 23.9655043\ttotal: 6.85s\tremaining: 36.1s\n",
      "600:\tlearn: 22.4492585\ttotal: 13.6s\tremaining: 29.1s\n",
      "900:\tlearn: 21.4127990\ttotal: 20.6s\tremaining: 22.4s\n",
      "1200:\tlearn: 20.3664000\ttotal: 27.5s\tremaining: 15.6s\n",
      "1500:\tlearn: 19.5772148\ttotal: 34.3s\tremaining: 8.78s\n",
      "1800:\tlearn: 18.8786731\ttotal: 41.3s\tremaining: 1.93s\n"
     ]
    },
    {
     "name": "stderr",
     "output_type": "stream",
     "text": [
      "[I 2023-11-11 11:19:41,706] Trial 77 finished with value: 62.76080785947489 and parameters: {'iterations': 1885, 'learning_rate': 0.02090105086020386, 'depth': 6, 'min_data_in_leaf': 48, 'l2_leaf_reg': 4, 'bagging_temperature': 0.6121223770819871, 'random_strength': 0.40150599002072895, 'border_count': 73, 'rsm': 0.8689497298060165}. Best is trial 28 with value: 61.79832585348951.\n"
     ]
    },
    {
     "name": "stdout",
     "output_type": "stream",
     "text": [
      "1884:\tlearn: 18.6768882\ttotal: 43.4s\tremaining: 0us\n",
      "0:\tlearn: 77.8592341\ttotal: 19.5ms\tremaining: 39.3s\n",
      "300:\tlearn: 22.2625310\ttotal: 6.65s\tremaining: 38s\n",
      "600:\tlearn: 19.7778093\ttotal: 13.6s\tremaining: 32.2s\n",
      "900:\tlearn: 18.1594649\ttotal: 20.2s\tremaining: 25.1s\n",
      "1200:\tlearn: 16.8466934\ttotal: 27s\tremaining: 18.4s\n",
      "1500:\tlearn: 15.8153380\ttotal: 33.6s\tremaining: 11.6s\n",
      "1800:\tlearn: 14.8742958\ttotal: 40.4s\tremaining: 4.91s\n"
     ]
    },
    {
     "name": "stderr",
     "output_type": "stream",
     "text": [
      "[I 2023-11-11 11:20:27,345] Trial 78 finished with value: 64.08782583525006 and parameters: {'iterations': 2020, 'learning_rate': 0.03309591884727989, 'depth': 7, 'min_data_in_leaf': 37, 'l2_leaf_reg': 3, 'bagging_temperature': 0.6484007242484774, 'random_strength': 0.383546209025953, 'border_count': 22, 'rsm': 0.9730372562830846}. Best is trial 28 with value: 61.79832585348951.\n"
     ]
    },
    {
     "name": "stdout",
     "output_type": "stream",
     "text": [
      "2019:\tlearn: 14.2837355\ttotal: 45.3s\tremaining: 0us\n",
      "0:\tlearn: 78.5872706\ttotal: 17.2ms\tremaining: 30.7s\n",
      "300:\tlearn: 24.4975561\ttotal: 6.25s\tremaining: 31s\n",
      "600:\tlearn: 22.9708640\ttotal: 12.5s\tremaining: 24.8s\n",
      "900:\tlearn: 21.8590930\ttotal: 19s\tremaining: 18.8s\n",
      "1200:\tlearn: 20.9704691\ttotal: 25.4s\tremaining: 12.5s\n",
      "1500:\tlearn: 20.0599171\ttotal: 31.9s\tremaining: 6.2s\n"
     ]
    },
    {
     "name": "stderr",
     "output_type": "stream",
     "text": [
      "[I 2023-11-11 11:21:06,059] Trial 79 finished with value: 62.10989272213895 and parameters: {'iterations': 1793, 'learning_rate': 0.017821419908582544, 'depth': 6, 'min_data_in_leaf': 54, 'l2_leaf_reg': 3, 'bagging_temperature': 0.6265480675064097, 'random_strength': 0.42192324034351925, 'border_count': 112, 'rsm': 0.8139631990232552}. Best is trial 28 with value: 61.79832585348951.\n"
     ]
    },
    {
     "name": "stdout",
     "output_type": "stream",
     "text": [
      "1792:\tlearn: 19.4599298\ttotal: 38.4s\tremaining: 0us\n"
     ]
    }
   ],
   "source": [
    "#For location A\n",
    "def objective(trial, X_train, y_train):\n",
    "    params = {\n",
    "        \"iterations\": trial.suggest_int(\"iterations\", 300, 3500),\n",
    "        \"learning_rate\": trial.suggest_float(\"learning_rate\", 1e-3, 0.1, log=True),\n",
    "        \"depth\": trial.suggest_int(\"depth\", 1, 13),\n",
    "        \"min_data_in_leaf\": trial.suggest_int(\"min_data_in_leaf\", 1, 100),\n",
    "        \"l2_leaf_reg\": trial.suggest_int(\"l2_leaf_reg\", 2, 10),\n",
    "        \"bagging_temperature\": trial.suggest_float(\"bagging_temperature\", 0.3, 1.0),\n",
    "        \"random_strength\": trial.suggest_float(\"random_strength\", 0.3, 1.0),\n",
    "        \"border_count\": trial.suggest_int(\"border_count\", 1, 1000),\n",
    "        \"rsm\": trial.suggest_float(\"rsm\", 0.05, 1),\n",
    "        \"loss_function\" :\"LogCosh\"\n",
    "    }\n",
    "\n",
    "    catboost_model_b = CatBoostRegressor(**params, verbose=300)\n",
    "    catboost_model_b.fit(train_pool_b)\n",
    "    pred_b = pd.DataFrame(catboost_model_b.predict(test_pool_b))\n",
    "    MAE_b = mean_absolute_error(y_test_b, pred_b)\n",
    "    return MAE_b\n",
    "\n",
    "study = optuna.create_study(direction='minimize')\n",
    "study.optimize(lambda trial: objective(trial, X_train, y_train), n_trials=80)"
   ]
  },
  {
   "cell_type": "code",
   "execution_count": 9,
   "metadata": {},
   "outputs": [
    {
     "name": "stdout",
     "output_type": "stream",
     "text": [
      "{'iterations': 1480, 'learning_rate': 0.004154859937303772, 'depth': 1, 'colsample_bylevel': 0.8980589862889544, 'min_data_in_leaf': 11, 'l2_leaf_reg': 7, 'has-time': True, 'bagging_temperature': 0.8588447919947089, 'random_strength': 0.5000970078140154, 'border_count': 358, 'rsm': 0.31318686704086646, 'nan_mode': 'min'}\n",
      "82.32735192987839\n"
     ]
    }
   ],
   "source": [
    "#to output the best paramaters\n",
    "print(study.best_params)\n",
    "\n",
    "#to output the best score returned from the trials\n",
    "print(study.best_value)\n",
    "\n",
    "with open(\"optuna-best-parameters_b.txt\", \"w\") as file:\n",
    "    file.write(\"Best paramaters: \\n\")\n",
    "    file.write(json.dumps(study.best_params))  # Write the first string followed by a newline character\n",
    "    file.write(\"\\n\")\n",
    "    file.write(\"best score MAE: \\n\")\n",
    "    file.write(json.dumps(study.best_value))  # Write the second string followed by a newline character"
   ]
  },
  {
   "cell_type": "code",
   "execution_count": null,
   "metadata": {},
   "outputs": [],
   "source": []
  }
 ],
 "metadata": {
  "environment": {
   "kernel": "python3",
   "name": "common-cpu.m112",
   "type": "gcloud",
   "uri": "gcr.io/deeplearning-platform-release/base-cpu:m112"
  },
  "kernelspec": {
   "display_name": "Python 3",
   "language": "python",
   "name": "python3"
  },
  "language_info": {
   "codemirror_mode": {
    "name": "ipython",
    "version": 3
   },
   "file_extension": ".py",
   "mimetype": "text/x-python",
   "name": "python",
   "nbconvert_exporter": "python",
   "pygments_lexer": "ipython3",
   "version": "3.10.12"
  }
 },
 "nbformat": 4,
 "nbformat_minor": 4
}
