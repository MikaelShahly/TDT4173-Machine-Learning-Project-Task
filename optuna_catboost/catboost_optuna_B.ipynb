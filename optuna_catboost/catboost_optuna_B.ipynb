{
 "cells": [
  {
   "cell_type": "code",
   "execution_count": 1,
   "metadata": {},
   "outputs": [],
   "source": [
    "import pandas as pd\n",
    "import numpy as np\n",
    "from catboost import Pool, CatBoostRegressor\n",
    "from sklearn.model_selection import cross_val_score\n",
    "from sklearn.model_selection import TimeSeriesSplit \n",
    "import optuna \n",
    "import json\n",
    "from sklearn.metrics import mean_absolute_error"
   ]
  },
  {
   "cell_type": "code",
   "execution_count": 2,
   "metadata": {},
   "outputs": [],
   "source": [
    "#Load inn datasets\n",
    "X_test  = pd.read_parquet('../data/prepared_datasets/only_y_cleaned/X_test.parquet')\n",
    "X_train = pd.read_parquet('../data/prepared_datasets/only_y_cleaned/X_train.parquet')\n",
    "y_train = pd.read_parquet('../data/prepared_datasets/only_y_cleaned/Y_train.parquet')\n",
    "y_train_a = pd.read_parquet('../data/prepared_datasets/only_y_cleaned/Y_train_a.parquet')\n",
    "y_train_b = pd.read_parquet('../data/prepared_datasets/only_y_cleaned/Y_train_b.parquet')\n",
    "y_train_c = pd.read_parquet('../data/prepared_datasets/only_y_cleaned/Y_train_c.parquet')"
   ]
  },
  {
   "cell_type": "code",
   "execution_count": 3,
   "metadata": {},
   "outputs": [],
   "source": [
    "def test_train_split(df):\n",
    "    dates_2 = (df.index >= '2023-05-01') & (df.index <= '2023-06-15')\n",
    "    dates_1 = (df.index >= '2020-05-01') & (df.index <= '2020-06-25')\n",
    "\n",
    "    test_set = df[dates_1 | dates_2]\n",
    "\n",
    "    training_set = df[~(dates_1 | dates_2)]\n",
    "\n",
    "    X_train = training_set.drop(\"pv_measurement\", axis=1)\n",
    "    y_train = training_set['pv_measurement']\n",
    "\n",
    "    X_test = test_set.drop(\"pv_measurement\", axis=1)\n",
    "    y_test = test_set['pv_measurement'] \n",
    "\n",
    "    \n",
    "    \n",
    "    return X_train, X_test, y_train, y_test\n",
    "\n",
    "X_train_new_b, X_test_new_b, y_train_new_b, y_test_b = test_train_split(pd.concat([X_train[X_train[\"location\"] == \"B\"].drop(\"location\", axis=1), y_train_b], axis=1))"
   ]
  },
  {
   "cell_type": "code",
   "execution_count": 4,
   "metadata": {},
   "outputs": [],
   "source": [
    "#Create a pool of data\n",
    "train_pool_b = Pool(X_train_new_b, y_train_new_b)\n",
    "\n",
    "test_pool_b = Pool(X_test_new_b) "
   ]
  },
  {
   "cell_type": "code",
   "execution_count": 5,
   "metadata": {},
   "outputs": [
    {
     "name": "stderr",
     "output_type": "stream",
     "text": [
      "[I 2023-11-07 08:23:13,544] A new study created in memory with name: no-name-794aae06-6f4c-4edf-af1a-81d272fc9475\n"
     ]
    },
    {
     "name": "stdout",
     "output_type": "stream",
     "text": [
      "0:\tlearn: 183.1410752\ttotal: 232ms\tremaining: 6m 22s\n",
      "100:\tlearn: 93.5156084\ttotal: 10.3s\tremaining: 2m 37s\n",
      "200:\tlearn: 72.7456700\ttotal: 18.8s\tremaining: 2m 15s\n",
      "300:\tlearn: 64.3440387\ttotal: 26.6s\tremaining: 1m 59s\n",
      "400:\tlearn: 58.7426437\ttotal: 34.1s\tremaining: 1m 46s\n",
      "500:\tlearn: 54.4732511\ttotal: 41.7s\tremaining: 1m 35s\n",
      "600:\tlearn: 50.8627528\ttotal: 53.2s\tremaining: 1m 32s\n",
      "700:\tlearn: 47.7325945\ttotal: 1m 4s\tremaining: 1m 27s\n",
      "800:\tlearn: 44.8904605\ttotal: 1m 16s\tremaining: 1m 21s\n",
      "900:\tlearn: 42.2077479\ttotal: 1m 28s\tremaining: 1m 13s\n",
      "1000:\tlearn: 39.8561935\ttotal: 1m 40s\tremaining: 1m 5s\n",
      "1100:\tlearn: 37.7530768\ttotal: 1m 53s\tremaining: 56.6s\n",
      "1200:\tlearn: 35.7878693\ttotal: 2m 4s\tremaining: 46.4s\n",
      "1300:\tlearn: 33.9199214\ttotal: 2m 15s\tremaining: 36.2s\n",
      "1400:\tlearn: 32.2936308\ttotal: 2m 25s\tremaining: 25.9s\n",
      "1500:\tlearn: 30.8373477\ttotal: 2m 36s\tremaining: 15.6s\n",
      "1600:\tlearn: 29.4873476\ttotal: 2m 47s\tremaining: 5.14s\n",
      "1649:\tlearn: 28.8550334\ttotal: 2m 53s\tremaining: 0us\n"
     ]
    },
    {
     "name": "stderr",
     "output_type": "stream",
     "text": [
      "[I 2023-11-07 08:26:09,481] Trial 0 finished with value: 84.12810567645126 and parameters: {'iterations': 1650, 'learning_rate': 0.014468942204644675, 'depth': 13, 'min_data_in_leaf': 96, 'l2_leaf_reg': 4, 'bagging_temperature': 0.44085895917453866, 'random_strength': 0.6383914875970905, 'border_count': 152, 'rsm': 0.210952114395627}. Best is trial 0 with value: 84.12810567645126.\n"
     ]
    },
    {
     "name": "stdout",
     "output_type": "stream",
     "text": [
      "0:\tlearn: 184.7001107\ttotal: 5.72ms\tremaining: 2.79s\n",
      "100:\tlearn: 158.8122580\ttotal: 504ms\tremaining: 1.94s\n",
      "200:\tlearn: 141.0194853\ttotal: 1.08s\tremaining: 1.55s\n",
      "300:\tlearn: 126.8833882\ttotal: 1.64s\tremaining: 1.02s\n",
      "400:\tlearn: 116.4534296\ttotal: 2.13s\tremaining: 467ms\n"
     ]
    },
    {
     "name": "stderr",
     "output_type": "stream",
     "text": [
      "[I 2023-11-07 08:26:12,227] Trial 1 finished with value: 128.13063357628448 and parameters: {'iterations': 489, 'learning_rate': 0.0031025345542633684, 'depth': 5, 'min_data_in_leaf': 8, 'l2_leaf_reg': 10, 'bagging_temperature': 0.3273842036865815, 'random_strength': 0.3667279287241337, 'border_count': 44, 'rsm': 0.06515251078017643}. Best is trial 0 with value: 84.12810567645126.\n"
     ]
    },
    {
     "name": "stdout",
     "output_type": "stream",
     "text": [
      "488:\tlearn: 110.0714786\ttotal: 2.58s\tremaining: 0us\n",
      "0:\tlearn: 184.5071824\ttotal: 31.9ms\tremaining: 16.3s\n",
      "100:\tlearn: 145.0239870\ttotal: 3.31s\tremaining: 13.4s\n",
      "200:\tlearn: 120.4973059\ttotal: 6.44s\tremaining: 9.94s\n",
      "300:\tlearn: 105.9048637\ttotal: 9.74s\tremaining: 6.8s\n",
      "400:\tlearn: 97.2247158\ttotal: 12.3s\tremaining: 3.38s\n",
      "500:\tlearn: 91.9647367\ttotal: 14.7s\tremaining: 294ms\n"
     ]
    },
    {
     "name": "stderr",
     "output_type": "stream",
     "text": [
      "[I 2023-11-07 08:26:27,348] Trial 2 finished with value: 95.8451923274983 and parameters: {'iterations': 511, 'learning_rate': 0.004081951655442139, 'depth': 7, 'min_data_in_leaf': 37, 'l2_leaf_reg': 9, 'bagging_temperature': 0.5363965976052717, 'random_strength': 0.6223011577389352, 'border_count': 917, 'rsm': 0.13707067977987336}. Best is trial 0 with value: 84.12810567645126.\n"
     ]
    },
    {
     "name": "stdout",
     "output_type": "stream",
     "text": [
      "510:\tlearn: 91.5622975\ttotal: 14.9s\tremaining: 0us\n",
      "0:\tlearn: 183.8185918\ttotal: 12.7ms\tremaining: 31.4s\n",
      "100:\tlearn: 112.8790787\ttotal: 1.01s\tremaining: 23.9s\n",
      "200:\tlearn: 92.4667776\ttotal: 2.01s\tremaining: 22.8s\n",
      "300:\tlearn: 85.8829617\ttotal: 3.08s\tremaining: 22.3s\n",
      "400:\tlearn: 82.8294012\ttotal: 3.99s\tremaining: 20.7s\n",
      "500:\tlearn: 80.9611405\ttotal: 4.83s\tremaining: 19.1s\n",
      "600:\tlearn: 79.4828423\ttotal: 5.73s\tremaining: 17.9s\n",
      "700:\tlearn: 78.1720505\ttotal: 6.69s\tremaining: 17s\n",
      "800:\tlearn: 77.0598342\ttotal: 7.6s\tremaining: 15.9s\n",
      "900:\tlearn: 76.0884325\ttotal: 8.51s\tremaining: 14.9s\n",
      "1000:\tlearn: 75.2057212\ttotal: 9.4s\tremaining: 13.9s\n",
      "1100:\tlearn: 74.4336988\ttotal: 10.3s\tremaining: 12.9s\n",
      "1200:\tlearn: 73.6849748\ttotal: 11.2s\tremaining: 11.9s\n",
      "1300:\tlearn: 72.9970355\ttotal: 12s\tremaining: 10.9s\n",
      "1400:\tlearn: 72.3448041\ttotal: 12.9s\tremaining: 9.95s\n",
      "1500:\tlearn: 71.6804443\ttotal: 13.8s\tremaining: 8.99s\n",
      "1600:\tlearn: 71.0786919\ttotal: 14.8s\tremaining: 8.16s\n",
      "1700:\tlearn: 70.5092583\ttotal: 15.7s\tremaining: 7.2s\n",
      "1800:\tlearn: 69.9969953\ttotal: 16.8s\tremaining: 6.34s\n",
      "1900:\tlearn: 69.4928657\ttotal: 17.9s\tremaining: 5.47s\n",
      "2000:\tlearn: 68.9851726\ttotal: 19s\tremaining: 4.56s\n",
      "2100:\tlearn: 68.5098857\ttotal: 19.9s\tremaining: 3.6s\n",
      "2200:\tlearn: 68.0054760\ttotal: 20.7s\tremaining: 2.64s\n",
      "2300:\tlearn: 67.5447772\ttotal: 21.6s\tremaining: 1.69s\n",
      "2400:\tlearn: 67.1046310\ttotal: 22.4s\tremaining: 747ms\n"
     ]
    },
    {
     "name": "stderr",
     "output_type": "stream",
     "text": [
      "[I 2023-11-07 08:26:51,004] Trial 3 finished with value: 79.87692523988154 and parameters: {'iterations': 2481, 'learning_rate': 0.00947115525250243, 'depth': 6, 'min_data_in_leaf': 80, 'l2_leaf_reg': 6, 'bagging_temperature': 0.6614560754834937, 'random_strength': 0.33730758890193296, 'border_count': 254, 'rsm': 0.4488386648672051}. Best is trial 3 with value: 79.87692523988154.\n"
     ]
    },
    {
     "name": "stdout",
     "output_type": "stream",
     "text": [
      "2480:\tlearn: 66.7598235\ttotal: 23.2s\tremaining: 0us\n",
      "0:\tlearn: 183.4842027\ttotal: 3.56ms\tremaining: 7.5s\n",
      "100:\tlearn: 108.1916866\ttotal: 455ms\tremaining: 9.03s\n",
      "200:\tlearn: 94.6058880\ttotal: 885ms\tremaining: 8.39s\n",
      "300:\tlearn: 90.8833863\ttotal: 1.34s\tremaining: 8.03s\n",
      "400:\tlearn: 88.8018778\ttotal: 1.72s\tremaining: 7.34s\n",
      "500:\tlearn: 87.3405416\ttotal: 2.19s\tremaining: 7.01s\n",
      "600:\tlearn: 86.3215485\ttotal: 2.63s\tremaining: 6.58s\n",
      "700:\tlearn: 85.4458826\ttotal: 3s\tremaining: 6.02s\n",
      "800:\tlearn: 84.6144788\ttotal: 3.5s\tremaining: 5.7s\n",
      "900:\tlearn: 83.8266317\ttotal: 4.08s\tremaining: 5.46s\n",
      "1000:\tlearn: 83.0601558\ttotal: 4.57s\tremaining: 5.05s\n",
      "1100:\tlearn: 82.3749389\ttotal: 5.09s\tremaining: 4.66s\n",
      "1200:\tlearn: 81.8347369\ttotal: 5.63s\tremaining: 4.25s\n",
      "1300:\tlearn: 81.3560157\ttotal: 6.15s\tremaining: 3.81s\n",
      "1400:\tlearn: 80.9269077\ttotal: 6.63s\tremaining: 3.34s\n",
      "1500:\tlearn: 80.5169472\ttotal: 7.2s\tremaining: 2.91s\n",
      "1600:\tlearn: 80.1383171\ttotal: 7.66s\tremaining: 2.42s\n",
      "1700:\tlearn: 79.7674028\ttotal: 8.09s\tremaining: 1.93s\n",
      "1800:\tlearn: 79.4528371\ttotal: 8.64s\tremaining: 1.47s\n",
      "1900:\tlearn: 79.1591068\ttotal: 9.09s\tremaining: 985ms\n",
      "2000:\tlearn: 78.8915179\ttotal: 9.51s\tremaining: 504ms\n"
     ]
    },
    {
     "name": "stderr",
     "output_type": "stream",
     "text": [
      "[I 2023-11-07 08:27:01,453] Trial 4 finished with value: 73.85295340459383 and parameters: {'iterations': 2107, 'learning_rate': 0.013473843318514207, 'depth': 3, 'min_data_in_leaf': 44, 'l2_leaf_reg': 7, 'bagging_temperature': 0.8558498907516645, 'random_strength': 0.8963352429875979, 'border_count': 283, 'rsm': 0.3029523036440018}. Best is trial 4 with value: 73.85295340459383.\n"
     ]
    },
    {
     "name": "stdout",
     "output_type": "stream",
     "text": [
      "2100:\tlearn: 78.6521018\ttotal: 10.1s\tremaining: 28.8ms\n",
      "2106:\tlearn: 78.6424811\ttotal: 10.1s\tremaining: 0us\n",
      "0:\tlearn: 183.8883312\ttotal: 138ms\tremaining: 51.1s\n",
      "100:\tlearn: 114.7229955\ttotal: 7.26s\tremaining: 19.5s\n",
      "200:\tlearn: 89.6238807\ttotal: 13.9s\tremaining: 11.8s\n",
      "300:\tlearn: 78.9846036\ttotal: 20.9s\tremaining: 4.93s\n",
      "371:\tlearn: 74.6303048\ttotal: 25.5s\tremaining: 0us\n"
     ]
    },
    {
     "name": "stderr",
     "output_type": "stream",
     "text": [
      "[I 2023-11-07 08:27:27,353] Trial 5 finished with value: 87.49068838699252 and parameters: {'iterations': 372, 'learning_rate': 0.008825710621959583, 'depth': 12, 'min_data_in_leaf': 19, 'l2_leaf_reg': 7, 'bagging_temperature': 0.4530152679480225, 'random_strength': 0.5848446287324444, 'border_count': 172, 'rsm': 0.2091452340373346}. Best is trial 4 with value: 73.85295340459383.\n"
     ]
    },
    {
     "name": "stdout",
     "output_type": "stream",
     "text": [
      "0:\tlearn: 184.4543760\ttotal: 98.8ms\tremaining: 57.9s\n",
      "100:\tlearn: 140.7738556\ttotal: 8.15s\tremaining: 39.2s\n",
      "200:\tlearn: 115.1588478\ttotal: 15.9s\tremaining: 30.6s\n",
      "300:\tlearn: 100.5933949\ttotal: 24s\tremaining: 22.8s\n",
      "400:\tlearn: 92.2116765\ttotal: 31.7s\tremaining: 14.7s\n",
      "500:\tlearn: 87.2511086\ttotal: 40s\tremaining: 6.87s\n"
     ]
    },
    {
     "name": "stderr",
     "output_type": "stream",
     "text": [
      "[I 2023-11-07 08:28:13,865] Trial 6 finished with value: 86.4151468694461 and parameters: {'iterations': 587, 'learning_rate': 0.004357665886967932, 'depth': 8, 'min_data_in_leaf': 98, 'l2_leaf_reg': 8, 'bagging_temperature': 0.6374398982818256, 'random_strength': 0.6052100680257492, 'border_count': 983, 'rsm': 0.6474569764942093}. Best is trial 4 with value: 73.85295340459383.\n"
     ]
    },
    {
     "name": "stdout",
     "output_type": "stream",
     "text": [
      "586:\tlearn: 84.4383923\ttotal: 46.3s\tremaining: 0us\n",
      "0:\tlearn: 184.9240273\ttotal: 1.9ms\tremaining: 3.29s\n",
      "100:\tlearn: 163.0528712\ttotal: 328ms\tremaining: 5.3s\n",
      "200:\tlearn: 145.5187732\ttotal: 576ms\tremaining: 4.39s\n",
      "300:\tlearn: 132.6262433\ttotal: 833ms\tremaining: 3.96s\n",
      "400:\tlearn: 123.8881784\ttotal: 1.11s\tremaining: 3.69s\n",
      "500:\tlearn: 117.0362653\ttotal: 1.48s\tremaining: 3.63s\n",
      "600:\tlearn: 111.7404950\ttotal: 1.79s\tremaining: 3.38s\n",
      "700:\tlearn: 107.9375916\ttotal: 2.16s\tremaining: 3.17s\n",
      "800:\tlearn: 104.9519050\ttotal: 2.54s\tremaining: 2.96s\n",
      "900:\tlearn: 102.5777826\ttotal: 2.9s\tremaining: 2.67s\n",
      "1000:\tlearn: 101.0229034\ttotal: 3.27s\tremaining: 2.39s\n",
      "1100:\tlearn: 99.5902793\ttotal: 3.69s\tremaining: 2.12s\n",
      "1200:\tlearn: 98.5547772\ttotal: 4s\tremaining: 1.77s\n",
      "1300:\tlearn: 97.7096640\ttotal: 4.33s\tremaining: 1.44s\n",
      "1400:\tlearn: 96.9185411\ttotal: 4.64s\tremaining: 1.1s\n",
      "1500:\tlearn: 96.3528118\ttotal: 4.99s\tremaining: 771ms\n",
      "1600:\tlearn: 95.8202350\ttotal: 5.24s\tremaining: 432ms\n"
     ]
    },
    {
     "name": "stderr",
     "output_type": "stream",
     "text": [
      "[I 2023-11-07 08:28:19,819] Trial 7 finished with value: 93.26263516355623 and parameters: {'iterations': 1733, 'learning_rate': 0.0035945922951570878, 'depth': 2, 'min_data_in_leaf': 57, 'l2_leaf_reg': 3, 'bagging_temperature': 0.7675232653375346, 'random_strength': 0.9549732496240462, 'border_count': 299, 'rsm': 0.07526794929117024}. Best is trial 4 with value: 73.85295340459383.\n"
     ]
    },
    {
     "name": "stdout",
     "output_type": "stream",
     "text": [
      "1700:\tlearn: 95.3276457\ttotal: 5.57s\tremaining: 105ms\n",
      "1732:\tlearn: 95.2166768\ttotal: 5.65s\tremaining: 0us\n",
      "0:\tlearn: 180.8063582\ttotal: 158ms\tremaining: 3m 39s\n",
      "100:\tlearn: 68.8655286\ttotal: 14.3s\tremaining: 3m 3s\n",
      "200:\tlearn: 55.3006584\ttotal: 27.9s\tremaining: 2m 45s\n",
      "300:\tlearn: 47.3292291\ttotal: 41.5s\tremaining: 2m 30s\n",
      "400:\tlearn: 41.1790671\ttotal: 55.8s\tremaining: 2m 18s\n",
      "500:\tlearn: 36.3330106\ttotal: 1m 9s\tremaining: 2m 3s\n",
      "600:\tlearn: 32.3845764\ttotal: 1m 23s\tremaining: 1m 49s\n",
      "700:\tlearn: 29.1516140\ttotal: 1m 36s\tremaining: 1m 35s\n",
      "800:\tlearn: 26.4281406\ttotal: 1m 50s\tremaining: 1m 21s\n",
      "900:\tlearn: 24.2061970\ttotal: 2m 4s\tremaining: 1m 7s\n",
      "1000:\tlearn: 22.1546923\ttotal: 2m 18s\tremaining: 54.2s\n",
      "1100:\tlearn: 20.3774891\ttotal: 2m 32s\tremaining: 40.4s\n",
      "1200:\tlearn: 18.7845471\ttotal: 2m 45s\tremaining: 26.5s\n",
      "1300:\tlearn: 17.3820507\ttotal: 3m\tremaining: 12.8s\n",
      "1392:\tlearn: 16.2389112\ttotal: 3m 14s\tremaining: 0us\n"
     ]
    },
    {
     "name": "stderr",
     "output_type": "stream",
     "text": [
      "[I 2023-11-07 08:31:35,879] Trial 8 finished with value: 84.40950510086327 and parameters: {'iterations': 1393, 'learning_rate': 0.03216979959207344, 'depth': 13, 'min_data_in_leaf': 51, 'l2_leaf_reg': 3, 'bagging_temperature': 0.7678463775675254, 'random_strength': 0.634881802413163, 'border_count': 249, 'rsm': 0.20031824091852934}. Best is trial 4 with value: 73.85295340459383.\n"
     ]
    },
    {
     "name": "stdout",
     "output_type": "stream",
     "text": [
      "0:\tlearn: 183.4490519\ttotal: 21.8ms\tremaining: 51.9s\n",
      "100:\tlearn: 107.0227144\ttotal: 941ms\tremaining: 21.3s\n",
      "200:\tlearn: 91.9562467\ttotal: 1.71s\tremaining: 18.6s\n",
      "300:\tlearn: 87.7080043\ttotal: 2.61s\tremaining: 18s\n",
      "400:\tlearn: 85.6167415\ttotal: 3.48s\tremaining: 17.2s\n",
      "500:\tlearn: 84.0284704\ttotal: 4.55s\tremaining: 17.1s\n",
      "600:\tlearn: 82.7325528\ttotal: 5.58s\tremaining: 16.6s\n",
      "700:\tlearn: 81.6709225\ttotal: 6.41s\tremaining: 15.4s\n",
      "800:\tlearn: 80.6860110\ttotal: 7.36s\tremaining: 14.5s\n",
      "900:\tlearn: 79.7443139\ttotal: 8.27s\tremaining: 13.6s\n",
      "1000:\tlearn: 78.9058327\ttotal: 9.25s\tremaining: 12.8s\n",
      "1100:\tlearn: 78.2276642\ttotal: 10.1s\tremaining: 11.8s\n",
      "1200:\tlearn: 77.5713638\ttotal: 10.9s\tremaining: 10.8s\n",
      "1300:\tlearn: 76.9764999\ttotal: 12s\tremaining: 9.98s\n",
      "1400:\tlearn: 76.4076114\ttotal: 12.9s\tremaining: 9.04s\n",
      "1500:\tlearn: 75.8467659\ttotal: 13.8s\tremaining: 8.13s\n",
      "1600:\tlearn: 75.3498701\ttotal: 14.6s\tremaining: 7.15s\n",
      "1700:\tlearn: 74.9000180\ttotal: 15.5s\tremaining: 6.2s\n",
      "1800:\tlearn: 74.4378834\ttotal: 16.5s\tremaining: 5.33s\n",
      "1900:\tlearn: 74.0176445\ttotal: 17.3s\tremaining: 4.38s\n",
      "2000:\tlearn: 73.6452603\ttotal: 18.1s\tremaining: 3.46s\n",
      "2100:\tlearn: 73.2389242\ttotal: 19.1s\tremaining: 2.56s\n",
      "2200:\tlearn: 72.8667714\ttotal: 20s\tremaining: 1.66s\n",
      "2300:\tlearn: 72.4977230\ttotal: 21s\tremaining: 748ms\n"
     ]
    },
    {
     "name": "stderr",
     "output_type": "stream",
     "text": [
      "[I 2023-11-07 08:31:58,011] Trial 9 finished with value: 77.57749061937606 and parameters: {'iterations': 2383, 'learning_rate': 0.012481721949688617, 'depth': 4, 'min_data_in_leaf': 94, 'l2_leaf_reg': 2, 'bagging_temperature': 0.7539676432512084, 'random_strength': 0.6137236437921376, 'border_count': 413, 'rsm': 0.546374280412787}. Best is trial 4 with value: 73.85295340459383.\n"
     ]
    },
    {
     "name": "stdout",
     "output_type": "stream",
     "text": [
      "2382:\tlearn: 72.2158236\ttotal: 21.7s\tremaining: 0us\n",
      "0:\tlearn: 184.9019468\ttotal: 3.25ms\tremaining: 9.58s\n",
      "100:\tlearn: 174.9752810\ttotal: 442ms\tremaining: 12.4s\n",
      "200:\tlearn: 166.2758835\ttotal: 903ms\tremaining: 12.3s\n",
      "300:\tlearn: 158.5688802\ttotal: 1.47s\tremaining: 12.9s\n",
      "400:\tlearn: 151.7573198\ttotal: 1.92s\tremaining: 12.2s\n",
      "500:\tlearn: 145.7334110\ttotal: 2.42s\tremaining: 11.8s\n",
      "600:\tlearn: 140.3922685\ttotal: 2.85s\tremaining: 11.1s\n",
      "700:\tlearn: 135.6569247\ttotal: 3.43s\tremaining: 11s\n",
      "800:\tlearn: 131.4576086\ttotal: 3.95s\tremaining: 10.6s\n",
      "900:\tlearn: 127.7335738\ttotal: 4.64s\tremaining: 10.5s\n",
      "1000:\tlearn: 124.4194327\ttotal: 5.29s\tremaining: 10.3s\n",
      "1100:\tlearn: 121.4668773\ttotal: 6.06s\tremaining: 10.1s\n",
      "1200:\tlearn: 118.8376374\ttotal: 6.75s\tremaining: 9.79s\n",
      "1300:\tlearn: 116.4850311\ttotal: 7.33s\tremaining: 9.26s\n",
      "1400:\tlearn: 114.3789827\ttotal: 7.92s\tremaining: 8.72s\n",
      "1500:\tlearn: 112.5028874\ttotal: 8.47s\tremaining: 8.15s\n",
      "1600:\tlearn: 110.8338589\ttotal: 8.99s\tremaining: 7.54s\n",
      "1700:\tlearn: 109.3412479\ttotal: 9.52s\tremaining: 6.95s\n",
      "1800:\tlearn: 108.0178424\ttotal: 9.95s\tremaining: 6.31s\n",
      "1900:\tlearn: 106.8373287\ttotal: 10.4s\tremaining: 5.72s\n",
      "2000:\tlearn: 105.7878645\ttotal: 10.9s\tremaining: 5.14s\n",
      "2100:\tlearn: 104.8505827\ttotal: 11.5s\tremaining: 4.61s\n",
      "2200:\tlearn: 104.0110953\ttotal: 11.9s\tremaining: 4.01s\n",
      "2300:\tlearn: 103.2616826\ttotal: 12.3s\tremaining: 3.43s\n",
      "2400:\tlearn: 102.5845677\ttotal: 12.9s\tremaining: 2.92s\n",
      "2500:\tlearn: 101.9832781\ttotal: 13.4s\tremaining: 2.37s\n",
      "2600:\tlearn: 101.4370359\ttotal: 13.9s\tremaining: 1.83s\n",
      "2700:\tlearn: 100.9464640\ttotal: 14.6s\tremaining: 1.31s\n",
      "2800:\tlearn: 100.5011621\ttotal: 15s\tremaining: 768ms\n",
      "2900:\tlearn: 100.0977574\ttotal: 15.5s\tremaining: 229ms\n",
      "2943:\tlearn: 99.9334672\ttotal: 15.6s\tremaining: 0us\n"
     ]
    },
    {
     "name": "stderr",
     "output_type": "stream",
     "text": [
      "[I 2023-11-07 08:32:14,131] Trial 10 finished with value: 96.78495225848518 and parameters: {'iterations': 2944, 'learning_rate': 0.001153760054666405, 'depth': 1, 'min_data_in_leaf': 29, 'l2_leaf_reg': 5, 'bagging_temperature': 0.9187772819804664, 'random_strength': 0.983822625789799, 'border_count': 649, 'rsm': 0.8870834439961295}. Best is trial 4 with value: 73.85295340459383.\n"
     ]
    },
    {
     "name": "stdout",
     "output_type": "stream",
     "text": [
      "0:\tlearn: 173.1977644\ttotal: 4.46ms\tremaining: 10s\n",
      "100:\tlearn: 81.5067185\ttotal: 808ms\tremaining: 17.2s\n",
      "200:\tlearn: 76.0066591\ttotal: 1.88s\tremaining: 19.2s\n",
      "300:\tlearn: 72.7074340\ttotal: 2.58s\tremaining: 16.7s\n",
      "400:\tlearn: 70.0851203\ttotal: 3.32s\tremaining: 15.3s\n",
      "500:\tlearn: 67.9263654\ttotal: 4.11s\tremaining: 14.3s\n",
      "600:\tlearn: 65.9628481\ttotal: 5.04s\tremaining: 13.8s\n",
      "700:\tlearn: 64.2697051\ttotal: 5.89s\tremaining: 13s\n",
      "800:\tlearn: 62.6138945\ttotal: 6.64s\tremaining: 12s\n",
      "900:\tlearn: 61.1448388\ttotal: 7.45s\tremaining: 11.2s\n",
      "1000:\tlearn: 59.6719259\ttotal: 8.18s\tremaining: 10.2s\n",
      "1100:\tlearn: 58.4912436\ttotal: 8.9s\tremaining: 9.3s\n",
      "1200:\tlearn: 57.3419474\ttotal: 9.78s\tremaining: 8.55s\n",
      "1300:\tlearn: 56.2438254\ttotal: 10.7s\tremaining: 7.83s\n",
      "1400:\tlearn: 55.1975741\ttotal: 11.7s\tremaining: 7.1s\n",
      "1500:\tlearn: 54.1314158\ttotal: 12.6s\tremaining: 6.3s\n",
      "1600:\tlearn: 53.2279578\ttotal: 13.4s\tremaining: 5.44s\n",
      "1700:\tlearn: 52.3046018\ttotal: 14.4s\tremaining: 4.67s\n",
      "1800:\tlearn: 51.3992311\ttotal: 15.4s\tremaining: 3.84s\n",
      "1900:\tlearn: 50.5605850\ttotal: 16.2s\tremaining: 2.98s\n",
      "2000:\tlearn: 49.7346609\ttotal: 17s\tremaining: 2.13s\n",
      "2100:\tlearn: 48.8799306\ttotal: 18s\tremaining: 1.28s\n",
      "2200:\tlearn: 48.1547462\ttotal: 18.7s\tremaining: 425ms\n"
     ]
    },
    {
     "name": "stderr",
     "output_type": "stream",
     "text": [
      "[I 2023-11-07 08:32:33,576] Trial 11 finished with value: 86.1271295376504 and parameters: {'iterations': 2251, 'learning_rate': 0.09798489577304978, 'depth': 4, 'min_data_in_leaf': 71, 'l2_leaf_reg': 2, 'bagging_temperature': 0.9570642878699083, 'random_strength': 0.8171970439621572, 'border_count': 512, 'rsm': 0.42334941385203034}. Best is trial 4 with value: 73.85295340459383.\n"
     ]
    },
    {
     "name": "stdout",
     "output_type": "stream",
     "text": [
      "2250:\tlearn: 47.7942364\ttotal: 19s\tremaining: 0us\n",
      "0:\tlearn: 182.0446315\ttotal: 6.66ms\tremaining: 15s\n",
      "100:\tlearn: 95.1716893\ttotal: 460ms\tremaining: 9.77s\n",
      "200:\tlearn: 88.9495229\ttotal: 1.21s\tremaining: 12.3s\n",
      "300:\tlearn: 86.2990429\ttotal: 1.97s\tremaining: 12.7s\n",
      "400:\tlearn: 84.5362615\ttotal: 2.95s\tremaining: 13.6s\n",
      "500:\tlearn: 82.9824426\ttotal: 3.79s\tremaining: 13.2s\n",
      "600:\tlearn: 81.6812157\ttotal: 4.42s\tremaining: 12.1s\n",
      "700:\tlearn: 80.6903265\ttotal: 5.01s\tremaining: 11.1s\n",
      "800:\tlearn: 79.8706413\ttotal: 5.83s\tremaining: 10.5s\n",
      "900:\tlearn: 79.1333785\ttotal: 6.52s\tremaining: 9.75s\n",
      "1000:\tlearn: 78.5418139\ttotal: 7.15s\tremaining: 8.91s\n",
      "1100:\tlearn: 77.9872148\ttotal: 7.7s\tremaining: 8.02s\n",
      "1200:\tlearn: 77.5151894\ttotal: 8.27s\tremaining: 7.21s\n",
      "1300:\tlearn: 77.0942176\ttotal: 8.9s\tremaining: 6.48s\n",
      "1400:\tlearn: 76.6523382\ttotal: 9.58s\tremaining: 5.79s\n",
      "1500:\tlearn: 76.2410321\ttotal: 10.3s\tremaining: 5.11s\n",
      "1600:\tlearn: 75.8148676\ttotal: 11s\tremaining: 4.43s\n",
      "1700:\tlearn: 75.4330917\ttotal: 11.7s\tremaining: 3.76s\n",
      "1800:\tlearn: 75.0534107\ttotal: 12.3s\tremaining: 3.04s\n",
      "1900:\tlearn: 74.6400628\ttotal: 12.9s\tremaining: 2.36s\n",
      "2000:\tlearn: 74.2700142\ttotal: 13.5s\tremaining: 1.67s\n",
      "2100:\tlearn: 73.9187004\ttotal: 14.1s\tremaining: 989ms\n",
      "2200:\tlearn: 73.6111064\ttotal: 14.8s\tremaining: 317ms\n"
     ]
    },
    {
     "name": "stderr",
     "output_type": "stream",
     "text": [
      "[I 2023-11-07 08:32:49,087] Trial 12 finished with value: 76.67333237291557 and parameters: {'iterations': 2248, 'learning_rate': 0.024557678433252645, 'depth': 3, 'min_data_in_leaf': 69, 'l2_leaf_reg': 6, 'bagging_temperature': 0.8291488764669934, 'random_strength': 0.782154129317981, 'border_count': 454, 'rsm': 0.5731338457117571}. Best is trial 4 with value: 73.85295340459383.\n"
     ]
    },
    {
     "name": "stdout",
     "output_type": "stream",
     "text": [
      "2247:\tlearn: 73.4539617\ttotal: 15.1s\tremaining: 0us\n",
      "0:\tlearn: 180.8570325\ttotal: 89ms\tremaining: 2m 58s\n",
      "100:\tlearn: 79.2814181\ttotal: 8.31s\tremaining: 2m 36s\n",
      "200:\tlearn: 71.4256911\ttotal: 17.2s\tremaining: 2m 34s\n",
      "300:\tlearn: 66.8010683\ttotal: 25s\tremaining: 2m 21s\n",
      "400:\tlearn: 63.2552713\ttotal: 32.9s\tremaining: 2m 11s\n",
      "500:\tlearn: 59.9543487\ttotal: 41s\tremaining: 2m 2s\n",
      "600:\tlearn: 57.1897058\ttotal: 49.5s\tremaining: 1m 55s\n",
      "700:\tlearn: 54.8947664\ttotal: 57.7s\tremaining: 1m 47s\n",
      "800:\tlearn: 52.7901306\ttotal: 1m 8s\tremaining: 1m 42s\n",
      "900:\tlearn: 50.8257255\ttotal: 1m 18s\tremaining: 1m 36s\n",
      "1000:\tlearn: 49.0323760\ttotal: 1m 29s\tremaining: 1m 29s\n",
      "1100:\tlearn: 47.3977189\ttotal: 1m 39s\tremaining: 1m 21s\n",
      "1200:\tlearn: 45.8720857\ttotal: 1m 49s\tremaining: 1m 13s\n",
      "1300:\tlearn: 44.4572873\ttotal: 2m\tremaining: 1m 5s\n",
      "1400:\tlearn: 43.1061432\ttotal: 2m 11s\tremaining: 56.2s\n",
      "1500:\tlearn: 41.8353709\ttotal: 2m 22s\tremaining: 47.4s\n",
      "1600:\tlearn: 40.5873789\ttotal: 2m 32s\tremaining: 38.2s\n",
      "1700:\tlearn: 39.3112869\ttotal: 2m 42s\tremaining: 28.8s\n",
      "1800:\tlearn: 38.0684898\ttotal: 2m 53s\tremaining: 19.4s\n",
      "1900:\tlearn: 37.0294285\ttotal: 3m 3s\tremaining: 9.76s\n",
      "2000:\tlearn: 36.0152809\ttotal: 3m 14s\tremaining: 97ms\n",
      "2001:\tlearn: 36.0059715\ttotal: 3m 14s\tremaining: 0us\n"
     ]
    },
    {
     "name": "stderr",
     "output_type": "stream",
     "text": [
      "[I 2023-11-07 08:36:04,162] Trial 13 finished with value: 81.35457802698781 and parameters: {'iterations': 2002, 'learning_rate': 0.03272839153967326, 'depth': 9, 'min_data_in_leaf': 69, 'l2_leaf_reg': 6, 'bagging_temperature': 0.8813516205821441, 'random_strength': 0.8169906515869112, 'border_count': 634, 'rsm': 0.34545021523003633}. Best is trial 4 with value: 73.85295340459383.\n"
     ]
    },
    {
     "name": "stdout",
     "output_type": "stream",
     "text": [
      "0:\tlearn: 181.9255270\ttotal: 39.3ms\tremaining: 47.5s\n",
      "100:\tlearn: 94.0616648\ttotal: 966ms\tremaining: 10.6s\n",
      "200:\tlearn: 88.3265905\ttotal: 1.77s\tremaining: 8.88s\n",
      "300:\tlearn: 85.7465071\ttotal: 2.57s\tremaining: 7.75s\n",
      "400:\tlearn: 83.9942525\ttotal: 3.63s\tremaining: 7.33s\n",
      "500:\tlearn: 82.4537871\ttotal: 4.57s\tremaining: 6.46s\n",
      "600:\tlearn: 81.2714799\ttotal: 5.48s\tremaining: 5.55s\n",
      "700:\tlearn: 80.3342967\ttotal: 6.34s\tremaining: 4.6s\n",
      "800:\tlearn: 79.5363107\ttotal: 7.28s\tremaining: 3.72s\n",
      "900:\tlearn: 78.8363205\ttotal: 8.09s\tremaining: 2.77s\n",
      "1000:\tlearn: 78.2843181\ttotal: 8.85s\tremaining: 1.85s\n",
      "1100:\tlearn: 77.7970546\ttotal: 9.63s\tremaining: 954ms\n"
     ]
    },
    {
     "name": "stderr",
     "output_type": "stream",
     "text": [
      "[I 2023-11-07 08:36:15,215] Trial 14 finished with value: 74.53712646613847 and parameters: {'iterations': 1210, 'learning_rate': 0.026263887283659835, 'depth': 3, 'min_data_in_leaf': 38, 'l2_leaf_reg': 7, 'bagging_temperature': 0.9776350186410261, 'random_strength': 0.7904789033283007, 'border_count': 434, 'rsm': 0.6260999940798835}. Best is trial 4 with value: 73.85295340459383.\n"
     ]
    },
    {
     "name": "stdout",
     "output_type": "stream",
     "text": [
      "1200:\tlearn: 77.3338787\ttotal: 10.5s\tremaining: 79ms\n",
      "1209:\tlearn: 77.2922529\ttotal: 10.6s\tremaining: 0us\n",
      "0:\tlearn: 179.9489808\ttotal: 4.12ms\tremaining: 3.81s\n",
      "100:\tlearn: 96.3118586\ttotal: 544ms\tremaining: 4.45s\n",
      "200:\tlearn: 93.9802650\ttotal: 1.07s\tremaining: 3.86s\n",
      "300:\tlearn: 93.1108240\ttotal: 1.62s\tremaining: 3.38s\n",
      "400:\tlearn: 92.5172212\ttotal: 2.2s\tremaining: 2.88s\n",
      "500:\tlearn: 92.0625266\ttotal: 2.88s\tremaining: 2.45s\n",
      "600:\tlearn: 91.6962514\ttotal: 3.48s\tremaining: 1.89s\n",
      "700:\tlearn: 91.3966655\ttotal: 3.94s\tremaining: 1.27s\n",
      "800:\tlearn: 91.1460845\ttotal: 4.5s\tremaining: 708ms\n",
      "900:\tlearn: 90.9338471\ttotal: 4.98s\tremaining: 144ms\n",
      "926:\tlearn: 90.8845912\ttotal: 5.15s\tremaining: 0us\n"
     ]
    },
    {
     "name": "stderr",
     "output_type": "stream",
     "text": [
      "[I 2023-11-07 08:36:20,717] Trial 15 finished with value: 78.36141099602922 and parameters: {'iterations': 927, 'learning_rate': 0.05500082467031372, 'depth': 1, 'min_data_in_leaf': 39, 'l2_leaf_reg': 8, 'bagging_temperature': 0.9084416681769836, 'random_strength': 0.9032638807498578, 'border_count': 658, 'rsm': 0.7033271586411247}. Best is trial 4 with value: 73.85295340459383.\n"
     ]
    },
    {
     "name": "stdout",
     "output_type": "stream",
     "text": [
      "0:\tlearn: 182.8641216\ttotal: 4.39ms\tremaining: 5.01s\n",
      "100:\tlearn: 104.9090232\ttotal: 591ms\tremaining: 6.09s\n",
      "200:\tlearn: 97.7083196\ttotal: 1.26s\tremaining: 5.89s\n",
      "300:\tlearn: 95.6903500\ttotal: 1.99s\tremaining: 5.55s\n",
      "400:\tlearn: 94.4230907\ttotal: 2.62s\tremaining: 4.83s\n",
      "500:\tlearn: 93.4369665\ttotal: 3.37s\tremaining: 4.31s\n",
      "600:\tlearn: 92.6905653\ttotal: 4.12s\tremaining: 3.71s\n",
      "700:\tlearn: 92.0672530\ttotal: 4.74s\tremaining: 2.98s\n",
      "800:\tlearn: 91.5437458\ttotal: 5.35s\tremaining: 2.28s\n",
      "900:\tlearn: 91.0936880\ttotal: 6.01s\tremaining: 1.61s\n",
      "1000:\tlearn: 90.7021151\ttotal: 6.58s\tremaining: 926ms\n",
      "1100:\tlearn: 90.3724371\ttotal: 7.2s\tremaining: 268ms\n"
     ]
    },
    {
     "name": "stderr",
     "output_type": "stream",
     "text": [
      "[I 2023-11-07 08:36:28,574] Trial 16 finished with value: 93.69113594952677 and parameters: {'iterations': 1142, 'learning_rate': 0.019282676085939945, 'depth': 3, 'min_data_in_leaf': 3, 'l2_leaf_reg': 8, 'bagging_temperature': 0.9706679048446506, 'random_strength': 0.7455959543836324, 'border_count': 3, 'rsm': 0.3328138271096315}. Best is trial 4 with value: 73.85295340459383.\n"
     ]
    },
    {
     "name": "stdout",
     "output_type": "stream",
     "text": [
      "1141:\tlearn: 90.2424339\ttotal: 7.55s\tremaining: 0us\n",
      "0:\tlearn: 179.3474575\ttotal: 96.9ms\tremaining: 1m 35s\n",
      "100:\tlearn: 73.8345281\ttotal: 8.78s\tremaining: 1m 16s\n",
      "200:\tlearn: 64.6673924\ttotal: 18.6s\tremaining: 1m 12s\n",
      "300:\tlearn: 59.2242691\ttotal: 27.8s\tremaining: 1m 3s\n",
      "400:\tlearn: 54.4330033\ttotal: 37.5s\tremaining: 54.5s\n",
      "500:\tlearn: 51.5470326\ttotal: 46.3s\tremaining: 44.6s\n",
      "600:\tlearn: 48.0196712\ttotal: 55.4s\tremaining: 35.3s\n",
      "700:\tlearn: 44.7721171\ttotal: 1m 4s\tremaining: 26.1s\n",
      "800:\tlearn: 42.1312430\ttotal: 1m 13s\tremaining: 16.8s\n",
      "900:\tlearn: 39.8460735\ttotal: 1m 23s\tremaining: 7.68s\n",
      "983:\tlearn: 38.1430599\ttotal: 1m 31s\tremaining: 0us\n"
     ]
    },
    {
     "name": "stderr",
     "output_type": "stream",
     "text": [
      "[I 2023-11-07 08:38:00,320] Trial 17 finished with value: 83.04392392973004 and parameters: {'iterations': 984, 'learning_rate': 0.04391239547336799, 'depth': 10, 'min_data_in_leaf': 41, 'l2_leaf_reg': 7, 'bagging_temperature': 0.9902938229845424, 'random_strength': 0.8854966634306664, 'border_count': 374, 'rsm': 0.8046275259596395}. Best is trial 4 with value: 73.85295340459383.\n"
     ]
    },
    {
     "name": "stdout",
     "output_type": "stream",
     "text": [
      "0:\tlearn: 182.6895382\ttotal: 73ms\tremaining: 3m 25s\n",
      "100:\tlearn: 93.8638603\ttotal: 3.16s\tremaining: 1m 25s\n",
      "200:\tlearn: 83.9665091\ttotal: 6.53s\tremaining: 1m 25s\n",
      "300:\tlearn: 80.6498186\ttotal: 9.29s\tremaining: 1m 17s\n",
      "400:\tlearn: 78.3864218\ttotal: 12.1s\tremaining: 1m 13s\n",
      "500:\tlearn: 76.6903996\ttotal: 14.7s\tremaining: 1m 8s\n",
      "600:\tlearn: 75.2547138\ttotal: 17.6s\tremaining: 1m 5s\n",
      "700:\tlearn: 74.0268846\ttotal: 20.7s\tremaining: 1m 2s\n",
      "800:\tlearn: 72.8630737\ttotal: 23.6s\tremaining: 59.4s\n",
      "900:\tlearn: 71.8368432\ttotal: 26.2s\tremaining: 55.9s\n",
      "1000:\tlearn: 70.9378681\ttotal: 28.9s\tremaining: 52.6s\n",
      "1100:\tlearn: 70.0213507\ttotal: 32s\tremaining: 50.1s\n",
      "1200:\tlearn: 69.2697935\ttotal: 34.8s\tremaining: 47s\n",
      "1300:\tlearn: 68.5612587\ttotal: 37.9s\tremaining: 44.3s\n",
      "1400:\tlearn: 67.8101644\ttotal: 40.6s\tremaining: 41.2s\n",
      "1500:\tlearn: 67.0868112\ttotal: 43.7s\tremaining: 38.4s\n",
      "1600:\tlearn: 66.3723554\ttotal: 46.2s\tremaining: 35.2s\n",
      "1700:\tlearn: 65.6514808\ttotal: 48.7s\tremaining: 32s\n",
      "1800:\tlearn: 65.0389344\ttotal: 51s\tremaining: 28.9s\n",
      "1900:\tlearn: 64.4088592\ttotal: 53.4s\tremaining: 25.8s\n",
      "2000:\tlearn: 63.7950258\ttotal: 55.5s\tremaining: 22.7s\n",
      "2100:\tlearn: 63.1321027\ttotal: 57.7s\tremaining: 19.8s\n",
      "2200:\tlearn: 62.5141947\ttotal: 59.9s\tremaining: 16.9s\n",
      "2300:\tlearn: 61.9338000\ttotal: 1m 2s\tremaining: 14.2s\n",
      "2400:\tlearn: 61.3717655\ttotal: 1m 5s\tremaining: 11.4s\n",
      "2500:\tlearn: 60.8102632\ttotal: 1m 7s\tremaining: 8.66s\n",
      "2600:\tlearn: 60.2419795\ttotal: 1m 10s\tremaining: 5.92s\n",
      "2700:\tlearn: 59.6962889\ttotal: 1m 12s\tremaining: 3.21s\n",
      "2800:\tlearn: 59.1727448\ttotal: 1m 14s\tremaining: 533ms\n"
     ]
    },
    {
     "name": "stderr",
     "output_type": "stream",
     "text": [
      "[I 2023-11-07 08:39:16,154] Trial 18 finished with value: 81.32567384082463 and parameters: {'iterations': 2821, 'learning_rate': 0.01826925041646618, 'depth': 6, 'min_data_in_leaf': 23, 'l2_leaf_reg': 10, 'bagging_temperature': 0.8501673863285731, 'random_strength': 0.8921920240341129, 'border_count': 548, 'rsm': 0.7180346249224923}. Best is trial 4 with value: 73.85295340459383.\n"
     ]
    },
    {
     "name": "stdout",
     "output_type": "stream",
     "text": [
      "2820:\tlearn: 59.0491413\ttotal: 1m 15s\tremaining: 0us\n",
      "0:\tlearn: 184.1075887\ttotal: 5.8ms\tremaining: 10.9s\n",
      "100:\tlearn: 124.7896544\ttotal: 643ms\tremaining: 11.3s\n",
      "200:\tlearn: 103.7092544\ttotal: 1.36s\tremaining: 11.4s\n",
      "300:\tlearn: 95.8393710\ttotal: 2.19s\tremaining: 11.4s\n",
      "400:\tlearn: 92.2523619\ttotal: 2.88s\tremaining: 10.6s\n",
      "500:\tlearn: 90.4637518\ttotal: 3.46s\tremaining: 9.47s\n",
      "600:\tlearn: 89.1598800\ttotal: 4.17s\tremaining: 8.82s\n",
      "700:\tlearn: 88.1161472\ttotal: 5.04s\tremaining: 8.41s\n",
      "800:\tlearn: 87.2052389\ttotal: 5.86s\tremaining: 7.84s\n",
      "900:\tlearn: 86.3948695\ttotal: 6.57s\tremaining: 7.08s\n",
      "1000:\tlearn: 85.7624555\ttotal: 7.43s\tremaining: 6.47s\n",
      "1100:\tlearn: 85.1904132\ttotal: 8.22s\tremaining: 5.76s\n",
      "1200:\tlearn: 84.6727037\ttotal: 8.97s\tremaining: 5.01s\n",
      "1300:\tlearn: 84.2086086\ttotal: 9.82s\tremaining: 4.31s\n",
      "1400:\tlearn: 83.7671086\ttotal: 10.5s\tremaining: 3.54s\n",
      "1500:\tlearn: 83.3013623\ttotal: 11.3s\tremaining: 2.79s\n",
      "1600:\tlearn: 82.8529904\ttotal: 12s\tremaining: 2.04s\n",
      "1700:\tlearn: 82.4531626\ttotal: 12.8s\tremaining: 1.29s\n",
      "1800:\tlearn: 82.1273094\ttotal: 13.5s\tremaining: 534ms\n"
     ]
    },
    {
     "name": "stderr",
     "output_type": "stream",
     "text": [
      "[I 2023-11-07 08:39:30,710] Trial 19 finished with value: 72.97923437075937 and parameters: {'iterations': 1872, 'learning_rate': 0.007885191657253631, 'depth': 3, 'min_data_in_leaf': 55, 'l2_leaf_reg': 5, 'bagging_temperature': 0.9991389777278131, 'random_strength': 0.7131441415582764, 'border_count': 797, 'rsm': 0.4865611280540595}. Best is trial 19 with value: 72.97923437075937.\n"
     ]
    },
    {
     "name": "stdout",
     "output_type": "stream",
     "text": [
      "1871:\tlearn: 81.8951872\ttotal: 14.1s\tremaining: 0us\n",
      "0:\tlearn: 183.9892441\ttotal: 9.36ms\tremaining: 17.7s\n",
      "100:\tlearn: 120.2830810\ttotal: 1.61s\tremaining: 28.5s\n",
      "200:\tlearn: 98.2408554\ttotal: 3.26s\tremaining: 27.4s\n",
      "300:\tlearn: 90.3796417\ttotal: 5.09s\tremaining: 26.9s\n",
      "400:\tlearn: 86.8685482\ttotal: 6.91s\tremaining: 25.7s\n",
      "500:\tlearn: 84.9180984\ttotal: 8.63s\tremaining: 23.9s\n",
      "600:\tlearn: 83.5944078\ttotal: 10.4s\tremaining: 22.2s\n",
      "700:\tlearn: 82.4449061\ttotal: 12.1s\tremaining: 20.5s\n",
      "800:\tlearn: 81.4395373\ttotal: 13.8s\tremaining: 18.7s\n",
      "900:\tlearn: 80.5443750\ttotal: 15.6s\tremaining: 17.1s\n",
      "1000:\tlearn: 79.7902965\ttotal: 17.4s\tremaining: 15.4s\n",
      "1100:\tlearn: 79.0436476\ttotal: 19.2s\tremaining: 13.7s\n",
      "1200:\tlearn: 78.4334328\ttotal: 20.7s\tremaining: 11.9s\n",
      "1300:\tlearn: 77.8374455\ttotal: 22.6s\tremaining: 10.2s\n",
      "1400:\tlearn: 77.2804859\ttotal: 24.4s\tremaining: 8.51s\n",
      "1500:\tlearn: 76.7434510\ttotal: 26.2s\tremaining: 6.78s\n",
      "1600:\tlearn: 76.2570697\ttotal: 28.1s\tremaining: 5.06s\n",
      "1700:\tlearn: 75.8034745\ttotal: 29.9s\tremaining: 3.32s\n",
      "1800:\tlearn: 75.3609982\ttotal: 32.4s\tremaining: 1.6s\n"
     ]
    },
    {
     "name": "stderr",
     "output_type": "stream",
     "text": [
      "[I 2023-11-07 08:40:05,796] Trial 20 finished with value: 76.72127032824135 and parameters: {'iterations': 1890, 'learning_rate': 0.008076499711144424, 'depth': 5, 'min_data_in_leaf': 59, 'l2_leaf_reg': 5, 'bagging_temperature': 0.9974925196538287, 'random_strength': 0.7209662583109252, 'border_count': 846, 'rsm': 0.45899156469646163}. Best is trial 19 with value: 72.97923437075937.\n"
     ]
    },
    {
     "name": "stdout",
     "output_type": "stream",
     "text": [
      "1889:\tlearn: 74.9649853\ttotal: 34.6s\tremaining: 0us\n",
      "0:\tlearn: 183.3109672\ttotal: 19.8ms\tremaining: 28.2s\n",
      "100:\tlearn: 105.7261476\ttotal: 897ms\tremaining: 11.8s\n",
      "200:\tlearn: 93.0801451\ttotal: 1.87s\tremaining: 11.4s\n",
      "300:\tlearn: 89.7713838\ttotal: 2.71s\tremaining: 10.2s\n",
      "400:\tlearn: 87.6490075\ttotal: 3.48s\tremaining: 8.93s\n",
      "500:\tlearn: 86.2229004\ttotal: 4.38s\tremaining: 8.11s\n",
      "600:\tlearn: 85.1580531\ttotal: 5.28s\tremaining: 7.27s\n",
      "700:\tlearn: 84.2791957\ttotal: 6.05s\tremaining: 6.28s\n",
      "800:\tlearn: 83.4396790\ttotal: 6.87s\tremaining: 5.38s\n",
      "900:\tlearn: 82.6643737\ttotal: 7.66s\tremaining: 4.48s\n",
      "1000:\tlearn: 82.0204617\ttotal: 8.39s\tremaining: 3.58s\n",
      "1100:\tlearn: 81.4090650\ttotal: 9.23s\tremaining: 2.74s\n",
      "1200:\tlearn: 80.9011701\ttotal: 10.2s\tremaining: 1.92s\n",
      "1300:\tlearn: 80.4289249\ttotal: 11s\tremaining: 1.07s\n",
      "1400:\tlearn: 79.9532153\ttotal: 11.7s\tremaining: 226ms\n"
     ]
    },
    {
     "name": "stderr",
     "output_type": "stream",
     "text": [
      "[I 2023-11-07 08:40:18,135] Trial 21 finished with value: 74.10782622491888 and parameters: {'iterations': 1428, 'learning_rate': 0.014405632552644449, 'depth': 3, 'min_data_in_leaf': 46, 'l2_leaf_reg': 7, 'bagging_temperature': 0.9202011585653211, 'random_strength': 0.7240824644559035, 'border_count': 749, 'rsm': 0.5675691095656439}. Best is trial 19 with value: 72.97923437075937.\n"
     ]
    },
    {
     "name": "stdout",
     "output_type": "stream",
     "text": [
      "1427:\tlearn: 79.8465818\ttotal: 11.9s\tremaining: 0us\n",
      "0:\tlearn: 184.2753353\ttotal: 9.73ms\tremaining: 14.6s\n",
      "100:\tlearn: 134.7061984\ttotal: 551ms\tremaining: 7.65s\n",
      "200:\tlearn: 112.4558994\ttotal: 1.15s\tremaining: 7.47s\n",
      "300:\tlearn: 102.8721384\ttotal: 1.95s\tremaining: 7.79s\n",
      "400:\tlearn: 98.4652141\ttotal: 2.52s\tremaining: 6.93s\n",
      "500:\tlearn: 96.0634161\ttotal: 3.24s\tremaining: 6.48s\n",
      "600:\tlearn: 94.5575996\ttotal: 4s\tremaining: 6.01s\n",
      "700:\tlearn: 93.4203607\ttotal: 4.63s\tremaining: 5.29s\n",
      "800:\tlearn: 92.3546861\ttotal: 5.29s\tremaining: 4.63s\n",
      "900:\tlearn: 91.5294489\ttotal: 5.86s\tremaining: 3.91s\n",
      "1000:\tlearn: 90.7979236\ttotal: 6.39s\tremaining: 3.2s\n",
      "1100:\tlearn: 90.2004670\ttotal: 6.96s\tremaining: 2.54s\n",
      "1200:\tlearn: 89.7366360\ttotal: 7.54s\tremaining: 1.9s\n",
      "1300:\tlearn: 89.2951800\ttotal: 8.18s\tremaining: 1.27s\n",
      "1400:\tlearn: 88.9257944\ttotal: 9.05s\tremaining: 659ms\n"
     ]
    },
    {
     "name": "stderr",
     "output_type": "stream",
     "text": [
      "[I 2023-11-07 08:40:28,087] Trial 22 finished with value: 74.07305901551278 and parameters: {'iterations': 1503, 'learning_rate': 0.006470048856129325, 'depth': 2, 'min_data_in_leaf': 49, 'l2_leaf_reg': 5, 'bagging_temperature': 0.9061361342311639, 'random_strength': 0.6976756264488553, 'border_count': 797, 'rsm': 0.5145680149419437}. Best is trial 19 with value: 72.97923437075937.\n"
     ]
    },
    {
     "name": "stdout",
     "output_type": "stream",
     "text": [
      "1500:\tlearn: 88.5948609\ttotal: 9.55s\tremaining: 12.7ms\n",
      "1502:\tlearn: 88.5854440\ttotal: 9.57s\tremaining: 0us\n",
      "0:\tlearn: 184.3902689\ttotal: 3.61ms\tremaining: 7.17s\n",
      "100:\tlearn: 142.5630918\ttotal: 422ms\tremaining: 7.87s\n",
      "200:\tlearn: 121.3788402\ttotal: 820ms\tremaining: 7.28s\n",
      "300:\tlearn: 110.1247315\ttotal: 1.34s\tremaining: 7.5s\n",
      "400:\tlearn: 104.2154812\ttotal: 1.75s\tremaining: 6.91s\n",
      "500:\tlearn: 100.9864762\ttotal: 2.38s\tremaining: 7.05s\n",
      "600:\tlearn: 99.1702104\ttotal: 2.88s\tremaining: 6.63s\n",
      "700:\tlearn: 97.9772167\ttotal: 3.26s\tremaining: 5.97s\n",
      "800:\tlearn: 97.1284610\ttotal: 3.66s\tremaining: 5.42s\n",
      "900:\tlearn: 96.4965637\ttotal: 4.25s\tremaining: 5.11s\n",
      "1000:\tlearn: 96.0098926\ttotal: 4.8s\tremaining: 4.72s\n",
      "1100:\tlearn: 95.6156142\ttotal: 5.21s\tremaining: 4.18s\n",
      "1200:\tlearn: 95.2981694\ttotal: 5.62s\tremaining: 3.67s\n",
      "1300:\tlearn: 95.0250400\ttotal: 6.19s\tremaining: 3.26s\n",
      "1400:\tlearn: 94.8036122\ttotal: 6.57s\tremaining: 2.74s\n",
      "1500:\tlearn: 94.6136343\ttotal: 7.05s\tremaining: 2.27s\n",
      "1600:\tlearn: 94.4457053\ttotal: 7.41s\tremaining: 1.78s\n",
      "1700:\tlearn: 94.2934894\ttotal: 7.93s\tremaining: 1.32s\n",
      "1800:\tlearn: 94.1565657\ttotal: 8.55s\tremaining: 873ms\n",
      "1900:\tlearn: 94.0317946\ttotal: 9.2s\tremaining: 407ms\n"
     ]
    },
    {
     "name": "stderr",
     "output_type": "stream",
     "text": [
      "[I 2023-11-07 08:40:38,166] Trial 23 finished with value: 80.75910285769342 and parameters: {'iterations': 1985, 'learning_rate': 0.006591803548339446, 'depth': 1, 'min_data_in_leaf': 57, 'l2_leaf_reg': 5, 'bagging_temperature': 0.8348880950672839, 'random_strength': 0.7001588248988208, 'border_count': 791, 'rsm': 0.3514333890347499}. Best is trial 19 with value: 72.97923437075937.\n"
     ]
    },
    {
     "name": "stdout",
     "output_type": "stream",
     "text": [
      "1984:\tlearn: 93.9337451\ttotal: 9.61s\tremaining: 0us\n",
      "0:\tlearn: 184.3646359\ttotal: 10.9ms\tremaining: 17.5s\n",
      "100:\tlearn: 136.3305136\ttotal: 707ms\tremaining: 10.6s\n",
      "200:\tlearn: 113.7700874\ttotal: 1.54s\tremaining: 10.8s\n",
      "300:\tlearn: 103.8337777\ttotal: 2.28s\tremaining: 9.96s\n",
      "400:\tlearn: 99.0817258\ttotal: 3.02s\tremaining: 9.15s\n",
      "500:\tlearn: 96.4937425\ttotal: 3.77s\tremaining: 8.39s\n",
      "600:\tlearn: 94.9087774\ttotal: 4.42s\tremaining: 7.47s\n",
      "700:\tlearn: 93.6211748\ttotal: 5.03s\tremaining: 6.57s\n",
      "800:\tlearn: 92.5903370\ttotal: 5.78s\tremaining: 5.89s\n",
      "900:\tlearn: 91.6941679\ttotal: 6.55s\tremaining: 5.2s\n",
      "1000:\tlearn: 90.9757589\ttotal: 7.19s\tremaining: 4.43s\n",
      "1100:\tlearn: 90.4081332\ttotal: 7.96s\tremaining: 3.73s\n",
      "1200:\tlearn: 89.8780388\ttotal: 8.86s\tremaining: 3.07s\n",
      "1300:\tlearn: 89.4313522\ttotal: 9.7s\tremaining: 2.35s\n",
      "1400:\tlearn: 89.0425079\ttotal: 10.6s\tremaining: 1.63s\n",
      "1500:\tlearn: 88.6681480\ttotal: 11.5s\tremaining: 885ms\n"
     ]
    },
    {
     "name": "stderr",
     "output_type": "stream",
     "text": [
      "[I 2023-11-07 08:40:50,857] Trial 24 finished with value: 73.80485591113896 and parameters: {'iterations': 1617, 'learning_rate': 0.006175356440529656, 'depth': 2, 'min_data_in_leaf': 49, 'l2_leaf_reg': 4, 'bagging_temperature': 0.8805220217423063, 'random_strength': 0.5460467812908939, 'border_count': 769, 'rsm': 0.4857815653742165}. Best is trial 19 with value: 72.97923437075937.\n"
     ]
    },
    {
     "name": "stdout",
     "output_type": "stream",
     "text": [
      "1600:\tlearn: 88.3816817\ttotal: 12.2s\tremaining: 121ms\n",
      "1616:\tlearn: 88.3404552\ttotal: 12.3s\tremaining: 0us\n",
      "0:\tlearn: 183.6999190\ttotal: 2.4ms\tremaining: 6.3s\n",
      "100:\tlearn: 114.0496901\ttotal: 654ms\tremaining: 16.4s\n",
      "200:\tlearn: 99.3928725\ttotal: 1.2s\tremaining: 14.5s\n",
      "300:\tlearn: 95.1929225\ttotal: 1.78s\tremaining: 13.8s\n",
      "400:\tlearn: 93.0249250\ttotal: 2.39s\tremaining: 13.2s\n",
      "500:\tlearn: 91.4488651\ttotal: 3s\tremaining: 12.7s\n",
      "600:\tlearn: 90.2906911\ttotal: 3.77s\tremaining: 12.7s\n",
      "700:\tlearn: 89.4066706\ttotal: 4.42s\tremaining: 12.1s\n",
      "800:\tlearn: 88.7821244\ttotal: 4.99s\tremaining: 11.4s\n",
      "900:\tlearn: 88.2422286\ttotal: 5.5s\tremaining: 10.5s\n",
      "1000:\tlearn: 87.7653921\ttotal: 6.08s\tremaining: 9.88s\n",
      "1100:\tlearn: 87.3121731\ttotal: 6.74s\tremaining: 9.34s\n",
      "1200:\tlearn: 86.8583404\ttotal: 7.63s\tremaining: 9.06s\n",
      "1300:\tlearn: 86.4537799\ttotal: 8.3s\tremaining: 8.46s\n",
      "1400:\tlearn: 86.0854720\ttotal: 8.94s\tremaining: 7.82s\n",
      "1500:\tlearn: 85.7610768\ttotal: 9.49s\tremaining: 7.11s\n",
      "1600:\tlearn: 85.4447938\ttotal: 10s\tremaining: 6.41s\n",
      "1700:\tlearn: 85.1438550\ttotal: 10.8s\tremaining: 5.88s\n",
      "1800:\tlearn: 84.8805406\ttotal: 11.6s\tremaining: 5.3s\n",
      "1900:\tlearn: 84.6160815\ttotal: 12.2s\tremaining: 4.64s\n",
      "2000:\tlearn: 84.3101998\ttotal: 12.8s\tremaining: 4s\n",
      "2100:\tlearn: 84.1161363\ttotal: 13.5s\tremaining: 3.37s\n",
      "2200:\tlearn: 83.8578531\ttotal: 14.3s\tremaining: 2.77s\n",
      "2300:\tlearn: 83.6087484\ttotal: 15s\tremaining: 2.11s\n",
      "2400:\tlearn: 83.3586246\ttotal: 15.6s\tremaining: 1.47s\n",
      "2500:\tlearn: 83.1414899\ttotal: 16.2s\tremaining: 812ms\n",
      "2600:\tlearn: 82.9553675\ttotal: 17s\tremaining: 163ms\n",
      "2625:\tlearn: 82.9093045\ttotal: 17.2s\tremaining: 0us\n"
     ]
    },
    {
     "name": "stderr",
     "output_type": "stream",
     "text": [
      "[I 2023-11-07 08:41:08,602] Trial 25 finished with value: 74.1877301416371 and parameters: {'iterations': 2626, 'learning_rate': 0.012640850972311183, 'depth': 2, 'min_data_in_leaf': 83, 'l2_leaf_reg': 4, 'bagging_temperature': 0.8395851423296979, 'random_strength': 0.5729219098749394, 'border_count': 920, 'rsm': 0.2726715752719087}. Best is trial 19 with value: 72.97923437075937.\n"
     ]
    },
    {
     "name": "stdout",
     "output_type": "stream",
     "text": [
      "0:\tlearn: 184.3016885\ttotal: 23.9ms\tremaining: 51.3s\n",
      "100:\tlearn: 133.8400658\ttotal: 1.48s\tremaining: 29.9s\n",
      "200:\tlearn: 109.8925434\ttotal: 2.9s\tremaining: 28.1s\n",
      "300:\tlearn: 98.5886941\ttotal: 4.18s\tremaining: 25.6s\n",
      "400:\tlearn: 93.1007844\ttotal: 5.54s\tremaining: 24.1s\n",
      "500:\tlearn: 90.0257770\ttotal: 6.91s\tremaining: 22.7s\n",
      "600:\tlearn: 88.2061680\ttotal: 8.21s\tremaining: 21.1s\n",
      "700:\tlearn: 87.0155460\ttotal: 9.92s\tremaining: 20.5s\n",
      "800:\tlearn: 86.0780557\ttotal: 11.4s\tremaining: 19.1s\n",
      "900:\tlearn: 85.2731983\ttotal: 12.8s\tremaining: 17.8s\n",
      "1000:\tlearn: 84.5272046\ttotal: 14.3s\tremaining: 16.4s\n",
      "1100:\tlearn: 83.8257008\ttotal: 15.6s\tremaining: 14.9s\n",
      "1200:\tlearn: 83.1468688\ttotal: 17.1s\tremaining: 13.5s\n",
      "1300:\tlearn: 82.6289107\ttotal: 18.4s\tremaining: 11.9s\n",
      "1400:\tlearn: 82.0708890\ttotal: 19.6s\tremaining: 10.4s\n",
      "1500:\tlearn: 81.5854921\ttotal: 20.9s\tremaining: 9s\n",
      "1600:\tlearn: 81.1480464\ttotal: 22.3s\tremaining: 7.59s\n",
      "1700:\tlearn: 80.7037838\ttotal: 23.4s\tremaining: 6.15s\n",
      "1800:\tlearn: 80.2900365\ttotal: 24.8s\tremaining: 4.76s\n",
      "1900:\tlearn: 79.8779875\ttotal: 26.3s\tremaining: 3.41s\n",
      "2000:\tlearn: 79.5206686\ttotal: 27.9s\tremaining: 2.03s\n",
      "2100:\tlearn: 79.1598749\ttotal: 29.4s\tremaining: 644ms\n"
     ]
    },
    {
     "name": "stderr",
     "output_type": "stream",
     "text": [
      "[I 2023-11-07 08:41:39,169] Trial 26 finished with value: 74.81087810672386 and parameters: {'iterations': 2147, 'learning_rate': 0.005648095180829414, 'depth': 4, 'min_data_in_leaf': 30, 'l2_leaf_reg': 4, 'bagging_temperature': 0.9323832720110214, 'random_strength': 0.49068327511912796, 'border_count': 702, 'rsm': 0.9940788955925086}. Best is trial 19 with value: 72.97923437075937.\n"
     ]
    },
    {
     "name": "stdout",
     "output_type": "stream",
     "text": [
      "2146:\tlearn: 79.0011141\ttotal: 30s\tremaining: 0us\n",
      "0:\tlearn: 183.7619843\ttotal: 10.1ms\tremaining: 17.6s\n",
      "100:\tlearn: 113.2536501\ttotal: 1.25s\tremaining: 20.3s\n",
      "200:\tlearn: 93.8189203\ttotal: 2.49s\tremaining: 19.1s\n",
      "300:\tlearn: 87.7550052\ttotal: 3.89s\tremaining: 18.7s\n",
      "400:\tlearn: 85.0398793\ttotal: 5.08s\tremaining: 17.1s\n",
      "500:\tlearn: 83.2990311\ttotal: 6.37s\tremaining: 15.8s\n",
      "600:\tlearn: 81.8501817\ttotal: 7.62s\tremaining: 14.5s\n",
      "700:\tlearn: 80.7087496\ttotal: 9.18s\tremaining: 13.7s\n",
      "800:\tlearn: 79.7237796\ttotal: 10.5s\tremaining: 12.4s\n",
      "900:\tlearn: 78.8439956\ttotal: 11.8s\tremaining: 11.1s\n",
      "1000:\tlearn: 78.0361095\ttotal: 13.4s\tremaining: 9.95s\n",
      "1100:\tlearn: 77.3299913\ttotal: 14.6s\tremaining: 8.55s\n",
      "1200:\tlearn: 76.5645439\ttotal: 16s\tremaining: 7.25s\n",
      "1300:\tlearn: 75.9368986\ttotal: 17.6s\tremaining: 6.03s\n",
      "1400:\tlearn: 75.3001104\ttotal: 19.2s\tremaining: 4.73s\n",
      "1500:\tlearn: 74.7185838\ttotal: 20.5s\tremaining: 3.35s\n",
      "1600:\tlearn: 74.1682580\ttotal: 21.9s\tremaining: 1.98s\n",
      "1700:\tlearn: 73.6233751\ttotal: 23.4s\tremaining: 619ms\n"
     ]
    },
    {
     "name": "stderr",
     "output_type": "stream",
     "text": [
      "[I 2023-11-07 08:42:03,663] Trial 27 finished with value: 77.06039215834492 and parameters: {'iterations': 1746, 'learning_rate': 0.009779175971810607, 'depth': 5, 'min_data_in_leaf': 62, 'l2_leaf_reg': 3, 'bagging_temperature': 0.9941424937013057, 'random_strength': 0.5370736823384561, 'border_count': 559, 'rsm': 0.40498520706591207}. Best is trial 19 with value: 72.97923437075937.\n"
     ]
    },
    {
     "name": "stdout",
     "output_type": "stream",
     "text": [
      "1745:\tlearn: 73.3949204\ttotal: 23.9s\tremaining: 0us\n",
      "0:\tlearn: 184.6604697\ttotal: 42ms\tremaining: 1m 19s\n",
      "100:\tlearn: 155.3004926\ttotal: 4.83s\tremaining: 1m 25s\n",
      "200:\tlearn: 134.2108128\ttotal: 9.55s\tremaining: 1m 20s\n",
      "300:\tlearn: 119.2616939\ttotal: 14s\tremaining: 1m 13s\n",
      "400:\tlearn: 108.7771550\ttotal: 18.6s\tremaining: 1m 8s\n",
      "500:\tlearn: 101.4674548\ttotal: 23.3s\tremaining: 1m 4s\n",
      "600:\tlearn: 96.3662423\ttotal: 27.9s\tremaining: 59.7s\n",
      "700:\tlearn: 92.7357427\ttotal: 32.6s\tremaining: 55.2s\n",
      "800:\tlearn: 90.0885210\ttotal: 37.1s\tremaining: 50.3s\n",
      "900:\tlearn: 88.1384515\ttotal: 41.5s\tremaining: 45.4s\n",
      "1000:\tlearn: 86.6342734\ttotal: 46.5s\tremaining: 41.1s\n",
      "1100:\tlearn: 85.4400775\ttotal: 51.5s\tremaining: 36.8s\n",
      "1200:\tlearn: 84.4338552\ttotal: 56.3s\tremaining: 32.2s\n",
      "1300:\tlearn: 83.5829696\ttotal: 1m 1s\tremaining: 27.7s\n",
      "1400:\tlearn: 82.8831047\ttotal: 1m 6s\tremaining: 23s\n",
      "1500:\tlearn: 82.2679078\ttotal: 1m 11s\tremaining: 18.3s\n",
      "1600:\tlearn: 81.7355605\ttotal: 1m 15s\tremaining: 13.6s\n",
      "1700:\tlearn: 81.2205811\ttotal: 1m 20s\tremaining: 8.81s\n",
      "1800:\tlearn: 80.7464797\ttotal: 1m 24s\tremaining: 4.06s\n"
     ]
    },
    {
     "name": "stderr",
     "output_type": "stream",
     "text": [
      "[I 2023-11-07 08:43:33,162] Trial 28 finished with value: 75.39901091856629 and parameters: {'iterations': 1887, 'learning_rate': 0.002672066340409852, 'depth': 6, 'min_data_in_leaf': 51, 'l2_leaf_reg': 4, 'bagging_temperature': 0.8840842202692496, 'random_strength': 0.4606882471592909, 'border_count': 857, 'rsm': 0.4724218543061178}. Best is trial 19 with value: 72.97923437075937.\n"
     ]
    },
    {
     "name": "stdout",
     "output_type": "stream",
     "text": [
      "1886:\tlearn: 80.3541082\ttotal: 1m 28s\tremaining: 0us\n",
      "0:\tlearn: 183.7174353\ttotal: 4ms\tremaining: 6.32s\n",
      "100:\tlearn: 114.0512872\ttotal: 612ms\tremaining: 8.98s\n",
      "200:\tlearn: 99.2598775\ttotal: 1.28s\tremaining: 8.8s\n",
      "300:\tlearn: 94.9580170\ttotal: 1.94s\tremaining: 8.28s\n",
      "400:\tlearn: 92.6957788\ttotal: 2.53s\tremaining: 7.46s\n",
      "500:\tlearn: 91.2100266\ttotal: 2.96s\tremaining: 6.4s\n",
      "600:\tlearn: 90.0963477\ttotal: 3.52s\tremaining: 5.75s\n",
      "700:\tlearn: 89.2598524\ttotal: 4s\tremaining: 5.03s\n",
      "800:\tlearn: 88.5388351\ttotal: 4.45s\tremaining: 4.34s\n",
      "900:\tlearn: 87.9048298\ttotal: 4.91s\tremaining: 3.71s\n",
      "1000:\tlearn: 87.3969595\ttotal: 5.26s\tremaining: 3.06s\n",
      "1100:\tlearn: 86.9206194\ttotal: 5.87s\tremaining: 2.57s\n",
      "1200:\tlearn: 86.4622824\ttotal: 6.49s\tremaining: 2.06s\n",
      "1300:\tlearn: 86.0837245\ttotal: 7.02s\tremaining: 1.52s\n",
      "1400:\tlearn: 85.7347060\ttotal: 7.66s\tremaining: 995ms\n",
      "1500:\tlearn: 85.4135667\ttotal: 8.28s\tremaining: 452ms\n"
     ]
    },
    {
     "name": "stderr",
     "output_type": "stream",
     "text": [
      "[I 2023-11-07 08:43:42,340] Trial 29 finished with value: 73.05915485739017 and parameters: {'iterations': 1583, 'learning_rate': 0.012604157520398269, 'depth': 2, 'min_data_in_leaf': 29, 'l2_leaf_reg': 5, 'bagging_temperature': 0.9352697030637603, 'random_strength': 0.693929776410443, 'border_count': 117, 'rsm': 0.3141668174333063}. Best is trial 19 with value: 72.97923437075937.\n"
     ]
    },
    {
     "name": "stdout",
     "output_type": "stream",
     "text": [
      "1582:\tlearn: 85.1528303\ttotal: 8.79s\tremaining: 0us\n",
      "0:\tlearn: 184.3152353\ttotal: 4.45ms\tremaining: 6.89s\n",
      "100:\tlearn: 137.1294189\ttotal: 622ms\tremaining: 8.91s\n",
      "200:\tlearn: 114.5396317\ttotal: 1.25s\tremaining: 8.41s\n",
      "300:\tlearn: 104.3575505\ttotal: 1.94s\tremaining: 8.04s\n",
      "400:\tlearn: 99.5185346\ttotal: 2.56s\tremaining: 7.32s\n",
      "500:\tlearn: 96.7823309\ttotal: 3.29s\tremaining: 6.88s\n",
      "600:\tlearn: 95.1752687\ttotal: 3.94s\tremaining: 6.21s\n",
      "700:\tlearn: 93.9506950\ttotal: 4.58s\tremaining: 5.54s\n",
      "800:\tlearn: 92.9585867\ttotal: 5.17s\tremaining: 4.82s\n",
      "900:\tlearn: 92.1342789\ttotal: 5.87s\tremaining: 4.21s\n",
      "1000:\tlearn: 91.4029526\ttotal: 6.38s\tremaining: 3.49s\n",
      "1100:\tlearn: 90.7367105\ttotal: 7.02s\tremaining: 2.85s\n",
      "1200:\tlearn: 90.2194245\ttotal: 7.66s\tremaining: 2.21s\n",
      "1300:\tlearn: 89.7522369\ttotal: 8.35s\tremaining: 1.58s\n",
      "1400:\tlearn: 89.3601877\ttotal: 8.93s\tremaining: 937ms\n",
      "1500:\tlearn: 88.9863380\ttotal: 9.47s\tremaining: 297ms\n"
     ]
    },
    {
     "name": "stderr",
     "output_type": "stream",
     "text": [
      "[I 2023-11-07 08:43:52,468] Trial 30 finished with value: 74.06892454546585 and parameters: {'iterations': 1548, 'learning_rate': 0.00609843657467889, 'depth': 2, 'min_data_in_leaf': 13, 'l2_leaf_reg': 5, 'bagging_temperature': 0.9455864163627948, 'random_strength': 0.6706040186154067, 'border_count': 729, 'rsm': 0.3882101063613149}. Best is trial 19 with value: 72.97923437075937.\n"
     ]
    },
    {
     "name": "stdout",
     "output_type": "stream",
     "text": [
      "1547:\tlearn: 88.8125861\ttotal: 9.74s\tremaining: 0us\n",
      "0:\tlearn: 183.8670149\ttotal: 13.7ms\tremaining: 23s\n",
      "100:\tlearn: 124.4761495\ttotal: 498ms\tremaining: 7.76s\n",
      "200:\tlearn: 106.4160576\ttotal: 941ms\tremaining: 6.9s\n",
      "300:\tlearn: 100.4382814\ttotal: 1.49s\tremaining: 6.82s\n",
      "400:\tlearn: 98.1489356\ttotal: 2.02s\tremaining: 6.42s\n",
      "500:\tlearn: 96.8440839\ttotal: 2.45s\tremaining: 5.75s\n",
      "600:\tlearn: 96.0265609\ttotal: 2.89s\tremaining: 5.16s\n",
      "700:\tlearn: 95.4966993\ttotal: 3.37s\tremaining: 4.69s\n",
      "800:\tlearn: 95.1061582\ttotal: 3.71s\tremaining: 4.06s\n",
      "900:\tlearn: 94.7929394\ttotal: 4.11s\tremaining: 3.53s\n",
      "1000:\tlearn: 94.5383622\ttotal: 4.62s\tremaining: 3.12s\n",
      "1100:\tlearn: 94.3176319\ttotal: 5.14s\tremaining: 2.68s\n",
      "1200:\tlearn: 94.1236624\ttotal: 5.51s\tremaining: 2.18s\n",
      "1300:\tlearn: 93.9493952\ttotal: 5.94s\tremaining: 1.71s\n",
      "1400:\tlearn: 93.7881731\ttotal: 6.39s\tremaining: 1.25s\n",
      "1500:\tlearn: 93.6396042\ttotal: 6.83s\tremaining: 796ms\n",
      "1600:\tlearn: 93.5026412\ttotal: 7.17s\tremaining: 336ms\n"
     ]
    },
    {
     "name": "stderr",
     "output_type": "stream",
     "text": [
      "[I 2023-11-07 08:44:00,388] Trial 31 finished with value: 80.50097967582697 and parameters: {'iterations': 1676, 'learning_rate': 0.012258586420019667, 'depth': 1, 'min_data_in_leaf': 44, 'l2_leaf_reg': 6, 'bagging_temperature': 0.8870005900665705, 'random_strength': 0.6703646917821977, 'border_count': 122, 'rsm': 0.3094380578539755}. Best is trial 19 with value: 72.97923437075937.\n"
     ]
    },
    {
     "name": "stdout",
     "output_type": "stream",
     "text": [
      "1675:\tlearn: 93.4069468\ttotal: 7.49s\tremaining: 0us\n",
      "0:\tlearn: 182.7635712\ttotal: 37.2ms\tremaining: 48.3s\n",
      "100:\tlearn: 98.1307889\ttotal: 762ms\tremaining: 9.02s\n",
      "200:\tlearn: 88.7698468\ttotal: 1.49s\tremaining: 8.14s\n",
      "300:\tlearn: 85.7605696\ttotal: 2.71s\tremaining: 8.96s\n",
      "400:\tlearn: 83.8200779\ttotal: 3.53s\tremaining: 7.9s\n",
      "500:\tlearn: 82.3710350\ttotal: 4.55s\tremaining: 7.23s\n",
      "600:\tlearn: 81.0139944\ttotal: 5.54s\tremaining: 6.41s\n",
      "700:\tlearn: 79.8556025\ttotal: 6.31s\tremaining: 5.37s\n",
      "800:\tlearn: 78.8994089\ttotal: 7.07s\tremaining: 4.38s\n",
      "900:\tlearn: 78.0676240\ttotal: 7.88s\tremaining: 3.46s\n",
      "1000:\tlearn: 77.3183499\ttotal: 8.73s\tremaining: 2.58s\n",
      "1100:\tlearn: 76.5658764\ttotal: 9.64s\tremaining: 1.72s\n",
      "1200:\tlearn: 75.8754624\ttotal: 10.4s\tremaining: 830ms\n"
     ]
    },
    {
     "name": "stderr",
     "output_type": "stream",
     "text": [
      "[I 2023-11-07 08:44:11,862] Trial 32 finished with value: 76.49572211937769 and parameters: {'iterations': 1297, 'learning_rate': 0.01831324338640291, 'depth': 4, 'min_data_in_leaf': 32, 'l2_leaf_reg': 4, 'bagging_temperature': 0.9453586950020523, 'random_strength': 0.6458648606666213, 'border_count': 84, 'rsm': 0.26177612215641843}. Best is trial 19 with value: 72.97923437075937.\n"
     ]
    },
    {
     "name": "stdout",
     "output_type": "stream",
     "text": [
      "1296:\tlearn: 75.2837835\ttotal: 11.1s\tremaining: 0us\n",
      "0:\tlearn: 183.7911595\ttotal: 5.57ms\tremaining: 10.2s\n",
      "100:\tlearn: 117.0606920\ttotal: 639ms\tremaining: 11s\n",
      "200:\tlearn: 100.6394913\ttotal: 1.3s\tremaining: 10.6s\n",
      "300:\tlearn: 95.9298570\ttotal: 2.12s\tremaining: 10.8s\n",
      "400:\tlearn: 93.5960583\ttotal: 2.58s\tremaining: 9.24s\n",
      "500:\tlearn: 91.9460031\ttotal: 3.14s\tremaining: 8.38s\n",
      "600:\tlearn: 90.7210716\ttotal: 3.72s\tremaining: 7.64s\n",
      "700:\tlearn: 89.8132887\ttotal: 4.39s\tremaining: 7.1s\n",
      "800:\tlearn: 89.1022692\ttotal: 4.95s\tremaining: 6.39s\n",
      "900:\tlearn: 88.5062977\ttotal: 5.6s\tremaining: 5.81s\n",
      "1000:\tlearn: 88.0730338\ttotal: 6.1s\tremaining: 5.09s\n",
      "1100:\tlearn: 87.6856859\ttotal: 6.62s\tremaining: 4.42s\n",
      "1200:\tlearn: 87.3201562\ttotal: 7.21s\tremaining: 3.81s\n",
      "1300:\tlearn: 86.9025116\ttotal: 7.69s\tremaining: 3.16s\n",
      "1400:\tlearn: 86.5324620\ttotal: 8.36s\tremaining: 2.6s\n",
      "1500:\tlearn: 86.1469982\ttotal: 9s\tremaining: 2.01s\n",
      "1600:\tlearn: 85.7764959\ttotal: 9.56s\tremaining: 1.4s\n",
      "1700:\tlearn: 85.4427057\ttotal: 10.1s\tremaining: 802ms\n",
      "1800:\tlearn: 85.1374486\ttotal: 10.9s\tremaining: 211ms\n"
     ]
    },
    {
     "name": "stderr",
     "output_type": "stream",
     "text": [
      "[I 2023-11-07 08:44:23,358] Trial 33 finished with value: 73.78703253310634 and parameters: {'iterations': 1836, 'learning_rate': 0.010979057967666158, 'depth': 2, 'min_data_in_leaf': 22, 'l2_leaf_reg': 6, 'bagging_temperature': 0.8149234246463897, 'random_strength': 0.5470772624656602, 'border_count': 216, 'rsm': 0.49784824555888296}. Best is trial 19 with value: 72.97923437075937.\n"
     ]
    },
    {
     "name": "stdout",
     "output_type": "stream",
     "text": [
      "1835:\tlearn: 85.0397906\ttotal: 11.1s\tremaining: 0us\n",
      "0:\tlearn: 184.1048742\ttotal: 31.1ms\tremaining: 54.9s\n",
      "100:\tlearn: 127.4353811\ttotal: 559ms\tremaining: 9.22s\n",
      "200:\tlearn: 106.7222281\ttotal: 1.1s\tremaining: 8.57s\n",
      "300:\tlearn: 99.3135861\ttotal: 1.76s\tremaining: 8.59s\n",
      "400:\tlearn: 96.0888270\ttotal: 2.5s\tremaining: 8.53s\n",
      "500:\tlearn: 94.2121303\ttotal: 3.19s\tremaining: 8.08s\n",
      "600:\tlearn: 92.8591441\ttotal: 3.67s\tremaining: 7.12s\n",
      "700:\tlearn: 91.7281910\ttotal: 4.41s\tremaining: 6.71s\n",
      "800:\tlearn: 90.8024703\ttotal: 4.99s\tremaining: 6.03s\n",
      "900:\tlearn: 90.0717327\ttotal: 5.65s\tremaining: 5.44s\n",
      "1000:\tlearn: 89.4324394\ttotal: 6.1s\tremaining: 4.67s\n",
      "1100:\tlearn: 88.9532179\ttotal: 6.64s\tremaining: 4.02s\n",
      "1200:\tlearn: 88.5327608\ttotal: 7.25s\tremaining: 3.42s\n",
      "1300:\tlearn: 88.1581556\ttotal: 7.84s\tremaining: 2.81s\n",
      "1400:\tlearn: 87.8415877\ttotal: 8.59s\tremaining: 2.25s\n",
      "1500:\tlearn: 87.5648842\ttotal: 9.15s\tremaining: 1.63s\n",
      "1600:\tlearn: 87.2855034\ttotal: 9.66s\tremaining: 1.01s\n",
      "1700:\tlearn: 86.9582339\ttotal: 10.3s\tremaining: 407ms\n"
     ]
    },
    {
     "name": "stderr",
     "output_type": "stream",
     "text": [
      "[I 2023-11-07 08:44:34,541] Trial 34 finished with value: 73.5508062471875 and parameters: {'iterations': 1768, 'learning_rate': 0.008011002680118028, 'depth': 2, 'min_data_in_leaf': 22, 'l2_leaf_reg': 6, 'bagging_temperature': 0.8023627442582515, 'random_strength': 0.5470192755469533, 'border_count': 202, 'rsm': 0.5124389733681638}. Best is trial 19 with value: 72.97923437075937.\n"
     ]
    },
    {
     "name": "stdout",
     "output_type": "stream",
     "text": [
      "1767:\tlearn: 86.7441085\ttotal: 10.8s\tremaining: 0us\n",
      "0:\tlearn: 184.0421422\ttotal: 14.2ms\tremaining: 24.6s\n",
      "100:\tlearn: 127.6953342\ttotal: 510ms\tremaining: 8.27s\n",
      "200:\tlearn: 108.0839835\ttotal: 985ms\tremaining: 7.54s\n",
      "300:\tlearn: 101.0274440\ttotal: 1.4s\tremaining: 6.69s\n",
      "400:\tlearn: 98.1201323\ttotal: 1.8s\tremaining: 6.01s\n",
      "500:\tlearn: 96.6487328\ttotal: 2.33s\tremaining: 5.77s\n",
      "600:\tlearn: 95.7367790\ttotal: 2.84s\tremaining: 5.39s\n",
      "700:\tlearn: 95.1113464\ttotal: 3.32s\tremaining: 4.92s\n",
      "800:\tlearn: 94.6514652\ttotal: 3.73s\tremaining: 4.38s\n",
      "900:\tlearn: 94.3086172\ttotal: 4.18s\tremaining: 3.89s\n",
      "1000:\tlearn: 94.0372292\ttotal: 4.63s\tremaining: 3.42s\n",
      "1100:\tlearn: 93.8111190\ttotal: 5s\tremaining: 2.9s\n",
      "1200:\tlearn: 93.6180551\ttotal: 5.39s\tremaining: 2.42s\n",
      "1300:\tlearn: 93.4505959\ttotal: 5.85s\tremaining: 1.98s\n",
      "1400:\tlearn: 93.2986576\ttotal: 6.25s\tremaining: 1.51s\n",
      "1500:\tlearn: 93.1608494\ttotal: 6.76s\tremaining: 1.07s\n",
      "1600:\tlearn: 93.0336321\ttotal: 7.17s\tremaining: 623ms\n",
      "1700:\tlearn: 92.9150140\ttotal: 7.72s\tremaining: 177ms\n"
     ]
    },
    {
     "name": "stderr",
     "output_type": "stream",
     "text": [
      "[I 2023-11-07 08:44:42,939] Trial 35 finished with value: 79.37470145511719 and parameters: {'iterations': 1740, 'learning_rate': 0.010325367906548654, 'depth': 1, 'min_data_in_leaf': 16, 'l2_leaf_reg': 6, 'bagging_temperature': 0.7876668297543569, 'random_strength': 0.4171002709926006, 'border_count': 184, 'rsm': 0.4928809972298389}. Best is trial 19 with value: 72.97923437075937.\n"
     ]
    },
    {
     "name": "stdout",
     "output_type": "stream",
     "text": [
      "1739:\tlearn: 92.8709393\ttotal: 7.95s\tremaining: 0us\n",
      "0:\tlearn: 183.9245348\ttotal: 9.52ms\tremaining: 17.8s\n",
      "100:\tlearn: 116.8418465\ttotal: 2.66s\tremaining: 46.8s\n",
      "200:\tlearn: 94.1827781\ttotal: 5.63s\tremaining: 46.9s\n",
      "300:\tlearn: 86.0870424\ttotal: 8.43s\tremaining: 44.1s\n",
      "400:\tlearn: 82.4369659\ttotal: 11.4s\tremaining: 41.9s\n",
      "500:\tlearn: 80.2011598\ttotal: 14.5s\tremaining: 39.8s\n",
      "600:\tlearn: 78.5444443\ttotal: 17.4s\tremaining: 36.9s\n",
      "700:\tlearn: 77.1585059\ttotal: 21.1s\tremaining: 35.3s\n",
      "800:\tlearn: 75.9610428\ttotal: 24s\tremaining: 32.1s\n",
      "900:\tlearn: 74.8911598\ttotal: 26.6s\tremaining: 28.8s\n",
      "1000:\tlearn: 73.8646988\ttotal: 29.6s\tremaining: 25.8s\n",
      "1100:\tlearn: 72.9114358\ttotal: 32.6s\tremaining: 22.9s\n",
      "1200:\tlearn: 72.0626394\ttotal: 35.2s\tremaining: 19.8s\n",
      "1300:\tlearn: 71.2639070\ttotal: 37.8s\tremaining: 16.7s\n",
      "1400:\tlearn: 70.5335663\ttotal: 40.5s\tremaining: 13.7s\n",
      "1500:\tlearn: 69.8167013\ttotal: 43.5s\tremaining: 10.8s\n",
      "1600:\tlearn: 69.1314979\ttotal: 46.3s\tremaining: 7.92s\n",
      "1700:\tlearn: 68.4788179\ttotal: 48.9s\tremaining: 5s\n",
      "1800:\tlearn: 67.8820581\ttotal: 51.5s\tremaining: 2.12s\n"
     ]
    },
    {
     "name": "stderr",
     "output_type": "stream",
     "text": [
      "[I 2023-11-07 08:45:36,921] Trial 36 finished with value: 79.32398701355773 and parameters: {'iterations': 1875, 'learning_rate': 0.00836391691441519, 'depth': 7, 'min_data_in_leaf': 9, 'l2_leaf_reg': 6, 'bagging_temperature': 0.803419820447516, 'random_strength': 0.5155670324015413, 'border_count': 213, 'rsm': 0.4176215137942416}. Best is trial 19 with value: 72.97923437075937.\n"
     ]
    },
    {
     "name": "stdout",
     "output_type": "stream",
     "text": [
      "1874:\tlearn: 67.4201916\ttotal: 53.3s\tremaining: 0us\n",
      "0:\tlearn: 183.1381960\ttotal: 13.8ms\tremaining: 29.1s\n",
      "100:\tlearn: 104.1619014\ttotal: 739ms\tremaining: 14.7s\n",
      "200:\tlearn: 92.7807618\ttotal: 1.48s\tremaining: 14s\n",
      "300:\tlearn: 89.5084342\ttotal: 2.12s\tremaining: 12.7s\n",
      "400:\tlearn: 87.5211858\ttotal: 2.78s\tremaining: 11.8s\n",
      "500:\tlearn: 86.0629990\ttotal: 3.43s\tremaining: 11s\n",
      "600:\tlearn: 84.9342126\ttotal: 4.14s\tremaining: 10.4s\n",
      "700:\tlearn: 83.9204162\ttotal: 4.82s\tremaining: 9.68s\n",
      "800:\tlearn: 82.9818197\ttotal: 5.59s\tremaining: 9.13s\n",
      "900:\tlearn: 82.2621713\ttotal: 6.42s\tremaining: 8.6s\n",
      "1000:\tlearn: 81.6093831\ttotal: 7.27s\tremaining: 8.04s\n",
      "1100:\tlearn: 81.0435702\ttotal: 7.93s\tremaining: 7.25s\n",
      "1200:\tlearn: 80.5458733\ttotal: 8.53s\tremaining: 6.44s\n",
      "1300:\tlearn: 80.0834364\ttotal: 9.44s\tremaining: 5.85s\n",
      "1400:\tlearn: 79.6518411\ttotal: 10.2s\tremaining: 5.13s\n",
      "1500:\tlearn: 79.2797313\ttotal: 11.1s\tremaining: 4.48s\n",
      "1600:\tlearn: 78.8741059\ttotal: 11.7s\tremaining: 3.72s\n",
      "1700:\tlearn: 78.4811587\ttotal: 12.4s\tremaining: 2.96s\n",
      "1800:\tlearn: 78.1172950\ttotal: 13.2s\tremaining: 2.24s\n",
      "1900:\tlearn: 77.7482127\ttotal: 13.8s\tremaining: 1.5s\n",
      "2000:\tlearn: 77.4196641\ttotal: 14.5s\tremaining: 774ms\n"
     ]
    },
    {
     "name": "stderr",
     "output_type": "stream",
     "text": [
      "[I 2023-11-07 08:45:52,618] Trial 37 finished with value: 75.75648998510272 and parameters: {'iterations': 2108, 'learning_rate': 0.015416434648745012, 'depth': 3, 'min_data_in_leaf': 24, 'l2_leaf_reg': 5, 'bagging_temperature': 0.7232217530612862, 'random_strength': 0.5758024059339754, 'border_count': 117, 'rsm': 0.38074969347276777}. Best is trial 19 with value: 72.97923437075937.\n"
     ]
    },
    {
     "name": "stdout",
     "output_type": "stream",
     "text": [
      "2100:\tlearn: 77.0881371\ttotal: 15.1s\tremaining: 50.2ms\n",
      "2107:\tlearn: 77.0667466\ttotal: 15.1s\tremaining: 0us\n",
      "0:\tlearn: 183.8579365\ttotal: 4.7ms\tremaining: 11.3s\n",
      "100:\tlearn: 118.5018243\ttotal: 711ms\tremaining: 16.3s\n",
      "200:\tlearn: 101.4303131\ttotal: 1.33s\tremaining: 14.6s\n",
      "300:\tlearn: 96.2826155\ttotal: 1.86s\tremaining: 13.1s\n",
      "400:\tlearn: 93.9458475\ttotal: 2.27s\tremaining: 11.4s\n",
      "500:\tlearn: 92.2333638\ttotal: 2.82s\tremaining: 10.8s\n",
      "600:\tlearn: 91.0108745\ttotal: 3.21s\tremaining: 9.69s\n",
      "700:\tlearn: 90.0513614\ttotal: 3.86s\tremaining: 9.44s\n",
      "800:\tlearn: 89.2520056\ttotal: 4.68s\tremaining: 9.42s\n",
      "900:\tlearn: 88.7201153\ttotal: 5.51s\tremaining: 9.26s\n",
      "1000:\tlearn: 88.2321130\ttotal: 6.06s\tremaining: 8.56s\n",
      "1100:\tlearn: 87.8413551\ttotal: 6.6s\tremaining: 7.87s\n",
      "1200:\tlearn: 87.4532449\ttotal: 7.16s\tremaining: 7.24s\n",
      "1300:\tlearn: 87.0472146\ttotal: 7.73s\tremaining: 6.62s\n",
      "1400:\tlearn: 86.6005077\ttotal: 8.28s\tremaining: 5.98s\n",
      "1500:\tlearn: 86.2483491\ttotal: 9.1s\tremaining: 5.54s\n",
      "1600:\tlearn: 85.9058547\ttotal: 10.1s\tremaining: 5.12s\n",
      "1700:\tlearn: 85.5576472\ttotal: 10.9s\tremaining: 4.55s\n",
      "1800:\tlearn: 85.2781300\ttotal: 11.6s\tremaining: 3.96s\n",
      "1900:\tlearn: 84.9886325\ttotal: 12.3s\tremaining: 3.32s\n",
      "2000:\tlearn: 84.7287577\ttotal: 12.8s\tremaining: 2.64s\n",
      "2100:\tlearn: 84.4805839\ttotal: 13.3s\tremaining: 1.99s\n",
      "2200:\tlearn: 84.1949249\ttotal: 14s\tremaining: 1.35s\n",
      "2300:\tlearn: 83.9125972\ttotal: 14.7s\tremaining: 721ms\n"
     ]
    },
    {
     "name": "stderr",
     "output_type": "stream",
     "text": [
      "[I 2023-11-07 08:46:08,651] Trial 38 finished with value: 73.63851977296855 and parameters: {'iterations': 2414, 'learning_rate': 0.010387220130590576, 'depth': 2, 'min_data_in_leaf': 24, 'l2_leaf_reg': 7, 'bagging_temperature': 0.7143249145271301, 'random_strength': 0.6103130861434255, 'border_count': 308, 'rsm': 0.5310941572493061}. Best is trial 19 with value: 72.97923437075937.\n"
     ]
    },
    {
     "name": "stdout",
     "output_type": "stream",
     "text": [
      "2400:\tlearn: 83.6797824\ttotal: 15.4s\tremaining: 83.6ms\n",
      "2413:\tlearn: 83.6525571\ttotal: 15.5s\tremaining: 0us\n",
      "0:\tlearn: 184.4263973\ttotal: 19ms\tremaining: 49.1s\n",
      "100:\tlearn: 140.4030031\ttotal: 1.09s\tremaining: 26.8s\n",
      "200:\tlearn: 115.9318386\ttotal: 1.98s\tremaining: 23.4s\n",
      "300:\tlearn: 102.6108669\ttotal: 2.89s\tremaining: 21.9s\n",
      "400:\tlearn: 95.3702465\ttotal: 3.96s\tremaining: 21.5s\n",
      "500:\tlearn: 91.1983774\ttotal: 5.04s\tremaining: 20.9s\n",
      "600:\tlearn: 88.6717472\ttotal: 6.32s\tremaining: 20.8s\n",
      "700:\tlearn: 86.9400964\ttotal: 7.39s\tremaining: 19.8s\n",
      "800:\tlearn: 85.7475413\ttotal: 8.72s\tremaining: 19.4s\n",
      "900:\tlearn: 84.8329437\ttotal: 10.1s\tremaining: 18.8s\n",
      "1000:\tlearn: 84.0743676\ttotal: 11.4s\tremaining: 17.9s\n",
      "1100:\tlearn: 83.3413220\ttotal: 12.5s\tremaining: 16.8s\n",
      "1200:\tlearn: 82.6809255\ttotal: 13.8s\tremaining: 15.9s\n",
      "1300:\tlearn: 82.0939634\ttotal: 15s\tremaining: 14.7s\n",
      "1400:\tlearn: 81.5338250\ttotal: 16.3s\tremaining: 13.7s\n",
      "1500:\tlearn: 81.0219600\ttotal: 17.6s\tremaining: 12.6s\n",
      "1600:\tlearn: 80.5508043\ttotal: 18.7s\tremaining: 11.4s\n",
      "1700:\tlearn: 80.0981527\ttotal: 20s\tremaining: 10.3s\n",
      "1800:\tlearn: 79.6905456\ttotal: 21.2s\tremaining: 9.18s\n",
      "1900:\tlearn: 79.2917194\ttotal: 22.4s\tremaining: 7.99s\n",
      "2000:\tlearn: 78.9137300\ttotal: 23.5s\tremaining: 6.8s\n",
      "2100:\tlearn: 78.5370256\ttotal: 24.7s\tremaining: 5.63s\n",
      "2200:\tlearn: 78.1730173\ttotal: 26s\tremaining: 4.46s\n",
      "2300:\tlearn: 77.8229208\ttotal: 27s\tremaining: 3.27s\n",
      "2400:\tlearn: 77.4885417\ttotal: 28.2s\tremaining: 2.09s\n",
      "2500:\tlearn: 77.1815619\ttotal: 29.4s\tremaining: 917ms\n"
     ]
    },
    {
     "name": "stderr",
     "output_type": "stream",
     "text": [
      "[I 2023-11-07 08:46:39,749] Trial 39 finished with value: 76.0874931141891 and parameters: {'iterations': 2579, 'learning_rate': 0.004625292751596376, 'depth': 5, 'min_data_in_leaf': 34, 'l2_leaf_reg': 9, 'bagging_temperature': 0.7207707726923345, 'random_strength': 0.6113772656509859, 'border_count': 338, 'rsm': 0.44448608497585074}. Best is trial 19 with value: 72.97923437075937.\n"
     ]
    },
    {
     "name": "stdout",
     "output_type": "stream",
     "text": [
      "2578:\tlearn: 76.9577894\ttotal: 30.5s\tremaining: 0us\n",
      "0:\tlearn: 184.0342648\ttotal: 5.58ms\tremaining: 13.8s\n",
      "100:\tlearn: 122.6465306\ttotal: 897ms\tremaining: 21.1s\n",
      "200:\tlearn: 100.9896791\ttotal: 1.82s\tremaining: 20.7s\n",
      "300:\tlearn: 93.0525549\ttotal: 2.57s\tremaining: 18.6s\n",
      "400:\tlearn: 89.5536632\ttotal: 3.45s\tremaining: 17.9s\n",
      "500:\tlearn: 87.7434919\ttotal: 4.34s\tremaining: 17.2s\n",
      "600:\tlearn: 86.4713615\ttotal: 5.37s\tremaining: 16.8s\n",
      "700:\tlearn: 85.3995455\ttotal: 6.1s\tremaining: 15.5s\n",
      "800:\tlearn: 84.4645454\ttotal: 7.09s\tremaining: 14.9s\n",
      "900:\tlearn: 83.6466637\ttotal: 8.21s\tremaining: 14.4s\n",
      "1000:\tlearn: 82.9196103\ttotal: 9.17s\tremaining: 13.6s\n",
      "1100:\tlearn: 82.2537297\ttotal: 9.99s\tremaining: 12.5s\n",
      "1200:\tlearn: 81.6622652\ttotal: 10.9s\tremaining: 11.7s\n",
      "1300:\tlearn: 81.0163127\ttotal: 11.8s\tremaining: 10.7s\n",
      "1400:\tlearn: 80.4533817\ttotal: 12.5s\tremaining: 9.67s\n",
      "1500:\tlearn: 79.9386728\ttotal: 13.3s\tremaining: 8.69s\n",
      "1600:\tlearn: 79.5049381\ttotal: 14.5s\tremaining: 7.97s\n",
      "1700:\tlearn: 79.1110111\ttotal: 15.3s\tremaining: 7.01s\n",
      "1800:\tlearn: 78.7119749\ttotal: 16.2s\tremaining: 6.1s\n",
      "1900:\tlearn: 78.3261381\ttotal: 17s\tremaining: 5.19s\n",
      "2000:\tlearn: 77.9636271\ttotal: 18s\tremaining: 4.32s\n",
      "2100:\tlearn: 77.6208029\ttotal: 19.3s\tremaining: 3.49s\n",
      "2200:\tlearn: 77.3069601\ttotal: 20.3s\tremaining: 2.58s\n",
      "2300:\tlearn: 76.9904805\ttotal: 21.1s\tremaining: 1.65s\n",
      "2400:\tlearn: 76.7063868\ttotal: 22.1s\tremaining: 737ms\n"
     ]
    },
    {
     "name": "stderr",
     "output_type": "stream",
     "text": [
      "[I 2023-11-07 08:47:03,420] Trial 40 finished with value: 76.22140076326454 and parameters: {'iterations': 2481, 'learning_rate': 0.007907042049532116, 'depth': 4, 'min_data_in_leaf': 2, 'l2_leaf_reg': 9, 'bagging_temperature': 0.6552815057702062, 'random_strength': 0.6498531228430637, 'border_count': 55, 'rsm': 0.6035993290051158}. Best is trial 19 with value: 72.97923437075937.\n"
     ]
    },
    {
     "name": "stdout",
     "output_type": "stream",
     "text": [
      "2480:\tlearn: 76.4872961\ttotal: 23.1s\tremaining: 0us\n",
      "0:\tlearn: 183.7712977\ttotal: 8.19ms\tremaining: 18.7s\n",
      "100:\tlearn: 116.7510702\ttotal: 880ms\tremaining: 19s\n",
      "200:\tlearn: 100.5551429\ttotal: 1.76s\tremaining: 18.2s\n",
      "300:\tlearn: 95.8539879\ttotal: 2.44s\tremaining: 16.1s\n",
      "400:\tlearn: 93.5708224\ttotal: 3.26s\tremaining: 15.3s\n",
      "500:\tlearn: 91.8725633\ttotal: 3.78s\tremaining: 13.4s\n",
      "600:\tlearn: 90.6698981\ttotal: 4.41s\tremaining: 12.3s\n",
      "700:\tlearn: 89.7803335\ttotal: 4.94s\tremaining: 11.1s\n",
      "800:\tlearn: 89.0176975\ttotal: 5.73s\tremaining: 10.6s\n",
      "900:\tlearn: 88.4035302\ttotal: 6.41s\tremaining: 9.81s\n",
      "1000:\tlearn: 87.9333598\ttotal: 7.06s\tremaining: 9.01s\n",
      "1100:\tlearn: 87.5449555\ttotal: 7.72s\tremaining: 8.26s\n",
      "1200:\tlearn: 87.1818766\ttotal: 8.19s\tremaining: 7.35s\n",
      "1300:\tlearn: 86.7995906\ttotal: 8.79s\tremaining: 6.61s\n",
      "1400:\tlearn: 86.4095761\ttotal: 9.55s\tremaining: 5.98s\n",
      "1500:\tlearn: 86.0162512\ttotal: 10.1s\tremaining: 5.26s\n",
      "1600:\tlearn: 85.6405026\ttotal: 10.7s\tremaining: 4.54s\n",
      "1700:\tlearn: 85.3156890\ttotal: 11.4s\tremaining: 3.87s\n",
      "1800:\tlearn: 85.0414331\ttotal: 11.8s\tremaining: 3.13s\n",
      "1900:\tlearn: 84.7688316\ttotal: 12.4s\tremaining: 2.46s\n",
      "2000:\tlearn: 84.4803758\ttotal: 13s\tremaining: 1.81s\n",
      "2100:\tlearn: 84.1696351\ttotal: 13.7s\tremaining: 1.16s\n",
      "2200:\tlearn: 83.8944531\ttotal: 14.3s\tremaining: 505ms\n"
     ]
    },
    {
     "name": "stderr",
     "output_type": "stream",
     "text": [
      "[I 2023-11-07 08:47:18,788] Trial 41 finished with value: 73.7152629676801 and parameters: {'iterations': 2279, 'learning_rate': 0.011036300999254954, 'depth': 2, 'min_data_in_leaf': 22, 'l2_leaf_reg': 7, 'bagging_temperature': 0.8033416441812943, 'random_strength': 0.5677202459848478, 'border_count': 217, 'rsm': 0.516119678657427}. Best is trial 19 with value: 72.97923437075937.\n"
     ]
    },
    {
     "name": "stdout",
     "output_type": "stream",
     "text": [
      "2278:\tlearn: 83.6891998\ttotal: 14.8s\tremaining: 0us\n",
      "0:\tlearn: 183.8516306\ttotal: 16ms\tremaining: 37.2s\n",
      "100:\tlearn: 119.3259103\ttotal: 693ms\tremaining: 15.2s\n",
      "200:\tlearn: 101.9138828\ttotal: 1.17s\tremaining: 12.3s\n",
      "300:\tlearn: 96.6589480\ttotal: 1.88s\tremaining: 12.6s\n",
      "400:\tlearn: 94.2252441\ttotal: 2.48s\tremaining: 11.9s\n",
      "500:\tlearn: 92.4105141\ttotal: 3.15s\tremaining: 11.4s\n",
      "600:\tlearn: 91.1079627\ttotal: 3.8s\tremaining: 10.9s\n",
      "700:\tlearn: 90.0939374\ttotal: 4.43s\tremaining: 10.2s\n",
      "800:\tlearn: 89.3355555\ttotal: 4.92s\tremaining: 9.34s\n",
      "900:\tlearn: 88.7255641\ttotal: 5.45s\tremaining: 8.58s\n",
      "1000:\tlearn: 88.2410568\ttotal: 6.07s\tremaining: 8s\n",
      "1100:\tlearn: 87.8169974\ttotal: 6.65s\tremaining: 7.36s\n",
      "1200:\tlearn: 87.4266322\ttotal: 7.19s\tremaining: 6.7s\n",
      "1300:\tlearn: 87.0759736\ttotal: 7.83s\tremaining: 6.13s\n",
      "1400:\tlearn: 86.7388486\ttotal: 8.52s\tremaining: 5.59s\n",
      "1500:\tlearn: 86.3746881\ttotal: 9.27s\tremaining: 5.06s\n",
      "1600:\tlearn: 85.9745296\ttotal: 10s\tremaining: 4.49s\n",
      "1700:\tlearn: 85.6072966\ttotal: 10.7s\tremaining: 3.88s\n",
      "1800:\tlearn: 85.2760683\ttotal: 11.4s\tremaining: 3.28s\n",
      "1900:\tlearn: 84.9860511\ttotal: 12s\tremaining: 2.65s\n",
      "2000:\tlearn: 84.6997722\ttotal: 12.5s\tremaining: 2s\n",
      "2100:\tlearn: 84.4384569\ttotal: 13.1s\tremaining: 1.37s\n",
      "2200:\tlearn: 84.1581474\ttotal: 13.8s\tremaining: 745ms\n"
     ]
    },
    {
     "name": "stderr",
     "output_type": "stream",
     "text": [
      "[I 2023-11-07 08:47:33,812] Trial 42 finished with value: 73.50036532075795 and parameters: {'iterations': 2320, 'learning_rate': 0.010190308402473116, 'depth': 2, 'min_data_in_leaf': 27, 'l2_leaf_reg': 7, 'bagging_temperature': 0.7213450136963899, 'random_strength': 0.5958651690844391, 'border_count': 293, 'rsm': 0.5391010097784513}. Best is trial 19 with value: 72.97923437075937.\n"
     ]
    },
    {
     "name": "stdout",
     "output_type": "stream",
     "text": [
      "2300:\tlearn: 83.8852808\ttotal: 14.4s\tremaining: 119ms\n",
      "2319:\tlearn: 83.8442367\ttotal: 14.5s\tremaining: 0us\n",
      "0:\tlearn: 184.2048727\ttotal: 10.7ms\tremaining: 28.4s\n",
      "100:\tlearn: 133.3213529\ttotal: 481ms\tremaining: 12.1s\n",
      "200:\tlearn: 112.4852296\ttotal: 931ms\tremaining: 11.3s\n",
      "300:\tlearn: 103.7281527\ttotal: 1.37s\tremaining: 10.7s\n",
      "400:\tlearn: 99.8553507\ttotal: 1.78s\tremaining: 9.98s\n",
      "500:\tlearn: 97.8793580\ttotal: 2.4s\tremaining: 10.3s\n",
      "600:\tlearn: 96.7106184\ttotal: 2.91s\tremaining: 9.89s\n",
      "700:\tlearn: 95.9288544\ttotal: 3.48s\tremaining: 9.67s\n",
      "800:\tlearn: 95.3611804\ttotal: 3.98s\tremaining: 9.16s\n",
      "900:\tlearn: 94.9281509\ttotal: 4.51s\tremaining: 8.73s\n",
      "1000:\tlearn: 94.5919777\ttotal: 5.06s\tremaining: 8.32s\n",
      "1100:\tlearn: 94.3261610\ttotal: 5.58s\tremaining: 7.83s\n",
      "1200:\tlearn: 94.1061277\ttotal: 5.97s\tremaining: 7.18s\n",
      "1300:\tlearn: 93.9137175\ttotal: 6.37s\tremaining: 6.58s\n",
      "1400:\tlearn: 93.7464519\ttotal: 6.89s\tremaining: 6.12s\n",
      "1500:\tlearn: 93.5988445\ttotal: 7.38s\tremaining: 5.63s\n",
      "1600:\tlearn: 93.4632363\ttotal: 7.93s\tremaining: 5.18s\n",
      "1700:\tlearn: 93.3382492\ttotal: 8.44s\tremaining: 4.69s\n",
      "1800:\tlearn: 93.2226169\ttotal: 8.93s\tremaining: 4.19s\n",
      "1900:\tlearn: 93.1153902\ttotal: 9.37s\tremaining: 3.67s\n",
      "2000:\tlearn: 93.0142736\ttotal: 9.86s\tremaining: 3.18s\n",
      "2100:\tlearn: 92.9169411\ttotal: 10.4s\tremaining: 2.71s\n",
      "2200:\tlearn: 92.8241034\ttotal: 10.9s\tremaining: 2.2s\n",
      "2300:\tlearn: 92.7361041\ttotal: 11.3s\tremaining: 1.69s\n",
      "2400:\tlearn: 92.6504715\ttotal: 11.8s\tremaining: 1.21s\n",
      "2500:\tlearn: 92.5694239\ttotal: 12.3s\tremaining: 715ms\n",
      "2600:\tlearn: 92.4907078\ttotal: 12.9s\tremaining: 223ms\n"
     ]
    },
    {
     "name": "stderr",
     "output_type": "stream",
     "text": [
      "[I 2023-11-07 08:47:47,501] Trial 43 finished with value: 79.07139924181526 and parameters: {'iterations': 2646, 'learning_rate': 0.008671272897813078, 'depth': 1, 'min_data_in_leaf': 28, 'l2_leaf_reg': 7, 'bagging_temperature': 0.682991593918507, 'random_strength': 0.6145570787502579, 'border_count': 292, 'rsm': 0.5438774936026407}. Best is trial 19 with value: 72.97923437075937.\n"
     ]
    },
    {
     "name": "stdout",
     "output_type": "stream",
     "text": [
      "2645:\tlearn: 92.4567904\ttotal: 13.2s\tremaining: 0us\n",
      "0:\tlearn: 183.1721197\ttotal: 8.56ms\tremaining: 20.2s\n",
      "100:\tlearn: 103.8338642\ttotal: 884ms\tremaining: 19.7s\n",
      "200:\tlearn: 92.2478425\ttotal: 1.93s\tremaining: 20.7s\n",
      "300:\tlearn: 89.1326880\ttotal: 2.66s\tremaining: 18.1s\n",
      "400:\tlearn: 87.1730504\ttotal: 3.61s\tremaining: 17.6s\n",
      "500:\tlearn: 85.8023009\ttotal: 4.6s\tremaining: 17s\n",
      "600:\tlearn: 84.7192064\ttotal: 5.33s\tremaining: 15.6s\n",
      "700:\tlearn: 83.7473439\ttotal: 6.23s\tremaining: 14.7s\n",
      "800:\tlearn: 82.8322480\ttotal: 7.14s\tremaining: 13.9s\n",
      "900:\tlearn: 82.0660933\ttotal: 7.97s\tremaining: 12.9s\n",
      "1000:\tlearn: 81.3907231\ttotal: 8.69s\tremaining: 11.8s\n",
      "1100:\tlearn: 80.7874188\ttotal: 9.42s\tremaining: 10.7s\n",
      "1200:\tlearn: 80.2912417\ttotal: 10.3s\tremaining: 9.88s\n",
      "1300:\tlearn: 79.8057028\ttotal: 11.1s\tremaining: 8.98s\n",
      "1400:\tlearn: 79.3598190\ttotal: 11.7s\tremaining: 7.97s\n",
      "1500:\tlearn: 78.9673550\ttotal: 12.8s\tremaining: 7.32s\n",
      "1600:\tlearn: 78.5954865\ttotal: 14s\tremaining: 6.59s\n",
      "1700:\tlearn: 78.2786265\ttotal: 15.4s\tremaining: 5.96s\n",
      "1800:\tlearn: 78.0141280\ttotal: 16.7s\tremaining: 5.15s\n",
      "1900:\tlearn: 77.7619442\ttotal: 17.8s\tremaining: 4.27s\n",
      "2000:\tlearn: 77.5071896\ttotal: 18.7s\tremaining: 3.33s\n",
      "2100:\tlearn: 77.2127227\ttotal: 19.8s\tremaining: 2.41s\n",
      "2200:\tlearn: 76.9351745\ttotal: 20.9s\tremaining: 1.48s\n",
      "2300:\tlearn: 76.6784413\ttotal: 21.8s\tremaining: 531ms\n"
     ]
    },
    {
     "name": "stderr",
     "output_type": "stream",
     "text": [
      "[I 2023-11-07 08:48:10,305] Trial 44 finished with value: 75.18036906546355 and parameters: {'iterations': 2357, 'learning_rate': 0.015474903190015866, 'depth': 3, 'min_data_in_leaf': 14, 'l2_leaf_reg': 8, 'bagging_temperature': 0.6214555652698688, 'random_strength': 0.5934165616816297, 'border_count': 343, 'rsm': 0.5879863503366093}. Best is trial 19 with value: 72.97923437075937.\n"
     ]
    },
    {
     "name": "stdout",
     "output_type": "stream",
     "text": [
      "2356:\tlearn: 76.5377870\ttotal: 22.2s\tremaining: 0us\n",
      "0:\tlearn: 183.8178488\ttotal: 3.18ms\tremaining: 8.86s\n",
      "100:\tlearn: 118.9192549\ttotal: 732ms\tremaining: 19.5s\n",
      "200:\tlearn: 101.7611810\ttotal: 1.76s\tremaining: 22.7s\n",
      "300:\tlearn: 96.4985336\ttotal: 2.86s\tremaining: 23.6s\n",
      "400:\tlearn: 94.0554391\ttotal: 3.44s\tremaining: 20.5s\n",
      "500:\tlearn: 92.4337598\ttotal: 4.25s\tremaining: 19.4s\n",
      "600:\tlearn: 91.1442569\ttotal: 4.97s\tremaining: 18.1s\n",
      "700:\tlearn: 90.1285463\ttotal: 5.64s\tremaining: 16.8s\n",
      "800:\tlearn: 89.3594360\ttotal: 6.42s\tremaining: 15.9s\n",
      "900:\tlearn: 88.7251272\ttotal: 7.13s\tremaining: 14.9s\n",
      "1000:\tlearn: 88.1915893\ttotal: 7.87s\tremaining: 14s\n",
      "1100:\tlearn: 87.7443191\ttotal: 8.68s\tremaining: 13.3s\n",
      "1200:\tlearn: 87.3297438\ttotal: 9.55s\tremaining: 12.6s\n",
      "1300:\tlearn: 86.9345668\ttotal: 10.3s\tremaining: 11.7s\n",
      "1400:\tlearn: 86.5618395\ttotal: 11s\tremaining: 10.9s\n",
      "1500:\tlearn: 86.2070960\ttotal: 11.8s\tremaining: 10.1s\n",
      "1600:\tlearn: 85.8829287\ttotal: 12.5s\tremaining: 9.25s\n",
      "1700:\tlearn: 85.5793152\ttotal: 12.9s\tremaining: 8.22s\n",
      "1800:\tlearn: 85.2908399\ttotal: 13.6s\tremaining: 7.45s\n",
      "1900:\tlearn: 85.0176767\ttotal: 14.4s\tremaining: 6.69s\n",
      "2000:\tlearn: 84.7162068\ttotal: 15.1s\tremaining: 5.92s\n",
      "2100:\tlearn: 84.4270952\ttotal: 16.1s\tremaining: 5.24s\n",
      "2200:\tlearn: 84.1317458\ttotal: 16.7s\tremaining: 4.43s\n",
      "2300:\tlearn: 83.9126575\ttotal: 17.4s\tremaining: 3.67s\n",
      "2400:\tlearn: 83.6884162\ttotal: 18s\tremaining: 2.88s\n",
      "2500:\tlearn: 83.4764285\ttotal: 18.5s\tremaining: 2.1s\n",
      "2600:\tlearn: 83.2948186\ttotal: 19.2s\tremaining: 1.36s\n",
      "2700:\tlearn: 83.1167915\ttotal: 19.8s\tremaining: 617ms\n"
     ]
    },
    {
     "name": "stderr",
     "output_type": "stream",
     "text": [
      "[I 2023-11-07 08:48:31,368] Trial 45 finished with value: 73.61394969752912 and parameters: {'iterations': 2785, 'learning_rate': 0.01036704699740084, 'depth': 2, 'min_data_in_leaf': 10, 'l2_leaf_reg': 6, 'bagging_temperature': 0.5943289563879867, 'random_strength': 0.6679545203258312, 'border_count': 136, 'rsm': 0.5292051399353791}. Best is trial 19 with value: 72.97923437075937.\n"
     ]
    },
    {
     "name": "stdout",
     "output_type": "stream",
     "text": [
      "2784:\tlearn: 82.9555844\ttotal: 20.4s\tremaining: 0us\n",
      "0:\tlearn: 184.3701632\ttotal: 146ms\tremaining: 6m 42s\n",
      "100:\tlearn: 136.3926725\ttotal: 9.66s\tremaining: 4m 14s\n",
      "200:\tlearn: 109.6520247\ttotal: 19.9s\tremaining: 4m 13s\n",
      "300:\tlearn: 94.6394093\ttotal: 29.4s\tremaining: 4m 1s\n",
      "400:\tlearn: 85.9385878\ttotal: 40.2s\tremaining: 3m 57s\n",
      "500:\tlearn: 80.6383555\ttotal: 50s\tremaining: 3m 45s\n",
      "600:\tlearn: 76.9162014\ttotal: 59.8s\tremaining: 3m 35s\n",
      "700:\tlearn: 74.1886824\ttotal: 1m 9s\tremaining: 3m 26s\n",
      "800:\tlearn: 72.0026982\ttotal: 1m 19s\tremaining: 3m 15s\n",
      "900:\tlearn: 70.1433207\ttotal: 1m 29s\tremaining: 3m 4s\n",
      "1000:\tlearn: 68.5784932\ttotal: 1m 39s\tremaining: 2m 56s\n",
      "1100:\tlearn: 67.1316624\ttotal: 1m 49s\tremaining: 2m 45s\n",
      "1200:\tlearn: 65.8273581\ttotal: 1m 59s\tremaining: 2m 34s\n",
      "1300:\tlearn: 64.6169087\ttotal: 2m 8s\tremaining: 2m 24s\n",
      "1400:\tlearn: 63.5002072\ttotal: 2m 18s\tremaining: 2m 14s\n",
      "1500:\tlearn: 62.4444225\ttotal: 2m 28s\tremaining: 2m 4s\n",
      "1600:\tlearn: 61.4776610\ttotal: 2m 38s\tremaining: 1m 55s\n",
      "1700:\tlearn: 60.4940436\ttotal: 2m 47s\tremaining: 1m 44s\n",
      "1800:\tlearn: 59.5670398\ttotal: 2m 56s\tremaining: 1m 34s\n",
      "1900:\tlearn: 58.6764446\ttotal: 3m 6s\tremaining: 1m 24s\n",
      "2000:\tlearn: 57.8098552\ttotal: 3m 16s\tremaining: 1m 15s\n",
      "2100:\tlearn: 56.9385180\ttotal: 3m 26s\tremaining: 1m 5s\n",
      "2200:\tlearn: 56.1065329\ttotal: 3m 37s\tremaining: 55.8s\n",
      "2300:\tlearn: 55.2932502\ttotal: 3m 47s\tremaining: 45.9s\n",
      "2400:\tlearn: 54.5166139\ttotal: 3m 57s\tremaining: 36s\n",
      "2500:\tlearn: 53.7488129\ttotal: 4m 7s\tremaining: 26.1s\n",
      "2600:\tlearn: 52.9510548\ttotal: 4m 16s\tremaining: 16.2s\n",
      "2700:\tlearn: 52.2657366\ttotal: 4m 26s\tremaining: 6.32s\n",
      "2764:\tlearn: 51.8306909\ttotal: 4m 33s\tremaining: 0us\n"
     ]
    },
    {
     "name": "stderr",
     "output_type": "stream",
     "text": [
      "[I 2023-11-07 08:53:06,364] Trial 46 finished with value: 82.12956423615648 and parameters: {'iterations': 2765, 'learning_rate': 0.004916059719990697, 'depth': 11, 'min_data_in_leaf': 7, 'l2_leaf_reg': 6, 'bagging_temperature': 0.6195275419608617, 'random_strength': 0.6606830221681905, 'border_count': 151, 'rsm': 0.6532587266822897}. Best is trial 19 with value: 72.97923437075937.\n"
     ]
    },
    {
     "name": "stdout",
     "output_type": "stream",
     "text": [
      "0:\tlearn: 184.0765913\ttotal: 16.8ms\tremaining: 34.1s\n",
      "100:\tlearn: 124.7753311\ttotal: 1.13s\tremaining: 21.6s\n",
      "200:\tlearn: 103.1446250\ttotal: 2.53s\tremaining: 23s\n",
      "300:\tlearn: 95.0980681\ttotal: 3.68s\tremaining: 21.1s\n",
      "400:\tlearn: 91.5785687\ttotal: 4.71s\tremaining: 19.1s\n",
      "500:\tlearn: 89.7077892\ttotal: 5.82s\tremaining: 17.7s\n",
      "600:\tlearn: 88.4714956\ttotal: 6.78s\tremaining: 16.1s\n",
      "700:\tlearn: 87.4747648\ttotal: 7.7s\tremaining: 14.6s\n",
      "800:\tlearn: 86.5948507\ttotal: 8.81s\tremaining: 13.5s\n",
      "900:\tlearn: 85.8528174\ttotal: 9.87s\tremaining: 12.3s\n",
      "1000:\tlearn: 85.1684011\ttotal: 10.8s\tremaining: 11.1s\n",
      "1100:\tlearn: 84.5630200\ttotal: 11.8s\tremaining: 9.9s\n",
      "1200:\tlearn: 84.0356635\ttotal: 12.8s\tremaining: 8.82s\n",
      "1300:\tlearn: 83.5336864\ttotal: 13.8s\tremaining: 7.73s\n",
      "1400:\tlearn: 83.0659401\ttotal: 14.7s\tremaining: 6.55s\n",
      "1500:\tlearn: 82.6528302\ttotal: 15.6s\tremaining: 5.46s\n",
      "1600:\tlearn: 82.2399728\ttotal: 16.3s\tremaining: 4.35s\n",
      "1700:\tlearn: 81.8802958\ttotal: 17.2s\tremaining: 3.3s\n",
      "1800:\tlearn: 81.5438897\ttotal: 18.2s\tremaining: 2.29s\n",
      "1900:\tlearn: 81.1980133\ttotal: 19.4s\tremaining: 1.28s\n",
      "2000:\tlearn: 80.8853441\ttotal: 20.4s\tremaining: 265ms\n"
     ]
    },
    {
     "name": "stderr",
     "output_type": "stream",
     "text": [
      "[I 2023-11-07 08:53:27,833] Trial 47 finished with value: 81.1241831560959 and parameters: {'iterations': 2027, 'learning_rate': 0.007529847700043324, 'depth': 4, 'min_data_in_leaf': 10, 'l2_leaf_reg': 5, 'bagging_temperature': 0.5730865673478538, 'random_strength': 0.6369902797658382, 'border_count': 9, 'rsm': 0.44884292864153136}. Best is trial 19 with value: 72.97923437075937.\n"
     ]
    },
    {
     "name": "stdout",
     "output_type": "stream",
     "text": [
      "2026:\tlearn: 80.8034376\ttotal: 20.8s\tremaining: 0us\n",
      "0:\tlearn: 183.8718938\ttotal: 3.13ms\tremaining: 8.87s\n",
      "100:\tlearn: 118.8977057\ttotal: 995ms\tremaining: 27s\n",
      "200:\tlearn: 99.8960322\ttotal: 1.87s\tremaining: 24.6s\n",
      "300:\tlearn: 93.5371786\ttotal: 2.83s\tremaining: 23.9s\n",
      "400:\tlearn: 90.9540889\ttotal: 3.6s\tremaining: 21.9s\n",
      "500:\tlearn: 89.3352768\ttotal: 4.37s\tremaining: 20.4s\n",
      "600:\tlearn: 88.0510462\ttotal: 5.37s\tremaining: 20s\n",
      "700:\tlearn: 87.0113228\ttotal: 6.18s\tremaining: 18.9s\n",
      "800:\tlearn: 86.1643878\ttotal: 7.04s\tremaining: 17.9s\n",
      "900:\tlearn: 85.4254146\ttotal: 7.74s\tremaining: 16.7s\n",
      "1000:\tlearn: 84.7521567\ttotal: 8.6s\tremaining: 15.8s\n",
      "1100:\tlearn: 84.0666867\ttotal: 9.66s\tremaining: 15.3s\n",
      "1200:\tlearn: 83.3973938\ttotal: 10.5s\tremaining: 14.4s\n",
      "1300:\tlearn: 82.8179616\ttotal: 11.4s\tremaining: 13.5s\n",
      "1400:\tlearn: 82.3191273\ttotal: 12.4s\tremaining: 12.7s\n",
      "1500:\tlearn: 81.8631177\ttotal: 13.3s\tremaining: 11.9s\n",
      "1600:\tlearn: 81.4652698\ttotal: 14.2s\tremaining: 11s\n",
      "1700:\tlearn: 81.0912014\ttotal: 15s\tremaining: 10.1s\n",
      "1800:\tlearn: 80.7705467\ttotal: 15.7s\tremaining: 9.08s\n",
      "1900:\tlearn: 80.4551380\ttotal: 16.5s\tremaining: 8.16s\n",
      "2000:\tlearn: 80.1559441\ttotal: 17.5s\tremaining: 7.34s\n",
      "2100:\tlearn: 79.8535894\ttotal: 18.3s\tremaining: 6.44s\n",
      "2200:\tlearn: 79.5824123\ttotal: 19.2s\tremaining: 5.57s\n",
      "2300:\tlearn: 79.3021119\ttotal: 20s\tremaining: 4.68s\n",
      "2400:\tlearn: 79.0390551\ttotal: 21s\tremaining: 3.84s\n",
      "2500:\tlearn: 78.8106998\ttotal: 22.1s\tremaining: 3s\n",
      "2600:\tlearn: 78.5693886\ttotal: 22.9s\tremaining: 2.1s\n",
      "2700:\tlearn: 78.3347645\ttotal: 24s\tremaining: 1.23s\n",
      "2800:\tlearn: 78.0962732\ttotal: 24.6s\tremaining: 343ms\n"
     ]
    },
    {
     "name": "stderr",
     "output_type": "stream",
     "text": [
      "[I 2023-11-07 08:53:53,442] Trial 48 finished with value: 74.40234797665991 and parameters: {'iterations': 2840, 'learning_rate': 0.009376938098507669, 'depth': 3, 'min_data_in_leaf': 17, 'l2_leaf_reg': 3, 'bagging_temperature': 0.7667805273700157, 'random_strength': 0.7475356753719009, 'border_count': 82, 'rsm': 0.5519152628334671}. Best is trial 19 with value: 72.97923437075937.\n"
     ]
    },
    {
     "name": "stdout",
     "output_type": "stream",
     "text": [
      "2839:\tlearn: 78.0214532\ttotal: 24.9s\tremaining: 0us\n",
      "0:\tlearn: 184.6984951\ttotal: 6.02ms\tremaining: 13.2s\n",
      "100:\tlearn: 162.9409641\ttotal: 499ms\tremaining: 10.4s\n",
      "200:\tlearn: 146.2537939\ttotal: 1s\tremaining: 9.98s\n",
      "300:\tlearn: 133.2596722\ttotal: 1.33s\tremaining: 8.4s\n",
      "400:\tlearn: 124.2824473\ttotal: 1.94s\tremaining: 8.7s\n",
      "500:\tlearn: 117.9565107\ttotal: 2.43s\tremaining: 8.25s\n",
      "600:\tlearn: 112.8566672\ttotal: 2.92s\tremaining: 7.76s\n",
      "700:\tlearn: 109.2614669\ttotal: 3.37s\tremaining: 7.19s\n",
      "800:\tlearn: 106.5316524\ttotal: 4.06s\tremaining: 7.08s\n",
      "900:\tlearn: 104.5092514\ttotal: 4.5s\tremaining: 6.49s\n",
      "1000:\tlearn: 102.9546831\ttotal: 4.82s\tremaining: 5.77s\n",
      "1100:\tlearn: 101.7104673\ttotal: 5.21s\tremaining: 5.19s\n",
      "1200:\tlearn: 100.8960390\ttotal: 5.83s\tremaining: 4.84s\n",
      "1300:\tlearn: 100.1825611\ttotal: 6.24s\tremaining: 4.31s\n",
      "1400:\tlearn: 99.5727691\ttotal: 6.71s\tremaining: 3.83s\n",
      "1500:\tlearn: 99.0723476\ttotal: 7.08s\tremaining: 3.29s\n",
      "1600:\tlearn: 98.6174921\ttotal: 7.36s\tremaining: 2.75s\n",
      "1700:\tlearn: 98.2451262\ttotal: 8.2s\tremaining: 2.4s\n",
      "1800:\tlearn: 97.9511672\ttotal: 8.7s\tremaining: 1.92s\n",
      "1900:\tlearn: 97.6110135\ttotal: 9.34s\tremaining: 1.46s\n",
      "2000:\tlearn: 97.3558392\ttotal: 9.93s\tremaining: 982ms\n",
      "2100:\tlearn: 97.1332795\ttotal: 10.5s\tremaining: 492ms\n"
     ]
    },
    {
     "name": "stderr",
     "output_type": "stream",
     "text": [
      "[I 2023-11-07 08:54:04,766] Trial 49 finished with value: 89.97223539106719 and parameters: {'iterations': 2199, 'learning_rate': 0.003720573057120051, 'depth': 1, 'min_data_in_leaf': 36, 'l2_leaf_reg': 6, 'bagging_temperature': 0.5139532116112875, 'random_strength': 0.6877376393331052, 'border_count': 260, 'rsm': 0.16468754439058167}. Best is trial 19 with value: 72.97923437075937.\n"
     ]
    },
    {
     "name": "stdout",
     "output_type": "stream",
     "text": [
      "2198:\tlearn: 96.9216974\ttotal: 10.8s\tremaining: 0us\n",
      "0:\tlearn: 183.5460971\ttotal: 29.6ms\tremaining: 1m 28s\n",
      "100:\tlearn: 112.8692765\ttotal: 828ms\tremaining: 23.6s\n",
      "200:\tlearn: 98.7565661\ttotal: 1.68s\tremaining: 23.3s\n",
      "300:\tlearn: 94.7331148\ttotal: 2.39s\tremaining: 21.3s\n",
      "400:\tlearn: 92.5799514\ttotal: 3.28s\tremaining: 21.2s\n",
      "500:\tlearn: 91.0202878\ttotal: 4.29s\tremaining: 21.3s\n",
      "600:\tlearn: 89.8848276\ttotal: 5.51s\tremaining: 21.9s\n",
      "700:\tlearn: 89.0461122\ttotal: 6.38s\tremaining: 20.8s\n",
      "800:\tlearn: 88.3809438\ttotal: 7.28s\tremaining: 19.9s\n",
      "900:\tlearn: 87.9004134\ttotal: 8.16s\tremaining: 18.9s\n",
      "1000:\tlearn: 87.3956454\ttotal: 8.77s\tremaining: 17.4s\n",
      "1100:\tlearn: 86.9131339\ttotal: 9.62s\tremaining: 16.5s\n",
      "1200:\tlearn: 86.4163332\ttotal: 10.5s\tremaining: 15.6s\n",
      "1300:\tlearn: 85.9703447\ttotal: 11.1s\tremaining: 14.4s\n",
      "1400:\tlearn: 85.5710114\ttotal: 11.8s\tremaining: 13.4s\n",
      "1500:\tlearn: 85.2344848\ttotal: 12.7s\tremaining: 12.5s\n",
      "1600:\tlearn: 84.9113648\ttotal: 13.4s\tremaining: 11.6s\n",
      "1700:\tlearn: 84.6389849\ttotal: 14.1s\tremaining: 10.6s\n",
      "1800:\tlearn: 84.3416475\ttotal: 14.8s\tremaining: 9.76s\n",
      "1900:\tlearn: 84.0261798\ttotal: 15.4s\tremaining: 8.77s\n",
      "2000:\tlearn: 83.7960408\ttotal: 16.1s\tremaining: 7.91s\n",
      "2100:\tlearn: 83.5097397\ttotal: 16.8s\tremaining: 7.06s\n",
      "2200:\tlearn: 83.2640218\ttotal: 17.8s\tremaining: 6.34s\n",
      "2300:\tlearn: 83.0220337\ttotal: 18.7s\tremaining: 5.57s\n",
      "2400:\tlearn: 82.7966213\ttotal: 19.4s\tremaining: 4.73s\n",
      "2500:\tlearn: 82.5946392\ttotal: 20.2s\tremaining: 3.92s\n",
      "2600:\tlearn: 82.4002688\ttotal: 20.9s\tremaining: 3.11s\n",
      "2700:\tlearn: 82.2275337\ttotal: 21.8s\tremaining: 2.31s\n",
      "2800:\tlearn: 82.0938917\ttotal: 22.9s\tremaining: 1.52s\n",
      "2900:\tlearn: 81.9300276\ttotal: 23.7s\tremaining: 704ms\n"
     ]
    },
    {
     "name": "stderr",
     "output_type": "stream",
     "text": [
      "[I 2023-11-07 08:54:30,046] Trial 50 finished with value: 73.70260678283918 and parameters: {'iterations': 2987, 'learning_rate': 0.012898656517329413, 'depth': 2, 'min_data_in_leaf': 6, 'l2_leaf_reg': 6, 'bagging_temperature': 0.9647889524218541, 'random_strength': 0.6288463858643821, 'border_count': 991, 'rsm': 0.3779614921308788}. Best is trial 19 with value: 72.97923437075937.\n"
     ]
    },
    {
     "name": "stdout",
     "output_type": "stream",
     "text": [
      "2986:\tlearn: 81.8112600\ttotal: 24.6s\tremaining: 0us\n",
      "0:\tlearn: 183.8099641\ttotal: 3.06ms\tremaining: 7.48s\n",
      "100:\tlearn: 118.3764357\ttotal: 703ms\tremaining: 16.3s\n",
      "200:\tlearn: 101.3445062\ttotal: 1.42s\tremaining: 15.9s\n",
      "300:\tlearn: 96.2604174\ttotal: 2.15s\tremaining: 15.4s\n",
      "400:\tlearn: 93.9183316\ttotal: 2.87s\tremaining: 14.7s\n",
      "500:\tlearn: 92.2509274\ttotal: 3.83s\tremaining: 14.9s\n",
      "600:\tlearn: 90.9634590\ttotal: 4.51s\tremaining: 13.8s\n",
      "700:\tlearn: 89.9860277\ttotal: 5.28s\tremaining: 13.2s\n",
      "800:\tlearn: 89.2071417\ttotal: 6.15s\tremaining: 12.6s\n",
      "900:\tlearn: 88.6489414\ttotal: 6.76s\tremaining: 11.6s\n",
      "1000:\tlearn: 88.1537240\ttotal: 7.62s\tremaining: 11s\n",
      "1100:\tlearn: 87.7316745\ttotal: 8.29s\tremaining: 10.1s\n",
      "1200:\tlearn: 87.3594899\ttotal: 8.91s\tremaining: 9.25s\n",
      "1300:\tlearn: 86.9982703\ttotal: 9.59s\tremaining: 8.45s\n",
      "1400:\tlearn: 86.5906103\ttotal: 10.3s\tremaining: 7.66s\n",
      "1500:\tlearn: 86.2296635\ttotal: 11s\tremaining: 6.96s\n",
      "1600:\tlearn: 85.8825872\ttotal: 11.9s\tremaining: 6.3s\n",
      "1700:\tlearn: 85.6015688\ttotal: 12.6s\tremaining: 5.55s\n",
      "1800:\tlearn: 85.3444180\ttotal: 13.4s\tremaining: 4.8s\n",
      "1900:\tlearn: 85.0965130\ttotal: 14s\tremaining: 4.03s\n",
      "2000:\tlearn: 84.8413375\ttotal: 14.8s\tremaining: 3.3s\n",
      "2100:\tlearn: 84.5902281\ttotal: 15.4s\tremaining: 2.55s\n",
      "2200:\tlearn: 84.2975221\ttotal: 16.3s\tremaining: 1.82s\n",
      "2300:\tlearn: 84.0084090\ttotal: 17.1s\tremaining: 1.09s\n",
      "2400:\tlearn: 83.7908384\ttotal: 17.7s\tremaining: 347ms\n"
     ]
    },
    {
     "name": "stderr",
     "output_type": "stream",
     "text": [
      "[I 2023-11-07 08:54:48,974] Trial 51 finished with value: 73.5473865829458 and parameters: {'iterations': 2448, 'learning_rate': 0.01041948396369874, 'depth': 2, 'min_data_in_leaf': 26, 'l2_leaf_reg': 7, 'bagging_temperature': 0.6926734556274965, 'random_strength': 0.6094918135094551, 'border_count': 164, 'rsm': 0.5321549302143841}. Best is trial 19 with value: 72.97923437075937.\n"
     ]
    },
    {
     "name": "stdout",
     "output_type": "stream",
     "text": [
      "2447:\tlearn: 83.6822421\ttotal: 18.3s\tremaining: 0us\n",
      "0:\tlearn: 184.1307080\ttotal: 26.6ms\tremaining: 1m 7s\n",
      "100:\tlearn: 127.3317266\ttotal: 1.01s\tremaining: 24.3s\n",
      "200:\tlearn: 105.6234712\ttotal: 1.81s\tremaining: 21s\n",
      "300:\tlearn: 97.1317789\ttotal: 2.53s\tremaining: 18.8s\n",
      "400:\tlearn: 93.2215820\ttotal: 3.56s\tremaining: 19s\n",
      "500:\tlearn: 91.2024407\ttotal: 4.75s\tremaining: 19.3s\n",
      "600:\tlearn: 89.8084500\ttotal: 5.61s\tremaining: 18.1s\n",
      "700:\tlearn: 88.7105990\ttotal: 6.21s\tremaining: 16.3s\n",
      "800:\tlearn: 87.8166770\ttotal: 7.06s\tremaining: 15.3s\n",
      "900:\tlearn: 87.0511400\ttotal: 7.98s\tremaining: 14.5s\n",
      "1000:\tlearn: 86.3699084\ttotal: 8.89s\tremaining: 13.7s\n",
      "1100:\tlearn: 85.7507745\ttotal: 9.62s\tremaining: 12.6s\n",
      "1200:\tlearn: 85.1761239\ttotal: 10.4s\tremaining: 11.6s\n",
      "1300:\tlearn: 84.6746366\ttotal: 11.4s\tremaining: 10.8s\n",
      "1400:\tlearn: 84.2112042\ttotal: 12s\tremaining: 9.76s\n",
      "1500:\tlearn: 83.7326323\ttotal: 13.1s\tremaining: 9.07s\n",
      "1600:\tlearn: 83.3031556\ttotal: 14.2s\tremaining: 8.32s\n",
      "1700:\tlearn: 82.9000055\ttotal: 15s\tremaining: 7.4s\n",
      "1800:\tlearn: 82.4793247\ttotal: 16.3s\tremaining: 6.66s\n",
      "1900:\tlearn: 82.1578498\ttotal: 17.2s\tremaining: 5.76s\n",
      "2000:\tlearn: 81.8526498\ttotal: 18s\tremaining: 4.83s\n",
      "2100:\tlearn: 81.5559910\ttotal: 18.8s\tremaining: 3.93s\n",
      "2200:\tlearn: 81.2927885\ttotal: 19.6s\tremaining: 3.01s\n",
      "2300:\tlearn: 81.0466306\ttotal: 20.5s\tremaining: 2.12s\n",
      "2400:\tlearn: 80.8086052\ttotal: 21.5s\tremaining: 1.24s\n",
      "2500:\tlearn: 80.5860648\ttotal: 22.4s\tremaining: 341ms\n"
     ]
    },
    {
     "name": "stderr",
     "output_type": "stream",
     "text": [
      "[I 2023-11-07 08:55:12,378] Trial 52 finished with value: 73.35622986736772 and parameters: {'iterations': 2539, 'learning_rate': 0.007363429445563738, 'depth': 3, 'min_data_in_leaf': 27, 'l2_leaf_reg': 8, 'bagging_temperature': 0.6876933792057875, 'random_strength': 0.5981967194331148, 'border_count': 136, 'rsm': 0.4337081678126652}. Best is trial 19 with value: 72.97923437075937.\n"
     ]
    },
    {
     "name": "stdout",
     "output_type": "stream",
     "text": [
      "2538:\tlearn: 80.5058251\ttotal: 22.8s\tremaining: 0us\n",
      "0:\tlearn: 184.1105111\ttotal: 4.82ms\tremaining: 12s\n",
      "100:\tlearn: 126.4333612\ttotal: 729ms\tremaining: 17.3s\n",
      "200:\tlearn: 105.0184272\ttotal: 1.7s\tremaining: 19.4s\n",
      "300:\tlearn: 96.6526032\ttotal: 2.46s\tremaining: 18s\n",
      "400:\tlearn: 92.8776049\ttotal: 3.27s\tremaining: 17.1s\n",
      "500:\tlearn: 90.9459695\ttotal: 4.07s\tremaining: 16.2s\n",
      "600:\tlearn: 89.6389491\ttotal: 4.77s\tremaining: 15.1s\n",
      "700:\tlearn: 88.5382046\ttotal: 5.42s\tremaining: 13.9s\n",
      "800:\tlearn: 87.6221870\ttotal: 6.25s\tremaining: 13.3s\n",
      "900:\tlearn: 86.8792933\ttotal: 7.37s\tremaining: 13.1s\n",
      "1000:\tlearn: 86.2116184\ttotal: 8.46s\tremaining: 12.7s\n",
      "1100:\tlearn: 85.6228009\ttotal: 9.37s\tremaining: 11.9s\n",
      "1200:\tlearn: 85.0862057\ttotal: 10.4s\tremaining: 11.3s\n",
      "1300:\tlearn: 84.6268789\ttotal: 11.3s\tremaining: 10.4s\n",
      "1400:\tlearn: 84.1514460\ttotal: 12s\tremaining: 9.39s\n",
      "1500:\tlearn: 83.6880557\ttotal: 12.9s\tremaining: 8.56s\n",
      "1600:\tlearn: 83.2170757\ttotal: 14s\tremaining: 7.84s\n",
      "1700:\tlearn: 82.7999243\ttotal: 14.7s\tremaining: 6.9s\n",
      "1800:\tlearn: 82.4234919\ttotal: 15.5s\tremaining: 6.01s\n",
      "1900:\tlearn: 82.1067418\ttotal: 16.3s\tremaining: 5.13s\n",
      "2000:\tlearn: 81.7891788\ttotal: 17.4s\tremaining: 4.34s\n",
      "2100:\tlearn: 81.4844918\ttotal: 18.1s\tremaining: 3.44s\n",
      "2200:\tlearn: 81.1907776\ttotal: 19s\tremaining: 2.59s\n",
      "2300:\tlearn: 80.9538034\ttotal: 19.9s\tremaining: 1.72s\n",
      "2400:\tlearn: 80.7145594\ttotal: 20.6s\tremaining: 849ms\n"
     ]
    },
    {
     "name": "stderr",
     "output_type": "stream",
     "text": [
      "[I 2023-11-07 08:55:34,403] Trial 53 finished with value: 73.27170851730115 and parameters: {'iterations': 2500, 'learning_rate': 0.007545012719453518, 'depth': 3, 'min_data_in_leaf': 27, 'l2_leaf_reg': 8, 'bagging_temperature': 0.6734163093135582, 'random_strength': 0.5895456782630578, 'border_count': 179, 'rsm': 0.4380704360104038}. Best is trial 19 with value: 72.97923437075937.\n"
     ]
    },
    {
     "name": "stdout",
     "output_type": "stream",
     "text": [
      "2499:\tlearn: 80.4997981\ttotal: 21.3s\tremaining: 0us\n",
      "0:\tlearn: 184.1800472\ttotal: 15.5ms\tremaining: 39.2s\n",
      "100:\tlearn: 129.1042802\ttotal: 740ms\tremaining: 17.8s\n",
      "200:\tlearn: 106.9278479\ttotal: 1.71s\tremaining: 19.8s\n",
      "300:\tlearn: 97.9278539\ttotal: 2.63s\tremaining: 19.5s\n",
      "400:\tlearn: 93.7213417\ttotal: 3.74s\tremaining: 19.9s\n",
      "500:\tlearn: 91.5022734\ttotal: 4.41s\tremaining: 17.9s\n",
      "600:\tlearn: 90.1586380\ttotal: 5.29s\tremaining: 17s\n",
      "700:\tlearn: 89.0703254\ttotal: 5.94s\tremaining: 15.5s\n",
      "800:\tlearn: 88.1501067\ttotal: 6.92s\tremaining: 15s\n",
      "900:\tlearn: 87.3378627\ttotal: 7.85s\tremaining: 14.2s\n",
      "1000:\tlearn: 86.6375572\ttotal: 8.75s\tremaining: 13.4s\n",
      "1100:\tlearn: 86.0090022\ttotal: 9.81s\tremaining: 12.7s\n",
      "1200:\tlearn: 85.4653229\ttotal: 10.7s\tremaining: 11.9s\n",
      "1300:\tlearn: 84.9971116\ttotal: 11.5s\tremaining: 10.8s\n",
      "1400:\tlearn: 84.5377506\ttotal: 12.5s\tremaining: 10.1s\n",
      "1500:\tlearn: 84.1199848\ttotal: 13.3s\tremaining: 9.11s\n",
      "1600:\tlearn: 83.6950953\ttotal: 14.2s\tremaining: 8.26s\n",
      "1700:\tlearn: 83.2710429\ttotal: 15.1s\tremaining: 7.37s\n",
      "1800:\tlearn: 82.8722358\ttotal: 16s\tremaining: 6.47s\n",
      "1900:\tlearn: 82.5111572\ttotal: 17s\tremaining: 5.64s\n",
      "2000:\tlearn: 82.1986377\ttotal: 17.8s\tremaining: 4.71s\n",
      "2100:\tlearn: 81.8858280\ttotal: 18.7s\tremaining: 3.83s\n",
      "2200:\tlearn: 81.5986718\ttotal: 19.9s\tremaining: 2.99s\n",
      "2300:\tlearn: 81.3342143\ttotal: 21.1s\tremaining: 2.11s\n",
      "2400:\tlearn: 81.0808105\ttotal: 22.1s\tremaining: 1.19s\n",
      "2500:\tlearn: 80.8356962\ttotal: 23s\tremaining: 276ms\n"
     ]
    },
    {
     "name": "stderr",
     "output_type": "stream",
     "text": [
      "[I 2023-11-07 08:55:58,424] Trial 54 finished with value: 73.13453778928739 and parameters: {'iterations': 2531, 'learning_rate': 0.006985413062996537, 'depth': 3, 'min_data_in_leaf': 27, 'l2_leaf_reg': 8, 'bagging_temperature': 0.6728847695556128, 'random_strength': 0.5980759633779086, 'border_count': 166, 'rsm': 0.44093515275306416}. Best is trial 19 with value: 72.97923437075937.\n"
     ]
    },
    {
     "name": "stdout",
     "output_type": "stream",
     "text": [
      "2530:\tlearn: 80.7666228\ttotal: 23.3s\tremaining: 0us\n",
      "0:\tlearn: 184.4173435\ttotal: 4.24ms\tremaining: 10.9s\n",
      "100:\tlearn: 140.4771798\ttotal: 1.09s\tremaining: 26.7s\n",
      "200:\tlearn: 117.3605069\ttotal: 1.94s\tremaining: 22.8s\n",
      "300:\tlearn: 105.3909734\ttotal: 2.71s\tremaining: 20.4s\n",
      "400:\tlearn: 99.0471072\ttotal: 3.79s\tremaining: 20.5s\n",
      "500:\tlearn: 95.3967070\ttotal: 5s\tremaining: 20.7s\n",
      "600:\tlearn: 93.1230753\ttotal: 6.27s\tremaining: 20.5s\n",
      "700:\tlearn: 91.6972521\ttotal: 7.13s\tremaining: 19s\n",
      "800:\tlearn: 90.6284780\ttotal: 7.99s\tremaining: 17.6s\n",
      "900:\tlearn: 89.7946773\ttotal: 8.75s\tremaining: 16.2s\n",
      "1000:\tlearn: 89.0713129\ttotal: 9.5s\tremaining: 14.9s\n",
      "1100:\tlearn: 88.4090222\ttotal: 10.4s\tremaining: 13.8s\n",
      "1200:\tlearn: 87.8319008\ttotal: 11.2s\tremaining: 12.7s\n",
      "1300:\tlearn: 87.3125708\ttotal: 11.9s\tremaining: 11.6s\n",
      "1400:\tlearn: 86.8400158\ttotal: 12.8s\tremaining: 10.7s\n",
      "1500:\tlearn: 86.3936597\ttotal: 13.7s\tremaining: 9.75s\n",
      "1600:\tlearn: 85.9942389\ttotal: 14.6s\tremaining: 8.84s\n",
      "1700:\tlearn: 85.6392467\ttotal: 15.6s\tremaining: 7.97s\n",
      "1800:\tlearn: 85.2719762\ttotal: 16.5s\tremaining: 7.04s\n",
      "1900:\tlearn: 84.9085709\ttotal: 17.2s\tremaining: 6.05s\n",
      "2000:\tlearn: 84.5793117\ttotal: 18.1s\tremaining: 5.15s\n",
      "2100:\tlearn: 84.2620668\ttotal: 18.9s\tremaining: 4.22s\n",
      "2200:\tlearn: 83.9497920\ttotal: 19.9s\tremaining: 3.32s\n",
      "2300:\tlearn: 83.6454799\ttotal: 20.6s\tremaining: 2.4s\n",
      "2400:\tlearn: 83.3487741\ttotal: 21.6s\tremaining: 1.51s\n",
      "2500:\tlearn: 83.0644390\ttotal: 22.4s\tremaining: 609ms\n"
     ]
    },
    {
     "name": "stderr",
     "output_type": "stream",
     "text": [
      "[I 2023-11-07 08:56:22,090] Trial 55 finished with value: 72.65112909096902 and parameters: {'iterations': 2569, 'learning_rate': 0.004964798577466536, 'depth': 3, 'min_data_in_leaf': 34, 'l2_leaf_reg': 8, 'bagging_temperature': 0.7465339246522942, 'random_strength': 0.6335246931927535, 'border_count': 80, 'rsm': 0.43150327625887724}. Best is trial 55 with value: 72.65112909096902.\n"
     ]
    },
    {
     "name": "stdout",
     "output_type": "stream",
     "text": [
      "2568:\tlearn: 82.8995198\ttotal: 22.9s\tremaining: 0us\n",
      "0:\tlearn: 184.3221690\ttotal: 22.8ms\tremaining: 58.7s\n",
      "100:\tlearn: 134.0592537\ttotal: 1.28s\tremaining: 31.4s\n",
      "200:\tlearn: 109.0590634\ttotal: 2.53s\tremaining: 29.8s\n",
      "300:\tlearn: 96.9213691\ttotal: 4.27s\tremaining: 32.2s\n",
      "400:\tlearn: 90.8036765\ttotal: 5.59s\tremaining: 30.3s\n",
      "500:\tlearn: 87.4271943\ttotal: 6.89s\tremaining: 28.5s\n",
      "600:\tlearn: 85.3486853\ttotal: 8.29s\tremaining: 27.2s\n",
      "700:\tlearn: 83.9250914\ttotal: 9.69s\tremaining: 25.9s\n",
      "800:\tlearn: 82.8079307\ttotal: 10.8s\tremaining: 23.9s\n",
      "900:\tlearn: 81.9070614\ttotal: 11.8s\tremaining: 21.9s\n",
      "1000:\tlearn: 81.0488796\ttotal: 13.1s\tremaining: 20.6s\n",
      "1100:\tlearn: 80.2654174\ttotal: 14.3s\tremaining: 19.1s\n",
      "1200:\tlearn: 79.5616467\ttotal: 15.8s\tremaining: 18s\n",
      "1300:\tlearn: 78.9122682\ttotal: 17.2s\tremaining: 16.8s\n",
      "1400:\tlearn: 78.2866974\ttotal: 18.4s\tremaining: 15.4s\n",
      "1500:\tlearn: 77.6939194\ttotal: 19.4s\tremaining: 13.8s\n",
      "1600:\tlearn: 77.1548455\ttotal: 20.8s\tremaining: 12.6s\n",
      "1700:\tlearn: 76.6464156\ttotal: 21.9s\tremaining: 11.2s\n",
      "1800:\tlearn: 76.1441614\ttotal: 23.1s\tremaining: 9.91s\n",
      "1900:\tlearn: 75.6723998\ttotal: 24.5s\tremaining: 8.63s\n",
      "2000:\tlearn: 75.2285878\ttotal: 25.7s\tremaining: 7.34s\n",
      "2100:\tlearn: 74.7812442\ttotal: 27.4s\tremaining: 6.14s\n",
      "2200:\tlearn: 74.3706287\ttotal: 28.7s\tremaining: 4.84s\n",
      "2300:\tlearn: 73.9843938\ttotal: 30s\tremaining: 3.54s\n",
      "2400:\tlearn: 73.6093271\ttotal: 31.5s\tremaining: 2.24s\n",
      "2500:\tlearn: 73.2459635\ttotal: 32.7s\tremaining: 928ms\n"
     ]
    },
    {
     "name": "stderr",
     "output_type": "stream",
     "text": [
      "[I 2023-11-07 08:56:56,714] Trial 56 finished with value: 78.31708984213648 and parameters: {'iterations': 2572, 'learning_rate': 0.005466261916705121, 'depth': 6, 'min_data_in_leaf': 41, 'l2_leaf_reg': 10, 'bagging_temperature': 0.6716888069860203, 'random_strength': 0.6387644401747006, 'border_count': 48, 'rsm': 0.41613989471112844}. Best is trial 55 with value: 72.65112909096902.\n"
     ]
    },
    {
     "name": "stdout",
     "output_type": "stream",
     "text": [
      "2571:\tlearn: 72.9892928\ttotal: 33.8s\tremaining: 0us\n",
      "0:\tlearn: 184.5429655\ttotal: 12.4ms\tremaining: 7.58s\n",
      "100:\tlearn: 146.8770156\ttotal: 631ms\tremaining: 3.2s\n",
      "200:\tlearn: 124.2095000\ttotal: 1.38s\tremaining: 2.84s\n",
      "300:\tlearn: 111.0122835\ttotal: 2.22s\tremaining: 2.3s\n",
      "400:\tlearn: 103.2809514\ttotal: 2.89s\tremaining: 1.53s\n",
      "500:\tlearn: 98.6040966\ttotal: 3.84s\tremaining: 859ms\n"
     ]
    },
    {
     "name": "stderr",
     "output_type": "stream",
     "text": [
      "[I 2023-11-07 08:57:01,882] Trial 57 finished with value: 91.86170924422974 and parameters: {'iterations': 613, 'learning_rate': 0.004092873372990293, 'depth': 3, 'min_data_in_leaf': 35, 'l2_leaf_reg': 9, 'bagging_temperature': 0.7461903430253747, 'random_strength': 0.6887213630344252, 'border_count': 247, 'rsm': 0.3532528597813922}. Best is trial 55 with value: 72.65112909096902.\n"
     ]
    },
    {
     "name": "stdout",
     "output_type": "stream",
     "text": [
      "600:\tlearn: 95.5519027\ttotal: 4.74s\tremaining: 94.6ms\n",
      "612:\tlearn: 95.2658900\ttotal: 4.85s\tremaining: 0us\n",
      "0:\tlearn: 184.1309322\ttotal: 24.4ms\tremaining: 1m 5s\n",
      "100:\tlearn: 127.3233025\ttotal: 1.34s\tremaining: 34.4s\n",
      "200:\tlearn: 104.5235935\ttotal: 2.21s\tremaining: 27.4s\n",
      "300:\tlearn: 95.2288214\ttotal: 3.31s\tremaining: 26.3s\n",
      "400:\tlearn: 90.9936310\ttotal: 4.61s\tremaining: 26.3s\n",
      "500:\tlearn: 88.7950909\ttotal: 5.59s\tremaining: 24.4s\n",
      "600:\tlearn: 87.4167128\ttotal: 6.43s\tremaining: 22.3s\n",
      "700:\tlearn: 86.3345122\ttotal: 7.75s\tremaining: 22s\n",
      "800:\tlearn: 85.4025727\ttotal: 8.55s\tremaining: 20.1s\n",
      "900:\tlearn: 84.6255889\ttotal: 9.46s\tremaining: 18.8s\n",
      "1000:\tlearn: 83.8963821\ttotal: 10.8s\tremaining: 18.2s\n",
      "1100:\tlearn: 83.2436309\ttotal: 11.8s\tremaining: 17.1s\n",
      "1200:\tlearn: 82.6434389\ttotal: 12.8s\tremaining: 15.8s\n",
      "1300:\tlearn: 82.0621749\ttotal: 14.1s\tremaining: 15s\n",
      "1400:\tlearn: 81.5338342\ttotal: 15.2s\tremaining: 14s\n",
      "1500:\tlearn: 81.0267274\ttotal: 16.1s\tremaining: 12.7s\n",
      "1600:\tlearn: 80.5395891\ttotal: 17.1s\tremaining: 11.6s\n",
      "1700:\tlearn: 80.0590419\ttotal: 18.2s\tremaining: 10.5s\n",
      "1800:\tlearn: 79.6499839\ttotal: 19.2s\tremaining: 9.44s\n",
      "1900:\tlearn: 79.2985711\ttotal: 20.3s\tremaining: 8.41s\n",
      "2000:\tlearn: 78.9313263\ttotal: 21.3s\tremaining: 7.32s\n",
      "2100:\tlearn: 78.5919081\ttotal: 22.3s\tremaining: 6.22s\n",
      "2200:\tlearn: 78.2452486\ttotal: 23.1s\tremaining: 5.11s\n",
      "2300:\tlearn: 77.9324842\ttotal: 24s\tremaining: 4.04s\n",
      "2400:\tlearn: 77.6346595\ttotal: 25.1s\tremaining: 3s\n",
      "2500:\tlearn: 77.3662536\ttotal: 25.9s\tremaining: 1.94s\n",
      "2600:\tlearn: 77.1031130\ttotal: 27s\tremaining: 904ms\n"
     ]
    },
    {
     "name": "stderr",
     "output_type": "stream",
     "text": [
      "[I 2023-11-07 08:57:30,521] Trial 58 finished with value: 75.8860271304465 and parameters: {'iterations': 2688, 'learning_rate': 0.006964358875723342, 'depth': 4, 'min_data_in_leaf': 32, 'l2_leaf_reg': 8, 'bagging_temperature': 0.6435299769382163, 'random_strength': 0.713522373998596, 'border_count': 67, 'rsm': 0.46073756302153535}. Best is trial 55 with value: 72.65112909096902.\n"
     ]
    },
    {
     "name": "stdout",
     "output_type": "stream",
     "text": [
      "2687:\tlearn: 76.8815764\ttotal: 27.8s\tremaining: 0us\n",
      "0:\tlearn: 184.3851229\ttotal: 22.4ms\tremaining: 1m 1s\n",
      "100:\tlearn: 137.5556883\ttotal: 4.69s\tremaining: 2m 2s\n",
      "200:\tlearn: 111.6443334\ttotal: 9.34s\tremaining: 1m 57s\n",
      "300:\tlearn: 97.8152032\ttotal: 14.2s\tremaining: 1m 54s\n",
      "400:\tlearn: 90.3172483\ttotal: 19.1s\tremaining: 1m 51s\n",
      "500:\tlearn: 86.0265540\ttotal: 23.9s\tremaining: 1m 46s\n",
      "600:\tlearn: 83.2005614\ttotal: 28.5s\tremaining: 1m 41s\n",
      "700:\tlearn: 81.2193576\ttotal: 33.9s\tremaining: 1m 38s\n",
      "800:\tlearn: 79.7399842\ttotal: 38.5s\tremaining: 1m 32s\n",
      "900:\tlearn: 78.5296798\ttotal: 42.8s\tremaining: 1m 27s\n",
      "1000:\tlearn: 77.4747480\ttotal: 48s\tremaining: 1m 23s\n",
      "1100:\tlearn: 76.5264644\ttotal: 52.4s\tremaining: 1m 17s\n",
      "1200:\tlearn: 75.6760068\ttotal: 57s\tremaining: 1m 12s\n",
      "1300:\tlearn: 74.8764845\ttotal: 1m 1s\tremaining: 1m 8s\n",
      "1400:\tlearn: 74.1300535\ttotal: 1m 6s\tremaining: 1m 3s\n",
      "1500:\tlearn: 73.4530379\ttotal: 1m 10s\tremaining: 58.1s\n",
      "1600:\tlearn: 72.7757072\ttotal: 1m 15s\tremaining: 53.5s\n",
      "1700:\tlearn: 72.1530758\ttotal: 1m 20s\tremaining: 48.8s\n",
      "1800:\tlearn: 71.5400119\ttotal: 1m 25s\tremaining: 44.1s\n",
      "1900:\tlearn: 70.9554585\ttotal: 1m 29s\tremaining: 39.3s\n",
      "2000:\tlearn: 70.3582197\ttotal: 1m 34s\tremaining: 34.7s\n",
      "2100:\tlearn: 69.7859881\ttotal: 1m 39s\tremaining: 30.1s\n",
      "2200:\tlearn: 69.1894398\ttotal: 1m 44s\tremaining: 25.4s\n",
      "2300:\tlearn: 68.6271034\ttotal: 1m 50s\tremaining: 20.7s\n",
      "2400:\tlearn: 68.1160790\ttotal: 1m 54s\tremaining: 15.9s\n",
      "2500:\tlearn: 67.5948267\ttotal: 1m 59s\tremaining: 11.1s\n",
      "2600:\tlearn: 67.0847215\ttotal: 2m 4s\tremaining: 6.37s\n",
      "2700:\tlearn: 66.5981854\ttotal: 2m 9s\tremaining: 1.58s\n"
     ]
    },
    {
     "name": "stderr",
     "output_type": "stream",
     "text": [
      "[I 2023-11-07 08:59:42,492] Trial 59 finished with value: 79.17188616954178 and parameters: {'iterations': 2734, 'learning_rate': 0.004849507116626573, 'depth': 8, 'min_data_in_leaf': 19, 'l2_leaf_reg': 8, 'bagging_temperature': 0.6922972939232439, 'random_strength': 0.754229343450777, 'border_count': 117, 'rsm': 0.4389078386734912}. Best is trial 55 with value: 72.65112909096902.\n"
     ]
    },
    {
     "name": "stdout",
     "output_type": "stream",
     "text": [
      "2733:\tlearn: 66.4421344\ttotal: 2m 10s\tremaining: 0us\n",
      "0:\tlearn: 184.1321294\ttotal: 22.3ms\tremaining: 56.1s\n",
      "100:\tlearn: 125.9304641\ttotal: 1.17s\tremaining: 27.9s\n",
      "200:\tlearn: 102.4783519\ttotal: 2.39s\tremaining: 27.6s\n",
      "300:\tlearn: 93.0030944\ttotal: 3.71s\tremaining: 27.4s\n",
      "400:\tlearn: 88.7728722\ttotal: 4.78s\tremaining: 25.2s\n",
      "500:\tlearn: 86.5015103\ttotal: 5.78s\tremaining: 23.3s\n",
      "600:\tlearn: 85.0724593\ttotal: 6.91s\tremaining: 22.1s\n",
      "700:\tlearn: 83.9651303\ttotal: 7.98s\tremaining: 20.7s\n",
      "800:\tlearn: 82.9755478\ttotal: 8.97s\tremaining: 19.3s\n",
      "900:\tlearn: 82.0628377\ttotal: 10.2s\tremaining: 18.2s\n",
      "1000:\tlearn: 81.2966695\ttotal: 11.2s\tremaining: 17s\n",
      "1100:\tlearn: 80.5916552\ttotal: 12.5s\tremaining: 16.1s\n",
      "1200:\tlearn: 79.9153506\ttotal: 13.6s\tremaining: 14.9s\n",
      "1300:\tlearn: 79.3062477\ttotal: 14.6s\tremaining: 13.6s\n",
      "1400:\tlearn: 78.7468079\ttotal: 15.7s\tremaining: 12.5s\n",
      "1500:\tlearn: 78.2343944\ttotal: 16.8s\tremaining: 11.4s\n",
      "1600:\tlearn: 77.7323898\ttotal: 18.1s\tremaining: 10.4s\n",
      "1700:\tlearn: 77.2797360\ttotal: 19.7s\tremaining: 9.5s\n",
      "1800:\tlearn: 76.8462043\ttotal: 21.1s\tremaining: 8.44s\n",
      "1900:\tlearn: 76.4094361\ttotal: 22.4s\tremaining: 7.3s\n",
      "2000:\tlearn: 76.0064225\ttotal: 23.7s\tremaining: 6.14s\n",
      "2100:\tlearn: 75.6175304\ttotal: 24.9s\tremaining: 4.97s\n",
      "2200:\tlearn: 75.2500631\ttotal: 26.2s\tremaining: 3.79s\n",
      "2300:\tlearn: 74.8975964\ttotal: 27.2s\tremaining: 2.59s\n",
      "2400:\tlearn: 74.5531186\ttotal: 28.3s\tremaining: 1.4s\n",
      "2500:\tlearn: 74.2164707\ttotal: 29.4s\tremaining: 223ms\n"
     ]
    },
    {
     "name": "stderr",
     "output_type": "stream",
     "text": [
      "[I 2023-11-07 09:00:12,912] Trial 60 finished with value: 77.30849386351733 and parameters: {'iterations': 2520, 'learning_rate': 0.007027441027924284, 'depth': 5, 'min_data_in_leaf': 55, 'l2_leaf_reg': 9, 'bagging_temperature': 0.6575669912552016, 'random_strength': 0.5834148540004982, 'border_count': 92, 'rsm': 0.32307939807435565}. Best is trial 55 with value: 72.65112909096902.\n"
     ]
    },
    {
     "name": "stdout",
     "output_type": "stream",
     "text": [
      "2519:\tlearn: 74.1598108\ttotal: 29.6s\tremaining: 0us\n",
      "0:\tlearn: 184.3365035\ttotal: 2.57ms\tremaining: 5.99s\n",
      "100:\tlearn: 137.2868722\ttotal: 775ms\tremaining: 17.1s\n",
      "200:\tlearn: 114.2111652\ttotal: 1.6s\tremaining: 17s\n",
      "300:\tlearn: 103.1217107\ttotal: 2.16s\tremaining: 14.5s\n",
      "400:\tlearn: 97.5060233\ttotal: 2.89s\tremaining: 13.9s\n",
      "500:\tlearn: 94.4844328\ttotal: 3.48s\tremaining: 12.7s\n",
      "600:\tlearn: 92.6395861\ttotal: 4.31s\tremaining: 12.4s\n",
      "700:\tlearn: 91.4223121\ttotal: 5.16s\tremaining: 12s\n",
      "800:\tlearn: 90.4333318\ttotal: 6.36s\tremaining: 12.1s\n",
      "900:\tlearn: 89.5795247\ttotal: 7.37s\tremaining: 11.7s\n",
      "1000:\tlearn: 88.8501822\ttotal: 8.09s\tremaining: 10.7s\n",
      "1100:\tlearn: 88.2647054\ttotal: 9.05s\tremaining: 10.1s\n",
      "1200:\tlearn: 87.7154199\ttotal: 9.88s\tremaining: 9.27s\n",
      "1300:\tlearn: 87.2213996\ttotal: 10.7s\tremaining: 8.48s\n",
      "1400:\tlearn: 86.7597426\ttotal: 11.5s\tremaining: 7.62s\n",
      "1500:\tlearn: 86.3690805\ttotal: 12.3s\tremaining: 6.79s\n",
      "1600:\tlearn: 85.9908185\ttotal: 13s\tremaining: 5.9s\n",
      "1700:\tlearn: 85.6515943\ttotal: 13.8s\tremaining: 5.1s\n",
      "1800:\tlearn: 85.2975739\ttotal: 14.7s\tremaining: 4.3s\n",
      "1900:\tlearn: 84.9734210\ttotal: 15.3s\tremaining: 3.44s\n",
      "2000:\tlearn: 84.6522662\ttotal: 16s\tremaining: 2.62s\n",
      "2100:\tlearn: 84.3490460\ttotal: 17s\tremaining: 1.84s\n",
      "2200:\tlearn: 84.0738293\ttotal: 17.7s\tremaining: 1.02s\n",
      "2300:\tlearn: 83.8144070\ttotal: 18.7s\tremaining: 219ms\n",
      "2327:\tlearn: 83.7485249\ttotal: 18.8s\tremaining: 0us\n"
     ]
    },
    {
     "name": "stderr",
     "output_type": "stream",
     "text": [
      "[I 2023-11-07 09:00:32,456] Trial 61 finished with value: 75.36435790561224 and parameters: {'iterations': 2328, 'learning_rate': 0.005543296707048196, 'depth': 3, 'min_data_in_leaf': 28, 'l2_leaf_reg': 8, 'bagging_temperature': 0.7433179222104924, 'random_strength': 0.5980366858377993, 'border_count': 11, 'rsm': 0.4188347793093668}. Best is trial 55 with value: 72.65112909096902.\n"
     ]
    },
    {
     "name": "stdout",
     "output_type": "stream",
     "text": [
      "0:\tlearn: 183.9520782\ttotal: 21.6ms\tremaining: 1m 2s\n",
      "100:\tlearn: 119.3936512\ttotal: 1.28s\tremaining: 35.3s\n",
      "200:\tlearn: 98.8096863\ttotal: 2.33s\tremaining: 31.1s\n",
      "300:\tlearn: 91.7133482\ttotal: 3.53s\tremaining: 30.4s\n",
      "400:\tlearn: 88.5992617\ttotal: 4.57s\tremaining: 28.3s\n",
      "500:\tlearn: 86.9854174\ttotal: 5.71s\tremaining: 27.2s\n",
      "600:\tlearn: 85.7668948\ttotal: 6.73s\tremaining: 25.6s\n",
      "700:\tlearn: 84.7026376\ttotal: 7.56s\tremaining: 23.6s\n",
      "800:\tlearn: 83.8204587\ttotal: 8.62s\tremaining: 22.5s\n",
      "900:\tlearn: 83.0696464\ttotal: 9.93s\tremaining: 21.9s\n",
      "1000:\tlearn: 82.3421859\ttotal: 11s\tremaining: 20.7s\n",
      "1100:\tlearn: 81.6584197\ttotal: 12s\tremaining: 19.5s\n",
      "1200:\tlearn: 81.0025635\ttotal: 13s\tremaining: 18.3s\n",
      "1300:\tlearn: 80.4088596\ttotal: 13.8s\tremaining: 16.9s\n",
      "1400:\tlearn: 79.8587713\ttotal: 14.9s\tremaining: 15.8s\n",
      "1500:\tlearn: 79.3582385\ttotal: 16.1s\tremaining: 14.9s\n",
      "1600:\tlearn: 78.9243611\ttotal: 17.2s\tremaining: 13.8s\n",
      "1700:\tlearn: 78.5341213\ttotal: 18.3s\tremaining: 12.8s\n",
      "1800:\tlearn: 78.1719260\ttotal: 19.3s\tremaining: 11.7s\n",
      "1900:\tlearn: 77.8207521\ttotal: 20.6s\tremaining: 10.7s\n",
      "2000:\tlearn: 77.4555114\ttotal: 21.9s\tremaining: 9.73s\n",
      "2100:\tlearn: 77.1164781\ttotal: 23.1s\tremaining: 8.66s\n",
      "2200:\tlearn: 76.7910389\ttotal: 24s\tremaining: 7.5s\n",
      "2300:\tlearn: 76.4795525\ttotal: 25s\tremaining: 6.4s\n",
      "2400:\tlearn: 76.1926796\ttotal: 26s\tremaining: 5.29s\n",
      "2500:\tlearn: 75.9023433\ttotal: 27s\tremaining: 4.21s\n",
      "2600:\tlearn: 75.6195298\ttotal: 28.3s\tremaining: 3.14s\n",
      "2700:\tlearn: 75.3566022\ttotal: 29.8s\tremaining: 2.09s\n",
      "2800:\tlearn: 75.0963846\ttotal: 30.9s\tremaining: 981ms\n"
     ]
    },
    {
     "name": "stderr",
     "output_type": "stream",
     "text": [
      "[I 2023-11-07 09:01:05,158] Trial 62 finished with value: 76.25333636227334 and parameters: {'iterations': 2890, 'learning_rate': 0.008659054045666106, 'depth': 4, 'min_data_in_leaf': 38, 'l2_leaf_reg': 8, 'bagging_temperature': 0.7040674248660822, 'random_strength': 0.6315314493733485, 'border_count': 174, 'rsm': 0.4718477881692127}. Best is trial 55 with value: 72.65112909096902.\n"
     ]
    },
    {
     "name": "stdout",
     "output_type": "stream",
     "text": [
      "2889:\tlearn: 74.8727977\ttotal: 31.9s\tremaining: 0us\n",
      "0:\tlearn: 184.6437222\ttotal: 26ms\tremaining: 1m 6s\n",
      "100:\tlearn: 153.3237218\ttotal: 837ms\tremaining: 20.2s\n",
      "200:\tlearn: 132.1622336\ttotal: 1.57s\tremaining: 18.3s\n",
      "300:\tlearn: 118.3667375\ttotal: 2.34s\tremaining: 17.4s\n",
      "400:\tlearn: 109.3759087\ttotal: 3.15s\tremaining: 16.8s\n",
      "500:\tlearn: 103.4379564\ttotal: 4.22s\tremaining: 17.2s\n",
      "600:\tlearn: 99.5009543\ttotal: 4.93s\tremaining: 15.9s\n",
      "700:\tlearn: 96.7674127\ttotal: 5.74s\tremaining: 15.1s\n",
      "800:\tlearn: 94.7925787\ttotal: 6.72s\tremaining: 14.6s\n",
      "900:\tlearn: 93.3844178\ttotal: 7.47s\tremaining: 13.6s\n",
      "1000:\tlearn: 92.3021004\ttotal: 8.59s\tremaining: 13.2s\n",
      "1100:\tlearn: 91.4942364\ttotal: 9.35s\tremaining: 12.2s\n",
      "1200:\tlearn: 90.8165851\ttotal: 10s\tremaining: 11.2s\n",
      "1300:\tlearn: 90.2147353\ttotal: 10.9s\tremaining: 10.4s\n",
      "1400:\tlearn: 89.6885650\ttotal: 11.9s\tremaining: 9.68s\n",
      "1500:\tlearn: 89.1678531\ttotal: 12.7s\tremaining: 8.81s\n",
      "1600:\tlearn: 88.7080353\ttotal: 13.6s\tremaining: 8s\n",
      "1700:\tlearn: 88.2675655\ttotal: 14.5s\tremaining: 7.17s\n",
      "1800:\tlearn: 87.8845632\ttotal: 15.4s\tremaining: 6.33s\n",
      "1900:\tlearn: 87.5187086\ttotal: 16.5s\tremaining: 5.56s\n",
      "2000:\tlearn: 87.1891401\ttotal: 17.4s\tremaining: 4.7s\n",
      "2100:\tlearn: 86.8870148\ttotal: 18.3s\tremaining: 3.83s\n",
      "2200:\tlearn: 86.5883799\ttotal: 19.2s\tremaining: 2.97s\n",
      "2300:\tlearn: 86.2874121\ttotal: 20.3s\tremaining: 2.13s\n",
      "2400:\tlearn: 86.0427287\ttotal: 21.3s\tremaining: 1.25s\n",
      "2500:\tlearn: 85.7882507\ttotal: 22.2s\tremaining: 364ms\n"
     ]
    },
    {
     "name": "stderr",
     "output_type": "stream",
     "text": [
      "[I 2023-11-07 09:01:28,381] Trial 63 finished with value: 73.66611620229733 and parameters: {'iterations': 2542, 'learning_rate': 0.003242096949990895, 'depth': 3, 'min_data_in_leaf': 31, 'l2_leaf_reg': 8, 'bagging_temperature': 0.7367147339072483, 'random_strength': 0.570188888410794, 'border_count': 491, 'rsm': 0.36997159501014515}. Best is trial 55 with value: 72.65112909096902.\n"
     ]
    },
    {
     "name": "stdout",
     "output_type": "stream",
     "text": [
      "2541:\tlearn: 85.6841059\ttotal: 22.6s\tremaining: 0us\n",
      "0:\tlearn: 184.1661516\ttotal: 4.9ms\tremaining: 10.8s\n",
      "100:\tlearn: 128.5463389\ttotal: 1.24s\tremaining: 25.7s\n",
      "200:\tlearn: 105.4652317\ttotal: 2.21s\tremaining: 22s\n",
      "300:\tlearn: 95.8245875\ttotal: 3.37s\tremaining: 21.3s\n",
      "400:\tlearn: 91.3268220\ttotal: 4.4s\tremaining: 19.8s\n",
      "500:\tlearn: 88.9273515\ttotal: 5.47s\tremaining: 18.6s\n",
      "600:\tlearn: 87.4972498\ttotal: 6.54s\tremaining: 17.4s\n",
      "700:\tlearn: 86.4174363\ttotal: 7.66s\tremaining: 16.4s\n",
      "800:\tlearn: 85.5141243\ttotal: 8.73s\tremaining: 15.3s\n",
      "900:\tlearn: 84.7141253\ttotal: 9.95s\tremaining: 14.4s\n",
      "1000:\tlearn: 84.0125169\ttotal: 10.9s\tremaining: 13.1s\n",
      "1100:\tlearn: 83.3764918\ttotal: 11.8s\tremaining: 11.8s\n",
      "1200:\tlearn: 82.7976847\ttotal: 12.8s\tremaining: 10.7s\n",
      "1300:\tlearn: 82.2605792\ttotal: 13.9s\tremaining: 9.65s\n",
      "1400:\tlearn: 81.7821339\ttotal: 15s\tremaining: 8.61s\n",
      "1500:\tlearn: 81.2903722\ttotal: 15.8s\tremaining: 7.4s\n",
      "1600:\tlearn: 80.8380145\ttotal: 16.7s\tremaining: 6.28s\n",
      "1700:\tlearn: 80.3969377\ttotal: 17.8s\tremaining: 5.27s\n",
      "1800:\tlearn: 79.9498701\ttotal: 18.7s\tremaining: 4.18s\n",
      "1900:\tlearn: 79.5672141\ttotal: 19.5s\tremaining: 3.1s\n",
      "2000:\tlearn: 79.2101422\ttotal: 20.7s\tremaining: 2.09s\n",
      "2100:\tlearn: 78.8811245\ttotal: 21.7s\tremaining: 1.05s\n"
     ]
    },
    {
     "name": "stderr",
     "output_type": "stream",
     "text": [
      "[I 2023-11-07 09:01:52,087] Trial 64 finished with value: 74.8822376201979 and parameters: {'iterations': 2203, 'learning_rate': 0.006767906039466551, 'depth': 4, 'min_data_in_leaf': 41, 'l2_leaf_reg': 9, 'bagging_temperature': 0.6701277679539345, 'random_strength': 0.6789667696505584, 'border_count': 245, 'rsm': 0.39314295974710445}. Best is trial 55 with value: 72.65112909096902.\n"
     ]
    },
    {
     "name": "stdout",
     "output_type": "stream",
     "text": [
      "2200:\tlearn: 78.5747397\ttotal: 22.9s\tremaining: 20.8ms\n",
      "2202:\tlearn: 78.5681397\ttotal: 23s\tremaining: 0us\n",
      "0:\tlearn: 184.0545288\ttotal: 15.9ms\tremaining: 38.2s\n",
      "100:\tlearn: 122.7154805\ttotal: 1.39s\tremaining: 31.6s\n",
      "200:\tlearn: 100.2147201\ttotal: 2.58s\tremaining: 28.3s\n",
      "300:\tlearn: 91.6890910\ttotal: 3.99s\tremaining: 27.8s\n",
      "400:\tlearn: 87.8548823\ttotal: 5.03s\tremaining: 25.1s\n",
      "500:\tlearn: 85.8360569\ttotal: 6.2s\tremaining: 23.5s\n",
      "600:\tlearn: 84.4595623\ttotal: 7.31s\tremaining: 21.9s\n",
      "700:\tlearn: 83.3573138\ttotal: 8.32s\tremaining: 20.2s\n",
      "800:\tlearn: 82.4086033\ttotal: 9.78s\tremaining: 19.5s\n",
      "900:\tlearn: 81.5783759\ttotal: 11.1s\tremaining: 18.4s\n",
      "1000:\tlearn: 80.7890940\ttotal: 12.4s\tremaining: 17.4s\n",
      "1100:\tlearn: 80.0528221\ttotal: 13.8s\tremaining: 16.3s\n",
      "1200:\tlearn: 79.4063784\ttotal: 15s\tremaining: 15s\n",
      "1300:\tlearn: 78.8042510\ttotal: 16.4s\tremaining: 13.9s\n",
      "1400:\tlearn: 78.2522213\ttotal: 17.7s\tremaining: 12.6s\n",
      "1500:\tlearn: 77.6799679\ttotal: 19s\tremaining: 11.4s\n",
      "1600:\tlearn: 77.1828875\ttotal: 20.3s\tremaining: 10.1s\n",
      "1700:\tlearn: 76.7143310\ttotal: 21.7s\tremaining: 8.94s\n",
      "1800:\tlearn: 76.2998325\ttotal: 22.8s\tremaining: 7.6s\n",
      "1900:\tlearn: 75.8635026\ttotal: 24.1s\tremaining: 6.35s\n",
      "2000:\tlearn: 75.4630027\ttotal: 25.3s\tremaining: 5.05s\n",
      "2100:\tlearn: 75.0673460\ttotal: 26.4s\tremaining: 3.77s\n",
      "2200:\tlearn: 74.7001045\ttotal: 27.6s\tremaining: 2.51s\n",
      "2300:\tlearn: 74.3304061\ttotal: 28.5s\tremaining: 1.24s\n"
     ]
    },
    {
     "name": "stderr",
     "output_type": "stream",
     "text": [
      "[I 2023-11-07 09:02:22,556] Trial 65 finished with value: 77.42898357631779 and parameters: {'iterations': 2401, 'learning_rate': 0.007639369043519688, 'depth': 5, 'min_data_in_leaf': 65, 'l2_leaf_reg': 8, 'bagging_temperature': 0.7814474190280774, 'random_strength': 0.6530919111797417, 'border_count': 392, 'rsm': 0.2873341532171467}. Best is trial 55 with value: 72.65112909096902.\n"
     ]
    },
    {
     "name": "stdout",
     "output_type": "stream",
     "text": [
      "2400:\tlearn: 73.9805881\ttotal: 29.7s\tremaining: 0us\n",
      "0:\tlearn: 184.3720421\ttotal: 3.49ms\tremaining: 8.12s\n",
      "100:\tlearn: 136.5444667\ttotal: 996ms\tremaining: 21.9s\n",
      "200:\tlearn: 113.4127550\ttotal: 1.86s\tremaining: 19.7s\n",
      "300:\tlearn: 102.3458284\ttotal: 2.49s\tremaining: 16.7s\n",
      "400:\tlearn: 96.7473580\ttotal: 3.25s\tremaining: 15.6s\n",
      "500:\tlearn: 93.6799580\ttotal: 4.01s\tremaining: 14.6s\n",
      "600:\tlearn: 91.8244006\ttotal: 4.87s\tremaining: 14s\n",
      "700:\tlearn: 90.6372989\ttotal: 5.78s\tremaining: 13.4s\n",
      "800:\tlearn: 89.6780000\ttotal: 6.66s\tremaining: 12.7s\n",
      "900:\tlearn: 88.8555993\ttotal: 7.63s\tremaining: 12.1s\n",
      "1000:\tlearn: 88.1177575\ttotal: 8.51s\tremaining: 11.3s\n",
      "1100:\tlearn: 87.4945054\ttotal: 9.3s\tremaining: 10.3s\n",
      "1200:\tlearn: 86.9202462\ttotal: 10.3s\tremaining: 9.6s\n",
      "1300:\tlearn: 86.4160632\ttotal: 11.1s\tremaining: 8.77s\n",
      "1400:\tlearn: 85.9578502\ttotal: 11.9s\tremaining: 7.84s\n",
      "1500:\tlearn: 85.5417088\ttotal: 12.9s\tremaining: 7.11s\n",
      "1600:\tlearn: 85.1171920\ttotal: 14s\tremaining: 6.34s\n",
      "1700:\tlearn: 84.7396007\ttotal: 14.8s\tremaining: 5.44s\n",
      "1800:\tlearn: 84.3696342\ttotal: 15.9s\tremaining: 4.61s\n",
      "1900:\tlearn: 83.9949708\ttotal: 16.7s\tremaining: 3.72s\n",
      "2000:\tlearn: 83.6261218\ttotal: 17.4s\tremaining: 2.82s\n",
      "2100:\tlearn: 83.3020284\ttotal: 18.5s\tremaining: 1.97s\n",
      "2200:\tlearn: 82.9635473\ttotal: 19.4s\tremaining: 1.09s\n",
      "2300:\tlearn: 82.6436145\ttotal: 20.2s\tremaining: 211ms\n",
      "2324:\tlearn: 82.5771178\ttotal: 20.4s\tremaining: 0us\n"
     ]
    },
    {
     "name": "stderr",
     "output_type": "stream",
     "text": [
      "[I 2023-11-07 09:02:43,560] Trial 66 finished with value: 73.045899804661 and parameters: {'iterations': 2325, 'learning_rate': 0.005608617854730266, 'depth': 3, 'min_data_in_leaf': 44, 'l2_leaf_reg': 7, 'bagging_temperature': 0.8566457850835129, 'random_strength': 0.715739391820482, 'border_count': 105, 'rsm': 0.4874746474326596}. Best is trial 55 with value: 72.65112909096902.\n"
     ]
    },
    {
     "name": "stdout",
     "output_type": "stream",
     "text": [
      "0:\tlearn: 184.3896942\ttotal: 7.25ms\tremaining: 14.8s\n",
      "100:\tlearn: 135.8768299\ttotal: 838ms\tremaining: 16.1s\n",
      "200:\tlearn: 112.8044325\ttotal: 1.65s\tremaining: 15s\n",
      "300:\tlearn: 101.9895444\ttotal: 2.68s\tremaining: 15.5s\n",
      "400:\tlearn: 96.5607110\ttotal: 3.55s\tremaining: 14.5s\n",
      "500:\tlearn: 93.6570416\ttotal: 4.45s\tremaining: 13.6s\n",
      "600:\tlearn: 91.8754880\ttotal: 5.04s\tremaining: 12s\n",
      "700:\tlearn: 90.6853775\ttotal: 5.73s\tremaining: 10.9s\n",
      "800:\tlearn: 89.7385599\ttotal: 6.68s\tremaining: 10.3s\n",
      "900:\tlearn: 88.9435596\ttotal: 7.64s\tremaining: 9.63s\n",
      "1000:\tlearn: 88.2178147\ttotal: 8.3s\tremaining: 8.59s\n",
      "1100:\tlearn: 87.6386435\ttotal: 9.04s\tremaining: 7.68s\n",
      "1200:\tlearn: 87.0957256\ttotal: 10.1s\tremaining: 7.01s\n",
      "1300:\tlearn: 86.5965999\ttotal: 10.8s\tremaining: 6.11s\n",
      "1400:\tlearn: 86.1106667\ttotal: 11.4s\tremaining: 5.17s\n",
      "1500:\tlearn: 85.6669696\ttotal: 12s\tremaining: 4.3s\n",
      "1600:\tlearn: 85.2652499\ttotal: 12.9s\tremaining: 3.5s\n",
      "1700:\tlearn: 84.8972284\ttotal: 13.8s\tremaining: 2.73s\n",
      "1800:\tlearn: 84.5290047\ttotal: 14.5s\tremaining: 1.9s\n",
      "1900:\tlearn: 84.2059550\ttotal: 15.1s\tremaining: 1.08s\n",
      "2000:\tlearn: 83.8686617\ttotal: 15.8s\tremaining: 285ms\n"
     ]
    },
    {
     "name": "stderr",
     "output_type": "stream",
     "text": [
      "[I 2023-11-07 09:03:00,232] Trial 67 finished with value: 75.14566972502034 and parameters: {'iterations': 2037, 'learning_rate': 0.005718515300055342, 'depth': 3, 'min_data_in_leaf': 45, 'l2_leaf_reg': 8, 'bagging_temperature': 0.8530213572137474, 'random_strength': 0.7090516007321996, 'border_count': 34, 'rsm': 0.4860076413388309}. Best is trial 55 with value: 72.65112909096902.\n"
     ]
    },
    {
     "name": "stdout",
     "output_type": "stream",
     "text": [
      "2036:\tlearn: 83.7461810\ttotal: 16.1s\tremaining: 0us\n",
      "0:\tlearn: 184.4618858\ttotal: 26.4ms\tremaining: 37.1s\n",
      "100:\tlearn: 143.4436217\ttotal: 1.03s\tremaining: 13.2s\n",
      "200:\tlearn: 119.9866270\ttotal: 2.48s\tremaining: 14.9s\n",
      "300:\tlearn: 106.7299768\ttotal: 3.77s\tremaining: 13.8s\n",
      "400:\tlearn: 99.1539350\ttotal: 4.68s\tremaining: 11.7s\n",
      "500:\tlearn: 94.7349510\ttotal: 5.5s\tremaining: 9.91s\n",
      "600:\tlearn: 91.9843414\ttotal: 6.62s\tremaining: 8.85s\n",
      "700:\tlearn: 90.1674668\ttotal: 7.26s\tremaining: 7.28s\n",
      "800:\tlearn: 88.9030096\ttotal: 8.05s\tremaining: 6.06s\n",
      "900:\tlearn: 87.9885848\ttotal: 9.07s\tremaining: 5.07s\n",
      "1000:\tlearn: 87.2425092\ttotal: 9.91s\tremaining: 3.99s\n",
      "1100:\tlearn: 86.5777721\ttotal: 10.8s\tremaining: 2.97s\n",
      "1200:\tlearn: 85.9846925\ttotal: 11.7s\tremaining: 1.98s\n",
      "1300:\tlearn: 85.4159963\ttotal: 12.5s\tremaining: 990ms\n"
     ]
    },
    {
     "name": "stderr",
     "output_type": "stream",
     "text": [
      "[I 2023-11-07 09:03:14,300] Trial 68 finished with value: 74.51133835163802 and parameters: {'iterations': 1404, 'learning_rate': 0.004356764991389481, 'depth': 4, 'min_data_in_leaf': 51, 'l2_leaf_reg': 7, 'bagging_temperature': 0.9725533016171326, 'random_strength': 0.7239021900047888, 'border_count': 113, 'rsm': 0.3452539392793771}. Best is trial 55 with value: 72.65112909096902.\n"
     ]
    },
    {
     "name": "stdout",
     "output_type": "stream",
     "text": [
      "1400:\tlearn: 84.9162001\ttotal: 13.5s\tremaining: 28.9ms\n",
      "1403:\tlearn: 84.9032872\ttotal: 13.5s\tremaining: 0us\n",
      "0:\tlearn: 184.2435001\ttotal: 27.9ms\tremaining: 1m 14s\n",
      "100:\tlearn: 131.0263378\ttotal: 861ms\tremaining: 22s\n",
      "200:\tlearn: 108.4294823\ttotal: 1.84s\tremaining: 22.7s\n",
      "300:\tlearn: 98.8795737\ttotal: 2.98s\tremaining: 23.6s\n",
      "400:\tlearn: 94.4004516\ttotal: 3.65s\tremaining: 20.8s\n",
      "500:\tlearn: 92.0832279\ttotal: 4.84s\tremaining: 21.1s\n",
      "600:\tlearn: 90.6418417\ttotal: 5.68s\tremaining: 19.7s\n",
      "700:\tlearn: 89.5417836\ttotal: 6.75s\tremaining: 19.1s\n",
      "800:\tlearn: 88.5869649\ttotal: 7.57s\tremaining: 17.8s\n",
      "900:\tlearn: 87.7699414\ttotal: 8.57s\tremaining: 17s\n",
      "1000:\tlearn: 87.0647039\ttotal: 9.55s\tremaining: 16.1s\n",
      "1100:\tlearn: 86.5117493\ttotal: 10.4s\tremaining: 15s\n",
      "1200:\tlearn: 85.9530522\ttotal: 11.4s\tremaining: 14.1s\n",
      "1300:\tlearn: 85.5194498\ttotal: 12.2s\tremaining: 13s\n",
      "1400:\tlearn: 85.1116498\ttotal: 13.1s\tremaining: 12s\n",
      "1500:\tlearn: 84.7181936\ttotal: 14s\tremaining: 11s\n",
      "1600:\tlearn: 84.3215029\ttotal: 14.9s\tremaining: 10.1s\n",
      "1700:\tlearn: 83.9639224\ttotal: 15.8s\tremaining: 9.16s\n",
      "1800:\tlearn: 83.5972979\ttotal: 16.6s\tremaining: 8.14s\n",
      "1900:\tlearn: 83.2582608\ttotal: 17.4s\tremaining: 7.18s\n",
      "2000:\tlearn: 82.9323943\ttotal: 18.2s\tremaining: 6.22s\n",
      "2100:\tlearn: 82.6452404\ttotal: 19.2s\tremaining: 5.34s\n",
      "2200:\tlearn: 82.3558655\ttotal: 20.3s\tremaining: 4.47s\n",
      "2300:\tlearn: 82.1046287\ttotal: 21.1s\tremaining: 3.52s\n",
      "2400:\tlearn: 81.8675057\ttotal: 21.8s\tremaining: 2.58s\n",
      "2500:\tlearn: 81.6315469\ttotal: 22.7s\tremaining: 1.67s\n",
      "2600:\tlearn: 81.4018856\ttotal: 23.4s\tremaining: 756ms\n"
     ]
    },
    {
     "name": "stderr",
     "output_type": "stream",
     "text": [
      "[I 2023-11-07 09:03:39,404] Trial 69 finished with value: 73.39118096447069 and parameters: {'iterations': 2685, 'learning_rate': 0.006750799833518534, 'depth': 3, 'min_data_in_leaf': 77, 'l2_leaf_reg': 9, 'bagging_temperature': 0.9218772719328011, 'random_strength': 0.683912043855758, 'border_count': 942, 'rsm': 0.30913887063594114}. Best is trial 55 with value: 72.65112909096902.\n"
     ]
    },
    {
     "name": "stdout",
     "output_type": "stream",
     "text": [
      "2684:\tlearn: 81.2233588\ttotal: 24.3s\tremaining: 0us\n",
      "0:\tlearn: 184.3606291\ttotal: 5.75ms\tremaining: 8.83s\n",
      "100:\tlearn: 136.1094991\ttotal: 1.18s\tremaining: 16.8s\n",
      "200:\tlearn: 111.4264488\ttotal: 2.41s\tremaining: 16.1s\n",
      "300:\tlearn: 99.2203890\ttotal: 3.61s\tremaining: 14.8s\n",
      "400:\tlearn: 92.9799654\ttotal: 5.03s\tremaining: 14.3s\n",
      "500:\tlearn: 89.5795318\ttotal: 6.25s\tremaining: 12.9s\n",
      "600:\tlearn: 87.4405167\ttotal: 7.47s\tremaining: 11.7s\n",
      "700:\tlearn: 86.0015962\ttotal: 8.72s\tremaining: 10.4s\n",
      "800:\tlearn: 84.9611467\ttotal: 10.2s\tremaining: 9.37s\n",
      "900:\tlearn: 84.0941610\ttotal: 11.6s\tremaining: 8.22s\n",
      "1000:\tlearn: 83.3412215\ttotal: 12.7s\tremaining: 6.79s\n",
      "1100:\tlearn: 82.6477273\ttotal: 13.8s\tremaining: 5.47s\n",
      "1200:\tlearn: 82.0146796\ttotal: 15.3s\tremaining: 4.29s\n",
      "1300:\tlearn: 81.4300983\ttotal: 16.4s\tremaining: 2.99s\n",
      "1400:\tlearn: 80.8708729\ttotal: 17.6s\tremaining: 1.72s\n",
      "1500:\tlearn: 80.3536057\ttotal: 19.1s\tremaining: 470ms\n"
     ]
    },
    {
     "name": "stderr",
     "output_type": "stream",
     "text": [
      "[I 2023-11-07 09:03:59,703] Trial 70 finished with value: 74.82628472572358 and parameters: {'iterations': 1538, 'learning_rate': 0.005279658018033905, 'depth': 5, 'min_data_in_leaf': 47, 'l2_leaf_reg': 8, 'bagging_temperature': 0.8680920264193364, 'random_strength': 0.7691658746112295, 'border_count': 185, 'rsm': 0.4380650332662833}. Best is trial 55 with value: 72.65112909096902.\n"
     ]
    },
    {
     "name": "stdout",
     "output_type": "stream",
     "text": [
      "1537:\tlearn: 80.1554350\ttotal: 19.7s\tremaining: 0us\n",
      "0:\tlearn: 184.2568167\ttotal: 5.45ms\tremaining: 14.3s\n",
      "100:\tlearn: 131.1447804\ttotal: 1.09s\tremaining: 27.1s\n",
      "200:\tlearn: 108.7195887\ttotal: 2.08s\tremaining: 25.1s\n",
      "300:\tlearn: 99.3478574\ttotal: 3.37s\tremaining: 25.9s\n",
      "400:\tlearn: 94.9512046\ttotal: 4.31s\tremaining: 23.8s\n",
      "500:\tlearn: 92.5522032\ttotal: 5.32s\tremaining: 22.5s\n",
      "600:\tlearn: 90.9718501\ttotal: 6.03s\tremaining: 20.2s\n",
      "700:\tlearn: 89.7354603\ttotal: 6.92s\tremaining: 18.9s\n",
      "800:\tlearn: 88.7813448\ttotal: 7.81s\tremaining: 17.7s\n",
      "900:\tlearn: 87.9852393\ttotal: 8.82s\tremaining: 16.8s\n",
      "1000:\tlearn: 87.3210640\ttotal: 9.88s\tremaining: 16s\n",
      "1100:\tlearn: 86.7309960\ttotal: 10.7s\tremaining: 14.7s\n",
      "1200:\tlearn: 86.2007949\ttotal: 11.3s\tremaining: 13.3s\n",
      "1300:\tlearn: 85.7271259\ttotal: 12.1s\tremaining: 12.3s\n",
      "1400:\tlearn: 85.2997249\ttotal: 12.8s\tremaining: 11.1s\n",
      "1500:\tlearn: 84.9208406\ttotal: 13.7s\tremaining: 10.2s\n",
      "1600:\tlearn: 84.5446602\ttotal: 14.5s\tremaining: 9.19s\n",
      "1700:\tlearn: 84.1763570\ttotal: 15.2s\tremaining: 8.19s\n",
      "1800:\tlearn: 83.7967089\ttotal: 16s\tremaining: 7.26s\n",
      "1900:\tlearn: 83.4227504\ttotal: 17s\tremaining: 6.43s\n",
      "2000:\tlearn: 83.0870661\ttotal: 17.9s\tremaining: 5.52s\n",
      "2100:\tlearn: 82.8012541\ttotal: 18.9s\tremaining: 4.64s\n",
      "2200:\tlearn: 82.5219742\ttotal: 19.8s\tremaining: 3.74s\n",
      "2300:\tlearn: 82.2658293\ttotal: 20.6s\tremaining: 2.84s\n",
      "2400:\tlearn: 82.0248021\ttotal: 21.6s\tremaining: 1.95s\n",
      "2500:\tlearn: 81.8038662\ttotal: 22.3s\tremaining: 1.04s\n",
      "2600:\tlearn: 81.5661697\ttotal: 23.2s\tremaining: 152ms\n",
      "2617:\tlearn: 81.5254351\ttotal: 23.3s\tremaining: 0us\n"
     ]
    },
    {
     "name": "stderr",
     "output_type": "stream",
     "text": [
      "[I 2023-11-07 09:04:23,720] Trial 71 finished with value: 73.2982637294626 and parameters: {'iterations': 2618, 'learning_rate': 0.006843578389979736, 'depth': 3, 'min_data_in_leaf': 80, 'l2_leaf_reg': 9, 'bagging_temperature': 0.922328293109487, 'random_strength': 0.6905023927965334, 'border_count': 828, 'rsm': 0.2412742212588685}. Best is trial 55 with value: 72.65112909096902.\n"
     ]
    },
    {
     "name": "stdout",
     "output_type": "stream",
     "text": [
      "0:\tlearn: 184.0040530\ttotal: 24ms\tremaining: 59.4s\n",
      "100:\tlearn: 121.6051987\ttotal: 1.37s\tremaining: 32.3s\n",
      "200:\tlearn: 101.7687707\ttotal: 2.13s\tremaining: 24.1s\n",
      "300:\tlearn: 94.9217964\ttotal: 3.06s\tremaining: 22.2s\n",
      "400:\tlearn: 91.8310560\ttotal: 3.82s\tremaining: 19.8s\n",
      "500:\tlearn: 90.1211383\ttotal: 4.73s\tremaining: 18.7s\n",
      "600:\tlearn: 88.8447555\ttotal: 5.88s\tremaining: 18.4s\n",
      "700:\tlearn: 87.8057167\ttotal: 6.75s\tremaining: 17.1s\n",
      "800:\tlearn: 86.9668246\ttotal: 7.48s\tremaining: 15.7s\n",
      "900:\tlearn: 86.2217291\ttotal: 8.42s\tremaining: 14.8s\n",
      "1000:\tlearn: 85.5838209\ttotal: 9.15s\tremaining: 13.5s\n",
      "1100:\tlearn: 85.0392834\ttotal: 10.1s\tremaining: 12.6s\n",
      "1200:\tlearn: 84.5471929\ttotal: 10.8s\tremaining: 11.5s\n",
      "1300:\tlearn: 84.0586353\ttotal: 11.8s\tremaining: 10.7s\n",
      "1400:\tlearn: 83.6209585\ttotal: 12.6s\tremaining: 9.7s\n",
      "1500:\tlearn: 83.1482526\ttotal: 13.7s\tremaining: 8.9s\n",
      "1600:\tlearn: 82.7384455\ttotal: 14.6s\tremaining: 8.03s\n",
      "1700:\tlearn: 82.3812021\ttotal: 15.6s\tremaining: 7.14s\n",
      "1800:\tlearn: 82.0766510\ttotal: 16.3s\tremaining: 6.12s\n",
      "1900:\tlearn: 81.7551123\ttotal: 16.9s\tremaining: 5.15s\n",
      "2000:\tlearn: 81.4532542\ttotal: 17.9s\tremaining: 4.27s\n",
      "2100:\tlearn: 81.1748564\ttotal: 18.6s\tremaining: 3.34s\n",
      "2200:\tlearn: 80.9130442\ttotal: 19.6s\tremaining: 2.47s\n",
      "2300:\tlearn: 80.6805630\ttotal: 20.7s\tremaining: 1.6s\n",
      "2400:\tlearn: 80.4668693\ttotal: 21.6s\tremaining: 701ms\n"
     ]
    },
    {
     "name": "stderr",
     "output_type": "stream",
     "text": [
      "[I 2023-11-07 09:04:46,762] Trial 72 finished with value: 73.53816422716034 and parameters: {'iterations': 2479, 'learning_rate': 0.008866241017850121, 'depth': 3, 'min_data_in_leaf': 80, 'l2_leaf_reg': 9, 'bagging_temperature': 0.9468084419225937, 'random_strength': 0.7357857040691214, 'border_count': 851, 'rsm': 0.2588175087031444}. Best is trial 55 with value: 72.65112909096902.\n"
     ]
    },
    {
     "name": "stdout",
     "output_type": "stream",
     "text": [
      "2478:\tlearn: 80.3059798\ttotal: 22.2s\tremaining: 0us\n",
      "0:\tlearn: 184.2775463\ttotal: 9.16ms\tremaining: 24.2s\n",
      "100:\tlearn: 133.6993040\ttotal: 1.16s\tremaining: 29.2s\n",
      "200:\tlearn: 110.7206279\ttotal: 2.38s\tremaining: 28.9s\n",
      "300:\tlearn: 100.3467042\ttotal: 3.63s\tremaining: 28.2s\n",
      "400:\tlearn: 95.3730655\ttotal: 4.48s\tremaining: 25s\n",
      "500:\tlearn: 92.7707546\ttotal: 5.41s\tremaining: 23.1s\n",
      "600:\tlearn: 91.1625866\ttotal: 6.54s\tremaining: 22.2s\n",
      "700:\tlearn: 90.0569021\ttotal: 7.42s\tremaining: 20.6s\n",
      "800:\tlearn: 89.0880733\ttotal: 8.52s\tremaining: 19.6s\n",
      "900:\tlearn: 88.2416728\ttotal: 9.25s\tremaining: 17.9s\n",
      "1000:\tlearn: 87.5557725\ttotal: 10.4s\tremaining: 17s\n",
      "1100:\tlearn: 86.9574015\ttotal: 11.4s\tremaining: 16s\n",
      "1200:\tlearn: 86.4084237\ttotal: 12.4s\tremaining: 14.9s\n",
      "1300:\tlearn: 85.9235087\ttotal: 13.1s\tremaining: 13.5s\n",
      "1400:\tlearn: 85.4885103\ttotal: 13.6s\tremaining: 12.1s\n",
      "1500:\tlearn: 85.0738609\ttotal: 14.1s\tremaining: 10.7s\n",
      "1600:\tlearn: 84.6842741\ttotal: 14.7s\tremaining: 9.57s\n",
      "1700:\tlearn: 84.2969441\ttotal: 16s\tremaining: 8.89s\n",
      "1800:\tlearn: 83.9504326\ttotal: 17.3s\tremaining: 8.07s\n",
      "1900:\tlearn: 83.6044918\ttotal: 18.5s\tremaining: 7.24s\n",
      "2000:\tlearn: 83.2353042\ttotal: 19.5s\tremaining: 6.25s\n",
      "2100:\tlearn: 82.9104522\ttotal: 20.6s\tremaining: 5.3s\n",
      "2200:\tlearn: 82.6024080\ttotal: 21.6s\tremaining: 4.34s\n",
      "2300:\tlearn: 82.3435667\ttotal: 22.5s\tremaining: 3.34s\n",
      "2400:\tlearn: 82.0679781\ttotal: 23.3s\tremaining: 2.35s\n",
      "2500:\tlearn: 81.8326729\ttotal: 24.3s\tremaining: 1.38s\n",
      "2600:\tlearn: 81.6182804\ttotal: 25.3s\tremaining: 408ms\n"
     ]
    },
    {
     "name": "stderr",
     "output_type": "stream",
     "text": [
      "[I 2023-11-07 09:05:13,253] Trial 73 finished with value: 73.50172734628327 and parameters: {'iterations': 2643, 'learning_rate': 0.006135869931154714, 'depth': 3, 'min_data_in_leaf': 95, 'l2_leaf_reg': 9, 'bagging_temperature': 0.9119454990289532, 'random_strength': 0.7078511303533085, 'border_count': 889, 'rsm': 0.40635801817117456}. Best is trial 55 with value: 72.65112909096902.\n"
     ]
    },
    {
     "name": "stdout",
     "output_type": "stream",
     "text": [
      "2642:\tlearn: 81.5194811\ttotal: 25.8s\tremaining: 0us\n",
      "0:\tlearn: 184.1103365\ttotal: 6.21ms\tremaining: 16s\n",
      "100:\tlearn: 126.3833457\ttotal: 925ms\tremaining: 22.7s\n",
      "200:\tlearn: 103.8636474\ttotal: 1.88s\tremaining: 22.2s\n",
      "300:\tlearn: 95.0530335\ttotal: 3.01s\tremaining: 22.8s\n",
      "400:\tlearn: 90.9973430\ttotal: 3.73s\tremaining: 20.3s\n",
      "500:\tlearn: 88.8780471\ttotal: 4.78s\tremaining: 19.8s\n",
      "600:\tlearn: 87.4376073\ttotal: 5.87s\tremaining: 19.3s\n",
      "700:\tlearn: 86.3879861\ttotal: 7.13s\tremaining: 19.1s\n",
      "800:\tlearn: 85.4528472\ttotal: 7.95s\tremaining: 17.7s\n",
      "900:\tlearn: 84.6661074\ttotal: 8.86s\tremaining: 16.5s\n",
      "1000:\tlearn: 83.9486100\ttotal: 9.79s\tremaining: 15.4s\n",
      "1100:\tlearn: 83.3170161\ttotal: 10.9s\tremaining: 14.6s\n",
      "1200:\tlearn: 82.7414962\ttotal: 11.8s\tremaining: 13.5s\n",
      "1300:\tlearn: 82.2361006\ttotal: 13s\tremaining: 12.8s\n",
      "1400:\tlearn: 81.7947496\ttotal: 14.4s\tremaining: 12.1s\n",
      "1500:\tlearn: 81.3347501\ttotal: 15.3s\tremaining: 11s\n",
      "1600:\tlearn: 80.8894483\ttotal: 16.4s\tremaining: 10s\n",
      "1700:\tlearn: 80.4726014\ttotal: 17.2s\tremaining: 8.87s\n",
      "1800:\tlearn: 80.0549603\ttotal: 18.2s\tremaining: 7.87s\n",
      "1900:\tlearn: 79.6955063\ttotal: 19.3s\tremaining: 6.9s\n",
      "2000:\tlearn: 79.3698239\ttotal: 20.3s\tremaining: 5.88s\n",
      "2100:\tlearn: 79.0907674\ttotal: 21.1s\tremaining: 4.81s\n",
      "2200:\tlearn: 78.7836817\ttotal: 21.9s\tremaining: 3.78s\n",
      "2300:\tlearn: 78.5100250\ttotal: 22.8s\tremaining: 2.76s\n",
      "2400:\tlearn: 78.2294054\ttotal: 23.5s\tremaining: 1.75s\n",
      "2500:\tlearn: 77.9899958\ttotal: 24.7s\tremaining: 780ms\n"
     ]
    },
    {
     "name": "stderr",
     "output_type": "stream",
     "text": [
      "[I 2023-11-07 09:05:39,353] Trial 74 finished with value: 75.05416132598467 and parameters: {'iterations': 2580, 'learning_rate': 0.007375436228111824, 'depth': 4, 'min_data_in_leaf': 100, 'l2_leaf_reg': 10, 'bagging_temperature': 0.9595851213278467, 'random_strength': 0.6583886721529862, 'border_count': 604, 'rsm': 0.22859478783397108}. Best is trial 55 with value: 72.65112909096902.\n"
     ]
    },
    {
     "name": "stdout",
     "output_type": "stream",
     "text": [
      "2579:\tlearn: 77.7725059\ttotal: 25.4s\tremaining: 0us\n",
      "0:\tlearn: 184.5551315\ttotal: 16.2ms\tremaining: 46.9s\n",
      "100:\tlearn: 150.2270543\ttotal: 501ms\tremaining: 13.9s\n",
      "200:\tlearn: 129.8897164\ttotal: 1.07s\tremaining: 14.4s\n",
      "300:\tlearn: 117.3699329\ttotal: 1.61s\tremaining: 13.9s\n",
      "400:\tlearn: 109.7066689\ttotal: 2.2s\tremaining: 13.7s\n",
      "500:\tlearn: 105.0333390\ttotal: 2.96s\tremaining: 14.2s\n",
      "600:\tlearn: 102.1076692\ttotal: 3.53s\tremaining: 13.5s\n",
      "700:\tlearn: 100.2078750\ttotal: 4.2s\tremaining: 13.2s\n",
      "800:\tlearn: 98.9086063\ttotal: 4.79s\tremaining: 12.6s\n",
      "900:\tlearn: 97.9750360\ttotal: 5.41s\tremaining: 12s\n",
      "1000:\tlearn: 97.2679096\ttotal: 6.09s\tremaining: 11.6s\n",
      "1100:\tlearn: 96.7091295\ttotal: 6.84s\tremaining: 11.2s\n",
      "1200:\tlearn: 96.2575667\ttotal: 7.49s\tremaining: 10.6s\n",
      "1300:\tlearn: 95.8825922\ttotal: 8s\tremaining: 9.83s\n",
      "1400:\tlearn: 95.5697681\ttotal: 8.64s\tremaining: 9.25s\n",
      "1500:\tlearn: 95.2957318\ttotal: 9.19s\tremaining: 8.57s\n",
      "1600:\tlearn: 95.0622115\ttotal: 9.73s\tremaining: 7.9s\n",
      "1700:\tlearn: 94.8591762\ttotal: 10.3s\tremaining: 7.25s\n",
      "1800:\tlearn: 94.6806300\ttotal: 10.9s\tremaining: 6.67s\n",
      "1900:\tlearn: 94.5252066\ttotal: 11.4s\tremaining: 6.02s\n",
      "2000:\tlearn: 94.3843842\ttotal: 11.9s\tremaining: 5.37s\n",
      "2100:\tlearn: 94.2571118\ttotal: 12.6s\tremaining: 4.8s\n",
      "2200:\tlearn: 94.1393836\ttotal: 13.3s\tremaining: 4.23s\n",
      "2300:\tlearn: 94.0314708\ttotal: 13.9s\tremaining: 3.63s\n",
      "2400:\tlearn: 93.9313353\ttotal: 14.8s\tremaining: 3.07s\n",
      "2500:\tlearn: 93.8382361\ttotal: 15.4s\tremaining: 2.46s\n",
      "2600:\tlearn: 93.7511616\ttotal: 15.9s\tremaining: 1.83s\n",
      "2700:\tlearn: 93.6677533\ttotal: 16.6s\tremaining: 1.23s\n",
      "2800:\tlearn: 93.5882584\ttotal: 17.4s\tremaining: 620ms\n"
     ]
    },
    {
     "name": "stderr",
     "output_type": "stream",
     "text": [
      "[I 2023-11-07 09:05:58,017] Trial 75 finished with value: 80.11923548033064 and parameters: {'iterations': 2901, 'learning_rate': 0.0048927902924479775, 'depth': 1, 'min_data_in_leaf': 92, 'l2_leaf_reg': 5, 'bagging_temperature': 0.9876059203867549, 'random_strength': 0.6964036762726673, 'border_count': 800, 'rsm': 0.47164889731919657}. Best is trial 55 with value: 72.65112909096902.\n"
     ]
    },
    {
     "name": "stdout",
     "output_type": "stream",
     "text": [
      "2900:\tlearn: 93.5124749\ttotal: 17.9s\tremaining: 0us\n",
      "0:\tlearn: 184.2793942\ttotal: 34.1ms\tremaining: 44s\n",
      "100:\tlearn: 131.6675223\ttotal: 1.23s\tremaining: 14.5s\n",
      "200:\tlearn: 108.1257324\ttotal: 2.73s\tremaining: 14.8s\n",
      "300:\tlearn: 97.6321664\ttotal: 4.18s\tremaining: 13.8s\n",
      "400:\tlearn: 92.5889114\ttotal: 5.6s\tremaining: 12.4s\n",
      "500:\tlearn: 89.8582959\ttotal: 6.75s\tremaining: 10.7s\n",
      "600:\tlearn: 88.2441549\ttotal: 8.02s\tremaining: 9.22s\n",
      "700:\tlearn: 87.1156042\ttotal: 9.18s\tremaining: 7.74s\n",
      "800:\tlearn: 86.1637648\ttotal: 10.7s\tremaining: 6.55s\n",
      "900:\tlearn: 85.3545413\ttotal: 12s\tremaining: 5.21s\n",
      "1000:\tlearn: 84.6031008\ttotal: 13.1s\tremaining: 3.81s\n",
      "1100:\tlearn: 83.9644676\ttotal: 14.3s\tremaining: 2.48s\n",
      "1200:\tlearn: 83.3854529\ttotal: 15.5s\tremaining: 1.18s\n"
     ]
    },
    {
     "name": "stderr",
     "output_type": "stream",
     "text": [
      "[I 2023-11-07 09:06:15,292] Trial 76 finished with value: 73.9101303284999 and parameters: {'iterations': 1292, 'learning_rate': 0.006187066927763267, 'depth': 4, 'min_data_in_leaf': 54, 'l2_leaf_reg': 8, 'bagging_temperature': 0.9373458024840893, 'random_strength': 0.6242622941724754, 'border_count': 695, 'rsm': 0.3596207365168598}. Best is trial 55 with value: 72.65112909096902.\n"
     ]
    },
    {
     "name": "stdout",
     "output_type": "stream",
     "text": [
      "1291:\tlearn: 82.8997268\ttotal: 16.7s\tremaining: 0us\n",
      "0:\tlearn: 184.5321516\ttotal: 203ms\tremaining: 5m 26s\n",
      "100:\tlearn: 145.9623917\ttotal: 22.5s\tremaining: 5m 37s\n",
      "200:\tlearn: 121.0280853\ttotal: 44.5s\tremaining: 5m 12s\n",
      "300:\tlearn: 104.8338550\ttotal: 1m 6s\tremaining: 4m 50s\n",
      "400:\tlearn: 94.1564610\ttotal: 1m 28s\tremaining: 4m 27s\n",
      "500:\tlearn: 86.8096980\ttotal: 1m 50s\tremaining: 4m 5s\n",
      "600:\tlearn: 81.4830775\ttotal: 2m 12s\tremaining: 3m 43s\n",
      "700:\tlearn: 77.4798176\ttotal: 2m 34s\tremaining: 3m 20s\n",
      "800:\tlearn: 74.3014864\ttotal: 2m 56s\tremaining: 2m 58s\n",
      "900:\tlearn: 71.7242348\ttotal: 3m 17s\tremaining: 2m 36s\n",
      "1000:\tlearn: 69.5182414\ttotal: 3m 39s\tremaining: 2m 14s\n",
      "1100:\tlearn: 67.5759051\ttotal: 4m 2s\tremaining: 1m 53s\n",
      "1200:\tlearn: 65.8873251\ttotal: 4m 25s\tremaining: 1m 31s\n",
      "1300:\tlearn: 64.3208524\ttotal: 4m 46s\tremaining: 1m 9s\n",
      "1400:\tlearn: 62.9316635\ttotal: 5m 8s\tremaining: 46.9s\n",
      "1500:\tlearn: 61.5954516\ttotal: 5m 30s\tremaining: 24.9s\n",
      "1600:\tlearn: 60.4046117\ttotal: 5m 52s\tremaining: 2.86s\n",
      "1613:\tlearn: 60.2518531\ttotal: 5m 55s\tremaining: 0us\n"
     ]
    },
    {
     "name": "stderr",
     "output_type": "stream",
     "text": [
      "[I 2023-11-07 09:12:12,912] Trial 77 finished with value: 84.1957629912447 and parameters: {'iterations': 1614, 'learning_rate': 0.0038160849338202078, 'depth': 13, 'min_data_in_leaf': 88, 'l2_leaf_reg': 7, 'bagging_temperature': 0.9792767981057122, 'random_strength': 0.7385782281156279, 'border_count': 142, 'rsm': 0.4992042714256922}. Best is trial 55 with value: 72.65112909096902.\n"
     ]
    },
    {
     "name": "stdout",
     "output_type": "stream",
     "text": [
      "0:\tlearn: 183.5544393\ttotal: 3.02ms\tremaining: 6.87s\n",
      "100:\tlearn: 111.6508423\ttotal: 823ms\tremaining: 17.7s\n",
      "200:\tlearn: 96.1110316\ttotal: 1.69s\tremaining: 17.4s\n",
      "300:\tlearn: 91.6656101\ttotal: 2.81s\tremaining: 18.4s\n",
      "400:\tlearn: 89.5704192\ttotal: 3.55s\tremaining: 16.6s\n",
      "500:\tlearn: 88.0580494\ttotal: 4.24s\tremaining: 15s\n",
      "600:\tlearn: 86.8723236\ttotal: 5s\tremaining: 13.9s\n",
      "700:\tlearn: 85.8878262\ttotal: 5.79s\tremaining: 13s\n",
      "800:\tlearn: 85.0610827\ttotal: 6.61s\tremaining: 12.1s\n",
      "900:\tlearn: 84.2925952\ttotal: 7.3s\tremaining: 11.1s\n",
      "1000:\tlearn: 83.5000658\ttotal: 8.28s\tremaining: 10.5s\n",
      "1100:\tlearn: 82.8668697\ttotal: 8.98s\tremaining: 9.54s\n",
      "1200:\tlearn: 82.3215820\ttotal: 9.95s\tremaining: 8.85s\n",
      "1300:\tlearn: 81.8108189\ttotal: 10.7s\tremaining: 7.96s\n",
      "1400:\tlearn: 81.3853085\ttotal: 11.5s\tremaining: 7.16s\n",
      "1500:\tlearn: 81.0209125\ttotal: 12.5s\tremaining: 6.4s\n",
      "1600:\tlearn: 80.6507676\ttotal: 13.5s\tremaining: 5.64s\n",
      "1700:\tlearn: 80.2923107\ttotal: 14s\tremaining: 4.7s\n",
      "1800:\tlearn: 79.9663899\ttotal: 14.6s\tremaining: 3.8s\n",
      "1900:\tlearn: 79.6521690\ttotal: 15.2s\tremaining: 2.96s\n",
      "2000:\tlearn: 79.3672407\ttotal: 16s\tremaining: 2.14s\n",
      "2100:\tlearn: 79.0838780\ttotal: 16.6s\tremaining: 1.33s\n",
      "2200:\tlearn: 78.8118125\ttotal: 17.5s\tremaining: 549ms\n"
     ]
    },
    {
     "name": "stderr",
     "output_type": "stream",
     "text": [
      "[I 2023-11-07 09:12:31,436] Trial 78 finished with value: 74.3588153681617 and parameters: {'iterations': 2270, 'learning_rate': 0.012094035387133772, 'depth': 3, 'min_data_in_leaf': 32, 'l2_leaf_reg': 8, 'bagging_temperature': 0.9071854056711158, 'random_strength': 0.6733358153014276, 'border_count': 94, 'rsm': 0.33204814102977553}. Best is trial 55 with value: 72.65112909096902.\n"
     ]
    },
    {
     "name": "stdout",
     "output_type": "stream",
     "text": [
      "2269:\tlearn: 78.6354849\ttotal: 17.9s\tremaining: 0us\n",
      "0:\tlearn: 183.9126231\ttotal: 9.97ms\tremaining: 19.4s\n",
      "100:\tlearn: 114.8573902\ttotal: 1.82s\tremaining: 33.4s\n",
      "200:\tlearn: 92.0655821\ttotal: 3.97s\tremaining: 34.5s\n",
      "300:\tlearn: 84.0212566\ttotal: 5.98s\tremaining: 32.7s\n",
      "400:\tlearn: 80.1257096\ttotal: 8.51s\tremaining: 32.8s\n",
      "500:\tlearn: 77.6587195\ttotal: 10.9s\tremaining: 31.3s\n",
      "600:\tlearn: 75.7713953\ttotal: 12.5s\tremaining: 28s\n",
      "700:\tlearn: 74.0607471\ttotal: 14.3s\tremaining: 25.4s\n",
      "800:\tlearn: 72.5636609\ttotal: 16.1s\tremaining: 23.1s\n",
      "900:\tlearn: 71.1494403\ttotal: 17.8s\tremaining: 20.7s\n",
      "1000:\tlearn: 69.8575988\ttotal: 20.3s\tremaining: 19.2s\n",
      "1100:\tlearn: 68.7757568\ttotal: 22.4s\tremaining: 17.2s\n",
      "1200:\tlearn: 67.7119280\ttotal: 24.5s\tremaining: 15.2s\n",
      "1300:\tlearn: 66.6703414\ttotal: 26.6s\tremaining: 13.2s\n",
      "1400:\tlearn: 65.6692110\ttotal: 28.4s\tremaining: 11.1s\n",
      "1500:\tlearn: 64.6994132\ttotal: 30.6s\tremaining: 9.11s\n",
      "1600:\tlearn: 63.8019179\ttotal: 32.7s\tremaining: 7.07s\n",
      "1700:\tlearn: 62.9597480\ttotal: 35s\tremaining: 5.07s\n",
      "1800:\tlearn: 62.1671046\ttotal: 37.1s\tremaining: 3s\n",
      "1900:\tlearn: 61.3431949\ttotal: 38.8s\tremaining: 938ms\n"
     ]
    },
    {
     "name": "stderr",
     "output_type": "stream",
     "text": [
      "[I 2023-11-07 09:13:11,829] Trial 79 finished with value: 79.80094251291628 and parameters: {'iterations': 1947, 'learning_rate': 0.008640019826943353, 'depth': 8, 'min_data_in_leaf': 74, 'l2_leaf_reg': 4, 'bagging_temperature': 0.8963094685408294, 'random_strength': 0.6553407063339308, 'border_count': 47, 'rsm': 0.44220223381514345}. Best is trial 55 with value: 72.65112909096902.\n"
     ]
    },
    {
     "name": "stdout",
     "output_type": "stream",
     "text": [
      "1946:\tlearn: 60.9585103\ttotal: 39.7s\tremaining: 0us\n"
     ]
    }
   ],
   "source": [
    "#For location A\n",
    "def objective(trial, X_train, y_train):\n",
    "    params = {\n",
    "        \"iterations\": trial.suggest_int(\"iterations\", 300, 3000),\n",
    "        \"learning_rate\": trial.suggest_float(\"learning_rate\", 1e-3, 0.1, log=True),\n",
    "        \"depth\": trial.suggest_int(\"depth\", 1, 13),\n",
    "        \"min_data_in_leaf\": trial.suggest_int(\"min_data_in_leaf\", 1, 100),\n",
    "        \"l2_leaf_reg\": trial.suggest_int(\"l2_leaf_reg\", 2, 10),\n",
    "        \"bagging_temperature\": trial.suggest_float(\"bagging_temperature\", 0.3, 1.0),\n",
    "        \"random_strength\": trial.suggest_float(\"random_strength\", 0.3, 1.0),\n",
    "        \"border_count\": trial.suggest_int(\"border_count\", 1, 1000),\n",
    "        \"rsm\": trial.suggest_float(\"rsm\", 0.05, 1),\n",
    "    }\n",
    "\n",
    "    catboost_model_b = CatBoostRegressor(**params, verbose=100)\n",
    "    catboost_model_b.fit(train_pool_b)\n",
    "    pred_b = pd.DataFrame(catboost_model_b.predict(test_pool_b))\n",
    "    MAE_b = mean_absolute_error(y_test_b, pred_b)\n",
    "    return MAE_b\n",
    "\n",
    "study = optuna.create_study(direction='minimize')\n",
    "study.optimize(lambda trial: objective(trial, X_train, y_train), n_trials=80)"
   ]
  },
  {
   "cell_type": "code",
   "execution_count": 9,
   "metadata": {},
   "outputs": [
    {
     "name": "stdout",
     "output_type": "stream",
     "text": [
      "{'iterations': 1480, 'learning_rate': 0.004154859937303772, 'depth': 1, 'colsample_bylevel': 0.8980589862889544, 'min_data_in_leaf': 11, 'l2_leaf_reg': 7, 'has-time': True, 'bagging_temperature': 0.8588447919947089, 'random_strength': 0.5000970078140154, 'border_count': 358, 'rsm': 0.31318686704086646, 'nan_mode': 'min'}\n",
      "82.32735192987839\n"
     ]
    }
   ],
   "source": [
    "#to output the best paramaters\n",
    "print(study.best_params)\n",
    "\n",
    "#to output the best score returned from the trials\n",
    "print(study.best_value)\n",
    "\n",
    "with open(\"optuna-best-parameters_b.txt\", \"w\") as file:\n",
    "    file.write(\"Best paramaters: \\n\")\n",
    "    file.write(json.dumps(study.best_params))  # Write the first string followed by a newline character\n",
    "    file.write(\"\\n\")\n",
    "    file.write(\"best score MAE: \\n\")\n",
    "    file.write(json.dumps(study.best_value))  # Write the second string followed by a newline character"
   ]
  },
  {
   "cell_type": "code",
   "execution_count": null,
   "metadata": {},
   "outputs": [],
   "source": []
  }
 ],
 "metadata": {
  "environment": {
   "kernel": "python3",
   "name": "common-cpu.m112",
   "type": "gcloud",
   "uri": "gcr.io/deeplearning-platform-release/base-cpu:m112"
  },
  "kernelspec": {
   "display_name": "Python 3",
   "language": "python",
   "name": "python3"
  },
  "language_info": {
   "codemirror_mode": {
    "name": "ipython",
    "version": 3
   },
   "file_extension": ".py",
   "mimetype": "text/x-python",
   "name": "python",
   "nbconvert_exporter": "python",
   "pygments_lexer": "ipython3",
   "version": "3.10.12"
  }
 },
 "nbformat": 4,
 "nbformat_minor": 4
}
