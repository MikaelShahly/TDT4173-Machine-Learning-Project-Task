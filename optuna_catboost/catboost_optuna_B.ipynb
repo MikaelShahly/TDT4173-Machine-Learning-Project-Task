{
 "cells": [
  {
   "cell_type": "code",
   "execution_count": 1,
   "metadata": {},
   "outputs": [],
   "source": [
    "import pandas as pd\n",
    "import numpy as np\n",
    "from catboost import Pool, CatBoostRegressor\n",
    "from sklearn.model_selection import cross_val_score\n",
    "from sklearn.model_selection import TimeSeriesSplit \n",
    "import optuna \n",
    "import json\n",
    "from sklearn.metrics import mean_absolute_error"
   ]
  },
  {
   "cell_type": "code",
   "execution_count": 2,
   "metadata": {},
   "outputs": [],
   "source": [
    "#Load inn datasets\n",
    "X_test  = pd.read_parquet('../data/prepared_datasets/only_y_cleaned/X_test.parquet')\n",
    "X_train = pd.read_parquet('../data/prepared_datasets/only_y_cleaned/X_train.parquet')\n",
    "y_train = pd.read_parquet('../data/prepared_datasets/only_y_cleaned/Y_train.parquet')\n",
    "y_train_a = pd.read_parquet('../data/prepared_datasets/only_y_cleaned/Y_train_a.parquet')\n",
    "y_train_b = pd.read_parquet('../data/prepared_datasets/only_y_cleaned/Y_train_b.parquet')\n",
    "y_train_c = pd.read_parquet('../data/prepared_datasets/only_y_cleaned/Y_train_c.parquet')"
   ]
  },
  {
   "cell_type": "code",
   "execution_count": 3,
   "metadata": {},
   "outputs": [],
   "source": [
    "def splitting_def(df):\n",
    "    date_range_1 = (df.index >= '2020-05-01') & (df.index <= '2020-06-25')\n",
    "    date_range_2 = (df.index >= '2023-05-01') & (df.index <= '2023-06-15')\n",
    "\n",
    "    # Combine the date ranges to create the test set\n",
    "    test_set = df[date_range_1 | date_range_2]\n",
    "\n",
    "    # The rest of the data will be your training set\n",
    "    training_set = df[~(date_range_1 | date_range_2)]\n",
    "    \n",
    "    # Splitting the test_set into X_test and y_test\n",
    "    X_test = test_set.drop(\"pv_measurement\", axis=1)\n",
    "    y_test = test_set['pv_measurement']  # Assuming 'pv_measurement' is your target variable\n",
    "\n",
    "    # Splitting the training_set into X_train and y_train\n",
    "    X_train = training_set.drop(\"pv_measurement\", axis=1)\n",
    "    y_train = training_set['pv_measurement']\n",
    "    \n",
    "    return X_train, X_test, y_train, y_test\n",
    "\n",
    "X_train_new_b, X_test_new_b, y_train_new_b, y_test_b = splitting_def(pd.concat([X_train[X_train[\"location\"] == \"B\"].drop(\"location\", axis=1), y_train_b], axis=1))"
   ]
  },
  {
   "cell_type": "code",
   "execution_count": 4,
   "metadata": {},
   "outputs": [],
   "source": [
    "#Create a pool of data\n",
    "train_pool_b = Pool(X_train_new_b, y_train_new_b)\n",
    "\n",
    "test_pool_b = Pool(X_test_new_b) "
   ]
  },
  {
   "cell_type": "code",
   "execution_count": 6,
   "metadata": {},
   "outputs": [
    {
     "name": "stderr",
     "output_type": "stream",
     "text": [
      "[I 2023-11-06 20:06:55,061] A new study created in memory with name: no-name-61cd20d6-8e5f-4c1d-9c96-75f60a58776d\n"
     ]
    },
    {
     "name": "stdout",
     "output_type": "stream",
     "text": [
      "0:\tlearn: 181.7833532\ttotal: 20.2ms\tremaining: 27.7s\n",
      "100:\tlearn: 86.6260792\ttotal: 1.33s\tremaining: 16.8s\n",
      "200:\tlearn: 80.2806198\ttotal: 2.65s\tremaining: 15.4s\n",
      "300:\tlearn: 77.4019209\ttotal: 3.97s\tremaining: 14.1s\n",
      "400:\tlearn: 75.1395839\ttotal: 5.29s\tremaining: 12.8s\n",
      "500:\tlearn: 73.3085371\ttotal: 6.67s\tremaining: 11.6s\n",
      "600:\tlearn: 71.6058550\ttotal: 8.25s\tremaining: 10.6s\n",
      "700:\tlearn: 70.0338949\ttotal: 9.92s\tremaining: 9.51s\n",
      "800:\tlearn: 68.6558287\ttotal: 12.3s\tremaining: 8.75s\n",
      "900:\tlearn: 67.3792694\ttotal: 14.9s\tremaining: 7.79s\n",
      "1000:\tlearn: 66.1118030\ttotal: 17.6s\tremaining: 6.52s\n",
      "1100:\tlearn: 65.0415381\ttotal: 20.1s\tremaining: 4.96s\n",
      "1200:\tlearn: 64.0522875\ttotal: 22.7s\tremaining: 3.24s\n",
      "1300:\tlearn: 63.0120884\ttotal: 25.5s\tremaining: 1.41s\n"
     ]
    },
    {
     "name": "stderr",
     "output_type": "stream",
     "text": [
      "[I 2023-11-06 20:07:22,804] Trial 0 finished with value: 81.71095025797248 and parameters: {'iterations': 1373, 'learning_rate': 0.029662339445065907, 'depth': 6, 'min_data_in_leaf': 33, 'l2_leaf_reg': 3, 'has-time': True, 'bagging_temperature': 0.7771074112218899, 'random_strength': 0.3972311167911148, 'border_count': 980, 'rsm': 0.10510525024422139, 'nan_mode': 'Max'}. Best is trial 0 with value: 81.71095025797248.\n"
     ]
    },
    {
     "name": "stdout",
     "output_type": "stream",
     "text": [
      "1372:\tlearn: 62.3817487\ttotal: 27.4s\tremaining: 0us\n",
      "0:\tlearn: 184.0788143\ttotal: 10ms\tremaining: 16.5s\n",
      "100:\tlearn: 125.7080104\ttotal: 651ms\tremaining: 9.96s\n",
      "200:\tlearn: 105.5223418\ttotal: 1.28s\tremaining: 9.24s\n",
      "300:\tlearn: 98.4883823\ttotal: 1.97s\tremaining: 8.81s\n",
      "400:\tlearn: 95.2729027\ttotal: 2.67s\tremaining: 8.31s\n",
      "500:\tlearn: 93.4794487\ttotal: 3.33s\tremaining: 7.61s\n",
      "600:\tlearn: 92.1111818\ttotal: 4.14s\tremaining: 7.2s\n",
      "700:\tlearn: 91.0976001\ttotal: 4.87s\tremaining: 6.57s\n",
      "800:\tlearn: 90.2491929\ttotal: 5.65s\tremaining: 5.96s\n",
      "900:\tlearn: 89.5150722\ttotal: 6.31s\tremaining: 5.22s\n",
      "1000:\tlearn: 88.9180836\ttotal: 6.85s\tremaining: 4.42s\n",
      "1100:\tlearn: 88.3892664\ttotal: 7.55s\tremaining: 3.74s\n",
      "1200:\tlearn: 87.8900579\ttotal: 8.19s\tremaining: 3.04s\n",
      "1300:\tlearn: 87.4543673\ttotal: 8.77s\tremaining: 2.33s\n",
      "1400:\tlearn: 87.0270368\ttotal: 9.38s\tremaining: 1.65s\n",
      "1500:\tlearn: 86.6168730\ttotal: 10.1s\tremaining: 983ms\n",
      "1600:\tlearn: 86.2294817\ttotal: 10.7s\tremaining: 308ms\n"
     ]
    },
    {
     "name": "stderr",
     "output_type": "stream",
     "text": [
      "[I 2023-11-06 20:07:34,248] Trial 1 finished with value: 73.41767324211861 and parameters: {'iterations': 1647, 'learning_rate': 0.008285667949530987, 'depth': 2, 'min_data_in_leaf': 7, 'l2_leaf_reg': 6, 'has-time': True, 'bagging_temperature': 0.638344903820208, 'random_strength': 0.9388444992830671, 'border_count': 434, 'rsm': 0.8347735297026142, 'nan_mode': 'Max'}. Best is trial 1 with value: 73.41767324211861.\n"
     ]
    },
    {
     "name": "stdout",
     "output_type": "stream",
     "text": [
      "1646:\tlearn: 86.0507968\ttotal: 11.1s\tremaining: 0us\n",
      "0:\tlearn: 184.7497477\ttotal: 79.3ms\tremaining: 1m 47s\n",
      "100:\tlearn: 161.1116722\ttotal: 7.57s\tremaining: 1m 33s\n",
      "200:\tlearn: 142.4606025\ttotal: 14.5s\tremaining: 1m 22s\n",
      "300:\tlearn: 127.7378281\ttotal: 21.2s\tremaining: 1m 14s\n",
      "400:\tlearn: 116.1833742\ttotal: 28.4s\tremaining: 1m 7s\n",
      "500:\tlearn: 107.1700413\ttotal: 36.6s\tremaining: 1m 2s\n",
      "600:\tlearn: 100.1565984\ttotal: 44.3s\tremaining: 55.5s\n",
      "700:\tlearn: 94.6990766\ttotal: 51.9s\tremaining: 48.4s\n",
      "800:\tlearn: 90.4172572\ttotal: 59.5s\tremaining: 41.1s\n",
      "900:\tlearn: 87.0284700\ttotal: 1m 7s\tremaining: 34s\n",
      "1000:\tlearn: 84.3367265\ttotal: 1m 15s\tremaining: 26.5s\n",
      "1100:\tlearn: 82.1501289\ttotal: 1m 23s\tremaining: 19.1s\n",
      "1200:\tlearn: 80.3255410\ttotal: 1m 31s\tremaining: 11.7s\n",
      "1300:\tlearn: 78.7856261\ttotal: 1m 38s\tremaining: 4.02s\n",
      "1353:\tlearn: 78.0495881\ttotal: 1m 42s\tremaining: 0us\n"
     ]
    },
    {
     "name": "stderr",
     "output_type": "stream",
     "text": [
      "[I 2023-11-06 20:09:17,458] Trial 2 finished with value: 86.88685727359677 and parameters: {'iterations': 1354, 'learning_rate': 0.0020424536751797655, 'depth': 10, 'min_data_in_leaf': 16, 'l2_leaf_reg': 6, 'has-time': False, 'bagging_temperature': 0.4712551675268402, 'random_strength': 0.3500897465455331, 'border_count': 257, 'rsm': 0.8184078736540891, 'nan_mode': 'Max'}. Best is trial 1 with value: 73.41767324211861.\n"
     ]
    },
    {
     "name": "stdout",
     "output_type": "stream",
     "text": [
      "0:\tlearn: 183.6238390\ttotal: 3.11ms\tremaining: 1.77s\n",
      "100:\tlearn: 112.8866020\ttotal: 641ms\tremaining: 2.97s\n",
      "200:\tlearn: 98.4578968\ttotal: 1.25s\tremaining: 2.3s\n",
      "300:\tlearn: 94.1285793\ttotal: 1.9s\tremaining: 1.69s\n",
      "400:\tlearn: 91.9424289\ttotal: 2.63s\tremaining: 1.1s\n",
      "500:\tlearn: 90.3465097\ttotal: 3.15s\tremaining: 427ms\n"
     ]
    },
    {
     "name": "stderr",
     "output_type": "stream",
     "text": [
      "[I 2023-11-06 20:09:21,278] Trial 3 finished with value: 75.05555352521888 and parameters: {'iterations': 569, 'learning_rate': 0.012172359048150113, 'depth': 2, 'min_data_in_leaf': 53, 'l2_leaf_reg': 2, 'has-time': False, 'bagging_temperature': 0.844258210947175, 'random_strength': 0.43392872933685966, 'border_count': 208, 'rsm': 0.8484315205764612, 'nan_mode': 'Max'}. Best is trial 1 with value: 73.41767324211861.\n"
     ]
    },
    {
     "name": "stdout",
     "output_type": "stream",
     "text": [
      "568:\tlearn: 89.4824447\ttotal: 3.64s\tremaining: 0us\n",
      "0:\tlearn: 184.3270604\ttotal: 3.89ms\tremaining: 3.72s\n",
      "100:\tlearn: 136.4343016\ttotal: 577ms\tremaining: 4.88s\n",
      "200:\tlearn: 113.9445744\ttotal: 1.14s\tremaining: 4.29s\n",
      "300:\tlearn: 103.8333509\ttotal: 1.84s\tremaining: 4s\n",
      "400:\tlearn: 99.0452643\ttotal: 2.5s\tremaining: 3.47s\n",
      "500:\tlearn: 96.4176038\ttotal: 3.15s\tremaining: 2.86s\n",
      "600:\tlearn: 94.7625337\ttotal: 3.74s\tremaining: 2.21s\n",
      "700:\tlearn: 93.5451322\ttotal: 4.36s\tremaining: 1.58s\n",
      "800:\tlearn: 92.4901752\ttotal: 5.01s\tremaining: 969ms\n",
      "900:\tlearn: 91.6332237\ttotal: 5.62s\tremaining: 343ms\n"
     ]
    },
    {
     "name": "stderr",
     "output_type": "stream",
     "text": [
      "[I 2023-11-06 20:09:27,512] Trial 4 finished with value: 78.14978341165882 and parameters: {'iterations': 956, 'learning_rate': 0.006157661460448757, 'depth': 2, 'min_data_in_leaf': 54, 'l2_leaf_reg': 4, 'has-time': False, 'bagging_temperature': 0.9482350893100415, 'random_strength': 0.36154186172254243, 'border_count': 642, 'rsm': 0.46224075567821094, 'nan_mode': 'Min'}. Best is trial 1 with value: 73.41767324211861.\n"
     ]
    },
    {
     "name": "stdout",
     "output_type": "stream",
     "text": [
      "955:\tlearn: 91.2177859\ttotal: 6.01s\tremaining: 0us\n",
      "0:\tlearn: 183.0468962\ttotal: 82.2ms\tremaining: 3m 57s\n",
      "100:\tlearn: 94.4233831\ttotal: 11.8s\tremaining: 5m 25s\n",
      "200:\tlearn: 79.6217917\ttotal: 23.3s\tremaining: 5m 12s\n",
      "300:\tlearn: 74.7302289\ttotal: 35.5s\tremaining: 5m 5s\n",
      "400:\tlearn: 71.7392550\ttotal: 49s\tremaining: 5m 4s\n",
      "500:\tlearn: 69.4162084\ttotal: 1m 1s\tremaining: 4m 55s\n",
      "600:\tlearn: 67.4690274\ttotal: 1m 15s\tremaining: 4m 45s\n",
      "700:\tlearn: 65.7346337\ttotal: 1m 27s\tremaining: 4m 34s\n",
      "800:\tlearn: 64.2487800\ttotal: 1m 41s\tremaining: 4m 24s\n",
      "900:\tlearn: 62.8353599\ttotal: 1m 54s\tremaining: 4m 13s\n",
      "1000:\tlearn: 61.5946436\ttotal: 2m 7s\tremaining: 4m 1s\n",
      "1100:\tlearn: 60.5347972\ttotal: 2m 20s\tremaining: 3m 48s\n",
      "1200:\tlearn: 59.5684931\ttotal: 2m 33s\tremaining: 3m 35s\n",
      "1300:\tlearn: 58.6460256\ttotal: 2m 46s\tremaining: 3m 23s\n",
      "1400:\tlearn: 57.5260724\ttotal: 2m 58s\tremaining: 3m 10s\n",
      "1500:\tlearn: 56.4466924\ttotal: 3m 11s\tremaining: 2m 57s\n",
      "1600:\tlearn: 55.3606995\ttotal: 3m 24s\tremaining: 2m 44s\n",
      "1700:\tlearn: 54.3273828\ttotal: 3m 38s\tremaining: 2m 32s\n",
      "1800:\tlearn: 53.3779112\ttotal: 3m 50s\tremaining: 2m 19s\n",
      "1900:\tlearn: 52.4802625\ttotal: 4m 1s\tremaining: 2m 5s\n",
      "2000:\tlearn: 51.7485729\ttotal: 4m 15s\tremaining: 1m 53s\n",
      "2100:\tlearn: 51.0479396\ttotal: 4m 28s\tremaining: 1m 40s\n",
      "2200:\tlearn: 50.3586537\ttotal: 4m 43s\tremaining: 1m 28s\n",
      "2300:\tlearn: 49.5954514\ttotal: 4m 57s\tremaining: 1m 16s\n",
      "2400:\tlearn: 48.8524052\ttotal: 5m 11s\tremaining: 1m 3s\n",
      "2500:\tlearn: 48.1979635\ttotal: 5m 25s\tremaining: 50.6s\n",
      "2600:\tlearn: 47.6660781\ttotal: 5m 40s\tremaining: 37.8s\n",
      "2700:\tlearn: 47.0117159\ttotal: 5m 53s\tremaining: 24.7s\n",
      "2800:\tlearn: 46.4007549\ttotal: 6m 6s\tremaining: 11.6s\n",
      "2889:\tlearn: 45.8301032\ttotal: 6m 18s\tremaining: 0us\n"
     ]
    },
    {
     "name": "stderr",
     "output_type": "stream",
     "text": [
      "[I 2023-11-06 20:15:46,688] Trial 5 finished with value: 82.27002809789093 and parameters: {'iterations': 2890, 'learning_rate': 0.015286141470737964, 'depth': 9, 'min_data_in_leaf': 2, 'l2_leaf_reg': 9, 'has-time': True, 'bagging_temperature': 0.6907520186638438, 'random_strength': 0.7775321629697136, 'border_count': 689, 'rsm': 0.8797904854853872, 'nan_mode': 'Max'}. Best is trial 1 with value: 73.41767324211861.\n"
     ]
    },
    {
     "name": "stdout",
     "output_type": "stream",
     "text": [
      "0:\tlearn: 184.1021866\ttotal: 69.3ms\tremaining: 3m 8s\n",
      "100:\tlearn: 122.9647224\ttotal: 11.5s\tremaining: 4m 58s\n",
      "200:\tlearn: 96.9322337\ttotal: 23.1s\tremaining: 4m 48s\n",
      "300:\tlearn: 85.8305724\ttotal: 34.4s\tremaining: 4m 35s\n",
      "400:\tlearn: 80.4572194\ttotal: 45.1s\tremaining: 4m 20s\n",
      "500:\tlearn: 77.3249860\ttotal: 55.6s\tremaining: 4m 5s\n",
      "600:\tlearn: 75.1162730\ttotal: 1m 6s\tremaining: 3m 53s\n",
      "700:\tlearn: 73.4856587\ttotal: 1m 17s\tremaining: 3m 43s\n",
      "800:\tlearn: 72.1216960\ttotal: 1m 29s\tremaining: 3m 32s\n",
      "900:\tlearn: 70.8791053\ttotal: 1m 40s\tremaining: 3m 22s\n",
      "1000:\tlearn: 69.7661350\ttotal: 1m 52s\tremaining: 3m 12s\n",
      "1100:\tlearn: 68.7696616\ttotal: 2m 4s\tremaining: 3m 2s\n",
      "1200:\tlearn: 67.8436553\ttotal: 2m 16s\tremaining: 2m 51s\n",
      "1300:\tlearn: 66.9507064\ttotal: 2m 28s\tremaining: 2m 41s\n",
      "1400:\tlearn: 66.1495249\ttotal: 2m 40s\tremaining: 2m 30s\n",
      "1500:\tlearn: 65.3269933\ttotal: 2m 52s\tremaining: 2m 19s\n",
      "1600:\tlearn: 64.5647809\ttotal: 3m 4s\tremaining: 2m 8s\n",
      "1700:\tlearn: 63.8523147\ttotal: 3m 16s\tremaining: 1m 57s\n",
      "1800:\tlearn: 63.1708106\ttotal: 3m 28s\tremaining: 1m 46s\n",
      "1900:\tlearn: 62.5457365\ttotal: 3m 40s\tremaining: 1m 34s\n",
      "2000:\tlearn: 61.9134975\ttotal: 3m 51s\tremaining: 1m 22s\n",
      "2100:\tlearn: 61.3131241\ttotal: 4m 2s\tremaining: 1m 10s\n",
      "2200:\tlearn: 60.7863250\ttotal: 4m 14s\tremaining: 59.4s\n",
      "2300:\tlearn: 60.2530047\ttotal: 4m 26s\tremaining: 47.9s\n",
      "2400:\tlearn: 59.7816590\ttotal: 4m 37s\tremaining: 36.3s\n",
      "2500:\tlearn: 59.2618650\ttotal: 4m 49s\tremaining: 24.7s\n",
      "2600:\tlearn: 58.8291897\ttotal: 5m\tremaining: 13.2s\n",
      "2700:\tlearn: 58.3332934\ttotal: 5m 12s\tremaining: 1.62s\n",
      "2714:\tlearn: 58.2714010\ttotal: 5m 13s\tremaining: 0us\n"
     ]
    },
    {
     "name": "stderr",
     "output_type": "stream",
     "text": [
      "[I 2023-11-06 20:21:01,474] Trial 6 finished with value: 81.3717611345536 and parameters: {'iterations': 2715, 'learning_rate': 0.007038420720975972, 'depth': 9, 'min_data_in_leaf': 53, 'l2_leaf_reg': 9, 'has-time': False, 'bagging_temperature': 0.4312971082655922, 'random_strength': 0.3868219283936098, 'border_count': 577, 'rsm': 0.41298439090864963, 'nan_mode': 'Max'}. Best is trial 1 with value: 73.41767324211861.\n"
     ]
    },
    {
     "name": "stdout",
     "output_type": "stream",
     "text": [
      "0:\tlearn: 183.2529049\ttotal: 55.9ms\tremaining: 1m 32s\n",
      "100:\tlearn: 98.3705451\ttotal: 10.6s\tremaining: 2m 43s\n",
      "200:\tlearn: 83.0207316\ttotal: 20.2s\tremaining: 2m 26s\n",
      "300:\tlearn: 78.2127893\ttotal: 29.1s\tremaining: 2m 11s\n",
      "400:\tlearn: 75.5134420\ttotal: 38.5s\tremaining: 2m\n",
      "500:\tlearn: 73.2909560\ttotal: 47.8s\tremaining: 1m 50s\n",
      "600:\tlearn: 71.5094809\ttotal: 57.2s\tremaining: 1m 40s\n",
      "700:\tlearn: 70.0221684\ttotal: 1m 7s\tremaining: 1m 32s\n",
      "800:\tlearn: 68.7912502\ttotal: 1m 16s\tremaining: 1m 22s\n",
      "900:\tlearn: 67.6697928\ttotal: 1m 25s\tremaining: 1m 12s\n",
      "1000:\tlearn: 66.5327945\ttotal: 1m 35s\tremaining: 1m 2s\n",
      "1100:\tlearn: 65.5595944\ttotal: 1m 44s\tremaining: 53.2s\n",
      "1200:\tlearn: 64.6194189\ttotal: 1m 54s\tremaining: 43.8s\n",
      "1300:\tlearn: 63.6845340\ttotal: 2m 4s\tremaining: 34.5s\n",
      "1400:\tlearn: 62.7354465\ttotal: 2m 13s\tremaining: 24.9s\n",
      "1500:\tlearn: 61.9120596\ttotal: 2m 23s\tremaining: 15.3s\n",
      "1600:\tlearn: 61.1899002\ttotal: 2m 33s\tremaining: 5.75s\n",
      "1660:\tlearn: 60.6713556\ttotal: 2m 39s\tremaining: 0us\n"
     ]
    },
    {
     "name": "stderr",
     "output_type": "stream",
     "text": [
      "[I 2023-11-06 20:23:41,864] Trial 7 finished with value: 80.37064489720821 and parameters: {'iterations': 1661, 'learning_rate': 0.01387024695011751, 'depth': 8, 'min_data_in_leaf': 73, 'l2_leaf_reg': 9, 'has-time': False, 'bagging_temperature': 0.6563183200163313, 'random_strength': 0.46911601520755386, 'border_count': 735, 'rsm': 0.6110932031334046, 'nan_mode': 'Min'}. Best is trial 1 with value: 73.41767324211861.\n"
     ]
    },
    {
     "name": "stdout",
     "output_type": "stream",
     "text": [
      "0:\tlearn: 184.7583630\ttotal: 91.4ms\tremaining: 1m 48s\n",
      "100:\tlearn: 162.7028940\ttotal: 5.67s\tremaining: 1m 1s\n",
      "200:\tlearn: 145.1168520\ttotal: 11.3s\tremaining: 55.6s\n",
      "300:\tlearn: 131.2901315\ttotal: 17.1s\tremaining: 50.7s\n",
      "400:\tlearn: 120.4606349\ttotal: 23.9s\tremaining: 47.2s\n",
      "500:\tlearn: 112.0468797\ttotal: 29.9s\tremaining: 41.2s\n",
      "600:\tlearn: 105.5519750\ttotal: 35.4s\tremaining: 34.8s\n",
      "700:\tlearn: 100.4841092\ttotal: 40.6s\tremaining: 28.5s\n",
      "800:\tlearn: 96.5896970\ttotal: 46.2s\tremaining: 22.6s\n",
      "900:\tlearn: 93.5225119\ttotal: 51.8s\tremaining: 16.7s\n",
      "1000:\tlearn: 91.1218659\ttotal: 58.6s\tremaining: 11.2s\n",
      "1100:\tlearn: 89.1984325\ttotal: 1m 5s\tremaining: 5.4s\n"
     ]
    },
    {
     "name": "stderr",
     "output_type": "stream",
     "text": [
      "[I 2023-11-06 20:24:53,643] Trial 8 finished with value: 88.53148479505234 and parameters: {'iterations': 1192, 'learning_rate': 0.001932740997040307, 'depth': 7, 'min_data_in_leaf': 22, 'l2_leaf_reg': 6, 'has-time': False, 'bagging_temperature': 0.533491025636576, 'random_strength': 0.4616921933605949, 'border_count': 857, 'rsm': 0.28124955621753994, 'nan_mode': 'Min'}. Best is trial 1 with value: 73.41767324211861.\n"
     ]
    },
    {
     "name": "stdout",
     "output_type": "stream",
     "text": [
      "1191:\tlearn: 87.7572371\ttotal: 1m 11s\tremaining: 0us\n",
      "0:\tlearn: 184.8025725\ttotal: 105ms\tremaining: 3m 47s\n",
      "100:\tlearn: 165.9949499\ttotal: 5.28s\tremaining: 1m 48s\n",
      "200:\tlearn: 150.3850210\ttotal: 11.7s\tremaining: 1m 54s\n",
      "300:\tlearn: 137.4577030\ttotal: 17.6s\tremaining: 1m 49s\n",
      "400:\tlearn: 126.8423249\ttotal: 22.7s\tremaining: 1m 40s\n",
      "500:\tlearn: 118.1052788\ttotal: 27.8s\tremaining: 1m 32s\n",
      "600:\tlearn: 110.9595192\ttotal: 33.3s\tremaining: 1m 26s\n",
      "700:\tlearn: 105.0993960\ttotal: 38.5s\tremaining: 1m 20s\n",
      "800:\tlearn: 100.2638254\ttotal: 44.1s\tremaining: 1m 15s\n",
      "900:\tlearn: 96.2961668\ttotal: 49.7s\tremaining: 1m 9s\n",
      "1000:\tlearn: 93.0048868\ttotal: 55.2s\tremaining: 1m 4s\n",
      "1100:\tlearn: 90.2690793\ttotal: 1m\tremaining: 58.4s\n",
      "1200:\tlearn: 87.9888527\ttotal: 1m 5s\tremaining: 52.7s\n",
      "1300:\tlearn: 86.0568645\ttotal: 1m 11s\tremaining: 47.4s\n",
      "1400:\tlearn: 84.3895956\ttotal: 1m 16s\tremaining: 42s\n",
      "1500:\tlearn: 82.9653914\ttotal: 1m 21s\tremaining: 36.4s\n",
      "1600:\tlearn: 81.7304261\ttotal: 1m 27s\tremaining: 31s\n",
      "1700:\tlearn: 80.6380205\ttotal: 1m 32s\tremaining: 25.4s\n",
      "1800:\tlearn: 79.6669775\ttotal: 1m 37s\tremaining: 19.9s\n",
      "1900:\tlearn: 78.7964911\ttotal: 1m 43s\tremaining: 14.4s\n",
      "2000:\tlearn: 78.0180000\ttotal: 1m 48s\tremaining: 9.03s\n",
      "2100:\tlearn: 77.2976661\ttotal: 1m 53s\tremaining: 3.58s\n",
      "2166:\tlearn: 76.8417332\ttotal: 1m 57s\tremaining: 0us\n"
     ]
    },
    {
     "name": "stderr",
     "output_type": "stream",
     "text": [
      "[I 2023-11-06 20:26:51,963] Trial 9 finished with value: 83.56686890386604 and parameters: {'iterations': 2167, 'learning_rate': 0.0016310634098263435, 'depth': 10, 'min_data_in_leaf': 26, 'l2_leaf_reg': 9, 'has-time': True, 'bagging_temperature': 0.5031250231505253, 'random_strength': 0.3389738774319497, 'border_count': 180, 'rsm': 0.2728853473731762, 'nan_mode': 'Min'}. Best is trial 1 with value: 73.41767324211861.\n"
     ]
    },
    {
     "name": "stdout",
     "output_type": "stream",
     "text": [
      "0:\tlearn: 179.7213490\ttotal: 631ms\tremaining: 19m 45s\n",
      "100:\tlearn: 65.8875240\ttotal: 1m 5s\tremaining: 19m 17s\n",
      "200:\tlearn: 53.0531379\ttotal: 2m 9s\tremaining: 17m 58s\n",
      "300:\tlearn: 45.7244470\ttotal: 3m 6s\tremaining: 16m 17s\n",
      "400:\tlearn: 39.9494588\ttotal: 4m 2s\tremaining: 14m 55s\n",
      "500:\tlearn: 35.1936718\ttotal: 5m\tremaining: 13m 48s\n",
      "600:\tlearn: 31.6703928\ttotal: 5m 59s\tremaining: 12m 45s\n",
      "700:\tlearn: 28.2940604\ttotal: 6m 50s\tremaining: 11m 31s\n",
      "800:\tlearn: 25.7331843\ttotal: 7m 50s\tremaining: 10m 35s\n",
      "900:\tlearn: 23.5114153\ttotal: 8m 53s\tremaining: 9m 39s\n",
      "1000:\tlearn: 21.7137412\ttotal: 9m 55s\tremaining: 8m 43s\n",
      "1100:\tlearn: 20.1175268\ttotal: 10m 57s\tremaining: 7m 45s\n",
      "1200:\tlearn: 18.7565636\ttotal: 11m 55s\tremaining: 6m 45s\n",
      "1300:\tlearn: 17.6599996\ttotal: 12m 54s\tremaining: 5m 45s\n",
      "1400:\tlearn: 16.5876987\ttotal: 13m 53s\tremaining: 4m 45s\n",
      "1500:\tlearn: 15.6463736\ttotal: 14m 53s\tremaining: 3m 46s\n",
      "1600:\tlearn: 14.6804978\ttotal: 15m 52s\tremaining: 2m 46s\n",
      "1700:\tlearn: 13.7924900\ttotal: 16m 51s\tremaining: 1m 47s\n",
      "1800:\tlearn: 12.9986423\ttotal: 17m 49s\tremaining: 47.5s\n",
      "1880:\tlearn: 12.4477502\ttotal: 18m 35s\tremaining: 0us\n"
     ]
    },
    {
     "name": "stderr",
     "output_type": "stream",
     "text": [
      "[I 2023-11-06 20:45:30,594] Trial 10 finished with value: 85.2483686344616 and parameters: {'iterations': 1881, 'learning_rate': 0.04332856746274406, 'depth': 13, 'min_data_in_leaf': 97, 'l2_leaf_reg': 7, 'has-time': True, 'bagging_temperature': 0.3154976339714943, 'random_strength': 0.9953933074864322, 'border_count': 397, 'rsm': 0.9921403102091794, 'nan_mode': 'Max'}. Best is trial 1 with value: 73.41767324211861.\n"
     ]
    },
    {
     "name": "stdout",
     "output_type": "stream",
     "text": [
      "0:\tlearn: 177.6246549\ttotal: 29.8ms\tremaining: 12.1s\n",
      "100:\tlearn: 94.9907893\ttotal: 735ms\tremaining: 2.22s\n",
      "200:\tlearn: 93.4420414\ttotal: 1.42s\tremaining: 1.44s\n",
      "300:\tlearn: 92.6663032\ttotal: 1.88s\tremaining: 655ms\n"
     ]
    },
    {
     "name": "stderr",
     "output_type": "stream",
     "text": [
      "[I 2023-11-06 20:45:33,463] Trial 11 finished with value: 78.69672240580289 and parameters: {'iterations': 406, 'learning_rate': 0.08107771324551369, 'depth': 1, 'min_data_in_leaf': 72, 'l2_leaf_reg': 3, 'has-time': True, 'bagging_temperature': 0.8532891518631353, 'random_strength': 0.634609837221371, 'border_count': 75, 'rsm': 0.7010147415766881, 'nan_mode': 'Max'}. Best is trial 1 with value: 73.41767324211861.\n"
     ]
    },
    {
     "name": "stdout",
     "output_type": "stream",
     "text": [
      "400:\tlearn: 92.1427190\ttotal: 2.5s\tremaining: 31.1ms\n",
      "405:\tlearn: 92.1216053\ttotal: 2.53s\tremaining: 0us\n",
      "0:\tlearn: 184.4630914\ttotal: 43ms\tremaining: 16.6s\n",
      "100:\tlearn: 141.6840126\ttotal: 1.5s\tremaining: 4.25s\n",
      "200:\tlearn: 117.6823997\ttotal: 3.04s\tremaining: 2.83s\n",
      "300:\tlearn: 104.4959815\ttotal: 4.45s\tremaining: 1.29s\n"
     ]
    },
    {
     "name": "stderr",
     "output_type": "stream",
     "text": [
      "[I 2023-11-06 20:45:39,557] Trial 12 finished with value: 100.28889061746781 and parameters: {'iterations': 388, 'learning_rate': 0.004513753760109053, 'depth': 4, 'min_data_in_leaf': 38, 'l2_leaf_reg': 2, 'has-time': True, 'bagging_temperature': 0.9834410613887097, 'random_strength': 0.9893624656809872, 'border_count': 420, 'rsm': 0.7461702253841986, 'nan_mode': 'Max'}. Best is trial 1 with value: 73.41767324211861.\n"
     ]
    },
    {
     "name": "stdout",
     "output_type": "stream",
     "text": [
      "387:\tlearn: 97.9511770\ttotal: 5.75s\tremaining: 0us\n",
      "0:\tlearn: 183.5906230\ttotal: 5.05ms\tremaining: 4s\n",
      "100:\tlearn: 109.3869298\ttotal: 995ms\tremaining: 6.82s\n",
      "200:\tlearn: 92.4543280\ttotal: 2.17s\tremaining: 6.38s\n",
      "300:\tlearn: 87.3836413\ttotal: 3.63s\tremaining: 5.94s\n",
      "400:\tlearn: 85.2187398\ttotal: 4.93s\tremaining: 4.82s\n",
      "500:\tlearn: 83.6674635\ttotal: 6.12s\tremaining: 3.57s\n",
      "600:\tlearn: 82.3917150\ttotal: 7.46s\tremaining: 2.38s\n",
      "700:\tlearn: 81.3769939\ttotal: 8.55s\tremaining: 1.12s\n"
     ]
    },
    {
     "name": "stderr",
     "output_type": "stream",
     "text": [
      "[I 2023-11-06 20:45:49,562] Trial 13 finished with value: 75.4982829482469 and parameters: {'iterations': 793, 'learning_rate': 0.011306763344616711, 'depth': 4, 'min_data_in_leaf': 70, 'l2_leaf_reg': 5, 'has-time': False, 'bagging_temperature': 0.7696855013011249, 'random_strength': 0.6037129254597163, 'border_count': 308, 'rsm': 0.9962469824018008, 'nan_mode': 'Max'}. Best is trial 1 with value: 73.41767324211861.\n"
     ]
    },
    {
     "name": "stdout",
     "output_type": "stream",
     "text": [
      "792:\tlearn: 80.6001500\ttotal: 9.64s\tremaining: 0us\n",
      "0:\tlearn: 184.5109776\ttotal: 15.4ms\tremaining: 34.9s\n",
      "100:\tlearn: 146.3234778\ttotal: 814ms\tremaining: 17.4s\n",
      "200:\tlearn: 123.6569370\ttotal: 1.65s\tremaining: 16.9s\n",
      "300:\tlearn: 110.4889125\ttotal: 2.68s\tremaining: 17.5s\n",
      "400:\tlearn: 102.7008897\ttotal: 3.48s\tremaining: 16.2s\n",
      "500:\tlearn: 98.0156261\ttotal: 4.44s\tremaining: 15.6s\n",
      "600:\tlearn: 95.0279533\ttotal: 5.32s\tremaining: 14.7s\n",
      "700:\tlearn: 93.0031984\ttotal: 6.13s\tremaining: 13.7s\n",
      "800:\tlearn: 91.5889397\ttotal: 7.12s\tremaining: 13s\n",
      "900:\tlearn: 90.5631171\ttotal: 8.13s\tremaining: 12.3s\n",
      "1000:\tlearn: 89.7343545\ttotal: 9.24s\tremaining: 11.7s\n",
      "1100:\tlearn: 89.0805801\ttotal: 10.3s\tremaining: 10.9s\n",
      "1200:\tlearn: 88.5209399\ttotal: 11.2s\tremaining: 9.95s\n",
      "1300:\tlearn: 87.9670730\ttotal: 12.2s\tremaining: 9.08s\n",
      "1400:\tlearn: 87.5120548\ttotal: 13.7s\tremaining: 8.45s\n",
      "1500:\tlearn: 87.0607131\ttotal: 14.8s\tremaining: 7.53s\n",
      "1600:\tlearn: 86.6320107\ttotal: 15.5s\tremaining: 6.45s\n",
      "1700:\tlearn: 86.2629107\ttotal: 16.6s\tremaining: 5.52s\n",
      "1800:\tlearn: 85.9286659\ttotal: 17.6s\tremaining: 4.54s\n",
      "1900:\tlearn: 85.5886590\ttotal: 18.4s\tremaining: 3.53s\n",
      "2000:\tlearn: 85.2740475\ttotal: 19.2s\tremaining: 2.55s\n",
      "2100:\tlearn: 84.9903770\ttotal: 20.1s\tremaining: 1.58s\n",
      "2200:\tlearn: 84.6975044\ttotal: 21s\tremaining: 620ms\n"
     ]
    },
    {
     "name": "stderr",
     "output_type": "stream",
     "text": [
      "[I 2023-11-06 20:46:11,643] Trial 14 finished with value: 76.08924472724782 and parameters: {'iterations': 2266, 'learning_rate': 0.004105465928885308, 'depth': 3, 'min_data_in_leaf': 2, 'l2_leaf_reg': 7, 'has-time': False, 'bagging_temperature': 0.5865889985920101, 'random_strength': 0.8789782876625172, 'border_count': 25, 'rsm': 0.6293259023498757, 'nan_mode': 'Max'}. Best is trial 1 with value: 73.41767324211861.\n"
     ]
    },
    {
     "name": "stdout",
     "output_type": "stream",
     "text": [
      "2265:\tlearn: 84.5124111\ttotal: 21.6s\tremaining: 0us\n",
      "0:\tlearn: 183.5569010\ttotal: 5.12ms\tremaining: 3.97s\n",
      "100:\tlearn: 115.0630113\ttotal: 538ms\tremaining: 3.6s\n",
      "200:\tlearn: 100.8568865\ttotal: 1.28s\tremaining: 3.67s\n",
      "300:\tlearn: 97.1397470\ttotal: 1.84s\tremaining: 2.91s\n",
      "400:\tlearn: 95.6313215\ttotal: 2.48s\tremaining: 2.32s\n",
      "500:\tlearn: 94.7620743\ttotal: 3.05s\tremaining: 1.68s\n",
      "600:\tlearn: 94.2177704\ttotal: 3.82s\tremaining: 1.12s\n",
      "700:\tlearn: 93.8343498\ttotal: 4.4s\tremaining: 477ms\n"
     ]
    },
    {
     "name": "stderr",
     "output_type": "stream",
     "text": [
      "[I 2023-11-06 20:46:17,059] Trial 15 finished with value: 79.74061032880749 and parameters: {'iterations': 777, 'learning_rate': 0.015493302911259735, 'depth': 1, 'min_data_in_leaf': 44, 'l2_leaf_reg': 2, 'has-time': True, 'bagging_temperature': 0.8656111569001059, 'random_strength': 0.7360892743215013, 'border_count': 467, 'rsm': 0.8157433250955252, 'nan_mode': 'Max'}. Best is trial 1 with value: 73.41767324211861.\n"
     ]
    },
    {
     "name": "stdout",
     "output_type": "stream",
     "text": [
      "776:\tlearn: 93.5999600\ttotal: 5.03s\tremaining: 0us\n",
      "0:\tlearn: 183.9209603\ttotal: 22ms\tremaining: 54.4s\n",
      "100:\tlearn: 117.5459034\ttotal: 1.17s\tremaining: 27.5s\n",
      "200:\tlearn: 95.8660890\ttotal: 2.83s\tremaining: 32s\n",
      "300:\tlearn: 88.3250527\ttotal: 4.61s\tremaining: 33.3s\n",
      "400:\tlearn: 84.9705428\ttotal: 6.11s\tremaining: 31.5s\n",
      "500:\tlearn: 83.0762722\ttotal: 7.76s\tremaining: 30.5s\n",
      "600:\tlearn: 81.7537458\ttotal: 9.11s\tremaining: 28.4s\n",
      "700:\tlearn: 80.6127688\ttotal: 10.5s\tremaining: 26.4s\n",
      "800:\tlearn: 79.6577671\ttotal: 12.2s\tremaining: 25.4s\n",
      "900:\tlearn: 78.8057891\ttotal: 13.8s\tremaining: 24.1s\n",
      "1000:\tlearn: 78.0351575\ttotal: 15.3s\tremaining: 22.5s\n",
      "1100:\tlearn: 77.3525675\ttotal: 17.1s\tremaining: 21.3s\n",
      "1200:\tlearn: 76.7031045\ttotal: 18.5s\tremaining: 19.6s\n",
      "1300:\tlearn: 76.1203283\ttotal: 20.2s\tremaining: 18.2s\n",
      "1400:\tlearn: 75.5604574\ttotal: 21.5s\tremaining: 16.4s\n",
      "1500:\tlearn: 75.0315921\ttotal: 23s\tremaining: 14.9s\n",
      "1600:\tlearn: 74.5636660\ttotal: 24.8s\tremaining: 13.5s\n",
      "1700:\tlearn: 74.0599404\ttotal: 26.4s\tremaining: 11.9s\n",
      "1800:\tlearn: 73.5907318\ttotal: 27.9s\tremaining: 10.4s\n",
      "1900:\tlearn: 73.1404182\ttotal: 29.4s\tremaining: 8.84s\n",
      "2000:\tlearn: 72.7047980\ttotal: 30.9s\tremaining: 7.27s\n",
      "2100:\tlearn: 72.3007901\ttotal: 32.4s\tremaining: 5.73s\n",
      "2200:\tlearn: 71.9010417\ttotal: 33.9s\tremaining: 4.17s\n",
      "2300:\tlearn: 71.5377489\ttotal: 35.4s\tremaining: 2.63s\n",
      "2400:\tlearn: 71.1521304\ttotal: 36.9s\tremaining: 1.09s\n",
      "2471:\tlearn: 70.9053139\ttotal: 38s\tremaining: 0us\n"
     ]
    },
    {
     "name": "stderr",
     "output_type": "stream",
     "text": [
      "[I 2023-11-06 20:46:55,923] Trial 16 finished with value: 78.91726150818714 and parameters: {'iterations': 2472, 'learning_rate': 0.008477872562537733, 'depth': 5, 'min_data_in_leaf': 61, 'l2_leaf_reg': 4, 'has-time': True, 'bagging_temperature': 0.7246767452995708, 'random_strength': 0.5631336099421054, 'border_count': 206, 'rsm': 0.8780895914031032, 'nan_mode': 'Max'}. Best is trial 1 with value: 73.41767324211861.\n"
     ]
    },
    {
     "name": "stdout",
     "output_type": "stream",
     "text": [
      "0:\tlearn: 184.8867603\ttotal: 5.29ms\tremaining: 9.88s\n",
      "100:\tlearn: 173.4129427\ttotal: 1.05s\tremaining: 18.4s\n",
      "200:\tlearn: 163.2604958\ttotal: 2.29s\tremaining: 19s\n",
      "300:\tlearn: 154.2751285\ttotal: 3.03s\tremaining: 15.7s\n",
      "400:\tlearn: 146.3554074\ttotal: 4.13s\tremaining: 15.1s\n",
      "500:\tlearn: 139.3819121\ttotal: 5.48s\tremaining: 14.9s\n",
      "600:\tlearn: 133.2735406\ttotal: 6.52s\tremaining: 13.7s\n",
      "700:\tlearn: 127.9617130\ttotal: 7.77s\tremaining: 12.9s\n",
      "800:\tlearn: 123.3381185\ttotal: 9.21s\tremaining: 12.2s\n",
      "900:\tlearn: 119.2976258\ttotal: 10.2s\tremaining: 10.9s\n",
      "1000:\tlearn: 115.7769341\ttotal: 11.2s\tremaining: 9.65s\n",
      "1100:\tlearn: 112.7015661\ttotal: 12.4s\tremaining: 8.59s\n",
      "1200:\tlearn: 110.0171140\ttotal: 13.3s\tremaining: 7.39s\n",
      "1300:\tlearn: 107.6626999\ttotal: 14.7s\tremaining: 6.37s\n",
      "1400:\tlearn: 105.5839081\ttotal: 15.7s\tremaining: 5.23s\n",
      "1500:\tlearn: 103.7793645\ttotal: 16.6s\tremaining: 4.03s\n",
      "1600:\tlearn: 102.1983250\ttotal: 17.7s\tremaining: 2.93s\n",
      "1700:\tlearn: 100.8080800\ttotal: 18.4s\tremaining: 1.79s\n",
      "1800:\tlearn: 99.5846346\ttotal: 19.6s\tremaining: 707ms\n"
     ]
    },
    {
     "name": "stderr",
     "output_type": "stream",
     "text": [
      "[I 2023-11-06 20:47:16,767] Trial 17 finished with value: 99.38100755722502 and parameters: {'iterations': 1866, 'learning_rate': 0.001028040065903963, 'depth': 3, 'min_data_in_leaf': 92, 'l2_leaf_reg': 7, 'has-time': False, 'bagging_temperature': 0.6322971421255099, 'random_strength': 0.5170703619969952, 'border_count': 349, 'rsm': 0.5721045870129394, 'nan_mode': 'Max'}. Best is trial 1 with value: 73.41767324211861.\n"
     ]
    },
    {
     "name": "stdout",
     "output_type": "stream",
     "text": [
      "1865:\tlearn: 98.8603539\ttotal: 20.3s\tremaining: 0us\n",
      "0:\tlearn: 182.6982092\ttotal: 18.3ms\tremaining: 11.2s\n",
      "100:\tlearn: 101.3049583\ttotal: 646ms\tremaining: 3.27s\n",
      "200:\tlearn: 94.0788838\ttotal: 1.58s\tremaining: 3.23s\n",
      "300:\tlearn: 90.9918023\ttotal: 2.64s\tremaining: 2.74s\n",
      "400:\tlearn: 89.2956951\ttotal: 3.37s\tremaining: 1.78s\n",
      "500:\tlearn: 88.1884358\ttotal: 4.22s\tremaining: 943ms\n"
     ]
    },
    {
     "name": "stderr",
     "output_type": "stream",
     "text": [
      "[I 2023-11-06 20:47:22,213] Trial 18 finished with value: 73.53940803465053 and parameters: {'iterations': 613, 'learning_rate': 0.02062125256843369, 'depth': 2, 'min_data_in_leaf': 83, 'l2_leaf_reg': 10, 'has-time': False, 'bagging_temperature': 0.5871304657845942, 'random_strength': 0.680733581411795, 'border_count': 122, 'rsm': 0.7069978215150949, 'nan_mode': 'Min'}. Best is trial 1 with value: 73.41767324211861.\n"
     ]
    },
    {
     "name": "stdout",
     "output_type": "stream",
     "text": [
      "600:\tlearn: 87.3625032\ttotal: 5.03s\tremaining: 100ms\n",
      "612:\tlearn: 87.2813166\ttotal: 5.09s\tremaining: 0us\n",
      "0:\tlearn: 182.3021495\ttotal: 12.2ms\tremaining: 12.7s\n",
      "100:\tlearn: 92.2368631\ttotal: 1.5s\tremaining: 14s\n",
      "200:\tlearn: 84.7022872\ttotal: 3.22s\tremaining: 13.5s\n",
      "300:\tlearn: 81.6995442\ttotal: 4.8s\tremaining: 11.8s\n",
      "400:\tlearn: 79.5136638\ttotal: 6.32s\tremaining: 10.1s\n",
      "500:\tlearn: 77.8054018\ttotal: 7.93s\tremaining: 8.58s\n",
      "600:\tlearn: 76.3785590\ttotal: 9.3s\tremaining: 6.84s\n",
      "700:\tlearn: 75.1183487\ttotal: 10.8s\tremaining: 5.28s\n",
      "800:\tlearn: 74.0343421\ttotal: 12.2s\tremaining: 3.69s\n",
      "900:\tlearn: 73.0821072\ttotal: 13.4s\tremaining: 2.1s\n",
      "1000:\tlearn: 72.1936572\ttotal: 14s\tremaining: 587ms\n"
     ]
    },
    {
     "name": "stderr",
     "output_type": "stream",
     "text": [
      "[I 2023-11-06 20:47:36,933] Trial 19 finished with value: 77.9983777846265 and parameters: {'iterations': 1043, 'learning_rate': 0.02144760341557741, 'depth': 5, 'min_data_in_leaf': 88, 'l2_leaf_reg': 10, 'has-time': True, 'bagging_temperature': 0.5931586140808406, 'random_strength': 0.7134803401778921, 'border_count': 114, 'rsm': 0.6807868561774002, 'nan_mode': 'Min'}. Best is trial 1 with value: 73.41767324211861.\n"
     ]
    },
    {
     "name": "stdout",
     "output_type": "stream",
     "text": [
      "1042:\tlearn: 71.8705560\ttotal: 14.3s\tremaining: 0us\n",
      "0:\tlearn: 181.3989690\ttotal: 525ms\tremaining: 14m 39s\n",
      "100:\tlearn: 77.1010135\ttotal: 1m 4s\tremaining: 16m 38s\n",
      "200:\tlearn: 62.8476714\ttotal: 2m 7s\tremaining: 15m 38s\n",
      "300:\tlearn: 55.7286191\ttotal: 3m 12s\tremaining: 14m 39s\n",
      "400:\tlearn: 50.2597296\ttotal: 4m 17s\tremaining: 13m 39s\n",
      "500:\tlearn: 45.9299281\ttotal: 5m 30s\tremaining: 12m 54s\n",
      "600:\tlearn: 42.8105382\ttotal: 6m 45s\tremaining: 12m 4s\n",
      "700:\tlearn: 40.2807629\ttotal: 7m 58s\tremaining: 11m 5s\n",
      "800:\tlearn: 37.4455372\ttotal: 9m 11s\tremaining: 10m 2s\n",
      "900:\tlearn: 34.8889050\ttotal: 10m 24s\tremaining: 8m 57s\n",
      "1000:\tlearn: 32.6076039\ttotal: 11m 38s\tremaining: 7m 50s\n",
      "1100:\tlearn: 30.7580094\ttotal: 12m 50s\tremaining: 6m 42s\n",
      "1200:\tlearn: 29.0554632\ttotal: 14m 3s\tremaining: 5m 33s\n",
      "1300:\tlearn: 27.5137464\ttotal: 15m 14s\tremaining: 4m 23s\n",
      "1400:\tlearn: 26.0589827\ttotal: 16m 24s\tremaining: 3m 13s\n",
      "1500:\tlearn: 24.7751168\ttotal: 17m 33s\tremaining: 2m 2s\n",
      "1600:\tlearn: 23.4996663\ttotal: 18m 43s\tremaining: 52.6s\n",
      "1675:\tlearn: 22.6868493\ttotal: 19m 36s\tremaining: 0us\n"
     ]
    },
    {
     "name": "stderr",
     "output_type": "stream",
     "text": [
      "[I 2023-11-06 21:07:16,571] Trial 20 finished with value: 85.26369635702027 and parameters: {'iterations': 1676, 'learning_rate': 0.027730175841305448, 'depth': 13, 'min_data_in_leaf': 83, 'l2_leaf_reg': 8, 'has-time': False, 'bagging_temperature': 0.5630601178462395, 'random_strength': 0.8382336628013389, 'border_count': 538, 'rsm': 0.7571801837415069, 'nan_mode': 'Min'}. Best is trial 1 with value: 73.41767324211861.\n"
     ]
    },
    {
     "name": "stdout",
     "output_type": "stream",
     "text": [
      "0:\tlearn: 183.9684972\ttotal: 22.9ms\tremaining: 13.5s\n",
      "100:\tlearn: 122.1958612\ttotal: 876ms\tremaining: 4.26s\n",
      "200:\tlearn: 103.3078595\ttotal: 1.67s\tremaining: 3.25s\n",
      "300:\tlearn: 97.2982842\ttotal: 2.49s\tremaining: 2.41s\n",
      "400:\tlearn: 94.5739122\ttotal: 3.24s\tremaining: 1.54s\n",
      "500:\tlearn: 92.9236065\ttotal: 4.01s\tremaining: 728ms\n"
     ]
    },
    {
     "name": "stderr",
     "output_type": "stream",
     "text": [
      "[I 2023-11-06 21:07:21,818] Trial 21 finished with value: 78.68901439240564 and parameters: {'iterations': 592, 'learning_rate': 0.00914655974729529, 'depth': 2, 'min_data_in_leaf': 63, 'l2_leaf_reg': 5, 'has-time': False, 'bagging_temperature': 0.6626771224656745, 'random_strength': 0.6759423501790851, 'border_count': 176, 'rsm': 0.9051311278851321, 'nan_mode': 'Min'}. Best is trial 1 with value: 73.41767324211861.\n"
     ]
    },
    {
     "name": "stdout",
     "output_type": "stream",
     "text": [
      "591:\tlearn: 91.6980242\ttotal: 4.92s\tremaining: 0us\n",
      "0:\tlearn: 183.0522244\ttotal: 4.68ms\tremaining: 3.02s\n",
      "100:\tlearn: 104.4848997\ttotal: 777ms\tremaining: 4.19s\n",
      "200:\tlearn: 95.1676189\ttotal: 1.58s\tremaining: 3.51s\n",
      "300:\tlearn: 92.0097401\ttotal: 2.56s\tremaining: 2.93s\n",
      "400:\tlearn: 90.1062562\ttotal: 3.41s\tremaining: 2.08s\n",
      "500:\tlearn: 88.9669571\ttotal: 4.2s\tremaining: 1.22s\n",
      "600:\tlearn: 88.1086557\ttotal: 5.29s\tremaining: 396ms\n"
     ]
    },
    {
     "name": "stderr",
     "output_type": "stream",
     "text": [
      "[I 2023-11-06 21:07:27,770] Trial 22 finished with value: 74.09877410267 and parameters: {'iterations': 646, 'learning_rate': 0.017252339566224205, 'depth': 2, 'min_data_in_leaf': 14, 'l2_leaf_reg': 5, 'has-time': False, 'bagging_temperature': 0.7080078262511412, 'random_strength': 0.5754251432779394, 'border_count': 300, 'rsm': 0.7581880554657293, 'nan_mode': 'Min'}. Best is trial 1 with value: 73.41767324211861.\n"
     ]
    },
    {
     "name": "stdout",
     "output_type": "stream",
     "text": [
      "645:\tlearn: 87.8320417\ttotal: 5.62s\tremaining: 0us\n",
      "0:\tlearn: 183.2079913\ttotal: 22.4ms\tremaining: 29.8s\n",
      "100:\tlearn: 109.0102000\ttotal: 702ms\tremaining: 8.56s\n",
      "200:\tlearn: 98.3839389\ttotal: 1.43s\tremaining: 8.03s\n",
      "300:\tlearn: 95.8147220\ttotal: 2.11s\tremaining: 7.24s\n",
      "400:\tlearn: 94.6637076\ttotal: 2.78s\tremaining: 6.45s\n",
      "500:\tlearn: 94.0114550\ttotal: 3.53s\tremaining: 5.87s\n",
      "600:\tlearn: 93.5784071\ttotal: 4.05s\tremaining: 4.93s\n",
      "700:\tlearn: 93.2537249\ttotal: 4.68s\tremaining: 4.22s\n",
      "800:\tlearn: 92.9880195\ttotal: 5.27s\tremaining: 3.5s\n",
      "900:\tlearn: 92.7593564\ttotal: 5.96s\tremaining: 2.86s\n",
      "1000:\tlearn: 92.5561861\ttotal: 6.55s\tremaining: 2.17s\n",
      "1100:\tlearn: 92.3743867\ttotal: 7.47s\tremaining: 1.57s\n",
      "1200:\tlearn: 92.2094843\ttotal: 8.09s\tremaining: 890ms\n",
      "1300:\tlearn: 92.0583385\ttotal: 8.49s\tremaining: 209ms\n"
     ]
    },
    {
     "name": "stderr",
     "output_type": "stream",
     "text": [
      "[I 2023-11-06 21:07:36,941] Trial 23 finished with value: 78.69791030330119 and parameters: {'iterations': 1333, 'learning_rate': 0.01946583300572773, 'depth': 1, 'min_data_in_leaf': 17, 'l2_leaf_reg': 5, 'has-time': False, 'bagging_temperature': 0.616246030395983, 'random_strength': 0.5869863716982026, 'border_count': 311, 'rsm': 0.744182174800351, 'nan_mode': 'Min'}. Best is trial 1 with value: 73.41767324211861.\n"
     ]
    },
    {
     "name": "stdout",
     "output_type": "stream",
     "text": [
      "1332:\tlearn: 92.0124768\ttotal: 8.76s\tremaining: 0us\n",
      "0:\tlearn: 179.4940213\ttotal: 5.03ms\tremaining: 4.24s\n",
      "100:\tlearn: 90.3676493\ttotal: 1.2s\tremaining: 8.81s\n",
      "200:\tlearn: 86.3121713\ttotal: 2s\tremaining: 6.39s\n",
      "300:\tlearn: 84.1350641\ttotal: 2.74s\tremaining: 4.93s\n",
      "400:\tlearn: 82.6424736\ttotal: 3.58s\tremaining: 3.94s\n",
      "500:\tlearn: 81.4501646\ttotal: 4.45s\tremaining: 3.04s\n",
      "600:\tlearn: 80.4543041\ttotal: 5.59s\tremaining: 2.25s\n",
      "700:\tlearn: 79.6066148\ttotal: 6.35s\tremaining: 1.29s\n",
      "800:\tlearn: 78.9609070\ttotal: 7.57s\tremaining: 397ms\n"
     ]
    },
    {
     "name": "stderr",
     "output_type": "stream",
     "text": [
      "[I 2023-11-06 21:07:45,110] Trial 24 finished with value: 81.48883576022239 and parameters: {'iterations': 843, 'learning_rate': 0.046134782784266234, 'depth': 3, 'min_data_in_leaf': 10, 'l2_leaf_reg': 6, 'has-time': False, 'bagging_temperature': 0.7107327956603693, 'random_strength': 0.638572980416549, 'border_count': 10, 'rsm': 0.6476712088153987, 'nan_mode': 'Min'}. Best is trial 1 with value: 73.41767324211861.\n"
     ]
    },
    {
     "name": "stdout",
     "output_type": "stream",
     "text": [
      "842:\tlearn: 78.7237368\ttotal: 7.87s\tremaining: 0us\n",
      "0:\tlearn: 183.7682754\ttotal: 4.67ms\tremaining: 1.42s\n",
      "100:\tlearn: 113.9743384\ttotal: 1.32s\tremaining: 2.68s\n",
      "200:\tlearn: 95.3925127\ttotal: 2.57s\tremaining: 1.33s\n",
      "300:\tlearn: 89.6461019\ttotal: 3.6s\tremaining: 47.8ms\n",
      "304:\tlearn: 89.5160144\ttotal: 3.79s\tremaining: 0us\n"
     ]
    },
    {
     "name": "stderr",
     "output_type": "stream",
     "text": [
      "[I 2023-11-06 21:07:49,251] Trial 25 finished with value: 82.4294353690136 and parameters: {'iterations': 305, 'learning_rate': 0.010097885076763655, 'depth': 4, 'min_data_in_leaf': 9, 'l2_leaf_reg': 8, 'has-time': False, 'bagging_temperature': 0.651134704810393, 'random_strength': 0.5288542132536949, 'border_count': 450, 'rsm': 0.5651216090228228, 'nan_mode': 'Min'}. Best is trial 1 with value: 73.41767324211861.\n"
     ]
    },
    {
     "name": "stdout",
     "output_type": "stream",
     "text": [
      "0:\tlearn: 182.6018408\ttotal: 23.8ms\tremaining: 15.3s\n",
      "100:\tlearn: 92.6569058\ttotal: 2.87s\tremaining: 15.4s\n",
      "200:\tlearn: 83.0871316\ttotal: 5.51s\tremaining: 12.1s\n",
      "300:\tlearn: 79.7460102\ttotal: 8.37s\tremaining: 9.49s\n",
      "400:\tlearn: 77.2465268\ttotal: 10.9s\tremaining: 6.56s\n",
      "500:\tlearn: 75.2795755\ttotal: 14.4s\tremaining: 4.06s\n",
      "600:\tlearn: 73.5888718\ttotal: 17.5s\tremaining: 1.19s\n"
     ]
    },
    {
     "name": "stderr",
     "output_type": "stream",
     "text": [
      "[I 2023-11-06 21:08:08,402] Trial 26 finished with value: 77.66192414386897 and parameters: {'iterations': 642, 'learning_rate': 0.018473504226003495, 'depth': 6, 'min_data_in_leaf': 34, 'l2_leaf_reg': 4, 'has-time': True, 'bagging_temperature': 0.5724294943518669, 'random_strength': 0.6644103084876581, 'border_count': 350, 'rsm': 0.7827594136067564, 'nan_mode': 'Min'}. Best is trial 1 with value: 73.41767324211861.\n"
     ]
    },
    {
     "name": "stdout",
     "output_type": "stream",
     "text": [
      "641:\tlearn: 72.9864146\ttotal: 18.8s\tremaining: 0us\n",
      "0:\tlearn: 182.1037726\ttotal: 2.94ms\tremaining: 3.45s\n",
      "100:\tlearn: 98.2495578\ttotal: 1.08s\tremaining: 11.5s\n",
      "200:\tlearn: 92.3218858\ttotal: 2.07s\tremaining: 10s\n",
      "300:\tlearn: 89.7412171\ttotal: 2.86s\tremaining: 8.27s\n",
      "400:\tlearn: 88.2600561\ttotal: 3.5s\tremaining: 6.73s\n",
      "500:\tlearn: 87.2094512\ttotal: 4.28s\tremaining: 5.73s\n",
      "600:\tlearn: 86.2102090\ttotal: 5.24s\tremaining: 4.98s\n",
      "700:\tlearn: 85.3482163\ttotal: 5.96s\tremaining: 4s\n",
      "800:\tlearn: 84.5570218\ttotal: 6.75s\tremaining: 3.13s\n",
      "900:\tlearn: 83.8710586\ttotal: 7.66s\tremaining: 2.3s\n",
      "1000:\tlearn: 83.3027972\ttotal: 8.56s\tremaining: 1.46s\n",
      "1100:\tlearn: 82.8009935\ttotal: 9.35s\tremaining: 603ms\n"
     ]
    },
    {
     "name": "stderr",
     "output_type": "stream",
     "text": [
      "[I 2023-11-06 21:08:18,821] Trial 27 finished with value: 73.67910502141149 and parameters: {'iterations': 1172, 'learning_rate': 0.025402087324671453, 'depth': 2, 'min_data_in_leaf': 25, 'l2_leaf_reg': 10, 'has-time': False, 'bagging_temperature': 0.7178299853796093, 'random_strength': 0.803292646517014, 'border_count': 122, 'rsm': 0.7243817097816242, 'nan_mode': 'Min'}. Best is trial 1 with value: 73.41767324211861.\n"
     ]
    },
    {
     "name": "stdout",
     "output_type": "stream",
     "text": [
      "1171:\tlearn: 82.5079654\ttotal: 10s\tremaining: 0us\n",
      "0:\tlearn: 181.7543324\ttotal: 2.98ms\tremaining: 4.46s\n",
      "100:\tlearn: 93.8759044\ttotal: 1.14s\tremaining: 15.7s\n",
      "200:\tlearn: 88.2404783\ttotal: 1.92s\tremaining: 12.4s\n",
      "300:\tlearn: 85.7139272\ttotal: 2.87s\tremaining: 11.4s\n",
      "400:\tlearn: 83.9244664\ttotal: 3.79s\tremaining: 10.3s\n",
      "500:\tlearn: 82.3459656\ttotal: 4.82s\tremaining: 9.57s\n",
      "600:\tlearn: 81.2167970\ttotal: 5.5s\tremaining: 8.18s\n",
      "700:\tlearn: 80.3605709\ttotal: 6.66s\tremaining: 7.55s\n",
      "800:\tlearn: 79.6402278\ttotal: 7.36s\tremaining: 6.39s\n",
      "900:\tlearn: 78.9942935\ttotal: 8.66s\tremaining: 5.72s\n",
      "1000:\tlearn: 78.3909881\ttotal: 9.57s\tremaining: 4.73s\n",
      "1100:\tlearn: 77.8500454\ttotal: 10.5s\tremaining: 3.76s\n",
      "1200:\tlearn: 77.2471072\ttotal: 11.2s\tremaining: 2.75s\n",
      "1300:\tlearn: 76.7641653\ttotal: 12.1s\tremaining: 1.81s\n",
      "1400:\tlearn: 76.3122294\ttotal: 12.8s\tremaining: 869ms\n"
     ]
    },
    {
     "name": "stderr",
     "output_type": "stream",
     "text": [
      "[I 2023-11-06 21:08:32,937] Trial 28 finished with value: 75.57312488318713 and parameters: {'iterations': 1496, 'learning_rate': 0.027058789155143228, 'depth': 3, 'min_data_in_leaf': 24, 'l2_leaf_reg': 10, 'has-time': True, 'bagging_temperature': 0.6234593526685934, 'random_strength': 0.875189192606392, 'border_count': 114, 'rsm': 0.6923142849070719, 'nan_mode': 'Min'}. Best is trial 1 with value: 73.41767324211861.\n"
     ]
    },
    {
     "name": "stdout",
     "output_type": "stream",
     "text": [
      "1495:\tlearn: 75.9172851\ttotal: 13.7s\tremaining: 0us\n",
      "0:\tlearn: 181.1698696\ttotal: 31.7ms\tremaining: 36s\n",
      "100:\tlearn: 87.4681999\ttotal: 2.71s\tremaining: 27.9s\n",
      "200:\tlearn: 82.1739598\ttotal: 5.72s\tremaining: 26.7s\n",
      "300:\tlearn: 79.1699333\ttotal: 8.65s\tremaining: 24.1s\n",
      "400:\tlearn: 77.1429603\ttotal: 11.6s\tremaining: 21.3s\n",
      "500:\tlearn: 75.5815582\ttotal: 14.5s\tremaining: 18.5s\n",
      "600:\tlearn: 74.1692065\ttotal: 17.4s\tremaining: 15.5s\n",
      "700:\tlearn: 72.8599207\ttotal: 20.2s\tremaining: 12.6s\n",
      "800:\tlearn: 71.7945717\ttotal: 23.4s\tremaining: 9.88s\n",
      "900:\tlearn: 70.8268463\ttotal: 25.9s\tremaining: 6.85s\n",
      "1000:\tlearn: 69.8912113\ttotal: 28.9s\tremaining: 3.99s\n",
      "1100:\tlearn: 69.0069312\ttotal: 32.5s\tremaining: 1.12s\n"
     ]
    },
    {
     "name": "stderr",
     "output_type": "stream",
     "text": [
      "[I 2023-11-06 21:09:07,366] Trial 29 finished with value: 79.02188221795626 and parameters: {'iterations': 1139, 'learning_rate': 0.03093740238371953, 'depth': 5, 'min_data_in_leaf': 42, 'l2_leaf_reg': 10, 'has-time': True, 'bagging_temperature': 0.7696759810188891, 'random_strength': 0.812772967394002, 'border_count': 959, 'rsm': 0.6902483930906503, 'nan_mode': 'Min'}. Best is trial 1 with value: 73.41767324211861.\n"
     ]
    },
    {
     "name": "stdout",
     "output_type": "stream",
     "text": [
      "1138:\tlearn: 68.7296167\ttotal: 33.8s\tremaining: 0us\n",
      "0:\tlearn: 179.9351846\ttotal: 23.9ms\tremaining: 45.5s\n",
      "100:\tlearn: 82.9432230\ttotal: 1.52s\tremaining: 27.1s\n",
      "200:\tlearn: 77.4827757\ttotal: 3.24s\tremaining: 27.4s\n",
      "300:\tlearn: 73.8149848\ttotal: 5.2s\tremaining: 27.7s\n",
      "400:\tlearn: 71.0311556\ttotal: 6.71s\tremaining: 25.2s\n",
      "500:\tlearn: 68.7163056\ttotal: 8.77s\tremaining: 24.6s\n",
      "600:\tlearn: 66.7207002\ttotal: 10.1s\tremaining: 22s\n",
      "700:\tlearn: 65.0840737\ttotal: 11.8s\tremaining: 20.3s\n",
      "800:\tlearn: 63.4563217\ttotal: 13.5s\tremaining: 18.6s\n",
      "900:\tlearn: 62.0302074\ttotal: 15s\tremaining: 16.7s\n",
      "1000:\tlearn: 60.7551695\ttotal: 16.6s\tremaining: 15s\n",
      "1100:\tlearn: 59.4220905\ttotal: 18.3s\tremaining: 13.4s\n",
      "1200:\tlearn: 58.2050912\ttotal: 19.8s\tremaining: 11.6s\n",
      "1300:\tlearn: 57.1123218\ttotal: 21.1s\tremaining: 9.84s\n",
      "1400:\tlearn: 56.0345884\ttotal: 22.7s\tremaining: 8.19s\n",
      "1500:\tlearn: 55.0161161\ttotal: 24.4s\tremaining: 6.58s\n",
      "1600:\tlearn: 53.9664390\ttotal: 25.8s\tremaining: 4.92s\n",
      "1700:\tlearn: 53.0171775\ttotal: 27.4s\tremaining: 3.3s\n",
      "1800:\tlearn: 52.1637357\ttotal: 28.7s\tremaining: 1.68s\n",
      "1900:\tlearn: 51.3346573\ttotal: 30.2s\tremaining: 79.4ms\n",
      "1905:\tlearn: 51.2891031\ttotal: 30.3s\tremaining: 0us\n"
     ]
    },
    {
     "name": "stderr",
     "output_type": "stream",
     "text": [
      "[I 2023-11-06 21:09:38,298] Trial 30 finished with value: 82.98415065304668 and parameters: {'iterations': 1906, 'learning_rate': 0.04032354296270186, 'depth': 6, 'min_data_in_leaf': 29, 'l2_leaf_reg': 8, 'has-time': False, 'bagging_temperature': 0.7484621183666824, 'random_strength': 0.9316031099515188, 'border_count': 99, 'rsm': 0.9305953574118775, 'nan_mode': 'Min'}. Best is trial 1 with value: 73.41767324211861.\n"
     ]
    },
    {
     "name": "stdout",
     "output_type": "stream",
     "text": [
      "0:\tlearn: 182.6819948\ttotal: 4.32ms\tremaining: 6.52s\n",
      "100:\tlearn: 100.8554459\ttotal: 721ms\tremaining: 10.1s\n",
      "200:\tlearn: 93.5330575\ttotal: 1.61s\tremaining: 10.5s\n",
      "300:\tlearn: 90.7004248\ttotal: 2.58s\tremaining: 10.4s\n",
      "400:\tlearn: 89.0242215\ttotal: 3.21s\tremaining: 8.89s\n",
      "500:\tlearn: 87.9889648\ttotal: 3.84s\tremaining: 7.74s\n",
      "600:\tlearn: 87.2482047\ttotal: 4.67s\tremaining: 7.07s\n",
      "700:\tlearn: 86.4867588\ttotal: 5.79s\tremaining: 6.7s\n",
      "800:\tlearn: 85.5758007\ttotal: 6.58s\tremaining: 5.83s\n",
      "900:\tlearn: 84.9235445\ttotal: 7.32s\tremaining: 4.96s\n",
      "1000:\tlearn: 84.3758213\ttotal: 8.09s\tremaining: 4.12s\n",
      "1100:\tlearn: 83.8077144\ttotal: 8.87s\tremaining: 3.3s\n",
      "1200:\tlearn: 83.3327886\ttotal: 9.5s\tremaining: 2.45s\n",
      "1300:\tlearn: 82.8887861\ttotal: 10.2s\tremaining: 1.65s\n",
      "1400:\tlearn: 82.5142688\ttotal: 11.3s\tremaining: 885ms\n"
     ]
    },
    {
     "name": "stderr",
     "output_type": "stream",
     "text": [
      "[I 2023-11-06 21:09:51,134] Trial 31 finished with value: 73.72424639346623 and parameters: {'iterations': 1511, 'learning_rate': 0.0209103870919962, 'depth': 2, 'min_data_in_leaf': 10, 'l2_leaf_reg': 6, 'has-time': False, 'bagging_temperature': 0.696494250624619, 'random_strength': 0.7323194838585098, 'border_count': 257, 'rsm': 0.7994746372010739, 'nan_mode': 'Min'}. Best is trial 1 with value: 73.41767324211861.\n"
     ]
    },
    {
     "name": "stdout",
     "output_type": "stream",
     "text": [
      "1500:\tlearn: 82.1596776\ttotal: 12.2s\tremaining: 81.3ms\n",
      "1510:\tlearn: 82.1236772\ttotal: 12.3s\tremaining: 0us\n",
      "0:\tlearn: 182.8162807\ttotal: 4.33ms\tremaining: 6.53s\n",
      "100:\tlearn: 105.0851477\ttotal: 639ms\tremaining: 8.9s\n",
      "200:\tlearn: 97.0836521\ttotal: 1.34s\tremaining: 8.7s\n",
      "300:\tlearn: 95.1125522\ttotal: 1.74s\tremaining: 7s\n",
      "400:\tlearn: 94.1986707\ttotal: 2.4s\tremaining: 6.62s\n",
      "500:\tlearn: 93.6582319\ttotal: 3.09s\tremaining: 6.22s\n",
      "600:\tlearn: 93.2746296\ttotal: 3.7s\tremaining: 5.59s\n",
      "700:\tlearn: 92.9698153\ttotal: 4.34s\tremaining: 5s\n",
      "800:\tlearn: 92.7104679\ttotal: 4.95s\tremaining: 4.38s\n",
      "900:\tlearn: 92.4811616\ttotal: 5.45s\tremaining: 3.67s\n",
      "1000:\tlearn: 92.2773460\ttotal: 6.15s\tremaining: 3.12s\n",
      "1100:\tlearn: 92.0936378\ttotal: 6.91s\tremaining: 2.56s\n",
      "1200:\tlearn: 91.9269123\ttotal: 7.52s\tremaining: 1.93s\n",
      "1300:\tlearn: 91.7739401\ttotal: 8.19s\tremaining: 1.31s\n",
      "1400:\tlearn: 91.6336112\ttotal: 8.88s\tremaining: 684ms\n"
     ]
    },
    {
     "name": "stderr",
     "output_type": "stream",
     "text": [
      "[I 2023-11-06 21:10:01,068] Trial 32 finished with value: 78.24709759103169 and parameters: {'iterations': 1509, 'learning_rate': 0.023461206808401885, 'depth': 1, 'min_data_in_leaf': 9, 'l2_leaf_reg': 7, 'has-time': False, 'bagging_temperature': 0.6810240210125882, 'random_strength': 0.7557729910837375, 'border_count': 240, 'rsm': 0.8026935679662841, 'nan_mode': 'Min'}. Best is trial 1 with value: 73.41767324211861.\n"
     ]
    },
    {
     "name": "stdout",
     "output_type": "stream",
     "text": [
      "1500:\tlearn: 91.5043896\ttotal: 9.46s\tremaining: 50.4ms\n",
      "1508:\tlearn: 91.4943889\ttotal: 9.51s\tremaining: 0us\n",
      "0:\tlearn: 183.6774583\ttotal: 4.08ms\tremaining: 5.5s\n",
      "100:\tlearn: 113.7414261\ttotal: 656ms\tremaining: 8.1s\n",
      "200:\tlearn: 99.0443068\ttotal: 1.57s\tremaining: 8.94s\n",
      "300:\tlearn: 94.8475850\ttotal: 2.66s\tremaining: 9.25s\n",
      "400:\tlearn: 92.6080081\ttotal: 3.77s\tremaining: 8.9s\n",
      "500:\tlearn: 90.9913681\ttotal: 4.66s\tremaining: 7.88s\n",
      "600:\tlearn: 89.9231636\ttotal: 5.4s\tremaining: 6.71s\n",
      "700:\tlearn: 89.0571350\ttotal: 6.31s\tremaining: 5.82s\n",
      "800:\tlearn: 88.3928792\ttotal: 7s\tremaining: 4.78s\n",
      "900:\tlearn: 87.8546422\ttotal: 7.83s\tremaining: 3.88s\n",
      "1000:\tlearn: 87.4136076\ttotal: 8.64s\tremaining: 2.99s\n",
      "1100:\tlearn: 86.9194903\ttotal: 9.32s\tremaining: 2.09s\n",
      "1200:\tlearn: 86.4020799\ttotal: 10.6s\tremaining: 1.3s\n",
      "1300:\tlearn: 85.9384457\ttotal: 11.7s\tremaining: 422ms\n"
     ]
    },
    {
     "name": "stderr",
     "output_type": "stream",
     "text": [
      "[I 2023-11-06 21:10:13,443] Trial 33 finished with value: 73.47819428553062 and parameters: {'iterations': 1348, 'learning_rate': 0.011927897911049928, 'depth': 2, 'min_data_in_leaf': 18, 'l2_leaf_reg': 6, 'has-time': False, 'bagging_temperature': 0.8007798829063838, 'random_strength': 0.7051554144580334, 'border_count': 147, 'rsm': 0.8508059539781186, 'nan_mode': 'Min'}. Best is trial 1 with value: 73.41767324211861.\n"
     ]
    },
    {
     "name": "stdout",
     "output_type": "stream",
     "text": [
      "1347:\tlearn: 85.7332236\ttotal: 11.9s\tremaining: 0us\n",
      "0:\tlearn: 183.7602711\ttotal: 22.7ms\tremaining: 28.4s\n",
      "100:\tlearn: 116.1619080\ttotal: 787ms\tremaining: 9s\n",
      "200:\tlearn: 100.2354080\ttotal: 1.46s\tremaining: 7.63s\n",
      "300:\tlearn: 95.6410184\ttotal: 2.18s\tremaining: 6.92s\n",
      "400:\tlearn: 93.3243637\ttotal: 3.02s\tremaining: 6.44s\n",
      "500:\tlearn: 91.7152634\ttotal: 3.42s\tremaining: 5.15s\n",
      "600:\tlearn: 90.4607304\ttotal: 4.12s\tremaining: 4.48s\n",
      "700:\tlearn: 89.5734693\ttotal: 5.05s\tremaining: 3.99s\n",
      "800:\tlearn: 88.8610062\ttotal: 5.76s\tremaining: 3.27s\n",
      "900:\tlearn: 88.3096313\ttotal: 6.79s\tremaining: 2.67s\n",
      "1000:\tlearn: 87.8594712\ttotal: 7.63s\tremaining: 1.94s\n",
      "1100:\tlearn: 87.4163609\ttotal: 8.42s\tremaining: 1.18s\n",
      "1200:\tlearn: 87.0018689\ttotal: 9.04s\tremaining: 406ms\n",
      "1254:\tlearn: 86.7700435\ttotal: 9.22s\tremaining: 0us\n"
     ]
    },
    {
     "name": "stderr",
     "output_type": "stream",
     "text": [
      "[I 2023-11-06 21:10:23,146] Trial 34 finished with value: 73.9205884441942 and parameters: {'iterations': 1255, 'learning_rate': 0.011069480637734734, 'depth': 2, 'min_data_in_leaf': 17, 'l2_leaf_reg': 10, 'has-time': False, 'bagging_temperature': 0.8152536768411812, 'random_strength': 0.7764070312369018, 'border_count': 155, 'rsm': 0.8460877620916382, 'nan_mode': 'Min'}. Best is trial 1 with value: 73.41767324211861.\n"
     ]
    },
    {
     "name": "stdout",
     "output_type": "stream",
     "text": [
      "0:\tlearn: 183.3654607\ttotal: 38.3ms\tremaining: 38.5s\n",
      "100:\tlearn: 105.3467687\ttotal: 1.05s\tremaining: 9.41s\n",
      "200:\tlearn: 91.4515123\ttotal: 2.19s\tremaining: 8.79s\n",
      "300:\tlearn: 87.5903632\ttotal: 3.2s\tremaining: 7.5s\n",
      "400:\tlearn: 85.5242110\ttotal: 4.47s\tremaining: 6.76s\n",
      "500:\tlearn: 84.0644503\ttotal: 5.3s\tremaining: 5.36s\n",
      "600:\tlearn: 82.7703199\ttotal: 6.45s\tremaining: 4.36s\n",
      "700:\tlearn: 81.6658396\ttotal: 7.44s\tremaining: 3.25s\n",
      "800:\tlearn: 80.7043211\ttotal: 8.39s\tremaining: 2.16s\n",
      "900:\tlearn: 79.8007488\ttotal: 9.3s\tremaining: 1.09s\n"
     ]
    },
    {
     "name": "stderr",
     "output_type": "stream",
     "text": [
      "[I 2023-11-06 21:10:34,012] Trial 35 finished with value: 75.52622513666569 and parameters: {'iterations': 1007, 'learning_rate': 0.01328037683849299, 'depth': 4, 'min_data_in_leaf': 3, 'l2_leaf_reg': 8, 'has-time': False, 'bagging_temperature': 0.803011611927356, 'random_strength': 0.7081384961449534, 'border_count': 57, 'rsm': 0.8485919424062577, 'nan_mode': 'Min'}. Best is trial 1 with value: 73.41767324211861.\n"
     ]
    },
    {
     "name": "stdout",
     "output_type": "stream",
     "text": [
      "1000:\tlearn: 79.0336703\ttotal: 10.4s\tremaining: 62.4ms\n",
      "1006:\tlearn: 79.0014541\ttotal: 10.5s\tremaining: 0us\n",
      "0:\tlearn: 184.1291295\ttotal: 17.8ms\tremaining: 24.5s\n",
      "100:\tlearn: 127.0918984\ttotal: 802ms\tremaining: 10.1s\n",
      "200:\tlearn: 105.1785442\ttotal: 1.64s\tremaining: 9.58s\n",
      "300:\tlearn: 96.6095545\ttotal: 2.44s\tremaining: 8.7s\n",
      "400:\tlearn: 92.6695770\ttotal: 3.2s\tremaining: 7.77s\n",
      "500:\tlearn: 90.6776789\ttotal: 4.07s\tremaining: 7.09s\n",
      "600:\tlearn: 89.3971311\ttotal: 5.11s\tremaining: 6.58s\n",
      "700:\tlearn: 88.3320814\ttotal: 6.33s\tremaining: 6.08s\n",
      "800:\tlearn: 87.4403870\ttotal: 7.39s\tremaining: 5.3s\n",
      "900:\tlearn: 86.6603062\ttotal: 8.27s\tremaining: 4.35s\n",
      "1000:\tlearn: 85.9730761\ttotal: 9.2s\tremaining: 3.44s\n",
      "1100:\tlearn: 85.3947696\ttotal: 10.3s\tremaining: 2.55s\n",
      "1200:\tlearn: 84.8616159\ttotal: 11.2s\tremaining: 1.63s\n",
      "1300:\tlearn: 84.3909252\ttotal: 12.2s\tremaining: 697ms\n"
     ]
    },
    {
     "name": "stderr",
     "output_type": "stream",
     "text": [
      "[I 2023-11-06 21:10:47,418] Trial 36 finished with value: 73.11068914175323 and parameters: {'iterations': 1375, 'learning_rate': 0.007292772708283201, 'depth': 3, 'min_data_in_leaf': 21, 'l2_leaf_reg': 6, 'has-time': False, 'bagging_temperature': 0.7355849380122639, 'random_strength': 0.7941420036725693, 'border_count': 141, 'rsm': 0.939596258307211, 'nan_mode': 'Min'}. Best is trial 36 with value: 73.11068914175323.\n"
     ]
    },
    {
     "name": "stdout",
     "output_type": "stream",
     "text": [
      "1374:\tlearn: 84.0166473\ttotal: 13s\tremaining: 0us\n",
      "0:\tlearn: 184.2199562\ttotal: 10.8ms\tremaining: 19.4s\n",
      "100:\tlearn: 130.5032974\ttotal: 1.11s\tremaining: 18.7s\n",
      "200:\tlearn: 107.7479052\ttotal: 2.18s\tremaining: 17.3s\n",
      "300:\tlearn: 98.0332703\ttotal: 3.62s\tremaining: 18s\n",
      "400:\tlearn: 93.3287218\ttotal: 4.89s\tremaining: 17s\n",
      "500:\tlearn: 90.8626054\ttotal: 6.25s\tremaining: 16.2s\n",
      "600:\tlearn: 89.3430645\ttotal: 7.77s\tremaining: 15.5s\n",
      "700:\tlearn: 88.2595656\ttotal: 9.11s\tremaining: 14.2s\n",
      "800:\tlearn: 87.3001152\ttotal: 10.4s\tremaining: 12.9s\n",
      "900:\tlearn: 86.5022069\ttotal: 11.5s\tremaining: 11.4s\n",
      "1000:\tlearn: 85.8149310\ttotal: 12.8s\tremaining: 10.2s\n",
      "1100:\tlearn: 85.2502973\ttotal: 14.2s\tremaining: 8.97s\n",
      "1200:\tlearn: 84.7372066\ttotal: 15.8s\tremaining: 7.85s\n",
      "1300:\tlearn: 84.2640439\ttotal: 17.7s\tremaining: 6.74s\n",
      "1400:\tlearn: 83.8057751\ttotal: 18.9s\tremaining: 5.34s\n",
      "1500:\tlearn: 83.3806433\ttotal: 19.9s\tremaining: 3.93s\n",
      "1600:\tlearn: 82.9846697\ttotal: 21.3s\tremaining: 2.6s\n",
      "1700:\tlearn: 82.6500281\ttotal: 22.3s\tremaining: 1.26s\n"
     ]
    },
    {
     "name": "stderr",
     "output_type": "stream",
     "text": [
      "[I 2023-11-06 21:11:11,175] Trial 37 finished with value: 73.74980017996086 and parameters: {'iterations': 1797, 'learning_rate': 0.006572787328379297, 'depth': 3, 'min_data_in_leaf': 32, 'l2_leaf_reg': 6, 'has-time': False, 'bagging_temperature': 0.9080961664935744, 'random_strength': 0.7024413449118341, 'border_count': 769, 'rsm': 0.9387361016801834, 'nan_mode': 'Max'}. Best is trial 36 with value: 73.11068914175323.\n"
     ]
    },
    {
     "name": "stdout",
     "output_type": "stream",
     "text": [
      "1796:\tlearn: 82.3341031\ttotal: 23.2s\tremaining: 0us\n",
      "0:\tlearn: 184.4989659\ttotal: 2.5ms\tremaining: 5.38s\n",
      "100:\tlearn: 147.0675264\ttotal: 460ms\tremaining: 9.35s\n",
      "200:\tlearn: 126.0074159\ttotal: 1.15s\tremaining: 11.2s\n",
      "300:\tlearn: 113.9101884\ttotal: 2.16s\tremaining: 13.3s\n",
      "400:\tlearn: 106.8492135\ttotal: 3s\tremaining: 13.1s\n",
      "500:\tlearn: 102.7505885\ttotal: 3.4s\tremaining: 11.2s\n",
      "600:\tlearn: 100.2826284\ttotal: 4.09s\tremaining: 10.6s\n",
      "700:\tlearn: 98.6944962\ttotal: 5.03s\tremaining: 10.4s\n",
      "800:\tlearn: 97.6107394\ttotal: 5.5s\tremaining: 9.3s\n",
      "900:\tlearn: 96.8406248\ttotal: 6.07s\tremaining: 8.45s\n",
      "1000:\tlearn: 96.2505028\ttotal: 6.75s\tremaining: 7.77s\n",
      "1100:\tlearn: 95.7858691\ttotal: 7.38s\tremaining: 7.06s\n",
      "1200:\tlearn: 95.4055601\ttotal: 8.02s\tremaining: 6.37s\n",
      "1300:\tlearn: 95.0846813\ttotal: 8.67s\tremaining: 5.68s\n",
      "1400:\tlearn: 94.8089628\ttotal: 9.34s\tremaining: 5.02s\n",
      "1500:\tlearn: 94.5772672\ttotal: 10.2s\tremaining: 4.43s\n",
      "1600:\tlearn: 94.3758716\ttotal: 10.7s\tremaining: 3.69s\n",
      "1700:\tlearn: 94.2018435\ttotal: 11.4s\tremaining: 3.04s\n",
      "1800:\tlearn: 94.0505530\ttotal: 11.9s\tremaining: 2.33s\n",
      "1900:\tlearn: 93.9143887\ttotal: 12.4s\tremaining: 1.65s\n",
      "2000:\tlearn: 93.7902412\ttotal: 13.1s\tremaining: 1s\n",
      "2100:\tlearn: 93.6757632\ttotal: 13.8s\tremaining: 349ms\n"
     ]
    },
    {
     "name": "stderr",
     "output_type": "stream",
     "text": [
      "[I 2023-11-06 21:11:26,046] Trial 38 finished with value: 80.03691249867079 and parameters: {'iterations': 2154, 'learning_rate': 0.005445509500865973, 'depth': 1, 'min_data_in_leaf': 47, 'l2_leaf_reg': 7, 'has-time': False, 'bagging_temperature': 0.8045512101784202, 'random_strength': 0.772865861091765, 'border_count': 592, 'rsm': 0.8898804775268762, 'nan_mode': 'Min'}. Best is trial 36 with value: 73.11068914175323.\n"
     ]
    },
    {
     "name": "stdout",
     "output_type": "stream",
     "text": [
      "2153:\tlearn: 93.6190511\ttotal: 14.4s\tremaining: 0us\n",
      "0:\tlearn: 183.9104098\ttotal: 46.5ms\tremaining: 1m 4s\n",
      "100:\tlearn: 116.8918060\ttotal: 1.79s\tremaining: 22.7s\n",
      "200:\tlearn: 94.7804689\ttotal: 3.49s\tremaining: 20.5s\n",
      "300:\tlearn: 87.0308305\ttotal: 5.73s\tremaining: 20.5s\n",
      "400:\tlearn: 83.5219479\ttotal: 7.7s\tremaining: 18.8s\n",
      "500:\tlearn: 81.4691249\ttotal: 9.36s\tremaining: 16.4s\n",
      "600:\tlearn: 79.9907443\ttotal: 11.5s\tremaining: 14.8s\n",
      "700:\tlearn: 78.7226332\ttotal: 13.1s\tremaining: 12.7s\n",
      "800:\tlearn: 77.6674502\ttotal: 15s\tremaining: 10.8s\n",
      "900:\tlearn: 76.6910612\ttotal: 17.3s\tremaining: 9.14s\n",
      "1000:\tlearn: 75.7457877\ttotal: 18.9s\tremaining: 7.12s\n",
      "1100:\tlearn: 74.9521658\ttotal: 21.1s\tremaining: 5.31s\n",
      "1200:\tlearn: 74.1825498\ttotal: 23.2s\tremaining: 3.42s\n",
      "1300:\tlearn: 73.4496946\ttotal: 25.2s\tremaining: 1.49s\n"
     ]
    },
    {
     "name": "stderr",
     "output_type": "stream",
     "text": [
      "[I 2023-11-06 21:11:53,165] Trial 39 finished with value: 77.86826637699289 and parameters: {'iterations': 1378, 'learning_rate': 0.008355441646561304, 'depth': 6, 'min_data_in_leaf': 19, 'l2_leaf_reg': 5, 'has-time': False, 'bagging_temperature': 0.7378978470630231, 'random_strength': 0.30277931812458797, 'border_count': 246, 'rsm': 0.9457156077501394, 'nan_mode': 'Min'}. Best is trial 36 with value: 73.11068914175323.\n"
     ]
    },
    {
     "name": "stdout",
     "output_type": "stream",
     "text": [
      "1377:\tlearn: 72.9463239\ttotal: 26.5s\tremaining: 0us\n",
      "0:\tlearn: 183.3997589\ttotal: 195ms\tremaining: 6m 36s\n",
      "100:\tlearn: 99.1783105\ttotal: 21.6s\tremaining: 6m 54s\n",
      "200:\tlearn: 79.0110568\ttotal: 43.1s\tremaining: 6m 33s\n",
      "300:\tlearn: 71.6278138\ttotal: 1m 4s\tremaining: 6m 9s\n",
      "400:\tlearn: 67.2428883\ttotal: 1m 26s\tremaining: 5m 53s\n",
      "500:\tlearn: 63.9477866\ttotal: 1m 48s\tremaining: 5m 31s\n",
      "600:\tlearn: 61.3135550\ttotal: 2m 9s\tremaining: 5m 8s\n",
      "700:\tlearn: 59.1061081\ttotal: 2m 30s\tremaining: 4m 47s\n",
      "800:\tlearn: 57.0598856\ttotal: 2m 51s\tremaining: 4m 24s\n",
      "900:\tlearn: 55.1653317\ttotal: 3m 13s\tremaining: 4m 4s\n",
      "1000:\tlearn: 53.4606824\ttotal: 3m 35s\tremaining: 3m 42s\n",
      "1100:\tlearn: 51.9178702\ttotal: 3m 56s\tremaining: 3m 20s\n",
      "1200:\tlearn: 50.2936356\ttotal: 4m 18s\tremaining: 2m 59s\n",
      "1300:\tlearn: 48.9772395\ttotal: 4m 39s\tremaining: 2m 37s\n",
      "1400:\tlearn: 47.6331105\ttotal: 5m\tremaining: 2m 16s\n",
      "1500:\tlearn: 46.4639668\ttotal: 5m 21s\tremaining: 1m 54s\n",
      "1600:\tlearn: 45.3615626\ttotal: 5m 43s\tremaining: 1m 33s\n",
      "1700:\tlearn: 44.2544328\ttotal: 6m 4s\tremaining: 1m 11s\n",
      "1800:\tlearn: 43.3994304\ttotal: 6m 25s\tremaining: 50.3s\n",
      "1900:\tlearn: 42.5578007\ttotal: 6m 46s\tremaining: 28.9s\n",
      "2000:\tlearn: 41.7491248\ttotal: 7m 6s\tremaining: 7.46s\n",
      "2035:\tlearn: 41.3671348\ttotal: 7m 14s\tremaining: 0us\n"
     ]
    },
    {
     "name": "stderr",
     "output_type": "stream",
     "text": [
      "[I 2023-11-06 21:19:08,921] Trial 40 finished with value: 82.7540014529723 and parameters: {'iterations': 2036, 'learning_rate': 0.012581535743716734, 'depth': 11, 'min_data_in_leaf': 78, 'l2_leaf_reg': 6, 'has-time': True, 'bagging_temperature': 0.6725895943147281, 'random_strength': 0.6852534148843649, 'border_count': 523, 'rsm': 0.8478815332593399, 'nan_mode': 'Max'}. Best is trial 36 with value: 73.11068914175323.\n"
     ]
    },
    {
     "name": "stdout",
     "output_type": "stream",
     "text": [
      "0:\tlearn: 183.3359553\ttotal: 4.26ms\tremaining: 4.71s\n",
      "100:\tlearn: 108.1205974\ttotal: 691ms\tremaining: 6.89s\n",
      "200:\tlearn: 96.6944548\ttotal: 1.77s\tremaining: 8s\n",
      "300:\tlearn: 93.2519610\ttotal: 2.76s\tremaining: 7.41s\n",
      "400:\tlearn: 91.1760513\ttotal: 3.6s\tremaining: 6.34s\n",
      "500:\tlearn: 89.7981823\ttotal: 4.54s\tremaining: 5.5s\n",
      "600:\tlearn: 88.8368970\ttotal: 5.36s\tremaining: 4.52s\n",
      "700:\tlearn: 88.0927325\ttotal: 5.9s\tremaining: 3.42s\n",
      "800:\tlearn: 87.5427453\ttotal: 6.71s\tremaining: 2.57s\n",
      "900:\tlearn: 87.0112609\ttotal: 7.34s\tremaining: 1.69s\n",
      "1000:\tlearn: 86.4619980\ttotal: 8.23s\tremaining: 880ms\n"
     ]
    },
    {
     "name": "stderr",
     "output_type": "stream",
     "text": [
      "[I 2023-11-06 21:19:18,372] Trial 41 finished with value: 73.879334144703 and parameters: {'iterations': 1108, 'learning_rate': 0.0147536808888638, 'depth': 2, 'min_data_in_leaf': 25, 'l2_leaf_reg': 9, 'has-time': False, 'bagging_temperature': 0.7405066401595155, 'random_strength': 0.8051398119580533, 'border_count': 150, 'rsm': 0.8324394167228467, 'nan_mode': 'Min'}. Best is trial 36 with value: 73.11068914175323.\n"
     ]
    },
    {
     "name": "stdout",
     "output_type": "stream",
     "text": [
      "1100:\tlearn: 85.9066442\ttotal: 9.04s\tremaining: 57.5ms\n",
      "1107:\tlearn: 85.8726555\ttotal: 9.07s\tremaining: 0us\n",
      "0:\tlearn: 184.1065797\ttotal: 22.6ms\tremaining: 31.7s\n",
      "100:\tlearn: 125.7526285\ttotal: 957ms\tremaining: 12.3s\n",
      "200:\tlearn: 104.2996091\ttotal: 1.69s\tremaining: 10.1s\n",
      "300:\tlearn: 96.1078292\ttotal: 2.75s\tremaining: 10.1s\n",
      "400:\tlearn: 92.4095234\ttotal: 3.9s\tremaining: 9.73s\n",
      "500:\tlearn: 90.5379475\ttotal: 4.66s\tremaining: 8.38s\n",
      "600:\tlearn: 89.2885013\ttotal: 5.8s\tremaining: 7.73s\n",
      "700:\tlearn: 88.2211368\ttotal: 6.86s\tremaining: 6.86s\n",
      "800:\tlearn: 87.3634713\ttotal: 8.45s\tremaining: 6.34s\n",
      "900:\tlearn: 86.5921499\ttotal: 9.43s\tremaining: 5.24s\n",
      "1000:\tlearn: 85.9195696\ttotal: 10.3s\tremaining: 4.13s\n",
      "1100:\tlearn: 85.3471266\ttotal: 11.3s\tremaining: 3.1s\n",
      "1200:\tlearn: 84.8194615\ttotal: 12.3s\tremaining: 2.06s\n",
      "1300:\tlearn: 84.2930931\ttotal: 13.3s\tremaining: 1.04s\n"
     ]
    },
    {
     "name": "stderr",
     "output_type": "stream",
     "text": [
      "[I 2023-11-06 21:19:33,171] Trial 42 finished with value: 73.69360865070081 and parameters: {'iterations': 1402, 'learning_rate': 0.007561309268126241, 'depth': 3, 'min_data_in_leaf': 21, 'l2_leaf_reg': 6, 'has-time': False, 'bagging_temperature': 0.6890842335222794, 'random_strength': 0.7474616157665711, 'border_count': 68, 'rsm': 0.888310867406324, 'nan_mode': 'Min'}. Best is trial 36 with value: 73.11068914175323.\n"
     ]
    },
    {
     "name": "stdout",
     "output_type": "stream",
     "text": [
      "1400:\tlearn: 83.8004487\ttotal: 14.3s\tremaining: 10.2ms\n",
      "1401:\tlearn: 83.7956706\ttotal: 14.3s\tremaining: 0us\n",
      "0:\tlearn: 183.8799463\ttotal: 53.7ms\tremaining: 1m 26s\n",
      "100:\tlearn: 119.4299423\ttotal: 1.1s\tremaining: 16.6s\n",
      "200:\tlearn: 101.8397462\ttotal: 2.14s\tremaining: 15.1s\n",
      "300:\tlearn: 96.4444026\ttotal: 3.03s\tremaining: 13.3s\n",
      "400:\tlearn: 94.0383195\ttotal: 3.97s\tremaining: 12.1s\n",
      "500:\tlearn: 92.3164158\ttotal: 4.9s\tremaining: 10.9s\n",
      "600:\tlearn: 91.0271181\ttotal: 5.75s\tremaining: 9.74s\n",
      "700:\tlearn: 90.0766841\ttotal: 6.6s\tremaining: 8.65s\n",
      "800:\tlearn: 89.2915920\ttotal: 7.53s\tremaining: 7.7s\n",
      "900:\tlearn: 88.6939736\ttotal: 8.27s\tremaining: 6.6s\n",
      "1000:\tlearn: 88.1836485\ttotal: 9.16s\tremaining: 5.66s\n",
      "1100:\tlearn: 87.7667200\ttotal: 10.1s\tremaining: 4.75s\n",
      "1200:\tlearn: 87.4119128\ttotal: 11.2s\tremaining: 3.91s\n",
      "1300:\tlearn: 87.0878066\ttotal: 11.9s\tremaining: 2.92s\n",
      "1400:\tlearn: 86.7174932\ttotal: 12.7s\tremaining: 1.99s\n",
      "1500:\tlearn: 86.3276868\ttotal: 13.4s\tremaining: 1.06s\n",
      "1600:\tlearn: 85.9916302\ttotal: 14.2s\tremaining: 169ms\n",
      "1619:\tlearn: 85.9193858\ttotal: 14.4s\tremaining: 0us\n"
     ]
    },
    {
     "name": "stderr",
     "output_type": "stream",
     "text": [
      "[I 2023-11-06 21:19:48,093] Trial 43 finished with value: 73.38341294234067 and parameters: {'iterations': 1620, 'learning_rate': 0.01005800652101738, 'depth': 2, 'min_data_in_leaf': 36, 'l2_leaf_reg': 7, 'has-time': False, 'bagging_temperature': 0.7617917420856132, 'random_strength': 0.798470681137614, 'border_count': 209, 'rsm': 0.729029442594354, 'nan_mode': 'Min'}. Best is trial 36 with value: 73.11068914175323.\n"
     ]
    },
    {
     "name": "stdout",
     "output_type": "stream",
     "text": [
      "0:\tlearn: 184.1368135\ttotal: 2.1ms\tremaining: 3.5s\n",
      "100:\tlearn: 130.4347146\ttotal: 780ms\tremaining: 12.1s\n",
      "200:\tlearn: 110.0958387\ttotal: 1.4s\tremaining: 10.2s\n",
      "300:\tlearn: 102.1537743\ttotal: 2.2s\tremaining: 10s\n",
      "400:\tlearn: 98.7741250\ttotal: 2.88s\tremaining: 9.12s\n",
      "500:\tlearn: 97.0620764\ttotal: 3.43s\tremaining: 8s\n",
      "600:\tlearn: 96.0493670\ttotal: 4.03s\tremaining: 7.17s\n",
      "700:\tlearn: 95.3620573\ttotal: 4.77s\tremaining: 6.59s\n",
      "800:\tlearn: 94.8466544\ttotal: 5.42s\tremaining: 5.88s\n",
      "900:\tlearn: 94.4542263\ttotal: 6.21s\tremaining: 5.3s\n",
      "1000:\tlearn: 94.1524274\ttotal: 6.98s\tremaining: 4.66s\n",
      "1100:\tlearn: 93.9098795\ttotal: 7.66s\tremaining: 3.96s\n",
      "1200:\tlearn: 93.7047720\ttotal: 8.8s\tremaining: 3.44s\n",
      "1300:\tlearn: 93.5267780\ttotal: 9.56s\tremaining: 2.71s\n",
      "1400:\tlearn: 93.3723618\ttotal: 10.2s\tremaining: 1.97s\n",
      "1500:\tlearn: 93.2325045\ttotal: 10.7s\tremaining: 1.21s\n",
      "1600:\tlearn: 93.1043977\ttotal: 11.5s\tremaining: 495ms\n"
     ]
    },
    {
     "name": "stderr",
     "output_type": "stream",
     "text": [
      "[I 2023-11-06 21:20:00,474] Trial 44 finished with value: 79.51225036828383 and parameters: {'iterations': 1670, 'learning_rate': 0.009416002008471187, 'depth': 1, 'min_data_in_leaf': 32, 'l2_leaf_reg': 7, 'has-time': False, 'bagging_temperature': 0.774360921187472, 'random_strength': 0.6401110685010952, 'border_count': 206, 'rsm': 0.7936947002924934, 'nan_mode': 'Min'}. Best is trial 36 with value: 73.11068914175323.\n"
     ]
    },
    {
     "name": "stdout",
     "output_type": "stream",
     "text": [
      "1669:\tlearn: 93.0212718\ttotal: 12s\tremaining: 0us\n",
      "0:\tlearn: 184.3083371\ttotal: 6.44ms\tremaining: 11.2s\n",
      "100:\tlearn: 134.3210618\ttotal: 1.38s\tremaining: 22.5s\n",
      "200:\tlearn: 110.3261947\ttotal: 3.16s\tremaining: 24.3s\n",
      "300:\tlearn: 99.0311524\ttotal: 4.67s\tremaining: 22.4s\n",
      "400:\tlearn: 93.4287981\ttotal: 6.07s\tremaining: 20.3s\n",
      "500:\tlearn: 90.3551527\ttotal: 7.66s\tremaining: 19s\n",
      "600:\tlearn: 88.4636425\ttotal: 9.06s\tremaining: 17.2s\n",
      "700:\tlearn: 87.2592977\ttotal: 10.7s\tremaining: 15.9s\n",
      "800:\tlearn: 86.3357281\ttotal: 12.1s\tremaining: 14.3s\n",
      "900:\tlearn: 85.4984551\ttotal: 13.5s\tremaining: 12.7s\n",
      "1000:\tlearn: 84.7695346\ttotal: 14.9s\tremaining: 11s\n",
      "1100:\tlearn: 84.0563781\ttotal: 16.2s\tremaining: 9.45s\n",
      "1200:\tlearn: 83.4361438\ttotal: 17.5s\tremaining: 7.93s\n",
      "1300:\tlearn: 82.8556300\ttotal: 18.9s\tremaining: 6.45s\n",
      "1400:\tlearn: 82.3239648\ttotal: 20.3s\tremaining: 4.99s\n",
      "1500:\tlearn: 81.8236609\ttotal: 21.6s\tremaining: 3.52s\n",
      "1600:\tlearn: 81.3552305\ttotal: 23s\tremaining: 2.07s\n",
      "1700:\tlearn: 80.9109266\ttotal: 24.4s\tremaining: 631ms\n"
     ]
    },
    {
     "name": "stderr",
     "output_type": "stream",
     "text": [
      "[I 2023-11-06 21:20:25,988] Trial 45 finished with value: 74.32914986812658 and parameters: {'iterations': 1745, 'learning_rate': 0.005623551961788068, 'depth': 4, 'min_data_in_leaf': 36, 'l2_leaf_reg': 3, 'has-time': False, 'bagging_temperature': 0.8424009290929235, 'random_strength': 0.8552489206187575, 'border_count': 392, 'rsm': 0.9480934711211517, 'nan_mode': 'Min'}. Best is trial 36 with value: 73.11068914175323.\n"
     ]
    },
    {
     "name": "stdout",
     "output_type": "stream",
     "text": [
      "1744:\tlearn: 80.7425939\ttotal: 25s\tremaining: 0us\n",
      "0:\tlearn: 183.6300301\ttotal: 42.6ms\tremaining: 1m 41s\n",
      "100:\tlearn: 113.3319375\ttotal: 1.26s\tremaining: 28.6s\n",
      "200:\tlearn: 98.7589906\ttotal: 2.21s\tremaining: 24.2s\n",
      "300:\tlearn: 94.4402067\ttotal: 3.09s\tremaining: 21.5s\n",
      "400:\tlearn: 92.3059740\ttotal: 3.94s\tremaining: 19.6s\n",
      "500:\tlearn: 90.8252902\ttotal: 4.75s\tremaining: 17.9s\n",
      "600:\tlearn: 89.7863458\ttotal: 5.62s\tremaining: 16.8s\n",
      "700:\tlearn: 88.9228335\ttotal: 6.65s\tremaining: 16.1s\n",
      "800:\tlearn: 88.1849525\ttotal: 7.27s\tremaining: 14.5s\n",
      "900:\tlearn: 87.5149865\ttotal: 8.11s\tremaining: 13.4s\n",
      "1000:\tlearn: 86.9168870\ttotal: 8.92s\tremaining: 12.4s\n",
      "1100:\tlearn: 86.3621686\ttotal: 9.71s\tremaining: 11.4s\n",
      "1200:\tlearn: 85.8560013\ttotal: 10.4s\tremaining: 10.4s\n",
      "1300:\tlearn: 85.4012726\ttotal: 11.2s\tremaining: 9.42s\n",
      "1400:\tlearn: 85.0248093\ttotal: 12.1s\tremaining: 8.57s\n",
      "1500:\tlearn: 84.6559733\ttotal: 13.2s\tremaining: 7.82s\n",
      "1600:\tlearn: 84.3293188\ttotal: 14s\tremaining: 6.94s\n",
      "1700:\tlearn: 84.0182648\ttotal: 14.7s\tremaining: 5.99s\n",
      "1800:\tlearn: 83.7239386\ttotal: 15.6s\tremaining: 5.13s\n",
      "1900:\tlearn: 83.4614401\ttotal: 16.2s\tremaining: 4.19s\n",
      "2000:\tlearn: 83.2274598\ttotal: 16.7s\tremaining: 3.27s\n",
      "2100:\tlearn: 82.9664658\ttotal: 17.4s\tremaining: 2.42s\n",
      "2200:\tlearn: 82.6971725\ttotal: 18.2s\tremaining: 1.58s\n",
      "2300:\tlearn: 82.4480782\ttotal: 19.1s\tremaining: 763ms\n"
     ]
    },
    {
     "name": "stderr",
     "output_type": "stream",
     "text": [
      "[I 2023-11-06 21:20:46,771] Trial 46 finished with value: 73.82268020400832 and parameters: {'iterations': 2393, 'learning_rate': 0.01211891318771954, 'depth': 2, 'min_data_in_leaf': 41, 'l2_leaf_reg': 4, 'has-time': True, 'bagging_temperature': 0.5112037565566901, 'random_strength': 0.9324800174980818, 'border_count': 51, 'rsm': 0.9914002221579078, 'nan_mode': 'Max'}. Best is trial 36 with value: 73.11068914175323.\n"
     ]
    },
    {
     "name": "stdout",
     "output_type": "stream",
     "text": [
      "2392:\tlearn: 82.2663497\ttotal: 20.2s\tremaining: 0us\n",
      "0:\tlearn: 184.1803329\ttotal: 5.56ms\tremaining: 5.09s\n",
      "100:\tlearn: 129.3793472\ttotal: 1.6s\tremaining: 12.9s\n",
      "200:\tlearn: 106.9957763\ttotal: 3.13s\tremaining: 11.1s\n",
      "300:\tlearn: 97.7273749\ttotal: 4.26s\tremaining: 8.72s\n",
      "400:\tlearn: 93.5303216\ttotal: 5.67s\tremaining: 7.29s\n",
      "500:\tlearn: 91.3397082\ttotal: 6.77s\tremaining: 5.61s\n",
      "600:\tlearn: 89.9839144\ttotal: 7.95s\tremaining: 4.17s\n",
      "700:\tlearn: 88.9182165\ttotal: 9.04s\tremaining: 2.77s\n",
      "800:\tlearn: 87.9706270\ttotal: 10.2s\tremaining: 1.47s\n",
      "900:\tlearn: 87.2318897\ttotal: 11.1s\tremaining: 185ms\n",
      "915:\tlearn: 87.1067269\ttotal: 11.2s\tremaining: 0us\n"
     ]
    },
    {
     "name": "stderr",
     "output_type": "stream",
     "text": [
      "[I 2023-11-06 21:20:58,482] Trial 47 finished with value: 74.50056783154027 and parameters: {'iterations': 916, 'learning_rate': 0.006861919611695607, 'depth': 3, 'min_data_in_leaf': 49, 'l2_leaf_reg': 5, 'has-time': False, 'bagging_temperature': 0.6477861927731752, 'random_strength': 0.7791217874631409, 'border_count': 657, 'rsm': 0.6530376150136966, 'nan_mode': 'Min'}. Best is trial 36 with value: 73.11068914175323.\n"
     ]
    },
    {
     "name": "stdout",
     "output_type": "stream",
     "text": [
      "0:\tlearn: 184.5949257\ttotal: 6.59ms\tremaining: 10.4s\n",
      "100:\tlearn: 152.7102205\ttotal: 647ms\tremaining: 9.51s\n",
      "200:\tlearn: 132.7529854\ttotal: 1.37s\tremaining: 9.47s\n",
      "300:\tlearn: 120.1020673\ttotal: 2.02s\tremaining: 8.61s\n",
      "400:\tlearn: 111.9374699\ttotal: 2.72s\tremaining: 8.03s\n",
      "500:\tlearn: 106.6680478\ttotal: 3.54s\tremaining: 7.66s\n",
      "600:\tlearn: 103.2918056\ttotal: 4.46s\tremaining: 7.3s\n",
      "700:\tlearn: 101.0598937\ttotal: 5.15s\tremaining: 6.5s\n",
      "800:\tlearn: 99.5231826\ttotal: 5.91s\tremaining: 5.79s\n",
      "900:\tlearn: 98.4073661\ttotal: 7.03s\tremaining: 5.34s\n",
      "1000:\tlearn: 97.5920254\ttotal: 7.64s\tremaining: 4.47s\n",
      "1100:\tlearn: 96.9678402\ttotal: 8.51s\tremaining: 3.75s\n",
      "1200:\tlearn: 96.4652000\ttotal: 9.19s\tremaining: 2.94s\n",
      "1300:\tlearn: 96.0563136\ttotal: 9.83s\tremaining: 2.15s\n",
      "1400:\tlearn: 95.7146761\ttotal: 10.5s\tremaining: 1.39s\n",
      "1500:\tlearn: 95.4170840\ttotal: 11.1s\tremaining: 631ms\n"
     ]
    },
    {
     "name": "stderr",
     "output_type": "stream",
     "text": [
      "[I 2023-11-06 21:21:10,484] Trial 48 finished with value: 83.08233430443865 and parameters: {'iterations': 1586, 'learning_rate': 0.004411395352612341, 'depth': 1, 'min_data_in_leaf': 5, 'l2_leaf_reg': 7, 'has-time': False, 'bagging_temperature': 0.7613421730623895, 'random_strength': 0.7241328187288106, 'border_count': 286, 'rsm': 0.7193905459516587, 'nan_mode': 'Max'}. Best is trial 36 with value: 73.11068914175323.\n"
     ]
    },
    {
     "name": "stdout",
     "output_type": "stream",
     "text": [
      "1585:\tlearn: 95.1939524\ttotal: 11.6s\tremaining: 0us\n",
      "0:\tlearn: 183.2428221\ttotal: 38.5ms\tremaining: 1m 16s\n",
      "100:\tlearn: 105.9015049\ttotal: 847ms\tremaining: 15.9s\n",
      "200:\tlearn: 95.6972926\ttotal: 1.8s\tremaining: 16.1s\n",
      "300:\tlearn: 92.5000688\ttotal: 2.63s\tremaining: 14.7s\n",
      "400:\tlearn: 90.5272587\ttotal: 3.4s\tremaining: 13.5s\n",
      "500:\tlearn: 89.2985827\ttotal: 4.27s\tremaining: 12.7s\n",
      "600:\tlearn: 88.3509005\ttotal: 5.35s\tremaining: 12.4s\n",
      "700:\tlearn: 87.7406288\ttotal: 6.26s\tremaining: 11.5s\n",
      "800:\tlearn: 87.1848583\ttotal: 7.39s\tremaining: 11s\n",
      "900:\tlearn: 86.5817890\ttotal: 8.18s\tremaining: 9.9s\n",
      "1000:\tlearn: 85.9608340\ttotal: 8.93s\tremaining: 8.84s\n",
      "1100:\tlearn: 85.3826268\ttotal: 9.62s\tremaining: 7.79s\n",
      "1200:\tlearn: 84.9401424\ttotal: 10.4s\tremaining: 6.83s\n",
      "1300:\tlearn: 84.4759393\ttotal: 11.2s\tremaining: 5.96s\n",
      "1400:\tlearn: 84.0392533\ttotal: 12.1s\tremaining: 5.11s\n",
      "1500:\tlearn: 83.6118202\ttotal: 13s\tremaining: 4.24s\n",
      "1600:\tlearn: 83.2620011\ttotal: 13.8s\tremaining: 3.38s\n",
      "1700:\tlearn: 82.9326029\ttotal: 14.7s\tremaining: 2.51s\n",
      "1800:\tlearn: 82.6278982\ttotal: 15.6s\tremaining: 1.65s\n",
      "1900:\tlearn: 82.3761480\ttotal: 16.3s\tremaining: 779ms\n"
     ]
    },
    {
     "name": "stderr",
     "output_type": "stream",
     "text": [
      "[I 2023-11-06 21:21:27,998] Trial 49 finished with value: 73.46914025048729 and parameters: {'iterations': 1992, 'learning_rate': 0.016086660333281273, 'depth': 2, 'min_data_in_leaf': 13, 'l2_leaf_reg': 6, 'has-time': True, 'bagging_temperature': 0.546954411399865, 'random_strength': 0.6870189836760305, 'border_count': 207, 'rsm': 0.8644315084994454, 'nan_mode': 'Min'}. Best is trial 36 with value: 73.11068914175323.\n"
     ]
    },
    {
     "name": "stdout",
     "output_type": "stream",
     "text": [
      "1991:\tlearn: 82.1518283\ttotal: 16.9s\tremaining: 0us\n",
      "0:\tlearn: 183.7298292\ttotal: 8.21ms\tremaining: 16.3s\n",
      "100:\tlearn: 112.0193134\ttotal: 2.42s\tremaining: 45.2s\n",
      "200:\tlearn: 92.6430644\ttotal: 3.95s\tremaining: 35.2s\n",
      "300:\tlearn: 86.4297513\ttotal: 6.09s\tremaining: 34.2s\n",
      "400:\tlearn: 83.7115496\ttotal: 7.75s\tremaining: 30.7s\n",
      "500:\tlearn: 82.0632907\ttotal: 9.44s\tremaining: 28s\n",
      "600:\tlearn: 80.7567652\ttotal: 11.1s\tremaining: 25.7s\n",
      "700:\tlearn: 79.7233311\ttotal: 12.9s\tremaining: 23.7s\n",
      "800:\tlearn: 78.7713840\ttotal: 14.4s\tremaining: 21.3s\n",
      "900:\tlearn: 77.9318812\ttotal: 16s\tremaining: 19.3s\n",
      "1000:\tlearn: 77.1891780\ttotal: 18s\tremaining: 17.7s\n",
      "1100:\tlearn: 76.4611793\ttotal: 19.6s\tremaining: 15.8s\n",
      "1200:\tlearn: 75.8009561\ttotal: 21.4s\tremaining: 14s\n",
      "1300:\tlearn: 75.1704492\ttotal: 23s\tremaining: 12.2s\n",
      "1400:\tlearn: 74.6602735\ttotal: 25s\tremaining: 10.5s\n",
      "1500:\tlearn: 74.1475421\ttotal: 27.2s\tremaining: 8.85s\n",
      "1600:\tlearn: 73.6575657\ttotal: 28.7s\tremaining: 6.97s\n",
      "1700:\tlearn: 73.1556062\ttotal: 30.5s\tremaining: 5.16s\n",
      "1800:\tlearn: 72.7052750\ttotal: 32.2s\tremaining: 3.36s\n",
      "1900:\tlearn: 72.2937047\ttotal: 34s\tremaining: 1.57s\n"
     ]
    },
    {
     "name": "stderr",
     "output_type": "stream",
     "text": [
      "[I 2023-11-06 21:22:04,364] Trial 50 finished with value: 78.9334878708864 and parameters: {'iterations': 1989, 'learning_rate': 0.009958980731193735, 'depth': 5, 'min_data_in_leaf': 14, 'l2_leaf_reg': 6, 'has-time': True, 'bagging_temperature': 0.43779947682981313, 'random_strength': 0.6203600923314736, 'border_count': 344, 'rsm': 0.8683550437280227, 'nan_mode': 'Max'}. Best is trial 36 with value: 73.11068914175323.\n"
     ]
    },
    {
     "name": "stdout",
     "output_type": "stream",
     "text": [
      "1988:\tlearn: 71.9842452\ttotal: 35.7s\tremaining: 0us\n",
      "0:\tlearn: 183.1376685\ttotal: 6.47ms\tremaining: 13.3s\n",
      "100:\tlearn: 105.4363856\ttotal: 863ms\tremaining: 16.7s\n",
      "200:\tlearn: 95.6005388\ttotal: 1.84s\tremaining: 17s\n",
      "300:\tlearn: 92.2563426\ttotal: 2.8s\tremaining: 16.4s\n",
      "400:\tlearn: 90.3603508\ttotal: 3.73s\tremaining: 15.5s\n",
      "500:\tlearn: 89.1127539\ttotal: 4.59s\tremaining: 14.3s\n",
      "600:\tlearn: 88.2113183\ttotal: 5.56s\tremaining: 13.5s\n",
      "700:\tlearn: 87.5624187\ttotal: 6.4s\tremaining: 12.4s\n",
      "800:\tlearn: 86.9792683\ttotal: 7.24s\tremaining: 11.4s\n",
      "900:\tlearn: 86.4148689\ttotal: 8.29s\tremaining: 10.7s\n",
      "1000:\tlearn: 85.7933904\ttotal: 9.05s\tremaining: 9.59s\n",
      "1100:\tlearn: 85.2253022\ttotal: 10s\tremaining: 8.73s\n",
      "1200:\tlearn: 84.7871036\ttotal: 10.9s\tremaining: 7.8s\n",
      "1300:\tlearn: 84.3104423\ttotal: 11.7s\tremaining: 6.81s\n",
      "1400:\tlearn: 83.8434185\ttotal: 12.5s\tremaining: 5.87s\n",
      "1500:\tlearn: 83.4319905\ttotal: 13.4s\tremaining: 4.99s\n",
      "1600:\tlearn: 83.0959224\ttotal: 14.3s\tremaining: 4.11s\n",
      "1700:\tlearn: 82.7668705\ttotal: 15.1s\tremaining: 3.2s\n",
      "1800:\tlearn: 82.4982817\ttotal: 16.3s\tremaining: 2.35s\n",
      "1900:\tlearn: 82.2133331\ttotal: 17.3s\tremaining: 1.45s\n",
      "2000:\tlearn: 81.9847340\ttotal: 18.1s\tremaining: 543ms\n"
     ]
    },
    {
     "name": "stderr",
     "output_type": "stream",
     "text": [
      "[I 2023-11-06 21:22:23,594] Trial 51 finished with value: 73.41060679885614 and parameters: {'iterations': 2061, 'learning_rate': 0.01647736930899886, 'depth': 2, 'min_data_in_leaf': 56, 'l2_leaf_reg': 6, 'has-time': True, 'bagging_temperature': 0.5394975879691938, 'random_strength': 0.6730296807389676, 'border_count': 202, 'rsm': 0.8232065966620372, 'nan_mode': 'Min'}. Best is trial 36 with value: 73.11068914175323.\n"
     ]
    },
    {
     "name": "stdout",
     "output_type": "stream",
     "text": [
      "2060:\tlearn: 81.8384663\ttotal: 18.5s\tremaining: 0us\n",
      "0:\tlearn: 183.0797812\ttotal: 4.68ms\tremaining: 12.2s\n",
      "100:\tlearn: 102.2811445\ttotal: 1.18s\tremaining: 29.3s\n",
      "200:\tlearn: 91.5577327\ttotal: 2.26s\tremaining: 27.1s\n",
      "300:\tlearn: 88.5849345\ttotal: 3.33s\tremaining: 25.6s\n",
      "400:\tlearn: 86.6785883\ttotal: 4.26s\tremaining: 23.5s\n",
      "500:\tlearn: 85.3101121\ttotal: 5.33s\tremaining: 22.5s\n",
      "600:\tlearn: 84.1792458\ttotal: 6.52s\tremaining: 21.8s\n",
      "700:\tlearn: 83.1987403\ttotal: 8.05s\tremaining: 21.9s\n",
      "800:\tlearn: 82.2953689\ttotal: 9.26s\tremaining: 20.9s\n",
      "900:\tlearn: 81.5444673\ttotal: 10.3s\tremaining: 19.6s\n",
      "1000:\tlearn: 80.8967120\ttotal: 11.2s\tremaining: 18s\n",
      "1100:\tlearn: 80.3578565\ttotal: 12.3s\tremaining: 16.9s\n",
      "1200:\tlearn: 79.8498889\ttotal: 13.2s\tremaining: 15.6s\n",
      "1300:\tlearn: 79.4066631\ttotal: 14.4s\tremaining: 14.5s\n",
      "1400:\tlearn: 78.9990860\ttotal: 15.3s\tremaining: 13.2s\n",
      "1500:\tlearn: 78.6180871\ttotal: 16.5s\tremaining: 12.2s\n",
      "1600:\tlearn: 78.3086243\ttotal: 17.6s\tremaining: 11.1s\n",
      "1700:\tlearn: 77.9411419\ttotal: 19.1s\tremaining: 10.2s\n",
      "1800:\tlearn: 77.5979152\ttotal: 20.2s\tremaining: 9.09s\n",
      "1900:\tlearn: 77.2654248\ttotal: 21.1s\tremaining: 7.91s\n",
      "2000:\tlearn: 76.9287551\ttotal: 22s\tremaining: 6.73s\n",
      "2100:\tlearn: 76.6117257\ttotal: 23.3s\tremaining: 5.67s\n",
      "2200:\tlearn: 76.3569044\ttotal: 24.4s\tremaining: 4.57s\n",
      "2300:\tlearn: 76.0747146\ttotal: 25.4s\tremaining: 3.44s\n",
      "2400:\tlearn: 75.7752511\ttotal: 26.5s\tremaining: 2.34s\n",
      "2500:\tlearn: 75.4645399\ttotal: 27.4s\tremaining: 1.23s\n",
      "2600:\tlearn: 75.1740149\ttotal: 28.5s\tremaining: 132ms\n",
      "2612:\tlearn: 75.1395020\ttotal: 28.6s\tremaining: 0us\n"
     ]
    },
    {
     "name": "stderr",
     "output_type": "stream",
     "text": [
      "[I 2023-11-06 21:22:52,917] Trial 52 finished with value: 75.60842718674407 and parameters: {'iterations': 2613, 'learning_rate': 0.016223075704297475, 'depth': 3, 'min_data_in_leaf': 56, 'l2_leaf_reg': 6, 'has-time': True, 'bagging_temperature': 0.5368361310696862, 'random_strength': 0.6678441324776917, 'border_count': 217, 'rsm': 0.8237834811546985, 'nan_mode': 'Min'}. Best is trial 36 with value: 73.11068914175323.\n"
     ]
    },
    {
     "name": "stdout",
     "output_type": "stream",
     "text": [
      "0:\tlearn: 183.7220893\ttotal: 22.2ms\tremaining: 48s\n",
      "100:\tlearn: 118.3790773\ttotal: 620ms\tremaining: 12.7s\n",
      "200:\tlearn: 102.3690073\ttotal: 1.1s\tremaining: 10.8s\n",
      "300:\tlearn: 97.9035227\ttotal: 1.93s\tremaining: 11.9s\n",
      "400:\tlearn: 96.1333462\ttotal: 2.41s\tremaining: 10.6s\n",
      "500:\tlearn: 95.1509573\ttotal: 3.15s\tremaining: 10.5s\n",
      "600:\tlearn: 94.5196707\ttotal: 4s\tremaining: 10.4s\n",
      "700:\tlearn: 94.0898221\ttotal: 4.7s\tremaining: 9.82s\n",
      "800:\tlearn: 93.7649554\ttotal: 5.29s\tremaining: 9.01s\n",
      "900:\tlearn: 93.5037951\ttotal: 5.96s\tremaining: 8.37s\n",
      "1000:\tlearn: 93.2871436\ttotal: 6.46s\tremaining: 7.52s\n",
      "1100:\tlearn: 93.0977711\ttotal: 7.27s\tremaining: 7.03s\n",
      "1200:\tlearn: 92.9288005\ttotal: 7.93s\tremaining: 6.37s\n",
      "1300:\tlearn: 92.7747731\ttotal: 8.81s\tremaining: 5.86s\n",
      "1400:\tlearn: 92.6345225\ttotal: 9.7s\tremaining: 5.29s\n",
      "1500:\tlearn: 92.5044173\ttotal: 10.7s\tremaining: 4.72s\n",
      "1600:\tlearn: 92.3833934\ttotal: 11.5s\tremaining: 4.05s\n",
      "1700:\tlearn: 92.2705975\ttotal: 12.5s\tremaining: 3.41s\n",
      "1800:\tlearn: 92.1644311\ttotal: 12.9s\tremaining: 2.62s\n",
      "1900:\tlearn: 92.0637936\ttotal: 13.6s\tremaining: 1.9s\n",
      "2000:\tlearn: 91.9691194\ttotal: 14.3s\tremaining: 1.18s\n",
      "2100:\tlearn: 91.8791272\ttotal: 15.1s\tremaining: 469ms\n"
     ]
    },
    {
     "name": "stderr",
     "output_type": "stream",
     "text": [
      "[I 2023-11-06 21:23:09,079] Trial 53 finished with value: 78.48969320208455 and parameters: {'iterations': 2166, 'learning_rate': 0.01383981957238001, 'depth': 1, 'min_data_in_leaf': 29, 'l2_leaf_reg': 7, 'has-time': True, 'bagging_temperature': 0.481750191941517, 'random_strength': 0.6967812854859875, 'border_count': 169, 'rsm': 0.9142667350482885, 'nan_mode': 'Min'}. Best is trial 36 with value: 73.11068914175323.\n"
     ]
    },
    {
     "name": "stdout",
     "output_type": "stream",
     "text": [
      "2165:\tlearn: 91.8229578\ttotal: 15.6s\tremaining: 0us\n",
      "0:\tlearn: 183.7238200\ttotal: 54.9ms\tremaining: 1m 49s\n",
      "100:\tlearn: 114.8452979\ttotal: 837ms\tremaining: 15.8s\n",
      "200:\tlearn: 99.5463613\ttotal: 1.46s\tremaining: 13.1s\n",
      "300:\tlearn: 95.2074844\ttotal: 2.29s\tremaining: 12.9s\n",
      "400:\tlearn: 92.9669688\ttotal: 3.3s\tremaining: 13.2s\n",
      "500:\tlearn: 91.4112804\ttotal: 4.25s\tremaining: 12.7s\n",
      "600:\tlearn: 90.2354220\ttotal: 4.92s\tremaining: 11.5s\n",
      "700:\tlearn: 89.3647355\ttotal: 5.75s\tremaining: 10.7s\n",
      "800:\tlearn: 88.6648474\ttotal: 6.7s\tremaining: 10s\n",
      "900:\tlearn: 88.1380339\ttotal: 7.55s\tremaining: 9.22s\n",
      "1000:\tlearn: 87.6800687\ttotal: 8.25s\tremaining: 8.25s\n",
      "1100:\tlearn: 87.2872818\ttotal: 8.93s\tremaining: 7.3s\n",
      "1200:\tlearn: 86.8724615\ttotal: 9.81s\tremaining: 6.54s\n",
      "1300:\tlearn: 86.4051257\ttotal: 10.5s\tremaining: 5.66s\n",
      "1400:\tlearn: 85.9720128\ttotal: 11.3s\tremaining: 4.87s\n",
      "1500:\tlearn: 85.5899469\ttotal: 11.9s\tremaining: 3.96s\n",
      "1600:\tlearn: 85.1823920\ttotal: 12.8s\tremaining: 3.2s\n",
      "1700:\tlearn: 84.8836464\ttotal: 13.8s\tremaining: 2.44s\n",
      "1800:\tlearn: 84.5806573\ttotal: 14.7s\tremaining: 1.64s\n",
      "1900:\tlearn: 84.2963366\ttotal: 15.6s\tremaining: 827ms\n"
     ]
    },
    {
     "name": "stderr",
     "output_type": "stream",
     "text": [
      "[I 2023-11-06 21:23:26,122] Trial 54 finished with value: 73.79947194026875 and parameters: {'iterations': 2002, 'learning_rate': 0.011542809800470684, 'depth': 2, 'min_data_in_leaf': 58, 'l2_leaf_reg': 6, 'has-time': True, 'bagging_temperature': 0.6081888331920365, 'random_strength': 0.7485801135495982, 'border_count': 187, 'rsm': 0.7730928424245443, 'nan_mode': 'Min'}. Best is trial 36 with value: 73.11068914175323.\n"
     ]
    },
    {
     "name": "stdout",
     "output_type": "stream",
     "text": [
      "2000:\tlearn: 84.0254878\ttotal: 16.5s\tremaining: 8.23ms\n",
      "2001:\tlearn: 84.0228169\ttotal: 16.5s\tremaining: 0us\n",
      "0:\tlearn: 184.0195649\ttotal: 112ms\tremaining: 3m 18s\n",
      "100:\tlearn: 120.0174527\ttotal: 8.46s\tremaining: 2m 19s\n",
      "200:\tlearn: 95.5154595\ttotal: 16.3s\tremaining: 2m 7s\n",
      "300:\tlearn: 86.0653631\ttotal: 23.8s\tremaining: 1m 56s\n",
      "400:\tlearn: 81.5859861\ttotal: 31.6s\tremaining: 1m 48s\n",
      "500:\tlearn: 78.8462578\ttotal: 40.4s\tremaining: 1m 42s\n",
      "600:\tlearn: 76.8943488\ttotal: 48.8s\tremaining: 1m 35s\n",
      "700:\tlearn: 75.3911311\ttotal: 56.9s\tremaining: 1m 26s\n",
      "800:\tlearn: 73.9855929\ttotal: 1m 4s\tremaining: 1m 18s\n",
      "900:\tlearn: 72.7692079\ttotal: 1m 13s\tremaining: 1m 11s\n",
      "1000:\tlearn: 71.6525151\ttotal: 1m 21s\tremaining: 1m 2s\n",
      "1100:\tlearn: 70.6498227\ttotal: 1m 29s\tremaining: 54.5s\n",
      "1200:\tlearn: 69.7076627\ttotal: 1m 37s\tremaining: 46.2s\n",
      "1300:\tlearn: 68.8227249\ttotal: 1m 45s\tremaining: 38.2s\n",
      "1400:\tlearn: 67.9616106\ttotal: 1m 53s\tremaining: 30.1s\n",
      "1500:\tlearn: 67.1221042\ttotal: 2m 1s\tremaining: 21.9s\n",
      "1600:\tlearn: 66.3032286\ttotal: 2m 9s\tremaining: 13.8s\n",
      "1700:\tlearn: 65.5012813\ttotal: 2m 17s\tremaining: 5.73s\n",
      "1771:\tlearn: 64.9813415\ttotal: 2m 23s\tremaining: 0us\n"
     ]
    },
    {
     "name": "stderr",
     "output_type": "stream",
     "text": [
      "[I 2023-11-06 21:25:50,187] Trial 55 finished with value: 79.4926930227004 and parameters: {'iterations': 1772, 'learning_rate': 0.007564789261597678, 'depth': 8, 'min_data_in_leaf': 1, 'l2_leaf_reg': 6, 'has-time': True, 'bagging_temperature': 0.5393692452544249, 'random_strength': 0.6535722891376299, 'border_count': 272, 'rsm': 0.8590055350553768, 'nan_mode': 'Min'}. Best is trial 36 with value: 73.11068914175323.\n"
     ]
    },
    {
     "name": "stdout",
     "output_type": "stream",
     "text": [
      "0:\tlearn: 182.9473177\ttotal: 56.3ms\tremaining: 1m 28s\n",
      "100:\tlearn: 99.1311212\ttotal: 1.31s\tremaining: 19.2s\n",
      "200:\tlearn: 87.9707503\ttotal: 2.52s\tremaining: 17.2s\n",
      "300:\tlearn: 84.8378943\ttotal: 3.45s\tremaining: 14.6s\n",
      "400:\tlearn: 82.9403123\ttotal: 4.48s\tremaining: 13.1s\n",
      "500:\tlearn: 81.5299416\ttotal: 5.85s\tremaining: 12.5s\n",
      "600:\tlearn: 80.3537149\ttotal: 7.08s\tremaining: 11.5s\n",
      "700:\tlearn: 79.3206082\ttotal: 8.61s\tremaining: 10.7s\n",
      "800:\tlearn: 78.4313112\ttotal: 9.89s\tremaining: 9.56s\n",
      "900:\tlearn: 77.6450481\ttotal: 11.2s\tremaining: 8.38s\n",
      "1000:\tlearn: 76.9553564\ttotal: 13s\tremaining: 7.44s\n",
      "1100:\tlearn: 76.2728570\ttotal: 14.6s\tremaining: 6.31s\n",
      "1200:\tlearn: 75.6671971\ttotal: 16.2s\tremaining: 5.05s\n",
      "1300:\tlearn: 75.1309819\ttotal: 17.2s\tremaining: 3.62s\n",
      "1400:\tlearn: 74.6227662\ttotal: 18.5s\tremaining: 2.29s\n",
      "1500:\tlearn: 74.1165615\ttotal: 19.7s\tremaining: 972ms\n"
     ]
    },
    {
     "name": "stderr",
     "output_type": "stream",
     "text": [
      "[I 2023-11-06 21:26:11,137] Trial 56 finished with value: 78.04405135921044 and parameters: {'iterations': 1575, 'learning_rate': 0.016388074178699183, 'depth': 4, 'min_data_in_leaf': 66, 'l2_leaf_reg': 5, 'has-time': True, 'bagging_temperature': 0.6370084850573609, 'random_strength': 0.7272387960783391, 'border_count': 220, 'rsm': 0.8180506078309786, 'nan_mode': 'Max'}. Best is trial 36 with value: 73.11068914175323.\n"
     ]
    },
    {
     "name": "stdout",
     "output_type": "stream",
     "text": [
      "1574:\tlearn: 73.7559067\ttotal: 20.4s\tremaining: 0us\n",
      "0:\tlearn: 184.0077017\ttotal: 25.1ms\tremaining: 58s\n",
      "100:\tlearn: 123.4034512\ttotal: 739ms\tremaining: 16.2s\n",
      "200:\tlearn: 104.0419160\ttotal: 1.55s\tremaining: 16.3s\n",
      "300:\tlearn: 97.6966798\ttotal: 2.37s\tremaining: 15.9s\n",
      "400:\tlearn: 94.8240987\ttotal: 3.22s\tremaining: 15.4s\n",
      "500:\tlearn: 93.1287464\ttotal: 4.15s\tremaining: 15s\n",
      "600:\tlearn: 91.7160418\ttotal: 5.3s\tremaining: 15.1s\n",
      "700:\tlearn: 90.6424829\ttotal: 6.21s\tremaining: 14.3s\n",
      "800:\tlearn: 89.8336853\ttotal: 6.72s\tremaining: 12.7s\n",
      "900:\tlearn: 89.2088662\ttotal: 7.28s\tremaining: 11.4s\n",
      "1000:\tlearn: 88.6845484\ttotal: 8.09s\tremaining: 10.6s\n",
      "1100:\tlearn: 88.2524612\ttotal: 8.76s\tremaining: 9.65s\n",
      "1200:\tlearn: 87.9166026\ttotal: 9.72s\tremaining: 9.01s\n",
      "1300:\tlearn: 87.5860155\ttotal: 10.6s\tremaining: 8.28s\n",
      "1400:\tlearn: 87.2672749\ttotal: 11.5s\tremaining: 7.47s\n",
      "1500:\tlearn: 86.9505600\ttotal: 12.3s\tremaining: 6.67s\n",
      "1600:\tlearn: 86.6183596\ttotal: 13.3s\tremaining: 5.93s\n",
      "1700:\tlearn: 86.2580494\ttotal: 14.4s\tremaining: 5.19s\n",
      "1800:\tlearn: 85.9148190\ttotal: 15.3s\tremaining: 4.35s\n",
      "1900:\tlearn: 85.5638147\ttotal: 16.3s\tremaining: 3.54s\n",
      "2000:\tlearn: 85.2256311\ttotal: 16.9s\tremaining: 2.64s\n",
      "2100:\tlearn: 84.9474141\ttotal: 17.9s\tremaining: 1.81s\n",
      "2200:\tlearn: 84.6743636\ttotal: 18.7s\tremaining: 960ms\n"
     ]
    },
    {
     "name": "stderr",
     "output_type": "stream",
     "text": [
      "[I 2023-11-06 21:26:31,513] Trial 57 finished with value: 73.80318930218088 and parameters: {'iterations': 2314, 'learning_rate': 0.008821074480025412, 'depth': 2, 'min_data_in_leaf': 6, 'l2_leaf_reg': 7, 'has-time': True, 'bagging_temperature': 0.5989003735334892, 'random_strength': 0.6224406629807588, 'border_count': 377, 'rsm': 0.8952995876440741, 'nan_mode': 'Min'}. Best is trial 36 with value: 73.11068914175323.\n"
     ]
    },
    {
     "name": "stdout",
     "output_type": "stream",
     "text": [
      "2300:\tlearn: 84.4164076\ttotal: 19.5s\tremaining: 110ms\n",
      "2313:\tlearn: 84.3736044\ttotal: 19.6s\tremaining: 0us\n",
      "0:\tlearn: 184.6028908\ttotal: 4.2ms\tremaining: 5.37s\n",
      "100:\tlearn: 152.2601989\ttotal: 925ms\tremaining: 10.8s\n",
      "200:\tlearn: 132.0109163\ttotal: 1.59s\tremaining: 8.56s\n",
      "300:\tlearn: 119.4848834\ttotal: 2.41s\tremaining: 7.84s\n",
      "400:\tlearn: 111.7194402\ttotal: 3.31s\tremaining: 7.26s\n",
      "500:\tlearn: 106.8513932\ttotal: 4.39s\tremaining: 6.83s\n",
      "600:\tlearn: 103.6569606\ttotal: 5.7s\tremaining: 6.45s\n",
      "700:\tlearn: 101.4240689\ttotal: 6.62s\tremaining: 5.47s\n",
      "800:\tlearn: 99.8393631\ttotal: 7.47s\tremaining: 4.47s\n",
      "900:\tlearn: 98.6988566\ttotal: 8.41s\tremaining: 3.54s\n",
      "1000:\tlearn: 97.8732580\ttotal: 9.59s\tremaining: 2.68s\n",
      "1100:\tlearn: 97.2144539\ttotal: 10.5s\tremaining: 1.72s\n",
      "1200:\tlearn: 96.6905123\ttotal: 11.6s\tremaining: 776ms\n"
     ]
    },
    {
     "name": "stderr",
     "output_type": "stream",
     "text": [
      "[I 2023-11-06 21:26:44,335] Trial 58 finished with value: 96.48628848103215 and parameters: {'iterations': 1281, 'learning_rate': 0.003350755375908208, 'depth': 3, 'min_data_in_leaf': 13, 'l2_leaf_reg': 5, 'has-time': True, 'bagging_temperature': 0.6681617954585722, 'random_strength': 0.8227413591551932, 'border_count': 4, 'rsm': 0.7738962917491201, 'nan_mode': 'Min'}. Best is trial 36 with value: 73.11068914175323.\n"
     ]
    },
    {
     "name": "stdout",
     "output_type": "stream",
     "text": [
      "1280:\tlearn: 96.3155597\ttotal: 12.4s\tremaining: 0us\n",
      "0:\tlearn: 184.0588026\ttotal: 6.62ms\tremaining: 12.5s\n",
      "100:\tlearn: 127.9024154\ttotal: 579ms\tremaining: 10.3s\n",
      "200:\tlearn: 108.2130411\ttotal: 1.45s\tremaining: 12.2s\n",
      "300:\tlearn: 101.0585783\ttotal: 2.03s\tremaining: 10.7s\n",
      "400:\tlearn: 98.0998540\ttotal: 2.69s\tremaining: 10s\n",
      "500:\tlearn: 96.6047847\ttotal: 3.27s\tremaining: 9.08s\n",
      "600:\tlearn: 95.6892196\ttotal: 4.01s\tremaining: 8.63s\n",
      "700:\tlearn: 95.0566554\ttotal: 4.59s\tremaining: 7.8s\n",
      "800:\tlearn: 94.5927640\ttotal: 5.38s\tremaining: 7.34s\n",
      "900:\tlearn: 94.2470583\ttotal: 6.09s\tremaining: 6.7s\n",
      "1000:\tlearn: 93.9753006\ttotal: 6.72s\tremaining: 5.99s\n",
      "1100:\tlearn: 93.7472652\ttotal: 7.64s\tremaining: 5.49s\n",
      "1200:\tlearn: 93.5525905\ttotal: 8.16s\tremaining: 4.7s\n",
      "1300:\tlearn: 93.3820449\ttotal: 8.87s\tremaining: 4.03s\n",
      "1400:\tlearn: 93.2256376\ttotal: 9.38s\tremaining: 3.29s\n",
      "1500:\tlearn: 93.0813980\ttotal: 10.1s\tremaining: 2.64s\n",
      "1600:\tlearn: 92.9480646\ttotal: 11.1s\tremaining: 2.02s\n",
      "1700:\tlearn: 92.8240957\ttotal: 11.8s\tremaining: 1.33s\n",
      "1800:\tlearn: 92.7090269\ttotal: 12.6s\tremaining: 642ms\n"
     ]
    },
    {
     "name": "stderr",
     "output_type": "stream",
     "text": [
      "[I 2023-11-06 21:26:58,002] Trial 59 finished with value: 78.92093565373548 and parameters: {'iterations': 1893, 'learning_rate': 0.010191181240586593, 'depth': 1, 'min_data_in_leaf': 52, 'l2_leaf_reg': 7, 'has-time': True, 'bagging_temperature': 0.563915315463397, 'random_strength': 0.701782233977871, 'border_count': 439, 'rsm': 0.9610229820913956, 'nan_mode': 'Max'}. Best is trial 36 with value: 73.11068914175323.\n"
     ]
    },
    {
     "name": "stdout",
     "output_type": "stream",
     "text": [
      "1892:\tlearn: 92.6082742\ttotal: 13.1s\tremaining: 0us\n"
     ]
    }
   ],
   "source": [
    "#For location A\n",
    "def objective(trial, X_train, y_train):\n",
    "    params = {\n",
    "        \"iterations\": trial.suggest_int(\"iterations\", 300, 3000),\n",
    "        \"learning_rate\": trial.suggest_float(\"learning_rate\", 1e-3, 0.1, log=True),\n",
    "        \"depth\": trial.suggest_int(\"depth\", 1, 13),\n",
    "        \"min_data_in_leaf\": trial.suggest_int(\"min_data_in_leaf\", 1, 100),\n",
    "        \"l2_leaf_reg\": trial.suggest_int(\"l2_leaf_reg\", 2, 10),\n",
    "        \"has_time\": trial.suggest_categorical('has-time', [True, False]),\n",
    "        \"bagging_temperature\": trial.suggest_float(\"bagging_temperature\", 0.3, 1.0),\n",
    "        \"random_strength\": trial.suggest_float(\"random_strength\", 0.3, 1.0),\n",
    "        \"random_state\": 2,\n",
    "        \"border_count\": trial.suggest_int(\"border_count\", 1, 1000),\n",
    "        \"rsm\": trial.suggest_float(\"rsm\", 0.05, 1),\n",
    "        \"nan_mode\": trial.suggest_categorical(\"nan_mode\", [\"Min\", \"Max\"])\n",
    "    }\n",
    "\n",
    "    catboost_model_b = CatBoostRegressor(**params, verbose=100)\n",
    "    catboost_model_b.fit(train_pool_b)\n",
    "    pred_b = pd.DataFrame(catboost_model_b.predict(test_pool_b))\n",
    "    MAE_a = mean_absolute_error(y_test_b, pred_b)\n",
    "    return MAE_a\n",
    "\n",
    "study = optuna.create_study(direction='minimize')\n",
    "study.optimize(lambda trial: objective(trial, X_train, y_train), n_trials=60)"
   ]
  },
  {
   "cell_type": "code",
   "execution_count": 9,
   "metadata": {},
   "outputs": [
    {
     "name": "stdout",
     "output_type": "stream",
     "text": [
      "{'iterations': 1480, 'learning_rate': 0.004154859937303772, 'depth': 1, 'colsample_bylevel': 0.8980589862889544, 'min_data_in_leaf': 11, 'l2_leaf_reg': 7, 'has-time': True, 'bagging_temperature': 0.8588447919947089, 'random_strength': 0.5000970078140154, 'border_count': 358, 'rsm': 0.31318686704086646, 'nan_mode': 'min'}\n",
      "82.32735192987839\n"
     ]
    }
   ],
   "source": [
    "#to output the best paramaters\n",
    "print(study.best_params)\n",
    "\n",
    "#to output the best score returned from the trials\n",
    "print(study.best_value)\n",
    "\n",
    "with open(\"optuna-best-parameters_b.txt\", \"w\") as file:\n",
    "    file.write(\"Best paramaters: \\n\")\n",
    "    file.write(json.dumps(study.best_params))  # Write the first string followed by a newline character\n",
    "    file.write(\"\\n\")\n",
    "    file.write(\"best score MAE: \\n\")\n",
    "    file.write(json.dumps(study.best_value))  # Write the second string followed by a newline character"
   ]
  },
  {
   "cell_type": "code",
   "execution_count": null,
   "metadata": {},
   "outputs": [],
   "source": []
  }
 ],
 "metadata": {
  "environment": {
   "kernel": "python3",
   "name": "common-cpu.m112",
   "type": "gcloud",
   "uri": "gcr.io/deeplearning-platform-release/base-cpu:m112"
  },
  "kernelspec": {
   "display_name": "Python 3",
   "language": "python",
   "name": "python3"
  },
  "language_info": {
   "codemirror_mode": {
    "name": "ipython",
    "version": 3
   },
   "file_extension": ".py",
   "mimetype": "text/x-python",
   "name": "python",
   "nbconvert_exporter": "python",
   "pygments_lexer": "ipython3",
   "version": "3.10.12"
  }
 },
 "nbformat": 4,
 "nbformat_minor": 4
}
