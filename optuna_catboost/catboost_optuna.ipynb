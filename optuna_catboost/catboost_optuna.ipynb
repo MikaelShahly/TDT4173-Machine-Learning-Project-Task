{
 "cells": [
  {
   "cell_type": "code",
   "execution_count": 13,
   "metadata": {},
   "outputs": [],
   "source": [
    "import pandas as pd\n",
    "import numpy as np\n",
    "from catboost import Pool, CatBoostRegressor\n",
    "from sklearn.model_selection import cross_val_score\n",
    "from sklearn.model_selection import TimeSeriesSplit \n",
    "import optuna\n",
    "import json\n",
    "from sklearn.metrics import mean_absolute_error"
   ]
  },
  {
   "cell_type": "code",
   "execution_count": 14,
   "metadata": {},
   "outputs": [],
   "source": [
    "#Load inn datasets\n",
    "X_test  = pd.read_parquet('../data/prepared_datasets/only_y_cleaned/X_test.parquet')\n",
    "X_train = pd.read_parquet('../data/prepared_datasets/only_y_cleaned/X_train.parquet')\n",
    "y_train = pd.read_parquet('../data/prepared_datasets/only_y_cleaned/Y_train.parquet')\n",
    "y_train_a = pd.read_parquet('../data/prepared_datasets/only_y_cleaned/Y_train_a.parquet')\n",
    "y_train_b = pd.read_parquet('../data/prepared_datasets/only_y_cleaned/Y_train_b.parquet')\n",
    "y_train_c = pd.read_parquet('../data/prepared_datasets/only_y_cleaned/Y_train_c.parquet')"
   ]
  },
  {
   "cell_type": "code",
   "execution_count": 15,
   "metadata": {},
   "outputs": [],
   "source": [
    "def test_train_split(df):\n",
    "    dates_2 = (df.index >= '2023-04-01') & (df.index <= '2023-04-15')\n",
    "    dates_1 = (df.index >= '2020-05-01') & (df.index <= '2020-08-01')\n",
    "\n",
    "    test_set = df[dates_1 | dates_2]\n",
    "\n",
    "    training_set = df[~(dates_1 | dates_2)]\n",
    "\n",
    "    X_train = training_set.drop(\"pv_measurement\", axis=1)\n",
    "    y_train = training_set['pv_measurement']\n",
    "\n",
    "    X_test = test_set.drop(\"pv_measurement\", axis=1)\n",
    "    y_test = test_set['pv_measurement'] \n",
    "\n",
    "    \n",
    "    \n",
    "    return X_train, X_test, y_train, y_test\n",
    "\n",
    "X_trainnew_a, X_test_new_a, y_train_new_a, y_test_a = test_train_split(pd.concat([X_train[X_train[\"location\"] == \"A\"].drop(\"location\", axis=1), y_train_a], axis=1))\n",
    "X_train_new_b, X_test_new_b, y_train_new_b, y_test_b = test_train_split(pd.concat([X_train[X_train[\"location\"] == \"B\"].drop(\"location\", axis=1), y_train_b], axis=1))\n",
    "X_train_new_c, X_test_new_c, y_train_new_c, y_test_c = test_train_split(pd.concat([X_train[X_train[\"location\"] == \"C\"].drop(\"location\", axis=1), y_train_c], axis=1))\n",
    "\n",
    "X_train_loc_a, X_test_loc_a, y_train_loc_a, y_test_a = test_train_split(pd.concat([X_train[X_train[\"location\"] == \"A\"], y_train_a], axis=1))\n",
    "X_train_loc_b, X_test_loc_b, y_train_loc_b, y_test_b = test_train_split(pd.concat([X_train[X_train[\"location\"] == \"B\"], y_train_b], axis=1))\n",
    "X_train_loc_c, X_test_loc_c, y_train_loc_c, y_test_c = test_train_split(pd.concat([X_train[X_train[\"location\"] == \"C\"], y_train_c], axis=1))\n",
    "\n",
    "\n",
    "X_train_new = pd.concat([X_train_loc_a, X_train_loc_b, X_train_loc_c])\n",
    "X_test_new = pd.concat([X_test_loc_a, X_test_loc_b, X_test_loc_c])\n",
    "y_train_new = pd.concat([y_train_loc_a, y_train_loc_b, y_train_loc_c])\n",
    "y_test = pd.concat([y_test_a, y_test_b, y_test_c])"
   ]
  },
  {
   "cell_type": "code",
   "execution_count": 16,
   "metadata": {},
   "outputs": [],
   "source": [
    "#Create Pools\n",
    "train_pool = Pool(X_train_new, y_train_new, cat_features=[\"location\"])\n",
    "test_pool = Pool(X_test_new, cat_features=[\"location\"]) "
   ]
  },
  {
   "cell_type": "code",
   "execution_count": null,
   "metadata": {},
   "outputs": [
    {
     "name": "stderr",
     "output_type": "stream",
     "text": [
      "[I 2023-11-09 13:56:52,244] A new study created in memory with name: no-name-8bc03a70-1559-4464-8e5d-b0ec493be2e4\n"
     ]
    },
    {
     "name": "stdout",
     "output_type": "stream",
     "text": [
      "0:\tlearn: 260.7752120\ttotal: 119ms\tremaining: 54.1s\n",
      "200:\tlearn: 116.4828172\ttotal: 24.9s\tremaining: 31.4s\n",
      "400:\tlearn: 88.1217344\ttotal: 50.5s\tremaining: 6.67s\n",
      "453:\tlearn: 84.8727154\ttotal: 57.4s\tremaining: 0us\n"
     ]
    },
    {
     "name": "stderr",
     "output_type": "stream",
     "text": [
      "[I 2023-11-09 13:57:50,050] Trial 0 finished with value: 163.70377359809018 and parameters: {'iterations': 454, 'learning_rate': 0.007609586094904204, 'depth': 13, 'min_data_in_leaf': 5, 'l2_leaf_reg': 6, 'bagging_temperature': 0.9988277155857881, 'random_strength': 0.9478905708358121, 'border_count': 283, 'rsm': 0.10496405748175507}. Best is trial 0 with value: 163.70377359809018.\n"
     ]
    },
    {
     "name": "stdout",
     "output_type": "stream",
     "text": [
      "0:\tlearn: 259.4343923\ttotal: 92ms\tremaining: 5m 36s\n",
      "200:\tlearn: 105.1125244\ttotal: 21.1s\tremaining: 6m 2s\n",
      "400:\tlearn: 95.6918542\ttotal: 43s\tremaining: 5m 49s\n",
      "600:\tlearn: 93.2506608\ttotal: 1m 5s\tremaining: 5m 32s\n",
      "800:\tlearn: 91.8603610\ttotal: 1m 28s\tremaining: 5m 15s\n",
      "1000:\tlearn: 91.0124727\ttotal: 1m 51s\tremaining: 4m 55s\n",
      "1200:\tlearn: 90.1170011\ttotal: 2m 14s\tremaining: 4m 35s\n",
      "1600:\tlearn: 88.9524908\ttotal: 3m 1s\tremaining: 3m 53s\n",
      "1800:\tlearn: 88.4305405\ttotal: 3m 25s\tremaining: 3m 32s\n",
      "2000:\tlearn: 88.0186277\ttotal: 3m 49s\tremaining: 3m 10s\n",
      "2200:\tlearn: 87.6068437\ttotal: 4m 13s\tremaining: 2m 48s\n",
      "2400:\tlearn: 87.2916574\ttotal: 4m 38s\tremaining: 2m 25s\n",
      "2600:\tlearn: 86.9683005\ttotal: 5m 1s\tremaining: 2m 2s\n",
      "2800:\tlearn: 86.6590867\ttotal: 5m 26s\tremaining: 1m 40s\n",
      "3000:\tlearn: 86.4805106\ttotal: 5m 51s\tremaining: 1m 17s\n",
      "3200:\tlearn: 86.3507599\ttotal: 6m 16s\tremaining: 54s\n",
      "3400:\tlearn: 86.1141928\ttotal: 6m 41s\tremaining: 30.5s\n",
      "3600:\tlearn: 85.8766011\ttotal: 7m 5s\tremaining: 6.97s\n"
     ]
    },
    {
     "name": "stderr",
     "output_type": "stream",
     "text": [
      "[I 2023-11-09 14:05:03,548] Trial 1 finished with value: 160.40996502421177 and parameters: {'iterations': 3660, 'learning_rate': 0.015871232601449292, 'depth': 4, 'min_data_in_leaf': 10, 'l2_leaf_reg': 5, 'bagging_temperature': 0.8640408928938796, 'random_strength': 0.8141700381950707, 'border_count': 409, 'rsm': 0.9302043034010897}. Best is trial 1 with value: 160.40996502421177.\n"
     ]
    },
    {
     "name": "stdout",
     "output_type": "stream",
     "text": [
      "3659:\tlearn: 85.8151975\ttotal: 7m 12s\tremaining: 0us\n",
      "0:\tlearn: 260.8697706\ttotal: 101ms\tremaining: 4m 57s\n",
      "200:\tlearn: 167.0644946\ttotal: 19.6s\tremaining: 4m 25s\n",
      "400:\tlearn: 123.1073337\ttotal: 40.1s\tremaining: 4m 13s\n",
      "600:\tlearn: 104.7629444\ttotal: 1m\tremaining: 3m 56s\n",
      "800:\tlearn: 96.0597295\ttotal: 1m 22s\tremaining: 3m 39s\n",
      "1000:\tlearn: 91.6451712\ttotal: 1m 43s\tremaining: 3m 19s\n",
      "1200:\tlearn: 89.1855627\ttotal: 2m 5s\tremaining: 3m\n",
      "1400:\tlearn: 87.4997225\ttotal: 2m 27s\tremaining: 2m 41s\n",
      "1600:\tlearn: 86.2983801\ttotal: 2m 48s\tremaining: 2m 20s\n",
      "1800:\tlearn: 85.3513403\ttotal: 3m 11s\tremaining: 2m\n",
      "2000:\tlearn: 84.5008622\ttotal: 3m 32s\tremaining: 1m 39s\n",
      "2200:\tlearn: 83.7548951\ttotal: 3m 54s\tremaining: 1m 18s\n",
      "2400:\tlearn: 83.0937532\ttotal: 4m 16s\tremaining: 57.1s\n",
      "2600:\tlearn: 82.5439734\ttotal: 4m 38s\tremaining: 35.8s\n",
      "2800:\tlearn: 82.0860850\ttotal: 5m 1s\tremaining: 14.4s\n",
      "2934:\tlearn: 81.7396082\ttotal: 5m 16s\tremaining: 0us\n"
     ]
    },
    {
     "name": "stderr",
     "output_type": "stream",
     "text": [
      "[I 2023-11-09 14:10:20,418] Trial 2 finished with value: 156.12461860477828 and parameters: {'iterations': 2935, 'learning_rate': 0.003949349442994246, 'depth': 9, 'min_data_in_leaf': 57, 'l2_leaf_reg': 10, 'bagging_temperature': 0.5337792706447331, 'random_strength': 0.48986767564444805, 'border_count': 917, 'rsm': 0.10514684473380233}. Best is trial 2 with value: 156.12461860477828.\n"
     ]
    },
    {
     "name": "stdout",
     "output_type": "stream",
     "text": [
      "0:\tlearn: 260.5874018\ttotal: 82.6ms\tremaining: 2m 41s\n",
      "200:\tlearn: 122.3169677\ttotal: 19.5s\tremaining: 2m 50s\n",
      "400:\tlearn: 107.3162667\ttotal: 40.2s\tremaining: 2m 36s\n",
      "600:\tlearn: 100.3651888\ttotal: 1m 1s\tremaining: 2m 19s\n",
      "800:\tlearn: 97.6457061\ttotal: 1m 23s\tremaining: 2m\n",
      "1000:\tlearn: 96.0522850\ttotal: 1m 44s\tremaining: 1m 40s\n",
      "1200:\tlearn: 94.8194177\ttotal: 2m 6s\tremaining: 1m 20s\n",
      "1400:\tlearn: 93.6910652\ttotal: 2m 28s\tremaining: 59.4s\n",
      "1600:\tlearn: 92.9099068\ttotal: 2m 51s\tremaining: 38.4s\n",
      "1800:\tlearn: 92.3518243\ttotal: 3m 13s\tremaining: 17.1s\n"
     ]
    },
    {
     "name": "stderr",
     "output_type": "stream",
     "text": [
      "[I 2023-11-09 14:13:52,588] Trial 3 finished with value: 165.19093075762345 and parameters: {'iterations': 1960, 'learning_rate': 0.01344906631363252, 'depth': 4, 'min_data_in_leaf': 34, 'l2_leaf_reg': 5, 'bagging_temperature': 0.6731391649668015, 'random_strength': 0.5461473264680138, 'border_count': 970, 'rsm': 0.14452351557723883}. Best is trial 2 with value: 156.12461860477828.\n"
     ]
    },
    {
     "name": "stdout",
     "output_type": "stream",
     "text": [
      "1959:\tlearn: 91.9588466\ttotal: 3m 31s\tremaining: 0us\n",
      "0:\tlearn: 259.4264467\ttotal: 91.4ms\tremaining: 6m 3s\n",
      "200:\tlearn: 113.3261011\ttotal: 24.6s\tremaining: 7m 41s\n",
      "400:\tlearn: 109.6794303\ttotal: 49.7s\tremaining: 7m 23s\n",
      "600:\tlearn: 104.5845931\ttotal: 1m 16s\tremaining: 7m 9s\n",
      "800:\tlearn: 103.0783541\ttotal: 1m 43s\tremaining: 6m 49s\n",
      "1000:\tlearn: 101.6700591\ttotal: 2m 9s\tremaining: 6m 24s\n",
      "1200:\tlearn: 100.8233604\ttotal: 2m 35s\tremaining: 6m\n",
      "1400:\tlearn: 100.3730117\ttotal: 3m 2s\tremaining: 5m 35s\n",
      "1600:\tlearn: 100.0300473\ttotal: 3m 29s\tremaining: 5m 11s\n",
      "1800:\tlearn: 99.6895036\ttotal: 3m 57s\tremaining: 4m 46s\n",
      "2000:\tlearn: 99.4852860\ttotal: 4m 24s\tremaining: 4m 21s\n",
      "2200:\tlearn: 99.3367104\ttotal: 4m 51s\tremaining: 3m 55s\n",
      "2400:\tlearn: 99.2089662\ttotal: 5m 18s\tremaining: 3m 29s\n",
      "2600:\tlearn: 99.0492871\ttotal: 5m 45s\tremaining: 3m 2s\n",
      "2800:\tlearn: 98.9569547\ttotal: 6m 13s\tremaining: 2m 36s\n",
      "3000:\tlearn: 98.8491909\ttotal: 6m 41s\tremaining: 2m 10s\n",
      "3200:\tlearn: 98.6857379\ttotal: 7m 9s\tremaining: 1m 44s\n",
      "3400:\tlearn: 98.6055495\ttotal: 7m 37s\tremaining: 1m 17s\n",
      "3600:\tlearn: 98.4877917\ttotal: 8m 5s\tremaining: 50.7s\n",
      "3800:\tlearn: 98.3751304\ttotal: 8m 33s\tremaining: 23.8s\n"
     ]
    },
    {
     "name": "stderr",
     "output_type": "stream",
     "text": [
      "[I 2023-11-09 14:22:51,034] Trial 4 finished with value: 174.93828978986863 and parameters: {'iterations': 3977, 'learning_rate': 0.03586806108518722, 'depth': 2, 'min_data_in_leaf': 74, 'l2_leaf_reg': 8, 'bagging_temperature': 0.4365765136591654, 'random_strength': 0.623328203665733, 'border_count': 325, 'rsm': 0.8668123542751249}. Best is trial 2 with value: 156.12461860477828.\n"
     ]
    },
    {
     "name": "stdout",
     "output_type": "stream",
     "text": [
      "3976:\tlearn: 98.2675695\ttotal: 8m 57s\tremaining: 0us\n",
      "0:\tlearn: 260.7388969\ttotal: 91.7ms\tremaining: 2m 14s\n",
      "200:\tlearn: 123.4743404\ttotal: 19.8s\tremaining: 2m 4s\n",
      "400:\tlearn: 100.1074434\ttotal: 41.2s\tremaining: 1m 49s\n",
      "600:\tlearn: 94.1851008\ttotal: 1m 2s\tremaining: 1m 30s\n",
      "800:\tlearn: 92.0093731\ttotal: 1m 24s\tremaining: 1m 10s\n",
      "1000:\tlearn: 90.8249473\ttotal: 1m 46s\tremaining: 49.9s\n",
      "1200:\tlearn: 89.7316200\ttotal: 2m 8s\tremaining: 28.8s\n",
      "1400:\tlearn: 88.8927390\ttotal: 2m 30s\tremaining: 7.43s\n"
     ]
    },
    {
     "name": "stderr",
     "output_type": "stream",
     "text": [
      "[I 2023-11-09 14:25:30,098] Trial 5 finished with value: 160.66510217667044 and parameters: {'iterations': 1470, 'learning_rate': 0.008306466579418104, 'depth': 5, 'min_data_in_leaf': 40, 'l2_leaf_reg': 8, 'bagging_temperature': 0.31028666059804577, 'random_strength': 0.7973303031283442, 'border_count': 793, 'rsm': 0.6160449416755465}. Best is trial 2 with value: 156.12461860477828.\n"
     ]
    },
    {
     "name": "stdout",
     "output_type": "stream",
     "text": [
      "1469:\tlearn: 88.5863216\ttotal: 2m 38s\tremaining: 0us\n",
      "0:\tlearn: 261.1358946\ttotal: 86.7ms\tremaining: 5m 25s\n",
      "200:\tlearn: 216.5874367\ttotal: 21.4s\tremaining: 6m 18s\n",
      "400:\tlearn: 206.0119144\ttotal: 46.1s\tremaining: 6m 25s\n",
      "600:\tlearn: 202.4852135\ttotal: 1m 11s\tremaining: 6m 14s\n",
      "800:\tlearn: 200.7412421\ttotal: 1m 37s\tremaining: 5m 58s\n",
      "1000:\tlearn: 199.7021042\ttotal: 2m 3s\tremaining: 5m 40s\n",
      "1200:\tlearn: 199.2627657\ttotal: 2m 30s\tremaining: 5m 21s\n",
      "1400:\tlearn: 199.0469379\ttotal: 2m 58s\tremaining: 5m\n",
      "1600:\tlearn: 198.9109993\ttotal: 3m 27s\tremaining: 4m 39s\n",
      "1800:\tlearn: 198.8187023\ttotal: 3m 55s\tremaining: 4m 16s\n",
      "2000:\tlearn: 198.7269730\ttotal: 4m 24s\tremaining: 3m 51s\n",
      "2200:\tlearn: 198.6726508\ttotal: 4m 52s\tremaining: 3m 27s\n",
      "2400:\tlearn: 198.6372497\ttotal: 5m 21s\tremaining: 3m 1s\n",
      "2600:\tlearn: 198.5967294\ttotal: 5m 50s\tremaining: 2m 35s\n",
      "2800:\tlearn: 198.5538950\ttotal: 6m 19s\tremaining: 2m 9s\n",
      "3000:\tlearn: 198.5343998\ttotal: 6m 47s\tremaining: 1m 42s\n",
      "3200:\tlearn: 198.5172779\ttotal: 7m 15s\tremaining: 1m 15s\n",
      "3400:\tlearn: 198.4926148\ttotal: 7m 43s\tremaining: 48.7s\n",
      "3600:\tlearn: 198.4793209\ttotal: 8m 11s\tremaining: 21.4s\n"
     ]
    },
    {
     "name": "stderr",
     "output_type": "stream",
     "text": [
      "[I 2023-11-09 14:34:04,636] Trial 6 finished with value: 396.80804804518027 and parameters: {'iterations': 3758, 'learning_rate': 0.00517942478272389, 'depth': 1, 'min_data_in_leaf': 91, 'l2_leaf_reg': 2, 'bagging_temperature': 0.3082447300475499, 'random_strength': 0.4493361679800132, 'border_count': 181, 'rsm': 0.39394890232088037}. Best is trial 2 with value: 156.12461860477828.\n"
     ]
    },
    {
     "name": "stdout",
     "output_type": "stream",
     "text": [
      "3757:\tlearn: 198.4710211\ttotal: 8m 33s\tremaining: 0us\n",
      "0:\tlearn: 260.9267622\ttotal: 80.9ms\tremaining: 1m 55s\n",
      "200:\tlearn: 145.6685580\ttotal: 21.4s\tremaining: 2m 10s\n",
      "400:\tlearn: 120.1498766\ttotal: 46.5s\tremaining: 1m 58s\n",
      "600:\tlearn: 116.1667145\ttotal: 1m 12s\tremaining: 1m 38s\n",
      "800:\tlearn: 114.9343751\ttotal: 1m 37s\tremaining: 1m 15s\n",
      "1000:\tlearn: 114.2400268\ttotal: 2m 2s\tremaining: 51.9s\n",
      "1200:\tlearn: 112.4293055\ttotal: 2m 28s\tremaining: 27.5s\n",
      "1400:\tlearn: 109.9225361\ttotal: 2m 53s\tremaining: 2.85s\n"
     ]
    },
    {
     "name": "stderr",
     "output_type": "stream",
     "text": [
      "[I 2023-11-09 14:37:01,929] Trial 7 finished with value: 188.43128720526457 and parameters: {'iterations': 1424, 'learning_rate': 0.009354369306690414, 'depth': 2, 'min_data_in_leaf': 65, 'l2_leaf_reg': 9, 'bagging_temperature': 0.8430842163341854, 'random_strength': 0.8433367183198741, 'border_count': 767, 'rsm': 0.659190973151079}. Best is trial 2 with value: 156.12461860477828.\n"
     ]
    },
    {
     "name": "stdout",
     "output_type": "stream",
     "text": [
      "1423:\tlearn: 109.7573617\ttotal: 2m 56s\tremaining: 0us\n",
      "0:\tlearn: 248.9393986\ttotal: 159ms\tremaining: 10m 10s\n",
      "200:\tlearn: 63.2055102\ttotal: 33s\tremaining: 9m 58s\n",
      "400:\tlearn: 48.9466282\ttotal: 1m 8s\tremaining: 9m 45s\n",
      "600:\tlearn: 40.4257784\ttotal: 1m 44s\tremaining: 9m 22s\n",
      "800:\tlearn: 34.4745218\ttotal: 2m 20s\tremaining: 8m 54s\n",
      "1000:\tlearn: 29.9560307\ttotal: 2m 57s\tremaining: 8m 24s\n",
      "1200:\tlearn: 26.1632097\ttotal: 3m 34s\tremaining: 7m 52s\n",
      "1400:\tlearn: 23.3521324\ttotal: 4m 12s\tremaining: 7m 19s\n",
      "1600:\tlearn: 20.8925228\ttotal: 4m 49s\tremaining: 6m 45s\n",
      "1800:\tlearn: 19.0329647\ttotal: 5m 27s\tremaining: 6m 10s\n",
      "2000:\tlearn: 17.4290293\ttotal: 6m 5s\tremaining: 5m 36s\n",
      "2200:\tlearn: 15.9988103\ttotal: 6m 43s\tremaining: 5m\n",
      "2400:\tlearn: 15.0260345\ttotal: 7m 21s\tremaining: 4m 24s\n",
      "2600:\tlearn: 13.9758362\ttotal: 7m 59s\tremaining: 3m 48s\n",
      "2800:\tlearn: 12.9019619\ttotal: 8m 38s\tremaining: 3m 12s\n",
      "3000:\tlearn: 11.9104779\ttotal: 9m 16s\tremaining: 2m 35s\n",
      "3200:\tlearn: 11.0868389\ttotal: 9m 54s\tremaining: 1m 59s\n",
      "3400:\tlearn: 10.3731911\ttotal: 10m 32s\tremaining: 1m 22s\n",
      "3600:\tlearn: 9.7029289\ttotal: 11m 11s\tremaining: 44.9s\n",
      "3800:\tlearn: 9.0184700\ttotal: 11m 49s\tremaining: 7.65s\n",
      "3841:\tlearn: 8.8935529\ttotal: 11m 57s\tremaining: 0us\n"
     ]
    },
    {
     "name": "stderr",
     "output_type": "stream",
     "text": [
      "[I 2023-11-09 14:49:00,964] Trial 8 finished with value: 165.68638153335792 and parameters: {'iterations': 3842, 'learning_rate': 0.07655452426602327, 'depth': 12, 'min_data_in_leaf': 61, 'l2_leaf_reg': 9, 'bagging_temperature': 0.8351149509647404, 'random_strength': 0.7928936243198105, 'border_count': 376, 'rsm': 0.48189578939450156}. Best is trial 2 with value: 156.12461860477828.\n"
     ]
    },
    {
     "name": "stdout",
     "output_type": "stream",
     "text": [
      "0:\tlearn: 261.1051760\ttotal: 98.3ms\tremaining: 4m 25s\n",
      "200:\tlearn: 186.3833512\ttotal: 20.2s\tremaining: 4m 11s\n",
      "400:\tlearn: 142.3730950\ttotal: 40.7s\tremaining: 3m 53s\n",
      "600:\tlearn: 121.7409533\ttotal: 1m 2s\tremaining: 3m 38s\n",
      "800:\tlearn: 109.0304913\ttotal: 1m 24s\tremaining: 3m 20s\n",
      "1000:\tlearn: 101.2109333\ttotal: 1m 46s\tremaining: 3m\n",
      "1200:\tlearn: 96.3236074\ttotal: 2m 8s\tremaining: 2m 40s\n",
      "1400:\tlearn: 93.3811051\ttotal: 2m 31s\tremaining: 2m 20s\n",
      "1600:\tlearn: 91.0309442\ttotal: 2m 53s\tremaining: 1m 59s\n",
      "1800:\tlearn: 89.2810379\ttotal: 3m 16s\tremaining: 1m 38s\n",
      "2000:\tlearn: 87.9241124\ttotal: 3m 39s\tremaining: 1m 16s\n",
      "2200:\tlearn: 86.7995120\ttotal: 4m 1s\tremaining: 55.1s\n",
      "2400:\tlearn: 85.8748194\ttotal: 4m 24s\tremaining: 33.2s\n",
      "2600:\tlearn: 85.0909601\ttotal: 4m 47s\tremaining: 11.2s\n",
      "2701:\tlearn: 84.6858093\ttotal: 4m 58s\tremaining: 0us\n"
     ]
    },
    {
     "name": "stderr",
     "output_type": "stream",
     "text": [
      "[I 2023-11-09 14:54:00,325] Trial 9 finished with value: 157.73666307488497 and parameters: {'iterations': 2702, 'learning_rate': 0.003712230773144204, 'depth': 11, 'min_data_in_leaf': 90, 'l2_leaf_reg': 9, 'bagging_temperature': 0.7451717819907971, 'random_strength': 0.8616398530558929, 'border_count': 520, 'rsm': 0.06009605375838372}. Best is trial 2 with value: 156.12461860477828.\n"
     ]
    },
    {
     "name": "stdout",
     "output_type": "stream",
     "text": [
      "0:\tlearn: 261.2589680\ttotal: 93.8ms\tremaining: 4m 39s\n",
      "200:\tlearn: 222.0642958\ttotal: 17.7s\tremaining: 4m 5s\n",
      "400:\tlearn: 190.4650748\ttotal: 35.5s\tremaining: 3m 48s\n",
      "600:\tlearn: 166.3005111\ttotal: 53.5s\tremaining: 3m 32s\n",
      "800:\tlearn: 148.5618808\ttotal: 1m 12s\tremaining: 3m 16s\n",
      "1000:\tlearn: 135.2389067\ttotal: 1m 30s\tremaining: 2m 59s\n",
      "1200:\tlearn: 125.4834083\ttotal: 1m 49s\tremaining: 2m 42s\n",
      "1400:\tlearn: 118.0637095\ttotal: 2m 8s\tremaining: 2m 25s\n",
      "1600:\tlearn: 112.7076168\ttotal: 2m 27s\tremaining: 2m 7s\n",
      "1800:\tlearn: 108.4298642\ttotal: 2m 47s\tremaining: 1m 49s\n",
      "2000:\tlearn: 105.1218874\ttotal: 3m 6s\tremaining: 1m 31s\n",
      "2200:\tlearn: 102.4463877\ttotal: 3m 26s\tremaining: 1m 13s\n",
      "2400:\tlearn: 100.3132932\ttotal: 3m 45s\tremaining: 54.7s\n",
      "2600:\tlearn: 98.7055995\ttotal: 4m 5s\tremaining: 36s\n",
      "2800:\tlearn: 97.4268953\ttotal: 4m 24s\tremaining: 17.2s\n"
     ]
    },
    {
     "name": "stderr",
     "output_type": "stream",
     "text": [
      "[I 2023-11-09 14:58:43,248] Trial 10 finished with value: 182.17587792088682 and parameters: {'iterations': 2983, 'learning_rate': 0.0011294706118708294, 'depth': 9, 'min_data_in_leaf': 28, 'l2_leaf_reg': 2, 'bagging_temperature': 0.5302075615619057, 'random_strength': 0.3221640592779251, 'border_count': 3, 'rsm': 0.3037545836082041}. Best is trial 2 with value: 156.12461860477828.\n"
     ]
    },
    {
     "name": "stdout",
     "output_type": "stream",
     "text": [
      "2982:\tlearn: 96.4552963\ttotal: 4m 42s\tremaining: 0us\n",
      "0:\tlearn: 261.4277332\ttotal: 105ms\tremaining: 4m 55s\n",
      "200:\tlearn: 196.4005541\ttotal: 19.5s\tremaining: 4m 13s\n",
      "400:\tlearn: 154.5898548\ttotal: 39.9s\tremaining: 3m 59s\n",
      "600:\tlearn: 128.4666343\ttotal: 1m\tremaining: 3m 43s\n",
      "800:\tlearn: 114.0151771\ttotal: 1m 21s\tremaining: 3m 24s\n",
      "1000:\tlearn: 105.5917212\ttotal: 1m 42s\tremaining: 3m 6s\n",
      "1200:\tlearn: 99.9619570\ttotal: 2m 4s\tremaining: 2m 46s\n",
      "1400:\tlearn: 96.4113469\ttotal: 2m 26s\tremaining: 2m 27s\n",
      "1600:\tlearn: 93.9369459\ttotal: 2m 48s\tremaining: 2m 7s\n",
      "1800:\tlearn: 92.1212998\ttotal: 3m 9s\tremaining: 1m 46s\n",
      "2000:\tlearn: 90.7606564\ttotal: 3m 31s\tremaining: 1m 25s\n",
      "2200:\tlearn: 89.5932766\ttotal: 3m 53s\tremaining: 1m 4s\n",
      "2400:\tlearn: 88.7105176\ttotal: 4m 15s\tremaining: 43.8s\n",
      "2600:\tlearn: 87.9912343\ttotal: 4m 37s\tremaining: 22.5s\n",
      "2800:\tlearn: 87.2639080\ttotal: 4m 59s\tremaining: 1.18s\n"
     ]
    },
    {
     "name": "stderr",
     "output_type": "stream",
     "text": [
      "[I 2023-11-09 15:03:44,553] Trial 11 finished with value: 157.652107984552 and parameters: {'iterations': 2812, 'learning_rate': 0.002764624640720599, 'depth': 9, 'min_data_in_leaf': 99, 'l2_leaf_reg': 10, 'bagging_temperature': 0.622345918049927, 'random_strength': 0.6664497404296547, 'border_count': 623, 'rsm': 0.08013124727276187}. Best is trial 2 with value: 156.12461860477828.\n"
     ]
    },
    {
     "name": "stdout",
     "output_type": "stream",
     "text": [
      "2811:\tlearn: 87.2395257\ttotal: 5m\tremaining: 0us\n",
      "0:\tlearn: 261.2441572\ttotal: 103ms\tremaining: 4m 56s\n",
      "200:\tlearn: 193.9777088\ttotal: 19.9s\tremaining: 4m 26s\n",
      "400:\tlearn: 150.3398865\ttotal: 40.1s\tremaining: 4m 9s\n",
      "600:\tlearn: 124.9686943\ttotal: 1m 1s\tremaining: 3m 52s\n",
      "800:\tlearn: 110.8532850\ttotal: 1m 22s\tremaining: 3m 35s\n",
      "1000:\tlearn: 102.2719921\ttotal: 1m 43s\tremaining: 3m 16s\n",
      "1200:\tlearn: 96.7091411\ttotal: 2m 5s\tremaining: 2m 56s\n",
      "1400:\tlearn: 93.2347602\ttotal: 2m 27s\tremaining: 2m 37s\n",
      "1600:\tlearn: 90.9826756\ttotal: 2m 49s\tremaining: 2m 17s\n",
      "1800:\tlearn: 89.4462218\ttotal: 3m 11s\tremaining: 1m 56s\n",
      "2000:\tlearn: 88.3551051\ttotal: 3m 33s\tremaining: 1m 35s\n",
      "2200:\tlearn: 87.5884496\ttotal: 3m 55s\tremaining: 1m 14s\n",
      "2400:\tlearn: 86.8719691\ttotal: 4m 17s\tremaining: 53.1s\n",
      "2600:\tlearn: 86.2732894\ttotal: 4m 40s\tremaining: 31.7s\n",
      "2800:\tlearn: 85.7946602\ttotal: 5m 2s\tremaining: 10.2s\n"
     ]
    },
    {
     "name": "stderr",
     "output_type": "stream",
     "text": [
      "[I 2023-11-09 15:08:58,053] Trial 12 finished with value: 156.14547159221522 and parameters: {'iterations': 2895, 'learning_rate': 0.0023478094071940772, 'depth': 8, 'min_data_in_leaf': 98, 'l2_leaf_reg': 10, 'bagging_temperature': 0.5688963295951563, 'random_strength': 0.6695898279748347, 'border_count': 647, 'rsm': 0.2541487096523246}. Best is trial 2 with value: 156.12461860477828.\n"
     ]
    },
    {
     "name": "stdout",
     "output_type": "stream",
     "text": [
      "2894:\tlearn: 85.6045490\ttotal: 5m 12s\tremaining: 0us\n",
      "0:\tlearn: 261.2688113\ttotal: 93.2ms\tremaining: 4m 51s\n",
      "200:\tlearn: 198.9959570\ttotal: 19.8s\tremaining: 4m 47s\n",
      "400:\tlearn: 158.6681752\ttotal: 40s\tremaining: 4m 32s\n",
      "600:\tlearn: 133.3000235\ttotal: 1m\tremaining: 4m 16s\n",
      "800:\tlearn: 117.3469174\ttotal: 1m 22s\tremaining: 3m 59s\n",
      "1000:\tlearn: 107.3052829\ttotal: 1m 43s\tremaining: 3m 40s\n",
      "1200:\tlearn: 100.7089881\ttotal: 2m 5s\tremaining: 3m 21s\n",
      "1400:\tlearn: 96.1731712\ttotal: 2m 27s\tremaining: 3m 1s\n",
      "1600:\tlearn: 93.1730104\ttotal: 2m 49s\tremaining: 2m 41s\n",
      "1800:\tlearn: 91.1119642\ttotal: 3m 14s\tremaining: 2m 23s\n"
     ]
    },
    {
     "name": "stderr",
     "output_type": "stream",
     "text": [
      "[I 2023-11-09 15:14:41,233] Trial 13 finished with value: 156.08257844329813 and parameters: {'iterations': 3128, 'learning_rate': 0.0020597487525459246, 'depth': 8, 'min_data_in_leaf': 78, 'l2_leaf_reg': 10, 'bagging_temperature': 0.5301632626731282, 'random_strength': 0.5369268034817445, 'border_count': 999, 'rsm': 0.25514379021155364}. Best is trial 13 with value: 156.08257844329813.\n"
     ]
    },
    {
     "name": "stdout",
     "output_type": "stream",
     "text": [
      "3127:\tlearn: 85.7697802\ttotal: 5m 42s\tremaining: 0us\n",
      "0:\tlearn: 261.2574405\ttotal: 84.3ms\tremaining: 3m 9s\n",
      "200:\tlearn: 225.6584157\ttotal: 18.2s\tremaining: 3m 5s\n",
      "400:\tlearn: 189.4998138\ttotal: 37.1s\tremaining: 2m 50s\n",
      "600:\tlearn: 163.4261993\ttotal: 55.8s\tremaining: 2m 32s\n",
      "800:\tlearn: 144.5260234\ttotal: 1m 15s\tremaining: 2m 15s\n",
      "1000:\tlearn: 130.6014274\ttotal: 1m 35s\tremaining: 1m 58s\n",
      "1200:\tlearn: 121.1758525\ttotal: 1m 55s\tremaining: 1m 40s\n",
      "1400:\tlearn: 114.1549948\ttotal: 2m 15s\tremaining: 1m 21s\n",
      "1600:\tlearn: 109.1056315\ttotal: 2m 35s\tremaining: 1m 2s\n",
      "1800:\tlearn: 105.2946083\ttotal: 2m 56s\tremaining: 43.9s\n",
      "2000:\tlearn: 102.1833491\ttotal: 3m 17s\tremaining: 24.4s\n",
      "2200:\tlearn: 99.9884130\ttotal: 3m 38s\tremaining: 4.67s\n"
     ]
    },
    {
     "name": "stderr",
     "output_type": "stream",
     "text": [
      "[I 2023-11-09 15:18:25,649] Trial 14 finished with value: 177.7489457444326 and parameters: {'iterations': 2248, 'learning_rate': 0.0014208575838135105, 'depth': 6, 'min_data_in_leaf': 74, 'l2_leaf_reg': 7, 'bagging_temperature': 0.4869003063467435, 'random_strength': 0.4777526924787767, 'border_count': 924, 'rsm': 0.22726850688256356}. Best is trial 13 with value: 156.08257844329813.\n"
     ]
    },
    {
     "name": "stdout",
     "output_type": "stream",
     "text": [
      "2247:\tlearn: 99.5877035\ttotal: 3m 43s\tremaining: 0us\n",
      "0:\tlearn: 261.2825967\ttotal: 108ms\tremaining: 5m 55s\n",
      "200:\tlearn: 197.1486008\ttotal: 22.3s\tremaining: 5m 44s\n",
      "400:\tlearn: 155.0671150\ttotal: 45s\tremaining: 5m 26s\n",
      "600:\tlearn: 129.8227545\ttotal: 1m 8s\tremaining: 5m 7s\n",
      "800:\tlearn: 114.4861677\ttotal: 1m 31s\tremaining: 4m 47s\n",
      "1000:\tlearn: 104.4505091\ttotal: 1m 55s\tremaining: 4m 27s\n",
      "1200:\tlearn: 97.5941114\ttotal: 2m 20s\tremaining: 4m 5s\n",
      "1400:\tlearn: 92.6785997\ttotal: 2m 44s\tremaining: 3m 44s\n",
      "1600:\tlearn: 89.2081113\ttotal: 3m 9s\tremaining: 3m 21s\n",
      "1800:\tlearn: 86.7562999\ttotal: 3m 33s\tremaining: 2m 58s\n",
      "2000:\tlearn: 84.9728442\ttotal: 3m 58s\tremaining: 2m 35s\n",
      "2200:\tlearn: 83.6931994\ttotal: 4m 23s\tremaining: 2m 12s\n",
      "2400:\tlearn: 82.6099801\ttotal: 4m 48s\tremaining: 1m 49s\n",
      "2600:\tlearn: 81.8636721\ttotal: 5m 13s\tremaining: 1m 25s\n",
      "2800:\tlearn: 81.2364288\ttotal: 5m 38s\tremaining: 1m 1s\n",
      "3000:\tlearn: 80.6592492\ttotal: 6m 3s\tremaining: 37.4s\n",
      "3200:\tlearn: 80.1817412\ttotal: 6m 28s\tremaining: 13.2s\n",
      "3309:\tlearn: 79.9735741\ttotal: 6m 41s\tremaining: 0us\n"
     ]
    },
    {
     "name": "stderr",
     "output_type": "stream",
     "text": [
      "[I 2023-11-09 15:25:08,376] Trial 15 finished with value: 153.07338233396234 and parameters: {'iterations': 3310, 'learning_rate': 0.0019464835347293924, 'depth': 10, 'min_data_in_leaf': 50, 'l2_leaf_reg': 10, 'bagging_temperature': 0.4329079387139895, 'random_strength': 0.3895917803382764, 'border_count': 858, 'rsm': 0.33231307635274043}. Best is trial 15 with value: 153.07338233396234.\n"
     ]
    },
    {
     "name": "stdout",
     "output_type": "stream",
     "text": [
      "0:\tlearn: 261.3114338\ttotal: 130ms\tremaining: 7m 2s\n",
      "200:\tlearn: 203.6384611\ttotal: 26.1s\tremaining: 6m 36s\n",
      "400:\tlearn: 162.0493772\ttotal: 53.1s\tremaining: 6m 17s\n",
      "600:\tlearn: 136.0004849\ttotal: 1m 20s\tremaining: 5m 55s\n",
      "800:\tlearn: 119.3427645\ttotal: 1m 48s\tremaining: 5m 31s\n",
      "1000:\tlearn: 107.8765594\ttotal: 2m 16s\tremaining: 5m 6s\n",
      "1200:\tlearn: 100.1546068\ttotal: 2m 44s\tremaining: 4m 41s\n",
      "1400:\tlearn: 94.4435981\ttotal: 3m 13s\tremaining: 4m 15s\n",
      "1600:\tlearn: 90.4097884\ttotal: 3m 41s\tremaining: 3m 49s\n",
      "1800:\tlearn: 87.1923882\ttotal: 4m 10s\tremaining: 3m 22s\n",
      "2000:\tlearn: 84.8863996\ttotal: 4m 39s\tremaining: 2m 54s\n",
      "2200:\tlearn: 82.9475227\ttotal: 5m 8s\tremaining: 2m 27s\n",
      "2400:\tlearn: 81.5086781\ttotal: 5m 37s\tremaining: 1m 59s\n",
      "2600:\tlearn: 80.3988243\ttotal: 6m 6s\tremaining: 1m 31s\n",
      "2800:\tlearn: 79.4683689\ttotal: 6m 35s\tremaining: 1m 3s\n",
      "3000:\tlearn: 78.7026545\ttotal: 7m 4s\tremaining: 35.7s\n",
      "3200:\tlearn: 78.0096529\ttotal: 7m 33s\tremaining: 7.37s\n",
      "3252:\tlearn: 77.8471881\ttotal: 7m 41s\tremaining: 0us\n"
     ]
    },
    {
     "name": "stderr",
     "output_type": "stream",
     "text": [
      "[I 2023-11-09 15:32:50,960] Trial 16 finished with value: 152.77748376989672 and parameters: {'iterations': 3253, 'learning_rate': 0.0016803931336705406, 'depth': 11, 'min_data_in_leaf': 42, 'l2_leaf_reg': 7, 'bagging_temperature': 0.42665366615284905, 'random_strength': 0.3319168564020322, 'border_count': 798, 'rsm': 0.35979475974200753}. Best is trial 16 with value: 152.77748376989672.\n"
     ]
    },
    {
     "name": "stdout",
     "output_type": "stream",
     "text": [
      "0:\tlearn: 261.2438453\ttotal: 102ms\tremaining: 5m 41s\n",
      "200:\tlearn: 220.5774732\ttotal: 22.5s\tremaining: 5m 52s\n",
      "400:\tlearn: 186.6644134\ttotal: 45.3s\tremaining: 5m 33s\n",
      "600:\tlearn: 161.2543762\ttotal: 1m 8s\tremaining: 5m 13s\n",
      "800:\tlearn: 143.3344687\ttotal: 1m 31s\tremaining: 4m 53s\n",
      "1000:\tlearn: 129.4645008\ttotal: 1m 55s\tremaining: 4m 32s\n",
      "1200:\tlearn: 118.9201524\ttotal: 2m 19s\tremaining: 4m 11s\n",
      "1400:\tlearn: 111.4101688\ttotal: 2m 43s\tremaining: 3m 48s\n",
      "1600:\tlearn: 105.3385553\ttotal: 3m 7s\tremaining: 3m 26s\n",
      "1800:\tlearn: 100.7442303\ttotal: 3m 32s\tremaining: 3m 3s\n",
      "2000:\tlearn: 97.0286546\ttotal: 3m 57s\tremaining: 2m 40s\n",
      "2200:\tlearn: 93.9662515\ttotal: 4m 22s\tremaining: 2m 18s\n",
      "2400:\tlearn: 91.4873072\ttotal: 4m 47s\tremaining: 1m 54s\n",
      "2600:\tlearn: 89.4281883\ttotal: 5m 12s\tremaining: 1m 31s\n",
      "2800:\tlearn: 87.7441910\ttotal: 5m 37s\tremaining: 1m 7s\n",
      "3000:\tlearn: 86.3886981\ttotal: 6m 2s\tremaining: 43.2s\n",
      "3200:\tlearn: 85.2917707\ttotal: 6m 27s\tremaining: 19.1s\n",
      "3358:\tlearn: 84.5067681\ttotal: 6m 47s\tremaining: 0us\n"
     ]
    },
    {
     "name": "stderr",
     "output_type": "stream",
     "text": [
      "[I 2023-11-09 15:39:39,577] Trial 17 finished with value: 156.75414081857434 and parameters: {'iterations': 3359, 'learning_rate': 0.0011613391753566584, 'depth': 10, 'min_data_in_leaf': 45, 'l2_leaf_reg': 5, 'bagging_temperature': 0.43960059095502035, 'random_strength': 0.3164722355702096, 'border_count': 802, 'rsm': 0.39910565168286016}. Best is trial 16 with value: 152.77748376989672.\n"
     ]
    },
    {
     "name": "stdout",
     "output_type": "stream",
     "text": [
      "0:\tlearn: 261.1011776\ttotal: 240ms\tremaining: 9m 19s\n",
      "200:\tlearn: 197.1204840\ttotal: 50s\tremaining: 8m 50s\n",
      "400:\tlearn: 153.3200013\ttotal: 1m 40s\tremaining: 8m 4s\n",
      "600:\tlearn: 126.5040437\ttotal: 2m 31s\tremaining: 7m 16s\n",
      "800:\tlearn: 109.8092184\ttotal: 3m 22s\tremaining: 6m 26s\n",
      "1000:\tlearn: 99.1332800\ttotal: 4m 14s\tremaining: 5m 37s\n",
      "1200:\tlearn: 91.9726055\ttotal: 5m 6s\tremaining: 4m 47s\n",
      "1400:\tlearn: 86.5987811\ttotal: 5m 58s\tremaining: 3m 57s\n",
      "1600:\tlearn: 82.4951171\ttotal: 6m 51s\tremaining: 3m 7s\n",
      "1800:\tlearn: 79.3378856\ttotal: 7m 44s\tremaining: 2m 16s\n",
      "2000:\tlearn: 76.6496639\ttotal: 8m 37s\tremaining: 1m 25s\n",
      "2200:\tlearn: 74.3801340\ttotal: 9m 31s\tremaining: 33.5s\n",
      "2329:\tlearn: 73.2476820\ttotal: 10m 5s\tremaining: 0us\n"
     ]
    },
    {
     "name": "stderr",
     "output_type": "stream",
     "text": [
      "[I 2023-11-09 15:49:47,066] Trial 18 finished with value: 155.11340612673052 and parameters: {'iterations': 2330, 'learning_rate': 0.001834958246154061, 'depth': 13, 'min_data_in_leaf': 21, 'l2_leaf_reg': 3, 'bagging_temperature': 0.3989054321909888, 'random_strength': 0.38895369216608255, 'border_count': 682, 'rsm': 0.3995897698882088}. Best is trial 16 with value: 152.77748376989672.\n"
     ]
    },
    {
     "name": "stdout",
     "output_type": "stream",
     "text": [
      "0:\tlearn: 261.1705240\ttotal: 129ms\tremaining: 7m 22s\n",
      "200:\tlearn: 205.3579586\ttotal: 27.8s\tremaining: 7m 28s\n",
      "400:\tlearn: 164.5703416\ttotal: 55.9s\tremaining: 7m 4s\n",
      "600:\tlearn: 138.9965972\ttotal: 1m 24s\tremaining: 6m 40s\n",
      "800:\tlearn: 121.5446362\ttotal: 1m 53s\tremaining: 6m 13s\n",
      "1000:\tlearn: 109.6970583\ttotal: 2m 22s\tremaining: 5m 47s\n",
      "1200:\tlearn: 101.7572850\ttotal: 2m 51s\tremaining: 5m 20s\n",
      "1400:\tlearn: 96.0756149\ttotal: 3m 21s\tremaining: 4m 54s\n",
      "1600:\tlearn: 91.7786506\ttotal: 3m 51s\tremaining: 4m 26s\n",
      "1800:\tlearn: 88.3085419\ttotal: 4m 21s\tremaining: 3m 58s\n",
      "2000:\tlearn: 85.7280213\ttotal: 4m 51s\tremaining: 3m 30s\n",
      "2200:\tlearn: 83.6532476\ttotal: 5m 22s\tremaining: 3m 1s\n",
      "2400:\tlearn: 82.0868210\ttotal: 5m 52s\tremaining: 2m 32s\n",
      "2600:\tlearn: 80.9403305\ttotal: 6m 22s\tremaining: 2m 3s\n",
      "2800:\tlearn: 79.9778299\ttotal: 6m 53s\tremaining: 1m 34s\n",
      "3000:\tlearn: 79.1409601\ttotal: 7m 23s\tremaining: 1m 5s\n",
      "3200:\tlearn: 78.4174976\ttotal: 7m 53s\tremaining: 35.8s\n",
      "3400:\tlearn: 77.7750129\ttotal: 8m 24s\tremaining: 6.23s\n",
      "2200:\tlearn: 94.4876318\ttotal: 5m 12s\tremaining: 2m 59s\n",
      "2400:\tlearn: 91.6897740\ttotal: 5m 41s\tremaining: 2m 31s\n",
      "2600:\tlearn: 89.3237329\ttotal: 6m 11s\tremaining: 2m 3s\n",
      "2800:\tlearn: 87.3646488\ttotal: 6m 41s\tremaining: 1m 35s\n",
      "3000:\tlearn: 85.6693076\ttotal: 7m 11s\tremaining: 1m 6s\n",
      "3200:\tlearn: 84.2301955\ttotal: 7m 40s\tremaining: 38s\n",
      "3400:\tlearn: 82.9575744\ttotal: 8m 10s\tremaining: 9.23s\n",
      "3464:\tlearn: 82.6137560\ttotal: 8m 20s\tremaining: 0us\n"
     ]
    },
    {
     "name": "stderr",
     "output_type": "stream",
     "text": [
      "[I 2023-11-09 16:06:40,657] Trial 20 finished with value: 156.40890724650822 and parameters: {'iterations': 3465, 'learning_rate': 0.001061626182641344, 'depth': 11, 'min_data_in_leaf': 18, 'l2_leaf_reg': 7, 'bagging_temperature': 0.3752961989400172, 'random_strength': 0.31278567784995176, 'border_count': 522, 'rsm': 0.5418040070182188}. Best is trial 19 with value: 152.6883081549022.\n"
     ]
    },
    {
     "name": "stdout",
     "output_type": "stream",
     "text": [
      "0:\tlearn: 261.1379351\ttotal: 135ms\tremaining: 7m 33s\n",
      "200:\tlearn: 200.3867290\ttotal: 29.4s\tremaining: 7m 40s\n",
      "400:\tlearn: 158.0737060\ttotal: 59.3s\tremaining: 7m 15s\n",
      "600:\tlearn: 132.3712776\ttotal: 1m 29s\tremaining: 6m 49s\n",
      "800:\tlearn: 116.2740115\ttotal: 2m\tremaining: 6m 22s\n",
      "1000:\tlearn: 105.2702359\ttotal: 2m 31s\tremaining: 5m 55s\n",
      "1200:\tlearn: 98.0488093\ttotal: 3m 2s\tremaining: 5m 27s\n",
      "1400:\tlearn: 92.8693414\ttotal: 3m 34s\tremaining: 4m 58s\n",
      "1600:\tlearn: 88.9587466\ttotal: 4m 6s\tremaining: 4m 29s\n",
      "1800:\tlearn: 85.9189946\ttotal: 4m 38s\tremaining: 4m\n",
      "2000:\tlearn: 83.6317566\ttotal: 5m 11s\tremaining: 3m 29s\n",
      "2200:\tlearn: 81.9346183\ttotal: 5m 43s\tremaining: 2m 59s\n",
      "2400:\tlearn: 80.6439631\ttotal: 6m 15s\tremaining: 2m 28s\n",
      "2600:\tlearn: 79.6497591\ttotal: 6m 47s\tremaining: 1m 57s\n",
      "2800:\tlearn: 78.7776921\ttotal: 7m 20s\tremaining: 1m 26s\n",
      "3000:\tlearn: 78.0320927\ttotal: 8m 3s\tremaining: 56.4s\n",
      "3200:\tlearn: 77.4560755\ttotal: 8m 47s\tremaining: 24.7s\n",
      "3350:\tlearn: 77.1245231\ttotal: 9m 19s\tremaining: 0us\n"
     ]
    },
    {
     "name": "stderr",
     "output_type": "stream",
     "text": [
      "[I 2023-11-09 16:16:01,689] Trial 21 finished with value: 152.42051755277126 and parameters: {'iterations': 3351, 'learning_rate': 0.0017700242752959564, 'depth': 11, 'min_data_in_leaf': 51, 'l2_leaf_reg': 7, 'bagging_temperature': 0.3578345281493601, 'random_strength': 0.39262424203709934, 'border_count': 821, 'rsm': 0.47875441118675927}. Best is trial 21 with value: 152.42051755277126.\n"
     ]
    },
    {
     "name": "stdout",
     "output_type": "stream",
     "text": [
      "0:\tlearn: 260.8705803\ttotal: 297ms\tremaining: 12m 42s\n",
      "200:\tlearn: 166.4284687\ttotal: 52.9s\tremaining: 10m 23s\n",
      "400:\tlearn: 121.7327471\ttotal: 1m 47s\tremaining: 9m 39s\n",
      "600:\tlearn: 101.6952121\ttotal: 2m 40s\tremaining: 8m 47s\n",
      "800:\tlearn: 91.0052272\ttotal: 3m 27s\tremaining: 7m 38s\n",
      "1000:\tlearn: 84.4388131\ttotal: 4m 21s\tremaining: 6m 49s\n",
      "1200:\tlearn: 79.9895628\ttotal: 5m 14s\tremaining: 5m 59s\n",
      "1400:\tlearn: 77.1468679\ttotal: 6m 8s\tremaining: 5m 7s\n",
      "1600:\tlearn: 75.2491700\ttotal: 7m 3s\tremaining: 4m 16s\n",
      "2200:\tlearn: 71.8584600\ttotal: 9m 42s\tremaining: 1m 37s\n",
      "2400:\tlearn: 70.9110928\ttotal: 10m 35s\tremaining: 45s\n",
      "2570:\tlearn: 70.1882953\ttotal: 11m 23s\tremaining: 0us\n"
     ]
    },
    {
     "name": "stderr",
     "output_type": "stream",
     "text": [
      "[I 2023-11-09 16:27:26,228] Trial 22 finished with value: 152.24496853023533 and parameters: {'iterations': 2571, 'learning_rate': 0.003046730289345727, 'depth': 12, 'min_data_in_leaf': 39, 'l2_leaf_reg': 7, 'bagging_temperature': 0.34677059114862063, 'random_strength': 0.3910259879459429, 'border_count': 713, 'rsm': 0.5222366679658477}. Best is trial 22 with value: 152.24496853023533.\n"
     ]
    },
    {
     "name": "stdout",
     "output_type": "stream",
     "text": [
      "0:\tlearn: 260.9656913\ttotal: 207ms\tremaining: 8m 50s\n",
      "200:\tlearn: 172.6974268\ttotal: 51s\tremaining: 9m 58s\n",
      "400:\tlearn: 127.3275579\ttotal: 1m 41s\tremaining: 9m 9s\n",
      "600:\tlearn: 105.7857522\ttotal: 2m 34s\tremaining: 8m 23s\n",
      "800:\tlearn: 94.0289344\ttotal: 3m 27s\tremaining: 7m 35s\n",
      "1000:\tlearn: 86.9391098\ttotal: 4m 20s\tremaining: 6m 46s\n",
      "1200:\tlearn: 82.2738620\ttotal: 5m 13s\tremaining: 5m 55s\n",
      "1400:\tlearn: 78.9621235\ttotal: 6m 7s\tremaining: 5m 4s\n",
      "1600:\tlearn: 76.7867708\ttotal: 7m 1s\tremaining: 4m 13s\n",
      "1800:\tlearn: 75.0678069\ttotal: 7m 54s\tremaining: 3m 20s\n",
      "2000:\tlearn: 73.7991747\ttotal: 8m 46s\tremaining: 2m 27s\n",
      "2200:\tlearn: 72.8116022\ttotal: 9m 37s\tremaining: 1m 34s\n",
      "2400:\tlearn: 72.0407732\ttotal: 10m 28s\tremaining: 42.2s\n",
      "2561:\tlearn: 71.3900051\ttotal: 11m 10s\tremaining: 0us\n"
     ]
    },
    {
     "name": "stderr",
     "output_type": "stream",
     "text": [
      "[I 2023-11-09 16:38:38,109] Trial 23 finished with value: 152.38556001333546 and parameters: {'iterations': 2562, 'learning_rate': 0.00278687635490433, 'depth': 12, 'min_data_in_leaf': 53, 'l2_leaf_reg': 6, 'bagging_temperature': 0.3335523832362168, 'random_strength': 0.42537556261762055, 'border_count': 705, 'rsm': 0.49728605556454075}. Best is trial 22 with value: 152.24496853023533.\n"
     ]
    },
    {
     "name": "stdout",
     "output_type": "stream",
     "text": [
      "0:\tlearn: 260.8593065\ttotal: 141ms\tremaining: 5m 50s\n",
      "200:\tlearn: 161.9593974\ttotal: 1m 3s\tremaining: 11m 59s\n",
      "400:\tlearn: 117.4076847\ttotal: 2m 1s\tremaining: 10m 31s\n",
      "600:\tlearn: 97.4640103\ttotal: 3m\tremaining: 9m 24s\n",
      "800:\tlearn: 86.8309956\ttotal: 3m 59s\tremaining: 8m 22s\n",
      "1000:\tlearn: 80.2798956\ttotal: 4m 59s\tremaining: 7m 23s\n",
      "1200:\tlearn: 75.8008122\ttotal: 5m 59s\tremaining: 6m 24s\n",
      "1400:\tlearn: 72.5867175\ttotal: 6m 59s\tremaining: 5m 24s\n",
      "1600:\tlearn: 70.2400260\ttotal: 7m 59s\tremaining: 4m 24s\n",
      "1800:\tlearn: 68.5119896\ttotal: 9m\tremaining: 3m 25s\n",
      "2000:\tlearn: 67.1683202\ttotal: 10m 1s\tremaining: 2m 25s\n",
      "2200:\tlearn: 66.0084535\ttotal: 11m 3s\tremaining: 1m 25s\n",
      "2400:\tlearn: 64.7308111\ttotal: 12m 4s\tremaining: 25.4s\n",
      "2484:\tlearn: 64.2795712\ttotal: 12m 30s\tremaining: 0us\n"
     ]
    },
    {
     "name": "stderr",
     "output_type": "stream",
     "text": [
      "[I 2023-11-09 16:51:10,277] Trial 24 finished with value: 152.94426628937742 and parameters: {'iterations': 2485, 'learning_rate': 0.0031949096684396176, 'depth': 13, 'min_data_in_leaf': 33, 'l2_leaf_reg': 6, 'bagging_temperature': 0.3007354050516184, 'random_strength': 0.4179145577492979, 'border_count': 714, 'rsm': 0.48865301795479854}. Best is trial 22 with value: 152.24496853023533.\n"
     ]
    },
    {
     "name": "stdout",
     "output_type": "stream",
     "text": [
      "0:\tlearn: 260.4043334\ttotal: 347ms\tremaining: 10m 59s\n",
      "200:\tlearn: 123.1949635\ttotal: 1m 11s\tremaining: 10m 4s\n",
      "400:\tlearn: 89.9596971\ttotal: 2m 24s\tremaining: 8m 58s\n",
      "600:\tlearn: 77.9970272\ttotal: 3m 38s\tremaining: 7m 51s\n",
      "800:\tlearn: 71.4673222\ttotal: 4m 52s\tremaining: 6m 41s\n",
      "1000:\tlearn: 68.0242506\ttotal: 6m 6s\tremaining: 5m 28s\n",
      "1200:\tlearn: 65.4921432\ttotal: 7m 41s\tremaining: 4m 28s\n",
      "1400:\tlearn: 63.1348746\ttotal: 9m 16s\tremaining: 3m 17s\n",
      "1600:\tlearn: 60.8970163\ttotal: 10m 53s\tremaining: 2m 1s\n",
      "1800:\tlearn: 58.9103540\ttotal: 12m 9s\tremaining: 39.7s\n",
      "1898:\tlearn: 57.7587650\ttotal: 12m 46s\tremaining: 0us\n"
     ]
    },
    {
     "name": "stderr",
     "output_type": "stream",
     "text": [
      "[I 2023-11-09 17:03:58,251] Trial 25 finished with value: 153.1452321478027 and parameters: {'iterations': 1899, 'learning_rate': 0.005721258907938723, 'depth': 13, 'min_data_in_leaf': 66, 'l2_leaf_reg': 4, 'bagging_temperature': 0.3588822092430201, 'random_strength': 0.36652073233766347, 'border_count': 705, 'rsm': 0.7059033441662634}. Best is trial 22 with value: 152.24496853023533.\n"
     ]
    },
    {
     "name": "stdout",
     "output_type": "stream",
     "text": [
      "0:\tlearn: 260.9426028\ttotal: 180ms\tremaining: 7m 32s\n",
      "200:\tlearn: 177.6478423\ttotal: 36.6s\tremaining: 7m\n",
      "400:\tlearn: 132.6496233\ttotal: 1m 13s\tremaining: 6m 28s\n",
      "600:\tlearn: 109.7679805\ttotal: 1m 51s\tremaining: 5m 53s\n",
      "800:\tlearn: 97.5477399\ttotal: 2m 28s\tremaining: 5m 17s\n",
      "1000:\tlearn: 89.6392739\ttotal: 3m 7s\tremaining: 4m 42s\n",
      "1200:\tlearn: 84.3034308\ttotal: 3m 45s\tremaining: 4m 5s\n",
      "1400:\tlearn: 80.6736870\ttotal: 4m 24s\tremaining: 3m 29s\n",
      "1600:\tlearn: 78.1217937\ttotal: 5m 2s\tremaining: 2m 52s\n",
      "1800:\tlearn: 76.2322615\ttotal: 5m 41s\tremaining: 2m 14s\n",
      "2000:\tlearn: 74.7303366\ttotal: 6m 20s\tremaining: 1m 37s\n",
      "2200:\tlearn: 73.5723958\ttotal: 6m 59s\tremaining: 59.1s\n",
      "2400:\tlearn: 72.6478734\ttotal: 7m 38s\tremaining: 21s\n",
      "2510:\tlearn: 72.2773304\ttotal: 7m 59s\tremaining: 0us\n"
     ]
    },
    {
     "name": "stderr",
     "output_type": "stream",
     "text": [
      "[I 2023-11-09 17:11:59,299] Trial 26 finished with value: 152.21506367326185 and parameters: {'iterations': 2511, 'learning_rate': 0.0025637437349003904, 'depth': 12, 'min_data_in_leaf': 54, 'l2_leaf_reg': 8, 'bagging_temperature': 0.35263173576248397, 'random_strength': 0.4288961256659508, 'border_count': 598, 'rsm': 0.49015783749604025}. Best is trial 26 with value: 152.21506367326185.\n"
     ]
    },
    {
     "name": "stdout",
     "output_type": "stream",
     "text": [
      "0:\tlearn: 261.0517479\ttotal: 203ms\tremaining: 5m 31s\n",
      "200:\tlearn: 173.6066919\ttotal: 44s\tremaining: 5m 13s\n",
      "400:\tlearn: 128.5162163\ttotal: 1m 29s\tremaining: 4m 34s\n",
      "600:\tlearn: 106.1622758\ttotal: 2m 14s\tremaining: 3m 52s\n",
      "800:\tlearn: 94.7308745\ttotal: 3m 1s\tremaining: 3m 8s\n",
      "1000:\tlearn: 87.3386409\ttotal: 3m 47s\tremaining: 2m 24s\n",
      "1200:\tlearn: 82.5791133\ttotal: 4m 34s\tremaining: 1m 39s\n",
      "1400:\tlearn: 79.2202688\ttotal: 5m 21s\tremaining: 53.6s\n",
      "1600:\tlearn: 76.9607905\ttotal: 6m 7s\tremaining: 7.81s\n",
      "1634:\tlearn: 76.6299849\ttotal: 6m 15s\tremaining: 0us\n"
     ]
    },
    {
     "name": "stderr",
     "output_type": "stream",
     "text": [
      "[I 2023-11-09 17:18:16,036] Trial 27 finished with value: 153.43205367511368 and parameters: {'iterations': 1635, 'learning_rate': 0.002750451589527836, 'depth': 12, 'min_data_in_leaf': 56, 'l2_leaf_reg': 8, 'bagging_temperature': 0.35569455619986345, 'random_strength': 0.4506830108013804, 'border_count': 595, 'rsm': 0.7402881135113251}. Best is trial 26 with value: 152.21506367326185.\n"
     ]
    },
    {
     "name": "stdout",
     "output_type": "stream",
     "text": [
      "0:\tlearn: 261.0210984\ttotal: 185ms\tremaining: 7m 39s\n",
      "200:\tlearn: 151.2640616\ttotal: 40.1s\tremaining: 7m 36s\n",
      "400:\tlearn: 109.3901731\ttotal: 1m 21s\tremaining: 7m 3s\n",
      "600:\tlearn: 92.7005056\ttotal: 2m 2s\tremaining: 6m 25s\n",
      "800:\tlearn: 84.1756730\ttotal: 2m 45s\tremaining: 5m 47s\n",
      "2200:\tlearn: 69.5178494\ttotal: 7m 43s\tremaining: 1m\n",
      "2400:\tlearn: 68.3804230\ttotal: 8m 26s\tremaining: 18.4s\n",
      "2487:\tlearn: 67.8183142\ttotal: 8m 45s\tremaining: 0us\n"
     ]
    },
    {
     "name": "stderr",
     "output_type": "stream",
     "text": [
      "[I 2023-11-09 17:27:02,457] Trial 28 finished with value: 151.99635131329373 and parameters: {'iterations': 2488, 'learning_rate': 0.003849377935903141, 'depth': 12, 'min_data_in_leaf': 36, 'l2_leaf_reg': 6, 'bagging_temperature': 0.4900121917187606, 'random_strength': 0.5021920146986587, 'border_count': 582, 'rsm': 0.5999222212478468}. Best is trial 28 with value: 151.99635131329373.\n"
     ]
    },
    {
     "name": "stdout",
     "output_type": "stream",
     "text": [
      "0:\tlearn: 260.3726155\ttotal: 101ms\tremaining: 1m 19s\n",
      "200:\tlearn: 140.8967299\ttotal: 20.4s\tremaining: 59.4s\n",
      "400:\tlearn: 105.6774858\ttotal: 42.3s\tremaining: 40.6s\n",
      "600:\tlearn: 94.0378290\ttotal: 1m 4s\tremaining: 19.9s\n"
     ]
    },
    {
     "name": "stderr",
     "output_type": "stream",
     "text": [
      "[I 2023-11-09 17:28:28,301] Trial 29 finished with value: 160.14153903096258 and parameters: {'iterations': 786, 'learning_rate': 0.005484071889646984, 'depth': 7, 'min_data_in_leaf': 2, 'l2_leaf_reg': 4, 'bagging_temperature': 0.4907565916133409, 'random_strength': 0.5089320010265369, 'border_count': 431, 'rsm': 0.5912914721225383}. Best is trial 28 with value: 151.99635131329373.\n"
     ]
    },
    {
     "name": "stdout",
     "output_type": "stream",
     "text": [
      "785:\tlearn: 90.1621279\ttotal: 1m 25s\tremaining: 0us\n",
      "0:\tlearn: 260.5830027\ttotal: 114ms\tremaining: 1m 57s\n",
      "200:\tlearn: 148.0060845\ttotal: 25.3s\tremaining: 1m 44s\n",
      "400:\tlearn: 109.0195667\ttotal: 51.5s\tremaining: 1m 20s\n",
      "600:\tlearn: 93.8602853\ttotal: 1m 18s\tremaining: 55.9s\n",
      "800:\tlearn: 86.9409203\ttotal: 1m 45s\tremaining: 30.3s\n",
      "1000:\tlearn: 83.3883781\ttotal: 2m 12s\tremaining: 3.98s\n"
     ]
    },
    {
     "name": "stderr",
     "output_type": "stream",
     "text": [
      "[I 2023-11-09 17:30:45,561] Trial 30 finished with value: 154.8675945060517 and parameters: {'iterations': 1031, 'learning_rate': 0.0042828259342915275, 'depth': 10, 'min_data_in_leaf': 24, 'l2_leaf_reg': 8, 'bagging_temperature': 0.482754858583069, 'random_strength': 0.44964202774019435, 'border_count': 588, 'rsm': 0.6525864223477862}. Best is trial 28 with value: 151.99635131329373.\n"
     ]
    },
    {
     "name": "stdout",
     "output_type": "stream",
     "text": [
      "1030:\tlearn: 83.0274059\ttotal: 2m 16s\tremaining: 0us\n",
      "0:\tlearn: 260.8993889\ttotal: 155ms\tremaining: 6m 41s\n",
      "200:\tlearn: 177.2910297\ttotal: 35.3s\tremaining: 6m 57s\n",
      "1400:\tlearn: 80.3751155\ttotal: 4m 15s\tremaining: 3m 35s\n",
      "1600:\tlearn: 77.7855199\ttotal: 4m 52s\tremaining: 2m 59s\n",
      "1800:\tlearn: 76.0004760\ttotal: 5m 30s\tremaining: 2m 23s\n",
      "2000:\tlearn: 74.4026744\ttotal: 6m 8s\tremaining: 1m 47s\n",
      "2200:\tlearn: 73.3481021\ttotal: 6m 45s\tremaining: 1m 10s\n",
      "2400:\tlearn: 72.4136148\ttotal: 7m 23s\tremaining: 33.6s\n",
      "2582:\tlearn: 71.7005810\ttotal: 7m 57s\tremaining: 0us\n"
     ]
    },
    {
     "name": "stderr",
     "output_type": "stream",
     "text": [
      "[I 2023-11-09 17:38:44,535] Trial 31 finished with value: 152.5784084977564 and parameters: {'iterations': 2583, 'learning_rate': 0.002591211058531004, 'depth': 12, 'min_data_in_leaf': 37, 'l2_leaf_reg': 6, 'bagging_temperature': 0.3429636594699156, 'random_strength': 0.42442184378035586, 'border_count': 453, 'rsm': 0.5264643364591091}. Best is trial 28 with value: 151.99635131329373.\n"
     ]
    },
    {
     "name": "stdout",
     "output_type": "stream",
     "text": [
      "0:\tlearn: 260.8448910\ttotal: 167ms\tremaining: 5m 40s\n",
      "200:\tlearn: 163.3333878\ttotal: 37.5s\tremaining: 5m 41s\n",
      "400:\tlearn: 119.3745836\ttotal: 1m 16s\tremaining: 5m 9s\n",
      "600:\tlearn: 99.6342459\ttotal: 1m 55s\tremaining: 4m 34s\n",
      "800:\tlearn: 89.4950059\ttotal: 2m 35s\tremaining: 3m 58s\n",
      "1000:\tlearn: 83.0023899\ttotal: 3m 15s\tremaining: 3m 21s\n",
      "1200:\tlearn: 78.9281395\ttotal: 3m 55s\tremaining: 2m 43s\n",
      "1400:\tlearn: 76.1794469\ttotal: 4m 35s\tremaining: 2m 4s\n",
      "1600:\tlearn: 74.3164305\ttotal: 5m 15s\tremaining: 1m 25s\n",
      "1800:\tlearn: 73.0135469\ttotal: 5m 55s\tremaining: 46s\n",
      "2000:\tlearn: 71.9829293\ttotal: 6m 35s\tremaining: 6.52s\n",
      "2033:\tlearn: 71.8372483\ttotal: 6m 41s\tremaining: 0us\n"
     ]
    },
    {
     "name": "stderr",
     "output_type": "stream",
     "text": [
      "[I 2023-11-09 17:45:27,493] Trial 32 finished with value: 152.65615709364556 and parameters: {'iterations': 2034, 'learning_rate': 0.00320226228725624, 'depth': 12, 'min_data_in_leaf': 46, 'l2_leaf_reg': 6, 'bagging_temperature': 0.39650179719181783, 'random_strength': 0.35160473496118777, 'border_count': 732, 'rsm': 0.43763165033030055}. Best is trial 28 with value: 151.99635131329373.\n"
     ]
    },
    {
     "name": "stdout",
     "output_type": "stream",
     "text": [
      "0:\tlearn: 260.1890291\ttotal: 290ms\tremaining: 11m 46s\n",
      "200:\tlearn: 115.1486955\ttotal: 58.5s\tremaining: 10m 49s\n",
      "400:\tlearn: 86.0513416\ttotal: 1m 57s\tremaining: 9m 54s\n",
      "600:\tlearn: 74.9771552\ttotal: 2m 57s\tremaining: 9m 1s\n",
      "800:\tlearn: 69.9416391\ttotal: 3m 57s\tremaining: 8m 4s\n",
      "1000:\tlearn: 67.1549289\ttotal: 4m 58s\tremaining: 7m 6s\n",
      "1200:\tlearn: 64.7564150\ttotal: 5m 59s\tremaining: 6m 8s\n",
      "1400:\tlearn: 62.1880950\ttotal: 7m 1s\tremaining: 5m 10s\n",
      "1600:\tlearn: 59.4926889\ttotal: 8m 2s\tremaining: 4m 10s\n",
      "1800:\tlearn: 56.5305504\ttotal: 9m 4s\tremaining: 3m 11s\n",
      "2000:\tlearn: 54.4578230\ttotal: 10m 6s\tremaining: 2m 10s\n",
      "2200:\tlearn: 52.4410022\ttotal: 11m 8s\tremaining: 1m 10s\n",
      "2400:\tlearn: 50.2659799\ttotal: 12m 10s\tremaining: 9.73s\n",
      "2432:\tlearn: 49.9617955\ttotal: 12m 20s\tremaining: 0us\n"
     ]
    },
    {
     "name": "stderr",
     "output_type": "stream",
     "text": [
      "[I 2023-11-09 17:57:49,559] Trial 33 finished with value: 153.96395252753814 and parameters: {'iterations': 2433, 'learning_rate': 0.006639095724185034, 'depth': 13, 'min_data_in_leaf': 9, 'l2_leaf_reg': 5, 'bagging_temperature': 0.3335091180649258, 'random_strength': 0.5153863330672787, 'border_count': 581, 'rsm': 0.5744021685534025}. Best is trial 28 with value: 151.99635131329373.\n"
     ]
    },
    {
     "name": "stdout",
     "output_type": "stream",
     "text": [
      "0:\tlearn: 260.7718427\ttotal: 155ms\tremaining: 5m 38s\n",
      "200:\tlearn: 143.4527932\ttotal: 45.6s\tremaining: 7m 29s\n",
      "400:\tlearn: 104.3234552\ttotal: 1m 35s\tremaining: 7m 5s\n",
      "600:\tlearn: 89.3571433\ttotal: 2m 26s\tremaining: 6m 27s\n",
      "800:\tlearn: 81.6968566\ttotal: 3m 15s\tremaining: 5m 38s\n",
      "1000:\tlearn: 77.4338497\ttotal: 4m 5s\tremaining: 4m 50s\n",
      "1200:\tlearn: 75.0648762\ttotal: 4m 56s\tremaining: 4m 2s\n",
      "1400:\tlearn: 73.3826986\ttotal: 5m 37s\tremaining: 3m 8s\n",
      "1600:\tlearn: 72.0338238\ttotal: 6m 16s\tremaining: 2m 17s\n",
      "1800:\tlearn: 70.7894843\ttotal: 6m 56s\tremaining: 1m 28s\n",
      "2000:\tlearn: 69.5400689\ttotal: 7m 36s\tremaining: 42s\n",
      "2184:\tlearn: 68.3299606\ttotal: 8m 14s\tremaining: 0us\n"
     ]
    },
    {
     "name": "stderr",
     "output_type": "stream",
     "text": [
      "[I 2023-11-09 18:06:04,693] Trial 34 finished with value: 152.5091163517168 and parameters: {'iterations': 2185, 'learning_rate': 0.004354435191169382, 'depth': 12, 'min_data_in_leaf': 31, 'l2_leaf_reg': 4, 'bagging_temperature': 0.30328992398517635, 'random_strength': 0.5664431218826609, 'border_count': 667, 'rsm': 0.4633936025887915}. Best is trial 28 with value: 151.99635131329373.\n"
     ]
    },
    {
     "name": "stdout",
     "output_type": "stream",
     "text": [
      "0:\tlearn: 260.7506591\ttotal: 115ms\tremaining: 5m 6s\n",
      "200:\tlearn: 156.0158482\ttotal: 25.8s\tremaining: 5m 15s\n",
      "400:\tlearn: 115.1649979\ttotal: 52.2s\tremaining: 4m 53s\n",
      "600:\tlearn: 98.0823353\ttotal: 1m 19s\tremaining: 4m 31s\n",
      "800:\tlearn: 89.4949701\ttotal: 1m 46s\tremaining: 4m 7s\n",
      "1000:\tlearn: 85.1851003\ttotal: 2m 14s\tremaining: 3m 42s\n",
      "1200:\tlearn: 82.7811986\ttotal: 2m 41s\tremaining: 3m 16s\n",
      "1400:\tlearn: 81.3500321\ttotal: 3m 9s\tremaining: 2m 50s\n",
      "1600:\tlearn: 80.3263121\ttotal: 3m 37s\tremaining: 2m 23s\n",
      "1800:\tlearn: 79.4965506\ttotal: 4m 5s\tremaining: 1m 56s\n",
      "2000:\tlearn: 78.7065267\ttotal: 4m 33s\tremaining: 1m 29s\n",
      "2200:\tlearn: 78.0111995\ttotal: 5m 1s\tremaining: 1m 2s\n",
      "2400:\tlearn: 77.3908340\ttotal: 5m 29s\tremaining: 35.3s\n",
      "2600:\tlearn: 76.8105472\ttotal: 5m 58s\tremaining: 7.85s\n",
      "2657:\tlearn: 76.6637576\ttotal: 6m 6s\tremaining: 0us\n"
     ]
    },
    {
     "name": "stderr",
     "output_type": "stream",
     "text": [
      "[I 2023-11-09 18:12:11,862] Trial 35 finished with value: 152.06094628435957 and parameters: {'iterations': 2658, 'learning_rate': 0.0037642907555144357, 'depth': 10, 'min_data_in_leaf': 56, 'l2_leaf_reg': 5, 'bagging_temperature': 0.3899844469701831, 'random_strength': 0.4799659926151909, 'border_count': 869, 'rsm': 0.5411806877655415}. Best is trial 28 with value: 151.99635131329373.\n"
     ]
    },
    {
     "name": "stdout",
     "output_type": "stream",
     "text": [
      "0:\tlearn: 260.3244854\ttotal: 117ms\tremaining: 5m 20s\n",
      "200:\tlearn: 120.2427353\ttotal: 25.8s\tremaining: 5m 24s\n",
      "400:\tlearn: 92.4233046\ttotal: 53.1s\tremaining: 5m 8s\n",
      "600:\tlearn: 83.9765926\ttotal: 1m 20s\tremaining: 4m 46s\n",
      "800:\tlearn: 81.0626025\ttotal: 1m 48s\tremaining: 4m 21s\n",
      "1000:\tlearn: 79.4261164\ttotal: 2m 16s\tremaining: 3m 56s\n",
      "1200:\tlearn: 78.1543041\ttotal: 2m 44s\tremaining: 3m 29s\n",
      "1400:\tlearn: 77.0202794\ttotal: 3m 13s\tremaining: 3m 2s\n",
      "1600:\tlearn: 75.9898558\ttotal: 3m 41s\tremaining: 2m 35s\n",
      "1800:\tlearn: 75.1476758\ttotal: 4m 10s\tremaining: 2m 8s\n",
      "2000:\tlearn: 74.4534744\ttotal: 4m 39s\tremaining: 1m 41s\n",
      "2200:\tlearn: 73.5898781\ttotal: 5m 8s\tremaining: 1m 13s\n",
      "2400:\tlearn: 72.7365635\ttotal: 5m 37s\tremaining: 46.1s\n",
      "2600:\tlearn: 71.8680257\ttotal: 6m 6s\tremaining: 18s\n",
      "2728:\tlearn: 71.3482173\ttotal: 6m 25s\tremaining: 0us\n"
     ]
    },
    {
     "name": "stderr",
     "output_type": "stream",
     "text": [
      "[I 2023-11-09 18:18:38,318] Trial 36 finished with value: 152.0563831912324 and parameters: {'iterations': 2729, 'learning_rate': 0.006725273746560194, 'depth': 10, 'min_data_in_leaf': 15, 'l2_leaf_reg': 5, 'bagging_temperature': 0.46867845041718986, 'random_strength': 0.4800376864662259, 'border_count': 903, 'rsm': 0.5372354176689985}. Best is trial 28 with value: 151.99635131329373.\n"
     ]
    },
    {
     "name": "stdout",
     "output_type": "stream",
     "text": [
      "0:\tlearn: 259.9676988\ttotal: 90.3ms\tremaining: 2m 42s\n",
      "200:\tlearn: 118.3539252\ttotal: 22.4s\tremaining: 2m 57s\n",
      "400:\tlearn: 93.5578245\ttotal: 45.9s\tremaining: 2m 40s\n",
      "600:\tlearn: 87.5517427\ttotal: 1m 9s\tremaining: 2m 19s\n",
      "800:\tlearn: 85.3992741\ttotal: 1m 34s\tremaining: 1m 57s\n",
      "1000:\tlearn: 84.0556920\ttotal: 1m 58s\tremaining: 1m 34s\n",
      "1200:\tlearn: 82.8999372\ttotal: 2m 23s\tremaining: 1m 11s\n",
      "1400:\tlearn: 82.0046643\ttotal: 2m 48s\tremaining: 48s\n",
      "1600:\tlearn: 81.2966427\ttotal: 3m 13s\tremaining: 24.1s\n"
     ]
    },
    {
     "name": "stderr",
     "output_type": "stream",
     "text": [
      "[I 2023-11-09 18:22:18,102] Trial 37 finished with value: 153.31026692586562 and parameters: {'iterations': 1800, 'learning_rate': 0.007680566425825934, 'depth': 8, 'min_data_in_leaf': 7, 'l2_leaf_reg': 5, 'bagging_temperature': 0.45889054833046783, 'random_strength': 0.5858595991886177, 'border_count': 872, 'rsm': 0.6215746414321504}. Best is trial 28 with value: 151.99635131329373.\n"
     ]
    },
    {
     "name": "stdout",
     "output_type": "stream",
     "text": [
      "1799:\tlearn: 80.7200171\ttotal: 3m 39s\tremaining: 0us\n",
      "0:\tlearn: 259.5558629\ttotal: 99.4ms\tremaining: 4m 59s\n",
      "200:\tlearn: 100.2143438\ttotal: 23.8s\tremaining: 5m 33s\n",
      "400:\tlearn: 83.6221693\ttotal: 49s\tremaining: 5m 19s\n",
      "600:\tlearn: 79.8406050\ttotal: 1m 14s\tremaining: 4m 59s\n",
      "800:\tlearn: 77.5949859\ttotal: 1m 40s\tremaining: 4m 36s\n",
      "1000:\tlearn: 75.8975451\ttotal: 2m 6s\tremaining: 4m 13s\n",
      "1200:\tlearn: 74.5704771\ttotal: 2m 32s\tremaining: 3m 49s\n",
      "1400:\tlearn: 73.1508574\ttotal: 2m 58s\tremaining: 3m 26s\n",
      "1600:\tlearn: 71.8836813\ttotal: 3m 25s\tremaining: 3m 1s\n",
      "1800:\tlearn: 70.6508156\ttotal: 3m 51s\tremaining: 2m 36s\n",
      "2000:\tlearn: 69.4131910\ttotal: 4m 18s\tremaining: 2m 11s\n",
      "2200:\tlearn: 67.9777511\ttotal: 4m 45s\tremaining: 1m 45s\n",
      "2400:\tlearn: 66.4647071\ttotal: 5m 12s\tremaining: 1m 20s\n",
      "2600:\tlearn: 65.1869378\ttotal: 5m 39s\tremaining: 54.2s\n",
      "2800:\tlearn: 63.9501430\ttotal: 6m 7s\tremaining: 28.2s\n",
      "3000:\tlearn: 62.9708829\ttotal: 6m 34s\tremaining: 1.97s\n",
      "3015:\tlearn: 62.8812185\ttotal: 6m 36s\tremaining: 0us\n"
     ]
    },
    {
     "name": "stderr",
     "output_type": "stream",
     "text": [
      "[I 2023-11-09 18:28:55,525] Trial 38 finished with value: 152.83394940696473 and parameters: {'iterations': 3016, 'learning_rate': 0.010455720572632029, 'depth': 10, 'min_data_in_leaf': 17, 'l2_leaf_reg': 5, 'bagging_temperature': 0.4079415146219493, 'random_strength': 0.4932311468767015, 'border_count': 252, 'rsm': 0.7918683090694212}. Best is trial 28 with value: 151.99635131329373.\n"
     ]
    },
    {
     "name": "stdout",
     "output_type": "stream",
     "text": [
      "0:\tlearn: 260.7157400\ttotal: 95.3ms\tremaining: 3m 22s\n",
      "200:\tlearn: 149.6711619\ttotal: 24.4s\tremaining: 3m 53s\n",
      "400:\tlearn: 110.3674359\ttotal: 49.3s\tremaining: 3m 32s\n",
      "600:\tlearn: 95.3790753\ttotal: 1m 14s\tremaining: 3m 10s\n",
      "800:\tlearn: 88.5343938\ttotal: 1m 40s\tremaining: 2m 46s\n",
      "1000:\tlearn: 85.4813795\ttotal: 2m 6s\tremaining: 2m 22s\n",
      "1200:\tlearn: 83.8539847\ttotal: 2m 32s\tremaining: 1m 57s\n",
      "1400:\tlearn: 82.8389794\ttotal: 2m 58s\tremaining: 1m 32s\n",
      "1600:\tlearn: 82.0662290\ttotal: 3m 25s\tremaining: 1m 7s\n",
      "1800:\tlearn: 81.2465994\ttotal: 3m 51s\tremaining: 41.9s\n",
      "2000:\tlearn: 80.5392307\ttotal: 4m 18s\tremaining: 16.3s\n"
     ]
    },
    {
     "name": "stderr",
     "output_type": "stream",
     "text": [
      "[I 2023-11-09 18:33:30,983] Trial 39 finished with value: 152.71629243847727 and parameters: {'iterations': 2127, 'learning_rate': 0.004357762038873015, 'depth': 9, 'min_data_in_leaf': 67, 'l2_leaf_reg': 3, 'bagging_temperature': 0.46543633176162896, 'random_strength': 0.47195411221932565, 'border_count': 935, 'rsm': 0.6058488619365052}. Best is trial 28 with value: 151.99635131329373.\n"
     ]
    },
    {
     "name": "stdout",
     "output_type": "stream",
     "text": [
      "2126:\tlearn: 80.0921665\ttotal: 4m 34s\tremaining: 0us\n",
      "0:\tlearn: 260.4478625\ttotal: 94ms\tremaining: 4m 22s\n",
      "200:\tlearn: 132.9348397\ttotal: 20.7s\tremaining: 4m 26s\n",
      "400:\tlearn: 101.2873594\ttotal: 42.5s\tremaining: 4m 13s\n",
      "600:\tlearn: 91.7459316\ttotal: 1m 4s\tremaining: 3m 55s\n",
      "800:\tlearn: 88.9397835\ttotal: 1m 27s\tremaining: 3m 36s\n",
      "1000:\tlearn: 87.2038752\ttotal: 1m 50s\tremaining: 3m 16s\n",
      "1200:\tlearn: 85.9482298\ttotal: 2m 12s\tremaining: 2m 55s\n",
      "1400:\tlearn: 85.0858499\ttotal: 2m 35s\tremaining: 2m 34s\n",
      "1600:\tlearn: 84.3101705\ttotal: 2m 58s\tremaining: 2m 12s\n",
      "1800:\tlearn: 83.6770436\ttotal: 3m 21s\tremaining: 1m 50s\n",
      "2000:\tlearn: 83.1554719\ttotal: 3m 45s\tremaining: 1m 28s\n",
      "2200:\tlearn: 82.7655330\ttotal: 4m 9s\tremaining: 1m 6s\n",
      "2400:\tlearn: 82.5148298\ttotal: 4m 32s\tremaining: 44.2s\n",
      "2600:\tlearn: 82.2233946\ttotal: 4m 56s\tremaining: 21.6s\n"
     ]
    },
    {
     "name": "stderr",
     "output_type": "stream",
     "text": [
      "[I 2023-11-09 18:38:50,436] Trial 40 finished with value: 154.83879073173796 and parameters: {'iterations': 2790, 'learning_rate': 0.006245868724447334, 'depth': 7, 'min_data_in_leaf': 14, 'l2_leaf_reg': 4, 'bagging_temperature': 0.5609903109369088, 'random_strength': 0.53240598592833, 'border_count': 464, 'rsm': 0.9995812144310907}. Best is trial 28 with value: 151.99635131329373.\n"
     ]
    },
    {
     "name": "stdout",
     "output_type": "stream",
     "text": [
      "2789:\tlearn: 81.9339623\ttotal: 5m 18s\tremaining: 0us\n",
      "0:\tlearn: 260.8034833\ttotal: 118ms\tremaining: 5m 20s\n",
      "200:\tlearn: 161.3772631\ttotal: 25.1s\tremaining: 5m 13s\n",
      "400:\tlearn: 118.6459262\ttotal: 50.3s\tremaining: 4m 50s\n",
      "600:\tlearn: 100.6128332\ttotal: 1m 16s\tremaining: 4m 28s\n",
      "800:\tlearn: 91.5916582\ttotal: 1m 42s\tremaining: 4m 4s\n",
      "1000:\tlearn: 86.5127785\ttotal: 2m 9s\tremaining: 3m 40s\n",
      "1200:\tlearn: 83.7168652\ttotal: 2m 35s\tremaining: 3m 16s\n",
      "1400:\tlearn: 82.0712422\ttotal: 3m 2s\tremaining: 2m 51s\n",
      "1600:\tlearn: 80.9284178\ttotal: 3m 29s\tremaining: 2m 25s\n",
      "1800:\tlearn: 80.1600966\ttotal: 3m 57s\tremaining: 2m\n",
      "2000:\tlearn: 79.4285052\ttotal: 4m 24s\tremaining: 1m 34s\n",
      "2200:\tlearn: 78.7128528\ttotal: 4m 51s\tremaining: 1m 7s\n",
      "2400:\tlearn: 78.1039461\ttotal: 5m 18s\tremaining: 41.5s\n",
      "2600:\tlearn: 77.5741094\ttotal: 5m 45s\tremaining: 15s\n",
      "2713:\tlearn: 77.2579181\ttotal: 6m 1s\tremaining: 0us\n"
     ]
    },
    {
     "name": "stderr",
     "output_type": "stream",
     "text": [
      "[I 2023-11-09 18:44:52,499] Trial 41 finished with value: 151.9035608549706 and parameters: {'iterations': 2714, 'learning_rate': 0.0034852141379466154, 'depth': 10, 'min_data_in_leaf': 59, 'l2_leaf_reg': 8, 'bagging_temperature': 0.38395681407227494, 'random_strength': 0.4673864208314273, 'border_count': 864, 'rsm': 0.5408044477854796}. Best is trial 41 with value: 151.9035608549706.\n"
     ]
    },
    {
     "name": "stdout",
     "output_type": "stream",
     "text": [
      "0:\tlearn: 260.7321744\ttotal: 113ms\tremaining: 4m 27s\n",
      "200:\tlearn: 154.9700692\ttotal: 24.9s\tremaining: 4m 28s\n",
      "400:\tlearn: 114.5518517\ttotal: 50.4s\tremaining: 4m 7s\n",
      "600:\tlearn: 97.7186503\ttotal: 1m 16s\tremaining: 3m 45s\n",
      "800:\tlearn: 89.2360414\ttotal: 1m 43s\tremaining: 3m 22s\n",
      "1000:\tlearn: 85.0633949\ttotal: 2m 10s\tremaining: 2m 57s\n",
      "1200:\tlearn: 82.5405660\ttotal: 2m 37s\tremaining: 2m 32s\n",
      "1400:\tlearn: 81.1794512\ttotal: 3m 4s\tremaining: 2m 7s\n",
      "1600:\tlearn: 80.2243036\ttotal: 3m 31s\tremaining: 1m 41s\n",
      "1800:\tlearn: 79.3474535\ttotal: 3m 59s\tremaining: 1m 15s\n",
      "2000:\tlearn: 78.6318007\ttotal: 4m 26s\tremaining: 48.8s\n",
      "2200:\tlearn: 77.9308100\ttotal: 4m 54s\tremaining: 22.2s\n"
     ]
    },
    {
     "name": "stderr",
     "output_type": "stream",
     "text": [
      "[I 2023-11-09 18:50:10,310] Trial 42 finished with value: 151.9417105717336 and parameters: {'iterations': 2367, 'learning_rate': 0.00381992742932168, 'depth': 10, 'min_data_in_leaf': 58, 'l2_leaf_reg': 8, 'bagging_temperature': 0.38472487351817075, 'random_strength': 0.4931828333306497, 'border_count': 864, 'rsm': 0.552054946270641}. Best is trial 41 with value: 151.9035608549706.\n"
     ]
    },
    {
     "name": "stdout",
     "output_type": "stream",
     "text": [
      "2366:\tlearn: 77.3798288\ttotal: 5m 17s\tremaining: 0us\n",
      "0:\tlearn: 260.6000403\ttotal: 109ms\tremaining: 4m 12s\n",
      "200:\tlearn: 144.6402627\ttotal: 23.4s\tremaining: 4m 6s\n",
      "400:\tlearn: 106.4570573\ttotal: 47.8s\tremaining: 3m 48s\n",
      "600:\tlearn: 93.0481185\ttotal: 1m 12s\tremaining: 3m 27s\n",
      "800:\tlearn: 87.4329991\ttotal: 1m 38s\tremaining: 3m 5s\n",
      "1000:\tlearn: 84.8770563\ttotal: 2m 3s\tremaining: 2m 42s\n",
      "1200:\tlearn: 83.5122544\ttotal: 2m 29s\tremaining: 2m 18s\n",
      "1400:\tlearn: 82.5674579\ttotal: 2m 55s\tremaining: 1m 54s\n",
      "1600:\tlearn: 81.6373449\ttotal: 3m 21s\tremaining: 1m 30s\n",
      "1800:\tlearn: 80.9425876\ttotal: 3m 47s\tremaining: 1m 5s\n",
      "2000:\tlearn: 80.2861754\ttotal: 4m 13s\tremaining: 40.2s\n",
      "2200:\tlearn: 79.6739386\ttotal: 4m 39s\tremaining: 15s\n"
     ]
    },
    {
     "name": "stderr",
     "output_type": "stream",
     "text": [
      "[I 2023-11-09 18:55:05,950] Trial 43 finished with value: 152.64270317222872 and parameters: {'iterations': 2319, 'learning_rate': 0.004796713852599398, 'depth': 9, 'min_data_in_leaf': 60, 'l2_leaf_reg': 6, 'bagging_temperature': 0.4193664469260158, 'random_strength': 0.5840155480734286, 'border_count': 855, 'rsm': 0.5576086158057952}. Best is trial 41 with value: 151.9035608549706.\n"
     ]
    },
    {
     "name": "stdout",
     "output_type": "stream",
     "text": [
      "2318:\tlearn: 79.3319299\ttotal: 4m 55s\tremaining: 0us\n",
      "0:\tlearn: 260.6976989\ttotal: 125ms\tremaining: 5m 33s\n",
      "200:\tlearn: 157.1201441\ttotal: 26.1s\tremaining: 5m 21s\n",
      "400:\tlearn: 115.9882492\ttotal: 53.1s\tremaining: 5m 2s\n",
      "600:\tlearn: 98.8967754\ttotal: 1m 20s\tremaining: 4m 39s\n",
      "800:\tlearn: 90.0980549\ttotal: 1m 48s\tremaining: 4m 15s\n",
      "1000:\tlearn: 85.4917729\ttotal: 2m 17s\tremaining: 3m 50s\n",
      "1200:\tlearn: 83.0171963\ttotal: 2m 45s\tremaining: 3m 24s\n",
      "1400:\tlearn: 81.5753088\ttotal: 3m 14s\tremaining: 2m 57s\n",
      "1600:\tlearn: 80.6154534\ttotal: 3m 42s\tremaining: 2m 30s\n",
      "1800:\tlearn: 79.6939942\ttotal: 4m 11s\tremaining: 2m 2s\n",
      "2000:\tlearn: 78.9409437\ttotal: 4m 40s\tremaining: 1m 35s\n",
      "2200:\tlearn: 78.3109782\ttotal: 5m 9s\tremaining: 1m 7s\n",
      "2400:\tlearn: 77.6378980\ttotal: 5m 38s\tremaining: 39.3s\n",
      "2600:\tlearn: 76.8938130\ttotal: 6m 7s\tremaining: 11.2s\n",
      "2679:\tlearn: 76.6444481\ttotal: 6m 19s\tremaining: 0us\n"
     ]
    },
    {
     "name": "stderr",
     "output_type": "stream",
     "text": [
      "[I 2023-11-09 19:01:25,806] Trial 44 finished with value: 152.05085315049257 and parameters: {'iterations': 2680, 'learning_rate': 0.003690520295007481, 'depth': 10, 'min_data_in_leaf': 70, 'l2_leaf_reg': 9, 'bagging_temperature': 0.5059956404021384, 'random_strength': 0.4893692693042781, 'border_count': 901, 'rsm': 0.643652445681666}. Best is trial 41 with value: 151.9035608549706.\n"
     ]
    },
    {
     "name": "stdout",
     "output_type": "stream",
     "text": [
      "0:\tlearn: 260.3624400\ttotal: 112ms\tremaining: 5m 46s\n",
      "200:\tlearn: 122.3318972\ttotal: 22.6s\tremaining: 5m 26s\n",
      "400:\tlearn: 95.2528158\ttotal: 46.3s\tremaining: 5m 11s\n",
      "600:\tlearn: 88.1690949\ttotal: 1m 10s\tremaining: 4m 52s\n",
      "800:\tlearn: 85.7791786\ttotal: 1m 34s\tremaining: 4m 32s\n",
      "1000:\tlearn: 84.3065656\ttotal: 2m\tremaining: 4m 11s\n",
      "1200:\tlearn: 83.2911681\ttotal: 2m 24s\tremaining: 3m 48s\n",
      "1400:\tlearn: 82.4107334\ttotal: 2m 49s\tremaining: 3m 25s\n",
      "1600:\tlearn: 81.6583924\ttotal: 3m 14s\tremaining: 3m 1s\n",
      "1800:\tlearn: 81.0676957\ttotal: 3m 40s\tremaining: 2m 38s\n",
      "2000:\tlearn: 80.6672740\ttotal: 4m 6s\tremaining: 2m 15s\n",
      "2200:\tlearn: 80.1219456\ttotal: 4m 32s\tremaining: 1m 51s\n",
      "2400:\tlearn: 79.6955123\ttotal: 4m 58s\tremaining: 1m 26s\n",
      "2600:\tlearn: 79.2564126\ttotal: 5m 25s\tremaining: 1m 2s\n",
      "2800:\tlearn: 79.0250664\ttotal: 5m 53s\tremaining: 37.6s\n",
      "3000:\tlearn: 78.7131166\ttotal: 6m 20s\tremaining: 12.4s\n"
     ]
    },
    {
     "name": "stderr",
     "output_type": "stream",
     "text": [
      "[I 2023-11-09 19:07:59,579] Trial 45 finished with value: 152.67450933815914 and parameters: {'iterations': 3099, 'learning_rate': 0.007055609190660255, 'depth': 8, 'min_data_in_leaf': 82, 'l2_leaf_reg': 9, 'bagging_temperature': 0.5049087217989455, 'random_strength': 0.5167596614388927, 'border_count': 973, 'rsm': 0.655163154271384}. Best is trial 41 with value: 151.9035608549706.\n"
     ]
    },
    {
     "name": "stdout",
     "output_type": "stream",
     "text": [
      "3098:\tlearn: 78.4636949\ttotal: 6m 33s\tremaining: 0us\n",
      "0:\tlearn: 261.0282710\ttotal: 97.7ms\tremaining: 4m 30s\n",
      "200:\tlearn: 150.7338326\ttotal: 19.8s\tremaining: 4m 12s\n",
      "400:\tlearn: 111.8128276\ttotal: 40.8s\tremaining: 4m\n"
     ]
    }
   ],
   "source": [
    "def objective(trial, X_train, y_train):\n",
    "    params = {\n",
    "        \"iterations\": trial.suggest_int(\"iterations\", 300, 4000),\n",
    "        \"learning_rate\": trial.suggest_float(\"learning_rate\", 1e-3, 0.1, log=True),\n",
    "        \"depth\": trial.suggest_int(\"depth\", 1, 13),\n",
    "        \"min_data_in_leaf\": trial.suggest_int(\"min_data_in_leaf\", 1, 100),\n",
    "        \"l2_leaf_reg\": trial.suggest_int(\"l2_leaf_reg\", 2, 10),\n",
    "        \"bagging_temperature\": trial.suggest_float(\"bagging_temperature\", 0.3, 1.0),\n",
    "        \"random_strength\": trial.suggest_float(\"random_strength\", 0.3, 1.0),\n",
    "        \"border_count\": trial.suggest_int(\"border_count\", 1, 1000),\n",
    "        \"rsm\": trial.suggest_float(\"rsm\", 0.05, 1),\n",
    "        \"loss_function\": \"LogCosh\"\n",
    "    }\n",
    "\n",
    "    catboost_model_val = CatBoostRegressor(**params, verbose=200)\n",
    "    catboost_model_val.fit(train_pool)\n",
    "    pred = pd.DataFrame(catboost_model_val.predict(test_pool))\n",
    "    MAE = mean_absolute_error(y_test, pred)\n",
    "\n",
    "    return MAE\n",
    "    \n",
    "study = optuna.create_study(direction='minimize')\n",
    "study.optimize(lambda trial: objective(trial, X_train_new, y_train_new), n_trials=70)"
   ]
  },
  {
   "cell_type": "code",
   "execution_count": null,
   "metadata": {},
   "outputs": [],
   "source": [
    "#to output the best paramaters\n",
    "print(study.best_params)\n",
    "\n",
    "#to output the best score returned from the trials\n",
    "print(study.best_value)\n",
    "\n",
    "\n",
    "with open(\"optuna-best-parameters_2020:5:00-2020:7:30.txt\", \"w\") as file:\n",
    "    file.write(\"Best paramaters: \\n\")\n",
    "    file.write(json.dumps(study.best_params))  # Write the first string followed by a newline character\n",
    "    file.write(\"\\n\")\n",
    "    file.write(\"best score MAE: \\n\")\n",
    "    file.write(json.dumps(study.best_value))  # Write the second string followed by a newline character"
   ]
  }
 ],
 "metadata": {
  "environment": {
   "kernel": "python3",
   "name": "common-cpu.m112",
   "type": "gcloud",
   "uri": "gcr.io/deeplearning-platform-release/base-cpu:m112"
  },
  "kernelspec": {
   "display_name": "Python 3",
   "language": "python",
   "name": "python3"
  },
  "language_info": {
   "codemirror_mode": {
    "name": "ipython",
    "version": 3
   },
   "file_extension": ".py",
   "mimetype": "text/x-python",
   "name": "python",
   "nbconvert_exporter": "python",
   "pygments_lexer": "ipython3",
   "version": "3.10.12"
  }
 },
 "nbformat": 4,
 "nbformat_minor": 4
}
