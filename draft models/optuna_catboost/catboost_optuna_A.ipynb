{
 "cells": [
  {
   "cell_type": "code",
   "execution_count": 1,
   "metadata": {},
   "outputs": [],
   "source": [
    "import pandas as pd\n",
    "import numpy as np\n",
    "from catboost import Pool, CatBoostRegressor\n",
    "from sklearn.model_selection import cross_val_score\n",
    "from sklearn.model_selection import TimeSeriesSplit \n",
    "import optuna \n",
    "import json\n",
    "from sklearn.metrics import mean_absolute_error"
   ]
  },
  {
   "cell_type": "code",
   "execution_count": 2,
   "metadata": {},
   "outputs": [],
   "source": [
    "#Load inn datasets\n",
    "X_test  = pd.read_parquet('../data/prepared_datasets/avg/no_duplicates/X_test.parquet')\n",
    "X_train = pd.read_parquet('../data/prepared_datasets/avg/no_duplicates/X_train.parquet')\n",
    "y_train = pd.read_parquet('../data/prepared_datasets/avg/no_duplicates/Y_train.parquet')\n",
    "y_train_a = pd.read_parquet('../data/prepared_datasets/avg/no_duplicates/Y_train_a.parquet')\n",
    "y_train_b = pd.read_parquet('../data/prepared_datasets/avg/no_duplicates/Y_train_b.parquet')\n",
    "y_train_c = pd.read_parquet('../data/prepared_datasets/avg/no_duplicates/Y_train_c.parquet')"
   ]
  },
  {
   "cell_type": "code",
   "execution_count": 3,
   "metadata": {},
   "outputs": [],
   "source": [
    "def test_train_split(df):\n",
    "    dates_2 = (df.index >= '2023-04-01') & (df.index <= '2023-04-15')\n",
    "    dates_1 = (df.index >= '2021-05-01') & (df.index <= '2021-08-01')\n",
    "\n",
    "    test_set = df[dates_1 | dates_2]\n",
    "\n",
    "    training_set = df[~(dates_1 | dates_2)]\n",
    "\n",
    "    X_train = training_set.drop(\"pv_measurement\", axis=1)\n",
    "    y_train = training_set['pv_measurement']\n",
    "\n",
    "    X_test = test_set.drop(\"pv_measurement\", axis=1)\n",
    "    y_test = test_set['pv_measurement'] \n",
    "\n",
    "    \n",
    "    \n",
    "    return X_train, X_test, y_train, y_test\n",
    "\n",
    "X_train_new_a, X_test_new_a, y_train_new_a, y_test_a = test_train_split(pd.concat([X_train[X_train[\"location\"] == \"A\"].drop(\"location\", axis=1), y_train_a], axis=1))\n",
    "X_train_new_b, X_test_new_b, y_train_new_b, y_test_b = test_train_split(pd.concat([X_train[X_train[\"location\"] == \"B\"].drop(\"location\", axis=1), y_train_b], axis=1))\n",
    "X_train_new_c, X_test_new_c, y_train_new_c, y_test_c = test_train_split(pd.concat([X_train[X_train[\"location\"] == \"C\"].drop(\"location\", axis=1), y_train_c], axis=1))"
   ]
  },
  {
   "cell_type": "code",
   "execution_count": 4,
   "metadata": {},
   "outputs": [],
   "source": [
    "#Create a pool of data\n",
    "train_pool_a = Pool(X_train_new_a, y_train_new_a)\n",
    "train_pool_b = Pool(X_train_new_b, y_train_new_b)\n",
    "train_pool_c = Pool(X_train_new_c, y_train_new_c)\n",
    "\n",
    "\n",
    "test_pool_a = Pool(X_test_new_a) \n",
    "test_pool_b = Pool(X_test_new_b) \n",
    "test_pool_c = Pool(X_test_new_c) "
   ]
  },
  {
   "cell_type": "code",
   "execution_count": null,
   "metadata": {
    "tags": []
   },
   "outputs": [
    {
     "name": "stderr",
     "output_type": "stream",
     "text": [
      "[I 2023-11-11 09:29:12,137] A new study created in memory with name: no-name-4c3530c0-8e9d-4e86-8e65-335cecc85848\n"
     ]
    },
    {
     "name": "stdout",
     "output_type": "stream",
     "text": [
      "0:\tlearn: 572.0497150\ttotal: 75.2ms\tremaining: 2m 5s\n",
      "300:\tlearn: 371.9154225\ttotal: 6.74s\tremaining: 30.8s\n",
      "600:\tlearn: 270.4254772\ttotal: 13.5s\tremaining: 24.1s\n",
      "900:\tlearn: 224.8173899\ttotal: 20.4s\tremaining: 17.5s\n",
      "1200:\tlearn: 203.5769002\ttotal: 27.4s\tremaining: 10.8s\n",
      "1500:\tlearn: 193.3007018\ttotal: 34.5s\tremaining: 3.97s\n"
     ]
    },
    {
     "name": "stderr",
     "output_type": "stream",
     "text": [
      "[I 2023-11-11 09:29:50,943] Trial 0 finished with value: 352.9731565896283 and parameters: {'iterations': 1674, 'learning_rate': 0.0020336134864032264, 'depth': 5, 'min_data_in_leaf': 18, 'l2_leaf_reg': 5, 'bagging_temperature': 0.7118574372705158, 'random_strength': 0.7071908896762809, 'border_count': 995, 'rsm': 0.9545408657511946}. Best is trial 0 with value: 352.9731565896283.\n"
     ]
    },
    {
     "name": "stdout",
     "output_type": "stream",
     "text": [
      "1673:\tlearn: 189.9468448\ttotal: 38.5s\tremaining: 0us\n",
      "0:\tlearn: 570.5091056\ttotal: 16.9ms\tremaining: 47.1s\n",
      "300:\tlearn: 232.9667114\ttotal: 6.23s\tremaining: 51.5s\n",
      "600:\tlearn: 185.0585845\ttotal: 14.6s\tremaining: 53.2s\n",
      "900:\tlearn: 175.6354239\ttotal: 26.2s\tremaining: 54.8s\n",
      "1200:\tlearn: 171.6515047\ttotal: 37.8s\tremaining: 49.9s\n",
      "1500:\tlearn: 168.8334451\ttotal: 49.9s\tremaining: 42.8s\n",
      "1800:\tlearn: 166.4024903\ttotal: 1m 1s\tremaining: 34s\n",
      "2100:\tlearn: 164.0092386\ttotal: 1m 13s\tremaining: 24.2s\n",
      "2400:\tlearn: 161.6883766\ttotal: 1m 25s\tremaining: 13.9s\n",
      "2700:\tlearn: 159.6381367\ttotal: 1m 37s\tremaining: 3.18s\n"
     ]
    },
    {
     "name": "stderr",
     "output_type": "stream",
     "text": [
      "[I 2023-11-11 09:31:32,646] Trial 1 finished with value: 306.86800279689265 and parameters: {'iterations': 2789, 'learning_rate': 0.005215719786221631, 'depth': 7, 'min_data_in_leaf': 23, 'l2_leaf_reg': 9, 'bagging_temperature': 0.59927201488059, 'random_strength': 0.45078026156259454, 'border_count': 177, 'rsm': 0.28375386640818895}. Best is trial 1 with value: 306.86800279689265.\n"
     ]
    },
    {
     "name": "stdout",
     "output_type": "stream",
     "text": [
      "2788:\tlearn: 158.9486912\ttotal: 1m 41s\tremaining: 0us\n",
      "0:\tlearn: 572.3183208\ttotal: 84.8ms\tremaining: 2m 20s\n",
      "300:\tlearn: 420.0075837\ttotal: 22.3s\tremaining: 1m 40s\n",
      "600:\tlearn: 319.1166335\ttotal: 43.7s\tremaining: 1m 16s\n",
      "1200:\tlearn: 225.2536439\ttotal: 1m 21s\tremaining: 31s\n",
      "1500:\tlearn: 204.2888295\ttotal: 1m 39s\tremaining: 10.2s\n"
     ]
    },
    {
     "name": "stderr",
     "output_type": "stream",
     "text": [
      "[I 2023-11-11 09:33:20,937] Trial 2 finished with value: 392.7884493330789 and parameters: {'iterations': 1656, 'learning_rate': 0.001346948815637153, 'depth': 9, 'min_data_in_leaf': 35, 'l2_leaf_reg': 4, 'bagging_temperature': 0.5284472221258718, 'random_strength': 0.7287183854916173, 'border_count': 359, 'rsm': 0.7965344725004246}. Best is trial 1 with value: 306.86800279689265.\n"
     ]
    },
    {
     "name": "stdout",
     "output_type": "stream",
     "text": [
      "1655:\tlearn: 196.7834400\ttotal: 1m 47s\tremaining: 0us\n",
      "0:\tlearn: 560.7533785\ttotal: 70.1ms\tremaining: 3m\n",
      "300:\tlearn: 158.2274170\ttotal: 19.4s\tremaining: 2m 27s\n",
      "600:\tlearn: 141.9070659\ttotal: 39.5s\tremaining: 2m 10s\n",
      "900:\tlearn: 125.2346250\ttotal: 55.2s\tremaining: 1m 43s\n",
      "1200:\tlearn: 114.6388100\ttotal: 1m 10s\tremaining: 1m 21s\n",
      "1500:\tlearn: 105.6553481\ttotal: 1m 26s\tremaining: 1m 2s\n",
      "1800:\tlearn: 100.4484447\ttotal: 1m 45s\tremaining: 45.7s\n",
      "2100:\tlearn: 95.0482496\ttotal: 2m 3s\tremaining: 28.4s\n",
      "2400:\tlearn: 91.4931879\ttotal: 2m 21s\tremaining: 10.8s\n"
     ]
    },
    {
     "name": "stderr",
     "output_type": "stream",
     "text": [
      "[I 2023-11-11 09:35:54,939] Trial 3 finished with value: 318.70547040015504 and parameters: {'iterations': 2583, 'learning_rate': 0.025807020168350278, 'depth': 9, 'min_data_in_leaf': 61, 'l2_leaf_reg': 5, 'bagging_temperature': 0.6327565037520095, 'random_strength': 0.7457829652741597, 'border_count': 750, 'rsm': 0.5801177235331383}. Best is trial 1 with value: 306.86800279689265.\n"
     ]
    },
    {
     "name": "stdout",
     "output_type": "stream",
     "text": [
      "2582:\tlearn: 89.2225749\ttotal: 2m 33s\tremaining: 0us\n",
      "0:\tlearn: 559.4017617\ttotal: 41.3ms\tremaining: 36.9s\n",
      "300:\tlearn: 138.4746815\ttotal: 13.3s\tremaining: 26.3s\n",
      "600:\tlearn: 105.7402193\ttotal: 26.9s\tremaining: 13.1s\n"
     ]
    },
    {
     "name": "stderr",
     "output_type": "stream",
     "text": [
      "[I 2023-11-11 09:36:35,655] Trial 4 finished with value: 318.63367804771735 and parameters: {'iterations': 894, 'learning_rate': 0.03736150271476106, 'depth': 10, 'min_data_in_leaf': 51, 'l2_leaf_reg': 9, 'bagging_temperature': 0.8640125676231238, 'random_strength': 0.5209025955907236, 'border_count': 160, 'rsm': 0.9779524291029515}. Best is trial 1 with value: 306.86800279689265.\n"
     ]
    },
    {
     "name": "stdout",
     "output_type": "stream",
     "text": [
      "893:\tlearn: 87.0833465\ttotal: 40.4s\tremaining: 0us\n",
      "0:\tlearn: 549.0070235\ttotal: 14.6ms\tremaining: 32.8s\n",
      "300:\tlearn: 161.6476081\ttotal: 6.7s\tremaining: 43.2s\n",
      "600:\tlearn: 146.8898854\ttotal: 13.8s\tremaining: 37.8s\n",
      "900:\tlearn: 137.3493211\ttotal: 21.2s\tremaining: 31.6s\n",
      "1200:\tlearn: 130.7133235\ttotal: 28.9s\tremaining: 25.1s\n",
      "1500:\tlearn: 125.2096581\ttotal: 35.1s\tremaining: 17.4s\n",
      "1800:\tlearn: 120.6569542\ttotal: 41.3s\tremaining: 10.2s\n",
      "2100:\tlearn: 116.8630442\ttotal: 47.6s\tremaining: 3.24s\n"
     ]
    },
    {
     "name": "stderr",
     "output_type": "stream",
     "text": [
      "[I 2023-11-11 09:37:26,486] Trial 5 finished with value: 320.55527514834216 and parameters: {'iterations': 2244, 'learning_rate': 0.09263069668293113, 'depth': 6, 'min_data_in_leaf': 5, 'l2_leaf_reg': 5, 'bagging_temperature': 0.3383866894315357, 'random_strength': 0.48825146663052565, 'border_count': 244, 'rsm': 0.14694216613299058}. Best is trial 1 with value: 306.86800279689265.\n"
     ]
    },
    {
     "name": "stdout",
     "output_type": "stream",
     "text": [
      "2243:\tlearn: 115.1168198\ttotal: 50.5s\tremaining: 0us\n",
      "0:\tlearn: 572.1445553\ttotal: 105ms\tremaining: 5m 49s\n",
      "300:\tlearn: 423.2147203\ttotal: 29.4s\tremaining: 4m 55s\n",
      "600:\tlearn: 322.4745519\ttotal: 59.5s\tremaining: 4m 29s\n",
      "900:\tlearn: 260.6696790\ttotal: 1m 30s\tremaining: 4m 4s\n",
      "1200:\tlearn: 223.0542731\ttotal: 2m 1s\tremaining: 3m 35s\n",
      "1500:\tlearn: 198.8970981\ttotal: 2m 40s\tremaining: 3m 15s\n",
      "1800:\tlearn: 182.6037315\ttotal: 3m 22s\tremaining: 2m 51s\n",
      "2100:\tlearn: 170.9152699\ttotal: 4m 3s\tremaining: 2m 21s\n",
      "2400:\tlearn: 162.0468310\ttotal: 4m 45s\tremaining: 1m 49s\n",
      "2700:\tlearn: 155.1332216\ttotal: 5m 26s\tremaining: 1m 15s\n",
      "3000:\tlearn: 149.4600107\ttotal: 6m 9s\tremaining: 39.9s\n",
      "3300:\tlearn: 144.7020449\ttotal: 6m 52s\tremaining: 3s\n",
      "3324:\tlearn: 144.3401640\ttotal: 6m 55s\tremaining: 0us\n"
     ]
    },
    {
     "name": "stderr",
     "output_type": "stream",
     "text": [
      "[I 2023-11-11 09:44:24,489] Trial 6 finished with value: 321.1501163430901 and parameters: {'iterations': 3325, 'learning_rate': 0.001279488004338055, 'depth': 13, 'min_data_in_leaf': 64, 'l2_leaf_reg': 4, 'bagging_temperature': 0.6680319885160039, 'random_strength': 0.8809753003273635, 'border_count': 412, 'rsm': 0.2560609386102788}. Best is trial 1 with value: 306.86800279689265.\n"
     ]
    },
    {
     "name": "stdout",
     "output_type": "stream",
     "text": [
      "0:\tlearn: 554.9769571\ttotal: 19.2ms\tremaining: 40.1s\n",
      "300:\tlearn: 191.3358193\ttotal: 7.81s\tremaining: 46.4s\n",
      "600:\tlearn: 183.5282112\ttotal: 16.2s\tremaining: 40s\n",
      "900:\tlearn: 178.9295262\ttotal: 24.4s\tremaining: 32.2s\n",
      "1200:\tlearn: 175.2875366\ttotal: 32.6s\tremaining: 24s\n",
      "1500:\tlearn: 172.4473650\ttotal: 42.6s\tremaining: 16.7s\n",
      "1800:\tlearn: 170.1638930\ttotal: 53.4s\tremaining: 8.51s\n"
     ]
    },
    {
     "name": "stderr",
     "output_type": "stream",
     "text": [
      "[I 2023-11-11 09:45:28,721] Trial 7 finished with value: 326.42394648351626 and parameters: {'iterations': 2088, 'learning_rate': 0.06992625451358798, 'depth': 3, 'min_data_in_leaf': 87, 'l2_leaf_reg': 8, 'bagging_temperature': 0.9631966638639866, 'random_strength': 0.8293191298915192, 'border_count': 315, 'rsm': 0.09925784145340821}. Best is trial 1 with value: 306.86800279689265.\n"
     ]
    },
    {
     "name": "stdout",
     "output_type": "stream",
     "text": [
      "2087:\tlearn: 168.1605958\ttotal: 1m 3s\tremaining: 0us\n",
      "0:\tlearn: 569.9284346\ttotal: 21.8ms\tremaining: 46.1s\n",
      "300:\tlearn: 215.1075538\ttotal: 10.6s\tremaining: 1m 3s\n",
      "600:\tlearn: 189.8509772\ttotal: 21.4s\tremaining: 53.9s\n",
      "900:\tlearn: 184.6394930\ttotal: 32.5s\tremaining: 43.7s\n",
      "1200:\tlearn: 181.6501024\ttotal: 43.7s\tremaining: 33.2s\n",
      "1500:\tlearn: 179.5417729\ttotal: 55.2s\tremaining: 22.6s\n",
      "1800:\tlearn: 177.7629781\ttotal: 1m 6s\tremaining: 11.6s\n",
      "2100:\tlearn: 176.0058524\ttotal: 1m 17s\tremaining: 516ms\n"
     ]
    },
    {
     "name": "stderr",
     "output_type": "stream",
     "text": [
      "[I 2023-11-11 09:46:47,006] Trial 8 finished with value: 320.2410700053342 and parameters: {'iterations': 2115, 'learning_rate': 0.007372141054846138, 'depth': 4, 'min_data_in_leaf': 100, 'l2_leaf_reg': 7, 'bagging_temperature': 0.3511073951542791, 'random_strength': 0.413073480568131, 'border_count': 832, 'rsm': 0.4510154708174908}. Best is trial 1 with value: 306.86800279689265.\n"
     ]
    },
    {
     "name": "stdout",
     "output_type": "stream",
     "text": [
      "2114:\tlearn: 175.9387949\ttotal: 1m 17s\tremaining: 0us\n",
      "0:\tlearn: 566.8618428\ttotal: 40.8ms\tremaining: 1m 39s\n",
      "300:\tlearn: 186.8522248\ttotal: 14.5s\tremaining: 1m 43s\n",
      "600:\tlearn: 174.7254405\ttotal: 29.8s\tremaining: 1m 31s\n",
      "900:\tlearn: 169.3457364\ttotal: 44.4s\tremaining: 1m 15s\n",
      "1200:\tlearn: 164.7617532\ttotal: 59.1s\tremaining: 1m\n",
      "1500:\tlearn: 160.6832379\ttotal: 1m 13s\tremaining: 46.1s\n",
      "1800:\tlearn: 157.1282582\ttotal: 1m 29s\tremaining: 31.6s\n",
      "2100:\tlearn: 154.0941594\ttotal: 1m 44s\tremaining: 16.7s\n",
      "2400:\tlearn: 151.1206837\ttotal: 1m 59s\tremaining: 1.83s\n"
     ]
    },
    {
     "name": "stderr",
     "output_type": "stream",
     "text": [
      "[I 2023-11-11 09:48:48,512] Trial 9 finished with value: 308.5369562504149 and parameters: {'iterations': 2438, 'learning_rate': 0.012570301648669896, 'depth': 7, 'min_data_in_leaf': 98, 'l2_leaf_reg': 7, 'bagging_temperature': 0.46724556884648594, 'random_strength': 0.6145847594911106, 'border_count': 961, 'rsm': 0.10199493798501692}. Best is trial 1 with value: 306.86800279689265.\n"
     ]
    },
    {
     "name": "stdout",
     "output_type": "stream",
     "text": [
      "2437:\tlearn: 150.8987647\ttotal: 2m\tremaining: 0us\n",
      "0:\tlearn: 571.7518910\ttotal: 13.9ms\tremaining: 43.7s\n",
      "300:\tlearn: 325.0767119\ttotal: 9.38s\tremaining: 1m 28s\n",
      "600:\tlearn: 246.6806312\ttotal: 19.3s\tremaining: 1m 22s\n",
      "900:\tlearn: 226.1661996\ttotal: 29.1s\tremaining: 1m 12s\n",
      "1200:\tlearn: 218.6859831\ttotal: 38.8s\tremaining: 1m 3s\n",
      "1500:\tlearn: 215.5481492\ttotal: 48.9s\tremaining: 53.9s\n",
      "1800:\tlearn: 213.5763433\ttotal: 59.2s\tremaining: 44.5s\n",
      "2100:\tlearn: 212.5762081\ttotal: 1m 9s\tremaining: 34.8s\n",
      "2400:\tlearn: 212.0591048\ttotal: 1m 19s\tremaining: 25.1s\n",
      "2700:\tlearn: 211.7118867\ttotal: 1m 30s\tremaining: 15.2s\n",
      "3000:\tlearn: 211.3269436\ttotal: 1m 41s\tremaining: 5.22s\n"
     ]
    },
    {
     "name": "stderr",
     "output_type": "stream",
     "text": [
      "[I 2023-11-11 09:50:35,591] Trial 10 finished with value: 389.7220356814083 and parameters: {'iterations': 3156, 'learning_rate': 0.003746365962093323, 'depth': 1, 'min_data_in_leaf': 23, 'l2_leaf_reg': 10, 'bagging_temperature': 0.8148244385425136, 'random_strength': 0.32556952977743425, 'border_count': 71, 'rsm': 0.3657479770080788}. Best is trial 1 with value: 306.86800279689265.\n"
     ]
    },
    {
     "name": "stdout",
     "output_type": "stream",
     "text": [
      "3155:\tlearn: 211.1278389\ttotal: 1m 46s\tremaining: 0us\n",
      "0:\tlearn: 568.5486118\ttotal: 78.1ms\tremaining: 3m 46s\n",
      "300:\tlearn: 203.4240420\ttotal: 13.5s\tremaining: 1m 56s\n",
      "600:\tlearn: 183.9105484\ttotal: 27.2s\tremaining: 1m 44s\n",
      "900:\tlearn: 177.9216670\ttotal: 41.2s\tremaining: 1m 31s\n",
      "1200:\tlearn: 173.5652774\ttotal: 55s\tremaining: 1m 18s\n",
      "1500:\tlearn: 170.0232266\ttotal: 1m 8s\tremaining: 1m 4s\n",
      "1800:\tlearn: 166.8839978\ttotal: 1m 22s\tremaining: 50.8s\n",
      "2100:\tlearn: 164.1994595\ttotal: 1m 36s\tremaining: 37.2s\n",
      "2400:\tlearn: 161.4544510\ttotal: 1m 51s\tremaining: 23.4s\n",
      "2700:\tlearn: 159.3455761\ttotal: 2m 4s\tremaining: 9.49s\n"
     ]
    },
    {
     "name": "stderr",
     "output_type": "stream",
     "text": [
      "[I 2023-11-11 09:52:50,762] Trial 11 finished with value: 313.2915014279779 and parameters: {'iterations': 2906, 'learning_rate': 0.00977490001395962, 'depth': 7, 'min_data_in_leaf': 78, 'l2_leaf_reg': 2, 'bagging_temperature': 0.4758048763040596, 'random_strength': 0.5879197403062166, 'border_count': 596, 'rsm': 0.07723392227232756}. Best is trial 1 with value: 306.86800279689265.\n"
     ]
    },
    {
     "name": "stdout",
     "output_type": "stream",
     "text": [
      "2905:\tlearn: 158.0436111\ttotal: 2m 14s\tremaining: 0us\n",
      "0:\tlearn: 570.6360975\ttotal: 71.5ms\tremaining: 3m 8s\n",
      "300:\tlearn: 218.9347108\ttotal: 27.4s\tremaining: 3m 32s\n",
      "600:\tlearn: 167.6096805\ttotal: 54.2s\tremaining: 3m 3s\n",
      "900:\tlearn: 153.7180621\ttotal: 1m 21s\tremaining: 2m 37s\n",
      "1200:\tlearn: 146.1196211\ttotal: 1m 48s\tremaining: 2m 9s\n",
      "1500:\tlearn: 139.6699978\ttotal: 2m 16s\tremaining: 1m 43s\n",
      "1800:\tlearn: 133.8065743\ttotal: 2m 43s\tremaining: 1m 16s\n",
      "2100:\tlearn: 128.1262743\ttotal: 3m 6s\tremaining: 47.7s\n",
      "2400:\tlearn: 121.2687543\ttotal: 3m 22s\tremaining: 20s\n",
      "2638:\tlearn: 116.6274652\ttotal: 3m 34s\tremaining: 0us\n"
     ]
    },
    {
     "name": "stderr",
     "output_type": "stream",
     "text": [
      "[I 2023-11-11 09:56:26,130] Trial 12 finished with value: 309.5884258376111 and parameters: {'iterations': 2639, 'learning_rate': 0.005497701937484215, 'depth': 11, 'min_data_in_leaf': 37, 'l2_leaf_reg': 7, 'bagging_temperature': 0.5166269711407135, 'random_strength': 0.5984817114891281, 'border_count': 588, 'rsm': 0.2696017959899341}. Best is trial 1 with value: 306.86800279689265.\n"
     ]
    },
    {
     "name": "stdout",
     "output_type": "stream",
     "text": [
      "0:\tlearn: 566.5381461\ttotal: 27.1ms\tremaining: 34.4s\n",
      "300:\tlearn: 175.3844675\ttotal: 8.68s\tremaining: 28s\n",
      "600:\tlearn: 164.4477010\ttotal: 17.7s\tremaining: 19.8s\n",
      "900:\tlearn: 156.9991024\ttotal: 26.7s\tremaining: 11s\n",
      "1200:\tlearn: 149.1237048\ttotal: 36s\tremaining: 2.15s\n"
     ]
    },
    {
     "name": "stderr",
     "output_type": "stream",
     "text": [
      "[I 2023-11-11 09:57:04,669] Trial 13 finished with value: 306.0588198621561 and parameters: {'iterations': 1273, 'learning_rate': 0.01337342186410651, 'depth': 8, 'min_data_in_leaf': 6, 'l2_leaf_reg': 10, 'bagging_temperature': 0.41625078739550286, 'random_strength': 0.44063323528811843, 'border_count': 927, 'rsm': 0.2334580042270613}. Best is trial 13 with value: 306.0588198621561.\n"
     ]
    },
    {
     "name": "stdout",
     "output_type": "stream",
     "text": [
      "1272:\tlearn: 147.5796038\ttotal: 38.3s\tremaining: 0us\n",
      "0:\tlearn: 566.6012598\ttotal: 15.2ms\tremaining: 16.5s\n",
      "300:\tlearn: 173.2758167\ttotal: 5.03s\tremaining: 13.1s\n",
      "600:\tlearn: 163.7536044\ttotal: 10.2s\tremaining: 8.28s\n",
      "900:\tlearn: 156.1250182\ttotal: 15.5s\tremaining: 3.21s\n"
     ]
    },
    {
     "name": "stderr",
     "output_type": "stream",
     "text": [
      "[I 2023-11-11 09:57:23,668] Trial 14 finished with value: 315.75428015844267 and parameters: {'iterations': 1088, 'learning_rate': 0.01588387727874816, 'depth': 8, 'min_data_in_leaf': 5, 'l2_leaf_reg': 10, 'bagging_temperature': 0.309598809060173, 'random_strength': 0.3224545591475363, 'border_count': 8, 'rsm': 0.26074827572119974}. Best is trial 13 with value: 306.0588198621561.\n"
     ]
    },
    {
     "name": "stdout",
     "output_type": "stream",
     "text": [
      "1087:\tlearn: 151.6785184\ttotal: 18.8s\tremaining: 0us\n",
      "0:\tlearn: 571.1738488\ttotal: 135ms\tremaining: 52s\n",
      "300:\tlearn: 284.3062899\ttotal: 38.9s\tremaining: 11s\n"
     ]
    },
    {
     "name": "stderr",
     "output_type": "stream",
     "text": [
      "[I 2023-11-11 09:58:14,215] Trial 15 finished with value: 553.6130521494968 and parameters: {'iterations': 386, 'learning_rate': 0.0033123747750194387, 'depth': 12, 'min_data_in_leaf': 21, 'l2_leaf_reg': 9, 'bagging_temperature': 0.5652953852992983, 'random_strength': 0.9984583971705938, 'border_count': 752, 'rsm': 0.469996379969322}. Best is trial 13 with value: 306.0588198621561.\n"
     ]
    },
    {
     "name": "stdout",
     "output_type": "stream",
     "text": [
      "385:\tlearn: 249.3343562\ttotal: 50.3s\tremaining: 0us\n",
      "0:\tlearn: 571.1367933\ttotal: 14.3ms\tremaining: 18.5s\n",
      "300:\tlearn: 237.7186632\ttotal: 4.96s\tremaining: 16.3s\n",
      "600:\tlearn: 191.7944319\ttotal: 10.1s\tremaining: 11.5s\n",
      "900:\tlearn: 183.0605940\ttotal: 15.2s\tremaining: 6.58s\n",
      "1200:\tlearn: 179.8695999\ttotal: 20.4s\tremaining: 1.51s\n"
     ]
    },
    {
     "name": "stderr",
     "output_type": "stream",
     "text": [
      "[I 2023-11-11 09:58:36,306] Trial 16 finished with value: 322.97623509120706 and parameters: {'iterations': 1290, 'learning_rate': 0.005364953416890014, 'depth': 5, 'min_data_in_leaf': 3, 'l2_leaf_reg': 9, 'bagging_temperature': 0.43641444455711853, 'random_strength': 0.4472844378694925, 'border_count': 521, 'rsm': 0.34755741217386515}. Best is trial 13 with value: 306.0588198621561.\n"
     ]
    },
    {
     "name": "stdout",
     "output_type": "stream",
     "text": [
      "1289:\tlearn: 179.1897468\ttotal: 21.9s\tremaining: 0us\n",
      "0:\tlearn: 565.2077723\ttotal: 27.2ms\tremaining: 19.7s\n",
      "300:\tlearn: 167.4300430\ttotal: 8.65s\tremaining: 12.2s\n",
      "600:\tlearn: 156.4449015\ttotal: 17.4s\tremaining: 3.6s\n"
     ]
    },
    {
     "name": "stderr",
     "output_type": "stream",
     "text": [
      "[I 2023-11-11 09:58:57,640] Trial 17 finished with value: 306.1789072240778 and parameters: {'iterations': 725, 'learning_rate': 0.018153091231769447, 'depth': 8, 'min_data_in_leaf': 35, 'l2_leaf_reg': 10, 'bagging_temperature': 0.40548586677664716, 'random_strength': 0.39754319576973407, 'border_count': 192, 'rsm': 0.5754081781322051}. Best is trial 13 with value: 306.0588198621561.\n"
     ]
    },
    {
     "name": "stdout",
     "output_type": "stream",
     "text": [
      "724:\tlearn: 153.0580959\ttotal: 21.2s\tremaining: 0us\n",
      "0:\tlearn: 566.0207981\ttotal: 43.2ms\tremaining: 17.1s\n",
      "300:\tlearn: 155.3671506\ttotal: 12.5s\tremaining: 4.01s\n"
     ]
    },
    {
     "name": "stderr",
     "output_type": "stream",
     "text": [
      "[I 2023-11-11 09:59:14,311] Trial 18 finished with value: 306.795890961073 and parameters: {'iterations': 398, 'learning_rate': 0.017992933570334452, 'depth': 10, 'min_data_in_leaf': 39, 'l2_leaf_reg': 10, 'bagging_temperature': 0.36085414657888576, 'random_strength': 0.34955126964739586, 'border_count': 445, 'rsm': 0.5407807587064948}. Best is trial 13 with value: 306.0588198621561.\n"
     ]
    },
    {
     "name": "stdout",
     "output_type": "stream",
     "text": [
      "397:\tlearn: 150.4558616\ttotal: 16.5s\tremaining: 0us\n",
      "0:\tlearn: 565.8503438\ttotal: 11.8ms\tremaining: 8.3s\n",
      "300:\tlearn: 199.1928301\ttotal: 4.93s\tremaining: 6.58s\n",
      "600:\tlearn: 194.6028900\ttotal: 10.2s\tremaining: 1.74s\n"
     ]
    },
    {
     "name": "stderr",
     "output_type": "stream",
     "text": [
      "[I 2023-11-11 09:59:26,963] Trial 19 finished with value: 342.24149840307905 and parameters: {'iterations': 703, 'learning_rate': 0.028240635310054347, 'depth': 2, 'min_data_in_leaf': 49, 'l2_leaf_reg': 8, 'bagging_temperature': 0.4135929111177981, 'random_strength': 0.38319944181657384, 'border_count': 667, 'rsm': 0.6287188611017387}. Best is trial 13 with value: 306.0588198621561.\n"
     ]
    },
    {
     "name": "stdout",
     "output_type": "stream",
     "text": [
      "702:\tlearn: 193.6261943\ttotal: 12.5s\tremaining: 0us\n",
      "0:\tlearn: 567.9390054\ttotal: 64.1ms\tremaining: 1m 25s\n",
      "300:\tlearn: 176.2766068\ttotal: 18.3s\tremaining: 1m 2s\n",
      "600:\tlearn: 160.1268453\ttotal: 36.9s\tremaining: 44.6s\n",
      "900:\tlearn: 152.9711662\ttotal: 55.7s\tremaining: 26.4s\n",
      "1200:\tlearn: 146.1251664\ttotal: 1m 14s\tremaining: 7.88s\n"
     ]
    },
    {
     "name": "stderr",
     "output_type": "stream",
     "text": [
      "[I 2023-11-11 10:00:49,988] Trial 20 finished with value: 304.43141604420487 and parameters: {'iterations': 1328, 'learning_rate': 0.01059417272768491, 'depth': 9, 'min_data_in_leaf': 13, 'l2_leaf_reg': 2, 'bagging_temperature': 0.3904291709076544, 'random_strength': 0.5268747124133206, 'border_count': 844, 'rsm': 0.6920340676327678}. Best is trial 20 with value: 304.43141604420487.\n"
     ]
    },
    {
     "name": "stdout",
     "output_type": "stream",
     "text": [
      "1327:\tlearn: 141.2906406\ttotal: 1m 22s\tremaining: 0us\n",
      "0:\tlearn: 568.9257070\ttotal: 56.3ms\tremaining: 1m 17s\n",
      "300:\tlearn: 174.1398654\ttotal: 19.6s\tremaining: 1m 10s\n",
      "600:\tlearn: 158.9932127\ttotal: 39.2s\tremaining: 51s\n",
      "900:\tlearn: 151.8342432\ttotal: 59.2s\tremaining: 31.6s\n",
      "1200:\tlearn: 144.6380504\ttotal: 1m 19s\tremaining: 11.9s\n"
     ]
    },
    {
     "name": "stderr",
     "output_type": "stream",
     "text": [
      "[I 2023-11-11 10:02:20,222] Trial 21 finished with value: 305.49573968994366 and parameters: {'iterations': 1382, 'learning_rate': 0.01101729576459917, 'depth': 9, 'min_data_in_leaf': 14, 'l2_leaf_reg': 2, 'bagging_temperature': 0.4392200571669308, 'random_strength': 0.5165054091291028, 'border_count': 888, 'rsm': 0.732374298361621}. Best is trial 20 with value: 304.43141604420487.\n"
     ]
    },
    {
     "name": "stdout",
     "output_type": "stream",
     "text": [
      "1381:\tlearn: 141.1642853\ttotal: 1m 29s\tremaining: 0us\n",
      "0:\tlearn: 567.9032939\ttotal: 76.8ms\tremaining: 1m 48s\n",
      "300:\tlearn: 171.5233815\ttotal: 20.7s\tremaining: 1m 16s\n",
      "600:\tlearn: 152.9051703\ttotal: 41.8s\tremaining: 56.6s\n",
      "900:\tlearn: 144.3134508\ttotal: 1m 3s\tremaining: 36.2s\n",
      "1200:\tlearn: 135.0552539\ttotal: 1m 25s\tremaining: 15.2s\n"
     ]
    },
    {
     "name": "stderr",
     "output_type": "stream",
     "text": [
      "[I 2023-11-11 10:04:02,159] Trial 22 finished with value: 307.68844513599583 and parameters: {'iterations': 1415, 'learning_rate': 0.01059040527922359, 'depth': 10, 'min_data_in_leaf': 14, 'l2_leaf_reg': 2, 'bagging_temperature': 0.30124505747712826, 'random_strength': 0.530940437005089, 'border_count': 884, 'rsm': 0.6767793074878148}. Best is trial 20 with value: 304.43141604420487.\n"
     ]
    },
    {
     "name": "stdout",
     "output_type": "stream",
     "text": [
      "1414:\tlearn: 126.8373054\ttotal: 1m 41s\tremaining: 0us\n",
      "0:\tlearn: 569.1249628\ttotal: 66.3ms\tremaining: 1m 54s\n",
      "300:\tlearn: 190.2270298\ttotal: 18s\tremaining: 1m 25s\n",
      "600:\tlearn: 164.5735652\ttotal: 36.3s\tremaining: 1m 8s\n",
      "900:\tlearn: 157.7688176\ttotal: 54.7s\tremaining: 50.4s\n",
      "1200:\tlearn: 152.4010099\ttotal: 1m 13s\tremaining: 32.6s\n",
      "1500:\tlearn: 146.2716210\ttotal: 1m 32s\tremaining: 14.3s\n"
     ]
    },
    {
     "name": "stderr",
     "output_type": "stream",
     "text": [
      "[I 2023-11-11 10:05:49,492] Trial 23 finished with value: 305.56977391985936 and parameters: {'iterations': 1732, 'learning_rate': 0.008001810792039286, 'depth': 9, 'min_data_in_leaf': 12, 'l2_leaf_reg': 3, 'bagging_temperature': 0.39720673091402164, 'random_strength': 0.522839683119523, 'border_count': 885, 'rsm': 0.7232952409854725}. Best is trial 20 with value: 304.43141604420487.\n"
     ]
    },
    {
     "name": "stdout",
     "output_type": "stream",
     "text": [
      "1731:\tlearn: 140.6536838\ttotal: 1m 46s\tremaining: 0us\n",
      "0:\tlearn: 569.2410715\ttotal: 133ms\tremaining: 3m 52s\n",
      "300:\tlearn: 174.0917355\ttotal: 37.1s\tremaining: 2m 57s\n",
      "600:\tlearn: 146.7708996\ttotal: 1m 13s\tremaining: 2m 20s\n",
      "900:\tlearn: 136.7636217\ttotal: 1m 50s\tremaining: 1m 43s\n",
      "1200:\tlearn: 127.5090894\ttotal: 2m 28s\tremaining: 1m 7s\n",
      "1500:\tlearn: 115.0434041\ttotal: 3m 6s\tremaining: 30.3s\n",
      "1744:\tlearn: 109.1492280\ttotal: 3m 36s\tremaining: 0us\n"
     ]
    },
    {
     "name": "stderr",
     "output_type": "stream",
     "text": [
      "[I 2023-11-11 10:09:27,064] Trial 24 finished with value: 311.28068046080807 and parameters: {'iterations': 1745, 'learning_rate': 0.009031074151466992, 'depth': 11, 'min_data_in_leaf': 12, 'l2_leaf_reg': 3, 'bagging_temperature': 0.4952401771839956, 'random_strength': 0.5423878981067161, 'border_count': 815, 'rsm': 0.739236329783122}. Best is trial 20 with value: 304.43141604420487.\n"
     ]
    },
    {
     "name": "stdout",
     "output_type": "stream",
     "text": [
      "0:\tlearn: 569.0031241\ttotal: 54.7ms\tremaining: 1m 42s\n",
      "300:\tlearn: 188.7502865\ttotal: 19.1s\tremaining: 1m 40s\n",
      "600:\tlearn: 164.1346133\ttotal: 39.5s\tremaining: 1m 24s\n",
      "900:\tlearn: 157.8292464\ttotal: 59.2s\tremaining: 1m 4s\n",
      "1200:\tlearn: 151.6096444\ttotal: 1m 17s\tremaining: 43.8s\n",
      "1500:\tlearn: 145.5199552\ttotal: 1m 35s\tremaining: 24.1s\n",
      "1800:\tlearn: 138.9415324\ttotal: 1m 53s\tremaining: 4.99s\n"
     ]
    },
    {
     "name": "stderr",
     "output_type": "stream",
     "text": [
      "[I 2023-11-11 10:11:26,452] Trial 25 finished with value: 304.9204730649546 and parameters: {'iterations': 1880, 'learning_rate': 0.008098016313510634, 'depth': 9, 'min_data_in_leaf': 32, 'l2_leaf_reg': 3, 'bagging_temperature': 0.3772528161757571, 'random_strength': 0.49029074041506676, 'border_count': 727, 'rsm': 0.8077347725041357}. Best is trial 20 with value: 304.43141604420487.\n"
     ]
    },
    {
     "name": "stdout",
     "output_type": "stream",
     "text": [
      "1879:\tlearn: 138.1601337\ttotal: 1m 58s\tremaining: 0us\n",
      "0:\tlearn: 569.6936732\ttotal: 244ms\tremaining: 6m 6s\n",
      "300:\tlearn: 194.5725738\ttotal: 1m 9s\tremaining: 4m 36s\n",
      "600:\tlearn: 149.8637930\ttotal: 2m 17s\tremaining: 3m 26s\n",
      "900:\tlearn: 134.8598175\ttotal: 3m 21s\tremaining: 2m 13s\n",
      "1200:\tlearn: 126.8932893\ttotal: 4m 24s\tremaining: 1m 5s\n",
      "1499:\tlearn: 119.1755911\ttotal: 5m 27s\tremaining: 0us\n"
     ]
    },
    {
     "name": "stderr",
     "output_type": "stream",
     "text": [
      "[I 2023-11-11 10:16:54,710] Trial 26 finished with value: 312.8155352675194 and parameters: {'iterations': 1500, 'learning_rate': 0.006589080882754594, 'depth': 12, 'min_data_in_leaf': 29, 'l2_leaf_reg': 3, 'bagging_temperature': 0.3633575607183256, 'random_strength': 0.6449508884845623, 'border_count': 717, 'rsm': 0.8310074105378266}. Best is trial 20 with value: 304.43141604420487.\n"
     ]
    },
    {
     "name": "stdout",
     "output_type": "stream",
     "text": [
      "0:\tlearn: 567.3677910\ttotal: 84.9ms\tremaining: 2m 49s\n",
      "300:\tlearn: 163.5540882\ttotal: 28.8s\tremaining: 2m 42s\n",
      "600:\tlearn: 142.5155829\ttotal: 57.1s\tremaining: 2m 12s\n",
      "900:\tlearn: 131.3262459\ttotal: 1m 26s\tremaining: 1m 45s\n",
      "1200:\tlearn: 118.1706801\ttotal: 1m 55s\tremaining: 1m 17s\n",
      "1500:\tlearn: 108.4034730\ttotal: 2m 25s\tremaining: 48.2s\n",
      "1800:\tlearn: 99.9527419\ttotal: 2m 54s\tremaining: 19.2s\n",
      "1998:\tlearn: 92.9698010\ttotal: 3m 13s\tremaining: 0us\n"
     ]
    },
    {
     "name": "stderr",
     "output_type": "stream",
     "text": [
      "[I 2023-11-11 10:20:08,983] Trial 27 finished with value: 311.9916655150185 and parameters: {'iterations': 1999, 'learning_rate': 0.011199569346138562, 'depth': 11, 'min_data_in_leaf': 46, 'l2_leaf_reg': 2, 'bagging_temperature': 0.4513713144271152, 'random_strength': 0.5670017958222279, 'border_count': 645, 'rsm': 0.650031872861362}. Best is trial 20 with value: 304.43141604420487.\n"
     ]
    },
    {
     "name": "stdout",
     "output_type": "stream",
     "text": [
      "0:\tlearn: 571.4599731\ttotal: 22.6ms\tremaining: 25.3s\n",
      "300:\tlearn: 269.1681460\ttotal: 7.68s\tremaining: 20.9s\n",
      "600:\tlearn: 200.3047350\ttotal: 15.5s\tremaining: 13.4s\n",
      "900:\tlearn: 183.5331644\ttotal: 23.4s\tremaining: 5.69s\n"
     ]
    },
    {
     "name": "stderr",
     "output_type": "stream",
     "text": [
      "[I 2023-11-11 10:20:38,483] Trial 28 finished with value: 327.9090522309166 and parameters: {'iterations': 1120, 'learning_rate': 0.003906536182040861, 'depth': 6, 'min_data_in_leaf': 28, 'l2_leaf_reg': 4, 'bagging_temperature': 0.5412042600633554, 'random_strength': 0.4749709087285111, 'border_count': 810, 'rsm': 0.8682657753660326}. Best is trial 20 with value: 304.43141604420487.\n"
     ]
    },
    {
     "name": "stdout",
     "output_type": "stream",
     "text": [
      "1119:\tlearn: 178.9355909\ttotal: 29.2s\tremaining: 0us\n",
      "0:\tlearn: 571.3003381\ttotal: 63.8ms\tremaining: 1m 38s\n",
      "300:\tlearn: 282.4819816\ttotal: 20s\tremaining: 1m 22s\n",
      "600:\tlearn: 202.6662385\ttotal: 39.9s\tremaining: 1m 2s\n",
      "900:\tlearn: 178.2561877\ttotal: 59.8s\tremaining: 42.2s\n",
      "1200:\tlearn: 168.7422473\ttotal: 1m 19s\tremaining: 22.3s\n",
      "1500:\tlearn: 163.9478129\ttotal: 1m 39s\tremaining: 2.46s\n"
     ]
    },
    {
     "name": "stderr",
     "output_type": "stream",
     "text": [
      "[I 2023-11-11 10:22:21,214] Trial 29 finished with value: 312.03758206424664 and parameters: {'iterations': 1538, 'learning_rate': 0.003392967857971641, 'depth': 9, 'min_data_in_leaf': 15, 'l2_leaf_reg': 3, 'bagging_temperature': 0.4801913839773034, 'random_strength': 0.6520476604779304, 'border_count': 998, 'rsm': 0.9062709751569595}. Best is trial 20 with value: 304.43141604420487.\n"
     ]
    },
    {
     "name": "stdout",
     "output_type": "stream",
     "text": [
      "1537:\tlearn: 163.4938462\ttotal: 1m 42s\tremaining: 0us\n",
      "0:\tlearn: 569.5409786\ttotal: 476ms\tremaining: 14m 48s\n",
      "300:\tlearn: 171.1007502\ttotal: 2m 12s\tremaining: 11m 30s\n",
      "600:\tlearn: 129.2014019\ttotal: 4m 27s\tremaining: 9m 22s\n",
      "900:\tlearn: 115.3788485\ttotal: 6m 40s\tremaining: 7m 9s\n",
      "1200:\tlearn: 105.1760298\ttotal: 8m 56s\tremaining: 4m 57s\n",
      "1500:\tlearn: 96.7716382\ttotal: 11m 11s\tremaining: 2m 43s\n",
      "1800:\tlearn: 89.2055919\ttotal: 13m 25s\tremaining: 29.1s\n",
      "1865:\tlearn: 87.5866861\ttotal: 13m 54s\tremaining: 0us\n"
     ]
    },
    {
     "name": "stderr",
     "output_type": "stream",
     "text": [
      "[I 2023-11-11 10:36:17,096] Trial 30 finished with value: 319.1649048374038 and parameters: {'iterations': 1866, 'learning_rate': 0.007907111071467915, 'depth': 13, 'min_data_in_leaf': 28, 'l2_leaf_reg': 2, 'bagging_temperature': 0.37412639087146976, 'random_strength': 0.5032723432759151, 'border_count': 878, 'rsm': 0.7781956856272054}. Best is trial 20 with value: 304.43141604420487.\n"
     ]
    },
    {
     "name": "stdout",
     "output_type": "stream",
     "text": [
      "0:\tlearn: 569.9132947\ttotal: 52.4ms\tremaining: 1m 35s\n",
      "300:\tlearn: 206.1844142\ttotal: 17.4s\tremaining: 1m 27s\n",
      "600:\tlearn: 169.8786012\ttotal: 35.2s\tremaining: 1m 11s\n",
      "900:\tlearn: 161.1856047\ttotal: 53.2s\tremaining: 54.6s\n",
      "1200:\tlearn: 156.3492652\ttotal: 1m 11s\tremaining: 37s\n",
      "1500:\tlearn: 151.9699731\ttotal: 1m 29s\tremaining: 19.3s\n",
      "1800:\tlearn: 147.5237160\ttotal: 1m 47s\tremaining: 1.44s\n"
     ]
    },
    {
     "name": "stderr",
     "output_type": "stream",
     "text": [
      "[I 2023-11-11 10:38:06,843] Trial 31 finished with value: 306.16386244908546 and parameters: {'iterations': 1825, 'learning_rate': 0.006410013242189435, 'depth': 9, 'min_data_in_leaf': 12, 'l2_leaf_reg': 3, 'bagging_temperature': 0.3906248680848456, 'random_strength': 0.5372755065508718, 'border_count': 899, 'rsm': 0.7218695772524479}. Best is trial 20 with value: 304.43141604420487.\n"
     ]
    },
    {
     "name": "stdout",
     "output_type": "stream",
     "text": [
      "1824:\tlearn: 147.1292491\ttotal: 1m 49s\tremaining: 0us\n",
      "0:\tlearn: 569.0081513\ttotal: 46.9ms\tremaining: 1m 47s\n",
      "300:\tlearn: 188.5773818\ttotal: 12.8s\tremaining: 1m 25s\n",
      "600:\tlearn: 168.0683933\ttotal: 25.9s\tremaining: 1m 12s\n",
      "900:\tlearn: 162.6805624\ttotal: 38.7s\tremaining: 59.8s\n",
      "1200:\tlearn: 158.1034848\ttotal: 51.6s\tremaining: 46.9s\n",
      "1500:\tlearn: 153.0988395\ttotal: 1m 4s\tremaining: 34.2s\n",
      "1800:\tlearn: 147.4967120\ttotal: 1m 17s\tremaining: 21.2s\n",
      "2100:\tlearn: 143.6186739\ttotal: 1m 30s\tremaining: 8.28s\n"
     ]
    },
    {
     "name": "stderr",
     "output_type": "stream",
     "text": [
      "[I 2023-11-11 10:39:46,142] Trial 32 finished with value: 303.9605587407062 and parameters: {'iterations': 2293, 'learning_rate': 0.008620188420007512, 'depth': 8, 'min_data_in_leaf': 18, 'l2_leaf_reg': 3, 'bagging_temperature': 0.4326298721660991, 'random_strength': 0.4658204470151926, 'border_count': 837, 'rsm': 0.7221138820493201}. Best is trial 32 with value: 303.9605587407062.\n"
     ]
    },
    {
     "name": "stdout",
     "output_type": "stream",
     "text": [
      "2292:\tlearn: 141.5196295\ttotal: 1m 38s\tremaining: 0us\n",
      "0:\tlearn: 566.3759067\ttotal: 30.1ms\tremaining: 1m 8s\n",
      "300:\tlearn: 177.1582530\ttotal: 9.22s\tremaining: 1m\n",
      "600:\tlearn: 167.9031904\ttotal: 18.9s\tremaining: 52.6s\n",
      "900:\tlearn: 161.5209401\ttotal: 28.4s\tremaining: 43.3s\n",
      "1200:\tlearn: 155.6969311\ttotal: 37.8s\tremaining: 33.8s\n",
      "1500:\tlearn: 150.4657720\ttotal: 47.1s\tremaining: 24.3s\n",
      "1800:\tlearn: 145.5797315\ttotal: 56.4s\tremaining: 14.8s\n",
      "2100:\tlearn: 141.7005818\ttotal: 1m 5s\tremaining: 5.46s\n"
     ]
    },
    {
     "name": "stderr",
     "output_type": "stream",
     "text": [
      "[I 2023-11-11 10:40:57,878] Trial 33 finished with value: 305.51046312151743 and parameters: {'iterations': 2275, 'learning_rate': 0.013224177114488927, 'depth': 7, 'min_data_in_leaf': 19, 'l2_leaf_reg': 4, 'bagging_temperature': 0.5728914991506054, 'random_strength': 0.46933352138745305, 'border_count': 762, 'rsm': 0.9185299038611273}. Best is trial 32 with value: 303.9605587407062.\n"
     ]
    },
    {
     "name": "stdout",
     "output_type": "stream",
     "text": [
      "2274:\tlearn: 139.5149009\ttotal: 1m 11s\tremaining: 0us\n",
      "0:\tlearn: 568.0272950\ttotal: 37.6ms\tremaining: 41.3s\n",
      "300:\tlearn: 180.8671350\ttotal: 12.7s\tremaining: 33.7s\n",
      "600:\tlearn: 165.4994849\ttotal: 26.1s\tremaining: 21.7s\n",
      "900:\tlearn: 159.6965434\ttotal: 39.7s\tremaining: 8.82s\n"
     ]
    },
    {
     "name": "stderr",
     "output_type": "stream",
     "text": [
      "[I 2023-11-11 10:41:47,077] Trial 34 finished with value: 305.04932127010284 and parameters: {'iterations': 1101, 'learning_rate': 0.010044382866574185, 'depth': 8, 'min_data_in_leaf': 26, 'l2_leaf_reg': 2, 'bagging_temperature': 0.4482267549024207, 'random_strength': 0.4291684309844624, 'border_count': 830, 'rsm': 0.8192794101441737}. Best is trial 32 with value: 303.9605587407062.\n"
     ]
    },
    {
     "name": "stdout",
     "output_type": "stream",
     "text": [
      "1100:\tlearn: 155.9434253\ttotal: 48.9s\tremaining: 0us\n",
      "0:\tlearn: 571.7813173\ttotal: 21.6ms\tremaining: 21.3s\n",
      "300:\tlearn: 347.2499804\ttotal: 7.58s\tremaining: 17.2s\n",
      "600:\tlearn: 248.4935173\ttotal: 15.6s\tremaining: 9.96s\n",
      "900:\tlearn: 208.8253659\ttotal: 23.8s\tremaining: 2.19s\n"
     ]
    },
    {
     "name": "stderr",
     "output_type": "stream",
     "text": [
      "[I 2023-11-11 10:42:13,421] Trial 35 finished with value: 402.6395900496679 and parameters: {'iterations': 984, 'learning_rate': 0.0023034832368168693, 'depth': 6, 'min_data_in_leaf': 30, 'l2_leaf_reg': 4, 'bagging_temperature': 0.5017955422349147, 'random_strength': 0.4290224035126784, 'border_count': 708, 'rsm': 0.820503915045869}. Best is trial 32 with value: 303.9605587407062.\n"
     ]
    },
    {
     "name": "stdout",
     "output_type": "stream",
     "text": [
      "983:\tlearn: 202.6546112\ttotal: 26.1s\tremaining: 0us\n",
      "0:\tlearn: 570.6370613\ttotal: 43.5ms\tremaining: 1m 10s\n",
      "300:\tlearn: 240.4396946\ttotal: 13.5s\tremaining: 59.6s\n",
      "600:\tlearn: 183.7573052\ttotal: 27.4s\tremaining: 47.1s\n",
      "900:\tlearn: 171.4739306\ttotal: 41.6s\tremaining: 33.8s\n",
      "1200:\tlearn: 166.7405308\ttotal: 55.5s\tremaining: 20s\n",
      "1500:\tlearn: 164.0927989\ttotal: 1m 8s\tremaining: 6.03s\n"
     ]
    },
    {
     "name": "stderr",
     "output_type": "stream",
     "text": [
      "[I 2023-11-11 10:43:28,147] Trial 36 finished with value: 308.33185869490654 and parameters: {'iterations': 1633, 'learning_rate': 0.004706696916884164, 'depth': 8, 'min_data_in_leaf': 44, 'l2_leaf_reg': 5, 'bagging_temperature': 0.3389420732310794, 'random_strength': 0.4754755859925804, 'border_count': 839, 'rsm': 0.850994495037148}. Best is trial 32 with value: 303.9605587407062.\n"
     ]
    },
    {
     "name": "stdout",
     "output_type": "stream",
     "text": [
      "1632:\tlearn: 162.9979134\ttotal: 1m 14s\tremaining: 0us\n",
      "0:\tlearn: 569.4962623\ttotal: 16.2ms\tremaining: 38s\n",
      "300:\tlearn: 198.8548301\ttotal: 5.94s\tremaining: 40.5s\n",
      "600:\tlearn: 180.3579921\ttotal: 12.1s\tremaining: 35.2s\n",
      "900:\tlearn: 176.2501101\ttotal: 18.3s\tremaining: 29.5s\n",
      "1200:\tlearn: 173.6268890\ttotal: 24.6s\tremaining: 23.6s\n",
      "1500:\tlearn: 171.2683055\ttotal: 31s\tremaining: 17.6s\n",
      "1800:\tlearn: 168.6425848\ttotal: 37.5s\tremaining: 11.5s\n",
      "2100:\tlearn: 166.7459147\ttotal: 44.2s\tremaining: 5.29s\n"
     ]
    },
    {
     "name": "stderr",
     "output_type": "stream",
     "text": [
      "[I 2023-11-11 10:44:18,147] Trial 37 finished with value: 308.7099017984395 and parameters: {'iterations': 2352, 'learning_rate': 0.008582320448214728, 'depth': 5, 'min_data_in_leaf': 21, 'l2_leaf_reg': 6, 'bagging_temperature': 0.6078095007818668, 'random_strength': 0.37964333734961053, 'border_count': 947, 'rsm': 0.9895895957549726}. Best is trial 32 with value: 303.9605587407062.\n"
     ]
    },
    {
     "name": "stdout",
     "output_type": "stream",
     "text": [
      "2351:\tlearn: 165.2077894\ttotal: 49.7s\tremaining: 0us\n",
      "0:\tlearn: 566.2141442\ttotal: 63.7ms\tremaining: 46.1s\n",
      "300:\tlearn: 153.1296261\ttotal: 21s\tremaining: 29.6s\n",
      "600:\tlearn: 135.6576241\ttotal: 42.3s\tremaining: 8.66s\n"
     ]
    },
    {
     "name": "stderr",
     "output_type": "stream",
     "text": [
      "[I 2023-11-11 10:45:10,184] Trial 38 finished with value: 309.0726120862414 and parameters: {'iterations': 724, 'learning_rate': 0.02090387559974522, 'depth': 10, 'min_data_in_leaf': 58, 'l2_leaf_reg': 3, 'bagging_temperature': 0.44195187133863195, 'random_strength': 0.42517383683321486, 'border_count': 774, 'rsm': 0.791061477223677}. Best is trial 32 with value: 303.9605587407062.\n"
     ]
    },
    {
     "name": "stdout",
     "output_type": "stream",
     "text": [
      "723:\tlearn: 125.9100432\ttotal: 51.8s\tremaining: 0us\n",
      "0:\tlearn: 565.8214775\ttotal: 24.5ms\tremaining: 1m 9s\n",
      "300:\tlearn: 174.4964112\ttotal: 9.08s\tremaining: 1m 16s\n",
      "600:\tlearn: 165.3247974\ttotal: 18.4s\tremaining: 1m 8s\n",
      "900:\tlearn: 159.2518642\ttotal: 27.8s\tremaining: 59.5s\n",
      "1200:\tlearn: 154.1736437\ttotal: 37.2s\tremaining: 50.5s\n",
      "1500:\tlearn: 148.8537977\ttotal: 46.8s\tremaining: 41.4s\n",
      "1800:\tlearn: 144.8910815\ttotal: 56.7s\tremaining: 32.4s\n",
      "2100:\tlearn: 140.4350226\ttotal: 1m 6s\tremaining: 23s\n",
      "2400:\tlearn: 136.1213602\ttotal: 1m 16s\tremaining: 13.6s\n",
      "2700:\tlearn: 133.0428157\ttotal: 1m 25s\tremaining: 4.06s\n"
     ]
    },
    {
     "name": "stderr",
     "output_type": "stream",
     "text": [
      "[I 2023-11-11 10:46:40,331] Trial 39 finished with value: 306.03883408268075 and parameters: {'iterations': 2829, 'learning_rate': 0.014233608854085958, 'depth': 7, 'min_data_in_leaf': 24, 'l2_leaf_reg': 2, 'bagging_temperature': 0.511122407373461, 'random_strength': 0.30270074406357605, 'border_count': 671, 'rsm': 0.923658106226645}. Best is trial 32 with value: 303.9605587407062.\n"
     ]
    },
    {
     "name": "stdout",
     "output_type": "stream",
     "text": [
      "2828:\tlearn: 132.3568565\ttotal: 1m 29s\tremaining: 0us\n",
      "0:\tlearn: 570.1081271\ttotal: 34.9ms\tremaining: 1m 10s\n",
      "300:\tlearn: 212.2474494\ttotal: 11.2s\tremaining: 1m 3s\n",
      "600:\tlearn: 174.9999521\ttotal: 23.1s\tremaining: 54s\n",
      "900:\tlearn: 166.9724476\ttotal: 34.7s\tremaining: 42.6s\n",
      "1200:\tlearn: 163.2143692\ttotal: 46s\tremaining: 30.9s\n",
      "1500:\tlearn: 159.1401109\ttotal: 57.6s\tremaining: 19.4s\n",
      "1800:\tlearn: 155.3103636\ttotal: 1m 9s\tremaining: 7.93s\n"
     ]
    },
    {
     "name": "stderr",
     "output_type": "stream",
     "text": [
      "[I 2023-11-11 10:47:58,058] Trial 40 finished with value: 305.54864502584405 and parameters: {'iterations': 2007, 'learning_rate': 0.006189018400517339, 'depth': 8, 'min_data_in_leaf': 33, 'l2_leaf_reg': 4, 'bagging_temperature': 0.32445844668709417, 'random_strength': 0.4868733736380299, 'border_count': 607, 'rsm': 0.7822052272040567}. Best is trial 32 with value: 303.9605587407062.\n"
     ]
    },
    {
     "name": "stdout",
     "output_type": "stream",
     "text": [
      "2006:\tlearn: 153.1757592\ttotal: 1m 17s\tremaining: 0us\n",
      "0:\tlearn: 568.3264575\ttotal: 63.7ms\tremaining: 1m 25s\n",
      "300:\tlearn: 178.7842338\ttotal: 17.3s\tremaining: 1m\n",
      "600:\tlearn: 161.2206603\ttotal: 34.5s\tremaining: 42.7s\n",
      "900:\tlearn: 154.1915704\ttotal: 51.7s\tremaining: 25.4s\n",
      "1200:\tlearn: 147.7058304\ttotal: 1m 9s\tremaining: 8.25s\n"
     ]
    },
    {
     "name": "stderr",
     "output_type": "stream",
     "text": [
      "[I 2023-11-11 10:49:16,132] Trial 41 finished with value: 306.94177484394197 and parameters: {'iterations': 1344, 'learning_rate': 0.009850746724227361, 'depth': 9, 'min_data_in_leaf': 9, 'l2_leaf_reg': 2, 'bagging_temperature': 0.44257407581789704, 'random_strength': 0.49720858227478204, 'border_count': 855, 'rsm': 0.6906189514637487}. Best is trial 32 with value: 303.9605587407062.\n"
     ]
    },
    {
     "name": "stdout",
     "output_type": "stream",
     "text": [
      "1343:\tlearn: 143.5786060\ttotal: 1m 17s\tremaining: 0us\n",
      "0:\tlearn: 568.1426002\ttotal: 66.2ms\tremaining: 1m 15s\n",
      "300:\tlearn: 171.5073364\ttotal: 20.6s\tremaining: 57.4s\n",
      "600:\tlearn: 152.1336315\ttotal: 41.6s\tremaining: 37.2s\n",
      "900:\tlearn: 143.4708299\ttotal: 1m 3s\tremaining: 16.6s\n"
     ]
    },
    {
     "name": "stderr",
     "output_type": "stream",
     "text": [
      "[I 2023-11-11 10:50:36,249] Trial 42 finished with value: 307.92991269084007 and parameters: {'iterations': 1138, 'learning_rate': 0.010353634947780322, 'depth': 10, 'min_data_in_leaf': 17, 'l2_leaf_reg': 2, 'bagging_temperature': 0.3798747281647966, 'random_strength': 0.44904267910119655, 'border_count': 788, 'rsm': 0.7490716450540638}. Best is trial 32 with value: 303.9605587407062.\n"
     ]
    },
    {
     "name": "stdout",
     "output_type": "stream",
     "text": [
      "1137:\tlearn: 137.4227534\ttotal: 1m 19s\tremaining: 0us\n",
      "0:\tlearn: 569.2801533\ttotal: 51ms\tremaining: 44s\n",
      "300:\tlearn: 192.7977538\ttotal: 17.1s\tremaining: 32s\n",
      "600:\tlearn: 165.7609263\ttotal: 34.4s\tremaining: 15s\n"
     ]
    },
    {
     "name": "stderr",
     "output_type": "stream",
     "text": [
      "[I 2023-11-11 10:51:25,965] Trial 43 finished with value: 308.4477363347738 and parameters: {'iterations': 864, 'learning_rate': 0.007739628661055724, 'depth': 9, 'min_data_in_leaf': 8, 'l2_leaf_reg': 3, 'bagging_temperature': 0.46609211712440174, 'random_strength': 0.5594242310978887, 'border_count': 944, 'rsm': 0.6318898888912567}. Best is trial 32 with value: 303.9605587407062.\n"
     ]
    },
    {
     "name": "stdout",
     "output_type": "stream",
     "text": [
      "863:\tlearn: 159.1438135\ttotal: 49.4s\tremaining: 0us\n",
      "0:\tlearn: 569.0875050\ttotal: 32.9ms\tremaining: 1m 21s\n",
      "300:\tlearn: 181.3863340\ttotal: 8.91s\tremaining: 1m 4s\n",
      "600:\tlearn: 169.8521172\ttotal: 17.9s\tremaining: 55.6s\n",
      "900:\tlearn: 164.5378232\ttotal: 27.2s\tremaining: 47.2s\n",
      "1200:\tlearn: 159.8832089\ttotal: 36.5s\tremaining: 38.5s\n",
      "1500:\tlearn: 155.9306094\ttotal: 46.1s\tremaining: 29.7s\n",
      "1800:\tlearn: 151.5557064\ttotal: 55.6s\tremaining: 20.6s\n",
      "2100:\tlearn: 147.4941764\ttotal: 1m 5s\tremaining: 11.4s\n",
      "2400:\tlearn: 143.5324688\ttotal: 1m 15s\tremaining: 2.07s\n"
     ]
    },
    {
     "name": "stderr",
     "output_type": "stream",
     "text": [
      "[I 2023-11-11 10:52:43,677] Trial 44 finished with value: 304.27586744227165 and parameters: {'iterations': 2467, 'learning_rate': 0.011277210369620809, 'depth': 7, 'min_data_in_leaf': 25, 'l2_leaf_reg': 2, 'bagging_temperature': 0.4269864292293658, 'random_strength': 0.5169993860338348, 'border_count': 699, 'rsm': 0.8724927635553155}. Best is trial 32 with value: 303.9605587407062.\n"
     ]
    },
    {
     "name": "stdout",
     "output_type": "stream",
     "text": [
      "2466:\tlearn: 142.5671097\ttotal: 1m 17s\tremaining: 0us\n",
      "0:\tlearn: 569.2508840\ttotal: 23.6ms\tremaining: 1m\n",
      "300:\tlearn: 182.0460427\ttotal: 6.71s\tremaining: 50.2s\n",
      "600:\tlearn: 172.8473977\ttotal: 13.4s\tremaining: 43.5s\n",
      "900:\tlearn: 167.4824972\ttotal: 20.6s\tremaining: 37.7s\n",
      "1200:\tlearn: 162.8389063\ttotal: 27.5s\tremaining: 31s\n",
      "1500:\tlearn: 159.5059904\ttotal: 34.6s\tremaining: 24.2s\n",
      "1800:\tlearn: 157.0470776\ttotal: 41.7s\tremaining: 17.4s\n",
      "2100:\tlearn: 154.6651761\ttotal: 48.8s\tremaining: 10.5s\n",
      "2400:\tlearn: 151.2121755\ttotal: 55.9s\tremaining: 3.51s\n"
     ]
    },
    {
     "name": "stderr",
     "output_type": "stream",
     "text": [
      "[I 2023-11-11 10:53:43,566] Trial 45 finished with value: 306.3056172865051 and parameters: {'iterations': 2552, 'learning_rate': 0.012483857831351038, 'depth': 6, 'min_data_in_leaf': 40, 'l2_leaf_reg': 5, 'bagging_temperature': 0.34364818753717086, 'random_strength': 0.41264457216819145, 'border_count': 529, 'rsm': 0.8697278849539405}. Best is trial 32 with value: 303.9605587407062.\n"
     ]
    },
    {
     "name": "stdout",
     "output_type": "stream",
     "text": [
      "2551:\tlearn: 150.0994684\ttotal: 59.5s\tremaining: 0us\n",
      "0:\tlearn: 567.8753945\ttotal: 27.5ms\tremaining: 1m 23s\n",
      "300:\tlearn: 174.5432104\ttotal: 8.55s\tremaining: 1m 17s\n",
      "600:\tlearn: 166.2920202\ttotal: 17.4s\tremaining: 1m 10s\n",
      "900:\tlearn: 160.2372201\ttotal: 26.3s\tremaining: 1m 2s\n",
      "1200:\tlearn: 154.1921377\ttotal: 35.6s\tremaining: 54.3s\n",
      "1500:\tlearn: 149.6939955\ttotal: 45s\tremaining: 45.9s\n",
      "1800:\tlearn: 145.5257222\ttotal: 54.4s\tremaining: 37.3s\n",
      "2100:\tlearn: 141.2685167\ttotal: 1m 3s\tremaining: 28.3s\n",
      "2400:\tlearn: 137.3714195\ttotal: 1m 13s\tremaining: 19.3s\n",
      "2700:\tlearn: 134.5479493\ttotal: 1m 23s\tremaining: 10.2s\n",
      "3000:\tlearn: 130.6913526\ttotal: 1m 32s\tremaining: 1.02s\n"
     ]
    },
    {
     "name": "stderr",
     "output_type": "stream",
     "text": [
      "[I 2023-11-11 10:55:17,715] Trial 46 finished with value: 305.18015483364184 and parameters: {'iterations': 3034, 'learning_rate': 0.015266317443433838, 'depth': 7, 'min_data_in_leaf': 56, 'l2_leaf_reg': 3, 'bagging_temperature': 0.4141625283214472, 'random_strength': 0.5710965667545274, 'border_count': 712, 'rsm': 0.9528400766683873}. Best is trial 32 with value: 303.9605587407062.\n"
     ]
    },
    {
     "name": "stdout",
     "output_type": "stream",
     "text": [
      "3033:\tlearn: 130.2863790\ttotal: 1m 33s\tremaining: 0us\n",
      "0:\tlearn: 569.8167784\ttotal: 35.1ms\tremaining: 1m 16s\n",
      "300:\tlearn: 200.9121242\ttotal: 10.9s\tremaining: 1m 8s\n",
      "600:\tlearn: 171.3247247\ttotal: 22.1s\tremaining: 57.9s\n",
      "900:\tlearn: 164.7172407\ttotal: 33.2s\tremaining: 47.1s\n",
      "1200:\tlearn: 160.4041005\ttotal: 44.3s\tremaining: 36s\n",
      "1500:\tlearn: 156.2526444\ttotal: 55.6s\tremaining: 25.1s\n",
      "1800:\tlearn: 152.7627004\ttotal: 1m 6s\tremaining: 14s\n",
      "2100:\tlearn: 149.6912096\ttotal: 1m 18s\tremaining: 2.86s\n"
     ]
    },
    {
     "name": "stderr",
     "output_type": "stream",
     "text": [
      "[I 2023-11-11 10:56:39,121] Trial 47 finished with value: 305.1614759468732 and parameters: {'iterations': 2178, 'learning_rate': 0.0070026423990139025, 'depth': 8, 'min_data_in_leaf': 23, 'l2_leaf_reg': 2, 'bagging_temperature': 0.545303890097858, 'random_strength': 0.36617204050507945, 'border_count': 565, 'rsm': 0.8227399623799679}. Best is trial 32 with value: 303.9605587407062.\n"
     ]
    },
    {
     "name": "stdout",
     "output_type": "stream",
     "text": [
      "2177:\tlearn: 149.0650695\ttotal: 1m 20s\tremaining: 0us\n",
      "0:\tlearn: 570.7904377\ttotal: 20.1ms\tremaining: 1m 9s\n",
      "300:\tlearn: 245.1950170\ttotal: 6.41s\tremaining: 1m 6s\n",
      "600:\tlearn: 190.7349359\ttotal: 13.1s\tremaining: 1m 1s\n",
      "900:\tlearn: 179.5321865\ttotal: 19.7s\tremaining: 55.6s\n",
      "1200:\tlearn: 175.4955567\ttotal: 26.5s\tremaining: 49.4s\n",
      "1500:\tlearn: 173.2252781\ttotal: 33.1s\tremaining: 42.8s\n",
      "1800:\tlearn: 171.3919032\ttotal: 39.7s\tremaining: 36.2s\n",
      "2100:\tlearn: 169.4912455\ttotal: 46.6s\tremaining: 29.8s\n",
      "2400:\tlearn: 167.4687546\ttotal: 53.4s\tremaining: 23.2s\n",
      "2700:\tlearn: 165.6396932\ttotal: 1m\tremaining: 16.6s\n",
      "3000:\tlearn: 164.1001910\ttotal: 1m 6s\tremaining: 9.9s\n",
      "3300:\tlearn: 162.5825711\ttotal: 1m 13s\tremaining: 3.23s\n"
     ]
    },
    {
     "name": "stderr",
     "output_type": "stream",
     "text": [
      "[I 2023-11-11 10:57:56,913] Trial 48 finished with value: 307.17372128059924 and parameters: {'iterations': 3445, 'learning_rate': 0.004737045303816672, 'depth': 6, 'min_data_in_leaf': 68, 'l2_leaf_reg': 3, 'bagging_temperature': 0.33996306978592766, 'random_strength': 0.46246618196453393, 'border_count': 452, 'rsm': 0.786150461983553}. Best is trial 32 with value: 303.9605587407062.\n"
     ]
    },
    {
     "name": "stdout",
     "output_type": "stream",
     "text": [
      "3444:\tlearn: 161.7346713\ttotal: 1m 17s\tremaining: 0us\n",
      "0:\tlearn: 569.7392424\ttotal: 32.2ms\tremaining: 1m 19s\n",
      "300:\tlearn: 190.6018439\ttotal: 9.14s\tremaining: 1m 6s\n",
      "600:\tlearn: 171.9358307\ttotal: 18.2s\tremaining: 56.7s\n",
      "900:\tlearn: 167.3268821\ttotal: 27.3s\tremaining: 47.8s\n",
      "1200:\tlearn: 163.2527465\ttotal: 36.6s\tremaining: 38.8s\n",
      "1500:\tlearn: 159.2244208\ttotal: 45.9s\tremaining: 29.8s\n",
      "1800:\tlearn: 155.2138312\ttotal: 55.3s\tremaining: 20.8s\n",
      "2100:\tlearn: 152.3938183\ttotal: 1m 5s\tremaining: 11.7s\n",
      "2400:\tlearn: 150.3839362\ttotal: 1m 14s\tremaining: 2.37s\n"
     ]
    },
    {
     "name": "stderr",
     "output_type": "stream",
     "text": [
      "[I 2023-11-11 10:59:14,500] Trial 49 finished with value: 305.16569688274416 and parameters: {'iterations': 2477, 'learning_rate': 0.008666145614022012, 'depth': 7, 'min_data_in_leaf': 26, 'l2_leaf_reg': 6, 'bagging_temperature': 0.3769287883207303, 'random_strength': 0.40562553915069716, 'border_count': 733, 'rsm': 0.9000342166063536}. Best is trial 32 with value: 303.9605587407062.\n"
     ]
    },
    {
     "name": "stdout",
     "output_type": "stream",
     "text": [
      "2476:\tlearn: 149.9207399\ttotal: 1m 17s\tremaining: 0us\n",
      "0:\tlearn: 564.0120680\ttotal: 16.3ms\tremaining: 32.2s\n",
      "300:\tlearn: 183.7484138\ttotal: 5.31s\tremaining: 29.6s\n",
      "600:\tlearn: 176.9654692\ttotal: 11s\tremaining: 25.2s\n",
      "900:\tlearn: 172.7929826\ttotal: 16.7s\tremaining: 20s\n",
      "1200:\tlearn: 169.0502620\ttotal: 22.5s\tremaining: 14.6s\n",
      "1500:\tlearn: 166.1231833\ttotal: 28.5s\tremaining: 9.03s\n",
      "1800:\tlearn: 163.6644627\ttotal: 34.5s\tremaining: 3.37s\n",
      "1800:\tlearn: 156.7186096\ttotal: 1m 18s\tremaining: 37.9s\n",
      "2100:\tlearn: 153.8579682\ttotal: 1m 31s\tremaining: 24.9s\n",
      "2400:\tlearn: 150.8560202\ttotal: 1m 45s\tremaining: 11.8s\n"
     ]
    },
    {
     "name": "stderr",
     "output_type": "stream",
     "text": [
      "[I 2023-11-11 11:03:16,701] Trial 52 finished with value: 305.12005742344974 and parameters: {'iterations': 2671, 'learning_rate': 0.005752898404087085, 'depth': 8, 'min_data_in_leaf': 18, 'l2_leaf_reg': 2, 'bagging_temperature': 0.47578685028557266, 'random_strength': 0.4381924770674873, 'border_count': 795, 'rsm': 0.8750250164069069}. Best is trial 32 with value: 303.9605587407062.\n"
     ]
    },
    {
     "name": "stdout",
     "output_type": "stream",
     "text": [
      "2670:\tlearn: 148.4129079\ttotal: 1m 57s\tremaining: 0us\n",
      "0:\tlearn: 568.6552614\ttotal: 41.1ms\tremaining: 1m 39s\n",
      "300:\tlearn: 174.1842300\ttotal: 11.6s\tremaining: 1m 22s\n",
      "600:\tlearn: 162.6496855\ttotal: 23.4s\tremaining: 1m 11s\n",
      "900:\tlearn: 156.5414735\ttotal: 35s\tremaining: 59.4s\n",
      "1200:\tlearn: 149.6594507\ttotal: 46.9s\tremaining: 48s\n",
      "1500:\tlearn: 144.7806194\ttotal: 58.7s\tremaining: 36.3s\n",
      "1800:\tlearn: 138.4514432\ttotal: 1m 10s\tremaining: 24.5s\n",
      "2100:\tlearn: 134.2764868\ttotal: 1m 22s\tremaining: 12.8s\n",
      "2400:\tlearn: 129.1290794\ttotal: 1m 33s\tremaining: 1.09s\n"
     ]
    },
    {
     "name": "stderr",
     "output_type": "stream",
     "text": [
      "[I 2023-11-11 11:04:52,234] Trial 53 finished with value: 304.6841293565012 and parameters: {'iterations': 2429, 'learning_rate': 0.012045506446109222, 'depth': 8, 'min_data_in_leaf': 1, 'l2_leaf_reg': 2, 'bagging_temperature': 0.42429403935235493, 'random_strength': 0.3502386088666691, 'border_count': 674, 'rsm': 0.9489538185623826}. Best is trial 32 with value: 303.9605587407062.\n"
     ]
    },
    {
     "name": "stdout",
     "output_type": "stream",
     "text": [
      "2428:\tlearn: 128.6836361\ttotal: 1m 35s\tremaining: 0us\n",
      "0:\tlearn: 568.4543612\ttotal: 24.9ms\tremaining: 59.6s\n",
      "300:\tlearn: 178.5101318\ttotal: 7.14s\tremaining: 49.7s\n",
      "600:\tlearn: 167.6849782\ttotal: 14.8s\tremaining: 44.2s\n",
      "900:\tlearn: 162.4960798\ttotal: 22.1s\tremaining: 36.7s\n",
      "1200:\tlearn: 157.0450572\ttotal: 29.7s\tremaining: 29.5s\n",
      "1500:\tlearn: 152.9983368\ttotal: 37s\tremaining: 22.1s\n",
      "1800:\tlearn: 148.1795360\ttotal: 44.5s\tremaining: 14.7s\n",
      "2100:\tlearn: 144.4575247\ttotal: 52s\tremaining: 7.27s\n"
     ]
    },
    {
     "name": "stderr",
     "output_type": "stream",
     "text": [
      "[I 2023-11-11 11:05:51,976] Trial 54 finished with value: 305.75799555951744 and parameters: {'iterations': 2395, 'learning_rate': 0.011852947651017687, 'depth': 7, 'min_data_in_leaf': 1, 'l2_leaf_reg': 2, 'bagging_temperature': 0.41912638491019377, 'random_strength': 0.3481779004154721, 'border_count': 336, 'rsm': 0.9587681861658647}. Best is trial 32 with value: 303.9605587407062.\n"
     ]
    },
    {
     "name": "stdout",
     "output_type": "stream",
     "text": [
      "2394:\tlearn: 140.5204574\ttotal: 59.3s\tremaining: 0us\n",
      "0:\tlearn: 564.7600439\ttotal: 62.6ms\tremaining: 2m 21s\n",
      "300:\tlearn: 156.4467577\ttotal: 19.4s\tremaining: 2m 6s\n",
      "600:\tlearn: 141.2161370\ttotal: 38.6s\tremaining: 1m 46s\n",
      "900:\tlearn: 125.5261323\ttotal: 58.7s\tremaining: 1m 28s\n",
      "1200:\tlearn: 114.5475841\ttotal: 1m 19s\tremaining: 1m 9s\n",
      "1500:\tlearn: 101.2131737\ttotal: 1m 39s\tremaining: 50.4s\n",
      "1800:\tlearn: 94.8652635\ttotal: 1m 59s\tremaining: 30.7s\n",
      "2100:\tlearn: 89.4421644\ttotal: 2m 28s\tremaining: 11.4s\n",
      "2261:\tlearn: 86.7462202\ttotal: 2m 44s\tremaining: 0us\n"
     ]
    },
    {
     "name": "stderr",
     "output_type": "stream",
     "text": [
      "[I 2023-11-11 11:08:37,126] Trial 55 finished with value: 314.8223067983329 and parameters: {'iterations': 2262, 'learning_rate': 0.01653569646099658, 'depth': 10, 'min_data_in_leaf': 7, 'l2_leaf_reg': 3, 'bagging_temperature': 0.40302151480216664, 'random_strength': 0.39602417806993134, 'border_count': 561, 'rsm': 0.985701761599653}. Best is trial 32 with value: 303.9605587407062.\n"
     ]
    },
    {
     "name": "stdout",
     "output_type": "stream",
     "text": [
      "0:\tlearn: 570.2872265\ttotal: 37.4ms\tremaining: 1m 40s\n",
      "300:\tlearn: 195.3430677\ttotal: 16.5s\tremaining: 2m 10s\n",
      "600:\tlearn: 169.3697654\ttotal: 33.9s\tremaining: 1m 57s\n",
      "900:\tlearn: 163.3870408\ttotal: 51.3s\tremaining: 1m 41s\n",
      "1200:\tlearn: 159.1333878\ttotal: 1m 8s\tremaining: 1m 24s\n",
      "1500:\tlearn: 155.0422369\ttotal: 1m 26s\tremaining: 1m 8s\n",
      "1800:\tlearn: 151.0684061\ttotal: 1m 43s\tremaining: 51.3s\n",
      "2100:\tlearn: 147.9039102\ttotal: 2m 1s\tremaining: 34.1s\n",
      "2400:\tlearn: 144.5475746\ttotal: 2m 19s\tremaining: 16.7s\n"
     ]
    },
    {
     "name": "stderr",
     "output_type": "stream",
     "text": [
      "[I 2023-11-11 11:11:14,788] Trial 56 finished with value: 304.3935741873113 and parameters: {'iterations': 2689, 'learning_rate': 0.007539117473594695, 'depth': 8, 'min_data_in_leaf': 2, 'l2_leaf_reg': 2, 'bagging_temperature': 0.35640605323432617, 'random_strength': 0.36043946518737446, 'border_count': 680, 'rsm': 0.8799834797129893}. Best is trial 32 with value: 303.9605587407062.\n"
     ]
    },
    {
     "name": "stdout",
     "output_type": "stream",
     "text": [
      "2688:\tlearn: 139.7168994\ttotal: 2m 37s\tremaining: 0us\n",
      "0:\tlearn: 567.8001177\ttotal: 55.1ms\tremaining: 2m 28s\n",
      "300:\tlearn: 165.5897447\ttotal: 21.5s\tremaining: 2m 51s\n",
      "600:\tlearn: 153.5031316\ttotal: 43.3s\tremaining: 2m 31s\n",
      "900:\tlearn: 144.3346975\ttotal: 1m 5s\tremaining: 2m 10s\n",
      "1200:\tlearn: 132.5070890\ttotal: 1m 27s\tremaining: 1m 49s\n",
      "1500:\tlearn: 124.9145823\ttotal: 1m 50s\tremaining: 1m 28s\n",
      "1800:\tlearn: 117.4328216\ttotal: 2m 12s\tremaining: 1m 6s\n",
      "2100:\tlearn: 112.2147647\ttotal: 2m 31s\tremaining: 43.4s\n",
      "2400:\tlearn: 107.5097548\ttotal: 2m 46s\tremaining: 20.9s\n",
      "2700:\tlearn: 104.6382701\ttotal: 3m 1s\tremaining: 135ms\n",
      "2702:\tlearn: 104.6183894\ttotal: 3m 1s\tremaining: 0us\n"
     ]
    },
    {
     "name": "stderr",
     "output_type": "stream",
     "text": [
      "[I 2023-11-11 11:14:17,313] Trial 57 finished with value: 308.05407190286473 and parameters: {'iterations': 2703, 'learning_rate': 0.014004606302720608, 'depth': 9, 'min_data_in_leaf': 2, 'l2_leaf_reg': 3, 'bagging_temperature': 0.35785444862917043, 'random_strength': 0.3238234686893372, 'border_count': 473, 'rsm': 0.946090689296193}. Best is trial 32 with value: 303.9605587407062.\n"
     ]
    },
    {
     "name": "stdout",
     "output_type": "stream",
     "text": [
      "0:\tlearn: 569.9194544\ttotal: 23.1ms\tremaining: 1m 10s\n",
      "300:\tlearn: 190.3988263\ttotal: 8.86s\tremaining: 1m 21s\n",
      "600:\tlearn: 171.4201169\ttotal: 17.8s\tremaining: 1m 12s\n",
      "900:\tlearn: 166.7932966\ttotal: 27.1s\tremaining: 1m 4s\n",
      "1200:\tlearn: 162.4388640\ttotal: 36.1s\tremaining: 56s\n",
      "1500:\tlearn: 158.6318691\ttotal: 45.4s\tremaining: 47.3s\n",
      "1800:\tlearn: 155.5248488\ttotal: 55s\tremaining: 38.6s\n",
      "2100:\tlearn: 153.1209743\ttotal: 1m 4s\tremaining: 29.4s\n",
      "2400:\tlearn: 150.5493694\ttotal: 1m 13s\tremaining: 20.3s\n",
      "2700:\tlearn: 147.9835096\ttotal: 1m 23s\tremaining: 11.2s\n",
      "3000:\tlearn: 144.6724430\ttotal: 1m 33s\tremaining: 1.95s\n"
     ]
    },
    {
     "name": "stderr",
     "output_type": "stream",
     "text": [
      "[I 2023-11-11 11:15:52,843] Trial 58 finished with value: 304.35413975619775 and parameters: {'iterations': 3064, 'learning_rate': 0.008676903101684718, 'depth': 7, 'min_data_in_leaf': 10, 'l2_leaf_reg': 2, 'bagging_temperature': 0.39305753368947444, 'random_strength': 0.38604567075376983, 'border_count': 679, 'rsm': 0.8769503448508416}. Best is trial 32 with value: 303.9605587407062.\n"
     ]
    },
    {
     "name": "stdout",
     "output_type": "stream",
     "text": [
      "3063:\tlearn: 144.0233700\ttotal: 1m 35s\tremaining: 0us\n",
      "0:\tlearn: 568.1982828\ttotal: 26.2ms\tremaining: 1m 20s\n",
      "300:\tlearn: 181.8953944\ttotal: 6.56s\tremaining: 1m\n",
      "600:\tlearn: 172.5318263\ttotal: 13.4s\tremaining: 55s\n",
      "900:\tlearn: 167.6402139\ttotal: 20.2s\tremaining: 48.3s\n",
      "1200:\tlearn: 163.4404032\ttotal: 27s\tremaining: 41.8s\n",
      "1500:\tlearn: 160.0185922\ttotal: 34s\tremaining: 35.3s\n",
      "1800:\tlearn: 156.9655144\ttotal: 40.9s\tremaining: 28.6s\n",
      "2100:\tlearn: 154.4466690\ttotal: 47.8s\tremaining: 21.8s\n",
      "2400:\tlearn: 152.0742703\ttotal: 54.9s\tremaining: 15s\n",
      "2700:\tlearn: 149.8371868\ttotal: 1m 1s\tremaining: 8.2s\n",
      "3000:\tlearn: 148.0415272\ttotal: 1m 9s\tremaining: 1.33s\n"
     ]
    },
    {
     "name": "stderr",
     "output_type": "stream",
     "text": [
      "[I 2023-11-11 11:17:03,715] Trial 59 finished with value: 305.93060570752834 and parameters: {'iterations': 3059, 'learning_rate': 0.012253726920936438, 'depth': 6, 'min_data_in_leaf': 4, 'l2_leaf_reg': 2, 'bagging_temperature': 0.32252927157558997, 'random_strength': 0.3840294645110168, 'border_count': 671, 'rsm': 0.9992496960631287}. Best is trial 32 with value: 303.9605587407062.\n"
     ]
    },
    {
     "name": "stdout",
     "output_type": "stream",
     "text": [
      "3058:\tlearn: 147.6890257\ttotal: 1m 10s\tremaining: 0us\n",
      "0:\tlearn: 569.7977858\ttotal: 16.4ms\tremaining: 48.2s\n",
      "300:\tlearn: 196.2370465\ttotal: 5.72s\tremaining: 50.3s\n",
      "600:\tlearn: 179.6315302\ttotal: 11.6s\tremaining: 45.2s\n",
      "900:\tlearn: 175.5832781\ttotal: 17.6s\tremaining: 39.9s\n",
      "1200:\tlearn: 172.5933803\ttotal: 23.7s\tremaining: 34.4s\n",
      "1500:\tlearn: 169.7397656\ttotal: 29.9s\tremaining: 28.7s\n",
      "1800:\tlearn: 167.5684643\ttotal: 36s\tremaining: 22.9s\n",
      "2100:\tlearn: 165.6862178\ttotal: 42.4s\tremaining: 17s\n",
      "2400:\tlearn: 164.1812397\ttotal: 48.7s\tremaining: 11s\n",
      "2700:\tlearn: 163.3752800\ttotal: 55.1s\tremaining: 4.96s\n"
     ]
    },
    {
     "name": "stderr",
     "output_type": "stream",
     "text": [
      "[I 2023-11-11 11:18:04,406] Trial 60 finished with value: 308.0757127527101 and parameters: {'iterations': 2944, 'learning_rate': 0.009053798394639236, 'depth': 5, 'min_data_in_leaf': 10, 'l2_leaf_reg': 2, 'bagging_temperature': 0.4285434928436467, 'random_strength': 0.3556480774829744, 'border_count': 673, 'rsm': 0.8778951514880671}. Best is trial 32 with value: 303.9605587407062.\n"
     ]
    },
    {
     "name": "stdout",
     "output_type": "stream",
     "text": [
      "2943:\tlearn: 162.0575447\ttotal: 1m\tremaining: 0us\n",
      "0:\tlearn: 569.0857898\ttotal: 35.8ms\tremaining: 1m 39s\n",
      "300:\tlearn: 194.7844814\ttotal: 11.9s\tremaining: 1m 38s\n",
      "600:\tlearn: 169.7069240\ttotal: 23.9s\tremaining: 1m 26s\n",
      "900:\tlearn: 163.9781318\ttotal: 35.8s\tremaining: 1m 14s\n",
      "1200:\tlearn: 159.3364433\ttotal: 48s\tremaining: 1m 2s\n",
      "1500:\tlearn: 154.8511803\ttotal: 1m\tremaining: 51.3s\n",
      "1800:\tlearn: 150.1870721\ttotal: 1m 12s\tremaining: 39.4s\n",
      "2100:\tlearn: 145.4302282\ttotal: 1m 24s\tremaining: 27.3s\n",
      "2400:\tlearn: 142.5555623\ttotal: 1m 37s\tremaining: 15.2s\n",
      "2700:\tlearn: 137.6690800\ttotal: 1m 49s\tremaining: 3.12s\n"
     ]
    },
    {
     "name": "stderr",
     "output_type": "stream",
     "text": [
      "[I 2023-11-11 11:19:57,690] Trial 61 finished with value: 304.61648773988543 and parameters: {'iterations': 2778, 'learning_rate': 0.007703179847265973, 'depth': 8, 'min_data_in_leaf': 6, 'l2_leaf_reg': 3, 'bagging_temperature': 0.3903009155211213, 'random_strength': 0.45783489914718767, 'border_count': 739, 'rsm': 0.9315316073321324}. Best is trial 32 with value: 303.9605587407062.\n"
     ]
    },
    {
     "name": "stdout",
     "output_type": "stream",
     "text": [
      "2777:\tlearn: 136.3885972\ttotal: 1m 52s\tremaining: 0us\n",
      "0:\tlearn: 570.2848874\ttotal: 28.7ms\tremaining: 1m 31s\n",
      "300:\tlearn: 204.2809361\ttotal: 8.71s\tremaining: 1m 24s\n",
      "600:\tlearn: 175.4860498\ttotal: 17.5s\tremaining: 1m 15s\n",
      "900:\tlearn: 170.0102541\ttotal: 26.4s\tremaining: 1m 7s\n",
      "1200:\tlearn: 166.5777110\ttotal: 35.3s\tremaining: 59s\n",
      "1500:\tlearn: 163.3468066\ttotal: 44.4s\tremaining: 50.5s\n",
      "1800:\tlearn: 160.2866279\ttotal: 53.6s\tremaining: 42s\n",
      "2100:\tlearn: 157.3078175\ttotal: 1m 2s\tremaining: 33.1s\n",
      "2400:\tlearn: 154.8015593\ttotal: 1m 11s\tremaining: 24.1s\n",
      "2700:\tlearn: 151.5116344\ttotal: 1m 19s\tremaining: 15s\n",
      "3000:\tlearn: 148.9407666\ttotal: 1m 27s\tremaining: 6.13s\n"
     ]
    },
    {
     "name": "stderr",
     "output_type": "stream",
     "text": [
      "[I 2023-11-11 11:21:31,458] Trial 62 finished with value: 304.5208924150716 and parameters: {'iterations': 3211, 'learning_rate': 0.006979665486076593, 'depth': 7, 'min_data_in_leaf': 1, 'l2_leaf_reg': 2, 'bagging_temperature': 0.41273518597467035, 'random_strength': 0.4050722611948809, 'border_count': 625, 'rsm': 0.9003680001477663}. Best is trial 32 with value: 303.9605587407062.\n"
     ]
    },
    {
     "name": "stdout",
     "output_type": "stream",
     "text": [
      "3210:\tlearn: 147.3053141\ttotal: 1m 33s\tremaining: 0us\n",
      "0:\tlearn: 570.3638832\ttotal: 23.2ms\tremaining: 1m 14s\n",
      "300:\tlearn: 204.4912883\ttotal: 7.48s\tremaining: 1m 11s\n",
      "600:\tlearn: 175.4331656\ttotal: 15.3s\tremaining: 1m 5s\n",
      "900:\tlearn: 169.8477230\ttotal: 23.1s\tremaining: 58.7s\n",
      "1200:\tlearn: 166.6808801\ttotal: 31s\tremaining: 51.4s\n",
      "1500:\tlearn: 163.1890749\ttotal: 39s\tremaining: 43.9s\n",
      "1800:\tlearn: 159.9714631\ttotal: 47s\tremaining: 36.3s\n",
      "2100:\tlearn: 157.0943466\ttotal: 55s\tremaining: 28.6s\n",
      "2400:\tlearn: 154.8807480\ttotal: 1m 3s\tremaining: 20.8s\n",
      "2700:\tlearn: 152.1010941\ttotal: 1m 11s\tremaining: 13s\n",
      "3000:\tlearn: 149.6831231\ttotal: 1m 19s\tremaining: 5.07s\n"
     ]
    },
    {
     "name": "stderr",
     "output_type": "stream",
     "text": [
      "[I 2023-11-11 11:22:56,438] Trial 63 finished with value: 304.45056851392576 and parameters: {'iterations': 3193, 'learning_rate': 0.006967795256417907, 'depth': 7, 'min_data_in_leaf': 5, 'l2_leaf_reg': 3, 'bagging_temperature': 0.40131484007512214, 'random_strength': 0.45967460764937945, 'border_count': 619, 'rsm': 0.8879165342024686}. Best is trial 32 with value: 303.9605587407062.\n"
     ]
    },
    {
     "name": "stdout",
     "output_type": "stream",
     "text": [
      "3192:\tlearn: 148.2604113\ttotal: 1m 24s\tremaining: 0us\n",
      "0:\tlearn: 570.9650642\ttotal: 26.3ms\tremaining: 1m 26s\n",
      "300:\tlearn: 230.0752113\ttotal: 7.49s\tremaining: 1m 14s\n",
      "600:\tlearn: 182.7333631\ttotal: 15.2s\tremaining: 1m 7s\n",
      "900:\tlearn: 173.1822349\ttotal: 23s\tremaining: 1m\n",
      "1200:\tlearn: 169.5684014\ttotal: 30.7s\tremaining: 53.1s\n",
      "1500:\tlearn: 167.0470435\ttotal: 38.6s\tremaining: 45.6s\n",
      "1800:\tlearn: 164.5973489\ttotal: 46.4s\tremaining: 38s\n",
      "2100:\tlearn: 162.0057119\ttotal: 54.3s\tremaining: 30.4s\n",
      "2400:\tlearn: 159.9615545\ttotal: 1m 2s\tremaining: 22.7s\n",
      "2700:\tlearn: 157.8477832\ttotal: 1m 10s\tremaining: 15s\n",
      "3000:\tlearn: 155.6844359\ttotal: 1m 18s\tremaining: 7.2s\n"
     ]
    },
    {
     "name": "stderr",
     "output_type": "stream",
     "text": [
      "[I 2023-11-11 11:24:22,574] Trial 64 finished with value: 305.1204214438365 and parameters: {'iterations': 3277, 'learning_rate': 0.005242809925412097, 'depth': 7, 'min_data_in_leaf': 10, 'l2_leaf_reg': 2, 'bagging_temperature': 0.3642998224418202, 'random_strength': 0.41419528162230385, 'border_count': 605, 'rsm': 0.8912849040794997}. Best is trial 32 with value: 303.9605587407062.\n"
     ]
    },
    {
     "name": "stdout",
     "output_type": "stream",
     "text": [
      "3276:\tlearn: 154.0205439\ttotal: 1m 25s\tremaining: 0us\n",
      "0:\tlearn: 570.0626331\ttotal: 15.4ms\tremaining: 49.3s\n",
      "300:\tlearn: 223.9071824\ttotal: 5.01s\tremaining: 48.4s\n",
      "600:\tlearn: 187.4343515\ttotal: 10.2s\tremaining: 44.2s\n",
      "900:\tlearn: 180.5558127\ttotal: 15.4s\tremaining: 39.4s\n",
      "1200:\tlearn: 177.6655137\ttotal: 20.6s\tremaining: 34.5s\n",
      "1500:\tlearn: 175.5380502\ttotal: 26s\tremaining: 29.5s\n",
      "1800:\tlearn: 173.3645596\ttotal: 31.4s\tremaining: 24.5s\n",
      "2100:\tlearn: 171.4304432\ttotal: 36.8s\tremaining: 19.4s\n",
      "2400:\tlearn: 169.6147576\ttotal: 42.3s\tremaining: 14.2s\n",
      "2700:\tlearn: 168.2723743\ttotal: 47.8s\tremaining: 8.98s\n",
      "3000:\tlearn: 166.7689527\ttotal: 53.4s\tremaining: 3.68s\n"
     ]
    },
    {
     "name": "stderr",
     "output_type": "stream",
     "text": [
      "[I 2023-11-11 11:25:20,155] Trial 65 finished with value: 309.12570039022245 and parameters: {'iterations': 3208, 'learning_rate': 0.006121027546581664, 'depth': 5, 'min_data_in_leaf': 14, 'l2_leaf_reg': 3, 'bagging_temperature': 0.3973084170598098, 'random_strength': 0.5211381619388153, 'border_count': 495, 'rsm': 0.8456838940778694}. Best is trial 32 with value: 303.9605587407062.\n"
     ]
    },
    {
     "name": "stdout",
     "output_type": "stream",
     "text": [
      "3207:\tlearn: 165.6836982\ttotal: 57.2s\tremaining: 0us\n",
      "0:\tlearn: 569.4191443\ttotal: 20.8ms\tremaining: 1m 11s\n",
      "300:\tlearn: 189.9649494\ttotal: 6.35s\tremaining: 1m 6s\n",
      "600:\tlearn: 175.2275622\ttotal: 12.9s\tremaining: 1m\n",
      "900:\tlearn: 170.8771845\ttotal: 19.5s\tremaining: 55s\n",
      "1200:\tlearn: 167.2733883\ttotal: 26.2s\tremaining: 49s\n",
      "1500:\tlearn: 163.9186247\ttotal: 33s\tremaining: 42.7s\n",
      "1800:\tlearn: 160.9954720\ttotal: 40s\tremaining: 36.4s\n",
      "2100:\tlearn: 158.4458005\ttotal: 47s\tremaining: 30s\n",
      "2400:\tlearn: 156.0294304\ttotal: 54s\tremaining: 23.4s\n",
      "2700:\tlearn: 153.9712106\ttotal: 1m\tremaining: 16.7s\n",
      "3000:\tlearn: 151.7249186\ttotal: 1m 8s\tremaining: 9.99s\n",
      "3300:\tlearn: 149.8701317\ttotal: 1m 15s\tremaining: 3.21s\n"
     ]
    },
    {
     "name": "stderr",
     "output_type": "stream",
     "text": [
      "[I 2023-11-11 11:26:38,976] Trial 66 finished with value: 306.61230131340494 and parameters: {'iterations': 3442, 'learning_rate': 0.009601455231729323, 'depth': 6, 'min_data_in_leaf': 5, 'l2_leaf_reg': 2, 'bagging_temperature': 0.32655497821054935, 'random_strength': 0.4446626196022585, 'border_count': 620, 'rsm': 0.8943439530599063}. Best is trial 32 with value: 303.9605587407062.\n"
     ]
    },
    {
     "name": "stdout",
     "output_type": "stream",
     "text": [
      "3441:\tlearn: 149.0822735\ttotal: 1m 18s\tremaining: 0us\n",
      "0:\tlearn: 569.8641937\ttotal: 26.1ms\tremaining: 1m 18s\n",
      "300:\tlearn: 203.2523002\ttotal: 7.66s\tremaining: 1m 9s\n",
      "600:\tlearn: 175.2313614\ttotal: 15.6s\tremaining: 1m 3s\n",
      "900:\tlearn: 169.7259801\ttotal: 23.6s\tremaining: 55.7s\n",
      "1200:\tlearn: 166.2579401\ttotal: 31.6s\tremaining: 48.1s\n",
      "1500:\tlearn: 162.6561110\ttotal: 39.6s\tremaining: 40.3s\n",
      "1800:\tlearn: 159.5403335\ttotal: 47.8s\tremaining: 32.5s\n",
      "2100:\tlearn: 156.7658518\ttotal: 55.9s\tremaining: 24.6s\n",
      "2400:\tlearn: 154.5837894\ttotal: 1m 4s\tremaining: 16.7s\n",
      "2700:\tlearn: 152.5717493\ttotal: 1m 12s\tremaining: 8.72s\n",
      "3000:\tlearn: 149.7094616\ttotal: 1m 20s\tremaining: 698ms\n"
     ]
    },
    {
     "name": "stderr",
     "output_type": "stream",
     "text": [
      "[I 2023-11-11 11:28:00,658] Trial 67 finished with value: 305.96184539614336 and parameters: {'iterations': 3027, 'learning_rate': 0.0070561041342279834, 'depth': 7, 'min_data_in_leaf': 10, 'l2_leaf_reg': 2, 'bagging_temperature': 0.3582250307755335, 'random_strength': 0.3897244942318657, 'border_count': 648, 'rsm': 0.8568858130670763}. Best is trial 32 with value: 303.9605587407062.\n"
     ]
    },
    {
     "name": "stdout",
     "output_type": "stream",
     "text": [
      "3026:\tlearn: 149.4222266\ttotal: 1m 21s\tremaining: 0us\n",
      "0:\tlearn: 568.5836913\ttotal: 25.2ms\tremaining: 1m 19s\n",
      "300:\tlearn: 182.3125144\ttotal: 8.21s\tremaining: 1m 18s\n",
      "600:\tlearn: 169.5819500\ttotal: 16.5s\tremaining: 1m 10s\n",
      "900:\tlearn: 164.4237472\ttotal: 24.9s\tremaining: 1m 2s\n",
      "1200:\tlearn: 160.0197359\ttotal: 33.4s\tremaining: 54.7s\n",
      "1500:\tlearn: 155.8921113\ttotal: 42s\tremaining: 46.7s\n",
      "1800:\tlearn: 152.3621039\ttotal: 50.6s\tremaining: 38.4s\n",
      "2100:\tlearn: 149.2021066\ttotal: 59.3s\tremaining: 30.2s\n",
      "2400:\tlearn: 146.0481790\ttotal: 1m 8s\tremaining: 21.8s\n",
      "2700:\tlearn: 142.2977490\ttotal: 1m 16s\tremaining: 13.3s\n",
      "3000:\tlearn: 139.3279002\ttotal: 1m 25s\tremaining: 4.79s\n"
     ]
    },
    {
     "name": "stderr",
     "output_type": "stream",
     "text": [
      "[I 2023-11-11 11:29:31,648] Trial 68 finished with value: 308.0555112037862 and parameters: {'iterations': 3169, 'learning_rate': 0.010677403993513315, 'depth': 7, 'min_data_in_leaf': 16, 'l2_leaf_reg': 3, 'bagging_temperature': 0.46035004055767786, 'random_strength': 0.41057130839582195, 'border_count': 694, 'rsm': 0.7600291537171692}. Best is trial 32 with value: 303.9605587407062.\n"
     ]
    },
    {
     "name": "stdout",
     "output_type": "stream",
     "text": [
      "3168:\tlearn: 138.1437529\ttotal: 1m 30s\tremaining: 0us\n",
      "0:\tlearn: 568.8677686\ttotal: 19.4ms\tremaining: 56.3s\n",
      "300:\tlearn: 197.1435021\ttotal: 6.57s\tremaining: 56.8s\n",
      "600:\tlearn: 177.2498446\ttotal: 13.3s\tremaining: 51s\n",
      "900:\tlearn: 172.8439663\ttotal: 20.2s\tremaining: 44.8s\n",
      "1200:\tlearn: 169.4716334\ttotal: 27.1s\tremaining: 38.4s\n",
      "1500:\tlearn: 166.3513424\ttotal: 34.1s\tremaining: 31.9s\n",
      "1800:\tlearn: 163.4302010\ttotal: 41.3s\tremaining: 25.3s\n",
      "2100:\tlearn: 161.1682675\ttotal: 48.4s\tremaining: 18.5s\n",
      "2400:\tlearn: 159.2070734\ttotal: 55.6s\tremaining: 11.6s\n",
      "2700:\tlearn: 156.6861730\ttotal: 1m 2s\tremaining: 4.7s\n"
     ]
    },
    {
     "name": "stderr",
     "output_type": "stream",
     "text": [
      "[I 2023-11-11 11:30:39,816] Trial 69 finished with value: 306.65059454626174 and parameters: {'iterations': 2903, 'learning_rate': 0.008268102216678052, 'depth': 6, 'min_data_in_leaf': 4, 'l2_leaf_reg': 4, 'bagging_temperature': 0.4940538864099979, 'random_strength': 0.4623941442466795, 'border_count': 762, 'rsm': 0.9170495281843213}. Best is trial 32 with value: 303.9605587407062.\n"
     ]
    },
    {
     "name": "stdout",
     "output_type": "stream",
     "text": [
      "2902:\tlearn: 155.6555246\ttotal: 1m 7s\tremaining: 0us\n",
      "0:\tlearn: 570.8163621\ttotal: 14.4ms\tremaining: 48.5s\n",
      "300:\tlearn: 222.9281310\ttotal: 4.77s\tremaining: 48.8s\n",
      "600:\tlearn: 191.3259419\ttotal: 9.74s\tremaining: 45s\n",
      "900:\tlearn: 185.2097961\ttotal: 14.7s\tremaining: 40.4s\n",
      "1200:\tlearn: 182.4237552\ttotal: 19.7s\tremaining: 35.8s\n",
      "1500:\tlearn: 180.6033723\ttotal: 24.9s\tremaining: 31.1s\n",
      "1800:\tlearn: 178.6273634\ttotal: 30.1s\tremaining: 26.3s\n",
      "2100:\tlearn: 177.3988348\ttotal: 35.3s\tremaining: 21.5s\n",
      "2400:\tlearn: 175.8833004\ttotal: 40.5s\tremaining: 16.5s\n",
      "2700:\tlearn: 174.5235072\ttotal: 45.8s\tremaining: 11.5s\n",
      "3000:\tlearn: 173.2935815\ttotal: 51.2s\tremaining: 6.43s\n",
      "3300:\tlearn: 172.1464791\ttotal: 56.5s\tremaining: 1.32s\n"
     ]
    },
    {
     "name": "stderr",
     "output_type": "stream",
     "text": [
      "[I 2023-11-11 11:31:38,117] Trial 70 finished with value: 313.589141305034 and parameters: {'iterations': 3378, 'learning_rate': 0.006556839376024406, 'depth': 4, 'min_data_in_leaf': 90, 'l2_leaf_reg': 8, 'bagging_temperature': 0.40772486313016865, 'random_strength': 0.545976450657888, 'border_count': 587, 'rsm': 0.7677889785277323}. Best is trial 32 with value: 303.9605587407062.\n"
     ]
    },
    {
     "name": "stdout",
     "output_type": "stream",
     "text": [
      "3377:\tlearn: 171.9024505\ttotal: 57.9s\tremaining: 0us\n",
      "0:\tlearn: 569.2244559\ttotal: 31.5ms\tremaining: 1m 26s\n",
      "300:\tlearn: 186.3557052\ttotal: 10.3s\tremaining: 1m 24s\n",
      "600:\tlearn: 167.3612203\ttotal: 20.8s\tremaining: 1m 14s\n",
      "900:\tlearn: 161.8672494\ttotal: 31.6s\tremaining: 1m 4s\n",
      "1200:\tlearn: 157.0289976\ttotal: 42.3s\tremaining: 54.6s\n",
      "1500:\tlearn: 151.3218310\ttotal: 53s\tremaining: 44.1s\n",
      "1800:\tlearn: 145.7663085\ttotal: 1m 3s\tremaining: 33.6s\n",
      "2100:\tlearn: 140.5805867\ttotal: 1m 14s\tremaining: 23s\n",
      "2400:\tlearn: 136.3039286\ttotal: 1m 25s\tremaining: 12.4s\n",
      "2700:\tlearn: 132.3643666\ttotal: 1m 36s\tremaining: 1.75s\n"
     ]
    },
    {
     "name": "stderr",
     "output_type": "stream",
     "text": [
      "[I 2023-11-11 11:33:16,896] Trial 71 finished with value: 304.7058007978131 and parameters: {'iterations': 2750, 'learning_rate': 0.008969438897025592, 'depth': 8, 'min_data_in_leaf': 7, 'l2_leaf_reg': 3, 'bagging_temperature': 0.3894530898769985, 'random_strength': 0.46151756621229173, 'border_count': 750, 'rsm': 0.8552482476028179}. Best is trial 32 with value: 303.9605587407062.\n"
     ]
    },
    {
     "name": "stdout",
     "output_type": "stream",
     "text": [
      "2749:\tlearn: 131.9078362\ttotal: 1m 38s\tremaining: 0us\n",
      "0:\tlearn: 569.3076636\ttotal: 26.7ms\tremaining: 1m 9s\n",
      "300:\tlearn: 201.4500458\ttotal: 8.11s\tremaining: 1m 1s\n",
      "600:\tlearn: 174.9597355\ttotal: 16.5s\tremaining: 54.8s\n",
      "900:\tlearn: 169.4688486\ttotal: 24.9s\tremaining: 46.8s\n",
      "1200:\tlearn: 166.4392558\ttotal: 33.3s\tremaining: 38.6s\n",
      "1500:\tlearn: 163.0585201\ttotal: 41.8s\tremaining: 30.5s\n",
      "1800:\tlearn: 160.1188683\ttotal: 50.5s\tremaining: 22.2s\n",
      "2100:\tlearn: 157.3023596\ttotal: 59.2s\tremaining: 13.9s\n",
      "2400:\tlearn: 154.5029530\ttotal: 1m 7s\tremaining: 5.45s\n"
     ]
    },
    {
     "name": "stderr",
     "output_type": "stream",
     "text": [
      "[I 2023-11-11 11:34:30,814] Trial 72 finished with value: 304.2776258214473 and parameters: {'iterations': 2594, 'learning_rate': 0.007319780774903829, 'depth': 7, 'min_data_in_leaf': 13, 'l2_leaf_reg': 3, 'bagging_temperature': 0.42854045414742614, 'random_strength': 0.5073425235288487, 'border_count': 856, 'rsm': 0.931309797204702}. Best is trial 32 with value: 303.9605587407062.\n"
     ]
    },
    {
     "name": "stdout",
     "output_type": "stream",
     "text": [
      "2593:\tlearn: 153.1730673\ttotal: 1m 13s\tremaining: 0us\n",
      "0:\tlearn: 570.5544350\ttotal: 26.3ms\tremaining: 1m 7s\n",
      "300:\tlearn: 220.4189264\ttotal: 8.28s\tremaining: 1m 2s\n",
      "600:\tlearn: 179.9664032\ttotal: 16.8s\tremaining: 55.4s\n",
      "900:\tlearn: 172.0816787\ttotal: 25.4s\tremaining: 47.3s\n",
      "1200:\tlearn: 168.6968702\ttotal: 34.1s\tremaining: 39s\n",
      "1500:\tlearn: 165.9253468\ttotal: 42.6s\tremaining: 30.6s\n",
      "1800:\tlearn: 163.3151381\ttotal: 51.3s\tremaining: 22.1s\n",
      "2100:\tlearn: 160.7298546\ttotal: 59.9s\tremaining: 13.6s\n",
      "2400:\tlearn: 158.1347051\ttotal: 1m 8s\tremaining: 5.05s\n"
     ]
    },
    {
     "name": "stderr",
     "output_type": "stream",
     "text": [
      "[I 2023-11-11 11:35:44,893] Trial 73 finished with value: 305.80405709181616 and parameters: {'iterations': 2578, 'learning_rate': 0.005810549993334689, 'depth': 7, 'min_data_in_leaf': 13, 'l2_leaf_reg': 2, 'bagging_temperature': 0.42528606034060434, 'random_strength': 0.48098886496009424, 'border_count': 975, 'rsm': 0.97030613370961}. Best is trial 32 with value: 303.9605587407062.\n"
     ]
    },
    {
     "name": "stdout",
     "output_type": "stream",
     "text": [
      "2577:\tlearn: 156.6716769\ttotal: 1m 13s\tremaining: 0us\n",
      "0:\tlearn: 570.9775164\ttotal: 26.8ms\tremaining: 1m 15s\n",
      "300:\tlearn: 238.0359214\ttotal: 8.3s\tremaining: 1m 9s\n",
      "600:\tlearn: 185.5205322\ttotal: 17s\tremaining: 1m 3s\n",
      "900:\tlearn: 174.7855460\ttotal: 25.8s\tremaining: 55.3s\n",
      "1200:\tlearn: 170.7367342\ttotal: 34.4s\tremaining: 46.8s\n",
      "1500:\tlearn: 168.3689934\ttotal: 43.1s\tremaining: 38.3s\n",
      "1800:\tlearn: 166.0756195\ttotal: 51.9s\tremaining: 29.7s\n",
      "2100:\tlearn: 163.3577131\ttotal: 1m\tremaining: 21.1s\n",
      "2400:\tlearn: 161.0581559\ttotal: 1m 9s\tremaining: 12.5s\n",
      "2700:\tlearn: 159.0091748\ttotal: 1m 18s\tremaining: 3.84s\n"
     ]
    },
    {
     "name": "stderr",
     "output_type": "stream",
     "text": [
      "[I 2023-11-11 11:37:07,851] Trial 74 finished with value: 307.40223757743036 and parameters: {'iterations': 2833, 'learning_rate': 0.00489598689616878, 'depth': 7, 'min_data_in_leaf': 20, 'l2_leaf_reg': 3, 'bagging_temperature': 0.4559866211223758, 'random_strength': 0.42212825238241036, 'border_count': 907, 'rsm': 0.9104930901120475}. Best is trial 32 with value: 303.9605587407062.\n"
     ]
    },
    {
     "name": "stdout",
     "output_type": "stream",
     "text": [
      "2832:\tlearn: 158.2859547\ttotal: 1m 22s\tremaining: 0us\n",
      "0:\tlearn: 570.4667642\ttotal: 33ms\tremaining: 1m 47s\n",
      "300:\tlearn: 199.4308175\ttotal: 10.7s\tremaining: 1m 46s\n",
      "600:\tlearn: 171.3138129\ttotal: 21.6s\tremaining: 1m 36s\n",
      "900:\tlearn: 165.3908247\ttotal: 32.6s\tremaining: 1m 25s\n",
      "1200:\tlearn: 161.5842254\ttotal: 43.6s\tremaining: 1m 15s\n",
      "1500:\tlearn: 157.6892227\ttotal: 55s\tremaining: 1m 5s\n",
      "1800:\tlearn: 153.6261860\ttotal: 1m 6s\tremaining: 54.3s\n",
      "2100:\tlearn: 150.4815057\ttotal: 1m 17s\tremaining: 43.4s\n",
      "2400:\tlearn: 146.0984637\ttotal: 1m 28s\tremaining: 32.4s\n",
      "2700:\tlearn: 141.5354377\ttotal: 1m 40s\tremaining: 21.4s\n",
      "3000:\tlearn: 137.3421261\ttotal: 1m 51s\tremaining: 10.2s\n"
     ]
    },
    {
     "name": "stderr",
     "output_type": "stream",
     "text": [
      "[I 2023-11-11 11:39:10,857] Trial 75 finished with value: 305.0930395944867 and parameters: {'iterations': 3276, 'learning_rate': 0.007218170530094365, 'depth': 8, 'min_data_in_leaf': 11, 'l2_leaf_reg': 2, 'bagging_temperature': 0.43564348526510854, 'random_strength': 0.5157472157006431, 'border_count': 869, 'rsm': 0.7940336602851816}. Best is trial 32 with value: 303.9605587407062.\n"
     ]
    },
    {
     "name": "stdout",
     "output_type": "stream",
     "text": [
      "3275:\tlearn: 134.2459788\ttotal: 2m 2s\tremaining: 0us\n",
      "0:\tlearn: 569.3805247\ttotal: 20.6ms\tremaining: 52.1s\n",
      "300:\tlearn: 187.5067212\ttotal: 6.6s\tremaining: 48.8s\n",
      "600:\tlearn: 174.7616390\ttotal: 13.3s\tremaining: 42.7s\n",
      "900:\tlearn: 170.6269955\ttotal: 20.1s\tremaining: 36.3s\n",
      "1200:\tlearn: 166.7738970\ttotal: 27s\tremaining: 29.8s\n",
      "1500:\tlearn: 163.4514121\ttotal: 34.1s\tremaining: 23.2s\n",
      "1800:\tlearn: 160.3907056\ttotal: 41.1s\tremaining: 16.5s\n",
      "2100:\tlearn: 157.7512937\ttotal: 48.2s\tremaining: 9.73s\n",
      "2400:\tlearn: 154.9744515\ttotal: 55.4s\tremaining: 2.86s\n"
     ]
    },
    {
     "name": "stderr",
     "output_type": "stream",
     "text": [
      "[I 2023-11-11 11:40:09,541] Trial 76 finished with value: 306.44361581586634 and parameters: {'iterations': 2525, 'learning_rate': 0.01042379647130498, 'depth': 6, 'min_data_in_leaf': 16, 'l2_leaf_reg': 4, 'bagging_temperature': 0.3673937261368528, 'random_strength': 0.5072731398067474, 'border_count': 798, 'rsm': 0.9382014497028284}. Best is trial 32 with value: 303.9605587407062.\n"
     ]
    },
    {
     "name": "stdout",
     "output_type": "stream",
     "text": [
      "2524:\tlearn: 153.9722980\ttotal: 58.3s\tremaining: 0us\n",
      "0:\tlearn: 569.0599542\ttotal: 47.2ms\tremaining: 2m 27s\n",
      "300:\tlearn: 189.1156263\ttotal: 14.4s\tremaining: 2m 14s\n",
      "600:\tlearn: 163.6785437\ttotal: 29.1s\tremaining: 2m 1s\n",
      "900:\tlearn: 156.8344887\ttotal: 43.7s\tremaining: 1m 47s\n",
      "1200:\tlearn: 151.3138823\ttotal: 58.6s\tremaining: 1m 33s\n",
      "1500:\tlearn: 146.9484733\ttotal: 1m 13s\tremaining: 1m 19s\n",
      "1800:\tlearn: 141.4168611\ttotal: 1m 28s\tremaining: 1m 4s\n",
      "2100:\tlearn: 134.9961274\ttotal: 1m 43s\tremaining: 49.9s\n",
      "2400:\tlearn: 129.5287600\ttotal: 1m 58s\tremaining: 35.3s\n",
      "2700:\tlearn: 125.9350808\ttotal: 2m 13s\tremaining: 20.6s\n",
      "3000:\tlearn: 121.1178977\ttotal: 2m 28s\tremaining: 5.79s\n"
     ]
    },
    {
     "name": "stderr",
     "output_type": "stream",
     "text": [
      "[I 2023-11-11 11:42:44,598] Trial 77 finished with value: 307.1805007896943 and parameters: {'iterations': 3118, 'learning_rate': 0.008018935622246951, 'depth': 9, 'min_data_in_leaf': 3, 'l2_leaf_reg': 3, 'bagging_temperature': 0.40417874797170517, 'random_strength': 0.4344471236090092, 'border_count': 842, 'rsm': 0.8081469763409589}. Best is trial 32 with value: 303.9605587407062.\n"
     ]
    },
    {
     "name": "stdout",
     "output_type": "stream",
     "text": [
      "3117:\tlearn: 119.4035631\ttotal: 2m 34s\tremaining: 0us\n",
      "0:\tlearn: 569.4836837\ttotal: 35ms\tremaining: 1m 42s\n",
      "300:\tlearn: 185.0733268\ttotal: 11.2s\tremaining: 1m 38s\n",
      "600:\tlearn: 167.2597114\ttotal: 22.8s\tremaining: 1m 28s\n",
      "900:\tlearn: 161.8584449\ttotal: 34.2s\tremaining: 1m 17s\n",
      "1200:\tlearn: 156.8674063\ttotal: 45.6s\tremaining: 1m 5s\n",
      "1500:\tlearn: 150.8820608\ttotal: 57.2s\tremaining: 54.7s\n",
      "1800:\tlearn: 144.9102947\ttotal: 1m 8s\tremaining: 43.4s\n",
      "2100:\tlearn: 140.9946888\ttotal: 1m 20s\tremaining: 32s\n",
      "2400:\tlearn: 137.7877759\ttotal: 1m 32s\tremaining: 20.6s\n",
      "2700:\tlearn: 133.8688914\ttotal: 1m 43s\tremaining: 9.09s\n"
     ]
    },
    {
     "name": "stderr",
     "output_type": "stream",
     "text": [
      "[I 2023-11-11 11:44:38,395] Trial 78 finished with value: 304.6653821545268 and parameters: {'iterations': 2937, 'learning_rate': 0.009142133921305558, 'depth': 8, 'min_data_in_leaf': 8, 'l2_leaf_reg': 2, 'bagging_temperature': 0.3536170804061364, 'random_strength': 0.48691990291411724, 'border_count': 919, 'rsm': 0.8887455218709256}. Best is trial 32 with value: 303.9605587407062.\n"
     ]
    },
    {
     "name": "stdout",
     "output_type": "stream",
     "text": [
      "2936:\tlearn: 130.9753483\ttotal: 1m 53s\tremaining: 0us\n",
      "0:\tlearn: 568.4889967\ttotal: 16.3ms\tremaining: 38.1s\n",
      "300:\tlearn: 185.2567902\ttotal: 5.49s\tremaining: 37.3s\n",
      "600:\tlearn: 174.0849992\ttotal: 11.2s\tremaining: 32.3s\n",
      "900:\tlearn: 169.3675208\ttotal: 16.9s\tremaining: 27.1s\n",
      "1200:\tlearn: 164.8166608\ttotal: 22.8s\tremaining: 21.7s\n",
      "1500:\tlearn: 161.0385552\ttotal: 28.7s\tremaining: 16.1s\n",
      "1800:\tlearn: 157.8099406\ttotal: 34.6s\tremaining: 10.4s\n",
      "2100:\tlearn: 154.9781069\ttotal: 40.7s\tremaining: 4.71s\n"
     ]
    }
   ],
   "source": [
    "#For location A\n",
    "def objective(trial, X_train, y_train):\n",
    "    params = {\n",
    "        \"iterations\": trial.suggest_int(\"iterations\", 300, 3500),\n",
    "        \"learning_rate\": trial.suggest_float(\"learning_rate\", 1e-3, 0.1, log=True),\n",
    "        \"depth\": trial.suggest_int(\"depth\", 1, 13),\n",
    "        \"min_data_in_leaf\": trial.suggest_int(\"min_data_in_leaf\", 1, 100),\n",
    "        \"l2_leaf_reg\": trial.suggest_int(\"l2_leaf_reg\", 2, 10),\n",
    "        \"bagging_temperature\": trial.suggest_float(\"bagging_temperature\", 0.3, 1.0),\n",
    "        \"random_strength\": trial.suggest_float(\"random_strength\", 0.3, 1.0),\n",
    "        \"border_count\": trial.suggest_int(\"border_count\", 1, 1000),\n",
    "        \"rsm\": trial.suggest_float(\"rsm\", 0.05, 1),\n",
    "        \"loss_function\" :\"LogCosh\"\n",
    "    }\n",
    "\n",
    "    catboost_model_a = CatBoostRegressor(**params, verbose=300)\n",
    "    catboost_model_a.fit(train_pool_a)\n",
    "    pred_a = pd.DataFrame(catboost_model_a.predict(test_pool_a))\n",
    "    MAE_a = mean_absolute_error(y_test_a, pred_a)\n",
    "    return MAE_a\n",
    "\n",
    "study = optuna.create_study(direction='minimize')\n",
    "study.optimize(lambda trial: objective(trial, X_train, y_train), n_trials=80)"
   ]
  },
  {
   "cell_type": "code",
   "execution_count": 10,
   "metadata": {},
   "outputs": [
    {
     "name": "stdout",
     "output_type": "stream",
     "text": [
      "{'iterations': 1852, 'learning_rate': 0.0018854412552105353, 'depth': 9, 'colsample_bylevel': 0.7366562974962199, 'min_data_in_leaf': 4, 'l2_leaf_reg': 3, 'has-time': True, 'bagging_temperature': 0.9525931510378696, 'random_strength': 0.30613129187014626, 'border_count': 993, 'rsm': 0.21119141087462187, 'nan_mode': 'min'}\n",
      "351.34628571238125\n"
     ]
    }
   ],
   "source": [
    "#to output the best paramaters\n",
    "print(study.best_params)\n",
    "\n",
    "#to output the best score returned from the trials\n",
    "print(study.best_value)\n",
    "\n",
    "\n",
    "with open(\"optuna-best-parameters_a.txt\", \"w\") as file:\n",
    "    file.write(\"Best paramaters: \\n\")\n",
    "    file.write(json.dumps(study.best_params))  # Write the first string followed by a newline character\n",
    "    file.write(\"\\n\")\n",
    "    file.write(\"best score MAE: \\n\")\n",
    "    file.write(json.dumps(study.best_value))  # Write the second string followed by a newline character"
   ]
  },
  {
   "cell_type": "code",
   "execution_count": null,
   "metadata": {},
   "outputs": [],
   "source": []
  }
 ],
 "metadata": {
  "environment": {
   "kernel": "python3",
   "name": "common-cpu.m112",
   "type": "gcloud",
   "uri": "gcr.io/deeplearning-platform-release/base-cpu:m112"
  },
  "kernelspec": {
   "display_name": "Python 3",
   "language": "python",
   "name": "python3"
  },
  "language_info": {
   "codemirror_mode": {
    "name": "ipython",
    "version": 3
   },
   "file_extension": ".py",
   "mimetype": "text/x-python",
   "name": "python",
   "nbconvert_exporter": "python",
   "pygments_lexer": "ipython3",
   "version": "3.10.12"
  }
 },
 "nbformat": 4,
 "nbformat_minor": 4
}
