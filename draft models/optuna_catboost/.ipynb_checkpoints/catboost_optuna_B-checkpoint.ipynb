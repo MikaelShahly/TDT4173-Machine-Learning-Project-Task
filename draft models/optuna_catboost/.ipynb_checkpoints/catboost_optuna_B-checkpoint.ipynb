{
 "cells": [
  {
   "cell_type": "code",
   "execution_count": 4,
   "metadata": {},
   "outputs": [],
   "source": [
    "import pandas as pd\n",
    "import numpy as np\n",
    "from catboost import Pool, CatBoostRegressor\n",
    "from sklearn.model_selection import cross_val_score\n",
    "from sklearn.model_selection import TimeSeriesSplit \n",
    "import optuna \n",
    "import json\n",
    "from sklearn.metrics import mean_absolute_error"
   ]
  },
  {
   "cell_type": "code",
   "execution_count": 5,
   "metadata": {},
   "outputs": [],
   "source": [
    "#Load inn datasets\n",
    "X_test  = pd.read_parquet('../data/prepared_datasets/only_y_cleaned/X_test.parquet')\n",
    "X_train = pd.read_parquet('../data/prepared_datasets/only_y_cleaned/X_train.parquet')\n",
    "y_train = pd.read_parquet('../data/prepared_datasets/only_y_cleaned/Y_train.parquet')\n",
    "y_train_a = pd.read_parquet('../data/prepared_datasets/only_y_cleaned/Y_train_a.parquet')\n",
    "y_train_b = pd.read_parquet('../data/prepared_datasets/only_y_cleaned/Y_train_b.parquet')\n",
    "y_train_c = pd.read_parquet('../data/prepared_datasets/only_y_cleaned/Y_train_c.parquet')"
   ]
  },
  {
   "cell_type": "code",
   "execution_count": 6,
   "metadata": {},
   "outputs": [],
   "source": [
    "def splitting_def(df):\n",
    "    date_range_1 = (df.index >= '2020-05-01') & (df.index <= '2020-06-25')\n",
    "    date_range_2 = (df.index >= '2023-05-01') & (df.index <= '2023-06-15')\n",
    "\n",
    "    # Combine the date ranges to create the test set\n",
    "    test_set = df[date_range_1 | date_range_2]\n",
    "\n",
    "    # The rest of the data will be your training set\n",
    "    training_set = df[~(date_range_1 | date_range_2)]\n",
    "    \n",
    "    # Splitting the test_set into X_test and y_test\n",
    "    X_test = test_set.drop(\"pv_measurement\", axis=1)\n",
    "    y_test = test_set['pv_measurement']  # Assuming 'pv_measurement' is your target variable\n",
    "\n",
    "    # Splitting the training_set into X_train and y_train\n",
    "    X_train = training_set.drop(\"pv_measurement\", axis=1)\n",
    "    y_train = training_set['pv_measurement']\n",
    "    \n",
    "    return X_train, X_test, y_train, y_test\n",
    "\n",
    "X_train_new_b, X_test_new_b, y_train_new_b, y_test_b = splitting_def(pd.concat([X_train[X_train[\"location\"] == \"B\"].drop(\"location\", axis=1), y_train_b], axis=1))"
   ]
  },
  {
   "cell_type": "code",
   "execution_count": 7,
   "metadata": {},
   "outputs": [],
   "source": [
    "#Create a pool of data\n",
    "train_pool_b = Pool(X_train_new_b, y_train_new_b)\n",
    "\n",
    "test_pool_b = Pool(X_test_new_b) "
   ]
  },
  {
   "cell_type": "code",
   "execution_count": 8,
   "metadata": {},
   "outputs": [
    {
     "name": "stderr",
     "output_type": "stream",
     "text": [
      "[I 2023-11-06 17:59:27,249] A new study created in memory with name: no-name-7599d33b-96f6-431d-b4ea-906904c01ba5\n"
     ]
    },
    {
     "name": "stdout",
     "output_type": "stream",
     "text": [
      "Learning rate set to 0.070617\n",
      "0:\tlearn: 175.9819432\ttotal: 94.8ms\tremaining: 1m 34s\n",
      "100:\tlearn: 77.9668221\ttotal: 1.83s\tremaining: 16.3s\n",
      "200:\tlearn: 71.2506532\ttotal: 3.46s\tremaining: 13.7s\n",
      "300:\tlearn: 66.7825069\ttotal: 4.8s\tremaining: 11.1s\n",
      "400:\tlearn: 63.2988012\ttotal: 6.26s\tremaining: 9.35s\n",
      "500:\tlearn: 60.2441076\ttotal: 7.68s\tremaining: 7.65s\n",
      "600:\tlearn: 57.6791169\ttotal: 9.23s\tremaining: 6.13s\n",
      "700:\tlearn: 55.3396992\ttotal: 10.7s\tremaining: 4.57s\n",
      "800:\tlearn: 53.1692953\ttotal: 12.1s\tremaining: 3s\n",
      "900:\tlearn: 51.3180744\ttotal: 13.8s\tremaining: 1.51s\n"
     ]
    },
    {
     "name": "stderr",
     "output_type": "stream",
     "text": [
      "[I 2023-11-06 17:59:43,038] Trial 0 finished with value: 82.32735192987839 and parameters: {'iterations': 1480, 'learning_rate': 0.004154859937303772, 'depth': 1, 'colsample_bylevel': 0.8980589862889544, 'min_data_in_leaf': 11, 'l2_leaf_reg': 7, 'has-time': True, 'bagging_temperature': 0.8588447919947089, 'random_strength': 0.5000970078140154, 'border_count': 358, 'rsm': 0.31318686704086646, 'nan_mode': 'min'}. Best is trial 0 with value: 82.32735192987839.\n"
     ]
    },
    {
     "name": "stdout",
     "output_type": "stream",
     "text": [
      "999:\tlearn: 49.7064148\ttotal: 15.5s\tremaining: 0us\n",
      "Learning rate set to 0.070617\n",
      "0:\tlearn: 175.9819432\ttotal: 20.1ms\tremaining: 20.1s\n",
      "100:\tlearn: 77.9668221\ttotal: 1.35s\tremaining: 12s\n",
      "200:\tlearn: 71.2506532\ttotal: 2.8s\tremaining: 11.1s\n",
      "300:\tlearn: 66.7825069\ttotal: 4.41s\tremaining: 10.2s\n",
      "400:\tlearn: 63.2988012\ttotal: 5.93s\tremaining: 8.86s\n",
      "500:\tlearn: 60.2441076\ttotal: 7.24s\tremaining: 7.21s\n",
      "600:\tlearn: 57.6791169\ttotal: 8.79s\tremaining: 5.84s\n",
      "700:\tlearn: 55.3396992\ttotal: 10.2s\tremaining: 4.35s\n",
      "800:\tlearn: 53.1692953\ttotal: 11.7s\tremaining: 2.92s\n",
      "900:\tlearn: 51.3180744\ttotal: 13.4s\tremaining: 1.47s\n"
     ]
    },
    {
     "name": "stderr",
     "output_type": "stream",
     "text": [
      "[I 2023-11-06 17:59:58,536] Trial 1 finished with value: 82.32735192987839 and parameters: {'iterations': 492, 'learning_rate': 0.012455434663634558, 'depth': 10, 'colsample_bylevel': 0.2886256810054301, 'min_data_in_leaf': 97, 'l2_leaf_reg': 10, 'has-time': True, 'bagging_temperature': 0.9972967445105065, 'random_strength': 0.6544591993004929, 'border_count': 428, 'rsm': 0.42936907074635816, 'nan_mode': 'min'}. Best is trial 0 with value: 82.32735192987839.\n"
     ]
    },
    {
     "name": "stdout",
     "output_type": "stream",
     "text": [
      "999:\tlearn: 49.7064148\ttotal: 15.2s\tremaining: 0us\n",
      "Learning rate set to 0.070617\n",
      "0:\tlearn: 175.9819432\ttotal: 12.9ms\tremaining: 12.9s\n",
      "100:\tlearn: 77.9668221\ttotal: 1.73s\tremaining: 15.4s\n",
      "200:\tlearn: 71.2506532\ttotal: 3.08s\tremaining: 12.2s\n",
      "300:\tlearn: 66.7825069\ttotal: 5.41s\tremaining: 12.6s\n",
      "400:\tlearn: 63.2988012\ttotal: 7.32s\tremaining: 10.9s\n",
      "500:\tlearn: 60.2441076\ttotal: 9.17s\tremaining: 9.13s\n",
      "600:\tlearn: 57.6791169\ttotal: 10.6s\tremaining: 7s\n",
      "700:\tlearn: 55.3396992\ttotal: 12s\tremaining: 5.13s\n",
      "800:\tlearn: 53.1692953\ttotal: 13.7s\tremaining: 3.4s\n",
      "900:\tlearn: 51.3180744\ttotal: 15.3s\tremaining: 1.68s\n"
     ]
    },
    {
     "name": "stderr",
     "output_type": "stream",
     "text": [
      "[I 2023-11-06 18:00:15,634] Trial 2 finished with value: 82.32735192987839 and parameters: {'iterations': 2411, 'learning_rate': 0.008512514398138993, 'depth': 11, 'colsample_bylevel': 0.32140113067819803, 'min_data_in_leaf': 58, 'l2_leaf_reg': 10, 'has-time': False, 'bagging_temperature': 0.4230366985186615, 'random_strength': 0.6021507687598249, 'border_count': 414, 'rsm': 0.9236521471793339, 'nan_mode': 'min'}. Best is trial 0 with value: 82.32735192987839.\n"
     ]
    },
    {
     "name": "stdout",
     "output_type": "stream",
     "text": [
      "999:\tlearn: 49.7064148\ttotal: 16.9s\tremaining: 0us\n",
      "Learning rate set to 0.070617\n",
      "0:\tlearn: 175.9819432\ttotal: 19ms\tremaining: 19s\n",
      "100:\tlearn: 77.9668221\ttotal: 1.49s\tremaining: 13.3s\n",
      "200:\tlearn: 71.2506532\ttotal: 3.22s\tremaining: 12.8s\n",
      "300:\tlearn: 66.7825069\ttotal: 4.81s\tremaining: 11.2s\n",
      "400:\tlearn: 63.2988012\ttotal: 6.5s\tremaining: 9.72s\n",
      "500:\tlearn: 60.2441076\ttotal: 7.72s\tremaining: 7.69s\n",
      "600:\tlearn: 57.6791169\ttotal: 9.52s\tremaining: 6.32s\n",
      "700:\tlearn: 55.3396992\ttotal: 11.1s\tremaining: 4.74s\n",
      "800:\tlearn: 53.1692953\ttotal: 12.6s\tremaining: 3.13s\n",
      "900:\tlearn: 51.3180744\ttotal: 14.3s\tremaining: 1.57s\n"
     ]
    },
    {
     "name": "stderr",
     "output_type": "stream",
     "text": [
      "[I 2023-11-06 18:00:31,750] Trial 3 finished with value: 82.32735192987839 and parameters: {'iterations': 1985, 'learning_rate': 0.004911228191854652, 'depth': 6, 'colsample_bylevel': 0.38133980466750583, 'min_data_in_leaf': 93, 'l2_leaf_reg': 10, 'has-time': False, 'bagging_temperature': 0.754437619639094, 'random_strength': 0.684732087606373, 'border_count': 463, 'rsm': 0.47366819173595404, 'nan_mode': 'max'}. Best is trial 0 with value: 82.32735192987839.\n"
     ]
    },
    {
     "name": "stdout",
     "output_type": "stream",
     "text": [
      "999:\tlearn: 49.7064148\ttotal: 15.8s\tremaining: 0us\n",
      "Learning rate set to 0.070617\n",
      "0:\tlearn: 175.9819432\ttotal: 44.6ms\tremaining: 44.5s\n",
      "100:\tlearn: 77.9668221\ttotal: 1.4s\tremaining: 12.5s\n",
      "200:\tlearn: 71.2506532\ttotal: 2.82s\tremaining: 11.2s\n",
      "300:\tlearn: 66.7825069\ttotal: 4.35s\tremaining: 10.1s\n",
      "400:\tlearn: 63.2988012\ttotal: 5.75s\tremaining: 8.58s\n",
      "500:\tlearn: 60.2441076\ttotal: 7.31s\tremaining: 7.28s\n",
      "600:\tlearn: 57.6791169\ttotal: 8.76s\tremaining: 5.82s\n",
      "700:\tlearn: 55.3396992\ttotal: 10.2s\tremaining: 4.34s\n",
      "800:\tlearn: 53.1692953\ttotal: 11.5s\tremaining: 2.86s\n",
      "900:\tlearn: 51.3180744\ttotal: 12.8s\tremaining: 1.41s\n"
     ]
    },
    {
     "name": "stderr",
     "output_type": "stream",
     "text": [
      "[I 2023-11-06 18:00:46,411] Trial 4 finished with value: 82.32735192987839 and parameters: {'iterations': 1512, 'learning_rate': 0.002791150604045126, 'depth': 1, 'colsample_bylevel': 0.38289234611918793, 'min_data_in_leaf': 45, 'l2_leaf_reg': 8, 'has-time': False, 'bagging_temperature': 0.9111094602178647, 'random_strength': 0.30343416200660633, 'border_count': 206, 'rsm': 0.025827612347966915, 'nan_mode': 'min'}. Best is trial 0 with value: 82.32735192987839.\n"
     ]
    },
    {
     "name": "stdout",
     "output_type": "stream",
     "text": [
      "999:\tlearn: 49.7064148\ttotal: 14.4s\tremaining: 0us\n",
      "Learning rate set to 0.070617\n",
      "0:\tlearn: 175.9819432\ttotal: 10.3ms\tremaining: 10.3s\n",
      "100:\tlearn: 77.9668221\ttotal: 1.65s\tremaining: 14.6s\n",
      "200:\tlearn: 71.2506532\ttotal: 3.31s\tremaining: 13.2s\n",
      "300:\tlearn: 66.7825069\ttotal: 5.02s\tremaining: 11.6s\n",
      "400:\tlearn: 63.2988012\ttotal: 6.74s\tremaining: 10.1s\n",
      "500:\tlearn: 60.2441076\ttotal: 7.97s\tremaining: 7.94s\n",
      "600:\tlearn: 57.6791169\ttotal: 9.48s\tremaining: 6.29s\n",
      "700:\tlearn: 55.3396992\ttotal: 10.9s\tremaining: 4.66s\n",
      "800:\tlearn: 53.1692953\ttotal: 12.5s\tremaining: 3.11s\n",
      "900:\tlearn: 51.3180744\ttotal: 14s\tremaining: 1.54s\n"
     ]
    },
    {
     "name": "stderr",
     "output_type": "stream",
     "text": [
      "[I 2023-11-06 18:01:02,316] Trial 5 finished with value: 82.32735192987839 and parameters: {'iterations': 1258, 'learning_rate': 0.005055733173449006, 'depth': 3, 'colsample_bylevel': 0.938936657155372, 'min_data_in_leaf': 60, 'l2_leaf_reg': 6, 'has-time': True, 'bagging_temperature': 0.718696450310625, 'random_strength': 0.4451011208284947, 'border_count': 276, 'rsm': 0.4477407096216966, 'nan_mode': 'max'}. Best is trial 0 with value: 82.32735192987839.\n"
     ]
    },
    {
     "name": "stdout",
     "output_type": "stream",
     "text": [
      "999:\tlearn: 49.7064148\ttotal: 15.7s\tremaining: 0us\n",
      "Learning rate set to 0.070617\n",
      "0:\tlearn: 175.9819432\ttotal: 8.38ms\tremaining: 8.37s\n",
      "100:\tlearn: 77.9668221\ttotal: 1.82s\tremaining: 16.2s\n",
      "200:\tlearn: 71.2506532\ttotal: 3.34s\tremaining: 13.3s\n",
      "300:\tlearn: 66.7825069\ttotal: 5.12s\tremaining: 11.9s\n",
      "400:\tlearn: 63.2988012\ttotal: 6.81s\tremaining: 10.2s\n",
      "500:\tlearn: 60.2441076\ttotal: 8.22s\tremaining: 8.19s\n",
      "600:\tlearn: 57.6791169\ttotal: 9.77s\tremaining: 6.49s\n",
      "700:\tlearn: 55.3396992\ttotal: 11.4s\tremaining: 4.84s\n",
      "800:\tlearn: 53.1692953\ttotal: 12.7s\tremaining: 3.17s\n",
      "900:\tlearn: 51.3180744\ttotal: 14.3s\tremaining: 1.57s\n"
     ]
    },
    {
     "name": "stderr",
     "output_type": "stream",
     "text": [
      "[I 2023-11-06 18:01:18,509] Trial 6 finished with value: 82.32735192987839 and parameters: {'iterations': 1574, 'learning_rate': 0.02623733146364392, 'depth': 10, 'colsample_bylevel': 0.8949893875136595, 'min_data_in_leaf': 61, 'l2_leaf_reg': 5, 'has-time': True, 'bagging_temperature': 0.339183228501409, 'random_strength': 0.5045502133711075, 'border_count': 421, 'rsm': 0.025312458096080542, 'nan_mode': 'min'}. Best is trial 0 with value: 82.32735192987839.\n"
     ]
    },
    {
     "name": "stdout",
     "output_type": "stream",
     "text": [
      "999:\tlearn: 49.7064148\ttotal: 15.9s\tremaining: 0us\n",
      "Learning rate set to 0.070617\n",
      "0:\tlearn: 175.9819432\ttotal: 29.8ms\tremaining: 29.8s\n",
      "100:\tlearn: 77.9668221\ttotal: 1.61s\tremaining: 14.3s\n",
      "200:\tlearn: 71.2506532\ttotal: 3.28s\tremaining: 13s\n",
      "300:\tlearn: 66.7825069\ttotal: 5s\tremaining: 11.6s\n",
      "400:\tlearn: 63.2988012\ttotal: 6.41s\tremaining: 9.58s\n",
      "500:\tlearn: 60.2441076\ttotal: 8.07s\tremaining: 8.03s\n",
      "600:\tlearn: 57.6791169\ttotal: 9.9s\tremaining: 6.58s\n",
      "700:\tlearn: 55.3396992\ttotal: 11.3s\tremaining: 4.83s\n",
      "800:\tlearn: 53.1692953\ttotal: 12.9s\tremaining: 3.19s\n",
      "900:\tlearn: 51.3180744\ttotal: 14.4s\tremaining: 1.59s\n"
     ]
    },
    {
     "name": "stderr",
     "output_type": "stream",
     "text": [
      "[I 2023-11-06 18:01:34,888] Trial 7 finished with value: 82.32735192987839 and parameters: {'iterations': 1213, 'learning_rate': 0.06860403823949697, 'depth': 12, 'colsample_bylevel': 0.8845551739839993, 'min_data_in_leaf': 94, 'l2_leaf_reg': 8, 'has-time': True, 'bagging_temperature': 0.756474404450042, 'random_strength': 0.6008983490219805, 'border_count': 460, 'rsm': 0.35212678102584255, 'nan_mode': 'min'}. Best is trial 0 with value: 82.32735192987839.\n"
     ]
    },
    {
     "name": "stdout",
     "output_type": "stream",
     "text": [
      "999:\tlearn: 49.7064148\ttotal: 16.1s\tremaining: 0us\n",
      "Learning rate set to 0.070617\n",
      "0:\tlearn: 175.9819432\ttotal: 27.5ms\tremaining: 27.4s\n",
      "100:\tlearn: 77.9668221\ttotal: 1.31s\tremaining: 11.7s\n",
      "200:\tlearn: 71.2506532\ttotal: 2.81s\tremaining: 11.2s\n",
      "300:\tlearn: 66.7825069\ttotal: 4.18s\tremaining: 9.71s\n",
      "400:\tlearn: 63.2988012\ttotal: 5.45s\tremaining: 8.14s\n",
      "500:\tlearn: 60.2441076\ttotal: 6.89s\tremaining: 6.86s\n",
      "600:\tlearn: 57.6791169\ttotal: 8.47s\tremaining: 5.62s\n",
      "700:\tlearn: 55.3396992\ttotal: 10s\tremaining: 4.27s\n",
      "800:\tlearn: 53.1692953\ttotal: 11.5s\tremaining: 2.85s\n",
      "900:\tlearn: 51.3180744\ttotal: 12.9s\tremaining: 1.42s\n"
     ]
    },
    {
     "name": "stderr",
     "output_type": "stream",
     "text": [
      "[I 2023-11-06 18:01:49,474] Trial 8 finished with value: 82.32735192987839 and parameters: {'iterations': 1182, 'learning_rate': 0.0010240737231602933, 'depth': 1, 'colsample_bylevel': 0.39961859445662246, 'min_data_in_leaf': 36, 'l2_leaf_reg': 4, 'has-time': False, 'bagging_temperature': 0.6339815786063541, 'random_strength': 0.6601817273292137, 'border_count': 67, 'rsm': 0.9358591426324102, 'nan_mode': 'min'}. Best is trial 0 with value: 82.32735192987839.\n"
     ]
    },
    {
     "name": "stdout",
     "output_type": "stream",
     "text": [
      "999:\tlearn: 49.7064148\ttotal: 14.4s\tremaining: 0us\n",
      "Learning rate set to 0.070617\n",
      "0:\tlearn: 175.9819432\ttotal: 73.4ms\tremaining: 1m 13s\n",
      "100:\tlearn: 77.9668221\ttotal: 1.77s\tremaining: 15.8s\n",
      "200:\tlearn: 71.2506532\ttotal: 3.23s\tremaining: 12.8s\n",
      "300:\tlearn: 66.7825069\ttotal: 4.63s\tremaining: 10.7s\n",
      "400:\tlearn: 63.2988012\ttotal: 6.13s\tremaining: 9.16s\n",
      "500:\tlearn: 60.2441076\ttotal: 7.61s\tremaining: 7.58s\n",
      "600:\tlearn: 57.6791169\ttotal: 9s\tremaining: 5.98s\n",
      "700:\tlearn: 55.3396992\ttotal: 10.7s\tremaining: 4.55s\n",
      "800:\tlearn: 53.1692953\ttotal: 12.9s\tremaining: 3.21s\n",
      "900:\tlearn: 51.3180744\ttotal: 15.1s\tremaining: 1.65s\n"
     ]
    },
    {
     "name": "stderr",
     "output_type": "stream",
     "text": [
      "[I 2023-11-06 18:02:06,495] Trial 9 finished with value: 82.32735192987839 and parameters: {'iterations': 2912, 'learning_rate': 0.00182470565465539, 'depth': 9, 'colsample_bylevel': 0.6555119825792162, 'min_data_in_leaf': 98, 'l2_leaf_reg': 7, 'has-time': False, 'bagging_temperature': 0.4169965659727035, 'random_strength': 0.4739010027756132, 'border_count': 19, 'rsm': 0.023762326301881683, 'nan_mode': 'min'}. Best is trial 0 with value: 82.32735192987839.\n"
     ]
    },
    {
     "name": "stdout",
     "output_type": "stream",
     "text": [
      "999:\tlearn: 49.7064148\ttotal: 16.7s\tremaining: 0us\n",
      "Learning rate set to 0.070617\n",
      "0:\tlearn: 175.9819432\ttotal: 23.1ms\tremaining: 23.1s\n",
      "100:\tlearn: 77.9668221\ttotal: 1.48s\tremaining: 13.2s\n",
      "200:\tlearn: 71.2506532\ttotal: 3.12s\tremaining: 12.4s\n",
      "300:\tlearn: 66.7825069\ttotal: 4.53s\tremaining: 10.5s\n",
      "400:\tlearn: 63.2988012\ttotal: 6.41s\tremaining: 9.57s\n",
      "500:\tlearn: 60.2441076\ttotal: 7.93s\tremaining: 7.9s\n",
      "600:\tlearn: 57.6791169\ttotal: 9.29s\tremaining: 6.17s\n",
      "700:\tlearn: 55.3396992\ttotal: 11s\tremaining: 4.68s\n",
      "800:\tlearn: 53.1692953\ttotal: 12.5s\tremaining: 3.1s\n",
      "900:\tlearn: 51.3180744\ttotal: 14.3s\tremaining: 1.57s\n"
     ]
    },
    {
     "name": "stderr",
     "output_type": "stream",
     "text": [
      "[I 2023-11-06 18:02:22,534] Trial 10 finished with value: 82.32735192987839 and parameters: {'iterations': 509, 'learning_rate': 0.01974881777444827, 'depth': 5, 'colsample_bylevel': 0.0863411025979538, 'min_data_in_leaf': 2, 'l2_leaf_reg': 3, 'has-time': True, 'bagging_temperature': 0.8793512556339889, 'random_strength': 0.8541956277666898, 'border_count': 291, 'rsm': 0.7145556592390886, 'nan_mode': 'max'}. Best is trial 0 with value: 82.32735192987839.\n"
     ]
    },
    {
     "name": "stdout",
     "output_type": "stream",
     "text": [
      "999:\tlearn: 49.7064148\ttotal: 15.7s\tremaining: 0us\n",
      "Learning rate set to 0.070617\n",
      "0:\tlearn: 175.9819432\ttotal: 9.1ms\tremaining: 9.09s\n",
      "100:\tlearn: 77.9668221\ttotal: 1.8s\tremaining: 16s\n",
      "200:\tlearn: 71.2506532\ttotal: 3.39s\tremaining: 13.5s\n",
      "300:\tlearn: 66.7825069\ttotal: 4.98s\tremaining: 11.6s\n",
      "400:\tlearn: 63.2988012\ttotal: 6.47s\tremaining: 9.66s\n",
      "500:\tlearn: 60.2441076\ttotal: 8.39s\tremaining: 8.35s\n",
      "600:\tlearn: 57.6791169\ttotal: 10.1s\tremaining: 6.68s\n",
      "700:\tlearn: 55.3396992\ttotal: 11.9s\tremaining: 5.06s\n",
      "800:\tlearn: 53.1692953\ttotal: 13.2s\tremaining: 3.27s\n",
      "900:\tlearn: 51.3180744\ttotal: 15s\tremaining: 1.65s\n"
     ]
    },
    {
     "name": "stderr",
     "output_type": "stream",
     "text": [
      "[I 2023-11-06 18:02:39,411] Trial 11 finished with value: 82.32735192987839 and parameters: {'iterations': 314, 'learning_rate': 0.012034335632591469, 'depth': 8, 'colsample_bylevel': 0.6709122081927321, 'min_data_in_leaf': 2, 'l2_leaf_reg': 9, 'has-time': True, 'bagging_temperature': 0.9948593143247867, 'random_strength': 0.7994294032648142, 'border_count': 362, 'rsm': 0.29709024050619337, 'nan_mode': 'min'}. Best is trial 0 with value: 82.32735192987839.\n"
     ]
    },
    {
     "name": "stdout",
     "output_type": "stream",
     "text": [
      "999:\tlearn: 49.7064148\ttotal: 16.5s\tremaining: 0us\n",
      "Learning rate set to 0.070617\n",
      "0:\tlearn: 175.9819432\ttotal: 8.35ms\tremaining: 8.35s\n",
      "100:\tlearn: 77.9668221\ttotal: 1.8s\tremaining: 16s\n",
      "200:\tlearn: 71.2506532\ttotal: 3.32s\tremaining: 13.2s\n",
      "300:\tlearn: 66.7825069\ttotal: 4.81s\tremaining: 11.2s\n",
      "400:\tlearn: 63.2988012\ttotal: 6.09s\tremaining: 9.11s\n",
      "500:\tlearn: 60.2441076\ttotal: 7.73s\tremaining: 7.7s\n",
      "600:\tlearn: 57.6791169\ttotal: 9.54s\tremaining: 6.34s\n",
      "700:\tlearn: 55.3396992\ttotal: 11s\tremaining: 4.68s\n",
      "800:\tlearn: 53.1692953\ttotal: 12.3s\tremaining: 3.06s\n",
      "900:\tlearn: 51.3180744\ttotal: 14.1s\tremaining: 1.55s\n"
     ]
    },
    {
     "name": "stderr",
     "output_type": "stream",
     "text": [
      "[I 2023-11-06 18:02:55,567] Trial 12 finished with value: 82.32735192987839 and parameters: {'iterations': 817, 'learning_rate': 0.006737182337231987, 'depth': 13, 'colsample_bylevel': 0.7128376475391636, 'min_data_in_leaf': 24, 'l2_leaf_reg': 2, 'has-time': True, 'bagging_temperature': 0.9999155483712658, 'random_strength': 0.9470676997917867, 'border_count': 331, 'rsm': 0.22591013889979622, 'nan_mode': 'min'}. Best is trial 0 with value: 82.32735192987839.\n"
     ]
    },
    {
     "name": "stdout",
     "output_type": "stream",
     "text": [
      "999:\tlearn: 49.7064148\ttotal: 15.8s\tremaining: 0us\n",
      "Learning rate set to 0.070617\n",
      "0:\tlearn: 175.9819432\ttotal: 28ms\tremaining: 28s\n",
      "100:\tlearn: 77.9668221\ttotal: 1.68s\tremaining: 14.9s\n",
      "200:\tlearn: 71.2506532\ttotal: 3.15s\tremaining: 12.5s\n",
      "300:\tlearn: 66.7825069\ttotal: 4.66s\tremaining: 10.8s\n",
      "400:\tlearn: 63.2988012\ttotal: 5.97s\tremaining: 8.92s\n",
      "500:\tlearn: 60.2441076\ttotal: 8s\tremaining: 7.97s\n",
      "600:\tlearn: 57.6791169\ttotal: 9.96s\tremaining: 6.61s\n",
      "700:\tlearn: 55.3396992\ttotal: 11.4s\tremaining: 4.87s\n",
      "800:\tlearn: 53.1692953\ttotal: 12.8s\tremaining: 3.19s\n",
      "900:\tlearn: 51.3180744\ttotal: 14.5s\tremaining: 1.59s\n"
     ]
    },
    {
     "name": "stderr",
     "output_type": "stream",
     "text": [
      "[I 2023-11-06 18:03:11,771] Trial 13 finished with value: 82.32735192987839 and parameters: {'iterations': 853, 'learning_rate': 0.0031632092185666758, 'depth': 4, 'colsample_bylevel': 0.9811212259590667, 'min_data_in_leaf': 77, 'l2_leaf_reg': 6, 'has-time': True, 'bagging_temperature': 0.8761108207410687, 'random_strength': 0.7426092664275905, 'border_count': 188, 'rsm': 0.5497310463885845, 'nan_mode': 'min'}. Best is trial 0 with value: 82.32735192987839.\n"
     ]
    },
    {
     "name": "stdout",
     "output_type": "stream",
     "text": [
      "999:\tlearn: 49.7064148\ttotal: 15.9s\tremaining: 0us\n",
      "Learning rate set to 0.070617\n",
      "0:\tlearn: 175.9819432\ttotal: 23ms\tremaining: 22.9s\n",
      "100:\tlearn: 77.9668221\ttotal: 1.83s\tremaining: 16.3s\n",
      "200:\tlearn: 71.2506532\ttotal: 3.25s\tremaining: 12.9s\n",
      "300:\tlearn: 66.7825069\ttotal: 4.72s\tremaining: 11s\n",
      "400:\tlearn: 63.2988012\ttotal: 6.28s\tremaining: 9.38s\n",
      "500:\tlearn: 60.2441076\ttotal: 8.04s\tremaining: 8.01s\n",
      "600:\tlearn: 57.6791169\ttotal: 9.58s\tremaining: 6.36s\n",
      "700:\tlearn: 55.3396992\ttotal: 11.3s\tremaining: 4.83s\n",
      "800:\tlearn: 53.1692953\ttotal: 12.8s\tremaining: 3.18s\n",
      "900:\tlearn: 51.3180744\ttotal: 14.3s\tremaining: 1.57s\n"
     ]
    },
    {
     "name": "stderr",
     "output_type": "stream",
     "text": [
      "[I 2023-11-06 18:03:27,924] Trial 14 finished with value: 82.32735192987839 and parameters: {'iterations': 2060, 'learning_rate': 0.014550707875735192, 'depth': 7, 'colsample_bylevel': 0.5447613881178817, 'min_data_in_leaf': 19, 'l2_leaf_reg': 8, 'has-time': True, 'bagging_temperature': 0.8569978020152862, 'random_strength': 0.5644565426618222, 'border_count': 378, 'rsm': 0.6231247822149474, 'nan_mode': 'max'}. Best is trial 0 with value: 82.32735192987839.\n"
     ]
    },
    {
     "name": "stdout",
     "output_type": "stream",
     "text": [
      "999:\tlearn: 49.7064148\ttotal: 15.8s\tremaining: 0us\n",
      "Learning rate set to 0.070617\n",
      "0:\tlearn: 175.9819432\ttotal: 46.2ms\tremaining: 46.2s\n",
      "100:\tlearn: 77.9668221\ttotal: 1.67s\tremaining: 14.8s\n",
      "200:\tlearn: 71.2506532\ttotal: 3.1s\tremaining: 12.3s\n",
      "300:\tlearn: 66.7825069\ttotal: 4.48s\tremaining: 10.4s\n",
      "400:\tlearn: 63.2988012\ttotal: 6.06s\tremaining: 9.05s\n",
      "500:\tlearn: 60.2441076\ttotal: 7.77s\tremaining: 7.74s\n",
      "600:\tlearn: 57.6791169\ttotal: 9.14s\tremaining: 6.07s\n",
      "700:\tlearn: 55.3396992\ttotal: 10.6s\tremaining: 4.51s\n",
      "800:\tlearn: 53.1692953\ttotal: 12.1s\tremaining: 3s\n",
      "900:\tlearn: 51.3180744\ttotal: 13.6s\tremaining: 1.49s\n"
     ]
    },
    {
     "name": "stderr",
     "output_type": "stream",
     "text": [
      "[I 2023-11-06 18:03:43,566] Trial 15 finished with value: 82.32735192987839 and parameters: {'iterations': 764, 'learning_rate': 0.03152995161818713, 'depth': 9, 'colsample_bylevel': 0.7880318050253052, 'min_data_in_leaf': 76, 'l2_leaf_reg': 9, 'has-time': True, 'bagging_temperature': 0.9850497731933814, 'random_strength': 0.6972574616309384, 'border_count': 487, 'rsm': 0.17960062180542524, 'nan_mode': 'min'}. Best is trial 0 with value: 82.32735192987839.\n"
     ]
    },
    {
     "name": "stdout",
     "output_type": "stream",
     "text": [
      "999:\tlearn: 49.7064148\ttotal: 15.2s\tremaining: 0us\n",
      "Learning rate set to 0.070617\n",
      "0:\tlearn: 175.9819432\ttotal: 27.6ms\tremaining: 27.6s\n",
      "100:\tlearn: 77.9668221\ttotal: 2s\tremaining: 17.8s\n",
      "200:\tlearn: 71.2506532\ttotal: 3.86s\tremaining: 15.4s\n",
      "300:\tlearn: 66.7825069\ttotal: 5.45s\tremaining: 12.7s\n",
      "400:\tlearn: 63.2988012\ttotal: 6.97s\tremaining: 10.4s\n",
      "500:\tlearn: 60.2441076\ttotal: 8.27s\tremaining: 8.24s\n",
      "600:\tlearn: 57.6791169\ttotal: 9.71s\tremaining: 6.45s\n",
      "700:\tlearn: 55.3396992\ttotal: 11.2s\tremaining: 4.79s\n",
      "800:\tlearn: 53.1692953\ttotal: 12.5s\tremaining: 3.1s\n",
      "900:\tlearn: 51.3180744\ttotal: 14s\tremaining: 1.54s\n"
     ]
    },
    {
     "name": "stderr",
     "output_type": "stream",
     "text": [
      "[I 2023-11-06 18:03:59,715] Trial 16 finished with value: 82.32735192987839 and parameters: {'iterations': 1975, 'learning_rate': 0.010402527327149278, 'depth': 3, 'colsample_bylevel': 0.7951758433246245, 'min_data_in_leaf': 21, 'l2_leaf_reg': 7, 'has-time': True, 'bagging_temperature': 0.8096445637382526, 'random_strength': 0.4004300215465646, 'border_count': 143, 'rsm': 0.3843408644986408, 'nan_mode': 'min'}. Best is trial 0 with value: 82.32735192987839.\n"
     ]
    },
    {
     "name": "stdout",
     "output_type": "stream",
     "text": [
      "999:\tlearn: 49.7064148\ttotal: 15.8s\tremaining: 0us\n",
      "Learning rate set to 0.070617\n",
      "0:\tlearn: 175.9819432\ttotal: 38ms\tremaining: 37.9s\n",
      "100:\tlearn: 77.9668221\ttotal: 1.87s\tremaining: 16.7s\n",
      "200:\tlearn: 71.2506532\ttotal: 3.84s\tremaining: 15.3s\n",
      "300:\tlearn: 66.7825069\ttotal: 5.58s\tremaining: 13s\n",
      "400:\tlearn: 63.2988012\ttotal: 7.21s\tremaining: 10.8s\n",
      "500:\tlearn: 60.2441076\ttotal: 8.69s\tremaining: 8.66s\n",
      "600:\tlearn: 57.6791169\ttotal: 10.1s\tremaining: 6.71s\n",
      "700:\tlearn: 55.3396992\ttotal: 11.6s\tremaining: 4.93s\n",
      "800:\tlearn: 53.1692953\ttotal: 13.4s\tremaining: 3.32s\n",
      "900:\tlearn: 51.3180744\ttotal: 14.8s\tremaining: 1.63s\n"
     ]
    },
    {
     "name": "stderr",
     "output_type": "stream",
     "text": [
      "[I 2023-11-06 18:04:16,349] Trial 17 finished with value: 82.32735192987839 and parameters: {'iterations': 2696, 'learning_rate': 0.005624465436677333, 'depth': 7, 'colsample_bylevel': 0.5308050920111507, 'min_data_in_leaf': 78, 'l2_leaf_reg': 5, 'has-time': True, 'bagging_temperature': 0.9311656087940444, 'random_strength': 0.5417664550915773, 'border_count': 322, 'rsm': 0.22530057991549912, 'nan_mode': 'min'}. Best is trial 0 with value: 82.32735192987839.\n"
     ]
    },
    {
     "name": "stdout",
     "output_type": "stream",
     "text": [
      "999:\tlearn: 49.7064148\ttotal: 16.3s\tremaining: 0us\n",
      "Learning rate set to 0.070617\n",
      "0:\tlearn: 175.9819432\ttotal: 45.3ms\tremaining: 45.3s\n",
      "100:\tlearn: 77.9668221\ttotal: 1.89s\tremaining: 16.8s\n",
      "200:\tlearn: 71.2506532\ttotal: 3.44s\tremaining: 13.7s\n",
      "300:\tlearn: 66.7825069\ttotal: 5.31s\tremaining: 12.3s\n",
      "400:\tlearn: 63.2988012\ttotal: 6.89s\tremaining: 10.3s\n",
      "500:\tlearn: 60.2441076\ttotal: 8.36s\tremaining: 8.32s\n",
      "600:\tlearn: 57.6791169\ttotal: 10.1s\tremaining: 6.68s\n",
      "700:\tlearn: 55.3396992\ttotal: 11.4s\tremaining: 4.87s\n",
      "800:\tlearn: 53.1692953\ttotal: 12.8s\tremaining: 3.18s\n",
      "900:\tlearn: 51.3180744\ttotal: 14.3s\tremaining: 1.57s\n"
     ]
    },
    {
     "name": "stderr",
     "output_type": "stream",
     "text": [
      "[I 2023-11-06 18:04:32,546] Trial 18 finished with value: 82.32735192987839 and parameters: {'iterations': 2324, 'learning_rate': 0.008827648032063802, 'depth': 11, 'colsample_bylevel': 0.2097139077617043, 'min_data_in_leaf': 34, 'l2_leaf_reg': 10, 'has-time': True, 'bagging_temperature': 0.8303914060493185, 'random_strength': 0.6325907673990154, 'border_count': 401, 'rsm': 0.556261689177922, 'nan_mode': 'max'}. Best is trial 0 with value: 82.32735192987839.\n"
     ]
    },
    {
     "name": "stdout",
     "output_type": "stream",
     "text": [
      "999:\tlearn: 49.7064148\ttotal: 15.9s\tremaining: 0us\n",
      "Learning rate set to 0.070617\n",
      "0:\tlearn: 175.9819432\ttotal: 13.4ms\tremaining: 13.4s\n",
      "100:\tlearn: 77.9668221\ttotal: 1.69s\tremaining: 15.1s\n",
      "200:\tlearn: 71.2506532\ttotal: 3.31s\tremaining: 13.2s\n",
      "300:\tlearn: 66.7825069\ttotal: 4.8s\tremaining: 11.1s\n",
      "400:\tlearn: 63.2988012\ttotal: 6.35s\tremaining: 9.48s\n",
      "500:\tlearn: 60.2441076\ttotal: 7.82s\tremaining: 7.79s\n",
      "600:\tlearn: 57.6791169\ttotal: 9.44s\tremaining: 6.26s\n",
      "700:\tlearn: 55.3396992\ttotal: 10.9s\tremaining: 4.64s\n",
      "800:\tlearn: 53.1692953\ttotal: 12.5s\tremaining: 3.1s\n",
      "900:\tlearn: 51.3180744\ttotal: 14s\tremaining: 1.53s\n"
     ]
    },
    {
     "name": "stderr",
     "output_type": "stream",
     "text": [
      "[I 2023-11-06 18:04:48,531] Trial 19 finished with value: 82.32735192987839 and parameters: {'iterations': 313, 'learning_rate': 0.0034365622831736826, 'depth': 13, 'colsample_bylevel': 0.595487890731137, 'min_data_in_leaf': 49, 'l2_leaf_reg': 9, 'has-time': True, 'bagging_temperature': 0.9416609567541149, 'random_strength': 0.5363376338706992, 'border_count': 232, 'rsm': 0.33632058564568246, 'nan_mode': 'min'}. Best is trial 0 with value: 82.32735192987839.\n"
     ]
    },
    {
     "name": "stdout",
     "output_type": "stream",
     "text": [
      "999:\tlearn: 49.7064148\ttotal: 15.6s\tremaining: 0us\n",
      "Learning rate set to 0.070617\n",
      "0:\tlearn: 175.9819432\ttotal: 25.2ms\tremaining: 25.2s\n",
      "100:\tlearn: 77.9668221\ttotal: 1.55s\tremaining: 13.8s\n",
      "200:\tlearn: 71.2506532\ttotal: 3.09s\tremaining: 12.3s\n",
      "300:\tlearn: 66.7825069\ttotal: 4.45s\tremaining: 10.3s\n",
      "400:\tlearn: 63.2988012\ttotal: 5.58s\tremaining: 8.33s\n",
      "500:\tlearn: 60.2441076\ttotal: 7.15s\tremaining: 7.12s\n",
      "600:\tlearn: 57.6791169\ttotal: 8.76s\tremaining: 5.82s\n",
      "700:\tlearn: 55.3396992\ttotal: 10.2s\tremaining: 4.35s\n",
      "800:\tlearn: 53.1692953\ttotal: 11.8s\tremaining: 2.94s\n",
      "900:\tlearn: 51.3180744\ttotal: 13.9s\tremaining: 1.53s\n"
     ]
    },
    {
     "name": "stderr",
     "output_type": "stream",
     "text": [
      "[I 2023-11-06 18:05:04,886] Trial 20 finished with value: 82.32735192987839 and parameters: {'iterations': 997, 'learning_rate': 0.015346517653798231, 'depth': 5, 'colsample_bylevel': 0.4836688585588634, 'min_data_in_leaf': 11, 'l2_leaf_reg': 7, 'has-time': True, 'bagging_temperature': 0.6429297172142799, 'random_strength': 0.4014734017155274, 'border_count': 338, 'rsm': 0.4248147202393225, 'nan_mode': 'min'}. Best is trial 0 with value: 82.32735192987839.\n"
     ]
    },
    {
     "name": "stdout",
     "output_type": "stream",
     "text": [
      "999:\tlearn: 49.7064148\ttotal: 15.9s\tremaining: 0us\n",
      "Learning rate set to 0.070617\n",
      "0:\tlearn: 175.9819432\ttotal: 23.2ms\tremaining: 23.1s\n",
      "100:\tlearn: 77.9668221\ttotal: 1.62s\tremaining: 14.4s\n",
      "200:\tlearn: 71.2506532\ttotal: 2.99s\tremaining: 11.9s\n",
      "300:\tlearn: 66.7825069\ttotal: 4.72s\tremaining: 11s\n",
      "400:\tlearn: 63.2988012\ttotal: 6.42s\tremaining: 9.59s\n",
      "500:\tlearn: 60.2441076\ttotal: 8.04s\tremaining: 8s\n",
      "600:\tlearn: 57.6791169\ttotal: 9.92s\tremaining: 6.59s\n",
      "700:\tlearn: 55.3396992\ttotal: 11.6s\tremaining: 4.96s\n",
      "800:\tlearn: 53.1692953\ttotal: 12.9s\tremaining: 3.21s\n",
      "900:\tlearn: 51.3180744\ttotal: 14.8s\tremaining: 1.62s\n"
     ]
    },
    {
     "name": "stderr",
     "output_type": "stream",
     "text": [
      "[I 2023-11-06 18:05:21,375] Trial 21 finished with value: 82.32735192987839 and parameters: {'iterations': 2513, 'learning_rate': 0.008105872832137465, 'depth': 11, 'colsample_bylevel': 0.2453034688648416, 'min_data_in_leaf': 64, 'l2_leaf_reg': 10, 'has-time': False, 'bagging_temperature': 0.5554391763206452, 'random_strength': 0.5823982478848113, 'border_count': 439, 'rsm': 0.9832342609947508, 'nan_mode': 'min'}. Best is trial 0 with value: 82.32735192987839.\n"
     ]
    },
    {
     "name": "stdout",
     "output_type": "stream",
     "text": [
      "999:\tlearn: 49.7064148\ttotal: 16.1s\tremaining: 0us\n",
      "Learning rate set to 0.070617\n",
      "0:\tlearn: 175.9819432\ttotal: 24ms\tremaining: 23.9s\n",
      "100:\tlearn: 77.9668221\ttotal: 1.22s\tremaining: 10.9s\n",
      "200:\tlearn: 71.2506532\ttotal: 2.62s\tremaining: 10.4s\n",
      "300:\tlearn: 66.7825069\ttotal: 3.94s\tremaining: 9.15s\n",
      "400:\tlearn: 63.2988012\ttotal: 5.59s\tremaining: 8.36s\n",
      "500:\tlearn: 60.2441076\ttotal: 7.18s\tremaining: 7.15s\n",
      "600:\tlearn: 57.6791169\ttotal: 8.71s\tremaining: 5.78s\n",
      "700:\tlearn: 55.3396992\ttotal: 10.2s\tremaining: 4.36s\n",
      "800:\tlearn: 53.1692953\ttotal: 11.7s\tremaining: 2.91s\n",
      "900:\tlearn: 51.3180744\ttotal: 13.1s\tremaining: 1.44s\n"
     ]
    },
    {
     "name": "stderr",
     "output_type": "stream",
     "text": [
      "[I 2023-11-06 18:05:36,355] Trial 22 finished with value: 82.32735192987839 and parameters: {'iterations': 1747, 'learning_rate': 0.00870833792854616, 'depth': 10, 'colsample_bylevel': 0.2688427967866477, 'min_data_in_leaf': 87, 'l2_leaf_reg': 10, 'has-time': False, 'bagging_temperature': 0.5144370603955448, 'random_strength': 0.6242757976330439, 'border_count': 495, 'rsm': 0.837263639803373, 'nan_mode': 'min'}. Best is trial 0 with value: 82.32735192987839.\n"
     ]
    },
    {
     "name": "stdout",
     "output_type": "stream",
     "text": [
      "999:\tlearn: 49.7064148\ttotal: 14.6s\tremaining: 0us\n",
      "Learning rate set to 0.070617\n",
      "0:\tlearn: 175.9819432\ttotal: 47.3ms\tremaining: 47.3s\n",
      "100:\tlearn: 77.9668221\ttotal: 1.72s\tremaining: 15.3s\n",
      "200:\tlearn: 71.2506532\ttotal: 3.23s\tremaining: 12.9s\n",
      "300:\tlearn: 66.7825069\ttotal: 4.53s\tremaining: 10.5s\n",
      "400:\tlearn: 63.2988012\ttotal: 6.19s\tremaining: 9.25s\n",
      "500:\tlearn: 60.2441076\ttotal: 8s\tremaining: 7.97s\n",
      "600:\tlearn: 57.6791169\ttotal: 9.42s\tremaining: 6.25s\n",
      "700:\tlearn: 55.3396992\ttotal: 11.1s\tremaining: 4.75s\n",
      "800:\tlearn: 53.1692953\ttotal: 12.9s\tremaining: 3.21s\n",
      "900:\tlearn: 51.3180744\ttotal: 14.7s\tremaining: 1.61s\n"
     ]
    },
    {
     "name": "stderr",
     "output_type": "stream",
     "text": [
      "[I 2023-11-06 18:05:52,630] Trial 23 finished with value: 82.32735192987839 and parameters: {'iterations': 2266, 'learning_rate': 0.0062610605517904394, 'depth': 11, 'colsample_bylevel': 0.46391049756408226, 'min_data_in_leaf': 33, 'l2_leaf_reg': 9, 'has-time': False, 'bagging_temperature': 0.9224229460507481, 'random_strength': 0.7171144892630408, 'border_count': 402, 'rsm': 0.6928005869104645, 'nan_mode': 'min'}. Best is trial 0 with value: 82.32735192987839.\n"
     ]
    },
    {
     "name": "stdout",
     "output_type": "stream",
     "text": [
      "999:\tlearn: 49.7064148\ttotal: 15.9s\tremaining: 0us\n",
      "Learning rate set to 0.070617\n",
      "0:\tlearn: 175.9819432\ttotal: 10.8ms\tremaining: 10.8s\n",
      "100:\tlearn: 77.9668221\ttotal: 1.59s\tremaining: 14.2s\n",
      "200:\tlearn: 71.2506532\ttotal: 3.16s\tremaining: 12.6s\n",
      "300:\tlearn: 66.7825069\ttotal: 4.98s\tremaining: 11.6s\n",
      "400:\tlearn: 63.2988012\ttotal: 6.36s\tremaining: 9.5s\n",
      "500:\tlearn: 60.2441076\ttotal: 7.77s\tremaining: 7.74s\n",
      "600:\tlearn: 57.6791169\ttotal: 9.86s\tremaining: 6.54s\n",
      "700:\tlearn: 55.3396992\ttotal: 12s\tremaining: 5.12s\n",
      "800:\tlearn: 53.1692953\ttotal: 13.7s\tremaining: 3.41s\n",
      "900:\tlearn: 51.3180744\ttotal: 15.3s\tremaining: 1.68s\n"
     ]
    },
    {
     "name": "stderr",
     "output_type": "stream",
     "text": [
      "[I 2023-11-06 18:06:09,606] Trial 24 finished with value: 82.32735192987839 and parameters: {'iterations': 1774, 'learning_rate': 0.011440830342798448, 'depth': 9, 'colsample_bylevel': 0.3001680183792058, 'min_data_in_leaf': 70, 'l2_leaf_reg': 8, 'has-time': False, 'bagging_temperature': 0.7998666148651962, 'random_strength': 0.5798947995859437, 'border_count': 369, 'rsm': 0.5008660707585815, 'nan_mode': 'min'}. Best is trial 0 with value: 82.32735192987839.\n"
     ]
    },
    {
     "name": "stdout",
     "output_type": "stream",
     "text": [
      "999:\tlearn: 49.7064148\ttotal: 16.6s\tremaining: 0us\n",
      "Learning rate set to 0.070617\n",
      "0:\tlearn: 175.9819432\ttotal: 38.8ms\tremaining: 38.8s\n",
      "100:\tlearn: 77.9668221\ttotal: 1.41s\tremaining: 12.5s\n",
      "200:\tlearn: 71.2506532\ttotal: 2.9s\tremaining: 11.5s\n",
      "300:\tlearn: 66.7825069\ttotal: 4.4s\tremaining: 10.2s\n",
      "400:\tlearn: 63.2988012\ttotal: 6.33s\tremaining: 9.46s\n",
      "500:\tlearn: 60.2441076\ttotal: 7.83s\tremaining: 7.8s\n",
      "600:\tlearn: 57.6791169\ttotal: 9.6s\tremaining: 6.37s\n",
      "700:\tlearn: 55.3396992\ttotal: 11.2s\tremaining: 4.77s\n",
      "800:\tlearn: 53.1692953\ttotal: 12.6s\tremaining: 3.12s\n",
      "900:\tlearn: 51.3180744\ttotal: 14.1s\tremaining: 1.55s\n"
     ]
    },
    {
     "name": "stderr",
     "output_type": "stream",
     "text": [
      "[I 2023-11-06 18:06:25,517] Trial 25 finished with value: 82.32735192987839 and parameters: {'iterations': 2982, 'learning_rate': 0.004320973837959663, 'depth': 12, 'colsample_bylevel': 0.14860506915452076, 'min_data_in_leaf': 54, 'l2_leaf_reg': 9, 'has-time': False, 'bagging_temperature': 0.6839712451889584, 'random_strength': 0.6442445743741759, 'border_count': 430, 'rsm': 0.8585144424587499, 'nan_mode': 'min'}. Best is trial 0 with value: 82.32735192987839.\n"
     ]
    },
    {
     "name": "stdout",
     "output_type": "stream",
     "text": [
      "999:\tlearn: 49.7064148\ttotal: 15.5s\tremaining: 0us\n",
      "Learning rate set to 0.070617\n",
      "0:\tlearn: 175.9819432\ttotal: 14.6ms\tremaining: 14.6s\n",
      "100:\tlearn: 77.9668221\ttotal: 1.5s\tremaining: 13.3s\n",
      "200:\tlearn: 71.2506532\ttotal: 3.15s\tremaining: 12.5s\n",
      "300:\tlearn: 66.7825069\ttotal: 4.8s\tremaining: 11.2s\n",
      "400:\tlearn: 63.2988012\ttotal: 6.32s\tremaining: 9.45s\n",
      "500:\tlearn: 60.2441076\ttotal: 7.76s\tremaining: 7.73s\n",
      "600:\tlearn: 57.6791169\ttotal: 9.47s\tremaining: 6.29s\n",
      "700:\tlearn: 55.3396992\ttotal: 11s\tremaining: 4.68s\n",
      "800:\tlearn: 53.1692953\ttotal: 12.7s\tremaining: 3.17s\n",
      "900:\tlearn: 51.3180744\ttotal: 14.4s\tremaining: 1.58s\n"
     ]
    },
    {
     "name": "stderr",
     "output_type": "stream",
     "text": [
      "[I 2023-11-06 18:06:41,607] Trial 26 finished with value: 82.32735192987839 and parameters: {'iterations': 575, 'learning_rate': 0.007301647485850565, 'depth': 2, 'colsample_bylevel': 0.33179122104527337, 'min_data_in_leaf': 41, 'l2_leaf_reg': 5, 'has-time': False, 'bagging_temperature': 0.31881780430906864, 'random_strength': 0.5157836876891477, 'border_count': 310, 'rsm': 0.6271254607632879, 'nan_mode': 'max'}. Best is trial 0 with value: 82.32735192987839.\n"
     ]
    },
    {
     "name": "stdout",
     "output_type": "stream",
     "text": [
      "999:\tlearn: 49.7064148\ttotal: 15.7s\tremaining: 0us\n",
      "Learning rate set to 0.070617\n",
      "0:\tlearn: 175.9819432\ttotal: 21.3ms\tremaining: 21.2s\n",
      "100:\tlearn: 77.9668221\ttotal: 1.85s\tremaining: 16.4s\n",
      "200:\tlearn: 71.2506532\ttotal: 3.3s\tremaining: 13.1s\n",
      "300:\tlearn: 66.7825069\ttotal: 4.68s\tremaining: 10.9s\n",
      "400:\tlearn: 63.2988012\ttotal: 6.35s\tremaining: 9.48s\n",
      "500:\tlearn: 60.2441076\ttotal: 7.94s\tremaining: 7.91s\n",
      "600:\tlearn: 57.6791169\ttotal: 9.67s\tremaining: 6.42s\n",
      "700:\tlearn: 55.3396992\ttotal: 11.3s\tremaining: 4.8s\n",
      "800:\tlearn: 53.1692953\ttotal: 12.9s\tremaining: 3.2s\n",
      "900:\tlearn: 51.3180744\ttotal: 14.4s\tremaining: 1.58s\n"
     ]
    },
    {
     "name": "stderr",
     "output_type": "stream",
     "text": [
      "[I 2023-11-06 18:06:57,852] Trial 27 finished with value: 82.32735192987839 and parameters: {'iterations': 1430, 'learning_rate': 0.01626242986884157, 'depth': 8, 'colsample_bylevel': 0.20168885586109703, 'min_data_in_leaf': 84, 'l2_leaf_reg': 10, 'has-time': True, 'bagging_temperature': 0.5846746693346094, 'random_strength': 0.7392668212297142, 'border_count': 263, 'rsm': 0.795740902120356, 'nan_mode': 'min'}. Best is trial 0 with value: 82.32735192987839.\n"
     ]
    },
    {
     "name": "stdout",
     "output_type": "stream",
     "text": [
      "999:\tlearn: 49.7064148\ttotal: 15.9s\tremaining: 0us\n",
      "Learning rate set to 0.070617\n",
      "0:\tlearn: 175.9819432\ttotal: 9.67ms\tremaining: 9.66s\n",
      "100:\tlearn: 77.9668221\ttotal: 1.74s\tremaining: 15.5s\n",
      "200:\tlearn: 71.2506532\ttotal: 3.31s\tremaining: 13.2s\n",
      "300:\tlearn: 66.7825069\ttotal: 5.3s\tremaining: 12.3s\n",
      "400:\tlearn: 63.2988012\ttotal: 7.39s\tremaining: 11s\n",
      "500:\tlearn: 60.2441076\ttotal: 8.8s\tremaining: 8.77s\n",
      "600:\tlearn: 57.6791169\ttotal: 10.3s\tremaining: 6.84s\n",
      "700:\tlearn: 55.3396992\ttotal: 11.6s\tremaining: 4.95s\n",
      "800:\tlearn: 53.1692953\ttotal: 12.9s\tremaining: 3.2s\n",
      "900:\tlearn: 51.3180744\ttotal: 14.6s\tremaining: 1.6s\n"
     ]
    },
    {
     "name": "stderr",
     "output_type": "stream",
     "text": [
      "[I 2023-11-06 18:07:14,156] Trial 28 finished with value: 82.32735192987839 and parameters: {'iterations': 2632, 'learning_rate': 0.0038745743182961017, 'depth': 10, 'colsample_bylevel': 0.4396644254220644, 'min_data_in_leaf': 28, 'l2_leaf_reg': 6, 'has-time': False, 'bagging_temperature': 0.4883688983013038, 'random_strength': 0.6053537227521065, 'border_count': 384, 'rsm': 0.5255379903730782, 'nan_mode': 'min'}. Best is trial 0 with value: 82.32735192987839.\n"
     ]
    },
    {
     "name": "stdout",
     "output_type": "stream",
     "text": [
      "999:\tlearn: 49.7064148\ttotal: 16s\tremaining: 0us\n",
      "Learning rate set to 0.070617\n",
      "0:\tlearn: 175.9819432\ttotal: 51.3ms\tremaining: 51.2s\n",
      "100:\tlearn: 77.9668221\ttotal: 2.01s\tremaining: 17.9s\n",
      "200:\tlearn: 71.2506532\ttotal: 3.76s\tremaining: 15s\n",
      "300:\tlearn: 66.7825069\ttotal: 5.35s\tremaining: 12.4s\n",
      "400:\tlearn: 63.2988012\ttotal: 7s\tremaining: 10.5s\n",
      "500:\tlearn: 60.2441076\ttotal: 8.61s\tremaining: 8.58s\n",
      "600:\tlearn: 57.6791169\ttotal: 9.96s\tremaining: 6.61s\n",
      "700:\tlearn: 55.3396992\ttotal: 11.3s\tremaining: 4.82s\n",
      "800:\tlearn: 53.1692953\ttotal: 12.9s\tremaining: 3.2s\n",
      "900:\tlearn: 51.3180744\ttotal: 14.4s\tremaining: 1.59s\n"
     ]
    },
    {
     "name": "stderr",
     "output_type": "stream",
     "text": [
      "[I 2023-11-06 18:07:30,482] Trial 29 finished with value: 82.32735192987839 and parameters: {'iterations': 2059, 'learning_rate': 0.004843728056343263, 'depth': 8, 'colsample_bylevel': 0.33718808530338124, 'min_data_in_leaf': 10, 'l2_leaf_reg': 10, 'has-time': False, 'bagging_temperature': 0.7669886016653709, 'random_strength': 0.6759446306363786, 'border_count': 456, 'rsm': 0.4382979848417842, 'nan_mode': 'max'}. Best is trial 0 with value: 82.32735192987839.\n"
     ]
    },
    {
     "name": "stdout",
     "output_type": "stream",
     "text": [
      "999:\tlearn: 49.7064148\ttotal: 15.9s\tremaining: 0us\n",
      "Learning rate set to 0.070617\n",
      "0:\tlearn: 175.9819432\ttotal: 52.4ms\tremaining: 52.3s\n",
      "100:\tlearn: 77.9668221\ttotal: 1.91s\tremaining: 17s\n",
      "200:\tlearn: 71.2506532\ttotal: 3.42s\tremaining: 13.6s\n",
      "300:\tlearn: 66.7825069\ttotal: 5s\tremaining: 11.6s\n",
      "400:\tlearn: 63.2988012\ttotal: 6.47s\tremaining: 9.67s\n",
      "500:\tlearn: 60.2441076\ttotal: 7.88s\tremaining: 7.85s\n",
      "600:\tlearn: 57.6791169\ttotal: 9.53s\tremaining: 6.33s\n",
      "700:\tlearn: 55.3396992\ttotal: 10.9s\tremaining: 4.66s\n",
      "800:\tlearn: 53.1692953\ttotal: 12.3s\tremaining: 3.04s\n",
      "900:\tlearn: 51.3180744\ttotal: 13.9s\tremaining: 1.53s\n"
     ]
    },
    {
     "name": "stderr",
     "output_type": "stream",
     "text": [
      "[I 2023-11-06 18:07:46,291] Trial 30 finished with value: 82.32735192987839 and parameters: {'iterations': 2379, 'learning_rate': 0.002480202876738263, 'depth': 6, 'colsample_bylevel': 0.3658066191649319, 'min_data_in_leaf': 53, 'l2_leaf_reg': 7, 'has-time': True, 'bagging_temperature': 0.7159283347589321, 'random_strength': 0.6724178208123787, 'border_count': 353, 'rsm': 0.4690942881054929, 'nan_mode': 'min'}. Best is trial 0 with value: 82.32735192987839.\n"
     ]
    },
    {
     "name": "stdout",
     "output_type": "stream",
     "text": [
      "999:\tlearn: 49.7064148\ttotal: 15.4s\tremaining: 0us\n",
      "Learning rate set to 0.070617\n",
      "0:\tlearn: 175.9819432\ttotal: 12.5ms\tremaining: 12.5s\n",
      "100:\tlearn: 77.9668221\ttotal: 1.52s\tremaining: 13.5s\n",
      "200:\tlearn: 71.2506532\ttotal: 2.84s\tremaining: 11.3s\n",
      "300:\tlearn: 66.7825069\ttotal: 4.37s\tremaining: 10.1s\n",
      "400:\tlearn: 63.2988012\ttotal: 5.87s\tremaining: 8.77s\n",
      "500:\tlearn: 60.2441076\ttotal: 7.43s\tremaining: 7.4s\n",
      "600:\tlearn: 57.6791169\ttotal: 8.74s\tremaining: 5.8s\n",
      "700:\tlearn: 55.3396992\ttotal: 10.3s\tremaining: 4.41s\n",
      "800:\tlearn: 53.1692953\ttotal: 11.8s\tremaining: 2.93s\n",
      "900:\tlearn: 51.3180744\ttotal: 13.5s\tremaining: 1.48s\n"
     ]
    },
    {
     "name": "stderr",
     "output_type": "stream",
     "text": [
      "[I 2023-11-06 18:08:01,797] Trial 31 finished with value: 82.32735192987839 and parameters: {'iterations': 1853, 'learning_rate': 0.006245835718763508, 'depth': 1, 'colsample_bylevel': 0.4086690605744364, 'min_data_in_leaf': 100, 'l2_leaf_reg': 8, 'has-time': False, 'bagging_temperature': 0.8900900534798881, 'random_strength': 0.5674048917680925, 'border_count': 473, 'rsm': 0.38085000594025015, 'nan_mode': 'max'}. Best is trial 0 with value: 82.32735192987839.\n"
     ]
    },
    {
     "name": "stdout",
     "output_type": "stream",
     "text": [
      "999:\tlearn: 49.7064148\ttotal: 15.1s\tremaining: 0us\n",
      "Learning rate set to 0.070617\n",
      "0:\tlearn: 175.9819432\ttotal: 10.2ms\tremaining: 10.2s\n",
      "100:\tlearn: 77.9668221\ttotal: 1.87s\tremaining: 16.7s\n",
      "200:\tlearn: 71.2506532\ttotal: 3.47s\tremaining: 13.8s\n",
      "300:\tlearn: 66.7825069\ttotal: 4.96s\tremaining: 11.5s\n",
      "400:\tlearn: 63.2988012\ttotal: 6.37s\tremaining: 9.51s\n",
      "500:\tlearn: 60.2441076\ttotal: 7.67s\tremaining: 7.64s\n",
      "600:\tlearn: 57.6791169\ttotal: 9.11s\tremaining: 6.04s\n",
      "700:\tlearn: 55.3396992\ttotal: 10.5s\tremaining: 4.48s\n",
      "800:\tlearn: 53.1692953\ttotal: 12.1s\tremaining: 3.01s\n",
      "900:\tlearn: 51.3180744\ttotal: 13.8s\tremaining: 1.51s\n"
     ]
    },
    {
     "name": "stderr",
     "output_type": "stream",
     "text": [
      "[I 2023-11-06 18:08:17,479] Trial 32 finished with value: 82.32735192987839 and parameters: {'iterations': 1459, 'learning_rate': 0.004669744291771954, 'depth': 3, 'colsample_bylevel': 0.31190353561954715, 'min_data_in_leaf': 91, 'l2_leaf_reg': 10, 'has-time': False, 'bagging_temperature': 0.8471649213350544, 'random_strength': 0.6282812401557802, 'border_count': 437, 'rsm': 0.49660049552457725, 'nan_mode': 'max'}. Best is trial 0 with value: 82.32735192987839.\n"
     ]
    },
    {
     "name": "stdout",
     "output_type": "stream",
     "text": [
      "999:\tlearn: 49.7064148\ttotal: 15.3s\tremaining: 0us\n",
      "Learning rate set to 0.070617\n",
      "0:\tlearn: 175.9819432\ttotal: 60.5ms\tremaining: 1m\n",
      "100:\tlearn: 77.9668221\ttotal: 2.38s\tremaining: 21.2s\n",
      "200:\tlearn: 71.2506532\ttotal: 4.1s\tremaining: 16.3s\n",
      "300:\tlearn: 66.7825069\ttotal: 5.55s\tremaining: 12.9s\n",
      "400:\tlearn: 63.2988012\ttotal: 6.93s\tremaining: 10.4s\n",
      "500:\tlearn: 60.2441076\ttotal: 8.45s\tremaining: 8.42s\n",
      "600:\tlearn: 57.6791169\ttotal: 10.1s\tremaining: 6.71s\n",
      "700:\tlearn: 55.3396992\ttotal: 11.6s\tremaining: 4.96s\n",
      "800:\tlearn: 53.1692953\ttotal: 12.8s\tremaining: 3.19s\n",
      "900:\tlearn: 51.3180744\ttotal: 14.4s\tremaining: 1.58s\n"
     ]
    },
    {
     "name": "stderr",
     "output_type": "stream",
     "text": [
      "[I 2023-11-06 18:08:33,651] Trial 33 finished with value: 82.32735192987839 and parameters: {'iterations': 2238, 'learning_rate': 0.002424472042453416, 'depth': 6, 'colsample_bylevel': 0.3753778689348041, 'min_data_in_leaf': 85, 'l2_leaf_reg': 9, 'has-time': False, 'bagging_temperature': 0.6970624764864398, 'random_strength': 0.5041962862560081, 'border_count': 413, 'rsm': 0.12753819080411213, 'nan_mode': 'max'}. Best is trial 0 with value: 82.32735192987839.\n"
     ]
    },
    {
     "name": "stdout",
     "output_type": "stream",
     "text": [
      "999:\tlearn: 49.7064148\ttotal: 15.8s\tremaining: 0us\n",
      "Learning rate set to 0.070617\n",
      "0:\tlearn: 175.9819432\ttotal: 31.7ms\tremaining: 31.7s\n",
      "100:\tlearn: 77.9668221\ttotal: 1.8s\tremaining: 16s\n",
      "200:\tlearn: 71.2506532\ttotal: 3.16s\tremaining: 12.5s\n",
      "300:\tlearn: 66.7825069\ttotal: 4.66s\tremaining: 10.8s\n",
      "400:\tlearn: 63.2988012\ttotal: 6.33s\tremaining: 9.45s\n",
      "500:\tlearn: 60.2441076\ttotal: 8.06s\tremaining: 8.03s\n",
      "600:\tlearn: 57.6791169\ttotal: 9.51s\tremaining: 6.31s\n",
      "700:\tlearn: 55.3396992\ttotal: 11s\tremaining: 4.68s\n",
      "800:\tlearn: 53.1692953\ttotal: 12.5s\tremaining: 3.12s\n",
      "900:\tlearn: 51.3180744\ttotal: 13.9s\tremaining: 1.53s\n"
     ]
    },
    {
     "name": "stderr",
     "output_type": "stream",
     "text": [
      "[I 2023-11-06 18:08:49,329] Trial 34 finished with value: 82.32735192987839 and parameters: {'iterations': 1619, 'learning_rate': 0.005363985625634528, 'depth': 12, 'colsample_bylevel': 0.4731334968639966, 'min_data_in_leaf': 68, 'l2_leaf_reg': 10, 'has-time': False, 'bagging_temperature': 0.7706666469860529, 'random_strength': 0.4587988720295183, 'border_count': 496, 'rsm': 0.2871499617868204, 'nan_mode': 'max'}. Best is trial 0 with value: 82.32735192987839.\n"
     ]
    },
    {
     "name": "stdout",
     "output_type": "stream",
     "text": [
      "999:\tlearn: 49.7064148\ttotal: 15.3s\tremaining: 0us\n",
      "Learning rate set to 0.070617\n",
      "0:\tlearn: 175.9819432\ttotal: 49.2ms\tremaining: 49.2s\n",
      "100:\tlearn: 77.9668221\ttotal: 1.63s\tremaining: 14.5s\n",
      "200:\tlearn: 71.2506532\ttotal: 3.08s\tremaining: 12.3s\n",
      "300:\tlearn: 66.7825069\ttotal: 4.42s\tremaining: 10.3s\n",
      "400:\tlearn: 63.2988012\ttotal: 6.19s\tremaining: 9.25s\n",
      "500:\tlearn: 60.2441076\ttotal: 7.63s\tremaining: 7.59s\n",
      "600:\tlearn: 57.6791169\ttotal: 9.2s\tremaining: 6.11s\n",
      "700:\tlearn: 55.3396992\ttotal: 10.8s\tremaining: 4.61s\n",
      "800:\tlearn: 53.1692953\ttotal: 12.5s\tremaining: 3.09s\n",
      "900:\tlearn: 51.3180744\ttotal: 14.7s\tremaining: 1.62s\n"
     ]
    },
    {
     "name": "stderr",
     "output_type": "stream",
     "text": [
      "[I 2023-11-06 18:09:06,023] Trial 35 finished with value: 82.32735192987839 and parameters: {'iterations': 1329, 'learning_rate': 0.009774510673993342, 'depth': 2, 'colsample_bylevel': 0.41747575931342806, 'min_data_in_leaf': 91, 'l2_leaf_reg': 8, 'has-time': False, 'bagging_temperature': 0.7303433095225814, 'random_strength': 0.6715182574151983, 'border_count': 456, 'rsm': 0.4636996816677608, 'nan_mode': 'max'}. Best is trial 0 with value: 82.32735192987839.\n"
     ]
    },
    {
     "name": "stdout",
     "output_type": "stream",
     "text": [
      "999:\tlearn: 49.7064148\ttotal: 16.3s\tremaining: 0us\n",
      "Learning rate set to 0.070617\n",
      "0:\tlearn: 175.9819432\ttotal: 65.8ms\tremaining: 1m 5s\n",
      "100:\tlearn: 77.9668221\ttotal: 1.77s\tremaining: 15.7s\n",
      "200:\tlearn: 71.2506532\ttotal: 3.47s\tremaining: 13.8s\n",
      "300:\tlearn: 66.7825069\ttotal: 5.12s\tremaining: 11.9s\n",
      "400:\tlearn: 63.2988012\ttotal: 6.9s\tremaining: 10.3s\n",
      "500:\tlearn: 60.2441076\ttotal: 8.58s\tremaining: 8.55s\n",
      "600:\tlearn: 57.6791169\ttotal: 9.9s\tremaining: 6.57s\n",
      "700:\tlearn: 55.3396992\ttotal: 11.5s\tremaining: 4.92s\n",
      "800:\tlearn: 53.1692953\ttotal: 13.1s\tremaining: 3.26s\n",
      "900:\tlearn: 51.3180744\ttotal: 15.1s\tremaining: 1.66s\n"
     ]
    },
    {
     "name": "stderr",
     "output_type": "stream",
     "text": [
      "[I 2023-11-06 18:09:22,612] Trial 36 finished with value: 82.32735192987839 and parameters: {'iterations': 1092, 'learning_rate': 0.003849589912211273, 'depth': 10, 'colsample_bylevel': 0.3650246708552655, 'min_data_in_leaf': 57, 'l2_leaf_reg': 4, 'has-time': True, 'bagging_temperature': 0.8142143410315451, 'random_strength': 0.3220111211913296, 'border_count': 398, 'rsm': 0.5872931852910552, 'nan_mode': 'min'}. Best is trial 0 with value: 82.32735192987839.\n"
     ]
    },
    {
     "name": "stdout",
     "output_type": "stream",
     "text": [
      "999:\tlearn: 49.7064148\ttotal: 16.2s\tremaining: 0us\n",
      "Learning rate set to 0.070617\n",
      "0:\tlearn: 175.9819432\ttotal: 8.85ms\tremaining: 8.84s\n",
      "100:\tlearn: 77.9668221\ttotal: 1.55s\tremaining: 13.8s\n",
      "200:\tlearn: 71.2506532\ttotal: 2.95s\tremaining: 11.7s\n",
      "300:\tlearn: 66.7825069\ttotal: 4.3s\tremaining: 9.99s\n",
      "400:\tlearn: 63.2988012\ttotal: 5.78s\tremaining: 8.63s\n",
      "500:\tlearn: 60.2441076\ttotal: 7.41s\tremaining: 7.38s\n",
      "600:\tlearn: 57.6791169\ttotal: 9.07s\tremaining: 6.02s\n",
      "700:\tlearn: 55.3396992\ttotal: 10.6s\tremaining: 4.5s\n",
      "800:\tlearn: 53.1692953\ttotal: 11.9s\tremaining: 2.96s\n",
      "900:\tlearn: 51.3180744\ttotal: 13.5s\tremaining: 1.48s\n"
     ]
    },
    {
     "name": "stderr",
     "output_type": "stream",
     "text": [
      "[I 2023-11-06 18:09:37,860] Trial 37 finished with value: 82.32735192987839 and parameters: {'iterations': 2792, 'learning_rate': 0.006828728828325089, 'depth': 5, 'colsample_bylevel': 0.897637096737163, 'min_data_in_leaf': 44, 'l2_leaf_reg': 9, 'has-time': False, 'bagging_temperature': 0.6646087689485007, 'random_strength': 0.5945677446146886, 'border_count': 299, 'rsm': 0.41260739297552246, 'nan_mode': 'min'}. Best is trial 0 with value: 82.32735192987839.\n"
     ]
    },
    {
     "name": "stdout",
     "output_type": "stream",
     "text": [
      "999:\tlearn: 49.7064148\ttotal: 14.8s\tremaining: 0us\n",
      "Learning rate set to 0.070617\n",
      "0:\tlearn: 175.9819432\ttotal: 42.2ms\tremaining: 42.1s\n",
      "100:\tlearn: 77.9668221\ttotal: 1.49s\tremaining: 13.3s\n",
      "200:\tlearn: 71.2506532\ttotal: 3.09s\tremaining: 12.3s\n",
      "300:\tlearn: 66.7825069\ttotal: 4.74s\tremaining: 11s\n",
      "400:\tlearn: 63.2988012\ttotal: 6.33s\tremaining: 9.45s\n",
      "500:\tlearn: 60.2441076\ttotal: 7.96s\tremaining: 7.93s\n",
      "600:\tlearn: 57.6791169\ttotal: 9.65s\tremaining: 6.41s\n",
      "700:\tlearn: 55.3396992\ttotal: 11.3s\tremaining: 4.81s\n",
      "800:\tlearn: 53.1692953\ttotal: 12.8s\tremaining: 3.19s\n",
      "900:\tlearn: 51.3180744\ttotal: 14.2s\tremaining: 1.56s\n"
     ]
    },
    {
     "name": "stderr",
     "output_type": "stream",
     "text": [
      "[I 2023-11-06 18:09:53,849] Trial 38 finished with value: 82.32735192987839 and parameters: {'iterations': 2110, 'learning_rate': 0.023067944198842828, 'depth': 4, 'colsample_bylevel': 0.2850058344787422, 'min_data_in_leaf': 93, 'l2_leaf_reg': 10, 'has-time': True, 'bagging_temperature': 0.3858538134658288, 'random_strength': 0.7750119663164795, 'border_count': 427, 'rsm': 0.3393236095899577, 'nan_mode': 'max'}. Best is trial 0 with value: 82.32735192987839.\n"
     ]
    },
    {
     "name": "stdout",
     "output_type": "stream",
     "text": [
      "999:\tlearn: 49.7064148\ttotal: 15.6s\tremaining: 0us\n",
      "Learning rate set to 0.070617\n",
      "0:\tlearn: 175.9819432\ttotal: 57.7ms\tremaining: 57.6s\n",
      "100:\tlearn: 77.9668221\ttotal: 1.64s\tremaining: 14.6s\n",
      "200:\tlearn: 71.2506532\ttotal: 3.17s\tremaining: 12.6s\n",
      "300:\tlearn: 66.7825069\ttotal: 4.7s\tremaining: 10.9s\n",
      "400:\tlearn: 63.2988012\ttotal: 6s\tremaining: 8.96s\n",
      "500:\tlearn: 60.2441076\ttotal: 7.63s\tremaining: 7.6s\n",
      "600:\tlearn: 57.6791169\ttotal: 9.8s\tremaining: 6.5s\n",
      "700:\tlearn: 55.3396992\ttotal: 11.5s\tremaining: 4.89s\n",
      "800:\tlearn: 53.1692953\ttotal: 12.9s\tremaining: 3.21s\n",
      "900:\tlearn: 51.3180744\ttotal: 14.2s\tremaining: 1.56s\n"
     ]
    },
    {
     "name": "stderr",
     "output_type": "stream",
     "text": [
      "[I 2023-11-06 18:10:10,122] Trial 39 finished with value: 82.32735192987839 and parameters: {'iterations': 2496, 'learning_rate': 0.0018140132428830379, 'depth': 12, 'colsample_bylevel': 0.055109365882245964, 'min_data_in_leaf': 97, 'l2_leaf_reg': 2, 'has-time': False, 'bagging_temperature': 0.955584852174976, 'random_strength': 0.6496164236174902, 'border_count': 465, 'rsm': 0.9977947267682274, 'nan_mode': 'min'}. Best is trial 0 with value: 82.32735192987839.\n"
     ]
    },
    {
     "name": "stdout",
     "output_type": "stream",
     "text": [
      "999:\tlearn: 49.7064148\ttotal: 15.8s\tremaining: 0us\n",
      "Learning rate set to 0.070617\n",
      "0:\tlearn: 175.9819432\ttotal: 21.8ms\tremaining: 21.8s\n",
      "100:\tlearn: 77.9668221\ttotal: 1.82s\tremaining: 16.2s\n",
      "200:\tlearn: 71.2506532\ttotal: 3.53s\tremaining: 14s\n",
      "300:\tlearn: 66.7825069\ttotal: 5.25s\tremaining: 12.2s\n",
      "400:\tlearn: 63.2988012\ttotal: 7s\tremaining: 10.5s\n",
      "500:\tlearn: 60.2441076\ttotal: 8.7s\tremaining: 8.66s\n",
      "600:\tlearn: 57.6791169\ttotal: 10.5s\tremaining: 6.95s\n",
      "700:\tlearn: 55.3396992\ttotal: 12.6s\tremaining: 5.38s\n",
      "800:\tlearn: 53.1692953\ttotal: 14.5s\tremaining: 3.6s\n",
      "900:\tlearn: 51.3180744\ttotal: 15.8s\tremaining: 1.74s\n"
     ]
    },
    {
     "name": "stderr",
     "output_type": "stream",
     "text": [
      "[I 2023-11-06 18:10:27,850] Trial 40 finished with value: 82.32735192987839 and parameters: {'iterations': 1910, 'learning_rate': 0.007865647164468827, 'depth': 9, 'colsample_bylevel': 0.9822474542181954, 'min_data_in_leaf': 72, 'l2_leaf_reg': 8, 'has-time': True, 'bagging_temperature': 0.7436226844477472, 'random_strength': 0.7036389436330202, 'border_count': 98, 'rsm': 0.46254909060169525, 'nan_mode': 'min'}. Best is trial 0 with value: 82.32735192987839.\n"
     ]
    },
    {
     "name": "stdout",
     "output_type": "stream",
     "text": [
      "999:\tlearn: 49.7064148\ttotal: 17.3s\tremaining: 0us\n",
      "Learning rate set to 0.070617\n",
      "0:\tlearn: 175.9819432\ttotal: 32.2ms\tremaining: 32.2s\n",
      "100:\tlearn: 77.9668221\ttotal: 2.01s\tremaining: 17.9s\n",
      "200:\tlearn: 71.2506532\ttotal: 3.48s\tremaining: 13.8s\n",
      "300:\tlearn: 66.7825069\ttotal: 5.25s\tremaining: 12.2s\n",
      "400:\tlearn: 63.2988012\ttotal: 6.6s\tremaining: 9.86s\n",
      "500:\tlearn: 60.2441076\ttotal: 8.26s\tremaining: 8.22s\n",
      "600:\tlearn: 57.6791169\ttotal: 9.72s\tremaining: 6.46s\n",
      "700:\tlearn: 55.3396992\ttotal: 11.3s\tremaining: 4.84s\n",
      "800:\tlearn: 53.1692953\ttotal: 12.6s\tremaining: 3.14s\n",
      "900:\tlearn: 51.3180744\ttotal: 14.3s\tremaining: 1.57s\n"
     ]
    },
    {
     "name": "stderr",
     "output_type": "stream",
     "text": [
      "[I 2023-11-06 18:10:44,144] Trial 41 finished with value: 82.32735192987839 and parameters: {'iterations': 1493, 'learning_rate': 0.0029189094674901077, 'depth': 1, 'colsample_bylevel': 0.41814260110900353, 'min_data_in_leaf': 64, 'l2_leaf_reg': 7, 'has-time': False, 'bagging_temperature': 0.9158005971728398, 'random_strength': 0.3091385431913693, 'border_count': 217, 'rsm': 0.0055535357916167705, 'nan_mode': 'min'}. Best is trial 0 with value: 82.32735192987839.\n"
     ]
    },
    {
     "name": "stdout",
     "output_type": "stream",
     "text": [
      "999:\tlearn: 49.7064148\ttotal: 15.9s\tremaining: 0us\n",
      "Learning rate set to 0.070617\n",
      "0:\tlearn: 175.9819432\ttotal: 27.8ms\tremaining: 27.8s\n",
      "100:\tlearn: 77.9668221\ttotal: 1.51s\tremaining: 13.5s\n",
      "200:\tlearn: 71.2506532\ttotal: 2.9s\tremaining: 11.5s\n",
      "300:\tlearn: 66.7825069\ttotal: 4.41s\tremaining: 10.2s\n",
      "400:\tlearn: 63.2988012\ttotal: 5.95s\tremaining: 8.89s\n",
      "500:\tlearn: 60.2441076\ttotal: 7.36s\tremaining: 7.33s\n",
      "600:\tlearn: 57.6791169\ttotal: 9.13s\tremaining: 6.06s\n",
      "700:\tlearn: 55.3396992\ttotal: 10.6s\tremaining: 4.52s\n",
      "800:\tlearn: 53.1692953\ttotal: 12.3s\tremaining: 3.04s\n",
      "900:\tlearn: 51.3180744\ttotal: 13.6s\tremaining: 1.49s\n"
     ]
    },
    {
     "name": "stderr",
     "output_type": "stream",
     "text": [
      "[I 2023-11-06 18:10:59,663] Trial 42 finished with value: 82.32735192987839 and parameters: {'iterations': 1292, 'learning_rate': 0.004975977398036781, 'depth': 2, 'colsample_bylevel': 0.5021102753994182, 'min_data_in_leaf': 14, 'l2_leaf_reg': 6, 'has-time': False, 'bagging_temperature': 0.8978103483433412, 'random_strength': 0.5088125298219934, 'border_count': 192, 'rsm': 0.10990447490753327, 'nan_mode': 'min'}. Best is trial 0 with value: 82.32735192987839.\n"
     ]
    },
    {
     "name": "stdout",
     "output_type": "stream",
     "text": [
      "999:\tlearn: 49.7064148\ttotal: 15.1s\tremaining: 0us\n",
      "Learning rate set to 0.070617\n",
      "0:\tlearn: 175.9819432\ttotal: 20.1ms\tremaining: 20s\n",
      "100:\tlearn: 77.9668221\ttotal: 1.38s\tremaining: 12.3s\n",
      "200:\tlearn: 71.2506532\ttotal: 3.54s\tremaining: 14.1s\n",
      "300:\tlearn: 66.7825069\ttotal: 5.58s\tremaining: 12.9s\n",
      "400:\tlearn: 63.2988012\ttotal: 6.93s\tremaining: 10.3s\n",
      "500:\tlearn: 60.2441076\ttotal: 8.69s\tremaining: 8.65s\n",
      "600:\tlearn: 57.6791169\ttotal: 10.2s\tremaining: 6.75s\n",
      "700:\tlearn: 55.3396992\ttotal: 11.8s\tremaining: 5.02s\n",
      "800:\tlearn: 53.1692953\ttotal: 13.5s\tremaining: 3.35s\n",
      "900:\tlearn: 51.3180744\ttotal: 15.1s\tremaining: 1.66s\n"
     ]
    },
    {
     "name": "stderr",
     "output_type": "stream",
     "text": [
      "[I 2023-11-06 18:11:16,893] Trial 43 finished with value: 82.32735192987839 and parameters: {'iterations': 1742, 'learning_rate': 0.012465980999019933, 'depth': 1, 'colsample_bylevel': 0.3360536562633594, 'min_data_in_leaf': 47, 'l2_leaf_reg': 8, 'has-time': False, 'bagging_temperature': 0.9647737139284023, 'random_strength': 0.4352716471471165, 'border_count': 151, 'rsm': 0.2880807915985114, 'nan_mode': 'min'}. Best is trial 0 with value: 82.32735192987839.\n"
     ]
    },
    {
     "name": "stdout",
     "output_type": "stream",
     "text": [
      "999:\tlearn: 49.7064148\ttotal: 16.8s\tremaining: 0us\n",
      "Learning rate set to 0.070617\n",
      "0:\tlearn: 175.9819432\ttotal: 15.4ms\tremaining: 15.3s\n",
      "100:\tlearn: 77.9668221\ttotal: 1.58s\tremaining: 14s\n",
      "200:\tlearn: 71.2506532\ttotal: 3.08s\tremaining: 12.2s\n",
      "300:\tlearn: 66.7825069\ttotal: 4.22s\tremaining: 9.8s\n",
      "400:\tlearn: 63.2988012\ttotal: 4.95s\tremaining: 7.4s\n",
      "500:\tlearn: 60.2441076\ttotal: 5.81s\tremaining: 5.78s\n",
      "600:\tlearn: 57.6791169\ttotal: 6.85s\tremaining: 4.55s\n",
      "700:\tlearn: 55.3396992\ttotal: 7.75s\tremaining: 3.3s\n",
      "800:\tlearn: 53.1692953\ttotal: 8.5s\tremaining: 2.11s\n",
      "900:\tlearn: 51.3180744\ttotal: 9.26s\tremaining: 1.02s\n"
     ]
    },
    {
     "name": "stderr",
     "output_type": "stream",
     "text": [
      "[I 2023-11-06 18:11:27,331] Trial 44 finished with value: 82.32735192987839 and parameters: {'iterations': 551, 'learning_rate': 0.00171726162389151, 'depth': 2, 'colsample_bylevel': 0.5732692087135517, 'min_data_in_leaf': 81, 'l2_leaf_reg': 9, 'has-time': True, 'bagging_temperature': 0.8700871860406437, 'random_strength': 0.4782214056277818, 'border_count': 273, 'rsm': 0.05181388606512943, 'nan_mode': 'min'}. Best is trial 0 with value: 82.32735192987839.\n"
     ]
    },
    {
     "name": "stdout",
     "output_type": "stream",
     "text": [
      "999:\tlearn: 49.7064148\ttotal: 10.1s\tremaining: 0us\n",
      "Learning rate set to 0.070617\n",
      "0:\tlearn: 175.9819432\ttotal: 9.01ms\tremaining: 9s\n",
      "100:\tlearn: 77.9668221\ttotal: 894ms\tremaining: 7.96s\n",
      "200:\tlearn: 71.2506532\ttotal: 1.71s\tremaining: 6.81s\n",
      "300:\tlearn: 66.7825069\ttotal: 2.58s\tremaining: 6s\n",
      "400:\tlearn: 63.2988012\ttotal: 3.33s\tremaining: 4.98s\n",
      "500:\tlearn: 60.2441076\ttotal: 4.16s\tremaining: 4.14s\n",
      "600:\tlearn: 57.6791169\ttotal: 4.97s\tremaining: 3.3s\n",
      "700:\tlearn: 55.3396992\ttotal: 5.81s\tremaining: 2.48s\n",
      "800:\tlearn: 53.1692953\ttotal: 6.59s\tremaining: 1.64s\n",
      "900:\tlearn: 51.3180744\ttotal: 7.41s\tremaining: 814ms\n"
     ]
    },
    {
     "name": "stderr",
     "output_type": "stream",
     "text": [
      "[I 2023-11-06 18:11:35,861] Trial 45 finished with value: 82.32735192987839 and parameters: {'iterations': 1111, 'learning_rate': 0.0038140102340011982, 'depth': 4, 'colsample_bylevel': 0.3944362259300798, 'min_data_in_leaf': 1, 'l2_leaf_reg': 7, 'has-time': False, 'bagging_temperature': 0.9944036142328845, 'random_strength': 0.6086491929052328, 'border_count': 356, 'rsm': 0.24018910495594298, 'nan_mode': 'min'}. Best is trial 0 with value: 82.32735192987839.\n"
     ]
    },
    {
     "name": "stdout",
     "output_type": "stream",
     "text": [
      "999:\tlearn: 49.7064148\ttotal: 8.23s\tremaining: 0us\n",
      "Learning rate set to 0.070617\n",
      "0:\tlearn: 175.9819432\ttotal: 6.71ms\tremaining: 6.7s\n",
      "100:\tlearn: 77.9668221\ttotal: 838ms\tremaining: 7.46s\n",
      "200:\tlearn: 71.2506532\ttotal: 1.65s\tremaining: 6.57s\n",
      "300:\tlearn: 66.7825069\ttotal: 2.43s\tremaining: 5.63s\n",
      "400:\tlearn: 63.2988012\ttotal: 3.15s\tremaining: 4.7s\n",
      "500:\tlearn: 60.2441076\ttotal: 3.85s\tremaining: 3.83s\n",
      "600:\tlearn: 57.6791169\ttotal: 4.69s\tremaining: 3.11s\n",
      "700:\tlearn: 55.3396992\ttotal: 5.46s\tremaining: 2.33s\n",
      "800:\tlearn: 53.1692953\ttotal: 6.29s\tremaining: 1.56s\n",
      "900:\tlearn: 51.3180744\ttotal: 7.1s\tremaining: 780ms\n"
     ]
    },
    {
     "name": "stderr",
     "output_type": "stream",
     "text": [
      "[I 2023-11-06 18:11:44,048] Trial 46 finished with value: 82.32735192987839 and parameters: {'iterations': 1582, 'learning_rate': 0.005423770786874717, 'depth': 6, 'colsample_bylevel': 0.26537063324877663, 'min_data_in_leaf': 27, 'l2_leaf_reg': 9, 'has-time': True, 'bagging_temperature': 0.8538929100371377, 'random_strength': 0.5498969638159803, 'border_count': 238, 'rsm': 0.38483129763588414, 'nan_mode': 'max'}. Best is trial 0 with value: 82.32735192987839.\n"
     ]
    },
    {
     "name": "stdout",
     "output_type": "stream",
     "text": [
      "999:\tlearn: 49.7064148\ttotal: 7.87s\tremaining: 0us\n",
      "Learning rate set to 0.070617\n",
      "0:\tlearn: 175.9819432\ttotal: 9.42ms\tremaining: 9.41s\n",
      "100:\tlearn: 77.9668221\ttotal: 881ms\tremaining: 7.84s\n",
      "200:\tlearn: 71.2506532\ttotal: 1.67s\tremaining: 6.63s\n",
      "300:\tlearn: 66.7825069\ttotal: 2.49s\tremaining: 5.77s\n",
      "400:\tlearn: 63.2988012\ttotal: 3.44s\tremaining: 5.14s\n",
      "500:\tlearn: 60.2441076\ttotal: 4.15s\tremaining: 4.13s\n",
      "600:\tlearn: 57.6791169\ttotal: 5.04s\tremaining: 3.35s\n",
      "700:\tlearn: 55.3396992\ttotal: 5.88s\tremaining: 2.51s\n",
      "800:\tlearn: 53.1692953\ttotal: 6.6s\tremaining: 1.64s\n",
      "900:\tlearn: 51.3180744\ttotal: 7.46s\tremaining: 819ms\n"
     ]
    },
    {
     "name": "stderr",
     "output_type": "stream",
     "text": [
      "[I 2023-11-06 18:11:52,611] Trial 47 finished with value: 82.32735192987839 and parameters: {'iterations': 2133, 'learning_rate': 0.009763419137113242, 'depth': 7, 'colsample_bylevel': 0.6058945993682741, 'min_data_in_leaf': 40, 'l2_leaf_reg': 6, 'has-time': True, 'bagging_temperature': 0.9051820304791435, 'random_strength': 0.3526367381766566, 'border_count': 164, 'rsm': 0.32140833871232266, 'nan_mode': 'min'}. Best is trial 0 with value: 82.32735192987839.\n"
     ]
    },
    {
     "name": "stdout",
     "output_type": "stream",
     "text": [
      "999:\tlearn: 49.7064148\ttotal: 8.25s\tremaining: 0us\n",
      "Learning rate set to 0.070617\n",
      "0:\tlearn: 175.9819432\ttotal: 5.08ms\tremaining: 5.07s\n",
      "100:\tlearn: 77.9668221\ttotal: 741ms\tremaining: 6.6s\n",
      "200:\tlearn: 71.2506532\ttotal: 1.54s\tremaining: 6.12s\n",
      "300:\tlearn: 66.7825069\ttotal: 2.3s\tremaining: 5.35s\n",
      "400:\tlearn: 63.2988012\ttotal: 3.05s\tremaining: 4.56s\n",
      "500:\tlearn: 60.2441076\ttotal: 3.92s\tremaining: 3.91s\n",
      "600:\tlearn: 57.6791169\ttotal: 4.69s\tremaining: 3.11s\n",
      "700:\tlearn: 55.3396992\ttotal: 5.63s\tremaining: 2.4s\n",
      "800:\tlearn: 53.1692953\ttotal: 6.47s\tremaining: 1.61s\n",
      "900:\tlearn: 51.3180744\ttotal: 7.34s\tremaining: 807ms\n"
     ]
    },
    {
     "name": "stderr",
     "output_type": "stream",
     "text": [
      "[I 2023-11-06 18:12:00,965] Trial 48 finished with value: 82.32735192987839 and parameters: {'iterations': 738, 'learning_rate': 0.033286172040362445, 'depth': 3, 'colsample_bylevel': 0.4591198713392877, 'min_data_in_leaf': 6, 'l2_leaf_reg': 10, 'has-time': False, 'bagging_temperature': 0.9536227020206811, 'random_strength': 0.4274512603117419, 'border_count': 40, 'rsm': 0.18614594749760185, 'nan_mode': 'min'}. Best is trial 0 with value: 82.32735192987839.\n"
     ]
    },
    {
     "name": "stdout",
     "output_type": "stream",
     "text": [
      "999:\tlearn: 49.7064148\ttotal: 8.07s\tremaining: 0us\n",
      "Learning rate set to 0.070617\n",
      "0:\tlearn: 175.9819432\ttotal: 6.88ms\tremaining: 6.88s\n",
      "100:\tlearn: 77.9668221\ttotal: 778ms\tremaining: 6.93s\n",
      "200:\tlearn: 71.2506532\ttotal: 1.82s\tremaining: 7.25s\n",
      "300:\tlearn: 66.7825069\ttotal: 2.85s\tremaining: 6.63s\n",
      "400:\tlearn: 63.2988012\ttotal: 3.85s\tremaining: 5.75s\n",
      "500:\tlearn: 60.2441076\ttotal: 4.75s\tremaining: 4.73s\n",
      "600:\tlearn: 57.6791169\ttotal: 5.23s\tremaining: 3.47s\n",
      "700:\tlearn: 55.3396992\ttotal: 5.71s\tremaining: 2.43s\n",
      "800:\tlearn: 53.1692953\ttotal: 6.19s\tremaining: 1.54s\n",
      "900:\tlearn: 51.3180744\ttotal: 6.68s\tremaining: 735ms\n"
     ]
    },
    {
     "name": "stderr",
     "output_type": "stream",
     "text": [
      "[I 2023-11-06 18:12:08,407] Trial 49 finished with value: 82.32735192987839 and parameters: {'iterations': 1932, 'learning_rate': 0.003023043218986509, 'depth': 11, 'colsample_bylevel': 0.9389296163162865, 'min_data_in_leaf': 19, 'l2_leaf_reg': 8, 'has-time': True, 'bagging_temperature': 0.7818160599814059, 'random_strength': 0.3926356214675543, 'border_count': 96, 'rsm': 0.3693762858574163, 'nan_mode': 'min'}. Best is trial 0 with value: 82.32735192987839.\n"
     ]
    },
    {
     "name": "stdout",
     "output_type": "stream",
     "text": [
      "999:\tlearn: 49.7064148\ttotal: 7.16s\tremaining: 0us\n"
     ]
    }
   ],
   "source": [
    "#For location A\n",
    "def objective(trial, X_train, y_train):\n",
    "    params = {\n",
    "        \"iterations\": trial.suggest_int(\"iterations\", 300, 3000),\n",
    "        \"learning_rate\": trial.suggest_float(\"learning_rate\", 1e-3, 0.1, log=True),\n",
    "        \"depth\": trial.suggest_int(\"depth\", 1, 13),\n",
    "        \"colsample_bylevel\": trial.suggest_float(\"colsample_bylevel\", 0.05, 1.0),\n",
    "        \"min_data_in_leaf\": trial.suggest_int(\"min_data_in_leaf\", 1, 100),\n",
    "        \"l2_leaf_reg\": trial.suggest_int(\"l2_leaf_reg\", 2, 10),\n",
    "        \"has-time\": trial.suggest_categorical('has-time', [True, False]),\n",
    "        \"bagging_temperature\": trial.suggest_float(\"bagging_temperature\", 0.3, 1.0),\n",
    "        \"random_strength\": trial.suggest_float(\"random_strength\", 0.3, 1.0),\n",
    "        \"random_state\": 2,\n",
    "        \"border_count\": trial.suggest_int(\"border_count\", 1, 500),\n",
    "        \"rsm\": trial.suggest_float(\"rsm\", 0.001, 1),\n",
    "        \"nan_mode\": trial.suggest_categorical(\"nan_mode\", [\"min\", \"max\"])\n",
    "    }\n",
    "\n",
    "    catboost_model_b = CatBoostRegressor(verbose=100)\n",
    "    catboost_model_b.fit(train_pool_b)\n",
    "    pred_b = pd.DataFrame(catboost_model_b.predict(test_pool_b))\n",
    "    MAE_a = mean_absolute_error(y_test_b, pred_b)\n",
    "    return MAE_a\n",
    "\n",
    "study = optuna.create_study(direction='minimize')\n",
    "study.optimize(lambda trial: objective(trial, X_train, y_train), n_trials=50)"
   ]
  },
  {
   "cell_type": "code",
   "execution_count": 9,
   "metadata": {},
   "outputs": [
    {
     "name": "stdout",
     "output_type": "stream",
     "text": [
      "{'iterations': 1480, 'learning_rate': 0.004154859937303772, 'depth': 1, 'colsample_bylevel': 0.8980589862889544, 'min_data_in_leaf': 11, 'l2_leaf_reg': 7, 'has-time': True, 'bagging_temperature': 0.8588447919947089, 'random_strength': 0.5000970078140154, 'border_count': 358, 'rsm': 0.31318686704086646, 'nan_mode': 'min'}\n",
      "82.32735192987839\n"
     ]
    }
   ],
   "source": [
    "#to output the best paramaters\n",
    "print(study.best_params)\n",
    "\n",
    "#to output the best score returned from the trials\n",
    "print(study.best_value)\n",
    "\n",
    "with open(\"optuna-best-parameters_b.txt\", \"w\") as file:\n",
    "    file.write(\"Best paramaters: \\n\")\n",
    "    file.write(json.dumps(study.best_params))  # Write the first string followed by a newline character\n",
    "    file.write(\"\\n\")\n",
    "    file.write(\"best score MAE: \\n\")\n",
    "    file.write(json.dumps(study.best_value))  # Write the second string followed by a newline character"
   ]
  },
  {
   "cell_type": "code",
   "execution_count": null,
   "metadata": {},
   "outputs": [],
   "source": []
  }
 ],
 "metadata": {
  "environment": {
   "kernel": "python3",
   "name": "common-cpu.m112",
   "type": "gcloud",
   "uri": "gcr.io/deeplearning-platform-release/base-cpu:m112"
  },
  "kernelspec": {
   "display_name": "Python 3",
   "language": "python",
   "name": "python3"
  },
  "language_info": {
   "codemirror_mode": {
    "name": "ipython",
    "version": 3
   },
   "file_extension": ".py",
   "mimetype": "text/x-python",
   "name": "python",
   "nbconvert_exporter": "python",
   "pygments_lexer": "ipython3",
   "version": "3.10.12"
  }
 },
 "nbformat": 4,
 "nbformat_minor": 4
}
