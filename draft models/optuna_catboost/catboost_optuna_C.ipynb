{
 "cells": [
  {
   "cell_type": "code",
   "execution_count": 5,
   "metadata": {},
   "outputs": [],
   "source": [
    "import pandas as pd\n",
    "import numpy as np\n",
    "from catboost import Pool, CatBoostRegressor\n",
    "from sklearn.model_selection import cross_val_score\n",
    "from sklearn.model_selection import TimeSeriesSplit \n",
    "import optuna \n",
    "import json\n",
    "from sklearn.metrics import mean_absolute_error"
   ]
  },
  {
   "cell_type": "code",
   "execution_count": 6,
   "metadata": {},
   "outputs": [],
   "source": [
    "#Load inn datasets\n",
    "X_test  = pd.read_parquet('../data/prepared_datasets/avg/no_duplicates/X_test.parquet')\n",
    "X_train = pd.read_parquet('../data/prepared_datasets/avg/no_duplicates/X_train.parquet')\n",
    "y_train = pd.read_parquet('../data/prepared_datasets/avg/no_duplicates/Y_train.parquet')\n",
    "y_train_a = pd.read_parquet('../data/prepared_datasets/avg/no_duplicates/Y_train_a.parquet')\n",
    "y_train_b = pd.read_parquet('../data/prepared_datasets/avg/no_duplicates/Y_train_b.parquet')\n",
    "y_train_c = pd.read_parquet('../data/prepared_datasets/avg/no_duplicates/Y_train_c.parquet')"
   ]
  },
  {
   "cell_type": "code",
   "execution_count": 7,
   "metadata": {},
   "outputs": [],
   "source": [
    "def test_train_split(df):\n",
    "    dates_2 = (df.index >= '2023-04-01') & (df.index <= '2023-04-15')\n",
    "    dates_1 = (df.index >= '2021-05-01') & (df.index <= '2021-08-01')\n",
    "\n",
    "    test_set = df[dates_1 | dates_2]\n",
    "\n",
    "    training_set = df[~(dates_1 | dates_2)]\n",
    "\n",
    "    X_train = training_set.drop(\"pv_measurement\", axis=1)\n",
    "    y_train = training_set['pv_measurement']\n",
    "\n",
    "    X_test = test_set.drop(\"pv_measurement\", axis=1)\n",
    "    y_test = test_set['pv_measurement'] \n",
    "\n",
    "    \n",
    "    \n",
    "    return X_train, X_test, y_train, y_test\n",
    "\n",
    "\n",
    "X_train_new_c, X_test_new_c, y_train_new_c, y_test_c = test_train_split(pd.concat([X_train[X_train[\"location\"] == \"C\"].drop(\"location\", axis=1), y_train_c], axis=1))"
   ]
  },
  {
   "cell_type": "code",
   "execution_count": 8,
   "metadata": {},
   "outputs": [],
   "source": [
    "#Create a pool of data\n",
    "\n",
    "train_pool_c = Pool(X_train_new_c, y_train_new_c)\n",
    "test_pool_c = Pool(X_test_new_c) "
   ]
  },
  {
   "cell_type": "code",
   "execution_count": 9,
   "metadata": {},
   "outputs": [
    {
     "name": "stderr",
     "output_type": "stream",
     "text": [
      "[I 2023-11-11 12:00:38,670] A new study created in memory with name: no-name-552070e4-534a-4372-92d2-10ef55f54240\n"
     ]
    },
    {
     "name": "stdout",
     "output_type": "stream",
     "text": [
      "0:\tlearn: 63.4097858\ttotal: 60.5ms\tremaining: 2m 36s\n",
      "400:\tlearn: 37.5424608\ttotal: 5.25s\tremaining: 28.8s\n",
      "800:\tlearn: 26.1922979\ttotal: 10.7s\tremaining: 24s\n",
      "1200:\tlearn: 22.0917985\ttotal: 16.2s\tremaining: 18.9s\n",
      "1600:\tlearn: 20.5802483\ttotal: 21.8s\tremaining: 13.6s\n",
      "2000:\tlearn: 19.9185397\ttotal: 27.4s\tremaining: 8.15s\n",
      "2400:\tlearn: 19.6134483\ttotal: 33s\tremaining: 2.68s\n"
     ]
    },
    {
     "name": "stderr",
     "output_type": "stream",
     "text": [
      "[I 2023-11-11 12:01:14,678] Trial 0 finished with value: 52.789601417698265 and parameters: {'iterations': 2596, 'learning_rate': 0.002397452713005287, 'depth': 3, 'min_data_in_leaf': 51, 'l2_leaf_reg': 7, 'bagging_temperature': 0.6899130293316434, 'random_strength': 0.7725202236612505, 'border_count': 471, 'rsm': 0.9716122886346461}. Best is trial 0 with value: 52.789601417698265.\n"
     ]
    },
    {
     "name": "stdout",
     "output_type": "stream",
     "text": [
      "2595:\tlearn: 19.5124017\ttotal: 35.7s\tremaining: 0us\n",
      "0:\tlearn: 63.1887240\ttotal: 14.5ms\tremaining: 50.4s\n",
      "400:\tlearn: 19.8733037\ttotal: 5.81s\tremaining: 44.6s\n",
      "800:\tlearn: 17.0989179\ttotal: 11.8s\tremaining: 39.5s\n",
      "1200:\tlearn: 16.3957437\ttotal: 17.9s\tremaining: 33.9s\n",
      "1600:\tlearn: 15.7034826\ttotal: 24s\tremaining: 28.1s\n",
      "2000:\tlearn: 15.2442233\ttotal: 30.1s\tremaining: 22.2s\n",
      "2400:\tlearn: 14.8267527\ttotal: 36.4s\tremaining: 16.3s\n",
      "2800:\tlearn: 14.3937704\ttotal: 42.7s\tremaining: 10.3s\n",
      "3200:\tlearn: 13.9539699\ttotal: 49s\tremaining: 4.21s\n"
     ]
    },
    {
     "name": "stderr",
     "output_type": "stream",
     "text": [
      "[I 2023-11-11 12:02:08,398] Trial 1 finished with value: 50.56964672849474 and parameters: {'iterations': 3476, 'learning_rate': 0.006938838681131012, 'depth': 7, 'min_data_in_leaf': 84, 'l2_leaf_reg': 4, 'bagging_temperature': 0.9569317095326304, 'random_strength': 0.40238628866924897, 'border_count': 75, 'rsm': 0.6101527019660291}. Best is trial 1 with value: 50.56964672849474.\n"
     ]
    },
    {
     "name": "stdout",
     "output_type": "stream",
     "text": [
      "3475:\tlearn: 13.6343424\ttotal: 53.3s\tremaining: 0us\n",
      "0:\tlearn: 63.3948611\ttotal: 291ms\tremaining: 7m 18s\n",
      "400:\tlearn: 33.0466798\ttotal: 1m 48s\tremaining: 4m 58s\n",
      "800:\tlearn: 20.6593414\ttotal: 3m 37s\tremaining: 3m 11s\n",
      "1200:\tlearn: 15.8473131\ttotal: 5m 26s\tremaining: 1m 23s\n",
      "1506:\tlearn: 13.9555260\ttotal: 6m 51s\tremaining: 0us\n"
     ]
    },
    {
     "name": "stderr",
     "output_type": "stream",
     "text": [
      "[I 2023-11-11 12:09:00,509] Trial 2 finished with value: 51.96658461228079 and parameters: {'iterations': 1507, 'learning_rate': 0.002299360595877694, 'depth': 13, 'min_data_in_leaf': 52, 'l2_leaf_reg': 2, 'bagging_temperature': 0.5606813279659617, 'random_strength': 0.7477974300357846, 'border_count': 504, 'rsm': 0.9061220759250077}. Best is trial 1 with value: 50.56964672849474.\n"
     ]
    },
    {
     "name": "stdout",
     "output_type": "stream",
     "text": [
      "0:\tlearn: 63.0863105\ttotal: 10.3ms\tremaining: 9.95s\n",
      "400:\tlearn: 20.7801591\ttotal: 5.25s\tremaining: 7.45s\n",
      "800:\tlearn: 20.0162567\ttotal: 10.7s\tremaining: 2.25s\n"
     ]
    },
    {
     "name": "stderr",
     "output_type": "stream",
     "text": [
      "[I 2023-11-11 12:09:13,626] Trial 3 finished with value: 52.94398377174508 and parameters: {'iterations': 970, 'learning_rate': 0.014376212415887966, 'depth': 2, 'min_data_in_leaf': 73, 'l2_leaf_reg': 9, 'bagging_temperature': 0.772688199786546, 'random_strength': 0.4350201848430717, 'border_count': 702, 'rsm': 0.2928088210767303}. Best is trial 1 with value: 50.56964672849474.\n"
     ]
    },
    {
     "name": "stdout",
     "output_type": "stream",
     "text": [
      "969:\tlearn: 19.8266228\ttotal: 13s\tremaining: 0us\n",
      "0:\tlearn: 63.4529293\ttotal: 28.4ms\tremaining: 1m 23s\n",
      "400:\tlearn: 47.3731803\ttotal: 11.3s\tremaining: 1m 11s\n",
      "800:\tlearn: 36.2687464\ttotal: 22.9s\tremaining: 1m\n",
      "1200:\tlearn: 28.9517292\ttotal: 34.7s\tremaining: 49.8s\n",
      "1600:\tlearn: 24.2504055\ttotal: 46.6s\tremaining: 38.5s\n",
      "2000:\tlearn: 21.4691660\ttotal: 58.5s\tremaining: 27s\n",
      "2400:\tlearn: 19.7945819\ttotal: 1m 10s\tremaining: 15.4s\n",
      "2800:\tlearn: 18.7150688\ttotal: 1m 22s\tremaining: 3.68s\n"
     ]
    },
    {
     "name": "stderr",
     "output_type": "stream",
     "text": [
      "[I 2023-11-11 12:10:40,323] Trial 4 finished with value: 54.54840666321754 and parameters: {'iterations': 2926, 'learning_rate': 0.0010953264489374141, 'depth': 8, 'min_data_in_leaf': 51, 'l2_leaf_reg': 4, 'bagging_temperature': 0.405125868983059, 'random_strength': 0.5299841747326871, 'border_count': 593, 'rsm': 0.6274126454281752}. Best is trial 1 with value: 50.56964672849474.\n"
     ]
    },
    {
     "name": "stdout",
     "output_type": "stream",
     "text": [
      "2925:\tlearn: 18.4506974\ttotal: 1m 26s\tremaining: 0us\n",
      "0:\tlearn: 63.4030980\ttotal: 12.3ms\tremaining: 15.3s\n",
      "400:\tlearn: 34.8981038\ttotal: 5.37s\tremaining: 11.3s\n",
      "800:\tlearn: 23.6606328\ttotal: 11.1s\tremaining: 6.12s\n",
      "1200:\tlearn: 20.3003998\ttotal: 16.8s\tremaining: 601ms\n"
     ]
    },
    {
     "name": "stderr",
     "output_type": "stream",
     "text": [
      "[I 2023-11-11 12:10:57,875] Trial 5 finished with value: 57.115955650714085 and parameters: {'iterations': 1244, 'learning_rate': 0.0025848803996722162, 'depth': 5, 'min_data_in_leaf': 76, 'l2_leaf_reg': 4, 'bagging_temperature': 0.8753525314893555, 'random_strength': 0.6688436135732638, 'border_count': 179, 'rsm': 0.7238504476537697}. Best is trial 1 with value: 50.56964672849474.\n"
     ]
    },
    {
     "name": "stdout",
     "output_type": "stream",
     "text": [
      "1243:\tlearn: 20.1025493\ttotal: 17.4s\tremaining: 0us\n",
      "0:\tlearn: 59.3570877\ttotal: 26ms\tremaining: 39.2s\n",
      "400:\tlearn: 8.1597625\ttotal: 11.3s\tremaining: 31.1s\n",
      "800:\tlearn: 5.2113419\ttotal: 22.8s\tremaining: 20.2s\n",
      "1200:\tlearn: 3.5232854\ttotal: 34.6s\tremaining: 8.87s\n"
     ]
    },
    {
     "name": "stderr",
     "output_type": "stream",
     "text": [
      "[I 2023-11-11 12:11:41,766] Trial 6 finished with value: 53.5401864570816 and parameters: {'iterations': 1509, 'learning_rate': 0.0974793654311959, 'depth': 9, 'min_data_in_leaf': 28, 'l2_leaf_reg': 9, 'bagging_temperature': 0.36379905323752115, 'random_strength': 0.4338608954182935, 'border_count': 134, 'rsm': 0.7107069212035595}. Best is trial 1 with value: 50.56964672849474.\n"
     ]
    },
    {
     "name": "stdout",
     "output_type": "stream",
     "text": [
      "1508:\tlearn: 2.6883670\ttotal: 43.6s\tremaining: 0us\n",
      "0:\tlearn: 63.4398470\ttotal: 30.9ms\tremaining: 1m 39s\n",
      "400:\tlearn: 41.6143422\ttotal: 12.8s\tremaining: 1m 30s\n",
      "800:\tlearn: 29.0342407\ttotal: 26.3s\tremaining: 1m 19s\n",
      "1200:\tlearn: 22.2329773\ttotal: 39.7s\tremaining: 1m 7s\n",
      "1600:\tlearn: 18.7556491\ttotal: 53.1s\tremaining: 54s\n",
      "2000:\tlearn: 16.8294199\ttotal: 1m 6s\tremaining: 40.9s\n",
      "2400:\tlearn: 15.5778141\ttotal: 1m 20s\tremaining: 27.7s\n",
      "2800:\tlearn: 14.7386509\ttotal: 1m 33s\tremaining: 14.4s\n",
      "3200:\tlearn: 14.1584857\ttotal: 1m 47s\tremaining: 1s\n",
      "3230:\tlearn: 14.1285003\ttotal: 1m 48s\tremaining: 0us\n"
     ]
    },
    {
     "name": "stderr",
     "output_type": "stream",
     "text": [
      "[I 2023-11-11 12:13:30,831] Trial 7 finished with value: 49.46919565560612 and parameters: {'iterations': 3231, 'learning_rate': 0.001491981968536683, 'depth': 11, 'min_data_in_leaf': 3, 'l2_leaf_reg': 9, 'bagging_temperature': 0.7259133101802222, 'random_strength': 0.4208669666218397, 'border_count': 145, 'rsm': 0.8278018884426873}. Best is trial 7 with value: 49.46919565560612.\n"
     ]
    },
    {
     "name": "stdout",
     "output_type": "stream",
     "text": [
      "0:\tlearn: 60.4062905\ttotal: 12.4ms\tremaining: 34.6s\n",
      "400:\tlearn: 12.2323643\ttotal: 6.18s\tremaining: 36.9s\n",
      "800:\tlearn: 9.6166569\ttotal: 12.7s\tremaining: 31.5s\n",
      "1200:\tlearn: 7.9929477\ttotal: 19.3s\tremaining: 25.6s\n",
      "1600:\tlearn: 6.9684280\ttotal: 26s\tremaining: 19.4s\n",
      "2000:\tlearn: 6.0787959\ttotal: 32.8s\tremaining: 13s\n",
      "2400:\tlearn: 5.4219932\ttotal: 39.7s\tremaining: 6.51s\n"
     ]
    },
    {
     "name": "stderr",
     "output_type": "stream",
     "text": [
      "[I 2023-11-11 12:14:17,598] Trial 8 finished with value: 52.17647609712532 and parameters: {'iterations': 2795, 'learning_rate': 0.09432194031252131, 'depth': 7, 'min_data_in_leaf': 59, 'l2_leaf_reg': 3, 'bagging_temperature': 0.5218579288070385, 'random_strength': 0.9630552822830958, 'border_count': 70, 'rsm': 0.5350980224801785}. Best is trial 7 with value: 49.46919565560612.\n"
     ]
    },
    {
     "name": "stdout",
     "output_type": "stream",
     "text": [
      "2794:\tlearn: 4.8665003\ttotal: 46.4s\tremaining: 0us\n",
      "0:\tlearn: 62.6064597\ttotal: 38.9ms\tremaining: 2m 2s\n",
      "400:\tlearn: 12.1244326\ttotal: 17.2s\tremaining: 1m 58s\n",
      "800:\tlearn: 8.5837075\ttotal: 34.9s\tremaining: 1m 42s\n",
      "1200:\tlearn: 6.1404092\ttotal: 52.6s\tremaining: 1m 25s\n",
      "1600:\tlearn: 4.7250524\ttotal: 1m 10s\tremaining: 1m 8s\n",
      "2000:\tlearn: 3.5875181\ttotal: 1m 28s\tremaining: 51s\n",
      "2400:\tlearn: 2.7660126\ttotal: 1m 46s\tremaining: 33.5s\n",
      "2800:\tlearn: 2.1680903\ttotal: 2m 4s\tremaining: 15.8s\n",
      "3156:\tlearn: 1.7306323\ttotal: 2m 19s\tremaining: 0us\n"
     ]
    },
    {
     "name": "stderr",
     "output_type": "stream",
     "text": [
      "[I 2023-11-11 12:16:38,660] Trial 9 finished with value: 50.59644026321188 and parameters: {'iterations': 3157, 'learning_rate': 0.01812763426360726, 'depth': 12, 'min_data_in_leaf': 58, 'l2_leaf_reg': 5, 'bagging_temperature': 0.7119655962932432, 'random_strength': 0.8786956020676626, 'border_count': 367, 'rsm': 0.20263319478262892}. Best is trial 7 with value: 49.46919565560612.\n"
     ]
    },
    {
     "name": "stdout",
     "output_type": "stream",
     "text": [
      "0:\tlearn: 63.4572816\ttotal: 17.5ms\tremaining: 6.7s\n"
     ]
    },
    {
     "name": "stderr",
     "output_type": "stream",
     "text": [
      "[I 2023-11-11 12:16:44,532] Trial 10 finished with value: 172.91436695319584 and parameters: {'iterations': 383, 'learning_rate': 0.0010206512174355403, 'depth': 10, 'min_data_in_leaf': 11, 'l2_leaf_reg': 7, 'bagging_temperature': 0.8242054858732712, 'random_strength': 0.33363759663792414, 'border_count': 810, 'rsm': 0.05277628055536848}. Best is trial 7 with value: 49.46919565560612.\n"
     ]
    },
    {
     "name": "stdout",
     "output_type": "stream",
     "text": [
      "382:\tlearn: 52.2544331\ttotal: 5.76s\tremaining: 0us\n",
      "0:\tlearn: 63.1989383\ttotal: 14.1ms\tremaining: 47.8s\n",
      "400:\tlearn: 20.1560235\ttotal: 6.61s\tremaining: 49.3s\n",
      "800:\tlearn: 17.6862827\ttotal: 13.4s\tremaining: 43.3s\n",
      "1200:\tlearn: 17.1589687\ttotal: 20.3s\tremaining: 37s\n",
      "1600:\tlearn: 16.5693639\ttotal: 27.1s\tremaining: 30.4s\n",
      "2000:\tlearn: 16.1583513\ttotal: 34.1s\tremaining: 23.7s\n",
      "2400:\tlearn: 15.7337686\ttotal: 41.1s\tremaining: 17s\n",
      "2800:\tlearn: 15.3498713\ttotal: 48.1s\tremaining: 10.2s\n",
      "3200:\tlearn: 14.9971754\ttotal: 55.1s\tremaining: 3.32s\n"
     ]
    },
    {
     "name": "stderr",
     "output_type": "stream",
     "text": [
      "[I 2023-11-11 12:17:43,434] Trial 11 finished with value: 50.982273070390505 and parameters: {'iterations': 3394, 'learning_rate': 0.0070927991073487595, 'depth': 6, 'min_data_in_leaf': 98, 'l2_leaf_reg': 10, 'bagging_temperature': 0.9846769033573037, 'random_strength': 0.33058234761473837, 'border_count': 290, 'rsm': 0.8211785197987164}. Best is trial 7 with value: 49.46919565560612.\n"
     ]
    },
    {
     "name": "stdout",
     "output_type": "stream",
     "text": [
      "3393:\tlearn: 14.8233802\ttotal: 58.5s\tremaining: 0us\n",
      "0:\tlearn: 63.2510659\ttotal: 12.9ms\tremaining: 29s\n",
      "400:\tlearn: 20.5656361\ttotal: 6.23s\tremaining: 28.8s\n",
      "800:\tlearn: 15.4876136\ttotal: 12.8s\tremaining: 23.2s\n",
      "1200:\tlearn: 14.0652204\ttotal: 19.3s\tremaining: 17s\n",
      "1600:\tlearn: 13.1329678\ttotal: 25.9s\tremaining: 10.6s\n",
      "2000:\tlearn: 12.2134993\ttotal: 32.5s\tremaining: 4.13s\n",
      "2254:\tlearn: 11.6964302\ttotal: 36.8s\tremaining: 0us\n"
     ]
    },
    {
     "name": "stderr",
     "output_type": "stream",
     "text": [
      "[I 2023-11-11 12:18:20,818] Trial 12 finished with value: 51.939472045903955 and parameters: {'iterations': 2255, 'learning_rate': 0.005272361315189544, 'depth': 11, 'min_data_in_leaf': 2, 'l2_leaf_reg': 7, 'bagging_temperature': 0.980761859395378, 'random_strength': 0.544343950409625, 'border_count': 6, 'rsm': 0.4865156252267754}. Best is trial 7 with value: 49.46919565560612.\n"
     ]
    },
    {
     "name": "stdout",
     "output_type": "stream",
     "text": [
      "0:\tlearn: 63.2626504\ttotal: 12.5ms\tremaining: 28s\n",
      "400:\tlearn: 23.6707706\ttotal: 5.45s\tremaining: 25s\n",
      "800:\tlearn: 19.4531522\ttotal: 11.1s\tremaining: 20s\n",
      "1200:\tlearn: 18.7910662\ttotal: 16.8s\tremaining: 14.6s\n",
      "1600:\tlearn: 18.3965160\ttotal: 22.5s\tremaining: 9.01s\n",
      "2000:\tlearn: 18.1033634\ttotal: 28.2s\tremaining: 3.42s\n"
     ]
    },
    {
     "name": "stderr",
     "output_type": "stream",
     "text": [
      "[I 2023-11-11 12:18:52,873] Trial 13 finished with value: 51.43230376733137 and parameters: {'iterations': 2243, 'learning_rate': 0.00538403828855482, 'depth': 4, 'min_data_in_leaf': 30, 'l2_leaf_reg': 6, 'bagging_temperature': 0.872176429883226, 'random_strength': 0.5285584795664979, 'border_count': 250, 'rsm': 0.8083322664942191}. Best is trial 7 with value: 49.46919565560612.\n"
     ]
    },
    {
     "name": "stdout",
     "output_type": "stream",
     "text": [
      "2242:\tlearn: 17.9325671\ttotal: 31.8s\tremaining: 0us\n",
      "0:\tlearn: 62.4239606\ttotal: 52.7ms\tremaining: 2m 59s\n",
      "400:\tlearn: 13.8559503\ttotal: 18.6s\tremaining: 2m 19s\n",
      "800:\tlearn: 10.9717874\ttotal: 37.3s\tremaining: 2m 1s\n",
      "1200:\tlearn: 9.1431593\ttotal: 56.2s\tremaining: 1m 43s\n",
      "1600:\tlearn: 7.8895798\ttotal: 1m 15s\tremaining: 1m 25s\n",
      "2000:\tlearn: 7.1628242\ttotal: 1m 34s\tremaining: 1m 6s\n",
      "2400:\tlearn: 6.4171193\ttotal: 1m 53s\tremaining: 47.9s\n",
      "2800:\tlearn: 5.7340127\ttotal: 2m 13s\tremaining: 29.1s\n",
      "3200:\tlearn: 5.2057561\ttotal: 2m 32s\tremaining: 10.1s\n"
     ]
    },
    {
     "name": "stderr",
     "output_type": "stream",
     "text": [
      "[I 2023-11-11 12:21:36,276] Trial 14 finished with value: 51.26714944924832 and parameters: {'iterations': 3412, 'learning_rate': 0.02719858347962218, 'depth': 9, 'min_data_in_leaf': 99, 'l2_leaf_reg': 5, 'bagging_temperature': 0.6316251799298753, 'random_strength': 0.3045526696018881, 'border_count': 928, 'rsm': 0.9933423532113113}. Best is trial 7 with value: 49.46919565560612.\n"
     ]
    },
    {
     "name": "stdout",
     "output_type": "stream",
     "text": [
      "3411:\tlearn: 4.9132933\ttotal: 2m 42s\tremaining: 0us\n",
      "0:\tlearn: 63.4103901\ttotal: 9.7ms\tremaining: 33.9s\n",
      "400:\tlearn: 36.4944279\ttotal: 4.72s\tremaining: 36.3s\n",
      "800:\tlearn: 27.7685791\ttotal: 9.71s\tremaining: 32.6s\n",
      "1200:\tlearn: 25.0191722\ttotal: 14.9s\tremaining: 28.4s\n",
      "1600:\tlearn: 23.9584847\ttotal: 20.2s\tremaining: 23.8s\n",
      "2000:\tlearn: 23.4597702\ttotal: 25.6s\tremaining: 19s\n",
      "2400:\tlearn: 23.2355635\ttotal: 31s\tremaining: 14.1s\n",
      "2800:\tlearn: 23.1222873\ttotal: 36.5s\tremaining: 9s\n",
      "3200:\tlearn: 23.0461640\ttotal: 42.1s\tremaining: 3.81s\n"
     ]
    },
    {
     "name": "stderr",
     "output_type": "stream",
     "text": [
      "[I 2023-11-11 12:22:22,745] Trial 15 finished with value: 56.13289740195571 and parameters: {'iterations': 3491, 'learning_rate': 0.003670578247779226, 'depth': 1, 'min_data_in_leaf': 32, 'l2_leaf_reg': 8, 'bagging_temperature': 0.7914967829238478, 'random_strength': 0.4344539380137941, 'border_count': 346, 'rsm': 0.5738348864691801}. Best is trial 7 with value: 49.46919565560612.\n"
     ]
    },
    {
     "name": "stdout",
     "output_type": "stream",
     "text": [
      "3490:\tlearn: 23.0296870\ttotal: 46.1s\tremaining: 0us\n",
      "0:\tlearn: 63.1366405\ttotal: 12.1ms\tremaining: 30s\n",
      "400:\tlearn: 19.0313982\ttotal: 5.64s\tremaining: 29.2s\n",
      "800:\tlearn: 17.6925312\ttotal: 11.4s\tremaining: 23.8s\n",
      "1200:\tlearn: 16.9474903\ttotal: 17.3s\tremaining: 18.3s\n",
      "1600:\tlearn: 16.1673703\ttotal: 23.2s\tremaining: 12.7s\n",
      "2000:\tlearn: 15.4702819\ttotal: 29.2s\tremaining: 6.93s\n",
      "2400:\tlearn: 14.8916094\ttotal: 35.3s\tremaining: 1.09s\n"
     ]
    },
    {
     "name": "stderr",
     "output_type": "stream",
     "text": [
      "[I 2023-11-11 12:22:59,510] Trial 16 finished with value: 51.68420315520624 and parameters: {'iterations': 2475, 'learning_rate': 0.009264416639692742, 'depth': 7, 'min_data_in_leaf': 83, 'l2_leaf_reg': 2, 'bagging_temperature': 0.9149555637590722, 'random_strength': 0.5857271955107106, 'border_count': 8, 'rsm': 0.4447852101098285}. Best is trial 7 with value: 49.46919565560612.\n"
     ]
    },
    {
     "name": "stdout",
     "output_type": "stream",
     "text": [
      "2474:\tlearn: 14.7881419\ttotal: 36.4s\tremaining: 0us\n",
      "0:\tlearn: 63.4346715\ttotal: 33.5ms\tremaining: 1m 41s\n",
      "400:\tlearn: 38.7248973\ttotal: 13.2s\tremaining: 1m 26s\n",
      "800:\tlearn: 26.0255919\ttotal: 26.7s\tremaining: 1m 14s\n",
      "1200:\tlearn: 20.0517454\ttotal: 40.3s\tremaining: 1m 1s\n",
      "1600:\tlearn: 17.2949060\ttotal: 53.8s\tremaining: 47.9s\n",
      "2000:\tlearn: 15.7252930\ttotal: 1m 7s\tremaining: 34.6s\n",
      "2400:\tlearn: 14.7089549\ttotal: 1m 21s\tremaining: 21.1s\n",
      "2800:\tlearn: 14.0705973\ttotal: 1m 34s\tremaining: 7.58s\n",
      "3024:\tlearn: 13.8029475\ttotal: 1m 42s\tremaining: 0us\n"
     ]
    },
    {
     "name": "stderr",
     "output_type": "stream",
     "text": [
      "[I 2023-11-11 12:24:42,855] Trial 17 finished with value: 49.29546785784353 and parameters: {'iterations': 3025, 'learning_rate': 0.0017608361144341644, 'depth': 11, 'min_data_in_leaf': 18, 'l2_leaf_reg': 10, 'bagging_temperature': 0.7399543079455375, 'random_strength': 0.39726371700016055, 'border_count': 179, 'rsm': 0.6742668098873739}. Best is trial 17 with value: 49.29546785784353.\n"
     ]
    },
    {
     "name": "stdout",
     "output_type": "stream",
     "text": [
      "0:\tlearn: 63.4414843\ttotal: 19.8ms\tremaining: 36.6s\n",
      "400:\tlearn: 38.0248306\ttotal: 48.9s\tremaining: 2m 56s\n",
      "800:\tlearn: 24.9442981\ttotal: 1m 37s\tremaining: 2m 7s\n",
      "1200:\tlearn: 18.5849923\ttotal: 2m 26s\tremaining: 1m 18s\n",
      "1600:\tlearn: 15.4774720\ttotal: 3m 15s\tremaining: 30.1s\n",
      "1846:\tlearn: 14.1689520\ttotal: 3m 46s\tremaining: 0us\n"
     ]
    },
    {
     "name": "stderr",
     "output_type": "stream",
     "text": [
      "[I 2023-11-11 12:28:30,329] Trial 18 finished with value: 52.58831687115565 and parameters: {'iterations': 1847, 'learning_rate': 0.0017618077893508878, 'depth': 13, 'min_data_in_leaf': 14, 'l2_leaf_reg': 10, 'bagging_temperature': 0.7210493393289538, 'random_strength': 0.38757198911610885, 'border_count': 205, 'rsm': 0.857767216290297}. Best is trial 17 with value: 49.29546785784353.\n"
     ]
    },
    {
     "name": "stdout",
     "output_type": "stream",
     "text": [
      "0:\tlearn: 63.4388948\ttotal: 61.4ms\tremaining: 3m 5s\n",
      "400:\tlearn: 41.8333698\ttotal: 22.9s\tremaining: 2m 29s\n",
      "800:\tlearn: 29.2981802\ttotal: 46.1s\tremaining: 2m 8s\n",
      "1200:\tlearn: 22.4446629\ttotal: 1m 9s\tremaining: 1m 45s\n",
      "1600:\tlearn: 18.9156287\ttotal: 1m 33s\tremaining: 1m 23s\n",
      "2000:\tlearn: 16.9925054\ttotal: 2m 4s\tremaining: 1m 3s\n",
      "2400:\tlearn: 15.7584644\ttotal: 2m 35s\tremaining: 40.6s\n",
      "2800:\tlearn: 14.9167192\ttotal: 3m 5s\tremaining: 15.2s\n",
      "3029:\tlearn: 14.5742567\ttotal: 3m 23s\tremaining: 0us\n"
     ]
    },
    {
     "name": "stderr",
     "output_type": "stream",
     "text": [
      "[I 2023-11-11 12:31:54,699] Trial 19 finished with value: 49.508319915588096 and parameters: {'iterations': 3030, 'learning_rate': 0.001473824346819239, 'depth': 11, 'min_data_in_leaf': 1, 'l2_leaf_reg': 9, 'bagging_temperature': 0.6276313696625921, 'random_strength': 0.47123577918642, 'border_count': 421, 'rsm': 0.7106304922679701}. Best is trial 17 with value: 49.29546785784353.\n"
     ]
    },
    {
     "name": "stdout",
     "output_type": "stream",
     "text": [
      "0:\tlearn: 63.3443114\ttotal: 105ms\tremaining: 3m 31s\n",
      "400:\tlearn: 25.7580357\ttotal: 41.4s\tremaining: 2m 46s\n",
      "800:\tlearn: 17.3338037\ttotal: 1m 22s\tremaining: 2m 5s\n",
      "1200:\tlearn: 14.8948492\ttotal: 2m 4s\tremaining: 1m 23s\n"
     ]
    },
    {
     "name": "stderr",
     "output_type": "stream",
     "text": [
      "[W 2023-11-11 12:34:11,921] Trial 20 failed with parameters: {'iterations': 2009, 'learning_rate': 0.0036061535848757147, 'depth': 11, 'min_data_in_leaf': 38, 'l2_leaf_reg': 10, 'bagging_temperature': 0.7801559655821352, 'random_strength': 0.6130387803097807, 'border_count': 612, 'rsm': 0.7614704494684774} because of the following error: KeyboardInterrupt('').\n",
      "Traceback (most recent call last):\n",
      "  File \"/opt/conda/lib/python3.10/site-packages/optuna/study/_optimize.py\", line 200, in _run_trial\n",
      "    value_or_values = func(trial)\n",
      "  File \"/var/tmp/ipykernel_15194/4174548400.py\", line 23, in <lambda>\n",
      "    study.optimize(lambda trial: objective(trial, X_train, y_train), n_trials=80)\n",
      "  File \"/var/tmp/ipykernel_15194/4174548400.py\", line 17, in objective\n",
      "    catboost_model_c.fit(train_pool_c)\n",
      "  File \"/opt/conda/lib/python3.10/site-packages/catboost/core.py\", line 5703, in fit\n",
      "    return self._fit(X, y, cat_features, text_features, embedding_features, None, sample_weight, None, None, None, None, baseline,\n",
      "  File \"/opt/conda/lib/python3.10/site-packages/catboost/core.py\", line 2319, in _fit\n",
      "    self._train(\n",
      "  File \"/opt/conda/lib/python3.10/site-packages/catboost/core.py\", line 1723, in _train\n",
      "    self._object._train(train_pool, test_pool, params, allow_clear_pool, init_model._object if init_model else None)\n",
      "  File \"_catboost.pyx\", line 4645, in _catboost._CatBoost._train\n",
      "  File \"_catboost.pyx\", line 4694, in _catboost._CatBoost._train\n",
      "KeyboardInterrupt\n",
      "[W 2023-11-11 12:34:11,923] Trial 20 failed with value None.\n"
     ]
    },
    {
     "ename": "KeyboardInterrupt",
     "evalue": "",
     "output_type": "error",
     "traceback": [
      "\u001b[0;31m---------------------------------------------------------------------------\u001b[0m",
      "\u001b[0;31mKeyboardInterrupt\u001b[0m                         Traceback (most recent call last)",
      "Cell \u001b[0;32mIn[9], line 23\u001b[0m\n\u001b[1;32m     20\u001b[0m     \u001b[38;5;28;01mreturn\u001b[39;00m MAE_c\n\u001b[1;32m     22\u001b[0m study \u001b[38;5;241m=\u001b[39m optuna\u001b[38;5;241m.\u001b[39mcreate_study(direction\u001b[38;5;241m=\u001b[39m\u001b[38;5;124m'\u001b[39m\u001b[38;5;124mminimize\u001b[39m\u001b[38;5;124m'\u001b[39m)\n\u001b[0;32m---> 23\u001b[0m \u001b[43mstudy\u001b[49m\u001b[38;5;241;43m.\u001b[39;49m\u001b[43moptimize\u001b[49m\u001b[43m(\u001b[49m\u001b[38;5;28;43;01mlambda\u001b[39;49;00m\u001b[43m \u001b[49m\u001b[43mtrial\u001b[49m\u001b[43m:\u001b[49m\u001b[43m \u001b[49m\u001b[43mobjective\u001b[49m\u001b[43m(\u001b[49m\u001b[43mtrial\u001b[49m\u001b[43m,\u001b[49m\u001b[43m \u001b[49m\u001b[43mX_train\u001b[49m\u001b[43m,\u001b[49m\u001b[43m \u001b[49m\u001b[43my_train\u001b[49m\u001b[43m)\u001b[49m\u001b[43m,\u001b[49m\u001b[43m \u001b[49m\u001b[43mn_trials\u001b[49m\u001b[38;5;241;43m=\u001b[39;49m\u001b[38;5;241;43m80\u001b[39;49m\u001b[43m)\u001b[49m\n",
      "File \u001b[0;32m/opt/conda/lib/python3.10/site-packages/optuna/study/study.py:451\u001b[0m, in \u001b[0;36mStudy.optimize\u001b[0;34m(self, func, n_trials, timeout, n_jobs, catch, callbacks, gc_after_trial, show_progress_bar)\u001b[0m\n\u001b[1;32m    348\u001b[0m \u001b[38;5;28;01mdef\u001b[39;00m \u001b[38;5;21moptimize\u001b[39m(\n\u001b[1;32m    349\u001b[0m     \u001b[38;5;28mself\u001b[39m,\n\u001b[1;32m    350\u001b[0m     func: ObjectiveFuncType,\n\u001b[0;32m   (...)\u001b[0m\n\u001b[1;32m    357\u001b[0m     show_progress_bar: \u001b[38;5;28mbool\u001b[39m \u001b[38;5;241m=\u001b[39m \u001b[38;5;28;01mFalse\u001b[39;00m,\n\u001b[1;32m    358\u001b[0m ) \u001b[38;5;241m-\u001b[39m\u001b[38;5;241m>\u001b[39m \u001b[38;5;28;01mNone\u001b[39;00m:\n\u001b[1;32m    359\u001b[0m \u001b[38;5;250m    \u001b[39m\u001b[38;5;124;03m\"\"\"Optimize an objective function.\u001b[39;00m\n\u001b[1;32m    360\u001b[0m \n\u001b[1;32m    361\u001b[0m \u001b[38;5;124;03m    Optimization is done by choosing a suitable set of hyperparameter values from a given\u001b[39;00m\n\u001b[0;32m   (...)\u001b[0m\n\u001b[1;32m    449\u001b[0m \u001b[38;5;124;03m            If nested invocation of this method occurs.\u001b[39;00m\n\u001b[1;32m    450\u001b[0m \u001b[38;5;124;03m    \"\"\"\u001b[39;00m\n\u001b[0;32m--> 451\u001b[0m     \u001b[43m_optimize\u001b[49m\u001b[43m(\u001b[49m\n\u001b[1;32m    452\u001b[0m \u001b[43m        \u001b[49m\u001b[43mstudy\u001b[49m\u001b[38;5;241;43m=\u001b[39;49m\u001b[38;5;28;43mself\u001b[39;49m\u001b[43m,\u001b[49m\n\u001b[1;32m    453\u001b[0m \u001b[43m        \u001b[49m\u001b[43mfunc\u001b[49m\u001b[38;5;241;43m=\u001b[39;49m\u001b[43mfunc\u001b[49m\u001b[43m,\u001b[49m\n\u001b[1;32m    454\u001b[0m \u001b[43m        \u001b[49m\u001b[43mn_trials\u001b[49m\u001b[38;5;241;43m=\u001b[39;49m\u001b[43mn_trials\u001b[49m\u001b[43m,\u001b[49m\n\u001b[1;32m    455\u001b[0m \u001b[43m        \u001b[49m\u001b[43mtimeout\u001b[49m\u001b[38;5;241;43m=\u001b[39;49m\u001b[43mtimeout\u001b[49m\u001b[43m,\u001b[49m\n\u001b[1;32m    456\u001b[0m \u001b[43m        \u001b[49m\u001b[43mn_jobs\u001b[49m\u001b[38;5;241;43m=\u001b[39;49m\u001b[43mn_jobs\u001b[49m\u001b[43m,\u001b[49m\n\u001b[1;32m    457\u001b[0m \u001b[43m        \u001b[49m\u001b[43mcatch\u001b[49m\u001b[38;5;241;43m=\u001b[39;49m\u001b[38;5;28;43mtuple\u001b[39;49m\u001b[43m(\u001b[49m\u001b[43mcatch\u001b[49m\u001b[43m)\u001b[49m\u001b[43m \u001b[49m\u001b[38;5;28;43;01mif\u001b[39;49;00m\u001b[43m \u001b[49m\u001b[38;5;28;43misinstance\u001b[39;49m\u001b[43m(\u001b[49m\u001b[43mcatch\u001b[49m\u001b[43m,\u001b[49m\u001b[43m \u001b[49m\u001b[43mIterable\u001b[49m\u001b[43m)\u001b[49m\u001b[43m \u001b[49m\u001b[38;5;28;43;01melse\u001b[39;49;00m\u001b[43m \u001b[49m\u001b[43m(\u001b[49m\u001b[43mcatch\u001b[49m\u001b[43m,\u001b[49m\u001b[43m)\u001b[49m\u001b[43m,\u001b[49m\n\u001b[1;32m    458\u001b[0m \u001b[43m        \u001b[49m\u001b[43mcallbacks\u001b[49m\u001b[38;5;241;43m=\u001b[39;49m\u001b[43mcallbacks\u001b[49m\u001b[43m,\u001b[49m\n\u001b[1;32m    459\u001b[0m \u001b[43m        \u001b[49m\u001b[43mgc_after_trial\u001b[49m\u001b[38;5;241;43m=\u001b[39;49m\u001b[43mgc_after_trial\u001b[49m\u001b[43m,\u001b[49m\n\u001b[1;32m    460\u001b[0m \u001b[43m        \u001b[49m\u001b[43mshow_progress_bar\u001b[49m\u001b[38;5;241;43m=\u001b[39;49m\u001b[43mshow_progress_bar\u001b[49m\u001b[43m,\u001b[49m\n\u001b[1;32m    461\u001b[0m \u001b[43m    \u001b[49m\u001b[43m)\u001b[49m\n",
      "File \u001b[0;32m/opt/conda/lib/python3.10/site-packages/optuna/study/_optimize.py:66\u001b[0m, in \u001b[0;36m_optimize\u001b[0;34m(study, func, n_trials, timeout, n_jobs, catch, callbacks, gc_after_trial, show_progress_bar)\u001b[0m\n\u001b[1;32m     64\u001b[0m \u001b[38;5;28;01mtry\u001b[39;00m:\n\u001b[1;32m     65\u001b[0m     \u001b[38;5;28;01mif\u001b[39;00m n_jobs \u001b[38;5;241m==\u001b[39m \u001b[38;5;241m1\u001b[39m:\n\u001b[0;32m---> 66\u001b[0m         \u001b[43m_optimize_sequential\u001b[49m\u001b[43m(\u001b[49m\n\u001b[1;32m     67\u001b[0m \u001b[43m            \u001b[49m\u001b[43mstudy\u001b[49m\u001b[43m,\u001b[49m\n\u001b[1;32m     68\u001b[0m \u001b[43m            \u001b[49m\u001b[43mfunc\u001b[49m\u001b[43m,\u001b[49m\n\u001b[1;32m     69\u001b[0m \u001b[43m            \u001b[49m\u001b[43mn_trials\u001b[49m\u001b[43m,\u001b[49m\n\u001b[1;32m     70\u001b[0m \u001b[43m            \u001b[49m\u001b[43mtimeout\u001b[49m\u001b[43m,\u001b[49m\n\u001b[1;32m     71\u001b[0m \u001b[43m            \u001b[49m\u001b[43mcatch\u001b[49m\u001b[43m,\u001b[49m\n\u001b[1;32m     72\u001b[0m \u001b[43m            \u001b[49m\u001b[43mcallbacks\u001b[49m\u001b[43m,\u001b[49m\n\u001b[1;32m     73\u001b[0m \u001b[43m            \u001b[49m\u001b[43mgc_after_trial\u001b[49m\u001b[43m,\u001b[49m\n\u001b[1;32m     74\u001b[0m \u001b[43m            \u001b[49m\u001b[43mreseed_sampler_rng\u001b[49m\u001b[38;5;241;43m=\u001b[39;49m\u001b[38;5;28;43;01mFalse\u001b[39;49;00m\u001b[43m,\u001b[49m\n\u001b[1;32m     75\u001b[0m \u001b[43m            \u001b[49m\u001b[43mtime_start\u001b[49m\u001b[38;5;241;43m=\u001b[39;49m\u001b[38;5;28;43;01mNone\u001b[39;49;00m\u001b[43m,\u001b[49m\n\u001b[1;32m     76\u001b[0m \u001b[43m            \u001b[49m\u001b[43mprogress_bar\u001b[49m\u001b[38;5;241;43m=\u001b[39;49m\u001b[43mprogress_bar\u001b[49m\u001b[43m,\u001b[49m\n\u001b[1;32m     77\u001b[0m \u001b[43m        \u001b[49m\u001b[43m)\u001b[49m\n\u001b[1;32m     78\u001b[0m     \u001b[38;5;28;01melse\u001b[39;00m:\n\u001b[1;32m     79\u001b[0m         \u001b[38;5;28;01mif\u001b[39;00m n_jobs \u001b[38;5;241m==\u001b[39m \u001b[38;5;241m-\u001b[39m\u001b[38;5;241m1\u001b[39m:\n",
      "File \u001b[0;32m/opt/conda/lib/python3.10/site-packages/optuna/study/_optimize.py:163\u001b[0m, in \u001b[0;36m_optimize_sequential\u001b[0;34m(study, func, n_trials, timeout, catch, callbacks, gc_after_trial, reseed_sampler_rng, time_start, progress_bar)\u001b[0m\n\u001b[1;32m    160\u001b[0m         \u001b[38;5;28;01mbreak\u001b[39;00m\n\u001b[1;32m    162\u001b[0m \u001b[38;5;28;01mtry\u001b[39;00m:\n\u001b[0;32m--> 163\u001b[0m     frozen_trial \u001b[38;5;241m=\u001b[39m \u001b[43m_run_trial\u001b[49m\u001b[43m(\u001b[49m\u001b[43mstudy\u001b[49m\u001b[43m,\u001b[49m\u001b[43m \u001b[49m\u001b[43mfunc\u001b[49m\u001b[43m,\u001b[49m\u001b[43m \u001b[49m\u001b[43mcatch\u001b[49m\u001b[43m)\u001b[49m\n\u001b[1;32m    164\u001b[0m \u001b[38;5;28;01mfinally\u001b[39;00m:\n\u001b[1;32m    165\u001b[0m     \u001b[38;5;66;03m# The following line mitigates memory problems that can be occurred in some\u001b[39;00m\n\u001b[1;32m    166\u001b[0m     \u001b[38;5;66;03m# environments (e.g., services that use computing containers such as GitHub Actions).\u001b[39;00m\n\u001b[1;32m    167\u001b[0m     \u001b[38;5;66;03m# Please refer to the following PR for further details:\u001b[39;00m\n\u001b[1;32m    168\u001b[0m     \u001b[38;5;66;03m# https://github.com/optuna/optuna/pull/325.\u001b[39;00m\n\u001b[1;32m    169\u001b[0m     \u001b[38;5;28;01mif\u001b[39;00m gc_after_trial:\n",
      "File \u001b[0;32m/opt/conda/lib/python3.10/site-packages/optuna/study/_optimize.py:251\u001b[0m, in \u001b[0;36m_run_trial\u001b[0;34m(study, func, catch)\u001b[0m\n\u001b[1;32m    244\u001b[0m         \u001b[38;5;28;01massert\u001b[39;00m \u001b[38;5;28;01mFalse\u001b[39;00m, \u001b[38;5;124m\"\u001b[39m\u001b[38;5;124mShould not reach.\u001b[39m\u001b[38;5;124m\"\u001b[39m\n\u001b[1;32m    246\u001b[0m \u001b[38;5;28;01mif\u001b[39;00m (\n\u001b[1;32m    247\u001b[0m     frozen_trial\u001b[38;5;241m.\u001b[39mstate \u001b[38;5;241m==\u001b[39m TrialState\u001b[38;5;241m.\u001b[39mFAIL\n\u001b[1;32m    248\u001b[0m     \u001b[38;5;129;01mand\u001b[39;00m func_err \u001b[38;5;129;01mis\u001b[39;00m \u001b[38;5;129;01mnot\u001b[39;00m \u001b[38;5;28;01mNone\u001b[39;00m\n\u001b[1;32m    249\u001b[0m     \u001b[38;5;129;01mand\u001b[39;00m \u001b[38;5;129;01mnot\u001b[39;00m \u001b[38;5;28misinstance\u001b[39m(func_err, catch)\n\u001b[1;32m    250\u001b[0m ):\n\u001b[0;32m--> 251\u001b[0m     \u001b[38;5;28;01mraise\u001b[39;00m func_err\n\u001b[1;32m    252\u001b[0m \u001b[38;5;28;01mreturn\u001b[39;00m frozen_trial\n",
      "File \u001b[0;32m/opt/conda/lib/python3.10/site-packages/optuna/study/_optimize.py:200\u001b[0m, in \u001b[0;36m_run_trial\u001b[0;34m(study, func, catch)\u001b[0m\n\u001b[1;32m    198\u001b[0m \u001b[38;5;28;01mwith\u001b[39;00m get_heartbeat_thread(trial\u001b[38;5;241m.\u001b[39m_trial_id, study\u001b[38;5;241m.\u001b[39m_storage):\n\u001b[1;32m    199\u001b[0m     \u001b[38;5;28;01mtry\u001b[39;00m:\n\u001b[0;32m--> 200\u001b[0m         value_or_values \u001b[38;5;241m=\u001b[39m \u001b[43mfunc\u001b[49m\u001b[43m(\u001b[49m\u001b[43mtrial\u001b[49m\u001b[43m)\u001b[49m\n\u001b[1;32m    201\u001b[0m     \u001b[38;5;28;01mexcept\u001b[39;00m exceptions\u001b[38;5;241m.\u001b[39mTrialPruned \u001b[38;5;28;01mas\u001b[39;00m e:\n\u001b[1;32m    202\u001b[0m         \u001b[38;5;66;03m# TODO(mamu): Handle multi-objective cases.\u001b[39;00m\n\u001b[1;32m    203\u001b[0m         state \u001b[38;5;241m=\u001b[39m TrialState\u001b[38;5;241m.\u001b[39mPRUNED\n",
      "Cell \u001b[0;32mIn[9], line 23\u001b[0m, in \u001b[0;36m<lambda>\u001b[0;34m(trial)\u001b[0m\n\u001b[1;32m     20\u001b[0m     \u001b[38;5;28;01mreturn\u001b[39;00m MAE_c\n\u001b[1;32m     22\u001b[0m study \u001b[38;5;241m=\u001b[39m optuna\u001b[38;5;241m.\u001b[39mcreate_study(direction\u001b[38;5;241m=\u001b[39m\u001b[38;5;124m'\u001b[39m\u001b[38;5;124mminimize\u001b[39m\u001b[38;5;124m'\u001b[39m)\n\u001b[0;32m---> 23\u001b[0m study\u001b[38;5;241m.\u001b[39moptimize(\u001b[38;5;28;01mlambda\u001b[39;00m trial: \u001b[43mobjective\u001b[49m\u001b[43m(\u001b[49m\u001b[43mtrial\u001b[49m\u001b[43m,\u001b[49m\u001b[43m \u001b[49m\u001b[43mX_train\u001b[49m\u001b[43m,\u001b[49m\u001b[43m \u001b[49m\u001b[43my_train\u001b[49m\u001b[43m)\u001b[49m, n_trials\u001b[38;5;241m=\u001b[39m\u001b[38;5;241m80\u001b[39m)\n",
      "Cell \u001b[0;32mIn[9], line 17\u001b[0m, in \u001b[0;36mobjective\u001b[0;34m(trial, X_train, y_train)\u001b[0m\n\u001b[1;32m      3\u001b[0m params \u001b[38;5;241m=\u001b[39m {\n\u001b[1;32m      4\u001b[0m     \u001b[38;5;124m\"\u001b[39m\u001b[38;5;124miterations\u001b[39m\u001b[38;5;124m\"\u001b[39m: trial\u001b[38;5;241m.\u001b[39msuggest_int(\u001b[38;5;124m\"\u001b[39m\u001b[38;5;124miterations\u001b[39m\u001b[38;5;124m\"\u001b[39m, \u001b[38;5;241m300\u001b[39m, \u001b[38;5;241m3500\u001b[39m),\n\u001b[1;32m      5\u001b[0m     \u001b[38;5;124m\"\u001b[39m\u001b[38;5;124mlearning_rate\u001b[39m\u001b[38;5;124m\"\u001b[39m: trial\u001b[38;5;241m.\u001b[39msuggest_float(\u001b[38;5;124m\"\u001b[39m\u001b[38;5;124mlearning_rate\u001b[39m\u001b[38;5;124m\"\u001b[39m, \u001b[38;5;241m1e-3\u001b[39m, \u001b[38;5;241m0.1\u001b[39m, log\u001b[38;5;241m=\u001b[39m\u001b[38;5;28;01mTrue\u001b[39;00m),\n\u001b[0;32m   (...)\u001b[0m\n\u001b[1;32m     13\u001b[0m     \u001b[38;5;124m\"\u001b[39m\u001b[38;5;124mloss_function\u001b[39m\u001b[38;5;124m\"\u001b[39m :\u001b[38;5;124m\"\u001b[39m\u001b[38;5;124mLogCosh\u001b[39m\u001b[38;5;124m\"\u001b[39m\n\u001b[1;32m     14\u001b[0m }\n\u001b[1;32m     16\u001b[0m catboost_model_c \u001b[38;5;241m=\u001b[39m CatBoostRegressor(\u001b[38;5;241m*\u001b[39m\u001b[38;5;241m*\u001b[39mparams, verbose\u001b[38;5;241m=\u001b[39m\u001b[38;5;241m400\u001b[39m)\n\u001b[0;32m---> 17\u001b[0m \u001b[43mcatboost_model_c\u001b[49m\u001b[38;5;241;43m.\u001b[39;49m\u001b[43mfit\u001b[49m\u001b[43m(\u001b[49m\u001b[43mtrain_pool_c\u001b[49m\u001b[43m)\u001b[49m\n\u001b[1;32m     18\u001b[0m pred_c \u001b[38;5;241m=\u001b[39m pd\u001b[38;5;241m.\u001b[39mDataFrame(catboost_model_c\u001b[38;5;241m.\u001b[39mpredict(test_pool_c))\n\u001b[1;32m     19\u001b[0m MAE_c \u001b[38;5;241m=\u001b[39m mean_absolute_error(y_test_c, pred_c)\n",
      "File \u001b[0;32m/opt/conda/lib/python3.10/site-packages/catboost/core.py:5703\u001b[0m, in \u001b[0;36mCatBoostRegressor.fit\u001b[0;34m(self, X, y, cat_features, text_features, embedding_features, sample_weight, baseline, use_best_model, eval_set, verbose, logging_level, plot, plot_file, column_description, verbose_eval, metric_period, silent, early_stopping_rounds, save_snapshot, snapshot_file, snapshot_interval, init_model, callbacks, log_cout, log_cerr)\u001b[0m\n\u001b[1;32m   5700\u001b[0m \u001b[38;5;28;01mif\u001b[39;00m \u001b[38;5;124m'\u001b[39m\u001b[38;5;124mloss_function\u001b[39m\u001b[38;5;124m'\u001b[39m \u001b[38;5;129;01min\u001b[39;00m params:\n\u001b[1;32m   5701\u001b[0m     CatBoostRegressor\u001b[38;5;241m.\u001b[39m_check_is_compatible_loss(params[\u001b[38;5;124m'\u001b[39m\u001b[38;5;124mloss_function\u001b[39m\u001b[38;5;124m'\u001b[39m])\n\u001b[0;32m-> 5703\u001b[0m \u001b[38;5;28;01mreturn\u001b[39;00m \u001b[38;5;28;43mself\u001b[39;49m\u001b[38;5;241;43m.\u001b[39;49m\u001b[43m_fit\u001b[49m\u001b[43m(\u001b[49m\u001b[43mX\u001b[49m\u001b[43m,\u001b[49m\u001b[43m \u001b[49m\u001b[43my\u001b[49m\u001b[43m,\u001b[49m\u001b[43m \u001b[49m\u001b[43mcat_features\u001b[49m\u001b[43m,\u001b[49m\u001b[43m \u001b[49m\u001b[43mtext_features\u001b[49m\u001b[43m,\u001b[49m\u001b[43m \u001b[49m\u001b[43membedding_features\u001b[49m\u001b[43m,\u001b[49m\u001b[43m \u001b[49m\u001b[38;5;28;43;01mNone\u001b[39;49;00m\u001b[43m,\u001b[49m\u001b[43m \u001b[49m\u001b[43msample_weight\u001b[49m\u001b[43m,\u001b[49m\u001b[43m \u001b[49m\u001b[38;5;28;43;01mNone\u001b[39;49;00m\u001b[43m,\u001b[49m\u001b[43m \u001b[49m\u001b[38;5;28;43;01mNone\u001b[39;49;00m\u001b[43m,\u001b[49m\u001b[43m \u001b[49m\u001b[38;5;28;43;01mNone\u001b[39;49;00m\u001b[43m,\u001b[49m\u001b[43m \u001b[49m\u001b[38;5;28;43;01mNone\u001b[39;49;00m\u001b[43m,\u001b[49m\u001b[43m \u001b[49m\u001b[43mbaseline\u001b[49m\u001b[43m,\u001b[49m\n\u001b[1;32m   5704\u001b[0m \u001b[43m                 \u001b[49m\u001b[43muse_best_model\u001b[49m\u001b[43m,\u001b[49m\u001b[43m \u001b[49m\u001b[43meval_set\u001b[49m\u001b[43m,\u001b[49m\u001b[43m \u001b[49m\u001b[43mverbose\u001b[49m\u001b[43m,\u001b[49m\u001b[43m \u001b[49m\u001b[43mlogging_level\u001b[49m\u001b[43m,\u001b[49m\u001b[43m \u001b[49m\u001b[43mplot\u001b[49m\u001b[43m,\u001b[49m\u001b[43m \u001b[49m\u001b[43mplot_file\u001b[49m\u001b[43m,\u001b[49m\u001b[43m \u001b[49m\u001b[43mcolumn_description\u001b[49m\u001b[43m,\u001b[49m\n\u001b[1;32m   5705\u001b[0m \u001b[43m                 \u001b[49m\u001b[43mverbose_eval\u001b[49m\u001b[43m,\u001b[49m\u001b[43m \u001b[49m\u001b[43mmetric_period\u001b[49m\u001b[43m,\u001b[49m\u001b[43m \u001b[49m\u001b[43msilent\u001b[49m\u001b[43m,\u001b[49m\u001b[43m \u001b[49m\u001b[43mearly_stopping_rounds\u001b[49m\u001b[43m,\u001b[49m\n\u001b[1;32m   5706\u001b[0m \u001b[43m                 \u001b[49m\u001b[43msave_snapshot\u001b[49m\u001b[43m,\u001b[49m\u001b[43m \u001b[49m\u001b[43msnapshot_file\u001b[49m\u001b[43m,\u001b[49m\u001b[43m \u001b[49m\u001b[43msnapshot_interval\u001b[49m\u001b[43m,\u001b[49m\u001b[43m \u001b[49m\u001b[43minit_model\u001b[49m\u001b[43m,\u001b[49m\u001b[43m \u001b[49m\u001b[43mcallbacks\u001b[49m\u001b[43m,\u001b[49m\u001b[43m \u001b[49m\u001b[43mlog_cout\u001b[49m\u001b[43m,\u001b[49m\u001b[43m \u001b[49m\u001b[43mlog_cerr\u001b[49m\u001b[43m)\u001b[49m\n",
      "File \u001b[0;32m/opt/conda/lib/python3.10/site-packages/catboost/core.py:2319\u001b[0m, in \u001b[0;36mCatBoost._fit\u001b[0;34m(self, X, y, cat_features, text_features, embedding_features, pairs, sample_weight, group_id, group_weight, subgroup_id, pairs_weight, baseline, use_best_model, eval_set, verbose, logging_level, plot, plot_file, column_description, verbose_eval, metric_period, silent, early_stopping_rounds, save_snapshot, snapshot_file, snapshot_interval, init_model, callbacks, log_cout, log_cerr)\u001b[0m\n\u001b[1;32m   2315\u001b[0m allow_clear_pool \u001b[38;5;241m=\u001b[39m train_params[\u001b[38;5;124m\"\u001b[39m\u001b[38;5;124mallow_clear_pool\u001b[39m\u001b[38;5;124m\"\u001b[39m]\n\u001b[1;32m   2317\u001b[0m \u001b[38;5;28;01mwith\u001b[39;00m log_fixup(log_cout, log_cerr), \\\n\u001b[1;32m   2318\u001b[0m     plot_wrapper(plot, plot_file, \u001b[38;5;124m'\u001b[39m\u001b[38;5;124mTraining plots\u001b[39m\u001b[38;5;124m'\u001b[39m, [_get_train_dir(\u001b[38;5;28mself\u001b[39m\u001b[38;5;241m.\u001b[39mget_params())]):\n\u001b[0;32m-> 2319\u001b[0m     \u001b[38;5;28;43mself\u001b[39;49m\u001b[38;5;241;43m.\u001b[39;49m\u001b[43m_train\u001b[49m\u001b[43m(\u001b[49m\n\u001b[1;32m   2320\u001b[0m \u001b[43m        \u001b[49m\u001b[43mtrain_pool\u001b[49m\u001b[43m,\u001b[49m\n\u001b[1;32m   2321\u001b[0m \u001b[43m        \u001b[49m\u001b[43mtrain_params\u001b[49m\u001b[43m[\u001b[49m\u001b[38;5;124;43m\"\u001b[39;49m\u001b[38;5;124;43meval_sets\u001b[39;49m\u001b[38;5;124;43m\"\u001b[39;49m\u001b[43m]\u001b[49m\u001b[43m,\u001b[49m\n\u001b[1;32m   2322\u001b[0m \u001b[43m        \u001b[49m\u001b[43mparams\u001b[49m\u001b[43m,\u001b[49m\n\u001b[1;32m   2323\u001b[0m \u001b[43m        \u001b[49m\u001b[43mallow_clear_pool\u001b[49m\u001b[43m,\u001b[49m\n\u001b[1;32m   2324\u001b[0m \u001b[43m        \u001b[49m\u001b[43mtrain_params\u001b[49m\u001b[43m[\u001b[49m\u001b[38;5;124;43m\"\u001b[39;49m\u001b[38;5;124;43minit_model\u001b[39;49m\u001b[38;5;124;43m\"\u001b[39;49m\u001b[43m]\u001b[49m\n\u001b[1;32m   2325\u001b[0m \u001b[43m    \u001b[49m\u001b[43m)\u001b[49m\n\u001b[1;32m   2327\u001b[0m \u001b[38;5;66;03m# Have property feature_importance possibly set\u001b[39;00m\n\u001b[1;32m   2328\u001b[0m loss \u001b[38;5;241m=\u001b[39m \u001b[38;5;28mself\u001b[39m\u001b[38;5;241m.\u001b[39m_object\u001b[38;5;241m.\u001b[39m_get_loss_function_name()\n",
      "File \u001b[0;32m/opt/conda/lib/python3.10/site-packages/catboost/core.py:1723\u001b[0m, in \u001b[0;36m_CatBoostBase._train\u001b[0;34m(self, train_pool, test_pool, params, allow_clear_pool, init_model)\u001b[0m\n\u001b[1;32m   1722\u001b[0m \u001b[38;5;28;01mdef\u001b[39;00m \u001b[38;5;21m_train\u001b[39m(\u001b[38;5;28mself\u001b[39m, train_pool, test_pool, params, allow_clear_pool, init_model):\n\u001b[0;32m-> 1723\u001b[0m     \u001b[38;5;28;43mself\u001b[39;49m\u001b[38;5;241;43m.\u001b[39;49m\u001b[43m_object\u001b[49m\u001b[38;5;241;43m.\u001b[39;49m\u001b[43m_train\u001b[49m\u001b[43m(\u001b[49m\u001b[43mtrain_pool\u001b[49m\u001b[43m,\u001b[49m\u001b[43m \u001b[49m\u001b[43mtest_pool\u001b[49m\u001b[43m,\u001b[49m\u001b[43m \u001b[49m\u001b[43mparams\u001b[49m\u001b[43m,\u001b[49m\u001b[43m \u001b[49m\u001b[43mallow_clear_pool\u001b[49m\u001b[43m,\u001b[49m\u001b[43m \u001b[49m\u001b[43minit_model\u001b[49m\u001b[38;5;241;43m.\u001b[39;49m\u001b[43m_object\u001b[49m\u001b[43m \u001b[49m\u001b[38;5;28;43;01mif\u001b[39;49;00m\u001b[43m \u001b[49m\u001b[43minit_model\u001b[49m\u001b[43m \u001b[49m\u001b[38;5;28;43;01melse\u001b[39;49;00m\u001b[43m \u001b[49m\u001b[38;5;28;43;01mNone\u001b[39;49;00m\u001b[43m)\u001b[49m\n\u001b[1;32m   1724\u001b[0m     \u001b[38;5;28mself\u001b[39m\u001b[38;5;241m.\u001b[39m_set_trained_model_attributes()\n",
      "File \u001b[0;32m_catboost.pyx:4645\u001b[0m, in \u001b[0;36m_catboost._CatBoost._train\u001b[0;34m()\u001b[0m\n",
      "File \u001b[0;32m_catboost.pyx:4694\u001b[0m, in \u001b[0;36m_catboost._CatBoost._train\u001b[0;34m()\u001b[0m\n",
      "\u001b[0;31mKeyboardInterrupt\u001b[0m: "
     ]
    }
   ],
   "source": [
    "#For location A\n",
    "def objective(trial, X_train, y_train):\n",
    "    params = {\n",
    "        \"iterations\": trial.suggest_int(\"iterations\", 300, 3500),\n",
    "        \"learning_rate\": trial.suggest_float(\"learning_rate\", 1e-3, 0.1, log=True),\n",
    "        \"depth\": trial.suggest_int(\"depth\", 1, 13),\n",
    "        \"min_data_in_leaf\": trial.suggest_int(\"min_data_in_leaf\", 1, 100),\n",
    "        \"l2_leaf_reg\": trial.suggest_int(\"l2_leaf_reg\", 2, 10),\n",
    "        \"bagging_temperature\": trial.suggest_float(\"bagging_temperature\", 0.3, 1.0),\n",
    "        \"random_strength\": trial.suggest_float(\"random_strength\", 0.3, 1.0),\n",
    "        \"border_count\": trial.suggest_int(\"border_count\", 1, 1000),\n",
    "        \"rsm\": trial.suggest_float(\"rsm\", 0.05, 1),\n",
    "        \"loss_function\" :\"LogCosh\"\n",
    "    }\n",
    "\n",
    "    catboost_model_c = CatBoostRegressor(**params, verbose=400)\n",
    "    catboost_model_c.fit(train_pool_c)\n",
    "    pred_c = pd.DataFrame(catboost_model_c.predict(test_pool_c))\n",
    "    MAE_c = mean_absolute_error(y_test_c, pred_c)\n",
    "    return MAE_c\n",
    "\n",
    "study = optuna.create_study(direction='minimize')\n",
    "study.optimize(lambda trial: objective(trial, X_train, y_train), n_trials=80)"
   ]
  },
  {
   "cell_type": "code",
   "execution_count": 7,
   "metadata": {},
   "outputs": [
    {
     "name": "stdout",
     "output_type": "stream",
     "text": [
      "{'iterations': 2004, 'learning_rate': 0.016429110886618033, 'depth': 8, 'colsample_bylevel': 0.7338575760364532, 'min_data_in_leaf': 90, 'l2_leaf_reg': 5, 'has-time': False, 'bagging_temperature': 0.6414768311294344, 'random_strength': 0.4206698081688342, 'border_count': 487, 'rsm': 0.012360675671015169, 'nan_mode': 'min'}\n",
      "57.13529571086957\n"
     ]
    }
   ],
   "source": [
    "#to output the best paramaters\n",
    "print(study.best_params)\n",
    "\n",
    "#to output the best score returned from the trials\n",
    "print(study.best_value)\n",
    "\n",
    "with open(\"optuna-best-parameters_c.txt\", \"w\") as file:\n",
    "    file.write(\"Best paramaters: \\n\")\n",
    "    file.write(json.dumps(study.best_params))  # Write the first string followed by a newline character\n",
    "    file.write(\"\\n\")\n",
    "    file.write(\"best score MAE: \\n\")\n",
    "    file.write(json.dumps(study.best_value))  # Write the second string followed by a newline character"
   ]
  },
  {
   "cell_type": "code",
   "execution_count": null,
   "metadata": {},
   "outputs": [],
   "source": []
  }
 ],
 "metadata": {
  "environment": {
   "kernel": "python3",
   "name": "common-cpu.m112",
   "type": "gcloud",
   "uri": "gcr.io/deeplearning-platform-release/base-cpu:m112"
  },
  "kernelspec": {
   "display_name": "Python 3",
   "language": "python",
   "name": "python3"
  },
  "language_info": {
   "codemirror_mode": {
    "name": "ipython",
    "version": 3
   },
   "file_extension": ".py",
   "mimetype": "text/x-python",
   "name": "python",
   "nbconvert_exporter": "python",
   "pygments_lexer": "ipython3",
   "version": "3.10.12"
  }
 },
 "nbformat": 4,
 "nbformat_minor": 4
}
